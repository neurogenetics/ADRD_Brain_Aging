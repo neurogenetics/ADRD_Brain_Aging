{
 "cells": [
  {
   "cell_type": "markdown",
   "id": "0cb6566d-9352-42d9-a5d6-2e76d28b7dd7",
   "metadata": {},
   "source": [
    "## Notebook to perform cell assignments on data using [CellAssign from scvi-tools](https://docs.scvi-tools.org/en/stable/tutorials/notebooks/scrna/cellassign_tutorial.html)\n"
   ]
  },
  {
   "cell_type": "code",
   "execution_count": null,
   "id": "cb08c838-7698-479e-bbc5-cbf8bcf7c9b2",
   "metadata": {},
   "outputs": [],
   "source": [
    "!date"
   ]
  },
  {
   "cell_type": "markdown",
   "id": "809f8ce9-0230-4d42-b268-8e057824a016",
   "metadata": {},
   "source": [
    "#### import libraries"
   ]
  },
  {
   "cell_type": "code",
   "execution_count": null,
   "id": "1d089177-333e-404c-90bf-2f43de300bed",
   "metadata": {},
   "outputs": [],
   "source": [
    "import scanpy as sc\n",
    "import scvi\n",
    "import torch\n",
    "from scvi.external import CellAssign\n",
    "from pandas import DataFrame\n",
    "from json import load as json_load\n",
    "from numpy import zeros\n",
    "from seaborn import clustermap, scatterplot\n",
    "from matplotlib.pyplot import rc_context\n",
    "import matplotlib.pyplot as plt\n",
    "\n",
    "scvi.settings.seed = 0\n",
    "print('Last run with scvi-tools version:', scvi.__version__)\n",
    "\n",
    "sc.set_figure_params(figsize=(4, 4))\n",
    "torch.set_float32_matmul_precision('high')\n",
    "\n",
    "# for white background of figures (only for docs rendering)\n",
    "%config InlineBackend.print_figure_kwargs={'facecolor' : \"w\"}\n",
    "%config InlineBackend.figure_format='retina'"
   ]
  },
  {
   "cell_type": "markdown",
   "id": "f6553777-9fa0-428b-913e-c5cce59f4dfe",
   "metadata": {},
   "source": [
    "#### set notebook variables"
   ]
  },
  {
   "cell_type": "code",
   "execution_count": null,
   "id": "cd6d2fa4-63f7-430d-83f5-15ea27ff4b9c",
   "metadata": {
    "tags": [
     "parameters"
    ]
   },
   "outputs": [],
   "source": [
    "# parameters\n",
    "marker_set = '' # 'sctypes', 'pangloadb', or 'bakken'"
   ]
  },
  {
   "cell_type": "code",
   "execution_count": null,
   "id": "c91dfef8-4dbd-47f8-bccd-e694c4a50f35",
   "metadata": {},
   "outputs": [],
   "source": [
    "# naming\n",
    "project = 'aging_phase2'\n",
    "\n",
    "# directories\n",
    "wrk_dir = '/labshare/raph/datasets/adrd_neuro/brain_aging/phase2'\n",
    "quants_dir = f'{wrk_dir}/quants'\n",
    "public_dir = f'{wrk_dir}/public'\n",
    "model_dir = f'{wrk_dir}/models'\n",
    "figures_dir = f'{wrk_dir}/figures'\n",
    "sc.settings.figdir = f'{figures_dir}/'\n",
    "\n",
    "# in files\n",
    "cell_markers_file = f'{public_dir}/adrd_markers_{marker_set}_SCRN.json'\n",
    "anndata_file = f'{quants_dir}/{project}_GEX.raw.h5ad'\n",
    "\n",
    "# out files\n",
    "out_file = f'{quants_dir}/{project}_GEX.{marker_set}.cellassign.h5ad'\n",
    "pred_file = f'{quants_dir}/{project}_GEX.{marker_set}.cellassign.predictions.csv'\n",
    "\n",
    "# variables\n",
    "DEBUG = False\n",
    "SCVI_LATENT_KEY = 'X_scVI'\n",
    "SCVI_CLUSTERS_KEY = 'leiden_scVI'\n",
    "LEIDEN_RESOLUTION = 1.0"
   ]
  },
  {
   "cell_type": "markdown",
   "id": "f50c220f-6c92-4fc1-8315-81250e64bade",
   "metadata": {},
   "source": [
    "### load data"
   ]
  },
  {
   "cell_type": "markdown",
   "id": "d62b6046-21db-4c2a-b00f-deeaaedfaddc",
   "metadata": {},
   "source": [
    "#### load cell-type markers and format for CellAssign"
   ]
  },
  {
   "cell_type": "code",
   "execution_count": null,
   "id": "237a03e7-dd26-40f3-9662-5664892694ea",
   "metadata": {},
   "outputs": [],
   "source": [
    "with open(cell_markers_file, 'r') as in_file:\n",
    "    cell_markers = json_load(in_file)\n",
    "marker_list = []\n",
    "for cell, genes in cell_markers.items():\n",
    "    marker_list+= genes\n",
    "marker_list = list(set(marker_list))\n",
    "celltypes_list = list(cell_markers.keys())\n",
    "print(f'number of markers: {len(marker_list)}')\n",
    "print(f'number of cell types {len(celltypes_list)}')\n",
    "if DEBUG:\n",
    "    print(marker_list)\n",
    "    print(celltypes_list)"
   ]
  },
  {
   "cell_type": "code",
   "execution_count": null,
   "id": "9741889f-492d-4a04-a1c1-4422ef0e337d",
   "metadata": {},
   "outputs": [],
   "source": [
    "zero_matrix = zeros((len(marker_list), len(celltypes_list)), dtype=int)\n",
    "markers_df = DataFrame(data=zero_matrix, columns=celltypes_list, index=marker_list)\n",
    "print(f'shape of marker df {markers_df.shape}')\n",
    "for cell_type in celltypes_list:\n",
    "    markers = cell_markers.get(cell_type)\n",
    "    markers_df.loc[markers_df.index.isin(markers), cell_type] = 1\n",
    "if DEBUG:\n",
    "    display(markers_df.head())"
   ]
  },
  {
   "cell_type": "code",
   "execution_count": null,
   "id": "4ba7ba46-a006-4c55-b8c8-cb6330293cd9",
   "metadata": {},
   "outputs": [],
   "source": [
    "# addl_remove = ['Neuroepithelial cells', 'Cancer stem cells', \n",
    "#                'Immune system cells', 'Neuroblasts', 'Neural Progenitor cells']\n",
    "# markers_df = markers_df.drop(columns=addl_remove)\n",
    "# print(f'new shape of markers df {markers_df.shape}')\n",
    "# if DEBUG:\n",
    "#     display(markers_df.head())"
   ]
  },
  {
   "cell_type": "markdown",
   "id": "cccea75d-cabb-49d3-96bf-70417a416972",
   "metadata": {},
   "source": [
    "#### load the single-cell GEX data"
   ]
  },
  {
   "cell_type": "code",
   "execution_count": null,
   "id": "3fea76f2-b125-42e7-ae8e-b603e3a006cd",
   "metadata": {},
   "outputs": [],
   "source": [
    "%%time\n",
    "adata = sc.read(anndata_file, cache=True)"
   ]
  },
  {
   "cell_type": "markdown",
   "id": "d02ce870-acd3-4906-9151-4750f4f52da5",
   "metadata": {},
   "source": [
    "#### drop any cell not properly demultiplexed"
   ]
  },
  {
   "cell_type": "code",
   "execution_count": null,
   "id": "c1106e16-e45b-450b-96d7-8ac3690815e4",
   "metadata": {},
   "outputs": [],
   "source": [
    "adata = adata[~adata.obs.donor_id.isna()]\n",
    "print(adata)\n",
    "if DEBUG:\n",
    "    display(adata.obs.head())\n",
    "    display(adata.var.head())"
   ]
  },
  {
   "cell_type": "markdown",
   "id": "ce24484c-581e-487e-b9c6-d1ff80834d25",
   "metadata": {},
   "source": [
    "#### convert pool info to categoricals"
   ]
  },
  {
   "cell_type": "code",
   "execution_count": null,
   "id": "9b848c5c-83e2-4516-a7aa-4cd0ebcaf20f",
   "metadata": {},
   "outputs": [],
   "source": [
    "adata.obs.gex_pool = adata.obs.gex_pool.astype('str')"
   ]
  },
  {
   "cell_type": "markdown",
   "id": "71799e38-6ce2-4af5-a51b-890bcc1ee8dc",
   "metadata": {},
   "source": [
    "### prep data"
   ]
  },
  {
   "cell_type": "code",
   "execution_count": null,
   "id": "bc8cca6d-865c-4a78-ba08-ee00490d00ff",
   "metadata": {},
   "outputs": [],
   "source": [
    "%%time\n",
    "sc.pp.filter_genes(adata, min_counts=3)\n",
    "adata.layers['counts'] = adata.X.copy()  # preserve counts\n",
    "sc.pp.normalize_total(adata, target_sum=1e4)\n",
    "sc.pp.log1p(adata)\n",
    "adata.raw = adata  # freeze the state in `.raw`\n",
    "sc.pp.highly_variable_genes(adata, n_top_genes=2000, subset=True, layer='counts', \n",
    "                            flavor='seurat_v3')\n",
    "print(adata)\n",
    "if DEBUG:\n",
    "    display(adata.obs.sample(10))\n",
    "    display(adata.var.sample(10))    "
   ]
  },
  {
   "cell_type": "markdown",
   "id": "e5f7acd4-33a9-4c50-8785-ee8dbccb7070",
   "metadata": {},
   "source": [
    "### latent modeling"
   ]
  },
  {
   "cell_type": "code",
   "execution_count": null,
   "id": "cf2236df-0e15-424c-a71f-a7feafee2070",
   "metadata": {},
   "outputs": [],
   "source": [
    "scvi.model.SCVI.setup_anndata(adata, layer='counts', batch_key='gex_pool',\n",
    "                              categorical_covariate_keys=['sample_id'])"
   ]
  },
  {
   "cell_type": "code",
   "execution_count": null,
   "id": "d78cbc8e-06ea-4a28-9bfb-382789dbc399",
   "metadata": {},
   "outputs": [],
   "source": [
    "model = scvi.model.SCVI(adata)\n",
    "model"
   ]
  },
  {
   "cell_type": "code",
   "execution_count": null,
   "id": "2cc351be-52bc-4038-ab97-8cdf20c24c9f",
   "metadata": {},
   "outputs": [],
   "source": [
    "%%time\n",
    "model.train()"
   ]
  },
  {
   "cell_type": "markdown",
   "id": "a452ca15-9943-4e28-aff4-6c338b63731a",
   "metadata": {},
   "source": [
    "#### Inspecting the convergence"
   ]
  },
  {
   "cell_type": "code",
   "execution_count": null,
   "id": "152521f0-d9cf-4c5e-8c9c-8e9cac507591",
   "metadata": {},
   "outputs": [],
   "source": [
    "train_elbo = model.history[\"elbo_train\"][1:]\n",
    "recon_elbo = model.history[\"reconstruction_loss_train\"]\n",
    "\n",
    "with rc_context({'figure.figsize': (9, 9), 'figure.dpi': 50}):\n",
    "    plt.style.use('seaborn-talk')\n",
    "    ax = train_elbo.plot()\n",
    "    recon_elbo.plot(ax=ax)"
   ]
  },
  {
   "cell_type": "markdown",
   "id": "7ad04570-4406-434c-81ef-91fe38d0c316",
   "metadata": {},
   "source": [
    "#### save and re-load the model"
   ]
  },
  {
   "cell_type": "code",
   "execution_count": null,
   "id": "15fafd81-9eae-4a8b-87b1-7cad238c2485",
   "metadata": {},
   "outputs": [],
   "source": [
    "model.save(model_dir, prefix=f'{project}.{marker_set}.scvi', overwrite=True)\n",
    "model = scvi.model.SCVI.load(model_dir, adata=adata, prefix=f'{project}.{marker_set}.scvi')"
   ]
  },
  {
   "cell_type": "markdown",
   "id": "f74b2c1d-f697-473b-90fb-94670b87cbba",
   "metadata": {},
   "source": [
    "#### Obtaining model outputs\n",
    "It’s often useful to store the outputs of scvi-tools back into the original anndata, as it permits interoperability with Scanpy."
   ]
  },
  {
   "cell_type": "code",
   "execution_count": null,
   "id": "fead28eb-a754-47a0-a3c6-e9753b2f202e",
   "metadata": {},
   "outputs": [],
   "source": [
    "print(f'SCVI_LATENT_KEY is {SCVI_LATENT_KEY}')\n",
    "latent = model.get_latent_representation()\n",
    "adata.obsm[SCVI_LATENT_KEY] = latent\n",
    "print(f'shape of latent {latent.shape}')"
   ]
  },
  {
   "cell_type": "markdown",
   "id": "4f1af8c9-a4b5-479c-973a-e03d076c7943",
   "metadata": {},
   "source": [
    "### simple clustering"
   ]
  },
  {
   "cell_type": "code",
   "execution_count": null,
   "id": "9cc8c41f-e971-4367-abf8-cd32158f7c36",
   "metadata": {},
   "outputs": [],
   "source": [
    "%%time\n",
    "# use scVI latent space for UMAP generation\n",
    "sc.pp.neighbors(adata, use_rep=SCVI_LATENT_KEY)\n",
    "sc.tl.leiden(adata, key_added=SCVI_CLUSTERS_KEY, resolution=LEIDEN_RESOLUTION)\n",
    "sc.tl.umap(adata)"
   ]
  },
  {
   "cell_type": "code",
   "execution_count": null,
   "id": "107481b6-136f-47af-89ba-1b1c1e3ba51a",
   "metadata": {},
   "outputs": [],
   "source": []
  },
  {
   "cell_type": "code",
   "execution_count": null,
   "id": "385b65d5-b8a4-48a3-893b-41c4bd94d83e",
   "metadata": {},
   "outputs": [],
   "source": [
    "with rc_context({'figure.figsize': (12, 9), 'figure.dpi': 100}):\n",
    "    plt.style.use('seaborn-talk')\n",
    "    sc.pl.umap(adata, color=SCVI_CLUSTERS_KEY, \n",
    "               frameon=False, legend_loc='on data')\n",
    "    sc.pl.umap(adata, color='gex_pool', frameon=False)    \n",
    "    sc.pl.umap(adata, color='sample_id', frameon=False)    "
   ]
  },
  {
   "cell_type": "markdown",
   "id": "9fe306d0-9277-4650-b3ed-0c8661be44f2",
   "metadata": {},
   "source": [
    "### Create and fit CellAssign model\n",
    "The anndata object and cell type marker matrix should contain the same genes, so we index into adata to include only the genes from marker_gene_mat."
   ]
  },
  {
   "cell_type": "code",
   "execution_count": null,
   "id": "462cb9df-a39c-4ca8-a9c2-e2306b8fd3f7",
   "metadata": {},
   "outputs": [],
   "source": [
    "markers_df = markers_df[markers_df.index.isin(adata.var.index)]\n",
    "print(f'new shape of markers df {markers_df.shape}')\n",
    "# drop cell-type columns where no markers are left\n",
    "zero_cols = markers_df.columns[markers_df.eq(0).all()]\n",
    "print(f'dropping {zero_cols}')\n",
    "markers_df = markers_df.drop(columns=zero_cols)\n",
    "if DEBUG:\n",
    "    display(markers_df.head())"
   ]
  },
  {
   "cell_type": "code",
   "execution_count": null,
   "id": "9778ae79-b299-4117-bbfd-452dacae203b",
   "metadata": {},
   "outputs": [],
   "source": [
    "display(adata.var.head())\n",
    "bdata = adata[:, adata.var.index.isin(markers_df.index)].copy()\n",
    "print(bdata)\n",
    "if DEBUG:\n",
    "    display(bdata.var.head())"
   ]
  },
  {
   "cell_type": "markdown",
   "id": "c3ea61d6-b346-44be-8e02-8e9db13fd01d",
   "metadata": {},
   "source": [
    "### setup SCVI"
   ]
  },
  {
   "cell_type": "code",
   "execution_count": null,
   "id": "de63b221-e875-4d89-b3aa-77cf17991e9e",
   "metadata": {},
   "outputs": [],
   "source": [
    "from numpy import mean\n",
    "lib_size = adata.layers['counts'].sum(1)\n",
    "bdata.obs['size_factor'] = lib_size / mean(lib_size)\n",
    "scvi.external.CellAssign.setup_anndata(bdata, size_factor_key='size_factor',\n",
    "                                       layer='counts',\n",
    "                                       categorical_covariate_keys=['gex_pool', 'sample_id'])"
   ]
  },
  {
   "cell_type": "markdown",
   "id": "c2125454-201e-4f44-aa1c-87d23060d1c2",
   "metadata": {},
   "source": [
    "### create and train the model"
   ]
  },
  {
   "cell_type": "code",
   "execution_count": null,
   "id": "f94d6d62-2f99-417e-8bdb-d4f18e85a6ae",
   "metadata": {},
   "outputs": [],
   "source": [
    "%%time\n",
    "model = CellAssign(bdata, markers_df)\n",
    "print(model)\n",
    "model.train()"
   ]
  },
  {
   "cell_type": "markdown",
   "id": "f9d2daec-58e9-4411-8a1a-21c54a82d971",
   "metadata": {},
   "source": [
    "#### Inspecting the convergence"
   ]
  },
  {
   "cell_type": "code",
   "execution_count": null,
   "id": "c8d5c785-4fe7-4d2c-ba27-1599be38d741",
   "metadata": {},
   "outputs": [],
   "source": [
    "train_elbo = model.history[\"elbo_train\"][1:]\n",
    "test_elbo = model.history[\"elbo_validation\"]\n",
    "\n",
    "with rc_context({'figure.figsize': (9, 9), 'figure.dpi': 50}):\n",
    "    plt.style.use('seaborn-talk')\n",
    "    ax = train_elbo.plot()\n",
    "    test_elbo.plot(ax=ax)"
   ]
  },
  {
   "cell_type": "markdown",
   "id": "28aad413-0cd0-4dfa-b1e0-ea230336e752",
   "metadata": {},
   "source": [
    "### Predict and plot assigned cell types"
   ]
  },
  {
   "cell_type": "code",
   "execution_count": null,
   "id": "b93058ce-810a-4ae4-9cb0-3b234dc5007b",
   "metadata": {},
   "outputs": [],
   "source": [
    "predictions = model.predict()\n",
    "print(f'shape of predictions: {predictions.shape}')\n",
    "if DEBUG:\n",
    "    display(predictions.head())"
   ]
  },
  {
   "cell_type": "code",
   "execution_count": null,
   "id": "032aae21-6122-4d7f-8ece-08b0aba2f528",
   "metadata": {},
   "outputs": [],
   "source": [
    "%%time\n",
    "# this can take forever for many cells and isn't really that interesting\n",
    "if predictions.shape[0] < 250000:\n",
    "    with rc_context({'figure.figsize': (9, 9), 'figure.dpi': 100}):\n",
    "        plt.style.use('seaborn-talk')\n",
    "        figure_file = f'{figures_dir}/{project}.{marker_set}.celltypes_heatmap.png'\n",
    "        splot = clustermap(predictions, cmap=\"viridis\")\n",
    "        splot.figure.savefig(figure_file)"
   ]
  },
  {
   "cell_type": "markdown",
   "id": "cbe58244-01d8-45f7-86dd-c959aebbea18",
   "metadata": {},
   "source": [
    "We then create a UMAP plot labeled by maximum probability assignments from the CellAssign model. The left plot contains the true cell types and the right plot contains our model’s predictions."
   ]
  },
  {
   "cell_type": "code",
   "execution_count": null,
   "id": "54179a37-52d3-4e9a-8bbb-465a0b879eeb",
   "metadata": {},
   "outputs": [],
   "source": [
    "bdata.obs['cellassign_predictions'] = predictions.idxmax(axis=1).values\n",
    "if DEBUG:\n",
    "    display(bdata.obs.cellassign_predictions.value_counts())"
   ]
  },
  {
   "cell_type": "code",
   "execution_count": null,
   "id": "97369b57-3e31-4e5f-96a2-a980ecf4e289",
   "metadata": {},
   "outputs": [],
   "source": [
    "with rc_context({'figure.figsize': (9, 9), 'figure.dpi': 100}):\n",
    "    plt.style.use('seaborn-talk')\n",
    "    figure_file = f'{project}.{marker_set}.celltypes_off.png' \n",
    "    sc.pl.umap(bdata, color=['cellassign_predictions'], frameon=False, \n",
    "               ncols=1, save=figure_file)"
   ]
  },
  {
   "cell_type": "code",
   "execution_count": null,
   "id": "f668e905-15e8-44be-8070-c23e06e71e06",
   "metadata": {},
   "outputs": [],
   "source": [
    "with rc_context({'figure.figsize': (9, 9), 'figure.dpi': 100}):\n",
    "    plt.style.use('seaborn-talk')\n",
    "    figure_file = f'{project}.{marker_set}.celltypes_on.png' \n",
    "    sc.pl.umap(bdata, color=['cellassign_predictions'], frameon=False, \n",
    "               legend_loc='on data', ncols=1, save=figure_file)"
   ]
  },
  {
   "cell_type": "markdown",
   "id": "46671cf2-4a55-4ed6-bd25-66434e1390b8",
   "metadata": {},
   "source": [
    "### merge predicted cell-types onto the full clustered anndata object"
   ]
  },
  {
   "cell_type": "code",
   "execution_count": null,
   "id": "f9bd46ab-2da9-4a49-bdfc-746bcce922a6",
   "metadata": {},
   "outputs": [],
   "source": [
    "# indices should still be the same, but double check\n",
    "if adata.obs.index.equals(bdata.obs.index):\n",
    "    adata.obs['cellassign_predictions'] = predictions.idxmax(axis=1).values\n",
    "else:\n",
    "    print('indices no longer match, CellAssign predictions not added.')"
   ]
  },
  {
   "cell_type": "code",
   "execution_count": null,
   "id": "8e493bee-8c52-48b4-9d0a-5f77212aed34",
   "metadata": {},
   "outputs": [],
   "source": [
    "display(adata.obs.cellassign_predictions.value_counts())"
   ]
  },
  {
   "cell_type": "markdown",
   "id": "11bb924a-6a57-458a-bc48-e3181c8c0189",
   "metadata": {},
   "source": [
    "### save output"
   ]
  },
  {
   "cell_type": "code",
   "execution_count": null,
   "id": "9e046452-3dd7-486f-9c22-68a3634210d1",
   "metadata": {},
   "outputs": [],
   "source": [
    "adata.write(out_file)"
   ]
  },
  {
   "cell_type": "code",
   "execution_count": null,
   "id": "ac19c8b8-7acd-4535-95aa-be3e4b58d194",
   "metadata": {},
   "outputs": [],
   "source": [
    "predictions = predictions.set_index(adata.obs.index)\n",
    "predictions.to_csv(pred_file)"
   ]
  },
  {
   "cell_type": "code",
   "execution_count": null,
   "id": "b783c4e8-a5c0-40c4-8a81-5d8129730aaa",
   "metadata": {},
   "outputs": [],
   "source": [
    "!date"
   ]
  }
 ],
 "metadata": {
  "kernelspec": {
   "display_name": "Python 3 (ipykernel)",
   "language": "python",
   "name": "python3"
  },
  "language_info": {
   "codemirror_mode": {
    "name": "ipython",
    "version": 3
   },
   "file_extension": ".py",
   "mimetype": "text/x-python",
   "name": "python",
   "nbconvert_exporter": "python",
   "pygments_lexer": "ipython3",
   "version": "3.9.13"
  }
 },
 "nbformat": 4,
 "nbformat_minor": 5
}
