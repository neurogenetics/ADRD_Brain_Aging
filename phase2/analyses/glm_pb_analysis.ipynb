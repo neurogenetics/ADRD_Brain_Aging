{
 "cells": [
  {
   "cell_type": "markdown",
   "id": "2edbd0e1",
   "metadata": {},
   "source": [
    "## Notebook to run correlation between age and feature quantification (expression and accessibiltiy) in single-cell data using GLM model and pseudo-bulk quantifications per sample\n",
    "\n",
    "based on some of the observations related to pseudo-replicate and zero-inflation from\n",
    "\n",
    "[Zimmerman KD, Espeland MA, Langefeld CD. A practical solution to pseudoreplication bias in single-cell studies. Nat Commun 2021;12:738.](https://pubmed.ncbi.nlm.nih.gov/33531494/)\n",
    "\n",
    "[Murphy AE, Skene NG. A balanced measure shows superior performance of pseudobulk methods in single-cell RNA-sequencing analysis. Nat Commun 2022;13:7851.](https://pubmed.ncbi.nlm.nih.gov/36550119/)"
   ]
  },
  {
   "cell_type": "code",
   "execution_count": null,
   "id": "3d370583",
   "metadata": {},
   "outputs": [],
   "source": [
    "!date"
   ]
  },
  {
   "cell_type": "markdown",
   "id": "12b70488",
   "metadata": {},
   "source": [
    "#### import libraries"
   ]
  },
  {
   "cell_type": "code",
   "execution_count": null,
   "id": "30831d90",
   "metadata": {},
   "outputs": [],
   "source": [
    "from anndata import AnnData\n",
    "import numpy as np\n",
    "from pandas import DataFrame as PandasDF, concat, read_csv\n",
    "from polars import read_parquet, DataFrame as PolarsDF, col as pl_col\n",
    "import scanpy as sc\n",
    "import matplotlib.pyplot as plt\n",
    "from matplotlib.pyplot import rc_context\n",
    "import statsmodels.api as sm\n",
    "import statsmodels.formula.api as smf\n",
    "from numba import jit\n",
    "from sklearn.preprocessing import MinMaxScaler\n",
    "from multiprocessing import Process\n",
    "\n",
    "import warnings\n",
    "warnings.simplefilter('ignore')\n",
    "\n",
    "import random\n",
    "random.seed(420)"
   ]
  },
  {
   "cell_type": "markdown",
   "id": "07565981-9394-4049-8b1f-bbc445837762",
   "metadata": {},
   "source": [
    "#### set notebook variables"
   ]
  },
  {
   "cell_type": "code",
   "execution_count": null,
   "id": "efcba3f5-57ee-4a76-9688-1978b45a6842",
   "metadata": {},
   "outputs": [],
   "source": [
    "# parameters\n",
    "category = 'curated_type' # 'curated_type' for broad and 'cluster_name' for specific\n",
    "modality = 'GEX' # 'GEX' or 'ATAC'"
   ]
  },
  {
   "cell_type": "code",
   "execution_count": null,
   "id": "64d7aef7",
   "metadata": {},
   "outputs": [],
   "source": [
    "# naming\n",
    "project = 'aging_phase2'\n",
    "\n",
    "# directories\n",
    "wrk_dir = '/labshare/raph/datasets/adrd_neuro/brain_aging/phase2'\n",
    "quants_dir = f'{wrk_dir}/quants'\n",
    "results_dir = f'{wrk_dir}/results'\n",
    "figures_dir = f'{wrk_dir}/figures'\n",
    "sc.settings.figdir = f'{figures_dir}/'\n",
    "\n",
    "# in files\n",
    "anndata_file = f'{quants_dir}/{project}.multivi.curated.h5ad'\n",
    "if modality == 'GEX':\n",
    "    quants_file = f'{quants_dir}/{project}.multivi_norm_exp.parquet'\n",
    "elif modality == 'ATAC':\n",
    "    quants_file = f'{quants_dir}/{project}.multivi_peak_est.parquet'    \n",
    "\n",
    "# out files\n",
    "\n",
    "# variables\n",
    "DEBUG = True\n",
    "TESTING = True\n",
    "TEST_FEATURE_SIZE = 1000"
   ]
  },
  {
   "cell_type": "markdown",
   "id": "85f30ba4",
   "metadata": {},
   "source": [
    "#### analysis functions"
   ]
  },
  {
   "cell_type": "code",
   "execution_count": null,
   "id": "90886c3a",
   "metadata": {},
   "outputs": [],
   "source": [
    "def subset_data(adata: AnnData, quants: PolarsDF, cell_name: str, obs_col: str, \n",
    "                reapply_filter: bool=True, min_cell_count: int=3, \n",
    "                verbose: bool=False) -> tuple[PandasDF, PolarsDF]:\n",
    "    sub_adata = adata[(adata.obs[obs_col] == cell_name)].copy()\n",
    "    if reapply_filter:\n",
    "        sc.pp.filter_genes(sub_adata, min_counts=min_cell_count)\n",
    "        sc.pp.filter_cells(sub_adata, min_counts=min_cell_count)\n",
    "    # now that have subset of anndata, grab the same cells and features from the separate data matrix\n",
    "    features = list(sub_adata.var.index.values)\n",
    "    features.append('barcode')\n",
    "    sub_quants = (quants_df.select(features)\n",
    "                  .filter(pl_col('barcode').is_in(sub_adata.obs.index.values)))\n",
    "    return sub_adata.obs, sub_quants\n",
    "\n",
    "def scale_dataframe(this_df : DataFrame):\n",
    "    scaledX = MinMaxScaler().fit_transform(this_df)\n",
    "    scaled_df = DataFrame(data=scaledX, columns=this_df.columns, \n",
    "                          index=this_df.index) \n",
    "    return scaled_df \n",
    "\n",
    "def convert_ad_to_df(data: AnnData, young_age_limit: float=30.0, \n",
    "                     scale: bool=True, verbose: bool=False) -> DataFrame:\n",
    "    data_df = data.to_df(SCVI_NORMALIZED_KEY)\n",
    "    if scale:\n",
    "        data_df = scale_dataframe(data_df)\n",
    "    annots = data.obs[['Sample_ID', 'Age','Sex']].copy()\n",
    "    annots['old'] = np.where((annots['Age'] > young_age_limit), 1, 0)\n",
    "    annots['female'] = np.where((annots['Sex'] == 'female'), 1, 0)\n",
    "    this_df = None\n",
    "    if data_df.index.equals(annots.index):\n",
    "        this_df = concat([data_df, annots], axis='columns')\n",
    "        this_df.index.name = 'barcodekey'\n",
    "        if verbose:\n",
    "            print(f'anndata to pandas df complete: {this_df.shape}')\n",
    "            print(this_df.shape)\n",
    "            display(this_df.head())\n",
    "    return this_df\n",
    "\n",
    "def feature_detected(feature_col, features: list=None, df: DataFrame=None, \n",
    "                     min_cell_count: int=3, min_sample_det_rate: float=0.5,\n",
    "                     verbose: bool=False):    \n",
    "    good_feature = True\n",
    "    if feature_col.name in features:\n",
    "        nz_df = feature_col[feature_col > 0]\n",
    "        ok_cnts = df.loc[nz_df.index].Sample_ID.value_counts() > min_cell_count\n",
    "        ok_sample_cnt = ok_cnts.sum()\n",
    "        unique_sample_id_count = df.Sample_ID.nunique()\n",
    "        good_feature = ok_sample_cnt / unique_sample_id_count >= min_sample_det_rate\n",
    "        if verbose:\n",
    "            print(feature_col.name, end=', ')\n",
    "            print(f'nz_df.shape = {nz_df.shape}', end=', ')\n",
    "            print(f'{ok_sample_cnt}/{unique_sample_id_count}', end=', ')\n",
    "            print(good_feature)\n",
    "    return good_feature\n",
    "\n",
    "def poorly_detected_features(features: list=None, df: DataFrame=None, \n",
    "                             verbose=False) -> list:\n",
    "    feature_detect_df = df.apply(feature_detected, features=features, df=df)\n",
    "    bad_features = feature_detect_df.loc[~feature_detect_df].index.to_list()\n",
    "    if verbose:\n",
    "        print(f'bad features counts is {len(bad_features)}')\n",
    "    return bad_features\n",
    "\n",
    "def glm_model(formula: str, df: DataFrame, use_tweedie: bool=True):\n",
    "    if use_tweedie:\n",
    "        model = smf.glm(formula=formula, data=df, \n",
    "                        family=sm.families.Tweedie(link=sm.families.links.log(), \n",
    "                                                   var_power=1.6, \n",
    "                                                   eql=True))\n",
    "    else:\n",
    "        model = smf.glm(formula=formula, data=df)\n",
    "    result = model.fit()\n",
    "    return result\n",
    "\n",
    "def compute_frmt_pb(df: DataFrame, feature: str) -> DataFrame:\n",
    "    ret_df = df[[feature, 'Sample_ID']].groupby('Sample_ID').mean()\n",
    "    ret_df['cell_count'] = df[[feature, 'Sample_ID']].groupby('Sample_ID').count()\n",
    "    ret_df = ret_df.merge(df[['Sample_ID', 'old', 'female']].drop_duplicates(), \n",
    "                          how='left', left_index=True, right_on='Sample_ID')\n",
    "    return ret_df\n",
    "\n",
    "def glm_age(df: DataFrame, feature: str, verbose: bool=False) -> tuple:\n",
    "    dep_term = feature\n",
    "    indep_term = 'old'\n",
    "    this_formula = f'Q(\"{dep_term}\") ~ {indep_term} + female + cell_count'\n",
    "    # just drop zeros \n",
    "    try:\n",
    "        pb_df = compute_frmt_pb(df, feature)\n",
    "        # run GLM via statsmodel\n",
    "        result = glm_model(this_formula, pb_df)\n",
    "        ret_list = [dep_term, result.params['Intercept'], \n",
    "                    result.params[indep_term], result.bse[indep_term], \n",
    "                    result.tvalues[indep_term], result.pvalues[indep_term]]\n",
    "        if verbose:\n",
    "            print(f'df shape {df.shape}')\n",
    "            print(f'non-zero df shape {pb_df.shape}')\n",
    "            print(result.summary())\n",
    "            print(['feature', 'intercept', 'coef', 'stderr', 'z', 'p-value'])\n",
    "            print(ret_list)\n",
    "    except:\n",
    "#         print(f'Caught Error for {dep_term}')\n",
    "        ret_list = [dep_term] + [np.nan] * 6\n",
    "  \n",
    "    return ret_list\n",
    "\n",
    "def regress_age(obs_pdf: PandasDF, data_plf: PolarsDF, cell_name: str, cat_type: str,\n",
    "                verbose: bool=False) -> PandasDF:\n",
    "    if verbose:\n",
    "        print('converting anndata to pandas df')        \n",
    "    type_df = convert_ad_to_df(data)\n",
    "    if verbose:\n",
    "        print(f'finding poorly detected features from cells x features {type_df.shape}')    \n",
    "    bad_features = poorly_detected_features(data.var.index.values, type_df)\n",
    "    type_clean_df = type_df.drop(columns=bad_features)\n",
    "    keep_features = set(data.var.index) & set(type_clean_df.columns)\n",
    "    type_clean_ad = data[:,list(keep_features)] \n",
    "    features_set = set(type_clean_ad.var.index) & set(type_clean_df.columns)    \n",
    "    type_results = [glm_age(type_clean_df, feature) for feature in features_set]\n",
    "    results_df = DataFrame(data=type_results, \n",
    "                              columns=['feature', 'intercept', 'coef', \n",
    "                                       'stderr', 'z', 'p-value', 'log2_fc'])\n",
    "    results_df['tissue'] = cell_name\n",
    "    results_df['type'] = cat_type\n",
    "    save_results(results_df, cell_name)\n",
    "    if verbose:\n",
    "        print(f'done', end='. ')\n",
    "\n",
    "def regression_wrapper(data: AnnData, cell_name: str):\n",
    "    regress_age(data, cell_name)\n",
    "    \n",
    "def save_results(df: DataFrame, cell_name: str):\n",
    "    out_file = f'{replication_dir}/{cell_name.replace(\" \", \"_\")}_glm_pb_age_diffs.csv'\n",
    "    df.to_csv(out_file, index=False)"
   ]
  },
  {
   "cell_type": "markdown",
   "id": "0761635d",
   "metadata": {},
   "source": [
    "\n",
    "### load data\n",
    "read the anndata (h5ad) file"
   ]
  },
  {
   "cell_type": "code",
   "execution_count": null,
   "id": "996604d0",
   "metadata": {},
   "outputs": [],
   "source": [
    "%%time\n",
    "adata = sc.read(anndata_file, cache=True)\n",
    "print(adata)\n",
    "if DEBUG:\n",
    "    display(adata.obs.sample(5))"
   ]
  },
  {
   "cell_type": "markdown",
   "id": "20212b83",
   "metadata": {},
   "source": [
    "#### take a look at the cell counts by cell type"
   ]
  },
  {
   "cell_type": "code",
   "execution_count": null,
   "id": "9204d107",
   "metadata": {},
   "outputs": [],
   "source": [
    "display(adata.obs[category].value_counts())"
   ]
  },
  {
   "cell_type": "code",
   "execution_count": null,
   "id": "687e59b8",
   "metadata": {},
   "outputs": [],
   "source": [
    "# sc.pl.umap(adata, color=[celltype_obs_feature], legend_loc='on data')\n",
    "with rc_context({'figure.figsize': (9, 9)}):\n",
    "    sc.pl.umap(adata, color=[category], legend_loc='on data', \n",
    "               add_outline=True, legend_fontsize=10)"
   ]
  },
  {
   "cell_type": "markdown",
   "id": "45d54b70-0136-484d-abb7-4c80e58cac49",
   "metadata": {},
   "source": [
    "### load the quantfied features\n",
    "either expression (GEX) and chromatin accessibiltiy (ATAT) base on the modality that was specified"
   ]
  },
  {
   "cell_type": "code",
   "execution_count": null,
   "id": "bf1030e2-e21f-492c-b6f7-dabf5d566b4e",
   "metadata": {},
   "outputs": [],
   "source": [
    "%%time\n",
    "quants_df = read_parquet(quants_file)\n",
    "# for a polars dataframe read from parquent need to fix index column name\n",
    "quants_df = quants_df.rename({'__index_level_0__': 'barcode'})\n",
    "print(f'shape of quantified {modality} features: {quants_df.shape}')\n",
    "if DEBUG:\n",
    "    display(quants_df.sample(5))"
   ]
  },
  {
   "cell_type": "markdown",
   "id": "2cf42aef",
   "metadata": {},
   "source": [
    "### if testing notebooks for debugging purpose subset the features"
   ]
  },
  {
   "cell_type": "code",
   "execution_count": null,
   "id": "227c7873",
   "metadata": {},
   "outputs": [],
   "source": [
    "if TESTING:\n",
    "    if modality == 'GEX':\n",
    "        features = random.sample(list(adata.var.loc[adata.var.modality == 'Gene Expression'].index.values),\n",
    "                                 TEST_FEATURE_SIZE)\n",
    "    elif modality == 'ATAC':\n",
    "        features = random.sample(list(adata.var.loc[adata.var.modality == 'Peaks'].index.values),\n",
    "                                 TEST_FEATURE_SIZE)\n",
    "    adata = adata[:,features]\n",
    "    # need to keep the barcode as well\n",
    "    features.append('barcode')    \n",
    "    quants_df = quants_df.select(features)\n",
    "    print(adata)\n",
    "    display(adata.var.modality.value_counts())\n",
    "    print(f'shape of testing quants dataframe is: {quants_df.shape}')\n",
    "    display(quants_df.sample(5))"
   ]
  },
  {
   "cell_type": "markdown",
   "id": "7c8cf910",
   "metadata": {},
   "source": [
    "### for each cell-type compute the differential expression \n",
    "using pseudobulk and GLM\n",
    "\n",
    "parallelized by tissue"
   ]
  },
  {
   "cell_type": "code",
   "execution_count": null,
   "id": "2a099ca3",
   "metadata": {},
   "outputs": [],
   "source": [
    "%%time\n",
    "\n",
    "cmds = {}\n",
    "for cell_type in adata.obs[category].unique():\n",
    "    print(cell_type)\n",
    "    obs_sub, quants_sub = subset_data(adata, quants_df, cell_type, category)\n",
    "    regress_age(obs_sub, quants_sub, cell_name, category)\n",
    "#     p = Process(target=diffexp_group_wrapper,args=(adata_sub, cell_name))\n",
    "#     p.start()\n",
    "#     # Append process and key to keep track\n",
    "#     cmds[cell_type] = p    \n",
    "#     # diffexp_group(adata_sub, cell_name)\n",
    "# # Wait for all processes to finish\n",
    "# for key, p in cmds.items():\n",
    "#     p.join()    "
   ]
  },
  {
   "cell_type": "code",
   "execution_count": null,
   "id": "f45b6907-6826-4086-bb35-4998fb1a1742",
   "metadata": {},
   "outputs": [],
   "source": [
    "import sys\n",
    "print(sys.getsizeof(quants_df))\n",
    "quants_pdf = quants_df.to_pandas()\n",
    "print(sys.getsizeof(quants_pdf))"
   ]
  },
  {
   "cell_type": "code",
   "execution_count": null,
   "id": "4ade5b9e",
   "metadata": {},
   "outputs": [],
   "source": [
    "!date"
   ]
  }
 ],
 "metadata": {
  "kernelspec": {
   "display_name": "Python 3 (ipykernel)",
   "language": "python",
   "name": "python3"
  },
  "language_info": {
   "codemirror_mode": {
    "name": "ipython",
    "version": 3
   },
   "file_extension": ".py",
   "mimetype": "text/x-python",
   "name": "python",
   "nbconvert_exporter": "python",
   "pygments_lexer": "ipython3",
   "version": "3.10.13"
  }
 },
 "nbformat": 4,
 "nbformat_minor": 5
}
