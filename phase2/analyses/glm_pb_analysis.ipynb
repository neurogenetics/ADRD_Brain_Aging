{
 "cells": [
  {
   "cell_type": "markdown",
   "id": "2edbd0e1",
   "metadata": {},
   "source": [
    "## Notebook to run correlation between age and feature quantification (expression and accessibiltiy) in single-cell data using GLM model and pseudo-bulk quantifications per sample\n",
    "\n",
    "based on some of the observations related to pseudo-replicate and zero-inflation from\n",
    "\n",
    "[Zimmerman KD, Espeland MA, Langefeld CD. A practical solution to pseudoreplication bias in single-cell studies. Nat Commun 2021;12:738.](https://pubmed.ncbi.nlm.nih.gov/33531494/)\n",
    "\n",
    "[Murphy AE, Skene NG. A balanced measure shows superior performance of pseudobulk methods in single-cell RNA-sequencing analysis. Nat Commun 2022;13:7851.](https://pubmed.ncbi.nlm.nih.gov/36550119/)"
   ]
  },
  {
   "cell_type": "code",
   "execution_count": null,
   "id": "3d370583",
   "metadata": {},
   "outputs": [],
   "source": [
    "!date"
   ]
  },
  {
   "cell_type": "markdown",
   "id": "12b70488",
   "metadata": {},
   "source": [
    "#### import libraries"
   ]
  },
  {
   "cell_type": "code",
   "execution_count": null,
   "id": "30831d90",
   "metadata": {},
   "outputs": [],
   "source": [
    "from anndata import AnnData\n",
    "import numpy as np\n",
    "from pandas import DataFrame as PandasDF, read_parquet\n",
    "import scanpy as sc\n",
    "from matplotlib.pyplot import rc_context\n",
    "import statsmodels.api as sm\n",
    "import statsmodels.formula.api as smf\n",
    "from multiprocessing import Process\n",
    "from os.path import exists\n",
    "\n",
    "import warnings\n",
    "warnings.simplefilter('ignore')\n",
    "\n",
    "import random\n",
    "random.seed(420)"
   ]
  },
  {
   "cell_type": "markdown",
   "id": "07565981-9394-4049-8b1f-bbc445837762",
   "metadata": {},
   "source": [
    "#### set notebook variables"
   ]
  },
  {
   "cell_type": "code",
   "execution_count": null,
   "id": "efcba3f5-57ee-4a76-9688-1978b45a6842",
   "metadata": {},
   "outputs": [],
   "source": [
    "# parameters\n",
    "category = 'cluster_name' # 'curated_type' for broad and 'cluster_name' for specific\n",
    "modality = 'GEX' # 'GEX' or 'ATAC'"
   ]
  },
  {
   "cell_type": "code",
   "execution_count": null,
   "id": "64d7aef7",
   "metadata": {},
   "outputs": [],
   "source": [
    "# naming\n",
    "project = 'aging_phase2'\n",
    "if category == 'curated_type':\n",
    "    prefix_type = 'broad'\n",
    "elif category == 'cluster_name':\n",
    "    prefix_type = 'specific' \n",
    "\n",
    "# directories\n",
    "wrk_dir = '/labshare/raph/datasets/adrd_neuro/brain_aging/phase2'\n",
    "quants_dir = f'{wrk_dir}/quants'\n",
    "results_dir = f'{wrk_dir}/results'\n",
    "figures_dir = f'{wrk_dir}/figures'\n",
    "sc.settings.figdir = f'{figures_dir}/'\n",
    "\n",
    "# in files\n",
    "anndata_file = f'{quants_dir}/{project}.multivi.curated_final.h5ad'    \n",
    "\n",
    "# out files\n",
    "\n",
    "# variables\n",
    "DEBUG = False\n",
    "TESTING = False\n",
    "TEST_FEATURE_SIZE = 1000\n",
    "covariate_terms = ['sex', 'ancestry', 'pmi', 'ph', 'smoker', 'bmi', 'pool']\n",
    "covar_term_formula = ' + '.join(covariate_terms)\n",
    "if DEBUG:\n",
    "    print(covar_term_formula)"
   ]
  },
  {
   "cell_type": "markdown",
   "id": "85f30ba4",
   "metadata": {},
   "source": [
    "#### functions"
   ]
  },
  {
   "cell_type": "code",
   "execution_count": null,
   "id": "90886c3a",
   "metadata": {},
   "outputs": [],
   "source": [
    "def load_quantification(cell_name: str, verbose: bool=False) -> PandasDF:\n",
    "    this_file = f'{quants_dir}/{project}.{modality}.{prefix_type}.{cell_type}.pb.parquet'\n",
    "    if not exists(this_file):\n",
    "        return None\n",
    "    df = read_parquet(this_file)\n",
    "    if verbose:\n",
    "        print(f'shape of read {cell_name} quantifications {df.shape}')        \n",
    "        display(df.sample(5))\n",
    "    return df\n",
    "\n",
    "def glm_model(formula: str, df: PandasDF, use_tweedie: bool=True):\n",
    "    if use_tweedie:\n",
    "        model = smf.glm(formula=formula, data=df, \n",
    "                        family=sm.families.Tweedie(link=sm.families.links.log(), \n",
    "                                                   var_power=1.6, \n",
    "                                                   eql=True))\n",
    "    else:\n",
    "        model = smf.glm(formula=formula, data=df)\n",
    "    result = model.fit()\n",
    "    return result\n",
    "\n",
    "def glm_age(df: PandasDF, feature: str, verbose: bool=False) -> tuple:\n",
    "    endo_term = feature\n",
    "    exog_term = 'age'\n",
    "    model_terms = [endo_term, exog_term] + covariate_terms + ['cell_count']\n",
    "    this_formula = f'Q(\"{endo_term}\") ~ {exog_term} + {covar_term_formula} + cell_count'\n",
    "    try:\n",
    "        # run GLM via statsmodel\n",
    "        result = glm_model(this_formula, df[model_terms])\n",
    "        ret_list = [endo_term, result.params['Intercept'], \n",
    "                    result.params[exog_term], result.bse[exog_term], \n",
    "                    result.tvalues[exog_term], result.pvalues[exog_term]]\n",
    "        if verbose:\n",
    "            print(f'df shape {df.shape}')\n",
    "            print(result.summary())\n",
    "            print(['feature', 'intercept', 'coef', 'stderr', 'z', 'p-value'])\n",
    "            print(ret_list)\n",
    "    except:\n",
    "#         print(f'Caught Error for {endo_term}')\n",
    "        ret_list = [endo_term] + [np.nan] * 6\n",
    "  \n",
    "    return ret_list\n",
    "\n",
    "def regress_age(quants: PandasDF, covars: PandasDF, cell_name: str, \n",
    "                cat_type: str) -> PandasDF:\n",
    "    # cell count covariate is in the quantified features\n",
    "    features_set = set(quants.columns)\n",
    "    features_set.remove('cell_count')\n",
    "    data_df = quants.merge(covars, how='inner', left_index=True, right_index=True)\n",
    "    type_results = [glm_age(data_df, feature) for feature in features_set]\n",
    "    results_df = PandasDF(data=type_results,\n",
    "                          columns=['feature', 'intercept', 'coef', 'stderr', \n",
    "                                    'z', 'p-value'])\n",
    "    results_df['tissue'] = cell_name\n",
    "    results_df['type'] = cat_type\n",
    "    save_results(results_df, cell_name)\n",
    "        \n",
    "def save_results(df: PandasDF, cell_name: str):\n",
    "    out_file = f'{results_dir}/{project}.{modality}.{prefix_type}.{cell_name}.glm_age.csv'\n",
    "    df.to_csv(out_file, index=False)\n",
    "\n",
    "def subset_for_test(df: PandasDF, feature_cnt: int) -> PandasDF:\n",
    "    if len(quants_df.columns) < feature_cnt:\n",
    "        return quants_df\n",
    "        \n",
    "    features = random.sample(list(df.columns), feature_cnt)\n",
    "    if not 'cell_count' in features:\n",
    "        features.append('cell_count')\n",
    "    return df[features]\n",
    "\n",
    "def check_detection(data_df: PandasDF, total_cnt: int, min_cell_cnt: int=3, min_sample_frac: float=0.3) -> {bool, float}:\n",
    "    detected_df = data_df.loc[data_df.cell_count >= min_cell_cnt].cell_count\n",
    "    ret_cnt = detected_df.shape[0]\n",
    "    if ret_cnt >= round(min_sample_frac * total_cnt, 0):\n",
    "        ret_check = True\n",
    "    else:\n",
    "        ret_check = False\n",
    "    return ret_check, ret_cnt"
   ]
  },
  {
   "cell_type": "markdown",
   "id": "0761635d",
   "metadata": {},
   "source": [
    "\n",
    "### load data\n",
    "read the anndata (h5ad) file"
   ]
  },
  {
   "cell_type": "code",
   "execution_count": null,
   "id": "996604d0",
   "metadata": {},
   "outputs": [],
   "source": [
    "%%time\n",
    "adata = sc.read(anndata_file, cache=True)\n",
    "print(adata)\n",
    "if DEBUG:\n",
    "    display(adata.obs.sample(5))"
   ]
  },
  {
   "cell_type": "markdown",
   "id": "20212b83",
   "metadata": {},
   "source": [
    "#### take a look at the cell counts by cell type"
   ]
  },
  {
   "cell_type": "code",
   "execution_count": null,
   "id": "9204d107",
   "metadata": {},
   "outputs": [],
   "source": [
    "display(adata.obs[category].value_counts())"
   ]
  },
  {
   "cell_type": "code",
   "execution_count": null,
   "id": "687e59b8",
   "metadata": {},
   "outputs": [],
   "source": [
    "# sc.pl.umap(adata, color=[celltype_obs_feature], legend_loc='on data')\n",
    "with rc_context({'figure.figsize': (9, 9)}):\n",
    "    sc.pl.umap(adata, color=[category], legend_loc='on data', \n",
    "               add_outline=True, legend_fontsize=10)"
   ]
  },
  {
   "cell_type": "markdown",
   "id": "fc96df94-ba52-4ed6-a21d-0783982cfd06",
   "metadata": {},
   "source": [
    "### format sample covariates\n",
    "\n",
    "sex, ancestry, age, (gex_pool or atac_pool), pmi, ph, smoker, bmi"
   ]
  },
  {
   "cell_type": "code",
   "execution_count": null,
   "id": "33fb9179-0a02-4984-8ee1-c44060f9aafb",
   "metadata": {},
   "outputs": [],
   "source": [
    "keep_terms = ['sample_id','sex', 'ancestry', 'age', 'gex_pool', 'atac_pool', \n",
    "              'pmi', 'ph', 'smoker', 'bmi']\n",
    "covars_df = adata.obs[keep_terms].drop_duplicates().reset_index(drop=True)\n",
    "covars_df = covars_df.set_index('sample_id')\n",
    "\n",
    "if DEBUG:\n",
    "    print(covars_df.shape)\n",
    "    display(covars_df.head())\n",
    "    display(covars_df.info())\n",
    "    display(covars_df.smoker.value_counts())\n",
    "    display(covars_df.bmi.describe())"
   ]
  },
  {
   "cell_type": "markdown",
   "id": "97492265-edae-45ca-8d88-69f73458673c",
   "metadata": {},
   "source": [
    "#### fill any missing covariate terms\n",
    "looks like smoker and bmi is missing for one sample will set it to mean of those values"
   ]
  },
  {
   "cell_type": "code",
   "execution_count": null,
   "id": "d42ddd58-841e-4b8b-8547-e05a26e81d06",
   "metadata": {},
   "outputs": [],
   "source": [
    "# fill the missing smoker and bmi value\n",
    "covars_df.loc[covars_df.smoker.isna(), 'smoker'] = covars_df.smoker.mean().round(1)\n",
    "covars_df.loc[covars_df.bmi.isna(), 'bmi'] = covars_df.bmi.mean().round(1)\n",
    "\n",
    "if DEBUG:\n",
    "    print(covars_df.shape)\n",
    "    display(covars_df.info())\n",
    "    display(covars_df.smoker.value_counts())\n",
    "    display(covars_df.bmi.describe())"
   ]
  },
  {
   "cell_type": "markdown",
   "id": "982a4de3-5180-41aa-b7fc-da51fc86d561",
   "metadata": {},
   "source": [
    "#### set the pool term based on modality being analyzed"
   ]
  },
  {
   "cell_type": "code",
   "execution_count": null,
   "id": "dc8ccf35-2164-4783-b3f7-be24be0e0bd1",
   "metadata": {},
   "outputs": [],
   "source": [
    "if modality == 'GEX':\n",
    "    covars_df['pool'] = covars_df.gex_pool\n",
    "elif modality == 'ATAC':\n",
    "    covars_df['pool'] = covars_df.atac_pool\n",
    "covars_df = covars_df.drop(columns=['gex_pool', 'atac_pool'])\n",
    "print(f'shape of covariate terms is {covars_df.shape}')\n",
    "if DEBUG:\n",
    "    display(covars_df.head(40))"
   ]
  },
  {
   "cell_type": "markdown",
   "id": "870e8b3b-861c-4003-9b52-8e132e614082",
   "metadata": {},
   "source": [
    "### check if age, exogenous variable, is correlated with any ouf the covariate terms\n",
    "\n",
    "none of the terms appear to have a statistically significant correlation with age"
   ]
  },
  {
   "cell_type": "code",
   "execution_count": null,
   "id": "b65dc81b-a390-4e1f-8a4e-6e817990441c",
   "metadata": {},
   "outputs": [],
   "source": [
    "this_formula = f'age ~ {covar_term_formula}'\n",
    "print(this_formula)\n",
    "model = smf.glm(formula=this_formula, data=covars_df)\n",
    "result = model.fit()\n",
    "display(result.summary())"
   ]
  },
  {
   "cell_type": "markdown",
   "id": "7c8cf910",
   "metadata": {},
   "source": [
    "### for each cell-type compute the differential expression \n",
    "using pseudobulk and GLM\n",
    "\n",
    "parallelized by tissue"
   ]
  },
  {
   "cell_type": "code",
   "execution_count": null,
   "id": "2a099ca3",
   "metadata": {},
   "outputs": [],
   "source": [
    "%%time\n",
    "\n",
    "cmds = {}\n",
    "for cell_type in adata.obs[category].unique():\n",
    "    print(cell_type)\n",
    "    quants_df = load_quantification(cell_type)    \n",
    "    # if empty skip\n",
    "    if quants_df is None or quants_df.shape[1] < 2:\n",
    "        print(f'nothing to do for {cell_type} skipping')\n",
    "        continue\n",
    "    # if not enough samples skip\n",
    "    this_check, this_cnt = check_detection(quants_df, covars_df.shape[0])\n",
    "    if not this_check:\n",
    "        print(f'skipping {cell_type}, cells from only {this_cnt} samples')\n",
    "        continue\n",
    "    if TESTING:\n",
    "        quants_df = subset_for_test(quants_df, TEST_FEATURE_SIZE)\n",
    "        print(quants_df.shape)\n",
    "        display(quants_df.sample(5))\n",
    "    # regress_age(quants_df, covars_df, cell_type, category)\n",
    "    p = Process(target=regress_age,args=(quants_df, covars_df, cell_type, category))\n",
    "    p.start()\n",
    "    # Append process and key to keep track\n",
    "    cmds[cell_type] = p    \n",
    "    # diffexp_group(adata_sub, cell_name)\n",
    "# Wait for all processes to finish\n",
    "for key, p in cmds.items():\n",
    "    p.join()    "
   ]
  },
  {
   "cell_type": "code",
   "execution_count": null,
   "id": "4ade5b9e",
   "metadata": {},
   "outputs": [],
   "source": [
    "!date"
   ]
  }
 ],
 "metadata": {
  "kernelspec": {
   "display_name": "Python 3 (ipykernel)",
   "language": "python",
   "name": "python3"
  },
  "language_info": {
   "codemirror_mode": {
    "name": "ipython",
    "version": 3
   },
   "file_extension": ".py",
   "mimetype": "text/x-python",
   "name": "python",
   "nbconvert_exporter": "python",
   "pygments_lexer": "ipython3",
   "version": "3.10.13"
  }
 },
 "nbformat": 4,
 "nbformat_minor": 5
}
