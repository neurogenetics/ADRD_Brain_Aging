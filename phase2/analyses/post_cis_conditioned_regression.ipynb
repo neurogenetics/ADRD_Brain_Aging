{
 "cells": [
  {
   "cell_type": "markdown",
   "id": "ad92b817-3a37-4228-a34a-4a24c0ac4d44",
   "metadata": {},
   "source": [
    "## Combine and summarize the cis conditioned regression analysis, the age regression for the age associated GEX features conditioned *cis* correlated ATAC features that are also age associated"
   ]
  },
  {
   "cell_type": "code",
   "execution_count": null,
   "id": "1d3b0648-aa7c-4b1f-8621-b2e1ea9d50f4",
   "metadata": {},
   "outputs": [],
   "source": [
    "!date"
   ]
  },
  {
   "cell_type": "markdown",
   "id": "99b66a63-0b37-4d4a-9b3a-da27ab358b60",
   "metadata": {},
   "source": [
    "#### import libraries"
   ]
  },
  {
   "cell_type": "code",
   "execution_count": null,
   "id": "dea4ef79-dde3-4763-8029-3f35bac7fb81",
   "metadata": {},
   "outputs": [],
   "source": [
    "from pandas import read_csv, concat, DataFrame\n",
    "from os.path import exists\n",
    "from seaborn import scatterplot, barplot\n",
    "import matplotlib.pyplot as plt\n",
    "from matplotlib.pyplot import rc_context\n",
    "\n",
    "%matplotlib inline\n",
    "# for white background of figures (only for docs rendering)\n",
    "%config InlineBackend.print_figure_kwargs={'facecolor' : \"w\"}\n",
    "%config InlineBackend.figure_format='retina'"
   ]
  },
  {
   "cell_type": "markdown",
   "id": "19b1a063-88bc-468f-b9ab-792d1197fa73",
   "metadata": {},
   "source": [
    "#### set notebook variables"
   ]
  },
  {
   "cell_type": "code",
   "execution_count": null,
   "id": "1a772ae9-b9ff-4d5b-8eae-56d268d63007",
   "metadata": {},
   "outputs": [],
   "source": [
    "# parameters\n",
    "endogenous = 'GEX'\n",
    "exogenous = 'ATAC'\n",
    "category = 'cluster_name' # 'curated_type' for broad and 'cluster_name' for specific\n",
    "REGRESSION_TYPE = 'glm_tweedie'"
   ]
  },
  {
   "cell_type": "code",
   "execution_count": null,
   "id": "611c647e-8fb9-4676-a052-a59b1398b271",
   "metadata": {},
   "outputs": [],
   "source": [
    "# parameters\n",
    "project = 'aging_phase2'\n",
    "if category == 'curated_type':\n",
    "    prefix_type = 'broad'\n",
    "elif category == 'cluster_name':\n",
    "    prefix_type = 'specific' \n",
    "\n",
    "# directories\n",
    "wrk_dir = '/labshare/raph/datasets/adrd_neuro/brain_aging/phase2'\n",
    "results_dir = f'{wrk_dir}/results'\n",
    "quants_dir = f'{wrk_dir}/quants'\n",
    "figures_dir = f'{wrk_dir}/figures'\n",
    "info_dir = f'{wrk_dir}/sample_info'\n",
    "\n",
    "# in files\n",
    "endo_results_file = f'{results_dir}/{project}.{endogenous}.{prefix_type}.{REGRESSION_TYPE}_fdr_filtered.age.csv'\n",
    "exo_results_file = f'{results_dir}/{project}.{exogenous}.{prefix_type}.{REGRESSION_TYPE}_fdr_filtered.age.csv'\n",
    "cis_results_file = f'{results_dir}/{project}.{endogenous}-{exogenous}.{prefix_type}.{REGRESSION_TYPE}_fdr_filtered.cis.csv'\n",
    "info_file = f'{info_dir}/{project}.sample_info.csv'\n",
    "\n",
    "# out files\n",
    "out_file = f'{results_dir}/{project}.{endogenous}.{prefix_type}.{REGRESSION_TYPE}.pairwise_conditioned.age.csv'\n",
    "fig_filename = f'{figures_dir}/{project}.{endogenous}.{prefix_type}.{REGRESSION_TYPE}.pairwise_conditioned.summary.png'\n",
    "bar_fig_filename = f'{figures_dir}/{project}.{endogenous}.{prefix_type}.{REGRESSION_TYPE}.pairwise_conditioned.summary_bar.png'\n",
    "\n",
    "# constants\n",
    "DEBUG = False\n",
    "ALPHA = 0.05\n",
    "if DEBUG:\n",
    "    print(f'endo_results_file = {endo_results_file}')\n",
    "    print(f'exo_results_file = {exo_results_file}')\n",
    "    print(f'cis_results_file = {cis_results_file}')\n",
    "    print(f'info_file = {info_file}')\n",
    "    print(f'out_file = {out_file}')"
   ]
  },
  {
   "cell_type": "markdown",
   "id": "181fc418-1be6-40d4-aa7b-43f0d26cc09f",
   "metadata": {},
   "source": [
    "### load the GEX results to find which gene features to perform cis conditioning on"
   ]
  },
  {
   "cell_type": "code",
   "execution_count": null,
   "id": "3c6d0d20-fc05-47c8-8b63-d9f9f7df1759",
   "metadata": {},
   "outputs": [],
   "source": [
    "endo_results_df = read_csv(endo_results_file)\n",
    "print(f'shape of GEX results {endo_results_df.shape}')\n",
    "if DEBUG:\n",
    "    display(endo_results_df.sample(5))"
   ]
  },
  {
   "cell_type": "markdown",
   "id": "5522d330-149e-4b0c-9a3f-314dfc3ece48",
   "metadata": {},
   "source": [
    "#### how many genes per cell-type with a results will be considered"
   ]
  },
  {
   "cell_type": "code",
   "execution_count": null,
   "id": "9c5ff107-52a7-4aaf-b00a-0f84cec4ed06",
   "metadata": {},
   "outputs": [],
   "source": [
    "print(endo_results_df.feature.nunique())\n",
    "display(endo_results_df.tissue.value_counts())"
   ]
  },
  {
   "cell_type": "markdown",
   "id": "204eee8a-1451-49e1-bb1a-2700b93fdb77",
   "metadata": {},
   "source": [
    "### load the ATAC results"
   ]
  },
  {
   "cell_type": "code",
   "execution_count": null,
   "id": "aa7c9fbd-4a17-4d59-9c56-738117f888d7",
   "metadata": {},
   "outputs": [],
   "source": [
    "exo_results_df = read_csv(exo_results_file)\n",
    "print(f'shape of ATAC results {exo_results_df.shape}')\n",
    "if DEBUG:\n",
    "    display(exo_results_df.sample(5))"
   ]
  },
  {
   "cell_type": "markdown",
   "id": "560dc375-619b-4eb1-bf37-517d75221ed5",
   "metadata": {},
   "source": [
    "#### how many peaks per cell-type"
   ]
  },
  {
   "cell_type": "code",
   "execution_count": null,
   "id": "f2027703-4260-4ec3-944b-365ea75f1010",
   "metadata": {},
   "outputs": [],
   "source": [
    "print(exo_results_df.feature.nunique())\n",
    "display(exo_results_df.tissue.value_counts())"
   ]
  },
  {
   "cell_type": "markdown",
   "id": "9a275e92-ef6e-4900-927e-12fd1c26d7ae",
   "metadata": {},
   "source": [
    "### load the cis proximal correlation results"
   ]
  },
  {
   "cell_type": "code",
   "execution_count": null,
   "id": "d3874825-1aea-4292-9783-825cab96576c",
   "metadata": {},
   "outputs": [],
   "source": [
    "cis_results_df = read_csv(cis_results_file)\n",
    "print(f'shape of cis correlation results {cis_results_df.shape}')\n",
    "if DEBUG:\n",
    "    display(cis_results_df.sample(5))"
   ]
  },
  {
   "cell_type": "code",
   "execution_count": null,
   "id": "8b4bdeaf-fa16-4732-b4a3-a909fe57be39",
   "metadata": {},
   "outputs": [],
   "source": [
    "display(cis_results_df.tissue.value_counts())"
   ]
  },
  {
   "cell_type": "markdown",
   "id": "4e1a7303-fb0c-4226-9efe-112cb477d241",
   "metadata": {},
   "source": [
    "#### subset the cis proximal results to only those features that are age associated"
   ]
  },
  {
   "cell_type": "code",
   "execution_count": null,
   "id": "f6b693d1-efb8-4ded-aa5b-86dcbe433b80",
   "metadata": {},
   "outputs": [],
   "source": [
    "cis_results_df = cis_results_df.loc[(cis_results_df.endo_feature.isin(endo_results_df.feature)) \n",
    "                                     & (cis_results_df.exog_feature.isin(exo_results_df.feature))]\n",
    "print(f'new shape of cis correlation results {cis_results_df.shape}')\n",
    "if DEBUG:\n",
    "    display(cis_results_df.sample(5))"
   ]
  },
  {
   "cell_type": "code",
   "execution_count": null,
   "id": "9d79f172-2e7d-4772-8445-c5f8b793afb7",
   "metadata": {
    "scrolled": true
   },
   "outputs": [],
   "source": [
    "display(cis_results_df.tissue.value_counts())"
   ]
  },
  {
   "cell_type": "markdown",
   "id": "6a13a951-8108-46f1-9c51-607fc766cb54",
   "metadata": {},
   "source": [
    "### load the results of the cis conditioned analysis"
   ]
  },
  {
   "cell_type": "code",
   "execution_count": null,
   "id": "7aef712a-3942-4908-a541-a482fa55d4a6",
   "metadata": {},
   "outputs": [],
   "source": [
    "cond_results = []\n",
    "for cell_type in endo_results_df.tissue.unique():\n",
    "    print(cell_type)\n",
    "    this_file = f'{results_dir}/{project}.{endogenous}.{prefix_type}.{cell_type}.{REGRESSION_TYPE}.pairwise_conditioned.age.csv'\n",
    "    if exists(this_file):\n",
    "        this_results = read_csv(this_file)\n",
    "        this_results['tissue'] = cell_type\n",
    "        this_results['type'] = prefix_type    \n",
    "        cond_results.append(this_results)\n",
    "# convert list of result dataframes to single dataframe\n",
    "cond_results_df = concat(cond_results)\n",
    "print(f'shape of cond_results_df is {cond_results_df.shape}')\n",
    "if DEBUG:\n",
    "    display(cond_results_df.sample(5))"
   ]
  },
  {
   "cell_type": "markdown",
   "id": "1693684a-9bb9-4b21-9d86-9d684b8819a3",
   "metadata": {},
   "source": [
    "### save the combine results"
   ]
  },
  {
   "cell_type": "code",
   "execution_count": null,
   "id": "7d8fa710-238a-4dbf-9c8d-2bdecfdda040",
   "metadata": {},
   "outputs": [],
   "source": [
    "cond_results_df.to_csv(out_file)"
   ]
  },
  {
   "cell_type": "markdown",
   "id": "0ca674f2-eea7-400c-a184-f5f33e5ede26",
   "metadata": {},
   "source": [
    "### summary the results of the the conditioned regression\n",
    "\n",
    "after conditioning the age associated gene on cis proximal ATAC peaks that are also age associated and correlated with the gene does an age effect remian"
   ]
  },
  {
   "cell_type": "code",
   "execution_count": null,
   "id": "181b831d-d730-46f4-857c-4d008cf18659",
   "metadata": {},
   "outputs": [],
   "source": [
    "# stub summary result metrics dataframe\n",
    "summary_df = endo_results_df[['feature', 'tissue']].drop_duplicates(keep='first').copy()\n",
    "print(f'shape of summary_df is {summary_df.shape}')\n",
    "if DEBUG:\n",
    "    display(summary_df.sample(5))"
   ]
  },
  {
   "cell_type": "markdown",
   "id": "4c1020c6-a99a-41d1-8124-1b51797bb386",
   "metadata": {},
   "source": [
    "#### compute in some of the metrics"
   ]
  },
  {
   "cell_type": "code",
   "execution_count": null,
   "id": "cbd44e1a-5eb9-4834-8868-ec91f4c1beae",
   "metadata": {},
   "outputs": [],
   "source": [
    "%%time\n",
    "summary_df['cis_cor_peaks'] = 0\n",
    "summary_df['cis_cor_age_peaks'] = 0\n",
    "summary_df['mediating_peak_count'] = 0\n",
    "for row in summary_df.itertuples():\n",
    "    # how many cis correlated peaks for gene feature and cell-type\n",
    "    this_corr_result = cis_results_df.loc[(cis_results_df.endo_feature == row.feature) & (cis_results_df.tissue == row.tissue)]\n",
    "    if this_corr_result.shape [0] > 0:\n",
    "        summary_df.loc[(summary_df.feature == row.feature) & \n",
    "                        (summary_df.tissue == row.tissue), \n",
    "                        'cis_cor_peaks'] = this_corr_result.shape[0]\n",
    "    # how many cis correlated age associated peaks for gene feature and cell-type\n",
    "    this_cond_result = cond_results_df.loc[(cond_results_df.endo_feature == row.feature) & (cond_results_df.tissue == row.tissue)]\n",
    "    if this_cond_result.shape[0] > 0:\n",
    "        summary_df.loc[(summary_df.feature == row.feature) & \n",
    "                       (summary_df.tissue == row.tissue), \n",
    "                       'cis_cor_age_peaks'] = this_cond_result.shape[0]\n",
    "        # how many cis correlated age associated peaks that mediate age effect for this gene feature and cell-type                \n",
    "        this_mediated_result = this_cond_result.loc[this_cond_result['p-value'] > ALPHA]\n",
    "        if this_mediated_result.shape[0] > 0:\n",
    "            summary_df.loc[(summary_df.feature == row.feature) & \n",
    "                           (summary_df.tissue == row.tissue), \n",
    "                           'mediating_peak_count'] = this_mediated_result.shape[0]\n"
   ]
  },
  {
   "cell_type": "markdown",
   "id": "a468dc21-c56e-4509-9b5d-4283a4548451",
   "metadata": {},
   "source": [
    "#### visualize the summary"
   ]
  },
  {
   "cell_type": "code",
   "execution_count": null,
   "id": "54dab7ff-1bc6-419d-818e-8a93e0e2dadb",
   "metadata": {},
   "outputs": [],
   "source": [
    "with rc_context({'figure.figsize': (11, 11), 'figure.dpi': 100}):\n",
    "    plt.style.use('seaborn-v0_8-talk')\n",
    "    scatterplot(data=summary_df.sample(frac=1), x='cis_cor_peaks', y='mediating_peak_count', \n",
    "                hue='tissue', size='cis_cor_age_peaks', palette='bright')\n",
    "    plt.legend(bbox_to_anchor=(1.4, 1), loc='upper right', borderaxespad=0)\n",
    "    plt.tight_layout()\n",
    "    plt.savefig(fig_filename)    \n",
    "    plt.show()"
   ]
  },
  {
   "cell_type": "code",
   "execution_count": null,
   "id": "80841cc6-e8db-41d6-87f7-06406d749131",
   "metadata": {},
   "outputs": [],
   "source": [
    "this_list = []\n",
    "for cell_type in summary_df.tissue.unique():\n",
    "    tissue_summary_df = summary_df.loc[summary_df.tissue == cell_type]\n",
    "    cell_type_cnt = tissue_summary_df.feature.nunique()\n",
    "    mediated_percent = tissue_summary_df.loc[tissue_summary_df.mediating_peak_count > 0].shape[0]/cell_type_cnt * 100 \n",
    "    # print(f'{cell_type} has {cell_type_cnt} age associated genes and {mediated_percent:.2f} are mediated by cis correlated age associated ATAC peaks')\n",
    "    this_list.append([cell_type, cell_type_cnt, mediated_percent])\n",
    "mediated_proportions = DataFrame(this_list, columns=['tissue', 'count', 'percent'])\n",
    "print(f'shape of mediated_proportions is {mediated_proportions.shape}')\n",
    "if DEBUG:\n",
    "    display(mediated_proportions)"
   ]
  },
  {
   "cell_type": "code",
   "execution_count": null,
   "id": "4a7aa3de-2c02-47e5-b807-8de2abc324e2",
   "metadata": {},
   "outputs": [],
   "source": [
    "with rc_context({'figure.figsize': (15, 11), 'figure.dpi': 100}):\n",
    "    plt.style.use('seaborn-v0_8-talk')\n",
    "    barplot(data=mediated_proportions.sort_values('percent', ascending=False),\n",
    "            x='tissue', y='percent', color='purple')\n",
    "    plt.xticks(rotation=90)\n",
    "    plt.tight_layout()\n",
    "    plt.title('% of age associated genes that are mediated by a cis correlated age associated ATAC peak')  \n",
    "    plt.xlabel('Cell types')\n",
    "    plt.savefig(bar_fig_filename)  \n",
    "    plt.show()"
   ]
  },
  {
   "cell_type": "code",
   "execution_count": null,
   "id": "cca1e62b-7cee-41d1-bbcd-13d6e4b99f28",
   "metadata": {},
   "outputs": [],
   "source": [
    "!date"
   ]
  }
 ],
 "metadata": {
  "kernelspec": {
   "display_name": "Python 3 (ipykernel)",
   "language": "python",
   "name": "python3"
  },
  "language_info": {
   "codemirror_mode": {
    "name": "ipython",
    "version": 3
   },
   "file_extension": ".py",
   "mimetype": "text/x-python",
   "name": "python",
   "nbconvert_exporter": "python",
   "pygments_lexer": "ipython3",
   "version": "3.10.13"
  }
 },
 "nbformat": 4,
 "nbformat_minor": 5
}
