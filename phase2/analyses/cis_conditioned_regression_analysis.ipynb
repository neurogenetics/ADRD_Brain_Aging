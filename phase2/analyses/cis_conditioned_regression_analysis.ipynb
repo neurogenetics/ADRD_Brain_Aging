{
 "cells": [
  {
   "cell_type": "markdown",
   "id": "59500cfc",
   "metadata": {
    "papermill": {
     "duration": 0.032376,
     "end_time": "2021-08-05T16:28:32.362666",
     "exception": false,
     "start_time": "2021-08-05T16:28:32.330290",
     "status": "completed"
    },
    "tags": []
   },
   "source": [
    "## Notebook to rerun age regression for the age associated GEX features conditioned *cis* correlated ATAC features that are also age associated\n",
    "\n",
    "only interest in gene's with a statistically significant age effect and the ATAC peaks that are <i>cis</i> proximal also with a statistically significant age affect"
   ]
  },
  {
   "cell_type": "code",
   "execution_count": null,
   "id": "1a247d17",
   "metadata": {
    "papermill": {
     "duration": 0.14727,
     "end_time": "2021-08-05T16:28:32.530364",
     "exception": false,
     "start_time": "2021-08-05T16:28:32.383094",
     "status": "completed"
    },
    "tags": []
   },
   "outputs": [],
   "source": [
    "!date"
   ]
  },
  {
   "cell_type": "markdown",
   "id": "84872cd5",
   "metadata": {
    "papermill": {
     "duration": 0.018671,
     "end_time": "2021-08-05T16:28:32.568179",
     "exception": false,
     "start_time": "2021-08-05T16:28:32.549508",
     "status": "completed"
    },
    "tags": []
   },
   "source": [
    "#### import libraries"
   ]
  },
  {
   "cell_type": "code",
   "execution_count": null,
   "id": "a41d4a18",
   "metadata": {
    "papermill": {
     "duration": 1.567685,
     "end_time": "2021-08-05T16:28:34.154502",
     "exception": false,
     "start_time": "2021-08-05T16:28:32.586817",
     "status": "completed"
    },
    "tags": []
   },
   "outputs": [],
   "source": [
    "from pandas import DataFrame as PandasDF, read_parquet, read_csv\n",
    "import statsmodels.api as sm\n",
    "import statsmodels.formula.api as smf\n",
    "from os.path import exists\n",
    "import numpy as np\n",
    "from multiprocessing import Process\n",
    "\n",
    "import warnings\n",
    "warnings.filterwarnings('ignore')"
   ]
  },
  {
   "cell_type": "markdown",
   "id": "7512cec9-abe6-41c7-9193-833f16aeaf36",
   "metadata": {},
   "source": [
    "#### set notebook variables"
   ]
  },
  {
   "cell_type": "code",
   "execution_count": null,
   "id": "8762e9d6",
   "metadata": {
    "papermill": {
     "duration": 0.02605,
     "end_time": "2021-08-05T16:28:34.199808",
     "exception": false,
     "start_time": "2021-08-05T16:28:34.173758",
     "status": "completed"
    },
    "tags": [
     "parameters"
    ]
   },
   "outputs": [],
   "source": [
    "# parameters\n",
    "endogenous = 'GEX'\n",
    "exogenous = 'ATAC'\n",
    "category = 'curated_type' # 'curated_type' for broad and 'cluster_name' for specific\n",
    "REGRESSION_TYPE = 'glm_tweedie'"
   ]
  },
  {
   "cell_type": "code",
   "execution_count": null,
   "id": "1adfba9d",
   "metadata": {
    "papermill": {
     "duration": 0.024125,
     "end_time": "2021-08-05T16:28:34.282618",
     "exception": false,
     "start_time": "2021-08-05T16:28:34.258493",
     "status": "completed"
    },
    "tags": []
   },
   "outputs": [],
   "source": [
    "# parameters\n",
    "project = 'aging_phase2'\n",
    "if category == 'curated_type':\n",
    "    prefix_type = 'broad'\n",
    "elif category == 'cluster_name':\n",
    "    prefix_type = 'specific' \n",
    "\n",
    "# directories\n",
    "wrk_dir = '/labshare/raph/datasets/adrd_neuro/brain_aging/phase2'\n",
    "results_dir = f'{wrk_dir}/results'\n",
    "quants_dir = f'{wrk_dir}/quants'\n",
    "info_dir = f'{wrk_dir}/sample_info'\n",
    "\n",
    "# in files\n",
    "endo_results_file = f'{results_dir}/{project}.{endogenous}.{prefix_type}.{REGRESSION_TYPE}_fdr_filtered.age.csv'\n",
    "exo_results_file = f'{results_dir}/{project}.{exogenous}.{prefix_type}.{REGRESSION_TYPE}_fdr_filtered.age.csv'\n",
    "cis_results_file = f'{results_dir}/{project}.{endogenous}-{exogenous}.{prefix_type}.{REGRESSION_TYPE}_fdr_filtered.cis.csv'\n",
    "info_file = f'{info_dir}/{project}.sample_info.csv'\n",
    "\n",
    "# out files\n",
    "\n",
    "# constants\n",
    "DEBUG = False\n",
    "covariate_terms = ['sex', 'ancestry', 'pmi', 'ph', 'smoker', 'bmi', 'gex_pool', 'atac_pool']\n",
    "covar_term_formula = ' + '.join(covariate_terms)\n",
    "if DEBUG:\n",
    "    print(covar_term_formula)\n",
    "TESTING = False\n",
    "TEST_FEATURE_SIZE = 25"
   ]
  },
  {
   "cell_type": "markdown",
   "id": "e6914530",
   "metadata": {
    "papermill": {
     "duration": 0.018042,
     "end_time": "2021-08-05T16:28:34.364680",
     "exception": false,
     "start_time": "2021-08-05T16:28:34.346638",
     "status": "completed"
    },
    "tags": []
   },
   "source": [
    "#### functions"
   ]
  },
  {
   "cell_type": "code",
   "execution_count": null,
   "id": "4b4c6c22",
   "metadata": {
    "papermill": {
     "duration": 0.024911,
     "end_time": "2021-08-05T16:28:34.407159",
     "exception": false,
     "start_time": "2021-08-05T16:28:34.382248",
     "status": "completed"
    },
    "tags": []
   },
   "outputs": [],
   "source": [
    "def load_quantification(cell_name: str, modality: str, verbose: bool=False) -> PandasDF:\n",
    "    this_file = f'{quants_dir}/{project}.{modality}.{prefix_type}.{cell_name}.pb.parquet'\n",
    "    if not exists(this_file):\n",
    "        return None\n",
    "    df = read_parquet(this_file)\n",
    "    if verbose:\n",
    "        print(f'shape of read {cell_name} quantifications {df.shape}')        \n",
    "        display(df.sample(5))\n",
    "    return df\n",
    "\n",
    "def glm_model(formula: str, df: PandasDF, model_type: str='rlm'):\n",
    "    if model_type == 'glm_tweedie':\n",
    "        model = smf.glm(formula=formula, data=df, \n",
    "                        family=sm.families.Tweedie(link=sm.families.links.log(), \n",
    "                                                   var_power=1.6, \n",
    "                                                   eql=True))\n",
    "    elif model_type == 'rlm':\n",
    "        model = smf.rlm(formula=formula, data=df)        \n",
    "    elif model_type == 'glm':\n",
    "        model = smf.glm(formula=formula, data=df)        \n",
    "    result = model.fit()\n",
    "    return result\n",
    "\n",
    "def conditioned_cis_regression(df: PandasDF, endo_term: str, exog_terms: list, verbose: bool=False) -> tuple:\n",
    "    model_terms = ['age', endo_term] + exog_terms + covariate_terms + ['cell_count_endo', 'cell_count_exog']\n",
    "    # for pairwise coniditioning there will only be one exogenous cis feature\n",
    "    if len(exog_terms) == 1:\n",
    "        conditioned_term = exog_terms[0]\n",
    "        this_formula = f'Q(\"{endo_term}\") ~ age + Q(\"{conditioned_term}\") + {covar_term_formula} + cell_count_endo + cell_count_exog'\n",
    "    else:\n",
    "        conditioned_term = 'multi'\n",
    "        quoted_exogs_formula = ''.join([f' + Q(\"{exog_term}\")' for exog_term in exog_terms])\n",
    "        this_formula = f'Q(\"{endo_term}\") ~ age{quoted_exogs_formula} + {covar_term_formula} + cell_count_endo + cell_count_exog'\n",
    "    try:\n",
    "        # run GLM via statsmodel\n",
    "        result = glm_model(this_formula, df[model_terms], model_type=REGRESSION_TYPE)\n",
    "        ret_exog_term = 'age'\n",
    "        ret_list = [endo_term, conditioned_term, result.params['Intercept'], \n",
    "                    result.params[ret_exog_term], result.bse[ret_exog_term], \n",
    "                    result.tvalues[ret_exog_term], result.pvalues[ret_exog_term]]\n",
    "        if verbose:\n",
    "            print(f'df shape {df.shape}')\n",
    "            print(result.summary())\n",
    "            print(['endo_feature', 'exog_feature', 'intercept', 'coef', 'stderr', 'z', 'p-value'])\n",
    "            print(ret_list)\n",
    "    except:\n",
    "#         print(f'Caught Error for {endo_term}')\n",
    "        ret_list = [endo_term, conditioned_term] + [np.nan] * 5\n",
    "    return ret_list\n",
    "\n",
    "def load_tissue_quants(tissue: str, endo_ids: set, exog_ids: set, \n",
    "                       verbose: bool=False) -> {PandasDF, PandasDF}: \n",
    "    endo_data = load_quantification(tissue, endogenous)\n",
    "    exog_data = load_quantification(tissue, exogenous)\n",
    "    if verbose:\n",
    "        print(f'shape of endogenous data {endo_data.shape}')\n",
    "        print(f'shape of exogenous data {exog_data.shape}')\n",
    "    # subset to only needed endo and exog features\n",
    "    endo_data = endo_data[list(set(endo_data.columns) & endo_ids) + ['cell_count']]\n",
    "    exog_data = exog_data[list(set(exog_data.columns) & exog_ids) + ['cell_count']]\n",
    "    if verbose:\n",
    "        print(f'shape of subset endogenous data {endo_data.shape}')\n",
    "        print(f'shape of subset exogenous data {exog_data.shape}')        \n",
    "        display(endo_data.sample(4))\n",
    "        display(exog_data.sample(4))\n",
    "    return endo_data, exog_data\n",
    "\n",
    "def merge_analysis_data(endo_data: PandasDF, exog_data: PandasDF, covars_df: PandasDF, \n",
    "                        endo_ids: set, exog_ids: set, verbose: bool=False) -> PandasDF:\n",
    "    # subset to only needed endo and exog features\n",
    "    endo_data = endo_data[list(set(endo_data.columns) & endo_ids) + ['cell_count']]\n",
    "    exog_data = exog_data[list(set(exog_data.columns) & exog_ids) + ['cell_count']]\n",
    "    tissue_data = (endo_data.merge(exog_data, how='inner', left_index=True, right_index=True, suffixes=('_endo', '_exog'))\n",
    "                   .merge(covars_df, how='inner', left_index=True, right_index=True))\n",
    "    if verbose:\n",
    "        print(f'shape of merged data is {tissue_data.shape}')        \n",
    "        display(tissue_data.sample(5))\n",
    "    return tissue_data\n",
    "\n",
    "def conditional_regressions(data: PandasDF, prev_results: PandasDF, verbose: bool=False) -> PandasDF:\n",
    "    # run pairwise conditioning \n",
    "    pair_results = [conditioned_cis_regression(data, row.endo_feature, [row.exog_feature]) \n",
    "                    for row in prev_results.itertuples()]    \n",
    "    # run multi feature conditioning\n",
    "    multi_pairs = prev_results.groupby('endo_feature').exog_feature.unique()\n",
    "    multi_results = [conditioned_cis_regression(data, feature, list(cis_features)) \n",
    "                     for feature, cis_features in multi_pairs.items() if len(cis_features) > 1]    \n",
    "    results_df = PandasDF(data=pair_results+multi_results, \n",
    "                          columns=['endo_feature', 'exog_feature', 'intercept', \n",
    "                                   'coef', 'stderr', 'z', 'p-value'])\n",
    "\n",
    "    if verbose:\n",
    "        print(f'shape of results {results_df.shape}')\n",
    "        display(results_df.head())\n",
    "    return results_df\n",
    "\n",
    "def analyze_tissue(tissue: str, prev_results: PandasDF, covars_df: PandasDF, \n",
    "                   verbose: bool=False):\n",
    "    endo_ids = set(prev_results.endo_feature)\n",
    "    exog_ids = set(prev_results.exog_feature)\n",
    "    # load quants data\n",
    "    endo_data, exog_data = load_tissue_quants(tissue, endo_ids, exog_ids, verbose)\n",
    "    # merge data source\n",
    "    tissue_data = merge_analysis_data(endo_data, exog_data, covars_df, endo_ids, exog_ids, verbose)\n",
    "    # run the regressions\n",
    "    results_df = conditional_regressions(tissue_data, prev_results, verbose)    \n",
    "    # save the results\n",
    "    this_out_file = f'{results_dir}/{project}.{endogenous}.{prefix_type}.{tissue}.{REGRESSION_TYPE}.conditioned.age.csv'\n",
    "    results_df.to_csv(this_out_file, index=False)"
   ]
  },
  {
   "cell_type": "markdown",
   "id": "a01af708-face-4b60-b519-7d1b0580fd0a",
   "metadata": {},
   "source": [
    "### load the GEX results to find which gene features to perform cis conditioning on"
   ]
  },
  {
   "cell_type": "code",
   "execution_count": null,
   "id": "d7abfa42-93a7-40f8-8ebf-199f8c7ed7ba",
   "metadata": {},
   "outputs": [],
   "source": [
    "endo_results_df = read_csv(endo_results_file)\n",
    "print(f'shape of GEX results {endo_results_df.shape}')\n",
    "if DEBUG:\n",
    "    display(endo_results_df.sample(5))"
   ]
  },
  {
   "cell_type": "markdown",
   "id": "7108be57-0b0f-40fa-b868-9cbdd8fd1f4b",
   "metadata": {},
   "source": [
    "#### how many genes per cell-type with a results will be considered"
   ]
  },
  {
   "cell_type": "code",
   "execution_count": null,
   "id": "df62e48d-6791-4535-9d07-b7b0f9ae0a96",
   "metadata": {},
   "outputs": [],
   "source": [
    "print(endo_results_df.feature.nunique())\n",
    "display(endo_results_df.tissue.value_counts())"
   ]
  },
  {
   "cell_type": "markdown",
   "id": "06e5745a-5aab-40fb-8b4f-7c661aa20352",
   "metadata": {},
   "source": [
    "### load the ATAC results"
   ]
  },
  {
   "cell_type": "code",
   "execution_count": null,
   "id": "da19abe7-36a2-44ef-b2e6-d082e8b4ffe8",
   "metadata": {},
   "outputs": [],
   "source": [
    "exo_results_df = read_csv(exo_results_file)\n",
    "print(f'shape of ATAC results {exo_results_df.shape}')\n",
    "if DEBUG:\n",
    "    display(exo_results_df.sample(5))"
   ]
  },
  {
   "cell_type": "markdown",
   "id": "cf753ee2-3982-4a65-8105-2453769fc128",
   "metadata": {},
   "source": [
    "#### how many peaks per cell-type"
   ]
  },
  {
   "cell_type": "code",
   "execution_count": null,
   "id": "a31c8a21-096f-4852-859c-5105ce55b86a",
   "metadata": {},
   "outputs": [],
   "source": [
    "print(exo_results_df.feature.nunique())\n",
    "display(exo_results_df.tissue.value_counts())"
   ]
  },
  {
   "cell_type": "markdown",
   "id": "3bc947b2-259d-4067-ab32-64e6f864083b",
   "metadata": {},
   "source": [
    "### load the cis proximal correlation results"
   ]
  },
  {
   "cell_type": "code",
   "execution_count": null,
   "id": "0612e129-4ee6-488e-9ada-18e616aefd45",
   "metadata": {},
   "outputs": [],
   "source": [
    "cis_results_df = read_csv(cis_results_file)\n",
    "print(f'shape of cis correlation results {cis_results_df.shape}')\n",
    "if DEBUG:\n",
    "    display(cis_results_df.sample(5))"
   ]
  },
  {
   "cell_type": "code",
   "execution_count": null,
   "id": "47bfbe13-6de5-4bbf-8eb3-01c9bc73bee8",
   "metadata": {},
   "outputs": [],
   "source": [
    "display(cis_results_df.tissue.value_counts())"
   ]
  },
  {
   "cell_type": "markdown",
   "id": "99cd9d96-1edf-422e-8b3d-d98ba60cd612",
   "metadata": {},
   "source": [
    "#### subset the cis proximal results to only those features that are age associated"
   ]
  },
  {
   "cell_type": "code",
   "execution_count": null,
   "id": "f799c13a-97f1-4d63-9e53-7aa2c26bca93",
   "metadata": {},
   "outputs": [],
   "source": [
    "cis_results_df = cis_results_df.loc[(cis_results_df.endo_feature.isin(endo_results_df.feature)) \n",
    "                                     & (cis_results_df.exog_feature.isin(exo_results_df.feature))]\n",
    "print(f'new shape of cis correlation results {cis_results_df.shape}')\n",
    "if DEBUG:\n",
    "    display(cis_results_df.sample(5))"
   ]
  },
  {
   "cell_type": "code",
   "execution_count": null,
   "id": "11ac23a6-98a2-4b7b-906b-64295dc8f39c",
   "metadata": {
    "scrolled": true
   },
   "outputs": [],
   "source": [
    "display(cis_results_df.tissue.value_counts())"
   ]
  },
  {
   "cell_type": "markdown",
   "id": "76b51a8d-be71-446d-a37e-95e04c4550f6",
   "metadata": {},
   "source": [
    "### format sample covariates\n",
    "sex, ancestry, age, (gex_pool or atac_pool), pmi, ph, smoker, bmi"
   ]
  },
  {
   "cell_type": "code",
   "execution_count": null,
   "id": "8f1dd4f8-abe5-4d63-8d5c-03c9ac06cd1f",
   "metadata": {},
   "outputs": [],
   "source": [
    "covars_df = read_csv(info_file, index_col=0)\n",
    "print(f'shape of covars_df {covars_df.shape}')\n",
    "if DEBUG:\n",
    "    display(covars_df.sample(5))"
   ]
  },
  {
   "cell_type": "code",
   "execution_count": null,
   "id": "a00113a9-98fc-4bff-a63c-f9982d0ba297",
   "metadata": {},
   "outputs": [],
   "source": [
    "keep_terms = ['sex', 'ancestry', 'age', 'gex_pool', 'atac_pool', \n",
    "              'pmi', 'ph', 'smoker', 'bmi']\n",
    "covars_df = covars_df[keep_terms]\n",
    "\n",
    "if DEBUG:\n",
    "    print(covars_df.shape)\n",
    "    display(covars_df.head())\n",
    "    display(covars_df.info())\n",
    "    display(covars_df.smoker.value_counts())\n",
    "    display(covars_df.bmi.describe())"
   ]
  },
  {
   "cell_type": "markdown",
   "id": "78f98ed1-8417-43f4-ab71-e295b245e253",
   "metadata": {},
   "source": [
    "#### fill any missing covariate terms\n",
    "looks like smoker and bmi is missing for one sample will set it to mean of those values"
   ]
  },
  {
   "cell_type": "code",
   "execution_count": null,
   "id": "cb64c8f0-5705-441d-9321-985739e262d0",
   "metadata": {},
   "outputs": [],
   "source": [
    "# fill the non-pool sample values\n",
    "covars_df.gex_pool = covars_df.gex_pool.fillna('non')\n",
    "covars_df.atac_pool = covars_df.atac_pool.fillna('non')\n",
    "covars_df.gex_pool = covars_df.gex_pool.astype('str')\n",
    "covars_df.atac_pool = covars_df.atac_pool.astype('str')\n",
    "\n",
    "# fill the missing smoker and bmi value\n",
    "covars_df.loc[covars_df.smoker.isna(), 'smoker'] = covars_df.smoker.mean().round(1)\n",
    "covars_df.loc[covars_df.bmi.isna(), 'bmi'] = covars_df.bmi.mean().round(1)\n",
    "\n",
    "if DEBUG:\n",
    "    print(covars_df.shape)\n",
    "    display(covars_df.info())\n",
    "    display(covars_df.smoker.value_counts())\n",
    "    display(covars_df.bmi.describe())"
   ]
  },
  {
   "cell_type": "markdown",
   "id": "44144cf0-7617-490a-9c72-682b10b4a8c9",
   "metadata": {},
   "source": [
    "### conditioned regression for the endo-exo age associated pairs per tissue"
   ]
  },
  {
   "cell_type": "code",
   "execution_count": null,
   "id": "e5f8319c-8428-4b01-88fc-758526402e83",
   "metadata": {},
   "outputs": [],
   "source": [
    "%%time\n",
    "cmds = {}\n",
    "for tissue in cis_results_df.tissue.unique():\n",
    "    print(tissue)\n",
    "    endo_tissue_results = endo_results_df.loc[endo_results_df.tissue == tissue]\n",
    "    exo_tissue_results = exo_results_df.loc[exo_results_df.tissue == tissue]\n",
    "    cis_tissue_results = cis_results_df.loc[(cis_results_df.tissue == tissue) & \n",
    "                                            (cis_results_df.endo_feature.isin(endo_tissue_results.feature)) &\n",
    "                                            (cis_results_df.exog_feature.isin(exo_tissue_results.feature))]    \n",
    "    if TESTING and cis_tissue_results.shape[0] > TEST_FEATURE_SIZE:\n",
    "        endo_test_features = cis_tissue_results.endo_feature.sample(TEST_FEATURE_SIZE)\n",
    "        cis_tissue_results = cis_tissue_results.loc[cis_tissue_results.endo_feature.isin(endo_test_features)]\n",
    "    print((f'endo features {len(set(endo_tissue_results.feature))}, '\n",
    "           f'exog features {len(set(exo_tissue_results.feature))}, '\n",
    "           f'pairs shape {cis_tissue_results.shape}'))\n",
    "    p = Process(target=analyze_tissue,args=(tissue, cis_tissue_results, covars_df))\n",
    "    p.start()\n",
    "    # Append process and key to keep track\n",
    "    cmds[tissue] = p    \n",
    "# Wait for all processes to finish\n",
    "for key, p in cmds.items():\n",
    "    p.join()"
   ]
  },
  {
   "cell_type": "code",
   "execution_count": null,
   "id": "bc4864cf",
   "metadata": {
    "papermill": {
     "duration": 0.041359,
     "end_time": "2021-08-05T17:18:56.780052",
     "exception": false,
     "start_time": "2021-08-05T17:18:56.738693",
     "status": "completed"
    },
    "tags": []
   },
   "outputs": [],
   "source": [
    "!date"
   ]
  }
 ],
 "metadata": {
  "environment": {
   "kernel": "python3",
   "name": "pytorch-gpu.1-11.m94",
   "type": "gcloud",
   "uri": "gcr.io/deeplearning-platform-release/pytorch-gpu.1-11:m94"
  },
  "kernelspec": {
   "display_name": "Python 3 (ipykernel)",
   "language": "python",
   "name": "python3"
  },
  "language_info": {
   "codemirror_mode": {
    "name": "ipython",
    "version": 3
   },
   "file_extension": ".py",
   "mimetype": "text/x-python",
   "name": "python",
   "nbconvert_exporter": "python",
   "pygments_lexer": "ipython3",
   "version": "3.10.13"
  },
  "papermill": {
   "default_parameters": {},
   "duration": 3028.877272,
   "end_time": "2021-08-05T17:18:59.528209",
   "environment_variables": {},
   "exception": null,
   "input_path": "/home/jupyter/notebooks/cell_cis_qtl_tensorqtl.ipynb",
   "output_path": "/home/jupyter/notebooks/foundin.da65.DA.cis_qtl.ipynb",
   "parameters": {
    "cell_type": "DA",
    "cohort": "foundin",
    "day": "da65",
    "quant_type": "scrn",
    "version": "amppdv1"
   },
   "start_time": "2021-08-05T16:28:30.650937",
   "version": "2.3.3"
  },
  "toc-autonumbering": false,
  "toc-showcode": false,
  "toc-showmarkdowntxt": false,
  "widgets": {
   "application/vnd.jupyter.widget-state+json": {
    "state": {},
    "version_major": 2,
    "version_minor": 0
   }
  }
 },
 "nbformat": 4,
 "nbformat_minor": 5
}
