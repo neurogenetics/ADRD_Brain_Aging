{
 "cells": [
  {
   "cell_type": "markdown",
   "id": "59500cfc",
   "metadata": {
    "papermill": {
     "duration": 0.032376,
     "end_time": "2021-08-05T16:28:32.362666",
     "exception": false,
     "start_time": "2021-08-05T16:28:32.330290",
     "status": "completed"
    },
    "tags": []
   },
   "source": [
    "## Notebook to run *cis* correlation analysis between gene expression and ATAC peaks\n",
    "\n",
    "only interest in gene's with a statistically significant age effect and the ATAC peaks that are <i>cis</i> proximal"
   ]
  },
  {
   "cell_type": "code",
   "execution_count": null,
   "id": "1a247d17",
   "metadata": {
    "papermill": {
     "duration": 0.14727,
     "end_time": "2021-08-05T16:28:32.530364",
     "exception": false,
     "start_time": "2021-08-05T16:28:32.383094",
     "status": "completed"
    },
    "tags": []
   },
   "outputs": [],
   "source": [
    "!date"
   ]
  },
  {
   "cell_type": "markdown",
   "id": "84872cd5",
   "metadata": {
    "papermill": {
     "duration": 0.018671,
     "end_time": "2021-08-05T16:28:32.568179",
     "exception": false,
     "start_time": "2021-08-05T16:28:32.549508",
     "status": "completed"
    },
    "tags": []
   },
   "source": [
    "#### import libraries"
   ]
  },
  {
   "cell_type": "code",
   "execution_count": null,
   "id": "a41d4a18",
   "metadata": {
    "papermill": {
     "duration": 1.567685,
     "end_time": "2021-08-05T16:28:34.154502",
     "exception": false,
     "start_time": "2021-08-05T16:28:32.586817",
     "status": "completed"
    },
    "tags": []
   },
   "outputs": [],
   "source": [
    "from scanpy import read_h5ad\n",
    "from pandas import DataFrame as PandasDF, read_parquet, read_csv, concat\n",
    "import statsmodels.api as sm\n",
    "import statsmodels.formula.api as smf\n",
    "from statsmodels.stats.multitest import multipletests\n",
    "from os.path import exists\n",
    "import numpy as np\n",
    "from seaborn import barplot, lmplot, scatterplot\n",
    "from matplotlib.pyplot import rc_context\n",
    "import matplotlib.pyplot as plt\n",
    "\n",
    "import warnings\n",
    "warnings.filterwarnings('ignore')"
   ]
  },
  {
   "cell_type": "markdown",
   "id": "7512cec9-abe6-41c7-9193-833f16aeaf36",
   "metadata": {},
   "source": [
    "#### set notebook variables"
   ]
  },
  {
   "cell_type": "code",
   "execution_count": null,
   "id": "8762e9d6",
   "metadata": {
    "papermill": {
     "duration": 0.02605,
     "end_time": "2021-08-05T16:28:34.199808",
     "exception": false,
     "start_time": "2021-08-05T16:28:34.173758",
     "status": "completed"
    },
    "tags": [
     "parameters"
    ]
   },
   "outputs": [],
   "source": [
    "# parameters\n",
    "endogenous = 'GEX'\n",
    "exogenous = 'ATAC'\n",
    "category = 'curated_type' # 'curated_type' for broad and 'cluster_name' for specific\n",
    "REGRESSION_TYPE = 'glm_tweedie'"
   ]
  },
  {
   "cell_type": "code",
   "execution_count": null,
   "id": "1adfba9d",
   "metadata": {
    "papermill": {
     "duration": 0.024125,
     "end_time": "2021-08-05T16:28:34.282618",
     "exception": false,
     "start_time": "2021-08-05T16:28:34.258493",
     "status": "completed"
    },
    "tags": []
   },
   "outputs": [],
   "source": [
    "# parameters\n",
    "project = 'aging_phase2'\n",
    "if category == 'curated_type':\n",
    "    prefix_type = 'broad'\n",
    "elif category == 'cluster_name':\n",
    "    prefix_type = 'specific' \n",
    "\n",
    "# directories\n",
    "wrk_dir = '/labshare/raph/datasets/adrd_neuro/brain_aging/phase2'\n",
    "results_dir = f'{wrk_dir}/results'\n",
    "quants_dir = f'{wrk_dir}/quants'\n",
    "figures_dir = f'{wrk_dir}/figures'\n",
    "\n",
    "# in files\n",
    "endo_results_file = f'{results_dir}/{project}.{endogenous}.{prefix_type}.{REGRESSION_TYPE}_fdr_filtered.age.csv'\n",
    "exo_results_file = f'{results_dir}/{project}.{exogenous}.{prefix_type}.{REGRESSION_TYPE}_fdr_filtered.age.csv'\n",
    "anndata_file = f'{quants_dir}/{project}.multivi.curated_final.h5ad'\n",
    "\n",
    "# out files\n",
    "results_file = f'{results_dir}/{project}.{endogenous}-{exogenous}.{prefix_type}.{REGRESSION_TYPE}.cis.parquet'\n",
    "results_fdr_file = f'{results_dir}/{project}.{endogenous}-{exogenous}.{prefix_type}.{REGRESSION_TYPE}_fdr.cis.csv'\n",
    "\n",
    "# constants\n",
    "DEBUG = True\n",
    "MAX_DIST = 1_000_000\n",
    "ALPHA = 0.05\n",
    "covariate_terms = ['sex', 'ancestry', 'pmi', 'ph', 'smoker', 'bmi', 'gex_pool', 'atac_pool']\n",
    "covar_term_formula = ' + '.join(covariate_terms)\n",
    "if DEBUG:\n",
    "    print(covar_term_formula)\n",
    "    print(results_file)\n",
    "    print(results_fdr_file)"
   ]
  },
  {
   "cell_type": "markdown",
   "id": "e6914530",
   "metadata": {
    "papermill": {
     "duration": 0.018042,
     "end_time": "2021-08-05T16:28:34.364680",
     "exception": false,
     "start_time": "2021-08-05T16:28:34.346638",
     "status": "completed"
    },
    "tags": []
   },
   "source": [
    "#### functions"
   ]
  },
  {
   "cell_type": "code",
   "execution_count": null,
   "id": "4b4c6c22",
   "metadata": {
    "papermill": {
     "duration": 0.024911,
     "end_time": "2021-08-05T16:28:34.407159",
     "exception": false,
     "start_time": "2021-08-05T16:28:34.382248",
     "status": "completed"
    },
    "tags": []
   },
   "outputs": [],
   "source": [
    "def load_quantification(cell_name: str, modality: str, verbose: bool=False) -> PandasDF:\n",
    "    this_file = f'{quants_dir}/{project}.{modality}.{prefix_type}.{cell_name}.pb.parquet'\n",
    "    if not exists(this_file):\n",
    "        return None\n",
    "    df = read_parquet(this_file)\n",
    "    if verbose:\n",
    "        print(f'shape of read {cell_name} quantifications {df.shape}')        \n",
    "        display(df.sample(5))\n",
    "    return df\n",
    "\n",
    "def glm_model(formula: str, df: PandasDF, model_type: str='rlm'):\n",
    "    if model_type == 'glm_tweedie':\n",
    "        model = smf.glm(formula=formula, data=df, \n",
    "                        family=sm.families.Tweedie(link=sm.families.links.log(), \n",
    "                                                   var_power=1.6, \n",
    "                                                   eql=True))\n",
    "    elif model_type == 'rlm':\n",
    "        model = smf.rlm(formula=formula, data=df)        \n",
    "    elif model_type == 'glm':\n",
    "        model = smf.glm(formula=formula, data=df)        \n",
    "    result = model.fit()\n",
    "    return result\n",
    "\n",
    "def cis_correlation(df: PandasDF, endo_term: str, exog_term: str, verbose: bool=False) -> tuple:\n",
    "    model_terms = [endo_term, exog_term] + covariate_terms + ['cell_count_endo', 'cell_count_exog']\n",
    "    this_formula = f'Q(\"{endo_term}\") ~ Q(\"{exog_term}\") + {covar_term_formula} + cell_count_endo + cell_count_exog'\n",
    "    try:\n",
    "        # run GLM via statsmodel\n",
    "        result = glm_model(this_formula, df[model_terms], model_type=REGRESSION_TYPE)\n",
    "        ret_exog_term = f'Q(\"{exog_term}\")'\n",
    "        ret_list = [endo_term, exog_term, result.params['Intercept'], \n",
    "                    result.params[ret_exog_term], result.bse[ret_exog_term], \n",
    "                    result.tvalues[ret_exog_term], result.pvalues[ret_exog_term]]\n",
    "        if verbose:\n",
    "            print(f'df shape {df.shape}')\n",
    "            print(result.summary())\n",
    "            print(['endo_feature', 'exog_feature', 'intercept', 'coef', 'stderr', 'z', 'p-value'])\n",
    "            print(ret_list)\n",
    "    except:\n",
    "#         print(f'Caught Error for {endo_term}')\n",
    "        ret_list = [endo_term, exog_term] + [np.nan] * 5\n",
    "  \n",
    "    return ret_list\n",
    "\n",
    "\n",
    "def compute_bh_fdr(df: PandasDF, alpha: float=0.05, p_col: str='p-value',\n",
    "                   method: str='fdr_bh', verbose: bool=True) -> PandasDF:\n",
    "    ret_df = df.copy()\n",
    "    test_adjust = multipletests(np.array(ret_df[p_col]), alpha=alpha, \n",
    "                                method=method)\n",
    "    ret_df[method] = test_adjust[1]\n",
    "    if verbose:\n",
    "        print(f'total significant after correction: {ret_df.loc[ret_df[method] < alpha].shape}')\n",
    "    return ret_df\n",
    "\n",
    "def load_tissue_quants(tissue: str, endo_ids: set, exog_ids: set, \n",
    "                       verbose: bool=False) -> {PandasDF, PandasDF}: \n",
    "    endo_data = load_quantification(tissue, endogenous)\n",
    "    exog_data = load_quantification(tissue, exogenous)\n",
    "    if verbose:\n",
    "        print(f'shape of endogenous data {endo_data.shape}')\n",
    "        print(f'shape of exogenous data {exog_data.shape}')\n",
    "    # subset to only needed endo and exog features\n",
    "    endo_data = endo_data[list(set(endo_data.columns) & endo_ids) + ['cell_count']]\n",
    "    exog_data = exog_data[list(set(exog_data.columns) & exog_ids) + ['cell_count']]\n",
    "    if verbose:\n",
    "        print(f'shape of subset endogenous data {endo_data.shape}')\n",
    "        print(f'shape of subset exogenous data {exog_data.shape}')        \n",
    "        display(endo_data.sample(4))\n",
    "        display(exog_data.sample(4))\n",
    "    return endo_data, exog_data\n",
    "\n",
    "def merge_analysis_data(endo_data: PandasDF, exog_data: PandasDF, covars_df: PandasDF, \n",
    "                        endo_ids: set, exog_ids: set, verbose: bool=False) -> PandasDF:\n",
    "    # subset to only needed endo and exog features\n",
    "    endo_data = endo_data[list(set(endo_data.columns) & endo_ids) + ['cell_count']]\n",
    "    exog_data = exog_data[list(set(exog_data.columns) & exog_ids) + ['cell_count']]\n",
    "    tissue_data = (endo_data.merge(exog_data, how='inner', left_index=True, right_index=True, suffixes=('_endo', '_exog'))\n",
    "                   .merge(covars_df, how='inner', left_index=True, right_index=True))\n",
    "    if verbose:\n",
    "        print(f'shape of merged data is {tissue_data.shape}')        \n",
    "        display(tissue_data.sample(5))\n",
    "    return tissue_data\n",
    "\n",
    "def show_pair(tissue: str, covars_df: PandasDF, endo_id: str, exog_id: str,\n",
    "              verbose: bool=True):\n",
    "    # this weird set from single ID is just so I can re-use same functions\n",
    "    endo_ids = set([endo_id])\n",
    "    exo_ids = set([exog_id])    \n",
    "    # load quants data\n",
    "    endo_data, exog_data = load_tissue_quants(tissue, endo_ids, exo_ids, verbose)\n",
    "    # merge data source\n",
    "    tissue_data = merge_analysis_data(endo_data, exog_data, covars_df, endo_ids, exo_ids, verbose)\n",
    "    # run the regressions\n",
    "    cis_correlation(tissue_data, endo_id, exog_id, verbose)\n",
    "    # plot the pair\n",
    "    with rc_context({'figure.figsize': (9, 9), 'figure.dpi': 50}):\n",
    "        plt.style.use('seaborn-v0_8-talk')\n",
    "        lmplot(x=exog_id,y=endo_id, data=tissue_data, palette='Purples')\n",
    "        plt.title(f'{endo_id} ~ {exog_id}', fontsize='large') \n",
    "        plt.xlabel(exog_id)\n",
    "        plt.ylabel(endo_id)        \n",
    "        plt.show()\n",
    "\n",
    "def volcano_plot(df: PandasDF, x_term: str='coef', y_term: str='p-value', \n",
    "                 alpha: float=0.05, adj_p_col: str='fdr_bh', title: str=None, \n",
    "                 filter_nseeff: bool=True, extreme_size: float=10.0):\n",
    "    df = df.copy()\n",
    "    df = df.reset_index(drop=True)    \n",
    "    if filter_nseeff:\n",
    "        df = df.loc[((-extreme_size < df[x_term]) & \n",
    "                    (df[x_term] < extreme_size) &\n",
    "                    (~df['z'].isna()) | \n",
    "                    (df[adj_p_col] < alpha))]\n",
    "    plt.figure(figsize=(9,9))\n",
    "    log_pvalue = -np.log10(df[y_term])\n",
    "    is_sig = df[adj_p_col] < alpha\n",
    "    with rc_context({'figure.figsize': (8, 8), 'figure.dpi': 50}):\n",
    "        plt.style.use('seaborn-v0_8-talk')    \n",
    "        scatterplot(x=x_term, y=log_pvalue, data=df, hue=is_sig, palette='Purples')\n",
    "        plt.title(title)\n",
    "        plt.xlabel('effect')\n",
    "        plt.ylabel('-log10(p-value)')\n",
    "        fig_file = f'{figures_dir}/{project}.{endogenous}-{exogenous}.{prefix_type}.{REGRESSION_TYPE}_volcano.{title}.png'\n",
    "        plt.savefig(fig_file)\n",
    "        plt.show()"
   ]
  },
  {
   "cell_type": "markdown",
   "id": "a01af708-face-4b60-b519-7d1b0580fd0a",
   "metadata": {},
   "source": [
    "### load the GEX results to find which genes in what 'cell-types' should be interegated"
   ]
  },
  {
   "cell_type": "code",
   "execution_count": null,
   "id": "d7abfa42-93a7-40f8-8ebf-199f8c7ed7ba",
   "metadata": {},
   "outputs": [],
   "source": [
    "endo_results_df = read_csv(endo_results_file)\n",
    "print(f'shape of GEX results {endo_results_df.shape}')\n",
    "if DEBUG:\n",
    "    display(endo_results_df.sample(5))"
   ]
  },
  {
   "cell_type": "markdown",
   "id": "7108be57-0b0f-40fa-b868-9cbdd8fd1f4b",
   "metadata": {},
   "source": [
    "#### how many genes per cell-type with a results will be considered"
   ]
  },
  {
   "cell_type": "code",
   "execution_count": null,
   "id": "df62e48d-6791-4535-9d07-b7b0f9ae0a96",
   "metadata": {},
   "outputs": [],
   "source": [
    "print(endo_results_df.feature.nunique())\n",
    "display(endo_results_df.tissue.value_counts())"
   ]
  },
  {
   "cell_type": "markdown",
   "id": "4bb0b73c-d8cd-4b79-a00c-160f18aae31b",
   "metadata": {},
   "source": [
    "### load the GEX ~ ATAC results and combine"
   ]
  },
  {
   "cell_type": "code",
   "execution_count": null,
   "id": "5f58a957-3a06-4055-a7a6-3dbc2ccafbef",
   "metadata": {},
   "outputs": [],
   "source": [
    "%%time\n",
    "\n",
    "cis_results = None\n",
    "print(f'### {prefix_type}')    \n",
    "for cell_type in endo_results_df.tissue.unique():\n",
    "    print(f'--- {cell_type}')\n",
    "    in_file = f'{results_dir}/{project}.{endogenous}-{exogenous}.{prefix_type}.{cell_type}.{REGRESSION_TYPE}.cis.csv'\n",
    "    if exists(in_file):\n",
    "        this_result = read_csv(in_file)\n",
    "        this_result['type'] = prefix_type\n",
    "        this_result['tissue'] = cell_type\n",
    "        cis_results = concat([cis_results, this_result])"
   ]
  },
  {
   "cell_type": "code",
   "execution_count": null,
   "id": "1fc7f915-b6a7-4997-9964-47a2f9deb2e6",
   "metadata": {},
   "outputs": [],
   "source": [
    "print(f'shape of all load results {cis_results.shape}')\n",
    "if DEBUG:\n",
    "    display(cis_results.type.value_counts())\n",
    "    display(cis_results.groupby('type').tissue.value_counts())    \n",
    "    display(cis_results.sample(5))"
   ]
  },
  {
   "cell_type": "markdown",
   "id": "c37d72b7-9c42-4d97-9e2b-874ce44f8aa5",
   "metadata": {},
   "source": [
    "#### compute the FDR values"
   ]
  },
  {
   "cell_type": "code",
   "execution_count": null,
   "id": "e919cd23-25bf-488f-8ea9-650760f41e40",
   "metadata": {},
   "outputs": [],
   "source": [
    "cis_results['p-value'] = cis_results['p-value'].fillna(1)\n",
    "cis_results = compute_bh_fdr(cis_results)\n",
    "print(cis_results.shape)\n",
    "if DEBUG:\n",
    "    display(cis_results.sort_values('fdr_bh').head())"
   ]
  },
  {
   "cell_type": "markdown",
   "id": "5ee9b6e2-5ded-4da6-8a73-9123126bd95d",
   "metadata": {},
   "source": [
    "### save the combined results"
   ]
  },
  {
   "cell_type": "code",
   "execution_count": null,
   "id": "1588c1d6-c426-4d58-8f47-1f2b2e666741",
   "metadata": {},
   "outputs": [],
   "source": [
    "%%time\n",
    "cis_results.to_parquet(results_file, index=False)\n",
    "cis_results.loc[cis_results.fdr_bh <= ALPHA].to_csv(results_fdr_file, index=False)"
   ]
  },
  {
   "cell_type": "markdown",
   "id": "d0d2bcd9-a849-4fa3-9876-b2f2fe785484",
   "metadata": {},
   "source": [
    "### count of significant GEX~ATAC pairs by broad curated cell-type"
   ]
  },
  {
   "cell_type": "code",
   "execution_count": null,
   "id": "183626fb-4b67-4edc-be40-676233c34a64",
   "metadata": {},
   "outputs": [],
   "source": [
    "print(cis_results.loc[cis_results.fdr_bh <= ALPHA]['tissue'].nunique())\n",
    "display(cis_results.loc[cis_results.fdr_bh <= ALPHA].groupby('type').tissue.value_counts())"
   ]
  },
  {
   "cell_type": "code",
   "execution_count": null,
   "id": "7d05b31a-15d7-447c-b33a-3e89040c4ce7",
   "metadata": {},
   "outputs": [],
   "source": [
    "display(cis_results.loc[cis_results.fdr_bh <= ALPHA].groupby('tissue').endo_feature.value_counts().nlargest(10))\n",
    "display(cis_results.loc[cis_results.fdr_bh <= ALPHA].groupby('tissue').exog_feature.value_counts().nlargest(10))"
   ]
  },
  {
   "cell_type": "code",
   "execution_count": null,
   "id": "cd215341-9eb0-48fb-96e8-906467c532fc",
   "metadata": {},
   "outputs": [],
   "source": [
    "display(cis_results.loc[cis_results.fdr_bh <= ALPHA].groupby(['endo_feature', 'exog_feature']).tissue.value_counts().nlargest(10))"
   ]
  },
  {
   "cell_type": "code",
   "execution_count": null,
   "id": "150d5a5e-a66b-4c7e-aa41-2eb80bc3b43c",
   "metadata": {},
   "outputs": [],
   "source": [
    "display(cis_results.loc[cis_results.fdr_bh <= ALPHA].groupby(['endo_feature']).exog_feature.value_counts().nlargest(5))"
   ]
  },
  {
   "cell_type": "code",
   "execution_count": null,
   "id": "985f2c7d-daf6-469c-9e7d-95f4371ffa0c",
   "metadata": {},
   "outputs": [],
   "source": [
    "cis_results.loc[(cis_results.fdr_bh <= ALPHA) & (cis_results.endo_feature == 'YBX3')].tissue.value_counts()"
   ]
  },
  {
   "cell_type": "markdown",
   "id": "b5c7371e-c872-4e77-a580-efd19d5a902e",
   "metadata": {},
   "source": [
    "### volcano plots"
   ]
  },
  {
   "cell_type": "code",
   "execution_count": null,
   "id": "a18aed02-17ce-4af5-913b-49342ab3ecf7",
   "metadata": {},
   "outputs": [],
   "source": [
    "print(f'### {prefix_type}')    \n",
    "for cell_type in endo_results_df.tissue.unique():\n",
    "    print(f'--- {cell_type}')\n",
    "    specific_results = cis_results.loc[cis_results.tissue == cell_type]\n",
    "    if specific_results.shape[0] > 0:\n",
    "        volcano_plot(specific_results, title=cell_type)\n",
    "    else:\n",
    "        print('no results to plot')"
   ]
  },
  {
   "cell_type": "markdown",
   "id": "1e964a36-029c-4f68-ba4d-7da9b0ac16dc",
   "metadata": {},
   "source": [
    "### per tissue what percentage of the age associated GEX features have cis correlated ATAC"
   ]
  },
  {
   "cell_type": "code",
   "execution_count": null,
   "id": "3b5f1520-0ab6-4cfe-8a20-986295d81fbb",
   "metadata": {},
   "outputs": [],
   "source": [
    "gex_proportions = {}\n",
    "sig_results = cis_results.loc[cis_results.fdr_bh <= ALPHA]\n",
    "for cell_type in endo_results_df.tissue.unique():\n",
    "    tissue_age_results = endo_results_df.loc[endo_results_df.tissue == cell_type]\n",
    "    tissue_cis_results = (sig_results.loc[(sig_results.tissue == cell_type) \n",
    "                          & (sig_results.endo_feature.isin(tissue_age_results.feature))])\n",
    "    proportion = round((tissue_cis_results.endo_feature.nunique()/tissue_age_results.feature.nunique()) * 100, 1)\n",
    "    print(cell_type, proportion)\n",
    "    gex_proportions[cell_type] = proportion\n",
    "gex_prop_df = PandasDF(data=list(gex_proportions.items()), columns=['tissue', 'percentage'])\n",
    "if DEBUG:\n",
    "    display(gex_prop_df)    "
   ]
  },
  {
   "cell_type": "markdown",
   "id": "06e5745a-5aab-40fb-8b4f-7c661aa20352",
   "metadata": {},
   "source": [
    "### load the ATAC results"
   ]
  },
  {
   "cell_type": "code",
   "execution_count": null,
   "id": "da19abe7-36a2-44ef-b2e6-d082e8b4ffe8",
   "metadata": {},
   "outputs": [],
   "source": [
    "exo_results_df = read_csv(exo_results_file)\n",
    "print(f'shape of ATAC results {exo_results_df.shape}')\n",
    "if DEBUG:\n",
    "    display(exo_results_df.sample(5))"
   ]
  },
  {
   "cell_type": "markdown",
   "id": "cf753ee2-3982-4a65-8105-2453769fc128",
   "metadata": {},
   "source": [
    "#### how many peaks per cell-type"
   ]
  },
  {
   "cell_type": "code",
   "execution_count": null,
   "id": "a31c8a21-096f-4852-859c-5105ce55b86a",
   "metadata": {},
   "outputs": [],
   "source": [
    "print(exo_results_df.feature.nunique())\n",
    "display(exo_results_df.tissue.value_counts())"
   ]
  },
  {
   "cell_type": "markdown",
   "id": "c2b22158-2c4a-4ba2-a459-e1f03b404b89",
   "metadata": {},
   "source": [
    "### per tissue what percentage of the age associated GEX features have cis correlated age associated ATAC feature"
   ]
  },
  {
   "cell_type": "code",
   "execution_count": null,
   "id": "e373e507-ebbe-421b-88d6-352cb8a837c3",
   "metadata": {},
   "outputs": [],
   "source": [
    "gex_age_atac_proportions = {}\n",
    "sig_results = cis_results.loc[cis_results.fdr_bh <= ALPHA]\n",
    "for cell_type in endo_results_df.tissue.unique():\n",
    "    tissue_gex_age_results = endo_results_df.loc[endo_results_df.tissue == cell_type]\n",
    "    tissue_atac_age_results = exo_results_df.loc[exo_results_df.tissue == cell_type]    \n",
    "    tissue_cis_results = (sig_results.loc[(sig_results.tissue == cell_type) \n",
    "                          & (sig_results.exog_feature.isin(tissue_atac_age_results.feature)) \n",
    "                          & (sig_results.endo_feature.isin(tissue_gex_age_results.feature))])\n",
    "    if tissue_cis_results.endo_feature.nunique() > 0:\n",
    "        proportion = round((tissue_cis_results.endo_feature.nunique()/tissue_gex_age_results.feature.nunique()) * 100, 1)\n",
    "    else:\n",
    "        proportion = 0.0\n",
    "    print(cell_type, proportion)\n",
    "    gex_age_atac_proportions[cell_type] = proportion\n",
    "gex_atac_prop_df = PandasDF(data=list(gex_age_atac_proportions.items()), columns=['tissue', 'percentage'])\n",
    "if DEBUG:\n",
    "    display(gex_atac_prop_df)"
   ]
  },
  {
   "cell_type": "markdown",
   "id": "64e68f7d-8550-4cf6-9369-d89c231c130f",
   "metadata": {},
   "source": [
    "### combined barplot of percentage of age associated genes with cis correlated ATAC peak(s)"
   ]
  },
  {
   "cell_type": "code",
   "execution_count": null,
   "id": "1e7897d7-11e3-40d8-ab6d-579dd32e2439",
   "metadata": {},
   "outputs": [],
   "source": [
    "gex_prop_df['condition'] = 'All cis correlated peaks'\n",
    "gex_atac_prop_df['condition'] = 'Age associated cis correlated peaks'\n",
    "prop_df = concat([gex_prop_df, gex_atac_prop_df])\n",
    "\n",
    "with rc_context({'figure.figsize': (9, 9), 'figure.dpi': 100}):\n",
    "    plt.style.use('seaborn-v0_8-talk')\n",
    "    barplot(data=prop_df.sort_values('percentage', ascending=False), \n",
    "            x='tissue', y='percentage', hue='condition', palette='Purples')\n",
    "    plt.title('Percentage of age associated genes with correlated cis ATAC peak(s)')\n",
    "    plt.xlabel('cell type')\n",
    "    plt.ylabel('% of age associated genes')\n",
    "\n",
    "if DEBUG:\n",
    "    display(prop_df)"
   ]
  },
  {
   "cell_type": "markdown",
   "id": "5e14f03e-8fd9-4ffb-b526-f08412b8a3b2",
   "metadata": {},
   "source": [
    "### take a look at some specific results\n",
    "\n",
    "need to reload the data to do so"
   ]
  },
  {
   "cell_type": "markdown",
   "id": "9499929c-3868-4255-bd2a-3cde3432de21",
   "metadata": {},
   "source": [
    "#### load the anndata file\n",
    "easy and combine place to get genomic location of possible features; from the var"
   ]
  },
  {
   "cell_type": "code",
   "execution_count": null,
   "id": "214e5188-9026-4f4c-ae13-10478d6296a1",
   "metadata": {},
   "outputs": [],
   "source": [
    "adata = read_h5ad(anndata_file)\n",
    "print(adata)\n",
    "if DEBUG:\n",
    "    display(adata.var.loc[adata.var.modality == 'Gene Expression'].sample(4))\n",
    "    display(adata.var.loc[adata.var.modality == 'Peaks'].sample(4))"
   ]
  },
  {
   "cell_type": "markdown",
   "id": "76b51a8d-be71-446d-a37e-95e04c4550f6",
   "metadata": {},
   "source": [
    "#### format sample covariates\n",
    "sex, ancestry, age, (gex_pool or atac_pool), pmi, ph, smoker, bmi"
   ]
  },
  {
   "cell_type": "code",
   "execution_count": null,
   "id": "a00113a9-98fc-4bff-a63c-f9982d0ba297",
   "metadata": {},
   "outputs": [],
   "source": [
    "keep_terms = ['sample_id','sex', 'ancestry', 'age', 'gex_pool', 'atac_pool', \n",
    "              'pmi', 'ph', 'smoker', 'bmi']\n",
    "covars_df = adata.obs[keep_terms].drop_duplicates().reset_index(drop=True)\n",
    "covars_df = covars_df.set_index('sample_id')\n",
    "\n",
    "if DEBUG:\n",
    "    print(covars_df.shape)\n",
    "    display(covars_df.head())\n",
    "    display(covars_df.info())\n",
    "    display(covars_df.smoker.value_counts())\n",
    "    display(covars_df.bmi.describe())"
   ]
  },
  {
   "cell_type": "markdown",
   "id": "78f98ed1-8417-43f4-ab71-e295b245e253",
   "metadata": {},
   "source": [
    "##### fill any missing covariate terms\n",
    "looks like smoker and bmi is missing for one sample will set it to mean of those values"
   ]
  },
  {
   "cell_type": "code",
   "execution_count": null,
   "id": "cb64c8f0-5705-441d-9321-985739e262d0",
   "metadata": {},
   "outputs": [],
   "source": [
    "# fill the missing smoker and bmi value\n",
    "covars_df.loc[covars_df.smoker.isna(), 'smoker'] = covars_df.smoker.mean().round(1)\n",
    "covars_df.loc[covars_df.bmi.isna(), 'bmi'] = covars_df.bmi.mean().round(1)\n",
    "\n",
    "if DEBUG:\n",
    "    print(covars_df.shape)\n",
    "    display(covars_df.info())\n",
    "    display(covars_df.smoker.value_counts())\n",
    "    display(covars_df.bmi.describe())"
   ]
  },
  {
   "cell_type": "markdown",
   "id": "2ff96c86-95e4-4d66-9831-83b48dad1f71",
   "metadata": {},
   "source": [
    "#### max significant by p-value result"
   ]
  },
  {
   "cell_type": "code",
   "execution_count": null,
   "id": "1bb2c27d-94a8-4ff0-90e8-acc2832c5cb4",
   "metadata": {},
   "outputs": [],
   "source": [
    "this_results = cis_results.loc[cis_results['p-value'] == min(cis_results['p-value'])]\n",
    "this_hit = this_results.sort_values(by=['coef'], ascending=False).iloc[0]\n",
    "print(this_hit)"
   ]
  },
  {
   "cell_type": "code",
   "execution_count": null,
   "id": "aac0f394-85aa-4946-85a1-4a3ce3a911f7",
   "metadata": {},
   "outputs": [],
   "source": [
    "%%time\n",
    "show_pair(this_hit.tissue, covars_df, this_hit.endo_feature, this_hit.exog_feature)"
   ]
  },
  {
   "cell_type": "markdown",
   "id": "172f0852-1088-4f2d-b082-a4bf2dee75a3",
   "metadata": {},
   "source": [
    "#### max significant by coef"
   ]
  },
  {
   "cell_type": "code",
   "execution_count": null,
   "id": "702259f2-c01f-4962-83cb-9f16ef9e90c6",
   "metadata": {},
   "outputs": [],
   "source": [
    "sig_results = cis_results.loc[cis_results.fdr_bh <= ALPHA]\n",
    "this_results = sig_results.loc[sig_results.coef == max(sig_results.coef)]\n",
    "this_hit = this_results.sort_values(by=['coef'], ascending=False).iloc[0]\n",
    "print(this_hit)"
   ]
  },
  {
   "cell_type": "code",
   "execution_count": null,
   "id": "08befb87-072c-4750-b237-d831b6a46196",
   "metadata": {},
   "outputs": [],
   "source": [
    "%%time\n",
    "show_pair(this_hit.tissue, covars_df, this_hit.endo_feature, this_hit.exog_feature)"
   ]
  },
  {
   "cell_type": "markdown",
   "id": "60a42c50-6ad3-40b0-bcd9-2b092ed0c9a7",
   "metadata": {},
   "source": [
    "#### min significant by coef"
   ]
  },
  {
   "cell_type": "code",
   "execution_count": null,
   "id": "ad263e23-dedc-47b8-82b4-3677a0d77291",
   "metadata": {},
   "outputs": [],
   "source": [
    "sig_results = cis_results.loc[cis_results.fdr_bh <= ALPHA]\n",
    "this_results = sig_results.loc[sig_results.coef == min(sig_results.coef)]\n",
    "this_hit = this_results.sort_values(by=['coef'], ascending=False).iloc[0]\n",
    "print(this_hit)"
   ]
  },
  {
   "cell_type": "code",
   "execution_count": null,
   "id": "10c8fb4b-3643-4038-b982-26aac0f4402e",
   "metadata": {},
   "outputs": [],
   "source": [
    "%%time\n",
    "show_pair(this_hit.tissue, covars_df, this_hit.endo_feature, this_hit.exog_feature)"
   ]
  },
  {
   "cell_type": "markdown",
   "id": "896fc985-8025-43ef-9e1a-f88216c749ea",
   "metadata": {},
   "source": [
    "#### random"
   ]
  },
  {
   "cell_type": "code",
   "execution_count": null,
   "id": "061f2212-4747-478b-99ad-b30fd758e96a",
   "metadata": {},
   "outputs": [],
   "source": [
    "this_hit = sig_results.sample().iloc[0]\n",
    "print(this_hit)"
   ]
  },
  {
   "cell_type": "code",
   "execution_count": null,
   "id": "33e00b3b-cabc-4d76-9e85-dc289e38ee27",
   "metadata": {},
   "outputs": [],
   "source": [
    "%%time\n",
    "show_pair(this_hit.tissue, covars_df, this_hit.endo_feature, this_hit.exog_feature)"
   ]
  },
  {
   "cell_type": "markdown",
   "id": "3735c06b-fbc7-4b13-b7a8-89273e2c1e50",
   "metadata": {},
   "source": [
    "#### max non-significat by coef"
   ]
  },
  {
   "cell_type": "code",
   "execution_count": null,
   "id": "b79c6eba-399c-4898-baa3-03a43338dda8",
   "metadata": {},
   "outputs": [],
   "source": [
    "nonsig_results = cis_results.loc[(cis_results.fdr_bh > ALPHA) & \n",
    "                                 (~cis_results.z.isna())]\n",
    "this_results = nonsig_results.loc[nonsig_results.coef == max(nonsig_results.coef)]\n",
    "this_hit = this_results.iloc[0]\n",
    "print(this_hit)"
   ]
  },
  {
   "cell_type": "code",
   "execution_count": null,
   "id": "dca26999-a0a4-4243-8057-bb3d70204a82",
   "metadata": {},
   "outputs": [],
   "source": [
    "%%time\n",
    "show_pair(this_hit.tissue, covars_df, this_hit.endo_feature, this_hit.exog_feature)"
   ]
  },
  {
   "cell_type": "code",
   "execution_count": null,
   "id": "bc4864cf",
   "metadata": {
    "papermill": {
     "duration": 0.041359,
     "end_time": "2021-08-05T17:18:56.780052",
     "exception": false,
     "start_time": "2021-08-05T17:18:56.738693",
     "status": "completed"
    },
    "tags": []
   },
   "outputs": [],
   "source": [
    "!date"
   ]
  }
 ],
 "metadata": {
  "environment": {
   "kernel": "python3",
   "name": "pytorch-gpu.1-11.m94",
   "type": "gcloud",
   "uri": "gcr.io/deeplearning-platform-release/pytorch-gpu.1-11:m94"
  },
  "kernelspec": {
   "display_name": "Python 3 (ipykernel)",
   "language": "python",
   "name": "python3"
  },
  "language_info": {
   "codemirror_mode": {
    "name": "ipython",
    "version": 3
   },
   "file_extension": ".py",
   "mimetype": "text/x-python",
   "name": "python",
   "nbconvert_exporter": "python",
   "pygments_lexer": "ipython3",
   "version": "3.10.13"
  },
  "papermill": {
   "default_parameters": {},
   "duration": 3028.877272,
   "end_time": "2021-08-05T17:18:59.528209",
   "environment_variables": {},
   "exception": null,
   "input_path": "/home/jupyter/notebooks/cell_cis_qtl_tensorqtl.ipynb",
   "output_path": "/home/jupyter/notebooks/foundin.da65.DA.cis_qtl.ipynb",
   "parameters": {
    "cell_type": "DA",
    "cohort": "foundin",
    "day": "da65",
    "quant_type": "scrn",
    "version": "amppdv1"
   },
   "start_time": "2021-08-05T16:28:30.650937",
   "version": "2.3.3"
  },
  "toc-autonumbering": false,
  "toc-showcode": false,
  "toc-showmarkdowntxt": false,
  "widgets": {
   "application/vnd.jupyter.widget-state+json": {
    "state": {},
    "version_major": 2,
    "version_minor": 0
   }
  }
 },
 "nbformat": 4,
 "nbformat_minor": 5
}
