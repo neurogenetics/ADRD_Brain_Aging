{
 "cells": [
  {
   "cell_type": "markdown",
   "id": "59500cfc",
   "metadata": {
    "papermill": {
     "duration": 0.032376,
     "end_time": "2021-08-05T16:28:32.362666",
     "exception": false,
     "start_time": "2021-08-05T16:28:32.330290",
     "status": "completed"
    },
    "tags": []
   },
   "source": [
    "## Notebook to run *cis* correlation analysis between gene expression and ATAC peaks\n",
    "\n",
    "only interest in gene's with a statistically significant age effect and the ATAC peaks that are <i>cis</i> proximal"
   ]
  },
  {
   "cell_type": "code",
   "execution_count": null,
   "id": "1a247d17",
   "metadata": {
    "papermill": {
     "duration": 0.14727,
     "end_time": "2021-08-05T16:28:32.530364",
     "exception": false,
     "start_time": "2021-08-05T16:28:32.383094",
     "status": "completed"
    },
    "tags": []
   },
   "outputs": [],
   "source": [
    "!date"
   ]
  },
  {
   "cell_type": "markdown",
   "id": "84872cd5",
   "metadata": {
    "papermill": {
     "duration": 0.018671,
     "end_time": "2021-08-05T16:28:32.568179",
     "exception": false,
     "start_time": "2021-08-05T16:28:32.549508",
     "status": "completed"
    },
    "tags": []
   },
   "source": [
    "#### import libraries"
   ]
  },
  {
   "cell_type": "code",
   "execution_count": null,
   "id": "a41d4a18",
   "metadata": {
    "papermill": {
     "duration": 1.567685,
     "end_time": "2021-08-05T16:28:34.154502",
     "exception": false,
     "start_time": "2021-08-05T16:28:32.586817",
     "status": "completed"
    },
    "tags": []
   },
   "outputs": [],
   "source": [
    "from pandas import read_csv\n",
    "from scanpy import read_h5ad\n",
    "from pandas import DataFrame as PandasDF, read_parquet\n",
    "import statsmodels.api as sm\n",
    "import statsmodels.formula.api as smf\n",
    "from statsmodels.stats.multitest import multipletests\n",
    "from os.path import exists\n",
    "import numpy as np\n",
    "from multiprocessing import Process\n",
    "\n",
    "import warnings\n",
    "warnings.filterwarnings('ignore')"
   ]
  },
  {
   "cell_type": "markdown",
   "id": "7512cec9-abe6-41c7-9193-833f16aeaf36",
   "metadata": {},
   "source": [
    "#### set notebook variables"
   ]
  },
  {
   "cell_type": "code",
   "execution_count": null,
   "id": "8762e9d6",
   "metadata": {
    "papermill": {
     "duration": 0.02605,
     "end_time": "2021-08-05T16:28:34.199808",
     "exception": false,
     "start_time": "2021-08-05T16:28:34.173758",
     "status": "completed"
    },
    "tags": [
     "parameters"
    ]
   },
   "outputs": [],
   "source": [
    "# parameters\n",
    "endogenous = 'GEX'\n",
    "exogenous = 'ATAC'\n",
    "category = 'curated_type' # 'curated_type' for broad and 'cluster_name' for specific\n",
    "REGRESSION_TYPE = 'glm_tweedie'"
   ]
  },
  {
   "cell_type": "code",
   "execution_count": null,
   "id": "1adfba9d",
   "metadata": {
    "papermill": {
     "duration": 0.024125,
     "end_time": "2021-08-05T16:28:34.282618",
     "exception": false,
     "start_time": "2021-08-05T16:28:34.258493",
     "status": "completed"
    },
    "tags": []
   },
   "outputs": [],
   "source": [
    "# parameters\n",
    "project = 'aging_phase2'\n",
    "if category == 'curated_type':\n",
    "    prefix_type = 'broad'\n",
    "elif category == 'cluster_name':\n",
    "    prefix_type = 'specific' \n",
    "\n",
    "# directories\n",
    "wrk_dir = '/labshare/raph/datasets/adrd_neuro/brain_aging/phase2'\n",
    "results_dir = f'{wrk_dir}/results'\n",
    "quants_dir = f'{wrk_dir}/quants'\n",
    "figures_dir = f'{wrk_dir}/figures'\n",
    "\n",
    "# in files\n",
    "endo_results_file = f'{results_dir}/{project}.{endogenous}.{prefix_type}.{REGRESSION_TYPE}_fdr_filtered.age.csv'\n",
    "exo_results_file = f'{results_dir}/{project}.{exogenous}.{prefix_type}.{REGRESSION_TYPE}_fdr_filtered.age.csv'\n",
    "anndata_file = f'{quants_dir}/{project}.multivi.curated_final.h5ad'\n",
    "\n",
    "# out files\n",
    "\n",
    "# constants\n",
    "DEBUG = False\n",
    "MAX_DIST = 1_000_000\n",
    "covariate_terms = ['sex', 'ancestry', 'pmi', 'ph', 'smoker', 'bmi', 'gex_pool', 'atac_pool']\n",
    "covar_term_formula = ' + '.join(covariate_terms)\n",
    "if DEBUG:\n",
    "    print(covar_term_formula)\n",
    "TESTING = False\n",
    "TEST_FEATURE_SIZE = 25    "
   ]
  },
  {
   "cell_type": "markdown",
   "id": "e6914530",
   "metadata": {
    "papermill": {
     "duration": 0.018042,
     "end_time": "2021-08-05T16:28:34.364680",
     "exception": false,
     "start_time": "2021-08-05T16:28:34.346638",
     "status": "completed"
    },
    "tags": []
   },
   "source": [
    "#### functions"
   ]
  },
  {
   "cell_type": "code",
   "execution_count": null,
   "id": "4b4c6c22",
   "metadata": {
    "papermill": {
     "duration": 0.024911,
     "end_time": "2021-08-05T16:28:34.407159",
     "exception": false,
     "start_time": "2021-08-05T16:28:34.382248",
     "status": "completed"
    },
    "tags": []
   },
   "outputs": [],
   "source": [
    "def load_quantification(cell_name: str, modality: str, verbose: bool=False) -> PandasDF:\n",
    "    this_file = f'{quants_dir}/{project}.{modality}.{prefix_type}.{cell_name}.pb.parquet'\n",
    "    if not exists(this_file):\n",
    "        return None\n",
    "    df = read_parquet(this_file)\n",
    "    if verbose:\n",
    "        print(f'shape of read {cell_name} quantifications {df.shape}')        \n",
    "        display(df.sample(5))\n",
    "    return df\n",
    "\n",
    "def glm_model(formula: str, df: PandasDF, model_type: str='rlm'):\n",
    "    if model_type == 'glm_tweedie':\n",
    "        model = smf.glm(formula=formula, data=df, \n",
    "                        family=sm.families.Tweedie(link=sm.families.links.log(), \n",
    "                                                   var_power=1.6, \n",
    "                                                   eql=True))\n",
    "    elif model_type == 'rlm':\n",
    "        model = smf.rlm(formula=formula, data=df)        \n",
    "    elif model_type == 'glm':\n",
    "        model = smf.glm(formula=formula, data=df)        \n",
    "    result = model.fit()\n",
    "    return result\n",
    "\n",
    "def cis_correlation(df: PandasDF, endo_term: str, exog_term: str, verbose: bool=False) -> tuple:\n",
    "    model_terms = [endo_term, exog_term] + covariate_terms + ['cell_count_endo', 'cell_count_exog']\n",
    "    this_formula = f'Q(\"{endo_term}\") ~ Q(\"{exog_term}\") + {covar_term_formula} + cell_count_endo + cell_count_exog'\n",
    "    try:\n",
    "        # run GLM via statsmodel\n",
    "        result = glm_model(this_formula, df[model_terms], model_type=REGRESSION_TYPE)\n",
    "        ret_exog_term = f'Q(\"{exog_term}\")'\n",
    "        ret_list = [endo_term, exog_term, result.params['Intercept'], \n",
    "                    result.params[ret_exog_term], result.bse[ret_exog_term], \n",
    "                    result.tvalues[ret_exog_term], result.pvalues[ret_exog_term]]\n",
    "        if verbose:\n",
    "            print(f'df shape {df.shape}')\n",
    "            print(result.summary())\n",
    "            print(['endo_feature', 'exog_feature', 'intercept', 'coef', 'stderr', 'z', 'p-value'])\n",
    "            print(ret_list)\n",
    "    except:\n",
    "#         print(f'Caught Error for {endo_term}')\n",
    "        ret_list = [endo_term, exog_term] + [np.nan] * 5\n",
    "  \n",
    "    return ret_list\n",
    "\n",
    "\n",
    "def compute_bh_fdr(df: PandasDF, alpha: float=0.05, p_col: str='p-value',\n",
    "                   method: str='fdr_bh', verbose: bool=True) -> PandasDF:\n",
    "    ret_df = df.copy()\n",
    "    test_adjust = multipletests(np.array(ret_df[p_col]), alpha=alpha, \n",
    "                                method=method)\n",
    "    ret_df[method] = test_adjust[1]\n",
    "    if verbose:\n",
    "        print(f'total significant after correction: {ret_df.loc[ret_df[method] < alpha].shape}')\n",
    "    return ret_df\n",
    "\n",
    "def load_tissue_quants(tissue: str, endo_ids: set, exog_ids: set, \n",
    "                       verbose: bool=False) -> {PandasDF, PandasDF}: \n",
    "    endo_data = load_quantification(tissue, endogenous)\n",
    "    exog_data = load_quantification(tissue, exogenous)\n",
    "    if verbose:\n",
    "        print(f'shape of endogenous data {endo_data.shape}')\n",
    "        print(f'shape of exogenous data {exog_data.shape}')\n",
    "    # subset to only needed endo and exog features\n",
    "    endo_data = endo_data[list(set(endo_data.columns) & endo_ids) + ['cell_count']]\n",
    "    exog_data = exog_data[list(set(exog_data.columns) & exog_ids) + ['cell_count']]\n",
    "    if verbose:\n",
    "        print(f'shape of subset endogenous data {endo_data.shape}')\n",
    "        print(f'shape of subset exogenous data {exog_data.shape}')        \n",
    "        display(endo_data.sample(4))\n",
    "        display(exog_data.sample(4))\n",
    "    return endo_data, exog_data\n",
    "\n",
    "def merge_analysis_data(endo_data: PandasDF, exog_data: PandasDF, covars_df: PandasDF, \n",
    "                        endo_ids: set, exog_ids: set, verbose: bool=False) -> PandasDF:\n",
    "    # subset to only needed endo and exog features\n",
    "    endo_data = endo_data[list(set(endo_data.columns) & endo_ids) + ['cell_count']]\n",
    "    exog_data = exog_data[list(set(exog_data.columns) & exog_ids) + ['cell_count']]\n",
    "    tissue_data = (endo_data.merge(exog_data, how='inner', left_index=True, right_index=True, suffixes=('_endo', '_exog'))\n",
    "                   .merge(covars_df, how='inner', left_index=True, right_index=True))\n",
    "    if verbose:\n",
    "        print(f'shape of merged data is {tissue_data.shape}')        \n",
    "        display(tissue_data.sample(5))\n",
    "    return tissue_data\n",
    "\n",
    "def regress_tissue(data: PandasDF, pairings: dict, verbose: bool=False) -> PandasDF:\n",
    "    results = [cis_correlation(data, endo, exo) \n",
    "               for endo, exos in pairings.items() \n",
    "               for exo in exos]\n",
    "    results_df = PandasDF(data=results, \n",
    "                          columns=['endo_feature', 'exog_feature', 'intercept', \n",
    "                                   'coef', 'stderr', 'z', 'p-value'])\n",
    "    if verbose:\n",
    "        print(f'shape of results {results_df.shape}')\n",
    "        display(results_df.sample(5))\n",
    "    return results_df\n",
    "\n",
    "def analyze_tissue(tissue: str, endo_feats: PandasDF, exog_feats: PandasDF, \n",
    "                   covars_df: PandasDF, endo_ids: set, exog_ids: set, \n",
    "                   pairings: dict, verbose: bool=False):\n",
    "    # load quants data\n",
    "    endo_data, exog_data = load_tissue_quants(tissue, endo_ids, exog_ids, verbose)\n",
    "    # merge data source\n",
    "    tissue_data = merge_analysis_data(endo_data, exog_data, covars_df, endo_ids, exog_ids, verbose)\n",
    "    # run the regressions\n",
    "    results_df = regress_tissue(tissue_data, pairings, verbose)    \n",
    "    # save the results\n",
    "    cis_out_file = f'{results_dir}/{project}.{endogenous}-{exogenous}.{prefix_type}.{tissue}.{REGRESSION_TYPE}.cis.csv'\n",
    "    results_df.to_csv(cis_out_file, index=False)\n",
    "\n",
    "def subset_for_test(pairs_ori: dict, feature_cnt: int) -> PandasDF:\n",
    "    pairs_to_test = {}\n",
    "    if len(endo_cis_proximal) < feature_cnt:\n",
    "        return pairs_ori\n",
    "    for index, endo_id in enumerate(pairs_ori.keys()):\n",
    "        if index > feature_cnt:\n",
    "            break\n",
    "        pairs_to_test[endo_id] = pairs_ori.get(endo_id)\n",
    "    return pairs_to_test"
   ]
  },
  {
   "cell_type": "markdown",
   "id": "a01af708-face-4b60-b519-7d1b0580fd0a",
   "metadata": {},
   "source": [
    "### load the GEX results to find which genes in what 'cell-types' should be interegated"
   ]
  },
  {
   "cell_type": "code",
   "execution_count": null,
   "id": "d7abfa42-93a7-40f8-8ebf-199f8c7ed7ba",
   "metadata": {},
   "outputs": [],
   "source": [
    "endo_results_df = read_csv(endo_results_file)\n",
    "print(f'shape of GEX results {endo_results_df.shape}')\n",
    "if DEBUG:\n",
    "    display(endo_results_df.sample(5))"
   ]
  },
  {
   "cell_type": "markdown",
   "id": "7108be57-0b0f-40fa-b868-9cbdd8fd1f4b",
   "metadata": {},
   "source": [
    "#### how many genes per cell-type with a results will be considered"
   ]
  },
  {
   "cell_type": "code",
   "execution_count": null,
   "id": "df62e48d-6791-4535-9d07-b7b0f9ae0a96",
   "metadata": {},
   "outputs": [],
   "source": [
    "print(endo_results_df.feature.nunique())\n",
    "display(endo_results_df.tissue.value_counts())"
   ]
  },
  {
   "cell_type": "markdown",
   "id": "06e5745a-5aab-40fb-8b4f-7c661aa20352",
   "metadata": {},
   "source": [
    "### load the ATAC results"
   ]
  },
  {
   "cell_type": "code",
   "execution_count": null,
   "id": "da19abe7-36a2-44ef-b2e6-d082e8b4ffe8",
   "metadata": {},
   "outputs": [],
   "source": [
    "exo_results_df = read_csv(exo_results_file)\n",
    "print(f'shape of GEX results {exo_results_df.shape}')\n",
    "if DEBUG:\n",
    "    display(exo_results_df.sample(5))"
   ]
  },
  {
   "cell_type": "markdown",
   "id": "cf753ee2-3982-4a65-8105-2453769fc128",
   "metadata": {},
   "source": [
    "#### how many peaks per cell-type"
   ]
  },
  {
   "cell_type": "code",
   "execution_count": null,
   "id": "a31c8a21-096f-4852-859c-5105ce55b86a",
   "metadata": {},
   "outputs": [],
   "source": [
    "print(exo_results_df.feature.nunique())\n",
    "display(exo_results_df.tissue.value_counts())"
   ]
  },
  {
   "cell_type": "markdown",
   "id": "9499929c-3868-4255-bd2a-3cde3432de21",
   "metadata": {},
   "source": [
    "### load the anndata file\n",
    "easy and combine place to get genomic location of possible features; from the var"
   ]
  },
  {
   "cell_type": "code",
   "execution_count": null,
   "id": "214e5188-9026-4f4c-ae13-10478d6296a1",
   "metadata": {},
   "outputs": [],
   "source": [
    "adata = read_h5ad(anndata_file)\n",
    "print(adata)\n",
    "if DEBUG:\n",
    "    display(adata.var.loc[adata.var.modality == 'Gene Expression'].sample(4))\n",
    "    display(adata.var.loc[adata.var.modality == 'Peaks'].sample(4))"
   ]
  },
  {
   "cell_type": "markdown",
   "id": "76b51a8d-be71-446d-a37e-95e04c4550f6",
   "metadata": {},
   "source": [
    "### format sample covariates\n",
    "sex, ancestry, age, (gex_pool or atac_pool), pmi, ph, smoker, bmi"
   ]
  },
  {
   "cell_type": "code",
   "execution_count": null,
   "id": "a00113a9-98fc-4bff-a63c-f9982d0ba297",
   "metadata": {},
   "outputs": [],
   "source": [
    "keep_terms = ['sample_id','sex', 'ancestry', 'age', 'gex_pool', 'atac_pool', \n",
    "              'pmi', 'ph', 'smoker', 'bmi']\n",
    "covars_df = adata.obs[keep_terms].drop_duplicates().reset_index(drop=True)\n",
    "covars_df = covars_df.set_index('sample_id')\n",
    "\n",
    "if DEBUG:\n",
    "    print(covars_df.shape)\n",
    "    display(covars_df.head())\n",
    "    display(covars_df.info())\n",
    "    display(covars_df.smoker.value_counts())\n",
    "    display(covars_df.bmi.describe())"
   ]
  },
  {
   "cell_type": "markdown",
   "id": "78f98ed1-8417-43f4-ab71-e295b245e253",
   "metadata": {},
   "source": [
    "#### fill any missing covariate terms\n",
    "looks like smoker and bmi is missing for one sample will set it to mean of those values"
   ]
  },
  {
   "cell_type": "code",
   "execution_count": null,
   "id": "cb64c8f0-5705-441d-9321-985739e262d0",
   "metadata": {},
   "outputs": [],
   "source": [
    "# fill the missing smoker and bmi value\n",
    "covars_df.loc[covars_df.smoker.isna(), 'smoker'] = covars_df.smoker.mean().round(1)\n",
    "covars_df.loc[covars_df.bmi.isna(), 'bmi'] = covars_df.bmi.mean().round(1)\n",
    "\n",
    "if DEBUG:\n",
    "    print(covars_df.shape)\n",
    "    display(covars_df.info())\n",
    "    display(covars_df.smoker.value_counts())\n",
    "    display(covars_df.bmi.describe())"
   ]
  },
  {
   "cell_type": "markdown",
   "id": "25c596a8-46a1-4ea8-8a61-4aefcb29da6d",
   "metadata": {},
   "source": [
    "### identify the cis proximal possible pairs regardless of cell-type"
   ]
  },
  {
   "cell_type": "code",
   "execution_count": null,
   "id": "b2ccf1ce-7bec-4f27-b5ca-496215b9d377",
   "metadata": {},
   "outputs": [],
   "source": [
    "endo_features = (adata.var[adata.var.index.isin(endo_results_df.feature)]\n",
    "                 [['ID', 'chr', 'start', 'end']].copy())\n",
    "print(f'shape of endo features {endo_features.shape}')\n",
    "if DEBUG:\n",
    "    display(endo_features.sample(4))"
   ]
  },
  {
   "cell_type": "code",
   "execution_count": null,
   "id": "0e23056d-ead4-4078-8acb-ed98c36cf99d",
   "metadata": {},
   "outputs": [],
   "source": [
    "if exogenous == 'ATAC':\n",
    "    exo_features = (adata.var[adata.var.modality == 'Peaks']\n",
    "                    [['ID', 'modality', 'chr', 'start', 'end']].copy())\n",
    "else:\n",
    "    # all features regardless of modality\n",
    "    exo_features = adata.var[['ID', 'modality', 'chr', 'start', 'end']].copy()\n",
    "print(f'shape of exo features {endo_features.shape}')\n",
    "if DEBUG:\n",
    "    display(exo_features.modality.value_counts())\n",
    "    display(exo_features.sample(4))"
   ]
  },
  {
   "cell_type": "code",
   "execution_count": null,
   "id": "aaae2b12-3c8c-4d26-b4eb-3a2f52e1504d",
   "metadata": {},
   "outputs": [],
   "source": [
    "%%time\n",
    "endo_cis_proximal = {}\n",
    "for chrom in endo_features.chr.unique():\n",
    "    chrom_endo = endo_features.loc[endo_features.chr == chrom]\n",
    "    chrom_exo = exo_features.loc[exo_features.chr == chrom]\n",
    "    print(chrom, chrom_endo.shape, chrom_exo.shape)\n",
    "    for endo in chrom_endo.itertuples():\n",
    "        # Calculate boundaries with proper handling of edge cases\n",
    "        start_boundary = np.maximum(endo.start - MAX_DIST, chrom_exo.start.min())\n",
    "        end_boundary = np.minimum(endo.end + MAX_DIST, chrom_exo.end.max())\n",
    "        # Filter based on boundaries\n",
    "        found_df = chrom_exo.loc[(chrom_exo.start >= start_boundary) & (chrom_exo.end <= end_boundary)]\n",
    "        endo_cis_proximal[endo.Index] = found_df.ID.to_list()"
   ]
  },
  {
   "cell_type": "code",
   "execution_count": null,
   "id": "0d0591da-18ca-4a71-9f53-28941a3ca881",
   "metadata": {},
   "outputs": [],
   "source": [
    "# how many tests will be done\n",
    "endo_count = 0\n",
    "exo_count = 0\n",
    "peak_features = set()\n",
    "for endo, exos in endo_cis_proximal.items():\n",
    "    endo_count += 1\n",
    "    exo_count += len(exos)\n",
    "    peak_features = peak_features | set(exos)\n",
    "print(f'unique endo count {endo_count}')\n",
    "print(f'total endo exo comparisons {exo_count}')\n",
    "print(f'toal unique exo counts {len(peak_features)}')"
   ]
  },
  {
   "cell_type": "markdown",
   "id": "44144cf0-7617-490a-9c72-682b10b4a8c9",
   "metadata": {},
   "source": [
    "### regression the endo-exo pairs possible per tissue"
   ]
  },
  {
   "cell_type": "code",
   "execution_count": null,
   "id": "e5f8319c-8428-4b01-88fc-758526402e83",
   "metadata": {},
   "outputs": [],
   "source": [
    "%%time\n",
    "cmds = {}\n",
    "for tissue in endo_results_df.tissue.unique():\n",
    "    print(tissue)\n",
    "    if TESTING:\n",
    "        endo_cis_proximal = subset_for_test(endo_cis_proximal, TEST_FEATURE_SIZE)\n",
    "        print(endo_cis_proximal.keys())  \n",
    "    p = Process(target=analyze_tissue,args=(tissue, endo_features, exo_features,\n",
    "                                            covars_df, set(endo_features.index.unique()), \n",
    "                                            peak_features, endo_cis_proximal))\n",
    "    p.start()\n",
    "    # Append process and key to keep track\n",
    "    cmds[tissue] = p    \n",
    "    # diffexp_group(adata_sub, cell_name)\n",
    "# Wait for all processes to finish\n",
    "for key, p in cmds.items():\n",
    "    p.join()"
   ]
  },
  {
   "cell_type": "code",
   "execution_count": null,
   "id": "bc4864cf",
   "metadata": {
    "papermill": {
     "duration": 0.041359,
     "end_time": "2021-08-05T17:18:56.780052",
     "exception": false,
     "start_time": "2021-08-05T17:18:56.738693",
     "status": "completed"
    },
    "tags": []
   },
   "outputs": [],
   "source": [
    "!date"
   ]
  }
 ],
 "metadata": {
  "environment": {
   "kernel": "python3",
   "name": "pytorch-gpu.1-11.m94",
   "type": "gcloud",
   "uri": "gcr.io/deeplearning-platform-release/pytorch-gpu.1-11:m94"
  },
  "kernelspec": {
   "display_name": "Python 3 (ipykernel)",
   "language": "python",
   "name": "python3"
  },
  "language_info": {
   "codemirror_mode": {
    "name": "ipython",
    "version": 3
   },
   "file_extension": ".py",
   "mimetype": "text/x-python",
   "name": "python",
   "nbconvert_exporter": "python",
   "pygments_lexer": "ipython3",
   "version": "3.10.13"
  },
  "papermill": {
   "default_parameters": {},
   "duration": 3028.877272,
   "end_time": "2021-08-05T17:18:59.528209",
   "environment_variables": {},
   "exception": null,
   "input_path": "/home/jupyter/notebooks/cell_cis_qtl_tensorqtl.ipynb",
   "output_path": "/home/jupyter/notebooks/foundin.da65.DA.cis_qtl.ipynb",
   "parameters": {
    "cell_type": "DA",
    "cohort": "foundin",
    "day": "da65",
    "quant_type": "scrn",
    "version": "amppdv1"
   },
   "start_time": "2021-08-05T16:28:30.650937",
   "version": "2.3.3"
  },
  "toc-autonumbering": false,
  "toc-showcode": false,
  "toc-showmarkdowntxt": false,
  "widgets": {
   "application/vnd.jupyter.widget-state+json": {
    "state": {},
    "version_major": 2,
    "version_minor": 0
   }
  }
 },
 "nbformat": 4,
 "nbformat_minor": 5
}
