{
 "cells": [
  {
   "cell_type": "markdown",
   "id": "2403867f-be76-4939-9e93-c57182a4cdd8",
   "metadata": {},
   "source": [
    "## Notebook to filter statistically signficant results that differ based on large result differences between the GLM and RLM linear regressions\n",
    "\n",
    "Using this as a method to remove outlier driven results from the GLM results while keeping the interpretability of the GLM coefficients.\n",
    "\n",
    "Filter on:\n",
    "- not statistically significant in both result sets\n",
    "- effect direction is not consistent between result sets\n",
    "- if difference is effect between results is an outlier"
   ]
  },
  {
   "cell_type": "code",
   "execution_count": null,
   "id": "85c5e55c-1995-4e60-b803-bc9d586ef0a5",
   "metadata": {},
   "outputs": [],
   "source": [
    "!date"
   ]
  },
  {
   "cell_type": "markdown",
   "id": "93fb428d-de2b-49a0-a533-9e40dd5498a0",
   "metadata": {},
   "source": [
    "#### import libraries"
   ]
  },
  {
   "cell_type": "code",
   "execution_count": null,
   "id": "45e2cbaf-a685-4a30-a5d0-09d20608698e",
   "metadata": {},
   "outputs": [],
   "source": [
    "from pandas import read_csv\n",
    "from random import choice\n",
    "from scipy import stats\n",
    "from seaborn import displot"
   ]
  },
  {
   "cell_type": "markdown",
   "id": "3471906f-b53f-4364-a2ec-5ef75035a9ac",
   "metadata": {},
   "source": [
    "#### set notebook variables"
   ]
  },
  {
   "cell_type": "code",
   "execution_count": null,
   "id": "a3c069aa-bb86-49c6-a7cb-99f5a86d187c",
   "metadata": {},
   "outputs": [],
   "source": [
    "# parameters\n",
    "modality = 'GEX' # 'GEX' or 'ATAC'\n",
    "category = 'curated_type' # 'curated_type' for broad and 'cluster_name' for specific\n",
    "GENERAL_TYPE = 'glm_tweedie'\n",
    "ROBUST_TYPE = 'rlm'"
   ]
  },
  {
   "cell_type": "code",
   "execution_count": null,
   "id": "9a327bfd-705b-45ff-ae83-0dc8e375900a",
   "metadata": {},
   "outputs": [],
   "source": [
    "# parameters\n",
    "project = 'aging_phase2'\n",
    "if category == 'curated_type':\n",
    "    prefix_type = 'broad'\n",
    "elif category == 'cluster_name':\n",
    "    prefix_type = 'specific' \n",
    "\n",
    "# directories\n",
    "wrk_dir = '/labshare/raph/datasets/adrd_neuro/brain_aging/phase2'\n",
    "results_dir = f'{wrk_dir}/results'\n",
    "figures_dir = f'{wrk_dir}/figures'\n",
    "\n",
    "# in files\n",
    "general_fdr_file = f'{results_dir}/{project}.{modality}.{prefix_type}.{GENERAL_TYPE}_fdr.age.csv'\n",
    "robust_fdr_file = f'{results_dir}/{project}.{modality}.{prefix_type}.{ROBUST_TYPE}.age.csv'\n",
    "\n",
    "# out files\n",
    "results_file = f'{results_dir}/{project}.{modality}.{prefix_type}.{GENERAL_TYPE}_fdr_filtered.age.csv'\n",
    "\n",
    "# constants\n",
    "DEBUG = False\n",
    "MAX_Z = 3"
   ]
  },
  {
   "cell_type": "markdown",
   "id": "f97edab0-839b-435b-8472-6cfe17e6ca18",
   "metadata": {},
   "source": [
    "### load data"
   ]
  },
  {
   "cell_type": "code",
   "execution_count": null,
   "id": "044d5ef8-dec9-4878-82db-3b4e5cb6b653",
   "metadata": {},
   "outputs": [],
   "source": [
    "%%time\n",
    "general_results = read_csv(general_fdr_file)\n",
    "robust_results = read_csv(robust_fdr_file)\n",
    "print(f'shape of general results {general_results.shape}')\n",
    "print(f'shape of robust results {robust_results.shape}')\n",
    "if DEBUG:\n",
    "    display(general_results.sample(4))\n",
    "    display(robust_results.sample(4))"
   ]
  },
  {
   "cell_type": "markdown",
   "id": "9653c7a0-6f74-4e59-8441-36577bba61ae",
   "metadata": {},
   "source": [
    "#### filter the robust based on nominal alpha"
   ]
  },
  {
   "cell_type": "code",
   "execution_count": null,
   "id": "43805633-b340-41be-bf15-c425ef1132d1",
   "metadata": {},
   "outputs": [],
   "source": [
    "robust_results = robust_results.loc[robust_results['p-value'] <= 0.05]\n",
    "print(f'shape of robust results {robust_results.shape}')\n",
    "if DEBUG:\n",
    "    display(robust_results.sample(4))"
   ]
  },
  {
   "cell_type": "markdown",
   "id": "c4066192-dde3-4122-bbad-c32285d0970b",
   "metadata": {},
   "source": [
    "### create index/key for results pairs; ie feature-tissue"
   ]
  },
  {
   "cell_type": "code",
   "execution_count": null,
   "id": "e93854ac-9085-49e7-8255-9e92ee942e66",
   "metadata": {},
   "outputs": [],
   "source": [
    "general_results['pair'] = general_results.feature + '_' + general_results.tissue\n",
    "robust_results['pair'] = robust_results.feature + '_' + robust_results.tissue"
   ]
  },
  {
   "cell_type": "markdown",
   "id": "b05b411d-dd81-47a5-b1ed-dd801844e879",
   "metadata": {},
   "source": [
    "### find intersect of just the statistically significant results"
   ]
  },
  {
   "cell_type": "code",
   "execution_count": null,
   "id": "2a079fbc-a7cf-4ce0-ba37-515d2f5b924c",
   "metadata": {},
   "outputs": [],
   "source": [
    "pair_intersect = set(general_results.pair) & set(robust_results.pair)\n",
    "print(f'{len(pair_intersect)} found in both which is {(len(pair_intersect)/general_results.shape[0])*100:.2f}')"
   ]
  },
  {
   "cell_type": "markdown",
   "id": "b101062d-d30b-4b6b-aa3b-f0dc43e5c996",
   "metadata": {},
   "source": [
    "#### see an example of an excluded"
   ]
  },
  {
   "cell_type": "code",
   "execution_count": null,
   "id": "d2610da9-5552-46d0-99b2-5feb93a54ffc",
   "metadata": {},
   "outputs": [],
   "source": [
    "not_found = set(general_results.pair) - set(robust_results.pair)\n",
    "if len(not_found) > 0:\n",
    "    sampled_item = choice(list(not_found))\n",
    "    feature, tissue = sampled_item.split('_')\n",
    "    print(sampled_item, feature, tissue)\n",
    "    print(GENERAL_TYPE)    \n",
    "    display(general_results.loc[(general_results.feature == feature) & \n",
    "            (general_results.tissue == tissue)])\n",
    "    print(ROBUST_TYPE)    \n",
    "    display(robust_results.loc[(robust_results.feature == feature) & \n",
    "            (robust_results.tissue == tissue)])    "
   ]
  },
  {
   "cell_type": "code",
   "execution_count": null,
   "id": "9e0b9d40-defe-440d-89ed-6289772997c5",
   "metadata": {},
   "outputs": [],
   "source": [
    "feature = 'HSPD1'\n",
    "tissue = 'Astro'\n",
    "print(feature, tissue)\n",
    "display(general_results.loc[(general_results.feature == feature) & \n",
    "        (general_results.tissue == tissue)])\n",
    "display(robust_results.loc[(robust_results.feature == feature) & \n",
    "        (robust_results.tissue == tissue)])"
   ]
  },
  {
   "cell_type": "markdown",
   "id": "34ce87bc-3f2b-42f1-acee-e56ed46c4034",
   "metadata": {},
   "source": [
    "#### filter on this intersect"
   ]
  },
  {
   "cell_type": "code",
   "execution_count": null,
   "id": "ffe7b3b9-bd1e-4f4e-b4d6-3d42a0030f5a",
   "metadata": {},
   "outputs": [],
   "source": [
    "filtered_results = general_results.loc[general_results.pair.isin(pair_intersect)]\n",
    "print(f'shape of general results {filtered_results.shape}')\n",
    "if DEBUG:\n",
    "    display(filtered_results.sample(4))"
   ]
  },
  {
   "cell_type": "markdown",
   "id": "19db2ac6-6cda-4315-9e6a-3fe1ef3871d0",
   "metadata": {},
   "source": [
    "### find intersect based and consistent direction of effect"
   ]
  },
  {
   "cell_type": "code",
   "execution_count": null,
   "id": "a0254606-8681-4798-b5a7-b7904c5a8806",
   "metadata": {
    "scrolled": true
   },
   "outputs": [],
   "source": [
    "merged = filtered_results.merge(robust_results, how='left', on='pair', \n",
    "                                suffixes=(f'_{GENERAL_TYPE}', f'_{ROBUST_TYPE}'))\n",
    "print(merged.shape)\n",
    "kept = merged.loc[merged[f'coef_{GENERAL_TYPE}'] * merged[f'coef_{ROBUST_TYPE}'] >= 0]\n",
    "print(kept.shape)\n",
    "if DEBUG:\n",
    "    display(merged.sample(5))\n",
    "    display(kept.sample(5))    "
   ]
  },
  {
   "cell_type": "markdown",
   "id": "8b6473c3-b571-40f4-96af-2de444034fd1",
   "metadata": {},
   "source": [
    "#### see an example of an excluded"
   ]
  },
  {
   "cell_type": "code",
   "execution_count": null,
   "id": "fe141f5a-92e3-4fb4-bdfc-2f5d89080106",
   "metadata": {},
   "outputs": [],
   "source": [
    "not_found = set(filtered_results.pair) - set(kept.pair)\n",
    "if len(not_found) > 0:\n",
    "    sampled_item = choice(list(not_found))\n",
    "    feature, tissue = sampled_item.split(':')\n",
    "    print(sampled_item, feature, tissue)\n",
    "    print(GENERAL_TYPE)    \n",
    "    display(general_results.loc[(general_results.feature == feature) & \n",
    "            (general_results.tissue == tissue)])\n",
    "    print(ROBUST_TYPE)\n",
    "    display(robust_results.loc[(robust_results.feature == feature) & \n",
    "            (robust_results.tissue == tissue)])    \n",
    "else:\n",
    "    print('none found')"
   ]
  },
  {
   "cell_type": "markdown",
   "id": "14c9a9e7-b5c9-4b17-add9-eb842a74af53",
   "metadata": {},
   "source": [
    "#### filter out the effects that differ in direction"
   ]
  },
  {
   "cell_type": "code",
   "execution_count": null,
   "id": "0b37f399-830f-4b0a-a93d-e402c43a1b6e",
   "metadata": {},
   "outputs": [],
   "source": [
    "filtered_results = filtered_results.loc[filtered_results.pair.isin(kept.pair)]\n",
    "print(f'shape of general results {filtered_results.shape}')\n",
    "if DEBUG:\n",
    "    display(filtered_results.sample(4))"
   ]
  },
  {
   "cell_type": "markdown",
   "id": "365ad623-a3a3-404f-9580-a0c30a916bf4",
   "metadata": {},
   "source": [
    "### find results where the difference in effect from different model is an outlier from the rest"
   ]
  },
  {
   "cell_type": "code",
   "execution_count": null,
   "id": "660117bd-075a-497e-a537-01b3b4e8d3d6",
   "metadata": {},
   "outputs": [],
   "source": [
    "kept['effect_delta'] = kept[f'coef_{GENERAL_TYPE}'] - kept[f'coef_{ROBUST_TYPE}']\n",
    "kept['effect_delta_z'] = stats.zscore(kept.effect_delta)\n",
    "print(kept.shape)\n",
    "if DEBUG:\n",
    "    display(kept.sample(5))\n",
    "    display(kept.effect_delta_z.describe())"
   ]
  },
  {
   "cell_type": "code",
   "execution_count": null,
   "id": "7d4c6c71-64b9-4ddc-9522-ed90fd100019",
   "metadata": {},
   "outputs": [],
   "source": [
    "displot(kept.effect_delta_z, kind='kde')"
   ]
  },
  {
   "cell_type": "code",
   "execution_count": null,
   "id": "cfdcaa44-73ae-4520-9527-f17cf1c26b33",
   "metadata": {},
   "outputs": [],
   "source": [
    "kept.loc[abs(kept.effect_delta_z) > MAX_Z].head()"
   ]
  },
  {
   "cell_type": "markdown",
   "id": "f1c533e5-2339-4907-90f9-c1089ac92c18",
   "metadata": {},
   "source": [
    "#### filter the effect outliers"
   ]
  },
  {
   "cell_type": "code",
   "execution_count": null,
   "id": "77d6644c-861b-426b-b1c6-0cf46adb8c51",
   "metadata": {},
   "outputs": [],
   "source": [
    "kept = kept.loc[abs(kept.effect_delta_z) < MAX_Z]\n",
    "print(kept.shape)\n",
    "if DEBUG:\n",
    "    display(kept.sample(5))"
   ]
  },
  {
   "cell_type": "code",
   "execution_count": null,
   "id": "2404f23e-7912-40df-a438-6615b300e5ac",
   "metadata": {},
   "outputs": [],
   "source": [
    "filtered_results = filtered_results.loc[filtered_results.pair.isin(kept.pair)]\n",
    "print(f'shape of general results {filtered_results.shape}')\n",
    "if DEBUG:\n",
    "    display(filtered_results.sample(4))"
   ]
  },
  {
   "cell_type": "markdown",
   "id": "28ee2e24-30fe-4e32-90ac-32f6be7a2480",
   "metadata": {},
   "source": [
    "### save the filtered results"
   ]
  },
  {
   "cell_type": "code",
   "execution_count": null,
   "id": "ab59da8d-2484-4426-9520-68a1c9ae36e0",
   "metadata": {},
   "outputs": [],
   "source": [
    "%%time\n",
    "# drop the temp pair column that was added before write\n",
    "filtered_results.drop(columns=['pair']).to_csv(results_file, index=False)"
   ]
  },
  {
   "cell_type": "code",
   "execution_count": null,
   "id": "cd8bfccc-3757-42dd-b69e-a07580fd7689",
   "metadata": {},
   "outputs": [],
   "source": [
    "!date"
   ]
  }
 ],
 "metadata": {
  "kernelspec": {
   "display_name": "Python 3 (ipykernel)",
   "language": "python",
   "name": "python3"
  },
  "language_info": {
   "codemirror_mode": {
    "name": "ipython",
    "version": 3
   },
   "file_extension": ".py",
   "mimetype": "text/x-python",
   "name": "python",
   "nbconvert_exporter": "python",
   "pygments_lexer": "ipython3",
   "version": "3.10.13"
  }
 },
 "nbformat": 4,
 "nbformat_minor": 5
}
