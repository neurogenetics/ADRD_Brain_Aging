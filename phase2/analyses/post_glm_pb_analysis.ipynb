{
 "cells": [
  {
   "cell_type": "markdown",
   "id": "c4a28b61",
   "metadata": {},
   "source": [
    "## Notebook to run post processing of age regression of  in single-cell multiome data for glm pseudo-bulk based analysis\n",
    "\n",
    "basically \n",
    "- read glm results per region and cell-type and then integrate them\n",
    "- apply B&H FDR \n",
    "- take a look at overlap between brain regions and cell-types do some sample plotting"
   ]
  },
  {
   "cell_type": "code",
   "execution_count": null,
   "id": "39796b9e",
   "metadata": {},
   "outputs": [],
   "source": [
    "!date"
   ]
  },
  {
   "cell_type": "markdown",
   "id": "5a70e5d1",
   "metadata": {},
   "source": [
    "#### import libraries"
   ]
  },
  {
   "cell_type": "code",
   "execution_count": null,
   "id": "d3da14e3",
   "metadata": {},
   "outputs": [],
   "source": [
    "from anndata import AnnData\n",
    "import numpy as np\n",
    "from pandas import DataFrame, concat, read_csv, Series, read_parquet, set_option as pd_set_option\n",
    "import scanpy as sc\n",
    "from statsmodels.stats.multitest import multipletests\n",
    "import matplotlib.pyplot as plt\n",
    "from seaborn import scatterplot, lmplot, displot\n",
    "from matplotlib.pyplot import rc_context\n",
    "import json\n",
    "from os.path import exists\n",
    "from sklearn.preprocessing import MinMaxScaler\n",
    "\n",
    "import warnings\n",
    "warnings.simplefilter('ignore')\n",
    "\n",
    "import random\n",
    "random.seed(420)\n",
    "\n",
    "%matplotlib inline\n",
    "# for white background of figures (only for docs rendering)\n",
    "%config InlineBackend.print_figure_kwargs={'facecolor' : \"w\"}\n",
    "%config InlineBackend.figure_format='retina'"
   ]
  },
  {
   "cell_type": "markdown",
   "id": "62b9fb3f-53f5-44fd-b7ec-90eb6edef50a",
   "metadata": {},
   "source": [
    "#### set notebook variables"
   ]
  },
  {
   "cell_type": "code",
   "execution_count": null,
   "id": "481370bd-0369-4c72-885c-3c0939a79fdc",
   "metadata": {},
   "outputs": [],
   "source": [
    "# parameters\n",
    "modality = 'ATAC' # 'GEX' or 'ATAC'"
   ]
  },
  {
   "cell_type": "code",
   "execution_count": null,
   "id": "390c6563",
   "metadata": {},
   "outputs": [],
   "source": [
    "# parameters\n",
    "project = 'aging_phase2'\n",
    "\n",
    "# directories\n",
    "wrk_dir = '/labshare/raph/datasets/adrd_neuro/brain_aging/phase2'\n",
    "quants_dir = f'{wrk_dir}/quants'\n",
    "results_dir = f'{wrk_dir}/results'\n",
    "figures_dir = f'{wrk_dir}/figures'\n",
    "sc.settings.figdir = f'{figures_dir}/'\n",
    "\n",
    "# in files\n",
    "anndata_file = f'{quants_dir}/{project}.multivi.curated.h5ad'\n",
    "\n",
    "# out files\n",
    "results_file = f'{results_dir}/{project}.{modality}.glm_age.csv'\n",
    "results_fdr_file = f'{results_dir}/{project}.{modality}.glm_age_fdr.csv'\n",
    "\n",
    "# constants\n",
    "DEBUG = False\n",
    "# categories = ['curated_type', 'cluster_name'] # 'curated_type' for broad and 'cluster_name' for specific\n",
    "categories = ['curated_type']\n",
    "pd_set_option('display.max_rows', 500)"
   ]
  },
  {
   "cell_type": "markdown",
   "id": "d0b9bf1f",
   "metadata": {},
   "source": [
    "#### functions"
   ]
  },
  {
   "cell_type": "code",
   "execution_count": null,
   "id": "ae87f26f",
   "metadata": {},
   "outputs": [],
   "source": [
    "def compute_bh_fdr(df: DataFrame, alpha: float=0.05, p_col: str='p-value',\n",
    "                   method: str='fdr_bh', verbose: bool=True) -> DataFrame:\n",
    "    ret_df = df.copy()\n",
    "    test_adjust = multipletests(np.array(ret_df[p_col]), alpha=alpha, \n",
    "                                method=method)\n",
    "    ret_df[method] = test_adjust[1]\n",
    "    if verbose:\n",
    "        print(f'total significant after correction: {ret_df.loc[ret_df[method] < alpha].shape}')\n",
    "    return ret_df\n",
    "\n",
    "def plot_feature_by_age(df: DataFrame, y_term: str):\n",
    "    with rc_context({'figure.figsize': (8, 8), 'figure.dpi': 50}):\n",
    "        plt.style.use('seaborn-v0_8-talk')\n",
    "        x_term = 'age'\n",
    "        lmplot(x=x_term,y=y_term, data=df, palette='Purples')\n",
    "        plt.title(f'{y_term} ~ {x_term}', fontsize='large') \n",
    "        plt.xlabel(x_term)\n",
    "        plt.ylabel(y_term)        \n",
    "        plt.show()\n",
    "        \n",
    "def volcano_plot(df: DataFrame, x_term: str='coef', y_term: str='p-value', \n",
    "                 alpha: float=0.05, adj_p_col: str='fdr_bh', title: str=None, \n",
    "                 filter_nseeff: bool=True, extreme_size: float=10.0):\n",
    "    df = df.copy()\n",
    "    df = df.reset_index(drop=True)    \n",
    "    if filter_nseeff:\n",
    "        df = df.loc[((-extreme_size < df[x_term]) & \n",
    "                    (df[x_term] < extreme_size) &\n",
    "                    (~df['z'].isna()) | \n",
    "                    (df[adj_p_col] < alpha))]\n",
    "    plt.figure(figsize=(9,9))\n",
    "    log_pvalue = -np.log10(df[y_term])\n",
    "    is_sig = df[adj_p_col] < alpha\n",
    "    with rc_context({'figure.figsize': (8, 8), 'figure.dpi': 50}):\n",
    "        plt.style.use('seaborn-v0_8-talk')    \n",
    "        scatterplot(x=x_term, y=log_pvalue, data=df, hue=is_sig, palette='Purples')\n",
    "        plt.title(title)\n",
    "        plt.xlabel('effect')\n",
    "        plt.ylabel('-log10(p-value)')\n",
    "        fig_file = f'{figures_dir}/{project}.{modality}.glmpb_volcano.{title}.png'\n",
    "        plt.savefig(fig_file)\n",
    "        plt.show()\n",
    "    \n",
    "def prep_plot_feature(feature_results: Series, covars: DataFrame):\n",
    "    if feature_results.type == 'curated_type':\n",
    "        prefix_type = 'broad'\n",
    "    elif feature_results.type == 'cluster_name':\n",
    "        prefix_type = 'specific'\n",
    "    # load the pseudobulk quantifications\n",
    "    this_df = read_parquet((f'{quants_dir}/{project}.{modality}.{prefix_type}'\n",
    "                            f'.{feature_results.tissue}.pb.parquet'))\n",
    "    this_df = this_df.merge(covars, how='inner', left_index=True, right_index=True)        \n",
    "    print(feature_results)\n",
    "    if DEBUG:\n",
    "        print(f'shape the quantified pseudobulk {this_df.shape}')\n",
    "        display(this_df.sample(5))    \n",
    "    plot_feature_by_age(this_df, feature_results.feature)\n",
    "    with rc_context({'figure.figsize': (8, 8), 'figure.dpi': 50}):\n",
    "        plt.style.use('seaborn-v0_8-talk')        \n",
    "        displot(data=this_df[feature_results.feature], kind='kde')\n",
    "        plt.show()\n",
    "    "
   ]
  },
  {
   "cell_type": "markdown",
   "id": "4de70fb5-b83f-4728-b14d-e14af2a63434",
   "metadata": {},
   "source": [
    "### load discovery cohort data"
   ]
  },
  {
   "cell_type": "markdown",
   "id": "6d50f91b",
   "metadata": {},
   "source": [
    "#### read the anndata (h5ad) file"
   ]
  },
  {
   "cell_type": "code",
   "execution_count": null,
   "id": "9dfbf146",
   "metadata": {},
   "outputs": [],
   "source": [
    "%%time\n",
    "adata = sc.read(anndata_file, cache=True)\n",
    "print(adata)\n",
    "if DEBUG:\n",
    "    display(adata.obs.sample(5))"
   ]
  },
  {
   "cell_type": "markdown",
   "id": "1a1cba8e",
   "metadata": {},
   "source": [
    "#### take a look at the cell counts by cell type"
   ]
  },
  {
   "cell_type": "code",
   "execution_count": null,
   "id": "75acd0de-e6f8-4255-b276-3c1746f1fca0",
   "metadata": {},
   "outputs": [],
   "source": [
    "for category in categories:\n",
    "    display(adata.obs[category].value_counts())"
   ]
  },
  {
   "cell_type": "markdown",
   "id": "0c2ce0d5",
   "metadata": {},
   "source": [
    "### read the age regressions results by cell-type"
   ]
  },
  {
   "cell_type": "code",
   "execution_count": null,
   "id": "6d48b911-cacb-4671-b2b7-62daef3377ef",
   "metadata": {},
   "outputs": [],
   "source": [
    "%%time\n",
    "\n",
    "glm_results = None\n",
    "for category in categories:\n",
    "    print(f'### {category}')    \n",
    "    for cell_type in adata.obs[category].unique():\n",
    "        print(f'--- {cell_type}')\n",
    "        if category == 'curated_type':\n",
    "            prefix_type = 'broad'\n",
    "        elif category == 'cluster_name':\n",
    "            prefix_type = 'specific'   \n",
    "        in_file = f'{results_dir}/{project}.{modality}.{prefix_type}.{cell_type}.glm_age.csv'\n",
    "        if exists(in_file):\n",
    "            glm_results = concat([glm_results, read_csv(in_file)])"
   ]
  },
  {
   "cell_type": "code",
   "execution_count": null,
   "id": "43989811-bdf0-4b40-b171-131b56348e32",
   "metadata": {},
   "outputs": [],
   "source": [
    "print(f'shape of all load results {glm_results.shape}')\n",
    "if DEBUG:\n",
    "    display(glm_results.type.value_counts())\n",
    "    display(glm_results.groupby('type').tissue.value_counts())    \n",
    "    display(glm_results.sample(5))"
   ]
  },
  {
   "cell_type": "markdown",
   "id": "77cb1ff6",
   "metadata": {},
   "source": [
    "### compute the FDR values"
   ]
  },
  {
   "cell_type": "code",
   "execution_count": null,
   "id": "9c6d5a64",
   "metadata": {},
   "outputs": [],
   "source": [
    "glm_results['p-value'] = glm_results['p-value'].fillna(1)\n",
    "glm_results = compute_bh_fdr(glm_results)\n",
    "print(glm_results.shape)\n",
    "if DEBUG:\n",
    "    display(glm_results.sort_values('fdr_bh').head())"
   ]
  },
  {
   "cell_type": "code",
   "execution_count": null,
   "id": "12c47187-683b-43ea-a15f-e93258ff2389",
   "metadata": {},
   "outputs": [],
   "source": [
    "with rc_context({'figure.figsize': (9, 9)}):\n",
    "    scatterplot(data=glm_results, x=glm_results['fdr_bh'], y=glm_results['p-value'])\n",
    "    plt.axhline(y=0.05, linestyle='--')\n",
    "    plt.axvline(x=0.05, linestyle='--')\n",
    "    plt.show()"
   ]
  },
  {
   "cell_type": "markdown",
   "id": "02a1a226",
   "metadata": {},
   "source": [
    "### count of significant genes by broad curated cell-type"
   ]
  },
  {
   "cell_type": "code",
   "execution_count": null,
   "id": "dd990101",
   "metadata": {},
   "outputs": [],
   "source": [
    "print(glm_results.loc[glm_results['fdr_bh'] < 0.05]['tissue'].nunique())\n",
    "display(glm_results.loc[glm_results['fdr_bh'] < 0.05].groupby('type').tissue.value_counts())"
   ]
  },
  {
   "cell_type": "markdown",
   "id": "a7ecf17a-6cab-4d9c-a870-bd4f862be114",
   "metadata": {},
   "source": [
    "#### format tested versus signficant as table"
   ]
  },
  {
   "cell_type": "code",
   "execution_count": null,
   "id": "9709c5bd-dd1d-46e6-b1a0-b61f81c2959e",
   "metadata": {},
   "outputs": [],
   "source": [
    "tested = glm_results.groupby('type').tissue.value_counts()\n",
    "tested.name = 'tested'\n",
    "significant = glm_results.loc[glm_results['fdr_bh'] < 0.05].groupby('type').tissue.value_counts()\n",
    "significant.name = 'significant'\n",
    "combined = concat([tested, significant], axis='columns')\n",
    "combined['percent'] = round(combined.significant/combined.tested * 100, 2)\n",
    "display(combined.sort_values('significant', ascending=False))"
   ]
  },
  {
   "cell_type": "markdown",
   "id": "036d92fb-7211-4a80-9d0f-f6f0c237b274",
   "metadata": {},
   "source": [
    "### save results"
   ]
  },
  {
   "cell_type": "markdown",
   "id": "2a6b0655",
   "metadata": {},
   "source": [
    "#### save the full results"
   ]
  },
  {
   "cell_type": "code",
   "execution_count": null,
   "id": "d12b92cf",
   "metadata": {},
   "outputs": [],
   "source": [
    "glm_results.to_csv(results_file, index=False)"
   ]
  },
  {
   "cell_type": "markdown",
   "id": "58567759",
   "metadata": {},
   "source": [
    "#### save the statistically significant results"
   ]
  },
  {
   "cell_type": "code",
   "execution_count": null,
   "id": "10a8d676",
   "metadata": {},
   "outputs": [],
   "source": [
    "glm_results.loc[glm_results['fdr_bh'] < 0.05].to_csv(results_fdr_file, index=False)"
   ]
  },
  {
   "cell_type": "markdown",
   "id": "c582b2b4-39c5-4f4e-9673-bfe430745c41",
   "metadata": {},
   "source": [
    "### visualize results"
   ]
  },
  {
   "cell_type": "markdown",
   "id": "90a4c216",
   "metadata": {},
   "source": [
    "#### visualize volcano plots"
   ]
  },
  {
   "cell_type": "code",
   "execution_count": null,
   "id": "3704c7ed",
   "metadata": {
    "tags": []
   },
   "outputs": [],
   "source": [
    "volcano_plot(glm_results, title='all_results')\n",
    "\n",
    "print('### broad cell-types')\n",
    "for category in categories:\n",
    "    print(f'### {category}')    \n",
    "    for cell_type in adata.obs[category].unique():\n",
    "        cell_name = f'Frontal_cortex_{cell_type}'\n",
    "        print(f'--- {cell_type}')\n",
    "        volcano_plot(glm_results.loc[(glm_results.tissue == cell_type) & \n",
    "                                     (glm_results.type == category)], title=cell_type)"
   ]
  },
  {
   "cell_type": "markdown",
   "id": "15038f12",
   "metadata": {},
   "source": [
    "#### look at some of the individual results"
   ]
  },
  {
   "cell_type": "markdown",
   "id": "2e4af722-dfe0-49ac-beb5-e78245c632a7",
   "metadata": {},
   "source": [
    "##### format sample covariates\n",
    "\n",
    "sex, ancestry, age, (gex_pool or atac_pool), pmi, ph, smoker, bmi"
   ]
  },
  {
   "cell_type": "code",
   "execution_count": null,
   "id": "33fb9179-0a02-4984-8ee1-c44060f9aafb",
   "metadata": {},
   "outputs": [],
   "source": [
    "keep_terms = ['sample_id','sex', 'ancestry', 'age', 'gex_pool', 'atac_pool', \n",
    "              'pmi', 'ph', 'smoker', 'bmi']\n",
    "covars_df = adata.obs[keep_terms].drop_duplicates().reset_index(drop=True)\n",
    "covars_df = covars_df.set_index('sample_id')\n",
    "\n",
    "if DEBUG:\n",
    "    print(covars_df.shape)\n",
    "    display(covars_df.head())\n",
    "    display(covars_df.info())\n",
    "    display(covars_df.smoker.value_counts())\n",
    "    display(covars_df.bmi.describe())"
   ]
  },
  {
   "cell_type": "markdown",
   "id": "2aefec1f-09b5-48b2-a6e7-b2713f37b354",
   "metadata": {},
   "source": [
    "##### fill any missing covariate terms\n",
    "looks like smoker and bmi is missing for one sample will set it to mean of those values"
   ]
  },
  {
   "cell_type": "code",
   "execution_count": null,
   "id": "d42ddd58-841e-4b8b-8547-e05a26e81d06",
   "metadata": {},
   "outputs": [],
   "source": [
    "# fill the missing smoker and bmi value\n",
    "covars_df.loc[covars_df.smoker.isna(), 'smoker'] = covars_df.smoker.mean().round(1)\n",
    "covars_df.loc[covars_df.bmi.isna(), 'bmi'] = covars_df.bmi.mean().round(1)\n",
    "\n",
    "if DEBUG:\n",
    "    print(covars_df.shape)\n",
    "    display(covars_df.info())\n",
    "    display(covars_df.smoker.value_counts())\n",
    "    display(covars_df.bmi.describe())"
   ]
  },
  {
   "cell_type": "markdown",
   "id": "300c8c25-0693-41ca-8376-2cd6eecd47a7",
   "metadata": {},
   "source": [
    "##### set the pool term based on modality being analyzed"
   ]
  },
  {
   "cell_type": "code",
   "execution_count": null,
   "id": "dc8ccf35-2164-4783-b3f7-be24be0e0bd1",
   "metadata": {},
   "outputs": [],
   "source": [
    "if modality == 'GEX':\n",
    "    covars_df['pool'] = covars_df.gex_pool\n",
    "elif modality == 'ATAC':\n",
    "    covars_df['pool'] = covars_df.atac_pool\n",
    "covars_df = covars_df.drop(columns=['gex_pool', 'atac_pool'])\n",
    "print(f'shape of covariate terms is {covars_df.shape}')\n",
    "if DEBUG:\n",
    "    display(covars_df.head(40))"
   ]
  },
  {
   "cell_type": "code",
   "execution_count": null,
   "id": "23aac85a",
   "metadata": {},
   "outputs": [],
   "source": [
    "# max significant by p-value\n",
    "this_results = glm_results.loc[glm_results['p-value'] == min(glm_results['p-value'])]\n",
    "this_hit = this_results.sort_values(by=['coef'], ascending=False).iloc[0]\n",
    "prep_plot_feature(this_hit, covars_df)"
   ]
  },
  {
   "cell_type": "code",
   "execution_count": null,
   "id": "409b0bdc",
   "metadata": {},
   "outputs": [],
   "source": [
    "# min significant by coef\n",
    "sig_results = glm_results.loc[glm_results['fdr_bh'] < 0.05]\n",
    "this_results = sig_results.loc[sig_results['coef'] == min(sig_results['coef'])]\n",
    "this_hit = this_results.sort_values(by=['coef'], ascending=False).iloc[0]\n",
    "prep_plot_feature(this_hit, covars_df)"
   ]
  },
  {
   "cell_type": "code",
   "execution_count": null,
   "id": "bfb767f3",
   "metadata": {},
   "outputs": [],
   "source": [
    "# random\n",
    "this_hit = sig_results.sample().iloc[0]\n",
    "prep_plot_feature(this_hit, covars_df)"
   ]
  },
  {
   "cell_type": "code",
   "execution_count": null,
   "id": "9586e2f1",
   "metadata": {},
   "outputs": [],
   "source": [
    "# max non-significat by coef\n",
    "nonsig_results = glm_results.loc[(glm_results['fdr_bh'] > 0.05) & \n",
    "                                 (~glm_results['z'].isna())]\n",
    "this_results = nonsig_results.loc[nonsig_results['coef'] == max(nonsig_results['coef'])]\n",
    "this_hit = this_results.iloc[0]\n",
    "prep_plot_feature(this_hit, covars_df)"
   ]
  },
  {
   "cell_type": "code",
   "execution_count": null,
   "id": "2785fd0d-08c2-4c8a-a0ec-40931b525db5",
   "metadata": {},
   "outputs": [],
   "source": [
    "!date"
   ]
  }
 ],
 "metadata": {
  "kernelspec": {
   "display_name": "Python 3 (ipykernel)",
   "language": "python",
   "name": "python3"
  },
  "language_info": {
   "codemirror_mode": {
    "name": "ipython",
    "version": 3
   },
   "file_extension": ".py",
   "mimetype": "text/x-python",
   "name": "python",
   "nbconvert_exporter": "python",
   "pygments_lexer": "ipython3",
   "version": "3.10.13"
  }
 },
 "nbformat": 4,
 "nbformat_minor": 5
}
