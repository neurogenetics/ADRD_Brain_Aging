{
 "cells": [
  {
   "cell_type": "markdown",
   "id": "339a0bc2-de2b-4d37-97d1-915248c0da6d",
   "metadata": {},
   "source": [
    "## Notebook to run scvi-tools CellAssign on GEX anndata per markerset DB using Papermill"
   ]
  },
  {
   "cell_type": "code",
   "execution_count": null,
   "id": "7c3fbaf0-8e18-49a0-b13a-34823fb8edc8",
   "metadata": {
    "tags": []
   },
   "outputs": [],
   "source": [
    "!date"
   ]
  },
  {
   "cell_type": "markdown",
   "id": "c8e881ec-7fd9-4f4f-a93c-a1d64f8cb5dd",
   "metadata": {},
   "source": [
    "#### import libraries"
   ]
  },
  {
   "cell_type": "code",
   "execution_count": null,
   "id": "039e764e-7bf9-476a-952e-862470502966",
   "metadata": {
    "tags": []
   },
   "outputs": [],
   "source": [
    "from os import makedirs\n",
    "from papermill import execute_notebook"
   ]
  },
  {
   "cell_type": "markdown",
   "id": "5e7b43af-03cd-41d0-986b-3a7ed280c80e",
   "metadata": {},
   "source": [
    "#### set notebook variables"
   ]
  },
  {
   "cell_type": "code",
   "execution_count": null,
   "id": "849be4f4-66a6-4896-a48b-077e3fc8174c",
   "metadata": {
    "tags": []
   },
   "outputs": [],
   "source": [
    "# naming\n",
    "\n",
    "# directories\n",
    "notebook_dir = '/home/gibbsr/working/ADRD_Brain_Aging/phase2'\n",
    "out_nb_dir = f'{notebook_dir}/pm_gend_nbs'\n",
    "\n",
    "# in files\n",
    "base_notebook = f'{notebook_dir}/scvi_cellassign.ipynb'\n",
    "\n",
    "# variables"
   ]
  },
  {
   "cell_type": "markdown",
   "id": "3f67aa2a-3d81-4e5a-880c-6fb813aa1c2f",
   "metadata": {},
   "source": [
    "### run the notebook iterations"
   ]
  },
  {
   "cell_type": "code",
   "execution_count": null,
   "id": "da07c011-df86-4009-a00c-887133ede440",
   "metadata": {
    "tags": []
   },
   "outputs": [],
   "source": [
    "%%time\n",
    "# make sure the notebook output dir exists\n",
    "makedirs(out_nb_dir, exist_ok=True)\n",
    "\n",
    "for marker_set in ['sctypes', 'pangloadb', 'bakken']:\n",
    "    param_dict = {'marker_set': marker_set}\n",
    "    out_notebook = f'{out_nb_dir}/scvi_cellassign_{marker_set}.ipynb'\n",
    "    print(param_dict)\n",
    "    print(out_notebook)\n",
    "    execute_notebook(input_path=base_notebook, output_path=out_notebook, \n",
    "                     parameters=param_dict)"
   ]
  },
  {
   "cell_type": "code",
   "execution_count": null,
   "id": "f73ee274-6faa-4398-8c83-b2909d6e1b75",
   "metadata": {},
   "outputs": [],
   "source": [
    "!date"
   ]
  }
 ],
 "metadata": {
  "kernelspec": {
   "display_name": "Python 3 (ipykernel)",
   "language": "python",
   "name": "python3"
  },
  "language_info": {
   "codemirror_mode": {
    "name": "ipython",
    "version": 3
   },
   "file_extension": ".py",
   "mimetype": "text/x-python",
   "name": "python",
   "nbconvert_exporter": "python",
   "pygments_lexer": "ipython3",
   "version": "3.9.13"
  }
 },
 "nbformat": 4,
 "nbformat_minor": 5
}
