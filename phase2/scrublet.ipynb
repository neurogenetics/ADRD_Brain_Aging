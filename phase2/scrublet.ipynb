{
 "cells": [
  {
   "cell_type": "markdown",
   "id": "e2f71d13-c258-4e40-ade8-0469ee57740d",
   "metadata": {},
   "source": [
    "## Notebook to identify potential doublets using Scrublet\n",
    "\n",
    "- [Github repo](https://github.com/AllonKleinLab/scrublet)\n",
    "- [repo example notebook](https://github.com/AllonKleinLab/scrublet/blob/master/examples/scrublet_basics.ipynb)\n",
    "- [Cell Systems paper](https://www.sciencedirect.com/science/article/pii/S2405471218304745)"
   ]
  },
  {
   "cell_type": "code",
   "execution_count": null,
   "id": "6873eee9-ea21-42f9-9751-51b00e5e2064",
   "metadata": {},
   "outputs": [],
   "source": [
    "!date"
   ]
  },
  {
   "cell_type": "markdown",
   "id": "44076f88-b883-4691-a335-6ed1f8a85e2a",
   "metadata": {},
   "source": [
    "#### import libraries"
   ]
  },
  {
   "cell_type": "code",
   "execution_count": null,
   "id": "a2f74925-8996-4249-999c-cf83fb5b5b61",
   "metadata": {},
   "outputs": [],
   "source": [
    "import scanpy as sc\n",
    "import scrublet as scr\n",
    "import matplotlib.pyplot as plt\n",
    "from matplotlib.pyplot import rc_context\n",
    "\n",
    "%matplotlib inline\n",
    "# for white background of figures (only for docs rendering)\n",
    "%config InlineBackend.print_figure_kwargs={'facecolor' : \"w\"}\n",
    "%config InlineBackend.figure_format='retina'"
   ]
  },
  {
   "cell_type": "markdown",
   "id": "24a02ec2-15c0-433a-8062-77900320a623",
   "metadata": {},
   "source": [
    "#### set notebook variables"
   ]
  },
  {
   "cell_type": "code",
   "execution_count": null,
   "id": "ee54e296-e243-487a-8020-90a925411d0a",
   "metadata": {},
   "outputs": [],
   "source": [
    "# naming\n",
    "proj_name = 'aging_phase2'\n",
    "\n",
    "# directories\n",
    "wrk_dir = '/labshare/raph/datasets/adrd_neuro/brain_aging/phase2'\n",
    "quants_dir = f'{wrk_dir}/quants'\n",
    "\n",
    "# in files\n",
    "anndata_file = f'{quants_dir}/{proj_name}.raw.h5ad'\n",
    "\n",
    "# out files\n",
    "scores_file = f'{quants_dir}/{proj_name}.scrublet_scores.csv'\n",
    "\n",
    "# variables\n",
    "DEBUG = True\n",
    "dpi_value = 50\n",
    "use_gene_only = False\n",
    "expected_rate = 0.08"
   ]
  },
  {
   "cell_type": "markdown",
   "id": "f0a27405-967e-4540-a3bf-23ac0811ea46",
   "metadata": {},
   "source": [
    "### load the anndata files"
   ]
  },
  {
   "cell_type": "code",
   "execution_count": null,
   "id": "425133eb-8f5b-4a36-be05-2b092dae63ac",
   "metadata": {},
   "outputs": [],
   "source": [
    "%%time\n",
    "adata = sc.read(anndata_file)\n",
    "\n",
    "if DEBUG:\n",
    "    print(adata)\n",
    "    \n",
    "# run doublet detection using just the Gene Expression features, ie don't include the peak features\n",
    "if use_gene_only:\n",
    "    adata = adata[:,adata.var.modality == 'Gene Expression']\n",
    "\n",
    "    if DEBUG:\n",
    "        print(adata)"
   ]
  },
  {
   "cell_type": "markdown",
   "id": "5cfcc729-51cf-40c5-94f6-0239b72163de",
   "metadata": {},
   "source": [
    "### Initialize Scrublet object\n",
    "The relevant parameters are:\n",
    "\n",
    "- expected_doublet_rate: the expected fraction of transcriptomes that are doublets, typically 0.05-0.1. Results are not particularly sensitive to this parameter. For this example, the expected doublet rate comes from the Chromium User Guide: https://support.10xgenomics.com/permalink/3vzDu3zQjY0o2AqkkkI4CC\n",
    "- sim_doublet_ratio: the number of doublets to simulate, relative to the number of observed transcriptomes. This should be high enough that all doublet states are well-represented by simulated doublets. Setting it too high is computationally expensive. The default value is 2, though values as low as 0.5 give very similar results for the datasets that have been tested.\n",
    "- n_neighbors: Number of neighbors used to construct the KNN classifier of observed transcriptomes and simulated doublets. The default value of round(0.5*sqrt(n_cells)) generally works well."
   ]
  },
  {
   "cell_type": "code",
   "execution_count": null,
   "id": "3168be86-d767-4364-ab8e-1398ea9740e0",
   "metadata": {},
   "outputs": [],
   "source": [
    "%%time\n",
    "scrub = scr.Scrublet(adata.X, expected_doublet_rate=expected_rate)"
   ]
  },
  {
   "cell_type": "markdown",
   "id": "8f037abf-e258-4b26-ab9b-12cf0e71d9b9",
   "metadata": {},
   "source": [
    "### Run the default pipeline, which includes:\n",
    "1. Doublet simulation\n",
    "2. Normalization, gene filtering, rescaling, PCA\n",
    "3. Doublet score calculation\n",
    "4. Doublet score threshold detection and doublet calling"
   ]
  },
  {
   "cell_type": "code",
   "execution_count": null,
   "id": "2f3cefa0-6612-455c-9dbb-814170b9236a",
   "metadata": {},
   "outputs": [],
   "source": [
    "%%time\n",
    "doublet_scores, predicted_doublets = scrub.scrub_doublets()"
   ]
  },
  {
   "cell_type": "markdown",
   "id": "03701829-98a4-44ee-ac71-724613fe5f69",
   "metadata": {},
   "source": [
    "### Plot doublet score histograms for observed transcriptomes and simulated doublets\n",
    "The simulated doublet histogram is typically bimodal. The left mode corresponds to \"embedded\" doublets generated by two cells with similar gene expression. The right mode corresponds to \"neotypic\" doublets, which are generated by cells with distinct gene expression (e.g., different cell types) and are expected to introduce more artifacts in downstream analyses. Scrublet can only detect neotypic doublets.\n",
    "\n",
    "To call doublets vs. singlets, we must set a threshold doublet score, ideally at the minimum between the two modes of the simulated doublet histogram. scrub_doublets() attempts to identify this point automatically and has done a good job in this example. However, if automatic threshold detection doesn't work well, you can adjust the threshold with the call_doublets() function. For example:\n",
    "\n",
    "scrub.call_doublets(threshold=0.25)"
   ]
  },
  {
   "cell_type": "code",
   "execution_count": null,
   "id": "b2d09c67-2be5-46e9-a013-ba9c05e6c546",
   "metadata": {},
   "outputs": [],
   "source": [
    "with rc_context({'figure.figsize': (9, 9), 'figure.dpi': dpi_value}):\n",
    "    plt.style.use('seaborn-bright')\n",
    "    scrub.plot_histogram()"
   ]
  },
  {
   "cell_type": "markdown",
   "id": "f70a96de-504f-4451-b8e6-03cb1b8df9f5",
   "metadata": {},
   "source": [
    "### Get 2-D embedding to visualize the results"
   ]
  },
  {
   "cell_type": "code",
   "execution_count": null,
   "id": "dedfe342-28b3-492c-8334-e3fc3a8a9bf4",
   "metadata": {},
   "outputs": [],
   "source": [
    "print('Running UMAP...')\n",
    "scrub.set_embedding('UMAP', scr.get_umap(scrub.manifold_obs_, 10, min_dist=0.3))\n",
    "\n",
    "print('Done.')"
   ]
  },
  {
   "cell_type": "markdown",
   "id": "6928b53a-bb2c-47a3-8b13-d28be4f09698",
   "metadata": {},
   "source": [
    "### Plot doublet predictions on 2-D embedding\n",
    "Predicted doublets should co-localize in distinct states."
   ]
  },
  {
   "cell_type": "code",
   "execution_count": null,
   "id": "831dcc0b-6cb1-4e44-8a46-93f59f013a76",
   "metadata": {},
   "outputs": [],
   "source": [
    "with rc_context({'figure.figsize': (9, 9), 'figure.dpi': dpi_value}):\n",
    "    plt.style.use('seaborn-bright')\n",
    "    scrub.plot_embedding('UMAP', order_points=True)"
   ]
  },
  {
   "cell_type": "markdown",
   "id": "84487eef-9646-4a75-8c7d-a3f2914cd797",
   "metadata": {},
   "source": [
    "### add the scores the the cell observations"
   ]
  },
  {
   "cell_type": "code",
   "execution_count": null,
   "id": "85902b69-3448-4714-822d-abda56db5f65",
   "metadata": {},
   "outputs": [],
   "source": [
    "adata.obs['doublet_score'] = doublet_scores\n",
    "adata.obs['predicted_doublet'] = predicted_doublets"
   ]
  },
  {
   "cell_type": "code",
   "execution_count": null,
   "id": "8ae4ce2e-60b1-41be-9431-4bb46508ceff",
   "metadata": {},
   "outputs": [],
   "source": [
    "display(adata.obs.predicted_doublet.value_counts())"
   ]
  },
  {
   "cell_type": "markdown",
   "id": "b937f32e-2a04-4656-bd49-f529f905ae0a",
   "metadata": {},
   "source": [
    "### save the scores"
   ]
  },
  {
   "cell_type": "code",
   "execution_count": null,
   "id": "cc626a1d-0eea-4930-812b-3de29a5c4dd9",
   "metadata": {},
   "outputs": [],
   "source": [
    "adata.obs.to_csv(scores_file)"
   ]
  },
  {
   "cell_type": "code",
   "execution_count": null,
   "id": "526adc00-12c1-4f60-919f-c873bd6214e9",
   "metadata": {},
   "outputs": [],
   "source": [
    "!date"
   ]
  }
 ],
 "metadata": {
  "environment": {
   "kernel": "python3",
   "name": "pytorch-gpu.1-11.m94",
   "type": "gcloud",
   "uri": "gcr.io/deeplearning-platform-release/pytorch-gpu.1-11:m94"
  },
  "kernelspec": {
   "display_name": "Python 3 (ipykernel)",
   "language": "python",
   "name": "python3"
  },
  "language_info": {
   "codemirror_mode": {
    "name": "ipython",
    "version": 3
   },
   "file_extension": ".py",
   "mimetype": "text/x-python",
   "name": "python",
   "nbconvert_exporter": "python",
   "pygments_lexer": "ipython3",
   "version": "3.9.15"
  }
 },
 "nbformat": 4,
 "nbformat_minor": 5
}
