{
 "cells": [
  {
   "cell_type": "markdown",
   "id": "35697b94-96cd-4647-af0e-354c0684f34a",
   "metadata": {},
   "source": [
    "## Notebook to merge the multiVI clustering info onto full anndata object\n",
    "This is to create an anndata object where all features can be inspected relative to clustering for manually curation of cell-type labeling. The multiVI anndata files only contain the top 20% of high variance features"
   ]
  },
  {
   "cell_type": "code",
   "execution_count": null,
   "id": "da3a24fb-59be-4e09-940e-cdea4593beca",
   "metadata": {},
   "outputs": [],
   "source": [
    "!date"
   ]
  },
  {
   "cell_type": "markdown",
   "id": "c38dab8a-c375-4d5c-8d21-37d4b7880e1e",
   "metadata": {},
   "source": [
    "#### import libraries"
   ]
  },
  {
   "cell_type": "code",
   "execution_count": null,
   "id": "6d06ffbe-6979-48b0-afe0-bbf113ee8211",
   "metadata": {},
   "outputs": [],
   "source": [
    "import scanpy as sc\n",
    "from anndata import AnnData\n",
    "import numpy as np\n",
    "from matplotlib.pyplot import rc_context\n",
    "import matplotlib.pyplot as plt\n",
    "\n",
    "# for white background of figures (only for docs rendering)\n",
    "%config InlineBackend.print_figure_kwargs={'facecolor' : \"w\"}\n",
    "%config InlineBackend.figure_format='retina'"
   ]
  },
  {
   "cell_type": "markdown",
   "id": "1e9ca240-4573-4684-b969-b42b37d18f09",
   "metadata": {},
   "source": [
    "#### set notebook variables"
   ]
  },
  {
   "cell_type": "code",
   "execution_count": null,
   "id": "f2424c4b-0ff7-4596-aa33-5b4ba8673432",
   "metadata": {},
   "outputs": [],
   "source": [
    "# naming\n",
    "project = 'aging_phase2'\n",
    "\n",
    "# directories\n",
    "wrk_dir = '/labshare/raph/datasets/adrd_neuro/brain_aging/phase2'\n",
    "quants_dir = f'{wrk_dir}/quants'\n",
    "figures_dir = f'{wrk_dir}/figures'\n",
    "sc.settings.figdir = f'{figures_dir}/'\n",
    "\n",
    "# in files\n",
    "raw_anndata_file = f'{quants_dir}/{project}.raw.h5ad'\n",
    "multivi_anndata_file = f'{quants_dir}/{project}.multivi.cellassign.h5ad'\n",
    "\n",
    "# out files\n",
    "new_full_anndata_file = f'{quants_dir}/{project}.full.h5ad'\n",
    "\n",
    "# variables\n",
    "DEBUG = False"
   ]
  },
  {
   "cell_type": "markdown",
   "id": "6846dcbf-e6c7-433a-be2e-cbc8d3bc2dcf",
   "metadata": {},
   "source": [
    "### load data"
   ]
  },
  {
   "cell_type": "markdown",
   "id": "095f30af-e65c-4823-9a1e-64e762698db6",
   "metadata": {},
   "source": [
    "#### load the multiVI and CellAssign anndata file"
   ]
  },
  {
   "cell_type": "code",
   "execution_count": null,
   "id": "a3149e45-cbe2-4f5e-88ef-aadaa5fa32f9",
   "metadata": {},
   "outputs": [],
   "source": [
    "%%time\n",
    "adata_multivi = sc.read_h5ad(multivi_anndata_file)\n",
    "print(adata_multivi)\n",
    "if DEBUG:\n",
    "    display(adata_multivi.obs.head())"
   ]
  },
  {
   "cell_type": "markdown",
   "id": "e614ae53-dbf3-48fd-8ed4-b12589971939",
   "metadata": {},
   "source": [
    "#### load to raw anndata file"
   ]
  },
  {
   "cell_type": "code",
   "execution_count": null,
   "id": "2e1efc43-bf4b-4d9c-b167-52313e5ab287",
   "metadata": {},
   "outputs": [],
   "source": [
    "%%time\n",
    "adata_raw = sc.read_h5ad(raw_anndata_file)\n",
    "print(adata_raw)\n",
    "if DEBUG:\n",
    "    display(adata_raw.obs.head())"
   ]
  },
  {
   "cell_type": "markdown",
   "id": "edac5ba2-4279-411d-9adc-4789fd67b38c",
   "metadata": {},
   "source": [
    "#### make sure we are using same cells \n",
    "if there are additional cells from reference drop those"
   ]
  },
  {
   "cell_type": "code",
   "execution_count": null,
   "id": "96a66757-5b17-4ff7-a0d2-b044d53b63d6",
   "metadata": {},
   "outputs": [],
   "source": [
    "adata_multivi = adata_multivi[adata_multivi.obs.index.isin(adata_raw.obs.index)]\n",
    "print(adata_multivi)\n",
    "if DEBUG:\n",
    "    display(adata_multivi.obs.head())"
   ]
  },
  {
   "cell_type": "markdown",
   "id": "b8914802-865b-44ea-8c16-eea882f66869",
   "metadata": {},
   "source": [
    "### identify some of the attributes that are appropriate to copy over"
   ]
  },
  {
   "cell_type": "markdown",
   "id": "d501f312-3cd8-4205-b0ad-941d944b120c",
   "metadata": {},
   "source": [
    "#### differences in the obs"
   ]
  },
  {
   "cell_type": "code",
   "execution_count": null,
   "id": "dd1f124d-47d3-412c-a416-01a759235304",
   "metadata": {},
   "outputs": [],
   "source": [
    "# difference in obs columns\n",
    "diff_cols = set(adata_multivi.obs.columns) ^ set(adata_raw.obs.columns)\n",
    "print(f'different: {diff_cols}')\n",
    "# share obs columns\n",
    "shared_cols = set(adata_multivi.obs.columns) & set(adata_raw.obs.columns)\n",
    "print(f'shared: {shared_cols}')"
   ]
  },
  {
   "cell_type": "markdown",
   "id": "821f1d62-abde-4d4f-8988-cda09280f710",
   "metadata": {},
   "source": [
    "#### need to transfer these for obs\n",
    "'RefCluster', 'Cell_type', 'sctypes', 'leiden_MultiVI', 'bakken', 'pangloadb'"
   ]
  },
  {
   "cell_type": "markdown",
   "id": "01c9df2d-b363-4aa7-bfb5-4dc9abc5d67f",
   "metadata": {},
   "source": [
    "#### differences in the var\n",
    "expect many here that aren't appropriate to transfer as they are computed"
   ]
  },
  {
   "cell_type": "code",
   "execution_count": null,
   "id": "cb01d52b-602a-4fe7-a756-14520d88766e",
   "metadata": {},
   "outputs": [],
   "source": [
    "# difference in obs columns\n",
    "diff_cols = set(adata_multivi.var.columns) ^ set(adata_raw.var.columns)\n",
    "print(f'different: {diff_cols}')\n",
    "# share obs columns\n",
    "shared_cols = set(adata_multivi.var.columns) & set(adata_raw.var.columns)\n",
    "print(f'shared: {shared_cols}')"
   ]
  },
  {
   "cell_type": "markdown",
   "id": "56381dd8-e43b-4f9f-851d-601edf4f71a8",
   "metadata": {},
   "source": [
    "#### don't need to transfer any of the difference in the var columns"
   ]
  },
  {
   "cell_type": "markdown",
   "id": "2939d05a-bd99-4978-b1ca-e896aaba353b",
   "metadata": {},
   "source": [
    "#### don't need to transfer any of the layers"
   ]
  },
  {
   "cell_type": "markdown",
   "id": "3d30ee53-2b0a-49b5-9879-87a8ca71db12",
   "metadata": {},
   "source": [
    "#### check the following multi-diminsional and graph base observation annotations (obsm & obsp) as well as the unstructured data (uns) annotations\n",
    "\n",
    "- uns: 'leiden', 'leiden_MultiVI_colors', 'neighbors', 'phase1_celltype_colors', 'phase1_cluster_colors', 'sample_id_colors', 'umap'\n",
    "- obsm: 'MultiVI_latent', 'X_umap'\n",
    "- obsp: 'connectivities', 'distances'"
   ]
  },
  {
   "cell_type": "code",
   "execution_count": null,
   "id": "4d90c5de-078e-4ce5-a135-06140d06bf8e",
   "metadata": {},
   "outputs": [],
   "source": [
    "from numpy import ndarray\n",
    "uns_items = ['leiden', 'leiden_MultiVI_colors', 'neighbors', 'phase1_celltype_colors', \n",
    "             'phase1_cluster_colors', 'sample_id_colors', 'umap']\n",
    "obsm_items = ['MultiVI_latent', 'X_umap']\n",
    "obsp_items = ['connectivities', 'distances']\n",
    "\n",
    "for item_name in uns_items:\n",
    "    print(item_name, type(adata_multivi.uns[item_name]), adata_multivi.uns[item_name])\n",
    "    if type(adata_multivi.uns[item_name]) is ndarray:\n",
    "        print(adata_multivi.uns[item_name].shape)\n",
    "    \n",
    "for item_name in obsm_items:\n",
    "    print(item_name, type(adata_multivi.obsm[item_name]))\n",
    "    if type(adata_multivi.obsm[item_name]) is ndarray:\n",
    "        print(adata_multivi.obsm[item_name].shape)    \n",
    "    \n",
    "for item_name in obsp_items:\n",
    "    print(item_name, type(adata_multivi.obsp[item_name]))   \n",
    "    if type(adata_multivi.obsp[item_name]) is ndarray:\n",
    "        print(adata_multivi.obsp[item_name].shape)    "
   ]
  },
  {
   "cell_type": "markdown",
   "id": "428f8dd5-6011-4f4e-8989-e4815c275e22",
   "metadata": {},
   "source": [
    "### transfer the following attributes from the mutliVI object to the raw object\n",
    "1. obs : ['RefCluster', 'Cell_type', 'sctypes', 'leiden_MultiVI', 'bakken', 'pangloadb']\n",
    "2. uns: ['leiden', 'leiden_MultiVI_colors', 'neighbors', 'phase1_celltype_colors', 'phase1_cluster_colors', 'sample_id_colors', 'umap']\n",
    "3. obsm : ['MultiVI_latent', 'X_umap']\n",
    "4. obsp : ['connectivities', 'distances']\n",
    "\n",
    "prior to transferring need to filter out to small number of cells that appear to have been filtered during multiVI analysis: 232388 (raw) - 232256 (multivi) = 132 (filtered)"
   ]
  },
  {
   "cell_type": "markdown",
   "id": "79f1fe56-16a1-44b9-8a5a-343fe2641850",
   "metadata": {},
   "source": [
    "#### filter to the same cell observations "
   ]
  },
  {
   "cell_type": "code",
   "execution_count": null,
   "id": "5df43782-8b85-478f-8944-43a2762414a9",
   "metadata": {},
   "outputs": [],
   "source": [
    "print(f'obs indices equal: {adata_raw.obs.index.equals(adata_multivi.obs.index)}')\n",
    "adata_raw = adata_raw[adata_raw.obs.index.isin(adata_multivi.obs.index)]\n",
    "print(adata_raw)\n",
    "print(f'post filter, obs indices equal: {adata_raw.obs.index.equals(adata_multivi.obs.index)}')\n",
    "if DEBUG:\n",
    "    display(adata_raw.obs.head())"
   ]
  },
  {
   "cell_type": "markdown",
   "id": "8be5136d-19d3-4ca9-930b-9169165c6546",
   "metadata": {},
   "source": [
    "#### transfer the specified obs attributes"
   ]
  },
  {
   "cell_type": "code",
   "execution_count": null,
   "id": "6e57488b-8fcc-4d1e-9222-b3c6c3365d65",
   "metadata": {},
   "outputs": [],
   "source": [
    "if adata_raw.obs.index.equals(adata_multivi.obs.index):\n",
    "    for obs_col in ['RefCluster', 'Cell_type', 'leiden_MultiVI', 'sctypes', 'bakken', 'pangloadb']:\n",
    "        adata_raw.obs[obs_col] = adata_multivi.obs[obs_col]\n",
    "print(adata_raw)\n",
    "if DEBUG:\n",
    "    display(adata_raw.obs.sample(10))"
   ]
  },
  {
   "cell_type": "markdown",
   "id": "3342deed-77de-47a7-aa07-1fd9ac784670",
   "metadata": {},
   "source": [
    "#### transfer the uns attributes"
   ]
  },
  {
   "cell_type": "code",
   "execution_count": null,
   "id": "dd95ad78-4b29-4236-aaab-9b2b07f10928",
   "metadata": {},
   "outputs": [],
   "source": [
    "for uns_item in ['leiden', 'leiden_MultiVI_colors', 'neighbors', \n",
    "                 'phase1_celltype_colors', 'phase1_cluster_colors', \n",
    "                 'sample_id_colors', 'umap']:\n",
    "    adata_raw.uns[uns_item] = adata_multivi.uns[uns_item]\n",
    "print(adata_raw)"
   ]
  },
  {
   "cell_type": "markdown",
   "id": "f32b271a-d680-4bb0-bb09-4600ae18045b",
   "metadata": {},
   "source": [
    "#### transfer the obsm attributes"
   ]
  },
  {
   "cell_type": "code",
   "execution_count": null,
   "id": "49f88a17-a73d-469b-86b7-f4de5abd2e17",
   "metadata": {},
   "outputs": [],
   "source": [
    "for obsm_item in ['MultiVI_latent', 'X_umap']:\n",
    "    adata_raw.obsm[obsm_item] = adata_multivi.obsm[obsm_item]\n",
    "print(adata_raw)"
   ]
  },
  {
   "cell_type": "markdown",
   "id": "d97a3cd1-c211-456b-9359-78b2323b337c",
   "metadata": {},
   "source": [
    "#### transfer the obsp attributes"
   ]
  },
  {
   "cell_type": "code",
   "execution_count": null,
   "id": "a95923eb-dede-44ed-8f76-a56d02f89a9b",
   "metadata": {},
   "outputs": [],
   "source": [
    "for obsp_item in ['connectivities', 'distances']:\n",
    "    adata_raw.obsp[obsp_item] = adata_multivi.obsp[obsp_item]\n",
    "print(adata_raw)"
   ]
  },
  {
   "cell_type": "markdown",
   "id": "70e1cc08-591c-4ea4-83e5-0b534e512c55",
   "metadata": {},
   "source": [
    "### typical data prep stuff"
   ]
  },
  {
   "cell_type": "code",
   "execution_count": null,
   "id": "ccb4aa75-781e-4f8c-8c58-0e53ba8c8a26",
   "metadata": {},
   "outputs": [],
   "source": [
    "%%time\n",
    "sc.pp.filter_genes(adata_raw, min_counts=3)\n",
    "adata_raw.layers['counts'] = adata_raw.X.copy()  # preserve counts\n",
    "sc.pp.normalize_total(adata_raw, target_sum=1e4)\n",
    "sc.pp.log1p(adata_raw)\n",
    "# adata_raw.raw = adata_raw  # freeze the state in `.raw`\n",
    "sc.pp.highly_variable_genes(adata_raw, n_top_genes=2000, subset=False, layer='counts', \n",
    "                            flavor='seurat_v3')\n",
    "print(adata_raw)\n",
    "if DEBUG:\n",
    "    display(adata_raw.obs.sample(10))\n",
    "    display(adata_raw.var.sample(10))    "
   ]
  },
  {
   "cell_type": "markdown",
   "id": "c8267f6b-fcdd-4f1d-be15-ed105cb67b06",
   "metadata": {},
   "source": [
    "### save the new full anndata object"
   ]
  },
  {
   "cell_type": "code",
   "execution_count": null,
   "id": "6ee4efed-d054-47d2-9153-e34cdf29be11",
   "metadata": {},
   "outputs": [],
   "source": [
    "%%time\n",
    "adata_raw.write(new_full_anndata_file)"
   ]
  },
  {
   "cell_type": "markdown",
   "id": "f4d0d1be-7705-4de4-bbf8-7ed0d6725552",
   "metadata": {},
   "source": [
    "### try some of the typical visualizations"
   ]
  },
  {
   "cell_type": "code",
   "execution_count": null,
   "id": "4ed1dae4-7648-482b-8e64-ad562772fd62",
   "metadata": {},
   "outputs": [],
   "source": [
    "with rc_context({'figure.figsize': (8, 8), 'figure.dpi': 100}):\n",
    "    plt.style.use('seaborn-bright')\n",
    "    sc.pl.umap(adata_raw, color=['leiden_MultiVI'], \n",
    "               frameon=False, legend_loc='on data')"
   ]
  },
  {
   "cell_type": "code",
   "execution_count": null,
   "id": "fc57f718-fc8a-4c8f-8ec1-4fb5cc021b78",
   "metadata": {},
   "outputs": [],
   "source": [
    "with rc_context({'figure.figsize': (8, 8), 'figure.dpi': 100}):\n",
    "    plt.style.use('seaborn-talk')\n",
    "    sc.pl.umap(adata_raw, color=['age'], \n",
    "               frameon=False)"
   ]
  },
  {
   "cell_type": "code",
   "execution_count": null,
   "id": "d83c5d0a-cef0-415f-a27e-ab8628c47ad0",
   "metadata": {},
   "outputs": [],
   "source": [
    "with rc_context({'figure.figsize': (8, 8), 'figure.dpi': 100}):\n",
    "    plt.style.use('seaborn-talk')\n",
    "    sc.pl.umap(adata_raw, color=['Cell_type'], \n",
    "               frameon=False, legend_loc='on data')"
   ]
  },
  {
   "cell_type": "code",
   "execution_count": null,
   "id": "e2a42584-dce0-4419-9ee6-4909d6d0e502",
   "metadata": {},
   "outputs": [],
   "source": [
    "with rc_context({'figure.figsize': (8, 8), 'figure.dpi': 100}):\n",
    "    plt.style.use('seaborn-talk')\n",
    "    sc.pl.umap(adata_raw, color=['RefCluster'], \n",
    "               frameon=False, legend_loc='on data')"
   ]
  },
  {
   "cell_type": "code",
   "execution_count": null,
   "id": "8b3fdf9e-440c-43bd-8846-da180745367f",
   "metadata": {},
   "outputs": [],
   "source": [
    "def plot_gene_in_umap(adata: AnnData, gene: str):\n",
    "    if gene in adata.var.index:\n",
    "        with rc_context({'figure.figsize': (8, 8), 'figure.dpi': 100}):\n",
    "            plt.style.use('seaborn-talk')\n",
    "            sc.pl.umap(adata, color=gene)\n",
    "    else:\n",
    "        print(f'{gene} not present')"
   ]
  },
  {
   "cell_type": "markdown",
   "id": "11613866-bfe5-4f92-ab46-e3eb1de89b74",
   "metadata": {},
   "source": [
    "- neuron, SNAP25\n",
    "- GABAerigc, GAD1\n",
    "- Glutamatergic, GRIN1\n",
    "- Microglia, CSF1R\n",
    "- Astrocyte, GFAP\n",
    "- Oligodendrocyte, PLP1"
   ]
  },
  {
   "cell_type": "code",
   "execution_count": null,
   "id": "0338241f-3766-4bff-b571-89d153b3c19b",
   "metadata": {},
   "outputs": [],
   "source": [
    "plot_gene_in_umap(adata_raw, 'SNAP25')\n",
    "plot_gene_in_umap(adata_raw, 'GAD1')\n",
    "plot_gene_in_umap(adata_raw, 'GRIN1')\n",
    "plot_gene_in_umap(adata_raw, 'CSF1R')\n",
    "plot_gene_in_umap(adata_raw, 'GFAP')\n",
    "plot_gene_in_umap(adata_raw, 'PLP1')\n",
    "plot_gene_in_umap(adata_raw, 'LRRK2')\n",
    "plot_gene_in_umap(adata_raw, 'SNCA')"
   ]
  },
  {
   "cell_type": "code",
   "execution_count": null,
   "id": "679b3df1-8514-4770-8395-0fcf0f20e345",
   "metadata": {},
   "outputs": [],
   "source": [
    "markers = ['SNAP25', 'GAD1', 'GRIN1', 'CSF1R', 'GFAP', 'PLP1', 'LRRK2', 'SNCA']\n",
    "with rc_context({'figure.figsize': (12, 12), 'figure.dpi': 200}):\n",
    "    plt.style.use('seaborn-talk')\n",
    "    sc.pl.dotplot(adata_raw, markers, groupby='leiden_MultiVI', \n",
    "                  color_map='Blues', swap_axes=True, use_raw=False,\n",
    "                  standard_scale='var')"
   ]
  },
  {
   "cell_type": "code",
   "execution_count": null,
   "id": "110a2a39-5a42-48a0-a8a0-d50a1d815338",
   "metadata": {},
   "outputs": [],
   "source": [
    "with rc_context({'figure.figsize': (12, 12), 'figure.dpi': 200}):\n",
    "    plt.style.use('seaborn-talk')\n",
    "    sc.pl.dotplot(adata_raw, markers, groupby='Cell_type', \n",
    "                  color_map='Blues', swap_axes=True, use_raw=False,\n",
    "                  standard_scale='var')"
   ]
  },
  {
   "cell_type": "code",
   "execution_count": null,
   "id": "98fc8ed5-0e53-4937-aa3f-8eb59b4319e3",
   "metadata": {},
   "outputs": [],
   "source": [
    "!date"
   ]
  }
 ],
 "metadata": {
  "kernelspec": {
   "display_name": "Python 3 (ipykernel)",
   "language": "python",
   "name": "python3"
  },
  "language_info": {
   "codemirror_mode": {
    "name": "ipython",
    "version": 3
   },
   "file_extension": ".py",
   "mimetype": "text/x-python",
   "name": "python",
   "nbconvert_exporter": "python",
   "pygments_lexer": "ipython3",
   "version": "3.9.13"
  }
 },
 "nbformat": 4,
 "nbformat_minor": 5
}
