{
 "cells": [
  {
   "cell_type": "markdown",
   "id": "339a0bc2-de2b-4d37-97d1-915248c0da6d",
   "metadata": {},
   "source": [
    "## Notebook to create demultiplex GEX anndata file per pool file using Papermill"
   ]
  },
  {
   "cell_type": "code",
   "execution_count": null,
   "id": "7c3fbaf0-8e18-49a0-b13a-34823fb8edc8",
   "metadata": {
    "tags": []
   },
   "outputs": [],
   "source": [
    "!date"
   ]
  },
  {
   "cell_type": "markdown",
   "id": "c8e881ec-7fd9-4f4f-a93c-a1d64f8cb5dd",
   "metadata": {},
   "source": [
    "#### import libraries"
   ]
  },
  {
   "cell_type": "code",
   "execution_count": null,
   "id": "039e764e-7bf9-476a-952e-862470502966",
   "metadata": {
    "tags": []
   },
   "outputs": [],
   "source": [
    "from pandas import read_csv\n",
    "from os.path import exists\n",
    "from os import makedirs\n",
    "from papermill import execute_notebook"
   ]
  },
  {
   "cell_type": "markdown",
   "id": "5e7b43af-03cd-41d0-986b-3a7ed280c80e",
   "metadata": {},
   "source": [
    "#### set notebook variables"
   ]
  },
  {
   "cell_type": "code",
   "execution_count": null,
   "id": "849be4f4-66a6-4896-a48b-077e3fc8174c",
   "metadata": {
    "tags": []
   },
   "outputs": [],
   "source": [
    "# naming\n",
    "proj_name = 'aging_phase2'\n",
    "\n",
    "# directories\n",
    "notebook_dir = '/home/gibbsr/working/ADRD_Brain_Aging/phase2'\n",
    "wrk_dir = '/labshare/raph/datasets/adrd_neuro/brain_aging/phase2'\n",
    "demux_dir = f'{wrk_dir}/demux'\n",
    "info_dir = f'{wrk_dir}/sample_info'\n",
    "out_nb_dir = f'{notebook_dir}/pm_gend_nbs'\n",
    "\n",
    "# in files\n",
    "info_file = f'{info_dir}/{proj_name}.sample_info.csv'\n",
    "base_notebook = f'{notebook_dir}/create_anndata_with_demuxlet_identified_donors.ipynb'\n",
    "\n",
    "# variables\n",
    "DEBUG = False\n",
    "lane_range = range(1, 9)"
   ]
  },
  {
   "cell_type": "markdown",
   "id": "2e595a9c-100c-48aa-90af-5acf24fc8ff6",
   "metadata": {},
   "source": [
    "### load the sample info data"
   ]
  },
  {
   "cell_type": "code",
   "execution_count": null,
   "id": "f27855c1-ea28-45ec-aa1c-da104fe4843c",
   "metadata": {
    "tags": []
   },
   "outputs": [],
   "source": [
    "info_df = read_csv(info_file)\n",
    "print(f'shape of info {info_df.shape}')\n",
    "info_df = info_df.loc[(~info_df.gex_pool.isna()) & (~info_df.atac_pool.isna())]\n",
    "print(f'shape of info {info_df.shape}')\n",
    "# make sure pool nums are ints and not floats\n",
    "info_df.gex_pool = info_df.gex_pool.astype('int')\n",
    "info_df.atac_pool = info_df.atac_pool.astype('int')\n",
    "print(f'shape of info {info_df.shape}')\n",
    "if DEBUG:\n",
    "    display(info_df.head())\n",
    "    display(info_df.gex_pool.value_counts())"
   ]
  },
  {
   "cell_type": "markdown",
   "id": "3f67aa2a-3d81-4e5a-880c-6fb813aa1c2f",
   "metadata": {},
   "source": [
    "### run the notebook iterations"
   ]
  },
  {
   "cell_type": "code",
   "execution_count": null,
   "id": "da07c011-df86-4009-a00c-887133ede440",
   "metadata": {
    "tags": []
   },
   "outputs": [],
   "source": [
    "%%time\n",
    "# make sure the notebook output dir exists\n",
    "makedirs(out_nb_dir, exist_ok=True)\n",
    "\n",
    "pools = set(info_df.gex_pool.unique()) | set(info_df.atac_pool.unique())\n",
    "\n",
    "for modality in ['GEX']:\n",
    "    for pool in pools:\n",
    "        for lane in lane_range:\n",
    "            gex_sample = f'{demux_dir}/{modality}_P{pool}_{lane}.best'\n",
    "            if exists(gex_sample):\n",
    "                param_dict = {'modality': modality, 'pool_num': int(pool), \n",
    "                              'lane_num': int(lane)}\n",
    "                out_notebook = f'{out_nb_dir}/{modality}_P{pool}_{lane}.demultiplexed_h5ad.ipynb'\n",
    "                print(param_dict)\n",
    "                print(out_notebook)\n",
    "                execute_notebook(input_path=base_notebook, output_path=out_notebook, \n",
    "                                 parameters=param_dict)"
   ]
  },
  {
   "cell_type": "code",
   "execution_count": null,
   "id": "f73ee274-6faa-4398-8c83-b2909d6e1b75",
   "metadata": {},
   "outputs": [],
   "source": [
    "!date"
   ]
  }
 ],
 "metadata": {
  "kernelspec": {
   "display_name": "Python 3 (ipykernel)",
   "language": "python",
   "name": "python3"
  },
  "language_info": {
   "codemirror_mode": {
    "name": "ipython",
    "version": 3
   },
   "file_extension": ".py",
   "mimetype": "text/x-python",
   "name": "python",
   "nbconvert_exporter": "python",
   "pygments_lexer": "ipython3",
   "version": "3.9.17"
  }
 },
 "nbformat": 4,
 "nbformat_minor": 5
}
