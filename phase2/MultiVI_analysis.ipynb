{
 "cells": [
  {
   "cell_type": "markdown",
   "metadata": {
    "id": "56KZeo3DBWfs"
   },
   "source": [
    "# Joint analysis of paired and unpaired multiomic data with MultiVI\n",
    "\n",
    "MultiVI is used for the joint analysis of scRNA and scATAC-seq datasets that were jointly profiled (multiomic / paired) and single-modality datasets (only scRNA or only scATAC). MultiVI uses the paired data as an anchor to align and merge the latent spaces learned from each individual modality.\n",
    "\n",
    "This tutorial walks through how to read multiomic data, create a joint object with paired and unpaired data, set-up and train a MultiVI model, visualize the resulting latent space, and run differential analyses. "
   ]
  },
  {
   "cell_type": "markdown",
   "metadata": {},
   "source": [
    "## this notebook is modified directly from the scvi-tools tutorial\n",
    "\n",
    "[MultiVI tutorial](https://docs.scvi-tools.org/en/stable/tutorials/notebooks/MultiVI_tutorial.html)"
   ]
  },
  {
   "cell_type": "markdown",
   "metadata": {
    "id": "A4kc569MMtbo"
   },
   "source": [
    "<div class=\"alert alert-info\">\n",
    "Important\n",
    "\n",
    "MultiVI requires the datasets to use shared features. scATAC-seq datasets need to be processed to use a shared set of peaks.\n",
    "\n",
    "</div>"
   ]
  },
  {
   "cell_type": "code",
   "execution_count": 1,
   "metadata": {},
   "outputs": [
    {
     "name": "stdout",
     "output_type": "stream",
     "text": [
      "Tue Dec  6 11:22:23 EST 2022\n"
     ]
    }
   ],
   "source": [
    "!date"
   ]
  },
  {
   "cell_type": "markdown",
   "metadata": {},
   "source": [
    "#### import libraries and set notebook variables"
   ]
  },
  {
   "cell_type": "code",
   "execution_count": 2,
   "metadata": {
    "colab": {
     "base_uri": "https://localhost:8080/"
    },
    "id": "MLWcgWfSQ2mi",
    "outputId": "d9150926-06c3-46f3-9ab1-289fbc254908"
   },
   "outputs": [
    {
     "name": "stderr",
     "output_type": "stream",
     "text": [
      "/home/gibbsr/anaconda3/lib/python3.9/site-packages/torchvision/io/image.py:13: UserWarning: Failed to load image Python extension: /home/gibbsr/anaconda3/lib/python3.9/site-packages/torchvision/image.so: undefined symbol: _ZN5torch3jit17parseSchemaOrNameERKNSt7__cxx1112basic_stringIcSt11char_traitsIcESaIcEEE\n",
      "  warn(f\"Failed to load image Python extension: {e}\")\n",
      "Global seed set to 0\n",
      "/home/gibbsr/anaconda3/lib/python3.9/site-packages/pytorch_lightning/utilities/warnings.py:53: LightningDeprecationWarning: pytorch_lightning.utilities.warnings.rank_zero_deprecation has been deprecated in v1.6 and will be removed in v1.8. Use the equivalent function from the pytorch_lightning.utilities.rank_zero module instead.\n",
      "  new_rank_zero_deprecation(\n",
      "/home/gibbsr/anaconda3/lib/python3.9/site-packages/pytorch_lightning/utilities/warnings.py:58: LightningDeprecationWarning: The `pytorch_lightning.loggers.base.rank_zero_experiment` is deprecated in v1.7 and will be removed in v1.9. Please use `pytorch_lightning.loggers.logger.rank_zero_experiment` instead.\n",
      "  return new_rank_zero_deprecation(*args, **kwargs)\n",
      "Global seed set to 42\n"
     ]
    }
   ],
   "source": [
    "import scvi\n",
    "import numpy as np\n",
    "import scanpy as sc\n",
    "from pandas import read_csv, concat\n",
    "import matplotlib.pyplot as plt\n",
    "from matplotlib.pyplot import rc_context\n",
    "\n",
    "import random\n",
    "random.seed(42)\n",
    "\n",
    "import warnings\n",
    "warnings.filterwarnings('ignore')\n",
    "\n",
    "scvi.settings.seed = 42\n",
    "\n",
    "%matplotlib inline\n",
    "# for white background of figures (only for docs rendering)\n",
    "%config InlineBackend.print_figure_kwargs={'facecolor' : \"w\"}\n",
    "%config InlineBackend.figure_format='retina'"
   ]
  },
  {
   "cell_type": "code",
   "execution_count": 3,
   "metadata": {},
   "outputs": [],
   "source": [
    "# naming\n",
    "proj_name = 'aging_phase2'\n",
    "\n",
    "# directories\n",
    "wrk_dir = '/labshare/raph/datasets/adrd_neuro/brain_aging/phase2'\n",
    "quants_dir = f'{wrk_dir}/quants'\n",
    "models_dir = f'{wrk_dir}/models'\n",
    "\n",
    "# in files\n",
    "arc_cnt_file = f'{wrk_dir}/src_data/aging_phase2_arc_aggr/outs/filtered_feature_bc_matrix'\n",
    "arc_aggr_file = f'{wrk_dir}/src_data/aging_phase2_arc_aggr/outs/aggr.csv'\n",
    "\n",
    "# out files\n",
    "raw_anndata_file = f'{quants_dir}/{proj_name}.raw.h5ad'\n",
    "results_file = f'{quants_dir}/{proj_name}.multivi.h5ad'\n",
    "trained_model_path = f'{models_dir}/{proj_name}_trained_multivi'\n",
    "\n",
    "# variables\n",
    "DEBUG = True\n",
    "MIN_CELL_PERCENT = 0.005\n",
    "MAX_MITO_PERCENT = 10\n",
    "TESTING = False\n",
    "testing_cell_size = 5000\n",
    "FILTER_FEATURES_HV = False\n",
    "TOP_FEATURES_PERCENT = 0.3"
   ]
  },
  {
   "cell_type": "markdown",
   "metadata": {
    "id": "tbQ8zbhVP8D6"
   },
   "source": [
    "## Data Processing\n",
    "Next, we'll read the data into an Anndata object. \n",
    "The data has 12012 cells, we'll use 4004 for each dataset."
   ]
  },
  {
   "cell_type": "markdown",
   "metadata": {
    "id": "Aap3V-9dOoqS"
   },
   "source": [
    "Reading the data into an AnnData object can be done with the `read_10x_multiome` function:\n",
    "\n",
    "Cellranger-arc aggr writes filtered file gzipped but read_10x_multiome looks for unzipped files, so need to unzip, guesses future versions may be able to find either?"
   ]
  },
  {
   "cell_type": "code",
   "execution_count": 4,
   "metadata": {
    "colab": {
     "base_uri": "https://localhost:8080/"
    },
    "id": "GPo6vQ9zWuY-",
    "outputId": "9d02d562-7874-4d88-aace-f1756bf84167"
   },
   "outputs": [
    {
     "name": "stdout",
     "output_type": "stream",
     "text": [
      "CPU times: user 2min 36s, sys: 1.3 s, total: 2min 37s\n",
      "Wall time: 2min 38s\n"
     ]
    }
   ],
   "source": [
    "%%time\n",
    "# read multiomic data\n",
    "adata = scvi.data.read_10x_multiome(arc_cnt_file)\n",
    "adata.var_names_make_unique()\n",
    "adata.obs_names_make_unique()"
   ]
  },
  {
   "cell_type": "code",
   "execution_count": 5,
   "metadata": {},
   "outputs": [
    {
     "name": "stdout",
     "output_type": "stream",
     "text": [
      "AnnData object with n_obs × n_vars = 38671 × 181593\n",
      "    obs: 'batch_id'\n",
      "    var: 'ID', 'modality', 'chr', 'start', 'end'\n"
     ]
    }
   ],
   "source": [
    "print(adata)"
   ]
  },
  {
   "cell_type": "code",
   "execution_count": 6,
   "metadata": {},
   "outputs": [
    {
     "data": {
      "text/plain": [
       "4    20000\n",
       "2     7360\n",
       "1     6749\n",
       "3     4562\n",
       "Name: batch_id, dtype: int64"
      ]
     },
     "execution_count": 6,
     "metadata": {},
     "output_type": "execute_result"
    }
   ],
   "source": [
    "adata.obs.batch_id.value_counts()"
   ]
  },
  {
   "cell_type": "markdown",
   "metadata": {},
   "source": [
    "#### from the cellranger-arc aggr command the batch_id's should match the index from the aggr library file"
   ]
  },
  {
   "cell_type": "code",
   "execution_count": 7,
   "metadata": {},
   "outputs": [
    {
     "name": "stdout",
     "output_type": "stream",
     "text": [
      "(4, 2)\n"
     ]
    },
    {
     "data": {
      "text/html": [
       "<div>\n",
       "<style scoped>\n",
       "    .dataframe tbody tr th:only-of-type {\n",
       "        vertical-align: middle;\n",
       "    }\n",
       "\n",
       "    .dataframe tbody tr th {\n",
       "        vertical-align: top;\n",
       "    }\n",
       "\n",
       "    .dataframe thead th {\n",
       "        text-align: right;\n",
       "    }\n",
       "</style>\n",
       "<table border=\"1\" class=\"dataframe\">\n",
       "  <thead>\n",
       "    <tr style=\"text-align: right;\">\n",
       "      <th></th>\n",
       "      <th>library_id</th>\n",
       "      <th>batch_id</th>\n",
       "    </tr>\n",
       "  </thead>\n",
       "  <tbody>\n",
       "    <tr>\n",
       "      <th>0</th>\n",
       "      <td>Ag119</td>\n",
       "      <td>1</td>\n",
       "    </tr>\n",
       "    <tr>\n",
       "      <th>1</th>\n",
       "      <td>Ag120</td>\n",
       "      <td>2</td>\n",
       "    </tr>\n",
       "    <tr>\n",
       "      <th>2</th>\n",
       "      <td>Ag121</td>\n",
       "      <td>3</td>\n",
       "    </tr>\n",
       "    <tr>\n",
       "      <th>3</th>\n",
       "      <td>Ag122</td>\n",
       "      <td>4</td>\n",
       "    </tr>\n",
       "  </tbody>\n",
       "</table>\n",
       "</div>"
      ],
      "text/plain": [
       "  library_id  batch_id\n",
       "0      Ag119         1\n",
       "1      Ag120         2\n",
       "2      Ag121         3\n",
       "3      Ag122         4"
      ]
     },
     "metadata": {},
     "output_type": "display_data"
    }
   ],
   "source": [
    "aggr_lib = read_csv(arc_aggr_file)\n",
    "aggr_lib = aggr_lib[['library_id']]\n",
    "aggr_lib['batch_id'] = aggr_lib.index + 1\n",
    "print(aggr_lib.shape)\n",
    "if DEBUG:\n",
    "    display(aggr_lib.head())"
   ]
  },
  {
   "cell_type": "markdown",
   "metadata": {},
   "source": [
    "#### merge the lib ID based on obs batch_id"
   ]
  },
  {
   "cell_type": "code",
   "execution_count": 8,
   "metadata": {},
   "outputs": [
    {
     "name": "stdout",
     "output_type": "stream",
     "text": [
      "(38671, 2)\n"
     ]
    },
    {
     "data": {
      "text/html": [
       "<div>\n",
       "<style scoped>\n",
       "    .dataframe tbody tr th:only-of-type {\n",
       "        vertical-align: middle;\n",
       "    }\n",
       "\n",
       "    .dataframe tbody tr th {\n",
       "        vertical-align: top;\n",
       "    }\n",
       "\n",
       "    .dataframe thead th {\n",
       "        text-align: right;\n",
       "    }\n",
       "</style>\n",
       "<table border=\"1\" class=\"dataframe\">\n",
       "  <thead>\n",
       "    <tr style=\"text-align: right;\">\n",
       "      <th></th>\n",
       "      <th>batch_id</th>\n",
       "      <th>library_id</th>\n",
       "    </tr>\n",
       "    <tr>\n",
       "      <th>barcode</th>\n",
       "      <th></th>\n",
       "      <th></th>\n",
       "    </tr>\n",
       "  </thead>\n",
       "  <tbody>\n",
       "    <tr>\n",
       "      <th>AAACAGCCAAAGCGGC</th>\n",
       "      <td>4</td>\n",
       "      <td>Ag122</td>\n",
       "    </tr>\n",
       "    <tr>\n",
       "      <th>AAACAGCCAACCCTCC</th>\n",
       "      <td>2</td>\n",
       "      <td>Ag120</td>\n",
       "    </tr>\n",
       "    <tr>\n",
       "      <th>AAACAGCCAAGGATTA</th>\n",
       "      <td>2</td>\n",
       "      <td>Ag120</td>\n",
       "    </tr>\n",
       "    <tr>\n",
       "      <th>AAACAGCCAAGTCGCT</th>\n",
       "      <td>3</td>\n",
       "      <td>Ag121</td>\n",
       "    </tr>\n",
       "    <tr>\n",
       "      <th>AAACAGCCAATAACCT</th>\n",
       "      <td>2</td>\n",
       "      <td>Ag120</td>\n",
       "    </tr>\n",
       "  </tbody>\n",
       "</table>\n",
       "</div>"
      ],
      "text/plain": [
       "                  batch_id library_id\n",
       "barcode                              \n",
       "AAACAGCCAAAGCGGC         4      Ag122\n",
       "AAACAGCCAACCCTCC         2      Ag120\n",
       "AAACAGCCAAGGATTA         2      Ag120\n",
       "AAACAGCCAAGTCGCT         3      Ag121\n",
       "AAACAGCCAATAACCT         2      Ag120"
      ]
     },
     "metadata": {},
     "output_type": "display_data"
    },
    {
     "name": "stdout",
     "output_type": "stream",
     "text": [
      "True\n"
     ]
    }
   ],
   "source": [
    "prev_index = adata.obs.index.copy()\n",
    "adata.obs['library_id'] = adata.obs.batch_id.map(aggr_lib.set_index('batch_id')['library_id'])\n",
    "\n",
    "print(adata.obs.shape)\n",
    "if DEBUG:\n",
    "    display(adata.obs.head())\n",
    "    print(prev_index.equals(adata.obs.index))"
   ]
  },
  {
   "cell_type": "code",
   "execution_count": 9,
   "metadata": {},
   "outputs": [
    {
     "data": {
      "text/plain": [
       "Peaks              144992\n",
       "Gene Expression     36601\n",
       "Name: modality, dtype: int64"
      ]
     },
     "execution_count": 9,
     "metadata": {},
     "output_type": "execute_result"
    }
   ],
   "source": [
    "adata.var.modality.value_counts()"
   ]
  },
  {
   "cell_type": "markdown",
   "metadata": {},
   "source": [
    "#### if testing notebook subset the cells"
   ]
  },
  {
   "cell_type": "code",
   "execution_count": 10,
   "metadata": {},
   "outputs": [],
   "source": [
    "if TESTING:\n",
    "    cells_subset = random.sample(list(adata.obs.index.values), \n",
    "                                 testing_cell_size)\n",
    "    adata = adata[cells_subset]\n",
    "    print(adata)\n",
    "    if DEBUG:\n",
    "        display(adata.obs.head())\n",
    "        display(adata.var.modality.value_counts())"
   ]
  },
  {
   "cell_type": "markdown",
   "metadata": {
    "id": "ZU8pGcPWPCT9"
   },
   "source": [
    "We can then use the `organize_multiome_anndatas` function to orgnize these three datasets into a single Multiome dataset.\n",
    "This function sorts and orders the data from the multi-modal and modality-specific AnnDatas into a single AnnData (aligning the features, padding missing modalities with 0s, etc). "
   ]
  },
  {
   "cell_type": "code",
   "execution_count": 11,
   "metadata": {
    "id": "YnovBjadEAFH"
   },
   "outputs": [],
   "source": [
    "# We can now use the organizing method from scvi to concatenate these anndata\n",
    "# adata_mvi = scvi.data.organize_multiome_anndatas(adata_paired, adata_rna, adata_atac)\n",
    "adata_mvi = scvi.data.organize_multiome_anndatas(adata)"
   ]
  },
  {
   "cell_type": "markdown",
   "metadata": {
    "id": "vLxYxEPg36VI"
   },
   "source": [
    "Note that `organize_multiome_anndatas` adds an annotation to the cells to indicate which modality they originate from:"
   ]
  },
  {
   "cell_type": "code",
   "execution_count": 12,
   "metadata": {
    "colab": {
     "base_uri": "https://localhost:8080/",
     "height": 424
    },
    "id": "jjrZVuX_365d",
    "outputId": "55c366c5-5bb4-4571-9688-7f08d62099bf"
   },
   "outputs": [
    {
     "data": {
      "text/plain": [
       "paired    38671\n",
       "Name: modality, dtype: int64"
      ]
     },
     "metadata": {},
     "output_type": "display_data"
    },
    {
     "data": {
      "text/html": [
       "<div>\n",
       "<style scoped>\n",
       "    .dataframe tbody tr th:only-of-type {\n",
       "        vertical-align: middle;\n",
       "    }\n",
       "\n",
       "    .dataframe tbody tr th {\n",
       "        vertical-align: top;\n",
       "    }\n",
       "\n",
       "    .dataframe thead th {\n",
       "        text-align: right;\n",
       "    }\n",
       "</style>\n",
       "<table border=\"1\" class=\"dataframe\">\n",
       "  <thead>\n",
       "    <tr style=\"text-align: right;\">\n",
       "      <th></th>\n",
       "      <th>batch_id</th>\n",
       "      <th>library_id</th>\n",
       "      <th>modality</th>\n",
       "    </tr>\n",
       "  </thead>\n",
       "  <tbody>\n",
       "    <tr>\n",
       "      <th>AAACAGCCAAAGCGGC_paired</th>\n",
       "      <td>4</td>\n",
       "      <td>Ag122</td>\n",
       "      <td>paired</td>\n",
       "    </tr>\n",
       "    <tr>\n",
       "      <th>AAACAGCCAACCCTCC_paired</th>\n",
       "      <td>2</td>\n",
       "      <td>Ag120</td>\n",
       "      <td>paired</td>\n",
       "    </tr>\n",
       "    <tr>\n",
       "      <th>AAACAGCCAAGGATTA_paired</th>\n",
       "      <td>2</td>\n",
       "      <td>Ag120</td>\n",
       "      <td>paired</td>\n",
       "    </tr>\n",
       "    <tr>\n",
       "      <th>AAACAGCCAAGTCGCT_paired</th>\n",
       "      <td>3</td>\n",
       "      <td>Ag121</td>\n",
       "      <td>paired</td>\n",
       "    </tr>\n",
       "    <tr>\n",
       "      <th>AAACAGCCAATAACCT_paired</th>\n",
       "      <td>2</td>\n",
       "      <td>Ag120</td>\n",
       "      <td>paired</td>\n",
       "    </tr>\n",
       "  </tbody>\n",
       "</table>\n",
       "</div>"
      ],
      "text/plain": [
       "                         batch_id library_id modality\n",
       "AAACAGCCAAAGCGGC_paired         4      Ag122   paired\n",
       "AAACAGCCAACCCTCC_paired         2      Ag120   paired\n",
       "AAACAGCCAAGGATTA_paired         2      Ag120   paired\n",
       "AAACAGCCAAGTCGCT_paired         3      Ag121   paired\n",
       "AAACAGCCAATAACCT_paired         2      Ag120   paired"
      ]
     },
     "metadata": {},
     "output_type": "display_data"
    }
   ],
   "source": [
    "display(adata_mvi.obs.modality.value_counts())\n",
    "display(adata_mvi.obs.head())"
   ]
  },
  {
   "cell_type": "markdown",
   "metadata": {
    "id": "mXQn58ZywlzP"
   },
   "source": [
    "<div class=\"alert alert-info\">\n",
    "Important\n",
    "\n",
    "MultiVI requires the features to be ordered so that genes appear before genomic regions. This must be enforced by the user.\n",
    "\n",
    "</div>"
   ]
  },
  {
   "cell_type": "markdown",
   "metadata": {
    "id": "TRxR38xehkKr"
   },
   "source": [
    "MultiVI requires the features to be ordered, such that genes appear before genomic regions. In this case this is already the case, but it's always good to verify:"
   ]
  },
  {
   "cell_type": "code",
   "execution_count": 13,
   "metadata": {
    "colab": {
     "base_uri": "https://localhost:8080/",
     "height": 424
    },
    "id": "tNuo88gAh6W-",
    "outputId": "07431a5c-dac8-42bb-c963-c8b1a4b959f5"
   },
   "outputs": [
    {
     "data": {
      "text/html": [
       "<div>\n",
       "<style scoped>\n",
       "    .dataframe tbody tr th:only-of-type {\n",
       "        vertical-align: middle;\n",
       "    }\n",
       "\n",
       "    .dataframe tbody tr th {\n",
       "        vertical-align: top;\n",
       "    }\n",
       "\n",
       "    .dataframe thead th {\n",
       "        text-align: right;\n",
       "    }\n",
       "</style>\n",
       "<table border=\"1\" class=\"dataframe\">\n",
       "  <thead>\n",
       "    <tr style=\"text-align: right;\">\n",
       "      <th></th>\n",
       "      <th>ID</th>\n",
       "      <th>modality</th>\n",
       "      <th>chr</th>\n",
       "      <th>start</th>\n",
       "      <th>end</th>\n",
       "    </tr>\n",
       "  </thead>\n",
       "  <tbody>\n",
       "    <tr>\n",
       "      <th>MIR1302-2HG</th>\n",
       "      <td>ENSG00000243485</td>\n",
       "      <td>Gene Expression</td>\n",
       "      <td>chr1</td>\n",
       "      <td>29553</td>\n",
       "      <td>30267</td>\n",
       "    </tr>\n",
       "    <tr>\n",
       "      <th>AL391261.2</th>\n",
       "      <td>ENSG00000258847</td>\n",
       "      <td>Gene Expression</td>\n",
       "      <td>chr14</td>\n",
       "      <td>66004522</td>\n",
       "      <td>66004523</td>\n",
       "    </tr>\n",
       "    <tr>\n",
       "      <th>FUT8-AS1</th>\n",
       "      <td>ENSG00000276116</td>\n",
       "      <td>Gene Expression</td>\n",
       "      <td>chr14</td>\n",
       "      <td>65412689</td>\n",
       "      <td>65412690</td>\n",
       "    </tr>\n",
       "    <tr>\n",
       "      <th>FUT8</th>\n",
       "      <td>ENSG00000033170</td>\n",
       "      <td>Gene Expression</td>\n",
       "      <td>chr14</td>\n",
       "      <td>65410591</td>\n",
       "      <td>65413008</td>\n",
       "    </tr>\n",
       "    <tr>\n",
       "      <th>AL355076.2</th>\n",
       "      <td>ENSG00000258760</td>\n",
       "      <td>Gene Expression</td>\n",
       "      <td>chr14</td>\n",
       "      <td>65302679</td>\n",
       "      <td>65318790</td>\n",
       "    </tr>\n",
       "    <tr>\n",
       "      <th>...</th>\n",
       "      <td>...</td>\n",
       "      <td>...</td>\n",
       "      <td>...</td>\n",
       "      <td>...</td>\n",
       "      <td>...</td>\n",
       "    </tr>\n",
       "    <tr>\n",
       "      <th>chr15:93129576-93130407</th>\n",
       "      <td>chr15:93129576-93130407</td>\n",
       "      <td>Peaks</td>\n",
       "      <td>chr15</td>\n",
       "      <td>93129576</td>\n",
       "      <td>93130407</td>\n",
       "    </tr>\n",
       "    <tr>\n",
       "      <th>chr15:93131610-93132443</th>\n",
       "      <td>chr15:93131610-93132443</td>\n",
       "      <td>Peaks</td>\n",
       "      <td>chr15</td>\n",
       "      <td>93131610</td>\n",
       "      <td>93132443</td>\n",
       "    </tr>\n",
       "    <tr>\n",
       "      <th>chr15:93144220-93145147</th>\n",
       "      <td>chr15:93144220-93145147</td>\n",
       "      <td>Peaks</td>\n",
       "      <td>chr15</td>\n",
       "      <td>93144220</td>\n",
       "      <td>93145147</td>\n",
       "    </tr>\n",
       "    <tr>\n",
       "      <th>chr15:93088872-93089737</th>\n",
       "      <td>chr15:93088872-93089737</td>\n",
       "      <td>Peaks</td>\n",
       "      <td>chr15</td>\n",
       "      <td>93088872</td>\n",
       "      <td>93089737</td>\n",
       "    </tr>\n",
       "    <tr>\n",
       "      <th>KI270713.1:31279-32174</th>\n",
       "      <td>KI270713.1:31279-32174</td>\n",
       "      <td>Peaks</td>\n",
       "      <td>KI270713.1</td>\n",
       "      <td>31279</td>\n",
       "      <td>32174</td>\n",
       "    </tr>\n",
       "  </tbody>\n",
       "</table>\n",
       "<p>181593 rows × 5 columns</p>\n",
       "</div>"
      ],
      "text/plain": [
       "                                              ID         modality         chr  \\\n",
       "MIR1302-2HG                      ENSG00000243485  Gene Expression        chr1   \n",
       "AL391261.2                       ENSG00000258847  Gene Expression       chr14   \n",
       "FUT8-AS1                         ENSG00000276116  Gene Expression       chr14   \n",
       "FUT8                             ENSG00000033170  Gene Expression       chr14   \n",
       "AL355076.2                       ENSG00000258760  Gene Expression       chr14   \n",
       "...                                          ...              ...         ...   \n",
       "chr15:93129576-93130407  chr15:93129576-93130407            Peaks       chr15   \n",
       "chr15:93131610-93132443  chr15:93131610-93132443            Peaks       chr15   \n",
       "chr15:93144220-93145147  chr15:93144220-93145147            Peaks       chr15   \n",
       "chr15:93088872-93089737  chr15:93088872-93089737            Peaks       chr15   \n",
       "KI270713.1:31279-32174    KI270713.1:31279-32174            Peaks  KI270713.1   \n",
       "\n",
       "                            start       end  \n",
       "MIR1302-2HG                 29553     30267  \n",
       "AL391261.2               66004522  66004523  \n",
       "FUT8-AS1                 65412689  65412690  \n",
       "FUT8                     65410591  65413008  \n",
       "AL355076.2               65302679  65318790  \n",
       "...                           ...       ...  \n",
       "chr15:93129576-93130407  93129576  93130407  \n",
       "chr15:93131610-93132443  93131610  93132443  \n",
       "chr15:93144220-93145147  93144220  93145147  \n",
       "chr15:93088872-93089737  93088872  93089737  \n",
       "KI270713.1:31279-32174      31279     32174  \n",
       "\n",
       "[181593 rows x 5 columns]"
      ]
     },
     "metadata": {},
     "output_type": "display_data"
    }
   ],
   "source": [
    "adata_mvi = adata_mvi[:, adata_mvi.var[\"modality\"].argsort()].copy()\n",
    "display(adata_mvi.var)"
   ]
  },
  {
   "cell_type": "markdown",
   "metadata": {},
   "source": [
    "#### save the MultiVi organized but unprocessed anndata object note that the subject is in the obs"
   ]
  },
  {
   "cell_type": "code",
   "execution_count": 14,
   "metadata": {},
   "outputs": [
    {
     "name": "stdout",
     "output_type": "stream",
     "text": [
      "CPU times: user 603 ms, sys: 384 ms, total: 987 ms\n",
      "Wall time: 2.62 s\n"
     ]
    }
   ],
   "source": [
    "%%time\n",
    "# adata.write(raw_anndata_file)\n",
    "adata_mvi.write(raw_anndata_file)"
   ]
  },
  {
   "cell_type": "code",
   "execution_count": 15,
   "metadata": {},
   "outputs": [
    {
     "name": "stdout",
     "output_type": "stream",
     "text": [
      "AnnData object with n_obs × n_vars = 38671 × 181593\n",
      "    obs: 'batch_id', 'library_id', 'modality'\n",
      "    var: 'ID', 'modality', 'chr', 'start', 'end'\n"
     ]
    }
   ],
   "source": [
    "print(adata_mvi)"
   ]
  },
  {
   "cell_type": "markdown",
   "metadata": {
    "id": "Q4b1f0mwldGn"
   },
   "source": [
    "We also filter features to remove those that appear in fewer than MIN% of the cells"
   ]
  },
  {
   "cell_type": "code",
   "execution_count": 16,
   "metadata": {
    "colab": {
     "base_uri": "https://localhost:8080/"
    },
    "id": "FUhG037lWtYQ",
    "outputId": "96c29ddb-b7a4-432e-f3f3-8f2318830154"
   },
   "outputs": [
    {
     "name": "stdout",
     "output_type": "stream",
     "text": [
      "(38671, 181593)\n",
      "AnnData object with n_obs × n_vars = 38618 × 139949\n",
      "    obs: 'batch_id', 'library_id', 'modality', 'n_genes_by_counts', 'total_counts', 'total_counts_mt', 'pct_counts_mt', 'n_genes'\n",
      "    var: 'ID', 'modality', 'chr', 'start', 'end', 'mt', 'n_cells_by_counts', 'mean_counts', 'pct_dropout_by_counts', 'total_counts', 'n_cells'\n"
     ]
    },
    {
     "data": {
      "text/html": [
       "<div>\n",
       "<style scoped>\n",
       "    .dataframe tbody tr th:only-of-type {\n",
       "        vertical-align: middle;\n",
       "    }\n",
       "\n",
       "    .dataframe tbody tr th {\n",
       "        vertical-align: top;\n",
       "    }\n",
       "\n",
       "    .dataframe thead th {\n",
       "        text-align: right;\n",
       "    }\n",
       "</style>\n",
       "<table border=\"1\" class=\"dataframe\">\n",
       "  <thead>\n",
       "    <tr style=\"text-align: right;\">\n",
       "      <th></th>\n",
       "      <th>batch_id</th>\n",
       "      <th>library_id</th>\n",
       "      <th>modality</th>\n",
       "      <th>n_genes_by_counts</th>\n",
       "      <th>total_counts</th>\n",
       "      <th>total_counts_mt</th>\n",
       "      <th>pct_counts_mt</th>\n",
       "      <th>n_genes</th>\n",
       "    </tr>\n",
       "  </thead>\n",
       "  <tbody>\n",
       "    <tr>\n",
       "      <th>AAACAGCCAAAGCGGC_paired</th>\n",
       "      <td>4</td>\n",
       "      <td>Ag122</td>\n",
       "      <td>paired</td>\n",
       "      <td>1996</td>\n",
       "      <td>3297.0</td>\n",
       "      <td>2.0</td>\n",
       "      <td>0.060661</td>\n",
       "      <td>1996</td>\n",
       "    </tr>\n",
       "    <tr>\n",
       "      <th>AAACAGCCAACCCTCC_paired</th>\n",
       "      <td>2</td>\n",
       "      <td>Ag120</td>\n",
       "      <td>paired</td>\n",
       "      <td>2996</td>\n",
       "      <td>6309.0</td>\n",
       "      <td>0.0</td>\n",
       "      <td>0.000000</td>\n",
       "      <td>2996</td>\n",
       "    </tr>\n",
       "    <tr>\n",
       "      <th>AAACAGCCAAGGATTA_paired</th>\n",
       "      <td>2</td>\n",
       "      <td>Ag120</td>\n",
       "      <td>paired</td>\n",
       "      <td>11400</td>\n",
       "      <td>29757.0</td>\n",
       "      <td>5.0</td>\n",
       "      <td>0.016803</td>\n",
       "      <td>11400</td>\n",
       "    </tr>\n",
       "    <tr>\n",
       "      <th>AAACAGCCAAGTCGCT_paired</th>\n",
       "      <td>3</td>\n",
       "      <td>Ag121</td>\n",
       "      <td>paired</td>\n",
       "      <td>1387</td>\n",
       "      <td>2618.0</td>\n",
       "      <td>0.0</td>\n",
       "      <td>0.000000</td>\n",
       "      <td>1387</td>\n",
       "    </tr>\n",
       "    <tr>\n",
       "      <th>AAACAGCCAATAACCT_paired</th>\n",
       "      <td>2</td>\n",
       "      <td>Ag120</td>\n",
       "      <td>paired</td>\n",
       "      <td>12730</td>\n",
       "      <td>33734.0</td>\n",
       "      <td>3.0</td>\n",
       "      <td>0.008893</td>\n",
       "      <td>12730</td>\n",
       "    </tr>\n",
       "  </tbody>\n",
       "</table>\n",
       "</div>"
      ],
      "text/plain": [
       "                         batch_id library_id modality  n_genes_by_counts  \\\n",
       "AAACAGCCAAAGCGGC_paired         4      Ag122   paired               1996   \n",
       "AAACAGCCAACCCTCC_paired         2      Ag120   paired               2996   \n",
       "AAACAGCCAAGGATTA_paired         2      Ag120   paired              11400   \n",
       "AAACAGCCAAGTCGCT_paired         3      Ag121   paired               1387   \n",
       "AAACAGCCAATAACCT_paired         2      Ag120   paired              12730   \n",
       "\n",
       "                         total_counts  total_counts_mt  pct_counts_mt  n_genes  \n",
       "AAACAGCCAAAGCGGC_paired        3297.0              2.0       0.060661     1996  \n",
       "AAACAGCCAACCCTCC_paired        6309.0              0.0       0.000000     2996  \n",
       "AAACAGCCAAGGATTA_paired       29757.0              5.0       0.016803    11400  \n",
       "AAACAGCCAAGTCGCT_paired        2618.0              0.0       0.000000     1387  \n",
       "AAACAGCCAATAACCT_paired       33734.0              3.0       0.008893    12730  "
      ]
     },
     "metadata": {},
     "output_type": "display_data"
    }
   ],
   "source": [
    "print(adata_mvi.shape)\n",
    "# annotate the group of mitochondrial genes as 'mt'\n",
    "adata_mvi.var['mt'] = adata_mvi.var_names.str.startswith('MT-')  \n",
    "# With pp.calculate_qc_metrics, we can compute many metrics very efficiently.\n",
    "sc.pp.calculate_qc_metrics(adata_mvi, qc_vars=['mt'], percent_top=None, \n",
    "                           log1p=False, inplace=True)\n",
    "adata_mvi = adata_mvi[adata_mvi.obs.pct_counts_mt < MAX_MITO_PERCENT, :]\n",
    "# Basic filtering:\n",
    "sc.pp.filter_cells(adata_mvi, min_genes=200)\n",
    "sc.pp.filter_genes(adata_mvi, min_cells=int(adata_mvi.shape[0] * MIN_CELL_PERCENT))\n",
    "\n",
    "print(adata_mvi)\n",
    "\n",
    "if DEBUG:\n",
    "    display(adata_mvi.obs.head())"
   ]
  },
  {
   "cell_type": "markdown",
   "metadata": {},
   "source": [
    "#### if flag set then subset to highest variance features\n",
    "\n",
    "MultiVI tutorial doesn't suggest this so probably typically will set to false"
   ]
  },
  {
   "cell_type": "code",
   "execution_count": 17,
   "metadata": {},
   "outputs": [],
   "source": [
    "if FILTER_FEATURES_HV:\n",
    "    n_top_genes = int(adata_mvi.var.shape[0] * TOP_FEATURES_PERCENT)\n",
    "    sc.pp.highly_variable_genes(adata_mvi, n_top_genes=n_top_genes, \n",
    "                                batch_key='library_id',flavor='seurat_v3', \n",
    "                                subset=True)\n",
    "    print(adata_mvi)"
   ]
  },
  {
   "cell_type": "markdown",
   "metadata": {
    "id": "-puYqefZn_0P"
   },
   "source": [
    "## Setup and Training MultiVI\n",
    "We can now set up and train the MultiVI model!"
   ]
  },
  {
   "cell_type": "markdown",
   "metadata": {
    "id": "vJcJx9iXxDIG"
   },
   "source": [
    "First, we need to setup the Anndata object using the `setup_anndata` function. At this point we specify any batch annotation that the model would account for.\n",
    "**Importantly**, the main batch annotation, specific by `batch_key`, should correspond to the modality of the cells.\n",
    "\n",
    "Other batch annotations (e.g if there are multiple ATAC batches) should be provided using the `categorical_covariate_keys`.\n",
    "\n",
    "The actual values of categorical covariates (include `batch_key`) are not important, as long as they are different for different samples.\n",
    "I.e it is not important to call the expression-only samples \"expression\", as long as they are called something different than the multi-modal and accessibility-only samples."
   ]
  },
  {
   "cell_type": "markdown",
   "metadata": {
    "id": "yl5WKg6rw2fc"
   },
   "source": [
    "<div class=\"alert alert-info\">\n",
    "Important\n",
    "\n",
    "MultiVI requires the main batch annotation to correspond to the modality of the samples. Other batch annotation, such as in the case of multiple RNA-only batches, can be specified using `categorical_covariate_keys`.\n",
    "\n",
    "</div>"
   ]
  },
  {
   "cell_type": "code",
   "execution_count": 18,
   "metadata": {
    "colab": {
     "base_uri": "https://localhost:8080/"
    },
    "id": "Gx9DJc2WoGpz",
    "outputId": "478986e4-73fc-4e13-94e4-50bccdf235b1"
   },
   "outputs": [
    {
     "name": "stderr",
     "output_type": "stream",
     "text": [
      "WARNING:jax._src.lib.xla_bridge:No GPU/TPU found, falling back to CPU. (Set TF_CPP_MIN_LOG_LEVEL=0 and rerun for more info.)\n"
     ]
    }
   ],
   "source": [
    "scvi.model.MULTIVI.setup_anndata(adata_mvi, batch_key='modality', \n",
    "                                 categorical_covariate_keys = ['library_id']) \n",
    "                                 # continuous_covariate_keys = ['total_counts', 'pct_counts_mt'])\n",
    "                                 # categorical_covariate_keys = ['region', 'subject_id'],"
   ]
  },
  {
   "cell_type": "markdown",
   "metadata": {
    "id": "_ehwBKfSpnEd"
   },
   "source": [
    "When creating the object, we need to specify how many of the features are genes, and how many are genomic regions. This is so MultiVI can determine the exact architecture for each modality."
   ]
  },
  {
   "cell_type": "code",
   "execution_count": 19,
   "metadata": {
    "colab": {
     "base_uri": "https://localhost:8080/"
    },
    "id": "hu7B7zq2oGnB",
    "outputId": "68fc36c7-539b-4696-badc-55861c457c54"
   },
   "outputs": [
    {
     "data": {
      "text/html": [
       "<pre style=\"white-space:pre;overflow-x:auto;line-height:normal;font-family:Menlo,'DejaVu Sans Mono',consolas,'Courier New',monospace\">Anndata setup with scvi-tools version <span style=\"color: #008080; text-decoration-color: #008080; font-weight: bold\">0.19</span>.<span style=\"color: #008080; text-decoration-color: #008080; font-weight: bold\">0</span>.\n",
       "</pre>\n"
      ],
      "text/plain": [
       "Anndata setup with scvi-tools version \u001b[1;36m0.19\u001b[0m.\u001b[1;36m0\u001b[0m.\n"
      ]
     },
     "metadata": {},
     "output_type": "display_data"
    },
    {
     "data": {
      "text/html": [
       "<pre style=\"white-space:pre;overflow-x:auto;line-height:normal;font-family:Menlo,'DejaVu Sans Mono',consolas,'Courier New',monospace\">\n",
       "</pre>\n"
      ],
      "text/plain": [
       "\n"
      ]
     },
     "metadata": {},
     "output_type": "display_data"
    },
    {
     "data": {
      "text/html": [
       "<pre style=\"white-space:pre;overflow-x:auto;line-height:normal;font-family:Menlo,'DejaVu Sans Mono',consolas,'Courier New',monospace\">Setup via `MULTIVI.setup_anndata` with arguments:\n",
       "</pre>\n"
      ],
      "text/plain": [
       "Setup via `MULTIVI.setup_anndata` with arguments:\n"
      ]
     },
     "metadata": {},
     "output_type": "display_data"
    },
    {
     "data": {
      "text/html": [
       "<pre style=\"white-space:pre;overflow-x:auto;line-height:normal;font-family:Menlo,'DejaVu Sans Mono',consolas,'Courier New',monospace\"><span style=\"font-weight: bold\">{</span>\n",
       "<span style=\"color: #7fbf7f; text-decoration-color: #7fbf7f\">│   </span><span style=\"color: #008000; text-decoration-color: #008000\">'layer'</span>: <span style=\"color: #800080; text-decoration-color: #800080; font-style: italic\">None</span>,\n",
       "<span style=\"color: #7fbf7f; text-decoration-color: #7fbf7f\">│   </span><span style=\"color: #008000; text-decoration-color: #008000\">'batch_key'</span>: <span style=\"color: #008000; text-decoration-color: #008000\">'modality'</span>,\n",
       "<span style=\"color: #7fbf7f; text-decoration-color: #7fbf7f\">│   </span><span style=\"color: #008000; text-decoration-color: #008000\">'size_factor_key'</span>: <span style=\"color: #800080; text-decoration-color: #800080; font-style: italic\">None</span>,\n",
       "<span style=\"color: #7fbf7f; text-decoration-color: #7fbf7f\">│   </span><span style=\"color: #008000; text-decoration-color: #008000\">'categorical_covariate_keys'</span>: <span style=\"font-weight: bold\">[</span><span style=\"color: #008000; text-decoration-color: #008000\">'library_id'</span><span style=\"font-weight: bold\">]</span>,\n",
       "<span style=\"color: #7fbf7f; text-decoration-color: #7fbf7f\">│   </span><span style=\"color: #008000; text-decoration-color: #008000\">'continuous_covariate_keys'</span>: <span style=\"color: #800080; text-decoration-color: #800080; font-style: italic\">None</span>,\n",
       "<span style=\"color: #7fbf7f; text-decoration-color: #7fbf7f\">│   </span><span style=\"color: #008000; text-decoration-color: #008000\">'protein_expression_obsm_key'</span>: <span style=\"color: #800080; text-decoration-color: #800080; font-style: italic\">None</span>,\n",
       "<span style=\"color: #7fbf7f; text-decoration-color: #7fbf7f\">│   </span><span style=\"color: #008000; text-decoration-color: #008000\">'protein_names_uns_key'</span>: <span style=\"color: #800080; text-decoration-color: #800080; font-style: italic\">None</span>\n",
       "<span style=\"font-weight: bold\">}</span>\n",
       "</pre>\n"
      ],
      "text/plain": [
       "\u001b[1m{\u001b[0m\n",
       "\u001b[2;32m│   \u001b[0m\u001b[32m'layer'\u001b[0m: \u001b[3;35mNone\u001b[0m,\n",
       "\u001b[2;32m│   \u001b[0m\u001b[32m'batch_key'\u001b[0m: \u001b[32m'modality'\u001b[0m,\n",
       "\u001b[2;32m│   \u001b[0m\u001b[32m'size_factor_key'\u001b[0m: \u001b[3;35mNone\u001b[0m,\n",
       "\u001b[2;32m│   \u001b[0m\u001b[32m'categorical_covariate_keys'\u001b[0m: \u001b[1m[\u001b[0m\u001b[32m'library_id'\u001b[0m\u001b[1m]\u001b[0m,\n",
       "\u001b[2;32m│   \u001b[0m\u001b[32m'continuous_covariate_keys'\u001b[0m: \u001b[3;35mNone\u001b[0m,\n",
       "\u001b[2;32m│   \u001b[0m\u001b[32m'protein_expression_obsm_key'\u001b[0m: \u001b[3;35mNone\u001b[0m,\n",
       "\u001b[2;32m│   \u001b[0m\u001b[32m'protein_names_uns_key'\u001b[0m: \u001b[3;35mNone\u001b[0m\n",
       "\u001b[1m}\u001b[0m\n"
      ]
     },
     "metadata": {},
     "output_type": "display_data"
    },
    {
     "data": {
      "text/html": [
       "<pre style=\"white-space:pre;overflow-x:auto;line-height:normal;font-family:Menlo,'DejaVu Sans Mono',consolas,'Courier New',monospace\">\n",
       "</pre>\n"
      ],
      "text/plain": [
       "\n"
      ]
     },
     "metadata": {},
     "output_type": "display_data"
    },
    {
     "data": {
      "text/html": [
       "<pre style=\"white-space:pre;overflow-x:auto;line-height:normal;font-family:Menlo,'DejaVu Sans Mono',consolas,'Courier New',monospace\"><span style=\"font-style: italic\">         Summary Statistics          </span>\n",
       "┏━━━━━━━━━━━━━━━━━━━━━━━━━━┳━━━━━━━━┓\n",
       "┃<span style=\"font-weight: bold\">     Summary Stat Key     </span>┃<span style=\"font-weight: bold\"> Value  </span>┃\n",
       "┡━━━━━━━━━━━━━━━━━━━━━━━━━━╇━━━━━━━━┩\n",
       "│<span style=\"color: #0087ff; text-decoration-color: #0087ff\">         n_batch          </span>│<span style=\"color: #af00d7; text-decoration-color: #af00d7\">   1    </span>│\n",
       "│<span style=\"color: #0087ff; text-decoration-color: #0087ff\">         n_cells          </span>│<span style=\"color: #af00d7; text-decoration-color: #af00d7\"> 38618  </span>│\n",
       "│<span style=\"color: #0087ff; text-decoration-color: #0087ff\"> n_extra_categorical_covs </span>│<span style=\"color: #af00d7; text-decoration-color: #af00d7\">   1    </span>│\n",
       "│<span style=\"color: #0087ff; text-decoration-color: #0087ff\"> n_extra_continuous_covs  </span>│<span style=\"color: #af00d7; text-decoration-color: #af00d7\">   0    </span>│\n",
       "│<span style=\"color: #0087ff; text-decoration-color: #0087ff\">         n_labels         </span>│<span style=\"color: #af00d7; text-decoration-color: #af00d7\">   1    </span>│\n",
       "│<span style=\"color: #0087ff; text-decoration-color: #0087ff\">          n_vars          </span>│<span style=\"color: #af00d7; text-decoration-color: #af00d7\"> 139949 </span>│\n",
       "└──────────────────────────┴────────┘\n",
       "</pre>\n"
      ],
      "text/plain": [
       "\u001b[3m         Summary Statistics          \u001b[0m\n",
       "┏━━━━━━━━━━━━━━━━━━━━━━━━━━┳━━━━━━━━┓\n",
       "┃\u001b[1m \u001b[0m\u001b[1m    Summary Stat Key    \u001b[0m\u001b[1m \u001b[0m┃\u001b[1m \u001b[0m\u001b[1mValue \u001b[0m\u001b[1m \u001b[0m┃\n",
       "┡━━━━━━━━━━━━━━━━━━━━━━━━━━╇━━━━━━━━┩\n",
       "│\u001b[38;5;33m \u001b[0m\u001b[38;5;33m        n_batch         \u001b[0m\u001b[38;5;33m \u001b[0m│\u001b[38;5;128m \u001b[0m\u001b[38;5;128m  1   \u001b[0m\u001b[38;5;128m \u001b[0m│\n",
       "│\u001b[38;5;33m \u001b[0m\u001b[38;5;33m        n_cells         \u001b[0m\u001b[38;5;33m \u001b[0m│\u001b[38;5;128m \u001b[0m\u001b[38;5;128m38618 \u001b[0m\u001b[38;5;128m \u001b[0m│\n",
       "│\u001b[38;5;33m \u001b[0m\u001b[38;5;33mn_extra_categorical_covs\u001b[0m\u001b[38;5;33m \u001b[0m│\u001b[38;5;128m \u001b[0m\u001b[38;5;128m  1   \u001b[0m\u001b[38;5;128m \u001b[0m│\n",
       "│\u001b[38;5;33m \u001b[0m\u001b[38;5;33mn_extra_continuous_covs \u001b[0m\u001b[38;5;33m \u001b[0m│\u001b[38;5;128m \u001b[0m\u001b[38;5;128m  0   \u001b[0m\u001b[38;5;128m \u001b[0m│\n",
       "│\u001b[38;5;33m \u001b[0m\u001b[38;5;33m        n_labels        \u001b[0m\u001b[38;5;33m \u001b[0m│\u001b[38;5;128m \u001b[0m\u001b[38;5;128m  1   \u001b[0m\u001b[38;5;128m \u001b[0m│\n",
       "│\u001b[38;5;33m \u001b[0m\u001b[38;5;33m         n_vars         \u001b[0m\u001b[38;5;33m \u001b[0m│\u001b[38;5;128m \u001b[0m\u001b[38;5;128m139949\u001b[0m\u001b[38;5;128m \u001b[0m│\n",
       "└──────────────────────────┴────────┘\n"
      ]
     },
     "metadata": {},
     "output_type": "display_data"
    },
    {
     "data": {
      "text/html": [
       "<pre style=\"white-space:pre;overflow-x:auto;line-height:normal;font-family:Menlo,'DejaVu Sans Mono',consolas,'Courier New',monospace\"><span style=\"font-style: italic\">                             Data Registry                             </span>\n",
       "┏━━━━━━━━━━━━━━━━━━━━━━━━┳━━━━━━━━━━━━━━━━━━━━━━━━━━━━━━━━━━━━━━━━━━━━┓\n",
       "┃<span style=\"font-weight: bold\">      Registry Key      </span>┃<span style=\"font-weight: bold\">            scvi-tools Location             </span>┃\n",
       "┡━━━━━━━━━━━━━━━━━━━━━━━━╇━━━━━━━━━━━━━━━━━━━━━━━━━━━━━━━━━━━━━━━━━━━━┩\n",
       "│<span style=\"color: #0087ff; text-decoration-color: #0087ff\">           X            </span>│<span style=\"color: #af00d7; text-decoration-color: #af00d7\">                  adata.X                   </span>│\n",
       "│<span style=\"color: #0087ff; text-decoration-color: #0087ff\">         batch          </span>│<span style=\"color: #af00d7; text-decoration-color: #af00d7\">          adata.obs['_scvi_batch']          </span>│\n",
       "│<span style=\"color: #0087ff; text-decoration-color: #0087ff\"> extra_categorical_covs </span>│<span style=\"color: #af00d7; text-decoration-color: #af00d7\"> adata.obsm['_scvi_extra_categorical_covs'] </span>│\n",
       "│<span style=\"color: #0087ff; text-decoration-color: #0087ff\">         ind_x          </span>│<span style=\"color: #af00d7; text-decoration-color: #af00d7\">           adata.obs['_indices']            </span>│\n",
       "│<span style=\"color: #0087ff; text-decoration-color: #0087ff\">         labels         </span>│<span style=\"color: #af00d7; text-decoration-color: #af00d7\">         adata.obs['_scvi_labels']          </span>│\n",
       "└────────────────────────┴────────────────────────────────────────────┘\n",
       "</pre>\n"
      ],
      "text/plain": [
       "\u001b[3m                             Data Registry                             \u001b[0m\n",
       "┏━━━━━━━━━━━━━━━━━━━━━━━━┳━━━━━━━━━━━━━━━━━━━━━━━━━━━━━━━━━━━━━━━━━━━━┓\n",
       "┃\u001b[1m \u001b[0m\u001b[1m     Registry Key     \u001b[0m\u001b[1m \u001b[0m┃\u001b[1m \u001b[0m\u001b[1m           scvi-tools Location            \u001b[0m\u001b[1m \u001b[0m┃\n",
       "┡━━━━━━━━━━━━━━━━━━━━━━━━╇━━━━━━━━━━━━━━━━━━━━━━━━━━━━━━━━━━━━━━━━━━━━┩\n",
       "│\u001b[38;5;33m \u001b[0m\u001b[38;5;33m          X           \u001b[0m\u001b[38;5;33m \u001b[0m│\u001b[38;5;128m \u001b[0m\u001b[38;5;128m                 adata.X                  \u001b[0m\u001b[38;5;128m \u001b[0m│\n",
       "│\u001b[38;5;33m \u001b[0m\u001b[38;5;33m        batch         \u001b[0m\u001b[38;5;33m \u001b[0m│\u001b[38;5;128m \u001b[0m\u001b[38;5;128m         adata.obs['_scvi_batch']         \u001b[0m\u001b[38;5;128m \u001b[0m│\n",
       "│\u001b[38;5;33m \u001b[0m\u001b[38;5;33mextra_categorical_covs\u001b[0m\u001b[38;5;33m \u001b[0m│\u001b[38;5;128m \u001b[0m\u001b[38;5;128madata.obsm['_scvi_extra_categorical_covs']\u001b[0m\u001b[38;5;128m \u001b[0m│\n",
       "│\u001b[38;5;33m \u001b[0m\u001b[38;5;33m        ind_x         \u001b[0m\u001b[38;5;33m \u001b[0m│\u001b[38;5;128m \u001b[0m\u001b[38;5;128m          adata.obs['_indices']           \u001b[0m\u001b[38;5;128m \u001b[0m│\n",
       "│\u001b[38;5;33m \u001b[0m\u001b[38;5;33m        labels        \u001b[0m\u001b[38;5;33m \u001b[0m│\u001b[38;5;128m \u001b[0m\u001b[38;5;128m        adata.obs['_scvi_labels']         \u001b[0m\u001b[38;5;128m \u001b[0m│\n",
       "└────────────────────────┴────────────────────────────────────────────┘\n"
      ]
     },
     "metadata": {},
     "output_type": "display_data"
    },
    {
     "data": {
      "text/html": [
       "<pre style=\"white-space:pre;overflow-x:auto;line-height:normal;font-family:Menlo,'DejaVu Sans Mono',consolas,'Courier New',monospace\"><span style=\"font-style: italic\">                    batch State Registry                    </span>\n",
       "┏━━━━━━━━━━━━━━━━━━━━━━━┳━━━━━━━━━━━━┳━━━━━━━━━━━━━━━━━━━━━┓\n",
       "┃<span style=\"font-weight: bold\">    Source Location    </span>┃<span style=\"font-weight: bold\"> Categories </span>┃<span style=\"font-weight: bold\"> scvi-tools Encoding </span>┃\n",
       "┡━━━━━━━━━━━━━━━━━━━━━━━╇━━━━━━━━━━━━╇━━━━━━━━━━━━━━━━━━━━━┩\n",
       "│<span style=\"color: #0087ff; text-decoration-color: #0087ff\"> adata.obs['modality'] </span>│<span style=\"color: #008000; text-decoration-color: #008000\">   paired   </span>│<span style=\"color: #af00d7; text-decoration-color: #af00d7\">          0          </span>│\n",
       "└───────────────────────┴────────────┴─────────────────────┘\n",
       "</pre>\n"
      ],
      "text/plain": [
       "\u001b[3m                    batch State Registry                    \u001b[0m\n",
       "┏━━━━━━━━━━━━━━━━━━━━━━━┳━━━━━━━━━━━━┳━━━━━━━━━━━━━━━━━━━━━┓\n",
       "┃\u001b[1m \u001b[0m\u001b[1m   Source Location   \u001b[0m\u001b[1m \u001b[0m┃\u001b[1m \u001b[0m\u001b[1mCategories\u001b[0m\u001b[1m \u001b[0m┃\u001b[1m \u001b[0m\u001b[1mscvi-tools Encoding\u001b[0m\u001b[1m \u001b[0m┃\n",
       "┡━━━━━━━━━━━━━━━━━━━━━━━╇━━━━━━━━━━━━╇━━━━━━━━━━━━━━━━━━━━━┩\n",
       "│\u001b[38;5;33m \u001b[0m\u001b[38;5;33madata.obs['modality']\u001b[0m\u001b[38;5;33m \u001b[0m│\u001b[32m \u001b[0m\u001b[32m  paired  \u001b[0m\u001b[32m \u001b[0m│\u001b[38;5;128m \u001b[0m\u001b[38;5;128m         0         \u001b[0m\u001b[38;5;128m \u001b[0m│\n",
       "└───────────────────────┴────────────┴─────────────────────┘\n"
      ]
     },
     "metadata": {},
     "output_type": "display_data"
    },
    {
     "data": {
      "text/html": [
       "<pre style=\"white-space:pre;overflow-x:auto;line-height:normal;font-family:Menlo,'DejaVu Sans Mono',consolas,'Courier New',monospace\"><span style=\"font-style: italic\">                     labels State Registry                      </span>\n",
       "┏━━━━━━━━━━━━━━━━━━━━━━━━━━━┳━━━━━━━━━━━━┳━━━━━━━━━━━━━━━━━━━━━┓\n",
       "┃<span style=\"font-weight: bold\">      Source Location      </span>┃<span style=\"font-weight: bold\"> Categories </span>┃<span style=\"font-weight: bold\"> scvi-tools Encoding </span>┃\n",
       "┡━━━━━━━━━━━━━━━━━━━━━━━━━━━╇━━━━━━━━━━━━╇━━━━━━━━━━━━━━━━━━━━━┩\n",
       "│<span style=\"color: #0087ff; text-decoration-color: #0087ff\"> adata.obs['_scvi_labels'] </span>│<span style=\"color: #008000; text-decoration-color: #008000\">     0      </span>│<span style=\"color: #af00d7; text-decoration-color: #af00d7\">          0          </span>│\n",
       "└───────────────────────────┴────────────┴─────────────────────┘\n",
       "</pre>\n"
      ],
      "text/plain": [
       "\u001b[3m                     labels State Registry                      \u001b[0m\n",
       "┏━━━━━━━━━━━━━━━━━━━━━━━━━━━┳━━━━━━━━━━━━┳━━━━━━━━━━━━━━━━━━━━━┓\n",
       "┃\u001b[1m \u001b[0m\u001b[1m     Source Location     \u001b[0m\u001b[1m \u001b[0m┃\u001b[1m \u001b[0m\u001b[1mCategories\u001b[0m\u001b[1m \u001b[0m┃\u001b[1m \u001b[0m\u001b[1mscvi-tools Encoding\u001b[0m\u001b[1m \u001b[0m┃\n",
       "┡━━━━━━━━━━━━━━━━━━━━━━━━━━━╇━━━━━━━━━━━━╇━━━━━━━━━━━━━━━━━━━━━┩\n",
       "│\u001b[38;5;33m \u001b[0m\u001b[38;5;33madata.obs['_scvi_labels']\u001b[0m\u001b[38;5;33m \u001b[0m│\u001b[32m \u001b[0m\u001b[32m    0     \u001b[0m\u001b[32m \u001b[0m│\u001b[38;5;128m \u001b[0m\u001b[38;5;128m         0         \u001b[0m\u001b[38;5;128m \u001b[0m│\n",
       "└───────────────────────────┴────────────┴─────────────────────┘\n"
      ]
     },
     "metadata": {},
     "output_type": "display_data"
    },
    {
     "data": {
      "text/html": [
       "<pre style=\"white-space:pre;overflow-x:auto;line-height:normal;font-family:Menlo,'DejaVu Sans Mono',consolas,'Courier New',monospace\"><span style=\"font-style: italic\">                    batch State Registry                    </span>\n",
       "┏━━━━━━━━━━━━━━━━━━━━━━━┳━━━━━━━━━━━━┳━━━━━━━━━━━━━━━━━━━━━┓\n",
       "┃<span style=\"font-weight: bold\">    Source Location    </span>┃<span style=\"font-weight: bold\"> Categories </span>┃<span style=\"font-weight: bold\"> scvi-tools Encoding </span>┃\n",
       "┡━━━━━━━━━━━━━━━━━━━━━━━╇━━━━━━━━━━━━╇━━━━━━━━━━━━━━━━━━━━━┩\n",
       "│<span style=\"color: #0087ff; text-decoration-color: #0087ff\"> adata.obs['modality'] </span>│<span style=\"color: #008000; text-decoration-color: #008000\">   paired   </span>│<span style=\"color: #af00d7; text-decoration-color: #af00d7\">          0          </span>│\n",
       "└───────────────────────┴────────────┴─────────────────────┘\n",
       "</pre>\n"
      ],
      "text/plain": [
       "\u001b[3m                    batch State Registry                    \u001b[0m\n",
       "┏━━━━━━━━━━━━━━━━━━━━━━━┳━━━━━━━━━━━━┳━━━━━━━━━━━━━━━━━━━━━┓\n",
       "┃\u001b[1m \u001b[0m\u001b[1m   Source Location   \u001b[0m\u001b[1m \u001b[0m┃\u001b[1m \u001b[0m\u001b[1mCategories\u001b[0m\u001b[1m \u001b[0m┃\u001b[1m \u001b[0m\u001b[1mscvi-tools Encoding\u001b[0m\u001b[1m \u001b[0m┃\n",
       "┡━━━━━━━━━━━━━━━━━━━━━━━╇━━━━━━━━━━━━╇━━━━━━━━━━━━━━━━━━━━━┩\n",
       "│\u001b[38;5;33m \u001b[0m\u001b[38;5;33madata.obs['modality']\u001b[0m\u001b[38;5;33m \u001b[0m│\u001b[32m \u001b[0m\u001b[32m  paired  \u001b[0m\u001b[32m \u001b[0m│\u001b[38;5;128m \u001b[0m\u001b[38;5;128m         0         \u001b[0m\u001b[38;5;128m \u001b[0m│\n",
       "└───────────────────────┴────────────┴─────────────────────┘\n"
      ]
     },
     "metadata": {},
     "output_type": "display_data"
    },
    {
     "data": {
      "text/html": [
       "<pre style=\"white-space:pre;overflow-x:auto;line-height:normal;font-family:Menlo,'DejaVu Sans Mono',consolas,'Courier New',monospace\"><span style=\"font-style: italic\">            extra_categorical_covs State Registry             </span>\n",
       "┏━━━━━━━━━━━━━━━━━━━━━━━━━┳━━━━━━━━━━━━┳━━━━━━━━━━━━━━━━━━━━━┓\n",
       "┃<span style=\"font-weight: bold\">     Source Location     </span>┃<span style=\"font-weight: bold\"> Categories </span>┃<span style=\"font-weight: bold\"> scvi-tools Encoding </span>┃\n",
       "┡━━━━━━━━━━━━━━━━━━━━━━━━━╇━━━━━━━━━━━━╇━━━━━━━━━━━━━━━━━━━━━┩\n",
       "│<span style=\"color: #0087ff; text-decoration-color: #0087ff\"> adata.obs['library_id'] </span>│<span style=\"color: #008000; text-decoration-color: #008000\">   Ag119    </span>│<span style=\"color: #af00d7; text-decoration-color: #af00d7\">          0          </span>│\n",
       "│<span style=\"color: #0087ff; text-decoration-color: #0087ff\">                         </span>│<span style=\"color: #008000; text-decoration-color: #008000\">   Ag120    </span>│<span style=\"color: #af00d7; text-decoration-color: #af00d7\">          1          </span>│\n",
       "│<span style=\"color: #0087ff; text-decoration-color: #0087ff\">                         </span>│<span style=\"color: #008000; text-decoration-color: #008000\">   Ag121    </span>│<span style=\"color: #af00d7; text-decoration-color: #af00d7\">          2          </span>│\n",
       "│<span style=\"color: #0087ff; text-decoration-color: #0087ff\">                         </span>│<span style=\"color: #008000; text-decoration-color: #008000\">   Ag122    </span>│<span style=\"color: #af00d7; text-decoration-color: #af00d7\">          3          </span>│\n",
       "│<span style=\"color: #0087ff; text-decoration-color: #0087ff\">                         </span>│<span style=\"color: #008000; text-decoration-color: #008000\">            </span>│<span style=\"color: #af00d7; text-decoration-color: #af00d7\">                     </span>│\n",
       "└─────────────────────────┴────────────┴─────────────────────┘\n",
       "</pre>\n"
      ],
      "text/plain": [
       "\u001b[3m            extra_categorical_covs State Registry             \u001b[0m\n",
       "┏━━━━━━━━━━━━━━━━━━━━━━━━━┳━━━━━━━━━━━━┳━━━━━━━━━━━━━━━━━━━━━┓\n",
       "┃\u001b[1m \u001b[0m\u001b[1m    Source Location    \u001b[0m\u001b[1m \u001b[0m┃\u001b[1m \u001b[0m\u001b[1mCategories\u001b[0m\u001b[1m \u001b[0m┃\u001b[1m \u001b[0m\u001b[1mscvi-tools Encoding\u001b[0m\u001b[1m \u001b[0m┃\n",
       "┡━━━━━━━━━━━━━━━━━━━━━━━━━╇━━━━━━━━━━━━╇━━━━━━━━━━━━━━━━━━━━━┩\n",
       "│\u001b[38;5;33m \u001b[0m\u001b[38;5;33madata.obs['library_id']\u001b[0m\u001b[38;5;33m \u001b[0m│\u001b[32m \u001b[0m\u001b[32m  Ag119   \u001b[0m\u001b[32m \u001b[0m│\u001b[38;5;128m \u001b[0m\u001b[38;5;128m         0         \u001b[0m\u001b[38;5;128m \u001b[0m│\n",
       "│\u001b[38;5;33m \u001b[0m\u001b[38;5;33m                       \u001b[0m\u001b[38;5;33m \u001b[0m│\u001b[32m \u001b[0m\u001b[32m  Ag120   \u001b[0m\u001b[32m \u001b[0m│\u001b[38;5;128m \u001b[0m\u001b[38;5;128m         1         \u001b[0m\u001b[38;5;128m \u001b[0m│\n",
       "│\u001b[38;5;33m \u001b[0m\u001b[38;5;33m                       \u001b[0m\u001b[38;5;33m \u001b[0m│\u001b[32m \u001b[0m\u001b[32m  Ag121   \u001b[0m\u001b[32m \u001b[0m│\u001b[38;5;128m \u001b[0m\u001b[38;5;128m         2         \u001b[0m\u001b[38;5;128m \u001b[0m│\n",
       "│\u001b[38;5;33m \u001b[0m\u001b[38;5;33m                       \u001b[0m\u001b[38;5;33m \u001b[0m│\u001b[32m \u001b[0m\u001b[32m  Ag122   \u001b[0m\u001b[32m \u001b[0m│\u001b[38;5;128m \u001b[0m\u001b[38;5;128m         3         \u001b[0m\u001b[38;5;128m \u001b[0m│\n",
       "│\u001b[38;5;33m \u001b[0m\u001b[38;5;33m                       \u001b[0m\u001b[38;5;33m \u001b[0m│\u001b[32m \u001b[0m\u001b[32m          \u001b[0m\u001b[32m \u001b[0m│\u001b[38;5;128m \u001b[0m\u001b[38;5;128m                   \u001b[0m\u001b[38;5;128m \u001b[0m│\n",
       "└─────────────────────────┴────────────┴─────────────────────┘\n"
      ]
     },
     "metadata": {},
     "output_type": "display_data"
    }
   ],
   "source": [
    "mvi = scvi.model.MULTIVI(\n",
    "    adata_mvi, \n",
    "    n_genes=(adata_mvi.var['modality']=='Gene Expression').sum(),\n",
    "    n_regions=(adata_mvi.var['modality']=='Peaks').sum(),\n",
    ")\n",
    "mvi.view_anndata_setup()"
   ]
  },
  {
   "cell_type": "code",
   "execution_count": null,
   "metadata": {},
   "outputs": [
    {
     "name": "stderr",
     "output_type": "stream",
     "text": [
      "GPU available: False, used: False\n",
      "TPU available: False, using: 0 TPU cores\n",
      "IPU available: False, using: 0 IPUs\n",
      "HPU available: False, using: 0 HPUs\n"
     ]
    },
    {
     "name": "stdout",
     "output_type": "stream",
     "text": [
      "Epoch 5/500:   1%|▎                               | 4/500 [35:12<73:07:40, 530.77s/it, loss=6.76e+03, v_num=1]"
     ]
    }
   ],
   "source": [
    "%%time\n",
    "mvi.train()"
   ]
  },
  {
   "cell_type": "markdown",
   "metadata": {
    "id": "SW1yKwds27ez"
   },
   "source": [
    "## Save and Load MultiVI models\n",
    "\n",
    "Saving and loading models is similar to all other scvi-tools models, and is very straight forward:"
   ]
  },
  {
   "cell_type": "code",
   "execution_count": null,
   "metadata": {
    "id": "GqwA7o2l6u8D"
   },
   "outputs": [],
   "source": [
    "mvi.save(trained_model_path, overwrite=True)"
   ]
  },
  {
   "cell_type": "code",
   "execution_count": null,
   "metadata": {
    "colab": {
     "base_uri": "https://localhost:8080/"
    },
    "id": "TI8han7vNAWh",
    "outputId": "1337010c-2895-42b9-8927-4a3caa8dac6f"
   },
   "outputs": [],
   "source": [
    "mvi = scvi.model.MULTIVI.load(trained_model_path, adata=adata_mvi, use_gpu=True)"
   ]
  },
  {
   "cell_type": "markdown",
   "metadata": {
    "id": "5ylbf6OZ3YMH"
   },
   "source": [
    "## Extracting and visualizing the latent space\n",
    "\n",
    "We can now use the `get_latent_representation` to get the latent space from the trained model, and visualize it using scanpy functions:"
   ]
  },
  {
   "cell_type": "code",
   "execution_count": null,
   "metadata": {
    "colab": {
     "base_uri": "https://localhost:8080/",
     "height": 333
    },
    "id": "IZFSzWEboGcP",
    "outputId": "5c9451ff-b6ad-47b5-90e1-46359b027dd3",
    "tags": []
   },
   "outputs": [],
   "source": [
    "adata_mvi.obsm[\"MultiVI_latent\"] = mvi.get_latent_representation()"
   ]
  },
  {
   "cell_type": "markdown",
   "metadata": {},
   "source": [
    "#### embed the graph based on latent representation"
   ]
  },
  {
   "cell_type": "code",
   "execution_count": null,
   "metadata": {},
   "outputs": [],
   "source": [
    "sc.pp.neighbors(adata_mvi, use_rep=\"MultiVI_latent\")\n",
    "sc.tl.umap(adata_mvi, min_dist=0.2)"
   ]
  },
  {
   "cell_type": "markdown",
   "metadata": {},
   "source": [
    "#### visualize the latent representation"
   ]
  },
  {
   "cell_type": "code",
   "execution_count": null,
   "metadata": {},
   "outputs": [],
   "source": [
    "with rc_context({'figure.figsize': (8, 8), 'figure.dpi': 100}):\n",
    "    plt.style.use('seaborn-bright')\n",
    "    sc.pl.umap(adata_mvi, color=['library_id'])"
   ]
  },
  {
   "cell_type": "markdown",
   "metadata": {},
   "source": [
    "### Clustering on the MultiVI latent space\n",
    "The user will note that we imported curated labels from the original publication. Our interface with scanpy makes it easy to cluster the data with scanpy from MultiVI's latent space and then reinject them into MultiVI (e.g., for differential expression)."
   ]
  },
  {
   "cell_type": "code",
   "execution_count": null,
   "metadata": {},
   "outputs": [],
   "source": [
    "# neighbors were already computed using scVI\n",
    "leiden_res = 0.6\n",
    "sc.tl.leiden(adata_mvi, key_added=\"leiden_MultiVI\", resolution=leiden_res)"
   ]
  },
  {
   "cell_type": "code",
   "execution_count": null,
   "metadata": {},
   "outputs": [],
   "source": [
    "with rc_context({'figure.figsize': (8, 8), 'figure.dpi': 100}):\n",
    "    plt.style.use('seaborn-bright')\n",
    "    sc.pl.umap(adata_mvi, color=['leiden_MultiVI'], \n",
    "               frameon=False, legend_loc='on data')"
   ]
  },
  {
   "cell_type": "markdown",
   "metadata": {
    "id": "SFs74Tvu-FC8"
   },
   "source": [
    "### add quantification layers as needed\n",
    "\n",
    "In a well-mixed space, MultiVI can seamlessly impute the missing modalities for single-modality cells.\n",
    "First, imputing expression and accessibility is done with `get_normalized_expression` and `get_accessibility_estimates`, respectively.\n",
    "\n",
    "We'll demonstrate this by imputing gene expression for all cells in the dataset (including those that are ATAC-only cells):"
   ]
  },
  {
   "cell_type": "code",
   "execution_count": null,
   "metadata": {},
   "outputs": [],
   "source": [
    "# preserve original counts\n",
    "adata_mvi.layers['counts'] = adata_mvi.X.copy()\n",
    "# get normalized expression values from model and accessiblility estimates\n",
    "expression = mvi.get_normalized_expression()\n",
    "accessibility = mvi.get_accessibility_estimates()\n",
    "combined = concat([expression, accessibility], axis='columns')\n",
    "print(combined.shape)\n",
    "if DEBUG:\n",
    "    display(combined.head())\n",
    "    print(adata_mvi.obs.index.equals(combined.index))\n",
    "    print(adata_mvi.var.index.equals(combined.columns))\n",
    "adata_mvi.layers['X_mvi'] = combined\n"
   ]
  },
  {
   "cell_type": "code",
   "execution_count": null,
   "metadata": {},
   "outputs": [],
   "source": [
    "print(adata_mvi)"
   ]
  },
  {
   "cell_type": "markdown",
   "metadata": {
    "papermill": {
     "duration": 3.100847,
     "end_time": "2022-05-09T15:55:30.634481",
     "exception": false,
     "start_time": "2022-05-09T15:55:27.533634",
     "status": "completed"
    },
    "tags": []
   },
   "source": [
    "#### save the modified anndata object"
   ]
  },
  {
   "cell_type": "code",
   "execution_count": null,
   "metadata": {
    "papermill": {
     "duration": 680.017211,
     "end_time": "2022-05-09T16:06:53.751432",
     "exception": false,
     "start_time": "2022-05-09T15:55:33.734221",
     "status": "completed"
    },
    "tags": []
   },
   "outputs": [],
   "source": [
    "adata_mvi.write(results_file)"
   ]
  },
  {
   "cell_type": "markdown",
   "metadata": {
    "id": "PiCtrPj_11L1"
   },
   "source": [
    "We can demonstrate this on some known marker genes:\n"
   ]
  },
  {
   "cell_type": "markdown",
   "metadata": {
    "id": "iT0rzx-7x7BE"
   },
   "source": [
    "neuron, SNAP23. "
   ]
  },
  {
   "cell_type": "code",
   "execution_count": null,
   "metadata": {},
   "outputs": [],
   "source": [
    "with rc_context({'figure.figsize': (8, 8), 'figure.dpi': 100}):\n",
    "    plt.style.use('seaborn-bright')\n",
    "    sc.pl.umap(adata_mvi, color='SNAP25')\n",
    "    sc.pl.umap(adata_mvi, color='SNAP25', layer='X_mvi')"
   ]
  },
  {
   "cell_type": "markdown",
   "metadata": {
    "id": "wObn2vlH0sqa"
   },
   "source": [
    "GABAerigc, GAD1:"
   ]
  },
  {
   "cell_type": "code",
   "execution_count": null,
   "metadata": {},
   "outputs": [],
   "source": [
    "with rc_context({'figure.figsize': (8, 8), 'figure.dpi': 100}):\n",
    "    plt.style.use('seaborn-bright')\n",
    "    sc.pl.umap(adata_mvi, color='GAD1')\n",
    "    sc.pl.umap(adata_mvi, color='GAD1', layer='X_mvi')"
   ]
  },
  {
   "cell_type": "markdown",
   "metadata": {
    "id": "eO3y_fkO0jk6"
   },
   "source": [
    "Glutamatergic, GRIN1:"
   ]
  },
  {
   "cell_type": "code",
   "execution_count": null,
   "metadata": {},
   "outputs": [],
   "source": [
    "with rc_context({'figure.figsize': (8, 8), 'figure.dpi': 100}):\n",
    "    plt.style.use('seaborn-bright')\n",
    "    sc.pl.umap(adata_mvi, color='GRIN1')\n",
    "    sc.pl.umap(adata_mvi, color='GRIN1', layer='X_mvi')"
   ]
  },
  {
   "cell_type": "markdown",
   "metadata": {
    "id": "eO3y_fkO0jk6"
   },
   "source": [
    "Microglia, CSF1R:"
   ]
  },
  {
   "cell_type": "code",
   "execution_count": null,
   "metadata": {},
   "outputs": [],
   "source": [
    "with rc_context({'figure.figsize': (8, 8), 'figure.dpi': 100}):\n",
    "    plt.style.use('seaborn-bright')\n",
    "    sc.pl.umap(adata_mvi, color='CSF1R')\n",
    "    sc.pl.umap(adata_mvi, color='CSF1R', layer='X_mvi')"
   ]
  },
  {
   "cell_type": "markdown",
   "metadata": {
    "id": "eO3y_fkO0jk6"
   },
   "source": [
    "Astrocyte, GFAP:"
   ]
  },
  {
   "cell_type": "code",
   "execution_count": null,
   "metadata": {},
   "outputs": [],
   "source": [
    "with rc_context({'figure.figsize': (8, 8), 'figure.dpi': 100}):\n",
    "    plt.style.use('seaborn-bright')\n",
    "    sc.pl.umap(adata_mvi, color='GFAP')\n",
    "    sc.pl.umap(adata_mvi, color='GFAP', layer='X_mvi')"
   ]
  },
  {
   "cell_type": "markdown",
   "metadata": {
    "id": "eO3y_fkO0jk6"
   },
   "source": [
    "Oligodendrocyte, PLP1:"
   ]
  },
  {
   "cell_type": "code",
   "execution_count": null,
   "metadata": {},
   "outputs": [],
   "source": [
    "with rc_context({'figure.figsize': (8, 8), 'figure.dpi': 100}):\n",
    "    plt.style.use('seaborn-bright')\n",
    "    sc.pl.umap(adata_mvi, color='PLP1')\n",
    "    sc.pl.umap(adata_mvi, color='PLP1', layer='X_mvi')"
   ]
  },
  {
   "cell_type": "markdown",
   "metadata": {
    "id": "Sc8KSq092UaF"
   },
   "source": [
    "All three marker genes clearly identify their respective populations. Importantly, the imputed gene expression profiles are stable and consistent within that population, **even though many of those cells only measured the ATAC profile of those cells**."
   ]
  },
  {
   "cell_type": "code",
   "execution_count": null,
   "metadata": {},
   "outputs": [],
   "source": [
    "!date"
   ]
  },
  {
   "cell_type": "code",
   "execution_count": null,
   "metadata": {},
   "outputs": [],
   "source": []
  }
 ],
 "metadata": {
  "accelerator": "GPU",
  "colab": {
   "collapsed_sections": [],
   "machine_shape": "hm",
   "name": "MultiVI_tutorial.ipynb",
   "provenance": [],
   "toc_visible": true
  },
  "kernelspec": {
   "display_name": "Python 3 (ipykernel)",
   "language": "python",
   "name": "python3"
  },
  "language_info": {
   "codemirror_mode": {
    "name": "ipython",
    "version": 3
   },
   "file_extension": ".py",
   "mimetype": "text/x-python",
   "name": "python",
   "nbconvert_exporter": "python",
   "pygments_lexer": "ipython3",
   "version": "3.9.15"
  }
 },
 "nbformat": 4,
 "nbformat_minor": 4
}
