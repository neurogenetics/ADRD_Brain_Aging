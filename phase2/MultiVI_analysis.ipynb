{
 "cells": [
  {
   "cell_type": "markdown",
   "metadata": {
    "id": "56KZeo3DBWfs"
   },
   "source": [
    "# Joint analysis of paired and unpaired multiomic data with MultiVI\n",
    "\n",
    "MultiVI is used for the joint analysis of scRNA and scATAC-seq datasets that were jointly profiled (multiomic / paired) and single-modality datasets (only scRNA or only scATAC). MultiVI uses the paired data as an anchor to align and merge the latent spaces learned from each individual modality.\n",
    "\n",
    "This tutorial walks through how to read multiomic data, create a joint object with paired and unpaired data, set-up and train a MultiVI model, visualize the resulting latent space, and run differential analyses. "
   ]
  },
  {
   "cell_type": "markdown",
   "metadata": {},
   "source": [
    "## this notebook is modified directly from the scvi-tools tutorial\n",
    "\n",
    "[MultiVI tutorial](https://docs.scvi-tools.org/en/stable/tutorials/notebooks/MultiVI_tutorial.html)"
   ]
  },
  {
   "cell_type": "markdown",
   "metadata": {
    "id": "A4kc569MMtbo"
   },
   "source": [
    "<div class=\"alert alert-info\">\n",
    "Important\n",
    "\n",
    "MultiVI requires the datasets to use shared features. scATAC-seq datasets need to be processed to use a shared set of peaks.\n",
    "\n",
    "</div>"
   ]
  },
  {
   "cell_type": "code",
   "execution_count": 1,
   "metadata": {},
   "outputs": [
    {
     "name": "stdout",
     "output_type": "stream",
     "text": [
      "Thu Jul 27 14:56:21 EDT 2023\n"
     ]
    }
   ],
   "source": [
    "!date"
   ]
  },
  {
   "cell_type": "markdown",
   "metadata": {},
   "source": [
    "#### import libraries and set notebook variables"
   ]
  },
  {
   "cell_type": "code",
   "execution_count": null,
   "metadata": {
    "colab": {
     "base_uri": "https://localhost:8080/"
    },
    "id": "MLWcgWfSQ2mi",
    "outputId": "d9150926-06c3-46f3-9ab1-289fbc254908"
   },
   "outputs": [],
   "source": [
    "import scvi\n",
    "import numpy as np\n",
    "import scanpy as sc\n",
    "from pandas import read_csv, concat\n",
    "import matplotlib.pyplot as plt\n",
    "from matplotlib.pyplot import rc_context\n",
    "\n",
    "import random\n",
    "random.seed(42)\n",
    "\n",
    "import warnings\n",
    "warnings.filterwarnings('ignore')\n",
    "\n",
    "scvi.settings.seed = 42\n",
    "\n",
    "%matplotlib inline\n",
    "# for white background of figures (only for docs rendering)\n",
    "%config InlineBackend.print_figure_kwargs={'facecolor' : \"w\"}\n",
    "%config InlineBackend.figure_format='retina'"
   ]
  },
  {
   "cell_type": "code",
   "execution_count": null,
   "metadata": {},
   "outputs": [],
   "source": [
    "# naming\n",
    "project = 'aging_phase2'\n",
    "\n",
    "# directories\n",
    "wrk_dir = '/labshare/raph/datasets/adrd_neuro/brain_aging/phase2'\n",
    "quants_dir = f'{wrk_dir}/quants'\n",
    "models_dir = f'{wrk_dir}/models'\n",
    "\n",
    "# in files\n",
    "arc_cnt_file = f'{wrk_dir}/src_data/arc/aging_phase2_arc_aggr/outs/filtered_feature_bc_matrix'\n",
    "arc_aggr_file = f'{wrk_dir}/src_data/arc/aging_phase2_arc_aggr/outs/aggr.csv'\n",
    "gex_file = f'{quants_dir}/{project}_GEX.raw.h5ad'\n",
    "atac_file = f'{quants_dir}/{project}_ATAC.raw.h5ad'\n",
    "\n",
    "# out files\n",
    "raw_anndata_file = f'{quants_dir}/{proj_name}.raw.h5ad'\n",
    "results_file = f'{quants_dir}/{proj_name}.multivi.h5ad'\n",
    "trained_model_path = f'{models_dir}/{proj_name}_trained_multivi'\n",
    "\n",
    "# variables\n",
    "DEBUG = True\n",
    "MIN_CELL_PERCENT = 0.005\n",
    "MAX_MITO_PERCENT = 10\n",
    "TESTING = False\n",
    "testing_cell_size = 5000\n",
    "FILTER_FEATURES_HV = True\n",
    "TOP_FEATURES_PERCENT = 0.3"
   ]
  },
  {
   "cell_type": "markdown",
   "metadata": {
    "id": "tbQ8zbhVP8D6"
   },
   "source": [
    "## Data Processing\n",
    "Next, we'll read the data into an Anndata object. \n",
    "The data has 12012 cells, we'll use 4004 for each dataset."
   ]
  },
  {
   "cell_type": "markdown",
   "metadata": {
    "id": "Aap3V-9dOoqS"
   },
   "source": [
    "Reading the data into an AnnData object can be done with the `read_10x_multiome` function:\n",
    "\n",
    "Cellranger-arc aggr writes filtered file gzipped but read_10x_multiome looks for unzipped files, so need to unzip, guesses future versions may be able to find either?"
   ]
  },
  {
   "cell_type": "code",
   "execution_count": null,
   "metadata": {
    "colab": {
     "base_uri": "https://localhost:8080/"
    },
    "id": "GPo6vQ9zWuY-",
    "outputId": "9d02d562-7874-4d88-aace-f1756bf84167"
   },
   "outputs": [],
   "source": [
    "%%time\n",
    "# read multiomic data\n",
    "adata = scvi.data.read_10x_multiome(arc_cnt_file)\n",
    "adata.var_names_make_unique()\n",
    "adata.obs_names_make_unique()"
   ]
  },
  {
   "cell_type": "code",
   "execution_count": null,
   "metadata": {},
   "outputs": [],
   "source": [
    "print(adata)"
   ]
  },
  {
   "cell_type": "code",
   "execution_count": null,
   "metadata": {},
   "outputs": [],
   "source": [
    "adata.obs.batch_id.value_counts()"
   ]
  },
  {
   "cell_type": "markdown",
   "metadata": {},
   "source": [
    "#### from the cellranger-arc aggr command the batch_id's should match the index from the aggr library file"
   ]
  },
  {
   "cell_type": "code",
   "execution_count": null,
   "metadata": {},
   "outputs": [],
   "source": [
    "aggr_lib = read_csv(arc_aggr_file)\n",
    "aggr_lib = aggr_lib[['library_id']]\n",
    "aggr_lib['batch_id'] = aggr_lib.index + 1\n",
    "print(aggr_lib.shape)\n",
    "if DEBUG:\n",
    "    display(aggr_lib.head())"
   ]
  },
  {
   "cell_type": "markdown",
   "metadata": {},
   "source": [
    "#### merge the lib ID based on obs batch_id"
   ]
  },
  {
   "cell_type": "code",
   "execution_count": null,
   "metadata": {},
   "outputs": [],
   "source": [
    "prev_index = adata.obs.index.copy()\n",
    "adata.obs['library_id'] = adata.obs.batch_id.map(aggr_lib.set_index('batch_id')['library_id'])\n",
    "\n",
    "print(adata.obs.shape)\n",
    "if DEBUG:\n",
    "    display(adata.obs.head())\n",
    "    print(prev_index.equals(adata.obs.index))"
   ]
  },
  {
   "cell_type": "code",
   "execution_count": null,
   "metadata": {},
   "outputs": [],
   "source": [
    "adata.var.modality.value_counts()"
   ]
  },
  {
   "cell_type": "markdown",
   "metadata": {},
   "source": [
    "#### if testing notebook subset the cells"
   ]
  },
  {
   "cell_type": "code",
   "execution_count": null,
   "metadata": {},
   "outputs": [],
   "source": [
    "if TESTING:\n",
    "    cells_subset = random.sample(list(adata.obs.index.values), \n",
    "                                 testing_cell_size)\n",
    "    adata = adata[cells_subset]\n",
    "    print(adata)\n",
    "    if DEBUG:\n",
    "        display(adata.obs.head())\n",
    "        display(adata.var.modality.value_counts())"
   ]
  },
  {
   "cell_type": "markdown",
   "metadata": {
    "id": "ZU8pGcPWPCT9"
   },
   "source": [
    "We can then use the `organize_multiome_anndatas` function to orgnize these three datasets into a single Multiome dataset.\n",
    "This function sorts and orders the data from the multi-modal and modality-specific AnnDatas into a single AnnData (aligning the features, padding missing modalities with 0s, etc). "
   ]
  },
  {
   "cell_type": "code",
   "execution_count": null,
   "metadata": {
    "id": "YnovBjadEAFH"
   },
   "outputs": [],
   "source": [
    "# We can now use the organizing method from scvi to concatenate these anndata\n",
    "# adata_mvi = scvi.data.organize_multiome_anndatas(adata_paired, adata_rna, adata_atac)\n",
    "adata_mvi = scvi.data.organize_multiome_anndatas(adata)"
   ]
  },
  {
   "cell_type": "markdown",
   "metadata": {
    "id": "vLxYxEPg36VI"
   },
   "source": [
    "Note that `organize_multiome_anndatas` adds an annotation to the cells to indicate which modality they originate from:"
   ]
  },
  {
   "cell_type": "code",
   "execution_count": null,
   "metadata": {
    "colab": {
     "base_uri": "https://localhost:8080/",
     "height": 424
    },
    "id": "jjrZVuX_365d",
    "outputId": "55c366c5-5bb4-4571-9688-7f08d62099bf"
   },
   "outputs": [],
   "source": [
    "display(adata_mvi.obs.modality.value_counts())\n",
    "display(adata_mvi.obs.head())"
   ]
  },
  {
   "cell_type": "markdown",
   "metadata": {
    "id": "mXQn58ZywlzP"
   },
   "source": [
    "<div class=\"alert alert-info\">\n",
    "Important\n",
    "\n",
    "MultiVI requires the features to be ordered so that genes appear before genomic regions. This must be enforced by the user.\n",
    "\n",
    "</div>"
   ]
  },
  {
   "cell_type": "markdown",
   "metadata": {
    "id": "TRxR38xehkKr"
   },
   "source": [
    "MultiVI requires the features to be ordered, such that genes appear before genomic regions. In this case this is already the case, but it's always good to verify:"
   ]
  },
  {
   "cell_type": "code",
   "execution_count": null,
   "metadata": {
    "colab": {
     "base_uri": "https://localhost:8080/",
     "height": 424
    },
    "id": "tNuo88gAh6W-",
    "outputId": "07431a5c-dac8-42bb-c963-c8b1a4b959f5"
   },
   "outputs": [],
   "source": [
    "adata_mvi = adata_mvi[:, adata_mvi.var[\"modality\"].argsort()].copy()\n",
    "display(adata_mvi.var)"
   ]
  },
  {
   "cell_type": "markdown",
   "metadata": {},
   "source": [
    "#### save the MultiVi organized but unprocessed anndata object note that the subject is in the obs"
   ]
  },
  {
   "cell_type": "code",
   "execution_count": null,
   "metadata": {},
   "outputs": [],
   "source": [
    "%%time\n",
    "# adata.write(raw_anndata_file)\n",
    "adata_mvi.write(raw_anndata_file)"
   ]
  },
  {
   "cell_type": "code",
   "execution_count": null,
   "metadata": {},
   "outputs": [],
   "source": [
    "print(adata_mvi)"
   ]
  },
  {
   "cell_type": "markdown",
   "metadata": {
    "id": "Q4b1f0mwldGn"
   },
   "source": [
    "We also filter features to remove those that appear in fewer than MIN% of the cells"
   ]
  },
  {
   "cell_type": "code",
   "execution_count": null,
   "metadata": {
    "colab": {
     "base_uri": "https://localhost:8080/"
    },
    "id": "FUhG037lWtYQ",
    "outputId": "96c29ddb-b7a4-432e-f3f3-8f2318830154"
   },
   "outputs": [],
   "source": [
    "print(adata_mvi.shape)\n",
    "# annotate the group of mitochondrial genes as 'mt'\n",
    "adata_mvi.var['mt'] = adata_mvi.var_names.str.startswith('MT-')  \n",
    "# With pp.calculate_qc_metrics, we can compute many metrics very efficiently.\n",
    "sc.pp.calculate_qc_metrics(adata_mvi, qc_vars=['mt'], percent_top=None, \n",
    "                           log1p=False, inplace=True)\n",
    "adata_mvi = adata_mvi[adata_mvi.obs.pct_counts_mt < MAX_MITO_PERCENT, :]\n",
    "# Basic filtering:\n",
    "sc.pp.filter_cells(adata_mvi, min_genes=200)\n",
    "sc.pp.filter_genes(adata_mvi, min_cells=int(adata_mvi.shape[0] * MIN_CELL_PERCENT))\n",
    "\n",
    "print(adata_mvi)\n",
    "\n",
    "if DEBUG:\n",
    "    display(adata_mvi.obs.head())"
   ]
  },
  {
   "cell_type": "markdown",
   "metadata": {},
   "source": [
    "#### if flag set then subset to highest variance features\n",
    "\n",
    "MultiVI tutorial doesn't suggest this so probably typically will set to false"
   ]
  },
  {
   "cell_type": "code",
   "execution_count": null,
   "metadata": {},
   "outputs": [],
   "source": [
    "if FILTER_FEATURES_HV:\n",
    "    n_top_genes = int(adata_mvi.var.shape[0] * TOP_FEATURES_PERCENT)\n",
    "    sc.pp.highly_variable_genes(adata_mvi, n_top_genes=n_top_genes, \n",
    "                                batch_key='library_id',flavor='seurat_v3', \n",
    "                                subset=True)\n",
    "    print(adata_mvi)"
   ]
  },
  {
   "cell_type": "markdown",
   "metadata": {
    "id": "-puYqefZn_0P"
   },
   "source": [
    "## Setup and Training MultiVI\n",
    "We can now set up and train the MultiVI model!"
   ]
  },
  {
   "cell_type": "markdown",
   "metadata": {
    "id": "vJcJx9iXxDIG"
   },
   "source": [
    "First, we need to setup the Anndata object using the `setup_anndata` function. At this point we specify any batch annotation that the model would account for.\n",
    "**Importantly**, the main batch annotation, specific by `batch_key`, should correspond to the modality of the cells.\n",
    "\n",
    "Other batch annotations (e.g if there are multiple ATAC batches) should be provided using the `categorical_covariate_keys`.\n",
    "\n",
    "The actual values of categorical covariates (include `batch_key`) are not important, as long as they are different for different samples.\n",
    "I.e it is not important to call the expression-only samples \"expression\", as long as they are called something different than the multi-modal and accessibility-only samples."
   ]
  },
  {
   "cell_type": "markdown",
   "metadata": {
    "id": "yl5WKg6rw2fc"
   },
   "source": [
    "<div class=\"alert alert-info\">\n",
    "Important\n",
    "\n",
    "MultiVI requires the main batch annotation to correspond to the modality of the samples. Other batch annotation, such as in the case of multiple RNA-only batches, can be specified using `categorical_covariate_keys`.\n",
    "\n",
    "</div>"
   ]
  },
  {
   "cell_type": "code",
   "execution_count": null,
   "metadata": {
    "colab": {
     "base_uri": "https://localhost:8080/"
    },
    "id": "Gx9DJc2WoGpz",
    "outputId": "478986e4-73fc-4e13-94e4-50bccdf235b1"
   },
   "outputs": [],
   "source": [
    "scvi.model.MULTIVI.setup_anndata(adata_mvi, batch_key='modality', \n",
    "                                 categorical_covariate_keys = ['library_id']) \n",
    "                                 # continuous_covariate_keys = ['total_counts', 'pct_counts_mt'])\n",
    "                                 # categorical_covariate_keys = ['region', 'subject_id'],"
   ]
  },
  {
   "cell_type": "markdown",
   "metadata": {
    "id": "_ehwBKfSpnEd"
   },
   "source": [
    "When creating the object, we need to specify how many of the features are genes, and how many are genomic regions. This is so MultiVI can determine the exact architecture for each modality."
   ]
  },
  {
   "cell_type": "code",
   "execution_count": null,
   "metadata": {
    "colab": {
     "base_uri": "https://localhost:8080/"
    },
    "id": "hu7B7zq2oGnB",
    "outputId": "68fc36c7-539b-4696-badc-55861c457c54"
   },
   "outputs": [],
   "source": [
    "mvi = scvi.model.MULTIVI(\n",
    "    adata_mvi, \n",
    "    n_genes=(adata_mvi.var['modality']=='Gene Expression').sum(),\n",
    "    n_regions=(adata_mvi.var['modality']=='Peaks').sum(),\n",
    ")\n",
    "mvi.view_anndata_setup()"
   ]
  },
  {
   "cell_type": "code",
   "execution_count": null,
   "metadata": {},
   "outputs": [],
   "source": [
    "%%time\n",
    "mvi.train()"
   ]
  },
  {
   "cell_type": "markdown",
   "metadata": {
    "id": "SW1yKwds27ez"
   },
   "source": [
    "## Save and Load MultiVI models\n",
    "\n",
    "Saving and loading models is similar to all other scvi-tools models, and is very straight forward:"
   ]
  },
  {
   "cell_type": "code",
   "execution_count": null,
   "metadata": {
    "id": "GqwA7o2l6u8D"
   },
   "outputs": [],
   "source": [
    "mvi.save(trained_model_path, overwrite=True)"
   ]
  },
  {
   "cell_type": "code",
   "execution_count": null,
   "metadata": {
    "colab": {
     "base_uri": "https://localhost:8080/"
    },
    "id": "TI8han7vNAWh",
    "outputId": "1337010c-2895-42b9-8927-4a3caa8dac6f"
   },
   "outputs": [],
   "source": [
    "mvi = scvi.model.MULTIVI.load(trained_model_path, adata=adata_mvi, use_gpu=True)"
   ]
  },
  {
   "cell_type": "markdown",
   "metadata": {
    "id": "5ylbf6OZ3YMH"
   },
   "source": [
    "## Extracting and visualizing the latent space\n",
    "\n",
    "We can now use the `get_latent_representation` to get the latent space from the trained model, and visualize it using scanpy functions:"
   ]
  },
  {
   "cell_type": "code",
   "execution_count": null,
   "metadata": {
    "colab": {
     "base_uri": "https://localhost:8080/",
     "height": 333
    },
    "id": "IZFSzWEboGcP",
    "outputId": "5c9451ff-b6ad-47b5-90e1-46359b027dd3",
    "tags": []
   },
   "outputs": [],
   "source": [
    "adata_mvi.obsm[\"MultiVI_latent\"] = mvi.get_latent_representation()"
   ]
  },
  {
   "cell_type": "markdown",
   "metadata": {},
   "source": [
    "#### embed the graph based on latent representation"
   ]
  },
  {
   "cell_type": "code",
   "execution_count": null,
   "metadata": {},
   "outputs": [],
   "source": [
    "sc.pp.neighbors(adata_mvi, use_rep=\"MultiVI_latent\")\n",
    "sc.tl.umap(adata_mvi, min_dist=0.2)"
   ]
  },
  {
   "cell_type": "markdown",
   "metadata": {},
   "source": [
    "#### visualize the latent representation"
   ]
  },
  {
   "cell_type": "code",
   "execution_count": null,
   "metadata": {},
   "outputs": [],
   "source": [
    "with rc_context({'figure.figsize': (8, 8), 'figure.dpi': 100}):\n",
    "    plt.style.use('seaborn-bright')\n",
    "    sc.pl.umap(adata_mvi, color=['library_id'])"
   ]
  },
  {
   "cell_type": "markdown",
   "metadata": {},
   "source": [
    "### Clustering on the MultiVI latent space\n",
    "The user will note that we imported curated labels from the original publication. Our interface with scanpy makes it easy to cluster the data with scanpy from MultiVI's latent space and then reinject them into MultiVI (e.g., for differential expression)."
   ]
  },
  {
   "cell_type": "code",
   "execution_count": null,
   "metadata": {},
   "outputs": [],
   "source": [
    "# neighbors were already computed using scVI\n",
    "leiden_res = 0.6\n",
    "sc.tl.leiden(adata_mvi, key_added=\"leiden_MultiVI\", resolution=leiden_res)"
   ]
  },
  {
   "cell_type": "code",
   "execution_count": null,
   "metadata": {},
   "outputs": [],
   "source": [
    "with rc_context({'figure.figsize': (8, 8), 'figure.dpi': 100}):\n",
    "    plt.style.use('seaborn-bright')\n",
    "    sc.pl.umap(adata_mvi, color=['leiden_MultiVI'], \n",
    "               frameon=False, legend_loc='on data')"
   ]
  },
  {
   "cell_type": "markdown",
   "metadata": {
    "id": "SFs74Tvu-FC8"
   },
   "source": [
    "### add quantification layers as needed\n",
    "\n",
    "In a well-mixed space, MultiVI can seamlessly impute the missing modalities for single-modality cells.\n",
    "First, imputing expression and accessibility is done with `get_normalized_expression` and `get_accessibility_estimates`, respectively.\n",
    "\n",
    "We'll demonstrate this by imputing gene expression for all cells in the dataset (including those that are ATAC-only cells):"
   ]
  },
  {
   "cell_type": "code",
   "execution_count": null,
   "metadata": {},
   "outputs": [],
   "source": [
    "# preserve original counts\n",
    "adata_mvi.layers['counts'] = adata_mvi.X.copy()\n",
    "# get normalized expression values from model and accessiblility estimates\n",
    "expression = mvi.get_normalized_expression()\n",
    "accessibility = mvi.get_accessibility_estimates()\n",
    "combined = concat([expression, accessibility], axis='columns')\n",
    "print(combined.shape)\n",
    "if DEBUG:\n",
    "    display(combined.head())\n",
    "    print(adata_mvi.obs.index.equals(combined.index))\n",
    "    print(adata_mvi.var.index.equals(combined.columns))\n",
    "adata_mvi.layers['X_mvi'] = combined\n"
   ]
  },
  {
   "cell_type": "code",
   "execution_count": null,
   "metadata": {},
   "outputs": [],
   "source": [
    "print(adata_mvi)"
   ]
  },
  {
   "cell_type": "markdown",
   "metadata": {
    "papermill": {
     "duration": 3.100847,
     "end_time": "2022-05-09T15:55:30.634481",
     "exception": false,
     "start_time": "2022-05-09T15:55:27.533634",
     "status": "completed"
    },
    "tags": []
   },
   "source": [
    "#### save the modified anndata object"
   ]
  },
  {
   "cell_type": "code",
   "execution_count": null,
   "metadata": {
    "papermill": {
     "duration": 680.017211,
     "end_time": "2022-05-09T16:06:53.751432",
     "exception": false,
     "start_time": "2022-05-09T15:55:33.734221",
     "status": "completed"
    },
    "tags": []
   },
   "outputs": [],
   "source": [
    "adata_mvi.write(results_file)"
   ]
  },
  {
   "cell_type": "markdown",
   "metadata": {
    "id": "PiCtrPj_11L1"
   },
   "source": [
    "We can demonstrate this on some known marker genes:\n"
   ]
  },
  {
   "cell_type": "markdown",
   "metadata": {
    "id": "iT0rzx-7x7BE"
   },
   "source": [
    "neuron, SNAP23. "
   ]
  },
  {
   "cell_type": "code",
   "execution_count": null,
   "metadata": {},
   "outputs": [],
   "source": [
    "with rc_context({'figure.figsize': (8, 8), 'figure.dpi': 100}):\n",
    "    plt.style.use('seaborn-bright')\n",
    "    sc.pl.umap(adata_mvi, color='SNAP25')\n",
    "    sc.pl.umap(adata_mvi, color='SNAP25', layer='X_mvi')"
   ]
  },
  {
   "cell_type": "markdown",
   "metadata": {
    "id": "wObn2vlH0sqa"
   },
   "source": [
    "GABAerigc, GAD1:"
   ]
  },
  {
   "cell_type": "code",
   "execution_count": null,
   "metadata": {},
   "outputs": [],
   "source": [
    "with rc_context({'figure.figsize': (8, 8), 'figure.dpi': 100}):\n",
    "    plt.style.use('seaborn-bright')\n",
    "    sc.pl.umap(adata_mvi, color='GAD1')\n",
    "    sc.pl.umap(adata_mvi, color='GAD1', layer='X_mvi')"
   ]
  },
  {
   "cell_type": "markdown",
   "metadata": {
    "id": "eO3y_fkO0jk6"
   },
   "source": [
    "Glutamatergic, GRIN1:"
   ]
  },
  {
   "cell_type": "code",
   "execution_count": null,
   "metadata": {},
   "outputs": [],
   "source": [
    "with rc_context({'figure.figsize': (8, 8), 'figure.dpi': 100}):\n",
    "    plt.style.use('seaborn-bright')\n",
    "    sc.pl.umap(adata_mvi, color='GRIN1')\n",
    "    sc.pl.umap(adata_mvi, color='GRIN1', layer='X_mvi')"
   ]
  },
  {
   "cell_type": "markdown",
   "metadata": {
    "id": "eO3y_fkO0jk6"
   },
   "source": [
    "Microglia, CSF1R:"
   ]
  },
  {
   "cell_type": "code",
   "execution_count": null,
   "metadata": {},
   "outputs": [],
   "source": [
    "with rc_context({'figure.figsize': (8, 8), 'figure.dpi': 100}):\n",
    "    plt.style.use('seaborn-bright')\n",
    "    sc.pl.umap(adata_mvi, color='CSF1R')\n",
    "    sc.pl.umap(adata_mvi, color='CSF1R', layer='X_mvi')"
   ]
  },
  {
   "cell_type": "markdown",
   "metadata": {
    "id": "eO3y_fkO0jk6"
   },
   "source": [
    "Astrocyte, GFAP:"
   ]
  },
  {
   "cell_type": "code",
   "execution_count": null,
   "metadata": {},
   "outputs": [],
   "source": [
    "with rc_context({'figure.figsize': (8, 8), 'figure.dpi': 100}):\n",
    "    plt.style.use('seaborn-bright')\n",
    "    sc.pl.umap(adata_mvi, color='GFAP')\n",
    "    sc.pl.umap(adata_mvi, color='GFAP', layer='X_mvi')"
   ]
  },
  {
   "cell_type": "markdown",
   "metadata": {
    "id": "eO3y_fkO0jk6"
   },
   "source": [
    "Oligodendrocyte, PLP1:"
   ]
  },
  {
   "cell_type": "code",
   "execution_count": null,
   "metadata": {},
   "outputs": [],
   "source": [
    "with rc_context({'figure.figsize': (8, 8), 'figure.dpi': 100}):\n",
    "    plt.style.use('seaborn-bright')\n",
    "    sc.pl.umap(adata_mvi, color='PLP1')\n",
    "    sc.pl.umap(adata_mvi, color='PLP1', layer='X_mvi')"
   ]
  },
  {
   "cell_type": "markdown",
   "metadata": {
    "id": "Sc8KSq092UaF"
   },
   "source": [
    "All three marker genes clearly identify their respective populations. Importantly, the imputed gene expression profiles are stable and consistent within that population, **even though many of those cells only measured the ATAC profile of those cells**."
   ]
  },
  {
   "cell_type": "code",
   "execution_count": null,
   "metadata": {},
   "outputs": [],
   "source": [
    "!date"
   ]
  }
 ],
 "metadata": {
  "accelerator": "GPU",
  "colab": {
   "collapsed_sections": [],
   "machine_shape": "hm",
   "name": "MultiVI_tutorial.ipynb",
   "provenance": [],
   "toc_visible": true
  },
  "kernelspec": {
   "display_name": "Python 3 (ipykernel)",
   "language": "python",
   "name": "python3"
  },
  "language_info": {
   "codemirror_mode": {
    "name": "ipython",
    "version": 3
   },
   "file_extension": ".py",
   "mimetype": "text/x-python",
   "name": "python",
   "nbconvert_exporter": "python",
   "pygments_lexer": "ipython3",
   "version": "3.9.13"
  }
 },
 "nbformat": 4,
 "nbformat_minor": 4
}
