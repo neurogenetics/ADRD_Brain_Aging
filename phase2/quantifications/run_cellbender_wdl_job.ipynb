{
 "cells": [
  {
   "cell_type": "markdown",
   "metadata": {},
   "source": [
    "## Notebook to run CellBender using wdl\n",
    "\n",
    "based on [CellBender WDL](https://github.com/broadinstitute/CellBender/tree/e2fb5977cb187cb4b12172c9f77ed556bca92cb0/wdl)\n",
    "\n",
    "[Broad wdl runner](https://github.com/broadinstitute/wdl-runner)"
   ]
  },
  {
   "cell_type": "code",
   "execution_count": null,
   "metadata": {},
   "outputs": [],
   "source": [
    "!date"
   ]
  },
  {
   "cell_type": "markdown",
   "metadata": {},
   "source": [
    "#### import libraries"
   ]
  },
  {
   "cell_type": "code",
   "execution_count": null,
   "metadata": {},
   "outputs": [],
   "source": [
    "from pandas import read_csv\n",
    "from os.path import exists\n",
    "import json"
   ]
  },
  {
   "cell_type": "markdown",
   "metadata": {},
   "source": [
    "#### set notebook variables"
   ]
  },
  {
   "cell_type": "code",
   "execution_count": null,
   "metadata": {},
   "outputs": [],
   "source": [
    "# naming\n",
    "proj_name = 'aging_phase2'\n",
    "gcp_proj_id = 'adrd-neuro'\n",
    "gcp_user = 'gibbsr'\n",
    "\n",
    "# directories\n",
    "wrk_dir = '/labshare/raph/datasets/adrd_neuro/brain_aging/phase2'\n",
    "cellbender_dir = f'{wrk_dir}/cellbender'\n",
    "public_dir = f'{wrk_dir}/public'\n",
    "info_dir = f'{wrk_dir}/sample_info'\n",
    "src_dir = f'{wrk_dir}/src_data'\n",
    "analysis_bucket = 'gs://nihnialng-aging-brain/phase2/cellbender'\n",
    "src_10x_bucket = 'gs://nihnialng-aging-brain/phase2/src_data'\n",
    "\n",
    "# input files\n",
    "cellbender_wdl = 'gs://nihnialng-aging-brain/phase1/public/cellbender_remove_background.wdl'\n",
    "lcl_cellbender_wdl = f'{public_dir}/cellbender_remove_background.wdl'\n",
    "info_file = f'{info_dir}/{proj_name}.sample_info.csv'\n",
    "\n",
    "# out file\n",
    "\n",
    "# variables\n",
    "DEBUG = False\n",
    "lane_range = range(1, 9)"
   ]
  },
  {
   "cell_type": "markdown",
   "metadata": {},
   "source": [
    "#### utility functions"
   ]
  },
  {
   "cell_type": "code",
   "execution_count": null,
   "metadata": {},
   "outputs": [],
   "source": [
    "def run_bash_command(cmd_line: str, verbose: bool=False):\n",
    "    if verbose:\n",
    "        print(cmd_line)\n",
    "    ret_value = !{cmd_line}\n",
    "    return ret_value"
   ]
  },
  {
   "cell_type": "markdown",
   "metadata": {},
   "source": [
    "### load the sample info data"
   ]
  },
  {
   "cell_type": "code",
   "execution_count": null,
   "metadata": {
    "tags": []
   },
   "outputs": [],
   "source": [
    "info_df = read_csv(info_file)\n",
    "print(f'shape of info {info_df.shape}')\n",
    "if DEBUG:\n",
    "    display(info_df.head())\n",
    "    display(info_df.gex_pool.value_counts())"
   ]
  },
  {
   "cell_type": "markdown",
   "metadata": {},
   "source": [
    "### find the input files to use"
   ]
  },
  {
   "cell_type": "code",
   "execution_count": null,
   "metadata": {
    "tags": []
   },
   "outputs": [],
   "source": [
    "pool_files = {}\n",
    "pooled_info_df = info_df.loc[(~info_df.gex_pool.isna()) & \n",
    "                             (~info_df.atac_pool.isna())].copy()\n",
    "pooled_info_df.gex_pool = pooled_info_df.gex_pool.astype('int')\n",
    "pooled_info_df.atac_pool = pooled_info_df.atac_pool.astype('int')\n",
    "for pool in pooled_info_df.gex_pool.unique():\n",
    "    for lane in lane_range:\n",
    "        pool_name = f'sample_ec_GEX_P{pool}_{lane}'\n",
    "        if exists(f'{src_dir}/gex/{pool_name}'):\n",
    "            pool_file = f'{src_10x_bucket}/gex/{pool_name}/outs/raw_feature_bc_matrix.h5'\n",
    "            pool_files[pool_name] = pool_file\n",
    "# add the non-pooled ARC multiomes\n",
    "unpooled_info_df = info_df.loc[info_df.gex_pool.isna()]\n",
    "for row in unpooled_info_df.itertuples():\n",
    "    arc_name = row.sample_id.replace('Aging', 'Ag') + '_arc'\n",
    "    if exists(f'{src_dir}/arc/{arc_name}'):\n",
    "        pool_file = f'{src_10x_bucket}/arc/{arc_name}/outs/raw_feature_bc_matrix.h5'\n",
    "        pool_files[arc_name] = pool_file\n",
    "if DEBUG:\n",
    "    print(len(pool_files))\n",
    "    display(pool_files)"
   ]
  },
  {
   "cell_type": "markdown",
   "metadata": {},
   "source": [
    "### setup tooling for submitting GCP life-sci job"
   ]
  },
  {
   "cell_type": "markdown",
   "metadata": {},
   "source": [
    "#### pull down the broad tooling"
   ]
  },
  {
   "cell_type": "code",
   "execution_count": null,
   "metadata": {},
   "outputs": [],
   "source": [
    "#pull down the correct recent Broad tooling\n",
    "if not exists(f'{public_dir}/wdl-runner'):\n",
    "    this_cmd = f'git clone https://github.com/broadinstitute/wdl-runner.git \\\n",
    "    {public_dir}/wdl-runner'\n",
    "    run_bash_command(this_cmd, DEBUG)"
   ]
  },
  {
   "cell_type": "code",
   "execution_count": null,
   "metadata": {},
   "outputs": [],
   "source": [
    "# pull the wdl\n",
    "if not exists(lcl_cellbender_wdl):\n",
    "    this_cmd = f'gsutil -mq cp {cellbender_wdl} {lcl_cellbender_wdl}'\n",
    "    run_bash_command(this_cmd, DEBUG)"
   ]
  },
  {
   "cell_type": "markdown",
   "metadata": {},
   "source": [
    "### format argument jsons"
   ]
  },
  {
   "cell_type": "code",
   "execution_count": null,
   "metadata": {},
   "outputs": [],
   "source": [
    "# format per pool json\n",
    "for pool, pool_file in pool_files.items():\n",
    "    json_pool_outfile_name = f'{cellbender_dir}/{pool}.cellbender.json'\n",
    "    pool_data = {}\n",
    "    pool_data['cellbender_remove_background.run_cellbender_remove_background_gpu.sample_name'] = pool\n",
    "    pool_data['cellbender_remove_background.run_cellbender_remove_background_gpu.input_file_unfiltered'] = pool_file\n",
    "    if'_arc' in pool:\n",
    "        pool_data['cellbender_remove_background.run_cellbender_remove_background_gpu.posterior_batch_size'] = '64'\n",
    "        pool_data['cellbender_remove_background.run_cellbender_remove_background_gpu.hardware_gpu_type'] = 'nvidia-tesla-p100'\n",
    "    with open(json_pool_outfile_name, 'w') as json_outfile:\n",
    "        json.dump(pool_data, json_outfile, sort_keys=False, indent=4)\n",
    "\n",
    "# format the generic options json\n",
    "options_outfile_name = f'{cellbender_dir}/generic.options.json'\n",
    "options_data = {}\n",
    "zones_dict = {'zones': 'us-central1-a us-central1-b us-central1-c us-central1-f'}\n",
    "options_data['default_runtime_attributes'] = zones_dict\n",
    "options_data['read_from_cache'] = True\n",
    "options_data['write_to_cache'] = True\n",
    "options_data['workflow_failure_mode'] = 'ContinueWhilePossible'\n",
    "options_data['system.input-read-limits.lines'] = 640000\n",
    "with open(options_outfile_name, 'w') as json_outfile:\n",
    "    json.dump(options_data, json_outfile, sort_keys=False, indent=4)"
   ]
  },
  {
   "cell_type": "markdown",
   "metadata": {},
   "source": [
    "### run the wdl on GCP using life sciences"
   ]
  },
  {
   "cell_type": "code",
   "execution_count": null,
   "metadata": {},
   "outputs": [],
   "source": [
    "# function to format the gcp life-sciences wdl job\n",
    "def frmt_glsp_wdl_cmd(pool_name, bucket, proj_id, work_dir,\n",
    "                      tool_dir, my_user, cellbender_wdl):\n",
    "    this_cmd = f'gcloud beta lifesciences pipelines run \\\n",
    "--project {proj_id} \\\n",
    "--pipeline-file {public_dir}/wdl-runner/wdl_runner/wdl_pipeline.yaml \\\n",
    "--location us-central1 \\\n",
    "--regions us-central1 \\\n",
    "--logging {bucket}/logs/wdls/{pool_name} \\\n",
    "--inputs-from-file WDL={cellbender_wdl},\\\n",
    "WORKFLOW_INPUTS={work_dir}/{pool_name}.cellbender.json,\\\n",
    "WORKFLOW_OPTIONS={work_dir}/generic.options.json \\\n",
    "--env-vars WORKSPACE={bucket}/workspace,\\\n",
    "OUTPUTS={bucket}/cellbender_temp_results \\\n",
    "--labels=cohort={proj_name},user={my_user},workflow=cellbender'\n",
    "    return this_cmd"
   ]
  },
  {
   "cell_type": "code",
   "execution_count": null,
   "metadata": {
    "tags": []
   },
   "outputs": [],
   "source": [
    "for pool in pool_files.keys():\n",
    "    # create command\n",
    "    gcp_cmd = frmt_glsp_wdl_cmd(pool, analysis_bucket, gcp_proj_id,\n",
    "                                cellbender_dir, public_dir, gcp_user, \n",
    "                                lcl_cellbender_wdl)\n",
    "\n",
    "    # run command\n",
    "    # op_id = run_bash_command(gcp_cmd, DEBUG)\n",
    "    # print(f'{pool}: {op_id}')\n",
    "    print(gcp_cmd)"
   ]
  },
  {
   "cell_type": "code",
   "execution_count": null,
   "metadata": {},
   "outputs": [],
   "source": [
    "op_id = 'projects/740413734628/locations/us-central1/operations/7950252740826283199'\n",
    "\n",
    "# !gcloud beta lifesciences operations describe {op_id} \\\n",
    "# --location=us-central1 \\\n",
    "# --format='yaml(done, error, metadata.events)'\n",
    "\n",
    "print('to check job, with polling, run this at cmd line:')\n",
    "this_cmd = (f'{public_dir}/wdl-runner/monitoring_tools/monitor_wdl_pipeline.sh'\n",
    "            f' {op_id} us-central1')\n",
    "print(this_cmd)"
   ]
  },
  {
   "cell_type": "markdown",
   "metadata": {},
   "source": [
    "#### check if operations still running"
   ]
  },
  {
   "cell_type": "code",
   "execution_count": null,
   "metadata": {},
   "outputs": [],
   "source": [
    "gcp_cmd = (f'gcloud beta lifesciences operations list --project {gcp_proj_id} '\n",
    "           f'| grep True | wc -l')\n",
    "done_value = run_bash_command(gcp_cmd)\n",
    "print(f'number of completed operations is {done_value}')\n",
    "gcp_cmd = (f'gcloud beta lifesciences operations list --project {gcp_proj_id}'\n",
    "           f' | wc -l')\n",
    "full_value = run_bash_command(gcp_cmd)\n",
    "print((f'number of incomplete operations is '\n",
    "       f'{int(full_value[0]) - int(done_value[0]) - 1}'))"
   ]
  },
  {
   "cell_type": "markdown",
   "metadata": {},
   "source": [
    "#### if succeeded the move result from temp out to final output"
   ]
  },
  {
   "cell_type": "code",
   "execution_count": null,
   "metadata": {},
   "outputs": [],
   "source": [
    "for pool in pool_files.keys():\n",
    "    this_cmd = f'gsutil -mq mv {analysis_bucket}/cellbender_temp_results/{pool}_out* {analysis_bucket}/'\n",
    "    run_bash_command(this_cmd, DEBUG)"
   ]
  },
  {
   "cell_type": "markdown",
   "metadata": {},
   "source": [
    "#### verify expected files counts"
   ]
  },
  {
   "cell_type": "code",
   "execution_count": null,
   "metadata": {
    "tags": []
   },
   "outputs": [],
   "source": [
    "print(f'Expected number Cellbender output samples: {len(pool_files)}')\n",
    "this_cmd = f'gsutil ls {analysis_bucket}/*_out_filtered.h5 | wc -l'\n",
    "ret_value = run_bash_command(this_cmd)\n",
    "print(f'Number of Cellbender output samples found: {ret_value}')"
   ]
  },
  {
   "cell_type": "markdown",
   "metadata": {},
   "source": [
    "#### now clean up the temp cromwell workspace"
   ]
  },
  {
   "cell_type": "code",
   "execution_count": null,
   "metadata": {},
   "outputs": [],
   "source": [
    "this_cmd = f'gsutil -mq rm -r {analysis_bucket}/cellbender_temp_results'\n",
    "run_bash_command(this_cmd, DEBUG)\n",
    "this_cmd = f'gsutil -mq rm -r {analysis_bucket}/workspace'\n",
    "run_bash_command(this_cmd, DEBUG)\n",
    "this_cmd = f'gsutil -mq rm -r {analysis_bucket}/logs'\n",
    "run_bash_command(this_cmd, DEBUG)"
   ]
  },
  {
   "cell_type": "code",
   "execution_count": null,
   "metadata": {},
   "outputs": [],
   "source": [
    "!date"
   ]
  }
 ],
 "metadata": {
  "environment": {
   "name": "common-cpu.m65",
   "type": "gcloud",
   "uri": "gcr.io/deeplearning-platform-release/base-cpu:m65"
  },
  "kernelspec": {
   "display_name": "Python 3 (ipykernel)",
   "language": "python",
   "name": "python3"
  },
  "language_info": {
   "codemirror_mode": {
    "name": "ipython",
    "version": 3
   },
   "file_extension": ".py",
   "mimetype": "text/x-python",
   "name": "python",
   "nbconvert_exporter": "python",
   "pygments_lexer": "ipython3",
   "version": "3.9.18"
  }
 },
 "nbformat": 4,
 "nbformat_minor": 4
}
