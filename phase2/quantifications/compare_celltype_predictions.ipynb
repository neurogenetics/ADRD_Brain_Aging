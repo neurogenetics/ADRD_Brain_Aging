{
 "cells": [
  {
   "cell_type": "markdown",
   "id": "e835df79-2d19-40b1-a331-a5a3cd41f92a",
   "metadata": {},
   "source": [
    "## Notebook to compare the preliminary cell-type predictions and annotate to the h5ad files"
   ]
  },
  {
   "cell_type": "code",
   "execution_count": null,
   "id": "77f9fd36-6c36-41a4-bbae-4286f27ce63d",
   "metadata": {},
   "outputs": [],
   "source": [
    "!date"
   ]
  },
  {
   "cell_type": "markdown",
   "id": "ddef74ef-fc67-4e0c-9929-10cb24cdddf8",
   "metadata": {},
   "source": [
    "#### import libraries"
   ]
  },
  {
   "cell_type": "code",
   "execution_count": null,
   "id": "d97f6725-c3a5-4a00-a71f-52d5b929d045",
   "metadata": {},
   "outputs": [],
   "source": [
    "import scanpy as sc\n",
    "from anndata import AnnData\n",
    "import numpy as np\n",
    "from matplotlib.pyplot import rc_context\n",
    "import matplotlib.pyplot as plt\n",
    "\n",
    "# for white background of figures (only for docs rendering)\n",
    "%config InlineBackend.print_figure_kwargs={'facecolor' : \"w\"}\n",
    "%config InlineBackend.figure_format='retina'"
   ]
  },
  {
   "cell_type": "markdown",
   "id": "be891efc-f61b-4fbe-b0ff-1023161b287c",
   "metadata": {},
   "source": [
    "#### set notebook variables"
   ]
  },
  {
   "cell_type": "code",
   "execution_count": null,
   "id": "5f048980-569c-4777-880a-2891640bd6bb",
   "metadata": {},
   "outputs": [],
   "source": [
    "# naming\n",
    "project = 'aging_phase2'\n",
    "\n",
    "# directories\n",
    "wrk_dir = '/labshare/raph/datasets/adrd_neuro/brain_aging/phase2'\n",
    "quants_dir = f'{wrk_dir}/quants'\n",
    "figures_dir = f'{wrk_dir}/figures'\n",
    "sc.settings.figdir = f'{figures_dir}/'\n",
    "\n",
    "# in files\n",
    "raw_anndata_file = f'{quants_dir}/{project}.raw.h5ad'\n",
    "multivi_anndata_file = f'{quants_dir}/{project}.multivi.h5ad'\n",
    "\n",
    "# out files\n",
    "new_raw_anndata_file = f'{quants_dir}/{project}.raw.cellassign.h5ad'\n",
    "new_multivi_anndata_file = f'{quants_dir}/{project}.multivi.cellassign.h5ad'\n",
    "\n",
    "# variables\n",
    "DEBUG = True\n",
    "marker_sets = ['sctypes', 'pangloadb', 'bakken']"
   ]
  },
  {
   "cell_type": "markdown",
   "id": "bc0f8d6e-c87b-444b-9af8-82c4cc16220e",
   "metadata": {},
   "source": [
    "### load data"
   ]
  },
  {
   "cell_type": "code",
   "execution_count": null,
   "id": "22499c33-76f7-44b8-a41c-68b7db26259a",
   "metadata": {},
   "outputs": [],
   "source": [
    "%%time\n",
    "adata_raw = sc.read_h5ad(raw_anndata_file)\n",
    "print(adata_raw)\n",
    "if DEBUG:\n",
    "    display(adata_raw.obs.head())"
   ]
  },
  {
   "cell_type": "code",
   "execution_count": null,
   "id": "51af312c-6943-451e-8dd3-04f194ae89b4",
   "metadata": {},
   "outputs": [],
   "source": [
    "%%time\n",
    "adata_multivi = sc.read_h5ad(multivi_anndata_file)\n",
    "print(adata_multivi)\n",
    "if DEBUG:\n",
    "    display(adata_multivi.obs.head())"
   ]
  },
  {
   "cell_type": "markdown",
   "id": "ff0357d0-c8eb-4035-abc2-e14456a6e58b",
   "metadata": {},
   "source": [
    "#### load cellassign results"
   ]
  },
  {
   "cell_type": "code",
   "execution_count": null,
   "id": "3552f154-eb90-4da5-aca8-f51af4a24832",
   "metadata": {},
   "outputs": [],
   "source": [
    "%%time\n",
    "cell_assignments = {}\n",
    "for marker_set in marker_sets:\n",
    "    print(marker_set)\n",
    "    cell_file = f'{quants_dir}/{project}_GEX.{marker_set}.cellassign.h5ad'\n",
    "    this_adata = sc.read_h5ad(cell_file)\n",
    "    # rename cell prediction column to marker_set\n",
    "    this_adata.obs = this_adata.obs.rename(columns={'cellassign_predictions': marker_set})\n",
    "    # for merging with multi-modal data need modified barcode IDs\n",
    "    this_adata.obs['barcode'] = this_adata.obs.index.values + '_expression'\n",
    "    print(this_adata)\n",
    "    cell_assignments[marker_set] = this_adata.obs\n",
    "    if DEBUG:\n",
    "        display(this_adata.obs.head())"
   ]
  },
  {
   "cell_type": "markdown",
   "id": "87537ac8-3574-4d15-aafe-fe33b8c8803b",
   "metadata": {},
   "source": [
    "### update anndata objects with cell-type predictions"
   ]
  },
  {
   "cell_type": "code",
   "execution_count": null,
   "id": "ad1f1641-83cc-4eee-8db5-83a3c39a4059",
   "metadata": {},
   "outputs": [],
   "source": [
    "prev_raw_index = adata_raw.obs.index.copy()\n",
    "prev_mvi_index = adata_multivi.obs.index.copy()\n",
    "for marker_set in marker_sets:\n",
    "    cell_predictions = cell_assignments[marker_set][['barcode', marker_set]]\n",
    "    cell_predictions = cell_predictions.set_index(cell_predictions.barcode)\n",
    "    cell_predictions = cell_predictions.drop(columns=['barcode'])\n",
    "    print(marker_set, len(set(adata_raw.obs.index) & set(cell_predictions.index)))\n",
    "    \n",
    "    adata_raw.obs = adata_raw.obs.merge(cell_predictions, how='left', \n",
    "                                        left_index=True, right_index=True)\n",
    "    adata_multivi.obs = adata_multivi.obs.merge(cell_predictions, how='left', \n",
    "                                                left_index=True, right_index=True)    \n",
    "    print(f'raw index still good {prev_raw_index.equals(adata_raw.obs.index)}')\n",
    "    print(f'multivi index still good {prev_mvi_index.equals(adata_multivi.obs.index)}')\n",
    "    if DEBUG:\n",
    "        display(adata_multivi.obs[marker_set].value_counts())"
   ]
  },
  {
   "cell_type": "markdown",
   "id": "7c61e7fa-069d-4c92-917b-bda98b41f1a8",
   "metadata": {},
   "source": [
    "### save data with updated cell-type predictions"
   ]
  },
  {
   "cell_type": "code",
   "execution_count": null,
   "id": "a58a9ac9-0e96-4d19-9fa9-9b268cd15378",
   "metadata": {},
   "outputs": [],
   "source": [
    "%%time\n",
    "adata_raw.write(new_raw_anndata_file)\n",
    "adata_multivi.write(new_multivi_anndata_file)"
   ]
  },
  {
   "cell_type": "markdown",
   "id": "66a98417-b10e-4c66-8eb9-039778465150",
   "metadata": {},
   "source": [
    "### Visualize clusters and cell-type predictions"
   ]
  },
  {
   "cell_type": "code",
   "execution_count": null,
   "id": "b601c7ea-842b-47a7-ace0-9cb443422ba9",
   "metadata": {},
   "outputs": [],
   "source": [
    "with rc_context({'figure.figsize': (8, 8), 'figure.dpi': 100}):\n",
    "    plt.style.use('seaborn-v0_8-bright')\n",
    "    sc.pl.umap(adata_multivi, color=['leiden_MultiVI'], \n",
    "               frameon=False, legend_loc='on data')"
   ]
  },
  {
   "cell_type": "code",
   "execution_count": null,
   "id": "5119bb6c-5f33-4ae6-8319-37f8c4aa07cf",
   "metadata": {},
   "outputs": [],
   "source": [
    "# update the phase1_celltype so the phase2 cells are NA for plotting\n",
    "adata_multivi.obs.phase1_celltype = np.where(adata_multivi.obs.phase1_celltype == 'phase2', \n",
    "                                             np.NaN, adata_multivi.obs.phase1_celltype)\n",
    "with rc_context({'figure.figsize': (8, 8), 'figure.dpi': 100}):\n",
    "    plt.style.use('seaborn-v0_8-bright')\n",
    "    sc.pl.umap(adata_multivi, color=['phase1_celltype'], \n",
    "               frameon=False)\n",
    "    \n",
    "for marker_set in marker_sets:\n",
    "    with rc_context({'figure.figsize': (8, 8), 'figure.dpi': 100}):\n",
    "        plt.style.use('seaborn-v0_8-bright')\n",
    "        sc.pl.umap(adata_multivi, color=[marker_set], \n",
    "                   frameon=False)    "
   ]
  },
  {
   "cell_type": "markdown",
   "id": "2d67ffd7-9aa9-4855-a112-e14994e767bb",
   "metadata": {},
   "source": [
    "### compare the predicted cell-types"
   ]
  },
  {
   "cell_type": "code",
   "execution_count": null,
   "id": "bf9b29f8-983a-4add-868f-d1dafde7be07",
   "metadata": {},
   "outputs": [],
   "source": [
    "def heatmap_compare(adata: AnnData, set1: str, set2: str):\n",
    "    this_df = (\n",
    "        adata.obs.groupby([set1, set2])\n",
    "        .size()\n",
    "        .unstack(fill_value=0)\n",
    "    )\n",
    "    norm_df = this_df/this_df.sum(axis=0)\n",
    "\n",
    "    with rc_context({'figure.figsize': (8, 8), 'figure.dpi': 100}):\n",
    "        plt.style.use('seaborn-v0_8-bright')\n",
    "        _ = plt.pcolor(norm_df, edgecolor='black')\n",
    "        _ = plt.xticks(np.arange(0.5, len(this_df.columns), 1), this_df.columns, rotation=90)\n",
    "        _ = plt.yticks(np.arange(0.5, len(this_df.index), 1), this_df.index)\n",
    "        plt.xlabel(set2)\n",
    "        plt.ylabel(set1)\n",
    "        plt.show()"
   ]
  },
  {
   "cell_type": "code",
   "execution_count": null,
   "id": "a99af529-7a5a-4328-adf4-288c32bc1923",
   "metadata": {},
   "outputs": [],
   "source": [
    "import itertools\n",
    "for pair in list(itertools.combinations(['phase1_celltype', 'Cell_type']+marker_sets, 2)):\n",
    "    print(pair[0], pair[1])\n",
    "    heatmap_compare(adata_multivi.copy(), pair[0], pair[1])"
   ]
  },
  {
   "cell_type": "markdown",
   "id": "81b19bb1-54ac-4bee-a605-9aa91a271477",
   "metadata": {},
   "source": [
    "### compare marker_sets with the Leiden clusters"
   ]
  },
  {
   "cell_type": "code",
   "execution_count": null,
   "id": "b6184744-1103-4072-8308-e71433924df2",
   "metadata": {},
   "outputs": [],
   "source": [
    "for marker_set in ['phase1_celltype', 'Cell_type']+marker_sets:\n",
    "    heatmap_compare(adata_multivi.copy(), 'leiden_MultiVI', marker_set)"
   ]
  },
  {
   "cell_type": "code",
   "execution_count": null,
   "id": "caf3ed01-0f88-48c8-a9ec-15484302195c",
   "metadata": {},
   "outputs": [],
   "source": [
    "!date"
   ]
  }
 ],
 "metadata": {
  "kernelspec": {
   "display_name": "Python 3 (ipykernel)",
   "language": "python",
   "name": "python3"
  },
  "language_info": {
   "codemirror_mode": {
    "name": "ipython",
    "version": 3
   },
   "file_extension": ".py",
   "mimetype": "text/x-python",
   "name": "python",
   "nbconvert_exporter": "python",
   "pygments_lexer": "ipython3",
   "version": "3.10.13"
  }
 },
 "nbformat": 4,
 "nbformat_minor": 5
}
