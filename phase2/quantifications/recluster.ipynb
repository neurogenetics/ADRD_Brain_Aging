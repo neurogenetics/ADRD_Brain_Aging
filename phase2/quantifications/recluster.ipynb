{
 "cells": [
  {
   "cell_type": "markdown",
   "id": "b112550a-e631-456c-81ce-7546e5a39376",
   "metadata": {},
   "source": [
    "## Notebook for re-clustering as needed"
   ]
  },
  {
   "cell_type": "code",
   "execution_count": null,
   "id": "c8dd99bd-fee9-4f9b-bfdc-5c273fd3c7f4",
   "metadata": {},
   "outputs": [],
   "source": [
    "!date"
   ]
  },
  {
   "cell_type": "markdown",
   "id": "943adfe0-89e0-4c47-aed2-fe96ee4683e4",
   "metadata": {},
   "source": [
    "#### import libraries"
   ]
  },
  {
   "cell_type": "code",
   "execution_count": null,
   "id": "8193481f-cddd-4308-a08e-5254365b6838",
   "metadata": {},
   "outputs": [],
   "source": [
    "import scanpy as sc\n",
    "from pandas import DataFrame\n",
    "from matplotlib.pyplot import rc_context\n",
    "import matplotlib.pyplot as plt\n",
    "from seaborn import lineplot\n",
    "from sklearn.metrics import silhouette_score\n",
    "from numpy import arange, mean\n",
    "\n",
    "# for white background of figures (only for docs rendering)\n",
    "%config InlineBackend.print_figure_kwargs={'facecolor' : \"w\"}\n",
    "%config InlineBackend.figure_format='retina'"
   ]
  },
  {
   "cell_type": "markdown",
   "id": "6125535a-286e-47a3-ae56-12e2fca63b06",
   "metadata": {},
   "source": [
    "#### set notebook variables"
   ]
  },
  {
   "cell_type": "code",
   "execution_count": null,
   "id": "f635449b-f8c7-403e-9573-4202bb22da63",
   "metadata": {},
   "outputs": [],
   "source": [
    "# naming\n",
    "project = 'aging_phase2'\n",
    "\n",
    "# directories\n",
    "wrk_dir = '/labshare/raph/datasets/adrd_neuro/brain_aging/phase2'\n",
    "quants_dir = f'{wrk_dir}/quants'\n",
    "figures_dir = f'{wrk_dir}/figures'\n",
    "sc.settings.figdir = f'{figures_dir}/'\n",
    "\n",
    "# in files\n",
    "anndata_file = f'{quants_dir}/{project}.multivi.curated.h5ad'\n",
    "\n",
    "# out files\n",
    "final_file = f'{quants_dir}/{project}.multivi.curated_final.h5ad'\n",
    "\n",
    "# variables\n",
    "DEBUG = False"
   ]
  },
  {
   "cell_type": "markdown",
   "id": "bccf0ab8-a93b-4c19-8846-9b603924dff6",
   "metadata": {},
   "source": [
    "### load data"
   ]
  },
  {
   "cell_type": "markdown",
   "id": "83e7895c-0cd4-4da0-9ff1-dd20372ff756",
   "metadata": {},
   "source": [
    "#### load the anndata object"
   ]
  },
  {
   "cell_type": "code",
   "execution_count": null,
   "id": "3b8de103-dcb0-47a5-afad-7b7b8b119c2c",
   "metadata": {},
   "outputs": [],
   "source": [
    "%%time\n",
    "adata_multivi = sc.read_h5ad(anndata_file)\n",
    "print(adata_multivi)\n",
    "if DEBUG:\n",
    "    display(adata_multivi.obs.head())"
   ]
  },
  {
   "cell_type": "code",
   "execution_count": null,
   "id": "02174b57-03df-4dab-bf66-2cc137277e7b",
   "metadata": {},
   "outputs": [],
   "source": [
    "if DEBUG:\n",
    "    display(adata_multivi.obs.curated_type.value_counts())"
   ]
  },
  {
   "cell_type": "markdown",
   "id": "4d8b7bd8-5032-4a61-a066-41ec34bf6e44",
   "metadata": {},
   "source": [
    "### visualize the final curated cell-types"
   ]
  },
  {
   "cell_type": "code",
   "execution_count": null,
   "id": "13491a89-885d-4a9f-a532-7aa7f71bf289",
   "metadata": {},
   "outputs": [],
   "source": [
    "figure_file = f'_{project}.umap.curated_celltype.png'\n",
    "with rc_context({'figure.figsize': (8, 8), 'figure.dpi': 100}):\n",
    "    plt.style.use('seaborn-v0_8-talk')\n",
    "    sc.pl.umap(adata_multivi, color=['curated_type'], \n",
    "               frameon=False, legend_loc='on data', save=figure_file)"
   ]
  },
  {
   "cell_type": "code",
   "execution_count": null,
   "id": "540dea31-6f64-441c-8992-a737799f9591",
   "metadata": {},
   "outputs": [],
   "source": [
    "figure_file = f'_{project}.umap.curated_prev_celltypes.png'\n",
    "with rc_context({'figure.figsize': (8, 8), 'figure.dpi': 100}):\n",
    "    plt.style.use('seaborn-v0_8-talk')\n",
    "    sc.pl.umap(adata_multivi, color=['Cell_type'], \n",
    "               frameon=False, legend_loc='on data', save=figure_file)"
   ]
  },
  {
   "cell_type": "markdown",
   "id": "a07a4b7c-8047-45ba-9195-8d0cb60ee1ae",
   "metadata": {},
   "source": [
    "### check range of Leiden resolutions for clustering"
   ]
  },
  {
   "cell_type": "code",
   "execution_count": null,
   "id": "ae5d6e70-1e61-474f-8332-56f0cfe83420",
   "metadata": {},
   "outputs": [],
   "source": [
    "%%time\n",
    "resolutions_to_try = arange(0.3, 1.05, 0.05)\n",
    "print(resolutions_to_try)\n",
    "mean_scores = {}\n",
    "largest_score = 0\n",
    "best_res = 0\n",
    "new_leiden_key = 'leiden_MultiVI'\n",
    "for leiden_res in resolutions_to_try:\n",
    "    # use only 2 decimals\n",
    "    leiden_res = round(leiden_res, 2)    \n",
    "    print(f'### using Leiden resolution of {leiden_res}')\n",
    "    # neighbors were already computed using scVI\n",
    "    sc.tl.leiden(adata_multivi, key_added=new_leiden_key, resolution=leiden_res)\n",
    "    silhouette_avg = silhouette_score(adata_multivi.obsm['MultiVI_latent'], adata_multivi.obs[new_leiden_key])\n",
    "    print((f'For res = {leiden_res:.2f}, average silhouette: {silhouette_avg:.3f} '\n",
    "           f'for {adata_multivi.obs[new_leiden_key].nunique()} clusters'))\n",
    "    # mean sample count per cluster\n",
    "    df_grouped = adata_multivi.obs.groupby(new_leiden_key)['sample_id'].count()\n",
    "    mean_sample_per_cluster = df_grouped.mean()\n",
    "    # mean cell count per cluster\n",
    "    df_grouped = adata_multivi.obs[new_leiden_key].value_counts()\n",
    "    mean_cell_per_cluster = df_grouped.mean()        \n",
    "    mean_scores[leiden_res] = [silhouette_avg, adata_multivi.obs[new_leiden_key].nunique(), \n",
    "                               mean_sample_per_cluster, mean_cell_per_cluster]\n",
    "    # update best resolution info\n",
    "    if silhouette_avg > largest_score:\n",
    "        largest_score = silhouette_avg\n",
    "        best_res = leiden_res\n",
    "\n",
    "    figure_file = f'_{project}.umap.{leiden_res}.leiden.png'\n",
    "    with rc_context({'figure.figsize': (8, 8), 'figure.dpi': 100}):\n",
    "        plt.style.use('seaborn-v0_8-bright')\n",
    "        sc.pl.umap(adata_multivi, color=[new_leiden_key], \n",
    "                   frameon=False, save=figure_file)"
   ]
  },
  {
   "cell_type": "code",
   "execution_count": null,
   "id": "b9eaee0a-1de6-4eca-b609-66d1a79f4e59",
   "metadata": {},
   "outputs": [],
   "source": [
    "\n",
    "scores_df = DataFrame(index=mean_scores.keys(), data=mean_scores.values())\n",
    "scores_df.columns = ['score', 'num_clusters', 'mean_samples', 'mean_cells']\n",
    "print('max score at')\n",
    "best_result = scores_df.loc[scores_df.score == scores_df.score.max()]\n",
    "display(best_result)\n",
    "best_resolution = best_result.index.values[0]\n",
    "print(f'best resolution found at {best_resolution}')\n",
    "if DEBUG:\n",
    "    display(scores_df)\n",
    "fig_filename = f'{figures_dir}/leiden_resolution_silhouette_score.png'\n",
    "with rc_context({'figure.figsize': (8, 8), 'figure.dpi': 100}):\n",
    "    plt.style.use('seaborn-v0_8-talk')\n",
    "    lineplot(x=scores_df.index, y='score', data=scores_df)\n",
    "    plt.xlabel('resolution')\n",
    "    plt.savefig(fig_filename)\n",
    "    plt.show()\n",
    "lineplot(x=scores_df.index, y='num_clusters', data=scores_df)\n",
    "plt.xlabel('resolution')\n",
    "plt.show()\n",
    "lineplot(x=scores_df.index, y='mean_samples', data=scores_df)\n",
    "plt.xlabel('resolution')\n",
    "plt.show()\n",
    "lineplot(x=scores_df.index, y='mean_cells', data=scores_df)\n",
    "plt.xlabel('resolution')\n",
    "plt.show()"
   ]
  },
  {
   "cell_type": "markdown",
   "id": "7ea3e6aa-78c9-4c72-a2d5-0b3ad483a209",
   "metadata": {},
   "source": [
    "### re-cluster at the best resolution found based on Silhouette score\n",
    "note based on Phase1 clustering, in order to seperate PVALB and SST InN LHX6 clusters would use Leiden resolution of 0.9 but for now stick with best scored value of 0.5"
   ]
  },
  {
   "cell_type": "code",
   "execution_count": null,
   "id": "cedeb3a2-fe64-4806-ac92-1cbc314b2d8b",
   "metadata": {},
   "outputs": [],
   "source": [
    "best_resolution = round(best_resolution, 2)\n",
    "sc.tl.leiden(adata_multivi, key_added='leiden_MultiVI', resolution=best_resolution)"
   ]
  },
  {
   "cell_type": "markdown",
   "id": "4aa3315f-9a69-471c-af1a-5e61269700e7",
   "metadata": {},
   "source": [
    "### assign the small number of cells that may have moved around during re-clustering or dropped in or out around thresholds\n",
    "make the assigment based on what the rest of the cluster was called"
   ]
  },
  {
   "cell_type": "code",
   "execution_count": null,
   "id": "3825264f-2c64-4efb-8c45-7113d1e20983",
   "metadata": {},
   "outputs": [],
   "source": [
    "if DEBUG:\n",
    "    display(adata_multivi.obs.loc[adata_multivi.obs.curated_type.isna()].Cell_type.value_counts())"
   ]
  },
  {
   "cell_type": "code",
   "execution_count": null,
   "id": "3a68a640-539d-48e1-ac3b-90928e194ba2",
   "metadata": {},
   "outputs": [],
   "source": [
    "for cluster_number in adata_multivi.obs.leiden_MultiVI.unique():\n",
    "    # new_assignment = set()\n",
    "    print(f'--- {cluster_number}')\n",
    "    this_cell_set = set(adata_multivi.obs.loc[adata_multivi.obs.leiden_MultiVI == cluster_number].index)\n",
    "    new_assignment = adata_multivi.obs[adata_multivi.obs.leiden_MultiVI == cluster_number].curated_type.value_counts().idxmax()\n",
    "    if DEBUG:\n",
    "        print(len(this_cell_set))\n",
    "        display(adata_multivi.obs[adata_multivi.obs.leiden_MultiVI == cluster_number].curated_type.value_counts()) \n",
    "        print(new_assignment)        \n",
    "    adata_multivi.obs.loc[adata_multivi.obs.index.isin(this_cell_set), 'curated_type'] = new_assignment"
   ]
  },
  {
   "cell_type": "code",
   "execution_count": null,
   "id": "e1984db5-9666-4c35-be93-d53e9fd7cdbe",
   "metadata": {},
   "outputs": [],
   "source": [
    "if DEBUG:\n",
    "    display(adata_multivi.obs.curated_type.value_counts())"
   ]
  },
  {
   "cell_type": "markdown",
   "id": "98fbde31-ae21-4d27-ad3a-2f4153461a96",
   "metadata": {},
   "source": [
    "#### notes from the re-assignments above\n",
    "particularly OPC-4, PeriVasc-20, and Micro-30\n",
    "\n",
    "- OD-0 had 14 cells from 5 other types re-assigned to OD, 0%\n",
    "- OPC-4 had 898 cells from OD re-assigned to OPC, ~7%\n",
    "- Micro-3 had 9 cells from 3 other types re-assigned to Micro, 0%\n",
    "- InN-5 had 4 cells from 2 other types re-assigned to InN, 0%\n",
    "- InN-12 had 1 cell from OD re-assigned to InN, 0%\n",
    "- InN-10 had 2 cell from 2 other types re-assigned to InN, 0%\n",
    "- Astro-1 had 43 cells from 4 other types re-assigned to Astro, 0%\n",
    "- PeriVasc-20 had 905 VLMC cells and 2 cells from 2 other types re-assigned to PeriVasc, 58.6%\n",
    "- ExN-7 had 1 InN cell re-assigned to ExN, 0%\n",
    "- ExN-2 had 1 InN cell re-assigned to ExN, 0%\n",
    "- Micro-30 had 107 VLMC cells reassigned to Micro, 27.4%\n",
    "- OD-21 had 7 cells from 2 other types assigned to OD, 0%\n",
    "- InN-17 had 3 ExN cells re-assigned as InN, 0%\n",
    "- VLMC-22 had 2 cells from 2 other types re-assigned as VLMC, 0%\n",
    "- ExN-29 had 1 InN cell re-assigned as ExN, 0%\n",
    "- ExN-28 had 8 OD cells re-assigned as ExN, 1%\n",
    "- ExN-19 had 35 cells from 5 other types re-assigned as ExN, 1%\n",
    "- Uncertain-16 had 2 Astro cells re-assigned as Uncertain, 0%\n",
    "- RadialGlia-27 had 2 VLMC cells re-assigned as RadialGlia, 0%\n",
    "\n",
    "ExN-37 only has one cell in it"
   ]
  },
  {
   "cell_type": "markdown",
   "id": "75512b84-54ca-4a1d-857c-ddb83ebe2213",
   "metadata": {},
   "source": [
    "### re-name cluster specific names"
   ]
  },
  {
   "cell_type": "code",
   "execution_count": null,
   "id": "2c2ba589-c117-42e7-9f7a-44fbf228065e",
   "metadata": {},
   "outputs": [],
   "source": [
    "adata_multivi.obs['cluster_name'] = (adata_multivi.obs.curated_type.astype('str') + \n",
    "                                     '-' + adata_multivi.obs.leiden_MultiVI.astype('str'))\n",
    "print(f'new shape of obs {adata_multivi.obs.shape}')\n",
    "print(adata_multivi)\n",
    "if DEBUG:\n",
    "    display(adata_multivi.obs.sample(5))\n",
    "    display(adata_multivi.obs.cluster_name.value_counts())"
   ]
  },
  {
   "cell_type": "code",
   "execution_count": null,
   "id": "24ed74fe-8830-43dc-abcc-eb0174df69b3",
   "metadata": {},
   "outputs": [],
   "source": [
    "adata_multivi.obs.curated_type.value_counts()"
   ]
  },
  {
   "cell_type": "code",
   "execution_count": null,
   "id": "0966cf49-9b48-4093-8d65-2595c3c0eb0d",
   "metadata": {},
   "outputs": [],
   "source": [
    "if DEBUG:\n",
    "    for cluster_num in adata_multivi.obs.leiden_MultiVI.unique():\n",
    "        print(f'### cluster number: {cluster_num}')\n",
    "        display(adata_multivi.obs[adata_multivi.obs.leiden_MultiVI == cluster_num].curated_type.value_counts())\n",
    "        display(adata_multivi.obs[adata_multivi.obs.leiden_MultiVI == cluster_num].modality.value_counts())"
   ]
  },
  {
   "cell_type": "markdown",
   "id": "d1306e63-562e-472c-b35e-4bde57d07c90",
   "metadata": {},
   "source": [
    "#### Notes about some counts that stand out in the clusters:\n",
    "Smaller clusters that are almost exclusively single modality\n",
    "\n",
    "- ExN-37 only has one cell in it and is an ATAC sample\n",
    "- Astro-36 has 75 cells all ATAC\n",
    "- ExN-31 has 397 cells all ATAC\n",
    "- ExN-26 has 1040 cells 99.9% ATAC\n",
    "- Astro-35 has 111 cells 99.9% ATAC\n",
    "- RadialGlia-27 has 693 cells all GEX\n",
    "- Uncertain-16 has 2914 cells all GEX\n",
    "- Astro-34 has 209 cells 99.9% GEX\n",
    "- ExN-25 1117 cells 99% GEX\n",
    "- InN-13 has 3897 cells 99% ATAC"
   ]
  },
  {
   "cell_type": "code",
   "execution_count": null,
   "id": "07599239-c7a8-4e96-80d5-9bbca35ba824",
   "metadata": {},
   "outputs": [],
   "source": [
    "figure_file = f'_{project}.umap.curated_celltype_final.png'\n",
    "with rc_context({'figure.figsize': (8, 8), 'figure.dpi': 100}):\n",
    "    plt.style.use('seaborn-v0_8-talk')\n",
    "    sc.pl.umap(adata_multivi, color=['curated_type'], \n",
    "               frameon=False, legend_loc='on data', save=figure_file)"
   ]
  },
  {
   "cell_type": "code",
   "execution_count": null,
   "id": "7483321f-f167-4dfa-af22-858b18224bed",
   "metadata": {},
   "outputs": [],
   "source": [
    "figure_file = f'_{project}.umap.curated_cluster_names_final.png'\n",
    "with rc_context({'figure.figsize': (8, 8), 'figure.dpi': 100}):\n",
    "    plt.style.use('seaborn-v0_8-talk')\n",
    "    sc.pl.umap(adata_multivi, color=['cluster_name'], \n",
    "               frameon=False, legend_loc='on data', save=figure_file)"
   ]
  },
  {
   "cell_type": "code",
   "execution_count": null,
   "id": "e24326ed-0d66-4d44-947b-8794226bcf35",
   "metadata": {
    "scrolled": true
   },
   "outputs": [],
   "source": [
    "figure_file = f'_{project}.umap.curated_final.png'\n",
    "with rc_context({'figure.figsize': (8, 8), 'figure.dpi': 100}):\n",
    "    plt.style.use('seaborn-v0_8-talk')\n",
    "    sc.pl.umap(adata_multivi, color=['curated_type', 'cluster_name'], \n",
    "               frameon=False, legend_loc='on data', save=figure_file)"
   ]
  },
  {
   "cell_type": "markdown",
   "id": "5b59cb92-7804-4579-b615-1d6d1f59535b",
   "metadata": {},
   "source": [
    "### save the modified FINAL anndata object"
   ]
  },
  {
   "cell_type": "code",
   "execution_count": null,
   "id": "a43d698e-71c1-4cc0-b680-992766ea8c41",
   "metadata": {},
   "outputs": [],
   "source": [
    "%%time\n",
    "adata_multivi.write(final_file)"
   ]
  },
  {
   "cell_type": "markdown",
   "id": "0ec95e69-cc04-40bf-85d3-0c4c248ff1c3",
   "metadata": {},
   "source": [
    "### visualize clusters of curated broad cell types"
   ]
  },
  {
   "cell_type": "code",
   "execution_count": null,
   "id": "f0c1d01e-4fb3-4359-9774-a34bbf21153b",
   "metadata": {},
   "outputs": [],
   "source": [
    "for curated_type in adata_multivi.obs.curated_type.unique():\n",
    "    print(curated_type)\n",
    "    adata_sub = adata_multivi[(adata_multivi.obs.curated_type == curated_type)].copy()\n",
    "    if DEBUG:\n",
    "        print(adata_sub)\n",
    "        display(adata_sub.obs.curated_type.value_counts())\n",
    "    figure_file = f'_{project}.umap.{curated_type}_final.png'\n",
    "    with rc_context({'figure.figsize': (8, 8), 'figure.dpi': 100}):\n",
    "        plt.style.use('seaborn-v0_8-talk')\n",
    "        sc.pl.umap(adata_sub, color=['cluster_name'], frameon=False, \n",
    "                   legend_loc='on data', save=figure_file)    "
   ]
  },
  {
   "cell_type": "code",
   "execution_count": null,
   "id": "917be83d-6700-4d8c-9e17-98cdd7b6474b",
   "metadata": {},
   "outputs": [],
   "source": [
    "!date"
   ]
  }
 ],
 "metadata": {
  "kernelspec": {
   "display_name": "Python 3 (ipykernel)",
   "language": "python",
   "name": "python3"
  },
  "language_info": {
   "codemirror_mode": {
    "name": "ipython",
    "version": 3
   },
   "file_extension": ".py",
   "mimetype": "text/x-python",
   "name": "python",
   "nbconvert_exporter": "python",
   "pygments_lexer": "ipython3",
   "version": "3.10.13"
  }
 },
 "nbformat": 4,
 "nbformat_minor": 5
}
