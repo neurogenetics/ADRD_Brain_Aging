{
 "cells": [
  {
   "cell_type": "markdown",
   "id": "3e48cbe6-04d5-4274-9a58-ab22e311b94f",
   "metadata": {},
   "source": [
    "## Note book to migrate phase1 GEX pools that contained Entorhinal cortex samples to phase2\n",
    "- using the demultiplexed raw anndata files\n",
    "- migrate the demux output\n",
    "- migrate the Cellbender output\n",
    "- pool format renaming to be consistent with phase 2 data"
   ]
  },
  {
   "cell_type": "code",
   "execution_count": null,
   "id": "0f4df718-4552-4784-8f03-c844b92dc3ff",
   "metadata": {
    "tags": []
   },
   "outputs": [],
   "source": [
    "!date"
   ]
  },
  {
   "cell_type": "markdown",
   "id": "299c6c82-d456-4ff1-9040-b0b1fd03f716",
   "metadata": {},
   "source": [
    "#### import libraries"
   ]
  },
  {
   "cell_type": "code",
   "execution_count": null,
   "id": "54f45084-a192-4cfa-9118-962e61895f9e",
   "metadata": {
    "tags": []
   },
   "outputs": [],
   "source": [
    "from pandas import read_csv, DataFrame\n",
    "from scanpy import read\n",
    "from os.path import exists\n",
    "from os import listdir\n",
    "from shutil import copyfile\n",
    "from scanpy import read_h5ad\n",
    "from anndata import AnnData"
   ]
  },
  {
   "cell_type": "markdown",
   "id": "4c822fe4-aa71-4288-a06f-8e2a7e2f63be",
   "metadata": {},
   "source": [
    "#### set notebook variables"
   ]
  },
  {
   "cell_type": "code",
   "execution_count": null,
   "id": "69cd257a-1d34-492e-8e1a-4c997abcb1f3",
   "metadata": {
    "tags": []
   },
   "outputs": [],
   "source": [
    "# naming\n",
    "project = 'aging_phase2'\n",
    "\n",
    "# directories\n",
    "wrk_dir = '/labshare/raph/datasets/adrd_neuro/brain_aging/phase2'\n",
    "phase1_path = '/labshare/raph/datasets/adrd_neuro/brain_aging/phase1'\n",
    "phase1_demux_path = f'{phase1_path}/demux'\n",
    "phase1_cellbender_path = f'{phase1_path}/cellbender'\n",
    "info_dir = f'{wrk_dir}/sample_info'\n",
    "demux_dir = f'{wrk_dir}/demux'\n",
    "cellbender_dir = f'{wrk_dir}/cellbender'\n",
    "\n",
    "# in files\n",
    "info_file = f'{info_dir}/{project}.sample_info.csv'\n",
    "phase1_final_file = f'{phase1_demux_path}/aging.pegasus.leiden_085.subclustered.h5ad'\n",
    "\n",
    "# variables\n",
    "DEBUG = False\n",
    "phase1_pools = [4, 5]\n",
    "lanes = range(1, 9)"
   ]
  },
  {
   "cell_type": "markdown",
   "id": "585101e3-c7e5-46a7-8f00-f40616fc0741",
   "metadata": {},
   "source": [
    "#### functions"
   ]
  },
  {
   "cell_type": "code",
   "execution_count": null,
   "id": "35faa666-c900-4e6c-ab53-09323e52372e",
   "metadata": {
    "tags": []
   },
   "outputs": [],
   "source": [
    "def make_new_obs(data: AnnData, info: DataFrame, prev_info: DataFrame, \n",
    "                 verbose: bool=False) -> AnnData:\n",
    "    # make sure to subset to only 'Brain_region' == 'Entorhinal cortex'\n",
    "    data = data[data.obs.Brain_region == 'Entorhinal cortex']\n",
    "    # adjust and subset keep columns\n",
    "    data.obs = data.obs.rename(columns={'Sample_id': 'sample_id'})\n",
    "    data.obs = data.obs[['sample_id']]\n",
    "    # update the anndata obs with sample info\n",
    "    new_obs = data.obs.copy()\n",
    "    new_obs['barcodes'] = new_obs.index\n",
    "    new_obs = new_obs.merge(info, how='left', left_on='sample_id', \n",
    "                            right_on='sample_id')\n",
    "    new_obs = new_obs.set_index('barcodes', drop=True)\n",
    "    new_obs = new_obs.merge(prev_info, how='left', left_index=True, \n",
    "                            right_index=True)    \n",
    "    new_obs['donor_id'] = new_obs.hbcc_id\n",
    "    new_obs = new_obs.drop(columns=['hbcc_id'])\n",
    "    if not new_obs.index.equals(data.obs.index):\n",
    "        print('re-indexing ...')\n",
    "        new_obs = new_obs.reindex(data.obs.index)\n",
    "    # now replace the original obs\n",
    "    data.obs = new_obs\n",
    "    if verbose:\n",
    "        print(new_obs.index.equals(data.obs.index))\n",
    "        print(f'shape of temp obs {new_obs.shape}')\n",
    "    return data"
   ]
  },
  {
   "cell_type": "markdown",
   "id": "87b110ff-ef71-49fc-bcc5-4982f0909190",
   "metadata": {},
   "source": [
    "### load the sample info data"
   ]
  },
  {
   "cell_type": "code",
   "execution_count": null,
   "id": "1be99b70-0917-4d16-8c6b-2b53ff2f38c6",
   "metadata": {
    "tags": []
   },
   "outputs": [],
   "source": [
    "info_df = read_csv(info_file)\n",
    "print(f'shape of info {info_df.shape}')\n",
    "if DEBUG:\n",
    "    display(info_df.head())"
   ]
  },
  {
   "cell_type": "markdown",
   "id": "8da7e48d-e067-4a1b-9ed4-51e62dd01ff6",
   "metadata": {},
   "source": [
    "### load the phase1 final data\n",
    "for migrating the cluster and cell-types for comparison purposes"
   ]
  },
  {
   "cell_type": "code",
   "execution_count": null,
   "id": "c2c84777-fb3a-4121-9552-9f2edb825464",
   "metadata": {},
   "outputs": [],
   "source": [
    "%%time\n",
    "phase1_data = read(phase1_final_file)\n",
    "print(phase1_data)"
   ]
  },
  {
   "cell_type": "markdown",
   "id": "50779234-1b55-47c5-a95d-f0577ff93554",
   "metadata": {},
   "source": [
    "#### keep and rename only info want to migrate for comparison purposes"
   ]
  },
  {
   "cell_type": "code",
   "execution_count": null,
   "id": "863ccb93-f5dd-4787-b27a-28405eebd9d4",
   "metadata": {
    "tags": []
   },
   "outputs": [],
   "source": [
    "phase1_df = phase1_data.obs[['leiden_labels_085', 'new_anno']]\n",
    "phase1_df = phase1_df.rename(columns={'leiden_labels_085': 'phase1_cluster',\n",
    "                                      'new_anno': 'phase1_celltype'})\n",
    "print(f'shape of previous info to keep {phase1_df.shape}')\n",
    "if DEBUG:\n",
    "    display(phase1_df.head())\n",
    "    display(phase1_df.phase1_cluster.value_counts())\n",
    "    display(phase1_df.phase1_celltype.value_counts())"
   ]
  },
  {
   "cell_type": "markdown",
   "id": "ee446889-0d4a-4d64-a131-ec30d96201a3",
   "metadata": {},
   "source": [
    "### migrate the pool anndata files"
   ]
  },
  {
   "cell_type": "code",
   "execution_count": null,
   "id": "8a81acd8-f073-4c09-bc51-a4fd218f85e0",
   "metadata": {
    "tags": []
   },
   "outputs": [],
   "source": [
    "for pool in phase1_pools:\n",
    "    for lane in lanes:\n",
    "        pool_name = f'Aging_P00{pool}_SCRN_{lane}'\n",
    "        pool_path = f'{phase1_demux_path}/{pool_name}.h5ad'\n",
    "        if exists(pool_path):\n",
    "            print(pool_name)\n",
    "            adata = read_h5ad(pool_path)\n",
    "            if DEBUG:\n",
    "                print(adata)\n",
    "                print(f'shape of adata obs {adata.obs.shape}')\n",
    "                display(adata.obs.head())            \n",
    "            adata = make_new_obs(adata, info_df, phase1_df)\n",
    "            # save modifid anndata\n",
    "            out_path = f'{demux_dir}/GEX_P{pool}_{lane}.h5ad'\n",
    "            adata.write(out_path)\n",
    "            print(f'created: {out_path}')\n",
    "            if DEBUG:\n",
    "                print(adata)\n",
    "                print(f'shape of modified adata obs {adata.obs.shape}')\n",
    "                display(adata.obs.head())                "
   ]
  },
  {
   "cell_type": "markdown",
   "id": "7c271151-a068-4fd0-8953-ed6111d4b210",
   "metadata": {},
   "source": [
    "### migrate the pool demux outputs"
   ]
  },
  {
   "cell_type": "code",
   "execution_count": null,
   "id": "a6649905-a1ac-43ff-ae7a-26ba16772c1d",
   "metadata": {
    "tags": []
   },
   "outputs": [],
   "source": [
    "%%time\n",
    "for pool in phase1_pools:\n",
    "    for lane in lanes:\n",
    "        pool_name = f'Aging_P00{pool}_SCRN_{lane}'\n",
    "        new_name = f'GEX_P{pool}_{lane}'\n",
    "        pool_path = f'{phase1_demux_path}/{pool_name}.best'\n",
    "        if exists(pool_path):\n",
    "            copyfile(pool_path, f'{demux_dir}/{new_name}.best')"
   ]
  },
  {
   "cell_type": "markdown",
   "id": "e9304115-6ba2-4353-93eb-7e34b6928aee",
   "metadata": {},
   "source": [
    "### migrate the pool cellbender outputs"
   ]
  },
  {
   "cell_type": "code",
   "execution_count": null,
   "id": "b4c2fdb1-d956-49ae-ac02-9b68a93f31b4",
   "metadata": {
    "tags": []
   },
   "outputs": [],
   "source": [
    "%%time\n",
    "for pool in phase1_pools:\n",
    "    for lane in lanes:\n",
    "        pool_name = f'Aging_P00{pool}_SCRN_{lane}'\n",
    "        new_name = f'sample_ec_GEX_P{pool}_{lane}'\n",
    "        pool_path = f'{phase1_cellbender_path}/{pool_name}_out.h5'\n",
    "        if exists(pool_path):\n",
    "            matching_files = [file for file in listdir(phase1_cellbender_path) \n",
    "                              if file.startswith(pool_name)]\n",
    "            for pool_file in matching_files:\n",
    "                copyfile(f'{phase1_cellbender_path}/{pool_file}',\n",
    "                         f'{cellbender_dir}/{pool_file.replace(pool_name, new_name)}')"
   ]
  },
  {
   "cell_type": "code",
   "execution_count": null,
   "id": "4e514267-3f23-4959-8c58-c7b4d9fbe8b0",
   "metadata": {},
   "outputs": [],
   "source": [
    "!date"
   ]
  }
 ],
 "metadata": {
  "kernelspec": {
   "display_name": "Python 3 (ipykernel)",
   "language": "python",
   "name": "python3"
  },
  "language_info": {
   "codemirror_mode": {
    "name": "ipython",
    "version": 3
   },
   "file_extension": ".py",
   "mimetype": "text/x-python",
   "name": "python",
   "nbconvert_exporter": "python",
   "pygments_lexer": "ipython3",
   "version": "3.9.18"
  }
 },
 "nbformat": 4,
 "nbformat_minor": 5
}
