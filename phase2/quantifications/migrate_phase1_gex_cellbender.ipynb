{
 "cells": [
  {
   "cell_type": "markdown",
   "id": "3e48cbe6-04d5-4274-9a58-ab22e311b94f",
   "metadata": {},
   "source": [
    "## Notebook to migrate Cellbender results from phase1 GEX pools that contained Entorhinal cortex samples to phase2\n",
    "- using the Cellbender\n",
    "- pool format renaming to be consistent with phase 2 data"
   ]
  },
  {
   "cell_type": "code",
   "execution_count": null,
   "id": "0f4df718-4552-4784-8f03-c844b92dc3ff",
   "metadata": {
    "tags": []
   },
   "outputs": [],
   "source": [
    "!date"
   ]
  },
  {
   "cell_type": "markdown",
   "id": "299c6c82-d456-4ff1-9040-b0b1fd03f716",
   "metadata": {},
   "source": [
    "#### import libraries"
   ]
  },
  {
   "cell_type": "code",
   "execution_count": null,
   "id": "54f45084-a192-4cfa-9118-962e61895f9e",
   "metadata": {
    "tags": []
   },
   "outputs": [],
   "source": [
    "from pandas import read_csv\n",
    "from os.path import exists\n",
    "from os import listdir\n",
    "from shutil import copyfile"
   ]
  },
  {
   "cell_type": "markdown",
   "id": "4c822fe4-aa71-4288-a06f-8e2a7e2f63be",
   "metadata": {},
   "source": [
    "#### set notebook variables"
   ]
  },
  {
   "cell_type": "code",
   "execution_count": null,
   "id": "69cd257a-1d34-492e-8e1a-4c997abcb1f3",
   "metadata": {
    "tags": []
   },
   "outputs": [],
   "source": [
    "# naming\n",
    "project = 'aging_phase2'\n",
    "\n",
    "# directories\n",
    "phase1_cellbender_path = ('/labshare/raph/datasets/adrd_neuro/brain_aging/'\n",
    "                          'phase1/cellbender')\n",
    "wrk_dir = '/labshare/raph/datasets/adrd_neuro/brain_aging/phase2'\n",
    "info_dir = f'{wrk_dir}/sample_info'\n",
    "cellbender_dir = f'{wrk_dir}/cellbender'\n",
    "\n",
    "# in files\n",
    "info_file = f'{info_dir}/{project}.sample_info.csv'\n",
    "\n",
    "# variables\n",
    "DEBUG = False\n",
    "phase1_pools = [4, 5]\n",
    "lanes = range(1, 9)"
   ]
  },
  {
   "cell_type": "markdown",
   "id": "87b110ff-ef71-49fc-bcc5-4982f0909190",
   "metadata": {},
   "source": [
    "### load the sample info data"
   ]
  },
  {
   "cell_type": "code",
   "execution_count": null,
   "id": "1be99b70-0917-4d16-8c6b-2b53ff2f38c6",
   "metadata": {
    "tags": []
   },
   "outputs": [],
   "source": [
    "info_df = read_csv(info_file)\n",
    "print(f'shape of info {info_df.shape}')\n",
    "if DEBUG:\n",
    "    display(info_df.head())"
   ]
  },
  {
   "cell_type": "markdown",
   "id": "ee446889-0d4a-4d64-a131-ec30d96201a3",
   "metadata": {},
   "source": [
    "### migrate the pools"
   ]
  },
  {
   "cell_type": "code",
   "execution_count": null,
   "id": "8a81acd8-f073-4c09-bc51-a4fd218f85e0",
   "metadata": {
    "tags": []
   },
   "outputs": [],
   "source": [
    "%%time\n",
    "for pool in phase1_pools:\n",
    "    for lane in lanes:\n",
    "        pool_name = f'Aging_P00{pool}_SCRN_{lane}'\n",
    "        new_name = f'sample_ec_GEX_P{pool}_{lane}'\n",
    "        pool_path = f'{phase1_cellbender_path}/{pool_name}_out.h5'\n",
    "        if exists(pool_path):\n",
    "            matching_files = [file for file in listdir(phase1_cellbender_path) \n",
    "                              if file.startswith(pool_name)]\n",
    "            for pool_file in matching_files:\n",
    "                copyfile(f'{phase1_cellbender_path}/{pool_file}',\n",
    "                         f'{cellbender_dir}/{pool_file.replace(pool_name, new_name)}')"
   ]
  },
  {
   "cell_type": "markdown",
   "id": "03c389e5-90d4-462a-ba4d-5c2de7660f37",
   "metadata": {},
   "source": [
    "### verify new files in place"
   ]
  },
  {
   "cell_type": "code",
   "execution_count": null,
   "id": "52df7116-af59-4f66-af3d-37c139cf8eab",
   "metadata": {},
   "outputs": [],
   "source": [
    "if DEBUG:\n",
    "    for pool in phase1_pools:\n",
    "        for lane in lanes:\n",
    "            new_name = f'sample_ec_GEX_P{pool}_{lane}'\n",
    "            !ls -lh {cellbender_dir}/{new_name}*"
   ]
  },
  {
   "cell_type": "code",
   "execution_count": null,
   "id": "4e514267-3f23-4959-8c58-c7b4d9fbe8b0",
   "metadata": {},
   "outputs": [],
   "source": [
    "!date"
   ]
  }
 ],
 "metadata": {
  "kernelspec": {
   "display_name": "Python 3 (ipykernel)",
   "language": "python",
   "name": "python3"
  },
  "language_info": {
   "codemirror_mode": {
    "name": "ipython",
    "version": 3
   },
   "file_extension": ".py",
   "mimetype": "text/x-python",
   "name": "python",
   "nbconvert_exporter": "python",
   "pygments_lexer": "ipython3",
   "version": "3.9.18"
  }
 },
 "nbformat": 4,
 "nbformat_minor": 5
}
