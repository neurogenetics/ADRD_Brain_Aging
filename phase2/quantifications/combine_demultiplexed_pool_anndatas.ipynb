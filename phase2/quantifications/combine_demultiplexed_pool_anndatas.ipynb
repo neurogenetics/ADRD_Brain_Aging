{
 "cells": [
  {
   "cell_type": "markdown",
   "id": "c2a72a79",
   "metadata": {},
   "source": [
    "## Notebook to combine the demultiplexed GEX per pool per lane anndata objects into a single anndata\n",
    "\n",
    "- this is just to combine them not correct, see combat (old/simple), MNN, BBKNN, and scVI for that\n",
    "- when loading each pool prior to combining go ahead and remove and predicted ambient RNA cells that may still after demultiplexing"
   ]
  },
  {
   "cell_type": "code",
   "execution_count": null,
   "id": "616f6ac3",
   "metadata": {},
   "outputs": [],
   "source": [
    "!date"
   ]
  },
  {
   "cell_type": "markdown",
   "id": "000a17a5",
   "metadata": {},
   "source": [
    "#### import libraries and set notebook variables"
   ]
  },
  {
   "cell_type": "code",
   "execution_count": null,
   "id": "05da0382",
   "metadata": {},
   "outputs": [],
   "source": [
    "from pandas import read_csv\n",
    "from scanpy import read_h5ad\n",
    "from os.path import exists\n",
    "from anndata import concat as ad_concat\n",
    "from seaborn import barplot\n",
    "import matplotlib.pyplot as plt\n",
    "from matplotlib.pyplot import rc_context\n",
    "\n",
    "# for white background of figures (only for docs rendering)\n",
    "%config InlineBackend.print_figure_kwargs={'facecolor' : \"w\"}\n",
    "%config InlineBackend.figure_format='retina'"
   ]
  },
  {
   "cell_type": "code",
   "execution_count": null,
   "id": "e4cf5268",
   "metadata": {},
   "outputs": [],
   "source": [
    "# naming\n",
    "project = 'aging_phase2'\n",
    "modality = 'GEX'\n",
    "set_name = f'{project}_{modality}'\n",
    "\n",
    "# directories\n",
    "wrk_dir = '/labshare/raph/datasets/adrd_neuro/brain_aging/phase2'\n",
    "demux_dir = f'{wrk_dir}/demux'\n",
    "cellbender_dir = f'{wrk_dir}/cellbender'\n",
    "info_dir = f'{wrk_dir}/sample_info'\n",
    "quants_dir = f'{wrk_dir}/quants'\n",
    "\n",
    "# in files\n",
    "info_file = f'{info_dir}/{project}.sample_info.csv'\n",
    "\n",
    "# out files\n",
    "output_file = f'{quants_dir}/{set_name}.raw.h5ad'\n",
    "\n",
    "# variables\n",
    "DEBUG = False\n",
    "lane_range = range(1, 9)"
   ]
  },
  {
   "cell_type": "markdown",
   "id": "5191e817-a9b9-4f15-81e0-edafe44968e4",
   "metadata": {},
   "source": [
    "### load the sample info data"
   ]
  },
  {
   "cell_type": "code",
   "execution_count": null,
   "id": "67c1cf7d-17a0-46db-bd58-786b87100899",
   "metadata": {},
   "outputs": [],
   "source": [
    "info_df = read_csv(info_file)\n",
    "print(f'shape of info {info_df.shape}')\n",
    "info_df = info_df.loc[(~info_df.gex_pool.isna()) & (~info_df.atac_pool.isna())]\n",
    "print(f'shape of info {info_df.shape}')\n",
    "# make sure pool nums are ints and not floats\n",
    "info_df.gex_pool = info_df.gex_pool.astype('int')\n",
    "info_df.atac_pool = info_df.atac_pool.astype('int')\n",
    "print(f'shape of info {info_df.shape}')\n",
    "if DEBUG:\n",
    "    display(info_df.head())\n",
    "    display(info_df.gex_pool.value_counts())"
   ]
  },
  {
   "cell_type": "markdown",
   "id": "c79f1eac",
   "metadata": {},
   "source": [
    "#### combine the individual anndatas into single large anndata"
   ]
  },
  {
   "cell_type": "code",
   "execution_count": null,
   "id": "37bf16ff",
   "metadata": {},
   "outputs": [],
   "source": [
    "%%time\n",
    "adata_list = []\n",
    "\n",
    "pools = set(info_df.gex_pool.unique()) | set(info_df.atac_pool.unique())\n",
    "\n",
    "for pool in pools:\n",
    "    for lane in lane_range:\n",
    "        gex_pool = f'{demux_dir}/{modality}_P{pool}_{lane}.h5ad'\n",
    "        if exists(gex_pool):\n",
    "            this_adata = read_h5ad(gex_pool)\n",
    "            cellbender_file = f'{cellbender_dir}/sample_ec_GEX_P{int(pool)}_{lane}_out_cell_barcodes.csv'\n",
    "            cb_barcodes = read_csv(cellbender_file, header=None)\n",
    "            this_adata = this_adata[this_adata.obs.index.isin(cb_barcodes[0])]\n",
    "            if DEBUG:\n",
    "                print(f'{modality}_P{pool}_{lane}: {this_adata}')\n",
    "                print(f'cellbender shape {cb_barcodes.shape}')\n",
    "                print(len(set(cb_barcodes[0]) & set(this_adata.obs.index))/this_adata.obs.shape[0])\n",
    "            adata_list.append(this_adata)\n",
    "\n",
    "all_adata = ad_concat(adata_list)\n",
    "all_adata.obs_names_make_unique()"
   ]
  },
  {
   "cell_type": "markdown",
   "id": "e663c883-aa51-4252-81fd-bcc5deb8cb94",
   "metadata": {},
   "source": [
    "## drop any GEX cells that are labeled 'unknown'"
   ]
  },
  {
   "cell_type": "code",
   "execution_count": null,
   "id": "3f9987ee-9441-4118-bf9a-7f7939dc879e",
   "metadata": {},
   "outputs": [],
   "source": [
    "all_adata = all_adata[all_adata.obs.sample_id != 'unknown']"
   ]
  },
  {
   "cell_type": "code",
   "execution_count": null,
   "id": "fd65d78b-9ac6-4e39-b3f5-f4438c54c7a9",
   "metadata": {},
   "outputs": [],
   "source": [
    "print(all_adata)\n",
    "if DEBUG:\n",
    "    display(all_adata.obs.sample(10))"
   ]
  },
  {
   "cell_type": "markdown",
   "id": "af76fb4d",
   "metadata": {},
   "source": [
    "#### save the combined anndata object"
   ]
  },
  {
   "cell_type": "code",
   "execution_count": null,
   "id": "7aad083e",
   "metadata": {},
   "outputs": [],
   "source": [
    "all_adata.write(output_file)"
   ]
  },
  {
   "cell_type": "markdown",
   "id": "2ec9ce01",
   "metadata": {},
   "source": [
    "#### visualization functions"
   ]
  },
  {
   "cell_type": "code",
   "execution_count": null,
   "id": "d963498f",
   "metadata": {},
   "outputs": [],
   "source": [
    "# function to plot the barcode counts by sample\n",
    "def plot_sample_barcode_counts(this_df, sample_name, id_col='sample_id'):\n",
    "    with rc_context({'figure.figsize': (12, 12), 'figure.dpi': 100}):\n",
    "        plt.style.use('seaborn-v0_8-talk')\n",
    "        barplot(x=this_df[id_col].value_counts().index,\n",
    "                y=this_df[id_col].value_counts().values,\n",
    "                order=this_df[id_col].value_counts().index,\n",
    "                palette='Blues_d')\n",
    "        plt.xticks(rotation=90, fontsize=8)\n",
    "        plt.tight_layout()\n",
    "        plt.title(sample_name)\n",
    "        plt.ylabel('barcode counts')\n",
    "        plt.show()\n",
    "    print(this_df[id_col].value_counts())"
   ]
  },
  {
   "cell_type": "markdown",
   "id": "435c35ef",
   "metadata": {},
   "source": [
    "#### visualize the counts by sample"
   ]
  },
  {
   "cell_type": "code",
   "execution_count": null,
   "id": "1bb0b951",
   "metadata": {
    "tags": []
   },
   "outputs": [],
   "source": [
    "plot_sample_barcode_counts(all_adata.obs, set_name)"
   ]
  },
  {
   "cell_type": "code",
   "execution_count": null,
   "id": "fea415ae",
   "metadata": {},
   "outputs": [],
   "source": [
    "plot_sample_barcode_counts(all_adata.obs, set_name, 'donor_id')"
   ]
  },
  {
   "cell_type": "code",
   "execution_count": null,
   "id": "caed7d9c",
   "metadata": {},
   "outputs": [],
   "source": [
    "plot_sample_barcode_counts(all_adata.obs, set_name, 'gex_pool')"
   ]
  },
  {
   "cell_type": "code",
   "execution_count": null,
   "id": "53e9a8cf",
   "metadata": {},
   "outputs": [],
   "source": [
    "plot_sample_barcode_counts(all_adata.obs, set_name, 'age')"
   ]
  },
  {
   "cell_type": "code",
   "execution_count": null,
   "id": "1c621350",
   "metadata": {},
   "outputs": [],
   "source": [
    "plot_sample_barcode_counts(all_adata.obs, set_name, 'sex')"
   ]
  },
  {
   "cell_type": "code",
   "execution_count": null,
   "id": "c144b845",
   "metadata": {},
   "outputs": [],
   "source": [
    "!date"
   ]
  }
 ],
 "metadata": {
  "kernelspec": {
   "display_name": "Python 3 (ipykernel)",
   "language": "python",
   "name": "python3"
  },
  "language_info": {
   "codemirror_mode": {
    "name": "ipython",
    "version": 3
   },
   "file_extension": ".py",
   "mimetype": "text/x-python",
   "name": "python",
   "nbconvert_exporter": "python",
   "pygments_lexer": "ipython3",
   "version": "3.12.2"
  }
 },
 "nbformat": 4,
 "nbformat_minor": 5
}
