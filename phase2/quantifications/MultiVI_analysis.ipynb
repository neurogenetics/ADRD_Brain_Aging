{
 "cells": [
  {
   "cell_type": "markdown",
   "metadata": {
    "id": "56KZeo3DBWfs"
   },
   "source": [
    "# Joint analysis of paired and unpaired multiomic data with MultiVI\n",
    "\n",
    "MultiVI is used for the joint analysis of scRNA and scATAC-seq datasets that were jointly profiled (multiomic / paired) and single-modality datasets (only scRNA or only scATAC). MultiVI uses the paired data as an anchor to align and merge the latent spaces learned from each individual modality.\n",
    "\n",
    "Based on the [scvi-tools MultiVI tutorial](https://docs.scvi-tools.org/en/stable/tutorials/notebooks/multimodal/MultiVI_tutorial.html) that walks through how to read multiomic data, create a joint object with paired and unpaired data, set-up and train a MultiVI model, visualize the resulting latent space, and run differential analyses. "
   ]
  },
  {
   "cell_type": "markdown",
   "metadata": {},
   "source": [
    "## this notebook is modified directly from the scvi-tools tutorial\n",
    "\n",
    "[MultiVI tutorial](https://docs.scvi-tools.org/en/stable/tutorials/notebooks/MultiVI_tutorial.html)"
   ]
  },
  {
   "cell_type": "markdown",
   "metadata": {
    "id": "A4kc569MMtbo"
   },
   "source": [
    "<div class=\"alert alert-info\">\n",
    "Important\n",
    "\n",
    "MultiVI requires the datasets to use shared features. scATAC-seq datasets need to be processed to use a shared set of peaks.\n",
    "\n",
    "</div>"
   ]
  },
  {
   "cell_type": "code",
   "execution_count": null,
   "metadata": {
    "tags": []
   },
   "outputs": [],
   "source": [
    "!date"
   ]
  },
  {
   "cell_type": "markdown",
   "metadata": {},
   "source": [
    "#### import libraries"
   ]
  },
  {
   "cell_type": "code",
   "execution_count": null,
   "metadata": {
    "colab": {
     "base_uri": "https://localhost:8080/"
    },
    "id": "MLWcgWfSQ2mi",
    "outputId": "d9150926-06c3-46f3-9ab1-289fbc254908",
    "tags": []
   },
   "outputs": [],
   "source": [
    "import scvi\n",
    "from numpy import where\n",
    "import scanpy as sc\n",
    "from anndata import AnnData\n",
    "from anndata import concat as ad_concat\n",
    "from pandas import read_csv, concat\n",
    "import matplotlib.pyplot as plt\n",
    "from matplotlib.pyplot import rc_context\n",
    "\n",
    "import random\n",
    "random.seed(42)\n",
    "\n",
    "import warnings\n",
    "warnings.filterwarnings('ignore')\n",
    "\n",
    "scvi.settings.seed = 42\n",
    "\n",
    "%matplotlib inline\n",
    "# for white background of figures (only for docs rendering)\n",
    "%config InlineBackend.print_figure_kwargs={'facecolor' : \"w\"}\n",
    "%config InlineBackend.figure_format='retina'"
   ]
  },
  {
   "cell_type": "markdown",
   "metadata": {},
   "source": [
    "#### set notebook variables"
   ]
  },
  {
   "cell_type": "code",
   "execution_count": null,
   "metadata": {},
   "outputs": [],
   "source": [
    "# naming\n",
    "project = 'aging_phase2'\n",
    "\n",
    "# directories\n",
    "wrk_dir = '/home/jupyter/brain_aging_phase2'\n",
    "quants_dir = f'{wrk_dir}/quants'\n",
    "models_dir = f'{wrk_dir}/models'\n",
    "figures_dir = f'{wrk_dir}/figures'\n",
    "sc.settings.figdir = f'{figures_dir}/'\n",
    "public_dir = f'{wrk_dir}/public'\n",
    "\n",
    "# in files\n",
    "arc_file = f'{quants_dir}/{project}_ARC.raw.h5ad'\n",
    "arc_scrublet_file = f'{quants_dir}/{project}_ARC.scrublet_scores.csv'\n",
    "gex_file = f'{quants_dir}/{project}_GEX.raw.h5ad'\n",
    "gex_scrublet_file = f'{quants_dir}/{project}_GEX.scrublet_scores.csv'\n",
    "atac_file = f'{quants_dir}/{project}_ATAC.raw.h5ad'\n",
    "\n",
    "# out files\n",
    "raw_anndata_file =f'{quants_dir}/{project}.raw.h5ad'\n",
    "out_h5ad_file = f'{quants_dir}/{project}.multivi.h5ad'\n",
    "trained_model_path = f'{models_dir}/{project}_trained_multivi'\n",
    "mvi_normalized_exp_file = f'{quants_dir}/{project}.multivi_norm_exp.parquet'\n",
    "mvi_peak_est_file = f'{quants_dir}/{project}.multivi_peak_est.parquet'\n",
    "mvi_df_results_file = f'{quants_dir}/{project}.multivi_diff_exp_by_cluster.parquet'\n",
    "\n",
    "# variables and constants\n",
    "DEBUG = False\n",
    "MIN_CELL_PERCENT = 0.005\n",
    "MAX_MITO_PERCENT = 10\n",
    "TESTING = False\n",
    "testing_cell_size = 5000\n",
    "DETECT_HV_FEATURES = True\n",
    "FILTER_HV_FEATURES = False\n",
    "TOP_FEATURES_PERCENT = 0.15\n",
    "leiden_res = 1.0\n",
    "RUN_TRAINING = False"
   ]
  },
  {
   "cell_type": "markdown",
   "metadata": {
    "id": "tbQ8zbhVP8D6"
   },
   "source": [
    "### load data"
   ]
  },
  {
   "cell_type": "markdown",
   "metadata": {
    "id": "Aap3V-9dOoqS"
   },
   "source": [
    "#### load ARC data"
   ]
  },
  {
   "cell_type": "code",
   "execution_count": null,
   "metadata": {
    "colab": {
     "base_uri": "https://localhost:8080/"
    },
    "id": "GPo6vQ9zWuY-",
    "outputId": "9d02d562-7874-4d88-aace-f1756bf84167"
   },
   "outputs": [],
   "source": [
    "%%time\n",
    "arc_data = sc.read_h5ad(arc_file)\n",
    "# discovery data from Duffy\n",
    "arc_data.obs['Study'] = 'LNG'\n",
    "arc_data.obs['Study_type'] = 'discovery'\n",
    "print(arc_data)\n",
    "if DEBUG:\n",
    "    display(arc_data.obs.head())"
   ]
  },
  {
   "cell_type": "code",
   "execution_count": null,
   "metadata": {},
   "outputs": [],
   "source": [
    "arc_srublet_df = read_csv(arc_scrublet_file, index_col=0)\n",
    "print(f'shape of ARC scrublet df {arc_srublet_df.shape}')\n",
    "if DEBUG:\n",
    "    display(arc_srublet_df.predicted_doublet.value_counts())    \n",
    "    display(arc_srublet_df.sample(5))"
   ]
  },
  {
   "cell_type": "markdown",
   "metadata": {},
   "source": [
    "#### load GEX data"
   ]
  },
  {
   "cell_type": "code",
   "execution_count": null,
   "metadata": {},
   "outputs": [],
   "source": [
    "%%time\n",
    "gex_data = sc.read_h5ad(gex_file)\n",
    "print(gex_data)\n",
    "# filter non-demultiplex cells\n",
    "gex_data = gex_data[~gex_data.obs['donor_id'].isna()]\n",
    "# discovery data from Duffy\n",
    "gex_data.obs['Study'] = 'LNG'\n",
    "gex_data.obs['Study_type'] = 'discovery'\n",
    "print(gex_data)\n",
    "if DEBUG:\n",
    "    display(gex_data.obs.sample(5))\n",
    "    display(gex_data.var.sample(5))    "
   ]
  },
  {
   "cell_type": "code",
   "execution_count": null,
   "metadata": {},
   "outputs": [],
   "source": [
    "gex_srublet_df = read_csv(gex_scrublet_file, index_col=0)\n",
    "print(f'shape of GEX scrublet df {gex_srublet_df.shape}')\n",
    "if DEBUG:\n",
    "    display(gex_srublet_df.predicted_doublet.value_counts())    \n",
    "    display(gex_srublet_df.sample(5))"
   ]
  },
  {
   "cell_type": "markdown",
   "metadata": {},
   "source": [
    "#### filter any of the addtional non-genotype predicted doublets\n",
    "\n",
    "the doublets detected based on genotype using demux to demultiplex the GEX pools have already been removed"
   ]
  },
  {
   "cell_type": "code",
   "execution_count": null,
   "metadata": {},
   "outputs": [],
   "source": [
    "# ARC\n",
    "non_doublet_barcodes = arc_srublet_df.loc[~arc_srublet_df.predicted_doublet].index.values\n",
    "arc_data = arc_data[arc_data.obs.index.isin(non_doublet_barcodes)]\n",
    "# GEX\n",
    "non_doublet_barcodes = gex_srublet_df.loc[~gex_srublet_df.predicted_doublet].index.values\n",
    "gex_data = gex_data[gex_data.obs.index.isin(non_doublet_barcodes)]\n",
    "print(f'ARC: {arc_data}')\n",
    "print(f'GEX: {gex_data}')\n",
    "if DEBUG:\n",
    "    display(arc_data.obs.sample(5))\n",
    "    display(gex_data.obs.sample(5))    "
   ]
  },
  {
   "cell_type": "markdown",
   "metadata": {},
   "source": [
    "##### load public reference GEX data\n",
    "Leng et al, entorhinal cortex samples only keep the Braak Stage 0 samples (n=3)"
   ]
  },
  {
   "cell_type": "code",
   "execution_count": null,
   "metadata": {},
   "outputs": [],
   "source": [
    "%%time\n",
    "ec_file = f'{public_dir}/cellxgene_collections/Leng_entorhinal_cortex.h5ad'\n",
    "adata_ref_ec = sc.read_h5ad(ec_file)\n",
    "# retain original barcode\n",
    "adata_ref_ec.obs['Barcode'] = adata_ref_ec.obs.index.astype('category')\n",
    "# filter by Braak Stage\n",
    "adata_ref_ec = adata_ref_ec[adata_ref_ec.obs.BraakStage == '0']\n",
    "# reference data from Leng\n",
    "adata_ref_ec.obs['Study'] = 'Leng'\n",
    "adata_ref_ec.obs['Study_type'] = 'reference'\n",
    "print(adata_ref_ec)\n",
    "if DEBUG:\n",
    "    display(adata_ref_ec.obs.sample(5))\n",
    "    display(adata_ref_ec.var.sample(5))   "
   ]
  },
  {
   "cell_type": "markdown",
   "metadata": {},
   "source": [
    "##### switch var attribute to use gene name instead of ID"
   ]
  },
  {
   "cell_type": "code",
   "execution_count": null,
   "metadata": {},
   "outputs": [],
   "source": [
    "adata_ref_ec.var['gene_id'] = adata_ref_ec.var.index.astype('category')\n",
    "adata_ref_ec.var.index = adata_ref_ec.var.feature_name\n",
    "if DEBUG:\n",
    "    display(adata_ref_ec.var.head(10))"
   ]
  },
  {
   "cell_type": "markdown",
   "metadata": {},
   "source": [
    "##### harmonize Leng et al reference data obs"
   ]
  },
  {
   "cell_type": "code",
   "execution_count": null,
   "metadata": {},
   "outputs": [],
   "source": [
    "adata_ref_ec.obs['age'] = (adata_ref_ec.obs.development_stage.str.replace('-year-old human stage','')\n",
    ".str.replace(' year-old and over human stage',''))\n",
    "drop_cols = ['donor_id', 'BraakStage', 'nUMI', 'nGene', 'initialClusterAssignments', \n",
    "             'cell_type', 'tissue_ontology_term_id', 'cell_type_ontology_term_id', \n",
    "             'assay_ontology_term_id', 'disease_ontology_term_id', \n",
    "             'self_reported_ethnicity_ontology_term_id', 'development_stage_ontology_term_id', \n",
    "             'is_primary_data', 'organism_ontology_term_id', 'suspension_type', \n",
    "             'cell_type', 'assay', 'disease', 'organism', 'self_reported_ethnicity', \n",
    "             'seurat.clusters', 'sex_ontology_term_id', 'development_stage', 'tissue', 'Barcode']\n",
    "adata_ref_ec.obs = adata_ref_ec.obs.drop(columns=drop_cols)\n",
    "adata_ref_ec.obs = adata_ref_ec.obs.rename(columns={'SampleID': 'sample_id', \n",
    "                                                'SampleBatch': 'gex_pool', \n",
    "                                                'clusterAssignment': 'phase1_cluster', \n",
    "                                                'clusterCellType': 'phase1_celltype'})\n",
    "drop_cols = ['feature_is_filtered', 'feature_name', 'feature_reference', 'feature_biotype']\n",
    "adata_ref_ec.var = adata_ref_ec.var.drop(columns=drop_cols)\n",
    "# drop any gene's that aren't in our GEX\n",
    "intersect_features = gex_data.var.index.intersection(adata_ref_ec.var.index)\n",
    "adata_ref_ec = adata_ref_ec[:, intersect_features]\n",
    "adata_ref_ec.obsm = None\n",
    "\n",
    "if DEBUG:\n",
    "    display(adata_ref_ec.obs.sample(10))\n",
    "    display(adata_ref_ec.var.sample(10))"
   ]
  },
  {
   "cell_type": "markdown",
   "metadata": {},
   "source": [
    "##### combine the discovery and reference GEX data"
   ]
  },
  {
   "cell_type": "code",
   "execution_count": null,
   "metadata": {},
   "outputs": [],
   "source": [
    "adata_gex = ad_concat([gex_data, adata_ref_ec], join='outer')\n",
    "adata_gex.obs_names_make_unique()\n",
    "print(adata_gex)\n",
    "if DEBUG:\n",
    "    display(adata_gex.obs.sample(5))\n",
    "    display(adata_gex.var.sample(5))"
   ]
  },
  {
   "cell_type": "markdown",
   "metadata": {},
   "source": [
    "#### load ATAC data"
   ]
  },
  {
   "cell_type": "code",
   "execution_count": null,
   "metadata": {},
   "outputs": [],
   "source": [
    "%%time\n",
    "atac_data = sc.read_h5ad(atac_file)\n",
    "print(atac_data)\n",
    "# filter non-demultiplex cells\n",
    "atac_data = atac_data[~atac_data.obs['donor_id'].isna()]\n",
    "# discovery data from Duffy\n",
    "atac_data.obs['Study'] = 'LNG'\n",
    "atac_data.obs['Study_type'] = 'discovery'\n",
    "print(atac_data)\n",
    "if DEBUG:\n",
    "    display(atac_data.obs.sample(5))"
   ]
  },
  {
   "cell_type": "markdown",
   "metadata": {},
   "source": [
    "#### if testing notebook subset the cells"
   ]
  },
  {
   "cell_type": "code",
   "execution_count": null,
   "metadata": {},
   "outputs": [],
   "source": [
    "def random_cells_subset(adata: AnnData, num_cells: int=5000, \n",
    "                        verbose: bool=False) -> AnnData:\n",
    "    cells_subset = random.sample(list(adata.obs.index.values), num_cells)\n",
    "    adata = adata[cells_subset]\n",
    "    if DEBUG:\n",
    "        print(adata)        \n",
    "        display(adata.obs.sample(5))\n",
    "    return adata\n",
    "\n",
    "if TESTING:\n",
    "    arc_data = random_cells_subset(arc_data, verbose=DEBUG)\n",
    "    adata_gex = random_cells_subset(adata_gex, verbose=DEBUG)\n",
    "    atac_data = random_cells_subset(atac_data, verbose=DEBUG)    "
   ]
  },
  {
   "cell_type": "markdown",
   "metadata": {
    "id": "ZU8pGcPWPCT9"
   },
   "source": [
    "We can then use the `organize_multiome_anndatas` function to orgnize these three datasets into a single Multiome dataset.\n",
    "This function sorts and orders the data from the multi-modal and modality-specific AnnDatas into a single AnnData (aligning the features, padding missing modalities with 0s, etc). "
   ]
  },
  {
   "cell_type": "code",
   "execution_count": null,
   "metadata": {
    "id": "YnovBjadEAFH"
   },
   "outputs": [],
   "source": [
    "%%time\n",
    "# We can now use the organizing method from scvi to concatenate these anndata\n",
    "adata_mvi = scvi.data.organize_multiome_anndatas(arc_data, adata_gex, atac_data)"
   ]
  },
  {
   "cell_type": "markdown",
   "metadata": {
    "id": "vLxYxEPg36VI"
   },
   "source": [
    "Note that `organize_multiome_anndatas` adds an annotation to the cells to indicate which modality they originate from:"
   ]
  },
  {
   "cell_type": "code",
   "execution_count": null,
   "metadata": {
    "colab": {
     "base_uri": "https://localhost:8080/",
     "height": 424
    },
    "id": "jjrZVuX_365d",
    "outputId": "55c366c5-5bb4-4571-9688-7f08d62099bf"
   },
   "outputs": [],
   "source": [
    "print(adata_mvi)\n",
    "display(adata_mvi.obs.modality.value_counts())\n",
    "if DEBUG:\n",
    "    display(adata_mvi.obs.sample(5))"
   ]
  },
  {
   "cell_type": "markdown",
   "metadata": {},
   "source": [
    "#### clean up the obs as needed\n",
    "the ARC samples are pooled but will use pool info as categorical variable so make one for non-pooled samples\n",
    "drop the batch ID"
   ]
  },
  {
   "cell_type": "code",
   "execution_count": null,
   "metadata": {},
   "outputs": [],
   "source": [
    "if DEBUG:\n",
    "    display(adata_mvi.obs.gex_pool.value_counts())\n",
    "    display(adata_mvi.obs.atac_pool.value_counts())\n",
    "    \n",
    "# convert the age obs attribute feature to float from string\n",
    "adata_mvi.obs.age = adata_mvi.obs.age.astype('float')\n",
    "    \n",
    "adata_mvi.obs.gex_pool = adata_mvi.obs.gex_pool.fillna('non')\n",
    "adata_mvi.obs.atac_pool = adata_mvi.obs.atac_pool.fillna('non')\n",
    "adata_mvi.obs.gex_pool = adata_mvi.obs.gex_pool.astype('str')\n",
    "adata_mvi.obs.atac_pool = adata_mvi.obs.atac_pool.astype('str')\n",
    "adata_mvi.obs.drop(columns=['batch_id'], inplace=True)\n",
    "\n",
    "adata_mvi.obs.phase1_cluster = adata_mvi.obs.phase1_cluster.cat.add_categories(['phase2'])\n",
    "adata_mvi.obs.phase1_celltype = adata_mvi.obs.phase1_celltype.cat.add_categories(['phase2'])\n",
    "adata_mvi.obs.phase1_cluster = where(adata_mvi.obs.phase1_cluster == 'NA', \n",
    "                                     'phase2', adata_mvi.obs.phase1_cluster)\n",
    "adata_mvi.obs.phase1_celltype = where(adata_mvi.obs.phase1_celltype == 'NA', \n",
    "                                     'phase2', adata_mvi.obs.phase1_celltype)\n",
    "\n",
    "if DEBUG:\n",
    "    display(adata_mvi.obs.sample(10))\n",
    "    display(adata_mvi.obs.gex_pool.value_counts())\n",
    "    display(adata_mvi.obs.atac_pool.value_counts())\n",
    "    display(adata_mvi.obs.phase1_cluster.value_counts())\n",
    "    display(adata_mvi.obs.phase1_celltype.value_counts())    "
   ]
  },
  {
   "cell_type": "markdown",
   "metadata": {
    "id": "mXQn58ZywlzP"
   },
   "source": [
    "<div class=\"alert alert-info\">\n",
    "Important\n",
    "\n",
    "MultiVI requires the features to be ordered so that genes appear before genomic regions. This must be enforced by the user.\n",
    "\n",
    "</div>"
   ]
  },
  {
   "cell_type": "markdown",
   "metadata": {
    "id": "TRxR38xehkKr"
   },
   "source": [
    "MultiVI requires the features to be ordered, such that genes appear before genomic regions. In this case this is already the case, but it's always good to verify:"
   ]
  },
  {
   "cell_type": "code",
   "execution_count": null,
   "metadata": {
    "colab": {
     "base_uri": "https://localhost:8080/",
     "height": 424
    },
    "id": "tNuo88gAh6W-",
    "outputId": "07431a5c-dac8-42bb-c963-c8b1a4b959f5"
   },
   "outputs": [],
   "source": [
    "adata_mvi = adata_mvi[:, adata_mvi.var[\"modality\"].argsort()].copy()\n",
    "if DEBUG:\n",
    "    display(adata_mvi.var)"
   ]
  },
  {
   "cell_type": "markdown",
   "metadata": {},
   "source": [
    "#### save the MultiVi organized but unprocessed anndata object note that the subject is in the obs\n",
    "only the discovery not the public reference"
   ]
  },
  {
   "cell_type": "code",
   "execution_count": null,
   "metadata": {},
   "outputs": [],
   "source": [
    "%%time\n",
    "adata_disc_mvi = adata_mvi[adata_mvi.obs.Study_type == 'discovery']\n",
    "print(adata_disc_mvi)\n",
    "adata_disc_mvi.write(raw_anndata_file)"
   ]
  },
  {
   "cell_type": "code",
   "execution_count": null,
   "metadata": {},
   "outputs": [],
   "source": [
    "print(adata_mvi)"
   ]
  },
  {
   "cell_type": "markdown",
   "metadata": {
    "id": "Q4b1f0mwldGn"
   },
   "source": [
    "We also filter features to remove those that appear in fewer than MIN% of the cells"
   ]
  },
  {
   "cell_type": "code",
   "execution_count": null,
   "metadata": {
    "colab": {
     "base_uri": "https://localhost:8080/"
    },
    "id": "FUhG037lWtYQ",
    "outputId": "96c29ddb-b7a4-432e-f3f3-8f2318830154"
   },
   "outputs": [],
   "source": [
    "print(adata_mvi.shape)\n",
    "# annotate the group of mitochondrial genes as 'mt'\n",
    "adata_mvi.var['mt'] = adata_mvi.var_names.str.startswith('MT-')  \n",
    "# With pp.calculate_qc_metrics, we can compute many metrics very efficiently.\n",
    "sc.pp.calculate_qc_metrics(adata_mvi, qc_vars=['mt'], percent_top=None, \n",
    "                           log1p=False, inplace=True)\n",
    "adata_mvi = adata_mvi[adata_mvi.obs.pct_counts_mt < MAX_MITO_PERCENT, :]\n",
    "# Basic filtering:\n",
    "# sc.pp.filter_cells(adata_mvi, min_genes=200)\n",
    "sc.pp.filter_genes(adata_mvi, min_cells=int(adata_mvi.shape[0] * MIN_CELL_PERCENT))\n",
    "\n",
    "print(adata_mvi)\n",
    "\n",
    "if DEBUG:\n",
    "    display(adata_mvi.obs.sample(5))\n",
    "    display(adata_mvi.var.sample(5))    "
   ]
  },
  {
   "cell_type": "markdown",
   "metadata": {},
   "source": [
    "#### if flag set then subset to highest variance features\n",
    "\n",
    "MultiVI tutorial doesn't suggest this so probably typically will set to false"
   ]
  },
  {
   "cell_type": "code",
   "execution_count": null,
   "metadata": {},
   "outputs": [],
   "source": [
    "if DETECT_HV_FEATURES:\n",
    "    n_top_genes = int(adata_mvi.var.shape[0] * TOP_FEATURES_PERCENT)\n",
    "    sc.pp.highly_variable_genes(adata_mvi, n_top_genes=n_top_genes, \n",
    "                                batch_key='atac_pool',flavor='seurat_v3', \n",
    "                                subset=FILTER_HV_FEATURES)\n",
    "    print(adata_mvi)\n",
    "    print(adata_mvi.obs.modality.value_counts())\n",
    "    print(adata_mvi.var.modality.value_counts())"
   ]
  },
  {
   "cell_type": "markdown",
   "metadata": {
    "id": "-puYqefZn_0P"
   },
   "source": [
    "## Setup and Training MultiVI\n",
    "We can now set up and train the MultiVI model!"
   ]
  },
  {
   "cell_type": "markdown",
   "metadata": {
    "id": "vJcJx9iXxDIG"
   },
   "source": [
    "First, we need to setup the Anndata object using the `setup_anndata` function. At this point we specify any batch annotation that the model would account for.\n",
    "**Importantly**, the main batch annotation, specific by `batch_key`, should correspond to the modality of the cells.\n",
    "\n",
    "Other batch annotations (e.g if there are multiple ATAC batches) should be provided using the `categorical_covariate_keys`.\n",
    "\n",
    "The actual values of categorical covariates (include `batch_key`) are not important, as long as they are different for different samples.\n",
    "I.e it is not important to call the expression-only samples \"expression\", as long as they are called something different than the multi-modal and accessibility-only samples."
   ]
  },
  {
   "cell_type": "markdown",
   "metadata": {
    "id": "yl5WKg6rw2fc"
   },
   "source": [
    "<div class=\"alert alert-info\">\n",
    "Important\n",
    "\n",
    "MultiVI requires the main batch annotation to correspond to the modality of the samples. Other batch annotation, such as in the case of multiple RNA-only batches, can be specified using `categorical_covariate_keys`.\n",
    "\n",
    "</div>"
   ]
  },
  {
   "cell_type": "code",
   "execution_count": null,
   "metadata": {
    "colab": {
     "base_uri": "https://localhost:8080/"
    },
    "id": "Gx9DJc2WoGpz",
    "outputId": "478986e4-73fc-4e13-94e4-50bccdf235b1"
   },
   "outputs": [],
   "source": [
    "scvi.model.MULTIVI.setup_anndata(adata_mvi, batch_key='modality', \n",
    "                                 categorical_covariate_keys = ['sample_id', 'gex_pool', 'atac_pool']) "
   ]
  },
  {
   "cell_type": "markdown",
   "metadata": {
    "id": "_ehwBKfSpnEd"
   },
   "source": [
    "When creating the object, we need to specify how many of the features are genes, and how many are genomic regions. This is so MultiVI can determine the exact architecture for each modality."
   ]
  },
  {
   "cell_type": "code",
   "execution_count": null,
   "metadata": {
    "colab": {
     "base_uri": "https://localhost:8080/"
    },
    "id": "hu7B7zq2oGnB",
    "outputId": "68fc36c7-539b-4696-badc-55861c457c54"
   },
   "outputs": [],
   "source": [
    "mvi = scvi.model.MULTIVI(\n",
    "    adata_mvi, \n",
    "    n_genes=(adata_mvi.var['modality']=='Gene Expression').sum(),\n",
    "    n_regions=(adata_mvi.var['modality']=='Peaks').sum(),\n",
    ")\n",
    "mvi.view_anndata_setup()"
   ]
  },
  {
   "cell_type": "code",
   "execution_count": null,
   "metadata": {},
   "outputs": [],
   "source": [
    "%%time\n",
    "if RUN_TRAINING:\n",
    "    mvi.train()"
   ]
  },
  {
   "cell_type": "markdown",
   "metadata": {
    "id": "SW1yKwds27ez"
   },
   "source": [
    "## Save and Load MultiVI models\n",
    "\n",
    "Saving and loading models is similar to all other scvi-tools models, and is very straight forward:"
   ]
  },
  {
   "cell_type": "code",
   "execution_count": null,
   "metadata": {
    "id": "GqwA7o2l6u8D"
   },
   "outputs": [],
   "source": [
    "if RUN_TRAINING:\n",
    "    mvi.save(trained_model_path, overwrite=True)"
   ]
  },
  {
   "cell_type": "code",
   "execution_count": null,
   "metadata": {
    "colab": {
     "base_uri": "https://localhost:8080/"
    },
    "id": "TI8han7vNAWh",
    "outputId": "1337010c-2895-42b9-8927-4a3caa8dac6f"
   },
   "outputs": [],
   "source": [
    "mvi = scvi.model.MULTIVI.load(trained_model_path, adata=adata_mvi, accelerator='gpu')"
   ]
  },
  {
   "cell_type": "markdown",
   "metadata": {
    "id": "5ylbf6OZ3YMH"
   },
   "source": [
    "## Extracting and visualizing the latent space\n",
    "\n",
    "We can now use the `get_latent_representation` to get the latent space from the trained model, and visualize it using scanpy functions:"
   ]
  },
  {
   "cell_type": "code",
   "execution_count": null,
   "metadata": {
    "colab": {
     "base_uri": "https://localhost:8080/",
     "height": 333
    },
    "id": "IZFSzWEboGcP",
    "outputId": "5c9451ff-b6ad-47b5-90e1-46359b027dd3",
    "tags": []
   },
   "outputs": [],
   "source": [
    "adata_mvi.obsm['MultiVI_latent'] = mvi.get_latent_representation()"
   ]
  },
  {
   "cell_type": "markdown",
   "metadata": {},
   "source": [
    "#### embed the graph based on latent representation"
   ]
  },
  {
   "cell_type": "code",
   "execution_count": null,
   "metadata": {},
   "outputs": [],
   "source": [
    "%%time\n",
    "sc.pp.neighbors(adata_mvi, use_rep='MultiVI_latent')\n",
    "# sc.tl.umap(adata_mvi, min_dist=0.3)\n",
    "sc.tl.umap(adata_mvi)"
   ]
  },
  {
   "cell_type": "markdown",
   "metadata": {},
   "source": [
    "#### visualize the latent representation"
   ]
  },
  {
   "cell_type": "code",
   "execution_count": null,
   "metadata": {},
   "outputs": [],
   "source": [
    "figure_file = f'_{project}.umap.samples.png'\n",
    "with rc_context({'figure.figsize': (8, 8), 'figure.dpi': 100}):\n",
    "    plt.style.use('seaborn-v0_8-talk')\n",
    "    sc.pl.umap(adata_mvi, color=['sample_id'], save=figure_file)"
   ]
  },
  {
   "cell_type": "code",
   "execution_count": null,
   "metadata": {},
   "outputs": [],
   "source": [
    "figure_file = f'_{project}.umap.studies.png'\n",
    "with rc_context({'figure.figsize': (8, 8), 'figure.dpi': 100}):\n",
    "    plt.style.use('seaborn-v0_8-talk')\n",
    "    sc.pl.umap(adata_mvi, color=['Study'], save=figure_file)"
   ]
  },
  {
   "cell_type": "markdown",
   "metadata": {},
   "source": [
    "### Clustering on the MultiVI latent space\n",
    "The user will note that we imported curated labels from the original publication. Our interface with scanpy makes it easy to cluster the data with scanpy from MultiVI's latent space and then reinject them into MultiVI (e.g., for differential expression)."
   ]
  },
  {
   "cell_type": "code",
   "execution_count": null,
   "metadata": {},
   "outputs": [],
   "source": [
    "%%time\n",
    "# neighbors were already computed using scVI\n",
    "sc.tl.leiden(adata_mvi, key_added='leiden_MultiVI', resolution=leiden_res)"
   ]
  },
  {
   "cell_type": "code",
   "execution_count": null,
   "metadata": {},
   "outputs": [],
   "source": [
    "figure_file = f'_{project}.umap.leiden_on.png'\n",
    "with rc_context({'figure.figsize': (8, 8), 'figure.dpi': 100}):\n",
    "    plt.style.use('seaborn-v0_8-bright')\n",
    "    sc.pl.umap(adata_mvi, color=['leiden_MultiVI'], \n",
    "               frameon=False, legend_loc='on data', save=figure_file)"
   ]
  },
  {
   "cell_type": "code",
   "execution_count": null,
   "metadata": {},
   "outputs": [],
   "source": [
    "figure_file = f'_{project}.umap.leiden_off.png'\n",
    "with rc_context({'figure.figsize': (8, 8), 'figure.dpi': 100}):\n",
    "    plt.style.use('seaborn-v0_8-talk')\n",
    "    sc.pl.umap(adata_mvi, color=['leiden_MultiVI'], \n",
    "               frameon=False, save=figure_file)"
   ]
  },
  {
   "cell_type": "code",
   "execution_count": null,
   "metadata": {},
   "outputs": [],
   "source": [
    "figure_file = f'_{project}.umap.age.png'\n",
    "with rc_context({'figure.figsize': (8, 8), 'figure.dpi': 100}):\n",
    "    plt.style.use('seaborn-v0_8-talk')\n",
    "    sc.pl.umap(adata_mvi, color=['age'], \n",
    "               frameon=False, save=figure_file)"
   ]
  },
  {
   "cell_type": "code",
   "execution_count": null,
   "metadata": {},
   "outputs": [],
   "source": [
    "with rc_context({'figure.figsize': (8, 8), 'figure.dpi': 100}):\n",
    "    plt.style.use('seaborn-v0_8-bright')\n",
    "    sc.pl.umap(adata_mvi, color=['phase1_cluster'], \n",
    "               frameon=False)"
   ]
  },
  {
   "cell_type": "code",
   "execution_count": null,
   "metadata": {},
   "outputs": [],
   "source": [
    "with rc_context({'figure.figsize': (8, 8), 'figure.dpi': 100}):\n",
    "    plt.style.use('seaborn-v0_8-talk')\n",
    "    sc.pl.umap(adata_mvi, color=['phase1_celltype'], \n",
    "               frameon=False)"
   ]
  },
  {
   "cell_type": "code",
   "execution_count": null,
   "metadata": {},
   "outputs": [],
   "source": [
    "with rc_context({'figure.figsize': (8, 8), 'figure.dpi': 100}):\n",
    "    plt.style.use('seaborn-v0_8-talk')\n",
    "    sc.pl.umap(adata_mvi, color=['phase1_celltype'], \n",
    "               frameon=False, legend_loc='on data')"
   ]
  },
  {
   "cell_type": "code",
   "execution_count": null,
   "metadata": {},
   "outputs": [],
   "source": [
    "phase1_data = adata_mvi[adata_mvi.obs.phase1_celltype != 'phase2']\n",
    "figure_file = f'_{project}.umap.phase1_celltype.png'\n",
    "with rc_context({'figure.figsize': (8, 8), 'figure.dpi': 100}):\n",
    "    plt.style.use('seaborn-v0_8-talk')\n",
    "    sc.pl.umap(phase1_data, color=['phase1_celltype'], \n",
    "               frameon=False, legend_loc='on data', save=figure_file)"
   ]
  },
  {
   "cell_type": "code",
   "execution_count": null,
   "metadata": {},
   "outputs": [],
   "source": [
    "print(phase1_data)"
   ]
  },
  {
   "cell_type": "markdown",
   "metadata": {
    "id": "SFs74Tvu-FC8"
   },
   "source": [
    "### save quantification layers as needed\n",
    "\n",
    "In a well-mixed space, MultiVI can seamlessly impute the missing modalities for single-modality cells.\n",
    "First, imputing expression and accessibility is done with `get_normalized_expression` and `get_accessibility_estimates`, respectively.\n",
    "\n",
    "We'll demonstrate this by imputing gene expression for all cells in the dataset (including those that are ATAC-only cells):\n",
    "\n",
    "here saving the accessibiltiy estimates and nulling object quickly to save on some memory"
   ]
  },
  {
   "cell_type": "code",
   "execution_count": null,
   "metadata": {},
   "outputs": [],
   "source": [
    "%%time\n",
    "# get accessiblility estimates from model and save\n",
    "accessibility = mvi.get_accessibility_estimates()\n",
    "accessibility.to_parquet(mvi_peak_est_file)\n",
    "print(f'shape of accessibility estimates {accessibility.shape}')\n",
    "if DEBUG:\n",
    "    display(accessibility.sample(5))    \n",
    "accessibility = None\n",
    "\n",
    "# # get normalized expression values from model and save\n",
    "expression = mvi.get_normalized_expression()\n",
    "expression.to_parquet(mvi_normalized_exp_file)\n",
    "print(f'shape of normalized expression {expression.shape}')\n",
    "if DEBUG:\n",
    "    display(expression.sample(5))    "
   ]
  },
  {
   "cell_type": "code",
   "execution_count": null,
   "metadata": {},
   "outputs": [],
   "source": [
    "print(adata_mvi)"
   ]
  },
  {
   "cell_type": "markdown",
   "metadata": {},
   "source": [
    "### transfer to cell types to replication data\n",
    "split data set"
   ]
  },
  {
   "cell_type": "code",
   "execution_count": null,
   "metadata": {},
   "outputs": [],
   "source": [
    "adata_np2 = adata_mvi[adata_mvi.obs.phase1_celltype != 'phase2']\n",
    "print('#### non-phase2 data ####')\n",
    "print(adata_np2)"
   ]
  },
  {
   "cell_type": "markdown",
   "metadata": {},
   "source": [
    "#### for the non-phase2 data what is the likely cell-type per cluster\n",
    "per leiden cluster which labeled cell-type is most frequent"
   ]
  },
  {
   "cell_type": "code",
   "execution_count": null,
   "metadata": {
    "tags": []
   },
   "outputs": [],
   "source": [
    "cluster_to_celltype = {}\n",
    "cluster_to_refcluster = {}\n",
    "for cluster_num in adata_np2.obs.leiden_MultiVI.unique():\n",
    "    temp = adata_np2.obs.loc[adata_np2.obs.leiden_MultiVI == cluster_num]\n",
    "    cluster_to_celltype[cluster_num] = temp.phase1_celltype.value_counts().idxmax()\n",
    "    cluster_to_refcluster[cluster_num] = temp.phase1_cluster.value_counts().idxmax()\n",
    "    if DEBUG:\n",
    "        display(temp.phase1_celltype.value_counts().head())\n",
    "        display(temp.phase1_cluster.value_counts().head())\n",
    "display(cluster_to_celltype)\n",
    "display(cluster_to_refcluster)"
   ]
  },
  {
   "cell_type": "markdown",
   "metadata": {},
   "source": [
    "#### assign the labels"
   ]
  },
  {
   "cell_type": "code",
   "execution_count": null,
   "metadata": {
    "tags": []
   },
   "outputs": [],
   "source": [
    "for cluster_num in adata_mvi.obs.leiden_MultiVI.unique():\n",
    "    cell_type = cluster_to_celltype.get(cluster_num)\n",
    "    ref_cluster = cluster_to_refcluster.get(cluster_num)\n",
    "    print(cluster_num, cell_type, ref_cluster)\n",
    "    adata_mvi.obs.loc[adata_mvi.obs.leiden_MultiVI == cluster_num, 'Cell_type'] = cell_type\n",
    "    adata_mvi.obs.loc[adata_mvi.obs.leiden_MultiVI == cluster_num, 'RefCluster'] = ref_cluster    \n",
    "if DEBUG:\n",
    "    display(adata_mvi.obs.Cell_type.value_counts())\n",
    "    display(adata_mvi.obs.RefCluster.value_counts())"
   ]
  },
  {
   "cell_type": "markdown",
   "metadata": {},
   "source": [
    "### visualize likely cell-types"
   ]
  },
  {
   "cell_type": "code",
   "execution_count": null,
   "metadata": {},
   "outputs": [],
   "source": [
    "figure_file = f'_{project}.umap.likely_celltype.png'\n",
    "with rc_context({'figure.figsize': (8, 8), 'figure.dpi': 100}):\n",
    "    plt.style.use('seaborn-v0_8-talk')\n",
    "    sc.pl.umap(adata_mvi, color=['Cell_type'], \n",
    "               frameon=False, legend_loc='on data', save=figure_file)"
   ]
  },
  {
   "cell_type": "markdown",
   "metadata": {
    "papermill": {
     "duration": 3.100847,
     "end_time": "2022-05-09T15:55:30.634481",
     "exception": false,
     "start_time": "2022-05-09T15:55:27.533634",
     "status": "completed"
    },
    "tags": []
   },
   "source": [
    "### save the modified anndata object"
   ]
  },
  {
   "cell_type": "code",
   "execution_count": null,
   "metadata": {
    "papermill": {
     "duration": 680.017211,
     "end_time": "2022-05-09T16:06:53.751432",
     "exception": false,
     "start_time": "2022-05-09T15:55:33.734221",
     "status": "completed"
    },
    "tags": []
   },
   "outputs": [],
   "source": [
    "adata_mvi.write(out_h5ad_file)"
   ]
  },
  {
   "cell_type": "markdown",
   "metadata": {},
   "source": [
    "### now the the mvi adata object has already been save add the normalized expression as a layer for visualization on known marker genes"
   ]
  },
  {
   "cell_type": "code",
   "execution_count": null,
   "metadata": {
    "tags": []
   },
   "outputs": [],
   "source": [
    "adata_exp = adata_mvi[:,expression.columns.to_list()]\n",
    "adata_exp.layers['X_mvi'] = expression"
   ]
  },
  {
   "cell_type": "markdown",
   "metadata": {
    "id": "PiCtrPj_11L1"
   },
   "source": [
    "We can demonstrate this on some known marker genes:"
   ]
  },
  {
   "cell_type": "code",
   "execution_count": null,
   "metadata": {},
   "outputs": [],
   "source": [
    "def plot_gene_in_umap(adata: AnnData, gene: str, layer: str='X_mvi'):\n",
    "    if gene in adata.var.index:\n",
    "        with rc_context({'figure.figsize': (8, 8), 'figure.dpi': 100}):\n",
    "            plt.style.use('seaborn-v0_8-talk')\n",
    "            sc.pl.umap(adata, color=gene)\n",
    "            sc.pl.umap(adata, color=gene, layer=layer)\n",
    "    else:\n",
    "        print(f'{gene} not present')"
   ]
  },
  {
   "cell_type": "markdown",
   "metadata": {
    "id": "iT0rzx-7x7BE"
   },
   "source": [
    "neuron, SNAP23. "
   ]
  },
  {
   "cell_type": "code",
   "execution_count": null,
   "metadata": {},
   "outputs": [],
   "source": [
    "plot_gene_in_umap(adata_exp, 'SNAP25')"
   ]
  },
  {
   "cell_type": "markdown",
   "metadata": {
    "id": "wObn2vlH0sqa"
   },
   "source": [
    "GABAerigc, GAD1:"
   ]
  },
  {
   "cell_type": "code",
   "execution_count": null,
   "metadata": {},
   "outputs": [],
   "source": [
    "plot_gene_in_umap(adata_exp, 'GAD1')"
   ]
  },
  {
   "cell_type": "markdown",
   "metadata": {
    "id": "eO3y_fkO0jk6"
   },
   "source": [
    "Glutamatergic, GRIN1:"
   ]
  },
  {
   "cell_type": "code",
   "execution_count": null,
   "metadata": {},
   "outputs": [],
   "source": [
    "plot_gene_in_umap(adata_exp, 'GRIN1')"
   ]
  },
  {
   "cell_type": "markdown",
   "metadata": {
    "id": "eO3y_fkO0jk6"
   },
   "source": [
    "Microglia, CSF1R:"
   ]
  },
  {
   "cell_type": "code",
   "execution_count": null,
   "metadata": {},
   "outputs": [],
   "source": [
    "plot_gene_in_umap(adata_exp, 'CSF1R')        "
   ]
  },
  {
   "cell_type": "markdown",
   "metadata": {
    "id": "eO3y_fkO0jk6"
   },
   "source": [
    "Astrocyte, GFAP:"
   ]
  },
  {
   "cell_type": "code",
   "execution_count": null,
   "metadata": {},
   "outputs": [],
   "source": [
    "plot_gene_in_umap(adata_exp, 'GFAP')           "
   ]
  },
  {
   "cell_type": "markdown",
   "metadata": {
    "id": "eO3y_fkO0jk6"
   },
   "source": [
    "Oligodendrocyte, PLP1:"
   ]
  },
  {
   "cell_type": "code",
   "execution_count": null,
   "metadata": {},
   "outputs": [],
   "source": [
    "plot_gene_in_umap(adata_exp, 'PLP1')    "
   ]
  },
  {
   "cell_type": "markdown",
   "metadata": {
    "id": "Sc8KSq092UaF"
   },
   "source": [
    "All three marker genes clearly identify their respective populations. Importantly, the imputed gene expression profiles are stable and consistent within that population, **even though many of those cells only measured the ATAC profile of those cells**."
   ]
  },
  {
   "cell_type": "markdown",
   "metadata": {},
   "source": [
    "### Differential expression of Leiden clusters"
   ]
  },
  {
   "cell_type": "code",
   "execution_count": null,
   "metadata": {},
   "outputs": [],
   "source": [
    "%%time\n",
    "de_df = mvi.differential_expression(groupby='leiden_MultiVI',)\n",
    "if DEBUG:\n",
    "    display(de_df.sample(10))"
   ]
  },
  {
   "cell_type": "markdown",
   "metadata": {},
   "source": [
    "#### save the differential expression results"
   ]
  },
  {
   "cell_type": "code",
   "execution_count": null,
   "metadata": {
    "tags": []
   },
   "outputs": [],
   "source": [
    "de_df.to_parquet(mvi_df_results_file)"
   ]
  },
  {
   "cell_type": "markdown",
   "metadata": {},
   "source": [
    "#### We now extract top markers for each cluster using the DE results."
   ]
  },
  {
   "cell_type": "code",
   "execution_count": null,
   "metadata": {},
   "outputs": [],
   "source": [
    "markers = {}\n",
    "number_of_top_markers = 5\n",
    "cats = adata_exp.obs['leiden_MultiVI'].cat.categories\n",
    "for i, c in enumerate(cats):\n",
    "    cid = f\"{c} vs Rest\"\n",
    "    cell_type_df = de_df.loc[de_df.comparison == cid]\n",
    "\n",
    "    cell_type_df = cell_type_df[cell_type_df.lfc_mean > 0]\n",
    "\n",
    "    cell_type_df = cell_type_df[cell_type_df[\"bayes_factor\"] > 3]\n",
    "    cell_type_df = cell_type_df[cell_type_df[\"non_zeros_proportion1\"] > 0.1]\n",
    "\n",
    "    markers[c] = cell_type_df.index.tolist()[:number_of_top_markers]"
   ]
  },
  {
   "cell_type": "code",
   "execution_count": null,
   "metadata": {},
   "outputs": [],
   "source": [
    "sc.tl.dendrogram(adata_exp, groupby='leiden_MultiVI', use_rep='MultiVI_latent')"
   ]
  },
  {
   "cell_type": "code",
   "execution_count": null,
   "metadata": {},
   "outputs": [],
   "source": [
    "figure_file = f'{project}.cluster_markers.png'\n",
    "with rc_context({'figure.figsize': (12, 12), 'figure.dpi': 200}):\n",
    "    plt.style.use('seaborn-v0_8-talk')\n",
    "    sc.pl.dotplot(adata_exp, markers, groupby='leiden_MultiVI', dendrogram=True,\n",
    "                  color_map='Blues', swap_axes=True, use_raw=False,\n",
    "                  standard_scale='var', save=figure_file)"
   ]
  },
  {
   "cell_type": "markdown",
   "metadata": {},
   "source": [
    "#### We can also visualize the scVI normalized gene expression values with the layer option."
   ]
  },
  {
   "cell_type": "code",
   "execution_count": null,
   "metadata": {},
   "outputs": [],
   "source": [
    "figure_file = f'{project}.cluster_markers_heatmap.png'\n",
    "with rc_context({'figure.figsize': (15, 15), 'figure.dpi': 200, 'font.size': 6}):\n",
    "    plt.style.use('seaborn-v0_8-talk')\n",
    "    sc.pl.heatmap(adata_exp, markers, groupby='leiden_MultiVI', layer='X_mvi', \n",
    "                  standard_scale='var', dendrogram=True, figsize=(8, 12),\n",
    "                  show_gene_labels=True, save=figure_file)"
   ]
  },
  {
   "cell_type": "code",
   "execution_count": null,
   "metadata": {},
   "outputs": [],
   "source": [
    "!date"
   ]
  }
 ],
 "metadata": {
  "accelerator": "GPU",
  "colab": {
   "collapsed_sections": [],
   "machine_shape": "hm",
   "name": "MultiVI_tutorial.ipynb",
   "provenance": [],
   "toc_visible": true
  },
  "environment": {
   "kernel": "python3",
   "name": ".m116",
   "type": "gcloud",
   "uri": "gcr.io/deeplearning-platform-release/:m116"
  },
  "kernelspec": {
   "display_name": "Python 3 (ipykernel)",
   "language": "python",
   "name": "python3"
  },
  "language_info": {
   "codemirror_mode": {
    "name": "ipython",
    "version": 3
   },
   "file_extension": ".py",
   "mimetype": "text/x-python",
   "name": "python",
   "nbconvert_exporter": "python",
   "pygments_lexer": "ipython3",
   "version": "3.11.5"
  }
 },
 "nbformat": 4,
 "nbformat_minor": 4
}
