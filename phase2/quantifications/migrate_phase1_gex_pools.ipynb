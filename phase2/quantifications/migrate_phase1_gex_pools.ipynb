{
 "cells": [
  {
   "cell_type": "markdown",
   "id": "3e48cbe6-04d5-4274-9a58-ab22e311b94f",
   "metadata": {},
   "source": [
    "## Note book to migrate phase1 GEX pools that contained Entorhinal cortex samples to phase2\n",
    "- using the demultiplexed raw anndata files\n",
    "- pool format renaming to be consistent with phase 2 data"
   ]
  },
  {
   "cell_type": "code",
   "execution_count": 1,
   "id": "0f4df718-4552-4784-8f03-c844b92dc3ff",
   "metadata": {
    "tags": []
   },
   "outputs": [
    {
     "name": "stdout",
     "output_type": "stream",
     "text": [
      "Wed Aug 30 12:33:22 EDT 2023\n"
     ]
    }
   ],
   "source": [
    "!date"
   ]
  },
  {
   "cell_type": "markdown",
   "id": "299c6c82-d456-4ff1-9040-b0b1fd03f716",
   "metadata": {},
   "source": [
    "#### import libraries"
   ]
  },
  {
   "cell_type": "code",
   "execution_count": 2,
   "id": "54f45084-a192-4cfa-9118-962e61895f9e",
   "metadata": {
    "tags": []
   },
   "outputs": [],
   "source": [
    "from pandas import read_csv, DataFrame\n",
    "from scanpy import read\n",
    "from os.path import exists\n",
    "from scanpy import read_h5ad\n",
    "from anndata import AnnData"
   ]
  },
  {
   "cell_type": "markdown",
   "id": "4c822fe4-aa71-4288-a06f-8e2a7e2f63be",
   "metadata": {},
   "source": [
    "#### set notebook variables"
   ]
  },
  {
   "cell_type": "code",
   "execution_count": 3,
   "id": "69cd257a-1d34-492e-8e1a-4c997abcb1f3",
   "metadata": {
    "tags": []
   },
   "outputs": [],
   "source": [
    "# naming\n",
    "project = 'aging_phase2'\n",
    "\n",
    "# directories\n",
    "phase1_demux_path = '/labshare/raph/datasets/adrd_neuro/brain_aging/phase1/demux'\n",
    "wrk_dir = '/labshare/raph/datasets/adrd_neuro/brain_aging/phase2'\n",
    "info_dir = f'{wrk_dir}/sample_info'\n",
    "demux_dir = f'{wrk_dir}/demux'\n",
    "\n",
    "# in files\n",
    "info_file = f'{info_dir}/{project}.sample_info.csv'\n",
    "phase1_final_file = f'{phase1_demux_path}/aging.pegasus.leiden_085.subclustered.h5ad'\n",
    "\n",
    "# variables\n",
    "DEBUG = False\n",
    "pools = [4, 5]\n",
    "lanes = range(1, 9)"
   ]
  },
  {
   "cell_type": "markdown",
   "id": "585101e3-c7e5-46a7-8f00-f40616fc0741",
   "metadata": {},
   "source": [
    "#### functions"
   ]
  },
  {
   "cell_type": "code",
   "execution_count": 4,
   "id": "35faa666-c900-4e6c-ab53-09323e52372e",
   "metadata": {
    "tags": []
   },
   "outputs": [],
   "source": [
    "def make_new_obs(data: AnnData, info: DataFrame, prev_info: DataFrame, \n",
    "                 verbose: bool=False) -> AnnData:\n",
    "    # make sure to subset to only 'Brain_region' == 'Entorhinal cortex'\n",
    "    data = data[data.obs.Brain_region == 'Entorhinal cortex']\n",
    "    # adjust and subset keep columns\n",
    "    data.obs = data.obs.rename(columns={'Sample_id': 'sample_id'})\n",
    "    data.obs = data.obs[['sample_id']]\n",
    "    # update the anndata obs with sample info\n",
    "    new_obs = data.obs.copy()\n",
    "    new_obs['barcodes'] = new_obs.index\n",
    "    new_obs = new_obs.merge(info, how='left', left_on='sample_id', right_on='sample_id')\n",
    "    new_obs = new_obs.set_index('barcodes', drop=True)\n",
    "    new_obs = new_obs.merge(prev_info, how='left', left_index=True, right_index=True)    \n",
    "    new_obs['donor_id'] = new_obs.hbcc_id\n",
    "    new_obs = new_obs.drop(columns=['hbcc_id'])\n",
    "    if not new_obs.index.equals(data.obs.index):\n",
    "        print('re-indexing ...')\n",
    "        new_obs = new_obs.reindex(data.obs.index)\n",
    "    # now replace the original obs\n",
    "    data.obs = new_obs     \n",
    "    if verbose:\n",
    "        print(new_obs.index.equals(data.obs.index))\n",
    "        print(f'shape of temp obs {new_obs.shape}')\n",
    "    return data"
   ]
  },
  {
   "cell_type": "markdown",
   "id": "87b110ff-ef71-49fc-bcc5-4982f0909190",
   "metadata": {},
   "source": [
    "### load the sample info data"
   ]
  },
  {
   "cell_type": "code",
   "execution_count": 5,
   "id": "1be99b70-0917-4d16-8c6b-2b53ff2f38c6",
   "metadata": {
    "tags": []
   },
   "outputs": [
    {
     "name": "stdout",
     "output_type": "stream",
     "text": [
      "shape of info (36, 13)\n"
     ]
    }
   ],
   "source": [
    "info_df = read_csv(info_file)\n",
    "print(f'shape of info {info_df.shape}')\n",
    "if DEBUG:\n",
    "    display(info_df.head())"
   ]
  },
  {
   "cell_type": "markdown",
   "id": "8da7e48d-e067-4a1b-9ed4-51e62dd01ff6",
   "metadata": {},
   "source": [
    "### load the phase1 final data\n",
    "for migrating the cluster and cell-types for comparison purposes"
   ]
  },
  {
   "cell_type": "code",
   "execution_count": 6,
   "id": "c2c84777-fb3a-4121-9552-9f2edb825464",
   "metadata": {},
   "outputs": [
    {
     "name": "stdout",
     "output_type": "stream",
     "text": [
      "WARNING: Your filename has more than two extensions: ['.pegasus', '.leiden_085', '.subclustered', '.h5ad'].\n",
      "Only considering the two last: ['.subclustered', '.h5ad'].\n",
      "WARNING: Your filename has more than two extensions: ['.pegasus', '.leiden_085', '.subclustered', '.h5ad'].\n",
      "Only considering the two last: ['.subclustered', '.h5ad'].\n",
      "AnnData object with n_obs × n_vars = 167945 × 35441\n",
      "    obs: 'pool_name', 'Sample_id', 'Tissue_source', 'Brain_region', 'Clinical_diagnosis', 'Age', 'Sex', 'donor_id', 'lane_num', 'Channel', 'n_genes', 'n_counts', 'percent_mito', 'scale', 'Group', 'leiden_labels', 'anno', 'leiden_labels_085', 'new_anno', 'Age_group', 'broad_celltype'\n",
      "    var: 'n_cells', 'percent_cells', 'robust', 'highly_variable_features', 'mean', 'var', 'hvf_loess', 'hvf_rank'\n",
      "    uns: 'Channels', 'Groups', 'PCs', 'W_diffmap', 'W_pca_harmony', 'broad_celltype_colors', 'c2gid', 'df_qcplot', 'diffmap_evals', 'diffmap_knn_distances', 'diffmap_knn_indices', 'genome', 'gncells', 'leiden_resolution', 'modality', 'ncells', 'new_anno_colors', 'norm_count', 'pca', 'pca_features', 'pca_harmony_knn_distances', 'pca_harmony_knn_indices', 'stdzn_max_value', 'stdzn_mean', 'stdzn_std'\n",
      "    obsm: 'X_diffmap', 'X_fle', 'X_pca', 'X_pca_harmony', 'X_phi', 'X_umap', 'X_umap_085'\n",
      "    varm: 'de_res', 'gmeans', 'gstds', 'means', 'partial_sum'\n",
      "CPU times: user 873 ms, sys: 2.97 s, total: 3.84 s\n",
      "Wall time: 3.84 s\n"
     ]
    }
   ],
   "source": [
    "%%time\n",
    "phase1_data = read(phase1_final_file)\n",
    "print(phase1_data)"
   ]
  },
  {
   "cell_type": "markdown",
   "id": "50779234-1b55-47c5-a95d-f0577ff93554",
   "metadata": {},
   "source": [
    "#### keep and rename only info want to migrate for comparison purposes"
   ]
  },
  {
   "cell_type": "code",
   "execution_count": 7,
   "id": "863ccb93-f5dd-4787-b27a-28405eebd9d4",
   "metadata": {
    "tags": []
   },
   "outputs": [
    {
     "name": "stdout",
     "output_type": "stream",
     "text": [
      "shape of previous info to keep (167945, 2)\n"
     ]
    }
   ],
   "source": [
    "phase1_df = phase1_data.obs[['leiden_labels_085', 'new_anno']]\n",
    "phase1_df = phase1_df.rename(columns={'leiden_labels_085': 'phase1_cluster', \n",
    "                                      'new_anno': 'phase1_celltype'})\n",
    "print(f'shape of previous info to keep {phase1_df.shape}')\n",
    "if DEBUG:\n",
    "    display(phase1_df.head())\n",
    "    display(phase1_df.phase1_cluster.value_counts())\n",
    "    display(phase1_df.phase1_celltype.value_counts())"
   ]
  },
  {
   "cell_type": "markdown",
   "id": "ee446889-0d4a-4d64-a131-ec30d96201a3",
   "metadata": {},
   "source": [
    "### migrate the pools"
   ]
  },
  {
   "cell_type": "code",
   "execution_count": 8,
   "id": "8a81acd8-f073-4c09-bc51-a4fd218f85e0",
   "metadata": {
    "tags": []
   },
   "outputs": [
    {
     "name": "stdout",
     "output_type": "stream",
     "text": [
      "Aging_P004_SCRN_1\n",
      "created: /labshare/raph/datasets/adrd_neuro/brain_aging/phase2/demux/GEX_P4_1.h5ad\n",
      "Aging_P004_SCRN_2\n",
      "created: /labshare/raph/datasets/adrd_neuro/brain_aging/phase2/demux/GEX_P4_2.h5ad\n",
      "Aging_P004_SCRN_3\n",
      "created: /labshare/raph/datasets/adrd_neuro/brain_aging/phase2/demux/GEX_P4_3.h5ad\n",
      "Aging_P004_SCRN_4\n",
      "created: /labshare/raph/datasets/adrd_neuro/brain_aging/phase2/demux/GEX_P4_4.h5ad\n",
      "Aging_P004_SCRN_5\n",
      "created: /labshare/raph/datasets/adrd_neuro/brain_aging/phase2/demux/GEX_P4_5.h5ad\n",
      "Aging_P004_SCRN_6\n",
      "created: /labshare/raph/datasets/adrd_neuro/brain_aging/phase2/demux/GEX_P4_6.h5ad\n",
      "Aging_P004_SCRN_7\n",
      "created: /labshare/raph/datasets/adrd_neuro/brain_aging/phase2/demux/GEX_P4_7.h5ad\n",
      "Aging_P004_SCRN_8\n",
      "created: /labshare/raph/datasets/adrd_neuro/brain_aging/phase2/demux/GEX_P4_8.h5ad\n",
      "Aging_P005_SCRN_1\n",
      "created: /labshare/raph/datasets/adrd_neuro/brain_aging/phase2/demux/GEX_P5_1.h5ad\n",
      "Aging_P005_SCRN_2\n",
      "created: /labshare/raph/datasets/adrd_neuro/brain_aging/phase2/demux/GEX_P5_2.h5ad\n",
      "Aging_P005_SCRN_3\n",
      "created: /labshare/raph/datasets/adrd_neuro/brain_aging/phase2/demux/GEX_P5_3.h5ad\n",
      "Aging_P005_SCRN_4\n",
      "created: /labshare/raph/datasets/adrd_neuro/brain_aging/phase2/demux/GEX_P5_4.h5ad\n",
      "Aging_P005_SCRN_5\n",
      "created: /labshare/raph/datasets/adrd_neuro/brain_aging/phase2/demux/GEX_P5_5.h5ad\n",
      "Aging_P005_SCRN_6\n",
      "created: /labshare/raph/datasets/adrd_neuro/brain_aging/phase2/demux/GEX_P5_6.h5ad\n",
      "Aging_P005_SCRN_7\n",
      "created: /labshare/raph/datasets/adrd_neuro/brain_aging/phase2/demux/GEX_P5_7.h5ad\n",
      "Aging_P005_SCRN_8\n",
      "created: /labshare/raph/datasets/adrd_neuro/brain_aging/phase2/demux/GEX_P5_8.h5ad\n"
     ]
    }
   ],
   "source": [
    "for pool in pools:\n",
    "    for lane in lanes:\n",
    "        pool_name = f'Aging_P00{pool}_SCRN_{lane}'\n",
    "        pool_path = f'{phase1_demux_path}/{pool_name}.h5ad'\n",
    "        if exists(pool_path):\n",
    "            print(pool_name)\n",
    "            adata = read_h5ad(pool_path)\n",
    "            if DEBUG:\n",
    "                print(adata)                \n",
    "                print(f'shape of adata obs {adata.obs.shape}')                \n",
    "                display(adata.obs.head())            \n",
    "            adata = make_new_obs(adata, info_df, phase1_df)\n",
    "            # save modifid anndata\n",
    "            out_path = f'{demux_dir}/GEX_P{pool}_{lane}.h5ad'\n",
    "            adata.write(out_path)\n",
    "            print(f'created: {out_path}')\n",
    "            if DEBUG:\n",
    "                print(adata)                \n",
    "                print(f'shape of modified adata obs {adata.obs.shape}')                \n",
    "                display(adata.obs.head())                "
   ]
  },
  {
   "cell_type": "code",
   "execution_count": 9,
   "id": "4e514267-3f23-4959-8c58-c7b4d9fbe8b0",
   "metadata": {},
   "outputs": [
    {
     "name": "stdout",
     "output_type": "stream",
     "text": [
      "Wed Aug 30 12:33:36 EDT 2023\n"
     ]
    }
   ],
   "source": [
    "!date"
   ]
  }
 ],
 "metadata": {
  "kernelspec": {
   "display_name": "Python 3 (ipykernel)",
   "language": "python",
   "name": "python3"
  },
  "language_info": {
   "codemirror_mode": {
    "name": "ipython",
    "version": 3
   },
   "file_extension": ".py",
   "mimetype": "text/x-python",
   "name": "python",
   "nbconvert_exporter": "python",
   "pygments_lexer": "ipython3",
   "version": "3.9.13"
  }
 },
 "nbformat": 4,
 "nbformat_minor": 5
}
