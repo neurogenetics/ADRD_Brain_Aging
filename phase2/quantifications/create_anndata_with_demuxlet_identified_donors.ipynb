{
 "cells": [
  {
   "cell_type": "markdown",
   "id": "103ed413",
   "metadata": {},
   "source": [
    "## Notebook to push the identified donor IDs from demultiplexing back into the data\n",
    "- this should only be used for the GEX pools and is done per pool, whereas for the ATAC that should be done using the aggregated data for the ATAC pools"
   ]
  },
  {
   "cell_type": "code",
   "execution_count": null,
   "id": "5b2914b2",
   "metadata": {
    "tags": []
   },
   "outputs": [],
   "source": [
    "!date"
   ]
  },
  {
   "cell_type": "markdown",
   "id": "2d8a59bc",
   "metadata": {},
   "source": [
    "#### import libraries"
   ]
  },
  {
   "cell_type": "code",
   "execution_count": null,
   "id": "a144b76a",
   "metadata": {
    "tags": []
   },
   "outputs": [],
   "source": [
    "from scanpy import read_10x_h5\n",
    "from pandas import read_csv, concat\n",
    "from numpy import where\n",
    "from seaborn import barplot\n",
    "import matplotlib.pyplot as plt\n",
    "from matplotlib.pyplot import rc_context\n",
    "\n",
    "%matplotlib inline\n",
    "# for white background of figures (only for docs rendering)\n",
    "%config InlineBackend.print_figure_kwargs={'facecolor' : \"w\"}\n",
    "%config InlineBackend.figure_format='retina'"
   ]
  },
  {
   "cell_type": "markdown",
   "id": "1dd611ed-e136-445a-ba92-0a92013db4f1",
   "metadata": {},
   "source": [
    "#### set notebook variables"
   ]
  },
  {
   "cell_type": "code",
   "execution_count": null,
   "id": "6de4f89f",
   "metadata": {
    "tags": [
     "parameters"
    ]
   },
   "outputs": [],
   "source": [
    "# parameters\n",
    "modality = ''\n",
    "pool_num = 0\n",
    "lane_num = 0"
   ]
  },
  {
   "cell_type": "code",
   "execution_count": null,
   "id": "89a1c949",
   "metadata": {
    "tags": []
   },
   "outputs": [],
   "source": [
    "# variables and constants\n",
    "project = 'aging_phase2'\n",
    "pool_name = f'{modality}_P{pool_num}_{lane_num}'\n",
    "DEBUG = False\n",
    "dpi_value = 50\n",
    "USE_CELLBENDER = True\n",
    "\n",
    "# directories\n",
    "wrk_dir = '/labshare/raph/datasets/adrd_neuro/brain_aging/phase2'\n",
    "demux_dir = f'{wrk_dir}/demux'\n",
    "info_dir = f'{wrk_dir}/sample_info'\n",
    "src_dir = f'{wrk_dir}/src_data/{modality.lower()}'\n",
    "cellbend_dir = f'{wrk_dir}/cellbender'\n",
    "\n",
    "# in files\n",
    "info_file = f'{info_dir}/{project}.sample_info.csv'\n",
    "if modality == 'GEX':\n",
    "    if USE_CELLBENDER:\n",
    "        path_to_10x_h5 = f'{cellbend_dir}/sample_ec_{modality}_P{pool_num}_{lane_num}_out_filtered.h5'\n",
    "    else:\n",
    "        path_to_10x_h5 = (f'{src_dir}/sample_ec_{modality}_P{pool_num}_{lane_num}/'\n",
    "                          'outs/filtered_feature_bc_matrix.h5')\n",
    "else:\n",
    "    print('ATAC not supported int this notebook')\n",
    "\n",
    "# out files\n",
    "output_file = f'{demux_dir}/{pool_name}.h5ad'\n",
    "\n",
    "print(f'{info_file=}')\n",
    "print(f'{path_to_10x_h5=}')\n",
    "print(f'{output_file=}')"
   ]
  },
  {
   "cell_type": "markdown",
   "id": "ab7c71e3",
   "metadata": {},
   "source": [
    "#### visualization functions"
   ]
  },
  {
   "cell_type": "code",
   "execution_count": null,
   "id": "8c441289",
   "metadata": {
    "tags": []
   },
   "outputs": [],
   "source": [
    "# function to plot the barcode counts by sample\n",
    "def plot_sample_barcode_counts(this_df, sample_name, id_col='sample_id'):\n",
    "    with rc_context({'figure.figsize': (9, 9), 'figure.dpi': dpi_value}):\n",
    "        plt.style.use('seaborn-v0_8-talk') \n",
    "        barplot(x=this_df[id_col].value_counts().index, \n",
    "                y=this_df[id_col].value_counts().values, palette='Blues_d')\n",
    "        plt.xticks(rotation=70)\n",
    "        plt.tight_layout()\n",
    "        plt.title(sample_name)\n",
    "        plt.ylabel('barcode counts')\n",
    "    print(this_df[id_col].value_counts())"
   ]
  },
  {
   "cell_type": "markdown",
   "id": "6130293b-8351-4264-8d07-06ec2ea19de1",
   "metadata": {},
   "source": [
    "### load the sample info data"
   ]
  },
  {
   "cell_type": "code",
   "execution_count": null,
   "id": "70230f4d-2d89-48b6-a79c-2708cc1e6002",
   "metadata": {
    "tags": []
   },
   "outputs": [],
   "source": [
    "info_df = read_csv(info_file)\n",
    "print(f'shape of info {info_df.shape}')\n",
    "if DEBUG:\n",
    "    display(info_df.head())\n",
    "    display(info_df.gex_pool.value_counts())\n",
    "    display(info_df.atac_pool.value_counts())    "
   ]
  },
  {
   "cell_type": "markdown",
   "id": "32b0eb8c",
   "metadata": {},
   "source": [
    "#### load the 10X matrix files"
   ]
  },
  {
   "cell_type": "code",
   "execution_count": null,
   "id": "80db255d",
   "metadata": {
    "tags": []
   },
   "outputs": [],
   "source": [
    "%%time\n",
    "adata = read_10x_h5(path_to_10x_h5)\n",
    "adata.var_names_make_unique()\n",
    "    \n",
    "print(adata)"
   ]
  },
  {
   "cell_type": "markdown",
   "id": "151b3d2c",
   "metadata": {},
   "source": [
    "#### load the demuxlet results"
   ]
  },
  {
   "cell_type": "code",
   "execution_count": null,
   "id": "54c6ba53",
   "metadata": {
    "tags": []
   },
   "outputs": [],
   "source": [
    "best_file = f'{demux_dir}/{pool_name}.best'\n",
    "demux_df = read_csv(best_file, sep='\\s+')\n",
    "# set another best sample column and if doublet or ambigous set that as ID\n",
    "demux_df['sample_id'] = where(demux_df['DROPLET.TYPE'] == 'SNG', demux_df['SNG.BEST.GUESS'], \n",
    "                              where(demux_df['DROPLET.TYPE'] == 'DBL', \n",
    "                                    'doublet', 'ambiguous'))\n",
    "print(f'shape of demux {demux_df.shape}')    \n",
    "if DEBUG:\n",
    "    display(demux_df.sample(5))\n",
    "    display(demux_df['DROPLET.TYPE'].value_counts())\n",
    "    display(demux_df.sample_id.value_counts())"
   ]
  },
  {
   "cell_type": "markdown",
   "id": "58e3ef52",
   "metadata": {},
   "source": [
    "#### merge other info with obs IDs"
   ]
  },
  {
   "cell_type": "code",
   "execution_count": null,
   "id": "a9a679b2",
   "metadata": {
    "tags": []
   },
   "outputs": [],
   "source": [
    "obs_id_df = demux_df[['sample_id', 'BARCODE']].copy()\n",
    "print(obs_id_df.shape)\n",
    "# if none of the samples IDs match then file is copied from phase1\n",
    "# that used donor ID instead of project sample ID, here is a hacky work around\n",
    "if len(set(obs_id_df.sample_id) & set(info_df.sample_id)) == 0:\n",
    "    pool_info_df = info_df.loc[info_df.gex_pool == pool_num]\n",
    "    id_map_dict = pool_info_df[['hbcc_id', 'sample_id']].set_index('hbcc_id')['sample_id'].to_dict()\n",
    "    obs_id_df = obs_id_df.replace(to_replace=id_map_dict)\n",
    "    # for any sample ID's that are still the HBCC donor ID's set to unknown\n",
    "    obs_id_df.loc[obs_id_df.sample_id.str.startswith('NHBCC-'), 'sample_id'] = 'unknown'\n",
    "\n",
    "obs_id_df = obs_id_df.merge(info_df, how='left', \n",
    "                            left_on='sample_id', right_on='sample_id')\n",
    "print(f'obs IDs shape {obs_id_df.shape}')\n",
    "if DEBUG:\n",
    "    display(obs_id_df.head())\n",
    "    print(obs_id_df['sample_id'].value_counts())\n",
    "    print(obs_id_df['hbcc_id'].value_counts())\n",
    "    print(obs_id_df['sex'].value_counts())\n",
    "    print(obs_id_df['ancestry'].value_counts())\n",
    "    print(obs_id_df['age'].describe())    \n",
    "    print(obs_id_df['gex_pool'].value_counts())\n",
    "    print(obs_id_df['atac_pool'].value_counts())    \n",
    "    print(obs_id_df['smoker'].value_counts())\n",
    "    print(obs_id_df['pmi'].describe())\n",
    "    print(obs_id_df['ph'].describe())\n",
    "    print(obs_id_df['bmi'].describe())\n",
    "    print(obs_id_df['rin'].describe())    "
   ]
  },
  {
   "cell_type": "markdown",
   "id": "4899cf11",
   "metadata": {},
   "source": [
    "#### check that we aren't missing any barcodes"
   ]
  },
  {
   "cell_type": "code",
   "execution_count": null,
   "id": "b675f62e",
   "metadata": {
    "tags": []
   },
   "outputs": [],
   "source": [
    "set(adata.obs) - set(demux_df['BARCODE'])"
   ]
  },
  {
   "cell_type": "code",
   "execution_count": null,
   "id": "8034133b-1b8c-43ac-bae6-21233d9baf7d",
   "metadata": {
    "tags": []
   },
   "outputs": [],
   "source": [
    "obs_id_df.head()"
   ]
  },
  {
   "cell_type": "markdown",
   "id": "29b0c1a6",
   "metadata": {},
   "source": [
    "#### index the demultiplexed IDs with the anndata obs barcodes"
   ]
  },
  {
   "cell_type": "code",
   "execution_count": null,
   "id": "73cc73e3",
   "metadata": {
    "tags": []
   },
   "outputs": [],
   "source": [
    "obs_id_df = obs_id_df.set_index('BARCODE')\n",
    "obs_id_df = obs_id_df.reindex(adata.obs.index)\n",
    "# add columns for phase1 migrated pools compatibility later\n",
    "obs_id_df['phase1_cluster'] = 'NA'\n",
    "obs_id_df['phase1_celltype'] = 'NA'\n",
    "# fill any missing barcode IDs\n",
    "obs_id_df.sample_id = obs_id_df.sample_id.fillna('unknown')\n",
    "obs_id_df['donor_id'] = obs_id_df['hbcc_id']\n",
    "obs_id_df = obs_id_df.drop(columns=['hbcc_id'])\n",
    "print(f'modified obs IDs shape{obs_id_df.shape}')\n",
    "if DEBUG:\n",
    "    display(obs_id_df.head())"
   ]
  },
  {
   "cell_type": "code",
   "execution_count": null,
   "id": "07b844e9",
   "metadata": {
    "tags": []
   },
   "outputs": [],
   "source": [
    "obs_id_df.info()"
   ]
  },
  {
   "cell_type": "markdown",
   "id": "7d81b7a5",
   "metadata": {},
   "source": [
    "#### add the sample info from demultiplexing to the obs"
   ]
  },
  {
   "cell_type": "code",
   "execution_count": null,
   "id": "fdccb51e",
   "metadata": {
    "tags": []
   },
   "outputs": [],
   "source": [
    "adata.obs = concat([adata.obs, obs_id_df], axis='columns')"
   ]
  },
  {
   "cell_type": "code",
   "execution_count": null,
   "id": "8f19ef4a",
   "metadata": {
    "tags": []
   },
   "outputs": [],
   "source": [
    "adata.obs['donor_id'].value_counts()"
   ]
  },
  {
   "cell_type": "code",
   "execution_count": null,
   "id": "d1255b63",
   "metadata": {
    "tags": []
   },
   "outputs": [],
   "source": [
    "adata.obs['sample_id'].value_counts()"
   ]
  },
  {
   "cell_type": "markdown",
   "id": "da2b5e92",
   "metadata": {},
   "source": [
    "#### visualize the counts by sample"
   ]
  },
  {
   "cell_type": "code",
   "execution_count": null,
   "id": "ee570603",
   "metadata": {
    "tags": []
   },
   "outputs": [],
   "source": [
    "plot_sample_barcode_counts(adata.obs, pool_name, 'sample_id')"
   ]
  },
  {
   "cell_type": "code",
   "execution_count": null,
   "id": "9a24532e",
   "metadata": {
    "tags": []
   },
   "outputs": [],
   "source": [
    "plot_sample_barcode_counts(adata.obs, pool_name, 'donor_id')"
   ]
  },
  {
   "cell_type": "markdown",
   "id": "557a1848",
   "metadata": {},
   "source": [
    "#### filter out the doublet, ambiguous, and unknowns"
   ]
  },
  {
   "cell_type": "code",
   "execution_count": null,
   "id": "bac04eb5",
   "metadata": {
    "tags": []
   },
   "outputs": [],
   "source": [
    "# filtd_adata = adata[~adata.obs['sample_id'].isin(['doublet', 'unknown'])]\n",
    "# filtd_adata = adata[adata.obs['Sample_id'].isin(donor_list)].copy()\n",
    "filtd_adata = adata[~adata.obs['sample_id'].isna()].copy()\n",
    "filtd_adata"
   ]
  },
  {
   "cell_type": "code",
   "execution_count": null,
   "id": "e9453e79",
   "metadata": {
    "tags": []
   },
   "outputs": [],
   "source": [
    "filtd_adata.obs['sample_id'].value_counts()"
   ]
  },
  {
   "cell_type": "code",
   "execution_count": null,
   "id": "594ea666",
   "metadata": {
    "tags": []
   },
   "outputs": [],
   "source": [
    "filtd_adata.obs['donor_id'].value_counts()"
   ]
  },
  {
   "cell_type": "markdown",
   "id": "002b331a",
   "metadata": {},
   "source": [
    "#### visualize the counts by sample again without the doublets and unknowns"
   ]
  },
  {
   "cell_type": "code",
   "execution_count": null,
   "id": "ff357433",
   "metadata": {
    "tags": []
   },
   "outputs": [],
   "source": [
    "plot_sample_barcode_counts(filtd_adata.obs, pool_name)"
   ]
  },
  {
   "cell_type": "code",
   "execution_count": null,
   "id": "c54b7be3",
   "metadata": {
    "tags": []
   },
   "outputs": [],
   "source": [
    "plot_sample_barcode_counts(filtd_adata.obs, pool_name, 'donor_id')"
   ]
  },
  {
   "cell_type": "markdown",
   "id": "e82c9bde",
   "metadata": {},
   "source": [
    "#### save the modified anndata object"
   ]
  },
  {
   "cell_type": "code",
   "execution_count": null,
   "id": "a3d672fe",
   "metadata": {
    "tags": []
   },
   "outputs": [],
   "source": [
    "filtd_adata.write(output_file)"
   ]
  },
  {
   "cell_type": "code",
   "execution_count": null,
   "id": "8d5a576a",
   "metadata": {
    "tags": []
   },
   "outputs": [],
   "source": [
    "filtd_adata"
   ]
  },
  {
   "cell_type": "code",
   "execution_count": null,
   "id": "2d287914",
   "metadata": {
    "tags": []
   },
   "outputs": [],
   "source": [
    "!date"
   ]
  }
 ],
 "metadata": {
  "environment": {
   "name": "common-cpu.m65",
   "type": "gcloud",
   "uri": "gcr.io/deeplearning-platform-release/base-cpu:m65"
  },
  "kernelspec": {
   "display_name": "Python 3 (ipykernel)",
   "language": "python",
   "name": "python3"
  },
  "language_info": {
   "codemirror_mode": {
    "name": "ipython",
    "version": 3
   },
   "file_extension": ".py",
   "mimetype": "text/x-python",
   "name": "python",
   "nbconvert_exporter": "python",
   "pygments_lexer": "ipython3",
   "version": "3.12.2"
  }
 },
 "nbformat": 4,
 "nbformat_minor": 5
}
