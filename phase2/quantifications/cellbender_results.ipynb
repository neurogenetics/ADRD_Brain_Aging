{
 "cells": [
  {
   "cell_type": "markdown",
   "id": "480caee8-be67-4533-a7d7-660179b8f78f",
   "metadata": {},
   "source": [
    "## Notebook to inspect the output from a the Cellbender runs of pooled GEX and non-pooled ARC samples\n",
    "\n",
    "- see how many of the predicted empty cells (ambient RNA) actually passed Cellranger filtering and are uncertain in cell-type assignment\n",
    "\n",
    "- Cellbender was run on cloud using google life sciences batch submission with Cellbender WDL"
   ]
  },
  {
   "cell_type": "code",
   "execution_count": null,
   "id": "7c78ecae-3f22-4ae7-bc55-8a1551f83964",
   "metadata": {},
   "outputs": [],
   "source": [
    "!date"
   ]
  },
  {
   "cell_type": "markdown",
   "id": "85eb0bed-3426-4b4c-ba97-ccede8b9acc4",
   "metadata": {},
   "source": [
    "#### import libraries"
   ]
  },
  {
   "cell_type": "code",
   "execution_count": null,
   "id": "75bc461a-20ad-4878-b252-09c8c673ebc5",
   "metadata": {},
   "outputs": [],
   "source": [
    "from pandas import read_csv\n",
    "from os.path import exists\n",
    "from pandas import DataFrame, concat\n",
    "from seaborn import barplot\n",
    "import matplotlib.pyplot as plt\n",
    "from matplotlib.pyplot import rc_context"
   ]
  },
  {
   "cell_type": "markdown",
   "id": "a47ab878-7cf4-4bf3-b83d-4c3390f8aed0",
   "metadata": {},
   "source": [
    "#### set notebook variables"
   ]
  },
  {
   "cell_type": "code",
   "execution_count": null,
   "id": "c10df661-47cc-43b7-86a0-9eb8ed0bade3",
   "metadata": {},
   "outputs": [],
   "source": [
    "# naming\n",
    "project = 'aging_phase2'\n",
    "\n",
    "# directories for initial setup\n",
    "wrk_dir = '/labshare/raph/datasets/adrd_neuro/brain_aging/phase2'\n",
    "demux_dir = f'{wrk_dir}/demux'\n",
    "cellbend_dir = f'{wrk_dir}/cellbender'\n",
    "info_dir = f'{wrk_dir}/sample_info'\n",
    "src_data_dir = f'{wrk_dir}/src_data/'\n",
    "\n",
    "# in files\n",
    "info_file = f'{info_dir}/{project}.sample_info.csv'\n",
    "\n",
    "# out files\n",
    "\n",
    "# constants\n",
    "DEBUG = False\n",
    "lane_range = range(1, 9)"
   ]
  },
  {
   "cell_type": "markdown",
   "id": "ef45657e-8e4e-44e5-a077-5357e093a9bb",
   "metadata": {},
   "source": [
    "### load data"
   ]
  },
  {
   "cell_type": "markdown",
   "id": "542a72e7-dee2-4391-9afa-588d456900f2",
   "metadata": {},
   "source": [
    "### load the sample info data"
   ]
  },
  {
   "cell_type": "code",
   "execution_count": null,
   "id": "d75c5c57-a3eb-4464-8e4d-fc45076e19a4",
   "metadata": {
    "tags": []
   },
   "outputs": [],
   "source": [
    "info_df = read_csv(info_file)\n",
    "print(f'shape of info {info_df.shape}')\n",
    "if DEBUG:\n",
    "    display(info_df.head())\n",
    "    display(info_df.gex_pool.value_counts())\n",
    "    display(info_df.loc[info_df.gex_pool.isna()].sample_id.unique())"
   ]
  },
  {
   "cell_type": "markdown",
   "id": "14451d69-4659-492a-9525-7613a72f4724",
   "metadata": {},
   "source": [
    "##### setup the pool names for file finding"
   ]
  },
  {
   "cell_type": "code",
   "execution_count": null,
   "id": "4e10b4d1-6732-47e1-aece-b09744bbdac8",
   "metadata": {},
   "outputs": [],
   "source": [
    "cellbender_names = []\n",
    "for pool in info_df.loc[~info_df.gex_pool.isna()].gex_pool.unique():\n",
    "    for lane in lane_range:\n",
    "        pool_name = f'sample_ec_GEX_P{int(pool)}_{lane}'\n",
    "        cellbender_names.append(pool_name)\n",
    "unpooled_info_df = info_df.loc[info_df.gex_pool.isna()]\n",
    "for row in unpooled_info_df.itertuples():\n",
    "    arc_name = row.sample_id.replace('Aging', 'Ag') + '_arc'\n",
    "    cellbender_names.append(arc_name)\n",
    "print(f'{len(cellbender_names)} named Cellbender results expected')\n",
    "if DEBUG:\n",
    "    display(cellbender_names)"
   ]
  },
  {
   "cell_type": "markdown",
   "id": "b3c400a0-5fe1-45f6-8b6e-a8ecf0ea3c9e",
   "metadata": {},
   "source": [
    "#### load Cellbender results"
   ]
  },
  {
   "cell_type": "code",
   "execution_count": null,
   "id": "159a9eea-3962-4a10-a57c-ee44c12096c2",
   "metadata": {},
   "outputs": [],
   "source": [
    "cellbender_barcodes = {}\n",
    "for sample in cellbender_names:\n",
    "    this_file = f'{cellbend_dir}/{sample}_out_cell_barcodes.csv'\n",
    "    if exists(this_file):\n",
    "        cb_barcodes = read_csv(this_file, header=None)\n",
    "        print(sample, cb_barcodes.shape[0])\n",
    "        cellbender_barcodes[sample] = cb_barcodes"
   ]
  },
  {
   "cell_type": "markdown",
   "id": "d9fda467-5f8d-4367-b4ca-2b2fb67be987",
   "metadata": {},
   "source": [
    "#### load the demx results to get 10X and demux filtered results\n",
    "here can just go ahead and load demux best files since demux is run based on the 10X filtered barcodes"
   ]
  },
  {
   "cell_type": "code",
   "execution_count": null,
   "id": "97b0b756-9302-43e9-9249-ac1bd25a14e6",
   "metadata": {},
   "outputs": [],
   "source": [
    "demux_barcodes = {}\n",
    "for sample in cellbender_barcodes:\n",
    "    new_name = sample.replace('sample_ec_', '')\n",
    "    this_file = f'{demux_dir}/{new_name}.best'\n",
    "    if exists(this_file):\n",
    "        these_barcodes = read_csv(this_file, sep='\\t')\n",
    "        print(new_name, these_barcodes.shape)\n",
    "        demux_barcodes[new_name] = these_barcodes"
   ]
  },
  {
   "cell_type": "markdown",
   "id": "ce4ff715-2533-45c7-a83e-4a5dd6a370a1",
   "metadata": {},
   "source": [
    "### determine number of possible empty cells not filtered by 10X\n",
    "and those that didn't drop out during genotype demultiplexing"
   ]
  },
  {
   "cell_type": "code",
   "execution_count": null,
   "id": "0218c457-ce33-40f0-8b03-b5ffa2c917d1",
   "metadata": {},
   "outputs": [],
   "source": [
    "tenx_empties = {}\n",
    "tenx_fracs = {}\n",
    "demux_empties = {}\n",
    "demux_fracs = {}\n",
    "for sample in demux_barcodes:\n",
    "    print(sample)\n",
    "    cb_cells = set(cellbender_barcodes.get(f'sample_ec_{sample}')[0].values)\n",
    "    demux_data = demux_barcodes.get(sample)\n",
    "    demux_assigned = demux_data.loc[demux_data['DROPLET.TYPE'] == 'SNG']\n",
    "    tenx_cells = set(demux_data.BARCODE.values)\n",
    "    demux_cells = set(demux_assigned.BARCODE.values)\n",
    "    tenx_empties[sample] = tenx_cells - cb_cells\n",
    "    demux_empties[sample] = demux_cells - cb_cells\n",
    "    tenx_fracs[sample] = round(len(tenx_empties[sample])/len(tenx_cells), 3)\n",
    "    demux_fracs[sample] = round(len(demux_empties[sample])/len(demux_cells), 3)\n",
    "    if DEBUG:\n",
    "        print(f'10x empties retained = {len(tenx_empties[sample])}')\n",
    "        print(f'10x empties retained fraction = {tenx_fracs[sample]}')\n",
    "        print(f'demuxlet empties retained = {len(demux_empties[sample])}')\n",
    "        print(f'demuxlet empties retained fraction = {demux_fracs[sample]}')"
   ]
  },
  {
   "cell_type": "markdown",
   "id": "e9aa8429-866d-4ec0-99af-544043eeb9c3",
   "metadata": {},
   "source": [
    "#### add in the non-pooled ARC samples"
   ]
  },
  {
   "cell_type": "code",
   "execution_count": null,
   "id": "b54a6140-819c-45c1-8fc2-725c22b38077",
   "metadata": {},
   "outputs": [],
   "source": [
    "for sample in cellbender_names:\n",
    "    arc_name = sample.replace('Aging', 'Ag')\n",
    "    if exists(f'{src_data_dir}/arc/{arc_name}'):\n",
    "        print(sample)\n",
    "        arc_barcodes = read_csv((f'{src_data_dir}/arc/{arc_name}/outs/'\n",
    "                                 f'filtered_feature_bc_matrix/barcodes.tsv.gz'),\n",
    "                                header=None)\n",
    "        arc_barcodes.columns = ['barcode']\n",
    "        print(sample, arc_barcodes.shape)\n",
    "        cb_cells = set(cellbender_barcodes.get(sample)[0])\n",
    "        tenx_cells = set(arc_barcodes.barcode)\n",
    "        tenx_empties[sample] = tenx_cells - cb_cells\n",
    "        tenx_fracs[sample] = round(len(tenx_empties[sample])/len(tenx_cells), 3)\n",
    "        if DEBUG:\n",
    "            print(f'10x empties retained = {len(tenx_empties[sample])}')\n",
    "            print(f'10x empties retained fraction = {tenx_fracs[sample]}')"
   ]
  },
  {
   "cell_type": "markdown",
   "id": "92266659-ec92-476d-9360-cb442733bae3",
   "metadata": {},
   "source": [
    "### visualize the retained empties"
   ]
  },
  {
   "cell_type": "code",
   "execution_count": null,
   "id": "a0a7bcba-a17e-40a7-8811-860c8901b698",
   "metadata": {},
   "outputs": [],
   "source": [
    "with rc_context({'figure.figsize': (9, 9)}):\n",
    "    df1 = DataFrame.from_dict(tenx_fracs, orient='index', columns=['frac'])\n",
    "    df1['type'] = '10X filtered'\n",
    "    df2 = DataFrame.from_dict(demux_fracs, orient='index', columns=['frac'])\n",
    "    df2['type'] = 'demuxlet SNG'\n",
    "    df = concat([df1, df2])\n",
    "    df['percent'] = df.frac * 100\n",
    "    display(df.groupby('type').percent.mean())\n",
    "    barplot(x=df.index, y='percent', hue='type', data=df, palette='Purples')\n",
    "    plt.grid(axis='y')\n",
    "    plt.xticks(rotation=90)\n",
    "    plt.tight_layout()\n",
    "    plt.ylabel('percent empty')\n",
    "    plt.title('Retained ambient RNA post 10X and demuxlet filtering')\n",
    "    plt.show()"
   ]
  },
  {
   "cell_type": "markdown",
   "id": "d015fd8b-97b2-4b4b-9891-75850feddefd",
   "metadata": {},
   "source": [
    "### did the large portion of empties filtered by demuxlet go to AMB or DBL cell-types"
   ]
  },
  {
   "cell_type": "code",
   "execution_count": null,
   "id": "70b65340-d34d-4444-90c4-6f1a54922d95",
   "metadata": {},
   "outputs": [],
   "source": [
    "sng_fracs = {}\n",
    "amb_fracs = {}\n",
    "dbl_fracs = {}\n",
    "for sample in demux_barcodes:\n",
    "    print(sample)\n",
    "    cb_cells = set(cellbender_barcodes.get(f'sample_ec_{sample}')[0].values)\n",
    "    demux_data = demux_barcodes.get(sample)\n",
    "    tenx_cells = set(demux_data.BARCODE.values)\n",
    "    demux_sng = set(demux_data.loc[demux_data['DROPLET.TYPE'] == 'SNG'].BARCODE.values)\n",
    "    demux_amb = set(demux_data.loc[demux_data['DROPLET.TYPE'] == 'AMB'].BARCODE.values)\n",
    "    demux_dbl = set(demux_data.loc[demux_data['DROPLET.TYPE'] == 'DBL'].BARCODE.values)\n",
    "    sng_fracs[sample] = round(len(demux_sng - cb_cells)/len(demux_sng), 3)\n",
    "    amb_fracs[sample] = round(len(demux_amb - cb_cells)/len(demux_amb), 3)\n",
    "    dbl_fracs[sample] = round(len(demux_dbl - cb_cells)/len(demux_dbl), 3)\n",
    "    if DEBUG:\n",
    "        print(f'singlet empties retained fraction = {sng_fracs[sample]}')\n",
    "        print(f'ambiguous empties retained fraction = {amb_fracs[sample]}')\n",
    "        print(f'doublet empties retained fraction = {dbl_fracs[sample]}')"
   ]
  },
  {
   "cell_type": "markdown",
   "id": "acdffcdc-62a4-4163-b5fe-da63c384bf44",
   "metadata": {},
   "source": [
    "#### visualize where they went"
   ]
  },
  {
   "cell_type": "code",
   "execution_count": null,
   "id": "85b1cf6b-874a-4bda-b482-199c4829b34c",
   "metadata": {},
   "outputs": [],
   "source": [
    "with rc_context({'figure.figsize': (9, 9)}):\n",
    "    df1 = DataFrame.from_dict(sng_fracs, orient='index', columns=['frac'])\n",
    "    df1['type'] = 'SNG'\n",
    "    df2 = DataFrame.from_dict(amb_fracs, orient='index', columns=['frac'])\n",
    "    df2['type'] = 'AMB'\n",
    "    df3 = DataFrame.from_dict(dbl_fracs, orient='index', columns=['frac'])\n",
    "    df3['type'] = 'DBL'\n",
    "    df = concat([df1, df2, df3])\n",
    "    df['percent'] = df.frac * 100\n",
    "    display(df.groupby('type').percent.mean())\n",
    "    barplot(x=df.index, y='percent', hue='type', data=df, palette='Purples')\n",
    "    plt.grid(axis='y')\n",
    "    plt.xticks(rotation=90)\n",
    "    plt.tight_layout()\n",
    "    plt.ylabel('percent empty')\n",
    "    plt.title('demuxlet assignment of empty cells')\n",
    "    plt.show()"
   ]
  },
  {
   "cell_type": "code",
   "execution_count": null,
   "id": "cfd83af4-f98a-4bc3-b75c-9821dfff66f6",
   "metadata": {},
   "outputs": [],
   "source": [
    "!date"
   ]
  }
 ],
 "metadata": {
  "kernelspec": {
   "display_name": "Python 3 (ipykernel)",
   "language": "python",
   "name": "python3"
  },
  "language_info": {
   "codemirror_mode": {
    "name": "ipython",
    "version": 3
   },
   "file_extension": ".py",
   "mimetype": "text/x-python",
   "name": "python",
   "nbconvert_exporter": "python",
   "pygments_lexer": "ipython3",
   "version": "3.9.18"
  }
 },
 "nbformat": 4,
 "nbformat_minor": 5
}
