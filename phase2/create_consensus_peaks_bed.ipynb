{
 "cells": [
  {
   "cell_type": "markdown",
   "id": "0ea31269-5e23-49be-bf11-82476ba503e4",
   "metadata": {},
   "source": [
    "# Notebook to create a consensus peak bed file from the aggregated ARC and ATAC peak sets"
   ]
  },
  {
   "cell_type": "code",
   "execution_count": 1,
   "id": "12b666cc-537e-4d66-9cef-e19daa74820a",
   "metadata": {
    "tags": []
   },
   "outputs": [
    {
     "name": "stdout",
     "output_type": "stream",
     "text": [
      "Mon Jul 31 12:01:39 EDT 2023\n"
     ]
    }
   ],
   "source": [
    "!date"
   ]
  },
  {
   "cell_type": "markdown",
   "id": "bf039d9a-6e3e-4ab7-bac5-4982da6732d9",
   "metadata": {},
   "source": [
    "#### import libraries"
   ]
  },
  {
   "cell_type": "code",
   "execution_count": 2,
   "id": "42c6377a-dd4e-46b4-bf64-40ab7795d68b",
   "metadata": {
    "tags": []
   },
   "outputs": [],
   "source": [
    "from pandas import read_csv, concat\n",
    "from pybedtools import BedTool"
   ]
  },
  {
   "cell_type": "markdown",
   "id": "ae972462-cd63-41ed-b3c0-cbf025158a14",
   "metadata": {},
   "source": [
    "#### set notebook variables"
   ]
  },
  {
   "cell_type": "code",
   "execution_count": 3,
   "id": "9cbe4a1e-0fd4-4be7-94bc-e6005f7a3b87",
   "metadata": {
    "tags": []
   },
   "outputs": [],
   "source": [
    "# naming\n",
    "proj_name = 'aging_phase2'\n",
    "\n",
    "# directories\n",
    "wrk_dir = '/labshare/raph/datasets/adrd_neuro/brain_aging/phase2'\n",
    "\n",
    "# in files\n",
    "arc_bed_file = f'{wrk_dir}/src_data/arc/aging_phase2_arc_aggr/outs/atac_peaks.bed'\n",
    "atac_bed_file = f'{wrk_dir}/src_data/atac/aging_phase2_atac_aggr/outs/peaks.bed'\n",
    "\n",
    "# out files \n",
    "consensus_bed_file = f'{wrk_dir}/src_data/{proj_name}_consensus_atac_peaks.bed'\n",
    "\n",
    "# variables\n",
    "DEBUG = True\n",
    "max_bp_dist = 2"
   ]
  },
  {
   "cell_type": "markdown",
   "id": "b6fd21bd-fbaf-4eb3-ad9b-a96604a26d02",
   "metadata": {},
   "source": [
    "### load the ARC peaks"
   ]
  },
  {
   "cell_type": "code",
   "execution_count": 4,
   "id": "7e13d1fb-12f7-4119-85cd-18a1169e5794",
   "metadata": {
    "tags": []
   },
   "outputs": [
    {
     "name": "stdout",
     "output_type": "stream",
     "text": [
      "arc peaks shape (134600, 3)\n"
     ]
    },
    {
     "data": {
      "text/plain": [
       "count    134600.000000\n",
       "mean        851.666263\n",
       "std          87.127190\n",
       "min         114.000000\n",
       "25%         829.000000\n",
       "50%         873.000000\n",
       "75%         902.000000\n",
       "max        1672.000000\n",
       "dtype: float64"
      ]
     },
     "metadata": {},
     "output_type": "display_data"
    },
    {
     "data": {
      "text/html": [
       "<div>\n",
       "<style scoped>\n",
       "    .dataframe tbody tr th:only-of-type {\n",
       "        vertical-align: middle;\n",
       "    }\n",
       "\n",
       "    .dataframe tbody tr th {\n",
       "        vertical-align: top;\n",
       "    }\n",
       "\n",
       "    .dataframe thead th {\n",
       "        text-align: right;\n",
       "    }\n",
       "</style>\n",
       "<table border=\"1\" class=\"dataframe\">\n",
       "  <thead>\n",
       "    <tr style=\"text-align: right;\">\n",
       "      <th></th>\n",
       "      <th>chrom</th>\n",
       "      <th>start</th>\n",
       "      <th>end</th>\n",
       "    </tr>\n",
       "  </thead>\n",
       "  <tbody>\n",
       "    <tr>\n",
       "      <th>0</th>\n",
       "      <td>chr1</td>\n",
       "      <td>9771</td>\n",
       "      <td>10662</td>\n",
       "    </tr>\n",
       "    <tr>\n",
       "      <th>1</th>\n",
       "      <td>chr1</td>\n",
       "      <td>180569</td>\n",
       "      <td>181343</td>\n",
       "    </tr>\n",
       "    <tr>\n",
       "      <th>2</th>\n",
       "      <td>chr1</td>\n",
       "      <td>191022</td>\n",
       "      <td>191921</td>\n",
       "    </tr>\n",
       "    <tr>\n",
       "      <th>3</th>\n",
       "      <td>chr1</td>\n",
       "      <td>628945</td>\n",
       "      <td>629664</td>\n",
       "    </tr>\n",
       "    <tr>\n",
       "      <th>4</th>\n",
       "      <td>chr1</td>\n",
       "      <td>629696</td>\n",
       "      <td>630272</td>\n",
       "    </tr>\n",
       "  </tbody>\n",
       "</table>\n",
       "</div>"
      ],
      "text/plain": [
       "  chrom   start     end\n",
       "0  chr1    9771   10662\n",
       "1  chr1  180569  181343\n",
       "2  chr1  191022  191921\n",
       "3  chr1  628945  629664\n",
       "4  chr1  629696  630272"
      ]
     },
     "metadata": {},
     "output_type": "display_data"
    }
   ],
   "source": [
    "arc_df = read_csv(arc_bed_file, comment='#', delimiter='\\s+', header=None)\n",
    "arc_df.columns = ['chrom', 'start', 'end']\n",
    "print(f'arc peaks shape {arc_df.shape}')\n",
    "# look at the lengths\n",
    "arc_lengths = arc_df.end - arc_df.start\n",
    "display(arc_lengths.describe())\n",
    "\n",
    "if DEBUG:\n",
    "    display(arc_df.head())"
   ]
  },
  {
   "cell_type": "markdown",
   "id": "bc7096b4-94f9-41f5-b035-7df65e7db363",
   "metadata": {},
   "source": [
    "### load the ATAC peaks"
   ]
  },
  {
   "cell_type": "code",
   "execution_count": 5,
   "id": "0c02d649-9322-4453-ba26-b43491e23598",
   "metadata": {
    "tags": []
   },
   "outputs": [
    {
     "name": "stdout",
     "output_type": "stream",
     "text": [
      "arc peaks shape (214269, 3)\n"
     ]
    },
    {
     "data": {
      "text/plain": [
       "count    214269.000000\n",
       "mean        837.433497\n",
       "std          95.600131\n",
       "min         126.000000\n",
       "25%         811.000000\n",
       "50%         865.000000\n",
       "75%         898.000000\n",
       "max        2108.000000\n",
       "dtype: float64"
      ]
     },
     "metadata": {},
     "output_type": "display_data"
    },
    {
     "data": {
      "text/html": [
       "<div>\n",
       "<style scoped>\n",
       "    .dataframe tbody tr th:only-of-type {\n",
       "        vertical-align: middle;\n",
       "    }\n",
       "\n",
       "    .dataframe tbody tr th {\n",
       "        vertical-align: top;\n",
       "    }\n",
       "\n",
       "    .dataframe thead th {\n",
       "        text-align: right;\n",
       "    }\n",
       "</style>\n",
       "<table border=\"1\" class=\"dataframe\">\n",
       "  <thead>\n",
       "    <tr style=\"text-align: right;\">\n",
       "      <th></th>\n",
       "      <th>chrom</th>\n",
       "      <th>start</th>\n",
       "      <th>end</th>\n",
       "    </tr>\n",
       "  </thead>\n",
       "  <tbody>\n",
       "    <tr>\n",
       "      <th>0</th>\n",
       "      <td>chr1</td>\n",
       "      <td>180641</td>\n",
       "      <td>181334</td>\n",
       "    </tr>\n",
       "    <tr>\n",
       "      <th>1</th>\n",
       "      <td>chr1</td>\n",
       "      <td>191027</td>\n",
       "      <td>191926</td>\n",
       "    </tr>\n",
       "    <tr>\n",
       "      <th>2</th>\n",
       "      <td>chr1</td>\n",
       "      <td>628886</td>\n",
       "      <td>629684</td>\n",
       "    </tr>\n",
       "    <tr>\n",
       "      <th>3</th>\n",
       "      <td>chr1</td>\n",
       "      <td>631954</td>\n",
       "      <td>632845</td>\n",
       "    </tr>\n",
       "    <tr>\n",
       "      <th>4</th>\n",
       "      <td>chr1</td>\n",
       "      <td>633587</td>\n",
       "      <td>634583</td>\n",
       "    </tr>\n",
       "  </tbody>\n",
       "</table>\n",
       "</div>"
      ],
      "text/plain": [
       "  chrom   start     end\n",
       "0  chr1  180641  181334\n",
       "1  chr1  191027  191926\n",
       "2  chr1  628886  629684\n",
       "3  chr1  631954  632845\n",
       "4  chr1  633587  634583"
      ]
     },
     "metadata": {},
     "output_type": "display_data"
    }
   ],
   "source": [
    "atac_df = read_csv(atac_bed_file, comment='#', delimiter='\\s+', header=None)\n",
    "atac_df.columns = ['chrom', 'start', 'end']\n",
    "print(f'arc peaks shape {atac_df.shape}')\n",
    "# look at the lengths\n",
    "atac_lengths = atac_df.end - atac_df.start\n",
    "display(atac_lengths.describe())\n",
    "\n",
    "if DEBUG:\n",
    "    display(atac_df.head())"
   ]
  },
  {
   "cell_type": "markdown",
   "id": "38d1cd35-6790-4675-b951-5784fd6879f4",
   "metadata": {},
   "source": [
    "### find and keep the contig sort order, should match the reference that was used"
   ]
  },
  {
   "cell_type": "code",
   "execution_count": 6,
   "id": "f5a9f501-6d64-4786-81bb-e51e7dbfcd62",
   "metadata": {
    "tags": []
   },
   "outputs": [
    {
     "name": "stdout",
     "output_type": "stream",
     "text": [
      "['chr1', 'chr10', 'chr11', 'chr12', 'chr13', 'chr14', 'chr15', 'chr16', 'chr17', 'chr18', 'chr19', 'chr2', 'chr20', 'chr21', 'chr22', 'chr3', 'chr4', 'chr5', 'chr6', 'chr7', 'chr8', 'chr9', 'chrX', 'chrY', 'KI270728.1', 'KI270727.1', 'GL000009.2', 'GL000194.1', 'GL000205.2', 'GL000195.1', 'GL000219.1', 'KI270734.1', 'GL000213.1', 'GL000218.1', 'KI270731.1', 'KI270721.1', 'KI270726.1', 'KI270711.1', 'KI270713.1']\n"
     ]
    }
   ],
   "source": [
    "contigs = []\n",
    "with open(arc_bed_file, 'r') as file:\n",
    "    for line in file:\n",
    "        if not line.startswith('#'):\n",
    "            break\n",
    "        elif line.startswith('# primary_contig='):\n",
    "            this_chrom = line.replace('# primary_contig=', '').strip()\n",
    "            contigs.append(this_chrom)\n",
    "print(contigs)"
   ]
  },
  {
   "cell_type": "markdown",
   "id": "e0cbe798-cac5-4b46-948f-856a66bd429b",
   "metadata": {},
   "source": [
    "### concatenate the peak sets"
   ]
  },
  {
   "cell_type": "code",
   "execution_count": 7,
   "id": "e964b790-57dc-4520-a763-9bc11af1df92",
   "metadata": {
    "tags": []
   },
   "outputs": [
    {
     "name": "stdout",
     "output_type": "stream",
     "text": [
      "peaks shape (348869, 3)\n"
     ]
    },
    {
     "data": {
      "text/html": [
       "<div>\n",
       "<style scoped>\n",
       "    .dataframe tbody tr th:only-of-type {\n",
       "        vertical-align: middle;\n",
       "    }\n",
       "\n",
       "    .dataframe tbody tr th {\n",
       "        vertical-align: top;\n",
       "    }\n",
       "\n",
       "    .dataframe thead th {\n",
       "        text-align: right;\n",
       "    }\n",
       "</style>\n",
       "<table border=\"1\" class=\"dataframe\">\n",
       "  <thead>\n",
       "    <tr style=\"text-align: right;\">\n",
       "      <th></th>\n",
       "      <th>chrom</th>\n",
       "      <th>start</th>\n",
       "      <th>end</th>\n",
       "    </tr>\n",
       "  </thead>\n",
       "  <tbody>\n",
       "    <tr>\n",
       "      <th>134557</th>\n",
       "      <td>GL000194.1</td>\n",
       "      <td>55817</td>\n",
       "      <td>56628</td>\n",
       "    </tr>\n",
       "    <tr>\n",
       "      <th>214221</th>\n",
       "      <td>GL000194.1</td>\n",
       "      <td>55831</td>\n",
       "      <td>56657</td>\n",
       "    </tr>\n",
       "    <tr>\n",
       "      <th>134558</th>\n",
       "      <td>GL000194.1</td>\n",
       "      <td>58189</td>\n",
       "      <td>58986</td>\n",
       "    </tr>\n",
       "    <tr>\n",
       "      <th>214222</th>\n",
       "      <td>GL000194.1</td>\n",
       "      <td>58214</td>\n",
       "      <td>58991</td>\n",
       "    </tr>\n",
       "    <tr>\n",
       "      <th>134559</th>\n",
       "      <td>GL000194.1</td>\n",
       "      <td>59547</td>\n",
       "      <td>60495</td>\n",
       "    </tr>\n",
       "  </tbody>\n",
       "</table>\n",
       "</div>"
      ],
      "text/plain": [
       "             chrom  start    end\n",
       "134557  GL000194.1  55817  56628\n",
       "214221  GL000194.1  55831  56657\n",
       "134558  GL000194.1  58189  58986\n",
       "214222  GL000194.1  58214  58991\n",
       "134559  GL000194.1  59547  60495"
      ]
     },
     "metadata": {},
     "output_type": "display_data"
    }
   ],
   "source": [
    "peaks_df = concat([arc_df, atac_df])\n",
    "peaks_df = peaks_df.sort_values(by=list(peaks_df.columns),axis=0)\n",
    "print(f'peaks shape {peaks_df.shape}')\n",
    "\n",
    "if DEBUG:\n",
    "    display(peaks_df.head())"
   ]
  },
  {
   "cell_type": "markdown",
   "id": "084830a3-cf50-49d1-8d96-5f45213528df",
   "metadata": {},
   "source": [
    "### merge peaks into consensus\n",
    "- using bedtools"
   ]
  },
  {
   "cell_type": "code",
   "execution_count": 8,
   "id": "3e20d9c0-b8c3-466a-9e5e-b30d8765d085",
   "metadata": {
    "tags": []
   },
   "outputs": [
    {
     "name": "stdout",
     "output_type": "stream",
     "text": [
      "348869\n",
      "3\n"
     ]
    },
    {
     "data": {
      "text/html": [
       "<div>\n",
       "<style scoped>\n",
       "    .dataframe tbody tr th:only-of-type {\n",
       "        vertical-align: middle;\n",
       "    }\n",
       "\n",
       "    .dataframe tbody tr th {\n",
       "        vertical-align: top;\n",
       "    }\n",
       "\n",
       "    .dataframe thead th {\n",
       "        text-align: right;\n",
       "    }\n",
       "</style>\n",
       "<table border=\"1\" class=\"dataframe\">\n",
       "  <thead>\n",
       "    <tr style=\"text-align: right;\">\n",
       "      <th></th>\n",
       "      <th>chrom</th>\n",
       "      <th>start</th>\n",
       "      <th>end</th>\n",
       "    </tr>\n",
       "  </thead>\n",
       "  <tbody>\n",
       "    <tr>\n",
       "      <th>0</th>\n",
       "      <td>GL000194.1</td>\n",
       "      <td>55817</td>\n",
       "      <td>56628</td>\n",
       "    </tr>\n",
       "    <tr>\n",
       "      <th>1</th>\n",
       "      <td>GL000194.1</td>\n",
       "      <td>55831</td>\n",
       "      <td>56657</td>\n",
       "    </tr>\n",
       "    <tr>\n",
       "      <th>2</th>\n",
       "      <td>GL000194.1</td>\n",
       "      <td>58189</td>\n",
       "      <td>58986</td>\n",
       "    </tr>\n",
       "    <tr>\n",
       "      <th>3</th>\n",
       "      <td>GL000194.1</td>\n",
       "      <td>58214</td>\n",
       "      <td>58991</td>\n",
       "    </tr>\n",
       "    <tr>\n",
       "      <th>4</th>\n",
       "      <td>GL000194.1</td>\n",
       "      <td>59547</td>\n",
       "      <td>60495</td>\n",
       "    </tr>\n",
       "  </tbody>\n",
       "</table>\n",
       "</div>"
      ],
      "text/plain": [
       "        chrom  start    end\n",
       "0  GL000194.1  55817  56628\n",
       "1  GL000194.1  55831  56657\n",
       "2  GL000194.1  58189  58986\n",
       "3  GL000194.1  58214  58991\n",
       "4  GL000194.1  59547  60495"
      ]
     },
     "metadata": {},
     "output_type": "display_data"
    }
   ],
   "source": [
    "peaks_bed = BedTool.from_dataframe(peaks_df)\n",
    "print(peaks_bed.count())\n",
    "print(peaks_bed.field_count())\n",
    "if DEBUG:\n",
    "    display(peaks_bed.to_dataframe().head())"
   ]
  },
  {
   "cell_type": "code",
   "execution_count": 9,
   "id": "faefff7e-a06f-430f-86dd-a385d7debdf3",
   "metadata": {
    "tags": []
   },
   "outputs": [
    {
     "name": "stdout",
     "output_type": "stream",
     "text": [
      "221430\n",
      "3\n"
     ]
    },
    {
     "data": {
      "text/html": [
       "<div>\n",
       "<style scoped>\n",
       "    .dataframe tbody tr th:only-of-type {\n",
       "        vertical-align: middle;\n",
       "    }\n",
       "\n",
       "    .dataframe tbody tr th {\n",
       "        vertical-align: top;\n",
       "    }\n",
       "\n",
       "    .dataframe thead th {\n",
       "        text-align: right;\n",
       "    }\n",
       "</style>\n",
       "<table border=\"1\" class=\"dataframe\">\n",
       "  <thead>\n",
       "    <tr style=\"text-align: right;\">\n",
       "      <th></th>\n",
       "      <th>chrom</th>\n",
       "      <th>start</th>\n",
       "      <th>end</th>\n",
       "    </tr>\n",
       "  </thead>\n",
       "  <tbody>\n",
       "    <tr>\n",
       "      <th>0</th>\n",
       "      <td>GL000194.1</td>\n",
       "      <td>55817</td>\n",
       "      <td>56657</td>\n",
       "    </tr>\n",
       "    <tr>\n",
       "      <th>1</th>\n",
       "      <td>GL000194.1</td>\n",
       "      <td>58189</td>\n",
       "      <td>58991</td>\n",
       "    </tr>\n",
       "    <tr>\n",
       "      <th>2</th>\n",
       "      <td>GL000194.1</td>\n",
       "      <td>59547</td>\n",
       "      <td>60505</td>\n",
       "    </tr>\n",
       "    <tr>\n",
       "      <th>3</th>\n",
       "      <td>GL000194.1</td>\n",
       "      <td>67008</td>\n",
       "      <td>67944</td>\n",
       "    </tr>\n",
       "    <tr>\n",
       "      <th>4</th>\n",
       "      <td>GL000194.1</td>\n",
       "      <td>68209</td>\n",
       "      <td>69035</td>\n",
       "    </tr>\n",
       "  </tbody>\n",
       "</table>\n",
       "</div>"
      ],
      "text/plain": [
       "        chrom  start    end\n",
       "0  GL000194.1  55817  56657\n",
       "1  GL000194.1  58189  58991\n",
       "2  GL000194.1  59547  60505\n",
       "3  GL000194.1  67008  67944\n",
       "4  GL000194.1  68209  69035"
      ]
     },
     "metadata": {},
     "output_type": "display_data"
    }
   ],
   "source": [
    "consensus_peaks_bed = peaks_bed.merge(d=max_bp_dist)\n",
    "print(consensus_peaks_bed.count())\n",
    "print(consensus_peaks_bed.field_count())\n",
    "if DEBUG:\n",
    "    display(consensus_peaks_bed.to_dataframe().head())"
   ]
  },
  {
   "cell_type": "markdown",
   "id": "44bc1275-54d2-4d5e-afd7-9ad8980be0f5",
   "metadata": {},
   "source": [
    "### compute peak interal summary stats"
   ]
  },
  {
   "cell_type": "code",
   "execution_count": 10,
   "id": "3e522796-ab8c-4c9b-ad4b-b7a69a602432",
   "metadata": {
    "tags": []
   },
   "outputs": [
    {
     "data": {
      "text/plain": [
       "count    221430.000000\n",
       "mean        857.106336\n",
       "std         102.872170\n",
       "min         114.000000\n",
       "25%         825.000000\n",
       "50%         882.000000\n",
       "75%         916.000000\n",
       "max        2327.000000\n",
       "dtype: float64"
      ]
     },
     "metadata": {},
     "output_type": "display_data"
    }
   ],
   "source": [
    "consensus_peaks_df = consensus_peaks_bed.to_dataframe()\n",
    "lengths = consensus_peaks_df.end - consensus_peaks_df.start\n",
    "\n",
    "display(lengths.describe())"
   ]
  },
  {
   "cell_type": "code",
   "execution_count": 11,
   "id": "39d91bd3-3157-4e6b-b7c4-d603cf309be8",
   "metadata": {
    "tags": []
   },
   "outputs": [
    {
     "data": {
      "text/html": [
       "<div>\n",
       "<style scoped>\n",
       "    .dataframe tbody tr th:only-of-type {\n",
       "        vertical-align: middle;\n",
       "    }\n",
       "\n",
       "    .dataframe tbody tr th {\n",
       "        vertical-align: top;\n",
       "    }\n",
       "\n",
       "    .dataframe thead th {\n",
       "        text-align: right;\n",
       "    }\n",
       "</style>\n",
       "<table border=\"1\" class=\"dataframe\">\n",
       "  <thead>\n",
       "    <tr style=\"text-align: right;\">\n",
       "      <th></th>\n",
       "      <th>chrom</th>\n",
       "      <th>start</th>\n",
       "      <th>end</th>\n",
       "    </tr>\n",
       "  </thead>\n",
       "  <tbody>\n",
       "    <tr>\n",
       "      <th>0</th>\n",
       "      <td>GL000194.1</td>\n",
       "      <td>55817</td>\n",
       "      <td>56657</td>\n",
       "    </tr>\n",
       "    <tr>\n",
       "      <th>1</th>\n",
       "      <td>GL000194.1</td>\n",
       "      <td>58189</td>\n",
       "      <td>58991</td>\n",
       "    </tr>\n",
       "    <tr>\n",
       "      <th>2</th>\n",
       "      <td>GL000194.1</td>\n",
       "      <td>59547</td>\n",
       "      <td>60505</td>\n",
       "    </tr>\n",
       "    <tr>\n",
       "      <th>3</th>\n",
       "      <td>GL000194.1</td>\n",
       "      <td>67008</td>\n",
       "      <td>67944</td>\n",
       "    </tr>\n",
       "    <tr>\n",
       "      <th>4</th>\n",
       "      <td>GL000194.1</td>\n",
       "      <td>68209</td>\n",
       "      <td>69035</td>\n",
       "    </tr>\n",
       "  </tbody>\n",
       "</table>\n",
       "</div>"
      ],
      "text/plain": [
       "        chrom  start    end\n",
       "0  GL000194.1  55817  56657\n",
       "1  GL000194.1  58189  58991\n",
       "2  GL000194.1  59547  60505\n",
       "3  GL000194.1  67008  67944\n",
       "4  GL000194.1  68209  69035"
      ]
     },
     "execution_count": 11,
     "metadata": {},
     "output_type": "execute_result"
    }
   ],
   "source": [
    "consensus_peaks_df.head()"
   ]
  },
  {
   "cell_type": "markdown",
   "id": "cccfcb61-5b1f-470c-b91a-e6faac01a32e",
   "metadata": {},
   "source": [
    "### order the consensus peaks by the reference contig order"
   ]
  },
  {
   "cell_type": "code",
   "execution_count": 12,
   "id": "0c4a18b0-7a1b-42fd-b6fe-7ba76ce7d173",
   "metadata": {
    "tags": []
   },
   "outputs": [
    {
     "name": "stdout",
     "output_type": "stream",
     "text": [
      "sorted consensus peaks shape (221430, 3)\n"
     ]
    },
    {
     "data": {
      "text/html": [
       "<div>\n",
       "<style scoped>\n",
       "    .dataframe tbody tr th:only-of-type {\n",
       "        vertical-align: middle;\n",
       "    }\n",
       "\n",
       "    .dataframe tbody tr th {\n",
       "        vertical-align: top;\n",
       "    }\n",
       "\n",
       "    .dataframe thead th {\n",
       "        text-align: right;\n",
       "    }\n",
       "</style>\n",
       "<table border=\"1\" class=\"dataframe\">\n",
       "  <thead>\n",
       "    <tr style=\"text-align: right;\">\n",
       "      <th></th>\n",
       "      <th>chrom</th>\n",
       "      <th>start</th>\n",
       "      <th>end</th>\n",
       "    </tr>\n",
       "  </thead>\n",
       "  <tbody>\n",
       "    <tr>\n",
       "      <th>60</th>\n",
       "      <td>chr1</td>\n",
       "      <td>9771</td>\n",
       "      <td>10662</td>\n",
       "    </tr>\n",
       "    <tr>\n",
       "      <th>61</th>\n",
       "      <td>chr1</td>\n",
       "      <td>180569</td>\n",
       "      <td>181343</td>\n",
       "    </tr>\n",
       "    <tr>\n",
       "      <th>62</th>\n",
       "      <td>chr1</td>\n",
       "      <td>191022</td>\n",
       "      <td>191926</td>\n",
       "    </tr>\n",
       "    <tr>\n",
       "      <th>63</th>\n",
       "      <td>chr1</td>\n",
       "      <td>628886</td>\n",
       "      <td>629684</td>\n",
       "    </tr>\n",
       "    <tr>\n",
       "      <th>64</th>\n",
       "      <td>chr1</td>\n",
       "      <td>629696</td>\n",
       "      <td>630272</td>\n",
       "    </tr>\n",
       "  </tbody>\n",
       "</table>\n",
       "</div>"
      ],
      "text/plain": [
       "   chrom   start     end\n",
       "60  chr1    9771   10662\n",
       "61  chr1  180569  181343\n",
       "62  chr1  191022  191926\n",
       "63  chr1  628886  629684\n",
       "64  chr1  629696  630272"
      ]
     },
     "metadata": {},
     "output_type": "display_data"
    }
   ],
   "source": [
    "from pandas import Categorical\n",
    "consensus_peaks_df['chrom_class'] = Categorical(consensus_peaks_df.chrom, \n",
    "                                                categories=contigs, \n",
    "                                                ordered=True)\n",
    "consensus_peaks_df = consensus_peaks_df.sort_values(by=['chrom_class', 'start'])\n",
    "consensus_peaks_df = consensus_peaks_df.drop(columns=['chrom_class'])\n",
    "print(f'sorted consensus peaks shape {consensus_peaks_df.shape}')\n",
    "if DEBUG:\n",
    "    display(consensus_peaks_df.head())"
   ]
  },
  {
   "cell_type": "markdown",
   "id": "85ba54e5-a483-45c2-88af-760472640b11",
   "metadata": {},
   "source": [
    "### save the consensus bed"
   ]
  },
  {
   "cell_type": "code",
   "execution_count": 13,
   "id": "f8d0cb85-1e32-4b9b-b605-d61d79940ae4",
   "metadata": {
    "tags": []
   },
   "outputs": [
    {
     "name": "stdout",
     "output_type": "stream",
     "text": [
      "CPU times: user 201 ms, sys: 9.04 ms, total: 210 ms\n",
      "Wall time: 231 ms\n"
     ]
    }
   ],
   "source": [
    "%%time\n",
    "consensus_peaks_df.to_csv(consensus_bed_file, index=False, \n",
    "                          header=False, sep='\\t')"
   ]
  },
  {
   "cell_type": "code",
   "execution_count": 14,
   "id": "4e38933f-0b60-4897-8809-d0c013800442",
   "metadata": {
    "tags": []
   },
   "outputs": [
    {
     "name": "stdout",
     "output_type": "stream",
     "text": [
      "Mon Jul 31 12:01:44 EDT 2023\n"
     ]
    }
   ],
   "source": [
    "!date"
   ]
  }
 ],
 "metadata": {
  "kernelspec": {
   "display_name": "Python 3 (ipykernel)",
   "language": "python",
   "name": "python3"
  },
  "language_info": {
   "codemirror_mode": {
    "name": "ipython",
    "version": 3
   },
   "file_extension": ".py",
   "mimetype": "text/x-python",
   "name": "python",
   "nbconvert_exporter": "python",
   "pygments_lexer": "ipython3",
   "version": "3.9.17"
  }
 },
 "nbformat": 4,
 "nbformat_minor": 5
}
