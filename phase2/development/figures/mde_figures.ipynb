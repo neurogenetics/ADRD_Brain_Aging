{
 "cells": [
  {
   "cell_type": "markdown",
   "id": "7152de87-24ac-48d1-ae9b-041332cbe860",
   "metadata": {},
   "source": [
    "## Generate MDE figures as an alternate to using UMAPs\n",
    "[PyMDE: Minimum-Distortion Embedding](https://pymde.org/)"
   ]
  },
  {
   "cell_type": "code",
   "execution_count": null,
   "id": "48c33ca8-b996-40a2-96f2-3adbf8bd069c",
   "metadata": {},
   "outputs": [],
   "source": [
    "!date"
   ]
  },
  {
   "cell_type": "markdown",
   "id": "b3d3a1eb-2647-40e4-906b-e5d8e4cfe73d",
   "metadata": {},
   "source": [
    "#### import libraries"
   ]
  },
  {
   "cell_type": "code",
   "execution_count": null,
   "id": "14a3c953-3cf6-43c2-8a95-feb5e0d711eb",
   "metadata": {},
   "outputs": [],
   "source": [
    "import scanpy as sc\n",
    "from matplotlib.pyplot import rc_context\n",
    "import matplotlib.pyplot as plt\n",
    "import scvi\n",
    "\n",
    "# for white background of figures (only for docs rendering)\n",
    "%config InlineBackend.print_figure_kwargs={'facecolor' : \"w\"}\n",
    "%config InlineBackend.figure_format='retina'"
   ]
  },
  {
   "cell_type": "markdown",
   "id": "76cedd53-d4ba-4564-9830-51c9be2a0f5d",
   "metadata": {},
   "source": [
    "#### set notebook variables"
   ]
  },
  {
   "cell_type": "code",
   "execution_count": null,
   "id": "4d7bf0c1-491b-436a-9174-f224e8285304",
   "metadata": {},
   "outputs": [],
   "source": [
    "# naming\n",
    "project = 'aging_phase2'\n",
    "\n",
    "# directories\n",
    "wrk_dir = '/labshare/raph/datasets/adrd_neuro/brain_aging/phase2'\n",
    "quants_dir = f'{wrk_dir}/quants'\n",
    "figures_dir = f'{wrk_dir}/figures'\n",
    "sc.settings.figdir = f'{figures_dir}/'\n",
    "\n",
    "# in files\n",
    "anndata_file = f'{quants_dir}/{project}.multivi.curated_final.h5ad'\n",
    "\n",
    "# out files\n",
    "\n",
    "# variables\n",
    "DEBUG = False\n",
    "scvi.settings.seed = 42"
   ]
  },
  {
   "cell_type": "markdown",
   "id": "8a27e4d4-2bfc-4e94-96e9-3de2ce9f9ce9",
   "metadata": {},
   "source": [
    "### load the final anndata file"
   ]
  },
  {
   "cell_type": "code",
   "execution_count": null,
   "id": "cca49781-9c5d-4e08-97c1-16fd366476db",
   "metadata": {},
   "outputs": [],
   "source": [
    "%%time\n",
    "adata = sc.read_h5ad(anndata_file)\n",
    "print(adata)\n",
    "if DEBUG:\n",
    "    display(adata.obs.sample(5))"
   ]
  },
  {
   "cell_type": "markdown",
   "id": "b2320173-23b3-4083-b13a-735384dac23c",
   "metadata": {},
   "source": [
    "### visualize the final curated cell-types"
   ]
  },
  {
   "cell_type": "markdown",
   "id": "47523852-496e-48e9-bb95-2e9501729bf7",
   "metadata": {},
   "source": [
    "#### existing UMAP"
   ]
  },
  {
   "cell_type": "code",
   "execution_count": null,
   "id": "7f852ca7-dded-4a78-861e-c54c60d5da09",
   "metadata": {},
   "outputs": [],
   "source": [
    "with rc_context({'figure.figsize': (8, 8), 'figure.dpi': 100}):\n",
    "    plt.style.use('seaborn-v0_8-talk')\n",
    "    sc.pl.umap(adata, color=['Cell_type', 'cluster_name'], \n",
    "               frameon=False, legend_loc='on data')"
   ]
  },
  {
   "cell_type": "markdown",
   "id": "7acb26ee-459f-44d4-8110-6d95e0f823fb",
   "metadata": {},
   "source": [
    "#### now with MDE"
   ]
  },
  {
   "cell_type": "markdown",
   "id": "a4edbf44-48eb-42ee-a0a0-fbd63d01064f",
   "metadata": {},
   "source": [
    "##### generate the MDE embeding"
   ]
  },
  {
   "cell_type": "code",
   "execution_count": null,
   "id": "653e91a5-d60d-484f-ad14-fe3048a002bb",
   "metadata": {},
   "outputs": [],
   "source": [
    "%%time\n",
    "adata.obsm['X_mde'] = scvi.model.utils.mde(adata.obsm['MultiVI_latent'], accelerator='gpu')"
   ]
  },
  {
   "cell_type": "markdown",
   "id": "e14ecb18-edd0-40c8-9d55-2dd39ec4e149",
   "metadata": {},
   "source": [
    "##### phase1 cell-types annotated"
   ]
  },
  {
   "cell_type": "code",
   "execution_count": null,
   "id": "e99d5091-2878-4856-9154-abca4e15fbb1",
   "metadata": {},
   "outputs": [],
   "source": [
    "figure_file = f'_{project}.mde.curated_prev_celltypes_final.png'\n",
    "with rc_context({'figure.figsize': (9, 9), 'figure.dpi': 100}):\n",
    "    plt.style.use('seaborn-v0_8-talk')\n",
    "    sc.pl.embedding(adata, basis='X_mde', color=['Cell_type'], \n",
    "                    frameon=False, legend_loc='on data', save=figure_file)"
   ]
  },
  {
   "cell_type": "markdown",
   "id": "5779ac22-e3ef-4d7c-a4d9-e80eeb0671b6",
   "metadata": {},
   "source": [
    "##### phase2 cell-types annotated"
   ]
  },
  {
   "cell_type": "code",
   "execution_count": null,
   "id": "fd887454-9bcf-4c7a-a220-bda609b59546",
   "metadata": {},
   "outputs": [],
   "source": [
    "figure_file = f'_{project}.mde.curated_cluster_names_final.png'\n",
    "with rc_context({'figure.figsize': (9, 9), 'figure.dpi': 100}):\n",
    "    plt.style.use('seaborn-v0_8-talk')\n",
    "    sc.pl.embedding(adata, basis='X_mde', color=['cluster_name'], \n",
    "                    frameon=False, legend_loc='on data', save=figure_file)"
   ]
  },
  {
   "cell_type": "code",
   "execution_count": null,
   "id": "b729474b-77df-46de-96ee-41c39f04fb63",
   "metadata": {},
   "outputs": [],
   "source": [
    "figure_file = f'_{project}.mde.curated_celltype_final.png'\n",
    "with rc_context({'figure.figsize': (9, 9), 'figure.dpi': 100}):\n",
    "    plt.style.use('seaborn-v0_8-talk')\n",
    "    sc.pl.embedding(adata, basis='X_mde', color=['curated_type'], \n",
    "                    frameon=False, legend_loc='on data', save=figure_file)"
   ]
  },
  {
   "cell_type": "code",
   "execution_count": null,
   "id": "fec5b7fd-fff5-40e9-8a28-39915482609e",
   "metadata": {},
   "outputs": [],
   "source": [
    "# %%time\n",
    "# import torch\n",
    "# import pymde\n",
    "# pymde.seed(42)\n",
    "# device = 'cuda' if torch.cuda.is_available() else 'cpu'\n",
    "# print(device)\n",
    "\n",
    "# mde = pymde.preserve_neighbors(adata.obsm['MultiVI_latent'], device=device, verbose=True)\n",
    "# embedding = mde.embed(verbose=True)\n",
    "# # adata.obsm['X_mde'] = embedding.cpu().numpy()"
   ]
  },
  {
   "cell_type": "code",
   "execution_count": null,
   "id": "f74de7ac-ad8a-44c4-9ce0-c254647d18f0",
   "metadata": {},
   "outputs": [],
   "source": [
    "# with rc_context({'figure.figsize': (9, 9), 'figure.dpi': 100}):\n",
    "#     plt.style.use('seaborn-v0_8-talk')\n",
    "#     pymde.plot(embedding, color_by=adata.obs.Cell_type, marker_size=50)\n",
    "#     plt.show()"
   ]
  },
  {
   "cell_type": "code",
   "execution_count": null,
   "id": "88bee8ff-021d-4937-a41d-a0b81ec1e2a1",
   "metadata": {},
   "outputs": [],
   "source": [
    "# with rc_context({'figure.figsize': (9, 9), 'figure.dpi': 100}):\n",
    "#     plt.style.use('seaborn-v0_8-talk')\n",
    "#     pymde.plot(embedding, color_by=adata.obs.cluster_name, marker_size=50)\n",
    "#     plt.show()"
   ]
  },
  {
   "cell_type": "code",
   "execution_count": null,
   "id": "f61edb15-0a1a-497c-bd09-44a2c35b64e7",
   "metadata": {},
   "outputs": [],
   "source": [
    "!date"
   ]
  }
 ],
 "metadata": {
  "kernelspec": {
   "display_name": "Python 3 (ipykernel)",
   "language": "python",
   "name": "python3"
  },
  "language_info": {
   "codemirror_mode": {
    "name": "ipython",
    "version": 3
   },
   "file_extension": ".py",
   "mimetype": "text/x-python",
   "name": "python",
   "nbconvert_exporter": "python",
   "pygments_lexer": "ipython3",
   "version": "3.10.13"
  }
 },
 "nbformat": 4,
 "nbformat_minor": 5
}
