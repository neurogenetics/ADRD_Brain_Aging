{
 "cells": [
  {
   "cell_type": "markdown",
   "id": "63a6e12d-ed33-473c-b631-6a0fe2d4afec",
   "metadata": {},
   "source": [
    "## Run Gene Set Enrichment Analysis (GSEA) Enrichr using gseapy for the partitioned Aging components using the feature loading of the latent factors grouped into each parition"
   ]
  },
  {
   "cell_type": "code",
   "execution_count": 1,
   "id": "ec0d66c7-d77f-43e7-a3cd-66196d79754f",
   "metadata": {},
   "outputs": [
    {
     "name": "stdout",
     "output_type": "stream",
     "text": [
      "Fri Jun 21 11:17:13 EDT 2024\n"
     ]
    }
   ],
   "source": [
    "!date"
   ]
  },
  {
   "cell_type": "markdown",
   "id": "9a51adb9-5f59-40b2-9552-e9b5b439da1f",
   "metadata": {},
   "source": [
    "#### import libraries"
   ]
  },
  {
   "cell_type": "code",
   "execution_count": 2,
   "id": "1aec7e69-504d-4585-b3f4-96b32bfde837",
   "metadata": {},
   "outputs": [],
   "source": [
    "from pandas import read_csv, concat, DataFrame, pivot\n",
    "from gseapy.enrichr import Enrichr\n",
    "from json import load as json_load\n",
    "from igraph import Graph\n",
    "from time import sleep\n",
    "import statsmodels.stats.multitest as smm\n",
    "from numpy import log10\n",
    "from math import ceil\n",
    "from re import match\n",
    "import matplotlib.pyplot as plt\n",
    "from matplotlib.pyplot import rc_context\n",
    "\n",
    "%matplotlib inline\n",
    "# for white background of figures (only for docs rendering)\n",
    "%config InlineBackend.print_figure_kwargs={'facecolor' : \"w\"}\n",
    "%config InlineBackend.figure_format='retina'"
   ]
  },
  {
   "cell_type": "markdown",
   "id": "c58e9c5b-ebb5-4a50-88c9-77ac195e7141",
   "metadata": {},
   "source": [
    "#### set notebook variables"
   ]
  },
  {
   "cell_type": "code",
   "execution_count": 3,
   "id": "643d8d40-81a4-4c90-b6bf-5faf7b936dfc",
   "metadata": {},
   "outputs": [],
   "source": [
    "# parameters\n",
    "project = 'aging_phase2'\n",
    "latent_type = 'all'\n",
    "\n",
    "# directories\n",
    "wrk_dir = '/labshare/raph/datasets/adrd_neuro/brain_aging/phase2'\n",
    "results_dir = f'{wrk_dir}/results'\n",
    "figures_dir = f'{wrk_dir}/figures'\n",
    "\n",
    "# in files\n",
    "latent_part_file = f'{figures_dir}/{project}.latents.{latent_type}.partitioned_factors.json'\n",
    "graphml_file = f'{figures_dir}/{project}.latents.{latent_type}.graphml'\n",
    "\n",
    "# out files\n",
    "figure_file = f'{figures_dir}/{project}.latents.{latent_type}.gsea_enrichr.png'\n",
    "results_file = f'{figures_dir}/{project}.latents.{latent_type}.gsea_enrichr.csv'\n",
    "\n",
    "# constants and variables\n",
    "DEBUG = True\n",
    "categories = ['broad', 'specific']\n",
    "# won't use ATAC here only genes\n",
    "# modalities = ['GEX', 'ATAC']\n",
    "MODALITY = 'GEX'\n",
    "REGRESSION_TYPE = 'glm_tweedie'\n",
    "marker_sets = ['MSigDB_Hallmark_2020',\n",
    "               'GO_Biological_Process_2023', \n",
    "               'GO_Cellular_Component_2023',\n",
    "               'GO_Molecular_Function_2023', \n",
    "               'KEGG_2019_Human']\n",
    "PAUSE_AMT = 2\n",
    "dpi_value = 50"
   ]
  },
  {
   "cell_type": "markdown",
   "id": "6a9c3880-0a00-44d7-93a6-945696e7a476",
   "metadata": {},
   "source": [
    "### load age associated features"
   ]
  },
  {
   "cell_type": "code",
   "execution_count": 4,
   "id": "8ba33e2e-0a2b-43c1-8b6b-83ba9bc9b6c7",
   "metadata": {},
   "outputs": [
    {
     "name": "stdout",
     "output_type": "stream",
     "text": [
      "broad\n",
      "specific\n",
      "shape of all age associated features (6272, 10)\n"
     ]
    },
    {
     "data": {
      "text/html": [
       "<div>\n",
       "<style scoped>\n",
       "    .dataframe tbody tr th:only-of-type {\n",
       "        vertical-align: middle;\n",
       "    }\n",
       "\n",
       "    .dataframe tbody tr th {\n",
       "        vertical-align: top;\n",
       "    }\n",
       "\n",
       "    .dataframe thead th {\n",
       "        text-align: right;\n",
       "    }\n",
       "</style>\n",
       "<table border=\"1\" class=\"dataframe\">\n",
       "  <thead>\n",
       "    <tr style=\"text-align: right;\">\n",
       "      <th></th>\n",
       "      <th>feature</th>\n",
       "      <th>intercept</th>\n",
       "      <th>coef</th>\n",
       "      <th>stderr</th>\n",
       "      <th>z</th>\n",
       "      <th>p-value</th>\n",
       "      <th>tissue</th>\n",
       "      <th>type</th>\n",
       "      <th>fdr_bh</th>\n",
       "      <th>category</th>\n",
       "    </tr>\n",
       "  </thead>\n",
       "  <tbody>\n",
       "    <tr>\n",
       "      <th>1157</th>\n",
       "      <td>SLC6A1</td>\n",
       "      <td>-1.559101</td>\n",
       "      <td>-0.028258</td>\n",
       "      <td>0.008256</td>\n",
       "      <td>-3.422949</td>\n",
       "      <td>0.000619</td>\n",
       "      <td>Micro</td>\n",
       "      <td>curated_type</td>\n",
       "      <td>0.036897</td>\n",
       "      <td>broad</td>\n",
       "    </tr>\n",
       "    <tr>\n",
       "      <th>1559</th>\n",
       "      <td>LINC00390</td>\n",
       "      <td>-3.004105</td>\n",
       "      <td>0.016713</td>\n",
       "      <td>0.004069</td>\n",
       "      <td>4.107126</td>\n",
       "      <td>0.000040</td>\n",
       "      <td>InN-12</td>\n",
       "      <td>cluster_name</td>\n",
       "      <td>0.013782</td>\n",
       "      <td>specific</td>\n",
       "    </tr>\n",
       "    <tr>\n",
       "      <th>2856</th>\n",
       "      <td>AC117944.1</td>\n",
       "      <td>-4.228003</td>\n",
       "      <td>-0.017560</td>\n",
       "      <td>0.004953</td>\n",
       "      <td>-3.545599</td>\n",
       "      <td>0.000392</td>\n",
       "      <td>InN-18</td>\n",
       "      <td>cluster_name</td>\n",
       "      <td>0.041035</td>\n",
       "      <td>specific</td>\n",
       "    </tr>\n",
       "    <tr>\n",
       "      <th>916</th>\n",
       "      <td>NMRAL1</td>\n",
       "      <td>-2.320572</td>\n",
       "      <td>0.019005</td>\n",
       "      <td>0.005330</td>\n",
       "      <td>3.565526</td>\n",
       "      <td>0.000363</td>\n",
       "      <td>Micro-3</td>\n",
       "      <td>cluster_name</td>\n",
       "      <td>0.039516</td>\n",
       "      <td>specific</td>\n",
       "    </tr>\n",
       "  </tbody>\n",
       "</table>\n",
       "</div>"
      ],
      "text/plain": [
       "         feature  intercept      coef    stderr         z   p-value   tissue  \\\n",
       "1157      SLC6A1  -1.559101 -0.028258  0.008256 -3.422949  0.000619    Micro   \n",
       "1559   LINC00390  -3.004105  0.016713  0.004069  4.107126  0.000040   InN-12   \n",
       "2856  AC117944.1  -4.228003 -0.017560  0.004953 -3.545599  0.000392   InN-18   \n",
       "916       NMRAL1  -2.320572  0.019005  0.005330  3.565526  0.000363  Micro-3   \n",
       "\n",
       "              type    fdr_bh  category  \n",
       "1157  curated_type  0.036897     broad  \n",
       "1559  cluster_name  0.013782  specific  \n",
       "2856  cluster_name  0.041035  specific  \n",
       "916   cluster_name  0.039516  specific  "
      ]
     },
     "metadata": {},
     "output_type": "display_data"
    },
    {
     "data": {
      "text/plain": [
       "specific    3777\n",
       "broad       2495\n",
       "Name: category, dtype: int64"
      ]
     },
     "metadata": {},
     "output_type": "display_data"
    }
   ],
   "source": [
    "results = []\n",
    "for category in categories:\n",
    "    print(category)\n",
    "    in_file = (f'{results_dir}/{project}.{MODALITY}.{category}.'\n",
    "               f'{REGRESSION_TYPE}_fdr_filtered.age.csv')\n",
    "    this_df = read_csv(in_file)\n",
    "    this_df['category'] = category\n",
    "    results.append(this_df)\n",
    "age_glm_df = concat(results)\n",
    "print(f'shape of all age associated features {age_glm_df.shape}')\n",
    "if DEBUG:\n",
    "    display(age_glm_df.sample(4))\n",
    "    display(age_glm_df.category.value_counts())"
   ]
  },
  {
   "cell_type": "markdown",
   "id": "e722838d-f122-4529-931f-f21c3845bec8",
   "metadata": {},
   "source": [
    "### load the partitioned age associated latent factors graph"
   ]
  },
  {
   "cell_type": "code",
   "execution_count": 5,
   "id": "d5fd36c5-6dec-4673-9417-98f0211f36c3",
   "metadata": {},
   "outputs": [
    {
     "name": "stdout",
     "output_type": "stream",
     "text": [
      "38177\n",
      "239968\n",
      "length non-latent feature nodes in the latent graph is 37981\n"
     ]
    }
   ],
   "source": [
    "latent_graph = Graph.Read_GraphML(graphml_file)\n",
    "if DEBUG:\n",
    "    print(latent_graph.vcount())\n",
    "    print(latent_graph.ecount())\n",
    "feature_nodes = latent_graph.vs.select(type='feature')\n",
    "print(f'length non-latent feature nodes in the latent graph is {len(feature_nodes)}')"
   ]
  },
  {
   "cell_type": "code",
   "execution_count": null,
   "id": "04175179-e802-4838-a274-b52fa4dec246",
   "metadata": {},
   "outputs": [],
   "source": []
  },
  {
   "cell_type": "markdown",
   "id": "823ddb35-f090-44e3-8cd0-7cb7bd31ac1c",
   "metadata": {},
   "source": [
    "### load the partitioned age associated latent factors"
   ]
  },
  {
   "cell_type": "code",
   "execution_count": 6,
   "id": "90114f70-8009-47e9-8f8c-b44de468aedc",
   "metadata": {},
   "outputs": [
    {
     "name": "stdout",
     "output_type": "stream",
     "text": [
      "length of partitioned_factors is 9\n"
     ]
    }
   ],
   "source": [
    "with open(latent_part_file, 'r') as in_file:\n",
    "    partitioned_factors = json_load(in_file)\n",
    "print(f'length of partitioned_factors is {len(partitioned_factors)}')"
   ]
  },
  {
   "cell_type": "markdown",
   "id": "0c51fa06-94d6-4dbe-b048-90f49614ef28",
   "metadata": {},
   "source": [
    "#### extract the partition groups and cell types"
   ]
  },
  {
   "cell_type": "code",
   "execution_count": 7,
   "id": "091c43ff-c9e1-4cf4-850b-88be8a7964ae",
   "metadata": {},
   "outputs": [
    {
     "name": "stdout",
     "output_type": "stream",
     "text": [
      "age_latents length is 9\n"
     ]
    },
    {
     "data": {
      "text/plain": [
       "{'Aging-5': ['OD-0', 'OD-21', 'OD'],\n",
       " 'Aging-6': ['ExN-19',\n",
       "  'InN',\n",
       "  'InN-18',\n",
       "  'ExN-8',\n",
       "  'InN-13',\n",
       "  'ExN-15',\n",
       "  'InN-5',\n",
       "  'InN-12',\n",
       "  'InN-10',\n",
       "  'InN-23'],\n",
       " 'Aging-3': ['ExN-9', 'ExN-14'],\n",
       " 'Aging-2': ['OPC-4', 'OPC'],\n",
       " 'Aging-0': ['Micro-3', 'Micro'],\n",
       " 'Aging-4': ['ExN-7', 'ExN-2', 'ExN-6', 'ExN'],\n",
       " 'Aging-1': ['Astro', 'Astro-1', 'OD-21'],\n",
       " 'Aging-7': ['PeriVasc-20', 'VLMC', 'VLMC-22', 'PeriVasc'],\n",
       " 'Aging-8': ['ExN-25']}"
      ]
     },
     "metadata": {},
     "output_type": "display_data"
    }
   ],
   "source": [
    "age_latents = {}\n",
    "for part_index, latents in partitioned_factors.items():\n",
    "    latent_name = f'Aging-{part_index}'\n",
    "    pairs = [element.split(':')[0] for element in latents]\n",
    "    age_latents[latent_name] = list(set(pairs))\n",
    "print(f'age_latents length is {len(age_latents)}')\n",
    "if DEBUG:\n",
    "    display(age_latents)  "
   ]
  },
  {
   "cell_type": "markdown",
   "id": "5c92dac7-a0e1-413a-aeab-5b9e240041d9",
   "metadata": {},
   "source": [
    "### resolve the cell-types to their age associate features"
   ]
  },
  {
   "cell_type": "code",
   "execution_count": 8,
   "id": "f3ba975c-73e1-4d51-8e7f-796ce0ae29ae",
   "metadata": {},
   "outputs": [
    {
     "name": "stdout",
     "output_type": "stream",
     "text": [
      "Aging-5 ['OD-0', 'OD-21', 'OD']\n",
      "Aging-5 has 227 features\n",
      "Aging-6 ['ExN-19', 'InN', 'InN-18', 'ExN-8', 'InN-13', 'ExN-15', 'InN-5', 'InN-12', 'InN-10', 'InN-23']\n",
      "Aging-6 has 1334 features\n",
      "Aging-3 ['ExN-9', 'ExN-14']\n",
      "Aging-3 has 271 features\n",
      "Aging-2 ['OPC-4', 'OPC']\n",
      "Aging-2 has 191 features\n",
      "Aging-0 ['Micro-3', 'Micro']\n",
      "Aging-0 has 717 features\n",
      "Aging-4 ['ExN-7', 'ExN-2', 'ExN-6', 'ExN']\n",
      "Aging-4 has 1069 features\n",
      "Aging-1 ['Astro', 'Astro-1', 'OD-21']\n",
      "Aging-1 has 564 features\n",
      "Aging-7 ['PeriVasc-20', 'VLMC', 'VLMC-22', 'PeriVasc']\n",
      "Aging-7 has 95 features\n",
      "Aging-8 ['ExN-25']\n",
      "Aging-8 has 21 features\n"
     ]
    }
   ],
   "source": [
    "latent_features = {}\n",
    "for latent, cell_types in age_latents.items():\n",
    "    print(latent, cell_types)\n",
    "    age_features = {}\n",
    "    for cell_type in cell_types:\n",
    "        these_results = age_glm_df.loc[age_glm_df.tissue == cell_type]\n",
    "        if len(age_features) == 0:\n",
    "            age_features = set(these_results.feature)\n",
    "        else:\n",
    "            age_features = age_features | set(these_results.feature)\n",
    "    latent_features[latent] = age_features\n",
    "    print(f'{latent} has {len(age_features)} features')"
   ]
  },
  {
   "cell_type": "markdown",
   "id": "ce1ed66b-b7bd-4177-bef2-8532d9488964",
   "metadata": {},
   "source": [
    "### alternatively group features from the partitioned graph; ie these would be based on latent age factor loadings"
   ]
  },
  {
   "cell_type": "code",
   "execution_count": 9,
   "id": "12200ff4-85c0-405d-8e24-0f9c79075dd2",
   "metadata": {},
   "outputs": [
    {
     "name": "stdout",
     "output_type": "stream",
     "text": [
      "Aging-5 1851\n",
      "Aging-5 has 177 feature loadings\n",
      "Aging-6 1703\n",
      "Aging-6 has 1167 feature loadings\n",
      "Aging-3 4067\n",
      "Aging-3 has 116 feature loadings\n",
      "Aging-2 4476\n",
      "Aging-2 has 117 feature loadings\n",
      "Aging-0 12929\n",
      "Aging-0 has 609 feature loadings\n",
      "Aging-4 3962\n",
      "Aging-4 has 786 feature loadings\n",
      "Aging-1 8540\n",
      "Aging-1 has 322 feature loadings\n",
      "Aging-7 435\n",
      "Aging-7 has 93 feature loadings\n",
      "Aging-8 18\n",
      "Aging-8 has 18 feature loadings\n"
     ]
    }
   ],
   "source": [
    "# regex pattern for match ATAC peaks naming format\n",
    "pattern = r'^chr.*:.*-.*$'\n",
    "latent_features = {}\n",
    "for part_index in partitioned_factors.keys():\n",
    "    latent_name = f'Aging-{part_index}'\n",
    "    member_nodes = feature_nodes.select(membership=float(part_index))\n",
    "    print(latent_name, len(member_nodes))\n",
    "    age_features = []\n",
    "    for node in member_nodes:\n",
    "        # only add genes not ATAC peaks, peaks are in GSEA libraries\n",
    "        if not match(pattern, node['name']):\n",
    "            age_features.append(node['name'])\n",
    "    latent_features[latent_name] = list(set(age_features))\n",
    "    print(f'{latent_name} has {len(age_features)} feature loadings')"
   ]
  },
  {
   "cell_type": "markdown",
   "id": "f6428dd9-5d25-4edd-af02-e550ad315b00",
   "metadata": {},
   "source": [
    "### run the GSEA Enrichr"
   ]
  },
  {
   "cell_type": "markdown",
   "id": "6d9dc4ee-b1a1-4dd3-adc5-bae15b4a421c",
   "metadata": {},
   "source": [
    "#### if debugging see available GSEA libraries"
   ]
  },
  {
   "cell_type": "code",
   "execution_count": 10,
   "id": "990ae312-ed3d-483c-9fab-74cea0aac429",
   "metadata": {},
   "outputs": [
    {
     "name": "stdout",
     "output_type": "stream",
     "text": [
      "['ARCHS4_Cell-lines', 'ARCHS4_IDG_Coexp', 'ARCHS4_Kinases_Coexp', 'ARCHS4_TFs_Coexp', 'ARCHS4_Tissues', 'Achilles_fitness_decrease', 'Achilles_fitness_increase', 'Aging_Perturbations_from_GEO_down', 'Aging_Perturbations_from_GEO_up', 'Allen_Brain_Atlas_10x_scRNA_2021', 'Allen_Brain_Atlas_down', 'Allen_Brain_Atlas_up', 'Azimuth_2023', 'Azimuth_Cell_Types_2021', 'BioCarta_2013', 'BioCarta_2015', 'BioCarta_2016', 'BioPlanet_2019', 'BioPlex_2017', 'CCLE_Proteomics_2020', 'CORUM', 'COVID-19_Related_Gene_Sets', 'COVID-19_Related_Gene_Sets_2021', 'Cancer_Cell_Line_Encyclopedia', 'CellMarker_2024', 'CellMarker_Augmented_2021', 'ChEA_2013', 'ChEA_2015', 'ChEA_2016', 'ChEA_2022', 'Chromosome_Location', 'Chromosome_Location_hg19', 'ClinVar_2019', 'DSigDB', 'Data_Acquisition_Method_Most_Popular_Genes', 'DepMap_WG_CRISPR_Screens_Broad_CellLines_2019', 'DepMap_WG_CRISPR_Screens_Sanger_CellLines_2019', 'Descartes_Cell_Types_and_Tissue_2021', 'Diabetes_Perturbations_GEO_2022', 'DisGeNET', 'Disease_Perturbations_from_GEO_down', 'Disease_Perturbations_from_GEO_up', 'Disease_Signatures_from_GEO_down_2014', 'Disease_Signatures_from_GEO_up_2014', 'DrugMatrix', 'Drug_Perturbations_from_GEO_2014', 'Drug_Perturbations_from_GEO_down', 'Drug_Perturbations_from_GEO_up', 'ENCODE_Histone_Modifications_2013', 'ENCODE_Histone_Modifications_2015', 'ENCODE_TF_ChIP-seq_2014', 'ENCODE_TF_ChIP-seq_2015', 'ENCODE_and_ChEA_Consensus_TFs_from_ChIP-X', 'ESCAPE', 'Elsevier_Pathway_Collection', 'Enrichr_Libraries_Most_Popular_Genes', 'Enrichr_Submissions_TF-Gene_Coocurrence', 'Enrichr_Users_Contributed_Lists_2020', 'Epigenomics_Roadmap_HM_ChIP-seq', 'FANTOM6_lncRNA_KD_DEGs', 'GO_Biological_Process_2013', 'GO_Biological_Process_2015', 'GO_Biological_Process_2017', 'GO_Biological_Process_2017b', 'GO_Biological_Process_2018', 'GO_Biological_Process_2021', 'GO_Biological_Process_2023', 'GO_Cellular_Component_2013', 'GO_Cellular_Component_2015', 'GO_Cellular_Component_2017', 'GO_Cellular_Component_2017b', 'GO_Cellular_Component_2018', 'GO_Cellular_Component_2021', 'GO_Cellular_Component_2023', 'GO_Molecular_Function_2013', 'GO_Molecular_Function_2015', 'GO_Molecular_Function_2017', 'GO_Molecular_Function_2017b', 'GO_Molecular_Function_2018', 'GO_Molecular_Function_2021', 'GO_Molecular_Function_2023', 'GTEx_Aging_Signatures_2021', 'GTEx_Tissue_Expression_Down', 'GTEx_Tissue_Expression_Up', 'GTEx_Tissues_V8_2023', 'GWAS_Catalog_2019', 'GWAS_Catalog_2023', 'GeDiPNet_2023', 'GeneSigDB', 'Gene_Perturbations_from_GEO_down', 'Gene_Perturbations_from_GEO_up', 'Genes_Associated_with_NIH_Grants', 'Genome_Browser_PWMs', 'GlyGen_Glycosylated_Proteins_2022', 'HDSigDB_Human_2021', 'HDSigDB_Mouse_2021', 'HMDB_Metabolites', 'HMS_LINCS_KinomeScan', 'HomoloGene', 'HuBMAP_ASCT_plus_B_augmented_w_RNAseq_Coexpression', 'HuBMAP_ASCTplusB_augmented_2022', 'HumanCyc_2015', 'HumanCyc_2016', 'Human_Gene_Atlas', 'Human_Phenotype_Ontology', 'IDG_Drug_Targets_2022', 'InterPro_Domains_2019', 'Jensen_COMPARTMENTS', 'Jensen_DISEASES', 'Jensen_TISSUES', 'KEA_2013', 'KEA_2015', 'KEGG_2013', 'KEGG_2015', 'KEGG_2016', 'KEGG_2019_Human', 'KEGG_2019_Mouse', 'KEGG_2021_Human', 'KOMP2_Mouse_Phenotypes_2022', 'Kinase_Perturbations_from_GEO_down', 'Kinase_Perturbations_from_GEO_up', 'L1000_Kinase_and_GPCR_Perturbations_down', 'L1000_Kinase_and_GPCR_Perturbations_up', 'LINCS_L1000_CRISPR_KO_Consensus_Sigs', 'LINCS_L1000_Chem_Pert_Consensus_Sigs', 'LINCS_L1000_Chem_Pert_down', 'LINCS_L1000_Chem_Pert_up', 'LINCS_L1000_Ligand_Perturbations_down', 'LINCS_L1000_Ligand_Perturbations_up', 'Ligand_Perturbations_from_GEO_down', 'Ligand_Perturbations_from_GEO_up', 'MAGMA_Drugs_and_Diseases', 'MAGNET_2023', 'MCF7_Perturbations_from_GEO_down', 'MCF7_Perturbations_from_GEO_up', 'MGI_Mammalian_Phenotype_2013', 'MGI_Mammalian_Phenotype_2017', 'MGI_Mammalian_Phenotype_Level_3', 'MGI_Mammalian_Phenotype_Level_4', 'MGI_Mammalian_Phenotype_Level_4_2019', 'MGI_Mammalian_Phenotype_Level_4_2021', 'MSigDB_Computational', 'MSigDB_Hallmark_2020', 'MSigDB_Oncogenic_Signatures', 'Metabolomics_Workbench_Metabolites_2022', 'Microbe_Perturbations_from_GEO_down', 'Microbe_Perturbations_from_GEO_up', 'MoTrPAC_2023', 'Mouse_Gene_Atlas', 'NCI-60_Cancer_Cell_Lines', 'NCI-Nature_2015', 'NCI-Nature_2016', 'NIH_Funded_PIs_2017_AutoRIF_ARCHS4_Predictions', 'NIH_Funded_PIs_2017_GeneRIF_ARCHS4_Predictions', 'NIH_Funded_PIs_2017_Human_AutoRIF', 'NIH_Funded_PIs_2017_Human_GeneRIF', 'NURSA_Human_Endogenous_Complexome', 'OMIM_Disease', 'OMIM_Expanded', 'Old_CMAP_down', 'Old_CMAP_up', 'Orphanet_Augmented_2021', 'PFOCR_Pathways', 'PFOCR_Pathways_2023', 'PPI_Hub_Proteins', 'PanglaoDB_Augmented_2021', 'Panther_2015', 'Panther_2016', 'Pfam_Domains_2019', 'Pfam_InterPro_Domains', 'PheWeb_2019', 'PhenGenI_Association_2021', 'Phosphatase_Substrates_from_DEPOD', 'ProteomicsDB_2020', 'Proteomics_Drug_Atlas_2023', 'RNA-Seq_Disease_Gene_and_Drug_Signatures_from_GEO', 'RNAseq_Automatic_GEO_Signatures_Human_Down', 'RNAseq_Automatic_GEO_Signatures_Human_Up', 'RNAseq_Automatic_GEO_Signatures_Mouse_Down', 'RNAseq_Automatic_GEO_Signatures_Mouse_Up', 'Rare_Diseases_AutoRIF_ARCHS4_Predictions', 'Rare_Diseases_AutoRIF_Gene_Lists', 'Rare_Diseases_GeneRIF_ARCHS4_Predictions', 'Rare_Diseases_GeneRIF_Gene_Lists', 'Reactome_2013', 'Reactome_2015', 'Reactome_2016', 'Reactome_2022', 'Rummagene_kinases', 'Rummagene_signatures', 'Rummagene_transcription_factors', 'SILAC_Phosphoproteomics', 'SubCell_BarCode', 'SynGO_2022', 'SynGO_2024', 'SysMyo_Muscle_Gene_Sets', 'TF-LOF_Expression_from_GEO', 'TF_Perturbations_Followed_by_Expression', 'TG_GATES_2020', 'TRANSFAC_and_JASPAR_PWMs', 'TRRUST_Transcription_Factors_2019', 'Table_Mining_of_CRISPR_Studies', 'Tabula_Muris', 'Tabula_Sapiens', 'TargetScan_microRNA', 'TargetScan_microRNA_2017', 'The_Kinase_Library_2023', 'Tissue_Protein_Expression_from_Human_Proteome_Map', 'Tissue_Protein_Expression_from_ProteomicsDB', 'Transcription_Factor_PPIs', 'UK_Biobank_GWAS_v1', 'Virus-Host_PPI_P-HIPSTer_2020', 'VirusMINT', 'Virus_Perturbations_from_GEO_down', 'Virus_Perturbations_from_GEO_up', 'WikiPathway_2021_Human', 'WikiPathway_2023_Human', 'WikiPathways_2013', 'WikiPathways_2015', 'WikiPathways_2016', 'WikiPathways_2019_Human', 'WikiPathways_2019_Mouse', 'dbGaP', 'huMAP', 'lncHUB_lncRNA_Co-Expression', 'miRTarBase_2017']\n"
     ]
    }
   ],
   "source": [
    "if DEBUG:\n",
    "    import gseapy\n",
    "    gene_set_names = gseapy.get_library_name(organism='Human')\n",
    "    print(gene_set_names)"
   ]
  },
  {
   "cell_type": "markdown",
   "id": "72d681d5-d1cc-47bd-af9a-98c3c663065e",
   "metadata": {},
   "source": [
    "#### utility functions for accessing and scoring GSEA Enrichr"
   ]
  },
  {
   "cell_type": "code",
   "execution_count": 11,
   "id": "c3f4a888-d864-4515-af2f-d5ed0f200c2b",
   "metadata": {},
   "outputs": [],
   "source": [
    "def find_enrichment(name: str, genes: list, sets,\n",
    "                    verbose: bool=False) -> DataFrame:\n",
    "    enr_res = gseapy.enrichr(gene_list=genes,\n",
    "                             organism='Human',\n",
    "                             gene_sets=sets,\n",
    "                             cutoff=0.5)\n",
    "    enr_res.results['factor'] = name    \n",
    "    if verbose:\n",
    "        print(f'full {sets} results shape{enr_res.results.shape}')        \n",
    "        sig = enr_res.results.loc[enr_res.results['Adjusted P-value'] <= 0.05]\n",
    "        print(f'significant {sets} results shape{sig.shape}')\n",
    "        display(sig)\n",
    "    return enr_res.results"
   ]
  },
  {
   "cell_type": "code",
   "execution_count": 12,
   "id": "60fe9620-28ad-4654-b12d-a46120e9bacc",
   "metadata": {},
   "outputs": [
    {
     "name": "stdout",
     "output_type": "stream",
     "text": [
      "\n",
      "########### Aging-5 ###########\n",
      "\n",
      "+++++++++++ MSigDB_Hallmark_2020 +++++++++++\n",
      "\n",
      "+++++++++++ GO_Biological_Process_2023 +++++++++++\n",
      "\n",
      "+++++++++++ GO_Cellular_Component_2023 +++++++++++\n",
      "\n",
      "+++++++++++ GO_Molecular_Function_2023 +++++++++++\n",
      "\n",
      "+++++++++++ KEGG_2019_Human +++++++++++\n",
      "\n",
      "########### Aging-6 ###########\n",
      "\n",
      "+++++++++++ MSigDB_Hallmark_2020 +++++++++++\n",
      "\n",
      "+++++++++++ GO_Biological_Process_2023 +++++++++++\n",
      "\n",
      "+++++++++++ GO_Cellular_Component_2023 +++++++++++\n",
      "\n",
      "+++++++++++ GO_Molecular_Function_2023 +++++++++++\n",
      "\n",
      "+++++++++++ KEGG_2019_Human +++++++++++\n",
      "\n",
      "########### Aging-3 ###########\n",
      "\n",
      "+++++++++++ MSigDB_Hallmark_2020 +++++++++++\n",
      "\n",
      "+++++++++++ GO_Biological_Process_2023 +++++++++++\n",
      "\n",
      "+++++++++++ GO_Cellular_Component_2023 +++++++++++\n",
      "\n",
      "+++++++++++ GO_Molecular_Function_2023 +++++++++++\n",
      "\n",
      "+++++++++++ KEGG_2019_Human +++++++++++\n",
      "\n",
      "########### Aging-2 ###########\n",
      "\n",
      "+++++++++++ MSigDB_Hallmark_2020 +++++++++++\n",
      "\n",
      "+++++++++++ GO_Biological_Process_2023 +++++++++++\n",
      "\n",
      "+++++++++++ GO_Cellular_Component_2023 +++++++++++\n",
      "\n",
      "+++++++++++ GO_Molecular_Function_2023 +++++++++++\n",
      "\n",
      "+++++++++++ KEGG_2019_Human +++++++++++\n",
      "\n",
      "########### Aging-0 ###########\n",
      "\n",
      "+++++++++++ MSigDB_Hallmark_2020 +++++++++++\n",
      "\n",
      "+++++++++++ GO_Biological_Process_2023 +++++++++++\n",
      "\n",
      "+++++++++++ GO_Cellular_Component_2023 +++++++++++\n",
      "\n",
      "+++++++++++ GO_Molecular_Function_2023 +++++++++++\n",
      "\n",
      "+++++++++++ KEGG_2019_Human +++++++++++\n",
      "\n",
      "########### Aging-4 ###########\n",
      "\n",
      "+++++++++++ MSigDB_Hallmark_2020 +++++++++++\n",
      "\n",
      "+++++++++++ GO_Biological_Process_2023 +++++++++++\n",
      "\n",
      "+++++++++++ GO_Cellular_Component_2023 +++++++++++\n",
      "\n",
      "+++++++++++ GO_Molecular_Function_2023 +++++++++++\n",
      "\n",
      "+++++++++++ KEGG_2019_Human +++++++++++\n",
      "\n",
      "########### Aging-1 ###########\n",
      "\n",
      "+++++++++++ MSigDB_Hallmark_2020 +++++++++++\n",
      "\n",
      "+++++++++++ GO_Biological_Process_2023 +++++++++++\n",
      "\n",
      "+++++++++++ GO_Cellular_Component_2023 +++++++++++\n",
      "\n",
      "+++++++++++ GO_Molecular_Function_2023 +++++++++++\n",
      "\n",
      "+++++++++++ KEGG_2019_Human +++++++++++\n",
      "\n",
      "########### Aging-7 ###########\n",
      "\n",
      "+++++++++++ MSigDB_Hallmark_2020 +++++++++++\n",
      "\n",
      "+++++++++++ GO_Biological_Process_2023 +++++++++++\n",
      "\n",
      "+++++++++++ GO_Cellular_Component_2023 +++++++++++\n",
      "\n",
      "+++++++++++ GO_Molecular_Function_2023 +++++++++++\n",
      "\n",
      "+++++++++++ KEGG_2019_Human +++++++++++\n",
      "\n",
      "########### Aging-8 ###########\n",
      "\n",
      "+++++++++++ MSigDB_Hallmark_2020 +++++++++++\n",
      "\n",
      "+++++++++++ GO_Biological_Process_2023 +++++++++++\n",
      "\n",
      "+++++++++++ GO_Cellular_Component_2023 +++++++++++\n",
      "\n",
      "+++++++++++ GO_Molecular_Function_2023 +++++++++++\n",
      "\n",
      "+++++++++++ KEGG_2019_Human +++++++++++\n"
     ]
    }
   ],
   "source": [
    "results = []\n",
    "for latent, gene_list in latent_features.items():\n",
    "    print(f'\\n########### {latent} ###########')\n",
    "    for gene_set in marker_sets:\n",
    "        print(f'\\n+++++++++++ {gene_set} +++++++++++')\n",
    "        results.append(find_enrichment(latent, list(gene_list), gene_set, verbose=False))\n",
    "        sleep(PAUSE_AMT)"
   ]
  },
  {
   "cell_type": "markdown",
   "id": "b2c83eff-ef45-4e74-b6c3-01e3eabc3220",
   "metadata": {},
   "source": [
    "#### convert full enrichment results into combined data frame"
   ]
  },
  {
   "cell_type": "code",
   "execution_count": 18,
   "id": "9483ec01-41fb-4af0-a180-ca85d2431e2f",
   "metadata": {
    "scrolled": true
   },
   "outputs": [
    {
     "name": "stdout",
     "output_type": "stream",
     "text": [
      "full results shape (17113, 11)\n"
     ]
    },
    {
     "data": {
      "text/html": [
       "<div>\n",
       "<style scoped>\n",
       "    .dataframe tbody tr th:only-of-type {\n",
       "        vertical-align: middle;\n",
       "    }\n",
       "\n",
       "    .dataframe tbody tr th {\n",
       "        vertical-align: top;\n",
       "    }\n",
       "\n",
       "    .dataframe thead th {\n",
       "        text-align: right;\n",
       "    }\n",
       "</style>\n",
       "<table border=\"1\" class=\"dataframe\">\n",
       "  <thead>\n",
       "    <tr style=\"text-align: right;\">\n",
       "      <th></th>\n",
       "      <th>Gene_set</th>\n",
       "      <th>Term</th>\n",
       "      <th>Overlap</th>\n",
       "      <th>P-value</th>\n",
       "      <th>Adjusted P-value</th>\n",
       "      <th>Old P-value</th>\n",
       "      <th>Old Adjusted P-value</th>\n",
       "      <th>Odds Ratio</th>\n",
       "      <th>Combined Score</th>\n",
       "      <th>Genes</th>\n",
       "      <th>factor</th>\n",
       "    </tr>\n",
       "  </thead>\n",
       "  <tbody>\n",
       "    <tr>\n",
       "      <th>1053</th>\n",
       "      <td>GO_Biological_Process_2023</td>\n",
       "      <td>Regulation Of Glycolytic Process (GO:0006110)</td>\n",
       "      <td>1/40</td>\n",
       "      <td>0.799174</td>\n",
       "      <td>0.999993</td>\n",
       "      <td>0</td>\n",
       "      <td>0</td>\n",
       "      <td>0.626327</td>\n",
       "      <td>0.140408</td>\n",
       "      <td>P2RX7</td>\n",
       "      <td>Aging-4</td>\n",
       "    </tr>\n",
       "    <tr>\n",
       "      <th>67</th>\n",
       "      <td>GO_Biological_Process_2023</td>\n",
       "      <td>Regulation Of DNA Repair (GO:0006282)</td>\n",
       "      <td>6/129</td>\n",
       "      <td>0.018184</td>\n",
       "      <td>0.474794</td>\n",
       "      <td>0</td>\n",
       "      <td>0</td>\n",
       "      <td>3.018679</td>\n",
       "      <td>12.096486</td>\n",
       "      <td>BABAM2;SMARCD3;UBE2N;BRD7;TAF5L;PML</td>\n",
       "      <td>Aging-1</td>\n",
       "    </tr>\n",
       "    <tr>\n",
       "      <th>387</th>\n",
       "      <td>GO_Biological_Process_2023</td>\n",
       "      <td>Anterior/Posterior Pattern Specification (GO:0...</td>\n",
       "      <td>1/59</td>\n",
       "      <td>0.240724</td>\n",
       "      <td>0.384292</td>\n",
       "      <td>0</td>\n",
       "      <td>0</td>\n",
       "      <td>3.719828</td>\n",
       "      <td>5.297425</td>\n",
       "      <td>SKI</td>\n",
       "      <td>Aging-7</td>\n",
       "    </tr>\n",
       "    <tr>\n",
       "      <th>255</th>\n",
       "      <td>GO_Molecular_Function_2023</td>\n",
       "      <td>Heme Binding (GO:0020037)</td>\n",
       "      <td>2/87</td>\n",
       "      <td>0.861261</td>\n",
       "      <td>0.999994</td>\n",
       "      <td>0</td>\n",
       "      <td>0</td>\n",
       "      <td>0.574100</td>\n",
       "      <td>0.085746</td>\n",
       "      <td>CYB5A;CYB561D2</td>\n",
       "      <td>Aging-4</td>\n",
       "    </tr>\n",
       "    <tr>\n",
       "      <th>9</th>\n",
       "      <td>MSigDB_Hallmark_2020</td>\n",
       "      <td>Hedgehog Signaling</td>\n",
       "      <td>1/36</td>\n",
       "      <td>0.274068</td>\n",
       "      <td>0.819659</td>\n",
       "      <td>0</td>\n",
       "      <td>0</td>\n",
       "      <td>3.212338</td>\n",
       "      <td>4.157981</td>\n",
       "      <td>MYH9</td>\n",
       "      <td>Aging-5</td>\n",
       "    </tr>\n",
       "  </tbody>\n",
       "</table>\n",
       "</div>"
      ],
      "text/plain": [
       "                        Gene_set  \\\n",
       "1053  GO_Biological_Process_2023   \n",
       "67    GO_Biological_Process_2023   \n",
       "387   GO_Biological_Process_2023   \n",
       "255   GO_Molecular_Function_2023   \n",
       "9           MSigDB_Hallmark_2020   \n",
       "\n",
       "                                                   Term Overlap   P-value  \\\n",
       "1053      Regulation Of Glycolytic Process (GO:0006110)    1/40  0.799174   \n",
       "67                Regulation Of DNA Repair (GO:0006282)   6/129  0.018184   \n",
       "387   Anterior/Posterior Pattern Specification (GO:0...    1/59  0.240724   \n",
       "255                           Heme Binding (GO:0020037)    2/87  0.861261   \n",
       "9                                    Hedgehog Signaling    1/36  0.274068   \n",
       "\n",
       "      Adjusted P-value  Old P-value  Old Adjusted P-value  Odds Ratio  \\\n",
       "1053          0.999993            0                     0    0.626327   \n",
       "67            0.474794            0                     0    3.018679   \n",
       "387           0.384292            0                     0    3.719828   \n",
       "255           0.999994            0                     0    0.574100   \n",
       "9             0.819659            0                     0    3.212338   \n",
       "\n",
       "      Combined Score                                Genes   factor  \n",
       "1053        0.140408                                P2RX7  Aging-4  \n",
       "67         12.096486  BABAM2;SMARCD3;UBE2N;BRD7;TAF5L;PML  Aging-1  \n",
       "387         5.297425                                  SKI  Aging-7  \n",
       "255         0.085746                       CYB5A;CYB561D2  Aging-4  \n",
       "9           4.157981                                 MYH9  Aging-5  "
      ]
     },
     "metadata": {},
     "output_type": "display_data"
    },
    {
     "data": {
      "text/plain": [
       "GO_Biological_Process_2023    11863\n",
       "GO_Molecular_Function_2023     2326\n",
       "KEGG_2019_Human                1341\n",
       "GO_Cellular_Component_2023     1282\n",
       "MSigDB_Hallmark_2020            301\n",
       "Name: Gene_set, dtype: int64"
      ]
     },
     "metadata": {},
     "output_type": "display_data"
    }
   ],
   "source": [
    "results_df = concat(results)\n",
    "print(f'full results shape {results_df.shape}')\n",
    "if DEBUG:\n",
    "    display(results_df.sample(5))\n",
    "    display(results_df.Gene_set.value_counts())"
   ]
  },
  {
   "cell_type": "markdown",
   "id": "ceba5fdf-35de-406e-8890-7b4eeb517274",
   "metadata": {},
   "source": [
    "### clean-up the GO term entity"
   ]
  },
  {
   "cell_type": "code",
   "execution_count": 19,
   "id": "c7344251-1c2a-4ceb-bf6c-3e3a105cc7f2",
   "metadata": {},
   "outputs": [
    {
     "name": "stdout",
     "output_type": "stream",
     "text": [
      "shape of GSEA post Term naming cleanup (17113, 11)\n"
     ]
    },
    {
     "data": {
      "text/html": [
       "<div>\n",
       "<style scoped>\n",
       "    .dataframe tbody tr th:only-of-type {\n",
       "        vertical-align: middle;\n",
       "    }\n",
       "\n",
       "    .dataframe tbody tr th {\n",
       "        vertical-align: top;\n",
       "    }\n",
       "\n",
       "    .dataframe thead th {\n",
       "        text-align: right;\n",
       "    }\n",
       "</style>\n",
       "<table border=\"1\" class=\"dataframe\">\n",
       "  <thead>\n",
       "    <tr style=\"text-align: right;\">\n",
       "      <th></th>\n",
       "      <th>Gene_set</th>\n",
       "      <th>Term</th>\n",
       "      <th>Overlap</th>\n",
       "      <th>P-value</th>\n",
       "      <th>Adjusted P-value</th>\n",
       "      <th>Old P-value</th>\n",
       "      <th>Old Adjusted P-value</th>\n",
       "      <th>Odds Ratio</th>\n",
       "      <th>Combined Score</th>\n",
       "      <th>Genes</th>\n",
       "      <th>factor</th>\n",
       "    </tr>\n",
       "  </thead>\n",
       "  <tbody>\n",
       "    <tr>\n",
       "      <th>1565</th>\n",
       "      <td>Biological_Process</td>\n",
       "      <td>Biological_Process: Negative Regulation Of Neu...</td>\n",
       "      <td>1/54</td>\n",
       "      <td>0.584239</td>\n",
       "      <td>0.667755</td>\n",
       "      <td>0</td>\n",
       "      <td>0</td>\n",
       "      <td>1.153530</td>\n",
       "      <td>0.619958</td>\n",
       "      <td>EFNA1</td>\n",
       "      <td>Aging-1</td>\n",
       "    </tr>\n",
       "    <tr>\n",
       "      <th>157</th>\n",
       "      <td>Cellular_Component</td>\n",
       "      <td>Cellular_Component: trans-Golgi Network (GO:00...</td>\n",
       "      <td>3/241</td>\n",
       "      <td>0.996367</td>\n",
       "      <td>0.999993</td>\n",
       "      <td>0</td>\n",
       "      <td>0</td>\n",
       "      <td>0.305483</td>\n",
       "      <td>0.001112</td>\n",
       "      <td>CLBA1;TRAPPC9;SLC24A5</td>\n",
       "      <td>Aging-4</td>\n",
       "    </tr>\n",
       "    <tr>\n",
       "      <th>38</th>\n",
       "      <td>Cellular_Component</td>\n",
       "      <td>Cellular_Component: Cornified Envelope (GO:000...</td>\n",
       "      <td>2/41</td>\n",
       "      <td>0.482844</td>\n",
       "      <td>0.999993</td>\n",
       "      <td>0</td>\n",
       "      <td>0</td>\n",
       "      <td>1.254252</td>\n",
       "      <td>0.913171</td>\n",
       "      <td>JUP;HRNR</td>\n",
       "      <td>Aging-4</td>\n",
       "    </tr>\n",
       "    <tr>\n",
       "      <th>18</th>\n",
       "      <td>Biological_Process</td>\n",
       "      <td>Biological_Process: Regulation Of Type B Pancr...</td>\n",
       "      <td>1/5</td>\n",
       "      <td>0.023037</td>\n",
       "      <td>0.308136</td>\n",
       "      <td>0</td>\n",
       "      <td>0</td>\n",
       "      <td>54.084239</td>\n",
       "      <td>203.933174</td>\n",
       "      <td>NUPR1</td>\n",
       "      <td>Aging-7</td>\n",
       "    </tr>\n",
       "    <tr>\n",
       "      <th>619</th>\n",
       "      <td>Biological_Process</td>\n",
       "      <td>Biological_Process: Activation Of Adenylate Cy...</td>\n",
       "      <td>1/20</td>\n",
       "      <td>0.551681</td>\n",
       "      <td>0.999993</td>\n",
       "      <td>0</td>\n",
       "      <td>0</td>\n",
       "      <td>1.286959</td>\n",
       "      <td>0.765466</td>\n",
       "      <td>GIPR</td>\n",
       "      <td>Aging-4</td>\n",
       "    </tr>\n",
       "  </tbody>\n",
       "</table>\n",
       "</div>"
      ],
      "text/plain": [
       "                Gene_set                                               Term  \\\n",
       "1565  Biological_Process  Biological_Process: Negative Regulation Of Neu...   \n",
       "157   Cellular_Component  Cellular_Component: trans-Golgi Network (GO:00...   \n",
       "38    Cellular_Component  Cellular_Component: Cornified Envelope (GO:000...   \n",
       "18    Biological_Process  Biological_Process: Regulation Of Type B Pancr...   \n",
       "619   Biological_Process  Biological_Process: Activation Of Adenylate Cy...   \n",
       "\n",
       "     Overlap   P-value  Adjusted P-value  Old P-value  Old Adjusted P-value  \\\n",
       "1565    1/54  0.584239          0.667755            0                     0   \n",
       "157    3/241  0.996367          0.999993            0                     0   \n",
       "38      2/41  0.482844          0.999993            0                     0   \n",
       "18       1/5  0.023037          0.308136            0                     0   \n",
       "619     1/20  0.551681          0.999993            0                     0   \n",
       "\n",
       "      Odds Ratio  Combined Score                  Genes   factor  \n",
       "1565    1.153530        0.619958                  EFNA1  Aging-1  \n",
       "157     0.305483        0.001112  CLBA1;TRAPPC9;SLC24A5  Aging-4  \n",
       "38      1.254252        0.913171               JUP;HRNR  Aging-4  \n",
       "18     54.084239      203.933174                  NUPR1  Aging-7  \n",
       "619     1.286959        0.765466                   GIPR  Aging-4  "
      ]
     },
     "metadata": {},
     "output_type": "display_data"
    }
   ],
   "source": [
    "results_df['Gene_set'] = results_df.Gene_set.str.replace('GO_','')\n",
    "results_df['Gene_set'] = results_df.Gene_set.str.replace('_2020','')\n",
    "results_df['Gene_set'] = results_df.Gene_set.str.replace('_2023','')\n",
    "results_df['Gene_set'] = results_df.Gene_set.str.replace('_2019_Human','')\n",
    "results_df['Term'] = results_df.Gene_set + ': ' + results_df.Term\n",
    "print(f'shape of GSEA post Term naming cleanup {results_df.shape}')\n",
    "if DEBUG:\n",
    "    display(results_df.sample(5))"
   ]
  },
  {
   "cell_type": "markdown",
   "id": "5f34acb2-23f1-4225-ab9b-74556e0a18cc",
   "metadata": {},
   "source": [
    "#### how many are statistically significant"
   ]
  },
  {
   "cell_type": "code",
   "execution_count": 20,
   "id": "defc82a6-9468-4bdf-a86f-d6bf169e8fd6",
   "metadata": {},
   "outputs": [
    {
     "name": "stdout",
     "output_type": "stream",
     "text": [
      "9 terms were detected\n"
     ]
    },
    {
     "data": {
      "text/html": [
       "<div>\n",
       "<style scoped>\n",
       "    .dataframe tbody tr th:only-of-type {\n",
       "        vertical-align: middle;\n",
       "    }\n",
       "\n",
       "    .dataframe tbody tr th {\n",
       "        vertical-align: top;\n",
       "    }\n",
       "\n",
       "    .dataframe thead th {\n",
       "        text-align: right;\n",
       "    }\n",
       "</style>\n",
       "<table border=\"1\" class=\"dataframe\">\n",
       "  <thead>\n",
       "    <tr style=\"text-align: right;\">\n",
       "      <th></th>\n",
       "      <th>Gene_set</th>\n",
       "      <th>Term</th>\n",
       "      <th>Overlap</th>\n",
       "      <th>P-value</th>\n",
       "      <th>Adjusted P-value</th>\n",
       "      <th>Old P-value</th>\n",
       "      <th>Old Adjusted P-value</th>\n",
       "      <th>Odds Ratio</th>\n",
       "      <th>Combined Score</th>\n",
       "      <th>Genes</th>\n",
       "      <th>factor</th>\n",
       "    </tr>\n",
       "  </thead>\n",
       "  <tbody>\n",
       "    <tr>\n",
       "      <th>0</th>\n",
       "      <td>Biological_Process</td>\n",
       "      <td>Biological_Process: Purine Nucleotide Metaboli...</td>\n",
       "      <td>2/34</td>\n",
       "      <td>0.000422</td>\n",
       "      <td>0.029764</td>\n",
       "      <td>0</td>\n",
       "      <td>0</td>\n",
       "      <td>77.929688</td>\n",
       "      <td>605.569275</td>\n",
       "      <td>GUK1;PPAT</td>\n",
       "      <td>Aging-8</td>\n",
       "    </tr>\n",
       "    <tr>\n",
       "      <th>1</th>\n",
       "      <td>Biological_Process</td>\n",
       "      <td>Biological_Process: RNA Splicing, Via Transest...</td>\n",
       "      <td>3/180</td>\n",
       "      <td>0.000530</td>\n",
       "      <td>0.029764</td>\n",
       "      <td>0</td>\n",
       "      <td>0</td>\n",
       "      <td>22.378531</td>\n",
       "      <td>168.810727</td>\n",
       "      <td>PPIL1;HNRNPH1;SRSF12</td>\n",
       "      <td>Aging-8</td>\n",
       "    </tr>\n",
       "    <tr>\n",
       "      <th>2</th>\n",
       "      <td>Biological_Process</td>\n",
       "      <td>Biological_Process: mRNA Splicing, Via Spliceo...</td>\n",
       "      <td>3/211</td>\n",
       "      <td>0.000840</td>\n",
       "      <td>0.029764</td>\n",
       "      <td>0</td>\n",
       "      <td>0</td>\n",
       "      <td>19.013462</td>\n",
       "      <td>134.647566</td>\n",
       "      <td>PPIL1;HNRNPH1;SRSF12</td>\n",
       "      <td>Aging-8</td>\n",
       "    </tr>\n",
       "    <tr>\n",
       "      <th>3</th>\n",
       "      <td>Biological_Process</td>\n",
       "      <td>Biological_Process: mRNA Processing (GO:0006397)</td>\n",
       "      <td>3/214</td>\n",
       "      <td>0.000875</td>\n",
       "      <td>0.029764</td>\n",
       "      <td>0</td>\n",
       "      <td>0</td>\n",
       "      <td>18.740284</td>\n",
       "      <td>131.947167</td>\n",
       "      <td>PPIL1;HNRNPH1;SRSF12</td>\n",
       "      <td>Aging-8</td>\n",
       "    </tr>\n",
       "    <tr>\n",
       "      <th>0</th>\n",
       "      <td>Biological_Process</td>\n",
       "      <td>Biological_Process: Vascular Transport (GO:001...</td>\n",
       "      <td>12/83</td>\n",
       "      <td>0.000008</td>\n",
       "      <td>0.013109</td>\n",
       "      <td>0</td>\n",
       "      <td>0</td>\n",
       "      <td>5.469602</td>\n",
       "      <td>64.415183</td>\n",
       "      <td>ABCC4;SLC7A5;SLC13A3;SLC24A3;SLC16A1;SLC1A3;AT...</td>\n",
       "      <td>Aging-0</td>\n",
       "    </tr>\n",
       "    <tr>\n",
       "      <th>1</th>\n",
       "      <td>Biological_Process</td>\n",
       "      <td>Biological_Process: Transport Across Blood-Bra...</td>\n",
       "      <td>12/85</td>\n",
       "      <td>0.000010</td>\n",
       "      <td>0.013109</td>\n",
       "      <td>0</td>\n",
       "      <td>0</td>\n",
       "      <td>5.319199</td>\n",
       "      <td>61.308643</td>\n",
       "      <td>ABCC4;SLC7A5;SLC13A3;SLC24A3;SLC16A1;SLC1A3;AT...</td>\n",
       "      <td>Aging-0</td>\n",
       "    </tr>\n",
       "    <tr>\n",
       "      <th>0</th>\n",
       "      <td>KEGG</td>\n",
       "      <td>KEGG: Th1 and Th2 cell differentiation</td>\n",
       "      <td>11/92</td>\n",
       "      <td>0.000110</td>\n",
       "      <td>0.027979</td>\n",
       "      <td>0</td>\n",
       "      <td>0</td>\n",
       "      <td>4.385193</td>\n",
       "      <td>39.982349</td>\n",
       "      <td>NOTCH2;MAPK10;MAPK9;PPP3CB;CD4;IL4R;MAML1;JAK3...</td>\n",
       "      <td>Aging-0</td>\n",
       "    </tr>\n",
       "    <tr>\n",
       "      <th>0</th>\n",
       "      <td>MSigDB_Hallmark</td>\n",
       "      <td>MSigDB_Hallmark: TNF-alpha Signaling via NF-kB</td>\n",
       "      <td>17/200</td>\n",
       "      <td>0.000140</td>\n",
       "      <td>0.006857</td>\n",
       "      <td>0</td>\n",
       "      <td>0</td>\n",
       "      <td>3.014104</td>\n",
       "      <td>26.748020</td>\n",
       "      <td>PTGER4;CD83;PFKFB3;GADD45B;PLAUR;LITAF;SAT1;ET...</td>\n",
       "      <td>Aging-0</td>\n",
       "    </tr>\n",
       "    <tr>\n",
       "      <th>1</th>\n",
       "      <td>MSigDB_Hallmark</td>\n",
       "      <td>MSigDB_Hallmark: Complement</td>\n",
       "      <td>16/200</td>\n",
       "      <td>0.000431</td>\n",
       "      <td>0.010553</td>\n",
       "      <td>0</td>\n",
       "      <td>0</td>\n",
       "      <td>2.816482</td>\n",
       "      <td>21.827845</td>\n",
       "      <td>LYN;CPM;C1S;PRKCD;PLAUR;CBLB;RNF4;CP;RBSN;PLSC...</td>\n",
       "      <td>Aging-0</td>\n",
       "    </tr>\n",
       "  </tbody>\n",
       "</table>\n",
       "</div>"
      ],
      "text/plain": [
       "             Gene_set                                               Term  \\\n",
       "0  Biological_Process  Biological_Process: Purine Nucleotide Metaboli...   \n",
       "1  Biological_Process  Biological_Process: RNA Splicing, Via Transest...   \n",
       "2  Biological_Process  Biological_Process: mRNA Splicing, Via Spliceo...   \n",
       "3  Biological_Process   Biological_Process: mRNA Processing (GO:0006397)   \n",
       "0  Biological_Process  Biological_Process: Vascular Transport (GO:001...   \n",
       "1  Biological_Process  Biological_Process: Transport Across Blood-Bra...   \n",
       "0                KEGG             KEGG: Th1 and Th2 cell differentiation   \n",
       "0     MSigDB_Hallmark     MSigDB_Hallmark: TNF-alpha Signaling via NF-kB   \n",
       "1     MSigDB_Hallmark                        MSigDB_Hallmark: Complement   \n",
       "\n",
       "  Overlap   P-value  Adjusted P-value  Old P-value  Old Adjusted P-value  \\\n",
       "0    2/34  0.000422          0.029764            0                     0   \n",
       "1   3/180  0.000530          0.029764            0                     0   \n",
       "2   3/211  0.000840          0.029764            0                     0   \n",
       "3   3/214  0.000875          0.029764            0                     0   \n",
       "0   12/83  0.000008          0.013109            0                     0   \n",
       "1   12/85  0.000010          0.013109            0                     0   \n",
       "0   11/92  0.000110          0.027979            0                     0   \n",
       "0  17/200  0.000140          0.006857            0                     0   \n",
       "1  16/200  0.000431          0.010553            0                     0   \n",
       "\n",
       "   Odds Ratio  Combined Score  \\\n",
       "0   77.929688      605.569275   \n",
       "1   22.378531      168.810727   \n",
       "2   19.013462      134.647566   \n",
       "3   18.740284      131.947167   \n",
       "0    5.469602       64.415183   \n",
       "1    5.319199       61.308643   \n",
       "0    4.385193       39.982349   \n",
       "0    3.014104       26.748020   \n",
       "1    2.816482       21.827845   \n",
       "\n",
       "                                               Genes   factor  \n",
       "0                                          GUK1;PPAT  Aging-8  \n",
       "1                               PPIL1;HNRNPH1;SRSF12  Aging-8  \n",
       "2                               PPIL1;HNRNPH1;SRSF12  Aging-8  \n",
       "3                               PPIL1;HNRNPH1;SRSF12  Aging-8  \n",
       "0  ABCC4;SLC7A5;SLC13A3;SLC24A3;SLC16A1;SLC1A3;AT...  Aging-0  \n",
       "1  ABCC4;SLC7A5;SLC13A3;SLC24A3;SLC16A1;SLC1A3;AT...  Aging-0  \n",
       "0  NOTCH2;MAPK10;MAPK9;PPP3CB;CD4;IL4R;MAML1;JAK3...  Aging-0  \n",
       "0  PTGER4;CD83;PFKFB3;GADD45B;PLAUR;LITAF;SAT1;ET...  Aging-0  \n",
       "1  LYN;CPM;C1S;PRKCD;PLAUR;CBLB;RNF4;CP;RBSN;PLSC...  Aging-0  "
      ]
     },
     "metadata": {},
     "output_type": "display_data"
    }
   ],
   "source": [
    "alpha = 0.05\n",
    "sig_results = results_df.loc[results_df['Adjusted P-value'] <= alpha]\n",
    "print(f'{sig_results.shape[0]} terms were detected')\n",
    "if sig_results.shape[0] < 20:\n",
    "    display(sig_results.sort_values('Odds Ratio', ascending=False))\n",
    "else:\n",
    "    display(sig_results.sort_values('Odds Ratio', ascending=False).head(20))"
   ]
  },
  {
   "cell_type": "markdown",
   "id": "a4182b23-e071-4140-9fbf-f40c4ca17dac",
   "metadata": {},
   "source": [
    "### save the GSEA Enrichments detected"
   ]
  },
  {
   "cell_type": "code",
   "execution_count": 21,
   "id": "d992c179-ee80-4af5-8b3f-ca9af85596c4",
   "metadata": {},
   "outputs": [],
   "source": [
    "sig_results.to_csv(results_file)"
   ]
  },
  {
   "cell_type": "markdown",
   "id": "6f44c60c-e778-4fd3-85b5-f9e88e5a1c08",
   "metadata": {},
   "source": [
    "### reshape the dataframe from long to wide"
   ]
  },
  {
   "cell_type": "code",
   "execution_count": 22,
   "id": "fae95fe7-eca9-48ad-88cb-9ebe4f8cce0f",
   "metadata": {},
   "outputs": [
    {
     "name": "stdout",
     "output_type": "stream",
     "text": [
      "shape of wide reformated results (9, 9)\n"
     ]
    },
    {
     "data": {
      "text/html": [
       "<div>\n",
       "<style scoped>\n",
       "    .dataframe tbody tr th:only-of-type {\n",
       "        vertical-align: middle;\n",
       "    }\n",
       "\n",
       "    .dataframe tbody tr th {\n",
       "        vertical-align: top;\n",
       "    }\n",
       "\n",
       "    .dataframe thead th {\n",
       "        text-align: right;\n",
       "    }\n",
       "</style>\n",
       "<table border=\"1\" class=\"dataframe\">\n",
       "  <thead>\n",
       "    <tr style=\"text-align: right;\">\n",
       "      <th>factor</th>\n",
       "      <th>Aging-0</th>\n",
       "      <th>Aging-1</th>\n",
       "      <th>Aging-2</th>\n",
       "      <th>Aging-3</th>\n",
       "      <th>Aging-4</th>\n",
       "      <th>Aging-5</th>\n",
       "      <th>Aging-6</th>\n",
       "      <th>Aging-7</th>\n",
       "      <th>Aging-8</th>\n",
       "    </tr>\n",
       "    <tr>\n",
       "      <th>Term</th>\n",
       "      <th></th>\n",
       "      <th></th>\n",
       "      <th></th>\n",
       "      <th></th>\n",
       "      <th></th>\n",
       "      <th></th>\n",
       "      <th></th>\n",
       "      <th></th>\n",
       "      <th></th>\n",
       "    </tr>\n",
       "  </thead>\n",
       "  <tbody>\n",
       "    <tr>\n",
       "      <th>Biological_Process: Purine Nucleotide Metabolic Process (GO:0006163)</th>\n",
       "      <td>1.99</td>\n",
       "      <td>NaN</td>\n",
       "      <td>NaN</td>\n",
       "      <td>5.23</td>\n",
       "      <td>NaN</td>\n",
       "      <td>7.07</td>\n",
       "      <td>NaN</td>\n",
       "      <td>NaN</td>\n",
       "      <td>77.93</td>\n",
       "    </tr>\n",
       "    <tr>\n",
       "      <th>Biological_Process: RNA Splicing, Via Transesterification Reactions With Bulged Adenosine As Nucleophile (GO:0000377)</th>\n",
       "      <td>0.54</td>\n",
       "      <td>NaN</td>\n",
       "      <td>NaN</td>\n",
       "      <td>NaN</td>\n",
       "      <td>0.70</td>\n",
       "      <td>2.58</td>\n",
       "      <td>0.46</td>\n",
       "      <td>1.20</td>\n",
       "      <td>22.38</td>\n",
       "    </tr>\n",
       "    <tr>\n",
       "      <th>Biological_Process: Transport Across Blood-Brain Barrier (GO:0150104)</th>\n",
       "      <td>5.32</td>\n",
       "      <td>1.48</td>\n",
       "      <td>NaN</td>\n",
       "      <td>NaN</td>\n",
       "      <td>0.59</td>\n",
       "      <td>NaN</td>\n",
       "      <td>1.23</td>\n",
       "      <td>NaN</td>\n",
       "      <td>NaN</td>\n",
       "    </tr>\n",
       "    <tr>\n",
       "      <th>Biological_Process: Vascular Transport (GO:0010232)</th>\n",
       "      <td>5.47</td>\n",
       "      <td>1.51</td>\n",
       "      <td>NaN</td>\n",
       "      <td>NaN</td>\n",
       "      <td>0.60</td>\n",
       "      <td>NaN</td>\n",
       "      <td>1.03</td>\n",
       "      <td>NaN</td>\n",
       "      <td>NaN</td>\n",
       "    </tr>\n",
       "    <tr>\n",
       "      <th>Biological_Process: mRNA Processing (GO:0006397)</th>\n",
       "      <td>0.60</td>\n",
       "      <td>0.28</td>\n",
       "      <td>NaN</td>\n",
       "      <td>0.80</td>\n",
       "      <td>0.58</td>\n",
       "      <td>2.73</td>\n",
       "      <td>0.62</td>\n",
       "      <td>1.01</td>\n",
       "      <td>18.74</td>\n",
       "    </tr>\n",
       "    <tr>\n",
       "      <th>Biological_Process: mRNA Splicing, Via Spliceosome (GO:0000398)</th>\n",
       "      <td>0.46</td>\n",
       "      <td>0.29</td>\n",
       "      <td>0.81</td>\n",
       "      <td>0.81</td>\n",
       "      <td>0.71</td>\n",
       "      <td>2.77</td>\n",
       "      <td>0.55</td>\n",
       "      <td>1.02</td>\n",
       "      <td>19.01</td>\n",
       "    </tr>\n",
       "    <tr>\n",
       "      <th>KEGG: Th1 and Th2 cell differentiation</th>\n",
       "      <td>4.39</td>\n",
       "      <td>0.67</td>\n",
       "      <td>NaN</td>\n",
       "      <td>1.89</td>\n",
       "      <td>0.27</td>\n",
       "      <td>NaN</td>\n",
       "      <td>0.73</td>\n",
       "      <td>NaN</td>\n",
       "      <td>NaN</td>\n",
       "    </tr>\n",
       "    <tr>\n",
       "      <th>MSigDB_Hallmark: Complement</th>\n",
       "      <td>2.82</td>\n",
       "      <td>1.58</td>\n",
       "      <td>NaN</td>\n",
       "      <td>0.86</td>\n",
       "      <td>1.02</td>\n",
       "      <td>0.56</td>\n",
       "      <td>0.85</td>\n",
       "      <td>3.34</td>\n",
       "      <td>NaN</td>\n",
       "    </tr>\n",
       "    <tr>\n",
       "      <th>MSigDB_Hallmark: TNF-alpha Signaling via NF-kB</th>\n",
       "      <td>3.01</td>\n",
       "      <td>2.93</td>\n",
       "      <td>NaN</td>\n",
       "      <td>NaN</td>\n",
       "      <td>0.50</td>\n",
       "      <td>1.72</td>\n",
       "      <td>0.76</td>\n",
       "      <td>NaN</td>\n",
       "      <td>NaN</td>\n",
       "    </tr>\n",
       "  </tbody>\n",
       "</table>\n",
       "</div>"
      ],
      "text/plain": [
       "factor                                              Aging-0  Aging-1  Aging-2  \\\n",
       "Term                                                                            \n",
       "Biological_Process: Purine Nucleotide Metabolic...     1.99      NaN      NaN   \n",
       "Biological_Process: RNA Splicing, Via Transeste...     0.54      NaN      NaN   \n",
       "Biological_Process: Transport Across Blood-Brai...     5.32     1.48      NaN   \n",
       "Biological_Process: Vascular Transport (GO:0010...     5.47     1.51      NaN   \n",
       "Biological_Process: mRNA Processing (GO:0006397)       0.60     0.28      NaN   \n",
       "Biological_Process: mRNA Splicing, Via Spliceos...     0.46     0.29     0.81   \n",
       "KEGG: Th1 and Th2 cell differentiation                 4.39     0.67      NaN   \n",
       "MSigDB_Hallmark: Complement                            2.82     1.58      NaN   \n",
       "MSigDB_Hallmark: TNF-alpha Signaling via NF-kB         3.01     2.93      NaN   \n",
       "\n",
       "factor                                              Aging-3  Aging-4  Aging-5  \\\n",
       "Term                                                                            \n",
       "Biological_Process: Purine Nucleotide Metabolic...     5.23      NaN     7.07   \n",
       "Biological_Process: RNA Splicing, Via Transeste...      NaN     0.70     2.58   \n",
       "Biological_Process: Transport Across Blood-Brai...      NaN     0.59      NaN   \n",
       "Biological_Process: Vascular Transport (GO:0010...      NaN     0.60      NaN   \n",
       "Biological_Process: mRNA Processing (GO:0006397)       0.80     0.58     2.73   \n",
       "Biological_Process: mRNA Splicing, Via Spliceos...     0.81     0.71     2.77   \n",
       "KEGG: Th1 and Th2 cell differentiation                 1.89     0.27      NaN   \n",
       "MSigDB_Hallmark: Complement                            0.86     1.02     0.56   \n",
       "MSigDB_Hallmark: TNF-alpha Signaling via NF-kB          NaN     0.50     1.72   \n",
       "\n",
       "factor                                              Aging-6  Aging-7  Aging-8  \n",
       "Term                                                                           \n",
       "Biological_Process: Purine Nucleotide Metabolic...      NaN      NaN    77.93  \n",
       "Biological_Process: RNA Splicing, Via Transeste...     0.46     1.20    22.38  \n",
       "Biological_Process: Transport Across Blood-Brai...     1.23      NaN      NaN  \n",
       "Biological_Process: Vascular Transport (GO:0010...     1.03      NaN      NaN  \n",
       "Biological_Process: mRNA Processing (GO:0006397)       0.62     1.01    18.74  \n",
       "Biological_Process: mRNA Splicing, Via Spliceos...     0.55     1.02    19.01  \n",
       "KEGG: Th1 and Th2 cell differentiation                 0.73      NaN      NaN  \n",
       "MSigDB_Hallmark: Complement                            0.85     3.34      NaN  \n",
       "MSigDB_Hallmark: TNF-alpha Signaling via NF-kB         0.76      NaN      NaN  "
      ]
     },
     "metadata": {},
     "output_type": "display_data"
    }
   ],
   "source": [
    "\n",
    "# # compute -log10 of p-value\n",
    "# results_df['log10_pvalue'] = -log10(results_df['P-value'])\n",
    "# w_df = pivot(results_df.loc[results_df.Term.isin(sig_results.Term)], \n",
    "#                   index=['Term'], \n",
    "#                   columns=['factor'], values='log10_pvalue')\n",
    "w_df = pivot(results_df.loc[results_df.Term.isin(sig_results.Term)], \n",
    "                  index=['Term'], \n",
    "                  columns=['factor'], values='Odds Ratio')\n",
    "# set precision\n",
    "w_df = w_df.round(2)\n",
    "# drop rows that are all null\n",
    "w_df.dropna(how='all', inplace=True)\n",
    "print(f'shape of wide reformated results {w_df.shape}')\n",
    "if DEBUG:\n",
    "    display(w_df)"
   ]
  },
  {
   "cell_type": "markdown",
   "id": "6fbdd255-78fa-4488-a5fa-9a62bb0fcbec",
   "metadata": {},
   "source": [
    "### visualize the reformated data as a heatmap"
   ]
  },
  {
   "cell_type": "code",
   "execution_count": 23,
   "id": "1ef2fa33-61f0-4c39-8aea-3e980e4a2312",
   "metadata": {},
   "outputs": [
    {
     "name": "stdout",
     "output_type": "stream",
     "text": [
      "9\n"
     ]
    },
    {
     "data": {
      "image/png": "[encoded data removed]",
      "text/plain": [
       "<Figure size 550x450 with 2 Axes>"
      ]
     },
     "metadata": {
      "image/png": {
       "height": 389,
       "width": 834
      }
     },
     "output_type": "display_data"
    }
   ],
   "source": [
    "from seaborn import heatmap\n",
    "\n",
    "if w_df.shape[0] > 9:\n",
    "    height = 9+ceil(w_df.shape[0]/5)\n",
    "else:\n",
    "    height = 9\n",
    "print(height)        \n",
    "with rc_context({'figure.figsize': (11, height), 'figure.dpi': dpi_value}):\n",
    "    plt.style.use('seaborn-v0_8-bright')    \n",
    "    heatmap(w_df, linecolor='grey', linewidths=0.05, cmap='Purples')    \n",
    "    plt.title(f'GSEA Enrichr for latent age factors (Odds Ratio)')\n",
    "    plt.savefig(figure_file, dpi=dpi_value, bbox_inches='tight', \n",
    "                transparent=True, pad_inches=1)\n",
    "    plt.show()"
   ]
  },
  {
   "cell_type": "markdown",
   "id": "0e274634-21c7-44a9-9a5a-b06f2eac3dc5",
   "metadata": {},
   "source": [
    "### visualize as clustered heatmap"
   ]
  },
  {
   "cell_type": "code",
   "execution_count": 80,
   "id": "8ede4351-9feb-4cb2-924d-1d30bf15aa39",
   "metadata": {},
   "outputs": [
    {
     "data": {
      "image/png": "[encoded data removed]",
      "text/plain": [
       "<Figure size 500x500 with 3 Axes>"
      ]
     },
     "metadata": {
      "image/png": {
       "height": 516,
       "width": 492
      }
     },
     "output_type": "display_data"
    }
   ],
   "source": [
    "from seaborn import clustermap\n",
    "\n",
    "# fill the missing\n",
    "w_df = w_df.fillna(0)\n",
    "\n",
    "with rc_context({'figure.figsize': (11, height), 'figure.dpi': dpi_value}):\n",
    "    plt.style.use('seaborn-v0_8-bright')    \n",
    "    # clustermap(w_df, cmap='Purples', cbar_pos=(0.75, 0.9, 0.05, 0.18))\n",
    "    clustermap(w_df, cmap='Purples', cbar_pos=None, linecolor='grey', linewidths=0.05)        \n",
    "    # plt.title('GSEA Enrichr')\n",
    "    plt.xticks(rotation = 90)\n",
    "    # plt.savefig(figure_file, dpi=dpi_value, bbox_inches='tight', \n",
    "    #             transparent=True, pad_inches=1)\n",
    "    plt.show()"
   ]
  },
  {
   "cell_type": "code",
   "execution_count": 81,
   "id": "1c5c5337-822a-44fc-8fec-2601246031a1",
   "metadata": {},
   "outputs": [
    {
     "name": "stdout",
     "output_type": "stream",
     "text": [
      "Fri Jun 21 09:51:40 EDT 2024\n"
     ]
    }
   ],
   "source": [
    "!date"
   ]
  }
 ],
 "metadata": {
  "kernelspec": {
   "display_name": "Python 3 (ipykernel)",
   "language": "python",
   "name": "python3"
  },
  "language_info": {
   "codemirror_mode": {
    "name": "ipython",
    "version": 3
   },
   "file_extension": ".py",
   "mimetype": "text/x-python",
   "name": "python",
   "nbconvert_exporter": "python",
   "pygments_lexer": "ipython3",
   "version": "3.10.13"
  }
 },
 "nbformat": 4,
 "nbformat_minor": 5
}
