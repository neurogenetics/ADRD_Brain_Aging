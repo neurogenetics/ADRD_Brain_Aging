{
 "cells": [
  {
   "cell_type": "markdown",
   "id": "0d654189-e235-477c-a1a7-0cfbec52a049",
   "metadata": {},
   "source": [
    "## Notebook to generate Circos plots for age regression results"
   ]
  },
  {
   "cell_type": "code",
   "execution_count": null,
   "id": "ed06a493-e468-4e51-ac27-e3cec8df1b3f",
   "metadata": {},
   "outputs": [],
   "source": [
    "!date"
   ]
  },
  {
   "cell_type": "markdown",
   "id": "a377c2ff-c742-4f8d-a60b-7d777bfb8f4a",
   "metadata": {},
   "source": [
    "#### import libraries"
   ]
  },
  {
   "cell_type": "code",
   "execution_count": null,
   "id": "ce7be39c-eb4c-4647-aa39-903c41ac164f",
   "metadata": {},
   "outputs": [],
   "source": []
  },
  {
   "cell_type": "markdown",
   "id": "a8070986-949f-44d7-9649-f7bad65abaad",
   "metadata": {},
   "source": [
    "#### set notebook variables"
   ]
  },
  {
   "cell_type": "code",
   "execution_count": null,
   "id": "df65e431-83bd-4fb3-a93d-296cb98fe8c2",
   "metadata": {},
   "outputs": [],
   "source": [
    "# parameters\n",
    "modality = 'GEX' # 'GEX' or 'ATAC'\n",
    "category = 'cluster_name' # 'curated_type' for broad and 'cluster_name' for specific\n",
    "REGRESSION_TYPE = 'rlm' # 'glm', 'glm_tweedie', or 'rlm'"
   ]
  },
  {
   "cell_type": "code",
   "execution_count": null,
   "id": "ebce8b33-98aa-489f-ba0c-132c390409b0",
   "metadata": {},
   "outputs": [],
   "source": [
    "# parameters\n",
    "project = 'aging_phase2'\n",
    "if category == 'curated_type':\n",
    "    prefix_type = 'broad'\n",
    "elif category == 'cluster_name':\n",
    "    prefix_type = 'specific' \n",
    "\n",
    "# directories\n",
    "wrk_dir = '/labshare/raph/datasets/adrd_neuro/brain_aging/phase2'\n",
    "quants_dir = f'{wrk_dir}/quants'\n",
    "results_dir = f'{wrk_dir}/results'\n",
    "figures_dir = f'{wrk_dir}/figures'\n",
    "\n",
    "# in files\n",
    "\n",
    "# out files\n",
    "\n",
    "# constants\n",
    "DEBUG = True\n",
    "pd_set_option('display.max_rows', 500)"
   ]
  },
  {
   "cell_type": "code",
   "execution_count": null,
   "id": "c4766d9d-c39c-41f4-8405-8bb07d441a7a",
   "metadata": {},
   "outputs": [],
   "source": [
    "import pandas as pd\n",
    "from holoviews import Chord, extension\n",
    "\n",
    "# Sample data (replace with your actual data)\n",
    "data = {\n",
    "    \"result_set1\": [\"GeneA\", \"GeneB\", \"GeneC\", \"GeneD\"],\n",
    "    \"result_set2\": [\"GeneB\", \"GeneC\", \"GeneE\", \"GeneF\"],\n",
    "    \"result_set3\": [\"GeneC\", \"GeneD\", \"GeneG\", \"GeneH\"]\n",
    "}\n",
    "\n",
    "# Convert data to a pandas DataFrame\n",
    "df = pd.DataFrame(data)\n",
    "\n",
    "# Count gene occurrences in each result set\n",
    "gene_counts = df.stack().value_counts()\n",
    "\n",
    "# Calculate the number of shared genes between each pair of result sets\n",
    "chord_data = []\n",
    "for gene_i in gene_counts.index:\n",
    "  for gene_j in gene_counts.index):\n",
    "      if gene_i == gene_j:\n",
    "          continue\n",
    "    shared_genes = len(set(gene_counts.iloc[:, i].tolist()) & set(gene_counts.iloc[:, j].tolist()))\n",
    "    chord_data.append({\"source\": gene_counts.index[i], \"target\": gene_counts.index[j], \"count\": shared_genes})\n",
    "\n",
    "chord_df = pd.DataFrame(chord_data)\n",
    "\n",
    "# Create the chord diagram\n",
    "chord = Chord(chord_df).opts(\n",
    "    aspect=\"equal\",  # Maintain a circular shape\n",
    "    labels=gene_counts.columns.tolist()  # Set labels for each result set\n",
    ")\n",
    "\n",
    "# Display the chord diagram using Bokeh extension\n",
    "extension(\"bokeh\")\n",
    "chord\n"
   ]
  },
  {
   "cell_type": "markdown",
   "id": "15c14381-a4ab-4c0d-bead-3b52259a1e46",
   "metadata": {},
   "source": [
    "## example from the Medium post [Probably the Best Data Visualisation for Showing Many-to-Many Proportion In Python](https://towardsdatascience.com/probably-the-best-data-visualisation-for-showing-many-to-many-proportion-in-python-40bdd24365d5) by Christopher Tao on using Circos from pycirclize to plot chord diagrams"
   ]
  },
  {
   "cell_type": "code",
   "execution_count": null,
   "id": "205ff8ed-5ab6-4725-80e6-9303bedf2016",
   "metadata": {},
   "outputs": [],
   "source": [
    "from pycirclize import Circos\n",
    "\n",
    "sectors = {\"A\": 100, \"B\": 200, \"C\": 150}\n",
    "sector_colors = {\"A\": \"red\", \"B\": \"blue\", \"C\": \"green\"}\n",
    "circos = Circos(sectors, space=5)\n",
    "\n",
    "for sector in circos.sectors:\n",
    "    track = sector.add_track((95, 100))\n",
    "    track.axis(fc=sector_colors[sector.name])\n",
    "    track.text(\"Sector \" + sector.name, color=\"white\", size=12)\n",
    "    track.xticks_by_interval(10)\n",
    "\n",
    "circos.link((\"A\", 0, 20), (\"B\", 50, 70))\n",
    "circos.link((\"A\", 20, 40), (\"C\", 30, 50))\n",
    "circos.link((\"B\", 80, 100), (\"A\", 40, 60))\n",
    "circos.link((\"C\", 100, 120), (\"B\", 150, 170))\n",
    "\n",
    "fig = circos.plotfig()"
   ]
  },
  {
   "cell_type": "code",
   "execution_count": null,
   "id": "9d3c46a2-add9-413c-a69e-06bf0af575fe",
   "metadata": {},
   "outputs": [],
   "source": [
    "from pycirclize import Circos\n",
    "import pandas as pd\n",
    "\n",
    "# Initialise the data\n",
    "row_names = [\"Sydney\", \"Melbourne\", \"Brisbane\"]\n",
    "col_names = [\"Property\", \"Life\", \"Automobile\"]\n",
    "data = [\n",
    "    [100, 150, 200],\n",
    "    [80, 120, 160],\n",
    "    [60, 90, 130],\n",
    "]\n",
    "\n",
    "# Create a pandas dataframe\n",
    "df = pd.DataFrame(data, index=row_names, columns=col_names)\n",
    "\n",
    "# Define the Circos Diagram with links\n",
    "circos = Circos.initialize_from_matrix(\n",
    "    df,\n",
    "    space=5,    # Space between sectors\n",
    "    ticks_interval=50,  # Ticks every 50\n",
    "    r_lim=(93, 100),# Radius limits for sectors\n",
    "    cmap=\"tab10\",   # Use a built-in color map to get better looking colour code\n",
    "    label_kws=dict(r=94, size=12, color=\"white\"),   # Font of the sector labels\n",
    "    link_kws=dict(ec=\"black\", lw=0.5),  # Style of the links\n",
    ")\n",
    "\n",
    "fig = circos.plotfig()"
   ]
  },
  {
   "cell_type": "code",
   "execution_count": null,
   "id": "5ba767fe-dcdf-4124-9d2d-d31a51056c5e",
   "metadata": {},
   "outputs": [],
   "source": [
    "df"
   ]
  },
  {
   "cell_type": "markdown",
   "id": "26848397-2c42-4a17-bfb6-46f50807d08a",
   "metadata": {},
   "source": [
    "### human genome examples from pycirclize docs [4-2. Segmental Dups Link](https://moshi4.github.io/pyCirclize/circos_plot/#4-2-segmental-dups-link)"
   ]
  },
  {
   "cell_type": "code",
   "execution_count": null,
   "id": "a2fedee0-2d7c-4d3f-82ac-3ed453b19132",
   "metadata": {},
   "outputs": [],
   "source": [
    "from pycirclize import Circos\n",
    "from pycirclize.utils import ColorCycler, load_eukaryote_example_dataset\n",
    "\n",
    "# Load hg38 dataset (https://github.com/moshi4/pycirclize-data/tree/main/eukaryote/hg38)\n",
    "chr_bed_file, cytoband_file, chr_links = load_eukaryote_example_dataset(\"hg38\")\n",
    "\n",
    "# Initialize Circos from BED chromosomes\n",
    "circos = Circos.initialize_from_bed(chr_bed_file, space=3)\n",
    "circos.text(\"Homo sapiens\\n(hg38)\", deg=315, r=150, size=12)\n",
    "\n",
    "# Add cytoband tracks from cytoband file\n",
    "circos.add_cytoband_tracks((95, 100), cytoband_file)\n",
    "\n",
    "# Create chromosome color dict\n",
    "ColorCycler.set_cmap(\"hsv\")\n",
    "chr_names = [s.name for s in circos.sectors]\n",
    "colors = ColorCycler.get_color_list(len(chr_names))\n",
    "chr_name2color = {name: color for name, color in zip(chr_names, colors)}\n",
    "\n",
    "# Plot chromosome name & xticks\n",
    "for sector in circos.sectors:\n",
    "    sector.text(sector.name, r=120, size=10, color=chr_name2color[sector.name])\n",
    "    sector.get_track(\"cytoband\").xticks_by_interval(\n",
    "        40000000,\n",
    "        label_size=8,\n",
    "        label_orientation=\"vertical\",\n",
    "        label_formatter=lambda v: f\"{v / 1000000:.0f} Mb\",\n",
    "    )\n",
    "\n",
    "# Plot chromosome link\n",
    "for link in chr_links:\n",
    "    region1 = (link.query_chr, link.query_start, link.query_end)\n",
    "    region2 = (link.ref_chr, link.ref_start, link.ref_end)\n",
    "    color = chr_name2color[link.query_chr]\n",
    "    if link.query_chr in (\"chr1\", \"chr8\", \"chr16\") and link.query_chr != link.ref_chr:\n",
    "        circos.link(region1, region2, color=color)\n",
    "\n",
    "fig = circos.plotfig()"
   ]
  },
  {
   "cell_type": "code",
   "execution_count": null,
   "id": "7058d212-5155-4f06-b471-6375bbe5f9b5",
   "metadata": {},
   "outputs": [],
   "source": [
    "v"
   ]
  },
  {
   "cell_type": "markdown",
   "id": "69e4b5d1-1f5e-48c1-bb5a-3a493c94d2a4",
   "metadata": {},
   "source": [
    "## rename output"
   ]
  },
  {
   "cell_type": "code",
   "execution_count": null,
   "id": "aef38b5c-cddd-48ce-960b-467aa909137d",
   "metadata": {},
   "outputs": [],
   "source": [
    "import os\n",
    "\n",
    "wrk_dir = '/labshare/raph/datasets/adrd_neuro/brain_aging/phase2'\n",
    "results_dir = f'{wrk_dir}/results'"
   ]
  },
  {
   "cell_type": "code",
   "execution_count": null,
   "id": "3a08a06b-8401-4f75-a72c-b694d5e90360",
   "metadata": {},
   "outputs": [],
   "source": [
    "for filename in os.listdir(results_dir):\n",
    "    if filename.endswith('.glm_age.csv'):\n",
    "        new_filename = filename.replace('.glm_age.csv', '.rlm.age.csv')\n",
    "        old_path = os.path.join(results_dir, filename)\n",
    "        new_path = os.path.join(results_dir, new_filename)\n",
    "        # os.rename(old_path, new_path)"
   ]
  },
  {
   "cell_type": "markdown",
   "id": "bbf5087f-8647-4328-9373-e39f6499e81d",
   "metadata": {},
   "source": [
    "## test if distribution is normal or tweedie"
   ]
  },
  {
   "cell_type": "code",
   "execution_count": null,
   "id": "65c70cb6-ba33-48d5-b2b0-aa60f9248139",
   "metadata": {},
   "outputs": [],
   "source": [
    "import numpy as np\n",
    "import matplotlib.pyplot as plt\n",
    "from scipy import stats\n",
    "\n",
    "def test_distribution(data):\n",
    "    \"\"\"\n",
    "    Analyzes data for characteristics of Gaussian or Tweedie distribution.\n",
    "    \n",
    "    Args:\n",
    "      data (np.ndarray): 1D array of data points.\n",
    "    \n",
    "    Prints:\n",
    "      Analysis of distribution based on tests and visualizations.\n",
    "    \"\"\"\n",
    "    \n",
    "    # Shapiro-Wilk test for normality\n",
    "    stat, pval = stats.shapiro(data)\n",
    "    print(f\"Shapiro-Wilk normality test: statistic = {stat:.4f}, p-value = {pval:.4f}\")\n",
    "    \n",
    "    # QQ-plot for visual comparison\n",
    "    plt.hist(data, density=True)\n",
    "    stats.probplot(data, dist=\"norm\")\n",
    "    plt.title(\"QQ-plot for normality\")\n",
    "    plt.show()\n",
    "    # Variance analysis (suggestive for Tweedie)\n",
    "    variance = np.var(data)\n",
    "    mean = np.mean(data)\n",
    "    f = variance / mean**2\n",
    "    print(f\"Variance to mean ratio: {f:.4f}\")\n",
    "    \n",
    "    # Print conclusion based on findings\n",
    "    if pval > 0.05:\n",
    "        print(\"Shapiro-Wilk test suggests normality (may not be conclusive).\")\n",
    "    else:\n",
    "        print(\"Shapiro-Wilk test rejects normality.\")\n",
    "    if f > 1:\n",
    "        print(f\"High variance to mean ratio suggests potential for Tweedie distribution.\")\n",
    "    else:\n",
    "        print(f\"Variance to mean ratio inconclusive for Tweedie distribution.\")\n",
    "    \n",
    "    print(\"\\n**Note:** These tests provide insights but don't definitively confirm distributions. Consider domain knowledge and further exploration for a more robust conclusion.\")\n",
    "\n",
    "# Example usage\n",
    "data = np.random.normal(size=100)  # Simulate Gaussian data\n",
    "test_distribution(data)"
   ]
  }
 ],
 "metadata": {
  "kernelspec": {
   "display_name": "Python 3 (ipykernel)",
   "language": "python",
   "name": "python3"
  },
  "language_info": {
   "codemirror_mode": {
    "name": "ipython",
    "version": 3
   },
   "file_extension": ".py",
   "mimetype": "text/x-python",
   "name": "python",
   "nbconvert_exporter": "python",
   "pygments_lexer": "ipython3",
   "version": "3.10.13"
  }
 },
 "nbformat": 4,
 "nbformat_minor": 5
}
