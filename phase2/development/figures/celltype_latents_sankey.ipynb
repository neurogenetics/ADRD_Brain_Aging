{
 "cells": [
  {
   "cell_type": "markdown",
   "id": "e57c5daf-2dbf-477d-a673-55a236434462",
   "metadata": {},
   "source": [
    "## Use Sankey diagram to visualize the relationships between individual cell-type latent factors and their GSEA results"
   ]
  },
  {
   "cell_type": "code",
   "execution_count": null,
   "id": "9dbf9334-288f-453a-8404-6603253beedf",
   "metadata": {},
   "outputs": [],
   "source": [
    "!date"
   ]
  },
  {
   "cell_type": "markdown",
   "id": "9d3e5a49-0902-4e6c-b4b3-99f630aa710d",
   "metadata": {},
   "source": [
    "#### import notebooks"
   ]
  },
  {
   "cell_type": "code",
   "execution_count": null,
   "id": "026f6061-ecc4-4138-97be-eef83fcd148b",
   "metadata": {},
   "outputs": [],
   "source": [
    "from pandas import read_csv, concat, DataFrame\n",
    "from itertools import product\n",
    "import plotly.offline as pyoff\n",
    "from json import load as json_load"
   ]
  },
  {
   "cell_type": "markdown",
   "id": "be86f5ec-c3ce-487a-a611-f8e803dffabc",
   "metadata": {},
   "source": [
    "#### set notebook variables"
   ]
  },
  {
   "cell_type": "code",
   "execution_count": null,
   "id": "91aed204-b3e4-43ce-a6eb-0a285142e0d0",
   "metadata": {
    "editable": true,
    "slideshow": {
     "slide_type": ""
    },
    "tags": [
     "parameters"
    ]
   },
   "outputs": [],
   "source": [
    "# parameters\n",
    "cell_type = ''\n",
    "latent_type = ''"
   ]
  },
  {
   "cell_type": "code",
   "execution_count": null,
   "id": "2541df05-e59c-4843-a1af-065f2d92299b",
   "metadata": {
    "editable": true,
    "slideshow": {
     "slide_type": ""
    },
    "tags": []
   },
   "outputs": [],
   "source": [
    "# parameters\n",
    "project = 'aging_phase2'\n",
    "\n",
    "# directories\n",
    "wrk_dir = '/labshare/raph/datasets/adrd_neuro/brain_aging/phase2'\n",
    "results_dir = f'{wrk_dir}/results'\n",
    "figures_dir = f'{wrk_dir}/figures'\n",
    "\n",
    "# in files\n",
    "assoc_file = f'{results_dir}/{project}.latent.age_glm.csv'\n",
    "gsea_file = f'{figures_dir}/{project}.cell_type_latents.all.gsea_enrichr.csv'\n",
    "\n",
    "# out files\n",
    "figure_file = f'{figures_dir}/{project}.{cell_type}.{latent_type}.cell_type_latents.sankey.html'\n",
    "\n",
    "# constants and variables\n",
    "DEBUG = False\n",
    "LINK_COLUMNS = ['source', 'target', 'weight']\n",
    "ALPHA = 0.05\n",
    "marker_sets = ['MSigDB_Hallmark',\n",
    "               'KEGG']"
   ]
  },
  {
   "cell_type": "code",
   "execution_count": null,
   "id": "7c6a7518-013a-4c40-bf37-07fa8133b898",
   "metadata": {},
   "outputs": [],
   "source": [
    "if DEBUG:\n",
    "    print(assoc_file)\n",
    "    print(gsea_file)\n",
    "    print(figure_file)"
   ]
  },
  {
   "cell_type": "markdown",
   "id": "5a9b885f-cad5-46a3-b343-9c8edaf198fc",
   "metadata": {},
   "source": [
    "#### Sankey diagramming function"
   ]
  },
  {
   "cell_type": "code",
   "execution_count": null,
   "id": "47a4e73c-9db6-422d-a10e-983ecf33a6a2",
   "metadata": {},
   "outputs": [],
   "source": [
    "# function from Viraj Deshpande at https://virajdeshpande.wordpress.com/portfolio/sankey-diagram/\n",
    "def genSankey(df: DataFrame, cat_cols:list=[], value_cols:str='', title:str='Sankey Diagram'):\n",
    "    labelList = []\n",
    "    for catCol in cat_cols:\n",
    "        labelListTemp =  list(set(df[catCol].values))\n",
    "        labelList = labelList + labelListTemp\n",
    "        \n",
    "    # remove duplicates from labelList\n",
    "    labelList = list(dict.fromkeys(labelList))\n",
    "            \n",
    "    # transform df into a source-target pair\n",
    "    for i in range(len(cat_cols)-1):\n",
    "        if i==0:\n",
    "            sourceTargetDf = df[[cat_cols[i],cat_cols[i+1],value_cols]]\n",
    "            sourceTargetDf.columns = ['source','target','count']\n",
    "        else:\n",
    "            tempDf = df[[cat_cols[i],cat_cols[i+1],value_cols]]\n",
    "            tempDf.columns = ['source','target','count']\n",
    "            sourceTargetDf = pd.concat([sourceTargetDf,tempDf])\n",
    "        print(sourceTargetDf.shape)\n",
    "        sourceTargetDf = sourceTargetDf.groupby(['source','target']).agg({'count':'sum'}).reset_index()\n",
    "        print(sourceTargetDf.shape)\n",
    "        \n",
    "    # add index for source-target pair\n",
    "    sourceTargetDf['sourceID'] = sourceTargetDf['source'].apply(lambda x: labelList.index(x))\n",
    "    sourceTargetDf['targetID'] = sourceTargetDf['target'].apply(lambda x: labelList.index(x))\n",
    "    \n",
    "    # creating the sankey diagram\n",
    "    data = dict(\n",
    "        type='sankey',\n",
    "        node = dict(\n",
    "          pad = 15,\n",
    "          thickness = 20,\n",
    "          line = dict(\n",
    "            color = 'black',\n",
    "            width = 0.5\n",
    "          ),\n",
    "          label = labelList,\n",
    "            color = 'purple'\n",
    "        ),\n",
    "        link = dict(\n",
    "          source = sourceTargetDf['sourceID'],\n",
    "          target = sourceTargetDf['targetID'],\n",
    "          value = sourceTargetDf['count'],\n",
    "        )\n",
    "      )\n",
    "    \n",
    "    layout =  dict(\n",
    "        title = title,\n",
    "        font = dict(\n",
    "          size = 10\n",
    "        )\n",
    "    )\n",
    "       \n",
    "    fig = dict(data=[data], layout=layout)\n",
    "    return fig"
   ]
  },
  {
   "cell_type": "markdown",
   "id": "53699979-d415-4e5e-b386-a3f4fd184376",
   "metadata": {},
   "source": [
    "### load input data"
   ]
  },
  {
   "cell_type": "markdown",
   "id": "d18c907c-e3ca-4507-bacc-ed90751b9c0a",
   "metadata": {},
   "source": [
    "#### load the latent factor age associations"
   ]
  },
  {
   "cell_type": "code",
   "execution_count": null,
   "id": "8ba33e2e-0a2b-43c1-8b6b-83ba9bc9b6c7",
   "metadata": {},
   "outputs": [],
   "source": [
    "age_glm_df = read_csv(assoc_file, index_col=0)\n",
    "print(f'shape of age_glm_df is {age_glm_df.shape}')\n",
    "age_glm_df['key_name'] = age_glm_df.cell_type + ':' + age_glm_df.feature\n",
    "if DEBUG:\n",
    "    display(age_glm_df.head())\n",
    "    print(f'age_glm_df has {age_glm_df.key_name.nunique()} keys')"
   ]
  },
  {
   "cell_type": "markdown",
   "id": "6c5be65c-894d-4467-86ad-18cd1d392dd7",
   "metadata": {},
   "source": [
    "### subset the latent factor to only those with a statistically significant age association and are of the specified latent model type"
   ]
  },
  {
   "cell_type": "code",
   "execution_count": null,
   "id": "89580b9a-5178-473e-a197-2b97115e724c",
   "metadata": {},
   "outputs": [],
   "source": [
    "if latent_type == 'all':\n",
    "    age_glm_df = age_glm_df.loc[age_glm_df.fdr_bh <= ALPHA]\n",
    "else:\n",
    "    age_glm_df = age_glm_df.loc[(age_glm_df.fdr_bh <= ALPHA) & (age_glm_df.model_type == latent_type)]    \n",
    "print(f'shape of age_glm_df is {age_glm_df.shape}')\n",
    "if DEBUG:\n",
    "    display(age_glm_df.head())\n",
    "    display(age_glm_df.model_type.value_counts())"
   ]
  },
  {
   "cell_type": "markdown",
   "id": "b5004ba9-ca45-4d8c-a094-0f132fd326a9",
   "metadata": {},
   "source": [
    "### subset the latent to only the broad and specific cell-types that match the cell-type being visualized"
   ]
  },
  {
   "cell_type": "code",
   "execution_count": null,
   "id": "f08f2ee1-0bc1-4e82-8901-76906b4cc5a0",
   "metadata": {},
   "outputs": [],
   "source": [
    "age_glm_df = age_glm_df.loc[age_glm_df.cell_type.str.startswith(cell_type)]\n",
    "print(f'shape of age_glm_df is {age_glm_df.shape}')\n",
    "if DEBUG:\n",
    "    display(age_glm_df.head())\n",
    "    display(age_glm_df.model_type.value_counts())\n",
    "    display(age_glm_df.cell_type.value_counts())"
   ]
  },
  {
   "cell_type": "markdown",
   "id": "c69ef549-7930-4ff1-b357-1840c17e9e29",
   "metadata": {},
   "source": [
    "### create the celltype to celltype latent factor links"
   ]
  },
  {
   "cell_type": "code",
   "execution_count": null,
   "id": "fe5a2e35-79d4-486f-b95a-4bc9c078ce66",
   "metadata": {},
   "outputs": [],
   "source": [
    "cell_latent_links = age_glm_df[['cell_type', 'key_name', 'z']].copy()\n",
    "cell_latent_links.z = abs(cell_latent_links.z)\n",
    "cell_latent_links.columns = LINK_COLUMNS\n",
    "print(f'cell_latent_links shape is {cell_latent_links.shape}')\n",
    "if DEBUG:\n",
    "    display(cell_latent_links.head())"
   ]
  },
  {
   "cell_type": "markdown",
   "id": "b846a830-4ff8-4b11-a423-6e736c32b01e",
   "metadata": {},
   "source": [
    "### latent aging factor to GSEA links"
   ]
  },
  {
   "cell_type": "code",
   "execution_count": null,
   "id": "7d683d15-6d74-44b6-9bcb-29a94dd7eb0c",
   "metadata": {},
   "outputs": [],
   "source": [
    "gsea_df = read_csv(gsea_file, index_col=0)\n",
    "print(f'gsea_df shape is {gsea_df.shape}')\n",
    "if DEBUG:\n",
    "    display(gsea_df.head())"
   ]
  },
  {
   "cell_type": "markdown",
   "id": "b72c6510-a082-47ae-898c-f7daec3fd7f4",
   "metadata": {},
   "source": [
    "#### subset to only cell-type latent factors needed for this cell-type's visualization"
   ]
  },
  {
   "cell_type": "code",
   "execution_count": null,
   "id": "c94babd4-73d4-4c43-82f4-592655cabb8d",
   "metadata": {},
   "outputs": [],
   "source": [
    "gsea_df = gsea_df.loc[gsea_df.factor.isin(age_glm_df.key_name)]\n",
    "print(f'gsea_df shape is {gsea_df.shape}')\n",
    "if DEBUG:\n",
    "    display(gsea_df.head())"
   ]
  },
  {
   "cell_type": "markdown",
   "id": "b75191ae-2339-4bcc-bce8-0abef3710692",
   "metadata": {},
   "source": [
    "#### subset on the marker set specified"
   ]
  },
  {
   "cell_type": "code",
   "execution_count": null,
   "id": "f1c2d311-b666-4379-8e55-1bc33df3f9d0",
   "metadata": {},
   "outputs": [],
   "source": [
    "gsea_df = gsea_df.loc[gsea_df.Gene_set.isin(marker_sets)]\n",
    "print(f'gsea_df shape is {gsea_df.shape}')\n",
    "if DEBUG:\n",
    "    display(gsea_df.head())"
   ]
  },
  {
   "cell_type": "code",
   "execution_count": null,
   "id": "a6e8d7a8-50e9-4917-8b78-7798f339d1e2",
   "metadata": {},
   "outputs": [],
   "source": [
    "gsea_links = gsea_df[['factor', 'Term', 'Odds Ratio']].copy()\n",
    "gsea_links.columns = LINK_COLUMNS\n",
    "# some of the log odds are huge so temp just set to 1 for count sum\n",
    "gsea_links.weight = 1\n",
    "print(f'gsea_links shape is {gsea_links.shape}')\n",
    "if DEBUG:\n",
    "    display(gsea_links.head())  "
   ]
  },
  {
   "cell_type": "markdown",
   "id": "23a752c7-2ca0-4bd1-8138-2a8ce136be86",
   "metadata": {},
   "source": [
    "#### fill None for lantent aging factors with empty GSEA enrichment"
   ]
  },
  {
   "cell_type": "code",
   "execution_count": null,
   "id": "aef2894f-4ceb-4963-92a1-ea2a1cce4381",
   "metadata": {},
   "outputs": [],
   "source": [
    "lists_to_add = []\n",
    "missing_latents = set(cell_latent_links.target) - set(gsea_links.source)\n",
    "print(missing_latents)\n",
    "for latent in missing_latents:\n",
    "    this_item = [latent, 'No Enrichments', 1]\n",
    "    lists_to_add.append(this_item)\n",
    "misssing_df = DataFrame(data=lists_to_add, columns=LINK_COLUMNS)\n",
    "print(f'shape of misssing_df {misssing_df.shape}')\n",
    "gsea_links = concat([gsea_links, misssing_df])\n",
    "print(f'updated gsea_links shape {gsea_links.shape}')\n",
    "if DEBUG:\n",
    "    display(gsea_links.head())\n",
    "    display(gsea_links.tail())   "
   ]
  },
  {
   "cell_type": "markdown",
   "id": "70138fdb-51cb-4851-a3ad-a29b0a7388d9",
   "metadata": {},
   "source": [
    "### visualize as Sankey diagram"
   ]
  },
  {
   "cell_type": "markdown",
   "id": "f081db0d-1c2d-408a-b1af-40c2e11d0ed5",
   "metadata": {},
   "source": [
    "### combine the link data"
   ]
  },
  {
   "cell_type": "code",
   "execution_count": null,
   "id": "3fe12721-7535-4507-9fd4-c28e635f7d6e",
   "metadata": {},
   "outputs": [],
   "source": [
    "links_df = concat([cell_latent_links, gsea_links])\n",
    "print(f'shape of all links to include {links_df.shape}')\n",
    "if DEBUG:\n",
    "    display(links_df.head())"
   ]
  },
  {
   "cell_type": "code",
   "execution_count": null,
   "id": "b96ed119-bbff-4f9d-bead-03b6c315dac2",
   "metadata": {},
   "outputs": [],
   "source": [
    "fig = genSankey(links_df, cat_cols=['source','target'], value_cols='weight',\n",
    "                title=('Sharing of features and partitioned latent aging '\n",
    "                       f'factors associated with age for {cell_type} using {latent_type.upper()}'))\n",
    "pyoff.plot(fig, validate=False, filename=figure_file)"
   ]
  },
  {
   "cell_type": "code",
   "execution_count": null,
   "id": "e58d3046-2290-4080-805d-b8a1c1be0fd3",
   "metadata": {},
   "outputs": [],
   "source": [
    "!date"
   ]
  }
 ],
 "metadata": {
  "kernelspec": {
   "display_name": "Python 3 (ipykernel)",
   "language": "python",
   "name": "python3"
  },
  "language_info": {
   "codemirror_mode": {
    "name": "ipython",
    "version": 3
   },
   "file_extension": ".py",
   "mimetype": "text/x-python",
   "name": "python",
   "nbconvert_exporter": "python",
   "pygments_lexer": "ipython3",
   "version": "3.10.13"
  }
 },
 "nbformat": 4,
 "nbformat_minor": 5
}
