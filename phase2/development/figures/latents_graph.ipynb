{
 "cells": [
  {
   "cell_type": "markdown",
   "id": "e43198e3-99cf-481e-bc74-3f85a21f70dd",
   "metadata": {},
   "source": [
    "## Create a network of the latent factor analysis"
   ]
  },
  {
   "cell_type": "code",
   "execution_count": null,
   "id": "eeede9a2-2876-41e0-afd7-65dbe344a0e4",
   "metadata": {},
   "outputs": [],
   "source": [
    "!date"
   ]
  },
  {
   "cell_type": "markdown",
   "id": "b9d34595-f36c-456f-9852-b833c2dc5174",
   "metadata": {},
   "source": [
    "#### import libraries"
   ]
  },
  {
   "cell_type": "code",
   "execution_count": null,
   "id": "b1e7cd29-bc3e-456c-9eae-2ceb7fbafb30",
   "metadata": {},
   "outputs": [],
   "source": [
    "from pandas import read_csv\n",
    "from pickle import load as pkl_load\n",
    "from igraph import Graph, Plot\n",
    "import matplotlib.pyplot as plt\n",
    "from IPython.display import Image\n",
    "from re import match\n",
    "import cairocffi\n",
    "import leidenalg\n",
    "from sklearn.preprocessing import MinMaxScaler\n",
    "import numpy as np\n",
    "from json import dump as json_dump"
   ]
  },
  {
   "cell_type": "markdown",
   "id": "59a3df1b-939d-47e5-a2e0-7d757946bae1",
   "metadata": {},
   "source": [
    "#### set notebook variables"
   ]
  },
  {
   "cell_type": "code",
   "execution_count": null,
   "id": "a0b07f24-61a8-42f9-af66-5dfc85c737ea",
   "metadata": {},
   "outputs": [],
   "source": [
    "# parameters\n",
    "project = 'aging_phase2'\n",
    "model_type = 'nmf'\n",
    "\n",
    "# directories\n",
    "wrk_dir = '/labshare/raph/datasets/adrd_neuro/brain_aging/phase2'\n",
    "results_dir = f'{wrk_dir}/results'\n",
    "figures_dir = f'{wrk_dir}/figures'\n",
    "\n",
    "# in files\n",
    "assoc_file = f'{results_dir}/{project}.latent.age_glm.csv'\n",
    "loadings_file = f'{results_dir}/{project}.latent.loadings.csv'\n",
    "loadings_pickle = f'{results_dir}/{project}.latent.loadings.pkl'\n",
    "metrics_file = f'{results_dir}/{project}.latent.metrics.csv'\n",
    "\n",
    "# out files\n",
    "graphml_file = f'{figures_dir}/{project}.latents.{model_type}.graphml'\n",
    "gml_file = f'{figures_dir}/{project}.latents.{model_type}.gml'\n",
    "image_file = f'{figures_dir}/{project}.latents.{model_type}.png'\n",
    "communities_file = f'{figures_dir}/{project}.latents.{model_type}.partitioned_factors.json'\n",
    "\n",
    "# constants and variables\n",
    "DEBUG = True\n",
    "ALPHA = 0.05"
   ]
  },
  {
   "cell_type": "markdown",
   "id": "7feb0bf0-d78c-409e-8b09-8050c0a846c0",
   "metadata": {},
   "source": [
    "### load input data"
   ]
  },
  {
   "cell_type": "markdown",
   "id": "a8e9fd60-00b8-464c-9952-fbad05d18bb7",
   "metadata": {},
   "source": [
    "#### load the latent factor age associations"
   ]
  },
  {
   "cell_type": "code",
   "execution_count": null,
   "id": "ae8ab109-3b0c-4cde-9e2d-da5dea573dc3",
   "metadata": {},
   "outputs": [],
   "source": [
    "age_glm_df = read_csv(assoc_file, index_col=0)\n",
    "print(f'shape of age_glm_df is {age_glm_df.shape}')\n",
    "age_glm_df['key_name'] = age_glm_df.cell_type + ':' + age_glm_df.feature\n",
    "if DEBUG:\n",
    "    display(age_glm_df.sample(4))\n",
    "    print(f'age_glm_df has {age_glm_df.key_name.nunique()} keys')"
   ]
  },
  {
   "cell_type": "markdown",
   "id": "23a94986-0078-42a5-a4fa-d0ccb9a4be77",
   "metadata": {},
   "source": [
    "#### load the latent factor's feature loadings"
   ]
  },
  {
   "cell_type": "code",
   "execution_count": null,
   "id": "b4e43c98-a810-4163-a4ab-7b21926ad8a1",
   "metadata": {},
   "outputs": [],
   "source": [
    "with open(loadings_pickle, 'rb') as pkl_file:\n",
    "    feature_loadings = pkl_load(pkl_file)\n",
    "print(f'loadings_pickle has {len(feature_loadings)} entries')"
   ]
  },
  {
   "cell_type": "markdown",
   "id": "8932946a-8cf4-4866-bd7b-60aedba04cee",
   "metadata": {},
   "source": [
    "### subset the latent factor to only those with a statistically significant age association"
   ]
  },
  {
   "cell_type": "code",
   "execution_count": null,
   "id": "8bf81f9b-208f-4f2d-9ee3-06a8b71b3067",
   "metadata": {},
   "outputs": [],
   "source": [
    "age_glm_df = age_glm_df.loc[(age_glm_df.fdr_bh <= ALPHA) & (age_glm_df.model_type == model_type)]\n",
    "print(f'shape of age_glm_df is {age_glm_df.shape}')\n",
    "if DEBUG:\n",
    "    display(age_glm_df.sample(4))"
   ]
  },
  {
   "cell_type": "markdown",
   "id": "16dbf17c-555b-4a75-91b9-1a01e7bf88ca",
   "metadata": {},
   "source": [
    "### convert the latent factor age associations into a weighted graph"
   ]
  },
  {
   "cell_type": "code",
   "execution_count": null,
   "id": "c9902663-f9bd-4671-a38c-197102beff8a",
   "metadata": {},
   "outputs": [],
   "source": [
    "age_graph = Graph()\n",
    "\n",
    "# add the nodes\n",
    "# age_graph.add_vertex('Age', type='root')\n",
    "# for factor in age_glm_df.key_name.unique():\n",
    "#     # age_graph.add_vertex(factor)\n",
    "#     age_graph.add_vertex(name=factor, type='factor')\n",
    "for row in age_glm_df.itertuples():\n",
    "    # age_graph.add_vertex(factor)\n",
    "    age_graph.add_vertex(name=row.key_name, type='factor', effect=abs(row.z))\n",
    "\n",
    "# # add edges, age effect\n",
    "# for row in age_glm_df.itertuples():\n",
    "#     age_graph.add_edge('Age', row.key_name, weight=abs(row.z))\n",
    "\n",
    "print(age_graph.vcount())\n",
    "print(age_graph.ecount())"
   ]
  },
  {
   "cell_type": "markdown",
   "id": "e7f1624c-cc77-4d3b-adec-0a5306a2ec87",
   "metadata": {},
   "source": [
    "### add the latent factor feature loading as weighted graph"
   ]
  },
  {
   "cell_type": "code",
   "execution_count": null,
   "id": "212a3e2f-10a3-41c0-a52e-3dc96558c56f",
   "metadata": {},
   "outputs": [],
   "source": [
    "# regex pattern for match ATAC peaks naming format\n",
    "pattern = r'^chr.*:.*-.*$'\n",
    "for factor in age_glm_df.key_name.unique():\n",
    "    loading = feature_loadings.get(factor)\n",
    "    for feature, weight in loading.items():\n",
    "        # # only add genes not ATAC peaks, very large and slow otherwise\n",
    "        if not match(pattern, feature):\n",
    "            age_graph.add_vertex(feature, type='feature', effect=1)\n",
    "            age_graph.add_edge(factor, feature, weight=abs(weight))\n",
    "            \n",
    "\n",
    "print(age_graph.vcount())\n",
    "print(age_graph.ecount())"
   ]
  },
  {
   "cell_type": "markdown",
   "id": "4f6d57c9-766c-434a-9eb3-d232f217c4e8",
   "metadata": {},
   "source": [
    "#### drop nodes that don't have any edges\n",
    "if ATAC peak features were excluded some of the latent factors will be empty"
   ]
  },
  {
   "cell_type": "code",
   "execution_count": null,
   "id": "585e170a-ebe4-4ef5-bc38-bdc40b620a20",
   "metadata": {},
   "outputs": [],
   "source": [
    "# Get the list of isolated vertex indices\n",
    "isolated_vertices = age_graph.vs.select(_degree=0).indices\n",
    "# Delete the isolated vertices\n",
    "age_graph.delete_vertices(isolated_vertices)\n",
    "print(age_graph.vcount())\n",
    "print(age_graph.ecount())"
   ]
  },
  {
   "cell_type": "markdown",
   "id": "833725b4-d4aa-4ba6-9e7b-c1208d373fae",
   "metadata": {},
   "source": [
    "### partition the graph"
   ]
  },
  {
   "cell_type": "code",
   "execution_count": null,
   "id": "9a56b7c1-6346-4044-9aec-69887af5228d",
   "metadata": {},
   "outputs": [],
   "source": [
    "%%time\n",
    "graph_cluster = leidenalg.find_partition(age_graph, leidenalg.ModularityVertexPartition)"
   ]
  },
  {
   "cell_type": "code",
   "execution_count": null,
   "id": "1cfd42d7-c345-4598-8cf1-98a713334e96",
   "metadata": {},
   "outputs": [],
   "source": [
    "print(len(graph_cluster))"
   ]
  },
  {
   "cell_type": "code",
   "execution_count": null,
   "id": "474cad34-910f-4601-9641-a489b3d451f3",
   "metadata": {},
   "outputs": [],
   "source": [
    "len(graph_cluster.membership)"
   ]
  },
  {
   "cell_type": "markdown",
   "id": "256a9f40-6283-4d02-8497-afbe1cc74946",
   "metadata": {},
   "source": [
    "### draw the graph"
   ]
  },
  {
   "cell_type": "code",
   "execution_count": null,
   "id": "20855457-32ba-4bb6-a85d-93b5be9c999e",
   "metadata": {},
   "outputs": [],
   "source": [
    "import igraph as ig\n",
    "visual_style = {}\n",
    "visual_style['bbox'] = (1600, 1200)\n",
    "visual_style['margin'] = 50\n",
    "\n",
    "p = Plot(image_file, bbox = (1600, 1200), background='white')\n",
    "# layout = age_graph.layout_mds()\n",
    "layout = age_graph.layout_kamada_kawai()\n",
    "pal = ig.drawing.colors.ClusterColoringPalette(len(graph_cluster))\n",
    "age_graph.vs['membership'] = graph_cluster.membership\n",
    "age_graph.vs['color'] = pal.get_many(graph_cluster.membership)\n",
    "age_graph.es['color'] = 'rgba(192, 192, 192, 0.3)'\n",
    "# scale effect sizes to use as node size\n",
    "scaled_values = MinMaxScaler(feature_range=(6, 18)).fit_transform(np.array(age_graph.vs['effect']).reshape(-1,1))\n",
    "p.add(age_graph, layout = layout, vertex_size = scaled_values, vertex_label_size = 10, **visual_style)\n",
    "p.redraw()\n",
    "\n",
    "# p.show()\n",
    "p.save()\n",
    "display(Image(image_file))"
   ]
  },
  {
   "cell_type": "markdown",
   "id": "98d98615-3a31-4625-aae2-1d48047755ce",
   "metadata": {},
   "source": [
    "### save the graph"
   ]
  },
  {
   "cell_type": "code",
   "execution_count": null,
   "id": "6b317320-ac6f-43c3-a572-11cc2e722962",
   "metadata": {},
   "outputs": [],
   "source": [
    "age_graph.write_gml(gml_file)\n",
    "age_graph.write_graphml(graphml_file)"
   ]
  },
  {
   "cell_type": "markdown",
   "id": "f2937950-ce63-4b4b-b980-3df250de5ac4",
   "metadata": {},
   "source": [
    "### inspect the partitioned latent factors"
   ]
  },
  {
   "cell_type": "code",
   "execution_count": null,
   "id": "76b321fc-d2bd-48f9-a2c5-2d7aa14c4ee7",
   "metadata": {},
   "outputs": [],
   "source": [
    "factor_nodes = age_graph.vs.select(type='factor')\n",
    "print(len(factor_nodes))"
   ]
  },
  {
   "cell_type": "code",
   "execution_count": null,
   "id": "bab8adcc-3ea9-4dfa-b51b-240f4da9b27b",
   "metadata": {},
   "outputs": [],
   "source": [
    "community_factors = {}\n",
    "for vertex in factor_nodes:\n",
    "    members = community_factors.get(vertex.attributes().get('membership'))\n",
    "    if members:\n",
    "        members.append(vertex.attributes().get('name'))\n",
    "    else:\n",
    "        members = [vertex.attributes().get('name')]\n",
    "    community_factors[vertex.attributes().get('membership')] = members"
   ]
  },
  {
   "cell_type": "code",
   "execution_count": null,
   "id": "6730b4c3-b09c-458a-9518-812ce27b98b9",
   "metadata": {},
   "outputs": [],
   "source": [
    "display(community_factors)"
   ]
  },
  {
   "cell_type": "markdown",
   "id": "20a07761-a8fa-4fdc-968a-d1eff66f4c39",
   "metadata": {},
   "source": [
    "### save the partitioned latent factor communities"
   ]
  },
  {
   "cell_type": "code",
   "execution_count": null,
   "id": "8211c606-4a95-4229-aa6a-c5316ce4cade",
   "metadata": {},
   "outputs": [],
   "source": [
    "communities_file\n",
    "with open(communities_file, 'w') as o_file:\n",
    "    json_dump(community_factors, o_file, indent=4)"
   ]
  },
  {
   "cell_type": "code",
   "execution_count": null,
   "id": "9a751aca-79e1-4bac-b81c-6126a40b1497",
   "metadata": {},
   "outputs": [],
   "source": [
    "!date"
   ]
  }
 ],
 "metadata": {
  "kernelspec": {
   "display_name": "Python 3 (ipykernel)",
   "language": "python",
   "name": "python3"
  },
  "language_info": {
   "codemirror_mode": {
    "name": "ipython",
    "version": 3
   },
   "file_extension": ".py",
   "mimetype": "text/x-python",
   "name": "python",
   "nbconvert_exporter": "python",
   "pygments_lexer": "ipython3",
   "version": "3.10.13"
  }
 },
 "nbformat": 4,
 "nbformat_minor": 5
}
