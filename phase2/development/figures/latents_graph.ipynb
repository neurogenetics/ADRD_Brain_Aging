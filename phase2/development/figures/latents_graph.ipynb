{
 "cells": [
  {
   "cell_type": "markdown",
   "id": "e43198e3-99cf-481e-bc74-3f85a21f70dd",
   "metadata": {},
   "source": [
    "## Create a network of the latent factor analysis"
   ]
  },
  {
   "cell_type": "code",
   "execution_count": null,
   "id": "eeede9a2-2876-41e0-afd7-65dbe344a0e4",
   "metadata": {},
   "outputs": [],
   "source": [
    "!date"
   ]
  },
  {
   "cell_type": "markdown",
   "id": "b9d34595-f36c-456f-9852-b833c2dc5174",
   "metadata": {},
   "source": [
    "#### import libraries"
   ]
  },
  {
   "cell_type": "code",
   "execution_count": null,
   "id": "b1e7cd29-bc3e-456c-9eae-2ceb7fbafb30",
   "metadata": {},
   "outputs": [],
   "source": [
    "from pandas import read_csv\n",
    "from pickle import load as pkl_load\n",
    "from networkx import Graph, draw, spring_layout, write_gml, write_graphml\n",
    "import matplotlib.pyplot as plt\n",
    "from IPython.display import Image\n",
    "from re import match"
   ]
  },
  {
   "cell_type": "markdown",
   "id": "59a3df1b-939d-47e5-a2e0-7d757946bae1",
   "metadata": {},
   "source": [
    "#### set notebook variables"
   ]
  },
  {
   "cell_type": "code",
   "execution_count": null,
   "id": "a0b07f24-61a8-42f9-af66-5dfc85c737ea",
   "metadata": {},
   "outputs": [],
   "source": [
    "# parameters\n",
    "project = 'aging_phase2'\n",
    "model_type = 'nmf'\n",
    "\n",
    "# directories\n",
    "wrk_dir = '/labshare/raph/datasets/adrd_neuro/brain_aging/phase2'\n",
    "results_dir = f'{wrk_dir}/results'\n",
    "figures_dir = f'{wrk_dir}/figures'\n",
    "\n",
    "# in files\n",
    "assoc_file = f'{results_dir}/{project}.latent.age_glm.csv'\n",
    "loadings_file = f'{results_dir}/{project}.latent.loadings.csv'\n",
    "loadings_pickle = f'{results_dir}/{project}.latent.loadings.pkl'\n",
    "metrics_file = f'{results_dir}/{project}.latent.metrics.csv'\n",
    "\n",
    "# out files\n",
    "graphml_file = f'{figures_dir}/{project}.latents.{model_type}.graphml'\n",
    "gml_file = f'{figures_dir}/{project}.latents.{model_type}.gml'\n",
    "image_file = f'{figures_dir}/{project}.latents.{model_type}.png'\n",
    "\n",
    "# constants and variables\n",
    "DEBUG = True\n",
    "ALPHA = 0.05"
   ]
  },
  {
   "cell_type": "markdown",
   "id": "7feb0bf0-d78c-409e-8b09-8050c0a846c0",
   "metadata": {},
   "source": [
    "### load input data"
   ]
  },
  {
   "cell_type": "markdown",
   "id": "a8e9fd60-00b8-464c-9952-fbad05d18bb7",
   "metadata": {},
   "source": [
    "#### load the latent factor age associations"
   ]
  },
  {
   "cell_type": "code",
   "execution_count": null,
   "id": "ae8ab109-3b0c-4cde-9e2d-da5dea573dc3",
   "metadata": {},
   "outputs": [],
   "source": [
    "age_glm_df = read_csv(assoc_file, index_col=0)\n",
    "print(f'shape of age_glm_df is {age_glm_df.shape}')\n",
    "age_glm_df['key_name'] = age_glm_df.cell_type + ':' + age_glm_df.feature\n",
    "if DEBUG:\n",
    "    display(age_glm_df.sample(4))\n",
    "    print(f'age_glm_df has {age_glm_df.key_name.nunique()} keys')"
   ]
  },
  {
   "cell_type": "markdown",
   "id": "23a94986-0078-42a5-a4fa-d0ccb9a4be77",
   "metadata": {},
   "source": [
    "#### load the latent factor's feature loadings"
   ]
  },
  {
   "cell_type": "code",
   "execution_count": null,
   "id": "b4e43c98-a810-4163-a4ab-7b21926ad8a1",
   "metadata": {},
   "outputs": [],
   "source": [
    "with open(loadings_pickle, 'rb') as pkl_file:\n",
    "    feature_loadings = pkl_load(pkl_file)\n",
    "print(f'loadings_pickle has {len(feature_loadings)} entries')"
   ]
  },
  {
   "cell_type": "markdown",
   "id": "8932946a-8cf4-4866-bd7b-60aedba04cee",
   "metadata": {},
   "source": [
    "### subset the latent factor to only those with a statistically significant age association"
   ]
  },
  {
   "cell_type": "code",
   "execution_count": null,
   "id": "8bf81f9b-208f-4f2d-9ee3-06a8b71b3067",
   "metadata": {},
   "outputs": [],
   "source": [
    "age_glm_df = age_glm_df.loc[(age_glm_df.fdr_bh <= ALPHA) & (age_glm_df.model_type == model_type)]\n",
    "print(f'shape of age_glm_df is {age_glm_df.shape}')\n",
    "if DEBUG:\n",
    "    display(age_glm_df.sample(4))"
   ]
  },
  {
   "cell_type": "markdown",
   "id": "16dbf17c-555b-4a75-91b9-1a01e7bf88ca",
   "metadata": {},
   "source": [
    "### convert the latent factor age associations into a weighted graph"
   ]
  },
  {
   "cell_type": "code",
   "execution_count": null,
   "id": "c9902663-f9bd-4671-a38c-197102beff8a",
   "metadata": {},
   "outputs": [],
   "source": [
    "age_graph = Graph()\n",
    "\n",
    "# add the nodes\n",
    "# age_graph.add_node('Age')\n",
    "for factor in age_glm_df.key_name.unique():\n",
    "    age_graph.add_node(factor)\n",
    "\n",
    "# add edges, age effect\n",
    "for row in age_glm_df.itertuples():\n",
    "    age_graph.add_edge('Age', row.key_name, weight=abs(row.z))\n",
    "\n",
    "print(age_graph.number_of_nodes())\n",
    "print(age_graph.number_of_edges())"
   ]
  },
  {
   "cell_type": "markdown",
   "id": "e7f1624c-cc77-4d3b-adec-0a5306a2ec87",
   "metadata": {},
   "source": [
    "### add the latent factor feature loading as weighted graph"
   ]
  },
  {
   "cell_type": "code",
   "execution_count": null,
   "id": "212a3e2f-10a3-41c0-a52e-3dc96558c56f",
   "metadata": {},
   "outputs": [],
   "source": [
    "# regex pattern for match ATAC peaks naming format\n",
    "pattern = r'^chr.*:.*-.*$'\n",
    "for factor in age_glm_df.key_name.unique():\n",
    "    loading = feature_loadings.get(factor)\n",
    "    for feature, weight in loading.items():\n",
    "        # only add genes not ATAC peaks\n",
    "        if not match(pattern, feature):\n",
    "            age_graph.add_node(feature)\n",
    "            age_graph.add_edge(factor, feature, weight=abs(weight))\n",
    "\n",
    "print(age_graph.number_of_nodes())\n",
    "print(age_graph.number_of_edges())"
   ]
  },
  {
   "cell_type": "markdown",
   "id": "31f68dff-70b3-46ed-8b74-5c5794b5a353",
   "metadata": {},
   "source": [
    "### save the graph"
   ]
  },
  {
   "cell_type": "code",
   "execution_count": null,
   "id": "a179c600-2723-4c69-8d18-a36afb7a4d83",
   "metadata": {},
   "outputs": [],
   "source": [
    "write_gml(age_graph, gml_file)\n",
    "write_graphml(age_graph, graphml_file)"
   ]
  },
  {
   "cell_type": "markdown",
   "id": "cd44cad0-1cb5-4761-a16d-f1f4d5c85191",
   "metadata": {},
   "source": [
    "### draw the graph"
   ]
  },
  {
   "cell_type": "code",
   "execution_count": null,
   "id": "7930137e-683e-40aa-8536-71ba2428c5c2",
   "metadata": {},
   "outputs": [],
   "source": [
    "%%time\n",
    "# pos = spring_layout(age_graph)\n",
    "from networkx import fruchterman_reingold_layout, kamada_kawai_layout, shell_layout, random_layout\n",
    "pos = kamada_kawai_layout(age_graph)\n",
    "# draw(age_graph, pos, node_color='purple', edge_color='gray', with_labels=True)\n",
    "# plt.savefig(image_file, format='PNG', bbox_inches='tight')\n",
    "# # plt.show()"
   ]
  },
  {
   "cell_type": "code",
   "execution_count": null,
   "id": "ca76fa4f-40ad-498a-8159-a2c0eb0f5e65",
   "metadata": {},
   "outputs": [],
   "source": [
    "%%time\n",
    "draw(age_graph, pos, node_color='purple', edge_color='gray', with_labels=False)"
   ]
  },
  {
   "cell_type": "code",
   "execution_count": null,
   "id": "455b0b01-7f87-4c5a-b8b6-1f99ffbbbfee",
   "metadata": {},
   "outputs": [],
   "source": [
    "%%time\n",
    "plt.savefig(image_file, format='PNG', bbox_inches='tight')"
   ]
  },
  {
   "cell_type": "code",
   "execution_count": null,
   "id": "42d74ca5-d4ec-4934-88d5-53a7ff2a9bdd",
   "metadata": {},
   "outputs": [],
   "source": [
    "Image(filename=image_file)"
   ]
  },
  {
   "cell_type": "code",
   "execution_count": null,
   "id": "825ca165-6d52-4de0-af79-1200172ec6f2",
   "metadata": {},
   "outputs": [],
   "source": []
  }
 ],
 "metadata": {
  "kernelspec": {
   "display_name": "Python 3 (ipykernel)",
   "language": "python",
   "name": "python3"
  },
  "language_info": {
   "codemirror_mode": {
    "name": "ipython",
    "version": 3
   },
   "file_extension": ".py",
   "mimetype": "text/x-python",
   "name": "python",
   "nbconvert_exporter": "python",
   "pygments_lexer": "ipython3",
   "version": "3.10.13"
  }
 },
 "nbformat": 4,
 "nbformat_minor": 5
}
