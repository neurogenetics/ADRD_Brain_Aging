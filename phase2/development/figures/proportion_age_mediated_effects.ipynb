{
 "cells": [
  {
   "cell_type": "markdown",
   "id": "bd117cb8-b943-48fa-9cbb-d2f06a6f7fbf",
   "metadata": {},
   "source": [
    "# Figure to display the proportion of age associated features per cell type and proportion of those age effects mediated by cis ATAC features"
   ]
  },
  {
   "cell_type": "code",
   "execution_count": null,
   "id": "d0205653-72cb-4c21-9979-391dc383a8fa",
   "metadata": {},
   "outputs": [],
   "source": [
    "!date"
   ]
  },
  {
   "cell_type": "markdown",
   "id": "e0b29bc0-40e7-4c82-89e0-be9a4f4fe539",
   "metadata": {},
   "source": [
    "#### import libraries"
   ]
  },
  {
   "cell_type": "code",
   "execution_count": null,
   "id": "bcc1eb08-0052-45dc-9910-1aadc95cff95",
   "metadata": {},
   "outputs": [],
   "source": [
    "from pandas import read_csv, read_parquet, DataFrame as PandasDF\n",
    "from scanpy import read_h5ad\n",
    "from os.path import exists\n",
    "from seaborn import scatterplot, barplot\n",
    "import matplotlib.pyplot as plt\n",
    "from matplotlib.pyplot import rc_context\n",
    "\n",
    "%matplotlib inline\n",
    "# for white background of figures (only for docs rendering)\n",
    "%config InlineBackend.print_figure_kwargs={'facecolor' : \"w\"}\n",
    "%config InlineBackend.figure_format='retina'"
   ]
  },
  {
   "cell_type": "markdown",
   "id": "004011c7-3b09-4077-bcaa-a312b0691887",
   "metadata": {},
   "source": [
    "#### set notebook variables"
   ]
  },
  {
   "cell_type": "code",
   "execution_count": null,
   "id": "2b364e04-8e9d-4f46-86de-fd5d5a7cfa1a",
   "metadata": {},
   "outputs": [],
   "source": [
    "# parameters\n",
    "category = 'cluster_name' # 'curated_type' for broad and 'cluster_name' for specific\n",
    "REGRESSION_TYPE = 'glm_tweedie'"
   ]
  },
  {
   "cell_type": "code",
   "execution_count": null,
   "id": "36b377fb-3e98-4592-b376-0879658d7891",
   "metadata": {},
   "outputs": [],
   "source": [
    "# parameters\n",
    "project = 'aging_phase2'\n",
    "if category == 'curated_type':\n",
    "    prefix_type = 'broad'\n",
    "elif category == 'cluster_name':\n",
    "    prefix_type = 'specific' \n",
    "modality = 'GEX'\n",
    "\n",
    "# directories\n",
    "wrk_dir = '/labshare/raph/datasets/adrd_neuro/brain_aging/phase2'\n",
    "results_dir = f'{wrk_dir}/results'\n",
    "figures_dir = f'{wrk_dir}/figures'\n",
    "\n",
    "# in files\n",
    "results_file = f'{results_dir}/{project}.{modality}.{prefix_type}.{REGRESSION_TYPE}_fdr_filtered.age.csv'\n",
    "age_sum_file = f'{figures_dir}/{project}.{modality}.{prefix_type}.{REGRESSION_TYPE}.summary.csv'\n",
    "med_age_sum_file =f'{figures_dir}/{project}.{modality}.{prefix_type}.{REGRESSION_TYPE}.conditioned.age.summary.csv'\n",
    "\n",
    "# out files\n",
    "fig_filename = f'{figures_dir}/{project}.{modality}.{prefix_type}.{REGRESSION_TYPE}.mediated_summary.png'\n",
    "\n",
    "# constants\n",
    "DEBUG = False\n",
    "ALPHA = 0.05\n",
    "if DEBUG:\n",
    "    print(f'results_file = {results_file}')\n",
    "    print(f'age_sum_file = {age_sum_file}')\n",
    "    print(f'med_age_sum_file = {med_age_sum_file}')\n",
    "    print(f'fig_filename = {fig_filename}')"
   ]
  },
  {
   "cell_type": "markdown",
   "id": "c6dfde6f-9685-4a49-b98c-2c39448aee10",
   "metadata": {},
   "source": [
    "#### functions"
   ]
  },
  {
   "cell_type": "code",
   "execution_count": null,
   "id": "d9fcd8a4-263c-4867-8baf-fbc642e8544f",
   "metadata": {},
   "outputs": [],
   "source": [
    "def load_quantification(cell_name: str, verbose: bool=False) -> PandasDF:\n",
    "    this_file = f'{quants_dir}/{project}.{modality}.{prefix_type}.{cell_name}.pb.parquet'\n",
    "    if not exists(this_file):\n",
    "        return None\n",
    "    df = read_parquet(this_file)\n",
    "    if verbose:\n",
    "        print(f'shape of read {cell_name} quantifications {df.shape}')        \n",
    "        display(df.sample(5))\n",
    "    return df"
   ]
  },
  {
   "cell_type": "markdown",
   "id": "0bb10e27-da57-47f3-b2f6-092a8d8f7e3b",
   "metadata": {},
   "source": [
    "## load input data"
   ]
  },
  {
   "cell_type": "code",
   "execution_count": null,
   "id": "2c45ef81-5818-48b9-957f-4290403660f1",
   "metadata": {},
   "outputs": [],
   "source": [
    "age_sum_df = read_csv(age_sum_file, index_col=0)\n",
    "print(f'age_sum_df shape is {age_sum_df.shape}')\n",
    "if DEBUG:\n",
    "    display(age_sum_df.head())"
   ]
  },
  {
   "cell_type": "code",
   "execution_count": null,
   "id": "7c804433-86db-4573-a57e-b15520bee8bf",
   "metadata": {},
   "outputs": [],
   "source": [
    "med_sum_df = read_csv(med_age_sum_file, index_col=0)\n",
    "med_sum_df = med_sum_df.set_index('tissue')\n",
    "med_sum_df = med_sum_df.rename(columns={'percent': 'percent_med'})\n",
    "print(f'med_sum_df shape is {med_sum_df.shape}')\n",
    "if DEBUG:\n",
    "    display(med_sum_df.head())"
   ]
  },
  {
   "cell_type": "markdown",
   "id": "2df8ab68-0513-45ed-8ba5-1978ecbd0a76",
   "metadata": {},
   "source": [
    "## load the modality's results"
   ]
  },
  {
   "cell_type": "code",
   "execution_count": null,
   "id": "451deba6-7996-4050-8a94-f79e1a99f54d",
   "metadata": {},
   "outputs": [],
   "source": [
    "results_df = read_csv(results_file)\n",
    "print(f'shape of {modality} results {results_df.shape}')\n",
    "if DEBUG:\n",
    "    display(results_df.sample(5))\n",
    "    display(results_df.type.value_counts())"
   ]
  },
  {
   "cell_type": "markdown",
   "id": "a7175292-e36b-4e7e-8e12-1e9db466e6e8",
   "metadata": {},
   "source": [
    "## summarize the detected effects per cell-type"
   ]
  },
  {
   "cell_type": "code",
   "execution_count": null,
   "id": "4c115f56-c38a-4d41-be1a-97f536a71225",
   "metadata": {
    "scrolled": true
   },
   "outputs": [],
   "source": [
    "results_df['abs_coef'] = results_df.coef.abs()\n",
    "effects_df = results_df.groupby('tissue').abs_coef.mean()\n",
    "print(f'shape of effects_df is {effects_df.shape}')\n",
    "if DEBUG:\n",
    "    display(effects_df)"
   ]
  },
  {
   "cell_type": "markdown",
   "id": "d4fad297-59cd-457a-9778-9f7efc6e8f10",
   "metadata": {},
   "source": [
    "## merge the summary tables"
   ]
  },
  {
   "cell_type": "code",
   "execution_count": null,
   "id": "93caf417-5a1b-4846-94f7-0eb05fa01b1d",
   "metadata": {},
   "outputs": [],
   "source": [
    "props_df = age_sum_df.merge(med_sum_df, how='inner', \n",
    "                            left_index=True, right_index=True)\n",
    "print(f'props_df shape is {props_df.shape}')\n",
    "props_df = props_df.merge(effects_df, how='inner', \n",
    "                            left_index=True, right_index=True)\n",
    "print(f'new props_df shape is {props_df.shape}')\n",
    "if DEBUG:\n",
    "    display(props_df)"
   ]
  },
  {
   "cell_type": "markdown",
   "id": "dc58409c-ace7-4cad-b964-d0fb37368aa8",
   "metadata": {},
   "source": [
    "## visualize the proportions"
   ]
  },
  {
   "cell_type": "code",
   "execution_count": null,
   "id": "c023ed87-0980-4666-8987-9823f4e0fb2a",
   "metadata": {},
   "outputs": [],
   "source": [
    "with rc_context({'figure.figsize': (15, 11), 'figure.dpi': 100}):\n",
    "    plt.style.use('seaborn-v0_8-talk')\n",
    "    scatterplot(data=props_df.sort_values('percent_aaf', ascending=False).reset_index(),\n",
    "                x='percent_aaf', y='percent_med', size='abs_coef', hue='index')\n",
    "    plt.title(f'{modality} features that are age associated ')  \n",
    "    plt.xlabel('% of age associated genes')\n",
    "    plt.ylabel('% of ATAC mediated age effects')\n",
    "    plt.legend(bbox_to_anchor=(1.05, 1), loc=2, \n",
    "               borderaxespad=0,prop={'size': 10})    \n",
    "    plt.savefig(fig_filename)  \n",
    "    plt.show()"
   ]
  },
  {
   "cell_type": "code",
   "execution_count": null,
   "id": "d47beed4-d462-4151-ba0b-5bb0b633d2ef",
   "metadata": {},
   "outputs": [],
   "source": [
    "!date"
   ]
  }
 ],
 "metadata": {
  "kernelspec": {
   "display_name": "Python 3 (ipykernel)",
   "language": "python",
   "name": "python3"
  },
  "language_info": {
   "codemirror_mode": {
    "name": "ipython",
    "version": 3
   },
   "file_extension": ".py",
   "mimetype": "text/x-python",
   "name": "python",
   "nbconvert_exporter": "python",
   "pygments_lexer": "ipython3",
   "version": "3.12.2"
  }
 },
 "nbformat": 4,
 "nbformat_minor": 5
}
