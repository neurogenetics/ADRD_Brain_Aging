{
 "cells": [
  {
   "cell_type": "markdown",
   "id": "ba5cfbe8-7067-4fa7-9ec1-40164486b25e",
   "metadata": {},
   "source": [
    "## Run the cell-type latents Sankey notebook per broad cell-tyle and dimensionality reduction model type using PaperMill"
   ]
  },
  {
   "cell_type": "code",
   "execution_count": null,
   "id": "bc42647b-2617-40ab-a618-46391e7b08fd",
   "metadata": {},
   "outputs": [],
   "source": [
    "!date"
   ]
  },
  {
   "cell_type": "markdown",
   "id": "e9762080-7ec0-4c76-99f4-795c4f71ce07",
   "metadata": {},
   "source": [
    "#### import notebooks"
   ]
  },
  {
   "cell_type": "code",
   "execution_count": null,
   "id": "9e85fa0b-c98c-4a23-b2a4-03d1fb21fd34",
   "metadata": {},
   "outputs": [],
   "source": [
    "from papermill import execute_notebook\n",
    "from os import makedirs"
   ]
  },
  {
   "cell_type": "markdown",
   "id": "70aa7392-5916-4141-9cf1-337b933ec557",
   "metadata": {},
   "source": [
    "#### set notebook variables"
   ]
  },
  {
   "cell_type": "code",
   "execution_count": null,
   "id": "a9c9840e-70ed-4187-ac12-104ecd8259c5",
   "metadata": {},
   "outputs": [],
   "source": [
    "# parameters\n",
    "project = 'aging_phase2'\n",
    "\n",
    "# directories\n",
    "nb_dir = '/home/gibbsr/working/ADRD_Brain_Aging/phase2'\n",
    "wrk_dir = '/labshare/raph/datasets/adrd_neuro/brain_aging/phase2'\n",
    "\n",
    "# base notebook to be run per tuple iteration\n",
    "base_notebook = f'{nb_dir}/development/figures/celltype_latents_sankey.ipynb'\n",
    "\n",
    "# output path for the generated notebooks\n",
    "out_nb_dir = f'{nb_dir}/figures/pm_gend_nbs'\n",
    "\n",
    "# setup parameters to iterate\n",
    "cell_types = ['Astro', 'ExN', 'InN', 'Micro', 'OD', 'OPC', 'PeriVasc', 'VLMC']\n",
    "model_types = ['ica', 'nmf', 'pca']\n",
    "DEBUG = True"
   ]
  },
  {
   "cell_type": "markdown",
   "id": "ba500607-1658-4299-b462-818d603d52c5",
   "metadata": {},
   "source": [
    "### make sure output notebook directory exists"
   ]
  },
  {
   "cell_type": "code",
   "execution_count": null,
   "id": "6b38d03d-361d-41f7-b749-6d32577351ae",
   "metadata": {},
   "outputs": [],
   "source": [
    "makedirs(out_nb_dir, exist_ok=True)"
   ]
  },
  {
   "cell_type": "markdown",
   "id": "3c555a6a-cde6-40ba-b663-06b5be1a5302",
   "metadata": {},
   "source": [
    "### run the notebook iterations"
   ]
  },
  {
   "cell_type": "code",
   "execution_count": null,
   "id": "5e98200e-b076-4c0a-92d1-a9f82a92cefa",
   "metadata": {},
   "outputs": [],
   "source": [
    "%%time\n",
    "\n",
    "for cell_type in cell_types:\n",
    "    for model_type in model_types:\n",
    "        param_dict = {'cell_type': cell_type, 'latent_type': model_type}\n",
    "        out_notebook = f'{out_nb_dir}/{cell_type}.{model_type}.celltype_latents_sankey.ipynb'\n",
    "        print(param_dict)\n",
    "        print(out_notebook)\n",
    "        try:    \n",
    "            execute_notebook(input_path=base_notebook, output_path=out_notebook, \n",
    "                             parameters=param_dict)\n",
    "        except:\n",
    "            print(f'{cell_type} {model_type} encountered an error continuing on next')"
   ]
  },
  {
   "cell_type": "code",
   "execution_count": null,
   "id": "2b948ea5-35b3-4f59-b2e4-54ea0d71e150",
   "metadata": {},
   "outputs": [],
   "source": [
    "!date"
   ]
  }
 ],
 "metadata": {
  "kernelspec": {
   "display_name": "Python 3 (ipykernel)",
   "language": "python",
   "name": "python3"
  },
  "language_info": {
   "codemirror_mode": {
    "name": "ipython",
    "version": 3
   },
   "file_extension": ".py",
   "mimetype": "text/x-python",
   "name": "python",
   "nbconvert_exporter": "python",
   "pygments_lexer": "ipython3",
   "version": "3.10.13"
  }
 },
 "nbformat": 4,
 "nbformat_minor": 5
}
