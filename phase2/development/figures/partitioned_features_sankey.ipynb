{
 "cells": [
  {
   "cell_type": "markdown",
   "id": "e57c5daf-2dbf-477d-a673-55a236434462",
   "metadata": {},
   "source": [
    "## Use Sankey diagram to visualize the relationships and sharing between aging features in broad and specific cell-types and the graph partitioning of their age associated feature connectivity"
   ]
  },
  {
   "cell_type": "code",
   "execution_count": null,
   "id": "9dbf9334-288f-453a-8404-6603253beedf",
   "metadata": {},
   "outputs": [],
   "source": [
    "!date"
   ]
  },
  {
   "cell_type": "markdown",
   "id": "9d3e5a49-0902-4e6c-b4b3-99f630aa710d",
   "metadata": {},
   "source": [
    "#### import notebooks"
   ]
  },
  {
   "cell_type": "code",
   "execution_count": null,
   "id": "026f6061-ecc4-4138-97be-eef83fcd148b",
   "metadata": {},
   "outputs": [],
   "source": [
    "from pandas import read_csv, concat, DataFrame\n",
    "from itertools import product\n",
    "import plotly.offline as pyoff\n",
    "from json import load as json_load"
   ]
  },
  {
   "cell_type": "markdown",
   "id": "be86f5ec-c3ce-487a-a611-f8e803dffabc",
   "metadata": {},
   "source": [
    "#### set notebook variables"
   ]
  },
  {
   "cell_type": "code",
   "execution_count": null,
   "id": "2541df05-e59c-4843-a1af-065f2d92299b",
   "metadata": {},
   "outputs": [],
   "source": [
    "# parameters\n",
    "project = 'aging_phase2'\n",
    "\n",
    "# directories\n",
    "wrk_dir = '/labshare/raph/datasets/adrd_neuro/brain_aging/phase2'\n",
    "results_dir = f'{wrk_dir}/results'\n",
    "figures_dir = f'{wrk_dir}/figures'\n",
    "\n",
    "# in files\n",
    "part_file = f'{figures_dir}/{project}.association.partitioned_factors.json'\n",
    "gsea_file = f'{figures_dir}/{project}.features.gsea_enrichr.csv'\n",
    "\n",
    "# out files\n",
    "figure_file = f'{figures_dir}/{project}.association.partitions.sankey.html'\n",
    "\n",
    "# constants and variables\n",
    "DEBUG = True\n",
    "categories = ['broad', 'specific']\n",
    "modalities = ['GEX', 'ATAC']\n",
    "REGRESSION_TYPE = 'glm_tweedie'\n",
    "LINK_COLUMNS = ['source', 'target', 'weight']"
   ]
  },
  {
   "cell_type": "markdown",
   "id": "5a9b885f-cad5-46a3-b343-9c8edaf198fc",
   "metadata": {},
   "source": [
    "#### Sankey diagramming function"
   ]
  },
  {
   "cell_type": "code",
   "execution_count": null,
   "id": "47a4e73c-9db6-422d-a10e-983ecf33a6a2",
   "metadata": {},
   "outputs": [],
   "source": [
    "# function from Viraj Deshpande at https://virajdeshpande.wordpress.com/portfolio/sankey-diagram/\n",
    "def genSankey(df: DataFrame, cat_cols:list=[], value_cols:str='', title:str='Sankey Diagram'):\n",
    "    labelList = []\n",
    "    for catCol in cat_cols:\n",
    "        labelListTemp =  list(set(df[catCol].values))\n",
    "        labelList = labelList + labelListTemp\n",
    "        \n",
    "    # remove duplicates from labelList\n",
    "    labelList = list(dict.fromkeys(labelList))\n",
    "            \n",
    "    # transform df into a source-target pair\n",
    "    for i in range(len(cat_cols)-1):\n",
    "        if i==0:\n",
    "            sourceTargetDf = df[[cat_cols[i],cat_cols[i+1],value_cols]]\n",
    "            sourceTargetDf.columns = ['source','target','count']\n",
    "        else:\n",
    "            tempDf = df[[cat_cols[i],cat_cols[i+1],value_cols]]\n",
    "            tempDf.columns = ['source','target','count']\n",
    "            sourceTargetDf = pd.concat([sourceTargetDf,tempDf])\n",
    "        print(sourceTargetDf.shape)\n",
    "        sourceTargetDf = sourceTargetDf.groupby(['source','target']).agg({'count':'sum'}).reset_index()\n",
    "        print(sourceTargetDf.shape)\n",
    "        \n",
    "    # add index for source-target pair\n",
    "    sourceTargetDf['sourceID'] = sourceTargetDf['source'].apply(lambda x: labelList.index(x))\n",
    "    sourceTargetDf['targetID'] = sourceTargetDf['target'].apply(lambda x: labelList.index(x))\n",
    "    \n",
    "    # creating the sankey diagram\n",
    "    data = dict(\n",
    "        type='sankey',\n",
    "        node = dict(\n",
    "          pad = 15,\n",
    "          thickness = 20,\n",
    "          line = dict(\n",
    "            color = 'black',\n",
    "            width = 0.5\n",
    "          ),\n",
    "          label = labelList,\n",
    "            color = 'purple'\n",
    "        ),\n",
    "        link = dict(\n",
    "          source = sourceTargetDf['sourceID'],\n",
    "          target = sourceTargetDf['targetID'],\n",
    "          value = sourceTargetDf['count'],\n",
    "        )\n",
    "      )\n",
    "    \n",
    "    layout =  dict(\n",
    "        title = title,\n",
    "        font = dict(\n",
    "          size = 10\n",
    "        )\n",
    "    )\n",
    "       \n",
    "    fig = dict(data=[data], layout=layout)\n",
    "    return fig"
   ]
  },
  {
   "cell_type": "markdown",
   "id": "d18c907c-e3ca-4507-bacc-ed90751b9c0a",
   "metadata": {},
   "source": [
    "### load age associated features"
   ]
  },
  {
   "cell_type": "code",
   "execution_count": null,
   "id": "8ba33e2e-0a2b-43c1-8b6b-83ba9bc9b6c7",
   "metadata": {},
   "outputs": [],
   "source": [
    "results = []\n",
    "for category in categories:\n",
    "    for modality in modalities:\n",
    "        print(category, modality)\n",
    "        in_file = (f'{results_dir}/{project}.{modality}.{category}.'\n",
    "                   f'{REGRESSION_TYPE}_fdr_filtered.age.csv')\n",
    "        this_df = read_csv(in_file)\n",
    "        this_df['category'] = category\n",
    "        this_df['modality'] = modality\n",
    "        results.append(this_df)\n",
    "age_glm_df = concat(results)\n",
    "print(f'shape of all age associated features {age_glm_df.shape}')\n",
    "if DEBUG:\n",
    "    display(age_glm_df.sample(4))\n",
    "    display(age_glm_df.modality.value_counts())\n",
    "    display(age_glm_df.category.value_counts())"
   ]
  },
  {
   "cell_type": "markdown",
   "id": "f4f62c38-2a7e-447e-8613-605e7b6b89fa",
   "metadata": {},
   "source": [
    "### feature modality to cell-types links"
   ]
  },
  {
   "cell_type": "code",
   "execution_count": null,
   "id": "b70020ce-5675-474a-ae60-966135b8437d",
   "metadata": {},
   "outputs": [],
   "source": [
    "modality_types = age_glm_df.modality.unique()\n",
    "cell_types = age_glm_df.tissue.unique()\n",
    "modality_cell_pairs = list(product(modality_types, cell_types))\n",
    "print(f'found {len(modality_cell_pairs)} combinations of modalities and cell-types')\n",
    "if DEBUG:\n",
    "    print(modality_types)\n",
    "    print(cell_types)\n",
    "    print(modality_cell_pairs)"
   ]
  },
  {
   "cell_type": "code",
   "execution_count": null,
   "id": "847b32ee-8575-4661-83d7-6ac2d0d7ad8c",
   "metadata": {},
   "outputs": [],
   "source": [
    "modality_cell_shared = []\n",
    "for modality, cell_type in modality_cell_pairs:\n",
    "    modality_glm_df = age_glm_df.loc[age_glm_df.modality == modality]\n",
    "    cell_glm_df = age_glm_df.loc[age_glm_df.tissue == cell_type]\n",
    "    normalized_weight = (len(set(modality_glm_df.feature) & set(cell_glm_df.feature))\n",
    "                         /modality_glm_df.feature.nunique())*100\n",
    "    modality_cell_shared.append([modality, cell_type, normalized_weight])\n",
    "modality_cell_links = DataFrame(data=modality_cell_shared, columns=LINK_COLUMNS)\n",
    "print(f'modality_cell_links shape is {modality_cell_links.shape}')\n",
    "if DEBUG:\n",
    "    display(modality_cell_links.sample(5))"
   ]
  },
  {
   "cell_type": "markdown",
   "id": "eef28e2e-fbf2-432c-838f-c977e2abd89b",
   "metadata": {},
   "source": [
    "### broad to specific cell-type links\n",
    "sharing of age associated features between broad and specific cell-types"
   ]
  },
  {
   "cell_type": "markdown",
   "id": "a99cdf40-8666-43fb-8992-8b70a7d2f143",
   "metadata": {},
   "source": [
    "#### build list of possible pairings between broad and specific"
   ]
  },
  {
   "cell_type": "code",
   "execution_count": null,
   "id": "d7e6a8d8-66c3-48be-bf89-a4e3f462bf27",
   "metadata": {},
   "outputs": [],
   "source": [
    "broad_cell_types = age_glm_df.loc[age_glm_df.category == 'broad'].tissue.unique()\n",
    "specific_cell_types = age_glm_df.loc[age_glm_df.category == 'specific'].tissue.unique()\n",
    "broad_specific_pairs = list(product(broad_cell_types, specific_cell_types))\n",
    "print(f'found {len(broad_specific_pairs)} combinations of broad and specific cell-types')\n",
    "if DEBUG:\n",
    "    print(broad_cell_types)\n",
    "    print(specific_cell_types)\n",
    "    print(broad_specific_pairs)"
   ]
  },
  {
   "cell_type": "markdown",
   "id": "8dabe084-f567-4fee-9600-2633228e8e94",
   "metadata": {},
   "source": [
    "#### for each possible broad/specific pairing find shared age associated features"
   ]
  },
  {
   "cell_type": "code",
   "execution_count": null,
   "id": "2544347c-9910-45e5-b728-ee5b440b1c31",
   "metadata": {},
   "outputs": [],
   "source": [
    "broad_specific_shared = []\n",
    "broad_glm_df = age_glm_df.loc[(age_glm_df.category == 'broad')]\n",
    "specific_glm_df = age_glm_df.loc[(age_glm_df.category == 'specific')]\n",
    "for broad_cell, specific_cell in broad_specific_pairs:\n",
    "    broad_cell_df = broad_glm_df.loc[broad_glm_df.tissue == broad_cell]\n",
    "    specific_cell_df = specific_glm_df.loc[specific_glm_df.tissue == specific_cell]\n",
    "    normalized_weight = (len(set(broad_cell_df.feature) & set(specific_cell_df.feature))\n",
    "                         /len(set(broad_cell_df.feature) | set(specific_cell_df.feature))*100)\n",
    "    broad_specific_shared.append([broad_cell, specific_cell, normalized_weight])\n",
    "broad_specific_links = DataFrame(data=broad_specific_shared, columns=LINK_COLUMNS)\n",
    "print(f'broad_specific_links shape is {broad_specific_links.shape}')\n",
    "if DEBUG:\n",
    "    display(broad_specific_links.sample(5))"
   ]
  },
  {
   "cell_type": "markdown",
   "id": "93347e76-a6c6-4713-a03d-8310201d0735",
   "metadata": {},
   "source": [
    "### cell-type to partitions"
   ]
  },
  {
   "cell_type": "code",
   "execution_count": null,
   "id": "d7ed8711-4232-48e8-ad4b-e5c6b3630d0b",
   "metadata": {},
   "outputs": [],
   "source": [
    "with open(part_file, 'r') as in_file:\n",
    "    partitions = json_load(in_file)\n",
    "print(f'length of partitions is {len(partitions)}')"
   ]
  },
  {
   "cell_type": "markdown",
   "id": "abf7673d-ef07-4082-aed2-5263de26a263",
   "metadata": {},
   "source": [
    "#### add links between cell-types and graph partitions"
   ]
  },
  {
   "cell_type": "code",
   "execution_count": null,
   "id": "f7d06fff-c503-438c-ac39-205665e32b50",
   "metadata": {},
   "outputs": [],
   "source": [
    "age_latents = []\n",
    "for part_index, latents in partitions.items():\n",
    "    latent_name = f'Aging-{part_index}'\n",
    "    pairs = [element.split(':')[0] for element in latents]\n",
    "    for cell_type in set(pairs):\n",
    "        age_latents.append([cell_type, latent_name, 1])\n",
    "cell_partitions_links = DataFrame(data=age_latents, columns=LINK_COLUMNS)\n",
    "print(f'cell_partitions_links shape is {cell_partitions_links.shape}')\n",
    "if DEBUG:\n",
    "    display(cell_partitions_links.sample(5))        "
   ]
  },
  {
   "cell_type": "markdown",
   "id": "05be2606-78ba-4bf8-a341-4a24f130aeec",
   "metadata": {},
   "source": [
    "### partitions to GSEA links"
   ]
  },
  {
   "cell_type": "code",
   "execution_count": null,
   "id": "11a56aa7-5d5d-48c9-894e-b1a46d038221",
   "metadata": {},
   "outputs": [],
   "source": [
    "gsea_df = read_csv(gsea_file, index_col=0)\n",
    "print(f'gsea_df shape is {gsea_df.shape}')\n",
    "if DEBUG:\n",
    "    display(gsea_df.head())"
   ]
  },
  {
   "cell_type": "code",
   "execution_count": null,
   "id": "dac66bf0-7d54-4551-a171-0c38d0f84c82",
   "metadata": {},
   "outputs": [],
   "source": [
    "gsea_links = gsea_df[['factor', 'Term', 'Odds Ratio']]\n",
    "gsea_links.columns = LINK_COLUMNS\n",
    "print(f'gsea_links shape is {gsea_links.shape}')\n",
    "if DEBUG:\n",
    "    display(gsea_links.head())  "
   ]
  },
  {
   "cell_type": "markdown",
   "id": "5fbc2654-ce33-4605-8c94-7512bfca7b22",
   "metadata": {},
   "source": [
    "#### fill None for partitions with empty GSEA enrichment"
   ]
  },
  {
   "cell_type": "code",
   "execution_count": null,
   "id": "2c391949-bcd6-4f3e-9a60-6671922bd912",
   "metadata": {},
   "outputs": [],
   "source": [
    "lists_to_add = []\n",
    "missing_parts = set(cell_partitions_links.target) - set(gsea_links.source)\n",
    "print(missing_parts)\n",
    "for partition in missing_parts:\n",
    "    this_item = [partition, 'No Enrichments', 1]\n",
    "    lists_to_add.append(this_item)\n",
    "misssing_df = DataFrame(data=lists_to_add, columns=LINK_COLUMNS)\n",
    "print(f'shape of misssing_df {misssing_df.shape}')\n",
    "gsea_links = concat([gsea_links, misssing_df])\n",
    "print(f'updated gsea_links shape {gsea_links.shape}')\n",
    "if DEBUG:\n",
    "    display(gsea_links.head())\n",
    "    display(gsea_links.tail())   "
   ]
  },
  {
   "cell_type": "markdown",
   "id": "70138fdb-51cb-4851-a3ad-a29b0a7388d9",
   "metadata": {},
   "source": [
    "### visualize as Sankey diagram"
   ]
  },
  {
   "cell_type": "markdown",
   "id": "f081db0d-1c2d-408a-b1af-40c2e11d0ed5",
   "metadata": {},
   "source": [
    "### combine the link data"
   ]
  },
  {
   "cell_type": "code",
   "execution_count": null,
   "id": "3fe12721-7535-4507-9fd4-c28e635f7d6e",
   "metadata": {},
   "outputs": [],
   "source": [
    "links_df = concat([modality_cell_links, broad_specific_links, cell_partitions_links, gsea_links])\n",
    "print(f'shape of all links to include {links_df.shape}')\n",
    "if DEBUG:\n",
    "    display(links_df.sample(5))"
   ]
  },
  {
   "cell_type": "code",
   "execution_count": null,
   "id": "b96ed119-bbff-4f9d-bead-03b6c315dac2",
   "metadata": {},
   "outputs": [],
   "source": [
    "fig = genSankey(links_df, cat_cols=['source','target'], value_cols='weight',\n",
    "                title='Sharing of age associated features and their graph partitions with GSEA')\n",
    "pyoff.plot(fig, validate=False, filename=figure_file)"
   ]
  },
  {
   "cell_type": "code",
   "execution_count": null,
   "id": "e58d3046-2290-4080-805d-b8a1c1be0fd3",
   "metadata": {},
   "outputs": [],
   "source": [
    "!date"
   ]
  }
 ],
 "metadata": {
  "kernelspec": {
   "display_name": "Python 3 (ipykernel)",
   "language": "python",
   "name": "python3"
  },
  "language_info": {
   "codemirror_mode": {
    "name": "ipython",
    "version": 3
   },
   "file_extension": ".py",
   "mimetype": "text/x-python",
   "name": "python",
   "nbconvert_exporter": "python",
   "pygments_lexer": "ipython3",
   "version": "3.10.13"
  }
 },
 "nbformat": 4,
 "nbformat_minor": 5
}
