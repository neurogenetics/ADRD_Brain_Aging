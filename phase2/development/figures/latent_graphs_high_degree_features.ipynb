{
 "cells": [
  {
   "cell_type": "markdown",
   "id": "b6235c90-55fb-4cb1-8c20-d06a883d44cf",
   "metadata": {},
   "source": [
    "## Look at the latent factor graphs and take a look at highest degree features"
   ]
  },
  {
   "cell_type": "code",
   "execution_count": null,
   "id": "e1fd3646-1ae9-49e9-86ec-f9e8d7b5557e",
   "metadata": {},
   "outputs": [],
   "source": [
    "!date"
   ]
  },
  {
   "cell_type": "markdown",
   "id": "8cfe41bb-6df4-456e-a003-e9a7094966ba",
   "metadata": {},
   "source": [
    "#### import libraries"
   ]
  },
  {
   "cell_type": "code",
   "execution_count": null,
   "id": "0bbe16c9-75fa-4ee8-a1f4-735d62af1bc6",
   "metadata": {},
   "outputs": [],
   "source": [
    "from pandas import read_csv, DataFrame\n",
    "from json import load as json_load\n",
    "from igraph import Graph"
   ]
  },
  {
   "cell_type": "markdown",
   "id": "df095a3a-1a6e-4881-8fe2-3c71c65bada0",
   "metadata": {},
   "source": [
    "#### set notebook variables"
   ]
  },
  {
   "cell_type": "code",
   "execution_count": null,
   "id": "f0d8c561-78df-43d0-bdc7-120e09a4da9d",
   "metadata": {},
   "outputs": [],
   "source": [
    "# parameters\n",
    "project = 'aging_phase2'\n",
    "\n",
    "# directories\n",
    "wrk_dir = '/labshare/raph/datasets/adrd_neuro/brain_aging/phase2'\n",
    "results_dir = f'{wrk_dir}/results'\n",
    "figures_dir = f'{wrk_dir}/figures'\n",
    "\n",
    "# in files\n",
    "assoc_file = f'{results_dir}/{project}.latent.age_glm.csv'\n",
    "\n",
    "# out files\n",
    "out_file = f'{figures_dir}/{project}.latents.graph_high_degree_features.csv'\n",
    "\n",
    "# constants and variables\n",
    "DEBUG = True"
   ]
  },
  {
   "cell_type": "markdown",
   "id": "cf86a6db-339e-4875-980d-cbeef74110bf",
   "metadata": {},
   "source": [
    "### load the latent factor age associations"
   ]
  },
  {
   "cell_type": "code",
   "execution_count": null,
   "id": "2cbabdbc-d956-4859-abd7-7c9f5b8945e1",
   "metadata": {},
   "outputs": [],
   "source": [
    "age_glm_df = read_csv(assoc_file, index_col=0)\n",
    "print(f'shape of age_glm_df is {age_glm_df.shape}')\n",
    "age_glm_df['key_name'] = age_glm_df.cell_type + ':' + age_glm_df.feature\n",
    "if DEBUG:\n",
    "    display(age_glm_df.sample(4))\n",
    "    print(f'age_glm_df has {age_glm_df.key_name.nunique()} keys')"
   ]
  },
  {
   "cell_type": "markdown",
   "id": "45ed14c3-7e50-42ef-87b4-0bad0a84fe06",
   "metadata": {},
   "source": [
    "### for each graph find the vertices with the highest degrees\n",
    "graph of all model types and then graph for each model type"
   ]
  },
  {
   "cell_type": "code",
   "execution_count": null,
   "id": "5ee94b9f-311f-4e19-8ee7-648354bbd298",
   "metadata": {},
   "outputs": [],
   "source": [
    "graph_types = set(['all'] + list(age_glm_df.model_type.unique()))\n",
    "print(graph_types)"
   ]
  },
  {
   "cell_type": "markdown",
   "id": "d59d12b7-1fba-4fef-8ed0-4396bdb1fb6a",
   "metadata": {},
   "source": [
    "### which of the actual features, not latent, are the mose connected in the graph"
   ]
  },
  {
   "cell_type": "code",
   "execution_count": null,
   "id": "a563016b-acda-410a-b7c3-816df539ded6",
   "metadata": {},
   "outputs": [],
   "source": [
    "%%time\n",
    "high_degree_features = []\n",
    "for graph_type in graph_types:\n",
    "    print(f'######## {graph_type} ########')\n",
    "    graphml_file = f'{figures_dir}/{project}.latents.{graph_type}.graphml'\n",
    "    this_graph = Graph.Read_GraphML(graphml_file)\n",
    "    if DEBUG:\n",
    "        print(this_graph.vcount())\n",
    "        print(this_graph.ecount())    \n",
    "    feature_nodes = this_graph.vs.select(type='feature')\n",
    "    degrees = feature_nodes.degree()\n",
    "    sorted_degress = degrees.copy()\n",
    "    sorted_degress.sort(reverse=True)\n",
    "    for index in range(0, 11):\n",
    "        this_degree = sorted_degress[index]\n",
    "        indices = [i for i, x in enumerate(degrees) if x == this_degree]\n",
    "        if DEBUG:\n",
    "            print(index, this_degree, indices)\n",
    "        for found_index in indices:\n",
    "            this_node = feature_nodes[found_index]\n",
    "            high_degree_features.append([graph_type, this_node['name'], this_node['membership'], this_degree])\n",
    "            if DEBUG:\n",
    "                print(graph_type, this_node['name'], this_node['membership'], this_degree)"
   ]
  },
  {
   "cell_type": "markdown",
   "id": "7ba8c95c-d5d0-426a-88c0-94ce0e0d5262",
   "metadata": {},
   "source": [
    "### convert list of found high degree features into a dataframe"
   ]
  },
  {
   "cell_type": "code",
   "execution_count": null,
   "id": "08f64e6b-4182-4138-8415-6be5b69a7003",
   "metadata": {},
   "outputs": [],
   "source": [
    "hd_features_df = DataFrame(data=high_degree_features, \n",
    "                           columns=['graph_type', 'feature', 'partition', 'degree'])\n",
    "# drop any duplicates\n",
    "hd_features_df = hd_features_df.drop_duplicates(keep='first')\n",
    "print(f'shape of hd_features_df {hd_features_df.shape}')\n",
    "if DEBUG:\n",
    "    display(hd_features_df.sample(4))    \n",
    "    display(hd_features_df.graph_type.value_counts())"
   ]
  },
  {
   "cell_type": "markdown",
   "id": "207fdffb-deb6-4a92-b4dc-332dc4af3a08",
   "metadata": {},
   "source": [
    "### save the high degree feature dataframe"
   ]
  },
  {
   "cell_type": "code",
   "execution_count": null,
   "id": "ad98dbfd-a93c-4e48-b044-8ee239f4ec5e",
   "metadata": {},
   "outputs": [],
   "source": [
    "hd_features_df.to_csv(out_file)"
   ]
  },
  {
   "cell_type": "markdown",
   "id": "f1db2cf4-f38f-4c51-a817-fe04ce4e755d",
   "metadata": {},
   "source": [
    "#### show highest degree feature per type"
   ]
  },
  {
   "cell_type": "code",
   "execution_count": null,
   "id": "1466ddbf-35a5-4133-9a0c-6732d80e0a0b",
   "metadata": {},
   "outputs": [],
   "source": [
    "for graph_type in graph_types:\n",
    "    display((hd_features_df.loc[hd_features_df.graph_type == graph_type]\n",
    "             .sort_values('degree', ascending=False).head()))"
   ]
  },
  {
   "cell_type": "code",
   "execution_count": null,
   "id": "b2fb5db5-df96-4eef-8703-3de8819403c3",
   "metadata": {},
   "outputs": [],
   "source": [
    "!date"
   ]
  }
 ],
 "metadata": {
  "kernelspec": {
   "display_name": "Python 3 (ipykernel)",
   "language": "python",
   "name": "python3"
  },
  "language_info": {
   "codemirror_mode": {
    "name": "ipython",
    "version": 3
   },
   "file_extension": ".py",
   "mimetype": "text/x-python",
   "name": "python",
   "nbconvert_exporter": "python",
   "pygments_lexer": "ipython3",
   "version": "3.10.13"
  }
 },
 "nbformat": 4,
 "nbformat_minor": 5
}
