{
 "cells": [
  {
   "cell_type": "markdown",
   "id": "63a6e12d-ed33-473c-b631-6a0fe2d4afec",
   "metadata": {},
   "source": [
    "## Run Gene Set Enrichment Analysis (GSEA) Enrichr using gseapy for the partitioned Aging components using the feature loading of the latent factors grouped into each parition"
   ]
  },
  {
   "cell_type": "code",
   "execution_count": null,
   "id": "ec0d66c7-d77f-43e7-a3cd-66196d79754f",
   "metadata": {},
   "outputs": [],
   "source": [
    "!date"
   ]
  },
  {
   "cell_type": "markdown",
   "id": "9a51adb9-5f59-40b2-9552-e9b5b439da1f",
   "metadata": {},
   "source": [
    "#### import libraries"
   ]
  },
  {
   "cell_type": "code",
   "execution_count": null,
   "id": "1aec7e69-504d-4585-b3f4-96b32bfde837",
   "metadata": {},
   "outputs": [],
   "source": [
    "from pandas import read_csv, concat, DataFrame, pivot\n",
    "from gseapy.enrichr import Enrichr\n",
    "from json import load as json_load\n",
    "from igraph import Graph\n",
    "from time import sleep\n",
    "import statsmodels.stats.multitest as smm\n",
    "from numpy import log10\n",
    "from math import ceil\n",
    "import matplotlib.pyplot as plt\n",
    "from matplotlib.pyplot import rc_context\n",
    "\n",
    "%matplotlib inline\n",
    "# for white background of figures (only for docs rendering)\n",
    "%config InlineBackend.print_figure_kwargs={'facecolor' : \"w\"}\n",
    "%config InlineBackend.figure_format='retina'"
   ]
  },
  {
   "cell_type": "markdown",
   "id": "c58e9c5b-ebb5-4a50-88c9-77ac195e7141",
   "metadata": {},
   "source": [
    "#### set notebook variables"
   ]
  },
  {
   "cell_type": "code",
   "execution_count": null,
   "id": "643d8d40-81a4-4c90-b6bf-5faf7b936dfc",
   "metadata": {},
   "outputs": [],
   "source": [
    "# parameters\n",
    "project = 'aging_phase2'\n",
    "latent_type = 'all'\n",
    "\n",
    "# directories\n",
    "wrk_dir = '/labshare/raph/datasets/adrd_neuro/brain_aging/phase2'\n",
    "results_dir = f'{wrk_dir}/results'\n",
    "figures_dir = f'{wrk_dir}/figures'\n",
    "\n",
    "# in files\n",
    "latent_part_file = f'{figures_dir}/{project}.latents.{latent_type}.partitioned_factors.json'\n",
    "graphml_file = f'{figures_dir}/{project}.latents.{latent_type}.graphml'\n",
    "\n",
    "# out files\n",
    "\n",
    "# constants and variables\n",
    "DEBUG = True\n",
    "categories = ['broad', 'specific']\n",
    "# won't use ATAC here only genes\n",
    "# modalities = ['GEX', 'ATAC']\n",
    "MODALITY = 'GEX'\n",
    "REGRESSION_TYPE = 'glm_tweedie'\n",
    "marker_sets = ['MSigDB_Hallmark_2020',\n",
    "               'GO_Biological_Process_2023', \n",
    "               'GO_Cellular_Component_2023',\n",
    "               'GO_Molecular_Function_2023']\n",
    "PAUSE_AMT = 2\n",
    "dpi_value = 50"
   ]
  },
  {
   "cell_type": "markdown",
   "id": "6a9c3880-0a00-44d7-93a6-945696e7a476",
   "metadata": {},
   "source": [
    "### load age associated features"
   ]
  },
  {
   "cell_type": "code",
   "execution_count": null,
   "id": "8ba33e2e-0a2b-43c1-8b6b-83ba9bc9b6c7",
   "metadata": {},
   "outputs": [],
   "source": [
    "results = []\n",
    "for category in categories:\n",
    "    print(category)\n",
    "    in_file = (f'{results_dir}/{project}.{MODALITY}.{category}.'\n",
    "               f'{REGRESSION_TYPE}_fdr_filtered.age.csv')\n",
    "    this_df = read_csv(in_file)\n",
    "    this_df['category'] = category\n",
    "    results.append(this_df)\n",
    "age_glm_df = concat(results)\n",
    "print(f'shape of all age associated features {age_glm_df.shape}')\n",
    "if DEBUG:\n",
    "    display(age_glm_df.sample(4))\n",
    "    display(age_glm_df.category.value_counts())"
   ]
  },
  {
   "cell_type": "markdown",
   "id": "e722838d-f122-4529-931f-f21c3845bec8",
   "metadata": {},
   "source": [
    "### load the partitioned age associated latent factors graph"
   ]
  },
  {
   "cell_type": "code",
   "execution_count": null,
   "id": "d5fd36c5-6dec-4673-9417-98f0211f36c3",
   "metadata": {},
   "outputs": [],
   "source": [
    "latent_graph = Graph.Read_GraphML(graphml_file)\n",
    "if DEBUG:\n",
    "    print(latent_graph.vcount())\n",
    "    print(latent_graph.ecount())\n",
    "feature_nodes = latent_graph.vs.select(type='feature')\n",
    "print(f'length non-latent feature nodes in the latent graph is {len(feature_nodes)}')"
   ]
  },
  {
   "cell_type": "code",
   "execution_count": null,
   "id": "04175179-e802-4838-a274-b52fa4dec246",
   "metadata": {},
   "outputs": [],
   "source": []
  },
  {
   "cell_type": "markdown",
   "id": "823ddb35-f090-44e3-8cd0-7cb7bd31ac1c",
   "metadata": {},
   "source": [
    "### load the partitioned age associated latent factors"
   ]
  },
  {
   "cell_type": "code",
   "execution_count": null,
   "id": "90114f70-8009-47e9-8f8c-b44de468aedc",
   "metadata": {},
   "outputs": [],
   "source": [
    "with open(latent_part_file, 'r') as in_file:\n",
    "    partitioned_factors = json_load(in_file)\n",
    "print(f'length of partitioned_factors is {len(partitioned_factors)}')"
   ]
  },
  {
   "cell_type": "markdown",
   "id": "0c51fa06-94d6-4dbe-b048-90f49614ef28",
   "metadata": {},
   "source": [
    "#### extract the partition groups and cell types"
   ]
  },
  {
   "cell_type": "code",
   "execution_count": null,
   "id": "091c43ff-c9e1-4cf4-850b-88be8a7964ae",
   "metadata": {},
   "outputs": [],
   "source": [
    "age_latents = {}\n",
    "for part_index, latents in partitioned_factors.items():\n",
    "    latent_name = f'Aging-{part_index}'\n",
    "    pairs = [element.split(':')[0] for element in latents]\n",
    "    age_latents[latent_name] = list(set(pairs))\n",
    "print(f'age_latents length is {len(age_latents)}')\n",
    "if DEBUG:\n",
    "    display(age_latents)  "
   ]
  },
  {
   "cell_type": "markdown",
   "id": "5c92dac7-a0e1-413a-aeab-5b9e240041d9",
   "metadata": {},
   "source": [
    "### resolve the cell-types to their age associate features"
   ]
  },
  {
   "cell_type": "code",
   "execution_count": null,
   "id": "f3ba975c-73e1-4d51-8e7f-796ce0ae29ae",
   "metadata": {},
   "outputs": [],
   "source": [
    "latent_features = {}\n",
    "for latent, cell_types in age_latents.items():\n",
    "    print(latent, cell_types)\n",
    "    age_features = {}\n",
    "    for cell_type in cell_types:\n",
    "        these_results = age_glm_df.loc[age_glm_df.tissue == cell_type]\n",
    "        if len(age_features) == 0:\n",
    "            age_features = set(these_results.feature)\n",
    "        else:\n",
    "            age_features = age_features | set(these_results.feature)\n",
    "    latent_features[latent] = age_features\n",
    "    print(f'{latent} has {len(age_features)} features')"
   ]
  },
  {
   "cell_type": "markdown",
   "id": "ce1ed66b-b7bd-4177-bef2-8532d9488964",
   "metadata": {},
   "source": [
    "### alternatively group features from the partitioned graph; ie these would be based on latent age factor loadings"
   ]
  },
  {
   "cell_type": "code",
   "execution_count": null,
   "id": "12200ff4-85c0-405d-8e24-0f9c79075dd2",
   "metadata": {},
   "outputs": [],
   "source": [
    "# latent_features = {}\n",
    "# for part_index in partitioned_factors.keys():\n",
    "#     latent_name = f'Aging-{part_index}'\n",
    "#     member_nodes = feature_nodes.select(membership=float(part_index))\n",
    "#     print(latent_name, len(member_nodes))\n",
    "#     age_features = []\n",
    "#     for node in member_nodes:\n",
    "#         age_features.append(node['name'])\n",
    "#     latent_features[latent_name] = list(set(age_features))\n",
    "#     print(f'{latent_name} has {len(age_features)} feature loadings')"
   ]
  },
  {
   "cell_type": "markdown",
   "id": "f6428dd9-5d25-4edd-af02-e550ad315b00",
   "metadata": {},
   "source": [
    "### run the GSEA Enrichr"
   ]
  },
  {
   "cell_type": "markdown",
   "id": "6d9dc4ee-b1a1-4dd3-adc5-bae15b4a421c",
   "metadata": {},
   "source": [
    "#### if debugging see available GSEA libraries"
   ]
  },
  {
   "cell_type": "code",
   "execution_count": null,
   "id": "990ae312-ed3d-483c-9fab-74cea0aac429",
   "metadata": {},
   "outputs": [],
   "source": [
    "if DEBUG:\n",
    "    import gseapy\n",
    "    gene_set_names = gseapy.get_library_name(organism='Human')\n",
    "    print(gene_set_names)"
   ]
  },
  {
   "cell_type": "markdown",
   "id": "72d681d5-d1cc-47bd-af9a-98c3c663065e",
   "metadata": {},
   "source": [
    "#### utility functions for accessing and scoring GSEA Enrichr"
   ]
  },
  {
   "cell_type": "code",
   "execution_count": null,
   "id": "c3f4a888-d864-4515-af2f-d5ed0f200c2b",
   "metadata": {},
   "outputs": [],
   "source": [
    "def find_enrichment(name: str, genes: list, sets,\n",
    "                    verbose: bool=False) -> DataFrame:\n",
    "    enr_res = gseapy.enrichr(gene_list=genes,\n",
    "                             organism='Human',\n",
    "                             gene_sets=sets,\n",
    "                             cutoff=0.5)\n",
    "    enr_res.results['factor'] = name    \n",
    "    if verbose:\n",
    "        print(f'full {sets} results shape{enr_res.results.shape}')        \n",
    "        sig = enr_res.results.loc[enr_res.results['Adjusted P-value'] <= 0.05]\n",
    "        print(f'significant {sets} results shape{sig.shape}')\n",
    "        display(sig)\n",
    "    return enr_res.results"
   ]
  },
  {
   "cell_type": "code",
   "execution_count": null,
   "id": "60fe9620-28ad-4654-b12d-a46120e9bacc",
   "metadata": {},
   "outputs": [],
   "source": [
    "results = []\n",
    "for latent, gene_list in latent_features.items():\n",
    "    print(f'\\n########### {latent} ###########')\n",
    "    for gene_set in marker_sets:\n",
    "        print(f'\\n+++++++++++ {gene_set} +++++++++++')\n",
    "        results.append(find_enrichment(latent, list(gene_list), gene_set, verbose=False))\n",
    "        sleep(PAUSE_AMT)"
   ]
  },
  {
   "cell_type": "markdown",
   "id": "b2c83eff-ef45-4e74-b6c3-01e3eabc3220",
   "metadata": {},
   "source": [
    "#### convert full enrichment results into combined data frame"
   ]
  },
  {
   "cell_type": "code",
   "execution_count": null,
   "id": "9483ec01-41fb-4af0-a180-ca85d2431e2f",
   "metadata": {},
   "outputs": [],
   "source": [
    "results_df = concat(results)\n",
    "print(f'full results shape {results_df.shape}')\n",
    "if DEBUG:\n",
    "    display(results_df.sample(5))\n",
    "    display(results_df.Gene_set.value_counts())"
   ]
  },
  {
   "cell_type": "markdown",
   "id": "5f34acb2-23f1-4225-ab9b-74556e0a18cc",
   "metadata": {},
   "source": [
    "#### how many are statistically significant"
   ]
  },
  {
   "cell_type": "code",
   "execution_count": null,
   "id": "defc82a6-9468-4bdf-a86f-d6bf169e8fd6",
   "metadata": {},
   "outputs": [],
   "source": [
    "alpha = 0.05\n",
    "# print(results_df.loc[results_df.bh_fdr <= alpha].shape)\n",
    "# display(results_df.loc[results_df.bh_fdr <= alpha].sort_values('Odds Ratio', ascending=False).head())\n",
    "\n",
    "print(results_df.loc[results_df['Adjusted P-value'] <= alpha].shape)\n",
    "display(results_df.loc[results_df['Adjusted P-value'] <= alpha].sort_values('Odds Ratio', ascending=False))"
   ]
  },
  {
   "cell_type": "markdown",
   "id": "9caabf98-f1ee-4990-bd39-93920163c937",
   "metadata": {},
   "source": [
    "### clean-up the GO term entity"
   ]
  },
  {
   "cell_type": "code",
   "execution_count": null,
   "id": "c7344251-1c2a-4ceb-bf6c-3e3a105cc7f2",
   "metadata": {},
   "outputs": [],
   "source": [
    "results_df['Gene_set'] = results_df.Gene_set.str.replace('GO_','')\n",
    "results_df['Gene_set'] = results_df.Gene_set.str.replace('_2020','')\n",
    "results_df['Gene_set'] = results_df.Gene_set.str.replace('_2023','')\n",
    "results_df['Term'] = results_df.Gene_set + ': ' + results_df.Term\n",
    "print(f'shape of GSEA post Term naming cleanup {results_df.shape}')\n",
    "if DEBUG:\n",
    "    display(results_df.sample(5))"
   ]
  },
  {
   "cell_type": "markdown",
   "id": "6f44c60c-e778-4fd3-85b5-f9e88e5a1c08",
   "metadata": {},
   "source": [
    "### reshape the dataframe from long to wide"
   ]
  },
  {
   "cell_type": "code",
   "execution_count": null,
   "id": "fae95fe7-eca9-48ad-88cb-9ebe4f8cce0f",
   "metadata": {},
   "outputs": [],
   "source": [
    "temp_df = results_df.loc[results_df['Adjusted P-value'] <= alpha]\n",
    "# compute -log10 of p-value\n",
    "results_df['log10_pvalue'] = -log10(results_df['P-value'])\n",
    "w_df = pivot(results_df.loc[results_df.Term.isin(temp_df.Term)], \n",
    "                  index=['Term'], \n",
    "                  columns=['factor'], values='log10_pvalue')\n",
    "# set precision\n",
    "w_df = w_df.round(2)\n",
    "# drop rows that are all null\n",
    "w_df.dropna(how='all', inplace=True)\n",
    "print(f'shape of wide reformated results {w_df.shape}')\n",
    "if DEBUG:\n",
    "    display(w_df)"
   ]
  },
  {
   "cell_type": "markdown",
   "id": "6fbdd255-78fa-4488-a5fa-9a62bb0fcbec",
   "metadata": {},
   "source": [
    "### visualize the reformated data as a heatmap"
   ]
  },
  {
   "cell_type": "code",
   "execution_count": null,
   "id": "1ef2fa33-61f0-4c39-8aea-3e980e4a2312",
   "metadata": {},
   "outputs": [],
   "source": [
    "from seaborn import heatmap\n",
    "\n",
    "if w_df.shape[0] > 9:\n",
    "    height = 9+ceil(w_df.shape[0]/5)\n",
    "else:\n",
    "    height = 9\n",
    "print(height)        \n",
    "with rc_context({'figure.figsize': (11, height), 'figure.dpi': dpi_value}):\n",
    "    plt.style.use('seaborn-v0_8-bright')    \n",
    "    heatmap(w_df, linecolor='grey', linewidths=0.05, cmap='Purples')    \n",
    "    plt.title(f'GSEA Enrichr for latent age factors')\n",
    "    # plt.savefig(figure_file, dpi=dpi_value, bbox_inches='tight', \n",
    "    #             transparent=True, pad_inches=1)\n",
    "    plt.show()"
   ]
  },
  {
   "cell_type": "markdown",
   "id": "0e274634-21c7-44a9-9a5a-b06f2eac3dc5",
   "metadata": {},
   "source": [
    "### visualize as clustered heatmap"
   ]
  },
  {
   "cell_type": "code",
   "execution_count": null,
   "id": "8ede4351-9feb-4cb2-924d-1d30bf15aa39",
   "metadata": {},
   "outputs": [],
   "source": [
    "from seaborn import clustermap\n",
    "\n",
    "# fill the missing\n",
    "w_df = w_df.fillna(0)\n",
    "\n",
    "with rc_context({'figure.figsize': (11, height), 'figure.dpi': dpi_value}):\n",
    "    plt.style.use('seaborn-v0_8-bright')    \n",
    "    # clustermap(w_df, cmap='Purples', cbar_pos=(0.75, 0.9, 0.05, 0.18))\n",
    "    clustermap(w_df, cmap='Purples', cbar_pos=None, linecolor='grey', linewidths=0.05)        \n",
    "    # plt.title('GSEA Enrichr')\n",
    "    plt.xticks(rotation = 90)\n",
    "    # plt.savefig(figure_file, dpi=dpi_value, bbox_inches='tight', \n",
    "    #             transparent=True, pad_inches=1)\n",
    "    plt.show()"
   ]
  },
  {
   "cell_type": "code",
   "execution_count": null,
   "id": "1c5c5337-822a-44fc-8fec-2601246031a1",
   "metadata": {},
   "outputs": [],
   "source": []
  }
 ],
 "metadata": {
  "kernelspec": {
   "display_name": "Python 3 (ipykernel)",
   "language": "python",
   "name": "python3"
  },
  "language_info": {
   "codemirror_mode": {
    "name": "ipython",
    "version": 3
   },
   "file_extension": ".py",
   "mimetype": "text/x-python",
   "name": "python",
   "nbconvert_exporter": "python",
   "pygments_lexer": "ipython3",
   "version": "3.10.13"
  }
 },
 "nbformat": 4,
 "nbformat_minor": 5
}
