{
 "cells": [
  {
   "cell_type": "markdown",
   "id": "0d654189-e235-477c-a1a7-0cfbec52a049",
   "metadata": {},
   "source": [
    "## Notebook to generate chord plots for age regression results using Holoviews"
   ]
  },
  {
   "cell_type": "code",
   "execution_count": null,
   "id": "ed06a493-e468-4e51-ac27-e3cec8df1b3f",
   "metadata": {},
   "outputs": [],
   "source": [
    "!date"
   ]
  },
  {
   "cell_type": "markdown",
   "id": "a377c2ff-c742-4f8d-a60b-7d777bfb8f4a",
   "metadata": {},
   "source": [
    "#### import libraries"
   ]
  },
  {
   "cell_type": "code",
   "execution_count": null,
   "id": "ce7be39c-eb4c-4647-aa39-903c41ac164f",
   "metadata": {},
   "outputs": [],
   "source": [
    "from pandas import read_csv, DataFrame\n",
    "from itertools import combinations\n",
    "import holoviews as hv\n",
    "from holoviews import opts, dim\n",
    "\n",
    "hv.extension('bokeh')\n",
    "hv.output(size=200)"
   ]
  },
  {
   "cell_type": "markdown",
   "id": "a8070986-949f-44d7-9649-f7bad65abaad",
   "metadata": {},
   "source": [
    "#### set notebook variables"
   ]
  },
  {
   "cell_type": "code",
   "execution_count": null,
   "id": "df65e431-83bd-4fb3-a93d-296cb98fe8c2",
   "metadata": {},
   "outputs": [],
   "source": [
    "# parameters\n",
    "modality = 'GEX' # 'GEX' or 'ATAC'\n",
    "category = 'curated_type' # 'curated_type' for broad and 'cluster_name' for specific\n",
    "REGRESSION_TYPE = 'glm_tweedie' # 'glm', 'glm_tweedie', or 'rlm'"
   ]
  },
  {
   "cell_type": "code",
   "execution_count": null,
   "id": "ebce8b33-98aa-489f-ba0c-132c390409b0",
   "metadata": {},
   "outputs": [],
   "source": [
    "# parameters\n",
    "project = 'aging_phase2'\n",
    "if category == 'curated_type':\n",
    "    prefix_type = 'broad'\n",
    "elif category == 'cluster_name':\n",
    "    prefix_type = 'specific' \n",
    "\n",
    "# directories\n",
    "wrk_dir = '/labshare/raph/datasets/adrd_neuro/brain_aging/phase2'\n",
    "quants_dir = f'{wrk_dir}/quants'\n",
    "results_dir = f'{wrk_dir}/results'\n",
    "figures_dir = f'{wrk_dir}/figures'\n",
    "\n",
    "# in files\n",
    "results_file = f'{results_dir}/{project}.{modality}.{prefix_type}.{REGRESSION_TYPE}_fdr_filtered.age.csv'\n",
    "\n",
    "# out files\n",
    "\n",
    "# constants\n",
    "DEBUG = True"
   ]
  },
  {
   "cell_type": "markdown",
   "id": "8b155b2d-790d-4f5a-a214-160528652b77",
   "metadata": {},
   "source": [
    "### load the results to visualize"
   ]
  },
  {
   "cell_type": "code",
   "execution_count": null,
   "id": "78830025-8150-448a-aa4c-6e450cd1a6eb",
   "metadata": {},
   "outputs": [],
   "source": [
    "results_df = read_csv(results_file)\n",
    "print(f'results shape {results_df.shape}')\n",
    "if DEBUG:\n",
    "    display(results_df.sample(5))"
   ]
  },
  {
   "cell_type": "markdown",
   "id": "57e177e0-4564-4e8b-add2-7d4ac2617795",
   "metadata": {},
   "source": [
    "### create the nodes; here the unique cell-types present in the tissue column"
   ]
  },
  {
   "cell_type": "code",
   "execution_count": null,
   "id": "10c79cdc-4a2b-415d-90fa-087e97677f80",
   "metadata": {},
   "outputs": [],
   "source": [
    "# nodes_df = results_df.tissue.to_frame()\n",
    "nodes_df = results_df.tissue.to_frame().drop_duplicates(keep='first').reset_index()\n",
    "nodes_dict = nodes_df.set_index('tissue').to_dict()['index']\n",
    "nodes = hv.Dataset(nodes_df, 'index')\n",
    "if DEBUG:\n",
    "    display(nodes.data)\n",
    "    print(nodes_df)\n",
    "    display(nodes_dict)"
   ]
  },
  {
   "cell_type": "markdown",
   "id": "b947b807-7dba-4fa5-878c-6d5d7d993871",
   "metadata": {},
   "source": [
    "### create the links, number of shared features between cell-types"
   ]
  },
  {
   "cell_type": "code",
   "execution_count": null,
   "id": "fb6ac426-f774-4721-9a30-cf43dba4675a",
   "metadata": {},
   "outputs": [],
   "source": [
    "links_list = []\n",
    "# find the possible pairs of celltypes\n",
    "unique_pairs = list(combinations(nodes_dict.keys(), 2))\n",
    "for source, target in unique_pairs:\n",
    "    source_index = nodes_dict.get(source)\n",
    "    target_index = nodes_dict.get(target)\n",
    "    # compute shared feature count from results\n",
    "    source_features = results_df.loc[results_df.tissue == source].feature\n",
    "    target_features = results_df.loc[results_df.tissue == target].feature\n",
    "    shared_cnt = len(set(source_features) & set(target_features))\n",
    "    links_list.append([source_index, target_index, shared_cnt])\n",
    "links_df = DataFrame(data=links_list, columns=['source', 'target', 'value'])\n",
    "print(f'links shape is {links_df.shape}')\n",
    "if DEBUG:\n",
    "    display(links_df)"
   ]
  },
  {
   "cell_type": "code",
   "execution_count": null,
   "id": "5f30ee43-4a46-41a3-bb44-20ff7495fa49",
   "metadata": {},
   "outputs": [],
   "source": [
    "chord = hv.Chord((links_df, nodes)).select(value=(5, None))\n",
    "chord.opts(\n",
    "    opts.Chord(cmap='Set1', edge_cmap='Set1', edge_color=dim('source').str(), \n",
    "               labels='tissue', node_color=dim('index').str(), title=f'{modality}: {category}'))"
   ]
  },
  {
   "cell_type": "code",
   "execution_count": null,
   "id": "f304fe20-7c87-417f-a0c9-54a6d4b0c00b",
   "metadata": {},
   "outputs": [],
   "source": [
    "!date"
   ]
  }
 ],
 "metadata": {
  "kernelspec": {
   "display_name": "Python 3 (ipykernel)",
   "language": "python",
   "name": "python3"
  },
  "language_info": {
   "codemirror_mode": {
    "name": "ipython",
    "version": 3
   },
   "file_extension": ".py",
   "mimetype": "text/x-python",
   "name": "python",
   "nbconvert_exporter": "python",
   "pygments_lexer": "ipython3",
   "version": "3.10.13"
  }
 },
 "nbformat": 4,
 "nbformat_minor": 5
}
