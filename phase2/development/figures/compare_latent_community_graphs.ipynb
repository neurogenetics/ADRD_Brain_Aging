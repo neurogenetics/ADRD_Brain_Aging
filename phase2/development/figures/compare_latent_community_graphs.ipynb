{
 "cells": [
  {
   "cell_type": "markdown",
   "id": "b718d563-a662-4d63-8601-67121f79bde1",
   "metadata": {},
   "source": [
    "## Compare the partioning of the cell-type latent factors\n",
    "\n",
    "Using cell-type and model-type"
   ]
  },
  {
   "cell_type": "code",
   "execution_count": null,
   "id": "f12ec50a-63e4-49dc-81a4-724f93c61469",
   "metadata": {},
   "outputs": [],
   "source": [
    "!date"
   ]
  },
  {
   "cell_type": "markdown",
   "id": "7ee6938a-7afc-4826-882d-79ae013dd3e7",
   "metadata": {},
   "source": [
    "#### import libraries"
   ]
  },
  {
   "cell_type": "code",
   "execution_count": null,
   "id": "843d9a4b-f6db-423e-a06c-3375855becf9",
   "metadata": {},
   "outputs": [],
   "source": [
    "from pandas import read_csv, DataFrame\n",
    "from json import load as json_load"
   ]
  },
  {
   "cell_type": "markdown",
   "id": "04bcf70b-f621-44ce-8119-13b2b0997427",
   "metadata": {},
   "source": [
    "#### set notebook variables"
   ]
  },
  {
   "cell_type": "code",
   "execution_count": null,
   "id": "23d17d7a-a53c-46eb-9eaf-dba281715df4",
   "metadata": {},
   "outputs": [],
   "source": [
    "# parameters\n",
    "project = 'aging_phase2'\n",
    "\n",
    "# directories\n",
    "wrk_dir = '/labshare/raph/datasets/adrd_neuro/brain_aging/phase2'\n",
    "results_dir = f'{wrk_dir}/results'\n",
    "figures_dir = f'{wrk_dir}/figures'\n",
    "\n",
    "# in files\n",
    "assoc_file = f'{results_dir}/{project}.latent.age_glm.csv'\n",
    "\n",
    "# out files\n",
    "heatmap_figure = f'{figures_dir}/{project}.latent.partitioned_factors_compare.heatmap.png'\n",
    "\n",
    "# constants and variables\n",
    "DEBUG = True\n",
    "ALPHA = 0.05"
   ]
  },
  {
   "cell_type": "markdown",
   "id": "bfbfdeb9-5f13-42d4-87d7-850c7230818a",
   "metadata": {},
   "source": [
    "### load input data"
   ]
  },
  {
   "cell_type": "markdown",
   "id": "fbd48561-820a-4d2c-96ec-aa280dfbf4ae",
   "metadata": {},
   "source": [
    "#### load the latent factor age associations"
   ]
  },
  {
   "cell_type": "code",
   "execution_count": null,
   "id": "3d73d21d-9a46-443d-ac8c-9d2bbca5c146",
   "metadata": {},
   "outputs": [],
   "source": [
    "age_glm_df = read_csv(assoc_file, index_col=0)\n",
    "print(f'shape of age_glm_df is {age_glm_df.shape}')\n",
    "age_glm_df['key_name'] = age_glm_df.cell_type + ':' + age_glm_df.feature\n",
    "if DEBUG:\n",
    "    display(age_glm_df.sample(4))\n",
    "    print(f'age_glm_df has {age_glm_df.key_name.nunique()} keys')"
   ]
  },
  {
   "cell_type": "markdown",
   "id": "eaf0566a-3328-4110-b7b7-43f44e7f2a3f",
   "metadata": {},
   "source": [
    "#### subset the latent factor to only those with a statistically significant age association"
   ]
  },
  {
   "cell_type": "code",
   "execution_count": null,
   "id": "36060aa7-fddf-4833-b0d6-e7bdd8168541",
   "metadata": {},
   "outputs": [],
   "source": [
    "age_glm_df = age_glm_df.loc[(age_glm_df.fdr_bh <= ALPHA)]\n",
    "print(f'shape of age_glm_df is {age_glm_df.shape}')\n",
    "if DEBUG:\n",
    "    display(age_glm_df.sample(4))"
   ]
  },
  {
   "cell_type": "code",
   "execution_count": null,
   "id": "413888f9-accb-4fa0-8292-f7e361e5a4b3",
   "metadata": {},
   "outputs": [],
   "source": [
    "if DEBUG:\n",
    "    display(age_glm_df.groupby('cell_type').model_type.value_counts())"
   ]
  },
  {
   "cell_type": "markdown",
   "id": "be5fc284-8692-41d7-9c97-5388d13ed484",
   "metadata": {},
   "source": [
    "### load the partitioned latent factors and fill in an adjacency matrix"
   ]
  },
  {
   "cell_type": "code",
   "execution_count": null,
   "id": "0894fc16-004d-455f-9d1f-8c99be751ce9",
   "metadata": {},
   "outputs": [],
   "source": [
    "names = age_glm_df.cell_type.unique()\n",
    "# names = age_glm_df.key_name.unique()\n",
    "adjacency_df = DataFrame(0, index=names, columns=names)\n",
    "print(f'shape of empty adjacency_df is {adjacency_df.shape}')\n",
    "if DEBUG:\n",
    "    display(adjacency_df.head())"
   ]
  },
  {
   "cell_type": "code",
   "execution_count": null,
   "id": "020f7834-3976-482c-aa20-b82b249e2214",
   "metadata": {},
   "outputs": [],
   "source": [
    "len(cell_types)"
   ]
  },
  {
   "cell_type": "code",
   "execution_count": null,
   "id": "d166b3a6-a254-4b3c-bd48-4bdde600a601",
   "metadata": {},
   "outputs": [],
   "source": [
    "from itertools import combinations\n",
    "for model_type in age_glm_df.model_type.unique():\n",
    "    print(f'### {model_type} ###')\n",
    "    communities_file = f'{figures_dir}/{project}.latents.{model_type}.partitioned_factors.json'\n",
    "    with open(communities_file, 'r') as in_file:\n",
    "        partitioned_factors = json_load(in_file)\n",
    "        for group, factors in partitioned_factors.items():\n",
    "            print(group, factors)\n",
    "            # cell_types = set([element.split(':')[0] for element in factors])\n",
    "            cell_types = [element.split(':')[0] for element in factors]\n",
    "            # cell_types = set(factors)\n",
    "            if len(cell_types) > 1:\n",
    "                pairs = list(combinations(cell_types, 2))\n",
    "            else:\n",
    "                # single element identity pair\n",
    "                pairs = [(list(cell_types)[0], list(cell_types)[0])]\n",
    "            print(pairs)\n",
    "            # add the pairs count to the adjacency matrix\n",
    "            for factor1, factor2 in pairs:\n",
    "                adjacency_df.at[factor1, factor2] += 1"
   ]
  },
  {
   "cell_type": "code",
   "execution_count": null,
   "id": "b3fc0b14-bc89-4361-883b-efd24062f56a",
   "metadata": {},
   "outputs": [],
   "source": [
    "print(f'shape of empty adjacency_df is {adjacency_df.shape}')\n",
    "if DEBUG:\n",
    "    display(adjacency_df.head())"
   ]
  },
  {
   "cell_type": "code",
   "execution_count": null,
   "id": "51f1a688-5d03-43e1-830a-7558b77bc96f",
   "metadata": {},
   "outputs": [],
   "source": [
    "from seaborn import clustermap\n",
    "from matplotlib import pyplot as plt\n",
    "from matplotlib.pyplot import rc_context\n",
    "clustermap(adjacency_df, cmap='Purples', linecolor='lightgrey', linewidths=0.01)\n",
    "plt.show()"
   ]
  },
  {
   "cell_type": "code",
   "execution_count": null,
   "id": "60410b3d-3f83-43c1-9580-635ad33661e9",
   "metadata": {},
   "outputs": [],
   "source": []
  }
 ],
 "metadata": {
  "kernelspec": {
   "display_name": "Python 3 (ipykernel)",
   "language": "python",
   "name": "python3"
  },
  "language_info": {
   "codemirror_mode": {
    "name": "ipython",
    "version": 3
   },
   "file_extension": ".py",
   "mimetype": "text/x-python",
   "name": "python",
   "nbconvert_exporter": "python",
   "pygments_lexer": "ipython3",
   "version": "3.10.13"
  }
 },
 "nbformat": 4,
 "nbformat_minor": 5
}
