{
 "cells": [
  {
   "cell_type": "markdown",
   "id": "92693427-37d3-45bb-9972-5b2bcbc8f86d",
   "metadata": {},
   "source": [
    "## Create a graph of the age associated features across broad and specific cell-types"
   ]
  },
  {
   "cell_type": "code",
   "execution_count": null,
   "id": "863371f5-aa03-4a46-852c-29e175978889",
   "metadata": {},
   "outputs": [],
   "source": [
    "!date"
   ]
  },
  {
   "cell_type": "markdown",
   "id": "6ba5820d-5a49-4a7f-9bf8-ebbe539d9e54",
   "metadata": {},
   "source": [
    "#### import libraries"
   ]
  },
  {
   "cell_type": "code",
   "execution_count": null,
   "id": "5960dc7a-96e9-40df-86bb-0c678d0ea3a5",
   "metadata": {},
   "outputs": [],
   "source": [
    "from pandas import read_csv, concat\n",
    "from igraph import Graph, Plot, union\n",
    "from igraph.drawing.colors import ClusterColoringPalette\n",
    "import matplotlib.pyplot as plt\n",
    "from IPython.display import Image\n",
    "from matplotlib.image import imread\n",
    "import leidenalg\n",
    "from json import dump as json_dump\n",
    "from matplotlib.pyplot import rc_context\n",
    "import igraph as ig\n",
    "from matplotlib.patches import Patch\n",
    "\n",
    "%matplotlib inline\n",
    "# for white background of figures (only for docs rendering)\n",
    "%config InlineBackend.print_figure_kwargs={'facecolor' : \"w\"}\n",
    "%config InlineBackend.figure_format='retina'"
   ]
  },
  {
   "cell_type": "markdown",
   "id": "383f90c1-9a43-4d45-b4b0-b0ab9e02ed41",
   "metadata": {},
   "source": [
    "#### set notebook variables"
   ]
  },
  {
   "cell_type": "code",
   "execution_count": null,
   "id": "ed54e04d-7bab-45dc-ba80-34161edd8c62",
   "metadata": {},
   "outputs": [],
   "source": [
    "# parameters\n",
    "project = 'aging_phase2'\n",
    "\n",
    "# directories\n",
    "wrk_dir = '/labshare/raph/datasets/adrd_neuro/brain_aging/phase2'\n",
    "results_dir = f'{wrk_dir}/results'\n",
    "figures_dir = f'{wrk_dir}/figures'\n",
    "\n",
    "# in files\n",
    "\n",
    "# out files\n",
    "graphml_file = f'{figures_dir}/{project}.association.graphml'\n",
    "gml_file = f'{figures_dir}/{project}.association.gml'\n",
    "image_file = f'{figures_dir}/{project}.association_graph.png'\n",
    "communities_file = f'{figures_dir}/{project}.association.partitioned_factors.json'\n",
    "\n",
    "# constants and variables\n",
    "DEBUG = True\n",
    "modalities = ['GEX', 'ATAC']\n",
    "categories = ['broad', 'specific']"
   ]
  },
  {
   "cell_type": "markdown",
   "id": "a89953db-c591-4cce-9e7c-ee5fa8769d9f",
   "metadata": {},
   "source": [
    "### load input data"
   ]
  },
  {
   "cell_type": "markdown",
   "id": "57ed7a59-decb-4488-9f5e-45fc240b33ae",
   "metadata": {},
   "source": [
    "#### load age associated feature results\n",
    "get the age associated GEX and ATAC features detected per cell-type"
   ]
  },
  {
   "cell_type": "code",
   "execution_count": null,
   "id": "ba695de3-5cf2-479c-81c8-8420524404bd",
   "metadata": {},
   "outputs": [],
   "source": [
    "%%time\n",
    "age_results = []\n",
    "for modality in modalities:\n",
    "    for category in categories:\n",
    "        print(modality, category)\n",
    "        in_file = f'{results_dir}/{project}.{modality}.{category}.glm_tweedie_fdr_filtered.age.csv'\n",
    "        this_df = read_csv(in_file)\n",
    "        this_df['modality'] = modality\n",
    "        this_df['category'] = category\n",
    "        age_results.append(this_df)\n",
    "age_results_df = concat(age_results)\n",
    "print(f'shape of the age results is {age_results_df.shape}')\n",
    "if DEBUG:\n",
    "    display(age_results_df.sample(5))\n",
    "    display(age_results_df.modality.value_counts())\n",
    "    display(age_results_df.tissue.value_counts())\n",
    "    display(age_results_df.category.value_counts())    "
   ]
  },
  {
   "cell_type": "markdown",
   "id": "ff9dc46f-aa25-467b-9673-04c5a0c62bbe",
   "metadata": {},
   "source": [
    "### convert the feature age associations into a weighted graph per cell-type"
   ]
  },
  {
   "cell_type": "code",
   "execution_count": null,
   "id": "fbf97390-58ce-4e68-a7f9-327b3a243fc4",
   "metadata": {},
   "outputs": [],
   "source": [
    "%%time\n",
    "age_graphs = {}\n",
    "for cell_type in age_results_df.tissue.unique():\n",
    "    # create the empty graph\n",
    "    age_graph = Graph()\n",
    "    age_graph.add_vertex(name=cell_type, type='cell_type')\n",
    "    # add features as vertices by modality\n",
    "    cell_results_df = age_results_df.loc[(age_results_df.tissue == cell_type)]\n",
    "    for modality in cell_results_df.modality.unique():\n",
    "        modality_results = cell_results_df.loc[(cell_results_df.modality == modality)]\n",
    "        for feature in modality_results.feature.unique():\n",
    "            age_graph.add_vertex(name=feature, type=f'{modality}_feature')\n",
    "    # add the age associations as edges\n",
    "    for row in cell_results_df.itertuples():\n",
    "        age_graph.add_edge(row.tissue, row.feature, type=row.modality, \n",
    "                             category=row.category, effect=abs(row.z))\n",
    "    # save this cell-type's graph\n",
    "    cell_graphml_file = f'{figures_dir}/{project}.{cell_type}.association_graph.graphml'\n",
    "    age_graph.write_graphml(cell_graphml_file)\n",
    "    # add to dict of graphs\n",
    "    age_graphs[cell_type] = age_graph\n",
    "    if DEBUG:\n",
    "        print(f'{cell_type} has {age_graph.vcount()} vertices')\n",
    "        print(f'{cell_type} has {age_graph.ecount()} edges')\n",
    "print(f'{len(age_graphs)} graphs created and saved')\n",
    "if DEBUG:\n",
    "    print(f'a graph for each of these cell-types was created: {age_graphs.keys()}')"
   ]
  },
  {
   "cell_type": "markdown",
   "id": "6e22e1f9-d7f8-47bd-a738-72cb2a01fe38",
   "metadata": {},
   "source": [
    "### create consensus graph across cell-types by intersecting the graphs"
   ]
  },
  {
   "cell_type": "code",
   "execution_count": null,
   "id": "479e67f4-2082-4aa6-b506-b22b71e4a1d9",
   "metadata": {},
   "outputs": [],
   "source": [
    "consensus_graph = union(age_graphs.values(), byname=True)\n",
    "if DEBUG:\n",
    "    print(f'consensus_graph has {consensus_graph.vcount()} vertices')\n",
    "    print(f'consensus_graph has {consensus_graph.ecount()} edges')"
   ]
  },
  {
   "cell_type": "markdown",
   "id": "469dcf4d-26fd-425e-b4db-69207f8eedf3",
   "metadata": {},
   "source": [
    "### partition the graph"
   ]
  },
  {
   "cell_type": "code",
   "execution_count": null,
   "id": "18d43e23-cf3b-4f89-bf82-5e9f5ffeceb3",
   "metadata": {},
   "outputs": [],
   "source": [
    "%%time\n",
    "graph_cluster = leidenalg.find_partition(consensus_graph, leidenalg.ModularityVertexPartition, \n",
    "                                         n_iterations=25)\n",
    "# add the partition info to the graph\n",
    "consensus_graph.vs['membership'] = graph_cluster.membership\n",
    "if DEBUG:\n",
    "    print(len(graph_cluster))\n",
    "    print(len(graph_cluster.membership))\n",
    "    print(type(graph_cluster))"
   ]
  },
  {
   "cell_type": "markdown",
   "id": "1a8933fa-2971-45bc-b275-4da85b8c7dfb",
   "metadata": {},
   "source": [
    "#### inspect the partitioned latent factors"
   ]
  },
  {
   "cell_type": "code",
   "execution_count": null,
   "id": "cfe65192-a1b0-4340-bd32-da35f3037034",
   "metadata": {},
   "outputs": [],
   "source": [
    "cell_nodes = consensus_graph.vs.select(type='cell_type')\n",
    "print(len(cell_nodes))"
   ]
  },
  {
   "cell_type": "code",
   "execution_count": null,
   "id": "50472ba3-be8a-415a-a051-88ba4f6b9f85",
   "metadata": {},
   "outputs": [],
   "source": [
    "community_factors = {}\n",
    "for vertex in cell_nodes:\n",
    "    members = community_factors.get(vertex.attributes().get('membership'))\n",
    "    if members:\n",
    "        members.append(vertex.attributes().get('name'))\n",
    "    else:\n",
    "        members = [vertex.attributes().get('name')]\n",
    "    community_factors[vertex.attributes().get('membership')] = members"
   ]
  },
  {
   "cell_type": "code",
   "execution_count": null,
   "id": "afb599b0-f01a-49db-a456-383bb96aa50c",
   "metadata": {},
   "outputs": [],
   "source": [
    "display(community_factors)"
   ]
  },
  {
   "cell_type": "markdown",
   "id": "d18717e5-91fe-4047-a149-f13f0b0f9dcd",
   "metadata": {},
   "source": [
    "#### save the partitioned latent factor communities"
   ]
  },
  {
   "cell_type": "code",
   "execution_count": null,
   "id": "0df72512-cf46-46db-9324-9b90bb70b922",
   "metadata": {},
   "outputs": [],
   "source": [
    "with open(communities_file, 'w') as o_file:\n",
    "    json_dump(community_factors, o_file, indent=4)"
   ]
  },
  {
   "cell_type": "markdown",
   "id": "1660708d-42b3-4d20-b70d-e82729605ace",
   "metadata": {},
   "source": [
    "### save the graph"
   ]
  },
  {
   "cell_type": "code",
   "execution_count": null,
   "id": "fd8245e2-d459-4a2f-a31c-3b9f60a65565",
   "metadata": {},
   "outputs": [],
   "source": [
    "consensus_graph.write_graphml(graphml_file)"
   ]
  },
  {
   "cell_type": "markdown",
   "id": "a3734bbf-814a-4c6f-9131-1a925ec0dfc8",
   "metadata": {},
   "source": [
    "### draw the graph visualization"
   ]
  },
  {
   "cell_type": "code",
   "execution_count": null,
   "id": "6bf30e1a-2585-4d4c-9bff-378572851e23",
   "metadata": {},
   "outputs": [],
   "source": [
    "%%time\n",
    "visual_style = {}\n",
    "visual_style['bbox'] = (1600, 1200)\n",
    "visual_style['margin'] = 50\n",
    "layout_algorithm = 'drl' # 'fruchterman_reingold', 'drl', 'lgl', others available but much slower\n",
    "\n",
    "p = Plot(image_file, bbox=(1600, 1200), background='white')\n",
    "layout = consensus_graph.layout(layout_algorithm)\n",
    "pal = ClusterColoringPalette(len(graph_cluster))\n",
    "consensus_graph.vs['color'] = pal.get_many(graph_cluster.membership)\n",
    "consensus_graph.es['color'] = 'rgba(192, 192, 192, 0.3)'\n",
    "p.add(consensus_graph, layout=layout, **visual_style)\n",
    "p.redraw()\n",
    "\n",
    "# p.show()\n",
    "p.save()"
   ]
  },
  {
   "cell_type": "markdown",
   "id": "47e27ebb-2129-4e6f-a437-e01bd619a475",
   "metadata": {},
   "source": [
    "#### annotate the visualization"
   ]
  },
  {
   "cell_type": "code",
   "execution_count": null,
   "id": "46284387-9eb1-4bfe-be0a-093cf0165a9b",
   "metadata": {},
   "outputs": [],
   "source": [
    "%%time\n",
    "# Create a legend\n",
    "unique_clusters = set(graph_cluster.membership)\n",
    "legend_elements = [Patch(facecolor=pal[cluster], label=f'Aging-{cluster}') \n",
    "                   for cluster in unique_clusters]\n",
    "\n",
    "# Load the image\n",
    "img = imread(image_file) \n",
    "with rc_context({'figure.figsize': (12, 12), 'figure.dpi': 200}):\n",
    "    plt.style.use('seaborn-v0_8-talk')\n",
    "    # Create the plot\n",
    "    plt.figure()\n",
    "    plt.imshow(img)\n",
    "    # Add title\n",
    "    plt.title('Partitioned graph of cell-types and their age associated features')\n",
    "    # Add legend\n",
    "    plt.legend(handles=legend_elements, bbox_to_anchor=(1.05, 1), loc=2, \n",
    "               borderaxespad=0, prop={'size': 8})\n",
    "    plt.axis('off')\n",
    "    # save the updated figure\n",
    "    plt.savefig(image_file)"
   ]
  },
  {
   "cell_type": "code",
   "execution_count": null,
   "id": "1065c7c3-26b1-409e-bd96-bbe2fdb4d72b",
   "metadata": {},
   "outputs": [],
   "source": [
    "display(Image(image_file))"
   ]
  },
  {
   "cell_type": "code",
   "execution_count": null,
   "id": "bf08b847-885c-4aa3-be14-964888300b2f",
   "metadata": {},
   "outputs": [],
   "source": [
    "!date"
   ]
  }
 ],
 "metadata": {
  "kernelspec": {
   "display_name": "Python 3 (ipykernel)",
   "language": "python",
   "name": "python3"
  },
  "language_info": {
   "codemirror_mode": {
    "name": "ipython",
    "version": 3
   },
   "file_extension": ".py",
   "mimetype": "text/x-python",
   "name": "python",
   "nbconvert_exporter": "python",
   "pygments_lexer": "ipython3",
   "version": "3.10.13"
  }
 },
 "nbformat": 4,
 "nbformat_minor": 5
}
