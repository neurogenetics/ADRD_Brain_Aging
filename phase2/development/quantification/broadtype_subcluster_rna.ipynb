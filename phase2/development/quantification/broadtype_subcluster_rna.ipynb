{
 "cells": [
  {
   "cell_type": "markdown",
   "id": "48b662c2-d8e2-44a8-a1f3-501fedf33219",
   "metadata": {},
   "source": [
    "## Attempt subclustering of the broad cell-types"
   ]
  },
  {
   "cell_type": "code",
   "execution_count": null,
   "id": "191d96c9-2bf2-4638-a5a7-bd2090a9866e",
   "metadata": {},
   "outputs": [],
   "source": [
    "!date"
   ]
  },
  {
   "cell_type": "markdown",
   "id": "63639981-fd99-413e-ab34-637b40a226a9",
   "metadata": {},
   "source": [
    "#### import libraries"
   ]
  },
  {
   "cell_type": "code",
   "execution_count": null,
   "id": "7cc76803-b745-41c3-b2e8-611da574cc82",
   "metadata": {
    "editable": true,
    "slideshow": {
     "slide_type": ""
    },
    "tags": []
   },
   "outputs": [],
   "source": [
    "import scvi\n",
    "from numpy import where\n",
    "import scanpy as sc\n",
    "from anndata import AnnData\n",
    "from anndata import concat as ad_concat\n",
    "from pandas import read_csv, concat, DataFrame, Series\n",
    "import matplotlib.pyplot as plt\n",
    "from matplotlib.pyplot import rc_context\n",
    "import torch\n",
    "from seaborn import lineplot, barplot\n",
    "from sklearn.metrics import silhouette_score\n",
    "from numpy import arange, mean\n",
    "\n",
    "import random\n",
    "random.seed(42)\n",
    "\n",
    "import warnings\n",
    "warnings.filterwarnings('ignore')\n",
    "\n",
    "scvi.settings.seed = 42\n",
    "\n",
    "%matplotlib inline\n",
    "# for white background of figures (only for docs rendering)\n",
    "%config InlineBackend.print_figure_kwargs={'facecolor' : \"w\"}\n",
    "%config InlineBackend.figure_format='retina'"
   ]
  },
  {
   "cell_type": "markdown",
   "id": "747713c4-af53-434e-be99-923fb4135652",
   "metadata": {
    "editable": true,
    "slideshow": {
     "slide_type": ""
    },
    "tags": []
   },
   "source": [
    "#### set notebook variables"
   ]
  },
  {
   "cell_type": "code",
   "execution_count": null,
   "id": "f577a1f8-5e8e-41d7-b9d8-9f1ef990803e",
   "metadata": {
    "editable": true,
    "slideshow": {
     "slide_type": ""
    },
    "tags": [
     "parameters"
    ]
   },
   "outputs": [],
   "source": [
    "# parameters\n",
    "broad_type = 'NonNeuronal'"
   ]
  },
  {
   "cell_type": "code",
   "execution_count": null,
   "id": "a6ec0f56-9e0c-423f-92be-fb5a32821d61",
   "metadata": {
    "editable": true,
    "slideshow": {
     "slide_type": ""
    },
    "tags": []
   },
   "outputs": [],
   "source": [
    "# variables and constants\n",
    "project = 'aging_phase2'\n",
    "DEBUG = True\n",
    "MIN_CELL_PERCENT = 0.005\n",
    "MAX_MITO_PERCENT = 10\n",
    "TESTING = False\n",
    "testing_cell_size = 5000\n",
    "DETECT_HV_FEATURES = True\n",
    "FILTER_HV_FEATURES = True\n",
    "TOP_FEATURES_PERCENT = 0.15\n",
    "leiden_res = 1.0\n",
    "RUN_TRAINING = True\n",
    "BATCH_SIZE = 10000\n",
    "device = 'cuda' if torch.cuda.is_available() else 'cpu'\n",
    "cell_types_clusters = {'ExN': ['1', '2', '3', '4', '5',' 6', '7', '10', '11', '12',\n",
    "                               '13', '14', '15', '24', '27', '28'],\n",
    "                       'InN': ['4', '17', '18', '19', '20', '21', '24', '25', '26', '28'], \n",
    "                       'Astro': ['8', '24'], 'Micro': ['16'], 'Oligo': ['0', '28'], \n",
    "                       'OPC': ['9'], 'Endo': ['22'], 'VLMC': ['23', '28'], \n",
    "                       'NonNeuronal' : ['8', '24', '16', '0', '28', '9', '22', '23']}\n",
    "\n",
    "# directories\n",
    "wrk_dir = '/labshare/raph/datasets/adrd_neuro/brain_aging/phase2'\n",
    "quants_dir = f'{wrk_dir}/quants'\n",
    "models_dir = f'{wrk_dir}/models'\n",
    "figures_dir = f'{wrk_dir}/figures'\n",
    "sc.settings.figdir = f'{figures_dir}/'\n",
    "public_dir = f'{wrk_dir}/public'\n",
    "resolution_dir = f'{quants_dir}/resolution_selection'\n",
    "\n",
    "# in files\n",
    "raw_anndata_file =f'{quants_dir}/{project}.dev.rna.raw.h5ad'\n",
    "rna_scvi_h5ad_file = f'{quants_dir}/{project}.dev.rna.scvi.h5ad'\n",
    "\n",
    "# out files\n",
    "trained_model_path = f'{models_dir}/{project}_{broad_type}_dev_trained_scvi'\n",
    "celltype_var_features_file = f'{resolution_dir}/{broad_type}_varfeats.txt'\n",
    "adata_out_file = f'{quants_dir}/{project}_{broad_type}.dev.rna.scvi.h5ad'\n",
    "res_obs_file = f'{resolution_dir}/{broad_type}_res_obs.csv'\n",
    "\n",
    "if DEBUG:\n",
    "    print(f'{raw_anndata_file=}')\n",
    "    print(f'{rna_scvi_h5ad_file=}')\n",
    "    print(f'{trained_model_path=}')\n",
    "    print(f'{celltype_var_features_file=}')\n",
    "    print(f'{adata_out_file=}')\n",
    "    print(f'{res_obs_file=}')\n",
    "    print(f'{device=}')    "
   ]
  },
  {
   "cell_type": "markdown",
   "id": "d936a31d-91ed-4589-974b-24cfdb296058",
   "metadata": {
    "editable": true,
    "slideshow": {
     "slide_type": ""
    },
    "tags": []
   },
   "source": [
    "#### functions"
   ]
  },
  {
   "cell_type": "code",
   "execution_count": null,
   "id": "def276b9-1329-4682-b7fc-1559c93bc07c",
   "metadata": {},
   "outputs": [],
   "source": [
    "def peek_anndata(adata: AnnData, message: str=None, verbose: bool=False):\n",
    "    if not message is None and len(message) > 0:\n",
    "        print(message)\n",
    "    print(adata)\n",
    "    if verbose:\n",
    "        display(adata.obs.head())\n",
    "        display(adata.var.head())\n",
    "\n",
    "def peek_dataframe(df: DataFrame, message: str=None, verbose: bool=False):\n",
    "    if not message is None and len(message) > 0:\n",
    "        print(message)\n",
    "    print(f'{df.shape=}')\n",
    "    if verbose:\n",
    "        display(df.head())"
   ]
  },
  {
   "cell_type": "markdown",
   "id": "e0fdd26f-b996-4f48-a133-8a5155a0284c",
   "metadata": {},
   "source": [
    "## load the raw anndata file"
   ]
  },
  {
   "cell_type": "code",
   "execution_count": null,
   "id": "accc0399-c77e-4bde-bb76-2cb532f57ae4",
   "metadata": {},
   "outputs": [],
   "source": [
    "%%time\n",
    "adata_raw = sc.read_h5ad(raw_anndata_file)\n",
    "peek_anndata(adata_raw, 'loaded raw anndata', DEBUG)"
   ]
  },
  {
   "cell_type": "markdown",
   "id": "8d6ecea2-c169-45c2-a442-58675f29908b",
   "metadata": {},
   "source": [
    "## load the scVI processed anndata file"
   ]
  },
  {
   "cell_type": "code",
   "execution_count": null,
   "id": "a30c6709-0035-4369-bdf4-666fbbbdfb0a",
   "metadata": {},
   "outputs": [],
   "source": [
    "%%time\n",
    "adata_proc = sc.read_h5ad(rna_scvi_h5ad_file)\n",
    "peek_anndata(adata_proc, 'loaded processed anndata', DEBUG)"
   ]
  },
  {
   "cell_type": "markdown",
   "id": "b0036663-093d-4cc2-9148-c32114fd22f4",
   "metadata": {},
   "source": [
    "## subset the raw anndata based on the broad cell-type annotation in the processed anndata for the specifiec broad cell type"
   ]
  },
  {
   "cell_type": "code",
   "execution_count": null,
   "id": "cc9ab6ff-8d51-461c-ba87-b9fa61f88f4f",
   "metadata": {},
   "outputs": [],
   "source": [
    "# find the cell IDs for the cells \n",
    "cluster_ids = cell_types_clusters.get(broad_type)\n",
    "adata_sub = adata_proc[adata_proc.obs.leiden_scvi.isin(cluster_ids)]\n",
    "peek_anndata(adata_sub, f'processed anndata cell subset for {broad_type} cell type', DEBUG)\n",
    "adata_gex = adata_raw[adata_raw.obs.index.isin(adata_sub.obs.index)]\n",
    "peek_anndata(adata_gex, f'raw anndata cell subset for {broad_type} cell type', DEBUG)\n",
    "if DEBUG:\n",
    "    print(cluster_ids)\n",
    "    print(adata_sub.obs.leiden_scvi.unique())"
   ]
  },
  {
   "cell_type": "markdown",
   "id": "127eccee-e0f6-456b-87e8-fbb1e63ed54b",
   "metadata": {},
   "source": [
    "## perform some typical pre-processing"
   ]
  },
  {
   "cell_type": "markdown",
   "id": "3eb75558-ac84-4e35-baad-ed4d9c21c4cc",
   "metadata": {
    "id": "Q4b1f0mwldGn"
   },
   "source": [
    "We also filter features to remove those that appear in fewer than MIN% of the cells"
   ]
  },
  {
   "cell_type": "code",
   "execution_count": null,
   "id": "0c15308f-c5ba-4c46-8b9d-08bff0edd301",
   "metadata": {
    "colab": {
     "base_uri": "https://localhost:8080/"
    },
    "id": "FUhG037lWtYQ",
    "outputId": "96c29ddb-b7a4-432e-f3f3-8f2318830154"
   },
   "outputs": [],
   "source": [
    "%%time\n",
    "print(adata_gex.shape)\n",
    "# annotate the group of mitochondrial genes as 'mt'\n",
    "adata_gex.var['mt'] = adata_gex.var_names.str.startswith('MT-')  \n",
    "# ribosomal genes\n",
    "adata_gex.var['ribo'] = adata_gex.var_names.str.startswith(('RPS', 'RPL'))\n",
    "# hemoglobin genes\n",
    "adata_gex.var['hb'] = adata_gex.var_names.str.contains('^HB[^(P)]')\n",
    "\n",
    "# With pp.calculate_qc_metrics, we can compute many metrics very efficiently.\n",
    "sc.pp.calculate_qc_metrics(adata_gex, qc_vars=['mt', 'ribo', 'hb'], \n",
    "                           inplace=True, log1p=True)\n",
    "adata_gex = adata_gex[adata_gex.obs.pct_counts_mt < MAX_MITO_PERCENT, :]\n",
    "# Basic filtering:\n",
    "sc.pp.filter_cells(adata_gex, min_genes=200)\n",
    "sc.pp.filter_genes(adata_gex, min_cells=int(adata_gex.shape[0] * MIN_CELL_PERCENT))\n",
    "\n",
    "peek_anndata(adata_gex, f'GEX anndata with QC metrics', DEBUG)"
   ]
  },
  {
   "cell_type": "markdown",
   "id": "9a062e7d-4709-4f9f-9cb7-a2985d34954b",
   "metadata": {
    "editable": true,
    "slideshow": {
     "slide_type": ""
    },
    "tags": []
   },
   "source": [
    "#### if flag set then subset to highest variance features\n",
    "\n",
    "MultiVI tutorial doesn't suggest this so probably typically will set to false"
   ]
  },
  {
   "cell_type": "code",
   "execution_count": null,
   "id": "5c883569-e062-4920-9344-1c43dcbb953f",
   "metadata": {},
   "outputs": [],
   "source": [
    "if DETECT_HV_FEATURES:\n",
    "    n_top_genes = int(adata_gex.n_vars * TOP_FEATURES_PERCENT)\n",
    "    sc.pp.highly_variable_genes(adata_gex, n_top_genes=n_top_genes, \n",
    "                                batch_key='gex_pool',flavor='seurat_v3', \n",
    "                                subset=FILTER_HV_FEATURES)                                \n",
    "    peek_anndata(adata_gex, f'GEX anndata only HVF', DEBUG)"
   ]
  },
  {
   "cell_type": "markdown",
   "id": "f45f47be-fcf1-48e7-b2b2-8258bea75ee4",
   "metadata": {
    "id": "-puYqefZn_0P"
   },
   "source": [
    "## Setup and Training scVI model"
   ]
  },
  {
   "cell_type": "code",
   "execution_count": null,
   "id": "b25109a0-24b4-4d82-8775-544f7a664719",
   "metadata": {
    "colab": {
     "base_uri": "https://localhost:8080/"
    },
    "id": "Gx9DJc2WoGpz",
    "outputId": "478986e4-73fc-4e13-94e4-50bccdf235b1"
   },
   "outputs": [],
   "source": [
    "scvi.model.SCVI.setup_anndata(adata_gex, batch_key='sample_id',\n",
    "                              categorical_covariate_keys = ['gex_pool', 'Study'],\n",
    "                              continuous_covariate_keys=['pct_counts_mt', 'pct_counts_ribo'],)"
   ]
  },
  {
   "cell_type": "code",
   "execution_count": null,
   "id": "b12cba8a-9669-4d54-8fdf-cbaa9e30dac9",
   "metadata": {
    "colab": {
     "base_uri": "https://localhost:8080/"
    },
    "id": "hu7B7zq2oGnB",
    "outputId": "68fc36c7-539b-4696-badc-55861c457c54"
   },
   "outputs": [],
   "source": [
    "model = scvi.model.SCVI(adata_gex)\n",
    "print(model)"
   ]
  },
  {
   "cell_type": "code",
   "execution_count": null,
   "id": "713a07bd-6fb4-4b9f-b9b4-5ac83c1ce70c",
   "metadata": {},
   "outputs": [],
   "source": [
    "%%time\n",
    "if RUN_TRAINING:\n",
    "    model.train()"
   ]
  },
  {
   "cell_type": "markdown",
   "id": "cbc6f071-8cce-4ac3-8e2a-b3b1d07f8c38",
   "metadata": {
    "editable": true,
    "id": "SW1yKwds27ez",
    "slideshow": {
     "slide_type": ""
    },
    "tags": []
   },
   "source": [
    "## Save and Load MultiVI models\n",
    "\n",
    "Saving and loading models is similar to all other scvi-tools models, and is very straight forward:"
   ]
  },
  {
   "cell_type": "code",
   "execution_count": null,
   "id": "b86cb48d-cf29-4615-98e5-ec991d25e887",
   "metadata": {
    "id": "GqwA7o2l6u8D"
   },
   "outputs": [],
   "source": [
    "if RUN_TRAINING:\n",
    "    model.save(trained_model_path, overwrite=True)"
   ]
  },
  {
   "cell_type": "code",
   "execution_count": null,
   "id": "a0d1afac-5a1e-471f-be8d-ab74d25ffc5f",
   "metadata": {
    "colab": {
     "base_uri": "https://localhost:8080/"
    },
    "id": "TI8han7vNAWh",
    "outputId": "1337010c-2895-42b9-8927-4a3caa8dac6f"
   },
   "outputs": [],
   "source": [
    "model = scvi.model.SCVI.load(trained_model_path, adata=adata_gex, accelerator='gpu')\n",
    "print(model)"
   ]
  },
  {
   "cell_type": "markdown",
   "id": "a9b87f2e-aed8-4380-bf61-5226dcb89e69",
   "metadata": {
    "id": "5ylbf6OZ3YMH"
   },
   "source": [
    "## Extracting and visualizing the latent space\n",
    "\n",
    "We can now use the `get_latent_representation` to get the latent space from the trained model, and visualize it using scanpy functions:"
   ]
  },
  {
   "cell_type": "code",
   "execution_count": null,
   "id": "6176dd0c-b9e7-4e6e-afa4-d7c93f6e0c61",
   "metadata": {
    "colab": {
     "base_uri": "https://localhost:8080/",
     "height": 333
    },
    "id": "IZFSzWEboGcP",
    "outputId": "5c9451ff-b6ad-47b5-90e1-46359b027dd3",
    "tags": []
   },
   "outputs": [],
   "source": [
    "%%time\n",
    "adata_gex.obsm['scvi_latent'] = model.get_latent_representation()"
   ]
  },
  {
   "cell_type": "markdown",
   "id": "98e064b9-f3fe-4514-bf20-89e08b083961",
   "metadata": {},
   "source": [
    "#### embed the graph based on latent representation"
   ]
  },
  {
   "cell_type": "code",
   "execution_count": null,
   "id": "329a8bff-eecc-4348-a22f-9d2ea06997b8",
   "metadata": {},
   "outputs": [],
   "source": [
    "%%time\n",
    "sc.pp.neighbors(adata_gex, use_rep='scvi_latent')\n",
    "# sc.tl.umap(adata_gex, min_dist=0.3)\n",
    "sc.tl.umap(adata_gex)"
   ]
  },
  {
   "cell_type": "markdown",
   "id": "e688a751-df7c-4933-afc3-282fd46dd313",
   "metadata": {},
   "source": [
    "#### visualize the latent representation"
   ]
  },
  {
   "cell_type": "code",
   "execution_count": null,
   "id": "aa1eedf4-d4f1-459b-9d26-d1d68157762f",
   "metadata": {},
   "outputs": [],
   "source": [
    "with rc_context({'figure.figsize': (8, 8), 'figure.dpi': 100}):\n",
    "    plt.style.use('seaborn-v0_8-talk')\n",
    "    sc.pl.umap(adata_gex, color=['sample_id'])\n",
    "    sc.pl.umap(adata_gex, color=['Study'])\n",
    "    sc.pl.umap(adata_gex, color=['ori_celltype'], frameon=False, \n",
    "               legend_loc='on data')\n",
    "    sc.pl.umap(adata_gex, color=['phase1_celltype'], frameon=False, \n",
    "               legend_loc='on data')  "
   ]
  },
  {
   "cell_type": "markdown",
   "id": "9b1eabf6-6273-43ec-b790-08952a1e2c87",
   "metadata": {},
   "source": [
    "### Clustering on the scVI latent space\n",
    "The user will note that we imported curated labels from the original publication. Our interface with scanpy makes it easy to cluster the data with scanpy from scVI's latent space and then reinject them into scVI (e.g., for differential expression)."
   ]
  },
  {
   "cell_type": "code",
   "execution_count": null,
   "id": "e2c8c529-e41c-4822-814f-8b1657f8c661",
   "metadata": {},
   "outputs": [],
   "source": [
    "%%time\n",
    "# neighbors were already computed using scVI\n",
    "sc.tl.leiden(adata_gex, key_added='leiden_scvi', resolution=0.6, flavor='igraph', n_iterations=2)"
   ]
  },
  {
   "cell_type": "markdown",
   "id": "942d9e96-1366-405d-9b26-e8a23b8bf719",
   "metadata": {},
   "source": [
    "#### check range of Leiden resolutions for clustering"
   ]
  },
  {
   "cell_type": "markdown",
   "id": "f4e266e8-6cc5-456f-9009-7f481c345f48",
   "metadata": {},
   "source": [
    "add the normalized expression from the model as a layer to be used for marker gene info"
   ]
  },
  {
   "cell_type": "code",
   "execution_count": null,
   "id": "ae61d42a-6b22-4877-b31e-19ae2ea87cff",
   "metadata": {},
   "outputs": [],
   "source": [
    "%%time\n",
    "adata_gex.layers['scvi_normalized'] = model.get_normalized_expression(library_size=10e4)"
   ]
  },
  {
   "cell_type": "markdown",
   "id": "1b1f7e01-06c9-4732-bece-d79c7682a437",
   "metadata": {},
   "source": [
    "also save the variable features for the broad cell-type for usage with the marker gene info"
   ]
  },
  {
   "cell_type": "code",
   "execution_count": null,
   "id": "add48d11-bacd-419c-9dae-93ada3bd775f",
   "metadata": {},
   "outputs": [],
   "source": [
    "variable_genes = adata_gex.var[adata_gex.var['highly_variable']].index.to_frame()\n",
    "variable_genes.to_csv(celltype_var_features_file, index=False, header=False)"
   ]
  },
  {
   "cell_type": "code",
   "execution_count": null,
   "id": "7c9c0152-cfb5-4991-92ce-4c9d64169ef7",
   "metadata": {},
   "outputs": [],
   "source": [
    "%%time\n",
    "resolutions_to_try = arange(0.1, 1.0, 0.1)\n",
    "print(resolutions_to_try)\n",
    "clust_assign_by_res = None\n",
    "mean_scores = {}\n",
    "largest_score = 0\n",
    "best_res = 0\n",
    "new_leiden_key = 'leiden_scvi'\n",
    "for leiden_res in resolutions_to_try:\n",
    "    # use only 2 decimals\n",
    "    leiden_res = round(leiden_res, 2)    \n",
    "    print(f'### using Leiden resolution of {leiden_res}')\n",
    "    # neighbors were already computed using scVI\n",
    "    sc.tl.leiden(adata_gex, key_added=new_leiden_key, resolution=leiden_res, flavor='igraph', n_iterations=2)\n",
    "    silhouette_avg = silhouette_score(adata_gex.obsm['scvi_latent'], adata_gex.obs[new_leiden_key])\n",
    "    print((f'For res = {leiden_res:.2f}, average silhouette: {silhouette_avg:.3f} '\n",
    "           f'for {adata_gex.obs[new_leiden_key].nunique()} clusters'))\n",
    "    # number of donors per cluster\n",
    "    df_grouped = adata_gex.obs.groupby([new_leiden_key])['sample_id'].value_counts()\n",
    "    df_grouped = df_grouped[df_grouped >= 30].to_frame().reset_index()\n",
    "    df_grouped = df_grouped.groupby(new_leiden_key)['sample_id'].nunique()    \n",
    "    mean_sample_per_cluster = df_grouped.mean()\n",
    "    less_than_half = df_grouped[df_grouped < adata_gex.obs.sample_id.nunique()/3].shape[0]\n",
    "    # mean cell count per cluster\n",
    "    df_grouped = adata_gex.obs[new_leiden_key].value_counts()\n",
    "    mean_cell_per_cluster = df_grouped.mean()        \n",
    "    mean_scores[leiden_res] = [silhouette_avg, adata_gex.obs[new_leiden_key].nunique(), \n",
    "                               mean_sample_per_cluster, mean_cell_per_cluster, less_than_half]\n",
    "    # retain cluster assignments at this resolution\n",
    "    if clust_assign_by_res is None:\n",
    "        clust_assign_by_res = (adata_gex.obs[[new_leiden_key]].copy()\n",
    "                               .rename(columns={new_leiden_key: f'leiden_{leiden_res}'}))\n",
    "    else:\n",
    "        clust_assign_by_res = concat([clust_assign_by_res, \n",
    "                                      (adata_gex.obs[[new_leiden_key]].copy()\n",
    "                                       .rename(columns={new_leiden_key: f'leiden_{leiden_res}'}))], \n",
    "                                     axis='columns')\n",
    "    # update best resolution info\n",
    "    if silhouette_avg > largest_score:\n",
    "        largest_score = silhouette_avg\n",
    "        best_res = leiden_res\n",
    "\n",
    "    # generate markers and average expression per resolution tested\n",
    "    avgexp = sc.get.obs_df(adata_gex, keys=list(adata_gex.var_names), \n",
    "                           layer='scvi_normalized').groupby(adata_gex.obs[new_leiden_key]).mean()\n",
    "    res_avg_exp_file = f'{resolution_dir}/{broad_type}_avgexp_res{leiden_res}.csv'\n",
    "    avgexp.to_csv(res_avg_exp_file)\n",
    "    sc.tl.rank_genes_groups(adata_gex, groupby=new_leiden_key, method='wilcoxon', \n",
    "                            pts=True, layer='scvi_normalized')\n",
    "    markers_df = sc.get.rank_genes_groups_df(adata_gex, group=None)\n",
    "    res_markers_file = f'{resolution_dir}/{broad_type}_markers_res{leiden_res}.csv'\n",
    "    markers_df.to_csv(res_markers_file, index=False)\n",
    "\n",
    "if DEBUG:\n",
    "    print(f'{clust_assign_by_res.shape=}')\n",
    "    display(clust_assign_by_res.head())"
   ]
  },
  {
   "cell_type": "markdown",
   "id": "1017146c-a7ca-44bf-92c6-46cdcc4d84e3",
   "metadata": {},
   "source": [
    "#### save the different resolution clusters with the info from the anndata obs\n",
    "since the indices are the same can just append them"
   ]
  },
  {
   "cell_type": "code",
   "execution_count": null,
   "id": "9d21dac6-567a-4f40-ba37-89a11da7ed1b",
   "metadata": {},
   "outputs": [],
   "source": [
    "%%time\n",
    "res_obs_info = concat([clust_assign_by_res, adata_gex.obs], axis='columns')\n",
    "peek_dataframe(res_obs_info, 'res_obs_info', DEBUG)    \n",
    "if DEBUG:\n",
    "    print(clust_assign_by_res.index.equals(adata_gex.obs.index))\n",
    "    print(res_obs_info.index.equals(adata_gex.obs.index))\n",
    "\n",
    "res_obs_info.to_csv(res_obs_file)"
   ]
  },
  {
   "cell_type": "code",
   "execution_count": null,
   "id": "244f2dae-e3d1-4992-ae4e-2b2a685678a7",
   "metadata": {},
   "outputs": [],
   "source": [
    "scores_df = DataFrame(index=mean_scores.keys(), data=mean_scores.values())\n",
    "scores_df.columns = ['score', 'num_clusters', 'mean_samples', 'mean_cells', 'less_than_half']\n",
    "print('max score at')\n",
    "best_result = scores_df.loc[scores_df.score == scores_df.score.max()]\n",
    "display(best_result)\n",
    "best_resolution = best_result.index.values[0]\n",
    "print(f'best resolution found at {best_resolution}')\n",
    "if DEBUG:\n",
    "    display(scores_df)\n",
    "fig_filename = f'{figures_dir}/leiden_resolution_silhouette_score.png'\n",
    "with rc_context({'figure.figsize': (8, 8), 'figure.dpi': 100}):\n",
    "    plt.style.use('seaborn-v0_8-talk')\n",
    "    lineplot(x=scores_df.index, y='score', data=scores_df)\n",
    "    plt.xlabel('resolution')\n",
    "    plt.savefig(fig_filename)\n",
    "    plt.show()\n",
    "lineplot(x=scores_df.index, y='num_clusters', data=scores_df)\n",
    "plt.xlabel('resolution')\n",
    "plt.show()\n",
    "lineplot(x=scores_df.index, y='mean_samples', data=scores_df)\n",
    "plt.xlabel('resolution')\n",
    "plt.show()\n",
    "lineplot(x=scores_df.index, y='mean_cells', data=scores_df)\n",
    "plt.xlabel('resolution')\n",
    "plt.show()\n",
    "lineplot(x=scores_df.index, y='less_than_half', data=scores_df)\n",
    "plt.ylabel('number clusters with less than 1/3 of donors')\n",
    "plt.xlabel('resolution')\n",
    "plt.show()"
   ]
  },
  {
   "cell_type": "code",
   "execution_count": null,
   "id": "727fd4bf-7708-4902-8b9e-6cb37d9a0e73",
   "metadata": {
    "editable": true,
    "slideshow": {
     "slide_type": ""
    },
    "tags": []
   },
   "outputs": [],
   "source": [
    "best_resolution = round(best_resolution, 2)\n",
    "print(f'{best_resolution=}')\n",
    "sc.tl.leiden(adata_gex, key_added='leiden_scvi', resolution=best_resolution, flavor='igraph', n_iterations=2)"
   ]
  },
  {
   "cell_type": "markdown",
   "id": "16f79c3c-9155-4a8f-a075-419c8c11212a",
   "metadata": {},
   "source": [
    "### visualize the cell counts per cluster"
   ]
  },
  {
   "cell_type": "code",
   "execution_count": null,
   "id": "1cffa29b-1d34-4e82-a318-874167080648",
   "metadata": {
    "editable": true,
    "slideshow": {
     "slide_type": ""
    },
    "tags": []
   },
   "outputs": [],
   "source": [
    "with rc_context({'figure.figsize': (8, 8), 'figure.dpi': 400}):\n",
    "    plt.style.use('seaborn-v0_8-paper')\n",
    "    barplot(data=adata_gex.obs.leiden_scvi.value_counts())\n",
    "    plt.show()\n",
    "    barplot(data=adata_gex.obs.groupby('leiden_scvi')['sample_id'].nunique())\n",
    "    plt.show()\n",
    "if DEBUG:\n",
    "    display(adata_gex.obs.leiden_scvi.value_counts())"
   ]
  },
  {
   "cell_type": "markdown",
   "id": "9991e32d-1f48-4198-b0b7-9735169e95fe",
   "metadata": {},
   "source": [
    "### visualize the clusters"
   ]
  },
  {
   "cell_type": "code",
   "execution_count": null,
   "id": "e7460c36-a643-4b2f-90b4-09a11874e902",
   "metadata": {
    "scrolled": true
   },
   "outputs": [],
   "source": [
    "# figure_file = f'_{project}.umap.leiden_on.png'\n",
    "with rc_context({'figure.figsize': (8, 8), 'figure.dpi': 400}):\n",
    "    plt.style.use('seaborn-v0_8-paper')\n",
    "    sc.pl.umap(adata_gex, color=['leiden_scvi'], frameon=False, \n",
    "               legend_loc='on data', legend_fontsize=6)   \n",
    "    sc.pl.umap(adata_gex, color=['Study'], frameon=False)\n",
    "    sc.pl.umap(adata_gex, color=['ori_celltype'], \n",
    "               frameon=False, legend_loc='on data', legend_fontsize=6)\n",
    "    sc.pl.umap(adata_gex, color=['age'], frameon=False)\n",
    "    sc.pl.umap(adata_gex, color=['phase1_celltype'], \n",
    "               frameon=False, legend_loc='on data', legend_fontsize=6)"
   ]
  },
  {
   "cell_type": "markdown",
   "id": "c51fb808-ae20-46ea-abd1-b280a8950f27",
   "metadata": {},
   "source": [
    "## what would the new cluster labels be"
   ]
  },
  {
   "cell_type": "markdown",
   "id": "666401e5-4214-4549-aca7-140d3992f685",
   "metadata": {},
   "source": [
    "### labels using any of the initial labels"
   ]
  },
  {
   "cell_type": "code",
   "execution_count": null,
   "id": "5c6b631c-6d16-4fdd-b74c-0b3469062cea",
   "metadata": {
    "editable": true,
    "scrolled": true,
    "slideshow": {
     "slide_type": ""
    },
    "tags": []
   },
   "outputs": [],
   "source": [
    "any_labels_dict = {}\n",
    "for cluster in adata_gex.obs.leiden_scvi.unique():\n",
    "    this_cluster = adata_gex.obs.loc[adata_gex.obs.leiden_scvi == cluster]\n",
    "    cell_type_cnts = this_cluster.ori_celltype.value_counts()\n",
    "    percentages = (cell_type_cnts / cell_type_cnts.sum()) * 100\n",
    "    print(f'\\n###{cluster=}')\n",
    "    cell_type_cnts = cell_type_cnts.to_frame()\n",
    "    cell_type_cnts['percentages'] = percentages\n",
    "    any_labels_dict[cluster] = f'{cell_type_cnts.index[0]}-({cell_type_cnts.iloc[0].percentages:.2f}%)-{cluster}'\n",
    "    if DEBUG:\n",
    "        display(cell_type_cnts.percentages)\n",
    "if DEBUG:\n",
    "    display(any_labels_dict)"
   ]
  },
  {
   "cell_type": "markdown",
   "id": "cf218f54-7649-43b7-941d-5a9dbb8ffa44",
   "metadata": {},
   "source": [
    "### what if we labeled based on Liam's previous clusters"
   ]
  },
  {
   "cell_type": "code",
   "execution_count": null,
   "id": "a3d17695-5986-4de4-902e-a16c5553ec24",
   "metadata": {
    "scrolled": true
   },
   "outputs": [],
   "source": [
    "liams_labels_dict = {}\n",
    "for cluster in adata_gex.obs.leiden_scvi.unique():\n",
    "    this_cluster = adata_gex.obs.loc[adata_gex.obs.leiden_scvi == cluster]\n",
    "    total_cells_cnt = this_cluster.shape[0]\n",
    "    this_cluster = this_cluster.loc[this_cluster.Study.isin(['Siletti', 'Mathys', 'Franjic'])]\n",
    "    fraq_ref = this_cluster.shape[0]/total_cells_cnt\n",
    "    if fraq_ref == 0.0:\n",
    "        liams_labels_dict[cluster] = 'Not Present'\n",
    "    else:\n",
    "        cell_type_cnts = this_cluster.ori_celltype.value_counts()\n",
    "        percentages = (cell_type_cnts / cell_type_cnts.sum()) * 100\n",
    "        print(f'\\n###{cluster=}, {fraq_ref=}')\n",
    "        cell_type_cnts = cell_type_cnts.to_frame()\n",
    "        cell_type_cnts['percentages'] = percentages\n",
    "        liams_labels_dict[cluster] = f'{cell_type_cnts.index[0]}-({cell_type_cnts.iloc[0].percentages:.2f}%)-({fraq_ref*100:.2f}%)'\n",
    "    if DEBUG:\n",
    "        display(cell_type_cnts.percentages)\n",
    "if DEBUG:\n",
    "    display(liams_labels_dict)"
   ]
  },
  {
   "cell_type": "markdown",
   "id": "47be88ea-c0d8-4a87-9f0b-ac150ba9a62f",
   "metadata": {},
   "source": [
    "### what if we labeled based on Phase1 cell labels"
   ]
  },
  {
   "cell_type": "code",
   "execution_count": null,
   "id": "72973053-f329-4d16-8f50-7c8a0654a9f2",
   "metadata": {
    "scrolled": true
   },
   "outputs": [],
   "source": [
    "phase1_labels_dict = {}\n",
    "for cluster in adata_gex.obs.leiden_scvi.unique():\n",
    "    this_cluster = adata_gex.obs.loc[adata_gex.obs.leiden_scvi == cluster]\n",
    "    total_cells_cnt = this_cluster.shape[0]\n",
    "    this_cluster = this_cluster.loc[((adata_gex.obs.Study == 'LNG')) & \n",
    "                                    (this_cluster.phase1_celltype != 'phase2')]\n",
    "    fraq_ref = this_cluster.shape[0]/total_cells_cnt\n",
    "    if fraq_ref == 0.0:\n",
    "        phase1_labels_dict[cluster] = 'Not Present'\n",
    "    else:\n",
    "        cell_type_cnts = this_cluster.phase1_celltype.value_counts()\n",
    "        percentages = (cell_type_cnts / cell_type_cnts.sum()) * 100\n",
    "        print(f'\\n###{cluster=}, {fraq_ref=}')\n",
    "        cell_type_cnts = cell_type_cnts.to_frame()\n",
    "        cell_type_cnts['percentages'] = percentages\n",
    "        phase1_labels_dict[cluster] = f'{cell_type_cnts.index[0]}-({cell_type_cnts.iloc[0].percentages:.2f}%)-({fraq_ref*100:.2f}%)'\n",
    "    if DEBUG:\n",
    "        display(cell_type_cnts.percentages)\n",
    "if DEBUG:\n",
    "    display(phase1_labels_dict)"
   ]
  },
  {
   "cell_type": "markdown",
   "id": "2bf1aba5-dd7b-4c52-9fa8-5367f2d6a666",
   "metadata": {},
   "source": [
    "### what if we labeled based on Phase2 celltypist cell labels"
   ]
  },
  {
   "cell_type": "code",
   "execution_count": null,
   "id": "aaf2d77a-9fe7-4fdc-85bc-e333db14e540",
   "metadata": {
    "scrolled": true
   },
   "outputs": [],
   "source": [
    "celltypist_labels_dict = {}\n",
    "for cluster in adata_gex.obs.leiden_scvi.unique():\n",
    "    this_cluster = adata_gex.obs.loc[adata_gex.obs.leiden_scvi == cluster]\n",
    "    total_cells_cnt = this_cluster.shape[0]\n",
    "    this_cluster = this_cluster.loc[adata_gex.obs.Study == 'LNG']\n",
    "    fraq_ref = this_cluster.shape[0]/total_cells_cnt\n",
    "    if fraq_ref == 0.0:\n",
    "        celltypist_labels_dict[cluster] = 'Not Present'\n",
    "    else:\n",
    "        cell_type_cnts = this_cluster.ori_celltype.value_counts()\n",
    "        percentages = (cell_type_cnts / cell_type_cnts.sum()) * 100\n",
    "        print(f'\\n###{cluster=}, {fraq_ref=}')\n",
    "        cell_type_cnts = cell_type_cnts.to_frame()\n",
    "        cell_type_cnts['percentages'] = percentages\n",
    "        celltypist_labels_dict[cluster] = f'{cell_type_cnts.index[0]}-({cell_type_cnts.iloc[0].percentages:.2f}%)-({fraq_ref*100:.2f}%)'\n",
    "    if DEBUG:\n",
    "        display(cell_type_cnts.percentages)\n",
    "if DEBUG:\n",
    "    display(celltypist_labels_dict)"
   ]
  },
  {
   "cell_type": "markdown",
   "id": "260dc8d4-e2cb-435a-bbfe-012d63a6cbab",
   "metadata": {},
   "source": [
    "### add the possible labels to the anndata obs"
   ]
  },
  {
   "cell_type": "code",
   "execution_count": null,
   "id": "881c246d-8a5f-40dc-a6ba-88699a8ae6d9",
   "metadata": {},
   "outputs": [],
   "source": [
    "adata_gex.obs['any_label'] = adata_gex.obs.leiden_scvi.map(any_labels_dict)\n",
    "adata_gex.obs['liams_label'] = adata_gex.obs.leiden_scvi.map(liams_labels_dict)\n",
    "adata_gex.obs['phase1_label'] = adata_gex.obs.leiden_scvi.map(phase1_labels_dict)\n",
    "adata_gex.obs['celltypist_mtg_label'] = adata_gex.obs.leiden_scvi.map(celltypist_labels_dict)\n",
    "peek_anndata(adata_gex, 'anndata with possible cell-type labels added', DEBUG)"
   ]
  },
  {
   "cell_type": "markdown",
   "id": "f58f9788-e329-498c-bd50-f404782827b7",
   "metadata": {},
   "source": [
    "## visualize the new labels"
   ]
  },
  {
   "cell_type": "code",
   "execution_count": null,
   "id": "5545dc4a-e00c-4daa-a9a6-d6e0b5dc9216",
   "metadata": {},
   "outputs": [],
   "source": [
    "with rc_context({'figure.figsize': (15, 15), 'figure.dpi': 400}):\n",
    "    plt.style.use('seaborn-v0_8-paper')\n",
    "    sc.pl.umap(adata_gex, color=['any_label'], frameon=False, \n",
    "               legend_loc='on data', legend_fontsize=4, legend_fontweight='bold')\n",
    "    sc.pl.umap(adata_gex, color=['liams_label'], frameon=False, \n",
    "               legend_loc='on data', legend_fontsize=4, legend_fontweight='bold')\n",
    "    sc.pl.umap(adata_gex, color=['phase1_label'], frameon=False, \n",
    "               legend_loc='on data', legend_fontsize=4, legend_fontweight='bold')\n",
    "    sc.pl.umap(adata_gex, color=['celltypist_mtg_label'], frameon=False, \n",
    "               legend_loc='on data', legend_fontsize=4, legend_fontweight='bold')"
   ]
  },
  {
   "cell_type": "markdown",
   "id": "bc84ce05-a5df-48e7-bdae-b090aaa9bdf9",
   "metadata": {},
   "source": [
    "## save to processed anndata object"
   ]
  },
  {
   "cell_type": "code",
   "execution_count": null,
   "id": "52d0b87f-64c5-4645-bbf8-b587c65249d0",
   "metadata": {
    "editable": true,
    "slideshow": {
     "slide_type": ""
    },
    "tags": []
   },
   "outputs": [],
   "source": [
    "%%time\n",
    "adata_gex.write(adata_out_file)"
   ]
  },
  {
   "cell_type": "code",
   "execution_count": null,
   "id": "05374d30-2ffd-4ae5-a062-658fb3228227",
   "metadata": {},
   "outputs": [],
   "source": [
    "!date"
   ]
  }
 ],
 "metadata": {
  "kernelspec": {
   "display_name": "Python 3 (ipykernel)",
   "language": "python",
   "name": "python3"
  },
  "language_info": {
   "codemirror_mode": {
    "name": "ipython",
    "version": 3
   },
   "file_extension": ".py",
   "mimetype": "text/x-python",
   "name": "python",
   "nbconvert_exporter": "python",
   "pygments_lexer": "ipython3",
   "version": "3.12.2"
  }
 },
 "nbformat": 4,
 "nbformat_minor": 5
}
