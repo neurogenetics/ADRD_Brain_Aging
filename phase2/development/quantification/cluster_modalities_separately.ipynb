{
 "cells": [
  {
   "cell_type": "markdown",
   "id": "b6025154-fd3e-4480-aaa8-d666ef9034b2",
   "metadata": {},
   "source": [
    "# Cluster each modality separately and then integrate across the modalities\n",
    "- cluster RNA with [scVI](https://docs.scvi-tools.org/en/1.3.0/tutorials/notebooks/quick_start/api_overview.html)\n",
    "- cluster ATAC with [peakVI](https://docs.scvi-tools.org/en/1.3.0/tutorials/notebooks/atac/PeakVI.html)\n",
    "- integrate RNA and ATAC clusters with [MOSCOT TranslationProblem](https://moscot.readthedocs.io/en/latest/notebooks/tutorials/600_tutorial_translation.html)"
   ]
  },
  {
   "cell_type": "code",
   "execution_count": null,
   "id": "1c5e5bef-656e-4aa0-8990-c1749eba56c1",
   "metadata": {},
   "outputs": [],
   "source": [
    "!date"
   ]
  },
  {
   "cell_type": "markdown",
   "id": "5f288862-a63b-4fbe-ad81-1093673fd1d1",
   "metadata": {},
   "source": [
    "#### import libraries"
   ]
  },
  {
   "cell_type": "code",
   "execution_count": null,
   "id": "59c90476-ecbd-4971-a9af-fd779edb718b",
   "metadata": {},
   "outputs": [],
   "source": [
    "import scvi\n",
    "import scanpy as sc\n",
    "from anndata import AnnData\n",
    "from sklearn.metrics import silhouette_score\n",
    "from numpy import arange, mean\n",
    "import moscot.plotting as mtp\n",
    "from moscot.problems.cross_modality import TranslationProblem\n",
    "from pandas import DataFrame\n",
    "from scipy import sparse\n",
    "import scipy\n",
    "import numpy as np\n",
    "import torch\n",
    "\n",
    "import matplotlib.pyplot as plt\n",
    "from matplotlib.pyplot import rc_context\n",
    "from seaborn import lineplot\n",
    "\n",
    "scvi.settings.seed = 42\n",
    "\n",
    "%matplotlib inline\n",
    "# for white background of figures (only for docs rendering)\n",
    "%config InlineBackend.print_figure_kwargs={'facecolor' : \"w\"}\n",
    "%config InlineBackend.figure_format='retina'"
   ]
  },
  {
   "cell_type": "code",
   "execution_count": null,
   "id": "78294749-84ee-46aa-907e-92371c41de43",
   "metadata": {
    "tags": []
   },
   "outputs": [],
   "source": [
    "# make sure we have the cuda jax install and it can see the gpu\n",
    "import jax\n",
    "print(f'{jax.devices()}')"
   ]
  },
  {
   "cell_type": "code",
   "execution_count": null,
   "id": "8b70ccd8-9b8e-4716-8090-c4f7b3d5276f",
   "metadata": {},
   "outputs": [],
   "source": [
    "# import importlib\n",
    "# import moscot.problems.cross_modality\n",
    "# importlib.reload(moscot.problems.cross_modality)\n",
    "# from moscot.problems.cross_modality import TranslationProblem"
   ]
  },
  {
   "cell_type": "markdown",
   "id": "f1eff70a-bffb-4dda-b2bf-027fbaaebf20",
   "metadata": {},
   "source": [
    "#### set notebook variables"
   ]
  },
  {
   "cell_type": "code",
   "execution_count": null,
   "id": "f9119b97-7a82-49bb-beca-db823525b041",
   "metadata": {},
   "outputs": [],
   "source": [
    "# variables and constants\n",
    "DEBUG = True\n",
    "project = 'aging_phase2'\n",
    "MAX_MITO_PERCENT = 10\n",
    "TOP_FEATURES_PERCENT = 0.05\n",
    "RNA_LATENT_KEY = 'X_scVI'\n",
    "ATAC_LATENT_KEY = 'X_peakVI'\n",
    "device = 'cuda' if torch.cuda.is_available() else 'cpu'\n",
    "BATCH_SIZE = 4000\n",
    "\n",
    "# directories\n",
    "wrk_dir = '/labshare/raph/datasets/adrd_neuro/brain_aging/phase2'\n",
    "quants_dir = f'{wrk_dir}/quants'\n",
    "\n",
    "# in files\n",
    "raw_anndata_file =f'{quants_dir}/{project}.multivi.curated_final.h5ad'\n",
    "\n",
    "if DEBUG:\n",
    "    print(f'{raw_anndata_file=}')\n",
    "    print(f'{device=}')"
   ]
  },
  {
   "cell_type": "markdown",
   "id": "099fd923-8ba4-42fe-a9f2-637c1ec30cf8",
   "metadata": {},
   "source": [
    "## functions"
   ]
  },
  {
   "cell_type": "code",
   "execution_count": null,
   "id": "b927de4a-8209-4ed7-bc09-e2043fde2980",
   "metadata": {},
   "outputs": [],
   "source": [
    "def peek_anndata(adata: AnnData, message: str=None, verbose: bool=False):\n",
    "    if not message is None and len(message) > 0:\n",
    "        print(message)\n",
    "    print(adata)\n",
    "    if verbose:\n",
    "        display(adata.obs.head())\n",
    "        display(adata.var.head())\n",
    "\n",
    "def foscttm(\n",
    "    x: np.ndarray,\n",
    "    y: np.ndarray,\n",
    ") -> float:\n",
    "    d = scipy.spatial.distance_matrix(x, y)\n",
    "    foscttm_x = (d < np.expand_dims(np.diag(d), axis=1)).mean(axis=1)\n",
    "    foscttm_y = (d < np.expand_dims(np.diag(d), axis=0)).mean(axis=0)\n",
    "    fracs = []\n",
    "    for i in range(len(foscttm_x)):\n",
    "        fracs.append((foscttm_x[i] + foscttm_y[i]) / 2)\n",
    "    return np.mean(fracs).round(4)"
   ]
  },
  {
   "cell_type": "markdown",
   "id": "74e19668-90a4-46ec-895d-6313f67ec51b",
   "metadata": {},
   "source": [
    "## load the raw multiome data, multiVI anndata"
   ]
  },
  {
   "cell_type": "code",
   "execution_count": null,
   "id": "d1f6c968-61b3-4683-b3c5-a3f6eae0a789",
   "metadata": {},
   "outputs": [],
   "source": [
    "%%time\n",
    "adata_multi = sc.read_h5ad(raw_anndata_file)\n",
    "peek_anndata(adata_multi, 'raw multiVI anndata', DEBUG)\n",
    "if DEBUG:\n",
    "    display(adata_multi.obs.modality.value_counts())\n",
    "    display(adata_multi.var.modality.value_counts())"
   ]
  },
  {
   "cell_type": "markdown",
   "id": "9f4eb813-b9b1-402d-bfdc-01a221f6c824",
   "metadata": {},
   "source": [
    "## split the RNA and ATAC modalities"
   ]
  },
  {
   "cell_type": "code",
   "execution_count": null,
   "id": "36b7d121-d50f-4984-be9a-4a4d11aa6887",
   "metadata": {},
   "outputs": [],
   "source": [
    "%%time\n",
    "adata_rna = adata_multi[adata_multi.obs.modality.isin(['paired', 'expression']), \n",
    "                        adata_multi.var.modality == 'Gene Expression'].copy()\n",
    "adata_atac = adata_multi[adata_multi.obs.modality.isin(['paired', 'accessibility']), \n",
    "                         adata_multi.var.modality == 'Peaks'].copy()\n",
    "peek_anndata(adata_rna, 'raw RNA anndata', DEBUG)\n",
    "peek_anndata(adata_atac, 'raw ATAC anndata', DEBUG)\n",
    "if DEBUG:\n",
    "    display(adata_rna.obs.modality.value_counts())\n",
    "    display(adata_rna.var.modality.value_counts())\n",
    "    display(adata_atac.obs.modality.value_counts())\n",
    "    display(adata_atac.var.modality.value_counts())    "
   ]
  },
  {
   "cell_type": "markdown",
   "id": "2e272e53-47a2-4c7d-ab34-c01dd88f5b33",
   "metadata": {},
   "source": [
    "## cluster the RNA cells"
   ]
  },
  {
   "cell_type": "markdown",
   "id": "25150fdd-47fb-4fe8-a633-90adbc5207e7",
   "metadata": {},
   "source": [
    "### prep the data, typical preprocessing"
   ]
  },
  {
   "cell_type": "code",
   "execution_count": null,
   "id": "434f0850-b5c8-4827-ae14-3cd528f1c056",
   "metadata": {},
   "outputs": [],
   "source": [
    "# mitochondrial genes, \"MT-\" for human, \"Mt-\" for mouse\n",
    "adata_rna.var['mt'] = adata_rna.var_names.str.startswith('MT-') \n",
    "# ribosomal genes\n",
    "adata_rna.var['ribo'] = adata_rna.var_names.str.startswith(('RPS', 'RPL'))\n",
    "# hemoglobin genes\n",
    "adata_rna.var['hb'] = adata_rna.var_names.str.contains('^HB[^(P)]')\n",
    "sc.pp.calculate_qc_metrics(adata_rna, qc_vars=['mt', 'ribo', 'hb'], \n",
    "                           inplace=True, log1p=True)\n",
    "# Basic filtering:\n",
    "adata_rna = adata_rna[adata_rna.obs.pct_counts_mt < MAX_MITO_PERCENT, :]\n",
    "sc.pp.filter_cells(adata_rna, min_genes=200)\n",
    "sc.pp.filter_genes(adata_rna, min_cells=3)\n",
    "\n",
    "n_top_genes = int(adata_rna.n_vars * TOP_FEATURES_PERCENT)\n",
    "sc.pp.highly_variable_genes(adata_rna, n_top_genes=n_top_genes, \n",
    "                            batch_key='gex_pool',flavor='seurat_v3', \n",
    "                            subset=True)\n",
    "\n",
    "peek_anndata(adata_rna, 'prepped RNA anndata', DEBUG)\n",
    "if DEBUG:\n",
    "    display(adata_rna.obs.modality.value_counts())"
   ]
  },
  {
   "cell_type": "code",
   "execution_count": null,
   "id": "04a30022-35a2-460e-8dd6-b63814ddccc5",
   "metadata": {},
   "outputs": [],
   "source": [
    "adata_rna.layers['counts'] = adata_rna.X.copy()  # preserve counts"
   ]
  },
  {
   "cell_type": "markdown",
   "id": "306cf475-7a87-469c-95d2-215bf9b10263",
   "metadata": {},
   "source": [
    "### setup the RNA anndata for scVI"
   ]
  },
  {
   "cell_type": "code",
   "execution_count": null,
   "id": "d3324532-bc66-4053-aae6-37fd4fd2f05f",
   "metadata": {},
   "outputs": [],
   "source": [
    "scvi.model.SCVI.setup_anndata(\n",
    "    adata_rna,\n",
    "    layer=\"counts\",\n",
    "    categorical_covariate_keys=['gex_pool', 'sample_id'],\n",
    "    continuous_covariate_keys=['pct_counts_mt', 'pct_counts_ribo'],\n",
    ")"
   ]
  },
  {
   "cell_type": "markdown",
   "id": "bac65940-3cb6-471f-a363-574d31f9902f",
   "metadata": {},
   "source": [
    "### create and train the model"
   ]
  },
  {
   "cell_type": "code",
   "execution_count": null,
   "id": "f0cd9f0d-d014-47f6-9b55-b1f412544ed5",
   "metadata": {},
   "outputs": [],
   "source": [
    "%%time\n",
    "rna_model = scvi.model.SCVI(adata_rna)\n",
    "print(rna_model)\n",
    "display(rna_model.view_anndata_setup())\n",
    "rna_model.train(batch_size=BATCH_SIZE)"
   ]
  },
  {
   "cell_type": "markdown",
   "id": "afbd0807-0d4c-43e6-b475-46435be0c184",
   "metadata": {},
   "source": [
    "### get and store the model output"
   ]
  },
  {
   "cell_type": "code",
   "execution_count": null,
   "id": "e8e7c7d3-d056-4828-9127-2631d923a781",
   "metadata": {
    "scrolled": true
   },
   "outputs": [],
   "source": [
    "# adata_rna.obsm[RNA_LATENT_KEY] = sparse.csr_matrix(rna_model.get_latent_representation())\n",
    "adata_rna.obsm[RNA_LATENT_KEY] = rna_model.get_latent_representation()\n",
    "peek_anndata(adata_rna, 'post latent RNA anndata', DEBUG)\n",
    "if DEBUG:\n",
    "    display(adata_rna.obsm[RNA_LATENT_KEY].shape)"
   ]
  },
  {
   "cell_type": "markdown",
   "id": "f75e835b-4f4e-4def-abc0-47810f03e97f",
   "metadata": {},
   "source": [
    "### embed the graph based on latent representation"
   ]
  },
  {
   "cell_type": "code",
   "execution_count": null,
   "id": "99d7ab28-0702-4f57-b164-5c5b3c3c97fe",
   "metadata": {},
   "outputs": [],
   "source": [
    "%%time\n",
    "sc.pp.neighbors(adata_rna, use_rep=RNA_LATENT_KEY)\n",
    "sc.tl.umap(adata_rna)\n",
    "peek_anndata(adata_rna, 'embedded latent RNA anndata', DEBUG)\n",
    "sc.tl.leiden(adata_rna, key_added='leiden_VI', resolution=0.6, flavor='igraph', n_iterations=2)"
   ]
  },
  {
   "cell_type": "markdown",
   "id": "095d34be-a8a9-44de-aebb-0d0aa60dd59a",
   "metadata": {},
   "source": [
    "### visualize"
   ]
  },
  {
   "cell_type": "code",
   "execution_count": null,
   "id": "b4a890ad-999e-4179-bb7f-74c1f818862d",
   "metadata": {},
   "outputs": [],
   "source": [
    "with rc_context({'figure.figsize': (8, 8), 'figure.dpi': 100}):\n",
    "    plt.style.use('seaborn-v0_8-bright')\n",
    "    sc.pl.umap(adata_rna, color=['leiden_VI'], frameon=False, legend_loc='on data')    "
   ]
  },
  {
   "cell_type": "code",
   "execution_count": null,
   "id": "5971f024-5682-4cc1-8a28-9af30a9a4bd1",
   "metadata": {},
   "outputs": [],
   "source": [
    "with rc_context({'figure.figsize': (8, 8), 'figure.dpi': 100}):\n",
    "    plt.style.use('seaborn-v0_8-bright')\n",
    "    sc.pl.umap(adata_rna, color=['gex_pool'], frameon=False)        "
   ]
  },
  {
   "cell_type": "code",
   "execution_count": null,
   "id": "992b8e7b-c7b2-497a-ad6f-399067e292ec",
   "metadata": {},
   "outputs": [],
   "source": [
    "with rc_context({'figure.figsize': (8, 8), 'figure.dpi': 100}):\n",
    "    plt.style.use('seaborn-v0_8-bright')\n",
    "    sc.pl.umap(adata_rna, color=['cluster_name'], frameon=False, legend_loc='on data')    "
   ]
  },
  {
   "cell_type": "code",
   "execution_count": null,
   "id": "c61de8ac-90ee-4488-a43f-7f59855aac82",
   "metadata": {},
   "outputs": [],
   "source": [
    "with rc_context({'figure.figsize': (8, 8), 'figure.dpi': 100}):\n",
    "    plt.style.use('seaborn-v0_8-bright')\n",
    "    sc.pl.umap(adata_rna, color=['modality'], frameon=False)    "
   ]
  },
  {
   "cell_type": "code",
   "execution_count": null,
   "id": "94a6e5e9-14d5-443f-835c-ef7d726569c1",
   "metadata": {},
   "outputs": [],
   "source": [
    "with rc_context({'figure.figsize': (8, 8), 'figure.dpi': 100}):\n",
    "    plt.style.use('seaborn-v0_8-bright')\n",
    "    sc.pl.umap(adata_rna, color=['curated_type'], frameon=False)    "
   ]
  },
  {
   "cell_type": "markdown",
   "id": "bc797a50-6ec6-4a0a-a81f-02d8aadbc143",
   "metadata": {},
   "source": [
    "## cluster the ATAC cells"
   ]
  },
  {
   "cell_type": "markdown",
   "id": "6a3bd914-00bd-4352-b7c7-850373c2d5f5",
   "metadata": {},
   "source": [
    "### prep the data, limited ATAC steps"
   ]
  },
  {
   "cell_type": "code",
   "execution_count": null,
   "id": "3e58a1f4-a473-4226-906d-39870b97ef1c",
   "metadata": {},
   "outputs": [],
   "source": [
    "sc.pp.filter_cells(adata_atac, min_genes=200)\n",
    "# compute the threshold: 5% of the cells\n",
    "min_cells = int(adata_atac.n_obs * 0.05)\n",
    "# in-place filtering of regions\n",
    "sc.pp.filter_genes(adata_atac, min_cells=min_cells)\n",
    "\n",
    "n_top_genes = int(adata_atac.n_vars * TOP_FEATURES_PERCENT)\n",
    "sc.pp.highly_variable_genes(adata_atac, n_top_genes=n_top_genes, \n",
    "                            batch_key='atac_pool',flavor='seurat_v3', \n",
    "                            subset=True)\n",
    "\n",
    "peek_anndata(adata_atac, 'prepped ATAC anndata', DEBUG)\n",
    "if DEBUG:\n",
    "    display(adata_atac.obs.modality.value_counts())"
   ]
  },
  {
   "cell_type": "code",
   "execution_count": null,
   "id": "66cc2d93-73d6-4b97-8662-2727c45b6095",
   "metadata": {},
   "outputs": [],
   "source": [
    "adata_atac.layers['counts'] = adata_atac.X.copy()  # preserve counts"
   ]
  },
  {
   "cell_type": "markdown",
   "id": "ae04a3dc-418a-43f7-89e6-a954f2f047c6",
   "metadata": {},
   "source": [
    "### setup the ATAC anndata for scVI"
   ]
  },
  {
   "cell_type": "code",
   "execution_count": null,
   "id": "c4208698-bf59-4544-82b3-febee6c664d1",
   "metadata": {},
   "outputs": [],
   "source": [
    "scvi.model.PEAKVI.setup_anndata(\n",
    "    adata_atac,\n",
    "    layer=\"counts\",\n",
    "    categorical_covariate_keys=['atac_pool', 'sample_id']\n",
    ")"
   ]
  },
  {
   "cell_type": "markdown",
   "id": "86bb17e2-80e0-4969-b9d6-9976d7965216",
   "metadata": {},
   "source": [
    "### create and train the model"
   ]
  },
  {
   "cell_type": "code",
   "execution_count": null,
   "id": "88d6e898-3093-404b-a4e2-0ab0e16fe0ce",
   "metadata": {},
   "outputs": [],
   "source": [
    "%%time\n",
    "atac_model = scvi.model.PEAKVI(adata_atac)\n",
    "print(atac_model)\n",
    "display(atac_model.view_anndata_setup())\n",
    "atac_model.train(batch_size=BATCH_SIZE)"
   ]
  },
  {
   "cell_type": "code",
   "execution_count": null,
   "id": "eaa8c766-679c-4cc4-850c-948e630507b7",
   "metadata": {},
   "outputs": [],
   "source": [
    "print(atac_model)"
   ]
  },
  {
   "cell_type": "markdown",
   "id": "9b167a5b-d5f1-46ae-b494-96a11a3cd8e4",
   "metadata": {},
   "source": [
    "### get and store the model output"
   ]
  },
  {
   "cell_type": "code",
   "execution_count": null,
   "id": "abed8532-ce11-4220-8264-b2b8407bc99d",
   "metadata": {},
   "outputs": [],
   "source": [
    "# adata_atac.obsm[ATAC_LATENT_KEY] = sparse.csr_matrix(atac_model.get_latent_representation())\n",
    "adata_atac.obsm[ATAC_LATENT_KEY] = atac_model.get_latent_representation()\n",
    "peek_anndata(adata_atac, 'post latent ATAC anndata', DEBUG)\n",
    "if DEBUG:\n",
    "    display(adata_atac.obsm[ATAC_LATENT_KEY].shape)"
   ]
  },
  {
   "cell_type": "markdown",
   "id": "df1b7e1b-1229-4102-a7b3-48e75f71ddfc",
   "metadata": {},
   "source": [
    "### embed the graph based on latent representation"
   ]
  },
  {
   "cell_type": "code",
   "execution_count": null,
   "id": "c16def7c-b804-4a45-bb12-ce7d27d6753f",
   "metadata": {},
   "outputs": [],
   "source": [
    "%%time\n",
    "sc.pp.neighbors(adata_atac, use_rep=ATAC_LATENT_KEY)\n",
    "sc.tl.umap(adata_atac)\n",
    "peek_anndata(adata_atac, 'embedded latent ATAC anndata', DEBUG)\n",
    "sc.tl.leiden(adata_atac, key_added='leiden_VI', resolution=0.4, flavor='igraph', n_iterations=2)"
   ]
  },
  {
   "cell_type": "markdown",
   "id": "533eff2c-94eb-46b0-9e69-8880203ad673",
   "metadata": {},
   "source": [
    "### visualize"
   ]
  },
  {
   "cell_type": "code",
   "execution_count": null,
   "id": "dac323fb-ffcb-425a-ad3f-b79b3ea36a85",
   "metadata": {},
   "outputs": [],
   "source": [
    "with rc_context({'figure.figsize': (8, 8), 'figure.dpi': 100}):\n",
    "    plt.style.use('seaborn-v0_8-bright')\n",
    "    sc.pl.umap(adata_atac, color=['leiden_VI'], frameon=False, legend_loc='on data')    "
   ]
  },
  {
   "cell_type": "code",
   "execution_count": null,
   "id": "890887a6-dfad-4536-8d6c-f66836e36908",
   "metadata": {},
   "outputs": [],
   "source": [
    "with rc_context({'figure.figsize': (8, 8), 'figure.dpi': 100}):\n",
    "    plt.style.use('seaborn-v0_8-bright')\n",
    "    sc.pl.umap(adata_atac, color=['atac_pool'], frameon=False)        "
   ]
  },
  {
   "cell_type": "code",
   "execution_count": null,
   "id": "9bec00a8-2d1e-4434-b29b-cc7a0646685d",
   "metadata": {},
   "outputs": [],
   "source": [
    "with rc_context({'figure.figsize': (8, 8), 'figure.dpi': 100}):\n",
    "    plt.style.use('seaborn-v0_8-bright')\n",
    "    sc.pl.umap(adata_atac, color=['cluster_name'], frameon=False, legend_loc='on data')    "
   ]
  },
  {
   "cell_type": "code",
   "execution_count": null,
   "id": "0538885b-c63b-425d-a34d-7ffd14cf8e20",
   "metadata": {},
   "outputs": [],
   "source": [
    "with rc_context({'figure.figsize': (8, 8), 'figure.dpi': 100}):\n",
    "    plt.style.use('seaborn-v0_8-bright')\n",
    "    sc.pl.umap(adata_atac, color=['modality'], frameon=False)    "
   ]
  },
  {
   "cell_type": "code",
   "execution_count": null,
   "id": "ba538a43-4ade-4bc2-91b2-d33f91d6bea2",
   "metadata": {},
   "outputs": [],
   "source": [
    "with rc_context({'figure.figsize': (8, 8), 'figure.dpi': 100}):\n",
    "    plt.style.use('seaborn-v0_8-bright')\n",
    "    sc.pl.umap(adata_atac, color=['curated_type'], frameon=False)    "
   ]
  },
  {
   "cell_type": "markdown",
   "id": "bc2de562-dd6d-40af-a583-84dbfd616bba",
   "metadata": {},
   "source": [
    "## integrate the modalities"
   ]
  },
  {
   "cell_type": "markdown",
   "id": "c9fb1f73-b266-4193-8a69-432669079c36",
   "metadata": {},
   "source": [
    "### Prepare the TranslationProblem\n",
    "We need to initialize the TranslationProblem by passing the source and target AnnData objects. After initialization, we need to prepare() the problem. In this particular case, we need to pay attention to 3 parameters:\n",
    "\n",
    "src_attr: specifies the attribute in AnnData that contains the source distribution. In our case it refers to the key in obsm that stores the ATAC LSI embedding.\n",
    "\n",
    "tgt_attr: specifies the attribute in AnnData that contains the target distribution. In our case it refers to the key in obsm that stores the RNA PCA embedding.\n",
    "\n",
    "joint_attr[optional]: specifies a joint attribute over a common feature space to incorporate a linear term into the quadratic optimization problem. Initially, we consider the pure Gromov-Wasserstein setting and subsequently explore the fused problem."
   ]
  },
  {
   "cell_type": "markdown",
   "id": "53b7fb20-ca9f-453d-8d66-c10b777b15b6",
   "metadata": {},
   "source": [
    "#### it keeps exhausting the GPU resources so try a sample at a time\n",
    "when trying to run the full dataset keep exhausting the resource on the GPU and changing the batch size doesn't seem to have an effet to try a sample at a time"
   ]
  },
  {
   "cell_type": "code",
   "execution_count": null,
   "id": "6504d17c-b1db-4329-b648-c17d3d2c2b9c",
   "metadata": {
    "tags": []
   },
   "outputs": [],
   "source": [
    "adata_atac.obs.sample_id.value_counts().head()"
   ]
  },
  {
   "cell_type": "code",
   "execution_count": null,
   "id": "3f625d3b-85ce-4711-b7b9-7402da2867cc",
   "metadata": {
    "tags": []
   },
   "outputs": [],
   "source": [
    "adata_atac.obs[adata_atac.obs.modality == 'paired'].sample_id.value_counts().head()"
   ]
  },
  {
   "cell_type": "code",
   "execution_count": null,
   "id": "8400e38f-a617-4288-8d8e-db18fff56938",
   "metadata": {
    "tags": []
   },
   "outputs": [],
   "source": [
    "this_sample = 'Aging130'\n",
    "adata_atac_sub = adata_atac[adata_atac.obs.sample_id == this_sample]\n",
    "adata_rna_sub = adata_rna[adata_rna.obs.sample_id == this_sample]\n",
    "print(adata_atac_sub)\n",
    "print(adata_rna_sub)"
   ]
  },
  {
   "cell_type": "code",
   "execution_count": null,
   "id": "dc067886-60a4-4319-ba9b-bdcbfde61af8",
   "metadata": {
    "tags": []
   },
   "outputs": [],
   "source": [
    "with rc_context({'figure.figsize': (8, 8), 'figure.dpi': 100}):\n",
    "    plt.style.use('seaborn-v0_8-bright')\n",
    "    sc.pl.umap(adata_atac_sub, color=['leiden_VI'], frameon=False, \n",
    "               legend_loc='on data', title='ATAC leiden_VI') \n",
    "    sc.pl.umap(adata_rna_sub, color=['leiden_VI'], frameon=False, \n",
    "               legend_loc='on data', title='RNA leiden_VI')     "
   ]
  },
  {
   "cell_type": "code",
   "execution_count": null,
   "id": "ce09b210-e7bf-44c7-b7d8-0843cf081924",
   "metadata": {},
   "outputs": [],
   "source": [
    "# tp = TranslationProblem(adata_src=adata_atac, adata_tgt=adata_rna)\n",
    "# tp = tp.prepare(src_attr=\"X_peakVI\", tgt_attr=\"X_scVI\", batch_key='sample_id')\n",
    "tp = TranslationProblem(adata_src=adata_atac_sub, adata_tgt=adata_rna_sub)\n",
    "tp = tp.prepare(src_attr=\"X_peakVI\", tgt_attr=\"X_scVI\")\n",
    "# tp = TranslationProblem(adata_src=adata_rna_sub, adata_tgt=adata_atac_sub)\n",
    "# tp = tp.prepare(src_attr=\"X_scVI\", tgt_attr=\"X_peakVI\")"
   ]
  },
  {
   "cell_type": "markdown",
   "id": "bcdc6061-9671-4a76-a467-1bd7ec064759",
   "metadata": {},
   "source": [
    "### Solve the TranslationProblem\n",
    "In fused quadratic problems, the alpha parameter defines the convex combination between the quadratic and linear terms. By default, alpha = 1, that is, we only consider the quadratic problem, ignoring the joint_attr. We choose a small value for epsilon to obtain a sparse transport map."
   ]
  },
  {
   "cell_type": "code",
   "execution_count": null,
   "id": "f39a7d1c-6cbb-4822-8b64-2c748cf61603",
   "metadata": {
    "tags": []
   },
   "outputs": [],
   "source": [
    "%%time\n",
    "tp = tp.solve(alpha=1.0, epsilon=1e-3)"
   ]
  },
  {
   "cell_type": "markdown",
   "id": "fbd1cc09-b67a-4609-be40-bb16942de89e",
   "metadata": {},
   "source": [
    "### Translate the TranslationProblem\n",
    "We can now project one domain onto the other. The boolean parameter forward determines the direction of the barycentric projection. In our case, we project the source distribution AnnData (ATAC) onto the target distribution AnnData (RNA), therefore we use forward = True. The function translate() returns the translated object in the target space (or source space respectively)."
   ]
  },
  {
   "cell_type": "code",
   "execution_count": null,
   "id": "d301ec0b-f710-4242-a1a4-136b05ce69e9",
   "metadata": {},
   "outputs": [],
   "source": [
    "translated = tp.translate(source='src', target='tgt', forward=True)"
   ]
  },
  {
   "cell_type": "code",
   "execution_count": null,
   "id": "eaa29785-366c-4179-bc36-d9241f0db580",
   "metadata": {
    "tags": []
   },
   "outputs": [],
   "source": [
    "translated.shape"
   ]
  },
  {
   "cell_type": "markdown",
   "id": "16dcf0c5-63e9-4de9-9406-e8e23d36562b",
   "metadata": {},
   "source": [
    "### Analyzing the translation\n",
    "We will use the average FOSCTTM metric implemented above to analyze the alignment performance."
   ]
  },
  {
   "cell_type": "code",
   "execution_count": null,
   "id": "b1a4823d-052e-45a4-94a6-dbb73e90a993",
   "metadata": {
    "tags": []
   },
   "outputs": [],
   "source": [
    "# print(\n",
    "#     \"Average FOSCTTM score of translating ATAC onto RNA: \",\n",
    "#     foscttm(adata_rna_sub.obsm[\"X_scVI\"], translated),\n",
    "#     # foscttm(adata_atac_sub.obsm[\"X_peakVI\"], translated),    \n",
    "# )"
   ]
  },
  {
   "cell_type": "code",
   "execution_count": null,
   "id": "c4fe5894-3286-41cb-a655-e44152be5c99",
   "metadata": {},
   "outputs": [],
   "source": [
    "adata = sc.concat(\n",
    "    [adata_atac_sub, adata_rna_sub],\n",
    "    join=\"outer\",\n",
    "    label=\"batch\",\n",
    "    keys=[\"ATAC (translated)\", \"RNA\"],\n",
    ")\n",
    "adata.obsm[\"X_translated_1\"] = np.concatenate(\n",
    "    (translated, adata_rna_sub.obsm[\"X_scVI\"]), axis=0\n",
    "# adata.obsm[\"X_translated_1\"] = np.concatenate(\n",
    "#     (translated, adata_atac_sub.obsm[\"X_peakVI\"]), axis=0\n",
    ")\n",
    "sc.pp.neighbors(adata, use_rep=\"X_translated_1\")\n",
    "sc.tl.umap(adata)"
   ]
  },
  {
   "cell_type": "code",
   "execution_count": null,
   "id": "c77b1a3c-0f94-4e60-8981-c9a4f0dfe87d",
   "metadata": {},
   "outputs": [],
   "source": [
    "with rc_context({'figure.dpi': 100}):\n",
    "    plt.style.use('seaborn-v0_8-bright')\n",
    "    fig, (ax1, ax2) = plt.subplots(1, 2, figsize=(15, 6))\n",
    "    sc.pl.umap(adata, color=[\"batch\"], ax=ax1, show=False)\n",
    "    ax1.legend()\n",
    "    ax1.set_title(\"Colored based on modality\")\n",
    "    sc.pl.umap(adata, color=[\"cluster_name\"], ax=ax2, show=False)\n",
    "    ax2.set_title(\"Colored based on cell types\")\n",
    "    plt.tight_layout(pad=3.0)\n",
    "    plt.show()"
   ]
  },
  {
   "cell_type": "code",
   "execution_count": null,
   "id": "0a8e5ebd-b726-4640-b63d-110643f3c63c",
   "metadata": {},
   "outputs": [],
   "source": [
    "!date"
   ]
  },
  {
   "cell_type": "code",
   "execution_count": null,
   "id": "50f0466d-8fd1-4e07-888f-cde440295c1e",
   "metadata": {},
   "outputs": [],
   "source": []
  }
 ],
 "metadata": {
  "environment": {
   "kernel": "conda-base-py",
   "name": "workbench-notebooks.m129",
   "type": "gcloud",
   "uri": "us-docker.pkg.dev/deeplearning-platform-release/gcr.io/workbench-notebooks:m129"
  },
  "kernelspec": {
   "display_name": "Python 3 (ipykernel)",
   "language": "python",
   "name": "python3"
  },
  "language_info": {
   "codemirror_mode": {
    "name": "ipython",
    "version": 3
   },
   "file_extension": ".py",
   "mimetype": "text/x-python",
   "name": "python",
   "nbconvert_exporter": "python",
   "pygments_lexer": "ipython3",
   "version": "3.12.2"
  }
 },
 "nbformat": 4,
 "nbformat_minor": 5
}
