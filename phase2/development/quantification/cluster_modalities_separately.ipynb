{
 "cells": [
  {
   "cell_type": "markdown",
   "id": "b6025154-fd3e-4480-aaa8-d666ef9034b2",
   "metadata": {},
   "source": [
    "# Cluster each modality separately and then integrate across the modalities\n",
    "- cluster RNA with [scVI](https://docs.scvi-tools.org/en/1.3.0/tutorials/notebooks/quick_start/api_overview.html)\n",
    "- cluster ATAC with [peakVI](https://docs.scvi-tools.org/en/1.3.0/tutorials/notebooks/atac/PeakVI.html)\n",
    "- integrate RNA and ATAC clusters with [MOSCOT TranslationProblem](https://moscot.readthedocs.io/en/latest/notebooks/tutorials/600_tutorial_translation.html)"
   ]
  },
  {
   "cell_type": "code",
   "execution_count": null,
   "id": "1c5e5bef-656e-4aa0-8990-c1749eba56c1",
   "metadata": {},
   "outputs": [],
   "source": [
    "!date"
   ]
  },
  {
   "cell_type": "markdown",
   "id": "5f288862-a63b-4fbe-ad81-1093673fd1d1",
   "metadata": {},
   "source": [
    "#### import libraries"
   ]
  },
  {
   "cell_type": "code",
   "execution_count": null,
   "id": "59c90476-ecbd-4971-a9af-fd779edb718b",
   "metadata": {},
   "outputs": [],
   "source": [
    "import scvi\n",
    "import scanpy as sc\n",
    "from anndata import AnnData\n",
    "from sklearn.metrics import silhouette_score\n",
    "from numpy import arange, mean\n",
    "import moscot.plotting as mtp\n",
    "from moscot.problems.cross_modality import TranslationProblem\n",
    "from pandas import DataFrame\n",
    "from scipy import sparse\n",
    "\n",
    "import matplotlib.pyplot as plt\n",
    "from matplotlib.pyplot import rc_context\n",
    "from seaborn import lineplot\n",
    "\n",
    "import warnings\n",
    "warnings.filterwarnings('ignore')\n",
    "\n",
    "scvi.settings.seed = 42\n",
    "\n",
    "%matplotlib inline\n",
    "# for white background of figures (only for docs rendering)\n",
    "%config InlineBackend.print_figure_kwargs={'facecolor' : \"w\"}\n",
    "%config InlineBackend.figure_format='retina'"
   ]
  },
  {
   "cell_type": "markdown",
   "id": "f1eff70a-bffb-4dda-b2bf-027fbaaebf20",
   "metadata": {},
   "source": [
    "#### set notebook variables"
   ]
  },
  {
   "cell_type": "code",
   "execution_count": null,
   "id": "f9119b97-7a82-49bb-beca-db823525b041",
   "metadata": {},
   "outputs": [],
   "source": [
    "# variables and constants\n",
    "DEBUG = True\n",
    "project = 'aging_phase2'\n",
    "MAX_MITO_PERCENT = 10\n",
    "TOP_FEATURES_PERCENT = 0.10\n",
    "RNA_LATENT_KEY = 'X_scVI'\n",
    "ATAC_LATENT_KEY = 'X_peakVI'\n",
    "\n",
    "# directories\n",
    "wrk_dir = '/labshare/raph/datasets/adrd_neuro/brain_aging/phase2'\n",
    "quants_dir = f'{wrk_dir}/quants'\n",
    "\n",
    "# in files\n",
    "raw_anndata_file =f'{quants_dir}/{project}.raw.h5ad'\n",
    "\n",
    "if DEBUG:\n",
    "    print(f'{raw_anndata_file=}')"
   ]
  },
  {
   "cell_type": "markdown",
   "id": "099fd923-8ba4-42fe-a9f2-637c1ec30cf8",
   "metadata": {},
   "source": [
    "## functions"
   ]
  },
  {
   "cell_type": "code",
   "execution_count": null,
   "id": "b927de4a-8209-4ed7-bc09-e2043fde2980",
   "metadata": {},
   "outputs": [],
   "source": [
    "def peek_anndata(adata: AnnData, message: str=None, verbose: bool=False):\n",
    "    if not message is None and len(message) > 0:\n",
    "        print(message)\n",
    "    print(adata)\n",
    "    if verbose:\n",
    "        display(adata.obs.head())\n",
    "        display(adata.var.head())\n",
    "\n",
    "def foscttm(\n",
    "    x: np.ndarray,\n",
    "    y: np.ndarray,\n",
    ") -> float:\n",
    "    d = scipy.spatial.distance_matrix(x, y)\n",
    "    foscttm_x = (d < np.expand_dims(np.diag(d), axis=1)).mean(axis=1)\n",
    "    foscttm_y = (d < np.expand_dims(np.diag(d), axis=0)).mean(axis=0)\n",
    "    fracs = []\n",
    "    for i in range(len(foscttm_x)):\n",
    "        fracs.append((foscttm_x[i] + foscttm_y[i]) / 2)\n",
    "    return np.mean(fracs).round(4)"
   ]
  },
  {
   "cell_type": "markdown",
   "id": "74e19668-90a4-46ec-895d-6313f67ec51b",
   "metadata": {},
   "source": [
    "## load the raw multiome data, multiVI anndata"
   ]
  },
  {
   "cell_type": "code",
   "execution_count": null,
   "id": "d1f6c968-61b3-4683-b3c5-a3f6eae0a789",
   "metadata": {},
   "outputs": [],
   "source": [
    "%%time\n",
    "adata_multi = sc.read_h5ad(raw_anndata_file)\n",
    "peek_anndata(adata_multi, 'raw multiVI anndata', DEBUG)\n",
    "if DEBUG:\n",
    "    display(adata_multi.obs.modality.value_counts())\n",
    "    display(adata_multi.var.modality.value_counts())"
   ]
  },
  {
   "cell_type": "markdown",
   "id": "9f4eb813-b9b1-402d-bfdc-01a221f6c824",
   "metadata": {},
   "source": [
    "## split the RNA and ATAC modalities"
   ]
  },
  {
   "cell_type": "code",
   "execution_count": null,
   "id": "36b7d121-d50f-4984-be9a-4a4d11aa6887",
   "metadata": {},
   "outputs": [],
   "source": [
    "%%time\n",
    "adata_rna = adata_multi[adata_multi.obs.modality.isin(['paired', 'expression']), adata_multi.var.modality == 'Gene Expression'].copy()\n",
    "adata_atac = adata_multi[adata_multi.obs.modality.isin(['paired', 'accessibility']), adata_multi.var.modality == 'Peaks'].copy()\n",
    "peek_anndata(adata_rna, 'raw RNA anndata', DEBUG)\n",
    "peek_anndata(adata_atac, 'raw ATAC anndata', DEBUG)\n",
    "if DEBUG:\n",
    "    display(adata_rna.obs.modality.value_counts())\n",
    "    display(adata_rna.var.modality.value_counts())\n",
    "    display(adata_atac.obs.modality.value_counts())\n",
    "    display(adata_atac.var.modality.value_counts())    "
   ]
  },
  {
   "cell_type": "markdown",
   "id": "2e272e53-47a2-4c7d-ab34-c01dd88f5b33",
   "metadata": {},
   "source": [
    "## cluster the RNA cells"
   ]
  },
  {
   "cell_type": "markdown",
   "id": "25150fdd-47fb-4fe8-a633-90adbc5207e7",
   "metadata": {},
   "source": [
    "### prep the data, typical preprocessing"
   ]
  },
  {
   "cell_type": "code",
   "execution_count": null,
   "id": "434f0850-b5c8-4827-ae14-3cd528f1c056",
   "metadata": {},
   "outputs": [],
   "source": [
    "# mitochondrial genes, \"MT-\" for human, \"Mt-\" for mouse\n",
    "adata_rna.var['mt'] = adata_rna.var_names.str.startswith('MT-') \n",
    "# ribosomal genes\n",
    "adata_rna.var['ribo'] = adata_rna.var_names.str.startswith(('RPS', 'RPL'))\n",
    "# hemoglobin genes\n",
    "adata_rna.var['hb'] = adata_rna.var_names.str.contains('^HB[^(P)]')\n",
    "sc.pp.calculate_qc_metrics(adata_rna, qc_vars=['mt', 'ribo', 'hb'], \n",
    "                           inplace=True, log1p=True)\n",
    "# Basic filtering:\n",
    "adata_rna = adata_rna[adata_rna.obs.pct_counts_mt < MAX_MITO_PERCENT, :]\n",
    "sc.pp.filter_cells(adata_rna, min_genes=200)\n",
    "sc.pp.filter_genes(adata_rna, min_cells=3)\n",
    "\n",
    "n_top_genes = int(adata_rna.n_vars * TOP_FEATURES_PERCENT)\n",
    "sc.pp.highly_variable_genes(adata_rna, n_top_genes=n_top_genes, \n",
    "                            batch_key='gex_pool',flavor='seurat_v3', \n",
    "                            subset=True)\n",
    "\n",
    "peek_anndata(adata_rna, 'prepped RNA anndata', DEBUG)\n",
    "if DEBUG:\n",
    "    display(adata_rna.obs.modality.value_counts())"
   ]
  },
  {
   "cell_type": "code",
   "execution_count": null,
   "id": "04a30022-35a2-460e-8dd6-b63814ddccc5",
   "metadata": {},
   "outputs": [],
   "source": [
    "adata_rna.layers['counts'] = adata_rna.X.copy()  # preserve counts"
   ]
  },
  {
   "cell_type": "markdown",
   "id": "306cf475-7a87-469c-95d2-215bf9b10263",
   "metadata": {},
   "source": [
    "### setup the RNA anndata for scVI"
   ]
  },
  {
   "cell_type": "code",
   "execution_count": null,
   "id": "d3324532-bc66-4053-aae6-37fd4fd2f05f",
   "metadata": {},
   "outputs": [],
   "source": [
    "scvi.model.SCVI.setup_anndata(\n",
    "    adata_rna,\n",
    "    layer=\"counts\",\n",
    "    categorical_covariate_keys=['gex_pool', 'sample_id'],\n",
    "    continuous_covariate_keys=['pct_counts_mt', 'pct_counts_ribo'],\n",
    ")"
   ]
  },
  {
   "cell_type": "markdown",
   "id": "bac65940-3cb6-471f-a363-574d31f9902f",
   "metadata": {},
   "source": [
    "### create and train the model"
   ]
  },
  {
   "cell_type": "code",
   "execution_count": null,
   "id": "f0cd9f0d-d014-47f6-9b55-b1f412544ed5",
   "metadata": {},
   "outputs": [],
   "source": [
    "%%time\n",
    "rna_model = scvi.model.SCVI(adata_rna)\n",
    "print(rna_model)\n",
    "rna_model.train()"
   ]
  },
  {
   "cell_type": "markdown",
   "id": "afbd0807-0d4c-43e6-b475-46435be0c184",
   "metadata": {},
   "source": [
    "### get and store the model output"
   ]
  },
  {
   "cell_type": "code",
   "execution_count": null,
   "id": "bb932a70-df72-4198-84bb-5d7ae240b7ae",
   "metadata": {},
   "outputs": [],
   "source": [
    "adata_rna.obsm[RNA_LATENT_KEY] = sparse.csr_matrix(adata_rna.obsm[RNA_LATENT_KEY])"
   ]
  },
  {
   "cell_type": "code",
   "execution_count": null,
   "id": "e8e7c7d3-d056-4828-9127-2631d923a781",
   "metadata": {},
   "outputs": [],
   "source": [
    "adata_rna.obsm[RNA_LATENT_KEY] = sparse.csr_matrix(rna_model.get_latent_representation())\n",
    "peek_anndata(adata_rna, 'post latent RNA anndata', DEBUG)\n",
    "if DEBUG:\n",
    "    display(adata_rna.obsm[RNA_LATENT_KEY].shape)"
   ]
  },
  {
   "cell_type": "markdown",
   "id": "f75e835b-4f4e-4def-abc0-47810f03e97f",
   "metadata": {},
   "source": [
    "### embed the graph based on latent representation"
   ]
  },
  {
   "cell_type": "code",
   "execution_count": null,
   "id": "99d7ab28-0702-4f57-b164-5c5b3c3c97fe",
   "metadata": {},
   "outputs": [],
   "source": [
    "%%time\n",
    "sc.pp.neighbors(adata_rna, use_rep=RNA_LATENT_KEY)\n",
    "sc.tl.umap(adata_rna)\n",
    "peek_anndata(adata_rna, 'embedded latent RNA anndata', DEBUG)"
   ]
  },
  {
   "cell_type": "code",
   "execution_count": null,
   "id": "5a726c86-fbe4-4e65-b820-8fe709e99af6",
   "metadata": {},
   "outputs": [],
   "source": [
    "peek_anndata(adata_rna, 'embedded latent RNA anndata', DEBUG)"
   ]
  },
  {
   "cell_type": "markdown",
   "id": "095d34be-a8a9-44de-aebb-0d0aa60dd59a",
   "metadata": {},
   "source": [
    "### check range of Leiden resolutions for clustering"
   ]
  },
  {
   "cell_type": "code",
   "execution_count": null,
   "id": "575cdafc-b536-48e5-8e63-6d0addf93850",
   "metadata": {},
   "outputs": [],
   "source": [
    "%%time\n",
    "resolutions_to_try = arange(0.3, 1.05, 0.05)\n",
    "print(resolutions_to_try)\n",
    "mean_scores = {}\n",
    "largest_score = 0\n",
    "best_res = 0\n",
    "new_leiden_key = 'leiden_VI'\n",
    "for leiden_res in resolutions_to_try:\n",
    "    # use only 2 decimals\n",
    "    leiden_res = round(leiden_res, 2)    \n",
    "    print(f'### using Leiden resolution of {leiden_res}')\n",
    "    # neighbors were already computed using scVI\n",
    "    sc.tl.leiden(adata_rna, key_added=new_leiden_key, resolution=leiden_res, \n",
    "                 flavor='igraph', n_iterations=2)\n",
    "    silhouette_avg = silhouette_score(adata_rna.obsm[RNA_LATENT_KEY], adata_rna.obs[new_leiden_key])\n",
    "    print((f'For res = {leiden_res:.2f}, average silhouette: {silhouette_avg:.3f} '\n",
    "           f'for {adata_rna.obs[new_leiden_key].nunique()} clusters'))\n",
    "    # mean sample count per cluster\n",
    "    df_grouped = adata_rna.obs.groupby(new_leiden_key)['sample_id'].count()\n",
    "    mean_sample_per_cluster = df_grouped.mean()\n",
    "    # mean cell count per cluster\n",
    "    df_grouped = adata_rna.obs[new_leiden_key].value_counts()\n",
    "    mean_cell_per_cluster = df_grouped.mean()        \n",
    "    mean_scores[leiden_res] = [silhouette_avg, adata_rna.obs[new_leiden_key].nunique(), \n",
    "                               mean_sample_per_cluster, mean_cell_per_cluster]\n",
    "    # update best resolution info\n",
    "    if silhouette_avg > largest_score:\n",
    "        largest_score = silhouette_avg\n",
    "        best_res = leiden_res"
   ]
  },
  {
   "cell_type": "code",
   "execution_count": null,
   "id": "6e32b855-105a-4f0a-9d9f-5b6fa2e0147f",
   "metadata": {},
   "outputs": [],
   "source": [
    "scores_df = DataFrame(index=mean_scores.keys(), data=mean_scores.values())\n",
    "scores_df.columns = ['score', 'num_clusters', 'mean_samples', 'mean_cells']\n",
    "print('max score at')\n",
    "best_result = scores_df.loc[scores_df.score == scores_df.score.max()]\n",
    "display(best_result)\n",
    "best_resolution = best_result.index.values[0]\n",
    "print(f'best resolution found at {best_resolution}')\n",
    "if DEBUG:\n",
    "    display(scores_df)\n",
    "with rc_context({'figure.figsize': (8, 8), 'figure.dpi': 100}):\n",
    "    plt.style.use('seaborn-v0_8-talk')\n",
    "    lineplot(x=scores_df.index, y='score', data=scores_df)\n",
    "    plt.xlabel('resolution')\n",
    "    plt.show()\n",
    "lineplot(x=scores_df.index, y='num_clusters', data=scores_df)\n",
    "plt.xlabel('resolution')\n",
    "plt.show()\n",
    "lineplot(x=scores_df.index, y='mean_samples', data=scores_df)\n",
    "plt.xlabel('resolution')\n",
    "plt.show()\n",
    "lineplot(x=scores_df.index, y='mean_cells', data=scores_df)\n",
    "plt.xlabel('resolution')\n",
    "plt.show()"
   ]
  },
  {
   "cell_type": "markdown",
   "id": "e605a9b1-4576-49d4-81c6-dee16f69e4b7",
   "metadata": {},
   "source": [
    "### re-cluster at the best resolution found based on Silhouette score"
   ]
  },
  {
   "cell_type": "code",
   "execution_count": null,
   "id": "42431f71-1c57-4d9a-8304-bdcfcdce40a1",
   "metadata": {},
   "outputs": [],
   "source": [
    "sc.tl.leiden(adata_rna, key_added='leiden_VI', resolution=best_resolution, \n",
    "             flavor='igraph', n_iterations=2)\n",
    "peek_anndata(adata_rna, 'embedded latent RNA anndata', DEBUG)"
   ]
  },
  {
   "cell_type": "code",
   "execution_count": null,
   "id": "b4a890ad-999e-4179-bb7f-74c1f818862d",
   "metadata": {},
   "outputs": [],
   "source": [
    "with rc_context({'figure.figsize': (8, 8), 'figure.dpi': 100}):\n",
    "    plt.style.use('seaborn-v0_8-bright')\n",
    "    sc.pl.umap(adata_rna, color=['leiden_VI'], \n",
    "               frameon=False)"
   ]
  },
  {
   "cell_type": "code",
   "execution_count": null,
   "id": "5971f024-5682-4cc1-8a28-9af30a9a4bd1",
   "metadata": {},
   "outputs": [],
   "source": [
    "with rc_context({'figure.figsize': (8, 8), 'figure.dpi': 100}):\n",
    "    plt.style.use('seaborn-v0_8-bright')\n",
    "    sc.pl.umap(adata_rna, color=['gex_pool'], \n",
    "               frameon=False)"
   ]
  },
  {
   "cell_type": "markdown",
   "id": "bc797a50-6ec6-4a0a-a81f-02d8aadbc143",
   "metadata": {},
   "source": [
    "## cluster the ATAC cells"
   ]
  },
  {
   "cell_type": "markdown",
   "id": "6a3bd914-00bd-4352-b7c7-850373c2d5f5",
   "metadata": {},
   "source": [
    "### prep the data, limited ATAC steps"
   ]
  },
  {
   "cell_type": "code",
   "execution_count": null,
   "id": "3e58a1f4-a473-4226-906d-39870b97ef1c",
   "metadata": {},
   "outputs": [],
   "source": [
    "sc.pp.filter_cells(adata_atac, min_genes=200)\n",
    "# compute the threshold: 5% of the cells\n",
    "min_cells = int(adata_atac.n_obs * 0.05)\n",
    "# in-place filtering of regions\n",
    "sc.pp.filter_genes(adata_atac, min_cells=min_cells)\n",
    "\n",
    "n_top_genes = int(adata_atac.n_vars * TOP_FEATURES_PERCENT)\n",
    "sc.pp.highly_variable_genes(adata_atac, n_top_genes=n_top_genes, \n",
    "                            batch_key='atac_pool',flavor='seurat_v3', \n",
    "                            subset=True)\n",
    "\n",
    "peek_anndata(adata_atac, 'prepped ATAC anndata', DEBUG)\n",
    "if DEBUG:\n",
    "    display(adata_atac.obs.modality.value_counts())"
   ]
  },
  {
   "cell_type": "code",
   "execution_count": null,
   "id": "66cc2d93-73d6-4b97-8662-2727c45b6095",
   "metadata": {},
   "outputs": [],
   "source": [
    "adata_atac.layers['counts'] = adata_atac.X.copy()  # preserve counts"
   ]
  },
  {
   "cell_type": "markdown",
   "id": "ae04a3dc-418a-43f7-89e6-a954f2f047c6",
   "metadata": {},
   "source": [
    "### setup the RNA anndata for scVI"
   ]
  },
  {
   "cell_type": "code",
   "execution_count": null,
   "id": "c4208698-bf59-4544-82b3-febee6c664d1",
   "metadata": {},
   "outputs": [],
   "source": [
    "scvi.model.PEAKVI.setup_anndata(\n",
    "    adata_atac,\n",
    "    layer=\"counts\",\n",
    "    categorical_covariate_keys=['atac_pool', 'sample_id']\n",
    ")"
   ]
  },
  {
   "cell_type": "markdown",
   "id": "86bb17e2-80e0-4969-b9d6-9976d7965216",
   "metadata": {},
   "source": [
    "### create and train the model"
   ]
  },
  {
   "cell_type": "code",
   "execution_count": null,
   "id": "88d6e898-3093-404b-a4e2-0ab0e16fe0ce",
   "metadata": {},
   "outputs": [],
   "source": [
    "%%time\n",
    "atac_model = scvi.model.PEAKVI(adata_atac)\n",
    "print(atac_model)\n",
    "atac_model.train()"
   ]
  },
  {
   "cell_type": "code",
   "execution_count": null,
   "id": "eaa8c766-679c-4cc4-850c-948e630507b7",
   "metadata": {},
   "outputs": [],
   "source": [
    "print(atac_model)"
   ]
  },
  {
   "cell_type": "markdown",
   "id": "9b167a5b-d5f1-46ae-b494-96a11a3cd8e4",
   "metadata": {},
   "source": [
    "### get and store the model output"
   ]
  },
  {
   "cell_type": "code",
   "execution_count": null,
   "id": "295e4ad8-93f5-4f3c-b3d5-24bd14ed575c",
   "metadata": {},
   "outputs": [],
   "source": []
  },
  {
   "cell_type": "code",
   "execution_count": null,
   "id": "abed8532-ce11-4220-8264-b2b8407bc99d",
   "metadata": {},
   "outputs": [],
   "source": [
    "adata_atac.obsm[ATAC_LATENT_KEY] = sparse.csr_matrix(atac_model.get_latent_representation())\n",
    "peek_anndata(adata_atac, 'post latent ATAC anndata', DEBUG)\n",
    "if DEBUG:\n",
    "    display(adata_atac.obsm[ATAC_LATENT_KEY].shape)"
   ]
  },
  {
   "cell_type": "markdown",
   "id": "df1b7e1b-1229-4102-a7b3-48e75f71ddfc",
   "metadata": {},
   "source": [
    "### embed the graph based on latent representation"
   ]
  },
  {
   "cell_type": "code",
   "execution_count": null,
   "id": "c16def7c-b804-4a45-bb12-ce7d27d6753f",
   "metadata": {},
   "outputs": [],
   "source": [
    "%%time\n",
    "sc.pp.neighbors(adata_atac, use_rep=ATAC_LATENT_KEY)\n",
    "sc.tl.umap(adata_atac)\n",
    "peek_anndata(adata_atac, 'embedded latent ATAC anndata', DEBUG)"
   ]
  },
  {
   "cell_type": "code",
   "execution_count": null,
   "id": "78da8adf-5f50-45b2-9251-b159863f5636",
   "metadata": {},
   "outputs": [],
   "source": [
    "peek_anndata(adata_atac, 'embedded latent ATAC anndata', DEBUG)"
   ]
  },
  {
   "cell_type": "markdown",
   "id": "558dc192-0f52-4cca-ab8e-0b77fec2ec15",
   "metadata": {},
   "source": [
    "### check range of Leiden resolutions for clustering"
   ]
  },
  {
   "cell_type": "code",
   "execution_count": null,
   "id": "7c6b55e7-6bc4-47d8-8027-3c0ba8aac794",
   "metadata": {},
   "outputs": [],
   "source": [
    "%%time\n",
    "resolutions_to_try = arange(0.3, 1.05, 0.05)\n",
    "print(resolutions_to_try)\n",
    "mean_scores = {}\n",
    "largest_score = 0\n",
    "best_res = 0\n",
    "new_leiden_key = 'leiden_VI'\n",
    "for leiden_res in resolutions_to_try:\n",
    "    # use only 2 decimals\n",
    "    leiden_res = round(leiden_res, 2)    \n",
    "    print(f'### using Leiden resolution of {leiden_res}')\n",
    "    # neighbors were already computed using scVI\n",
    "    sc.tl.leiden(adata_atac, key_added=new_leiden_key, resolution=leiden_res, \n",
    "                 flavor='igraph', n_iterations=2)\n",
    "    silhouette_avg = silhouette_score(adata_atac.obsm[ATAC_LATENT_KEY], adata_atac.obs[new_leiden_key])\n",
    "    print((f'For res = {leiden_res:.2f}, average silhouette: {silhouette_avg:.3f} '\n",
    "           f'for {adata_atac.obs[new_leiden_key].nunique()} clusters'))\n",
    "    # mean sample count per cluster\n",
    "    df_grouped = adata_atac.obs.groupby(new_leiden_key)['sample_id'].count()\n",
    "    mean_sample_per_cluster = df_grouped.mean()\n",
    "    # mean cell count per cluster\n",
    "    df_grouped = adata_atac.obs[new_leiden_key].value_counts()\n",
    "    mean_cell_per_cluster = df_grouped.mean()        \n",
    "    mean_scores[leiden_res] = [silhouette_avg, adata_atac.obs[new_leiden_key].nunique(), \n",
    "                               mean_sample_per_cluster, mean_cell_per_cluster]\n",
    "    # update best resolution info\n",
    "    if silhouette_avg > largest_score:\n",
    "        largest_score = silhouette_avg\n",
    "        best_res = leiden_res"
   ]
  },
  {
   "cell_type": "code",
   "execution_count": null,
   "id": "d0fd3356-93da-4308-ab53-ee03ad6720f3",
   "metadata": {},
   "outputs": [],
   "source": [
    "scores_df = DataFrame(index=mean_scores.keys(), data=mean_scores.values())\n",
    "scores_df.columns = ['score', 'num_clusters', 'mean_samples', 'mean_cells']\n",
    "print('max score at')\n",
    "best_result = scores_df.loc[scores_df.score == scores_df.score.max()]\n",
    "display(best_result)\n",
    "best_resolution = best_result.index.values[0]\n",
    "print(f'best resolution found at {best_resolution}')\n",
    "if DEBUG:\n",
    "    display(scores_df)\n",
    "with rc_context({'figure.figsize': (8, 8), 'figure.dpi': 100}):\n",
    "    plt.style.use('seaborn-v0_8-talk')\n",
    "    lineplot(x=scores_df.index, y='score', data=scores_df)\n",
    "    plt.xlabel('resolution')\n",
    "    plt.show()\n",
    "lineplot(x=scores_df.index, y='num_clusters', data=scores_df)\n",
    "plt.xlabel('resolution')\n",
    "plt.show()\n",
    "lineplot(x=scores_df.index, y='mean_samples', data=scores_df)\n",
    "plt.xlabel('resolution')\n",
    "plt.show()\n",
    "lineplot(x=scores_df.index, y='mean_cells', data=scores_df)\n",
    "plt.xlabel('resolution')\n",
    "plt.show()"
   ]
  },
  {
   "cell_type": "markdown",
   "id": "2907f6f4-7f8a-4d69-a705-6fad407c2111",
   "metadata": {},
   "source": [
    "### re-cluster at the best resolution found based on Silhouette score"
   ]
  },
  {
   "cell_type": "code",
   "execution_count": null,
   "id": "115b534d-ffff-4d88-a0d2-e904b0f674bf",
   "metadata": {},
   "outputs": [],
   "source": [
    "sc.tl.leiden(adata_atac, key_added='leiden_VI', resolution=best_resolution, \n",
    "             flavor='igraph', n_iterations=2)\n",
    "peek_anndata(adata_atac, 'embedded latent ATAC anndata', DEBUG)"
   ]
  },
  {
   "cell_type": "code",
   "execution_count": null,
   "id": "6c2ce0b0-6272-405b-a771-fa9e9fba388a",
   "metadata": {},
   "outputs": [],
   "source": [
    "with rc_context({'figure.figsize': (8, 8), 'figure.dpi': 100}):\n",
    "    plt.style.use('seaborn-v0_8-bright')\n",
    "    sc.pl.umap(adata_atac, color=['leiden_VI'], \n",
    "               frameon=False)"
   ]
  },
  {
   "cell_type": "code",
   "execution_count": null,
   "id": "9d56de9a-c99a-4a6d-b4c2-6dfcb8cf497f",
   "metadata": {},
   "outputs": [],
   "source": [
    "with rc_context({'figure.figsize': (8, 8), 'figure.dpi': 100}):\n",
    "    plt.style.use('seaborn-v0_8-bright')\n",
    "    sc.pl.umap(adata_atac, color=['atac_pool'], \n",
    "               frameon=False)"
   ]
  },
  {
   "cell_type": "markdown",
   "id": "bc2de562-dd6d-40af-a583-84dbfd616bba",
   "metadata": {},
   "source": [
    "## integrate the modalities"
   ]
  },
  {
   "cell_type": "markdown",
   "id": "c9fb1f73-b266-4193-8a69-432669079c36",
   "metadata": {},
   "source": [
    "### Prepare the TranslationProblem\n",
    "We need to initialize the TranslationProblem by passing the source and target AnnData objects. After initialization, we need to prepare() the problem. In this particular case, we need to pay attention to 3 parameters:\n",
    "\n",
    "src_attr: specifies the attribute in AnnData that contains the source distribution. In our case it refers to the key in obsm that stores the ATAC LSI embedding.\n",
    "\n",
    "tgt_attr: specifies the attribute in AnnData that contains the target distribution. In our case it refers to the key in obsm that stores the RNA PCA embedding.\n",
    "\n",
    "joint_attr[optional]: specifies a joint attribute over a common feature space to incorporate a linear term into the quadratic optimization problem. Initially, we consider the pure Gromov-Wasserstein setting and subsequently explore the fused problem."
   ]
  },
  {
   "cell_type": "code",
   "execution_count": null,
   "id": "ce09b210-e7bf-44c7-b7d8-0843cf081924",
   "metadata": {},
   "outputs": [],
   "source": [
    "tp = TranslationProblem(adata_src=adata_atac, adata_tgt=adata_rna)\n",
    "tp = tp.prepare(src_attr=\"X_peakVI\", tgt_attr=\"X_scVI\", batch_key='sample_id')"
   ]
  },
  {
   "cell_type": "markdown",
   "id": "bcdc6061-9671-4a76-a467-1bd7ec064759",
   "metadata": {},
   "source": [
    "### Solve the TranslationProblem\n",
    "In fused quadratic problems, the alpha parameter defines the convex combination between the quadratic and linear terms. By default, alpha = 1, that is, we only consider the quadratic problem, ignoring the joint_attr. We choose a small value for epsilon to obtain a sparse transport map."
   ]
  },
  {
   "cell_type": "code",
   "execution_count": null,
   "id": "f39a7d1c-6cbb-4822-8b64-2c748cf61603",
   "metadata": {},
   "outputs": [],
   "source": [
    "%%time\n",
    "tp = tp.solve(alpha=1.0, epsilon=1e-3)"
   ]
  },
  {
   "cell_type": "markdown",
   "id": "fbd1cc09-b67a-4609-be40-bb16942de89e",
   "metadata": {},
   "source": [
    "### Translate the TranslationProblem\n",
    "We can now project one domain onto the other. The boolean parameter forward determines the direction of the barycentric projection. In our case, we project the source distribution AnnData (ATAC) onto the target distribution AnnData (RNA), therefore we use forward = True. The function translate() returns the translated object in the target space (or source space respectively)."
   ]
  },
  {
   "cell_type": "code",
   "execution_count": null,
   "id": "d301ec0b-f710-4242-a1a4-136b05ce69e9",
   "metadata": {},
   "outputs": [],
   "source": [
    "translated = tp.translate(source=\"src\", target=\"tgt\", forward=True)"
   ]
  },
  {
   "cell_type": "markdown",
   "id": "16dcf0c5-63e9-4de9-9406-e8e23d36562b",
   "metadata": {},
   "source": [
    "### Analyzing the translation\n",
    "We will use the average FOSCTTM metric implemented above to analyze the alignment performance."
   ]
  },
  {
   "cell_type": "code",
   "execution_count": null,
   "id": "b1a4823d-052e-45a4-94a6-dbb73e90a993",
   "metadata": {},
   "outputs": [],
   "source": [
    "print(\n",
    "    \"Average FOSCTTM score of translating ATAC onto RNA: \",\n",
    "    foscttm(adata_rna.obsm[\"GEX_X_pca\"], translated),\n",
    ")"
   ]
  }
 ],
 "metadata": {
  "kernelspec": {
   "display_name": "Python 3 (ipykernel)",
   "language": "python",
   "name": "python3"
  },
  "language_info": {
   "codemirror_mode": {
    "name": "ipython",
    "version": 3
   },
   "file_extension": ".py",
   "mimetype": "text/x-python",
   "name": "python",
   "nbconvert_exporter": "python",
   "pygments_lexer": "ipython3",
   "version": "3.12.2"
  }
 },
 "nbformat": 4,
 "nbformat_minor": 5
}
