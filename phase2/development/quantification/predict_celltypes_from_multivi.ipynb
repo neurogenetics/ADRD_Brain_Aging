{
 "cells": [
  {
   "cell_type": "markdown",
   "id": "081c2ebf-d5d8-437c-9a4e-15ac49ce2030",
   "metadata": {},
   "source": [
    "## Using the multiVI latent representations predicted the cell-types for the ATAC cells using the RNA cells"
   ]
  },
  {
   "cell_type": "code",
   "execution_count": null,
   "id": "d0ea113c-91ba-46bc-9512-bc84569100ce",
   "metadata": {},
   "outputs": [],
   "source": [
    "!date"
   ]
  },
  {
   "cell_type": "markdown",
   "id": "73f05fa4-44e4-44a1-b469-3e6fb96664d8",
   "metadata": {},
   "source": [
    "#### import libraries"
   ]
  },
  {
   "cell_type": "code",
   "execution_count": null,
   "id": "c9c81e43-81cb-446b-be75-6b253a2c20a6",
   "metadata": {},
   "outputs": [],
   "source": [
    "import scvi\n",
    "import scanpy as sc\n",
    "from autogluon.tabular import TabularDataset, TabularPredictor\n",
    "import torch\n",
    "from anndata import AnnData\n",
    "from pandas import DataFrame, concat\n",
    "\n",
    "import warnings\n",
    "warnings.filterwarnings('ignore')\n",
    "\n",
    "scvi.settings.seed = 42\n",
    "\n",
    "%matplotlib inline\n",
    "# for white background of figures (only for docs rendering)\n",
    "%config InlineBackend.print_figure_kwargs={'facecolor' : \"w\"}\n",
    "%config InlineBackend.figure_format='retina'"
   ]
  },
  {
   "cell_type": "markdown",
   "id": "032ee3f9-36f8-4315-832d-ff075f31b64b",
   "metadata": {},
   "source": [
    "#### set notebook variables"
   ]
  },
  {
   "cell_type": "code",
   "execution_count": null,
   "id": "c59a1806-beac-45f5-ae1e-351bed49f922",
   "metadata": {},
   "outputs": [],
   "source": [
    "# variables and constants\n",
    "project = 'aging_phase2'\n",
    "DEBUG = True\n",
    "device = 'cuda' if torch.cuda.is_available() else 'cpu'\n",
    "MODEL_QUAL_PRESET = 'good'\n",
    "\n",
    "# directories\n",
    "wrk_dir = '/labshare/raph/datasets/adrd_neuro/brain_aging/phase2'\n",
    "quants_dir = f'{wrk_dir}/quants'\n",
    "models_dir = f'{wrk_dir}/models'\n",
    "figures_dir = f'{wrk_dir}/figures'\n",
    "sc.settings.figdir = f'{figures_dir}/'\n",
    "\n",
    "# in files\n",
    "in_h5ad_file = f'{quants_dir}/{project}.dev.multivi.h5ad'\n",
    "\n",
    "# out files\n",
    "out_h5ad_file = f'{quants_dir}/{project}.dev.multivi.annotated.h5ad'\n",
    "trained_model_path = f'{models_dir}/{project}_dev_trained_cellpred'\n",
    "\n",
    "if DEBUG:\n",
    "    print(f'{in_h5ad_file=}')\n",
    "    print(f'{out_h5ad_file=}')\n",
    "    print(f'{trained_model_path=}')\n",
    "    print(f'{device=}')"
   ]
  },
  {
   "cell_type": "markdown",
   "id": "9a96e7a5-3f8c-424f-8d30-279f07a784b7",
   "metadata": {},
   "source": [
    "#### functions"
   ]
  },
  {
   "cell_type": "code",
   "execution_count": null,
   "id": "0128c9ff-14ce-401e-a2b8-94e29d26c26d",
   "metadata": {},
   "outputs": [],
   "source": [
    "def peek_anndata(adata: AnnData, message: str=None, verbose: bool=False):\n",
    "    if not message is None and len(message) > 0:\n",
    "        print(message)\n",
    "    print(adata)\n",
    "    if verbose:\n",
    "        display(adata.obs.head())\n",
    "        display(adata.var.head())\n",
    "\n",
    "def peek_dataframe(df: DataFrame, message: str=None, verbose: bool=False):\n",
    "    if not message is None and len(message) > 0:\n",
    "        print(message)\n",
    "    print(f'{df.shape=}')\n",
    "    if verbose:\n",
    "        display(df.head())"
   ]
  },
  {
   "cell_type": "markdown",
   "id": "102419fb-a1ea-491b-a554-6b19ef9665e6",
   "metadata": {},
   "source": [
    "## load the multiVI latent features"
   ]
  },
  {
   "cell_type": "code",
   "execution_count": null,
   "id": "96540d8b-18e9-4438-8a2e-ac5d59d83e24",
   "metadata": {},
   "outputs": [],
   "source": [
    "adata = sc.read_h5ad(in_h5ad_file)\n",
    "peek_anndata(adata, 'loaded the multiVI anndata', DEBUG)"
   ]
  },
  {
   "cell_type": "markdown",
   "id": "9a7966af-086e-4c59-9a1e-cb3082c2d467",
   "metadata": {},
   "source": [
    "## split the anndata into training, test, and inference datasets\n",
    "\n",
    "here will use the GEX for training, the ARC for test, and ATAC for inference"
   ]
  },
  {
   "cell_type": "code",
   "execution_count": null,
   "id": "c38270ac-6036-48f9-a067-cf607b5589e9",
   "metadata": {},
   "outputs": [],
   "source": [
    "data_sets = {}\n",
    "for modality in adata.obs.modality.unique():\n",
    "    print(modality)\n",
    "    adata_set = adata[adata.obs.modality == modality]    \n",
    "    data = TabularDataset(adata_set.obsm['MultiVI_latent'])\n",
    "    data['cell_label'] = adata_set.obs.cell_label.values\n",
    "    data.index = adata_set.obs.index.values\n",
    "    data_sets[modality] = data\n",
    "\n",
    "if DEBUG:\n",
    "    for name, data in data_sets.items():\n",
    "        peek_dataframe(data, f'\\n## dataset for {name}', DEBUG)\n",
    "        display(data.cell_label.value_counts())"
   ]
  },
  {
   "cell_type": "markdown",
   "id": "2c3f171d-af31-48aa-9fdb-e74ba91c8e3a",
   "metadata": {},
   "source": [
    "## use autoML to train a model"
   ]
  },
  {
   "cell_type": "markdown",
   "id": "383e6f32-7195-4843-8552-84e05455a603",
   "metadata": {},
   "source": [
    "### initialize a AutoGluon Tabular Predictor"
   ]
  },
  {
   "cell_type": "code",
   "execution_count": null,
   "id": "d570e954-1f27-4557-9563-ecf0b8285775",
   "metadata": {},
   "outputs": [],
   "source": [
    "predictor = TabularPredictor(label='cell_label', path=trained_model_path, \n",
    "                             verbosity=2, log_to_file=True, eval_metric='mcc')"
   ]
  },
  {
   "cell_type": "markdown",
   "id": "82e76c1e-b4a8-4363-a9cf-14b58add6bc1",
   "metadata": {},
   "source": [
    "### train the predictor model"
   ]
  },
  {
   "cell_type": "code",
   "execution_count": null,
   "id": "7f8f98a4-62ff-4d1c-aeb5-265ef86d1c59",
   "metadata": {},
   "outputs": [],
   "source": [
    "train_data = data_sets.get('expression')"
   ]
  },
  {
   "cell_type": "code",
   "execution_count": null,
   "id": "e673514f-e8fc-4956-8807-9a15ab146a60",
   "metadata": {
    "scrolled": true
   },
   "outputs": [],
   "source": [
    "%%time\n",
    "predictor.fit(train_data, presets=MODEL_QUAL_PRESET, num_gpus=1)"
   ]
  },
  {
   "cell_type": "code",
   "execution_count": null,
   "id": "167f0bf4-5180-4711-adfe-8d0360ea7483",
   "metadata": {},
   "outputs": [],
   "source": [
    "%%time\n",
    "display(train_data.cell_label.value_counts())\n",
    "x_pred = predictor.predict(train_data)\n",
    "display(x_pred.value_counts())\n",
    "eval_results = predictor.evaluate_predictions(train_data.cell_label, x_pred, \n",
    "                                              detailed_report=True)\n",
    "print(f'## {eval_results.get('accuracy')=}')\n",
    "print(f'## {eval_results.get('balanced_accuracy')=}')\n",
    "print(f'## Matthews Correlation Coefficient: {eval_results.get('mcc')}')\n",
    "display(DataFrame(eval_results.get('classification_report')).transpose()\n",
    "        .sort_values('f1-score', ascending=False))"
   ]
  },
  {
   "cell_type": "markdown",
   "id": "7c1d4ff8-0afa-4325-b664-bf42a3f47e5b",
   "metadata": {},
   "source": [
    "### individual model scores for training"
   ]
  },
  {
   "cell_type": "code",
   "execution_count": null,
   "id": "c6a8651f-261c-436b-b49f-6d63eced4d61",
   "metadata": {},
   "outputs": [],
   "source": [
    "print(predictor.model_best)\n",
    "display(predictor.leaderboard())"
   ]
  },
  {
   "cell_type": "markdown",
   "id": "311073bc-1945-44ae-88b5-79d286dd4d22",
   "metadata": {},
   "source": [
    "## check the test datasets predictions"
   ]
  },
  {
   "cell_type": "code",
   "execution_count": null,
   "id": "24cf1a9c-52c9-4d70-b24e-44c103549832",
   "metadata": {},
   "outputs": [],
   "source": [
    "%%time\n",
    "test_data = data_sets.get('paired').copy()\n",
    "test_data = test_data.loc[test_data.cell_label != 'Unknown']\n",
    "y_pred = predictor.predict(test_data)\n",
    "peek_dataframe(y_pred, 'model predictions for the ARC data', DEBUG)  # Predictions"
   ]
  },
  {
   "cell_type": "code",
   "execution_count": null,
   "id": "da8f3ccb-bf67-4576-85d3-fcc04d151574",
   "metadata": {},
   "outputs": [],
   "source": [
    "display(test_data.cell_label.value_counts())\n",
    "display(y_pred.value_counts())"
   ]
  },
  {
   "cell_type": "code",
   "execution_count": null,
   "id": "dc69eb9d-fe3d-4219-9c02-ddb046d075a9",
   "metadata": {},
   "outputs": [],
   "source": [
    "eval_results = predictor.evaluate_predictions(test_data.cell_label, y_pred, \n",
    "                                              detailed_report=True)\n",
    "print(f'## {eval_results.get('accuracy')=}')\n",
    "print(f'## {eval_results.get('balanced_accuracy')=}')\n",
    "print(f'## Matthews Correlation Coefficient: {eval_results.get('mcc')}')\n",
    "display(DataFrame(eval_results.get('classification_report')).transpose()\n",
    "        .sort_values('f1-score', ascending=False))"
   ]
  },
  {
   "cell_type": "code",
   "execution_count": null,
   "id": "8e597ffd-ca85-49cb-ba4f-d9e9aa52553c",
   "metadata": {},
   "outputs": [],
   "source": [
    "predictor.leaderboard(test_data)"
   ]
  },
  {
   "cell_type": "markdown",
   "id": "5230cee9-32eb-4072-8d39-f9ced42f8363",
   "metadata": {},
   "source": [
    "## infer the cell labels for the unknown cells"
   ]
  },
  {
   "cell_type": "code",
   "execution_count": null,
   "id": "7e60234f-729c-4fd2-a54b-4cb2bcde7989",
   "metadata": {},
   "outputs": [],
   "source": [
    "atac_labels = predictor.predict(data_sets.get('accessibility'))"
   ]
  },
  {
   "cell_type": "code",
   "execution_count": null,
   "id": "e7f2a551-cd8f-4a71-bca9-97057efc3967",
   "metadata": {},
   "outputs": [],
   "source": [
    "display(atac_labels.value_counts())"
   ]
  },
  {
   "cell_type": "code",
   "execution_count": null,
   "id": "f2279f03-416d-4913-9fec-ecab6ac7048b",
   "metadata": {},
   "outputs": [],
   "source": [
    "print(predictor.model_best)\n",
    "predictor.leaderboard(data_sets.get('accessibility'))"
   ]
  },
  {
   "cell_type": "markdown",
   "id": "1a520f5f-6d94-47ed-94ea-4150cce6b4b6",
   "metadata": {},
   "source": [
    "### for the test dataset what are the important features"
   ]
  },
  {
   "cell_type": "code",
   "execution_count": null,
   "id": "a19410fc-e1e4-4a0a-8227-7ffd0d0df11c",
   "metadata": {},
   "outputs": [],
   "source": [
    "%%time\n",
    "# feat_imp = predictor.feature_importance(train_data)"
   ]
  },
  {
   "cell_type": "code",
   "execution_count": null,
   "id": "cc3acd98-f3e6-41c6-9fcf-1c4b345c2b7d",
   "metadata": {},
   "outputs": [],
   "source": []
  }
 ],
 "metadata": {
  "kernelspec": {
   "display_name": "Python 3 (ipykernel)",
   "language": "python",
   "name": "python3"
  },
  "language_info": {
   "codemirror_mode": {
    "name": "ipython",
    "version": 3
   },
   "file_extension": ".py",
   "mimetype": "text/x-python",
   "name": "python",
   "nbconvert_exporter": "python",
   "pygments_lexer": "ipython3",
   "version": "3.12.2"
  }
 },
 "nbformat": 4,
 "nbformat_minor": 5
}
