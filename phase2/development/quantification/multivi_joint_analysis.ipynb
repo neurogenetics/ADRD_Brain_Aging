{
 "cells": [
  {
   "cell_type": "markdown",
   "metadata": {
    "id": "56KZeo3DBWfs"
   },
   "source": [
    "# Joint analysis of paired and unpaired multiomic data with MultiVI\n",
    "\n",
    "MultiVI is used for the joint analysis of scRNA and scATAC-seq datasets that were jointly profiled (multiomic / paired) and single-modality datasets (only scRNA or only scATAC). MultiVI uses the paired data as an anchor to align and merge the latent spaces learned from each individual modality.\n",
    "\n",
    "Based on the [scvi-tools MultiVI tutorial](https://docs.scvi-tools.org/en/stable/tutorials/notebooks/multimodal/MultiVI_tutorial.html) that walks through how to read multiomic data, create a joint object with paired and unpaired data, set-up and train a MultiVI model, visualize the resulting latent space, and run differential analyses. "
   ]
  },
  {
   "cell_type": "markdown",
   "metadata": {},
   "source": [
    "## Perform a joint clustering of the snRNA and snATAC modalities combine using the cell-type annotations from clustering and review of the snRNA data"
   ]
  },
  {
   "cell_type": "code",
   "execution_count": null,
   "metadata": {
    "tags": []
   },
   "outputs": [],
   "source": [
    "!date"
   ]
  },
  {
   "cell_type": "markdown",
   "metadata": {},
   "source": [
    "#### import libraries"
   ]
  },
  {
   "cell_type": "code",
   "execution_count": null,
   "metadata": {
    "colab": {
     "base_uri": "https://localhost:8080/"
    },
    "id": "MLWcgWfSQ2mi",
    "outputId": "d9150926-06c3-46f3-9ab1-289fbc254908",
    "tags": []
   },
   "outputs": [],
   "source": [
    "import scvi\n",
    "from numpy import where\n",
    "import scanpy as sc\n",
    "from anndata import AnnData\n",
    "from anndata import concat as ad_concat\n",
    "from pandas import read_csv, concat, DataFrame, Series\n",
    "import matplotlib.pyplot as plt\n",
    "from matplotlib.pyplot import rc_context\n",
    "import torch\n",
    "from seaborn import lineplot\n",
    "from sklearn.metrics import silhouette_score\n",
    "from numpy import arange, mean, percentile\n",
    "\n",
    "import random\n",
    "random.seed(42)\n",
    "\n",
    "import warnings\n",
    "warnings.filterwarnings('ignore')\n",
    "\n",
    "scvi.settings.seed = 42\n",
    "\n",
    "%matplotlib inline\n",
    "# for white background of figures (only for docs rendering)\n",
    "%config InlineBackend.print_figure_kwargs={'facecolor' : \"w\"}\n",
    "%config InlineBackend.figure_format='retina'"
   ]
  },
  {
   "cell_type": "markdown",
   "metadata": {},
   "source": [
    "#### set notebook variables"
   ]
  },
  {
   "cell_type": "code",
   "execution_count": null,
   "metadata": {},
   "outputs": [],
   "source": [
    "# variables and constants\n",
    "project = 'aging_phase2'\n",
    "DEBUG = True\n",
    "MIN_CELL_PERCENT = 0.005\n",
    "MAX_MITO_PERCENT = 20\n",
    "TESTING = False\n",
    "testing_cell_size = 5000\n",
    "DETECT_HV_FEATURES = True\n",
    "FILTER_HV_FEATURES = True\n",
    "TOP_FEATURES_PERCENT = 0.3 # 0.075\n",
    "leiden_res = 1.0\n",
    "RUN_TRAINING = True\n",
    "BATCH_SIZE = 10000\n",
    "device = 'cuda' if torch.cuda.is_available() else 'cpu'\n",
    "\n",
    "# directories\n",
    "wrk_dir = '/labshare/raph/datasets/adrd_neuro/brain_aging/phase2'\n",
    "quants_dir = f'{wrk_dir}/quants'\n",
    "models_dir = f'{wrk_dir}/models'\n",
    "figures_dir = f'{wrk_dir}/figures'\n",
    "sc.settings.figdir = f'{figures_dir}/'\n",
    "resolution_dir = f'{quants_dir}/resolution_selection'\n",
    "\n",
    "# in files\n",
    "arc_file = f'{quants_dir}/{project}_ARC.raw.h5ad'\n",
    "arc_scrublet_file = f'{quants_dir}/{project}_ARC.scrublet_scores.csv'\n",
    "gex_file = f'{quants_dir}/{project}_GEX.raw.h5ad'\n",
    "gex_scrublet_file = f'{quants_dir}/{project}_GEX.scrublet_scores.csv'\n",
    "atac_file = f'{quants_dir}/{project}_ATAC.raw.h5ad'\n",
    "exn_cell_assignments = f'{resolution_dir}/ExN_res_obs_annotated_p1only_res_0.4.csv'\n",
    "inh_cell_assignments = f'{resolution_dir}/InN_res_obs_annotated_p1only_res_0.4.csv'\n",
    "nonneuronal_h5ad = f'{quants_dir}/{project}_NonNeuronal.dev.rna.scvi.h5ad'\n",
    "\n",
    "# out files\n",
    "raw_anndata_file =f'{quants_dir}/{project}.dev.raw.multivi_prep.h5ad'\n",
    "out_h5ad_file = f'{quants_dir}/{project}.dev.multivi.h5ad'\n",
    "trained_model_path = f'{models_dir}/{project}_dev_trained_multivi'\n",
    "\n",
    "if DEBUG:\n",
    "    print(f'{arc_file=}')\n",
    "    print(f'{arc_scrublet_file=}')\n",
    "    print(f'{gex_file=}')\n",
    "    print(f'{gex_scrublet_file=}')\n",
    "    print(f'{atac_file=}')\n",
    "    print(f'{exn_cell_assignments=}')\n",
    "    print(f'{inh_cell_assignments=}')\n",
    "    print(f'{nonneuronal_h5ad=}')\n",
    "    print(f'{device=}')"
   ]
  },
  {
   "cell_type": "markdown",
   "metadata": {},
   "source": [
    "#### functions"
   ]
  },
  {
   "cell_type": "code",
   "execution_count": null,
   "metadata": {},
   "outputs": [],
   "source": [
    "def peek_anndata(adata: AnnData, message: str=None, verbose: bool=False):\n",
    "    if not message is None and len(message) > 0:\n",
    "        print(message)\n",
    "    print(adata)\n",
    "    if verbose:\n",
    "        display(adata.obs.head())\n",
    "        display(adata.var.head())\n",
    "\n",
    "def peek_dataframe(df: DataFrame, message: str=None, verbose: bool=False):\n",
    "    if not message is None and len(message) > 0:\n",
    "        print(message)\n",
    "    print(f'{df.shape=}')\n",
    "    if verbose:\n",
    "        display(df.head())\n",
    "\n",
    "def heatmap_compare(adata: AnnData, set1: str, set2: str):\n",
    "    this_df = (\n",
    "        adata.obs.groupby([set1, set2])\n",
    "        .size()\n",
    "        .unstack(fill_value=0)\n",
    "    )\n",
    "    norm_df = this_df/this_df.sum(axis=0)\n",
    "\n",
    "    with rc_context({'figure.figsize': (12, 12), 'figure.dpi': 100}):\n",
    "        plt.style.use('seaborn-v0_8-bright')\n",
    "        _ = plt.pcolor(norm_df, edgecolor='black')\n",
    "        _ = plt.xticks(arange(0.5, len(this_df.columns), 1), this_df.columns, rotation=90)\n",
    "        _ = plt.yticks(arange(0.5, len(this_df.index), 1), this_df.index)\n",
    "        plt.xlabel(set2)\n",
    "        plt.ylabel(set1)\n",
    "        plt.show()"
   ]
  },
  {
   "cell_type": "markdown",
   "metadata": {
    "id": "tbQ8zbhVP8D6"
   },
   "source": [
    "## load data"
   ]
  },
  {
   "cell_type": "markdown",
   "metadata": {
    "id": "Aap3V-9dOoqS"
   },
   "source": [
    "### load ARC data"
   ]
  },
  {
   "cell_type": "code",
   "execution_count": null,
   "metadata": {
    "colab": {
     "base_uri": "https://localhost:8080/"
    },
    "id": "GPo6vQ9zWuY-",
    "outputId": "9d02d562-7874-4d88-aace-f1756bf84167"
   },
   "outputs": [],
   "source": [
    "%%time\n",
    "arc_data = sc.read_h5ad(arc_file)\n",
    "# discovery data from Duffy\n",
    "arc_data.obs['Study'] = 'LNG'\n",
    "arc_data.obs['Study_type'] = 'discovery'\n",
    "peek_anndata(arc_data, 'ARC anndata loaded', DEBUG)"
   ]
  },
  {
   "cell_type": "code",
   "execution_count": null,
   "metadata": {},
   "outputs": [],
   "source": [
    "arc_srublet_df = read_csv(arc_scrublet_file, index_col=0)\n",
    "peek_dataframe(arc_srublet_df, 'ARC scrublet info loaded', DEBUG)\n",
    "if DEBUG:\n",
    "    display(arc_srublet_df.predicted_doublet.value_counts())    "
   ]
  },
  {
   "cell_type": "markdown",
   "metadata": {},
   "source": [
    "### load GEX data"
   ]
  },
  {
   "cell_type": "code",
   "execution_count": null,
   "metadata": {},
   "outputs": [],
   "source": [
    "%%time\n",
    "gex_data = sc.read_h5ad(gex_file)\n",
    "print(gex_data)\n",
    "# filter non-demultiplex cells\n",
    "gex_data = gex_data[~gex_data.obs['donor_id'].isna()]\n",
    "# discovery data from Duffy\n",
    "gex_data.obs['Study'] = 'LNG'\n",
    "gex_data.obs['Study_type'] = 'discovery'\n",
    "peek_anndata(gex_data, 'GEX anndata loaded', DEBUG)   "
   ]
  },
  {
   "cell_type": "code",
   "execution_count": null,
   "metadata": {},
   "outputs": [],
   "source": [
    "gex_srublet_df = read_csv(gex_scrublet_file, index_col=0)\n",
    "peek_dataframe(gex_srublet_df, 'GEX scrublet info loaded', DEBUG)\n",
    "if DEBUG:\n",
    "    display(gex_srublet_df.predicted_doublet.value_counts())    "
   ]
  },
  {
   "cell_type": "markdown",
   "metadata": {},
   "source": [
    "#### filter any of the addtional non-genotype predicted doublets\n",
    "\n",
    "the doublets detected based on genotype using demux to demultiplex the GEX pools have already been removed"
   ]
  },
  {
   "cell_type": "code",
   "execution_count": null,
   "metadata": {},
   "outputs": [],
   "source": [
    "# ARC\n",
    "non_doublet_barcodes = arc_srublet_df.loc[~arc_srublet_df.predicted_doublet].index.values\n",
    "arc_data = arc_data[arc_data.obs.index.isin(non_doublet_barcodes)]\n",
    "# GEX\n",
    "non_doublet_barcodes = gex_srublet_df.loc[~gex_srublet_df.predicted_doublet].index.values\n",
    "gex_data = gex_data[gex_data.obs.index.isin(non_doublet_barcodes)]\n",
    "peek_anndata(arc_data, 'filtered ARC anndata', DEBUG)\n",
    "peek_anndata(gex_data, 'filtered GEX anndata', DEBUG)"
   ]
  },
  {
   "cell_type": "markdown",
   "metadata": {},
   "source": [
    "## load the annotated cell-types for the RNA cells"
   ]
  },
  {
   "cell_type": "code",
   "execution_count": null,
   "metadata": {},
   "outputs": [],
   "source": [
    "%%time\n",
    "exn_cells = read_csv(exn_cell_assignments, index_col='X')\n",
    "inh_cells = read_csv(inh_cell_assignments, index_col='X')\n",
    "adata_nonneur = sc.read_h5ad(nonneuronal_h5ad)\n",
    "peek_dataframe(exn_cells, 'ExN cell types', DEBUG)\n",
    "peek_dataframe(inh_cells, 'Inh cell types', DEBUG)\n",
    "peek_anndata(adata_nonneur, 'processed Non-neuronal anndata loaded', DEBUG)\n",
    "\n",
    "# combine the neuronal cells\n",
    "neuronal_cells = concat([exn_cells[['final_anno']], inh_cells[['final_anno']]])\n",
    "peek_dataframe(neuronal_cells, 'neuronal cell IDs to cell-type annotations', DEBUG)\n",
    "\n",
    "if DEBUG:\n",
    "    display(exn_cells.final_anno.value_counts())\n",
    "    display(inh_cells.final_anno.value_counts())\n",
    "    display(neuronal_cells.final_anno.value_counts())"
   ]
  },
  {
   "cell_type": "markdown",
   "metadata": {},
   "source": [
    "### add the annotations for the non-neuronals that did not have the additional SAHA processing"
   ]
  },
  {
   "cell_type": "code",
   "execution_count": null,
   "metadata": {},
   "outputs": [],
   "source": [
    "# remove any cells already annotated as neuronal from the non-neuronal\n",
    "nonner_cells = adata_nonneur.obs.copy()\n",
    "print(len(set(neuronal_cells.index) & set(nonner_cells.index)))\n",
    "nonner_cells = nonner_cells[~nonner_cells.index.isin(neuronal_cells.index)]\n",
    "peek_dataframe(nonner_cells, 'only Non-neuronal cell types', DEBUG)"
   ]
  },
  {
   "cell_type": "code",
   "execution_count": null,
   "metadata": {},
   "outputs": [],
   "source": [
    "nonneur_labels = nonner_cells.liams_label.str.split('-', expand=True)\n",
    "# just the cell type name is now first column of nonneur_labels\n",
    "nonner_cells['final_anno'] = nonneur_labels[0]\n",
    "if DEBUG:\n",
    "    display(nonner_cells.final_anno.value_counts())"
   ]
  },
  {
   "cell_type": "markdown",
   "metadata": {},
   "source": [
    "### combine the neuronal and non-neuronal cell ID to cell-type labels"
   ]
  },
  {
   "cell_type": "code",
   "execution_count": null,
   "metadata": {},
   "outputs": [],
   "source": [
    "cell_labels = concat([neuronal_cells , nonner_cells[['final_anno']]])\n",
    "cell_labels = cell_labels.rename(columns={'final_anno': 'cell_label'})\n",
    "# make sure there are no duplicates\n",
    "cell_labels = cell_labels[~cell_labels.index.duplicated(keep='first')]\n",
    "peek_dataframe(cell_labels, 'cell IDs to cell-type annotations', DEBUG)\n",
    "\n",
    "if DEBUG:\n",
    "    display(cell_labels.cell_label.value_counts())"
   ]
  },
  {
   "cell_type": "markdown",
   "metadata": {},
   "source": [
    "### apply the cell-type labels the the ARC and GEX cells"
   ]
  },
  {
   "cell_type": "code",
   "execution_count": null,
   "metadata": {},
   "outputs": [],
   "source": [
    "%%time\n",
    "arc_data.obs = arc_data.obs.merge(cell_labels, how='left', \n",
    "                                  left_index=True, right_index=True)\n",
    "gex_data.obs = gex_data.obs.merge(cell_labels, how='left', \n",
    "                                  left_index=True, right_index=True)\n",
    "peek_anndata(arc_data, 'ARC anndata with annotated cell-type labels', DEBUG)\n",
    "peek_anndata(gex_data, 'GEX anndata with annotated cell-type labels', DEBUG)\n",
    "\n",
    "if DEBUG:\n",
    "    display(arc_data.obs.cell_label.value_counts())\n",
    "    display(arc_data.obs.cell_label.isna().value_counts())\n",
    "    display(gex_data.obs.cell_label.value_counts())\n",
    "    display(gex_data.obs.cell_label.isna().value_counts())    "
   ]
  },
  {
   "cell_type": "markdown",
   "metadata": {},
   "source": [
    "## load ATAC data"
   ]
  },
  {
   "cell_type": "code",
   "execution_count": null,
   "metadata": {},
   "outputs": [],
   "source": [
    "%%time\n",
    "atac_data = sc.read_h5ad(atac_file)\n",
    "print(atac_data)\n",
    "# filter non-demultiplex cells\n",
    "atac_data = atac_data[~atac_data.obs['donor_id'].isna()]\n",
    "# discovery data from Duffy\n",
    "atac_data.obs['Study'] = 'LNG'\n",
    "atac_data.obs['Study_type'] = 'discovery'\n",
    "atac_data.obs['cell_label'] = 'Unknown'\n",
    "peek_anndata(atac_data, 'ATAC anndata loaded', DEBUG)"
   ]
  },
  {
   "cell_type": "markdown",
   "metadata": {},
   "source": [
    "## if testing notebook subset the cells"
   ]
  },
  {
   "cell_type": "code",
   "execution_count": null,
   "metadata": {},
   "outputs": [],
   "source": [
    "def random_cells_subset(adata: AnnData, num_cells: int=5000, \n",
    "                        verbose: bool=False) -> AnnData:\n",
    "    cells_subset = random.sample(list(adata.obs.index.values), num_cells)\n",
    "    adata = adata[cells_subset]\n",
    "    if DEBUG:\n",
    "        print(adata)        \n",
    "        display(adata.obs.sample(5))\n",
    "    return adata\n",
    "\n",
    "if TESTING:\n",
    "    arc_data = random_cells_subset(arc_data, verbose=DEBUG)\n",
    "    gex_data = random_cells_subset(gex_data, verbose=DEBUG)\n",
    "    atac_data = random_cells_subset(atac_data, verbose=DEBUG)    "
   ]
  },
  {
   "cell_type": "markdown",
   "metadata": {
    "id": "ZU8pGcPWPCT9"
   },
   "source": [
    "## organize the multiome anndata\n",
    "\n",
    "We can then use the `organize_multiome_anndatas` function to orgnize these three datasets into a single Multiome dataset.\n",
    "This function sorts and orders the data from the multi-modal and modality-specific AnnDatas into a single AnnData (aligning the features, padding missing modalities with 0s, etc). "
   ]
  },
  {
   "cell_type": "code",
   "execution_count": null,
   "metadata": {
    "id": "YnovBjadEAFH"
   },
   "outputs": [],
   "source": [
    "%%time\n",
    "# We can now use the organizing method from scvi to concatenate these anndata\n",
    "adata_mvi = scvi.data.organize_multiome_anndatas(arc_data, gex_data, atac_data)"
   ]
  },
  {
   "cell_type": "markdown",
   "metadata": {
    "id": "vLxYxEPg36VI"
   },
   "source": [
    "Note that `organize_multiome_anndatas` adds an annotation to the cells to indicate which modality they originate from:"
   ]
  },
  {
   "cell_type": "code",
   "execution_count": null,
   "metadata": {
    "colab": {
     "base_uri": "https://localhost:8080/",
     "height": 424
    },
    "id": "jjrZVuX_365d",
    "outputId": "55c366c5-5bb4-4571-9688-7f08d62099bf"
   },
   "outputs": [],
   "source": [
    "peek_anndata(adata_mvi, 'multiVI anndata created', DEBUG)\n",
    "display(adata_mvi.obs.modality.value_counts())"
   ]
  },
  {
   "cell_type": "markdown",
   "metadata": {},
   "source": [
    "#### what percentage of cells areaccessibility"
   ]
  },
  {
   "cell_type": "code",
   "execution_count": null,
   "metadata": {},
   "outputs": [],
   "source": [
    "modality_counts = adata_mvi.obs.modality.value_counts()\n",
    "display(modality_counts)"
   ]
  },
  {
   "cell_type": "markdown",
   "metadata": {},
   "source": [
    "#### clean up the obs as needed\n",
    "the ARC samples are pooled but will use pool info as categorical variable so make one for non-pooled samples\n",
    "drop the batch ID"
   ]
  },
  {
   "cell_type": "code",
   "execution_count": null,
   "metadata": {},
   "outputs": [],
   "source": [
    "if DEBUG:\n",
    "    display(adata_mvi.obs.gex_pool.value_counts())\n",
    "    display(adata_mvi.obs.atac_pool.value_counts())\n",
    "    \n",
    "# convert the age obs attribute feature to float from string\n",
    "adata_mvi.obs.age = adata_mvi.obs.age.astype('float')\n",
    "    \n",
    "adata_mvi.obs.gex_pool = adata_mvi.obs.gex_pool.fillna('non')\n",
    "adata_mvi.obs.atac_pool = adata_mvi.obs.atac_pool.fillna('non')\n",
    "adata_mvi.obs.gex_pool = adata_mvi.obs.gex_pool.astype('str')\n",
    "adata_mvi.obs.atac_pool = adata_mvi.obs.atac_pool.astype('str')\n",
    "adata_mvi.obs.drop(columns=['batch_id'], inplace=True)\n",
    "\n",
    "adata_mvi.obs.phase1_cluster = adata_mvi.obs.phase1_cluster.cat.add_categories(['phase2'])\n",
    "adata_mvi.obs.phase1_celltype = adata_mvi.obs.phase1_celltype.cat.add_categories(['phase2'])\n",
    "adata_mvi.obs.phase1_cluster = where(adata_mvi.obs.phase1_cluster == 'NA', \n",
    "                                     'phase2', adata_mvi.obs.phase1_cluster)\n",
    "adata_mvi.obs.phase1_celltype = where(adata_mvi.obs.phase1_celltype == 'NA', \n",
    "                                     'phase2', adata_mvi.obs.phase1_celltype)\n",
    "adata_mvi.obs.cell_label = adata_mvi.obs.cell_label.fillna('Unknown')\n",
    "adata_mvi.obs.cell_label = where(adata_mvi.obs.cell_label == 'Not Present', \n",
    "                                 'Unknown', adata_mvi.obs.cell_label)\n",
    "\n",
    "if DEBUG:\n",
    "    display(adata_mvi.obs.sample(10))\n",
    "    display(adata_mvi.obs.gex_pool.value_counts())\n",
    "    display(adata_mvi.obs.atac_pool.value_counts())\n",
    "    display(adata_mvi.obs.phase1_cluster.value_counts())\n",
    "    display(adata_mvi.obs.phase1_celltype.value_counts())\n",
    "    display(adata_mvi.obs.cell_label.value_counts())"
   ]
  },
  {
   "cell_type": "markdown",
   "metadata": {
    "id": "mXQn58ZywlzP"
   },
   "source": [
    "<div class=\"alert alert-info\">\n",
    "Important\n",
    "\n",
    "MultiVI requires the features to be ordered so that genes appear before genomic regions. This must be enforced by the user.\n",
    "\n",
    "</div>"
   ]
  },
  {
   "cell_type": "markdown",
   "metadata": {
    "id": "TRxR38xehkKr"
   },
   "source": [
    "MultiVI requires the features to be ordered, such that genes appear before genomic regions. In this case this is already the case, but it's always good to verify:"
   ]
  },
  {
   "cell_type": "code",
   "execution_count": null,
   "metadata": {
    "colab": {
     "base_uri": "https://localhost:8080/",
     "height": 424
    },
    "id": "tNuo88gAh6W-",
    "outputId": "07431a5c-dac8-42bb-c963-c8b1a4b959f5"
   },
   "outputs": [],
   "source": [
    "adata_mvi = adata_mvi[:, adata_mvi.var[\"modality\"].argsort()].copy()\n",
    "if DEBUG:\n",
    "    display(adata_mvi.var)"
   ]
  },
  {
   "cell_type": "markdown",
   "metadata": {},
   "source": [
    "## save the MultiVi organized but unprocessed anndata object note that the subject is in the obs"
   ]
  },
  {
   "cell_type": "code",
   "execution_count": null,
   "metadata": {},
   "outputs": [],
   "source": [
    "%%time\n",
    "adata_mvi.write(raw_anndata_file)"
   ]
  },
  {
   "cell_type": "code",
   "execution_count": null,
   "metadata": {},
   "outputs": [],
   "source": [
    "peek_anndata(adata_mvi, f'multiVI anndata that was just saved to {raw_anndata_file}', DEBUG)"
   ]
  },
  {
   "cell_type": "markdown",
   "metadata": {},
   "source": [
    "## perform some typical pre-processing"
   ]
  },
  {
   "cell_type": "markdown",
   "metadata": {
    "id": "Q4b1f0mwldGn"
   },
   "source": [
    "We also filter features to remove those that appear in fewer than MIN% of the cells"
   ]
  },
  {
   "cell_type": "code",
   "execution_count": null,
   "metadata": {
    "colab": {
     "base_uri": "https://localhost:8080/"
    },
    "id": "FUhG037lWtYQ",
    "outputId": "96c29ddb-b7a4-432e-f3f3-8f2318830154"
   },
   "outputs": [],
   "source": [
    "%%time\n",
    "print(adata_mvi.shape)\n",
    "# annotate the group of mitochondrial genes as 'mt'\n",
    "adata_mvi.var['mt'] = adata_mvi.var_names.str.startswith('MT-')  \n",
    "# ribosomal genes\n",
    "adata_mvi.var['ribo'] = adata_mvi.var_names.str.startswith(('RPS', 'RPL'))\n",
    "# hemoglobin genes\n",
    "adata_mvi.var['hb'] = adata_mvi.var_names.str.contains('^HB[^(P)]')\n",
    "\n",
    "# With pp.calculate_qc_metrics, we can compute many metrics very efficiently.\n",
    "sc.pp.calculate_qc_metrics(adata_mvi, qc_vars=['mt', 'ribo', 'hb'], \n",
    "                           inplace=True, log1p=True)\n",
    "adata_mvi = adata_mvi[adata_mvi.obs.pct_counts_mt < MAX_MITO_PERCENT, :]\n",
    "# Basic filtering:\n",
    "max_genes_threshold = percentile(adata_mvi.obs['n_genes_by_counts'], 90)\n",
    "print(f\"Suggested max_genes threshold: {max_genes_threshold:.0f}\")\n",
    "sc.pp.filter_cells(adata_mvi, min_genes=100)\n",
    "sc.pp.filter_cells(adata_mvi, max_genes=max_genes_threshold)\n",
    "sc.pp.filter_genes(adata_mvi, min_cells=10)\n",
    "\n",
    "print(adata_mvi)\n",
    "\n",
    "if DEBUG:\n",
    "    display(adata_mvi.obs.sample(5))\n",
    "    display(adata_mvi.var.sample(5))    "
   ]
  },
  {
   "cell_type": "markdown",
   "metadata": {},
   "source": [
    "#### if flag set then subset to highest variance features\n",
    "\n",
    "MultiVI tutorial doesn't suggest this so probably typically will set to false"
   ]
  },
  {
   "cell_type": "code",
   "execution_count": null,
   "metadata": {},
   "outputs": [],
   "source": [
    "if DETECT_HV_FEATURES:\n",
    "    n_top_genes = int(adata_mvi.n_vars * TOP_FEATURES_PERCENT)\n",
    "    sc.pp.highly_variable_genes(adata_mvi, n_top_genes=n_top_genes, \n",
    "                                batch_key='atac_pool',flavor='seurat_v3', \n",
    "                                subset=False)                                \n",
    "    print(adata_mvi)\n",
    "    print(adata_mvi.obs.modality.value_counts())\n",
    "    print(adata_mvi.var.modality.value_counts())\n",
    "    display(adata_mvi.var.groupby('modality')['highly_variable'].value_counts())"
   ]
  },
  {
   "cell_type": "code",
   "execution_count": null,
   "metadata": {},
   "outputs": [],
   "source": [
    "Series(adata_mvi.var.highly_variable).value_counts()"
   ]
  },
  {
   "cell_type": "markdown",
   "metadata": {},
   "source": [
    "#### there will probably be an imbalance in the HVG towards peaks try rebalancing"
   ]
  },
  {
   "cell_type": "code",
   "execution_count": null,
   "metadata": {},
   "outputs": [],
   "source": [
    "%%time\n",
    "# find HVG based on just gene data\n",
    "# gene_features = adata_mvi.var.loc[adata_mvi.var.modality == 'Gene Expression', ['ID']]\n",
    "# gene_adata = adata_mvi[:, gene_features.index].copy()\n",
    "gene_adata = adata_mvi[adata_mvi.obs.modality.isin(['expression', 'paired']), \n",
    "                       adata_mvi.var.modality == 'Gene Expression'].copy()\n",
    "num_genes = gene_adata.n_vars\n",
    "n_top_genes = int(num_genes * TOP_FEATURES_PERCENT)\n",
    "sc.pp.highly_variable_genes(gene_adata, n_top_genes=n_top_genes, \n",
    "                            batch_key='gex_pool', flavor='seurat_v3')\n",
    "# find HVG based on just peak and adjust for number imbalance\n",
    "# peak_features = adata_mvi.var.loc[adata_mvi.var.modality == 'Peaks', ['ID']]\n",
    "# peak_adata = adata_mvi[:, peak_features.index].copy()\n",
    "peak_adata = adata_mvi[adata_mvi.obs.modality == 'accessibility', \n",
    "                       adata_mvi.var.modality == 'Peaks'].copy()\n",
    "# adjust number top peaks relative to peak/gene composistion of features\n",
    "num_peaks = peak_adata.n_vars\n",
    "# n_top_genes = int((num_peaks * TOP_FEATURES_PERCENT)/(num_peaks/num_genes))*2\n",
    "# n_top_genes = int((num_peaks * TOP_FEATURES_PERCENT)/(num_peaks/num_genes))/2\n",
    "sc.pp.highly_variable_genes(peak_adata, n_top_genes=n_top_genes, \n",
    "                            batch_key='atac_pool', flavor='seurat_v3')\n",
    "# get the HVG feature set\n",
    "gene_hvg_index = gene_adata.var.loc[gene_adata.var.highly_variable == True].index\n",
    "peak_hvg_index = peak_adata.var.loc[peak_adata.var.highly_variable == True].index\n",
    "hvg_features = set(gene_hvg_index) | set(peak_hvg_index)\n",
    "\n",
    "# update the HVG in the main anndata object\n",
    "# clear the flag\n",
    "adata_mvi.var.highly_variable = False\n",
    "# and reset to desired features\n",
    "adata_mvi.var.loc[adata_mvi.var.index.isin(list(hvg_features)), 'highly_variable'] = True\n",
    "\n",
    "if FILTER_HV_FEATURES:\n",
    "    adata_mvi = adata_mvi[:, adata_mvi.var.highly_variable]\n",
    "\n",
    "print(adata_mvi)\n",
    "if DEBUG:\n",
    "    display(adata_mvi.var.groupby('modality')['highly_variable'].value_counts())    "
   ]
  },
  {
   "cell_type": "markdown",
   "metadata": {
    "id": "-puYqefZn_0P"
   },
   "source": [
    "## Setup and Training MultiVI\n",
    "We can now set up and train the MultiVI model!"
   ]
  },
  {
   "cell_type": "markdown",
   "metadata": {
    "id": "vJcJx9iXxDIG"
   },
   "source": [
    "First, we need to setup the Anndata object using the `setup_anndata` function. At this point we specify any batch annotation that the model would account for.\n",
    "**Importantly**, the main batch annotation, specific by `batch_key`, should correspond to the modality of the cells.\n",
    "\n",
    "Other batch annotations (e.g if there are multiple ATAC batches) should be provided using the `categorical_covariate_keys`.\n",
    "\n",
    "The actual values of categorical covariates (include `batch_key`) are not important, as long as they are different for different samples.\n",
    "I.e it is not important to call the expression-only samples \"expression\", as long as they are called something different than the multi-modal and accessibility-only samples."
   ]
  },
  {
   "cell_type": "markdown",
   "metadata": {
    "id": "yl5WKg6rw2fc"
   },
   "source": [
    "<div class=\"alert alert-info\">\n",
    "Important\n",
    "\n",
    "MultiVI requires the main batch annotation to correspond to the modality of the samples. Other batch annotation, such as in the case of multiple RNA-only batches, can be specified using `categorical_covariate_keys`.\n",
    "\n",
    "</div>"
   ]
  },
  {
   "cell_type": "code",
   "execution_count": null,
   "metadata": {
    "colab": {
     "base_uri": "https://localhost:8080/"
    },
    "id": "Gx9DJc2WoGpz",
    "outputId": "478986e4-73fc-4e13-94e4-50bccdf235b1"
   },
   "outputs": [],
   "source": [
    "scvi.model.MULTIVI.setup_anndata(adata_mvi, batch_key='modality', \n",
    "                                 categorical_covariate_keys = ['sample_id', 'gex_pool', 'atac_pool'],\n",
    "                                 continuous_covariate_keys=['pct_counts_mt', 'pct_counts_ribo'],) "
   ]
  },
  {
   "cell_type": "markdown",
   "metadata": {
    "id": "_ehwBKfSpnEd"
   },
   "source": [
    "When creating the object, we need to specify how many of the features are genes, and how many are genomic regions. This is so MultiVI can determine the exact architecture for each modality."
   ]
  },
  {
   "cell_type": "code",
   "execution_count": null,
   "metadata": {
    "colab": {
     "base_uri": "https://localhost:8080/"
    },
    "id": "hu7B7zq2oGnB",
    "outputId": "68fc36c7-539b-4696-badc-55861c457c54"
   },
   "outputs": [],
   "source": [
    "mvi = scvi.model.MULTIVI(\n",
    "    adata_mvi, \n",
    "    n_genes=(adata_mvi.var['modality']=='Gene Expression').sum(),\n",
    "    n_regions=(adata_mvi.var['modality']=='Peaks').sum(),\n",
    ")\n",
    "mvi.view_anndata_setup()\n",
    "print(mvi)"
   ]
  },
  {
   "cell_type": "code",
   "execution_count": null,
   "metadata": {},
   "outputs": [],
   "source": [
    "%%time\n",
    "if RUN_TRAINING:\n",
    "    mvi.train(batch_size=BATCH_SIZE)"
   ]
  },
  {
   "cell_type": "markdown",
   "metadata": {
    "id": "SW1yKwds27ez"
   },
   "source": [
    "## Save and Load MultiVI models\n",
    "\n",
    "Saving and loading models is similar to all other scvi-tools models, and is very straight forward:"
   ]
  },
  {
   "cell_type": "code",
   "execution_count": null,
   "metadata": {
    "id": "GqwA7o2l6u8D"
   },
   "outputs": [],
   "source": [
    "if RUN_TRAINING:\n",
    "    mvi.save(trained_model_path, overwrite=True)"
   ]
  },
  {
   "cell_type": "code",
   "execution_count": null,
   "metadata": {
    "colab": {
     "base_uri": "https://localhost:8080/"
    },
    "id": "TI8han7vNAWh",
    "outputId": "1337010c-2895-42b9-8927-4a3caa8dac6f"
   },
   "outputs": [],
   "source": [
    "mvi = scvi.model.MULTIVI.load(trained_model_path, adata=adata_mvi, accelerator='gpu')\n",
    "print(mvi)"
   ]
  },
  {
   "cell_type": "markdown",
   "metadata": {
    "id": "5ylbf6OZ3YMH"
   },
   "source": [
    "## Extracting and visualizing the latent space\n",
    "\n",
    "We can now use the `get_latent_representation` to get the latent space from the trained model, and visualize it using scanpy functions:"
   ]
  },
  {
   "cell_type": "code",
   "execution_count": null,
   "metadata": {
    "colab": {
     "base_uri": "https://localhost:8080/",
     "height": 333
    },
    "id": "IZFSzWEboGcP",
    "outputId": "5c9451ff-b6ad-47b5-90e1-46359b027dd3",
    "tags": []
   },
   "outputs": [],
   "source": [
    "adata_mvi.obsm['MultiVI_latent'] = mvi.get_latent_representation()"
   ]
  },
  {
   "cell_type": "markdown",
   "metadata": {},
   "source": [
    "#### embed the graph based on latent representation"
   ]
  },
  {
   "cell_type": "code",
   "execution_count": null,
   "metadata": {},
   "outputs": [],
   "source": [
    "%%time\n",
    "sc.pp.neighbors(adata_mvi, use_rep='MultiVI_latent')\n",
    "# sc.tl.umap(adata_mvi, min_dist=0.3)\n",
    "sc.tl.umap(adata_mvi)"
   ]
  },
  {
   "cell_type": "markdown",
   "metadata": {},
   "source": [
    "#### visualize the latent representation"
   ]
  },
  {
   "cell_type": "code",
   "execution_count": null,
   "metadata": {},
   "outputs": [],
   "source": [
    "with rc_context({'figure.figsize': (8, 8), 'figure.dpi': 100}):\n",
    "    plt.style.use('seaborn-v0_8-talk')\n",
    "    sc.pl.umap(adata_mvi, color=['sample_id'])\n",
    "    sc.pl.umap(adata_mvi, color=['Study'])\n",
    "    sc.pl.umap(adata_mvi, color=['modality'])\n",
    "    sc.pl.umap(adata_mvi, color=['cell_label'], frameon=False, \n",
    "               legend_loc='on data')\n",
    "    sc.pl.umap(adata_mvi, color=['phase1_celltype'], frameon=False, \n",
    "               legend_loc='on data')  "
   ]
  },
  {
   "cell_type": "markdown",
   "metadata": {},
   "source": [
    "### Clustering on the MultiVI latent space\n",
    "The user will note that we imported curated labels from the original publication. Our interface with scanpy makes it easy to cluster the data with scanpy from MultiVI's latent space and then reinject them into MultiVI (e.g., for differential expression)."
   ]
  },
  {
   "cell_type": "code",
   "execution_count": null,
   "metadata": {},
   "outputs": [],
   "source": [
    "%%time\n",
    "# neighbors were already computed using scVI\n",
    "sc.tl.leiden(adata_mvi, key_added='leiden_MultiVI', resolution=0.6, flavor='igraph', n_iterations=2)"
   ]
  },
  {
   "cell_type": "markdown",
   "metadata": {
    "editable": true,
    "slideshow": {
     "slide_type": ""
    },
    "tags": []
   },
   "source": [
    "#### check range of Leiden resolutions for clustering"
   ]
  },
  {
   "cell_type": "code",
   "execution_count": null,
   "metadata": {},
   "outputs": [],
   "source": [
    "%%time\n",
    "resolutions_to_try = arange(0.1, 1.0, 0.1)\n",
    "print(resolutions_to_try)\n",
    "mean_scores = {}\n",
    "largest_score = 0\n",
    "best_res = 0\n",
    "new_leiden_key = 'leiden_MultiVI'\n",
    "for leiden_res in resolutions_to_try:\n",
    "    # use only 2 decimals\n",
    "    leiden_res = round(leiden_res, 2)    \n",
    "    print(f'### using Leiden resolution of {leiden_res}')\n",
    "    # neighbors were already computed using scVI\n",
    "    sc.tl.leiden(adata_mvi, key_added=new_leiden_key, resolution=leiden_res, flavor='igraph', n_iterations=2)\n",
    "    # silhouette_avg = silhouette_score(adata_mvi.obsm['MultiVI_latent'], adata_mvi.obs[new_leiden_key])\n",
    "    adata_temp = adata_mvi[adata_mvi.obs.cell_label != 'Unknown']\n",
    "    silhouette_avg = silhouette_score(adata_temp.obs[new_leiden_key].to_frame(), adata_temp.obs.cell_label)\n",
    "    print((f'For res = {leiden_res:.2f}, average silhouette: {silhouette_avg:.3f} '\n",
    "           f'for {adata_mvi.obs[new_leiden_key].nunique()} clusters'))    \n",
    "    # mean sample count per cluster\n",
    "    df_grouped = adata_mvi.obs.groupby(new_leiden_key)['sample_id'].count()\n",
    "    df_grouped = df_grouped[df_grouped >= 30].to_frame().reset_index()\n",
    "    df_grouped = df_grouped.groupby(new_leiden_key)['sample_id'].nunique()    \n",
    "    mean_sample_per_cluster = df_grouped.mean()\n",
    "    less_than_half = df_grouped[df_grouped < adata_mvi.obs.sample_id.nunique()/3].shape[0]\n",
    "    # mean cell count per cluster\n",
    "    df_grouped = adata_mvi.obs[new_leiden_key].value_counts()\n",
    "    mean_cell_per_cluster = df_grouped.mean()        \n",
    "    mean_scores[leiden_res] = [silhouette_avg, adata_mvi.obs[new_leiden_key].nunique(), \n",
    "                               mean_sample_per_cluster, mean_cell_per_cluster, less_than_half]\n",
    "    \n",
    "    # update best resolution info\n",
    "    if silhouette_avg > largest_score:\n",
    "        largest_score = silhouette_avg\n",
    "        best_res = leiden_res"
   ]
  },
  {
   "cell_type": "code",
   "execution_count": null,
   "metadata": {},
   "outputs": [],
   "source": [
    "scores_df = DataFrame(index=mean_scores.keys(), data=mean_scores.values())\n",
    "scores_df.columns = ['score', 'num_clusters', 'mean_samples', 'mean_cells', 'less_than_half']\n",
    "print('max score at')\n",
    "best_result = scores_df.loc[scores_df.score == scores_df.score.max()]\n",
    "display(best_result)\n",
    "best_resolution = best_result.index.values[0]\n",
    "print(f'best resolution found at {best_resolution}')\n",
    "if DEBUG:\n",
    "    display(scores_df)\n",
    "fig_filename = f'{figures_dir}/leiden_resolution_silhouette_score.png'\n",
    "with rc_context({'figure.figsize': (8, 8), 'figure.dpi': 100}):\n",
    "    plt.style.use('seaborn-v0_8-talk')\n",
    "    lineplot(x=scores_df.index, y='score', data=scores_df)\n",
    "    plt.xlabel('resolution')\n",
    "    plt.savefig(fig_filename)\n",
    "    plt.show()\n",
    "lineplot(x=scores_df.index, y='num_clusters', data=scores_df)\n",
    "plt.xlabel('resolution')\n",
    "plt.show()\n",
    "lineplot(x=scores_df.index, y='mean_samples', data=scores_df)\n",
    "plt.xlabel('resolution')\n",
    "plt.show()\n",
    "lineplot(x=scores_df.index, y='mean_cells', data=scores_df)\n",
    "plt.xlabel('resolution')\n",
    "plt.show()\n",
    "lineplot(x=scores_df.index, y='less_than_half', data=scores_df)\n",
    "plt.ylabel('number clusters with less than 1/3 of donors')\n",
    "plt.xlabel('resolution')\n",
    "plt.show()"
   ]
  },
  {
   "cell_type": "code",
   "execution_count": null,
   "metadata": {},
   "outputs": [],
   "source": [
    "best_resolution = round(best_resolution, 2)\n",
    "best_resolution = 0.6\n",
    "print(f'{best_resolution=}')\n",
    "sc.tl.leiden(adata_mvi, key_added='leiden_MultiVI', resolution=best_resolution, flavor='igraph', n_iterations=2)"
   ]
  },
  {
   "cell_type": "markdown",
   "metadata": {},
   "source": [
    "### visualize the clusters"
   ]
  },
  {
   "cell_type": "code",
   "execution_count": null,
   "metadata": {},
   "outputs": [],
   "source": [
    "# figure_file = f'_{project}.umap.leiden_on.png'\n",
    "with rc_context({'figure.figsize': (8, 8), 'figure.dpi': 400}):\n",
    "    plt.style.use('seaborn-v0_8-paper')\n",
    "    sc.pl.umap(adata_mvi, color=['leiden_MultiVI'], frameon=False, \n",
    "               legend_loc='on data', legend_fontsize=6)\n",
    "    sc.pl.umap(adata_mvi, color=['modality'], frameon=False)\n",
    "    sc.pl.umap(adata_mvi, color=['Study'], frameon=False)\n",
    "    sc.pl.umap(adata_mvi, color=['cell_label'], \n",
    "               frameon=False, legend_loc='on data', legend_fontsize=6)\n",
    "    sc.pl.umap(adata_mvi, color=['age'], frameon=False)\n",
    "    sc.pl.umap(adata_mvi, color=['phase1_celltype'], \n",
    "               frameon=False, legend_loc='on data', legend_fontsize=6)"
   ]
  },
  {
   "cell_type": "code",
   "execution_count": null,
   "metadata": {},
   "outputs": [],
   "source": [
    "temp = adata_mvi.obs[adata_mvi.obs.cell_label != 'Unknown']\n",
    "display(temp.cell_label.value_counts())\n",
    "print(temp.cell_label.nunique())"
   ]
  },
  {
   "cell_type": "code",
   "execution_count": null,
   "metadata": {
    "scrolled": true
   },
   "outputs": [],
   "source": [
    "for cell_type in temp.cell_label.unique():\n",
    "    print(f'## {cell_type}', end=':  ')\n",
    "    cell_data = temp.loc[temp.cell_label == cell_type]\n",
    "    print(cell_data.leiden_MultiVI.nunique())\n",
    "    print(f'{cell_data.shape=}')\n",
    "    display(cell_data.leiden_MultiVI.value_counts())"
   ]
  },
  {
   "cell_type": "code",
   "execution_count": null,
   "metadata": {
    "scrolled": true
   },
   "outputs": [],
   "source": [
    "for cluster in temp.leiden_MultiVI.unique():\n",
    "    print(f'##{cluster}', end=':  ')\n",
    "    cluster_data = temp.loc[temp.leiden_MultiVI == cluster]\n",
    "    print(cluster_data.cell_label.nunique())\n",
    "    print(f'{cluster_data.shape=}')\n",
    "    display(cluster_data.cell_label.value_counts())    "
   ]
  },
  {
   "cell_type": "markdown",
   "metadata": {},
   "source": [
    "## are any of the cluster primarily ATAC "
   ]
  },
  {
   "cell_type": "code",
   "execution_count": null,
   "metadata": {},
   "outputs": [],
   "source": [
    "%%time\n",
    "sc.tl.embedding_density(adata_mvi, basis='umap', groupby='modality')\n",
    "sc.pl.embedding_density(adata_mvi, basis='umap', key='umap_density_modality', ncols=3)"
   ]
  },
  {
   "cell_type": "code",
   "execution_count": null,
   "metadata": {},
   "outputs": [],
   "source": [
    "atac_clusters = []\n",
    "for cluster in adata_mvi.obs.leiden_MultiVI.unique():\n",
    "    this_cluster = adata_mvi.obs.loc[adata_mvi.obs.leiden_MultiVI == cluster]\n",
    "    cluster_cnts = this_cluster.modality.value_counts()\n",
    "    percentages = (cluster_cnts / cluster_cnts.sum()) * 100\n",
    "    if percentages.accessibility > 80:\n",
    "        print(f'{cluster=}')\n",
    "        atac_clusters.append(cluster)\n",
    "        cluster_cnts = cluster_cnts.to_frame()\n",
    "        cluster_cnts['percentages'] = percentages.values\n",
    "        display(cluster_cnts)\n",
    "print(atac_clusters)"
   ]
  },
  {
   "cell_type": "code",
   "execution_count": null,
   "metadata": {},
   "outputs": [],
   "source": [
    "if len(atac_clusters) > 0:\n",
    "    adata_mvi_sub = adata_mvi[adata_mvi.obs.leiden_MultiVI.isin(atac_clusters)]\n",
    "    print(adata_mvi_sub)\n",
    "    display(adata_mvi_sub.obs.cell_label.value_counts())\n",
    "    with rc_context({'figure.figsize': (9, 9), 'figure.dpi': 100}):\n",
    "        plt.style.use('seaborn-v0_8-talk')\n",
    "        sc.pl.umap(adata_mvi_sub, color=['leiden_MultiVI'], frameon=False, legend_loc='on data')"
   ]
  },
  {
   "cell_type": "markdown",
   "metadata": {},
   "source": [
    "## save to processed anndata object"
   ]
  },
  {
   "cell_type": "code",
   "execution_count": null,
   "metadata": {},
   "outputs": [],
   "source": [
    "%%time\n",
    "adata_mvi.write(out_h5ad_file)"
   ]
  },
  {
   "cell_type": "code",
   "execution_count": null,
   "metadata": {},
   "outputs": [],
   "source": [
    "!date"
   ]
  }
 ],
 "metadata": {
  "accelerator": "GPU",
  "colab": {
   "collapsed_sections": [],
   "machine_shape": "hm",
   "name": "MultiVI_tutorial.ipynb",
   "provenance": [],
   "toc_visible": true
  },
  "environment": {
   "kernel": "python3",
   "name": ".m116",
   "type": "gcloud",
   "uri": "gcr.io/deeplearning-platform-release/:m116"
  },
  "kernelspec": {
   "display_name": "Python 3 (ipykernel)",
   "language": "python",
   "name": "python3"
  },
  "language_info": {
   "codemirror_mode": {
    "name": "ipython",
    "version": 3
   },
   "file_extension": ".py",
   "mimetype": "text/x-python",
   "name": "python",
   "nbconvert_exporter": "python",
   "pygments_lexer": "ipython3",
   "version": "3.12.2"
  }
 },
 "nbformat": 4,
 "nbformat_minor": 4
}
