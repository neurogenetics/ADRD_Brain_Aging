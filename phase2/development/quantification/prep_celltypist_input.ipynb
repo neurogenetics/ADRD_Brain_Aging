{
 "cells": [
  {
   "cell_type": "markdown",
   "id": "b112550a-e631-456c-81ce-7546e5a39376",
   "metadata": {},
   "source": [
    "## Prepare a study's raw anndata file for use with CellTypist cell-type annotation prediction models\n",
    "\n",
    "- data has to be log1p and normalized with 10K "
   ]
  },
  {
   "cell_type": "code",
   "execution_count": null,
   "id": "c8dd99bd-fee9-4f9b-bfdc-5c273fd3c7f4",
   "metadata": {},
   "outputs": [],
   "source": [
    "!date"
   ]
  },
  {
   "cell_type": "markdown",
   "id": "943adfe0-89e0-4c47-aed2-fe96ee4683e4",
   "metadata": {},
   "source": [
    "#### import libraries"
   ]
  },
  {
   "cell_type": "code",
   "execution_count": null,
   "id": "8193481f-cddd-4308-a08e-5254365b6838",
   "metadata": {},
   "outputs": [],
   "source": [
    "import scanpy as sc\n",
    "import nb_util_funcs as nuf\n",
    "from pandas import read_csv\n",
    "import matplotlib.pyplot as plt\n",
    "from seaborn import barplot\n",
    "\n",
    "# for white background of figures (only for docs rendering)\n",
    "%config InlineBackend.print_figure_kwargs={'facecolor' : \"w\"}\n",
    "%config InlineBackend.figure_format='retina'"
   ]
  },
  {
   "cell_type": "code",
   "execution_count": null,
   "id": "4617b1bc-d0e7-4a66-bf8c-c6fbe53b7875",
   "metadata": {},
   "outputs": [],
   "source": [
    "# import importlib\n",
    "# mm = importlib.reload(nuf)"
   ]
  },
  {
   "cell_type": "markdown",
   "id": "6125535a-286e-47a3-ae56-12e2fca63b06",
   "metadata": {},
   "source": [
    "#### set notebook variables"
   ]
  },
  {
   "cell_type": "code",
   "execution_count": null,
   "id": "ace90b4d-cf8d-409a-8350-0eadf4eb8b59",
   "metadata": {
    "editable": true,
    "slideshow": {
     "slide_type": ""
    },
    "tags": [
     "parameters"
    ]
   },
   "outputs": [],
   "source": [
    "# parameters\n",
    "modality = 'GEX' # 'GEX' or 'ARC'"
   ]
  },
  {
   "cell_type": "code",
   "execution_count": null,
   "id": "f635449b-f8c7-403e-9573-4202bb22da63",
   "metadata": {},
   "outputs": [],
   "source": [
    "# variables\n",
    "project = 'aging_phase2'\n",
    "DEBUG = True\n",
    "MAX_MITO_PERCENT = 20\n",
    "DETECT_HV_FEATURES = True\n",
    "FILTER_HV_FEATURES = False\n",
    "TOP_FEATURES_PERCENT = 0.15\n",
    "celltypist_models = {'DHB': 'Developing_Human_Brain',\n",
    "                     'DLPFC': '/data/celltypist/Adult_Human_PrefrontalCortex', 'MTG': '/data/celltypist/Adult_Human_MTG'}\n",
    "\n",
    "# directories\n",
    "wrk_dir = '/labshare/raph/datasets/adrd_neuro/brain_aging/phase2'\n",
    "quants_dir = f'{wrk_dir}/quants'\n",
    "celltypist_dir = f'{wrk_dir}/celltypist'\n",
    "\n",
    "# input/output files\n",
    "raw_anndata_file =f'{quants_dir}/{project}_{modality}.raw.h5ad'\n",
    "celltypist_in_file = f'{quants_dir}/{project}_{modality}.celltypist.h5ad'\n",
    "\n",
    "if DEBUG:\n",
    "    print(f'{raw_anndata_file=}')\n",
    "    print(f'{celltypist_in_file=}')\n",
    "    print(f'{celltypist_models=}')"
   ]
  },
  {
   "cell_type": "markdown",
   "id": "bccf0ab8-a93b-4c19-8846-9b603924dff6",
   "metadata": {},
   "source": [
    "## load data"
   ]
  },
  {
   "cell_type": "markdown",
   "id": "83e7895c-0cd4-4da0-9ff1-dd20372ff756",
   "metadata": {},
   "source": [
    "### load the raw anndata object"
   ]
  },
  {
   "cell_type": "code",
   "execution_count": null,
   "id": "3b8de103-dcb0-47a5-afad-7b7b8b119c2c",
   "metadata": {},
   "outputs": [],
   "source": [
    "%%time\n",
    "adata = sc.read_h5ad(raw_anndata_file)\n",
    "nuf.peek_anndata(adata, '## input raw anndata:', DEBUG)"
   ]
  },
  {
   "cell_type": "markdown",
   "id": "31dc4e83-f257-4ec6-bf47-b6e554fade2e",
   "metadata": {},
   "source": [
    "### subset to just the gene features if multiome"
   ]
  },
  {
   "cell_type": "code",
   "execution_count": null,
   "id": "5178b7af-0367-46a7-8ee1-f76a5e838939",
   "metadata": {},
   "outputs": [],
   "source": [
    "if 'modality' in adata.var.columns:\n",
    "    adata = adata[:, adata.var.modality == 'Gene Expression']\n",
    "    nuf.peek_anndata(adata, '## adata just gene features:', DEBUG)"
   ]
  },
  {
   "cell_type": "markdown",
   "id": "8e83b7f7-a770-414c-b98e-5a1be8a329c1",
   "metadata": {},
   "source": [
    "## typical checks and preprocessing"
   ]
  },
  {
   "cell_type": "code",
   "execution_count": null,
   "id": "aa712658-aef3-4133-9bb0-21502a089a46",
   "metadata": {},
   "outputs": [],
   "source": [
    "# mitochondrial genes, \"MT-\" for human, \"Mt-\" for mouse\n",
    "adata.var[\"mt\"] = adata.var_names.str.startswith(\"MT-\")\n",
    "# ribosomal genes\n",
    "adata.var[\"ribo\"] = adata.var_names.str.startswith((\"RPS\", \"RPL\"))\n",
    "# hemoglobin genes\n",
    "adata.var[\"hb\"] = adata.var_names.str.contains(\"^HB[^(P)]\")\n",
    "sc.pp.calculate_qc_metrics(adata, qc_vars=[\"mt\", \"ribo\", \"hb\"], \n",
    "                           inplace=True, log1p=True)\n"
   ]
  },
  {
   "cell_type": "markdown",
   "id": "984e1d0b-a7ed-4056-a8c8-f305e31e74e1",
   "metadata": {},
   "source": [
    "## identify high variance features\n",
    "filter on if specified"
   ]
  },
  {
   "cell_type": "code",
   "execution_count": null,
   "id": "bad06638-c0b2-4839-836f-1a66d1baf9c9",
   "metadata": {},
   "outputs": [],
   "source": [
    "%%time\n",
    "if DETECT_HV_FEATURES:\n",
    "    n_top_genes = int(adata.n_vars * TOP_FEATURES_PERCENT)\n",
    "    sc.pp.highly_variable_genes(adata, n_top_genes=n_top_genes, \n",
    "                                flavor='seurat_v3', \n",
    "                                subset=FILTER_HV_FEATURES)\n",
    "    nuf.peek_anndata(adata, 'study adata after typical filtering', DEBUG)"
   ]
  },
  {
   "cell_type": "markdown",
   "id": "94f25c9f-b410-4b17-a237-ba48bc302c0d",
   "metadata": {},
   "source": [
    "## Normalization"
   ]
  },
  {
   "cell_type": "code",
   "execution_count": null,
   "id": "04d54e95-5ca4-48d1-ab11-6f227289d90a",
   "metadata": {},
   "outputs": [],
   "source": [
    "%%time\n",
    "# Saving count data\n",
    "sc.pp.normalize_total(adata, target_sum=1e4)\n",
    "sc.pp.log1p(adata)\n",
    "adata.raw = adata  # freeze the state in `.raw`\n",
    "nuf.peek_anndata(adata)"
   ]
  },
  {
   "cell_type": "markdown",
   "id": "5b59cb92-7804-4579-b615-1d6d1f59535b",
   "metadata": {},
   "source": [
    "## save the prepped anndata object"
   ]
  },
  {
   "cell_type": "code",
   "execution_count": null,
   "id": "a43d698e-71c1-4cc0-b680-992766ea8c41",
   "metadata": {},
   "outputs": [],
   "source": [
    "%%time\n",
    "adata.write(celltypist_in_file)"
   ]
  },
  {
   "cell_type": "markdown",
   "id": "a2363ab8-fa42-4918-8d59-32af9d04d424",
   "metadata": {},
   "source": [
    "## format the CellTypist command\n",
    "- for running on NIH HPC using Singulatiry"
   ]
  },
  {
   "cell_type": "code",
   "execution_count": null,
   "id": "3738d0a3-bac2-4153-9ca0-0a2f4df2a9cc",
   "metadata": {},
   "outputs": [],
   "source": [
    "for abbr, model_name in celltypist_models.items():\n",
    "    print(f'\\n### {model_name}')\n",
    "    this_cmd = (f'sinteractive --constraint=gpuk80 --gres=lscratch:10,gpu:k80:1 --mem=96g \\n'\n",
    "                'module load rapids-singlecell \\n'\n",
    "                'module load singularity \\n'\n",
    "                'cd /data/ADRD/brain_aging/phase2 \\n'\n",
    "                'singularity pull celltypist-latest.sif docker://quay.io/teichlab/celltypist:latest \\n'\n",
    "                'singularity run \\\\\\n'\n",
    "                '-B /data/ADRD/brain_aging/phase2:/data \\\\\\n'\n",
    "                'celltypist-latest.sif \\\\\\n'\n",
    "                f'celltypist --indata /data/quants/{project}_{modality}.celltypist.h5ad \\\\\\n'\n",
    "                f'--model {model_name}.pkl --majority-voting \\\\\\n'\n",
    "                f'--prefix {project}_{modality}_{abbr}_ --outdir /data/celltypist')\n",
    "    print(this_cmd)"
   ]
  },
  {
   "cell_type": "markdown",
   "id": "32c782fc-8d72-469e-b6c6-633838b5628d",
   "metadata": {},
   "source": [
    "## what are the predicted cell-type labels"
   ]
  },
  {
   "cell_type": "code",
   "execution_count": null,
   "id": "e1da0bed-107e-44c9-9831-9ad0a6a339ae",
   "metadata": {},
   "outputs": [],
   "source": [
    "for abbr, model_name in celltypist_models.items():\n",
    "    cell_typist_file = f'{celltypist_dir}/{project}_{modality}_{abbr}_predicted_labels.csv'\n",
    "    celltypist_pred = read_csv(cell_typist_file, index_col=0)\n",
    "    nuf.peek_dataframe(celltypist_pred, DEBUG)\n",
    "    if DEBUG:\n",
    "        print(f'{celltypist_pred.majority_voting.nunique()=}')\n",
    "        display(celltypist_pred.majority_voting.value_counts())\n",
    "        \n",
    "    plt.figure(figsize=(15, 20))\n",
    "    plt.style.use('seaborn-v0_8-talk')\n",
    "    barplot(data=celltypist_pred.majority_voting.value_counts().to_frame(), x='count', y='majority_voting')\n",
    "    plt.yticks(fontsize=11)\n",
    "    plt.title(f'{modality} {abbr}')\n",
    "    plt.show()        "
   ]
  },
  {
   "cell_type": "code",
   "execution_count": null,
   "id": "917be83d-6700-4d8c-9e17-98cdd7b6474b",
   "metadata": {},
   "outputs": [],
   "source": [
    "!date"
   ]
  }
 ],
 "metadata": {
  "kernelspec": {
   "display_name": "Python 3 (ipykernel)",
   "language": "python",
   "name": "python3"
  },
  "language_info": {
   "codemirror_mode": {
    "name": "ipython",
    "version": 3
   },
   "file_extension": ".py",
   "mimetype": "text/x-python",
   "name": "python",
   "nbconvert_exporter": "python",
   "pygments_lexer": "ipython3",
   "version": "3.12.2"
  }
 },
 "nbformat": 4,
 "nbformat_minor": 5
}
