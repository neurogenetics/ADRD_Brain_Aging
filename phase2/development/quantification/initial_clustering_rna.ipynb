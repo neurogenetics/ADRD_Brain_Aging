{
 "cells": [
  {
   "cell_type": "markdown",
   "metadata": {
    "id": "56KZeo3DBWfs"
   },
   "source": [
    "# Initial clustering of gene expression data with public reference data included\n",
    "\n",
    "Here initial clustering of the gene exprresion data, including public reference gene expression data, will be performed to group cells into clusters of broad cell-types"
   ]
  },
  {
   "cell_type": "code",
   "execution_count": null,
   "metadata": {
    "tags": []
   },
   "outputs": [],
   "source": [
    "!date"
   ]
  },
  {
   "cell_type": "markdown",
   "metadata": {},
   "source": [
    "#### import libraries"
   ]
  },
  {
   "cell_type": "code",
   "execution_count": null,
   "metadata": {
    "colab": {
     "base_uri": "https://localhost:8080/"
    },
    "id": "MLWcgWfSQ2mi",
    "outputId": "d9150926-06c3-46f3-9ab1-289fbc254908",
    "tags": []
   },
   "outputs": [],
   "source": [
    "import scvi\n",
    "from numpy import where\n",
    "import scanpy as sc\n",
    "from anndata import AnnData\n",
    "from anndata import concat as ad_concat\n",
    "from pandas import read_csv, concat, DataFrame, Series\n",
    "import matplotlib.pyplot as plt\n",
    "from matplotlib.pyplot import rc_context\n",
    "import torch\n",
    "from seaborn import lineplot\n",
    "from sklearn.metrics import silhouette_score\n",
    "from numpy import arange, mean\n",
    "\n",
    "import random\n",
    "random.seed(42)\n",
    "\n",
    "import warnings\n",
    "warnings.filterwarnings('ignore')\n",
    "\n",
    "scvi.settings.seed = 42\n",
    "\n",
    "%matplotlib inline\n",
    "# for white background of figures (only for docs rendering)\n",
    "%config InlineBackend.print_figure_kwargs={'facecolor' : \"w\"}\n",
    "%config InlineBackend.figure_format='retina'"
   ]
  },
  {
   "cell_type": "markdown",
   "metadata": {},
   "source": [
    "#### set notebook variables"
   ]
  },
  {
   "cell_type": "code",
   "execution_count": null,
   "metadata": {},
   "outputs": [],
   "source": [
    "# variables and constants\n",
    "project = 'aging_phase2'\n",
    "DEBUG = True\n",
    "MIN_CELL_PERCENT = 0.005\n",
    "MAX_MITO_PERCENT = 10\n",
    "TESTING = False\n",
    "testing_cell_size = 5000\n",
    "DETECT_HV_FEATURES = True\n",
    "FILTER_HV_FEATURES = True\n",
    "TOP_FEATURES_PERCENT = 0.15\n",
    "leiden_res = 1.0\n",
    "RUN_TRAINING = True\n",
    "BATCH_SIZE = 10000\n",
    "device = 'cuda' if torch.cuda.is_available() else 'cpu'\n",
    "\n",
    "# directories\n",
    "wrk_dir = '/labshare/raph/datasets/adrd_neuro/brain_aging/phase2'\n",
    "quants_dir = f'{wrk_dir}/quants'\n",
    "models_dir = f'{wrk_dir}/models'\n",
    "figures_dir = f'{wrk_dir}/figures'\n",
    "sc.settings.figdir = f'{figures_dir}/'\n",
    "public_dir = f'{wrk_dir}/public'\n",
    "celltypist_dir = f'{wrk_dir}/celltypist'\n",
    "\n",
    "# in files\n",
    "arc_file = f'{quants_dir}/{project}_ARC.raw.h5ad'\n",
    "arc_celltypist_file = f'{celltypist_dir}/{project}_ARC_MTG_predicted_labels.csv'\n",
    "arc_scrublet_file = f'{quants_dir}/{project}_ARC.scrublet_scores.csv'\n",
    "gex_file = f'{quants_dir}/{project}_GEX.raw.h5ad'\n",
    "gex_celltypist_file = f'{celltypist_dir}/{project}_GEX_MTG_predicted_labels.csv'\n",
    "gex_scrublet_file = f'{quants_dir}/{project}_GEX.scrublet_scores.csv'\n",
    "\n",
    "# out files\n",
    "raw_anndata_file =f'{quants_dir}/{project}.dev.rna.raw.h5ad'\n",
    "out_h5ad_file = f'{quants_dir}/{project}.dev.scvi.h5ad'\n",
    "trained_model_path = f'{models_dir}/{project}_dev_trained_scvi'\n",
    "\n",
    "if DEBUG:\n",
    "    print(f'{arc_file=}')\n",
    "    print(f'{arc_scrublet_file=}')\n",
    "    print(f'{gex_file=}')\n",
    "    print(f'{gex_scrublet_file=}')\n",
    "    print(f'{arc_celltypist_file=}')\n",
    "    print(f'{gex_celltypist_file=}')\n",
    "    print(f'{device=}')"
   ]
  },
  {
   "cell_type": "markdown",
   "metadata": {},
   "source": [
    "#### functions"
   ]
  },
  {
   "cell_type": "code",
   "execution_count": null,
   "metadata": {},
   "outputs": [],
   "source": [
    "def peek_anndata(adata: AnnData, message: str=None, verbose: bool=False):\n",
    "    if not message is None and len(message) > 0:\n",
    "        print(message)\n",
    "    print(adata)\n",
    "    if verbose:\n",
    "        display(adata.obs.head())\n",
    "        display(adata.var.head())\n",
    "\n",
    "def peek_dataframe(df: DataFrame, message: str=None, verbose: bool=False):\n",
    "    if not message is None and len(message) > 0:\n",
    "        print(message)\n",
    "    print(f'{df.shape=}')\n",
    "    if verbose:\n",
    "        display(df.head())\n",
    "\n",
    "def heatmap_compare(adata: AnnData, set1: str, set2: str):\n",
    "    this_df = (\n",
    "        adata.obs.groupby([set1, set2])\n",
    "        .size()\n",
    "        .unstack(fill_value=0)\n",
    "    )\n",
    "    norm_df = this_df/this_df.sum(axis=0)\n",
    "\n",
    "    with rc_context({'figure.figsize': (12, 12), 'figure.dpi': 100}):\n",
    "        plt.style.use('seaborn-v0_8-bright')\n",
    "        _ = plt.pcolor(norm_df, edgecolor='black')\n",
    "        _ = plt.xticks(arange(0.5, len(this_df.columns), 1), this_df.columns, rotation=90)\n",
    "        _ = plt.yticks(arange(0.5, len(this_df.index), 1), this_df.index)\n",
    "        plt.xlabel(set2)\n",
    "        plt.ylabel(set1)\n",
    "        plt.show()"
   ]
  },
  {
   "cell_type": "markdown",
   "metadata": {
    "id": "tbQ8zbhVP8D6"
   },
   "source": [
    "## load data"
   ]
  },
  {
   "cell_type": "markdown",
   "metadata": {
    "id": "Aap3V-9dOoqS"
   },
   "source": [
    "### load ARC data"
   ]
  },
  {
   "cell_type": "code",
   "execution_count": null,
   "metadata": {
    "colab": {
     "base_uri": "https://localhost:8080/"
    },
    "id": "GPo6vQ9zWuY-",
    "outputId": "9d02d562-7874-4d88-aace-f1756bf84167"
   },
   "outputs": [],
   "source": [
    "%%time\n",
    "arc_data = sc.read_h5ad(arc_file)\n",
    "# discovery data from Duffy\n",
    "arc_data.obs['Study'] = 'LNG'\n",
    "arc_data.obs['Study_type'] = 'discovery'\n",
    "peek_anndata(arc_data, 'ARC anndata loaded', DEBUG)"
   ]
  },
  {
   "cell_type": "code",
   "execution_count": null,
   "metadata": {},
   "outputs": [],
   "source": [
    "# load and add the Celltypist human MTG predicted cell-labels\n",
    "arc_celltypist_pred = read_csv(arc_celltypist_file, index_col=0)\n",
    "peek_dataframe(arc_celltypist_pred, 'ARC CellTypist predictions', DEBUG)\n",
    "arc_data.obs['ori_celltype'] = arc_data.obs.index.map(arc_celltypist_pred['majority_voting'])\n",
    "peek_anndata(arc_data, 'ARC anndata updated with CellTypist predictions', DEBUG)\n",
    "if DEBUG:\n",
    "    display(arc_data.obs.ori_celltype.value_counts())\n",
    "    display(arc_celltypist_pred.majority_voting.value_counts())"
   ]
  },
  {
   "cell_type": "code",
   "execution_count": null,
   "metadata": {},
   "outputs": [],
   "source": [
    "arc_srublet_df = read_csv(arc_scrublet_file, index_col=0)\n",
    "print(f'shape of ARC scrublet df {arc_srublet_df.shape}')\n",
    "if DEBUG:\n",
    "    display(arc_srublet_df.predicted_doublet.value_counts())    \n",
    "    display(arc_srublet_df.sample(5))"
   ]
  },
  {
   "cell_type": "markdown",
   "metadata": {},
   "source": [
    "### drop the ATAC features"
   ]
  },
  {
   "cell_type": "code",
   "execution_count": null,
   "metadata": {},
   "outputs": [],
   "source": [
    "arc_data = arc_data[:, arc_data.var.modality == 'Gene Expression'].copy()\n",
    "peek_anndata(arc_data, 'just the gene expression', DEBUG)"
   ]
  },
  {
   "cell_type": "markdown",
   "metadata": {},
   "source": [
    "### load GEX data"
   ]
  },
  {
   "cell_type": "code",
   "execution_count": null,
   "metadata": {},
   "outputs": [],
   "source": [
    "%%time\n",
    "gex_data = sc.read_h5ad(gex_file)\n",
    "print(gex_data)\n",
    "# filter non-demultiplex cells\n",
    "gex_data = gex_data[~gex_data.obs['donor_id'].isna()]\n",
    "# discovery data from Duffy\n",
    "gex_data.obs['Study'] = 'LNG'\n",
    "gex_data.obs['Study_type'] = 'discovery'\n",
    "peek_anndata(gex_data, 'GEX anndata loaded', DEBUG)"
   ]
  },
  {
   "cell_type": "code",
   "execution_count": null,
   "metadata": {},
   "outputs": [],
   "source": [
    "# load and add the Celltypist human MTG predicted cell-labels\n",
    "gex_celltypist_pred = read_csv(gex_celltypist_file, index_col=0)\n",
    "peek_dataframe(arc_celltypist_pred, 'GEX CellTypist predictions', DEBUG)\n",
    "gex_data.obs['ori_celltype'] = gex_data.obs.index.map(gex_celltypist_pred['majority_voting'])\n",
    "peek_anndata(gex_data, 'GEX anndata updated with CellTypist predictions', DEBUG)\n",
    "if DEBUG:\n",
    "    display(gex_data.obs.ori_celltype.value_counts())\n",
    "    display(gex_celltypist_pred.majority_voting.value_counts())"
   ]
  },
  {
   "cell_type": "code",
   "execution_count": null,
   "metadata": {},
   "outputs": [],
   "source": [
    "gex_srublet_df = read_csv(gex_scrublet_file, index_col=0)\n",
    "print(f'shape of GEX scrublet df {gex_srublet_df.shape}')\n",
    "if DEBUG:\n",
    "    display(gex_srublet_df.predicted_doublet.value_counts())    \n",
    "    display(gex_srublet_df.sample(5))"
   ]
  },
  {
   "cell_type": "markdown",
   "metadata": {},
   "source": [
    "#### filter any of the addtional non-genotype predicted doublets\n",
    "\n",
    "the doublets detected based on genotype using demux to demultiplex the GEX pools have already been removed"
   ]
  },
  {
   "cell_type": "code",
   "execution_count": null,
   "metadata": {},
   "outputs": [],
   "source": [
    "# ARC\n",
    "non_doublet_barcodes = arc_srublet_df.loc[~arc_srublet_df.predicted_doublet].index.values\n",
    "arc_data = arc_data[arc_data.obs.index.isin(non_doublet_barcodes)]\n",
    "# GEX\n",
    "non_doublet_barcodes = gex_srublet_df.loc[~gex_srublet_df.predicted_doublet].index.values\n",
    "gex_data = gex_data[gex_data.obs.index.isin(non_doublet_barcodes)]\n",
    "print(f'ARC: {arc_data}')\n",
    "print(f'GEX: {gex_data}')\n",
    "if DEBUG:\n",
    "    display(arc_data.obs.sample(5))\n",
    "    display(gex_data.obs.sample(5))    "
   ]
  },
  {
   "cell_type": "markdown",
   "metadata": {},
   "source": [
    "## load public reference GEX data\n",
    "Leng et al, entorhinal cortex samples only keep the Braak Stage 0 samples (n=3)"
   ]
  },
  {
   "cell_type": "code",
   "execution_count": null,
   "metadata": {},
   "outputs": [],
   "source": [
    "%%time\n",
    "ec_file = f'{public_dir}/cellxgene_collections/Leng_entorhinal_cortex.h5ad'\n",
    "adata_ref_ec = sc.read_h5ad(ec_file)\n",
    "# retain original barcode\n",
    "adata_ref_ec.obs['Barcode'] = adata_ref_ec.obs.index.astype('category')\n",
    "# filter by Braak Stage\n",
    "adata_ref_ec = adata_ref_ec[adata_ref_ec.obs.BraakStage == '0']\n",
    "# reference data from Leng\n",
    "adata_ref_ec.obs['Study'] = 'Leng'\n",
    "adata_ref_ec.obs['Study_type'] = 'reference'\n",
    "peek_anndata(adata_ref_ec, 'Leng et al adata', DEBUG)"
   ]
  },
  {
   "cell_type": "markdown",
   "metadata": {},
   "source": [
    "### Other public EC prepped by Liam"
   ]
  },
  {
   "cell_type": "code",
   "execution_count": null,
   "metadata": {},
   "outputs": [],
   "source": [
    "%%time\n",
    "pub_ec_file = f'{public_dir}/EC_merged_cleaned_NAMED.h5ad'\n",
    "print(f'{pub_ec_file=}')\n",
    "adata_pub_ec = sc.read_h5ad(pub_ec_file)\n",
    "# exclude our study's data, for now also exclude Mathys until I can separate cases out\n",
    "adata_pub_ec = adata_pub_ec[adata_pub_ec.obs.dataset != 'Duffy']\n",
    "peek_anndata(adata_pub_ec, 'public EC prepped by Liam adata', DEBUG)\n",
    "if DEBUG:\n",
    "    display(adata_pub_ec.obs.dataset.value_counts())\n",
    "    display(adata_pub_ec.obs.region.value_counts())\n",
    "    print(f'{adata_pub_ec.obs.groupby('dataset').donor.nunique()=}')    "
   ]
  },
  {
   "cell_type": "code",
   "execution_count": null,
   "metadata": {},
   "outputs": [],
   "source": [
    "# # restore the raw counts\n",
    "# adata_pub_ec.X = adata_pub_ec.layers['counts_RNA']\n",
    "# peek_anndata(adata_pub_ec, 'public EC with counts restored', DEBUG)"
   ]
  },
  {
   "cell_type": "code",
   "execution_count": null,
   "metadata": {},
   "outputs": [],
   "source": [
    "# load additional donor info\n",
    "pub_ec_info_df = read_csv(f'{public_dir}/EC_merged_cleaned_donor_info.csv')\n",
    "rosmap_info_df = read_csv(f'{public_dir}/EC_merged_mathys_info.csv')\n",
    "\n",
    "peek_dataframe(pub_ec_info_df, 'EC donor info', DEBUG)\n",
    "# append additional donor info\n",
    "pub_ec_info_df.sex = pub_ec_info_df.sex.replace({'M': 'male', 'F': 'female'})\n",
    "pub_ec_info_df.age = pub_ec_info_df.age.replace('90+', '91').astype('int')\n",
    "adata_pub_ec.obs['age'] = adata_pub_ec.obs.donor.map(pub_ec_info_df.set_index('donor')['age'])\n",
    "adata_pub_ec.obs['sex'] = adata_pub_ec.obs.donor.map(pub_ec_info_df.set_index('donor')['sex'])\n",
    "peek_anndata(adata_pub_ec, 'public EC with additional obs values', DEBUG)\n",
    "\n",
    "peek_dataframe(rosmap_info_df, 'ROSMAP donor info', DEBUG)\n",
    "# find the ROSMAP samples with path to exclude\n",
    "display(rosmap_info_df.Braak_group.value_counts())\n",
    "path_samples = rosmap_info_df.loc[rosmap_info_df.Braak_group == '2+'].Donor.to_list()\n",
    "path_samples = list(map(str, path_samples))\n",
    "if DEBUG:\n",
    "    print(path_samples)"
   ]
  },
  {
   "cell_type": "code",
   "execution_count": null,
   "metadata": {},
   "outputs": [],
   "source": [
    "# exclude the ROSMAP that have BRAAK of 2+\n",
    "adata_pub_ec = adata_pub_ec[~adata_pub_ec.obs.donor.isin(path_samples)]\n",
    "peek_anndata(adata_pub_ec, 'public EC without pathology', DEBUG)\n",
    "if DEBUG:\n",
    "    display(adata_pub_ec.obs.dataset.value_counts())\n",
    "    display(adata_pub_ec.obs.region.value_counts())\n",
    "    print(f'{adata_pub_ec.obs.groupby('dataset').donor.nunique()=}')   "
   ]
  },
  {
   "cell_type": "markdown",
   "metadata": {},
   "source": [
    "#### switch var attribute to use gene name instead of ID"
   ]
  },
  {
   "cell_type": "code",
   "execution_count": null,
   "metadata": {},
   "outputs": [],
   "source": [
    "adata_ref_ec.var['gene_id'] = adata_ref_ec.var.index.astype('category')\n",
    "adata_ref_ec.var.index = adata_ref_ec.var.feature_name\n",
    "if DEBUG:\n",
    "    display(adata_ref_ec.var.head(10))"
   ]
  },
  {
   "cell_type": "code",
   "execution_count": null,
   "metadata": {},
   "outputs": [],
   "source": [
    "# try to clean up the var for the other public EC which is a mix of gene names and gene IDs\n",
    "adata_pub_ec.var = adata_pub_ec.var.rename(columns={'names': 'feature_name'})\n",
    "adata_pub_ec.var['gene_id'] = where(adata_pub_ec.var.feature_name.str.startswith('ENSG00'), \n",
    "                        adata_pub_ec.var.feature_name, 'missing')\n",
    "adata_pub_ec.var['feature_name'] = where(adata_pub_ec.var.feature_name.str.startswith('ENSG00'), \n",
    "                        'missing', adata_pub_ec.var.feature_name)\n",
    "# use the ref_ec's var info to clean up the pub_ec's var\n",
    "ref_ec_var = adata_ref_ec.var.copy().set_index('feature_name')[ 'gene_id']\n",
    "adata_pub_ec.var.loc[adata_pub_ec.var.gene_id == 'missing', 'gene_id'] = adata_pub_ec.var.feature_name.map(ref_ec_var)\n",
    "ref_ec_var = adata_ref_ec.var.copy().set_index('gene_id')[ 'feature_name']\n",
    "adata_pub_ec.var.loc[adata_pub_ec.var.feature_name == 'missing', 'feature_name'] = adata_pub_ec.var.gene_id.map(ref_ec_var)\n",
    "with_missing = adata_pub_ec.var[adata_pub_ec.var.isnull().any(axis=1)]\n",
    "print(f'{with_missing.shape=}')\n",
    "adata_pub_ec = adata_pub_ec[:, ~adata_pub_ec.var.index.isin(with_missing.index)]\n",
    "adata_pub_ec.var = adata_pub_ec.var.set_index('feature_name')\n",
    "peek_anndata(adata_pub_ec, 'public EC with updated var', DEBUG)"
   ]
  },
  {
   "cell_type": "markdown",
   "metadata": {},
   "source": [
    "### harmonize Leng et al reference data obs"
   ]
  },
  {
   "cell_type": "code",
   "execution_count": null,
   "metadata": {},
   "outputs": [],
   "source": [
    "adata_ref_ec.obs['age'] = (adata_ref_ec.obs.development_stage.str.replace('-year-old human stage','')\n",
    ".str.replace(' year-old and over human stage',''))\n",
    "drop_cols = ['donor_id', 'BraakStage', 'nUMI', 'nGene', 'initialClusterAssignments', \n",
    "             'cell_type', 'tissue_ontology_term_id', 'cell_type_ontology_term_id', \n",
    "             'assay_ontology_term_id', 'disease_ontology_term_id', \n",
    "             'self_reported_ethnicity_ontology_term_id', 'development_stage_ontology_term_id', \n",
    "             'is_primary_data', 'organism_ontology_term_id', 'suspension_type', \n",
    "             'cell_type', 'assay', 'disease', 'organism', 'self_reported_ethnicity', \n",
    "             'seurat.clusters', 'sex_ontology_term_id', 'development_stage', 'tissue', 'Barcode']\n",
    "adata_ref_ec.obs = adata_ref_ec.obs.drop(columns=drop_cols)\n",
    "adata_ref_ec.obs = adata_ref_ec.obs.rename(columns={'SampleID': 'sample_id', \n",
    "                                                'SampleBatch': 'gex_pool', \n",
    "                                                'clusterAssignment': 'ori_cluster', \n",
    "                                                'clusterCellType': 'ori_celltype'})\n",
    "drop_cols = ['feature_is_filtered', 'feature_name', 'feature_reference', 'feature_biotype']\n",
    "adata_ref_ec.var = adata_ref_ec.var.drop(columns=drop_cols)\n",
    "# drop any gene's that aren't in our GEX\n",
    "intersect_features = gex_data.var.index.intersection(adata_ref_ec.var.index)\n",
    "adata_ref_ec = adata_ref_ec[:, intersect_features]\n",
    "adata_ref_ec.obsm = None\n",
    "\n",
    "if DEBUG:\n",
    "    display(adata_ref_ec.obs.sample(10))\n",
    "    display(adata_ref_ec.var.sample(10))"
   ]
  },
  {
   "cell_type": "markdown",
   "metadata": {},
   "source": [
    "### harmonize the other EC data"
   ]
  },
  {
   "cell_type": "code",
   "execution_count": null,
   "metadata": {},
   "outputs": [],
   "source": [
    "drop_cols = ['nCount_RNA', 'nFeature_RNA', 'pct.mito']\n",
    "adata_pub_ec.obs = adata_pub_ec.obs.drop(columns=drop_cols)\n",
    "adata_pub_ec.obs = adata_pub_ec.obs.rename(columns={'donor': 'sample_id', \n",
    "                                                'region': 'gex_pool', \n",
    "                                                'subcluster': 'ori_cluster', \n",
    "                                                'broad_celltype': 'ori_celltype', \n",
    "                                                    'dataset': 'Study'})\n",
    "# go ahead and set the cluster to the celltype for this data\n",
    "adata_pub_ec.obs['ori_celltype'] = adata_pub_ec.obs['ori_cluster']\n",
    "adata_pub_ec.obs['Study_type'] = 'reference'\n",
    "# drop any gene's that aren't in our GEX\n",
    "intersect_features = gex_data.var.index.intersection(adata_pub_ec.var.index)\n",
    "adata_pub_ec = adata_pub_ec[:, intersect_features]\n",
    "adata_pub_ec.obsm = None\n",
    "\n",
    "peek_anndata(adata_pub_ec, 'public EC with updated harmonize obs', DEBUG)"
   ]
  },
  {
   "cell_type": "markdown",
   "metadata": {},
   "source": [
    "## combine the discovery and reference GEX data"
   ]
  },
  {
   "cell_type": "code",
   "execution_count": null,
   "metadata": {},
   "outputs": [],
   "source": [
    "adata_gex = ad_concat([arc_data, gex_data, adata_ref_ec, adata_pub_ec], join='outer')\n",
    "adata_gex.obs_names_make_unique()\n",
    "peek_anndata(adata_gex, 'combined GEX anndata', DEBUG)"
   ]
  },
  {
   "cell_type": "markdown",
   "metadata": {},
   "source": [
    "## if testing notebook subset the cells"
   ]
  },
  {
   "cell_type": "code",
   "execution_count": null,
   "metadata": {},
   "outputs": [],
   "source": [
    "def random_cells_subset(adata: AnnData, num_cells: int=5000, \n",
    "                        verbose: bool=False) -> AnnData:\n",
    "    cells_subset = random.sample(list(adata.obs.index.values), num_cells)\n",
    "    adata = adata[cells_subset]\n",
    "    if DEBUG:\n",
    "        print(adata)        \n",
    "        display(adata.obs.sample(5))\n",
    "    return adata\n",
    "\n",
    "if TESTING:\n",
    "    adata_gex = random_cells_subset(adata_gex, verbose=DEBUG)"
   ]
  },
  {
   "cell_type": "markdown",
   "metadata": {},
   "source": [
    "#### clean up the obs as needed\n",
    "the ARC samples are pooled but will use pool info as categorical variable so make one for non-pooled samples\n",
    "drop the batch ID"
   ]
  },
  {
   "cell_type": "code",
   "execution_count": null,
   "metadata": {},
   "outputs": [],
   "source": [
    "if DEBUG:\n",
    "    display(adata_gex.obs.gex_pool.value_counts())\n",
    "    \n",
    "# convert the age obs attribute feature to float from string\n",
    "adata_gex.obs.age = adata_gex.obs.age.astype('float')\n",
    "    \n",
    "adata_gex.obs.gex_pool = adata_gex.obs.gex_pool.fillna('non')\n",
    "adata_gex.obs.gex_pool = adata_gex.obs.gex_pool.astype('str')\n",
    "\n",
    "adata_gex.obs.phase1_cluster = adata_gex.obs.phase1_cluster.cat.add_categories(['phase2'])\n",
    "adata_gex.obs.phase1_celltype = adata_gex.obs.phase1_celltype.cat.add_categories(['phase2'])\n",
    "adata_gex.obs.phase1_cluster = where(adata_gex.obs.phase1_cluster == 'NA', \n",
    "                                     'phase2', adata_gex.obs.phase1_cluster)\n",
    "adata_gex.obs.phase1_celltype = where(adata_gex.obs.phase1_celltype == 'NA', \n",
    "                                     'phase2', adata_gex.obs.phase1_celltype)\n",
    "\n",
    "if DEBUG:\n",
    "    display(adata_gex.obs.sample(10))\n",
    "    display(adata_gex.obs.gex_pool.value_counts())\n",
    "    display(adata_gex.obs.phase1_cluster.value_counts())\n",
    "    display(adata_gex.obs.phase1_celltype.value_counts())\n",
    "    display(adata_gex.obs.ori_celltype.value_counts())"
   ]
  },
  {
   "cell_type": "markdown",
   "metadata": {},
   "source": [
    "## save the organized but unprocessed anndata object note that the subject is in the obs"
   ]
  },
  {
   "cell_type": "code",
   "execution_count": null,
   "metadata": {},
   "outputs": [],
   "source": [
    "%%time\n",
    "adata_gex.write(raw_anndata_file)"
   ]
  },
  {
   "cell_type": "code",
   "execution_count": null,
   "metadata": {},
   "outputs": [],
   "source": [
    "peek_anndata(adata_gex, f'GEX anndata that was just saved to {raw_anndata_file}', DEBUG)"
   ]
  },
  {
   "cell_type": "markdown",
   "metadata": {},
   "source": [
    "## perform some typical pre-processing"
   ]
  },
  {
   "cell_type": "markdown",
   "metadata": {
    "id": "Q4b1f0mwldGn"
   },
   "source": [
    "We also filter features to remove those that appear in fewer than MIN% of the cells"
   ]
  },
  {
   "cell_type": "code",
   "execution_count": null,
   "metadata": {
    "colab": {
     "base_uri": "https://localhost:8080/"
    },
    "id": "FUhG037lWtYQ",
    "outputId": "96c29ddb-b7a4-432e-f3f3-8f2318830154"
   },
   "outputs": [],
   "source": [
    "%%time\n",
    "print(adata_gex.shape)\n",
    "# annotate the group of mitochondrial genes as 'mt'\n",
    "adata_gex.var['mt'] = adata_gex.var_names.str.startswith('MT-')  \n",
    "# ribosomal genes\n",
    "adata_gex.var['ribo'] = adata_gex.var_names.str.startswith(('RPS', 'RPL'))\n",
    "# hemoglobin genes\n",
    "adata_gex.var['hb'] = adata_gex.var_names.str.contains('^HB[^(P)]')\n",
    "\n",
    "# With pp.calculate_qc_metrics, we can compute many metrics very efficiently.\n",
    "sc.pp.calculate_qc_metrics(adata_gex, qc_vars=['mt', 'ribo', 'hb'], \n",
    "                           inplace=True, log1p=True)\n",
    "adata_gex = adata_gex[adata_gex.obs.pct_counts_mt < MAX_MITO_PERCENT, :]\n",
    "# Basic filtering:\n",
    "sc.pp.filter_cells(adata_gex, min_genes=200)\n",
    "sc.pp.filter_genes(adata_gex, min_cells=int(adata_gex.shape[0] * MIN_CELL_PERCENT))\n",
    "\n",
    "peek_anndata(adata_gex, f'GEX anndata with QC metrics', DEBUG)"
   ]
  },
  {
   "cell_type": "markdown",
   "metadata": {},
   "source": [
    "#### if flag set then subset to highest variance features\n",
    "\n",
    "MultiVI tutorial doesn't suggest this so probably typically will set to false"
   ]
  },
  {
   "cell_type": "code",
   "execution_count": null,
   "metadata": {},
   "outputs": [],
   "source": [
    "if DETECT_HV_FEATURES:\n",
    "    n_top_genes = int(adata_gex.n_vars * TOP_FEATURES_PERCENT)\n",
    "    sc.pp.highly_variable_genes(adata_gex, n_top_genes=n_top_genes, \n",
    "                                batch_key='gex_pool',flavor='seurat_v3', \n",
    "                                subset=FILTER_HV_FEATURES)                                \n",
    "    peek_anndata(adata_gex, f'GEX anndata only HVF', DEBUG)"
   ]
  },
  {
   "cell_type": "markdown",
   "metadata": {
    "id": "-puYqefZn_0P"
   },
   "source": [
    "## Setup and Training scVI model"
   ]
  },
  {
   "cell_type": "code",
   "execution_count": null,
   "metadata": {
    "colab": {
     "base_uri": "https://localhost:8080/"
    },
    "id": "Gx9DJc2WoGpz",
    "outputId": "478986e4-73fc-4e13-94e4-50bccdf235b1"
   },
   "outputs": [],
   "source": [
    "scvi.model.SCVI.setup_anndata(adata_gex, batch_key='sample_id',\n",
    "                              categorical_covariate_keys = ['gex_pool'],\n",
    "                              continuous_covariate_keys=['pct_counts_mt', 'pct_counts_ribo'],)"
   ]
  },
  {
   "cell_type": "code",
   "execution_count": null,
   "metadata": {
    "colab": {
     "base_uri": "https://localhost:8080/"
    },
    "id": "hu7B7zq2oGnB",
    "outputId": "68fc36c7-539b-4696-badc-55861c457c54"
   },
   "outputs": [],
   "source": [
    "model = scvi.model.SCVI(adata_gex)\n",
    "print(model)"
   ]
  },
  {
   "cell_type": "code",
   "execution_count": null,
   "metadata": {},
   "outputs": [],
   "source": [
    "%%time\n",
    "if RUN_TRAINING:\n",
    "    model.train()"
   ]
  },
  {
   "cell_type": "markdown",
   "metadata": {
    "id": "SW1yKwds27ez"
   },
   "source": [
    "## Save and Load MultiVI models\n",
    "\n",
    "Saving and loading models is similar to all other scvi-tools models, and is very straight forward:"
   ]
  },
  {
   "cell_type": "code",
   "execution_count": null,
   "metadata": {
    "id": "GqwA7o2l6u8D"
   },
   "outputs": [],
   "source": [
    "if RUN_TRAINING:\n",
    "    model.save(trained_model_path, overwrite=True)"
   ]
  },
  {
   "cell_type": "code",
   "execution_count": null,
   "metadata": {
    "colab": {
     "base_uri": "https://localhost:8080/"
    },
    "id": "TI8han7vNAWh",
    "outputId": "1337010c-2895-42b9-8927-4a3caa8dac6f"
   },
   "outputs": [],
   "source": [
    "model = scvi.model.SCVI.load(trained_model_path, adata=adata_gex, accelerator='gpu')\n",
    "print(model)"
   ]
  },
  {
   "cell_type": "markdown",
   "metadata": {
    "id": "5ylbf6OZ3YMH"
   },
   "source": [
    "## Extracting and visualizing the latent space\n",
    "\n",
    "We can now use the `get_latent_representation` to get the latent space from the trained model, and visualize it using scanpy functions:"
   ]
  },
  {
   "cell_type": "code",
   "execution_count": null,
   "metadata": {
    "colab": {
     "base_uri": "https://localhost:8080/",
     "height": 333
    },
    "id": "IZFSzWEboGcP",
    "outputId": "5c9451ff-b6ad-47b5-90e1-46359b027dd3",
    "tags": []
   },
   "outputs": [],
   "source": [
    "%%time\n",
    "adata_gex.obsm['scvi_latent'] = model.get_latent_representation()"
   ]
  },
  {
   "cell_type": "markdown",
   "metadata": {},
   "source": [
    "#### embed the graph based on latent representation"
   ]
  },
  {
   "cell_type": "code",
   "execution_count": null,
   "metadata": {},
   "outputs": [],
   "source": [
    "%%time\n",
    "sc.pp.neighbors(adata_gex, use_rep='scvi_latent')\n",
    "# sc.tl.umap(adata_gex, min_dist=0.3)\n",
    "sc.tl.umap(adata_gex)"
   ]
  },
  {
   "cell_type": "markdown",
   "metadata": {},
   "source": [
    "#### visualize the latent representation"
   ]
  },
  {
   "cell_type": "code",
   "execution_count": null,
   "metadata": {},
   "outputs": [],
   "source": [
    "with rc_context({'figure.figsize': (8, 8), 'figure.dpi': 100}):\n",
    "    plt.style.use('seaborn-v0_8-talk')\n",
    "    sc.pl.umap(adata_gex, color=['sample_id'])\n",
    "    sc.pl.umap(adata_gex, color=['Study'])\n",
    "    sc.pl.umap(adata_gex, color=['ori_celltype'], frameon=False, \n",
    "               legend_loc='on data')\n",
    "    sc.pl.umap(adata_gex, color=['phase1_celltype'], frameon=False, \n",
    "               legend_loc='on data')  "
   ]
  },
  {
   "cell_type": "markdown",
   "metadata": {},
   "source": [
    "### Clustering on the scVI latent space\n",
    "The user will note that we imported curated labels from the original publication. Our interface with scanpy makes it easy to cluster the data with scanpy from scVI's latent space and then reinject them into scVI (e.g., for differential expression)."
   ]
  },
  {
   "cell_type": "code",
   "execution_count": null,
   "metadata": {},
   "outputs": [],
   "source": [
    "%%time\n",
    "# neighbors were already computed using scVI\n",
    "sc.tl.leiden(adata_gex, key_added='leiden_scvi', resolution=0.6, flavor='igraph', n_iterations=2)"
   ]
  },
  {
   "cell_type": "markdown",
   "metadata": {},
   "source": [
    "#### check range of Leiden resolutions for clustering"
   ]
  },
  {
   "cell_type": "code",
   "execution_count": null,
   "metadata": {},
   "outputs": [],
   "source": [
    "%%time\n",
    "resolutions_to_try = arange(0.3, 0.8, 0.1)\n",
    "print(resolutions_to_try)\n",
    "mean_scores = {}\n",
    "largest_score = 0\n",
    "best_res = 0\n",
    "new_leiden_key = 'leiden_scvi'\n",
    "for leiden_res in resolutions_to_try:\n",
    "    # use only 2 decimals\n",
    "    leiden_res = round(leiden_res, 2)    \n",
    "    print(f'### using Leiden resolution of {leiden_res}')\n",
    "    # neighbors were already computed using scVI\n",
    "    sc.tl.leiden(adata_gex, key_added=new_leiden_key, resolution=leiden_res, flavor='igraph', n_iterations=2)\n",
    "    silhouette_avg = silhouette_score(adata_gex.obsm['scvi_latent'], adata_gex.obs[new_leiden_key])\n",
    "    print((f'For res = {leiden_res:.2f}, average silhouette: {silhouette_avg:.3f} '\n",
    "           f'for {adata_gex.obs[new_leiden_key].nunique()} clusters'))\n",
    "    # mean sample count per cluster\n",
    "    df_grouped = adata_gex.obs.groupby(new_leiden_key)['sample_id'].count()\n",
    "    mean_sample_per_cluster = df_grouped.mean()\n",
    "    # mean cell count per cluster\n",
    "    df_grouped = adata_gex.obs[new_leiden_key].value_counts()\n",
    "    mean_cell_per_cluster = df_grouped.mean()        \n",
    "    mean_scores[leiden_res] = [silhouette_avg, adata_gex.obs[new_leiden_key].nunique(), \n",
    "                               mean_sample_per_cluster, mean_cell_per_cluster]\n",
    "    # update best resolution info\n",
    "    if silhouette_avg > largest_score:\n",
    "        largest_score = silhouette_avg\n",
    "        best_res = leiden_res"
   ]
  },
  {
   "cell_type": "code",
   "execution_count": null,
   "metadata": {},
   "outputs": [],
   "source": [
    "scores_df = DataFrame(index=mean_scores.keys(), data=mean_scores.values())\n",
    "scores_df.columns = ['score', 'num_clusters', 'mean_samples', 'mean_cells']\n",
    "print('max score at')\n",
    "best_result = scores_df.loc[scores_df.score == scores_df.score.max()]\n",
    "display(best_result)\n",
    "best_resolution = best_result.index.values[0]\n",
    "print(f'best resolution found at {best_resolution}')\n",
    "if DEBUG:\n",
    "    display(scores_df)\n",
    "fig_filename = f'{figures_dir}/leiden_resolution_silhouette_score.png'\n",
    "with rc_context({'figure.figsize': (8, 8), 'figure.dpi': 100}):\n",
    "    plt.style.use('seaborn-v0_8-talk')\n",
    "    lineplot(x=scores_df.index, y='score', data=scores_df)\n",
    "    plt.xlabel('resolution')\n",
    "    plt.savefig(fig_filename)\n",
    "    plt.show()\n",
    "lineplot(x=scores_df.index, y='num_clusters', data=scores_df)\n",
    "plt.xlabel('resolution')\n",
    "plt.show()\n",
    "lineplot(x=scores_df.index, y='mean_samples', data=scores_df)\n",
    "plt.xlabel('resolution')\n",
    "plt.show()\n",
    "lineplot(x=scores_df.index, y='mean_cells', data=scores_df)\n",
    "plt.xlabel('resolution')\n",
    "plt.show()"
   ]
  },
  {
   "cell_type": "code",
   "execution_count": null,
   "metadata": {},
   "outputs": [],
   "source": [
    "best_resolution = round(best_resolution, 2)\n",
    "print(f'{best_resolution=}')\n",
    "sc.tl.leiden(adata_gex, key_added='leiden_scvi', resolution=best_resolution, flavor='igraph', n_iterations=2)"
   ]
  },
  {
   "cell_type": "markdown",
   "metadata": {},
   "source": [
    "### visualize the clusters"
   ]
  },
  {
   "cell_type": "code",
   "execution_count": null,
   "metadata": {},
   "outputs": [],
   "source": [
    "# figure_file = f'_{project}.umap.leiden_on.png'\n",
    "with rc_context({'figure.figsize': (8, 8), 'figure.dpi': 400}):\n",
    "    plt.style.use('seaborn-v0_8-talk')\n",
    "    sc.pl.umap(adata_gex, color=['leiden_scvi'], frameon=False, \n",
    "               legend_loc='on data')   \n",
    "    sc.pl.umap(adata_gex, color=['Study'], frameon=False)\n",
    "    sc.pl.umap(adata_gex, color=['ori_celltype'], \n",
    "               frameon=False, legend_loc='on data')\n",
    "    sc.pl.umap(adata_gex, color=['age'], frameon=False)\n",
    "    sc.pl.umap(adata_gex, color=['phase1_celltype'], \n",
    "               frameon=False, legend_loc='on data')"
   ]
  },
  {
   "cell_type": "markdown",
   "metadata": {},
   "source": [
    "## what would the new cluster labels be"
   ]
  },
  {
   "cell_type": "code",
   "execution_count": null,
   "metadata": {},
   "outputs": [],
   "source": [
    "adata_gex.obs['new_cluster_name'] = 'unnamed'\n",
    "for cluster in adata_gex.obs.leiden_scvi.unique():\n",
    "    this_cluster = adata_gex.obs.loc[adata_gex.obs.leiden_scvi == cluster]\n",
    "    cell_type_cnts = this_cluster.ori_celltype.value_counts()\n",
    "    percentages = (cell_type_cnts / cell_type_cnts.sum()) * 100\n",
    "    print(f'\\n###{cluster=}')\n",
    "    cell_type_cnts = cell_type_cnts.to_frame()\n",
    "    cell_type_cnts['percentages'] = percentages\n",
    "    if cell_type_cnts.iloc[0].percentages > 50:\n",
    "        adata_gex.obs.loc[adata_gex.obs.index.isin(this_cluster.index), 'new_cluster_name'] = f'{cell_type_cnts.index[0]}-{cluster}'\n",
    "    elif cell_type_cnts.iloc[0].percentages > 5:\n",
    "        adata_gex.obs.loc[adata_gex.obs.index.isin(this_cluster.index), 'new_cluster_name'] = f'{cell_type_cnts.index[0]}?-{cluster}'\n",
    "    if DEBUG:\n",
    "        display(cell_type_cnts.percentages)"
   ]
  },
  {
   "cell_type": "markdown",
   "metadata": {},
   "source": [
    "## what if we labeled based on Liam's previous clusters"
   ]
  },
  {
   "cell_type": "code",
   "execution_count": null,
   "metadata": {},
   "outputs": [],
   "source": [
    "adata_gex.obs['reference_cluster'] = 'unnamed'\n",
    "for cluster in adata_gex.obs.leiden_scvi.unique():\n",
    "    this_cluster = adata_gex.obs.loc[adata_gex.obs.leiden_scvi == cluster]\n",
    "    total_cells_cnt = this_cluster.shape[0]\n",
    "    this_cluster = this_cluster.loc[this_cluster.Study.isin(['Siletti', 'Mathys', 'Franjic'])]\n",
    "    fraq_ref = this_cluster.shape[0]/total_cells_cnt\n",
    "    cell_type_cnts = this_cluster.ori_celltype.value_counts()\n",
    "    percentages = (cell_type_cnts / cell_type_cnts.sum()) * 100\n",
    "    print(f'\\n###{cluster=}, {fraq_ref=}')\n",
    "    cell_type_cnts = cell_type_cnts.to_frame()\n",
    "    cell_type_cnts['percentages'] = percentages\n",
    "    display(cell_type_cnts.loc[cell_type_cnts.percentages > 50])\n",
    "    if cell_type_cnts.iloc[0].percentages > 50 and fraq_ref > 0.05:\n",
    "        adata_gex.obs.loc[adata_gex.obs.index.isin(this_cluster.index), 'reference_cluster'] = f'{cell_type_cnts.index[0]}'\n",
    "    elif cell_type_cnts.iloc[0].percentages > 5 and fraq_ref > 0.05:\n",
    "        adata_gex.obs.loc[adata_gex.obs.index.isin(this_cluster.index), 'reference_cluster'] = f'{cell_type_cnts.index[0]}?'        \n",
    "    if DEBUG:\n",
    "        display(cell_type_cnts.percentages)"
   ]
  },
  {
   "cell_type": "markdown",
   "metadata": {},
   "source": [
    "## visualize the new labels"
   ]
  },
  {
   "cell_type": "code",
   "execution_count": null,
   "metadata": {},
   "outputs": [],
   "source": [
    "with rc_context({'figure.figsize': (15, 15), 'figure.dpi': 400}):\n",
    "    plt.style.use('seaborn-v0_8-talk')\n",
    "    sc.pl.umap(adata_gex, color=['leiden_scvi'], frameon=False, \n",
    "               legend_loc='on data')    \n",
    "    sc.pl.umap(adata_gex, color=['new_cluster_name', 'reference_cluster'], frameon=False, \n",
    "               legend_loc='on data')   "
   ]
  },
  {
   "cell_type": "code",
   "execution_count": null,
   "metadata": {},
   "outputs": [],
   "source": [
    "heatmap_compare(adata_gex.copy(), 'new_cluster_name', 'leiden_scvi')\n",
    "heatmap_compare(adata_gex.copy(), 'reference_cluster', 'leiden_scvi')\n",
    "heatmap_compare(adata_gex.copy(), 'new_cluster_name', 'ori_celltype')\n",
    "heatmap_compare(adata_gex.copy(), 'new_cluster_name', 'reference_cluster')\n",
    "heatmap_compare(adata_gex.copy(), 'new_cluster_name', 'phase1_cluster')\n",
    "heatmap_compare(adata_gex.copy(), 'new_cluster_name', 'phase1_celltype')\n",
    "heatmap_compare(adata_gex.copy(), 'new_cluster_name', 'phase1_celltype')"
   ]
  },
  {
   "cell_type": "code",
   "execution_count": null,
   "metadata": {},
   "outputs": [],
   "source": [
    "!date"
   ]
  }
 ],
 "metadata": {
  "accelerator": "GPU",
  "colab": {
   "collapsed_sections": [],
   "machine_shape": "hm",
   "name": "MultiVI_tutorial.ipynb",
   "provenance": [],
   "toc_visible": true
  },
  "environment": {
   "kernel": "python3",
   "name": ".m116",
   "type": "gcloud",
   "uri": "gcr.io/deeplearning-platform-release/:m116"
  },
  "kernelspec": {
   "display_name": "Python 3 (ipykernel)",
   "language": "python",
   "name": "python3"
  },
  "language_info": {
   "codemirror_mode": {
    "name": "ipython",
    "version": 3
   },
   "file_extension": ".py",
   "mimetype": "text/x-python",
   "name": "python",
   "nbconvert_exporter": "python",
   "pygments_lexer": "ipython3",
   "version": "3.12.2"
  }
 },
 "nbformat": 4,
 "nbformat_minor": 4
}
