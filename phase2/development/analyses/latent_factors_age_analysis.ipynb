{
 "cells": [
  {
   "cell_type": "markdown",
   "id": "12d8c736-26e6-44bf-9efb-36a519690794",
   "metadata": {},
   "source": [
    "## Notebook to analyze latent factors if present for features, both GEX and ATAC, that are associated with age using multiple dimensionality results and done per cell-type, both broad and cluster specific\n",
    "\n",
    "- PCA\n",
    "- NMF\n",
    "- ICA"
   ]
  },
  {
   "cell_type": "code",
   "execution_count": null,
   "id": "fc1242a9-e6ae-48a4-99d7-57c9e163ac2a",
   "metadata": {},
   "outputs": [],
   "source": [
    "!date"
   ]
  },
  {
   "cell_type": "markdown",
   "id": "175010bb-143b-45ed-ae56-752873abd18b",
   "metadata": {},
   "source": [
    "#### import libraries"
   ]
  },
  {
   "cell_type": "code",
   "execution_count": null,
   "id": "6cef7553-8d1b-4153-9e4f-61b5c94dd6ac",
   "metadata": {},
   "outputs": [],
   "source": [
    "from sklearn.decomposition import PCA, NMF, FastICA\n",
    "from pandas import DataFrame as PandasDF, read_csv, concat, read_parquet, Series\n",
    "from matplotlib import pyplot as plt\n",
    "from matplotlib.pyplot import rc_context\n",
    "from numpy import cumsum, arange, argsort, abs as np_abs\n",
    "from sklearn.metrics import r2_score, mean_squared_error\n",
    "from kneed import KneeLocator\n",
    "from pickle import dump as pkl_dump\n",
    "import statsmodels.formula.api as smf\n",
    "import torch\n",
    "from seaborn import heatmap, lmplot\n",
    "import pymde"
   ]
  },
  {
   "cell_type": "markdown",
   "id": "0253c572-93ea-4048-9153-648ca4265997",
   "metadata": {},
   "source": [
    "#### set notebook variables"
   ]
  },
  {
   "cell_type": "code",
   "execution_count": null,
   "id": "63a15aa7-0417-43bb-a8e9-3d9c9549a468",
   "metadata": {
    "editable": true,
    "slideshow": {
     "slide_type": ""
    },
    "tags": [
     "parameters"
    ]
   },
   "outputs": [],
   "source": [
    "# parameters\n",
    "category = 'curated_type' # 'curated_type' for broad and 'cluster_name' for specific\n",
    "cell_type = 'ExN'"
   ]
  },
  {
   "cell_type": "code",
   "execution_count": null,
   "id": "4679720b-67f7-4b09-8eba-cc3ba59ffd5f",
   "metadata": {},
   "outputs": [],
   "source": [
    "# parameters\n",
    "project = 'aging_phase2'\n",
    "if category == 'curated_type':\n",
    "    prefix_type = 'broad'\n",
    "elif category == 'cluster_name':\n",
    "    prefix_type = 'specific' \n",
    "\n",
    "# directories\n",
    "wrk_dir = '/labshare/raph/datasets/adrd_neuro/brain_aging/phase2'\n",
    "quants_dir = f'{wrk_dir}/quants'\n",
    "results_dir = f'{wrk_dir}/results'\n",
    "figures_dir = f'{wrk_dir}/figures'\n",
    "\n",
    "# in files\n",
    "\n",
    "# out files\n",
    "\n",
    "# constants\n",
    "DEBUG = True\n",
    "modalities = ['GEX', 'ATAC']\n",
    "device = 'cuda' if torch.cuda.is_available() else 'cpu'\n",
    "print(device)\n",
    "pymde.seed(42)"
   ]
  },
  {
   "cell_type": "markdown",
   "id": "aceb6e5d-20f5-472f-a710-bff305ad5f92",
   "metadata": {},
   "source": [
    "#### functions"
   ]
  },
  {
   "cell_type": "code",
   "execution_count": null,
   "id": "ebfbfc1e-9613-476a-a5c7-1f3bd2e03dce",
   "metadata": {},
   "outputs": [],
   "source": [
    "def important_loadings(components, feature_names, feature_types, comp_prefix: str) -> dict:\n",
    "    loadings_dict = {}\n",
    "    for index, component_loadings in enumerate(components):\n",
    "        comp_name = f'{comp_prefix}_{index}'\n",
    "        print(f'#### component {comp_name} ####')\n",
    "        loadings_abs = np_abs(component_loadings)\n",
    "        sorted_abs_indices = argsort(loadings_abs)\n",
    "        sorted_abs_loadings = loadings_abs[sorted_abs_indices]\n",
    "        print(sorted_abs_loadings.shape)\n",
    "        # find the knee for loadings\n",
    "        knee = KneeLocator(arange(1, len(sorted_abs_loadings)+1), cumsum(sorted_abs_loadings), \n",
    "                           S=1.0, curve='convex', direction='increasing')\n",
    "        knee.plot_knee()\n",
    "        plt.show()\n",
    "        knee.plot_knee_normalized()\n",
    "        plt.show()    \n",
    "        print(f'knee at feature {knee.knee}')\n",
    "        feature_count = int(knee.knee)\n",
    "        features_sers = Series(data=component_loadings, index=feature_names)\n",
    "        selected_features = features_sers.loc[features_sers.sort_values(key=abs, ascending=False).head(feature_count).index]\n",
    "        print(selected_features.shape)\n",
    "        display(selected_features.sort_values(key=abs, ascending=False).head())\n",
    "        print(f'best number of features is {feature_count} with minimum absolute loading of {selected_features.abs().min()}')\n",
    "        gex_count = len(set(selected_features.index) & set(feature_types.get('GEX')))/len(feature_types.get('GEX'))*100\n",
    "        atac_count = len(set(selected_features.index) & set(feature_types.get('ATAC')))/len(feature_types.get('ATAC'))*100\n",
    "        print(f'includes {gex_count:.1f} genes and {atac_count:.1f} peaks')\n",
    "        loadings_dict[comp_name] = selected_features\n",
    "    return loadings_dict\n",
    "        \n",
    "\n",
    "def iterate_model_component_counts(max_count: int, data_df: PandasDF, \n",
    "                                   model_type: str=['PCA', 'NMF', 'ICA']) -> (list, list):\n",
    "    r2_rets = []\n",
    "    rmse_rets = []\n",
    "    for comp_num in arange(1, max_count+1):    \n",
    "        _,_,r2,rmse = generate_selected_model(comp_num, data_df, model_type)\n",
    "        r2_rets.append(r2)\n",
    "        rmse_rets.append(rmse)\n",
    "    return r2_rets, rmse_rets\n",
    "\n",
    "def generate_selected_model(n_comps: int, data_df: PandasDF, \n",
    "                            model_type: str=['PCA', 'NMF', 'ICA']) -> (object, PandasDF, float, float):\n",
    "    if model_type == 'PCA':\n",
    "        model = PCA(n_components=n_comps, random_state=42)\n",
    "    if model_type == 'NMF':\n",
    "        model = NMF(n_components=n_comps, init='random', random_state=42, max_iter=500)\n",
    "    if model_type == 'ICA':\n",
    "        model = FastICA(n_components=n_comps, random_state=42)        \n",
    "    components= model.fit_transform(data_df)\n",
    "    recon_input = model.inverse_transform(components)\n",
    "    r2 = r2_score(y_true=data_df, y_pred=recon_input)\n",
    "    rmse = mean_squared_error(data_df, recon_input, squared=False)\n",
    "    print(f'{model_type} with {n_comps} components accuracy is {r2:.4f}, RMSE is {rmse:.4f}')  \n",
    "    \n",
    "    ret_df = PandasDF(data=components, index=data_df.index).round(4)\n",
    "    ret_df = ret_df.add_prefix(f'{model_type}_')\n",
    "    return model, ret_df, r2, rmse\n",
    "\n",
    "def component_from_max_curve(scores, label: str=['R2', 'RMSE']) -> int:\n",
    "    if label == 'R2':\n",
    "        data_curve = 'concave'\n",
    "        data_direction = 'increasing'\n",
    "    if label == 'RMSE':\n",
    "        data_curve = 'convex'\n",
    "        data_direction = 'decreasing'        \n",
    "    knee = KneeLocator(arange(1, len(scores)+1), scores, \n",
    "                       S=1.0, curve=data_curve, direction=data_direction)\n",
    "    print(f'best curve at knee {knee.knee}')\n",
    "    num_comp = int(knee.knee)\n",
    "    exp_value = scores[num_comp-1]\n",
    "    print(f'best number of components is {num_comp} at {label} of {exp_value}')\n",
    "    knee.plot_knee()\n",
    "    plt.show()\n",
    "    knee.plot_knee_normalized()\n",
    "    plt.show()\n",
    "    return num_comp\n",
    "\n",
    "def regress_age_latent_factors(data_df: PandasDF, covars_df: PandasDF) -> PandasDF:\n",
    "    covariate_terms = ['sex', 'ancestry', 'pmi', 'ph', 'smoker', 'bmi', 'gex_pool', 'atac_pool']\n",
    "    covar_term_formula = ' + '.join(covariate_terms)\n",
    "    merge_df = covars_df.merge(data_df, how='inner', left_index=True, right_index=True)\n",
    "    age_results = []\n",
    "    for factor in data_df.columns:\n",
    "        formula = f'age ~ {factor} + {covar_term_formula}'\n",
    "        print(formula)\n",
    "        result = smf.glm(formula=formula, data=merge_df).fit()\n",
    "        print(result.summary())\n",
    "        age_results.append([factor, result.params[factor], result.bse[factor], \n",
    "                            result.tvalues[factor], result.pvalues[factor]])\n",
    "        ret_df = PandasDF(data=age_results, columns=['feature', 'coef', 'stderr', 'z', 'p-value'])\n",
    "        with rc_context({'figure.figsize': (11, 11), 'figure.dpi': 50}):\n",
    "            plt.style.use('seaborn-v0_8-talk')\n",
    "            lmplot(data=merge_df, x=factor, y='age', robust=True)\n",
    "            plt.show()\n",
    "    return ret_df\n",
    "\n",
    "def save_important_loadings(comp_features: dict, file_name: str):\n",
    "    with open(file_name, 'wb') as pkl_file:\n",
    "        pkl_dump(comp_features, pkl_file)    "
   ]
  },
  {
   "cell_type": "markdown",
   "id": "78badda3-b103-4caf-90eb-73974f7aea67",
   "metadata": {},
   "source": [
    "#### load age associated feature results\n",
    "get the age associated GEX and ATA features need per cell-type"
   ]
  },
  {
   "cell_type": "code",
   "execution_count": null,
   "id": "cc42889e-ba07-4651-ab8f-7bc2b18ec7f4",
   "metadata": {},
   "outputs": [],
   "source": [
    "%%time\n",
    "age_results = []\n",
    "for modality in modalities:\n",
    "    print(modality)\n",
    "    in_file = f'{results_dir}/{project}.{modality}.{prefix_type}.glm_tweedie_fdr_filtered.age.csv'\n",
    "    this_df = read_csv(in_file)\n",
    "    this_df['modality'] = modality\n",
    "    age_results.append(this_df)\n",
    "age_results_df = concat(age_results)\n",
    "print(f'shape of the age results is {age_results_df.shape}')\n",
    "if DEBUG:\n",
    "    display(age_results_df.sample(5))\n",
    "    display(age_results_df.modality.value_counts())\n",
    "    display(age_results_df.tissue.value_counts())"
   ]
  },
  {
   "cell_type": "markdown",
   "id": "201dac94-2afd-4b2c-8d76-e1bd9ef95691",
   "metadata": {},
   "source": [
    "### load the feature quantifications"
   ]
  },
  {
   "cell_type": "code",
   "execution_count": null,
   "id": "983ad763-8798-4e2e-822e-8be4c7d03b78",
   "metadata": {},
   "outputs": [],
   "source": [
    "%%time\n",
    "cell_type_quants = []\n",
    "modality_features = {}\n",
    "for modality in modalities:\n",
    "    features_to_keep = age_results_df.loc[(age_results_df.tissue == cell_type) & \n",
    "                                          (age_results_df.modality == modality)].feature.to_list()\n",
    "    print(modality, len(features_to_keep))\n",
    "    modality_features[modality] = features_to_keep\n",
    "    in_file = f'{quants_dir}/{project}.{modality}.{prefix_type}.{cell_type}.pb.parquet'\n",
    "    df = read_parquet(in_file)\n",
    "    df = df[features_to_keep]    \n",
    "    # df = df[features_to_keep + ['cell_count']]\n",
    "    # df = df.rename(columns={'cell_count': f'{modality}_cell_count'})\n",
    "    print(modality, df.shape)\n",
    "    cell_type_quants.append(df)\n",
    "quants_df = concat(cell_type_quants, axis='columns', join='inner')\n",
    "print(f'shape of feature quantifications for {cell_type} is {quants_df.shape}')\n",
    "if DEBUG:\n",
    "    display(quants_df.sample(5))"
   ]
  },
  {
   "cell_type": "markdown",
   "id": "e37a224f-adb0-47f0-a1b4-e87a416eeb8d",
   "metadata": {},
   "source": [
    "### load the sample info"
   ]
  },
  {
   "cell_type": "code",
   "execution_count": null,
   "id": "f46711c9-9626-4307-9cca-a7f3122eb9ec",
   "metadata": {},
   "outputs": [],
   "source": [
    "info_file = f'{wrk_dir}/sample_info/aging_phase2.sample_info.csv'\n",
    "info_df = read_csv(info_file, index_col=0)\n",
    "info_df = info_df.reindex(quants_df.index)\n",
    "# fill the missing smoker and bmi value\n",
    "info_df.loc[info_df.smoker.isna(), 'smoker'] = info_df.smoker.mean().round(1)\n",
    "info_df.loc[info_df.bmi.isna(), 'bmi'] = info_df.bmi.mean().round(1)\n",
    "if DEBUG:\n",
    "    print(info_df.shape)\n",
    "    display(info_df.head())"
   ]
  },
  {
   "cell_type": "markdown",
   "id": "4811ba7e-0ac6-4c66-b45d-8181a75870d0",
   "metadata": {},
   "source": [
    "### using PCA"
   ]
  },
  {
   "cell_type": "markdown",
   "id": "3b8593ea-5c74-40c2-888b-e3f472e44f89",
   "metadata": {},
   "source": [
    "#### find number of components to use"
   ]
  },
  {
   "cell_type": "code",
   "execution_count": null,
   "id": "d2698bf5-636d-4386-ab3a-caadf539838a",
   "metadata": {
    "scrolled": true
   },
   "outputs": [],
   "source": [
    "%%time\n",
    "max_count = int(min(quants_df.shape[0], quants_df.shape[1])/2)\n",
    "print(f'max count is {max_count}')\n",
    "\n",
    "r2_values, rmse_values = iterate_model_component_counts(max_count, quants_df, 'PCA')"
   ]
  },
  {
   "cell_type": "code",
   "execution_count": null,
   "id": "9ff3a90b-e3f1-4245-a08c-0d02d04d749e",
   "metadata": {},
   "outputs": [],
   "source": [
    "knee_rmse = component_from_max_curve(rmse_values, 'RMSE')\n",
    "knee_r2 = component_from_max_curve(r2_values, 'R2')\n",
    "num_comp = max(knee_rmse, knee_r2)\n",
    "print(num_comp)"
   ]
  },
  {
   "cell_type": "markdown",
   "id": "c0f1a2b7-9499-4010-bce9-1a0561613d28",
   "metadata": {},
   "source": [
    "#### regenerate the PCA model at the selected component size"
   ]
  },
  {
   "cell_type": "code",
   "execution_count": null,
   "id": "a3e5d7ca-24a0-48a4-b6f7-b440c07a4aaf",
   "metadata": {},
   "outputs": [],
   "source": [
    "pca_mdl,pca_df,a,b = generate_selected_model(num_comp, quants_df, 'PCA')\n",
    "if DEBUG:\n",
    "    print(pca_df.shape)\n",
    "    display(pca_df.head())"
   ]
  },
  {
   "cell_type": "code",
   "execution_count": null,
   "id": "c3d82a80-fe50-4abc-b854-7ae0bdb1fbad",
   "metadata": {},
   "outputs": [],
   "source": [
    "print(pca_mdl.explained_variance_)"
   ]
  },
  {
   "cell_type": "markdown",
   "id": "2f9e52cc-6ca5-4300-8cc4-32ff30600d65",
   "metadata": {},
   "source": [
    "#### are the latent features associated with age"
   ]
  },
  {
   "cell_type": "code",
   "execution_count": null,
   "id": "06b54303-6687-4c82-9f91-32b905b0ec24",
   "metadata": {},
   "outputs": [],
   "source": [
    "age_df = regress_age_latent_factors(pca_df, info_df)  "
   ]
  },
  {
   "cell_type": "markdown",
   "id": "492ec10b-eaad-437a-9c67-f9c0e81aa7df",
   "metadata": {},
   "source": [
    "#### what are the 'important features' based on their loadings"
   ]
  },
  {
   "cell_type": "code",
   "execution_count": null,
   "id": "7a7944d5-277c-475a-bfca-bb092ff38bb7",
   "metadata": {},
   "outputs": [],
   "source": [
    "pca_features = important_loadings(pca_mdl.components_, pca_mdl.feature_names_in_,\n",
    "                                  modality_features, 'PCA')"
   ]
  },
  {
   "cell_type": "markdown",
   "id": "827dca28-066e-4f28-b8fa-987a2bf23312",
   "metadata": {},
   "source": [
    "#### save latent features and their loadings"
   ]
  },
  {
   "cell_type": "code",
   "execution_count": null,
   "id": "d2560c68-43d9-4589-9e07-4d920288d5fb",
   "metadata": {},
   "outputs": [],
   "source": [
    "out_file = f'{results_dir}/{project}.{prefix_type}.{cell_type}.pca_components.csv'\n",
    "pca_df.to_csv(out_file)"
   ]
  },
  {
   "cell_type": "code",
   "execution_count": null,
   "id": "b06ee187-87a3-420a-8e8c-3841c2474431",
   "metadata": {},
   "outputs": [],
   "source": [
    "out_file = f'{results_dir}/{project}.{prefix_type}.{cell_type}.pca_loadings.pkl'\n",
    "save_important_loadings(pca_features, out_file)"
   ]
  },
  {
   "cell_type": "code",
   "execution_count": null,
   "id": "ab407c1f-f75a-4960-8739-9300edc60c62",
   "metadata": {},
   "outputs": [],
   "source": [
    "out_file = f'{results_dir}/{project}.{prefix_type}.{cell_type}.pca_age_glm.csv'\n",
    "age_df.to_csv(out_file, index=False)"
   ]
  },
  {
   "cell_type": "markdown",
   "id": "c37aa3f3-bdaa-40fb-a675-09c090a3be1d",
   "metadata": {},
   "source": [
    "### using NMF"
   ]
  },
  {
   "cell_type": "markdown",
   "id": "b8deb995-ce67-4c98-9443-2821b90c6299",
   "metadata": {},
   "source": [
    "#### find number of components to use"
   ]
  },
  {
   "cell_type": "code",
   "execution_count": null,
   "id": "3e131548-1d3e-407e-940f-b5d8c9a31866",
   "metadata": {},
   "outputs": [],
   "source": [
    "r2_values, rmse_values = iterate_model_component_counts(max_count, quants_df, 'NMF')"
   ]
  },
  {
   "cell_type": "code",
   "execution_count": null,
   "id": "18394339-9298-4d8e-846c-1580ad430f36",
   "metadata": {},
   "outputs": [],
   "source": [
    "knee_rmse = component_from_max_curve(rmse_values, 'RMSE')\n",
    "knee_r2 = component_from_max_curve(r2_values, 'R2')\n",
    "num_comp = max(knee_rmse, knee_r2)\n",
    "print(num_comp)"
   ]
  },
  {
   "cell_type": "markdown",
   "id": "3248a72a-4326-476a-b039-931139df2431",
   "metadata": {},
   "source": [
    "#### regenerate the NMF model at the selected component size"
   ]
  },
  {
   "cell_type": "code",
   "execution_count": null,
   "id": "7a574c80-0d90-46eb-b38b-d6f9bcf9d6df",
   "metadata": {},
   "outputs": [],
   "source": [
    "nmf_mdl,nmf_df,_,_ = generate_selected_model(num_comp, quants_df, 'NMF')\n",
    "if DEBUG:\n",
    "    print(nmf_df.shape)\n",
    "    display(nmf_df.head())"
   ]
  },
  {
   "cell_type": "markdown",
   "id": "1d963521-10f1-42e4-8a59-4cca3e110cc5",
   "metadata": {},
   "source": [
    "#### are the latent features associated with age"
   ]
  },
  {
   "cell_type": "code",
   "execution_count": null,
   "id": "9a29a0b4-5400-421b-b36e-a4f490615189",
   "metadata": {},
   "outputs": [],
   "source": [
    "age_df = regress_age_latent_factors(nmf_df, info_df)  "
   ]
  },
  {
   "cell_type": "markdown",
   "id": "d9c760bd-cee2-45b4-9dd9-ec81632abac0",
   "metadata": {},
   "source": [
    "#### what are the 'important features' based on their loadings"
   ]
  },
  {
   "cell_type": "code",
   "execution_count": null,
   "id": "b89e482f-6a18-4cfb-9a4e-2986b2a1ca87",
   "metadata": {},
   "outputs": [],
   "source": [
    "nmf_features = important_loadings(nmf_mdl.components_, nmf_mdl.feature_names_in_,\n",
    "                                  modality_features, 'NMF')"
   ]
  },
  {
   "cell_type": "markdown",
   "id": "f219096a-419c-4a69-883f-9bb75da3e85c",
   "metadata": {},
   "source": [
    "#### save latent features and their loadings"
   ]
  },
  {
   "cell_type": "code",
   "execution_count": null,
   "id": "dabe6419-e3f0-484c-9f6c-6826c9f94cc0",
   "metadata": {},
   "outputs": [],
   "source": [
    "out_file = f'{results_dir}/{project}.{prefix_type}.{cell_type}.nmf_components.csv'\n",
    "nmf_df.to_csv(out_file)"
   ]
  },
  {
   "cell_type": "code",
   "execution_count": null,
   "id": "ac8cfc5f-a4c6-4698-b2db-1a3c427e1aae",
   "metadata": {},
   "outputs": [],
   "source": [
    "out_file = f'{results_dir}/{project}.{prefix_type}.{cell_type}.nmf_loadings.pkl'\n",
    "save_important_loadings(nmf_features, out_file)"
   ]
  },
  {
   "cell_type": "code",
   "execution_count": null,
   "id": "2a9f78f0-a14b-4e12-b4a1-736ae47ce931",
   "metadata": {},
   "outputs": [],
   "source": [
    "out_file = f'{results_dir}/{project}.{prefix_type}.{cell_type}.nmf_age_glm.csv'\n",
    "age_df.to_csv(out_file, index=False)"
   ]
  },
  {
   "cell_type": "markdown",
   "id": "6efbf9fd-6f5e-411b-a096-cc7f5d7e502c",
   "metadata": {},
   "source": [
    "### using ICA"
   ]
  },
  {
   "cell_type": "markdown",
   "id": "7931ccf7-e3bb-411f-8e8c-4256db48e8e4",
   "metadata": {},
   "source": [
    "#### find number of components to use"
   ]
  },
  {
   "cell_type": "code",
   "execution_count": null,
   "id": "d093695c-3dee-4491-9779-b7fe19ae5940",
   "metadata": {},
   "outputs": [],
   "source": [
    "r2_values, rmse_values = iterate_model_component_counts(max_count, quants_df, 'ICA')"
   ]
  },
  {
   "cell_type": "code",
   "execution_count": null,
   "id": "99d119be-2f39-48f3-a2ac-b947d4df4445",
   "metadata": {},
   "outputs": [],
   "source": [
    "knee_rmse = component_from_max_curve(rmse_values, 'RMSE')\n",
    "knee_r2 = component_from_max_curve(r2_values, 'R2')\n",
    "num_comp = max(knee_rmse, knee_r2)\n",
    "print(num_comp)"
   ]
  },
  {
   "cell_type": "markdown",
   "id": "de0c68dc-38fd-4239-8d5a-6d1163c9f586",
   "metadata": {},
   "source": [
    "#### regenerate ICA model at the selected component size"
   ]
  },
  {
   "cell_type": "code",
   "execution_count": null,
   "id": "1c3f4086-bbd1-405c-bc9a-bef3753ec265",
   "metadata": {},
   "outputs": [],
   "source": [
    "ica_mdl,ica_df,_,_ = generate_selected_model(num_comp, quants_df, 'ICA')\n",
    "if DEBUG:\n",
    "    print(ica_df.shape)\n",
    "    display(ica_df.head())"
   ]
  },
  {
   "cell_type": "markdown",
   "id": "e3622a94-cb75-4429-a4df-3138ca5f5529",
   "metadata": {},
   "source": [
    "#### are the latent features associated with age"
   ]
  },
  {
   "cell_type": "code",
   "execution_count": null,
   "id": "53ce671f-148e-4d86-91bd-b8344ca43f26",
   "metadata": {},
   "outputs": [],
   "source": [
    "age_df = regress_age_latent_factors(ica_df, info_df)  "
   ]
  },
  {
   "cell_type": "markdown",
   "id": "69ac9d74-0473-46de-846a-eeba23f4e3c6",
   "metadata": {},
   "source": [
    "#### what are the 'important features' based on their loadings"
   ]
  },
  {
   "cell_type": "code",
   "execution_count": null,
   "id": "5f32fe9c-539d-4681-ae51-7f4fe5076225",
   "metadata": {},
   "outputs": [],
   "source": [
    "ica_features = important_loadings(ica_mdl.components_, ica_mdl.feature_names_in_,\n",
    "                                  modality_features, 'ICA')"
   ]
  },
  {
   "cell_type": "markdown",
   "id": "ad9b6e7c-67e9-4ef7-9feb-3c6532ca64b8",
   "metadata": {},
   "source": [
    "#### save latent features and their loadings"
   ]
  },
  {
   "cell_type": "code",
   "execution_count": null,
   "id": "6738868f-004f-4347-b8cf-b15996399ff2",
   "metadata": {},
   "outputs": [],
   "source": [
    "out_file = f'{results_dir}/{project}.{prefix_type}.{cell_type}.ica_components.csv'\n",
    "ica_df.to_csv(out_file)"
   ]
  },
  {
   "cell_type": "code",
   "execution_count": null,
   "id": "1509b873-44c6-4962-9ae8-d1ea845ec797",
   "metadata": {},
   "outputs": [],
   "source": [
    "out_file = f'{results_dir}/{project}.{prefix_type}.{cell_type}.ica_loadings.pkl'\n",
    "save_important_loadings(ica_features, out_file)"
   ]
  },
  {
   "cell_type": "code",
   "execution_count": null,
   "id": "1ce7b436-0723-4d71-8f32-1ecaa48039e8",
   "metadata": {},
   "outputs": [],
   "source": [
    "out_file = f'{results_dir}/{project}.{prefix_type}.{cell_type}.ica_age_glm.csv'\n",
    "age_df.to_csv(out_file, index=False)"
   ]
  },
  {
   "cell_type": "markdown",
   "id": "67aae414-7ab5-487f-8e58-7ec7b25617e7",
   "metadata": {},
   "source": [
    "### compare the different latent embedding\n",
    "approximate if they are finding latent space by samples"
   ]
  },
  {
   "cell_type": "code",
   "execution_count": null,
   "id": "b2e943eb-f0c9-43d7-ac0e-f8c2af839d7d",
   "metadata": {},
   "outputs": [],
   "source": [
    "latent_df = concat([pca_df, nmf_df, ica_df], axis='columns')\n",
    "print(f'shape of combined latent space df {latent_df.shape}')\n",
    "if DEBUG:\n",
    "    display(latent_df.head())"
   ]
  },
  {
   "cell_type": "code",
   "execution_count": null,
   "id": "fadc0861-c824-4bf0-b6bb-cfec5d5e081d",
   "metadata": {},
   "outputs": [],
   "source": [
    "min_pearson = 0.22\n",
    "cor = latent_df.corr(method='pearson')\n",
    "cor.dropna(how='all', inplace=True)\n",
    "print(cor.shape)\n",
    "fig_width = cor.shape[1] if cor.shape[1] > 12 else 12\n",
    "fig_height = cor.shape[0] if cor.shape[1] > 12 else 12\n",
    "with rc_context({'figure.figsize': (fig_width, fig_height), 'figure.dpi': 100}):\n",
    "    plt.style.use('seaborn-v0_8-bright')       \n",
    "    ax = heatmap(cor[(cor > min_pearson) | (cor < -min_pearson)], annot=True, \n",
    "            annot_kws={\"fontsize\":10}, linewidths=0.05, cmap='Purples')\n",
    "    plt.title(f'Pearson heatmap of latent factors of age correlated features')\n",
    "    plt.yticks(rotation=90)\n",
    "    plt.show()"
   ]
  },
  {
   "cell_type": "code",
   "execution_count": null,
   "id": "40bd3450-67bc-404c-b649-a2af5f4f33b4",
   "metadata": {},
   "outputs": [],
   "source": [
    "%%time\n",
    "mde = pymde.preserve_neighbors(latent_df.to_numpy(), device=device, verbose=True)\n",
    "embedding = mde.embed(verbose=True)\n",
    "pymde.plot(embedding, color_by=info_df.age, marker_size=50)\n",
    "plt.show()"
   ]
  },
  {
   "cell_type": "code",
   "execution_count": null,
   "id": "3d4e5ed6-e11f-48a4-ba61-37469dfd13c7",
   "metadata": {},
   "outputs": [],
   "source": [
    "!date"
   ]
  }
 ],
 "metadata": {
  "kernelspec": {
   "display_name": "Python 3 (ipykernel)",
   "language": "python",
   "name": "python3"
  },
  "language_info": {
   "codemirror_mode": {
    "name": "ipython",
    "version": 3
   },
   "file_extension": ".py",
   "mimetype": "text/x-python",
   "name": "python",
   "nbconvert_exporter": "python",
   "pygments_lexer": "ipython3",
   "version": "3.10.13"
  }
 },
 "nbformat": 4,
 "nbformat_minor": 5
}
