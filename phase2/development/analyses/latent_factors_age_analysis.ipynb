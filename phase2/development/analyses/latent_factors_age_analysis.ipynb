{
 "cells": [
  {
   "cell_type": "markdown",
   "id": "12d8c736-26e6-44bf-9efb-36a519690794",
   "metadata": {},
   "source": [
    "## Notebook to analyze latent factors if present for features, both GEX and ATAC, that are associated with age using multiple dimensionality results and done per cell-type, both broad and cluster specific\n",
    "\n",
    "- PCA\n",
    "- NMF\n",
    "- ICA\n",
    "- VAE"
   ]
  },
  {
   "cell_type": "code",
   "execution_count": 1,
   "id": "fc1242a9-e6ae-48a4-99d7-57c9e163ac2a",
   "metadata": {},
   "outputs": [
    {
     "name": "stdout",
     "output_type": "stream",
     "text": [
      "Thu May 16 17:19:15 EDT 2024\n"
     ]
    }
   ],
   "source": [
    "!date"
   ]
  },
  {
   "cell_type": "markdown",
   "id": "175010bb-143b-45ed-ae56-752873abd18b",
   "metadata": {},
   "source": [
    "#### import libraries"
   ]
  },
  {
   "cell_type": "code",
   "execution_count": 2,
   "id": "6cef7553-8d1b-4153-9e4f-61b5c94dd6ac",
   "metadata": {},
   "outputs": [],
   "source": [
    "from sklearn.decomposition import PCA, NMF, FastICA\n",
    "from pandas import DataFrame as PandasDF, read_csv, concat, read_parquet, Series\n",
    "from matplotlib import pyplot as plt\n",
    "from matplotlib.pyplot import rc_context\n",
    "from numpy import cumsum, arange, argsort, abs as np_abs\n",
    "from sklearn.metrics import r2_score, mean_squared_error\n",
    "from kneed import KneeLocator"
   ]
  },
  {
   "cell_type": "markdown",
   "id": "0253c572-93ea-4048-9153-648ca4265997",
   "metadata": {},
   "source": [
    "#### set notebook variables"
   ]
  },
  {
   "cell_type": "code",
   "execution_count": 3,
   "id": "63a15aa7-0417-43bb-a8e9-3d9c9549a468",
   "metadata": {},
   "outputs": [],
   "source": [
    "# parameters\n",
    "category = 'curated_type' # 'curated_type' for broad and 'cluster_name' for specific"
   ]
  },
  {
   "cell_type": "code",
   "execution_count": 4,
   "id": "4679720b-67f7-4b09-8eba-cc3ba59ffd5f",
   "metadata": {},
   "outputs": [],
   "source": [
    "# parameters\n",
    "project = 'aging_phase2'\n",
    "if category == 'curated_type':\n",
    "    prefix_type = 'broad'\n",
    "elif category == 'cluster_name':\n",
    "    prefix_type = 'specific' \n",
    "\n",
    "# directories\n",
    "wrk_dir = '/labshare/raph/datasets/adrd_neuro/brain_aging/phase2'\n",
    "quants_dir = f'{wrk_dir}/quants'\n",
    "results_dir = f'{wrk_dir}/results'\n",
    "figures_dir = f'{wrk_dir}/figures'\n",
    "\n",
    "# in files\n",
    "\n",
    "# out files\n",
    "\n",
    "# constants\n",
    "DEBUG = True\n",
    "modalities = ['GEX', 'ATAC']"
   ]
  },
  {
   "cell_type": "markdown",
   "id": "aceb6e5d-20f5-472f-a710-bff305ad5f92",
   "metadata": {},
   "source": [
    "#### functions"
   ]
  },
  {
   "cell_type": "code",
   "execution_count": 5,
   "id": "ebfbfc1e-9613-476a-a5c7-1f3bd2e03dce",
   "metadata": {},
   "outputs": [],
   "source": [
    "def important_loadings(components, feature_names, feature_types):\n",
    "    for index, component_loadings in enumerate(components):\n",
    "        print(f'#### component {index} ####')\n",
    "        loadings_abs = np_abs(component_loadings)\n",
    "        sorted_abs_indices = argsort(loadings_abs)\n",
    "        sorted_abs_loadings = loadings_abs[sorted_abs_indices]\n",
    "        print(sorted_abs_loadings.shape)\n",
    "        # find the knee for loadings\n",
    "        knee = KneeLocator(arange(1, len(sorted_abs_loadings)+1), cumsum(sorted_abs_loadings), \n",
    "                           S=1.0, curve='convex', direction='increasing')\n",
    "        knee.plot_knee()\n",
    "        plt.show()\n",
    "        knee.plot_knee_normalized()\n",
    "        plt.show()    \n",
    "        print(f'knee at component {knee.knee}')\n",
    "        feature_count = int(knee.knee)\n",
    "        features_sers = Series(data=component_loadings, index=feature_names)\n",
    "        selected_features = features_sers.loc[features_sers.sort_values(key=abs, ascending=False).head(feature_count).index]\n",
    "        print(selected_features.shape)\n",
    "        display(selected_features.sort_values(key=abs, ascending=False).head())\n",
    "        print(f'best number of features is {feature_count} with minimum absolute loading of {selected_features.abs().min()}')\n",
    "        gex_count = len(set(selected_components.index) & set(feature_types.get('GEX')))/len(feature_types.get('GEX'))*100\n",
    "        atac_count = len(set(selected_components.index) & set(feature_types.get('ATAC')))/len(feature_types.get('ATAC'))*100\n",
    "        print(f'includes {gex_count:.1f} genes and {atac_count:.1f} peaks') \n",
    "\n",
    "def iterate_model_component_counts(max_count: int, data_df: PandasDF, \n",
    "                                   model_type: str=['PCA', 'NMF', 'ICA']) -> (list, list):\n",
    "    r2_rets = []\n",
    "    rmse_rets = []\n",
    "    for comp_num in arange(1, max_count+1):    \n",
    "        _,r2,rmse = generate_selected_model(comp_num, data_df, model_type)\n",
    "        r2_rets.append(r2)\n",
    "        rmse_rets.append(rmse)\n",
    "    return r2_rets, rmse_rets\n",
    "\n",
    "def generate_selected_model(n_comps: int, data_df: PandasDF, \n",
    "                            model_type: str=['PCA', 'NMF', 'ICA']) -> (PandasDF, float, float):\n",
    "    if model_type == 'PCA':\n",
    "        model = PCA(n_components=n_comps, random_state=42)\n",
    "    if model_type == 'NMF':\n",
    "        model = NMF(n_components=n_comps, init='random', random_state=42, max_iter=500)\n",
    "    if model_type == 'ICA':\n",
    "        model = FastICA(n_components=n_comps, random_state=42)        \n",
    "    components= model.fit_transform(data_df)\n",
    "    recon_input = model.inverse_transform(components)\n",
    "    r2 = r2_score(y_true=data_df, y_pred=recon_input)\n",
    "    rmse = mean_squared_error(data_df, recon_input, squared=False)\n",
    "    print(f'{model_type} with {n_comps} components accuracy is {r2:.4f}, RMSE is {rmse:.4f}')  \n",
    "    \n",
    "    ret_df = PandasDF(data=components, index=data_df.index).round(4)\n",
    "    ret_df = ret_df.add_prefix(f'{model_type}_')\n",
    "    return ret_df, r2, rmse\n",
    "\n",
    "def component_from_max_curve(scores, label: str=['R2', 'RMSE']) -> int:\n",
    "    if label == 'R2':\n",
    "        data_curve = 'concave'\n",
    "        data_direction = 'increasing'\n",
    "    if label == 'RMSE':\n",
    "        data_curve = 'convex'\n",
    "        data_direction = 'decreasing'        \n",
    "    knee = KneeLocator(arange(1, len(scores)+1), scores, \n",
    "                       S=1.0, curve=data_curve, direction=data_direction)\n",
    "    print(f'best curve at knee {knee.knee}')\n",
    "    num_comp = int(knee.knee)\n",
    "    exp_value = scores[num_comp-1]\n",
    "    print(f'best number of components is {num_comp} at {label} of {exp_value}')\n",
    "    knee.plot_knee()\n",
    "    plt.show()\n",
    "    knee.plot_knee_normalized()\n",
    "    plt.show()\n",
    "    return num_comp"
   ]
  },
  {
   "cell_type": "markdown",
   "id": "78badda3-b103-4caf-90eb-73974f7aea67",
   "metadata": {},
   "source": [
    "#### load age associated feature results\n",
    "get the age associated GEX and ATA features need per cell-type"
   ]
  },
  {
   "cell_type": "code",
   "execution_count": 6,
   "id": "cc42889e-ba07-4651-ab8f-7bc2b18ec7f4",
   "metadata": {},
   "outputs": [
    {
     "name": "stdout",
     "output_type": "stream",
     "text": [
      "GEX\n",
      "ATAC\n",
      "shape of the age results is (36752, 10)\n"
     ]
    },
    {
     "data": {
      "text/html": [
       "<div>\n",
       "<style scoped>\n",
       "    .dataframe tbody tr th:only-of-type {\n",
       "        vertical-align: middle;\n",
       "    }\n",
       "\n",
       "    .dataframe tbody tr th {\n",
       "        vertical-align: top;\n",
       "    }\n",
       "\n",
       "    .dataframe thead th {\n",
       "        text-align: right;\n",
       "    }\n",
       "</style>\n",
       "<table border=\"1\" class=\"dataframe\">\n",
       "  <thead>\n",
       "    <tr style=\"text-align: right;\">\n",
       "      <th></th>\n",
       "      <th>feature</th>\n",
       "      <th>intercept</th>\n",
       "      <th>coef</th>\n",
       "      <th>stderr</th>\n",
       "      <th>z</th>\n",
       "      <th>p-value</th>\n",
       "      <th>tissue</th>\n",
       "      <th>type</th>\n",
       "      <th>fdr_bh</th>\n",
       "      <th>modality</th>\n",
       "    </tr>\n",
       "  </thead>\n",
       "  <tbody>\n",
       "    <tr>\n",
       "      <th>22397</th>\n",
       "      <td>chr4:101835033-101835838</td>\n",
       "      <td>-3.514719</td>\n",
       "      <td>0.023321</td>\n",
       "      <td>0.005098</td>\n",
       "      <td>4.574546</td>\n",
       "      <td>4.772547e-06</td>\n",
       "      <td>Micro</td>\n",
       "      <td>curated_type</td>\n",
       "      <td>0.001770</td>\n",
       "      <td>ATAC</td>\n",
       "    </tr>\n",
       "    <tr>\n",
       "      <th>32462</th>\n",
       "      <td>chr11:116073606-116074525</td>\n",
       "      <td>-9.872426</td>\n",
       "      <td>0.031486</td>\n",
       "      <td>0.008286</td>\n",
       "      <td>3.799982</td>\n",
       "      <td>1.447065e-04</td>\n",
       "      <td>Astro</td>\n",
       "      <td>curated_type</td>\n",
       "      <td>0.014859</td>\n",
       "      <td>ATAC</td>\n",
       "    </tr>\n",
       "    <tr>\n",
       "      <th>12959</th>\n",
       "      <td>chr16:57061064-57061938</td>\n",
       "      <td>-5.925314</td>\n",
       "      <td>0.023062</td>\n",
       "      <td>0.005401</td>\n",
       "      <td>4.270196</td>\n",
       "      <td>1.953013e-05</td>\n",
       "      <td>Micro</td>\n",
       "      <td>curated_type</td>\n",
       "      <td>0.004391</td>\n",
       "      <td>ATAC</td>\n",
       "    </tr>\n",
       "    <tr>\n",
       "      <th>22204</th>\n",
       "      <td>chr8:27546454-27547122</td>\n",
       "      <td>0.699115</td>\n",
       "      <td>0.023124</td>\n",
       "      <td>0.004453</td>\n",
       "      <td>5.193416</td>\n",
       "      <td>2.064696e-07</td>\n",
       "      <td>Micro</td>\n",
       "      <td>curated_type</td>\n",
       "      <td>0.000203</td>\n",
       "      <td>ATAC</td>\n",
       "    </tr>\n",
       "    <tr>\n",
       "      <th>503</th>\n",
       "      <td>LINC02055</td>\n",
       "      <td>9.070817</td>\n",
       "      <td>0.027739</td>\n",
       "      <td>0.008105</td>\n",
       "      <td>3.422506</td>\n",
       "      <td>6.204674e-04</td>\n",
       "      <td>ExN</td>\n",
       "      <td>curated_type</td>\n",
       "      <td>0.036900</td>\n",
       "      <td>GEX</td>\n",
       "    </tr>\n",
       "  </tbody>\n",
       "</table>\n",
       "</div>"
      ],
      "text/plain": [
       "                         feature  intercept      coef    stderr         z  \\\n",
       "22397   chr4:101835033-101835838  -3.514719  0.023321  0.005098  4.574546   \n",
       "32462  chr11:116073606-116074525  -9.872426  0.031486  0.008286  3.799982   \n",
       "12959    chr16:57061064-57061938  -5.925314  0.023062  0.005401  4.270196   \n",
       "22204     chr8:27546454-27547122   0.699115  0.023124  0.004453  5.193416   \n",
       "503                    LINC02055   9.070817  0.027739  0.008105  3.422506   \n",
       "\n",
       "            p-value tissue          type    fdr_bh modality  \n",
       "22397  4.772547e-06  Micro  curated_type  0.001770     ATAC  \n",
       "32462  1.447065e-04  Astro  curated_type  0.014859     ATAC  \n",
       "12959  1.953013e-05  Micro  curated_type  0.004391     ATAC  \n",
       "22204  2.064696e-07  Micro  curated_type  0.000203     ATAC  \n",
       "503    6.204674e-04    ExN  curated_type  0.036900      GEX  "
      ]
     },
     "metadata": {},
     "output_type": "display_data"
    },
    {
     "data": {
      "text/plain": [
       "ATAC    34257\n",
       "GEX      2495\n",
       "Name: modality, dtype: int64"
      ]
     },
     "metadata": {},
     "output_type": "display_data"
    },
    {
     "data": {
      "text/plain": [
       "Micro       14278\n",
       "Astro       10507\n",
       "OPC          6807\n",
       "ExN          2109\n",
       "OD           1916\n",
       "InN           650\n",
       "PeriVasc      433\n",
       "VLMC           52\n",
       "Name: tissue, dtype: int64"
      ]
     },
     "metadata": {},
     "output_type": "display_data"
    },
    {
     "name": "stdout",
     "output_type": "stream",
     "text": [
      "CPU times: user 96.6 ms, sys: 25.8 ms, total: 122 ms\n",
      "Wall time: 122 ms\n"
     ]
    }
   ],
   "source": [
    "%%time\n",
    "age_results = []\n",
    "for modality in modalities:\n",
    "    print(modality)\n",
    "    in_file = f'{results_dir}/{project}.{modality}.{prefix_type}.glm_tweedie_fdr_filtered.age.csv'\n",
    "    this_df = read_csv(in_file)\n",
    "    this_df['modality'] = modality\n",
    "    age_results.append(this_df)\n",
    "age_results_df = concat(age_results)\n",
    "print(f'shape of the age results is {age_results_df.shape}')\n",
    "if DEBUG:\n",
    "    display(age_results_df.sample(5))\n",
    "    display(age_results_df.modality.value_counts())\n",
    "    display(age_results_df.tissue.value_counts())"
   ]
  },
  {
   "cell_type": "markdown",
   "id": "201dac94-2afd-4b2c-8d76-e1bd9ef95691",
   "metadata": {},
   "source": [
    "### load the feature quantifications"
   ]
  },
  {
   "cell_type": "code",
   "execution_count": 7,
   "id": "983ad763-8798-4e2e-822e-8be4c7d03b78",
   "metadata": {},
   "outputs": [
    {
     "name": "stdout",
     "output_type": "stream",
     "text": [
      "GEX 610\n",
      "GEX (36, 610)\n",
      "ATAC 1499\n",
      "ATAC (36, 1499)\n",
      "shape of feature quantifications for ExN is (36, 2109)\n"
     ]
    },
    {
     "data": {
      "text/html": [
       "<div>\n",
       "<style scoped>\n",
       "    .dataframe tbody tr th:only-of-type {\n",
       "        vertical-align: middle;\n",
       "    }\n",
       "\n",
       "    .dataframe tbody tr th {\n",
       "        vertical-align: top;\n",
       "    }\n",
       "\n",
       "    .dataframe thead th {\n",
       "        text-align: right;\n",
       "    }\n",
       "</style>\n",
       "<table border=\"1\" class=\"dataframe\">\n",
       "  <thead>\n",
       "    <tr style=\"text-align: right;\">\n",
       "      <th></th>\n",
       "      <th>DCLK3</th>\n",
       "      <th>COL1A2</th>\n",
       "      <th>AL138828.1</th>\n",
       "      <th>MYCNOS</th>\n",
       "      <th>SFT2D3</th>\n",
       "      <th>AL138689.2</th>\n",
       "      <th>AL135791.1</th>\n",
       "      <th>AP000462.2</th>\n",
       "      <th>NGF-AS1</th>\n",
       "      <th>REXO2</th>\n",
       "      <th>...</th>\n",
       "      <th>chr15:74382103-74383014</th>\n",
       "      <th>chr4:37896254-37897017</th>\n",
       "      <th>chr10:28721910-28722814</th>\n",
       "      <th>chrX:41516589-41517397</th>\n",
       "      <th>chr4:25925586-25926432</th>\n",
       "      <th>chr12:100778901-100779899</th>\n",
       "      <th>chr10:103659733-103660585</th>\n",
       "      <th>chr12:103697690-103698456</th>\n",
       "      <th>chr22:44571646-44572526</th>\n",
       "      <th>chrX:118254353-118255289</th>\n",
       "    </tr>\n",
       "    <tr>\n",
       "      <th>sample_id</th>\n",
       "      <th></th>\n",
       "      <th></th>\n",
       "      <th></th>\n",
       "      <th></th>\n",
       "      <th></th>\n",
       "      <th></th>\n",
       "      <th></th>\n",
       "      <th></th>\n",
       "      <th></th>\n",
       "      <th></th>\n",
       "      <th></th>\n",
       "      <th></th>\n",
       "      <th></th>\n",
       "      <th></th>\n",
       "      <th></th>\n",
       "      <th></th>\n",
       "      <th></th>\n",
       "      <th></th>\n",
       "      <th></th>\n",
       "      <th></th>\n",
       "      <th></th>\n",
       "    </tr>\n",
       "  </thead>\n",
       "  <tbody>\n",
       "    <tr>\n",
       "      <th>Aging130</th>\n",
       "      <td>0.707220</td>\n",
       "      <td>0.087041</td>\n",
       "      <td>0.331229</td>\n",
       "      <td>0.479697</td>\n",
       "      <td>0.426707</td>\n",
       "      <td>0.967323</td>\n",
       "      <td>0.841334</td>\n",
       "      <td>0.443564</td>\n",
       "      <td>0.471119</td>\n",
       "      <td>0.635027</td>\n",
       "      <td>...</td>\n",
       "      <td>0.540583</td>\n",
       "      <td>0.109733</td>\n",
       "      <td>0.404213</td>\n",
       "      <td>0.361813</td>\n",
       "      <td>0.289198</td>\n",
       "      <td>0.056898</td>\n",
       "      <td>0.419878</td>\n",
       "      <td>0.382470</td>\n",
       "      <td>0.340015</td>\n",
       "      <td>0.450028</td>\n",
       "    </tr>\n",
       "    <tr>\n",
       "      <th>Aging122</th>\n",
       "      <td>0.357498</td>\n",
       "      <td>0.154830</td>\n",
       "      <td>0.338332</td>\n",
       "      <td>0.514961</td>\n",
       "      <td>0.666251</td>\n",
       "      <td>0.063567</td>\n",
       "      <td>0.264812</td>\n",
       "      <td>0.017654</td>\n",
       "      <td>0.322422</td>\n",
       "      <td>0.242145</td>\n",
       "      <td>...</td>\n",
       "      <td>0.606640</td>\n",
       "      <td>0.916681</td>\n",
       "      <td>0.668765</td>\n",
       "      <td>0.492890</td>\n",
       "      <td>1.000000</td>\n",
       "      <td>0.904798</td>\n",
       "      <td>0.947933</td>\n",
       "      <td>1.000000</td>\n",
       "      <td>0.554636</td>\n",
       "      <td>0.949390</td>\n",
       "    </tr>\n",
       "    <tr>\n",
       "      <th>Aging123</th>\n",
       "      <td>0.698828</td>\n",
       "      <td>0.107115</td>\n",
       "      <td>1.000000</td>\n",
       "      <td>0.756356</td>\n",
       "      <td>0.774877</td>\n",
       "      <td>0.269665</td>\n",
       "      <td>0.411813</td>\n",
       "      <td>0.127272</td>\n",
       "      <td>0.242519</td>\n",
       "      <td>0.326164</td>\n",
       "      <td>...</td>\n",
       "      <td>0.446376</td>\n",
       "      <td>0.277842</td>\n",
       "      <td>0.503194</td>\n",
       "      <td>0.137849</td>\n",
       "      <td>0.371394</td>\n",
       "      <td>0.480911</td>\n",
       "      <td>0.436230</td>\n",
       "      <td>0.371228</td>\n",
       "      <td>0.351497</td>\n",
       "      <td>0.665849</td>\n",
       "    </tr>\n",
       "    <tr>\n",
       "      <th>Aging141</th>\n",
       "      <td>0.247941</td>\n",
       "      <td>0.125236</td>\n",
       "      <td>0.721706</td>\n",
       "      <td>0.366574</td>\n",
       "      <td>0.507915</td>\n",
       "      <td>0.621369</td>\n",
       "      <td>0.572773</td>\n",
       "      <td>0.290403</td>\n",
       "      <td>0.099714</td>\n",
       "      <td>0.372647</td>\n",
       "      <td>...</td>\n",
       "      <td>0.564342</td>\n",
       "      <td>0.447013</td>\n",
       "      <td>0.332554</td>\n",
       "      <td>0.402159</td>\n",
       "      <td>0.408297</td>\n",
       "      <td>0.026762</td>\n",
       "      <td>0.414274</td>\n",
       "      <td>0.108780</td>\n",
       "      <td>0.324162</td>\n",
       "      <td>0.734333</td>\n",
       "    </tr>\n",
       "    <tr>\n",
       "      <th>Aging077</th>\n",
       "      <td>0.222169</td>\n",
       "      <td>0.141571</td>\n",
       "      <td>0.234548</td>\n",
       "      <td>0.310533</td>\n",
       "      <td>0.288579</td>\n",
       "      <td>0.246334</td>\n",
       "      <td>0.405959</td>\n",
       "      <td>0.131142</td>\n",
       "      <td>0.225636</td>\n",
       "      <td>0.456391</td>\n",
       "      <td>...</td>\n",
       "      <td>0.757682</td>\n",
       "      <td>0.508507</td>\n",
       "      <td>0.453806</td>\n",
       "      <td>0.421685</td>\n",
       "      <td>0.585732</td>\n",
       "      <td>0.305183</td>\n",
       "      <td>0.507989</td>\n",
       "      <td>0.482801</td>\n",
       "      <td>0.753356</td>\n",
       "      <td>0.715847</td>\n",
       "    </tr>\n",
       "  </tbody>\n",
       "</table>\n",
       "<p>5 rows × 2109 columns</p>\n",
       "</div>"
      ],
      "text/plain": [
       "              DCLK3    COL1A2  AL138828.1    MYCNOS    SFT2D3  AL138689.2  \\\n",
       "sample_id                                                                   \n",
       "Aging130   0.707220  0.087041    0.331229  0.479697  0.426707    0.967323   \n",
       "Aging122   0.357498  0.154830    0.338332  0.514961  0.666251    0.063567   \n",
       "Aging123   0.698828  0.107115    1.000000  0.756356  0.774877    0.269665   \n",
       "Aging141   0.247941  0.125236    0.721706  0.366574  0.507915    0.621369   \n",
       "Aging077   0.222169  0.141571    0.234548  0.310533  0.288579    0.246334   \n",
       "\n",
       "           AL135791.1  AP000462.2   NGF-AS1     REXO2  ...  \\\n",
       "sample_id                                              ...   \n",
       "Aging130     0.841334    0.443564  0.471119  0.635027  ...   \n",
       "Aging122     0.264812    0.017654  0.322422  0.242145  ...   \n",
       "Aging123     0.411813    0.127272  0.242519  0.326164  ...   \n",
       "Aging141     0.572773    0.290403  0.099714  0.372647  ...   \n",
       "Aging077     0.405959    0.131142  0.225636  0.456391  ...   \n",
       "\n",
       "           chr15:74382103-74383014  chr4:37896254-37897017  \\\n",
       "sample_id                                                    \n",
       "Aging130                  0.540583                0.109733   \n",
       "Aging122                  0.606640                0.916681   \n",
       "Aging123                  0.446376                0.277842   \n",
       "Aging141                  0.564342                0.447013   \n",
       "Aging077                  0.757682                0.508507   \n",
       "\n",
       "           chr10:28721910-28722814  chrX:41516589-41517397  \\\n",
       "sample_id                                                    \n",
       "Aging130                  0.404213                0.361813   \n",
       "Aging122                  0.668765                0.492890   \n",
       "Aging123                  0.503194                0.137849   \n",
       "Aging141                  0.332554                0.402159   \n",
       "Aging077                  0.453806                0.421685   \n",
       "\n",
       "           chr4:25925586-25926432  chr12:100778901-100779899  \\\n",
       "sample_id                                                      \n",
       "Aging130                 0.289198                   0.056898   \n",
       "Aging122                 1.000000                   0.904798   \n",
       "Aging123                 0.371394                   0.480911   \n",
       "Aging141                 0.408297                   0.026762   \n",
       "Aging077                 0.585732                   0.305183   \n",
       "\n",
       "           chr10:103659733-103660585  chr12:103697690-103698456  \\\n",
       "sample_id                                                         \n",
       "Aging130                    0.419878                   0.382470   \n",
       "Aging122                    0.947933                   1.000000   \n",
       "Aging123                    0.436230                   0.371228   \n",
       "Aging141                    0.414274                   0.108780   \n",
       "Aging077                    0.507989                   0.482801   \n",
       "\n",
       "           chr22:44571646-44572526  chrX:118254353-118255289  \n",
       "sample_id                                                     \n",
       "Aging130                  0.340015                  0.450028  \n",
       "Aging122                  0.554636                  0.949390  \n",
       "Aging123                  0.351497                  0.665849  \n",
       "Aging141                  0.324162                  0.734333  \n",
       "Aging077                  0.753356                  0.715847  \n",
       "\n",
       "[5 rows x 2109 columns]"
      ]
     },
     "metadata": {},
     "output_type": "display_data"
    },
    {
     "name": "stdout",
     "output_type": "stream",
     "text": [
      "CPU times: user 34.5 s, sys: 15.4 s, total: 50 s\n",
      "Wall time: 25 s\n"
     ]
    }
   ],
   "source": [
    "%%time\n",
    "cell_type = 'ExN'\n",
    "cell_type_quants = []\n",
    "modality_features = {}\n",
    "for modality in modalities:\n",
    "    features_to_keep = age_results_df.loc[(age_results_df.tissue == cell_type) & \n",
    "                                          (age_results_df.modality == modality)].feature.to_list()\n",
    "    print(modality, len(features_to_keep))\n",
    "    modality_features[modality] = features_to_keep\n",
    "    in_file = f'{quants_dir}/{project}.{modality}.{prefix_type}.{cell_type}.pb.parquet'\n",
    "    df = read_parquet(in_file)\n",
    "    df = df[features_to_keep]    \n",
    "    # df = df[features_to_keep + ['cell_count']]\n",
    "    # df = df.rename(columns={'cell_count': f'{modality}_cell_count'})\n",
    "    print(modality, df.shape)\n",
    "    cell_type_quants.append(df)\n",
    "quants_df = concat(cell_type_quants, axis='columns', join='inner')\n",
    "print(f'shape of feature quantifications for {cell_type} is {quants_df.shape}')\n",
    "if DEBUG:\n",
    "    display(quants_df.sample(5))"
   ]
  },
  {
   "cell_type": "markdown",
   "id": "4811ba7e-0ac6-4c66-b45d-8181a75870d0",
   "metadata": {},
   "source": [
    "### using PCA"
   ]
  },
  {
   "cell_type": "markdown",
   "id": "3b8593ea-5c74-40c2-888b-e3f472e44f89",
   "metadata": {},
   "source": [
    "#### find number of components to use"
   ]
  },
  {
   "cell_type": "code",
   "execution_count": 8,
   "id": "d2698bf5-636d-4386-ab3a-caadf539838a",
   "metadata": {
    "scrolled": true
   },
   "outputs": [
    {
     "name": "stdout",
     "output_type": "stream",
     "text": [
      "max count is 18\n",
      "PCA with 1 components accuracy is 0.4064, RMSE is 0.1755\n",
      "PCA with 2 components accuracy is 0.5289, RMSE is 0.1559\n",
      "PCA with 3 components accuracy is 0.5976, RMSE is 0.1441\n",
      "PCA with 4 components accuracy is 0.6528, RMSE is 0.1335\n",
      "PCA with 5 components accuracy is 0.6943, RMSE is 0.1254\n",
      "PCA with 6 components accuracy is 0.7207, RMSE is 0.1197\n",
      "PCA with 7 components accuracy is 0.7443, RMSE is 0.1145\n",
      "PCA with 8 components accuracy is 0.7667, RMSE is 0.1093\n",
      "PCA with 9 components accuracy is 0.7867, RMSE is 0.1045\n",
      "PCA with 10 components accuracy is 0.8050, RMSE is 0.0998\n",
      "PCA with 11 components accuracy is 0.8223, RMSE is 0.0951\n",
      "PCA with 12 components accuracy is 0.8377, RMSE is 0.0909\n",
      "PCA with 13 components accuracy is 0.8507, RMSE is 0.0870\n",
      "PCA with 14 components accuracy is 0.8627, RMSE is 0.0834\n",
      "PCA with 15 components accuracy is 0.8741, RMSE is 0.0798\n",
      "PCA with 16 components accuracy is 0.8845, RMSE is 0.0764\n",
      "PCA with 17 components accuracy is 0.8882, RMSE is 0.0730\n",
      "PCA with 18 components accuracy is 0.9036, RMSE is 0.0697\n",
      "CPU times: user 52.1 s, sys: 1.5 s, total: 53.6 s\n",
      "Wall time: 964 ms\n"
     ]
    }
   ],
   "source": [
    "%%time\n",
    "max_count = int(min(quants_df.shape[0], quants_df.shape[1])/2)\n",
    "print(f'max count is {max_count}')\n",
    "\n",
    "r2_values, rmse_values = iterate_model_component_counts(max_count, quants_df, 'PCA')"
   ]
  },
  {
   "cell_type": "code",
   "execution_count": 9,
   "id": "9ff3a90b-e3f1-4245-a08c-0d02d04d749e",
   "metadata": {},
   "outputs": [
    {
     "name": "stdout",
     "output_type": "stream",
     "text": [
      "best curve at knee 5\n",
      "best number of components is 5 at RMSE of 0.1253693550825119\n"
     ]
    },
    {
     "data": {
      "image/png": "[encoded data removed]",
      "text/plain": [
       "<Figure size 600x600 with 1 Axes>"
      ]
     },
     "metadata": {},
     "output_type": "display_data"
    },
    {
     "data": {
      "image/png": "[encoded data removed]",
      "text/plain": [
       "<Figure size 600x600 with 1 Axes>"
      ]
     },
     "metadata": {},
     "output_type": "display_data"
    },
    {
     "name": "stdout",
     "output_type": "stream",
     "text": [
      "best curve at knee 5\n",
      "best number of components is 5 at R2 of 0.6942782230446927\n"
     ]
    },
    {
     "data": {
      "image/png": "[encoded data removed]",
      "text/plain": [
       "<Figure size 600x600 with 1 Axes>"
      ]
     },
     "metadata": {},
     "output_type": "display_data"
    },
    {
     "data": {
      "image/png": "[encoded data removed]",
      "text/plain": [
       "<Figure size 600x600 with 1 Axes>"
      ]
     },
     "metadata": {},
     "output_type": "display_data"
    },
    {
     "name": "stdout",
     "output_type": "stream",
     "text": [
      "5\n"
     ]
    }
   ],
   "source": [
    "knee_rmse = component_from_max_curve(rmse_values, 'RMSE')\n",
    "knee_r2 = component_from_max_curve(r2_values, 'R2')\n",
    "num_comp = max(knee_rmse, knee_r2)\n",
    "print(num_comp)"
   ]
  },
  {
   "cell_type": "markdown",
   "id": "c0f1a2b7-9499-4010-bce9-1a0561613d28",
   "metadata": {},
   "source": [
    "#### regenerate the PCA model at the selected component size"
   ]
  },
  {
   "cell_type": "code",
   "execution_count": 10,
   "id": "a3e5d7ca-24a0-48a4-b6f7-b440c07a4aaf",
   "metadata": {},
   "outputs": [
    {
     "name": "stdout",
     "output_type": "stream",
     "text": [
      "PCA with 5 components accuracy is 0.6943, RMSE is 0.1254\n",
      "(36, 5)\n"
     ]
    },
    {
     "data": {
      "text/html": [
       "<div>\n",
       "<style scoped>\n",
       "    .dataframe tbody tr th:only-of-type {\n",
       "        vertical-align: middle;\n",
       "    }\n",
       "\n",
       "    .dataframe tbody tr th {\n",
       "        vertical-align: top;\n",
       "    }\n",
       "\n",
       "    .dataframe thead th {\n",
       "        text-align: right;\n",
       "    }\n",
       "</style>\n",
       "<table border=\"1\" class=\"dataframe\">\n",
       "  <thead>\n",
       "    <tr style=\"text-align: right;\">\n",
       "      <th></th>\n",
       "      <th>PCA_0</th>\n",
       "      <th>PCA_1</th>\n",
       "      <th>PCA_2</th>\n",
       "      <th>PCA_3</th>\n",
       "      <th>PCA_4</th>\n",
       "    </tr>\n",
       "    <tr>\n",
       "      <th>sample_id</th>\n",
       "      <th></th>\n",
       "      <th></th>\n",
       "      <th></th>\n",
       "      <th></th>\n",
       "      <th></th>\n",
       "    </tr>\n",
       "  </thead>\n",
       "  <tbody>\n",
       "    <tr>\n",
       "      <th>Aging070</th>\n",
       "      <td>13.7716</td>\n",
       "      <td>-4.9333</td>\n",
       "      <td>0.3465</td>\n",
       "      <td>0.4841</td>\n",
       "      <td>0.6107</td>\n",
       "    </tr>\n",
       "    <tr>\n",
       "      <th>Aging077</th>\n",
       "      <td>8.2643</td>\n",
       "      <td>0.6764</td>\n",
       "      <td>1.7261</td>\n",
       "      <td>2.3144</td>\n",
       "      <td>0.9980</td>\n",
       "    </tr>\n",
       "    <tr>\n",
       "      <th>Aging081</th>\n",
       "      <td>-12.0938</td>\n",
       "      <td>3.6721</td>\n",
       "      <td>4.9551</td>\n",
       "      <td>-5.3402</td>\n",
       "      <td>8.2581</td>\n",
       "    </tr>\n",
       "    <tr>\n",
       "      <th>Aging085</th>\n",
       "      <td>-5.1865</td>\n",
       "      <td>2.0721</td>\n",
       "      <td>3.1760</td>\n",
       "      <td>0.9659</td>\n",
       "      <td>-1.0745</td>\n",
       "    </tr>\n",
       "    <tr>\n",
       "      <th>Aging089</th>\n",
       "      <td>-3.6560</td>\n",
       "      <td>-3.5826</td>\n",
       "      <td>-0.0896</td>\n",
       "      <td>0.2047</td>\n",
       "      <td>-1.0247</td>\n",
       "    </tr>\n",
       "  </tbody>\n",
       "</table>\n",
       "</div>"
      ],
      "text/plain": [
       "             PCA_0   PCA_1   PCA_2   PCA_3   PCA_4\n",
       "sample_id                                         \n",
       "Aging070   13.7716 -4.9333  0.3465  0.4841  0.6107\n",
       "Aging077    8.2643  0.6764  1.7261  2.3144  0.9980\n",
       "Aging081  -12.0938  3.6721  4.9551 -5.3402  8.2581\n",
       "Aging085   -5.1865  2.0721  3.1760  0.9659 -1.0745\n",
       "Aging089   -3.6560 -3.5826 -0.0896  0.2047 -1.0247"
      ]
     },
     "metadata": {},
     "output_type": "display_data"
    }
   ],
   "source": [
    "pca_df,_,_ = generate_selected_model(num_comp, quants_df, 'PCA')\n",
    "if DEBUG:\n",
    "    print(pca_df.shape)\n",
    "    display(pca_df.head())"
   ]
  },
  {
   "cell_type": "markdown",
   "id": "492ec10b-eaad-437a-9c67-f9c0e81aa7df",
   "metadata": {},
   "source": [
    "#### what are the 'important features' based on their loadings"
   ]
  },
  {
   "cell_type": "code",
   "execution_count": 11,
   "id": "7a7944d5-277c-475a-bfca-bb092ff38bb7",
   "metadata": {},
   "outputs": [
    {
     "ename": "NameError",
     "evalue": "name 'pca' is not defined",
     "output_type": "error",
     "traceback": [
      "\u001b[0;31m---------------------------------------------------------------------------\u001b[0m",
      "\u001b[0;31mNameError\u001b[0m                                 Traceback (most recent call last)",
      "Cell \u001b[0;32mIn[11], line 1\u001b[0m\n\u001b[0;32m----> 1\u001b[0m important_loadings(\u001b[43mpca\u001b[49m\u001b[38;5;241m.\u001b[39mcomponents_, pca\u001b[38;5;241m.\u001b[39mfeature_names_in_, modality_features)\n",
      "\u001b[0;31mNameError\u001b[0m: name 'pca' is not defined"
     ]
    }
   ],
   "source": [
    "important_loadings(pca.components_, pca.feature_names_in_, modality_features)"
   ]
  },
  {
   "cell_type": "markdown",
   "id": "c37aa3f3-bdaa-40fb-a675-09c090a3be1d",
   "metadata": {},
   "source": [
    "### using NMF"
   ]
  },
  {
   "cell_type": "markdown",
   "id": "b8deb995-ce67-4c98-9443-2821b90c6299",
   "metadata": {},
   "source": [
    "#### find number of components to use"
   ]
  },
  {
   "cell_type": "code",
   "execution_count": null,
   "id": "3e131548-1d3e-407e-940f-b5d8c9a31866",
   "metadata": {},
   "outputs": [],
   "source": [
    "r2_values, rmse_values = iterate_model_component_counts(max_count, quants_df, 'NMF')"
   ]
  },
  {
   "cell_type": "code",
   "execution_count": null,
   "id": "18394339-9298-4d8e-846c-1580ad430f36",
   "metadata": {},
   "outputs": [],
   "source": [
    "knee_rmse = component_from_max_curve(rmse_values, 'RMSE')\n",
    "knee_r2 = component_from_max_curve(r2_values, 'R2')\n",
    "num_comp = max(knee_rmse, knee_r2)\n",
    "print(num_comp)"
   ]
  },
  {
   "cell_type": "markdown",
   "id": "3248a72a-4326-476a-b039-931139df2431",
   "metadata": {},
   "source": [
    "#### regenerate the NMF model at the selected component size"
   ]
  },
  {
   "cell_type": "code",
   "execution_count": null,
   "id": "7a574c80-0d90-46eb-b38b-d6f9bcf9d6df",
   "metadata": {},
   "outputs": [],
   "source": [
    "nmf_df,_,_ = generate_selected_model(num_comp, quants_df, 'NMF')\n",
    "if DEBUG:\n",
    "    print(nmf_df.shape)\n",
    "    display(nmf_df.head())"
   ]
  },
  {
   "cell_type": "markdown",
   "id": "d9c760bd-cee2-45b4-9dd9-ec81632abac0",
   "metadata": {},
   "source": [
    "#### what are the 'important features' based on their loadings"
   ]
  },
  {
   "cell_type": "code",
   "execution_count": null,
   "id": "b89e482f-6a18-4cfb-9a4e-2986b2a1ca87",
   "metadata": {},
   "outputs": [],
   "source": [
    "important_loadings(model.components_, model.feature_names_in_, modality_features)"
   ]
  },
  {
   "cell_type": "markdown",
   "id": "6efbf9fd-6f5e-411b-a096-cc7f5d7e502c",
   "metadata": {},
   "source": [
    "### using ICA"
   ]
  },
  {
   "cell_type": "markdown",
   "id": "7931ccf7-e3bb-411f-8e8c-4256db48e8e4",
   "metadata": {},
   "source": [
    "#### find number of components to use"
   ]
  },
  {
   "cell_type": "code",
   "execution_count": null,
   "id": "d093695c-3dee-4491-9779-b7fe19ae5940",
   "metadata": {},
   "outputs": [],
   "source": [
    "r2_values, rmse_values = iterate_model_component_counts(max_count, quants_df, 'ICA')"
   ]
  },
  {
   "cell_type": "code",
   "execution_count": null,
   "id": "99d119be-2f39-48f3-a2ac-b947d4df4445",
   "metadata": {},
   "outputs": [],
   "source": [
    "knee_rmse = component_from_max_curve(rmse_values, 'RMSE')\n",
    "knee_r2 = component_from_max_curve(r2_values, 'R2')\n",
    "num_comp = max(knee_rmse, knee_r2)\n",
    "print(num_comp)"
   ]
  },
  {
   "cell_type": "markdown",
   "id": "de0c68dc-38fd-4239-8d5a-6d1163c9f586",
   "metadata": {},
   "source": [
    "#### regenerate ICA model at the selected component size"
   ]
  },
  {
   "cell_type": "code",
   "execution_count": null,
   "id": "1c3f4086-bbd1-405c-bc9a-bef3753ec265",
   "metadata": {},
   "outputs": [],
   "source": [
    "ica_df,_,_ = generate_selected_model(num_comp, quants_df, 'ICA')\n",
    "if DEBUG:\n",
    "    print(ica_df.shape)\n",
    "    display(ica_df.head())"
   ]
  },
  {
   "cell_type": "markdown",
   "id": "69ac9d74-0473-46de-846a-eeba23f4e3c6",
   "metadata": {},
   "source": [
    "#### what are the 'important features' based on their loadings"
   ]
  },
  {
   "cell_type": "code",
   "execution_count": null,
   "id": "5f32fe9c-539d-4681-ae51-7f4fe5076225",
   "metadata": {},
   "outputs": [],
   "source": [
    "important_loadings(model.components_, model.feature_names_in_, modality_features)"
   ]
  },
  {
   "cell_type": "markdown",
   "id": "86305fb9-9373-4499-90be-3b93e5e499a1",
   "metadata": {},
   "source": [
    "### using a VAE"
   ]
  },
  {
   "cell_type": "code",
   "execution_count": null,
   "id": "a885f510-0653-492c-83bb-5d0410066e78",
   "metadata": {},
   "outputs": [],
   "source": [
    "import torch\n",
    "device = \"cuda\" if torch.cuda.is_available() else \"cpu\"\n",
    "device = 'cpu'\n",
    "print(device)"
   ]
  },
  {
   "cell_type": "code",
   "execution_count": null,
   "id": "f0eb2910-601d-4883-bc1a-505fa426da39",
   "metadata": {},
   "outputs": [],
   "source": [
    "# from pythae.models import VAE, VAEConfig\n",
    "# from pythae.trainers import BaseTrainerConfig\n",
    "# from pythae.pipelines.training import TrainingPipeline\n",
    "# from pythae.models.nn.benchmarks.mnist import Encoder_ResNet_VAE_MNIST, Decoder_ResNet_AE_MNIST"
   ]
  },
  {
   "cell_type": "code",
   "execution_count": null,
   "id": "57fe755d-4ab9-4ecb-be4b-a4a16e4257f2",
   "metadata": {},
   "outputs": [],
   "source": [
    "# import torchvision.datasets as datasets\n",
    "# mnist_trainset = datasets.MNIST(root='../../data', train=True, download=True, transform=None)\n",
    "\n",
    "# train_dataset = mnist_trainset.data[:-10000].reshape(-1, 1, 28, 28) / 255.\n",
    "# eval_dataset = mnist_trainset.data[-10000:].reshape(-1, 1, 28, 28) / 255."
   ]
  },
  {
   "cell_type": "code",
   "execution_count": null,
   "id": "c8ce4145-c8aa-4463-9074-7732cb62bdd6",
   "metadata": {},
   "outputs": [],
   "source": [
    "# config = BaseTrainerConfig(\n",
    "#     output_dir='my_model',\n",
    "#     learning_rate=1e-4,\n",
    "#     per_device_train_batch_size=64,\n",
    "#     per_device_eval_batch_size=64,\n",
    "#     num_epochs=10, # Change this to train the model a bit more\n",
    "#     optimizer_cls=\"AdamW\",\n",
    "#     optimizer_params={\"weight_decay\": 0.05, \"betas\": (0.91, 0.99)}\n",
    "# )\n",
    "\n",
    "\n",
    "# model_config = VAEConfig(\n",
    "#     input_dim=(1, 28, 28),\n",
    "#     latent_dim=16\n",
    "# )\n",
    "\n",
    "# model = VAE(\n",
    "#     model_config=model_config,\n",
    "#     encoder=Encoder_ResNet_VAE_MNIST(model_config), \n",
    "#     decoder=Decoder_ResNet_AE_MNIST(model_config)     \n",
    "# )"
   ]
  },
  {
   "cell_type": "code",
   "execution_count": null,
   "id": "9eca7e55-b264-4ce7-aebd-0707817108db",
   "metadata": {},
   "outputs": [],
   "source": [
    "# pipeline = TrainingPipeline(\n",
    "#     training_config=config,\n",
    "#     model=model\n",
    "# )"
   ]
  },
  {
   "cell_type": "code",
   "execution_count": null,
   "id": "d40528ca-338e-47af-81a7-a3aa94b32723",
   "metadata": {},
   "outputs": [],
   "source": [
    "# pipeline(\n",
    "#     train_data=train_dataset,\n",
    "#     eval_data=eval_dataset\n",
    "# )"
   ]
  },
  {
   "cell_type": "code",
   "execution_count": null,
   "id": "914df8d7-80ca-47b6-979c-dbfe257e8fbe",
   "metadata": {},
   "outputs": [],
   "source": [
    "# import os\n",
    "# from pythae.models import AutoModel"
   ]
  },
  {
   "cell_type": "code",
   "execution_count": null,
   "id": "63fa663c-5f9e-4775-8063-ee8eda469077",
   "metadata": {},
   "outputs": [],
   "source": [
    "# last_training = sorted(os.listdir('my_model'))[-1]\n",
    "# trained_model = AutoModel.load_from_folder(os.path.join('my_model', last_training, 'final_model'))"
   ]
  },
  {
   "cell_type": "code",
   "execution_count": null,
   "id": "3b7a13dd-7c0c-485c-ab48-7852c64e1aed",
   "metadata": {},
   "outputs": [],
   "source": [
    "# from pythae.samplers import NormalSampler"
   ]
  },
  {
   "cell_type": "code",
   "execution_count": null,
   "id": "a3e70372-f1f1-41d9-bd0d-d6fe1fcc3197",
   "metadata": {},
   "outputs": [],
   "source": [
    "# # create normal sampler\n",
    "# normal_samper = NormalSampler(\n",
    "#     model=trained_model\n",
    "# )"
   ]
  },
  {
   "cell_type": "code",
   "execution_count": null,
   "id": "0b0e200c-8adb-4de8-944a-3d8b4b840641",
   "metadata": {},
   "outputs": [],
   "source": [
    "# # sample\n",
    "# gen_data = normal_samper.sample(\n",
    "#     num_samples=25\n",
    "# )"
   ]
  },
  {
   "cell_type": "code",
   "execution_count": null,
   "id": "8ed51514-fb34-4175-8e12-c05905b3bd2f",
   "metadata": {},
   "outputs": [],
   "source": [
    "# # show results with normal sampler\n",
    "# fig, axes = plt.subplots(nrows=5, ncols=5, figsize=(10, 10))\n",
    "\n",
    "# for i in range(5):\n",
    "#     for j in range(5):\n",
    "#         axes[i][j].imshow(gen_data[i*5 +j].cpu().squeeze(0), cmap='gray')\n",
    "#         axes[i][j].axis('off')\n",
    "# plt.tight_layout(pad=0.)"
   ]
  },
  {
   "cell_type": "code",
   "execution_count": null,
   "id": "dc608026-3e2e-40ff-b79f-c27ea7b9ba22",
   "metadata": {},
   "outputs": [],
   "source": [
    "# from pythae.samplers import GaussianMixtureSampler, GaussianMixtureSamplerConfig"
   ]
  },
  {
   "cell_type": "code",
   "execution_count": null,
   "id": "0ea4d04a-15b6-4497-99fc-3a03a3fb924a",
   "metadata": {},
   "outputs": [],
   "source": [
    "# # set up GMM sampler config\n",
    "# gmm_sampler_config = GaussianMixtureSamplerConfig(\n",
    "#     n_components=10\n",
    "# )\n",
    "\n",
    "# # create gmm sampler\n",
    "# gmm_sampler = GaussianMixtureSampler(\n",
    "#     sampler_config=gmm_sampler_config,\n",
    "#     model=trained_model\n",
    "# )\n",
    "\n",
    "# # fit the sampler\n",
    "# gmm_sampler.fit(train_dataset)"
   ]
  },
  {
   "cell_type": "code",
   "execution_count": null,
   "id": "76703f89-45c1-447a-a898-3fce2d61ac2a",
   "metadata": {},
   "outputs": [],
   "source": [
    "# # sample\n",
    "# gen_data = gmm_sampler.sample(\n",
    "#     num_samples=25\n",
    "# )"
   ]
  },
  {
   "cell_type": "code",
   "execution_count": null,
   "id": "970ee105-ac75-45c7-a061-487653f78f14",
   "metadata": {},
   "outputs": [],
   "source": [
    "# # show results with gmm sampler\n",
    "# fig, axes = plt.subplots(nrows=5, ncols=5, figsize=(10, 10))\n",
    "\n",
    "# for i in range(5):\n",
    "#     for j in range(5):\n",
    "#         axes[i][j].imshow(gen_data[i*5 +j].cpu().squeeze(0), cmap='gray')\n",
    "#         axes[i][j].axis('off')\n",
    "# plt.tight_layout(pad=0.)"
   ]
  },
  {
   "cell_type": "code",
   "execution_count": null,
   "id": "fa9dcda2-89a0-44e2-9711-3535b0f8c36d",
   "metadata": {},
   "outputs": [],
   "source": [
    "# reconstructions = trained_model.reconstruct(eval_dataset[:25].to(device)).detach().cpu()"
   ]
  },
  {
   "cell_type": "code",
   "execution_count": null,
   "id": "335a30be-59de-43b7-ac6e-45ce75d83ca6",
   "metadata": {},
   "outputs": [],
   "source": [
    "# # show reconstructions\n",
    "# fig, axes = plt.subplots(nrows=5, ncols=5, figsize=(10, 10))\n",
    "\n",
    "# for i in range(5):\n",
    "#     for j in range(5):\n",
    "#         axes[i][j].imshow(reconstructions[i*5 + j].cpu().squeeze(0), cmap='gray')\n",
    "#         axes[i][j].axis('off')\n",
    "# plt.tight_layout(pad=0.)"
   ]
  },
  {
   "cell_type": "code",
   "execution_count": null,
   "id": "bb67a239-a6f7-4ee1-8ba1-6aee6c4356a4",
   "metadata": {},
   "outputs": [],
   "source": [
    "# # show the true data\n",
    "# fig, axes = plt.subplots(nrows=5, ncols=5, figsize=(10, 10))\n",
    "\n",
    "# for i in range(5):\n",
    "#     for j in range(5):\n",
    "#         axes[i][j].imshow(eval_dataset[i*5 +j].cpu().squeeze(0), cmap='gray')\n",
    "#         axes[i][j].axis('off')\n",
    "# plt.tight_layout(pad=0.)"
   ]
  },
  {
   "cell_type": "code",
   "execution_count": null,
   "id": "c768f77b-cd91-4f09-bd02-6d8076b8f74f",
   "metadata": {},
   "outputs": [],
   "source": [
    "# interpolations = trained_model.interpolate(eval_dataset[:5].to(device), eval_dataset[5:10].to(device), granularity=10).detach().cpu()"
   ]
  },
  {
   "cell_type": "code",
   "execution_count": null,
   "id": "9147f9e1-5b29-4c0d-8cef-90b745279613",
   "metadata": {},
   "outputs": [],
   "source": [
    "# # show interpolations\n",
    "# fig, axes = plt.subplots(nrows=5, ncols=10, figsize=(10, 5))\n",
    "\n",
    "# for i in range(5):\n",
    "#     for j in range(10):\n",
    "#         axes[i][j].imshow(interpolations[i, j].cpu().squeeze(0), cmap='gray')\n",
    "#         axes[i][j].axis('off')\n",
    "# plt.tight_layout(pad=0.)"
   ]
  }
 ],
 "metadata": {
  "kernelspec": {
   "display_name": "Python 3 (ipykernel)",
   "language": "python",
   "name": "python3"
  },
  "language_info": {
   "codemirror_mode": {
    "name": "ipython",
    "version": 3
   },
   "file_extension": ".py",
   "mimetype": "text/x-python",
   "name": "python",
   "nbconvert_exporter": "python",
   "pygments_lexer": "ipython3",
   "version": "3.10.13"
  }
 },
 "nbformat": 4,
 "nbformat_minor": 5
}
