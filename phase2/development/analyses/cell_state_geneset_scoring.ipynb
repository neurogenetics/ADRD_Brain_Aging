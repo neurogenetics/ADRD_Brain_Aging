{
 "cells": [
  {
   "cell_type": "markdown",
   "id": "c8cc2b87-7b80-4089-a2ca-ae9625779123",
   "metadata": {},
   "source": [
    "## Detect cell states based on marker-set gene sum scoring\n",
    "\n",
    "Roughly based on method from: <br>\n",
    "[Gross PS, Durán-Laforet V, Ho LT et al. Senescent-like microglia limit remyelination through the senescence associated secretory phenotype. Nat Commun 2025;16:2283.](https://pubmed.ncbi.nlm.nih.gov/40055369/)"
   ]
  },
  {
   "cell_type": "code",
   "execution_count": null,
   "id": "0dba3267-3542-43f8-8841-5f252c7de27a",
   "metadata": {},
   "outputs": [],
   "source": [
    "!date"
   ]
  },
  {
   "cell_type": "markdown",
   "id": "6258e498-5c1c-4cc4-b65a-42166d3cf7b5",
   "metadata": {},
   "source": [
    "#### import libraries"
   ]
  },
  {
   "cell_type": "code",
   "execution_count": null,
   "id": "22468159-cff5-4e9d-bf33-6349e6834758",
   "metadata": {},
   "outputs": [],
   "source": [
    "import scanpy as sc\n",
    "from anndata import AnnData\n",
    "import json\n",
    "import numpy as np\n",
    "from pandas import Series, DataFrame\n",
    "import matplotlib.pyplot as plt\n",
    "from matplotlib.pyplot import rc_context\n",
    "from kneed import KneeLocator\n",
    "import statsmodels.api as sm\n",
    "from seaborn import regplot, barplot\n",
    "\n",
    "%matplotlib inline\n",
    "# for white background of figures (only for docs rendering)\n",
    "%config InlineBackend.print_figure_kwargs={'facecolor' : \"w\"}\n",
    "%config InlineBackend.figure_format='retina'"
   ]
  },
  {
   "cell_type": "markdown",
   "id": "62262412-dd71-4566-9f61-420166d0b3b2",
   "metadata": {},
   "source": [
    "#### set notebook variables"
   ]
  },
  {
   "cell_type": "code",
   "execution_count": null,
   "id": "16dc31c6-9f63-443b-9549-57134bec2353",
   "metadata": {},
   "outputs": [],
   "source": [
    "# variables\n",
    "project = 'aging_phase2'\n",
    "DEBUG = True\n",
    "DPI_VALUE = 100\n",
    "\n",
    "# directories\n",
    "wrk_dir = '/labshare/raph/datasets/adrd_neuro/brain_aging/phase2'\n",
    "quants_dir = f'{wrk_dir}/quants'\n",
    "\n",
    "# in files\n",
    "anndata_file = f'{quants_dir}/{project}.multivi.curated_final.h5ad'\n",
    "markers_json = '/home/gibbsr/working/ADRD_Brain_Aging/phase2/development/analyses/gene_sets.json'\n",
    "\n",
    "if DEBUG:\n",
    "    print(f'{anndata_file=}')\n",
    "    print(f'{markers_json=}')"
   ]
  },
  {
   "cell_type": "markdown",
   "id": "10f28b2e-fad2-47b6-9f23-64fe10bd8968",
   "metadata": {},
   "source": [
    "#### functions"
   ]
  },
  {
   "cell_type": "code",
   "execution_count": null,
   "id": "2611420a-315d-4617-8922-f2ddac29b148",
   "metadata": {},
   "outputs": [],
   "source": [
    "def peek_dataframe(df: DataFrame, verbose: bool=False):\n",
    "    print(f'{df.shape=}')\n",
    "    if verbose:\n",
    "        display(df.head())\n",
    "\n",
    "def peek_anndata(adata: AnnData, message: str=None, verbose: bool=False):\n",
    "    if not message is None and len(message) > 0:\n",
    "        print(message)\n",
    "    print(adata)\n",
    "    if verbose:\n",
    "        display(adata.obs.head())\n",
    "        display(adata.var.head())\n",
    "\n",
    "def load_marker_set(marker_genes_json: str, adata: AnnData, \n",
    "                    verbose: bool=False) -> (set, dict):\n",
    "    markers_dict = None\n",
    "    markers = None\n",
    "    possible_features = set(adata.var.index.values)\n",
    "    print(f'{len(possible_features)} features are present')        \n",
    "    \n",
    "    with open(marker_genes_json, 'r') as json_file:\n",
    "        markers_dict = json.load(json_file)\n",
    "    # get the set of all markers across the the cell-types\n",
    "    markers = {item for sublist in markers_dict.values() for item in sublist}\n",
    "    print(f'{len(markers)} marker features loaded')\n",
    "    # find the marker genes that are present in the current HV features\n",
    "    missing_markers = markers - possible_features\n",
    "    print(f'missing {len(missing_markers)} markers: {missing_markers}')\n",
    "    # drop the markers missing for the current HV features\n",
    "    markers = markers & possible_features\n",
    "    print(f'{len(markers)} marker features found')\n",
    "    if verbose:\n",
    "        print(f'markers found: {markers}')\n",
    "    # update cell-type markers dict to drop any of the missing markers\n",
    "    list_keys_to_delete = []\n",
    "    for cell_type, marker_list in markers_dict.items():\n",
    "        new_list = list(set(marker_list) & markers)\n",
    "        if len(new_list) > 0:\n",
    "            markers_dict[cell_type] = new_list\n",
    "        else:\n",
    "            list_keys_to_delete.append(cell_type)\n",
    "    for cell_type in list_keys_to_delete:\n",
    "        markers_dict.pop(cell_type)\n",
    "    \n",
    "    return markers, markers_dict\n",
    "\n",
    "def sum_gene_features(adata: AnnData, gene_set) -> Series:\n",
    "    gene_indices = [list(adata.var_names).index(gene) for gene in gene_set]\n",
    "    # Filter the expression data to include only genes in the gene set\n",
    "    if isinstance(adata.X, np.ndarray):\n",
    "        filtered_expr_data = adata.X[:, gene_indices]\n",
    "    else:\n",
    "        filtered_expr_data = adata.X[:, gene_indices].toarray()\n",
    "    # Sum the expression values per cell\n",
    "    gene_set_scores = filtered_expr_data.sum(axis=1)\n",
    "    \n",
    "    return Series(gene_set_scores.flatten(), index=adata.obs_names, name='gene_set_score')\n",
    "\n",
    "def array_summary(arr):\n",
    "    if not isinstance(arr, np.ndarray):\n",
    "        raise TypeError(\"Input must be a NumPy ndarray\")\n",
    "    \n",
    "    print(f\"Shape of the array: {arr.shape}\")\n",
    "    print(f\"Data type of elements: {arr.dtype}\")\n",
    "    print(f\"Minimum value in the array: {np.min(arr):.3f}\")\n",
    "    print(f\"Maximum value in the array: {np.max(arr):.3f}\")\n",
    "    print(f\"Mean of the array elements: {np.mean(arr):.3f}\")\n",
    "    print(f\"Median of the array elements: {np.median(arr):.3f}\")\n",
    "    print(f\"Standard deviation of the array elements: {np.std(arr):.3f}\")\n",
    "    print(f\"Variance of the array elements: {np.var(arr):.3f}\")\n",
    "\n",
    "def find_max_curve(scores: Series, show_plots: bool=False) -> np.float64:\n",
    "    sorted_scores = scores.sort_values(ascending=False)\n",
    "    \n",
    "    data_curve = 'convex'\n",
    "    data_direction = 'decreasing'        \n",
    "    knee = KneeLocator(np.arange(1, len(sorted_scores)+1), sorted_scores, \n",
    "                       S=1.0, curve=data_curve, direction=data_direction)\n",
    "    print(f'best curve at knee {knee.knee}')\n",
    "    num_comp = int(knee.knee)\n",
    "    exp_value = sorted_scores.iloc[num_comp-1]\n",
    "    print(f'best number of cells is {num_comp} at sum of {exp_value}')\n",
    "    if show_plots:\n",
    "        knee.plot_knee()\n",
    "        plt.show()\n",
    "        knee.plot_knee_normalized()\n",
    "        plt.show()  \n",
    "    return exp_value"
   ]
  },
  {
   "cell_type": "markdown",
   "id": "b5cf586a-27aa-424c-9db5-99f8a1344890",
   "metadata": {},
   "source": [
    "## load the raw anndata object"
   ]
  },
  {
   "cell_type": "code",
   "execution_count": null,
   "id": "42dee3e3-4fcf-4b44-9257-54ef3d57a9ad",
   "metadata": {},
   "outputs": [],
   "source": [
    "%%time\n",
    "adata = sc.read_h5ad(anndata_file)\n",
    "peek_anndata(adata, '## input anndata:', DEBUG)"
   ]
  },
  {
   "cell_type": "markdown",
   "id": "b4904808-62a1-4534-aac5-9419215c5fbb",
   "metadata": {},
   "source": [
    "### subset to just the gene features"
   ]
  },
  {
   "cell_type": "code",
   "execution_count": null,
   "id": "f969cb78-0da6-42b9-beea-82d9e84d7a61",
   "metadata": {},
   "outputs": [],
   "source": [
    "adata = adata[:, adata.var.modality == 'Gene Expression']\n",
    "peek_anndata(adata, '## adata just gene features:', DEBUG)"
   ]
  },
  {
   "cell_type": "markdown",
   "id": "232a1082-f547-4ba4-9d13-93ab38cae23a",
   "metadata": {},
   "source": [
    "## load marker sets"
   ]
  },
  {
   "cell_type": "code",
   "execution_count": null,
   "id": "3c450d00-f00e-4fa1-9a57-303fc4d6a383",
   "metadata": {},
   "outputs": [],
   "source": [
    "markers, markers_dict = load_marker_set(markers_json, adata, DEBUG)"
   ]
  },
  {
   "cell_type": "code",
   "execution_count": null,
   "id": "19c55061-1ab8-43bd-97ff-3ceb23898ad8",
   "metadata": {},
   "outputs": [],
   "source": [
    "markers_dict.keys()"
   ]
  },
  {
   "cell_type": "markdown",
   "id": "7d69dcbf-2065-4eee-a370-9093d84269d7",
   "metadata": {},
   "source": [
    "## normalize and transform the counts"
   ]
  },
  {
   "cell_type": "code",
   "execution_count": null,
   "id": "ef1a8408-3e0a-482a-952c-75dd6ba0a404",
   "metadata": {},
   "outputs": [],
   "source": [
    "adata.layers[\"counts\"] = adata.X.copy()\n",
    "\n",
    "# Normalize the data \n",
    "sc.pp.normalize_total(adata, target_sum=1e6)\n",
    "sc.pp.log1p(adata)"
   ]
  },
  {
   "cell_type": "code",
   "execution_count": null,
   "id": "80ff17f3-34a2-41f7-8f4f-e1520129dbdb",
   "metadata": {},
   "outputs": [],
   "source": [
    "gene_set = markers_dict.get('senescence score')\n",
    "print(gene_set)"
   ]
  },
  {
   "cell_type": "markdown",
   "id": "16851b2e-1ea5-427a-97ad-f9432c54c8cc",
   "metadata": {},
   "source": [
    "## identify cell state from marker set"
   ]
  },
  {
   "cell_type": "code",
   "execution_count": null,
   "id": "bdc1cac2-bbb5-4334-8134-4a0a3703d0d2",
   "metadata": {},
   "outputs": [],
   "source": [
    "for set_name, gene_set in markers_dict.items():\n",
    "    print(f'### {set_name}: {gene_set}')\n",
    "    gene_set_scores = sum_gene_features(adata, gene_set)\n",
    "    # array_summary(gene_set_scores.to_numpy())\n",
    "    threshold = find_max_curve(gene_set_scores, True)\n",
    "    found = gene_set_scores[gene_set_scores >= threshold]\n",
    "    print(f'{found.shape=}')\n",
    "    print(f'{(found.shape[0]/gene_set_scores.shape[0])*100:.3f}% of cells matched')\n",
    "    senescent_cell_ids = set(found.index)\n",
    "    # update the obs for cells found as senescent\n",
    "    adata.obs['senescent'] = np.where(adata.obs.index.isin(list(senescent_cell_ids)), 1, 0)\n",
    "    if DEBUG:\n",
    "        display(adata.obs.senescent.value_counts())\n",
    "    # is age associated with the number of senescent cells\n",
    "    counts_table = adata.obs.groupby('sample_id').agg({'senescent': 'sum', 'age': 'first'})\n",
    "    percentages = []\n",
    "    for row in counts_table.itertuples():\n",
    "        percentages.append((row.senescent / adata.obs.loc[adata.obs.sample_id == row.Index].shape[0]) * 100)\n",
    "    counts_table['percent_senescent'] = percentages\n",
    "    X_exog = sm.add_constant(counts_table.age)\n",
    "    model = sm.GLM(counts_table.percent_senescent, X_exog)\n",
    "    result = model.fit()\n",
    "    if result.pvalues['age'] <= 0.05:\n",
    "        print(result.summary())\n",
    "        with rc_context({'figure.figsize': (9, 9), 'figure.dpi': DPI_VALUE}):\n",
    "            plt.style.use('seaborn-v0_8-talk')\n",
    "            regplot(x='age', y='percent_senescent', data=counts_table, robust=True)"
   ]
  },
  {
   "cell_type": "code",
   "execution_count": null,
   "id": "265b307a-11af-48fa-9f32-349643458199",
   "metadata": {
    "scrolled": true
   },
   "outputs": [],
   "source": [
    "results = []\n",
    "for set_name, gene_set in markers_dict.items():\n",
    "    print(f'\\n\\n### {set_name}: {gene_set}')\n",
    "    senescent_cell_ids = set()\n",
    "    for cell_type in adata.obs.curated_type.unique():\n",
    "        print(f'--- {cell_type}')\n",
    "        adata_sub = adata[adata.obs.curated_type == cell_type].copy()\n",
    "        gene_set_scores = sum_gene_features(adata_sub, gene_set)    \n",
    "        # array_summary(gene_set_scores.to_numpy())\n",
    "        threshold = find_max_curve(gene_set_scores)\n",
    "        found = gene_set_scores[gene_set_scores >= threshold]\n",
    "        print(f'{found.shape=}')\n",
    "        percent_matched = round((found.shape[0]/gene_set_scores.shape[0])*100, 3)\n",
    "        print(f'{percent_matched:.3f}% of cells in {cell_type} matched')\n",
    "        results.append([set_name, cell_type, 'broad', percent_matched])\n",
    "        senescent_cell_ids = senescent_cell_ids | set(found.index)\n",
    "        # update the obs for cells found as senescent\n",
    "        adata_sub.obs['senescent'] = np.where(adata_sub.obs.index.isin(list(senescent_cell_ids)), 1, 0)    \n",
    "        # see in cell-type has cluster that are enriched for senescents\n",
    "        if adata_sub.obs.cluster_name.nunique() > 1:\n",
    "            for cluster in adata_sub.obs.cluster_name.unique():\n",
    "                this_obs = adata_sub.obs.loc[adata_sub.obs.cluster_name == cluster]\n",
    "                positive_cnt = this_obs.loc[adata_sub.obs.senescent == 1].shape[0]\n",
    "                cluster_matched = round((positive_cnt/this_obs.shape[0])*100, 3)\n",
    "                print(f'\\t{cluster_matched:.3f}% of cells in {cluster} matched')\n",
    "                results.append([set_name, cluster, 'cluster', cluster_matched])\n",
    "        # is age associated with the number of senescent cells\n",
    "        counts_table = adata_sub.obs.groupby('sample_id').agg({'senescent': 'sum', 'age': 'first'})\n",
    "        percentages = []\n",
    "        for row in counts_table.itertuples():\n",
    "            percentages.append((row.senescent / adata_sub.obs.loc[adata_sub.obs.sample_id == row.Index].shape[0]) * 100)\n",
    "        counts_table['percent_senescent'] = percentages    \n",
    "        X_exog = sm.add_constant(counts_table.age)\n",
    "        # model = sm.GLM(counts_table.senescent, X_exog)\n",
    "        model = sm.GLM(counts_table.percent_senescent, X_exog)\n",
    "        result = model.fit()\n",
    "        if result.pvalues['age'] <= 0.05:\n",
    "            print(result.summary())\n",
    "            with rc_context({'figure.figsize': (9, 9), 'figure.dpi': DPI_VALUE}):\n",
    "                plt.style.use('seaborn-v0_8-talk')\n",
    "                regplot(x='age', y='percent_senescent', data=counts_table, robust=True)\n",
    "                plt.title(f'{cell_type} ({set_name})')\n",
    "                plt.show()\n",
    "    \n",
    "    print(f'In total {(len(senescent_cell_ids)/adata.n_obs)*100:.3f}% of cells matched')    "
   ]
  },
  {
   "cell_type": "code",
   "execution_count": null,
   "id": "97bb37ae-1d03-4bf1-be45-05e98ad66bda",
   "metadata": {},
   "outputs": [],
   "source": [
    "results_df = DataFrame(results, columns=['cell_state', 'cell_type', 'annot_type', 'percentage'])\n",
    "peek_dataframe(results_df, DEBUG)"
   ]
  },
  {
   "cell_type": "code",
   "execution_count": null,
   "id": "7bd072d0-73a6-4575-80e9-d0af1baff6ea",
   "metadata": {},
   "outputs": [],
   "source": [
    "broad_df = results_df.loc[results_df.annot_type == 'broad']\n",
    "peek_dataframe(broad_df, DEBUG)"
   ]
  },
  {
   "cell_type": "code",
   "execution_count": null,
   "id": "bd65f4dd-0fd3-474c-9a32-9874e17b96ff",
   "metadata": {},
   "outputs": [],
   "source": [
    "broad_df.sort_values('percentage', ascending=False)"
   ]
  },
  {
   "cell_type": "markdown",
   "id": "297a2fd0-84f8-4259-b721-809540439026",
   "metadata": {},
   "source": [
    "## visualize DAM percentages"
   ]
  },
  {
   "cell_type": "code",
   "execution_count": null,
   "id": "c737d428-9ba3-4a3c-b327-39e9a9cb601b",
   "metadata": {},
   "outputs": [],
   "source": [
    "gene_sets = ['disease associated microglia']\n",
    "cell_type = 'Micro'\n",
    "dam_df = results_df.loc[(results_df.cell_state.isin(gene_sets)) & (results_df.cell_type.str.startswith(cell_type))]\n",
    "peek_dataframe(dam_df, DEBUG)\n",
    "with rc_context({'figure.figsize': (9, 9), 'figure.dpi': DPI_VALUE}):\n",
    "    plt.style.use('seaborn-v0_8-talk')\n",
    "    barplot(data=dam_df, x='cell_type', y='percentage', hue='annot_type', palette='colorblind')\n",
    "    plt.title('disease associated microglia')\n",
    "    plt.xlabel('Cell Type')\n",
    "    plt.ylabel('Percentage')\n",
    "    plt.show()"
   ]
  },
  {
   "cell_type": "markdown",
   "id": "7171cdd7-7ad1-4494-babc-016e7e4a19a5",
   "metadata": {},
   "source": [
    "## visualize OPC state percentages\n",
    "included OD's with OPC's "
   ]
  },
  {
   "cell_type": "code",
   "execution_count": null,
   "id": "dfc84d89-37a2-40ea-8a6b-2b7ff4563a95",
   "metadata": {},
   "outputs": [],
   "source": [
    "gene_sets = ['Cycling OPC', 'Differentiating OPC', 'Quiescent OPC', 'Transitioning OPC']\n",
    "opc_df = results_df.loc[(results_df.cell_state.isin(gene_sets)) & (results_df.cell_type.str.startswith('OPC') | results_df.cell_type.str.startswith('OD'))]\n",
    "peek_dataframe(opc_df, DEBUG)\n",
    "with rc_context({'figure.figsize': (9, 9), 'figure.dpi': DPI_VALUE}):\n",
    "    plt.style.use('seaborn-v0_8-talk')\n",
    "    barplot(data=opc_df, x='cell_type', y='percentage', hue='cell_state', palette='colorblind')\n",
    "    plt.title('OPC states')\n",
    "    plt.xlabel('Cell Type')\n",
    "    plt.ylabel('Percentage')\n",
    "    plt.show()"
   ]
  },
  {
   "cell_type": "markdown",
   "id": "3bd997e1-2940-432b-bc49-44db0811196c",
   "metadata": {},
   "source": [
    "## visualize senescence state percentages for the various gene sets"
   ]
  },
  {
   "cell_type": "code",
   "execution_count": null,
   "id": "6e04d08a-1eea-40cd-9099-7ec891e40f19",
   "metadata": {},
   "outputs": [],
   "source": [
    "gene_sets = ['Canonical Senescence Pathway', 'Senescence Response Pathway', \n",
    "             'Senescence Initiating Pathway', 'senescence signature', \n",
    "             'SenMayo', 'senescence score']\n",
    "max_y = round(sen_df.loc[sen_df.cell_state.isin(gene_sets)].percentage.max()+1,0)\n",
    "print(max_y)\n",
    "for gene_set in gene_sets:\n",
    "    sen_df = results_df.loc[results_df.cell_state == gene_set]\n",
    "    peek_dataframe(sen_df, DEBUG)\n",
    "    with rc_context({'figure.figsize': (9, 9), 'figure.dpi': DPI_VALUE}):\n",
    "        plt.style.use('seaborn-v0_8-talk')\n",
    "        barplot(data=sen_df, x='cell_type', y='percentage', hue='annot_type', palette='colorblind')\n",
    "        plt.title(gene_set)\n",
    "        plt.xlabel('Cell Type')\n",
    "        plt.ylabel('Percentage')\n",
    "        plt.ylim([None, max_y])\n",
    "        plt.xticks(rotation=90)\n",
    "        plt.show()"
   ]
  },
  {
   "cell_type": "code",
   "execution_count": null,
   "id": "0a102305-5657-4df5-87b8-25af17159163",
   "metadata": {},
   "outputs": [],
   "source": [
    "display(sen_df.head())\n",
    "broad_order = sen_df.loc[sen_df.annot_type == 'broad'].sort_values('percentage', ascending=False).cell_type.to_list()\n",
    "display(broad_order)"
   ]
  },
  {
   "cell_type": "code",
   "execution_count": null,
   "id": "366f814c-de24-4e10-9052-d72abe0f50ee",
   "metadata": {},
   "outputs": [],
   "source": [
    "!date"
   ]
  }
 ],
 "metadata": {
  "kernelspec": {
   "display_name": "Python 3 (ipykernel)",
   "language": "python",
   "name": "python3"
  },
  "language_info": {
   "codemirror_mode": {
    "name": "ipython",
    "version": 3
   },
   "file_extension": ".py",
   "mimetype": "text/x-python",
   "name": "python",
   "nbconvert_exporter": "python",
   "pygments_lexer": "ipython3",
   "version": "3.12.2"
  }
 },
 "nbformat": 4,
 "nbformat_minor": 5
}
