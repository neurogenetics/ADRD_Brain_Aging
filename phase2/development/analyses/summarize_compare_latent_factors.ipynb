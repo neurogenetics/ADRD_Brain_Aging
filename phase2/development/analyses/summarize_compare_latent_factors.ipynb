{
 "cells": [
  {
   "cell_type": "markdown",
   "id": "da3616db-003a-48d9-a656-bf050efa5f2c",
   "metadata": {},
   "source": [
    "## Summarize some of the latent factor metrics and compare the latent factors between factor and cell-types"
   ]
  },
  {
   "cell_type": "code",
   "execution_count": null,
   "id": "38f95826-33c1-4a23-8400-6c9fdc93aa06",
   "metadata": {},
   "outputs": [],
   "source": [
    "!date"
   ]
  },
  {
   "cell_type": "markdown",
   "id": "2673c434-dc59-43b3-a501-b4b4eb1d33de",
   "metadata": {},
   "source": [
    "#### import libraries"
   ]
  },
  {
   "cell_type": "code",
   "execution_count": null,
   "id": "4f42681c-ddee-4742-9f20-92dbcb6b7e53",
   "metadata": {},
   "outputs": [],
   "source": [
    "from pandas import read_csv, concat, DataFrame\n",
    "from seaborn import barplot, scatterplot\n",
    "import matplotlib.pyplot as plt\n",
    "from matplotlib.pyplot import rc_context\n",
    "import statsmodels.api as sm\n",
    "from pandas import DataFrame\n",
    "import numpy as np\n",
    "from sklearn.preprocessing import MinMaxScaler\n",
    "from itertools import combinations\n",
    "from statsmodels.stats.multitest import multipletests\n",
    "\n",
    "%matplotlib inline\n",
    "# for white background of figures (only for docs rendering)\n",
    "%config InlineBackend.print_figure_kwargs={'facecolor' : \"w\"}\n",
    "%config InlineBackend.figure_format='retina'"
   ]
  },
  {
   "cell_type": "markdown",
   "id": "0affe9b1-d112-46c6-b567-0fbe90875527",
   "metadata": {},
   "source": [
    "#### set notebook variables"
   ]
  },
  {
   "cell_type": "code",
   "execution_count": null,
   "id": "b819bc7e-999a-45b4-8e8a-5417d0bd2258",
   "metadata": {},
   "outputs": [],
   "source": [
    "# parameters\n",
    "project = 'aging_phase2'\n",
    "\n",
    "# directories\n",
    "wrk_dir = '/labshare/raph/datasets/adrd_neuro/brain_aging/phase2'\n",
    "results_dir = f'{wrk_dir}/results'\n",
    "\n",
    "# in files\n",
    "assoc_file = f'{results_dir}/{project}.latent.age_glm.csv'\n",
    "metrics_file = f'{results_dir}/{project}.latent.metrics.csv'\n",
    "\n",
    "# out files\n",
    "results_file = f'{results_dir}/{project}.associated_latent_factors.csv'\n",
    "\n",
    "# variables and constants\n",
    "categories = {'curated_type': 'broad', 'cluster_name': 'specific'}\n",
    "modalities = ['GEX', 'ATAC']\n",
    "model_types = ['PCA', 'NMF', 'ICA']\n",
    "DEBUG = False\n",
    "ALPHA = 0.05\n",
    "DPI = 100"
   ]
  },
  {
   "cell_type": "markdown",
   "id": "92557b6f-7452-4a65-a8e5-1cb98a713395",
   "metadata": {},
   "source": [
    "### load the input files"
   ]
  },
  {
   "cell_type": "markdown",
   "id": "e7303ee1-6868-4753-86ff-da5d5446391a",
   "metadata": {},
   "source": [
    "#### load the summary metrics for the latent factors"
   ]
  },
  {
   "cell_type": "code",
   "execution_count": null,
   "id": "bc7d1c37-1a7b-49f8-9fec-c0a22111130e",
   "metadata": {},
   "outputs": [],
   "source": [
    "factor_metrics = read_csv(metrics_file, index_col=0)\n",
    "print(f'shape of factor_metrics is {factor_metrics.shape}')\n",
    "if DEBUG:\n",
    "    display(factor_metrics.sample(5))"
   ]
  },
  {
   "cell_type": "markdown",
   "id": "dac51f11-b937-4eb3-abf8-c3034ef69cbb",
   "metadata": {},
   "source": [
    "#### load the latent factor GLM age association results"
   ]
  },
  {
   "cell_type": "code",
   "execution_count": null,
   "id": "6b34e8bf-c494-4567-bbb8-dbf5ccafe735",
   "metadata": {},
   "outputs": [],
   "source": [
    "age_glm = read_csv(assoc_file, index_col=0)\n",
    "print(f'shape of age_glm is {age_glm.shape}')\n",
    "if DEBUG:\n",
    "    display(age_glm.sample(4))"
   ]
  },
  {
   "cell_type": "markdown",
   "id": "55589e5c-319b-4f96-be13-dd85c8cf1238",
   "metadata": {},
   "source": [
    "### visualize the accuracy of the latent models"
   ]
  },
  {
   "cell_type": "markdown",
   "id": "a35e840c-e1c2-409b-a4a9-cda514a830ac",
   "metadata": {},
   "source": [
    "#### by number of components select"
   ]
  },
  {
   "cell_type": "code",
   "execution_count": null,
   "id": "d2d0c663-5cb4-4ca1-8437-d6637c9cad85",
   "metadata": {},
   "outputs": [],
   "source": [
    "with rc_context({'figure.figsize': (15, 11), 'figure.dpi': DPI}):\n",
    "    plt.style.use('seaborn-v0_8-talk')\n",
    "    barplot(data=factor_metrics.sort_values('n_comp', ascending=False),\n",
    "            x='cell_type', y='n_comp', hue='model_type', palette='colorblind')\n",
    "    plt.xticks(rotation=90)\n",
    "    plt.tight_layout()\n",
    "    plt.title('Number of components selected for model types')\n",
    "    plt.xlabel('Cell types')\n",
    "    plt.ylabel('Number of components')\n",
    "    plt.show()"
   ]
  },
  {
   "cell_type": "markdown",
   "id": "c1971695-8114-40b6-8904-d6c99122e4cc",
   "metadata": {},
   "source": [
    "#### by R-squared"
   ]
  },
  {
   "cell_type": "code",
   "execution_count": null,
   "id": "390822e4-fe15-42a9-a059-a8b5f72c7cb0",
   "metadata": {},
   "outputs": [],
   "source": [
    "with rc_context({'figure.figsize': (15, 11), 'figure.dpi': DPI}):\n",
    "    plt.style.use('seaborn-v0_8-talk')\n",
    "    barplot(data=factor_metrics.sort_values('R2', ascending=False),\n",
    "            x='cell_type', y='R2', hue='model_type', palette='colorblind')\n",
    "    plt.xticks(rotation=90)\n",
    "    plt.tight_layout()\n",
    "    plt.title('Accuracy of model types, R-squared')\n",
    "    plt.xlabel('Cell types')\n",
    "    plt.show()    "
   ]
  },
  {
   "cell_type": "markdown",
   "id": "35d854a4-7ddf-4e2f-b8dc-791a65fd20fb",
   "metadata": {},
   "source": [
    "#### by RMSE"
   ]
  },
  {
   "cell_type": "code",
   "execution_count": null,
   "id": "735f25a4-71b8-48eb-a61b-b06c20015612",
   "metadata": {},
   "outputs": [],
   "source": [
    "with rc_context({'figure.figsize': (15, 11), 'figure.dpi': DPI}):\n",
    "    plt.style.use('seaborn-v0_8-talk')\n",
    "    barplot(data=factor_metrics.sort_values('RSME', ascending=True),\n",
    "            x='cell_type', y='RSME', hue='model_type', palette='colorblind')\n",
    "    plt.xticks(rotation=90)\n",
    "    plt.tight_layout()\n",
    "    plt.title('Accuracy of model types, RMSE')  \n",
    "    plt.xlabel('Cell types')\n",
    "    plt.show()"
   ]
  },
  {
   "cell_type": "markdown",
   "id": "91309e62-bf52-4755-84a0-bdb5a28a3699",
   "metadata": {},
   "source": [
    "### visualize the latent factors associated with age"
   ]
  },
  {
   "cell_type": "code",
   "execution_count": null,
   "id": "cc4fbfa8-c732-4d41-94a7-b295dac89fee",
   "metadata": {},
   "outputs": [],
   "source": [
    "with rc_context({'figure.figsize': (15, 11), 'figure.dpi': DPI}):\n",
    "    plt.style.use('seaborn-v0_8-talk')\n",
    "    scatterplot(data=age_glm.loc[age_glm.fdr_bh <= ALPHA], \n",
    "                x='coef', y='z', hue='model_type', palette='colorblind')\n",
    "    plt.legend(bbox_to_anchor=(1.15, 1), loc='upper right', borderaxespad=0)\n",
    "    plt.tight_layout()\n",
    "    plt.show()"
   ]
  },
  {
   "cell_type": "code",
   "execution_count": null,
   "id": "434342b4-acc8-4f0a-8cff-20b080397df1",
   "metadata": {},
   "outputs": [],
   "source": [
    "with rc_context({'figure.figsize': (15, 11), 'figure.dpi': DPI}):\n",
    "    plt.style.use('seaborn-v0_8-talk')\n",
    "    scatterplot(data=age_glm.loc[age_glm.fdr_bh <= ALPHA], \n",
    "                x='coef', y='z', hue='cell_type', palette='colorblind', style='model_type')\n",
    "    plt.legend(bbox_to_anchor=(1.15, 1), loc='upper right', borderaxespad=0, ncol=1, fontsize=9)\n",
    "    plt.tight_layout()\n",
    "    plt.show()"
   ]
  },
  {
   "cell_type": "code",
   "execution_count": null,
   "id": "dfc0964e-9f2e-4ea1-be85-ee01a6cdd866",
   "metadata": {},
   "outputs": [],
   "source": [
    "age_factor_counts = (age_glm.loc[age_glm.fdr_bh <= ALPHA]\n",
    "                     .groupby(['cell_type', 'model_type'])\n",
    "                     .count().sort_values('feature', ascending=False))\n",
    "if DEBUG:\n",
    "    display(age_factor_counts)\n",
    "\n",
    "with rc_context({'figure.figsize': (15, 11), 'figure.dpi': DPI}):\n",
    "    plt.style.use('seaborn-v0_8-talk')\n",
    "    barplot(data=age_factor_counts,\n",
    "            x='cell_type', y='feature', hue='model_type', palette='colorblind')\n",
    "    plt.xticks(rotation=90)\n",
    "    plt.tight_layout()\n",
    "    plt.title('Number of components selected for model types that are age associated')\n",
    "    plt.xlabel('Cell types')\n",
    "    plt.ylabel('Number of components')\n",
    "    plt.show()    "
   ]
  },
  {
   "cell_type": "markdown",
   "id": "33f43fd9-62e4-4c6d-afa0-89b354f17d38",
   "metadata": {},
   "source": [
    "### identify which latent factors that are age associated are well correlated across cell and model types"
   ]
  },
  {
   "cell_type": "markdown",
   "id": "2b418abc-50d1-4659-8306-5dedc2221e4e",
   "metadata": {},
   "source": [
    "#### load, label, and combine the latent factors into a dataframe"
   ]
  },
  {
   "cell_type": "code",
   "execution_count": null,
   "id": "25c7d310-959b-47ac-8f74-04fe74922452",
   "metadata": {},
   "outputs": [],
   "source": [
    "age_assoc_glm = age_glm.loc[age_glm.fdr_bh <= ALPHA]\n",
    "print(f'shape of age_assoc_glm {age_assoc_glm.shape}')\n",
    "if DEBUG:\n",
    "    display(age_assoc_glm.sample(5))\n",
    "    display(age_assoc_glm.groupby('cell_type').model_type.value_counts().sort_values(ascending=False))"
   ]
  },
  {
   "cell_type": "code",
   "execution_count": null,
   "id": "5d9016cb-4e8c-4284-94ef-afba94ef8aa3",
   "metadata": {},
   "outputs": [],
   "source": [
    "factors = []\n",
    "for category, cell_types in age_assoc_glm.groupby('type').cell_type.unique().items():\n",
    "    for cell_type in cell_types:\n",
    "        for mdl_type in [element.lower() for element in model_types]:\n",
    "            # print(category, cell_type, mdl_type)\n",
    "            this_file = f'{results_dir}/latents/{project}.{category}.{cell_type}.{mdl_type}_components.csv'\n",
    "            this_factors = read_csv(this_file, index_col=0)\n",
    "            this_factors = this_factors.add_prefix(f'{cell_type}:')\n",
    "            factors.append(this_factors)\n",
    "# now convert the list of factor dataframes into single dataframe\n",
    "factors_df = concat(factors, axis='columns')\n",
    "# scale for interpretability\n",
    "factors_df = DataFrame(data=MinMaxScaler().fit_transform(factors_df), \n",
    "                       columns=factors_df.columns, index=factors_df.index)\n",
    "print(f'shape of factors_df is {factors_df.shape}')\n",
    "if DEBUG:\n",
    "    display(factors_df.sample(5))"
   ]
  },
  {
   "cell_type": "markdown",
   "id": "c8d4a048-6099-45e3-a213-f0b3476f4e8f",
   "metadata": {},
   "source": [
    "#### create list of pairings to run regressions for"
   ]
  },
  {
   "cell_type": "code",
   "execution_count": null,
   "id": "af2c4a88-720e-42ce-b764-2183fa576ef4",
   "metadata": {},
   "outputs": [],
   "source": [
    "pairings = list(combinations(factors_df.columns, 2))"
   ]
  },
  {
   "cell_type": "code",
   "execution_count": null,
   "id": "68089553-f374-45d9-9ae9-a3566a70d159",
   "metadata": {},
   "outputs": [],
   "source": [
    "len(pairings)"
   ]
  },
  {
   "cell_type": "markdown",
   "id": "f51ed303-ce2a-4e8b-9ff9-2fc1421d548d",
   "metadata": {},
   "source": [
    "#### regress the pairings"
   ]
  },
  {
   "cell_type": "code",
   "execution_count": null,
   "id": "d21340d7-da53-4279-bd69-01efd181ddf5",
   "metadata": {},
   "outputs": [],
   "source": [
    "%%time\n",
    "def regress_pair(endog_name: str, exog_name: str, data: DataFrame) -> tuple:\n",
    "    ret_list = None\n",
    "    if not endog_name == exog_name:\n",
    "        endog = data[endog_name].values\n",
    "        exog = sm.add_constant(data[exog_name].values)\n",
    "        try:\n",
    "            result = sm.GLM(endog, exog).fit()\n",
    "            ret_list = [endog_name, exog_name, \n",
    "                        result.params[1], result.bse[1], \n",
    "                        result.tvalues[1], result.pvalues[1]]\n",
    "        except:\n",
    "                print(f'Caught Error for {endog_name} ~ {exog_name}')\n",
    "                ret_list = [endog_name] + [exog_name] + [np.nan] * 4        \n",
    "        return ret_list\n",
    "\n",
    "results = [regress_pair(endog_name, exog_name, \n",
    "                        factors_df[[endog_name, exog_name]].dropna()) \n",
    "           for endog_name, exog_name in pairings]"
   ]
  },
  {
   "cell_type": "markdown",
   "id": "b7a664b4-0cac-446b-abf1-67fe37785957",
   "metadata": {},
   "source": [
    "#### convert regression results into a dataframe"
   ]
  },
  {
   "cell_type": "code",
   "execution_count": null,
   "id": "08b43ec5-9267-4e0a-9021-e8e04d26b421",
   "metadata": {},
   "outputs": [],
   "source": [
    "results_df = DataFrame(data=results, \n",
    "                       columns=['endog', 'exog', 'coef', 'stderr', \n",
    "                                'z', 'p-value'])\n",
    "print(f'shape of results_df is {results_df.shape}')\n",
    "if DEBUG:\n",
    "    display(results_df.sample(5))"
   ]
  },
  {
   "cell_type": "markdown",
   "id": "4f083d17-a24d-4913-9f41-52c7f30a3ebd",
   "metadata": {},
   "source": [
    "#### compute the FDR values"
   ]
  },
  {
   "cell_type": "code",
   "execution_count": null,
   "id": "98e3cd4d-766a-4f17-9ba1-b8a01ed33f1f",
   "metadata": {},
   "outputs": [],
   "source": [
    "def compute_bh_fdr(df: DataFrame, alpha: float=0.05, p_col: str='p-value',\n",
    "                   method: str='fdr_bh', verbose: bool=True) -> DataFrame:\n",
    "    ret_df = df.copy()\n",
    "    test_adjust = multipletests(np.array(ret_df[p_col]), alpha=alpha, \n",
    "                                method=method)\n",
    "    ret_df[method] = test_adjust[1]\n",
    "    if verbose:\n",
    "        print(f'total significant after correction: {ret_df.loc[ret_df[method] < alpha].shape}')\n",
    "    return ret_df"
   ]
  },
  {
   "cell_type": "code",
   "execution_count": null,
   "id": "55f553e7-0f27-447d-a463-7389e2adf733",
   "metadata": {},
   "outputs": [],
   "source": [
    "results_df['p-value'] = results_df['p-value'].fillna(1)\n",
    "results_df = compute_bh_fdr(results_df)\n",
    "print(f'shape of results_df is {results_df.shape}')\n",
    "if DEBUG:\n",
    "    display(results_df.sort_values(['fdr_bh']).head())"
   ]
  },
  {
   "cell_type": "markdown",
   "id": "fa2b625e-941c-4302-9509-19b8c0e4f9d2",
   "metadata": {},
   "source": [
    "#### save the results"
   ]
  },
  {
   "cell_type": "code",
   "execution_count": null,
   "id": "b1504ee4-f77b-40e6-8c00-61408c332329",
   "metadata": {},
   "outputs": [],
   "source": [
    "results_df.to_csv(results_file)"
   ]
  },
  {
   "cell_type": "markdown",
   "id": "38c3ca55-0ef6-49c6-846e-d89da73c514f",
   "metadata": {},
   "source": [
    "#### visualize a random result"
   ]
  },
  {
   "cell_type": "code",
   "execution_count": null,
   "id": "0c5a5dd7-ebb7-43b0-be57-3817fc296564",
   "metadata": {},
   "outputs": [],
   "source": [
    "random_result = results_df.loc[results_df.fdr_bh <= ALPHA].sample(n=1).iloc[0]\n",
    "print(random_result)\n",
    "\n",
    "with rc_context({'figure.figsize': (9, 9), 'figure.dpi': DPI}):\n",
    "    plt.style.use('seaborn-v0_8-talk')\n",
    "    scatterplot(data=factors_df, x=random_result.exog , y=random_result.endog)"
   ]
  },
  {
   "cell_type": "markdown",
   "id": "d1becd97-d2d2-4c2d-9067-f78d40a9c765",
   "metadata": {},
   "source": [
    "#### which ones are shared across different cell-types"
   ]
  },
  {
   "cell_type": "code",
   "execution_count": null,
   "id": "07d8c267-8add-4641-ac0c-978543ce014f",
   "metadata": {},
   "outputs": [],
   "source": [
    "diff_celltypes = results_df.loc[(results_df.fdr_bh <= ALPHA) & \n",
    "                                 results_df.endog.str.startswith('ExN') & \n",
    "                                 ~results_df.exog.str.startswith('ExN')].sort_values('z')\n",
    "if DEBUG:\n",
    "    display(diff_celltypes.head())"
   ]
  },
  {
   "cell_type": "code",
   "execution_count": null,
   "id": "ecab75ca-9fe1-4468-8ea8-0558efa4838a",
   "metadata": {},
   "outputs": [],
   "source": [
    "random_result = diff_celltypes.loc[diff_celltypes.fdr_bh <= ALPHA].sample(n=1).iloc[0]\n",
    "print(random_result)\n",
    "\n",
    "with rc_context({'figure.figsize': (9, 9), 'figure.dpi': DPI}):\n",
    "    plt.style.use('seaborn-v0_8-talk')\n",
    "    scatterplot(data=factors_df, x=random_result.exog , y=random_result.endog)"
   ]
  },
  {
   "cell_type": "code",
   "execution_count": null,
   "id": "591e250e-a1e1-4208-8548-28c36470cb74",
   "metadata": {},
   "outputs": [],
   "source": [
    "!date"
   ]
  }
 ],
 "metadata": {
  "kernelspec": {
   "display_name": "Python 3 (ipykernel)",
   "language": "python",
   "name": "python3"
  },
  "language_info": {
   "codemirror_mode": {
    "name": "ipython",
    "version": 3
   },
   "file_extension": ".py",
   "mimetype": "text/x-python",
   "name": "python",
   "nbconvert_exporter": "python",
   "pygments_lexer": "ipython3",
   "version": "3.10.13"
  }
 },
 "nbformat": 4,
 "nbformat_minor": 5
}
