{
 "cells": [
  {
   "cell_type": "markdown",
   "id": "da3616db-003a-48d9-a656-bf050efa5f2c",
   "metadata": {},
   "source": [
    "## Summarize some of the latent factor metrics and compare the latent factors between factor and cell-types"
   ]
  },
  {
   "cell_type": "code",
   "execution_count": null,
   "id": "38f95826-33c1-4a23-8400-6c9fdc93aa06",
   "metadata": {},
   "outputs": [],
   "source": [
    "!date"
   ]
  },
  {
   "cell_type": "markdown",
   "id": "2673c434-dc59-43b3-a501-b4b4eb1d33de",
   "metadata": {},
   "source": [
    "#### import libraries"
   ]
  },
  {
   "cell_type": "code",
   "execution_count": null,
   "id": "4f42681c-ddee-4742-9f20-92dbcb6b7e53",
   "metadata": {},
   "outputs": [],
   "source": [
    "from pandas import read_csv, concat, DataFrame\n",
    "from seaborn import barplot, scatterplot\n",
    "import matplotlib.pyplot as plt\n",
    "from matplotlib.pyplot import rc_context\n",
    "import statsmodels.api as sm\n",
    "from pandas import DataFrame\n",
    "import numpy as np\n",
    "from sklearn.preprocessing import MinMaxScaler\n",
    "from itertools import combinations\n",
    "from statsmodels.stats.multitest import multipletests\n",
    "import statsmodels.api as sm\n",
    "from pandas import Series\n",
    "from sklearn.linear_model import ElasticNetCV\n",
    "from sklearn.metrics import mean_squared_error, r2_score\n",
    "from math import sqrt\n",
    "\n",
    "%matplotlib inline\n",
    "# for white background of figures (only for docs rendering)\n",
    "%config InlineBackend.print_figure_kwargs={'facecolor' : \"w\"}\n",
    "%config InlineBackend.figure_format='retina'"
   ]
  },
  {
   "cell_type": "markdown",
   "id": "0affe9b1-d112-46c6-b567-0fbe90875527",
   "metadata": {},
   "source": [
    "#### set notebook variables"
   ]
  },
  {
   "cell_type": "code",
   "execution_count": null,
   "id": "b819bc7e-999a-45b4-8e8a-5417d0bd2258",
   "metadata": {},
   "outputs": [],
   "source": [
    "# parameters\n",
    "project = 'aging_phase2'\n",
    "\n",
    "# directories\n",
    "wrk_dir = '/labshare/raph/datasets/adrd_neuro/brain_aging/phase2'\n",
    "results_dir = f'{wrk_dir}/results'\n",
    "\n",
    "# in files\n",
    "assoc_file = f'{results_dir}/{project}.latent.age_glm.csv'\n",
    "metrics_file = f'{results_dir}/{project}.latent.metrics.csv'\n",
    "\n",
    "# out files\n",
    "results_file = f'{results_dir}/{project}.associated_latent_factors.csv'\n",
    "\n",
    "# variables and constants\n",
    "categories = {'curated_type': 'broad', 'cluster_name': 'specific'}\n",
    "modalities = ['GEX', 'ATAC']\n",
    "model_types = ['PCA', 'NMF', 'ICA']\n",
    "DEBUG = False\n",
    "ALPHA = 0.05\n",
    "DPI = 100"
   ]
  },
  {
   "cell_type": "markdown",
   "id": "1796308d-20a8-426f-b530-bf8f59616a1b",
   "metadata": {},
   "source": [
    "#### fucntions"
   ]
  },
  {
   "cell_type": "code",
   "execution_count": null,
   "id": "9cc60f98-9309-45b8-8c71-9770e10e13c5",
   "metadata": {},
   "outputs": [],
   "source": [
    "def model_scores(actual, predicted):\n",
    "    this_score = r2_score(actual, predicted)\n",
    "    rmse = sqrt(mean_squared_error(actual, predicted))\n",
    "    return this_score, rmse\n",
    "\n",
    "def plot_feature_importance(feature_values: Series, model_name: str):\n",
    "    these_values = feature_values.copy().sort_values()\n",
    "    with rc_context({'figure.figsize': (9, 9), 'figure.dpi': DPI}):\n",
    "        plt.style.use('seaborn-v0_8-talk')  \n",
    "        these_values.plot(kind = 'barh')\n",
    "        plt.title(f'Feature importance using {model_name}')"
   ]
  },
  {
   "cell_type": "markdown",
   "id": "92557b6f-7452-4a65-a8e5-1cb98a713395",
   "metadata": {},
   "source": [
    "### load the input files"
   ]
  },
  {
   "cell_type": "markdown",
   "id": "e7303ee1-6868-4753-86ff-da5d5446391a",
   "metadata": {},
   "source": [
    "#### load the summary metrics for the latent factors"
   ]
  },
  {
   "cell_type": "code",
   "execution_count": null,
   "id": "bc7d1c37-1a7b-49f8-9fec-c0a22111130e",
   "metadata": {},
   "outputs": [],
   "source": [
    "factor_metrics = read_csv(metrics_file, index_col=0)\n",
    "print(f'shape of factor_metrics is {factor_metrics.shape}')\n",
    "if DEBUG:\n",
    "    display(factor_metrics.sample(5))"
   ]
  },
  {
   "cell_type": "markdown",
   "id": "dac51f11-b937-4eb3-abf8-c3034ef69cbb",
   "metadata": {},
   "source": [
    "#### load the latent factor GLM age association results"
   ]
  },
  {
   "cell_type": "code",
   "execution_count": null,
   "id": "6b34e8bf-c494-4567-bbb8-dbf5ccafe735",
   "metadata": {},
   "outputs": [],
   "source": [
    "age_glm = read_csv(assoc_file, index_col=0)\n",
    "print(f'shape of age_glm is {age_glm.shape}')\n",
    "if DEBUG:\n",
    "    display(age_glm.sample(4))"
   ]
  },
  {
   "cell_type": "markdown",
   "id": "55589e5c-319b-4f96-be13-dd85c8cf1238",
   "metadata": {},
   "source": [
    "### visualize the reduction accuracy of the latent models"
   ]
  },
  {
   "cell_type": "markdown",
   "id": "a35e840c-e1c2-409b-a4a9-cda514a830ac",
   "metadata": {},
   "source": [
    "#### by number of components select"
   ]
  },
  {
   "cell_type": "code",
   "execution_count": null,
   "id": "d2d0c663-5cb4-4ca1-8437-d6637c9cad85",
   "metadata": {},
   "outputs": [],
   "source": [
    "with rc_context({'figure.figsize': (15, 11), 'figure.dpi': DPI}):\n",
    "    plt.style.use('seaborn-v0_8-talk')\n",
    "    barplot(data=factor_metrics.sort_values('n_comp', ascending=False),\n",
    "            x='cell_type', y='n_comp', hue='model_type', palette='colorblind')\n",
    "    plt.xticks(rotation=90)\n",
    "    plt.tight_layout()\n",
    "    plt.title('Number of components selected for model types based on Reduction accuracy', \n",
    "              fontsize='large')\n",
    "    plt.xlabel('Cell types')\n",
    "    plt.ylabel('Number of components')\n",
    "    plt.show()"
   ]
  },
  {
   "cell_type": "markdown",
   "id": "c1971695-8114-40b6-8904-d6c99122e4cc",
   "metadata": {},
   "source": [
    "#### by R-squared"
   ]
  },
  {
   "cell_type": "code",
   "execution_count": null,
   "id": "390822e4-fe15-42a9-a059-a8b5f72c7cb0",
   "metadata": {},
   "outputs": [],
   "source": [
    "with rc_context({'figure.figsize': (15, 11), 'figure.dpi': DPI}):\n",
    "    plt.style.use('seaborn-v0_8-talk')\n",
    "    barplot(data=factor_metrics.sort_values('R2', ascending=False),\n",
    "            x='cell_type', y='R2', hue='model_type', palette='colorblind')\n",
    "    plt.xticks(rotation=90)\n",
    "    plt.tight_layout()\n",
    "    plt.title('Reduction accuracy of model types, R-squared', fontsize='large')\n",
    "    plt.xlabel('Cell types')\n",
    "    plt.show()    "
   ]
  },
  {
   "cell_type": "markdown",
   "id": "35d854a4-7ddf-4e2f-b8dc-791a65fd20fb",
   "metadata": {},
   "source": [
    "#### by RMSE"
   ]
  },
  {
   "cell_type": "code",
   "execution_count": null,
   "id": "735f25a4-71b8-48eb-a61b-b06c20015612",
   "metadata": {},
   "outputs": [],
   "source": [
    "with rc_context({'figure.figsize': (15, 11), 'figure.dpi': DPI}):\n",
    "    plt.style.use('seaborn-v0_8-talk')\n",
    "    barplot(data=factor_metrics.sort_values('RSME', ascending=True),\n",
    "            x='cell_type', y='RSME', hue='model_type', palette='colorblind')\n",
    "    plt.xticks(rotation=90)\n",
    "    plt.tight_layout()\n",
    "    plt.title('Reduction accuracy of model types, RMSE', fontsize='large')  \n",
    "    plt.xlabel('Cell types')\n",
    "    plt.show()"
   ]
  },
  {
   "cell_type": "markdown",
   "id": "91309e62-bf52-4755-84a0-bdb5a28a3699",
   "metadata": {},
   "source": [
    "### visualize the latent factors associated with age"
   ]
  },
  {
   "cell_type": "code",
   "execution_count": null,
   "id": "cc4fbfa8-c732-4d41-94a7-b295dac89fee",
   "metadata": {},
   "outputs": [],
   "source": [
    "with rc_context({'figure.figsize': (15, 11), 'figure.dpi': DPI}):\n",
    "    plt.style.use('seaborn-v0_8-talk')\n",
    "    scatterplot(data=age_glm.loc[age_glm.fdr_bh <= ALPHA], \n",
    "                x='coef', y='z', hue='model_type', palette='colorblind')\n",
    "    plt.legend(bbox_to_anchor=(1.15, 1), loc='upper right', borderaxespad=0)\n",
    "    plt.tight_layout()\n",
    "    plt.show()"
   ]
  },
  {
   "cell_type": "code",
   "execution_count": null,
   "id": "434342b4-acc8-4f0a-8cff-20b080397df1",
   "metadata": {},
   "outputs": [],
   "source": [
    "with rc_context({'figure.figsize': (15, 11), 'figure.dpi': DPI}):\n",
    "    plt.style.use('seaborn-v0_8-talk')\n",
    "    scatterplot(data=age_glm.loc[age_glm.fdr_bh <= ALPHA], \n",
    "                x='coef', y='z', hue='cell_type', palette='colorblind', style='model_type')\n",
    "    plt.legend(bbox_to_anchor=(1.15, 1), loc='upper right', borderaxespad=0, ncol=1, fontsize=9)\n",
    "    plt.tight_layout()\n",
    "    plt.show()"
   ]
  },
  {
   "cell_type": "code",
   "execution_count": null,
   "id": "dfc0964e-9f2e-4ea1-be85-ee01a6cdd866",
   "metadata": {
    "scrolled": true
   },
   "outputs": [],
   "source": [
    "age_factor_counts = (age_glm.loc[age_glm.fdr_bh <= ALPHA]\n",
    "                     .groupby(['cell_type', 'model_type'])\n",
    "                     .count().sort_values('feature', ascending=False))\n",
    "if DEBUG:\n",
    "    display(age_factor_counts)\n",
    "\n",
    "with rc_context({'figure.figsize': (15, 11), 'figure.dpi': DPI}):\n",
    "    plt.style.use('seaborn-v0_8-talk')\n",
    "    barplot(data=age_factor_counts,\n",
    "            x='cell_type', y='feature', hue='model_type', palette='colorblind')\n",
    "    plt.xticks(rotation=90)\n",
    "    plt.tight_layout()\n",
    "    plt.title('Number of components selected for model types that are age associated')\n",
    "    plt.xlabel('Cell types')\n",
    "    plt.ylabel('Number of components')\n",
    "    plt.show()    "
   ]
  },
  {
   "cell_type": "markdown",
   "id": "019e3352-2282-477f-b0de-9267a0e6b4c3",
   "metadata": {},
   "source": [
    "### use regularized modeling to determine which latent model type gives most accurate age predictions"
   ]
  },
  {
   "cell_type": "markdown",
   "id": "20aef4b6-cccd-4acf-beac-eca84a8930ff",
   "metadata": {},
   "source": [
    "#### load the sample information"
   ]
  },
  {
   "cell_type": "code",
   "execution_count": null,
   "id": "2bcfd1e2-4f9c-496a-b707-a89a0e7eae9f",
   "metadata": {},
   "outputs": [],
   "source": [
    "info_file = f'{wrk_dir}/sample_info/{project}.sample_info.csv'\n",
    "info_df = read_csv(info_file, index_col=0)\n",
    "# fill the missing smoker and bmi value\n",
    "info_df.loc[info_df.smoker.isna(), 'smoker'] = info_df.smoker.mean().round(1)\n",
    "info_df.loc[info_df.bmi.isna(), 'bmi'] = info_df.bmi.mean().round(1)\n",
    "if DEBUG:\n",
    "    print(info_df.shape)\n",
    "    display(info_df.head())"
   ]
  },
  {
   "cell_type": "code",
   "execution_count": null,
   "id": "25c7d310-959b-47ac-8f74-04fe74922452",
   "metadata": {},
   "outputs": [],
   "source": [
    "age_assoc_glm = age_glm.loc[age_glm.fdr_bh <= ALPHA]\n",
    "print(f'shape of age_assoc_glm {age_assoc_glm.shape}')\n",
    "if DEBUG:\n",
    "    display(age_assoc_glm.sample(5))\n",
    "    display(age_assoc_glm.groupby('cell_type').model_type.value_counts().sort_values(ascending=False))"
   ]
  },
  {
   "cell_type": "code",
   "execution_count": null,
   "id": "5d9016cb-4e8c-4284-94ef-afba94ef8aa3",
   "metadata": {},
   "outputs": [],
   "source": [
    "%%time\n",
    "latents_perf = []\n",
    "for category, cell_types in age_assoc_glm.groupby('type').cell_type.unique().items():\n",
    "    for cell_type in cell_types:\n",
    "        for mdl_type in [element.lower() for element in model_types]:\n",
    "            # print(category, cell_type, mdl_type)\n",
    "            this_file = f'{results_dir}/latents/{project}.{category}.{cell_type}.{mdl_type}_components.csv'\n",
    "            this_factors = read_csv(this_file, index_col=0)\n",
    "            this_target = info_df.loc[this_factors.index, 'age']\n",
    "            this_factors = DataFrame(data=MinMaxScaler().fit_transform(this_factors), \n",
    "                                     columns=this_factors.columns, index=this_factors.index)\n",
    "            regr = ElasticNetCV(cv=5, random_state=42)\n",
    "            regr.fit(this_factors, this_target)\n",
    "            pred_target = regr.predict(this_factors)\n",
    "            x_r = r2_score(this_target, pred_target)\n",
    "            x_e = sqrt(mean_squared_error(this_target, pred_target))\n",
    "            coef = Series(regr.coef_, index=this_factors.columns)\n",
    "            # plot_feature_importance(coef, 'ElasticNetCV Model')  \n",
    "            latents_perf.append([category, cell_type, mdl_type, x_r, x_e, regr.alpha_, sum(coef != 0), sum(coef == 0)])\n",
    "# now convert the list of lactent factor model scores into a dataframe\n",
    "scores_df = DataFrame(data=latents_perf, columns=['category', 'cell_type', 'mdl_type', 'r2', 'rmse', 'alpha', 'picked', 'dropped'])\n",
    "print(f'shape of scores_df is {scores_df.shape}')\n",
    "if DEBUG:\n",
    "    display(scores_df.sort_values('r2', ascending=False).head())\n",
    "    display(scores_df.sort_values('rmse').head())    "
   ]
  },
  {
   "cell_type": "markdown",
   "id": "05d4797b-09b0-4421-951d-bd85684c71c2",
   "metadata": {},
   "source": [
    "#### visualize the age prediction accuracy of the latent models"
   ]
  },
  {
   "cell_type": "markdown",
   "id": "3611be22-9e6a-41c7-8131-f5f235105d2c",
   "metadata": {},
   "source": [
    "##### by number of components kept"
   ]
  },
  {
   "cell_type": "code",
   "execution_count": null,
   "id": "18b322ea-3c49-4de1-8419-84ed5fa4c357",
   "metadata": {},
   "outputs": [],
   "source": [
    "with rc_context({'figure.figsize': (15, 11), 'figure.dpi': DPI}):\n",
    "    plt.style.use('seaborn-v0_8-talk')\n",
    "    barplot(data=scores_df.sort_values('picked', ascending=False),\n",
    "            x='cell_type', y='picked', hue='mdl_type', palette='colorblind')\n",
    "    plt.xticks(rotation=90)\n",
    "    plt.tight_layout()\n",
    "    plt.title('ElasticNetCV of age prediction', \n",
    "              fontsize='large')\n",
    "    plt.xlabel('Cell types')\n",
    "    plt.ylabel('Number of factors selected')\n",
    "    plt.show()"
   ]
  },
  {
   "cell_type": "markdown",
   "id": "b0edd676-65be-4b91-a1b9-a3d9798a5d98",
   "metadata": {},
   "source": [
    "##### by R-squared accuracy of age prediction"
   ]
  },
  {
   "cell_type": "code",
   "execution_count": null,
   "id": "f56d5add-845e-4c85-925a-230bea91c148",
   "metadata": {},
   "outputs": [],
   "source": [
    "with rc_context({'figure.figsize': (15, 11), 'figure.dpi': DPI}):\n",
    "    plt.style.use('seaborn-v0_8-talk')\n",
    "    barplot(data=scores_df.sort_values('r2', ascending=False),\n",
    "            x='cell_type', y='r2', hue='mdl_type', palette='colorblind')\n",
    "    plt.xticks(rotation=90)\n",
    "    plt.tight_layout()\n",
    "    plt.title('ElasticNetCV Age prediction accuracy of model types, R-squared', fontsize='large')\n",
    "    plt.xlabel('Cell types')\n",
    "    plt.show()    "
   ]
  },
  {
   "cell_type": "markdown",
   "id": "bbede3d4-0fc8-47ce-9d7d-3736781ede2c",
   "metadata": {},
   "source": [
    "##### by RMSE accuracy of age prediction"
   ]
  },
  {
   "cell_type": "code",
   "execution_count": null,
   "id": "3a5efa4d-011a-4538-894b-f16f7b207e96",
   "metadata": {},
   "outputs": [],
   "source": [
    "with rc_context({'figure.figsize': (15, 11), 'figure.dpi': DPI}):\n",
    "    plt.style.use('seaborn-v0_8-talk')\n",
    "    barplot(data=scores_df.sort_values('rmse'),\n",
    "            x='cell_type', y='rmse', hue='mdl_type', palette='colorblind')\n",
    "    plt.xticks(rotation=90)\n",
    "    plt.tight_layout()\n",
    "    plt.title('ElasticNetCV Age prediction accuracy of model types, RMSE', fontsize='large')\n",
    "    plt.xlabel('Cell types')\n",
    "    plt.show()    "
   ]
  },
  {
   "cell_type": "markdown",
   "id": "10958116-41ed-4f93-b587-f400704e53e9",
   "metadata": {},
   "source": [
    "### use GLM modeling to determine which latent model type gives most accurate age predictions"
   ]
  },
  {
   "cell_type": "code",
   "execution_count": null,
   "id": "d8814cf4-8c42-4567-9e08-ef81bafbef31",
   "metadata": {},
   "outputs": [],
   "source": [
    "%%time\n",
    "latents_perf = []\n",
    "for category, cell_types in age_assoc_glm.groupby('type').cell_type.unique().items():\n",
    "    for cell_type in cell_types:\n",
    "        for mdl_type in [element.lower() for element in model_types]:\n",
    "            # print(category, cell_type, mdl_type)\n",
    "            this_file = f'{results_dir}/latents/{project}.{category}.{cell_type}.{mdl_type}_components.csv'\n",
    "            this_factors = read_csv(this_file, index_col=0)\n",
    "            this_target = info_df.loc[this_factors.index, 'age']\n",
    "            this_factors = DataFrame(data=MinMaxScaler().fit_transform(this_factors), \n",
    "                                     columns=this_factors.columns, index=this_factors.index)\n",
    "            exog = sm.add_constant(this_factors)\n",
    "            result = sm.GLM(this_target, exog).fit()\n",
    "            pred_target = result.predict(exog)\n",
    "            x_r = r2_score(this_target, pred_target)\n",
    "            x_e = sqrt(mean_squared_error(this_target, pred_target))\n",
    "            latents_perf.append([category, cell_type, mdl_type, x_r, x_e])\n",
    "# now convert the list of lactent factor model scores into a dataframe\n",
    "scores_df = DataFrame(data=latents_perf, columns=['category', 'cell_type', 'mdl_type', 'r2', 'rmse'])\n",
    "print(f'shape of scores_df is {scores_df.shape}')\n",
    "if DEBUG:\n",
    "    display(scores_df.sort_values('r2', ascending=False).head())\n",
    "    display(scores_df.sort_values('rmse').head())    "
   ]
  },
  {
   "cell_type": "markdown",
   "id": "4ed0345c-acbe-476e-8cdc-e0ff12dd8dfc",
   "metadata": {},
   "source": [
    "#### visualize the age prediction accuracy of the latent models"
   ]
  },
  {
   "cell_type": "markdown",
   "id": "47191782-1984-4831-aeb3-cc68cdbf4539",
   "metadata": {},
   "source": [
    "##### by R-squared accuracy of age prediction"
   ]
  },
  {
   "cell_type": "code",
   "execution_count": null,
   "id": "f06edf52-1e84-454b-8d1d-e5d7ba4f62a2",
   "metadata": {},
   "outputs": [],
   "source": [
    "with rc_context({'figure.figsize': (15, 11), 'figure.dpi': DPI}):\n",
    "    plt.style.use('seaborn-v0_8-talk')\n",
    "    barplot(data=scores_df.sort_values('r2', ascending=False),\n",
    "            x='cell_type', y='r2', hue='mdl_type', palette='colorblind')\n",
    "    plt.xticks(rotation=90)\n",
    "    plt.tight_layout()\n",
    "    plt.title('GLM Age prediction accuracy of model types, R-squared', fontsize='large')\n",
    "    plt.xlabel('Cell types')\n",
    "    plt.show()    "
   ]
  },
  {
   "cell_type": "markdown",
   "id": "e0aac804-2d66-48f9-a9d5-2677a250c428",
   "metadata": {},
   "source": [
    "##### by RMSE accuracy of age prediction"
   ]
  },
  {
   "cell_type": "code",
   "execution_count": null,
   "id": "c2aea627-8191-4e23-84a0-2ef58a4ef4f3",
   "metadata": {},
   "outputs": [],
   "source": [
    "with rc_context({'figure.figsize': (15, 11), 'figure.dpi': DPI}):\n",
    "    plt.style.use('seaborn-v0_8-talk')\n",
    "    barplot(data=scores_df.sort_values('rmse'),\n",
    "            x='cell_type', y='rmse', hue='mdl_type', palette='colorblind')\n",
    "    plt.xticks(rotation=90)\n",
    "    plt.tight_layout()\n",
    "    plt.title('GLM Age prediction accuracy of model types, RMSE', fontsize='large')\n",
    "    plt.xlabel('Cell types')\n",
    "    plt.show()    "
   ]
  },
  {
   "cell_type": "code",
   "execution_count": null,
   "id": "176db91b-f6d0-457c-8ba6-bfe73b08d100",
   "metadata": {},
   "outputs": [],
   "source": [
    "display(scores_df.loc[scores_df.mdl_type != 'nmf'].sort_values('r2', ascending=False))"
   ]
  },
  {
   "cell_type": "markdown",
   "id": "79554cbe-b1cc-46d7-9a70-b74f6c0578fd",
   "metadata": {},
   "source": [
    "### identify which latent factors that are age associated are well correlated across cell and model types"
   ]
  },
  {
   "cell_type": "markdown",
   "id": "5011beaa-78bb-44a7-928c-05c8f635f992",
   "metadata": {},
   "source": [
    "#### load, label, and combine the latent factors into a dataframe"
   ]
  },
  {
   "cell_type": "code",
   "execution_count": null,
   "id": "8c15b21b-fb47-4cb6-bec9-924ad906a6b7",
   "metadata": {},
   "outputs": [],
   "source": [
    "factors = []\n",
    "for category, cell_types in age_assoc_glm.groupby('type').cell_type.unique().items():\n",
    "    for cell_type in cell_types:\n",
    "        for mdl_type in [element.lower() for element in model_types]:\n",
    "            # print(category, cell_type, mdl_type)\n",
    "            this_file = f'{results_dir}/latents/{project}.{category}.{cell_type}.{mdl_type}_components.csv'\n",
    "            this_factors = read_csv(this_file, index_col=0)\n",
    "            this_factors = this_factors.add_prefix(f'{cell_type}:')\n",
    "            factors.append(this_factors)\n",
    "# now convert the list of factor dataframes into single dataframe\n",
    "factors_df = concat(factors, axis='columns')\n",
    "# scale for interpretability\n",
    "factors_df = DataFrame(data=MinMaxScaler().fit_transform(factors_df), \n",
    "                       columns=factors_df.columns, index=factors_df.index)\n",
    "print(f'shape of factors_df is {factors_df.shape}')\n",
    "if DEBUG:\n",
    "    display(factors_df.sample(5))"
   ]
  },
  {
   "cell_type": "markdown",
   "id": "c8d4a048-6099-45e3-a213-f0b3476f4e8f",
   "metadata": {},
   "source": [
    "#### create list of pairings to run regressions for"
   ]
  },
  {
   "cell_type": "code",
   "execution_count": null,
   "id": "af2c4a88-720e-42ce-b764-2183fa576ef4",
   "metadata": {},
   "outputs": [],
   "source": [
    "pairings = list(combinations(factors_df.columns, 2))"
   ]
  },
  {
   "cell_type": "code",
   "execution_count": null,
   "id": "68089553-f374-45d9-9ae9-a3566a70d159",
   "metadata": {},
   "outputs": [],
   "source": [
    "len(pairings)"
   ]
  },
  {
   "cell_type": "markdown",
   "id": "f51ed303-ce2a-4e8b-9ff9-2fc1421d548d",
   "metadata": {},
   "source": [
    "#### regress the pairings"
   ]
  },
  {
   "cell_type": "code",
   "execution_count": null,
   "id": "d21340d7-da53-4279-bd69-01efd181ddf5",
   "metadata": {},
   "outputs": [],
   "source": [
    "%%time\n",
    "def regress_pair(endog_name: str, exog_name: str, data: DataFrame) -> tuple:\n",
    "    ret_list = None\n",
    "    if not endog_name == exog_name:\n",
    "        endog = data[endog_name].values\n",
    "        exog = sm.add_constant(data[exog_name].values)\n",
    "        try:\n",
    "            result = sm.GLM(endog, exog).fit()\n",
    "            ret_list = [endog_name, exog_name, \n",
    "                        result.params[1], result.bse[1], \n",
    "                        result.tvalues[1], result.pvalues[1]]\n",
    "        except:\n",
    "                print(f'Caught Error for {endog_name} ~ {exog_name}')\n",
    "                ret_list = [endog_name] + [exog_name] + [np.nan] * 4        \n",
    "        return ret_list\n",
    "\n",
    "results = [regress_pair(endog_name, exog_name, \n",
    "                        factors_df[[endog_name, exog_name]].dropna()) \n",
    "           for endog_name, exog_name in pairings]"
   ]
  },
  {
   "cell_type": "markdown",
   "id": "b7a664b4-0cac-446b-abf1-67fe37785957",
   "metadata": {},
   "source": [
    "#### convert regression results into a dataframe"
   ]
  },
  {
   "cell_type": "code",
   "execution_count": null,
   "id": "08b43ec5-9267-4e0a-9021-e8e04d26b421",
   "metadata": {},
   "outputs": [],
   "source": [
    "results_df = DataFrame(data=results, \n",
    "                       columns=['endog', 'exog', 'coef', 'stderr', \n",
    "                                'z', 'p-value'])\n",
    "print(f'shape of results_df is {results_df.shape}')\n",
    "if DEBUG:\n",
    "    display(results_df.sample(5))"
   ]
  },
  {
   "cell_type": "markdown",
   "id": "4f083d17-a24d-4913-9f41-52c7f30a3ebd",
   "metadata": {},
   "source": [
    "#### compute the FDR values"
   ]
  },
  {
   "cell_type": "code",
   "execution_count": null,
   "id": "98e3cd4d-766a-4f17-9ba1-b8a01ed33f1f",
   "metadata": {},
   "outputs": [],
   "source": [
    "def compute_bh_fdr(df: DataFrame, alpha: float=0.05, p_col: str='p-value',\n",
    "                   method: str='fdr_bh', verbose: bool=True) -> DataFrame:\n",
    "    ret_df = df.copy()\n",
    "    test_adjust = multipletests(np.array(ret_df[p_col]), alpha=alpha, \n",
    "                                method=method)\n",
    "    ret_df[method] = test_adjust[1]\n",
    "    if verbose:\n",
    "        print(f'total significant after correction: {ret_df.loc[ret_df[method] < alpha].shape}')\n",
    "    return ret_df"
   ]
  },
  {
   "cell_type": "code",
   "execution_count": null,
   "id": "55f553e7-0f27-447d-a463-7389e2adf733",
   "metadata": {},
   "outputs": [],
   "source": [
    "results_df['p-value'] = results_df['p-value'].fillna(1)\n",
    "results_df = compute_bh_fdr(results_df)\n",
    "print(f'shape of results_df is {results_df.shape}')\n",
    "if DEBUG:\n",
    "    display(results_df.sort_values(['fdr_bh']).head())"
   ]
  },
  {
   "cell_type": "markdown",
   "id": "fa2b625e-941c-4302-9509-19b8c0e4f9d2",
   "metadata": {},
   "source": [
    "#### save the results"
   ]
  },
  {
   "cell_type": "code",
   "execution_count": null,
   "id": "b1504ee4-f77b-40e6-8c00-61408c332329",
   "metadata": {},
   "outputs": [],
   "source": [
    "results_df.to_csv(results_file)"
   ]
  },
  {
   "cell_type": "markdown",
   "id": "38c3ca55-0ef6-49c6-846e-d89da73c514f",
   "metadata": {},
   "source": [
    "#### visualize a random result"
   ]
  },
  {
   "cell_type": "code",
   "execution_count": null,
   "id": "0c5a5dd7-ebb7-43b0-be57-3817fc296564",
   "metadata": {},
   "outputs": [],
   "source": [
    "random_result = results_df.loc[results_df.fdr_bh <= ALPHA].sample(n=1).iloc[0]\n",
    "print(random_result)\n",
    "\n",
    "with rc_context({'figure.figsize': (9, 9), 'figure.dpi': DPI}):\n",
    "    plt.style.use('seaborn-v0_8-talk')\n",
    "    scatterplot(data=factors_df, x=random_result.exog , y=random_result.endog)"
   ]
  },
  {
   "cell_type": "markdown",
   "id": "d1becd97-d2d2-4c2d-9067-f78d40a9c765",
   "metadata": {},
   "source": [
    "#### which ones are shared across different cell-types"
   ]
  },
  {
   "cell_type": "code",
   "execution_count": null,
   "id": "07d8c267-8add-4641-ac0c-978543ce014f",
   "metadata": {},
   "outputs": [],
   "source": [
    "diff_celltypes = results_df.loc[(results_df.fdr_bh <= ALPHA) & \n",
    "                                 results_df.endog.str.startswith('ExN') & \n",
    "                                 ~results_df.exog.str.startswith('ExN')].sort_values('z')\n",
    "if DEBUG:\n",
    "    display(diff_celltypes.head())"
   ]
  },
  {
   "cell_type": "code",
   "execution_count": null,
   "id": "ecab75ca-9fe1-4468-8ea8-0558efa4838a",
   "metadata": {},
   "outputs": [],
   "source": [
    "random_result = diff_celltypes.loc[diff_celltypes.fdr_bh <= ALPHA].sample(n=1).iloc[0]\n",
    "print(random_result)\n",
    "\n",
    "with rc_context({'figure.figsize': (9, 9), 'figure.dpi': DPI}):\n",
    "    plt.style.use('seaborn-v0_8-talk')\n",
    "    scatterplot(data=factors_df, x=random_result.exog , y=random_result.endog)"
   ]
  },
  {
   "cell_type": "markdown",
   "id": "a6403036-335f-497e-bb7a-435072161613",
   "metadata": {},
   "source": [
    "### cluster based on the latent factors"
   ]
  },
  {
   "cell_type": "code",
   "execution_count": null,
   "id": "b7d7f2b5-8437-45a6-8240-6b249b84c5a7",
   "metadata": {},
   "outputs": [],
   "source": [
    "from sklearn.mixture import GaussianMixture\n",
    "from sklearn.metrics import silhouette_score\n",
    "\n",
    "def find_optimal_clusters(data, max_k):\n",
    "    iters = range(2, max_k+1)\n",
    "    gmm_models = [GaussianMixture(n_components=n, covariance_type='full').fit(data) for n in iters]\n",
    "    silhouette_scores = [silhouette_score(data, model.predict(data)) for model in gmm_models]\n",
    "    \n",
    "    best_k = iters[np.argmax(silhouette_scores)]\n",
    "    best_gmm = gmm_models[np.argmax(silhouette_scores)]\n",
    "    \n",
    "    return best_k, best_gmm, silhouette_scores"
   ]
  },
  {
   "cell_type": "code",
   "execution_count": null,
   "id": "d1d50942-0f6a-4479-9439-d91d062877b3",
   "metadata": {},
   "outputs": [],
   "source": [
    "# fill any missing with the mean from that column\n",
    "tfactors_df = factors_df.fillna(factors_df.mean()).transpose()\n",
    "print(f'shape of tfactors_df is {tfactors_df.shape}')\n",
    "if DEBUG:\n",
    "    display(tfactors_df.head())"
   ]
  },
  {
   "cell_type": "code",
   "execution_count": null,
   "id": "8afe25e6-2d5a-4d53-9771-1b4f3266a501",
   "metadata": {},
   "outputs": [],
   "source": [
    "%%time\n",
    "max_clusters = tfactors_df.shape[1] -1\n",
    "best_k, best_gmm, silhouette_scores = find_optimal_clusters(tfactors_df, max_clusters)\n",
    "\n",
    "print(f'Optimal number of clusters: {best_k}')"
   ]
  },
  {
   "cell_type": "markdown",
   "id": "f3435702-1223-4612-b47d-1e85db656752",
   "metadata": {},
   "source": [
    "#### plot silhouette scores"
   ]
  },
  {
   "cell_type": "code",
   "execution_count": null,
   "id": "8bfb602e-6b2f-451f-ab49-7c3335f49088",
   "metadata": {},
   "outputs": [],
   "source": [
    "from seaborn import lineplot\n",
    "with rc_context({'figure.figsize': (9, 9), 'figure.dpi': DPI}):\n",
    "    plt.style.use('seaborn-v0_8-talk')\n",
    "    scatterplot(data=silhouette_scores)\n",
    "    lineplot(data=silhouette_scores)\n",
    "    plt.xlabel('Number of clusters')\n",
    "    plt.ylabel('Silhouette Score')\n",
    "    plt.title('Silhouette Scores for Different Numbers of Clusters')\n",
    "    plt.show()"
   ]
  },
  {
   "cell_type": "markdown",
   "id": "c16afb86-751d-4f52-8009-c244c6982694",
   "metadata": {},
   "source": [
    "#### visualize the clusters"
   ]
  },
  {
   "cell_type": "code",
   "execution_count": null,
   "id": "cc92e8f9-8ea9-435c-9417-c0155312c9dd",
   "metadata": {},
   "outputs": [],
   "source": [
    "labels = best_gmm.predict(tfactors_df)\n",
    "labels_df = DataFrame(data=labels, columns=['clust_num'])\n",
    "labels_df['factor'] = tfactors_df.index\n",
    "temp = labels_df.factor.str.split(':', expand=True)\n",
    "labels_df['cell_type'] = temp[0]\n",
    "labels_df['model_factor'] = temp[1]\n",
    "print(f'shape of labels_df is {labels_df.shape}')\n",
    "if DEBUG:\n",
    "    display(labels_df.head())"
   ]
  },
  {
   "cell_type": "code",
   "execution_count": null,
   "id": "1da22d2d-013a-41b9-9d60-7dd56ce946a3",
   "metadata": {},
   "outputs": [],
   "source": [
    "%%time\n",
    "import torch\n",
    "import pymde\n",
    "pymde.seed(42)\n",
    "device = 'cuda' if torch.cuda.is_available() else 'cpu'\n",
    "print(device)\n",
    "\n",
    "mde = pymde.preserve_neighbors(tfactors_df.to_numpy(), device=device, verbose=True)\n",
    "embedding = mde.embed(verbose=True)"
   ]
  },
  {
   "cell_type": "code",
   "execution_count": null,
   "id": "bcf34653-644a-4c14-b301-5f1ca135da20",
   "metadata": {},
   "outputs": [],
   "source": [
    "with rc_context({'figure.figsize': (9, 9), 'figure.dpi': DPI}):\n",
    "    plt.style.use('seaborn-v0_8-talk')\n",
    "    pymde.plot(embedding, color_by=labels_df.cell_type, marker_size=50)\n",
    "    plt.show()"
   ]
  },
  {
   "cell_type": "code",
   "execution_count": null,
   "id": "6306cb69-d01f-4251-9f1c-954a3546bc56",
   "metadata": {},
   "outputs": [],
   "source": [
    "with rc_context({'figure.figsize': (9, 9), 'figure.dpi': DPI}):\n",
    "    plt.style.use('seaborn-v0_8-talk')\n",
    "    pymde.plot(embedding, color_by=labels_df.clust_num, marker_size=50)\n",
    "    plt.show()"
   ]
  },
  {
   "cell_type": "code",
   "execution_count": null,
   "id": "528f4f19-9067-4f4b-abce-b3ac26359b07",
   "metadata": {},
   "outputs": [],
   "source": [
    "for cluster in labels_df.clust_num.unique():\n",
    "    print(cluster)\n",
    "    this_df = labels_df.loc[labels_df.clust_num == cluster]\n",
    "    print(this_df.factor.values)"
   ]
  },
  {
   "cell_type": "code",
   "execution_count": null,
   "id": "591e250e-a1e1-4208-8548-28c36470cb74",
   "metadata": {},
   "outputs": [],
   "source": [
    "!date"
   ]
  }
 ],
 "metadata": {
  "kernelspec": {
   "display_name": "Python 3 (ipykernel)",
   "language": "python",
   "name": "python3"
  },
  "language_info": {
   "codemirror_mode": {
    "name": "ipython",
    "version": 3
   },
   "file_extension": ".py",
   "mimetype": "text/x-python",
   "name": "python",
   "nbconvert_exporter": "python",
   "pygments_lexer": "ipython3",
   "version": "3.10.13"
  }
 },
 "nbformat": 4,
 "nbformat_minor": 5
}
