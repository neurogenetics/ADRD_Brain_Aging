{
 "cells": [
  {
   "cell_type": "markdown",
   "id": "5e03f4a7-1b89-4ff8-ab16-6ee14b0749a4",
   "metadata": {},
   "source": [
    "## Notebook to run the the latent factors age analysis per broad and specific cell-type using PaperMill"
   ]
  },
  {
   "cell_type": "code",
   "execution_count": null,
   "id": "5d89fd91-3aa5-4bc0-8bb9-22a021de5d1d",
   "metadata": {},
   "outputs": [],
   "source": [
    "!date"
   ]
  },
  {
   "cell_type": "markdown",
   "id": "798afadb-21ef-4610-899b-3ec359d340fd",
   "metadata": {},
   "source": [
    "#### import libraries"
   ]
  },
  {
   "cell_type": "code",
   "execution_count": null,
   "id": "a53298c6-9fe5-4111-9b0e-0268ec2e35e0",
   "metadata": {},
   "outputs": [],
   "source": [
    "from papermill import execute_notebook\n",
    "from pandas import read_csv, concat\n",
    "from os import makedirs"
   ]
  },
  {
   "cell_type": "markdown",
   "id": "13c7e6b8-7de1-4b0e-b7a8-53288cd27fad",
   "metadata": {},
   "source": [
    "#### set notebook variables"
   ]
  },
  {
   "cell_type": "code",
   "execution_count": null,
   "id": "e962ab21-4c1f-449f-91eb-019ed9c478d8",
   "metadata": {},
   "outputs": [],
   "source": [
    "# parameters\n",
    "project = 'aging_phase2'\n",
    "\n",
    "# directories\n",
    "nb_dir = '/home/gibbsr/working/ADRD_Brain_Aging/phase2'\n",
    "wrk_dir = '/labshare/raph/datasets/adrd_neuro/brain_aging/phase2'\n",
    "results_dir = f'{wrk_dir}/results'\n",
    "\n",
    "# base notebook to be run per tuple iteration\n",
    "base_notebook = f'{nb_dir}/development/analyses/latent_factors_age_analysis.ipynb'\n",
    "\n",
    "# output path for the generated notebooks\n",
    "out_nb_dir = f'{nb_dir}/analyses/pm_gend_nbs'\n",
    "\n",
    "# setup parameters to iterate\n",
    "categories = {'curated_type': 'broad', 'cluster_name': 'specific'}\n",
    "modalities = ['GEX', 'ATAC']\n",
    "DEBUG = True"
   ]
  },
  {
   "cell_type": "markdown",
   "id": "8df8dd32-1923-41e1-97b1-37bddca053fd",
   "metadata": {},
   "source": [
    "### make sure output notebook directory exists"
   ]
  },
  {
   "cell_type": "code",
   "execution_count": null,
   "id": "394aabe1-3375-47d1-acce-c0b9a397602c",
   "metadata": {},
   "outputs": [],
   "source": [
    "makedirs(out_nb_dir, exist_ok=True)"
   ]
  },
  {
   "cell_type": "markdown",
   "id": "4497af47-5be1-4bc3-b980-83dd05b0f8bb",
   "metadata": {},
   "source": [
    "#### load age associated feature results\n",
    "get the age associated GEX and ATAC features need per cell-type"
   ]
  },
  {
   "cell_type": "code",
   "execution_count": null,
   "id": "af24d34e-c90d-431b-b21c-b3857f116946",
   "metadata": {},
   "outputs": [],
   "source": [
    "%%time\n",
    "age_results = []\n",
    "for category, prefix in categories.items():\n",
    "    for modality in modalities:\n",
    "        print(modality)\n",
    "        in_file = f'{results_dir}/{project}.{modality}.{prefix}.glm_tweedie_fdr_filtered.age.csv'\n",
    "        this_df = read_csv(in_file)\n",
    "        this_df['modality'] = modality\n",
    "        this_df['type'] = category\n",
    "        age_results.append(this_df)\n",
    "age_results_df = concat(age_results)\n",
    "print(f'shape of the age results is {age_results_df.shape}')\n",
    "if DEBUG:\n",
    "    display(age_results_df.sample(5))\n",
    "    display(age_results_df.modality.value_counts())\n",
    "    display(age_results_df.groupby('type').tissue.value_counts())"
   ]
  },
  {
   "cell_type": "markdown",
   "id": "aa249da5-9153-4db2-bd1e-31716c37bb64",
   "metadata": {},
   "source": [
    "### run the notebook iterations"
   ]
  },
  {
   "cell_type": "code",
   "execution_count": null,
   "id": "8cc8091e-e00a-412b-8db4-be350bae2726",
   "metadata": {},
   "outputs": [],
   "source": [
    "%%time\n",
    "\n",
    "for category, cell_types in age_results_df.groupby('type').tissue.unique().items():\n",
    "    prefix = categories.get(category)\n",
    "    for cell_type in cell_types:\n",
    "        param_dict = {'category': category, 'cell_type': cell_type}\n",
    "        out_notebook = f'{out_nb_dir}/{prefix}_{cell_type}.latent_factors_age_analysis.ipynb'\n",
    "        print(param_dict)\n",
    "        print(out_notebook)\n",
    "        try:    \n",
    "            execute_notebook(input_path=base_notebook, output_path=out_notebook, \n",
    "                             parameters=param_dict)\n",
    "        except:\n",
    "            print(f'{category} {cell_type} encountered an error continuing on next')"
   ]
  },
  {
   "cell_type": "code",
   "execution_count": null,
   "id": "3dcdf400-6ab9-4399-90d1-c846e0a83aee",
   "metadata": {},
   "outputs": [],
   "source": [
    "!date"
   ]
  }
 ],
 "metadata": {
  "kernelspec": {
   "display_name": "Python 3 (ipykernel)",
   "language": "python",
   "name": "python3"
  },
  "language_info": {
   "codemirror_mode": {
    "name": "ipython",
    "version": 3
   },
   "file_extension": ".py",
   "mimetype": "text/x-python",
   "name": "python",
   "nbconvert_exporter": "python",
   "pygments_lexer": "ipython3",
   "version": "3.10.13"
  }
 },
 "nbformat": 4,
 "nbformat_minor": 5
}
