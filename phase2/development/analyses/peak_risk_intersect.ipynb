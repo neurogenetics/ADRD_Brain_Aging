{
 "cells": [
  {
   "cell_type": "markdown",
   "id": "76b9de38-eb1e-481f-97f5-4a509fedd600",
   "metadata": {},
   "source": [
    "## Notebook to identify ATAC peak features that contain risk variants"
   ]
  },
  {
   "cell_type": "code",
   "execution_count": null,
   "id": "57f314cb-21e1-4a0c-8436-869577a7ba9c",
   "metadata": {},
   "outputs": [],
   "source": [
    "!date"
   ]
  },
  {
   "cell_type": "markdown",
   "id": "27ec466c-8c25-437f-9ccd-654ffe438932",
   "metadata": {},
   "source": [
    "#### import libraries"
   ]
  },
  {
   "cell_type": "code",
   "execution_count": null,
   "id": "d5c1abed-ba19-4909-a3b8-189b03c97de3",
   "metadata": {},
   "outputs": [],
   "source": [
    "from scanpy import read_h5ad\n",
    "from pandas import read_csv, read_hdf\n",
    "from pybedtools import BedTool\n",
    "from seaborn import barplot\n",
    "import matplotlib.pyplot as plt\n",
    "from matplotlib.pyplot import rc_context\n",
    "\n",
    "%matplotlib inline\n",
    "# for white background of figures (only for docs rendering)\n",
    "%config InlineBackend.print_figure_kwargs={'facecolor' : \"w\"}\n",
    "%config InlineBackend.figure_format='retina'"
   ]
  },
  {
   "cell_type": "markdown",
   "id": "fef282ba-d556-41ce-811a-c252cc190b7b",
   "metadata": {},
   "source": [
    "#### set notebook variables"
   ]
  },
  {
   "cell_type": "code",
   "execution_count": null,
   "id": "8d95a10e-31b7-4762-a281-050067e6747e",
   "metadata": {
    "tags": [
     "parameters"
    ]
   },
   "outputs": [],
   "source": [
    "# parameters\n",
    "disease = 'AD' # 'AD' or 'LBD'\n",
    "modality = 'ATAC'\n",
    "category = 'curated_type' # 'curated_type' for broad and 'cluster_name' for specific\n",
    "REGRESSION_TYPE = 'glm_tweedie'"
   ]
  },
  {
   "cell_type": "code",
   "execution_count": null,
   "id": "71c72e55-8cc8-49ec-aa68-9418b739aabf",
   "metadata": {},
   "outputs": [],
   "source": [
    "# naming\n",
    "project = 'aging_phase2'\n",
    "if category == 'curated_type':\n",
    "    prefix_type = 'broad'\n",
    "elif category == 'cluster_name':\n",
    "    prefix_type = 'specific' \n",
    "\n",
    "# directories\n",
    "wrk_dir = '/labshare/raph/datasets/adrd_neuro/brain_aging/phase2'\n",
    "quants_dir = f'{wrk_dir}/quants'\n",
    "public_dir = f'{wrk_dir}/public'\n",
    "results_dir = f'{wrk_dir}/results'\n",
    "\n",
    "# in files\n",
    "results_file = f'{results_dir}/{project}.{modality}.{prefix_type}.{REGRESSION_TYPE}_fdr_filtered.age.csv'\n",
    "cond_file = f'{results_dir}/{project}.GEX.{prefix_type}.{REGRESSION_TYPE}.conditioned.age.csv'\n",
    "anndata_file = f'{quants_dir}/{project}.multivi.curated_final.h5ad'\n",
    "locus_ld_info_file = f'{public_dir}/risk_ld_info/adrd_ipsc_{disease}.ld_prime.csv'\n",
    "if disease == 'LBD':\n",
    "    gwas_sum_stats_file = f'{public_dir}/chia_lbd_gwas/GCST90001390_buildGRCh38.tsv.gz'\n",
    "elif disease == 'AD':\n",
    "    gwas_sum_stats_file = f'{public_dir}/bellenguez_ad_gwas/GCST90027158_buildGRCh38.tsv.gz'    \n",
    "\n",
    "# out files\n",
    "risk_peaks_bed = f'{quants_dir}/{project}_{disease}_risk_peaks.bed'\n",
    "\n",
    "# variables\n",
    "DEBUG = True\n",
    "SUG_THRESHOLD = 1.00e-05\n",
    "SIG_THRESHOLD = 5.00e-08\n",
    "NOMINAL_ALPHA = 0.05\n",
    "if DEBUG:\n",
    "    print(f'results_file = {results_file}')\n",
    "    print(f'anndata_file = {anndata_file}')\n",
    "    print(f'locus_ld_info_file = {locus_ld_info_file}')\n",
    "    print(f'gwas_sum_stats_file = {gwas_sum_stats_file}')\n",
    "    print(f'cond_file = {cond_file}')"
   ]
  },
  {
   "cell_type": "markdown",
   "id": "28b8a650-57a0-45dd-a087-f9efd1a37ea6",
   "metadata": {},
   "source": [
    "### load input data"
   ]
  },
  {
   "cell_type": "markdown",
   "id": "f36902ad-a056-4de1-8935-e1113a17c162",
   "metadata": {},
   "source": [
    "#### load feature annotations"
   ]
  },
  {
   "cell_type": "code",
   "execution_count": null,
   "id": "89529fe6-5ab8-4e7f-b2db-25e087d85bc8",
   "metadata": {},
   "outputs": [],
   "source": [
    "%%time\n",
    "adata_df = read_h5ad(anndata_file)\n",
    "print(adata_df)\n",
    "features_df = adata_df.var.loc[adata_df.var.modality == 'Peaks'].copy()\n",
    "features_df['id'] = features_df.index\n",
    "print(features_df.shape)\n",
    "if DEBUG:\n",
    "    display(features_df.head())"
   ]
  },
  {
   "cell_type": "code",
   "execution_count": null,
   "id": "ff3bee2a-4b36-4f73-b12a-d7db117dcfd3",
   "metadata": {},
   "outputs": [],
   "source": [
    "features_df.modality.value_counts()"
   ]
  },
  {
   "cell_type": "markdown",
   "id": "7cafdfe1-6228-4de6-9c6b-231635da92ea",
   "metadata": {},
   "source": [
    "#### load summary stats"
   ]
  },
  {
   "cell_type": "code",
   "execution_count": null,
   "id": "759a7d08-15b2-42bf-9e7d-81205a402137",
   "metadata": {},
   "outputs": [],
   "source": [
    "%%time\n",
    "gwas_df = read_csv(gwas_sum_stats_file, sep='\\t')\n",
    "print(gwas_df.shape)\n",
    "if DEBUG:\n",
    "    display(gwas_df.head())"
   ]
  },
  {
   "cell_type": "markdown",
   "id": "7147aec8-66a1-4cc1-9aa4-28e97621a848",
   "metadata": {},
   "source": [
    "#### load the LD variants for the loci"
   ]
  },
  {
   "cell_type": "code",
   "execution_count": null,
   "id": "2e68a1c7-3845-4032-baa8-44baa3cfc917",
   "metadata": {},
   "outputs": [],
   "source": [
    "ld_df = read_csv(locus_ld_info_file)\n",
    "print(ld_df.shape)\n",
    "if DEBUG:\n",
    "    display(ld_df.head())"
   ]
  },
  {
   "cell_type": "code",
   "execution_count": null,
   "id": "823d2e78-1b81-47c6-b16a-7ff16841c472",
   "metadata": {},
   "outputs": [],
   "source": [
    "gwas_df.head()"
   ]
  },
  {
   "cell_type": "markdown",
   "id": "d62e5465-c592-4117-89b8-a36ed1b8d0e7",
   "metadata": {},
   "source": [
    "#### load the modality's age associated results"
   ]
  },
  {
   "cell_type": "code",
   "execution_count": null,
   "id": "647c1aae-be41-4003-abe3-b6c9099877fd",
   "metadata": {},
   "outputs": [],
   "source": [
    "age_df = read_csv(results_file)\n",
    "print(f'shape of {modality} results {age_df.shape}')\n",
    "if DEBUG:\n",
    "    display(age_df.sample(5))"
   ]
  },
  {
   "cell_type": "markdown",
   "id": "9f98d2c0-e531-424f-8b83-a7f5430da20d",
   "metadata": {},
   "source": [
    "### subset summary stats to only those that are signficant or suggestive and in LD with index variants \n",
    "may want to have a lower significant threshold to be more fine mappy"
   ]
  },
  {
   "cell_type": "code",
   "execution_count": null,
   "id": "74afd7cd-ddde-430c-8b0f-3d4ed8555a64",
   "metadata": {},
   "outputs": [],
   "source": [
    "risk_df = gwas_df.loc[(gwas_df.p_value <= SIG_THRESHOLD) | \n",
    "                      (gwas_df.variant_id.isin(ld_df.SNP_B) & \n",
    "                       (gwas_df.p_value <= SUG_THRESHOLD))]\n",
    "print(risk_df.shape)\n",
    "if DEBUG:\n",
    "    display(risk_df.chromosome.value_counts())\n",
    "    display(risk_df.head())"
   ]
  },
  {
   "cell_type": "markdown",
   "id": "134c69f4-40b6-4bed-8611-b636ea5e37e3",
   "metadata": {},
   "source": [
    "### find ATAC peak features that contain a risk variant"
   ]
  },
  {
   "cell_type": "markdown",
   "id": "5975f11c-65f9-46fd-8410-731215c20336",
   "metadata": {},
   "source": [
    "#### convert ATAC features dataframe to bed"
   ]
  },
  {
   "cell_type": "code",
   "execution_count": null,
   "id": "dac34a40-ba71-4ca3-99e6-4b01b28bffc1",
   "metadata": {},
   "outputs": [],
   "source": [
    "feature_bed = BedTool.from_dataframe(features_df[['chr', 'start', 'end', 'id']])\n",
    "print(feature_bed.count())\n",
    "print(feature_bed.field_count())\n",
    "if DEBUG:\n",
    "    display(feature_bed.to_dataframe().head())"
   ]
  },
  {
   "cell_type": "markdown",
   "id": "bb884e42-5199-44b9-8e71-71af15b1de5a",
   "metadata": {},
   "source": [
    "#### convert summary stats to bed"
   ]
  },
  {
   "cell_type": "code",
   "execution_count": null,
   "id": "a8937049-c14a-403c-8a3b-8f500fa92683",
   "metadata": {},
   "outputs": [],
   "source": [
    "risk_bed_df = risk_df[['chromosome', 'base_pair_location', 'variant_id', 'p_value']].copy()\n",
    "risk_bed_df.chromosome = 'chr' + risk_bed_df.chromosome.astype('str')\n",
    "risk_bed_df.insert(1, 'start', value=risk_bed_df.base_pair_location-1)\n",
    "risk_bed = BedTool.from_dataframe(risk_bed_df)\n",
    "\n",
    "print(risk_bed.count())\n",
    "print(risk_bed.field_count())\n",
    "if DEBUG:\n",
    "    display(risk_bed.to_dataframe().head())"
   ]
  },
  {
   "cell_type": "markdown",
   "id": "1c1e5ee0-f58d-4fd2-bffb-76199c39241c",
   "metadata": {},
   "source": [
    "#### intersect the beds"
   ]
  },
  {
   "cell_type": "code",
   "execution_count": null,
   "id": "a8866b81-8c75-41d5-b313-e481208a67b1",
   "metadata": {},
   "outputs": [],
   "source": [
    "feature_intersect = feature_bed.intersect(risk_bed, wb=True)\n",
    "\n",
    "print(feature_intersect.count())\n",
    "print(feature_intersect.field_count())\n",
    "if DEBUG:\n",
    "    display(feature_intersect.to_dataframe().head())"
   ]
  },
  {
   "cell_type": "markdown",
   "id": "21925cbb-c1c4-4796-9b31-3ff786181a82",
   "metadata": {},
   "source": [
    "### save the bed for the ATAC features containing risk variants"
   ]
  },
  {
   "cell_type": "code",
   "execution_count": null,
   "id": "7c9746fb-8957-4861-a9d7-aba5d6f9adba",
   "metadata": {},
   "outputs": [],
   "source": [
    "risk_features_df = feature_intersect.to_dataframe()\n",
    "# change default naming back to gwas columns\n",
    "risk_features_df.rename(columns={'strand': 'm1position', 'thickStart': 'position', \n",
    "                                  'thickEnd': 'variant', 'itemRgb': 'pvalue'}, \n",
    "                         inplace=True)\n",
    "risk_features_df.to_csv(risk_peaks_bed, index=False)"
   ]
  },
  {
   "cell_type": "code",
   "execution_count": null,
   "id": "1d14856b-13a0-4eb4-9b79-b3fefd8c33d5",
   "metadata": {},
   "outputs": [],
   "source": [
    "risk_features_df.head()"
   ]
  },
  {
   "cell_type": "code",
   "execution_count": null,
   "id": "e5efafc0-45a4-4e51-b2e8-5aea4672afcc",
   "metadata": {},
   "outputs": [],
   "source": [
    "risk_features_df.chrom.value_counts()"
   ]
  },
  {
   "cell_type": "markdown",
   "id": "1432b79d-c7e2-4842-8adf-f2daf136fbc6",
   "metadata": {},
   "source": [
    "### how many age associated ATAC peaks also contain possible disease risk variants"
   ]
  },
  {
   "cell_type": "code",
   "execution_count": null,
   "id": "245706a5-fda3-48ae-9f9c-11ce0a5ca91b",
   "metadata": {},
   "outputs": [],
   "source": [
    "risk_age_results = age_df.loc[age_df.feature.isin(risk_features_df.name)]\n",
    "print(f'shape of risk_age_results is {risk_age_results.shape}')\n",
    "if risk_age_results.shape[0] < 20:\n",
    "    print(f'number of unique peaks is {risk_age_results.feature.nunique()}')\n",
    "    display(risk_age_results)\n",
    "else:\n",
    "    print(f'number of unique peaks is {risk_age_results.feature.nunique()}')\n",
    "    display(risk_age_results.head())"
   ]
  },
  {
   "cell_type": "markdown",
   "id": "d2203855-291e-497d-9926-059b01fefd91",
   "metadata": {},
   "source": [
    "#### visualize the counts"
   ]
  },
  {
   "cell_type": "code",
   "execution_count": null,
   "id": "c99d16b8-19fa-4c04-b877-d81cf53725c9",
   "metadata": {},
   "outputs": [],
   "source": [
    "counts = risk_age_results.groupby('tissue').count()\n",
    "counts['feature_proportion'] = round(counts.feature/risk_features_df.name.nunique() * 100, 2)\n",
    "counts = counts.sort_values('feature_proportion', ascending=False)\n",
    "if DEBUG:\n",
    "    display(counts)"
   ]
  },
  {
   "cell_type": "code",
   "execution_count": null,
   "id": "0680bbb7-d6ba-4fec-952f-d0d9192fb1d2",
   "metadata": {},
   "outputs": [],
   "source": [
    "with rc_context({'figure.figsize': (11, 11), 'figure.dpi': 100}):\n",
    "    plt.style.use('seaborn-v0_8-talk')\n",
    "    barplot(data=counts, x='tissue', y='feature_proportion', color='purple')\n",
    "    plt.xticks(rotation=90)\n",
    "    plt.tight_layout()\n",
    "    plt.title(f'% peaks containing {disease} possible common risk variants that are age associated peaks', fontsize='large')  \n",
    "    plt.xlabel('Cell types')\n",
    "    plt.show()    "
   ]
  },
  {
   "cell_type": "markdown",
   "id": "02d6702f-07d3-48e4-95d1-ae9dce7ad91f",
   "metadata": {},
   "source": [
    "#### how many of these age associated ATAC peaks contain possible risk variants modulate age associated gene effect"
   ]
  },
  {
   "cell_type": "markdown",
   "id": "ba4ade38-44d6-433c-8a8f-2f0807df1a93",
   "metadata": {},
   "source": [
    "##### load the conditioned age regression results\n",
    "find the pairwise results where the gene's age associated effect is mediated"
   ]
  },
  {
   "cell_type": "code",
   "execution_count": null,
   "id": "3896e443-cc34-4fcf-b9c6-4b5182835820",
   "metadata": {},
   "outputs": [],
   "source": [
    "cond_df = read_csv(cond_file, index_col=0)\n",
    "print(f'shape of cond_df is {cond_df.shape}')\n",
    "cond_df = cond_df.loc[cond_df['p-value'] > NOMINAL_ALPHA]\n",
    "print(f'shape of cond_df is {cond_df.shape}')\n",
    "if DEBUG:\n",
    "    display(cond_df.head())"
   ]
  },
  {
   "cell_type": "code",
   "execution_count": null,
   "id": "c3b0351a-a161-4e47-8081-948b42a7148e",
   "metadata": {},
   "outputs": [],
   "source": [
    "for row in risk_age_results.itertuples():\n",
    "    temp = cond_df.loc[(cond_df.exog_feature == row.feature) & (cond_df.tissue == row.tissue)]\n",
    "    if temp.shape[0] > 0:\n",
    "        display(temp)"
   ]
  },
  {
   "cell_type": "code",
   "execution_count": null,
   "id": "ada3a590-dd5a-4800-8979-ef6b7d97c497",
   "metadata": {},
   "outputs": [],
   "source": [
    "!date"
   ]
  }
 ],
 "metadata": {
  "environment": {
   "kernel": "python3",
   "name": "pytorch-gpu.1-11.m94",
   "type": "gcloud",
   "uri": "gcr.io/deeplearning-platform-release/pytorch-gpu.1-11:m94"
  },
  "kernelspec": {
   "display_name": "Python 3 (ipykernel)",
   "language": "python",
   "name": "python3"
  },
  "language_info": {
   "codemirror_mode": {
    "name": "ipython",
    "version": 3
   },
   "file_extension": ".py",
   "mimetype": "text/x-python",
   "name": "python",
   "nbconvert_exporter": "python",
   "pygments_lexer": "ipython3",
   "version": "3.10.13"
  }
 },
 "nbformat": 4,
 "nbformat_minor": 5
}
