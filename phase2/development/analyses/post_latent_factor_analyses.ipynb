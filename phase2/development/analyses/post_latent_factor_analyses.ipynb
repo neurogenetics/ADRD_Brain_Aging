{
 "cells": [
  {
   "cell_type": "markdown",
   "id": "443dec7a-ccb8-42ed-bed2-9299fff358d6",
   "metadata": {},
   "source": [
    "## Notebook to post-process the latent factor analysis results"
   ]
  },
  {
   "cell_type": "code",
   "execution_count": null,
   "id": "60af1a5e-b4d4-4db0-820f-0865e5708f8e",
   "metadata": {},
   "outputs": [],
   "source": [
    "!date"
   ]
  },
  {
   "cell_type": "markdown",
   "id": "5ac76f9a-ebd1-4c3b-89d5-86fb79e2c657",
   "metadata": {},
   "source": [
    "#### import libraries"
   ]
  },
  {
   "cell_type": "code",
   "execution_count": null,
   "id": "08d00666-8d6e-4d51-a1a9-a1f4763eafdb",
   "metadata": {},
   "outputs": [],
   "source": [
    "from pandas import read_csv, concat, DataFrame\n",
    "from pickle import load as pkl_load\n",
    "from statsmodels.stats.multitest import multipletests\n",
    "import numpy as np\n",
    "from pickle import dump as pkl_dump"
   ]
  },
  {
   "cell_type": "markdown",
   "id": "1e8091c9-5623-447f-997d-b53aea907dee",
   "metadata": {},
   "source": [
    "#### set notebook variables"
   ]
  },
  {
   "cell_type": "code",
   "execution_count": null,
   "id": "ee8a21bd-7fec-43fe-9823-1963c6b1a76e",
   "metadata": {},
   "outputs": [],
   "source": [
    "# parameters\n",
    "project = 'aging_phase2'\n",
    "\n",
    "# directories\n",
    "wrk_dir = '/labshare/raph/datasets/adrd_neuro/brain_aging/phase2'\n",
    "results_dir = f'{wrk_dir}/results'\n",
    "\n",
    "# out files\n",
    "assoc_file = f'{results_dir}/{project}.latent.age_glm.csv'\n",
    "loadings_file = f'{results_dir}/{project}.latent.loadings.csv'\n",
    "loadings_pickle = f'{results_dir}/{project}.latent.loadings.pkl'\n",
    "metrics_file = f'{results_dir}/{project}.latent.metrics.csv'\n",
    "\n",
    "# variables and constants\n",
    "categories = {'curated_type': 'broad', 'cluster_name': 'specific'}\n",
    "modalities = ['GEX', 'ATAC']\n",
    "model_types = ['PCA', 'NMF', 'ICA']\n",
    "DEBUG = True\n",
    "ALPHA = 0.05"
   ]
  },
  {
   "cell_type": "markdown",
   "id": "5d0c4a2f-fc19-4f71-a20b-a3cf8663174b",
   "metadata": {},
   "source": [
    "#### functions"
   ]
  },
  {
   "cell_type": "code",
   "execution_count": null,
   "id": "7ad83ad7-c16c-4920-975d-0e5c1b14bbc7",
   "metadata": {},
   "outputs": [],
   "source": [
    "def compute_bh_fdr(df: DataFrame, alpha: float=0.05, p_col: str='p-value',\n",
    "                   method: str='fdr_bh', verbose: bool=True) -> DataFrame:\n",
    "    ret_df = df.copy()\n",
    "    test_adjust = multipletests(np.array(ret_df[p_col]), alpha=alpha, \n",
    "                                method=method)\n",
    "    ret_df[method] = test_adjust[1]\n",
    "    if verbose:\n",
    "        print(f'total significant after correction: {ret_df.loc[ret_df[method] < alpha].shape}')\n",
    "    return ret_df"
   ]
  },
  {
   "cell_type": "markdown",
   "id": "550e5ca2-06d1-46d1-b770-e83fbb34db05",
   "metadata": {},
   "source": [
    "#### load age associated feature results to determine cell-types that need to be loaded\n",
    "get the age associated GEX and ATAC features need per cell-type"
   ]
  },
  {
   "cell_type": "code",
   "execution_count": null,
   "id": "77d0cebf-aa68-420c-b1c5-2a3769d7e872",
   "metadata": {},
   "outputs": [],
   "source": [
    "%%time\n",
    "age_results = []\n",
    "for category, prefix in categories.items():\n",
    "    for modality in modalities:\n",
    "        print(modality)\n",
    "        in_file = f'{results_dir}/{project}.{modality}.{prefix}.glm_tweedie_fdr_filtered.age.csv'\n",
    "        this_df = read_csv(in_file)\n",
    "        this_df['modality'] = modality\n",
    "        this_df['type'] = category\n",
    "        age_results.append(this_df)\n",
    "age_results_df = concat(age_results)\n",
    "print(f'shape of the age results is {age_results_df.shape}')\n",
    "if DEBUG:\n",
    "    display(age_results_df.sample(5))\n",
    "    display(age_results_df.modality.value_counts())\n",
    "    display(age_results_df.groupby('type').tissue.value_counts())"
   ]
  },
  {
   "cell_type": "markdown",
   "id": "3cb6f8ee-3e4b-47b0-b146-06f3c7a2d934",
   "metadata": {},
   "source": [
    "### load the results"
   ]
  },
  {
   "cell_type": "markdown",
   "id": "173cb09f-3624-4b12-a6b4-8880965a1bde",
   "metadata": {},
   "source": [
    "#### load the age ~ latent factor association results"
   ]
  },
  {
   "cell_type": "code",
   "execution_count": null,
   "id": "3301e560-d0f9-4766-b4a0-0d44710f078d",
   "metadata": {},
   "outputs": [],
   "source": [
    "age_glm_results = []\n",
    "for category, cell_types in age_results_df.groupby('type').tissue.unique().items():\n",
    "    prefix = categories.get(category)\n",
    "    for cell_type in cell_types:\n",
    "        for mdl_type in [element.lower() for element in model_types]:\n",
    "            # print(prefix, category, cell_type, this_model)\n",
    "            this_file = f'{results_dir}/latents/{project}.{prefix}.{cell_type}.{mdl_type}_age_glm.csv'\n",
    "            this_result = read_csv(this_file)\n",
    "            this_result['type'] = prefix\n",
    "            this_result['cell_type'] = cell_type\n",
    "            this_result['model_type'] = mdl_type\n",
    "            age_glm_results.append(this_result)\n",
    "age_glm_df = concat(age_glm_results)\n",
    "print(f'shape of all age GLM results is {age_glm_df.shape}')\n",
    "if DEBUG:\n",
    "    display(age_glm_df.sample(4))"
   ]
  },
  {
   "cell_type": "markdown",
   "id": "3e08f259-ca02-4e7f-bc9c-72edbd33876d",
   "metadata": {},
   "source": [
    "#### load the latent factors feature loadings"
   ]
  },
  {
   "cell_type": "code",
   "execution_count": null,
   "id": "6748b4c7-b2ca-4b32-9605-bf5716428585",
   "metadata": {},
   "outputs": [],
   "source": [
    "feature_loadings = {}\n",
    "for category, cell_types in age_results_df.groupby('type').tissue.unique().items():\n",
    "    prefix = categories.get(category)\n",
    "    for cell_type in cell_types:\n",
    "        for mdl_type in [element.lower() for element in model_types]:\n",
    "            this_file = f'{results_dir}/latents/{project}.{prefix}.{cell_type}.{mdl_type}_loadings.pkl'\n",
    "            with open(this_file, 'rb') as pkl_file:\n",
    "                this_loading = pkl_load(pkl_file)\n",
    "                for factor in this_loading.keys():\n",
    "                    key_name = f'{cell_type}:{factor}'\n",
    "                    # print(prefix, category, cell_type, this_model, factor, key_name)\n",
    "                    feature_loadings[key_name] = this_loading.get(factor).copy()\n",
    "print(f'{len(feature_loadings)} factor feature loadings loaded')"
   ]
  },
  {
   "cell_type": "markdown",
   "id": "7b7e673b-8980-4936-9c0b-b7726eacb292",
   "metadata": {},
   "source": [
    "#### load the selected component size model accuracy metrics "
   ]
  },
  {
   "cell_type": "code",
   "execution_count": null,
   "id": "26575f18-a7ef-4888-9312-9732ae3ad1bc",
   "metadata": {},
   "outputs": [],
   "source": [
    "mdl_metrics = []\n",
    "for category, cell_types in age_results_df.groupby('type').tissue.unique().items():\n",
    "    prefix = categories.get(category)\n",
    "    for cell_type in cell_types:\n",
    "        this_file = f'{results_dir}/latents/{project}.{prefix}.{cell_type}.latent_metrics.csv'\n",
    "        this_df = read_csv(this_file, header=None)\n",
    "        this_df.columns = ['type', 'cell_type', 'model_type', 'n_comp', 'R2', 'RSME']\n",
    "        mdl_metrics.append(this_df)\n",
    "metrics_df = concat(mdl_metrics)\n",
    "# old logging may have some duplicate writing\n",
    "metrics_df = metrics_df.drop_duplicates(keep='first')\n",
    "print(f'shape of model accuracy metrics {metrics_df.shape}')\n",
    "if DEBUG:\n",
    "    display(metrics_df.sample(4))\n",
    "    print('n_comp')\n",
    "    display(metrics_df.groupby('type').n_comp.describe())\n",
    "    print('R2')    \n",
    "    display(metrics_df.groupby('type').R2.describe())\n",
    "    print('RSME')    \n",
    "    display(metrics_df.groupby('type').RSME.describe())\n",
    "    display(metrics_df.sort_values('n_comp', ascending=False).head())"
   ]
  },
  {
   "cell_type": "code",
   "execution_count": null,
   "id": "1f34b425-6a4b-4ce5-9768-b999f3da69d7",
   "metadata": {},
   "outputs": [],
   "source": [
    "metrics_df.loc[metrics_df.n_comp == 10]"
   ]
  },
  {
   "cell_type": "code",
   "execution_count": null,
   "id": "a305664a-7bc7-4e0e-b556-742727c7c3fd",
   "metadata": {},
   "outputs": [],
   "source": [
    "metrics_df.loc[metrics_df.n_comp == 10]"
   ]
  },
  {
   "cell_type": "code",
   "execution_count": null,
   "id": "b34e503a-f50f-48ae-abb1-cf29632bc1fd",
   "metadata": {},
   "outputs": [],
   "source": [
    "metrics_df.loc[metrics_df.RSME == 0.0743]"
   ]
  },
  {
   "cell_type": "markdown",
   "id": "7b079dbb-4599-4e75-84d7-ce5e2a67496a",
   "metadata": {},
   "source": [
    "### compute B&H FDR for the age ~ latent factor associations"
   ]
  },
  {
   "cell_type": "code",
   "execution_count": null,
   "id": "6f04a1d2-eef4-4a3a-8516-b7dd0ccd4c58",
   "metadata": {},
   "outputs": [],
   "source": [
    "age_glm_df['p-value'] = age_glm_df['p-value'].fillna(1)\n",
    "age_glm_df = compute_bh_fdr(age_glm_df)\n",
    "print(age_glm_df.shape)\n",
    "if DEBUG:\n",
    "    display(age_glm_df.sort_values('fdr_bh').head())\n",
    "    display(age_glm_df.sort_values('z').head())\n",
    "    display(age_glm_df.sort_values('z').tail())"
   ]
  },
  {
   "cell_type": "code",
   "execution_count": null,
   "id": "ad1126f3-eec4-4371-9e40-dc740f4f1800",
   "metadata": {},
   "outputs": [],
   "source": [
    "display(age_glm_df.groupby('model_type').model_type.value_counts())\n",
    "display(age_glm_df.groupby(['type', 'cell_type']).model_type.value_counts())\n",
    "display(age_glm_df.cell_type.value_counts())\n",
    "for model_type in age_glm_df.model_type.unique():\n",
    "    print(f'\\n### {model_type} ###')\n",
    "    display(age_glm_df.loc[age_glm_df.model_type == model_type].cell_type.value_counts())"
   ]
  },
  {
   "cell_type": "code",
   "execution_count": null,
   "id": "17b312e3-927c-44a0-8a2f-8f7589ba1ab3",
   "metadata": {},
   "outputs": [],
   "source": [
    "oi_age_glm_df = age_glm_df.loc[age_glm_df.fdr_bh <= ALPHA]\n",
    "print(oi_age_glm_df.shape)\n",
    "if DEBUG:\n",
    "    display(oi_age_glm_df.sample(4))"
   ]
  },
  {
   "cell_type": "code",
   "execution_count": null,
   "id": "0f973ac0-214a-4612-88e0-b8df7931c554",
   "metadata": {},
   "outputs": [],
   "source": [
    "display(oi_age_glm_df.groupby('model_type').model_type.value_counts())\n",
    "display(oi_age_glm_df.groupby(['type', 'cell_type']).model_type.value_counts())\n",
    "display(oi_age_glm_df.cell_type.value_counts())\n",
    "for model_type in oi_age_glm_df.model_type.unique():\n",
    "    print(f'\\n### {model_type} ###')\n",
    "    display(oi_age_glm_df.loc[oi_age_glm_df.model_type == model_type].cell_type.value_counts())"
   ]
  },
  {
   "cell_type": "code",
   "execution_count": null,
   "id": "158c695c-d900-4fe2-a4d9-0ea76e775688",
   "metadata": {},
   "outputs": [],
   "source": [
    "oi_age_glm_df.loc[oi_age_glm_df.cell_type == 'InN-13'].sort_values('fdr_bh')"
   ]
  },
  {
   "cell_type": "markdown",
   "id": "0a9b969b-97cb-466e-8a06-3ad890887baf",
   "metadata": {},
   "source": [
    "### save the the combine results for the different result types"
   ]
  },
  {
   "cell_type": "markdown",
   "id": "c43ae6f1-5d88-4287-9d98-433b2e7b4fce",
   "metadata": {},
   "source": [
    "#### write the combined age ~ latent association results"
   ]
  },
  {
   "cell_type": "code",
   "execution_count": null,
   "id": "6a312599-9482-4eda-8fbf-df5bbec3e0d3",
   "metadata": {},
   "outputs": [],
   "source": [
    "age_glm_df.to_csv(assoc_file)"
   ]
  },
  {
   "cell_type": "markdown",
   "id": "428ffaf0-34d8-434a-9a28-8cb0514fadf6",
   "metadata": {},
   "source": [
    "#### write the combined latent factor feature loadings"
   ]
  },
  {
   "cell_type": "code",
   "execution_count": null,
   "id": "a62f8279-1d7d-45b3-9b96-737b4c3fea15",
   "metadata": {},
   "outputs": [],
   "source": [
    "with open(loadings_pickle, 'wb') as pkl_file:\n",
    "    pkl_dump(feature_loadings, pkl_file)\n",
    "loadings_df = DataFrame(feature_loadings).transpose()\n",
    "loadings_df.to_csv(loadings_file)"
   ]
  },
  {
   "cell_type": "markdown",
   "id": "3c949782-d8ce-4730-a1e8-102591926ca2",
   "metadata": {},
   "source": [
    "#### write the combined latent modeling metrics"
   ]
  },
  {
   "cell_type": "code",
   "execution_count": null,
   "id": "04661156-4a4f-4fb8-be96-b9d93ce3f227",
   "metadata": {},
   "outputs": [],
   "source": [
    "metrics_df.to_csv(metrics_file)"
   ]
  },
  {
   "cell_type": "code",
   "execution_count": null,
   "id": "79c06aa2-c300-41e6-8dd2-e5684cb81f4b",
   "metadata": {},
   "outputs": [],
   "source": [
    "!date"
   ]
  }
 ],
 "metadata": {
  "kernelspec": {
   "display_name": "Python 3 (ipykernel)",
   "language": "python",
   "name": "python3"
  },
  "language_info": {
   "codemirror_mode": {
    "name": "ipython",
    "version": 3
   },
   "file_extension": ".py",
   "mimetype": "text/x-python",
   "name": "python",
   "nbconvert_exporter": "python",
   "pygments_lexer": "ipython3",
   "version": "3.10.13"
  }
 },
 "nbformat": 4,
 "nbformat_minor": 5
}
