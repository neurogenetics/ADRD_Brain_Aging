{
 "cells": [
  {
   "cell_type": "markdown",
   "id": "b937feb6-36ee-42fa-adf0-e85abf51d8d7",
   "metadata": {
    "tags": []
   },
   "source": [
    "## Notebook to run cellranger-arc aggr over the per sample cellranger-arc count data\n",
    "\n",
    "- [Aggregating Multiple GEM Wells with cellranger-arc aggr](https://support.10xgenomics.com/single-cell-multiome-atac-gex/software/pipelines/latest/using/aggr)\n",
    "- NISC ran Cellrnager-arc v2"
   ]
  },
  {
   "cell_type": "code",
   "execution_count": 1,
   "id": "ac52ad1f-8033-44ce-957d-b0a96b264818",
   "metadata": {},
   "outputs": [
    {
     "name": "stdout",
     "output_type": "stream",
     "text": [
      "Fri Jul 28 17:18:46 EDT 2023\n"
     ]
    }
   ],
   "source": [
    "!date"
   ]
  },
  {
   "cell_type": "markdown",
   "id": "aecfad1e-8d53-46c2-8de3-d9df5e5d77cf",
   "metadata": {},
   "source": [
    "#### import libraries"
   ]
  },
  {
   "cell_type": "code",
   "execution_count": 2,
   "id": "f57e7697-5a7c-43a8-abc5-cce58656c0c5",
   "metadata": {},
   "outputs": [],
   "source": [
    "from pandas import DataFrame\n",
    "from os.path import exists\n",
    "from multiprocessing import cpu_count"
   ]
  },
  {
   "cell_type": "markdown",
   "id": "d0b361fa-ae9d-4aa5-9e4d-2198d9423169",
   "metadata": {},
   "source": [
    "#### set notebook variables"
   ]
  },
  {
   "cell_type": "code",
   "execution_count": 3,
   "id": "b582931c-0b31-4c6e-908e-51cd34af73e1",
   "metadata": {},
   "outputs": [],
   "source": [
    "# naming\n",
    "proj_name = 'aging_phase2'\n",
    "\n",
    "# directories\n",
    "wrk_dir = '/labshare/raph/datasets/adrd_neuro/brain_aging/phase2'\n",
    "public_dir = f'{wrk_dir}/public'\n",
    "src_dir = f'{wrk_dir}/src_data/arc'\n",
    "\n",
    "# in files\n",
    "reference_path = f'{public_dir}/refdata-cellranger-arc-GRCh38-2020-A-2.0.0'\n",
    "celranger_arc_path = '~/cellranger-arc-2.0.1/cellranger-arc'\n",
    "peaks_bed = f'{wrk_dir}/src_data/{proj_name}_consensus_atac_peaks.bed'\n",
    "\n",
    "# out files\n",
    "aggr_setup_file = f'{src_dir}/{proj_name}.cellranger_arc_aggr.csv'\n",
    "\n",
    "# variables\n",
    "samples = ['Ag119', 'Ag120', 'Ag121']\n",
    "# dropped Ag122 problem with this sample, had 20000 cells \n",
    "# and tsne was just single blob for both GEX and ATAC\n",
    "DEBUG = True\n",
    "\n",
    "max_cpu = int(cpu_count()/2)\n",
    "max_mem_gb = 512"
   ]
  },
  {
   "cell_type": "markdown",
   "id": "d9075018-d8d6-4b52-92cb-1d6c7f336f5c",
   "metadata": {},
   "source": [
    "### create and save the aggr input sample file"
   ]
  },
  {
   "cell_type": "code",
   "execution_count": 4,
   "id": "28064eb2-a05d-475d-b3bb-95084e1dea6f",
   "metadata": {},
   "outputs": [],
   "source": [
    "library_ids = []\n",
    "fragments = []\n",
    "metrics = []\n",
    "molecules = []\n",
    "for sample in samples:\n",
    "    sample_dir = f'{src_dir}/{sample}_arc/outs'\n",
    "    if exists(sample_dir):\n",
    "        # print(subject, region)\n",
    "        library_ids.append(f'{sample}')\n",
    "        fragments.append(f'{sample_dir}/atac_fragments.tsv.gz')\n",
    "        metrics.append(f'{sample_dir}/per_barcode_metrics.csv')\n",
    "        molecules.append(f'{sample_dir}/gex_molecule_info.h5')            \n",
    "    else:\n",
    "        print(f'did not find arc out for {sample}')"
   ]
  },
  {
   "cell_type": "code",
   "execution_count": 5,
   "id": "3827f4d5-a9f6-417e-bbca-98849ba3cc23",
   "metadata": {},
   "outputs": [
    {
     "name": "stdout",
     "output_type": "stream",
     "text": [
      "(3, 4)\n"
     ]
    },
    {
     "data": {
      "text/html": [
       "<div>\n",
       "<style scoped>\n",
       "    .dataframe tbody tr th:only-of-type {\n",
       "        vertical-align: middle;\n",
       "    }\n",
       "\n",
       "    .dataframe tbody tr th {\n",
       "        vertical-align: top;\n",
       "    }\n",
       "\n",
       "    .dataframe thead th {\n",
       "        text-align: right;\n",
       "    }\n",
       "</style>\n",
       "<table border=\"1\" class=\"dataframe\">\n",
       "  <thead>\n",
       "    <tr style=\"text-align: right;\">\n",
       "      <th></th>\n",
       "      <th>library_id</th>\n",
       "      <th>atac_fragments</th>\n",
       "      <th>per_barcode_metrics</th>\n",
       "      <th>gex_molecule_info</th>\n",
       "    </tr>\n",
       "  </thead>\n",
       "  <tbody>\n",
       "    <tr>\n",
       "      <th>0</th>\n",
       "      <td>Ag119</td>\n",
       "      <td>/labshare/raph/datasets/adrd_neuro/brain_aging...</td>\n",
       "      <td>/labshare/raph/datasets/adrd_neuro/brain_aging...</td>\n",
       "      <td>/labshare/raph/datasets/adrd_neuro/brain_aging...</td>\n",
       "    </tr>\n",
       "    <tr>\n",
       "      <th>1</th>\n",
       "      <td>Ag120</td>\n",
       "      <td>/labshare/raph/datasets/adrd_neuro/brain_aging...</td>\n",
       "      <td>/labshare/raph/datasets/adrd_neuro/brain_aging...</td>\n",
       "      <td>/labshare/raph/datasets/adrd_neuro/brain_aging...</td>\n",
       "    </tr>\n",
       "    <tr>\n",
       "      <th>2</th>\n",
       "      <td>Ag121</td>\n",
       "      <td>/labshare/raph/datasets/adrd_neuro/brain_aging...</td>\n",
       "      <td>/labshare/raph/datasets/adrd_neuro/brain_aging...</td>\n",
       "      <td>/labshare/raph/datasets/adrd_neuro/brain_aging...</td>\n",
       "    </tr>\n",
       "  </tbody>\n",
       "</table>\n",
       "</div>"
      ],
      "text/plain": [
       "  library_id                                     atac_fragments  \\\n",
       "0      Ag119  /labshare/raph/datasets/adrd_neuro/brain_aging...   \n",
       "1      Ag120  /labshare/raph/datasets/adrd_neuro/brain_aging...   \n",
       "2      Ag121  /labshare/raph/datasets/adrd_neuro/brain_aging...   \n",
       "\n",
       "                                 per_barcode_metrics  \\\n",
       "0  /labshare/raph/datasets/adrd_neuro/brain_aging...   \n",
       "1  /labshare/raph/datasets/adrd_neuro/brain_aging...   \n",
       "2  /labshare/raph/datasets/adrd_neuro/brain_aging...   \n",
       "\n",
       "                                   gex_molecule_info  \n",
       "0  /labshare/raph/datasets/adrd_neuro/brain_aging...  \n",
       "1  /labshare/raph/datasets/adrd_neuro/brain_aging...  \n",
       "2  /labshare/raph/datasets/adrd_neuro/brain_aging...  "
      ]
     },
     "metadata": {},
     "output_type": "display_data"
    }
   ],
   "source": [
    "template_df = DataFrame({\n",
    "    'library_id': library_ids,\n",
    "    'atac_fragments': fragments,\n",
    "    'per_barcode_metrics': metrics,\n",
    "    'gex_molecule_info': molecules})\n",
    "\n",
    "print(template_df.shape)\n",
    "if DEBUG:\n",
    "    display(template_df.head())\n",
    "    \n",
    "template_df.to_csv(aggr_setup_file, index=False)"
   ]
  },
  {
   "cell_type": "markdown",
   "id": "b48a438e-bceb-4fe0-b759-d9b58ef52f5f",
   "metadata": {},
   "source": [
    "### format cmd to run the cellranger job"
   ]
  },
  {
   "cell_type": "code",
   "execution_count": 9,
   "id": "582d0af7-62a0-4448-866e-e8fb71abef96",
   "metadata": {},
   "outputs": [
    {
     "name": "stdout",
     "output_type": "stream",
     "text": [
      "cd /labshare/raph/datasets/adrd_neuro/brain_aging/phase2/src_data/arc; ~/cellranger-arc-2.0.1/cellranger-arc aggr --id=aging_phase2_consensus_aggr --csv=/labshare/raph/datasets/adrd_neuro/brain_aging/phase2/src_data/arc/aging_phase2.cellranger_arc_aggr.csv --reference /labshare/raph/datasets/adrd_neuro/brain_aging/phase2/public/refdata-cellranger-arc-GRCh38-2020-A-2.0.0 --peaks=/labshare/raph/datasets/adrd_neuro/brain_aging/phase2/src_data/aging_phase2_consensus_atac_peaks.bed --normalize=none --nosecondary --description=aging_phase2 --localcores=32 --localmem=512\n"
     ]
    }
   ],
   "source": [
    "if exists(peaks_bed):\n",
    "    this_cmd = f'cd {src_dir}; \\\n",
    "{celranger_arc_path} aggr --id={proj_name}_consensus_aggr --csv={aggr_setup_file} \\\n",
    "--reference {reference_path} \\\n",
    "--peaks={peaks_bed} \\\n",
    "--normalize=none \\\n",
    "--nosecondary \\\n",
    "--description={proj_name} \\\n",
    "--localcores={max_cpu} \\\n",
    "--localmem={max_mem_gb}'    \n",
    "else:\n",
    "    this_cmd = f'cd {src_dir}; \\\n",
    "{celranger_arc_path} aggr --id={proj_name}_arc_aggr --csv={aggr_setup_file} \\\n",
    "--reference {reference_path} \\\n",
    "--normalize=none \\\n",
    "--nosecondary \\\n",
    "--description={proj_name} \\\n",
    "--localcores={max_cpu} \\\n",
    "--localmem={max_mem_gb}'\n",
    "\n",
    "print(this_cmd)"
   ]
  },
  {
   "cell_type": "code",
   "execution_count": null,
   "id": "221f82c4-8cd3-48c2-a446-bf508613b507",
   "metadata": {},
   "outputs": [],
   "source": [
    "!date"
   ]
  }
 ],
 "metadata": {
  "kernelspec": {
   "display_name": "Python 3 (ipykernel)",
   "language": "python",
   "name": "python3"
  },
  "language_info": {
   "codemirror_mode": {
    "name": "ipython",
    "version": 3
   },
   "file_extension": ".py",
   "mimetype": "text/x-python",
   "name": "python",
   "nbconvert_exporter": "python",
   "pygments_lexer": "ipython3",
   "version": "3.9.17"
  }
 },
 "nbformat": 4,
 "nbformat_minor": 5
}
