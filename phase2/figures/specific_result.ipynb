{
 "cells": [
  {
   "cell_type": "markdown",
   "id": "a353655f-fa7a-45fd-8dc4-6c6eeefcc2b3",
   "metadata": {},
   "source": [
    "## Notebook to look at a specific result"
   ]
  },
  {
   "cell_type": "code",
   "execution_count": null,
   "id": "a9e3f677-6f1e-4a68-9f3e-1ceb19639830",
   "metadata": {},
   "outputs": [],
   "source": [
    "!date"
   ]
  },
  {
   "cell_type": "markdown",
   "id": "f857c11b-2add-4e2a-b346-b6c992f2b18b",
   "metadata": {},
   "source": [
    "#### import libraries"
   ]
  },
  {
   "cell_type": "code",
   "execution_count": null,
   "id": "fee505af-172d-458f-9044-3517741aac04",
   "metadata": {},
   "outputs": [],
   "source": [
    "from anndata import AnnData\n",
    "import numpy as np\n",
    "from pandas import DataFrame, concat, read_csv, Series, read_parquet, set_option as pd_set_option\n",
    "# import scanpy as sc\n",
    "from scanpy import read_h5ad\n",
    "from statsmodels.stats.multitest import multipletests\n",
    "import matplotlib.pyplot as plt\n",
    "from seaborn import scatterplot, lmplot, displot\n",
    "from matplotlib.pyplot import rc_context\n",
    "import json\n",
    "from os.path import exists\n",
    "from sklearn.preprocessing import MinMaxScaler\n",
    "import statsmodels.formula.api as smf\n",
    "import statsmodels.api as sm\n",
    "\n",
    "import warnings\n",
    "warnings.simplefilter('ignore')\n",
    "\n",
    "import random\n",
    "random.seed(420)\n",
    "\n",
    "%matplotlib inline\n",
    "# for white background of figures (only for docs rendering)\n",
    "%config InlineBackend.print_figure_kwargs={'facecolor' : \"w\"}\n",
    "%config InlineBackend.figure_format='retina'"
   ]
  },
  {
   "cell_type": "markdown",
   "id": "4d3931b6-e28b-4c29-9b93-bb9810b5f645",
   "metadata": {},
   "source": [
    "#### set notebook variables"
   ]
  },
  {
   "cell_type": "code",
   "execution_count": null,
   "id": "c3049651-7102-4bc4-bf5b-ffdf086be113",
   "metadata": {},
   "outputs": [],
   "source": [
    "# parameters\n",
    "modality = 'GEX' # 'GEX' or 'ATAC'\n",
    "category = 'curated_type' # 'curated_type' for broad and 'cluster_name' for specific\n",
    "feature = 'SNTB2'\n",
    "cell_type = 'InN'\n",
    "REGRESSION_TYPE = 'glm_tweedie' # 'glm', 'glm_tweedie', or 'rlm'"
   ]
  },
  {
   "cell_type": "code",
   "execution_count": null,
   "id": "b20c784c-921d-4293-810c-f9568df8e1d6",
   "metadata": {},
   "outputs": [],
   "source": [
    "# parameters\n",
    "project = 'aging_phase2'\n",
    "if category == 'curated_type':\n",
    "    prefix_type = 'broad'\n",
    "elif category == 'cluster_name':\n",
    "    prefix_type = 'specific' \n",
    "\n",
    "# directories\n",
    "wrk_dir = '/labshare/raph/datasets/adrd_neuro/brain_aging/phase2'\n",
    "quants_dir = f'{wrk_dir}/quants'\n",
    "results_dir = f'{wrk_dir}/results'\n",
    "figures_dir = f'{wrk_dir}/figures'\n",
    "\n",
    "# in files\n",
    "anndata_file = f'{quants_dir}/{project}.multivi.curated_final.h5ad'  \n",
    "\n",
    "# out files\n",
    "\n",
    "# constants\n",
    "DEBUG = True\n",
    "pd_set_option('display.max_rows', 500)"
   ]
  },
  {
   "cell_type": "markdown",
   "id": "559b4c9e-d9bc-474d-9627-47c000387063",
   "metadata": {},
   "source": [
    "### read the specified result"
   ]
  },
  {
   "cell_type": "code",
   "execution_count": null,
   "id": "c971f662-2875-4210-baac-1aabeee83299",
   "metadata": {},
   "outputs": [],
   "source": [
    "in_file = f'{results_dir}/{project}.{modality}.{prefix_type}.{cell_type}.{REGRESSION_TYPE}.age.csv'\n",
    "if exists(in_file):\n",
    "    glm_results = read_csv(in_file)\n",
    "print(f'read {glm_results.shape} results ')\n",
    "display(glm_results.loc[(glm_results.feature == feature) & \n",
    "                        (glm_results.tissue == cell_type) & \n",
    "                        (glm_results.type == category)])"
   ]
  },
  {
   "cell_type": "markdown",
   "id": "f96c2a14-67cd-4c01-8745-3d5cbcdac87f",
   "metadata": {},
   "source": [
    "### load quantified data"
   ]
  },
  {
   "cell_type": "code",
   "execution_count": null,
   "id": "502fb8e7-80d0-4d11-b674-afdc312d8662",
   "metadata": {},
   "outputs": [],
   "source": [
    "%%time\n",
    "this_file = f'{quants_dir}/{project}.{modality}.{prefix_type}.{cell_type}.pb.parquet'\n",
    "if exists(this_file):\n",
    "    quants_df = read_parquet(this_file)\n",
    "print(f'shape of read {cell_type} quantifications {quants_df.shape}')        \n",
    "if DEBUG:\n",
    "    display(quants_df[feature])"
   ]
  },
  {
   "cell_type": "markdown",
   "id": "81312ab9-94f7-4912-967d-82200b6c0d56",
   "metadata": {},
   "source": [
    "\n",
    "### load data\n",
    "read the anndata (h5ad) file"
   ]
  },
  {
   "cell_type": "code",
   "execution_count": null,
   "id": "8ad2a5e7-d959-44d5-a1e6-73103dde93e6",
   "metadata": {},
   "outputs": [],
   "source": [
    "%%time\n",
    "adata = read_h5ad(anndata_file)\n",
    "print(adata)\n",
    "if DEBUG:\n",
    "    display(adata.obs.sample(5))"
   ]
  },
  {
   "cell_type": "markdown",
   "id": "919e3a70-7bab-4856-bca0-c5afe798a30a",
   "metadata": {},
   "source": [
    "#### take a look at the cell counts by cell type"
   ]
  },
  {
   "cell_type": "code",
   "execution_count": null,
   "id": "aa83cf80-d928-4fab-8905-8b41cc22cb37",
   "metadata": {
    "scrolled": true
   },
   "outputs": [],
   "source": [
    "display(adata.obs[category].value_counts())"
   ]
  },
  {
   "cell_type": "markdown",
   "id": "7fc8a578-116d-435f-b185-114f2702e83f",
   "metadata": {},
   "source": [
    "### format sample covariates\n",
    "\n",
    "sex, ancestry, age, (gex_pool or atac_pool), pmi, ph, smoker, bmi"
   ]
  },
  {
   "cell_type": "code",
   "execution_count": null,
   "id": "189a06f9-82ef-4f39-a8ee-0bec7472366a",
   "metadata": {},
   "outputs": [],
   "source": [
    "keep_terms = ['sample_id','sex', 'ancestry', 'age', 'gex_pool', 'atac_pool', \n",
    "              'pmi', 'ph', 'smoker', 'bmi']\n",
    "covars_df = adata.obs[keep_terms].drop_duplicates().reset_index(drop=True)\n",
    "covars_df = covars_df.set_index('sample_id')\n",
    "\n",
    "if DEBUG:\n",
    "    print(covars_df.shape)\n",
    "    display(covars_df.head())\n",
    "    display(covars_df.info())\n",
    "    display(covars_df.smoker.value_counts())\n",
    "    display(covars_df.bmi.describe())"
   ]
  },
  {
   "cell_type": "markdown",
   "id": "d2682a31-f272-444f-9a99-2f0ff0425864",
   "metadata": {},
   "source": [
    "#### fill any missing covariate terms\n",
    "looks like smoker and bmi is missing for one sample will set it to mean of those values"
   ]
  },
  {
   "cell_type": "code",
   "execution_count": null,
   "id": "bdb1069c-ecc5-4e40-a050-41da6c1e9a62",
   "metadata": {},
   "outputs": [],
   "source": [
    "# fill the missing smoker and bmi value\n",
    "covars_df.loc[covars_df.smoker.isna(), 'smoker'] = covars_df.smoker.mean().round(1)\n",
    "covars_df.loc[covars_df.bmi.isna(), 'bmi'] = covars_df.bmi.mean().round(1)\n",
    "\n",
    "if DEBUG:\n",
    "    print(covars_df.shape)\n",
    "    display(covars_df.info())\n",
    "    display(covars_df.smoker.value_counts())\n",
    "    display(covars_df.bmi.describe())"
   ]
  },
  {
   "cell_type": "markdown",
   "id": "2980ecf6-1d71-488f-8a93-366c1436abb7",
   "metadata": {},
   "source": [
    "#### set the pool term based on modality being analyzed"
   ]
  },
  {
   "cell_type": "code",
   "execution_count": null,
   "id": "42e1e0c9-7d4b-4de0-b362-575d71ea0b9e",
   "metadata": {},
   "outputs": [],
   "source": [
    "if modality == 'GEX':\n",
    "    covars_df['pool'] = covars_df.gex_pool\n",
    "elif modality == 'ATAC':\n",
    "    covars_df['pool'] = covars_df.atac_pool\n",
    "covars_df = covars_df.drop(columns=['gex_pool', 'atac_pool'])\n",
    "print(f'shape of covariate terms is {covars_df.shape}')\n",
    "if DEBUG:\n",
    "    display(covars_df.head(40))"
   ]
  },
  {
   "cell_type": "markdown",
   "id": "d6e6b846-f937-4df6-b267-7ae9ae47513d",
   "metadata": {},
   "source": [
    "### merge the covariates with the feature of interest"
   ]
  },
  {
   "cell_type": "code",
   "execution_count": null,
   "id": "62b06a37-8042-4f21-9810-db69e7607462",
   "metadata": {
    "scrolled": true
   },
   "outputs": [],
   "source": [
    "quants_df[[feature, 'cell_count']]\n",
    "data_df = quants_df[[feature, 'cell_count']].merge(covars_df, how='inner', \n",
    "                                                   left_index=True, right_index=True)\n",
    "print(data_df.shape)\n",
    "if DEBUG:\n",
    "    display(data_df)"
   ]
  },
  {
   "cell_type": "markdown",
   "id": "d3ae52ca-56c4-4acd-8394-64c7e09fba35",
   "metadata": {},
   "source": [
    "### check if age, exogenous variable, is correlated with any ouf the covariate terms\n",
    "\n",
    "none of the terms appear to have a statistically significant correlation with age"
   ]
  },
  {
   "cell_type": "code",
   "execution_count": null,
   "id": "b65dc81b-a390-4e1f-8a4e-6e817990441c",
   "metadata": {},
   "outputs": [],
   "source": [
    "covariate_terms = ['sex', 'ancestry', 'pmi', 'ph', 'smoker', 'bmi', 'pool']\n",
    "covar_term_formula = ' + '.join(covariate_terms)\n",
    "this_formula = f'age ~ cell_count + {covar_term_formula}'\n",
    "print(this_formula)\n",
    "# with GLM\n",
    "model = smf.glm(formula=this_formula, data=data_df)\n",
    "result = model.fit()\n",
    "display(result.summary())\n",
    "# with RLM\n",
    "model = smf.rlm(formula=this_formula, data=data_df)\n",
    "result = model.fit()\n",
    "display(result.summary())"
   ]
  },
  {
   "cell_type": "markdown",
   "id": "cf3269f5-a30f-419f-97d9-ceaccccab95f",
   "metadata": {},
   "source": [
    "### regression results when using GLM and Tweedie distribution"
   ]
  },
  {
   "cell_type": "code",
   "execution_count": null,
   "id": "9f5f8595-69c1-4533-9dcf-24b84085dea0",
   "metadata": {},
   "outputs": [],
   "source": [
    "endo_term = feature\n",
    "exog_term = 'age'\n",
    "this_formula = f'Q(\"{endo_term}\") ~ {exog_term} + {covar_term_formula} + cell_count'\n",
    "model = smf.glm(formula=this_formula, data=data_df, \n",
    "                family=sm.families.Tweedie(link=sm.families.links.log(), \n",
    "                                           var_power=1.6, eql=True))\n",
    "result = model.fit()\n",
    "print(result.summary())\n",
    "print(['feature', 'intercept', 'coef', 'stderr', 'z', 'p-value'])\n",
    "ret_list = [endo_term, result.params['Intercept'], \n",
    "            result.params[exog_term], result.bse[exog_term], \n",
    "            result.tvalues[exog_term], result.pvalues[exog_term]]\n",
    "print(ret_list)"
   ]
  },
  {
   "cell_type": "markdown",
   "id": "00b78471-a5ed-4487-9a79-f629c46d78fb",
   "metadata": {},
   "source": [
    "### regression results when using GLM without Tweedie distribution"
   ]
  },
  {
   "cell_type": "code",
   "execution_count": null,
   "id": "89f92e3f-22a3-4f14-b258-1d07a8fa3142",
   "metadata": {},
   "outputs": [],
   "source": [
    "model = smf.glm(formula=this_formula, data=data_df)\n",
    "result = model.fit()\n",
    "print(result.summary())\n",
    "print(['feature', 'intercept', 'coef', 'stderr', 'z', 'p-value'])\n",
    "ret_list = [endo_term, result.params['Intercept'], \n",
    "            result.params[exog_term], result.bse[exog_term], \n",
    "            result.tvalues[exog_term], result.pvalues[exog_term]]\n",
    "print(ret_list)"
   ]
  },
  {
   "cell_type": "markdown",
   "id": "6359c2ac-5c6f-4d41-aada-271b866afa05",
   "metadata": {},
   "source": [
    "### regression results when using RLM"
   ]
  },
  {
   "cell_type": "code",
   "execution_count": null,
   "id": "53c412f5-39fc-4417-9e66-a17e37e79c15",
   "metadata": {},
   "outputs": [],
   "source": [
    "model = smf.rlm(formula=this_formula, data=data_df)\n",
    "result = model.fit()\n",
    "print(result.summary())\n",
    "print(['feature', 'intercept', 'coef', 'stderr', 'z', 'p-value'])\n",
    "ret_list = [endo_term, result.params['Intercept'], \n",
    "            result.params[exog_term], result.bse[exog_term], \n",
    "            result.tvalues[exog_term], result.pvalues[exog_term]]\n",
    "print(ret_list)"
   ]
  },
  {
   "cell_type": "code",
   "execution_count": null,
   "id": "b3f67944-14db-4661-b48f-eda70b96d8fc",
   "metadata": {},
   "outputs": [],
   "source": [
    "displot(data_df[feature], kind='kde')"
   ]
  },
  {
   "cell_type": "code",
   "execution_count": null,
   "id": "a7f6ca96-e8a7-4de0-a74e-17fbd364894f",
   "metadata": {},
   "outputs": [],
   "source": [
    "scatterplot(x='age', y=feature, size='cell_count', data=data_df)"
   ]
  },
  {
   "cell_type": "code",
   "execution_count": null,
   "id": "5ccebceb-3cff-4d0d-b135-55d8e070c9d8",
   "metadata": {},
   "outputs": [],
   "source": [
    "scatterplot(x=feature, y='cell_count', data=data_df)"
   ]
  },
  {
   "cell_type": "code",
   "execution_count": null,
   "id": "5f8b3826-cb7f-48d2-96f4-8948c449a82a",
   "metadata": {},
   "outputs": [],
   "source": [
    "lmplot(x='age', y=feature, data=data_df, robust=True)"
   ]
  },
  {
   "cell_type": "code",
   "execution_count": null,
   "id": "e7afec07-a8ba-4ec2-b404-a11f33c31615",
   "metadata": {},
   "outputs": [],
   "source": [
    "lmplot(x='age', y=feature, data=data_df)"
   ]
  },
  {
   "cell_type": "code",
   "execution_count": null,
   "id": "a3002f51-8b78-45ca-8f10-d78fbd1cd370",
   "metadata": {},
   "outputs": [],
   "source": []
  }
 ],
 "metadata": {
  "kernelspec": {
   "display_name": "Python 3 (ipykernel)",
   "language": "python",
   "name": "python3"
  },
  "language_info": {
   "codemirror_mode": {
    "name": "ipython",
    "version": 3
   },
   "file_extension": ".py",
   "mimetype": "text/x-python",
   "name": "python",
   "nbconvert_exporter": "python",
   "pygments_lexer": "ipython3",
   "version": "3.10.13"
  }
 },
 "nbformat": 4,
 "nbformat_minor": 5
}
