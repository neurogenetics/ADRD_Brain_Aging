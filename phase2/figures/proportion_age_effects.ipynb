{
 "cells": [
  {
   "cell_type": "markdown",
   "id": "bd117cb8-b943-48fa-9cbb-d2f06a6f7fbf",
   "metadata": {},
   "source": [
    "## Figure to display the proportion of age associated features per cell types"
   ]
  },
  {
   "cell_type": "code",
   "execution_count": null,
   "id": "d0205653-72cb-4c21-9979-391dc383a8fa",
   "metadata": {},
   "outputs": [],
   "source": [
    "!date"
   ]
  },
  {
   "cell_type": "markdown",
   "id": "e0b29bc0-40e7-4c82-89e0-be9a4f4fe539",
   "metadata": {},
   "source": [
    "#### import libraries"
   ]
  },
  {
   "cell_type": "code",
   "execution_count": null,
   "id": "bcc1eb08-0052-45dc-9910-1aadc95cff95",
   "metadata": {},
   "outputs": [],
   "source": [
    "from pandas import read_csv, read_parquet, DataFrame as PandasDF\n",
    "from scanpy import read_h5ad\n",
    "from os.path import exists\n",
    "from seaborn import scatterplot, barplot\n",
    "import matplotlib.pyplot as plt\n",
    "from matplotlib.pyplot import rc_context\n",
    "\n",
    "%matplotlib inline\n",
    "# for white background of figures (only for docs rendering)\n",
    "%config InlineBackend.print_figure_kwargs={'facecolor' : \"w\"}\n",
    "%config InlineBackend.figure_format='retina'"
   ]
  },
  {
   "cell_type": "markdown",
   "id": "004011c7-3b09-4077-bcaa-a312b0691887",
   "metadata": {},
   "source": [
    "#### set notebook variables"
   ]
  },
  {
   "cell_type": "code",
   "execution_count": null,
   "id": "2b364e04-8e9d-4f46-86de-fd5d5a7cfa1a",
   "metadata": {},
   "outputs": [],
   "source": [
    "# parameters\n",
    "modality = 'GEX' # 'GEX' or 'ATAC'\n",
    "category = 'cluster_name' # 'curated_type' for broad and 'cluster_name' for specific\n",
    "REGRESSION_TYPE = 'glm_tweedie'"
   ]
  },
  {
   "cell_type": "code",
   "execution_count": null,
   "id": "36b377fb-3e98-4592-b376-0879658d7891",
   "metadata": {},
   "outputs": [],
   "source": [
    "# parameters\n",
    "project = 'aging_phase2'\n",
    "if category == 'curated_type':\n",
    "    prefix_type = 'broad'\n",
    "elif category == 'cluster_name':\n",
    "    prefix_type = 'specific' \n",
    "\n",
    "# directories\n",
    "wrk_dir = '/labshare/raph/datasets/adrd_neuro/brain_aging/phase2'\n",
    "results_dir = f'{wrk_dir}/results'\n",
    "quants_dir = f'{wrk_dir}/quants'\n",
    "figures_dir = f'{wrk_dir}/figures'\n",
    "\n",
    "# in files\n",
    "results_file = f'{results_dir}/{project}.{modality}.{prefix_type}.{REGRESSION_TYPE}_fdr_filtered.age.csv'\n",
    "anndata_file = f'{quants_dir}/{project}.multivi.curated_final.h5ad' \n",
    "\n",
    "# out files\n",
    "fig_filename = f'{figures_dir}/{project}.{modality}.{prefix_type}.{REGRESSION_TYPE}.summary.png'\n",
    "bar_fig_filename = f'{figures_dir}/{project}.{modality}.{prefix_type}.{REGRESSION_TYPE}.summary_bar.png'\n",
    "out_filename = f'{figures_dir}/{project}.{modality}.{prefix_type}.{REGRESSION_TYPE}.summary.csv'\n",
    "\n",
    "# constants\n",
    "DEBUG = False\n",
    "ALPHA = 0.05\n",
    "if DEBUG:\n",
    "    print(f'results_file = {results_file}')\n",
    "    print(f'fig_filename = {fig_filename}')\n",
    "    print(f'out_filename = {out_filename}')"
   ]
  },
  {
   "cell_type": "markdown",
   "id": "c6dfde6f-9685-4a49-b98c-2c39448aee10",
   "metadata": {},
   "source": [
    "#### functions"
   ]
  },
  {
   "cell_type": "code",
   "execution_count": null,
   "id": "d9fcd8a4-263c-4867-8baf-fbc642e8544f",
   "metadata": {},
   "outputs": [],
   "source": [
    "def load_quantification(cell_name: str, verbose: bool=False) -> PandasDF:\n",
    "    this_file = f'{quants_dir}/{project}.{modality}.{prefix_type}.{cell_name}.pb.parquet'\n",
    "    if not exists(this_file):\n",
    "        return None\n",
    "    df = read_parquet(this_file)\n",
    "    if verbose:\n",
    "        print(f'shape of read {cell_name} quantifications {df.shape}')        \n",
    "        display(df.sample(5))\n",
    "    return df"
   ]
  },
  {
   "cell_type": "markdown",
   "id": "0bb10e27-da57-47f3-b2f6-092a8d8f7e3b",
   "metadata": {},
   "source": [
    "### load the anndata file\n",
    "\n",
    "need to anndata file to get cell counts for decorating plot"
   ]
  },
  {
   "cell_type": "code",
   "execution_count": null,
   "id": "2c45ef81-5818-48b9-957f-4290403660f1",
   "metadata": {},
   "outputs": [],
   "source": [
    "%%time\n",
    "adata = read_h5ad(anndata_file)\n",
    "print(adata)\n",
    "if DEBUG:\n",
    "    display(adata.obs.sample(5))"
   ]
  },
  {
   "cell_type": "markdown",
   "id": "2df8ab68-0513-45ed-8ba5-1978ecbd0a76",
   "metadata": {},
   "source": [
    "### load the modality's results"
   ]
  },
  {
   "cell_type": "code",
   "execution_count": null,
   "id": "451deba6-7996-4050-8a94-f79e1a99f54d",
   "metadata": {},
   "outputs": [],
   "source": [
    "results_df = read_csv(results_file)\n",
    "print(f'shape of {modality} results {results_df.shape}')\n",
    "if DEBUG:\n",
    "    display(results_df.sample(5))"
   ]
  },
  {
   "cell_type": "code",
   "execution_count": null,
   "id": "2723a25a-0473-41b4-ba17-23e6eb758d3a",
   "metadata": {},
   "outputs": [],
   "source": [
    "print(results_df.feature.nunique())\n",
    "display(results_df.tissue.value_counts())"
   ]
  },
  {
   "cell_type": "markdown",
   "id": "3becee2e-fa48-45a1-8b1d-8529ca844152",
   "metadata": {},
   "source": [
    "### create stub dataframe to use for computing percent of features with age effect"
   ]
  },
  {
   "cell_type": "code",
   "execution_count": null,
   "id": "507ee6e5-6cde-40ba-99d9-2b8b6cd07156",
   "metadata": {},
   "outputs": [],
   "source": [
    "props_df = results_df.tissue.value_counts().to_frame()\n",
    "props_df.columns = ['aaf_cnt']\n",
    "print(f'shape of props_df is {props_df.shape}')\n",
    "if DEBUG:\n",
    "    display(props_df)"
   ]
  },
  {
   "cell_type": "markdown",
   "id": "4a671b08-f6f1-41e1-94d9-c0f8e492ddb5",
   "metadata": {},
   "source": [
    "### find the total features tested counted"
   ]
  },
  {
   "cell_type": "code",
   "execution_count": null,
   "id": "ac969e1b-08af-40a3-8ff8-66f4535247f0",
   "metadata": {},
   "outputs": [],
   "source": [
    "%%time\n",
    "props_df['feature_cnt'] = 0\n",
    "for row in props_df.itertuples():\n",
    "    data_df = load_quantification(row.Index)\n",
    "    # col count is the feature cnt + 1\n",
    "    props_df.loc[row.Index, 'feature_cnt'] = data_df.shape[1]    \n",
    "    if DEBUG:\n",
    "        print(row.Index, data_df.shape)\n",
    "print(f'new shape of props_df is {props_df.shape}')\n",
    "if DEBUG:\n",
    "    display(props_df)        "
   ]
  },
  {
   "cell_type": "markdown",
   "id": "915fc6dd-2596-47e5-8c51-42a83c58cc83",
   "metadata": {},
   "source": [
    "### compute the percent of tested features that are age associated"
   ]
  },
  {
   "cell_type": "code",
   "execution_count": null,
   "id": "9db8f2a2-e110-4f2f-a6a6-d067917ee0a7",
   "metadata": {},
   "outputs": [],
   "source": [
    "props_df['percent_aaf'] = round(props_df.aaf_cnt/props_df.feature_cnt * 100, 2)\n",
    "print(f'new shape of props_df is {props_df.shape}')\n",
    "if DEBUG:\n",
    "    display(props_df)  "
   ]
  },
  {
   "cell_type": "markdown",
   "id": "dc58409c-ace7-4cad-b964-d0fb37368aa8",
   "metadata": {},
   "source": [
    "### visualize the proportions"
   ]
  },
  {
   "cell_type": "code",
   "execution_count": null,
   "id": "c023ed87-0980-4666-8987-9823f4e0fb2a",
   "metadata": {},
   "outputs": [],
   "source": [
    "with rc_context({'figure.figsize': (15, 11), 'figure.dpi': 100}):\n",
    "    plt.style.use('seaborn-v0_8-talk')\n",
    "    barplot(data=props_df.sort_values('percent_aaf', ascending=False).reset_index(),\n",
    "            x='tissue', y='percent_aaf', color='purple')\n",
    "    plt.xticks(rotation=90)\n",
    "    plt.tight_layout()\n",
    "    plt.title(f'% of {modality} features that are age associated ')  \n",
    "    plt.xlabel('Cell types')\n",
    "    plt.ylabel('% of features')\n",
    "    plt.savefig(bar_fig_filename)  \n",
    "    plt.show()"
   ]
  },
  {
   "cell_type": "markdown",
   "id": "d13ecc4b-ecb9-44ae-9385-6b21a100efe5",
   "metadata": {},
   "source": [
    "#### annotate the cell-type's cell count"
   ]
  },
  {
   "cell_type": "code",
   "execution_count": null,
   "id": "9e33b968-e488-42a4-aac6-077da5578ddf",
   "metadata": {},
   "outputs": [],
   "source": [
    "props_df = props_df.merge(adata.obs.groupby(category).size().to_frame(), \n",
    "                          left_index=True, right_index=True)\n",
    "props_df = props_df.rename(columns={0: 'cell_count'})\n",
    "props_df['percent_of_total_cells'] = round(props_df.cell_count/adata.obs.shape[0]*100, 2) \n",
    "print(f'new shape of props_df is {props_df.shape}')\n",
    "if DEBUG:\n",
    "    display(props_df)  "
   ]
  },
  {
   "cell_type": "markdown",
   "id": "8cd7050f-789c-4da7-8428-a80a1393ec58",
   "metadata": {},
   "source": [
    "#### annotate the mean number of cells per donor for each cell-type"
   ]
  },
  {
   "cell_type": "code",
   "execution_count": null,
   "id": "f49ccf3a-f022-45da-95d0-67ddfb8c3c6b",
   "metadata": {},
   "outputs": [],
   "source": [
    "temp = adata.obs.groupby([category, 'sample_id']).size().groupby(level=0).mean().to_frame()\n",
    "temp.columns = ['mean_cell_per_donor']\n",
    "temp.mean_cell_per_donor = round(temp.mean_cell_per_donor, 0)\n",
    "props_df = props_df.merge(temp, left_index=True, right_index=True)\n",
    "print(f'new shape of props_df is {props_df.shape}')\n",
    "if DEBUG:\n",
    "    display(props_df)  "
   ]
  },
  {
   "cell_type": "code",
   "execution_count": null,
   "id": "0a804b94-15c1-4a12-b28a-5b2d89d57d6b",
   "metadata": {},
   "outputs": [],
   "source": [
    "from seaborn import scatterplot\n",
    "with rc_context({'figure.figsize': (15, 11), 'figure.dpi': 100}):\n",
    "    plt.style.use('seaborn-v0_8-talk')\n",
    "    scatterplot(data=props_df.sort_values('percent_aaf', ascending=False).reset_index(),\n",
    "                x='index', y='percent_aaf', hue='percent_of_total_cells', size='mean_cell_per_donor', palette='colorblind')\n",
    "    plt.legend(bbox_to_anchor=(1.3, 1), loc='upper right', borderaxespad=0, fontsize=8)\n",
    "    plt.xticks(rotation=90)\n",
    "    plt.tight_layout()\n",
    "    plt.title(f'% of {modality} features that are age associated ')  \n",
    "    plt.xlabel('Cell types')\n",
    "    plt.ylabel('% of features')\n",
    "    plt.savefig(fig_filename)  \n",
    "    plt.show()"
   ]
  },
  {
   "cell_type": "markdown",
   "id": "5e5b7cd4-3885-4073-9b10-c96bbed60d6e",
   "metadata": {},
   "source": [
    "### save the summary table"
   ]
  },
  {
   "cell_type": "code",
   "execution_count": null,
   "id": "5cc62279-cc59-49ab-84d0-1aec3fec9a60",
   "metadata": {},
   "outputs": [],
   "source": [
    "props_df.to_csv(out_filename)"
   ]
  },
  {
   "cell_type": "code",
   "execution_count": null,
   "id": "d47beed4-d462-4151-ba0b-5bb0b633d2ef",
   "metadata": {},
   "outputs": [],
   "source": [
    "!date"
   ]
  }
 ],
 "metadata": {
  "kernelspec": {
   "display_name": "Python 3 (ipykernel)",
   "language": "python",
   "name": "python3"
  },
  "language_info": {
   "codemirror_mode": {
    "name": "ipython",
    "version": 3
   },
   "file_extension": ".py",
   "mimetype": "text/x-python",
   "name": "python",
   "nbconvert_exporter": "python",
   "pygments_lexer": "ipython3",
   "version": "3.12.2"
  }
 },
 "nbformat": 4,
 "nbformat_minor": 5
}
