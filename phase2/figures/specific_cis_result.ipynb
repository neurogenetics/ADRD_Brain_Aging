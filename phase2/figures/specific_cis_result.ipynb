{
 "cells": [
  {
   "cell_type": "markdown",
   "id": "a353655f-fa7a-45fd-8dc4-6c6eeefcc2b3",
   "metadata": {},
   "source": [
    "## Notebook to look at a specific cis proximal GEX ~ ATAC regression result"
   ]
  },
  {
   "cell_type": "code",
   "execution_count": null,
   "id": "a9e3f677-6f1e-4a68-9f3e-1ceb19639830",
   "metadata": {},
   "outputs": [],
   "source": [
    "!date"
   ]
  },
  {
   "cell_type": "markdown",
   "id": "f857c11b-2add-4e2a-b346-b6c992f2b18b",
   "metadata": {},
   "source": [
    "#### import libraries"
   ]
  },
  {
   "cell_type": "code",
   "execution_count": null,
   "id": "fee505af-172d-458f-9044-3517741aac04",
   "metadata": {},
   "outputs": [],
   "source": [
    "from anndata import AnnData\n",
    "import numpy as np\n",
    "from pandas import (DataFrame as PandasDF, concat, read_csv, Series, read_parquet, \n",
    "                    set_option as pd_set_option)\n",
    "# import scanpy as sc\n",
    "from scanpy import read_h5ad\n",
    "from statsmodels.stats.multitest import multipletests\n",
    "import matplotlib.pyplot as plt\n",
    "from seaborn import scatterplot, lmplot, displot\n",
    "from matplotlib.pyplot import rc_context\n",
    "import json\n",
    "from os.path import exists\n",
    "from sklearn.preprocessing import MinMaxScaler\n",
    "import statsmodels.formula.api as smf\n",
    "import statsmodels.api as sm\n",
    "\n",
    "import warnings\n",
    "warnings.simplefilter('ignore')\n",
    "\n",
    "import random\n",
    "random.seed(420)\n",
    "\n",
    "%matplotlib inline\n",
    "# for white background of figures (only for docs rendering)\n",
    "%config InlineBackend.print_figure_kwargs={'facecolor' : \"w\"}\n",
    "%config InlineBackend.figure_format='retina'"
   ]
  },
  {
   "cell_type": "markdown",
   "id": "4d3931b6-e28b-4c29-9b93-bb9810b5f645",
   "metadata": {},
   "source": [
    "#### set notebook variables"
   ]
  },
  {
   "cell_type": "code",
   "execution_count": null,
   "id": "c3049651-7102-4bc4-bf5b-ffdf086be113",
   "metadata": {},
   "outputs": [],
   "source": [
    "# parameters\n",
    "endogenous = 'GEX'\n",
    "exogenous = 'ATAC'\n",
    "category = 'curated_type' # 'curated_type' for broad and 'cluster_name' for specific\n",
    "endo_feature = 'IL10RB'\n",
    "exog_feature = 'chr21:32451031-32451848'\n",
    "cell_type = 'Astro'\n",
    "regression_type = 'glm_tweedie' # 'glm', 'glm_tweedie', or 'rlm'"
   ]
  },
  {
   "cell_type": "code",
   "execution_count": null,
   "id": "b20c784c-921d-4293-810c-f9568df8e1d6",
   "metadata": {},
   "outputs": [],
   "source": [
    "# parameters\n",
    "project = 'aging_phase2'\n",
    "if category == 'curated_type':\n",
    "    prefix_type = 'broad'\n",
    "elif category == 'cluster_name':\n",
    "    prefix_type = 'specific' \n",
    "\n",
    "# directories\n",
    "wrk_dir = '/labshare/raph/datasets/adrd_neuro/brain_aging/phase2'\n",
    "quants_dir = f'{wrk_dir}/quants'\n",
    "results_dir = f'{wrk_dir}/results'\n",
    "figures_dir = f'{wrk_dir}/figures'\n",
    "\n",
    "# in files\n",
    "anndata_file = f'{quants_dir}/{project}.multivi.curated_final.h5ad'  \n",
    "in_file = f'{results_dir}/{project}.{endogenous}-{exogenous}.{prefix_type}.{cell_type}.{regression_type}.cis.csv'\n",
    "\n",
    "# out files\n",
    "\n",
    "# constants\n",
    "DEBUG = True\n",
    "pd_set_option('display.max_rows', 500)\n",
    "covariate_terms = ['sex', 'ancestry', 'pmi', 'ph', 'smoker', 'bmi', 'gex_pool', 'atac_pool']\n",
    "covar_term_formula = ' + '.join(covariate_terms)\n",
    "\n",
    "if DEBUG:\n",
    "    print(anndata_file)\n",
    "    print(in_file)\n",
    "    print(covar_term_formula)"
   ]
  },
  {
   "cell_type": "markdown",
   "id": "a70ebfbe-55e0-4aba-8ce7-d595402293d9",
   "metadata": {},
   "source": [
    "#### functions"
   ]
  },
  {
   "cell_type": "code",
   "execution_count": null,
   "id": "40029d41-1911-480f-bb1b-aed00491cda9",
   "metadata": {},
   "outputs": [],
   "source": [
    "def load_quantification(cell_name: str, modality: str, verbose: bool=False) -> PandasDF:\n",
    "    this_file = f'{quants_dir}/{project}.{modality}.{prefix_type}.{cell_name}.pb.parquet'\n",
    "    if not exists(this_file):\n",
    "        return None\n",
    "    df = read_parquet(this_file)\n",
    "    if verbose:\n",
    "        print(f'shape of read {cell_name} quantifications {df.shape}')        \n",
    "        display(df.sample(5))\n",
    "    return df\n",
    "\n",
    "def load_tissue_quants(tissue: str, endo_ids: set, exog_ids: set, \n",
    "                       verbose: bool=False) -> {PandasDF, PandasDF}: \n",
    "    endo_data = load_quantification(tissue, endogenous)\n",
    "    exog_data = load_quantification(tissue, exogenous)\n",
    "    if verbose:\n",
    "        print(f'shape of endogenous data {endo_data.shape}')\n",
    "        print(f'shape of exogenous data {exog_data.shape}')\n",
    "    # subset to only needed endo and exog features\n",
    "    endo_data = endo_data[list(set(endo_data.columns) & endo_ids) + ['cell_count']]\n",
    "    exog_data = exog_data[list(set(exog_data.columns) & exog_ids) + ['cell_count']]\n",
    "    if verbose:\n",
    "        print(f'shape of subset endogenous data {endo_data.shape}')\n",
    "        print(f'shape of subset exogenous data {exog_data.shape}')        \n",
    "        display(endo_data.sample(4))\n",
    "        display(exog_data.sample(4))\n",
    "    return endo_data, exog_data\n",
    "\n",
    "def glm_model(formula: str, df: PandasDF, model_type: str='glm'):\n",
    "    if model_type == 'glm_tweedie':\n",
    "        model = smf.glm(formula=formula, data=df, \n",
    "                        family=sm.families.Tweedie(link=sm.families.links.log(), \n",
    "                                                   var_power=1.6, \n",
    "                                                   eql=True))\n",
    "    elif model_type == 'rlm':\n",
    "        model = smf.rlm(formula=formula, data=df)        \n",
    "    elif model_type == 'glm':\n",
    "        model = smf.glm(formula=formula, data=df)        \n",
    "    result = model.fit()\n",
    "    return result\n",
    "\n",
    "def cis_correlation(df: PandasDF, endo_term: str, exog_term: str, \n",
    "                    model_type: str='glm', verbose: bool=False) -> tuple:\n",
    "    model_terms = [endo_term, exog_term] + covariate_terms + ['cell_count_endo', 'cell_count_exog']\n",
    "    this_formula = f'Q(\"{endo_term}\") ~ Q(\"{exog_term}\") + {covar_term_formula} + cell_count_endo + cell_count_exog'\n",
    "    try:\n",
    "        # run GLM via statsmodel\n",
    "        result = glm_model(this_formula, df[model_terms], model_type)\n",
    "        ret_exog_term = f'Q(\"{exog_term}\")'\n",
    "        ret_list = [endo_term, exog_term, result.params['Intercept'], \n",
    "                    result.params[ret_exog_term], result.bse[ret_exog_term], \n",
    "                    result.tvalues[ret_exog_term], result.pvalues[ret_exog_term]]\n",
    "        if verbose:\n",
    "            print(f'df shape {df.shape}')\n",
    "            print(result.summary())\n",
    "            print(['endo_feature', 'exog_feature', 'intercept', 'coef', 'stderr', 'z', 'p-value'])\n",
    "            print(ret_list)\n",
    "    except:\n",
    "#         print(f'Caught Error for {endo_term}')\n",
    "        ret_list = [endo_term, exog_term] + [np.nan] * 5\n",
    "  \n",
    "    return ret_list\n",
    "\n",
    "def merge_analysis_data(endo_data: PandasDF, exog_data: PandasDF, covars_df: PandasDF, \n",
    "                        endo_ids: set, exog_ids: set, verbose: bool=False) -> PandasDF:\n",
    "    # subset to only needed endo and exog features\n",
    "    endo_data = endo_data[list(set(endo_data.columns) & endo_ids) + ['cell_count']]\n",
    "    exog_data = exog_data[list(set(exog_data.columns) & exog_ids) + ['cell_count']]\n",
    "    tissue_data = (endo_data.merge(exog_data, how='inner', left_index=True, right_index=True, suffixes=('_endo', '_exog'))\n",
    "                   .merge(covars_df, how='inner', left_index=True, right_index=True))\n",
    "    if verbose:\n",
    "        print(f'shape of merged data is {tissue_data.shape}')        \n",
    "        display(tissue_data.sample(5))\n",
    "    return tissue_data\n",
    "\n",
    "def show_pair(tissue: str, covars_df: PandasDF, endo_id: str, exog_id: str,\n",
    "              model_type: str='glm', verbose: bool=True):\n",
    "    # this weird set from single ID is just so I can re-use same functions\n",
    "    endo_ids = set([endo_id])\n",
    "    exo_ids = set([exog_id])    \n",
    "    # load quants data\n",
    "    endo_data, exog_data = load_tissue_quants(tissue, endo_ids, exo_ids, verbose)\n",
    "    # merge data source\n",
    "    tissue_data = merge_analysis_data(endo_data, exog_data, covars_df, endo_ids, exo_ids, verbose)\n",
    "    # run the regressions\n",
    "    cis_correlation(tissue_data, endo_id, exog_id, model_type, verbose)\n",
    "    # plot the pair\n",
    "    with rc_context({'figure.figsize': (9, 9), 'figure.dpi': 50}):\n",
    "        plt.style.use('seaborn-v0_8-talk')\n",
    "        lmplot(x=exog_id, y=endo_id, data=tissue_data, palette='Purples', \n",
    "               scatter_kws={'s': tissue_data.age}, robust=True)\n",
    "        plt.title(f'{endo_id} ~ {exog_id}', fontsize='large') \n",
    "        plt.xlabel(exog_id)\n",
    "        plt.ylabel(endo_id)        \n",
    "        plt.show()\n",
    "        lmplot(x=exog_id, y=endo_id, data=tissue_data, palette='Purples', \n",
    "               scatter_kws={'s': tissue_data.age})\n",
    "        plt.show()\n",
    "        displot(tissue_data[endo_id], kind='kde')\n",
    "        plt.show()        \n",
    "        displot(tissue_data[exog_id], kind='kde')        \n",
    "        plt.show()        \n",
    "        scatterplot(x=exog_id, y=endo_id, size='cell_count_endo', data=tissue_data)\n",
    "        plt.show()\n",
    "        scatterplot(x=exog_id, y=endo_id, size='cell_count_exog', data=tissue_data)\n",
    "        plt.show()        "
   ]
  },
  {
   "cell_type": "markdown",
   "id": "559b4c9e-d9bc-474d-9627-47c000387063",
   "metadata": {},
   "source": [
    "### read the specified result"
   ]
  },
  {
   "cell_type": "code",
   "execution_count": null,
   "id": "c971f662-2875-4210-baac-1aabeee83299",
   "metadata": {},
   "outputs": [],
   "source": [
    "%%time\n",
    "if exists(in_file):\n",
    "    glm_results = read_csv(in_file)\n",
    "print(f'read {glm_results.shape} results ')\n",
    "display(glm_results.loc[(glm_results.endo_feature == endo_feature) &\n",
    "                        (glm_results.exog_feature == exog_feature)])"
   ]
  },
  {
   "cell_type": "markdown",
   "id": "81312ab9-94f7-4912-967d-82200b6c0d56",
   "metadata": {},
   "source": [
    "\n",
    "### load data\n",
    "read the anndata (h5ad) file"
   ]
  },
  {
   "cell_type": "code",
   "execution_count": null,
   "id": "8ad2a5e7-d959-44d5-a1e6-73103dde93e6",
   "metadata": {},
   "outputs": [],
   "source": [
    "%%time\n",
    "adata = read_h5ad(anndata_file)\n",
    "print(adata)\n",
    "if DEBUG:\n",
    "    display(adata.obs.sample(5))"
   ]
  },
  {
   "cell_type": "markdown",
   "id": "919e3a70-7bab-4856-bca0-c5afe798a30a",
   "metadata": {},
   "source": [
    "#### take a look at the cell counts by cell type"
   ]
  },
  {
   "cell_type": "code",
   "execution_count": null,
   "id": "aa83cf80-d928-4fab-8905-8b41cc22cb37",
   "metadata": {
    "scrolled": true
   },
   "outputs": [],
   "source": [
    "display(adata.obs[category].value_counts())"
   ]
  },
  {
   "cell_type": "markdown",
   "id": "7fc8a578-116d-435f-b185-114f2702e83f",
   "metadata": {},
   "source": [
    "### format sample covariates\n",
    "\n",
    "sex, ancestry, age, (gex_pool or atac_pool), pmi, ph, smoker, bmi"
   ]
  },
  {
   "cell_type": "code",
   "execution_count": null,
   "id": "189a06f9-82ef-4f39-a8ee-0bec7472366a",
   "metadata": {},
   "outputs": [],
   "source": [
    "keep_terms = ['sample_id','sex', 'ancestry', 'age', 'gex_pool', 'atac_pool', \n",
    "              'pmi', 'ph', 'smoker', 'bmi']\n",
    "covars_df = adata.obs[keep_terms].drop_duplicates().reset_index(drop=True)\n",
    "covars_df = covars_df.set_index('sample_id')\n",
    "\n",
    "if DEBUG:\n",
    "    print(covars_df.shape)\n",
    "    display(covars_df.head())\n",
    "    display(covars_df.info())\n",
    "    display(covars_df.smoker.value_counts())\n",
    "    display(covars_df.bmi.describe())"
   ]
  },
  {
   "cell_type": "markdown",
   "id": "d2682a31-f272-444f-9a99-2f0ff0425864",
   "metadata": {},
   "source": [
    "#### fill any missing covariate terms\n",
    "looks like smoker and bmi is missing for one sample will set it to mean of those values"
   ]
  },
  {
   "cell_type": "code",
   "execution_count": null,
   "id": "bdb1069c-ecc5-4e40-a050-41da6c1e9a62",
   "metadata": {},
   "outputs": [],
   "source": [
    "# fill the missing smoker and bmi value\n",
    "covars_df.loc[covars_df.smoker.isna(), 'smoker'] = covars_df.smoker.mean().round(1)\n",
    "covars_df.loc[covars_df.bmi.isna(), 'bmi'] = covars_df.bmi.mean().round(1)\n",
    "\n",
    "if DEBUG:\n",
    "    print(covars_df.shape)\n",
    "    display(covars_df.info())\n",
    "    display(covars_df.smoker.value_counts())\n",
    "    display(covars_df.bmi.describe())"
   ]
  },
  {
   "cell_type": "markdown",
   "id": "208618bd-bb5b-4529-a712-886a7e0bce15",
   "metadata": {},
   "source": [
    "### view results under GLM Tweedie analysis"
   ]
  },
  {
   "cell_type": "code",
   "execution_count": null,
   "id": "14f4166e-1f95-4531-9618-b1234012dc06",
   "metadata": {},
   "outputs": [],
   "source": [
    "%%time\n",
    "show_pair(cell_type, covars_df, endo_feature, exog_feature, 'glm_tweedie')"
   ]
  },
  {
   "cell_type": "markdown",
   "id": "7e8ae39d-2202-4274-83ef-f959fe9a0997",
   "metadata": {},
   "source": [
    "### view results under GLM analysis"
   ]
  },
  {
   "cell_type": "code",
   "execution_count": null,
   "id": "ccb3c620-ece0-4e13-a793-d39c379a2009",
   "metadata": {},
   "outputs": [],
   "source": [
    "%%time\n",
    "show_pair(cell_type, covars_df, endo_feature, exog_feature, 'glm')"
   ]
  },
  {
   "cell_type": "markdown",
   "id": "6a78d7a4-0c37-4bbd-b904-f814b73a437a",
   "metadata": {},
   "source": [
    "### view results under RLM analysis"
   ]
  },
  {
   "cell_type": "code",
   "execution_count": null,
   "id": "ec797999-1c44-4290-bb56-906f47c0cd6f",
   "metadata": {},
   "outputs": [],
   "source": [
    "%%time\n",
    "show_pair(cell_type, covars_df, endo_feature, exog_feature, 'rlm')"
   ]
  },
  {
   "cell_type": "code",
   "execution_count": null,
   "id": "a3002f51-8b78-45ca-8f10-d78fbd1cd370",
   "metadata": {},
   "outputs": [],
   "source": [
    "!date"
   ]
  }
 ],
 "metadata": {
  "kernelspec": {
   "display_name": "Python 3 (ipykernel)",
   "language": "python",
   "name": "python3"
  },
  "language_info": {
   "codemirror_mode": {
    "name": "ipython",
    "version": 3
   },
   "file_extension": ".py",
   "mimetype": "text/x-python",
   "name": "python",
   "nbconvert_exporter": "python",
   "pygments_lexer": "ipython3",
   "version": "3.10.13"
  }
 },
 "nbformat": 4,
 "nbformat_minor": 5
}
