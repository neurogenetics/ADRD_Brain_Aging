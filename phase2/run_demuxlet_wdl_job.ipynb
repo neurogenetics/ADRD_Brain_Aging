{
 "cells": [
  {
   "cell_type": "markdown",
   "metadata": {},
   "source": [
    "## Notebook to run demuxlet using Cumulus Demuxlet wdl\n",
    "\n",
    "here running directly via GCP Life Sciences API, should consider moving to GCP Batches API\n",
    "\n",
    "based on [Cumulus/Demulet](https://cumulus-doc.readthedocs.io/en/0.12.0/demuxlet.html), but have the use Snapshot 1\n",
    "\n",
    "[Broad wdl runner](https://github.com/broadinstitute/wdl-runner)\n",
    "\n",
    "[Statgen Popscle includes demuxlet](https://github.com/statgen/popscle)"
   ]
  },
  {
   "cell_type": "code",
   "execution_count": 1,
   "metadata": {},
   "outputs": [
    {
     "name": "stdout",
     "output_type": "stream",
     "text": [
      "Wed Aug  9 16:44:34 EDT 2023\n"
     ]
    }
   ],
   "source": [
    "!date"
   ]
  },
  {
   "cell_type": "markdown",
   "metadata": {},
   "source": [
    "#### import libraries"
   ]
  },
  {
   "cell_type": "code",
   "execution_count": 2,
   "metadata": {},
   "outputs": [],
   "source": [
    "from pandas import DataFrame, read_csv\n",
    "from os.path import exists\n",
    "import json"
   ]
  },
  {
   "cell_type": "markdown",
   "metadata": {},
   "source": [
    "#### set notebook variables"
   ]
  },
  {
   "cell_type": "code",
   "execution_count": 3,
   "metadata": {},
   "outputs": [],
   "source": [
    "# parameters\n",
    "proj_name = 'aging_phase2'\n",
    "gcp_proj_id = 'adrd-neuro'\n",
    "gcp_user = 'gibbsr'\n",
    "\n",
    "# directories\n",
    "wrk_dir = '/labshare/raph/datasets/adrd_neuro/brain_aging/phase2'\n",
    "demux_dir = f'{wrk_dir}/demux'\n",
    "public_dir = f'{wrk_dir}/public'\n",
    "info_dir = f'{wrk_dir}/sample_info'\n",
    "src_dir = f'{wrk_dir}/src_data'\n",
    "analysis_bucket = 'gs://nihnialng-aging-brain/phase2/demux'\n",
    "src_10x_bucket = 'gs://nihnialng-aging-brain/phase2/src_data'\n",
    "genos_bucket = 'gs://nihnialng-aging-brain/phase2/genotypes'\n",
    "\n",
    "# input files\n",
    "demuxlet_wdl = 'gs://nihnialng-aging-pooled-pilot/analysis/demuxlet_test/demuxlet.1.wdl'\n",
    "lcl_demuxlet_wdl = f'{public_dir}/demuxlet.1.wdl'\n",
    "genos_vcf_file = f'{genos_bucket}/{proj_name}.hg38.demuxlet.vcf.gz'\n",
    "info_file = f'{info_dir}/{proj_name}.sample_info.csv'\n",
    "\n",
    "# out file\n",
    "wdl_sample_sheet = f'{demux_dir}/{proj_name}.demuxlet.sheet.tsv'\n",
    "\n",
    "# variables\n",
    "DEBUG = False\n",
    "lane_range = range(1, 9)"
   ]
  },
  {
   "cell_type": "markdown",
   "metadata": {},
   "source": [
    "### load the sample info data"
   ]
  },
  {
   "cell_type": "code",
   "execution_count": 4,
   "metadata": {
    "tags": []
   },
   "outputs": [
    {
     "name": "stdout",
     "output_type": "stream",
     "text": [
      "shape of info (36, 13)\n"
     ]
    }
   ],
   "source": [
    "info_df = read_csv(info_file)\n",
    "print(f'shape of info {info_df.shape}')\n",
    "if DEBUG:\n",
    "    display(info_df.head())\n",
    "    display(info_df.gex_pool.value_counts())\n",
    "    display(info_df.atac_pool.value_counts())    "
   ]
  },
  {
   "cell_type": "markdown",
   "metadata": {},
   "source": [
    "#### drop the non-pooled samples and make sure pool nums are ints"
   ]
  },
  {
   "cell_type": "code",
   "execution_count": 5,
   "metadata": {
    "tags": []
   },
   "outputs": [
    {
     "name": "stdout",
     "output_type": "stream",
     "text": [
      "shape of info (33, 13)\n"
     ]
    }
   ],
   "source": [
    "info_df = info_df.loc[(~info_df.gex_pool.isna()) & (~info_df.atac_pool.isna())]\n",
    "print(f'shape of info {info_df.shape}')\n",
    "# make sure pool nums are ints and not floats\n",
    "info_df.gex_pool = info_df.gex_pool.astype('int')\n",
    "info_df.atac_pool = info_df.atac_pool.astype('int')\n",
    "if DEBUG:\n",
    "    display(info_df.head())\n",
    "    display(info_df.gex_pool.value_counts())\n",
    "    display(info_df.atac_pool.value_counts())    "
   ]
  },
  {
   "cell_type": "markdown",
   "metadata": {},
   "source": [
    "### the snapshot 1 demuxlet wdl will do a scatter based on input sample sheet, so format that"
   ]
  },
  {
   "cell_type": "code",
   "execution_count": 6,
   "metadata": {},
   "outputs": [],
   "source": [
    "def run_bash_command(cmd_line: str, verbose: bool=False):\n",
    "    if verbose:\n",
    "        print(cmd_line)\n",
    "    !{cmd_line}\n",
    "\n",
    "def frmt_tenx_file_name(sample_name: str, src_10x_bucket: str, modality: str='gex', file_type: str='bam'):\n",
    "    if modality == 'gex':\n",
    "        if file_type == 'bam':\n",
    "            this_file = f'{src_10x_bucket}/{modality}/{sample_name}/outs/possorted_genome_bam.bam'\n",
    "        else: # assume barcodes\n",
    "            this_file = f'{src_10x_bucket}/{modality}/{sample_name}/outs/filtered_feature_bc_matrix/barcodes.tsv.gz'\n",
    "    elif modality == 'atac':\n",
    "        if file_type == 'bam':\n",
    "            this_file = f'{src_10x_bucket}/{modality}/{sample_name}/outs/possorted_bam.bam'\n",
    "        else: # assume barcodes\n",
    "            this_file = f'{src_10x_bucket}/{modality}/{sample_name}/outs/filtered_peak_bc_matrix/barcodes.tsv'\n",
    "    else:\n",
    "        raise ValueError('Invalid value, modality must be gex or atac')\n",
    "    return this_file"
   ]
  },
  {
   "cell_type": "code",
   "execution_count": 7,
   "metadata": {
    "tags": []
   },
   "outputs": [
    {
     "name": "stdout",
     "output_type": "stream",
     "text": [
      "shape of demux sample sheet (41, 4)\n"
     ]
    }
   ],
   "source": [
    "pool_names = []\n",
    "bams = []\n",
    "barcodes = []\n",
    "for pool in info_df.gex_pool.unique():\n",
    "    for lane in lane_range:\n",
    "        atac_sample = f'{src_dir}/atac/sample_ec_ATAC_P{pool}_{lane}'\n",
    "        if exists(atac_sample):\n",
    "            pool_names.append(f'SCAT_P{pool}_{lane}')\n",
    "            bams.append(frmt_tenx_file_name(f'sample_ec_ATAC_P{pool}_{lane}', \n",
    "                                            src_10x_bucket, 'atac', 'bam'))\n",
    "            barcodes.append(frmt_tenx_file_name(f'sample_ec_ATAC_P{pool}_{lane}', \n",
    "                                            src_10x_bucket, 'atac', 'barcodes'))            \n",
    "        gex_sample = f'{src_dir}/gex/sample_ec_GEX_P{pool}_{lane}'\n",
    "        if exists(gex_sample):\n",
    "            pool_names.append(f'SCRN_P{pool}_{lane}')\n",
    "            bams.append(frmt_tenx_file_name(f'sample_ec_GEX_P{pool}_{lane}', \n",
    "                                            src_10x_bucket, 'gex', 'bam'))\n",
    "            barcodes.append(frmt_tenx_file_name(f'sample_ec_GEX_P{pool}_{lane}', \n",
    "                                            src_10x_bucket, 'gex', 'barcodes'))\n",
    "this_data = {'sample': pool_names, 'bams': bams, 'barcodes': barcodes}\n",
    "samples_df = DataFrame(data=this_data)\n",
    "samples_df['vcf'] = genos_vcf_file\n",
    "print(f'shape of demux sample sheet {samples_df.shape}')\n",
    "if DEBUG:\n",
    "    display(samples_df.head())            "
   ]
  },
  {
   "cell_type": "markdown",
   "metadata": {},
   "source": [
    "#### save the sample sheet and push to GCS"
   ]
  },
  {
   "cell_type": "code",
   "execution_count": 8,
   "metadata": {},
   "outputs": [],
   "source": [
    "samples_df.to_csv(wdl_sample_sheet, index=False, header=False, sep='\\t')"
   ]
  },
  {
   "cell_type": "code",
   "execution_count": 9,
   "metadata": {},
   "outputs": [],
   "source": [
    "this_cmd = f'gsutil -mq cp {wdl_sample_sheet} {analysis_bucket}/'\n",
    "run_bash_command(this_cmd, DEBUG)"
   ]
  },
  {
   "cell_type": "markdown",
   "metadata": {},
   "source": [
    "### setup tooling for submitting GCP life-sci job"
   ]
  },
  {
   "cell_type": "markdown",
   "metadata": {},
   "source": [
    "#### pull down the broad tooling"
   ]
  },
  {
   "cell_type": "code",
   "execution_count": 10,
   "metadata": {},
   "outputs": [
    {
     "name": "stdout",
     "output_type": "stream",
     "text": [
      "Cloning into '/labshare/raph/datasets/adrd_neuro/brain_aging/phase2/public/wdl-runner'...\n",
      "remote: Enumerating objects: 153, done.\u001b[K\n",
      "remote: Counting objects: 100% (57/57), done.\u001b[K\n",
      "remote: Compressing objects: 100% (11/11), done.\u001b[K\n",
      "remote: Total 153 (delta 48), reused 46 (delta 46), pack-reused 96\u001b[K\n",
      "Receiving objects: 100% (153/153), 45.69 KiB | 5.71 MiB/s, done.\n",
      "Resolving deltas: 100% (83/83), done.\n"
     ]
    }
   ],
   "source": [
    "#pull down the correct recent Broad tooling\n",
    "this_cmd = f'git clone https://github.com/broadinstitute/wdl-runner.git \\\n",
    "{public_dir}/wdl-runner'\n",
    "run_bash_command(this_cmd, DEBUG)"
   ]
  },
  {
   "cell_type": "code",
   "execution_count": 11,
   "metadata": {},
   "outputs": [],
   "source": [
    "# pull the wdl\n",
    "this_cmd = f'gsutil -mq cp {demuxlet_wdl} {lcl_demuxlet_wdl}'\n",
    "run_bash_command(this_cmd, DEBUG)"
   ]
  },
  {
   "cell_type": "markdown",
   "metadata": {},
   "source": [
    "### format argument jsons"
   ]
  },
  {
   "cell_type": "code",
   "execution_count": 12,
   "metadata": {},
   "outputs": [],
   "source": [
    "# format demuxlet json\n",
    "json_demux_outfile_name = f'{demux_dir}/{proj_name}.demuxlet.json'\n",
    "demux_data = {}\n",
    "demux_data['demuxlet.tsv_file'] = f'{analysis_bucket}/{proj_name}.demuxlet.sheet.tsv'\n",
    "with open(json_demux_outfile_name, 'w') as json_outfile:\n",
    "    json.dump(demux_data, json_outfile, sort_keys=False, indent=4)\n",
    "    \n",
    "# format the generic options json    \n",
    "options_outfile_name = f'{demux_dir}/generic.options.json'\n",
    "options_data = {}\n",
    "zones_dict = {'zones': 'us-central1-a us-central1-b us-central1-c us-central1-f'}\n",
    "options_data['default_runtime_attributes'] = zones_dict\n",
    "options_data['read_from_cache'] = True\n",
    "options_data['write_to_cache'] = True\n",
    "options_data['workflow_failure_mode'] = 'ContinueWhilePossible'\n",
    "options_data['system.input-read-limits.lines'] = 640000  \n",
    "with open(options_outfile_name, 'w') as json_outfile:\n",
    "    json.dump(options_data, json_outfile, sort_keys=False, indent=4)"
   ]
  },
  {
   "cell_type": "markdown",
   "metadata": {},
   "source": [
    "### run the wdl on GCP using life sciences"
   ]
  },
  {
   "cell_type": "code",
   "execution_count": 15,
   "metadata": {},
   "outputs": [],
   "source": [
    "# function to format the gcp life-sciences wdl job\n",
    "def frmt_glsp_wdl_cmd(proj_name, bucket, proj_id, work_dir,\n",
    "                      tool_dir, my_user, demuxlet_wdl):\n",
    "    this_cmd = f'gcloud beta lifesciences pipelines run \\\n",
    "--project {proj_id} \\\n",
    "--pipeline-file {public_dir}/wdl-runner/wdl_runner/wdl_pipeline.yaml \\\n",
    "--location us-central1 \\\n",
    "--regions us-central1 \\\n",
    "--logging {bucket}/logs/wdls/{proj_name} \\\n",
    "--inputs-from-file WDL={demuxlet_wdl},\\\n",
    "WORKFLOW_INPUTS={work_dir}/{proj_name}.demuxlet.json,\\\n",
    "WORKFLOW_OPTIONS={work_dir}/generic.options.json \\\n",
    "--env-vars WORKSPACE={bucket}/workspace,\\\n",
    "OUTPUTS={bucket}/demuxlet_temp_results \\\n",
    "--labels=cohort={proj_name},user={my_user},workflow=demuxlet'\n",
    "    return this_cmd"
   ]
  },
  {
   "cell_type": "code",
   "execution_count": 16,
   "metadata": {},
   "outputs": [
    {
     "name": "stdout",
     "output_type": "stream",
     "text": [
      "gcloud beta lifesciences pipelines run --project adrd-neuro --pipeline-file /labshare/raph/datasets/adrd_neuro/brain_aging/phase2/public/wdl-runner/wdl_runner/wdl_pipeline.yaml --location us-central1 --regions us-central1 --logging gs://nihnialng-aging-brain/phase2/demux/logs/wdls/aging_phase2 --inputs-from-file WDL=/labshare/raph/datasets/adrd_neuro/brain_aging/phase2/public/demuxlet.1.wdl,WORKFLOW_INPUTS=/labshare/raph/datasets/adrd_neuro/brain_aging/phase2/demux/aging_phase2.demuxlet.json,WORKFLOW_OPTIONS=/labshare/raph/datasets/adrd_neuro/brain_aging/phase2/demux/generic.options.json --env-vars WORKSPACE=gs://nihnialng-aging-brain/phase2/demux/workspace,OUTPUTS=gs://nihnialng-aging-brain/phase2/demux/demuxlet_temp_results --labels=cohort=aging_phase2,user=gibbsr,workflow=demuxlet\n",
      "['Running [projects/740413734628/locations/us-central1/operations/9591435616534778205].']\n"
     ]
    }
   ],
   "source": [
    "\n",
    "# create command\n",
    "gcp_cmd = frmt_glsp_wdl_cmd(proj_name, analysis_bucket, gcp_proj_id,\n",
    "                            demux_dir, public_dir, gcp_user, lcl_demuxlet_wdl)\n",
    "\n",
    "# run command\n",
    "print(gcp_cmd)\n",
    "op_id = !{gcp_cmd}\n",
    "print(op_id)"
   ]
  },
  {
   "cell_type": "code",
   "execution_count": 17,
   "metadata": {},
   "outputs": [
    {
     "name": "stdout",
     "output_type": "stream",
     "text": [
      "to check job, with polling, run this at cmd line:\n",
      "/labshare/raph/datasets/adrd_neuro/brain_aging/phase2/public/wdl-runner/monitoring_tools/monitor_wdl_pipeline.sh projects/740413734628/locations/us-central1/operations/9591435616534778205 us-central1\n"
     ]
    }
   ],
   "source": [
    "op_id = 'projects/740413734628/locations/us-central1/operations/9591435616534778205'\n",
    "\n",
    "# !gcloud beta lifesciences operations describe {op_id} \\\n",
    "# --location=us-central1 \\\n",
    "# --format='yaml(done, error, metadata.events)'\n",
    "\n",
    "print('to check job, with polling, run this at cmd line:')\n",
    "this_cmd = f'{public_dir}/wdl-runner/monitoring_tools/monitor_wdl_pipeline.sh {op_id} us-central1'\n",
    "print(this_cmd)"
   ]
  },
  {
   "cell_type": "markdown",
   "metadata": {},
   "source": [
    "#### if succeeded the move result from temp out to final output"
   ]
  },
  {
   "cell_type": "code",
   "execution_count": 18,
   "metadata": {},
   "outputs": [],
   "source": [
    "this_cmd = f'gsutil -mq mv {analysis_bucket}/demuxlet_temp_results/* {analysis_bucket}/'\n",
    "run_bash_command(this_cmd, DEBUG)"
   ]
  },
  {
   "cell_type": "markdown",
   "metadata": {},
   "source": [
    "#### verify expected files counts"
   ]
  },
  {
   "cell_type": "code",
   "execution_count": 22,
   "metadata": {
    "tags": []
   },
   "outputs": [
    {
     "name": "stdout",
     "output_type": "stream",
     "text": [
      "SCAT pool counts expected and found:\n",
      "20\n",
      "20\n",
      "SCRN pool counts expected and found:\n",
      "21\n",
      "21\n"
     ]
    }
   ],
   "source": [
    "print('SCAT pool counts expected and found:')\n",
    "this_cmd = f'gsutil cat {analysis_bucket}/{proj_name}.demuxlet.sheet.tsv | grep SCAT_P | wc -l'\n",
    "run_bash_command(this_cmd, DEBUG)\n",
    "this_cmd = f'gsutil ls {analysis_bucket}/SCAT_P*.best | wc -l'\n",
    "run_bash_command(this_cmd, DEBUG)\n",
    "print('SCRN pool counts expected and found:')\n",
    "this_cmd = f'gsutil cat {analysis_bucket}/{proj_name}.demuxlet.sheet.tsv | grep SCRN_P | wc -l'\n",
    "run_bash_command(this_cmd, DEBUG)\n",
    "this_cmd = f'gsutil ls {analysis_bucket}/SCRN_P*.best | wc -l'\n",
    "run_bash_command(this_cmd, DEBUG)"
   ]
  },
  {
   "cell_type": "markdown",
   "metadata": {},
   "source": [
    "#### now clean up the temp cromwell workspace"
   ]
  },
  {
   "cell_type": "code",
   "execution_count": 19,
   "metadata": {},
   "outputs": [],
   "source": [
    "this_cmd = f'gsutil -mq rm -r {analysis_bucket}/workspace'\n",
    "run_bash_command(this_cmd, DEBUG)\n",
    "this_cmd = f'gsutil -mq rm -r {analysis_bucket}/logs'\n",
    "run_bash_command(this_cmd, DEBUG)"
   ]
  },
  {
   "cell_type": "code",
   "execution_count": 20,
   "metadata": {},
   "outputs": [
    {
     "name": "stdout",
     "output_type": "stream",
     "text": [
      "Thu Aug 10 09:56:58 EDT 2023\n"
     ]
    }
   ],
   "source": [
    "!date"
   ]
  }
 ],
 "metadata": {
  "environment": {
   "name": "common-cpu.m65",
   "type": "gcloud",
   "uri": "gcr.io/deeplearning-platform-release/base-cpu:m65"
  },
  "kernelspec": {
   "display_name": "Python 3 (ipykernel)",
   "language": "python",
   "name": "python3"
  },
  "language_info": {
   "codemirror_mode": {
    "name": "ipython",
    "version": 3
   },
   "file_extension": ".py",
   "mimetype": "text/x-python",
   "name": "python",
   "nbconvert_exporter": "python",
   "pygments_lexer": "ipython3",
   "version": "3.9.17"
  }
 },
 "nbformat": 4,
 "nbformat_minor": 4
}
