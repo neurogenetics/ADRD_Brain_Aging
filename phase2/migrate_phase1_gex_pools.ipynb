{
 "cells": [
  {
   "cell_type": "markdown",
   "id": "3e48cbe6-04d5-4274-9a58-ab22e311b94f",
   "metadata": {},
   "source": [
    "## Note book to migrate phase1 GEX pools that contained Entorhinal cortex samples to phase2\n",
    "- using the demultiplexed raw anndata files\n",
    "- pool format renaming to be consistent with phase 2 data"
   ]
  },
  {
   "cell_type": "code",
   "execution_count": 1,
   "id": "0f4df718-4552-4784-8f03-c844b92dc3ff",
   "metadata": {
    "tags": []
   },
   "outputs": [
    {
     "name": "stdout",
     "output_type": "stream",
     "text": [
      "Tue Aug 15 17:08:18 EDT 2023\n"
     ]
    }
   ],
   "source": [
    "!date"
   ]
  },
  {
   "cell_type": "markdown",
   "id": "299c6c82-d456-4ff1-9040-b0b1fd03f716",
   "metadata": {},
   "source": [
    "#### import libraries"
   ]
  },
  {
   "cell_type": "code",
   "execution_count": 2,
   "id": "54f45084-a192-4cfa-9118-962e61895f9e",
   "metadata": {
    "tags": []
   },
   "outputs": [],
   "source": [
    "from pandas import read_csv, DataFrame\n",
    "from os.path import exists\n",
    "from scanpy import read_h5ad\n",
    "from anndata import AnnData"
   ]
  },
  {
   "cell_type": "markdown",
   "id": "4c822fe4-aa71-4288-a06f-8e2a7e2f63be",
   "metadata": {},
   "source": [
    "#### set notebook variables"
   ]
  },
  {
   "cell_type": "code",
   "execution_count": 3,
   "id": "69cd257a-1d34-492e-8e1a-4c997abcb1f3",
   "metadata": {
    "tags": []
   },
   "outputs": [],
   "source": [
    "# naming\n",
    "project = 'aging_phase2'\n",
    "\n",
    "# directories\n",
    "phase1_demux_path = '/labshare/raph/datasets/adrd_neuro/brain_aging/phase1/demux'\n",
    "wrk_dir = '/labshare/raph/datasets/adrd_neuro/brain_aging/phase2'\n",
    "info_dir = f'{wrk_dir}/sample_info'\n",
    "demux_dir = f'{wrk_dir}/demux'\n",
    "\n",
    "# in files\n",
    "info_file = f'{info_dir}/{project}.sample_info.csv'\n",
    "\n",
    "# variables\n",
    "DEBUG = False\n",
    "pools = [4, 5]\n",
    "lanes = range(1, 9)"
   ]
  },
  {
   "cell_type": "markdown",
   "id": "585101e3-c7e5-46a7-8f00-f40616fc0741",
   "metadata": {},
   "source": [
    "#### functions"
   ]
  },
  {
   "cell_type": "code",
   "execution_count": 4,
   "id": "35faa666-c900-4e6c-ab53-09323e52372e",
   "metadata": {
    "tags": []
   },
   "outputs": [],
   "source": [
    "def make_new_obs(data: AnnData, info: DataFrame, verbose: bool=False) -> AnnData:\n",
    "    # make sure to subset to only 'Brain_region' == 'Entorhinal cortex'\n",
    "    data = data[data.obs.Brain_region == 'Entorhinal cortex']\n",
    "    # adjust and subset keep columns\n",
    "    data.obs = data.obs.rename(columns={'Sample_id': 'sample_id'})\n",
    "    data.obs = data.obs[['sample_id']]\n",
    "    # update the anndata obs with sample info\n",
    "    new_obs = data.obs.copy()\n",
    "    new_obs['barcodes'] = new_obs.index\n",
    "    new_obs = new_obs.merge(info, how='left', left_on='sample_id', right_on='sample_id')\n",
    "    new_obs = new_obs.set_index('barcodes', drop=True)\n",
    "    new_obs['donor_id'] = new_obs.hbcc_id\n",
    "    new_obs = new_obs.drop(columns=['hbcc_id'])\n",
    "    if not new_obs.index.equals(data.obs.index):\n",
    "        print('re-indexing ...')\n",
    "        new_obs = new_obs.reindex(data.obs.index)\n",
    "    # now replace the original obs\n",
    "    data.obs = new_obs     \n",
    "    if verbose:\n",
    "        print(new_obs.index.equals(data.obs.index))\n",
    "        print(f'shape of temp obs {new_obs.shape}')\n",
    "    return data"
   ]
  },
  {
   "cell_type": "markdown",
   "id": "87b110ff-ef71-49fc-bcc5-4982f0909190",
   "metadata": {},
   "source": [
    "### load the sample info data"
   ]
  },
  {
   "cell_type": "code",
   "execution_count": 5,
   "id": "1be99b70-0917-4d16-8c6b-2b53ff2f38c6",
   "metadata": {
    "tags": []
   },
   "outputs": [
    {
     "name": "stdout",
     "output_type": "stream",
     "text": [
      "shape of info (36, 13)\n"
     ]
    }
   ],
   "source": [
    "info_df = read_csv(info_file)\n",
    "print(f'shape of info {info_df.shape}')\n",
    "if DEBUG:\n",
    "    display(info_df.head())"
   ]
  },
  {
   "cell_type": "code",
   "execution_count": 6,
   "id": "8a81acd8-f073-4c09-bc51-a4fd218f85e0",
   "metadata": {
    "tags": []
   },
   "outputs": [
    {
     "name": "stdout",
     "output_type": "stream",
     "text": [
      "Aging_P004_SCRN_1\n",
      "Aging_P004_SCRN_2\n",
      "Aging_P004_SCRN_3\n",
      "Aging_P004_SCRN_4\n",
      "Aging_P004_SCRN_5\n",
      "Aging_P004_SCRN_6\n",
      "Aging_P004_SCRN_7\n",
      "Aging_P004_SCRN_8\n",
      "Aging_P005_SCRN_1\n",
      "Aging_P005_SCRN_2\n",
      "Aging_P005_SCRN_3\n",
      "Aging_P005_SCRN_4\n",
      "Aging_P005_SCRN_5\n",
      "Aging_P005_SCRN_6\n",
      "Aging_P005_SCRN_7\n",
      "Aging_P005_SCRN_8\n"
     ]
    }
   ],
   "source": [
    "for pool in pools:\n",
    "    for lane in lanes:\n",
    "        pool_name = f'Aging_P00{pool}_SCRN_{lane}'\n",
    "        pool_path = f'{phase1_demux_path}/{pool_name}.h5ad'\n",
    "        if exists(pool_path):\n",
    "            print(pool_name)\n",
    "            adata = read_h5ad(pool_path)\n",
    "            if DEBUG:\n",
    "                print(adata)                \n",
    "                print(f'shape of adata obs {adata.obs.shape}')                \n",
    "                display(adata.obs.head())            \n",
    "            adata = make_new_obs(adata, info_df)\n",
    "            # save modifid anndata\n",
    "            out_path = f'{demux_dir}/GEX_P{pool}_{lane}.h5ad'\n",
    "            adata.write(out_path)\n",
    "            if DEBUG:\n",
    "                print(adata)                \n",
    "                print(f'shape of modified adata obs {adata.obs.shape}')                \n",
    "                display(adata.obs.head())                "
   ]
  },
  {
   "cell_type": "code",
   "execution_count": 7,
   "id": "4e514267-3f23-4959-8c58-c7b4d9fbe8b0",
   "metadata": {},
   "outputs": [
    {
     "name": "stdout",
     "output_type": "stream",
     "text": [
      "Tue Aug 15 17:08:27 EDT 2023\n"
     ]
    }
   ],
   "source": [
    "!date"
   ]
  }
 ],
 "metadata": {
  "kernelspec": {
   "display_name": "Python 3 (ipykernel)",
   "language": "python",
   "name": "python3"
  },
  "language_info": {
   "codemirror_mode": {
    "name": "ipython",
    "version": 3
   },
   "file_extension": ".py",
   "mimetype": "text/x-python",
   "name": "python",
   "nbconvert_exporter": "python",
   "pygments_lexer": "ipython3",
   "version": "3.11.4"
  }
 },
 "nbformat": 4,
 "nbformat_minor": 5
}
