{
 "cells": [
  {
   "cell_type": "markdown",
   "id": "ae9a5e58",
   "metadata": {},
   "source": [
    "Notebook to run the glmm analysis per brain region and cell-type with papermill\n",
    "originally coded to run in parallel out of a single notebook, but always have a probably passing a anndata object to ray or concurrent futures\n",
    "\n",
    "so here running via papermill where notebook for each is run in parallel using threading library, have also previouls tried with ray and concurrent futures, all blow up papermill managing notebook blows up but individual notebooks keep running in parallel thru sucessful completion"
   ]
  },
  {
   "cell_type": "code",
   "execution_count": 1,
   "id": "ac19e9ff",
   "metadata": {},
   "outputs": [],
   "source": [
    "!date"
   ]
  },
  {
   "cell_type": "markdown",
   "id": "7ee87b18",
   "metadata": {},
   "source": [
    "#### import libraries and set notebook variables"
   ]
  },
  {
   "cell_type": "code",
   "execution_count": 2,
   "id": "48013599",
   "metadata": {},
   "outputs": [
    {
     "name": "stderr",
     "output_type": "stream",
     "text": [
      "/home/gibbsr/anaconda3/lib/python3.8/site-packages/papermill/iorw.py:50: FutureWarning: pyarrow.HadoopFileSystem is deprecated as of 2.0.0, please use pyarrow.fs.HadoopFileSystem instead.\n",
      "  from pyarrow import HadoopFileSystem\n"
     ]
    }
   ],
   "source": [
    "import os\n",
    "import papermill as pm\n",
    "import threading\n",
    "\n",
    "import warnings\n",
    "warnings.simplefilter('ignore')"
   ]
  },
  {
   "cell_type": "code",
   "execution_count": 3,
   "id": "56788f86",
   "metadata": {},
   "outputs": [],
   "source": [
    "# naming\n",
    "cohort = 'aging'\n",
    "\n",
    "# directories\n",
    "home_dir = f'/labshare/raph/notebooks/expression/adrd_neuro/{cohort}'\n",
    "\n",
    "# base notebook to be run per tuple iteration\n",
    "base_notebook = f'{home_dir}/glmm_diffexp.ipynb'\n",
    "\n",
    "# output path for the generated notebooks\n",
    "out_nb_dir = f'{home_dir}/pm_gend_nbs'\n",
    "\n",
    "# setup parameters to iterate\n",
    "brain_regions = ['Entorhinal cortex', 'Putamen', 'Subventricular zone', \n",
    "                 'Middle temporal gyrus']\n",
    "cell_types = ['Oligodendrocyte-1', 'SPN D1', 'SPN D2', 'Oligodendrocyte-2', \n",
    "              'Astrocyte', 'ExN CUX2 LAMP5', 'InN ADARB2 VIP', 'ExN FEZF2', \n",
    "              'OPC', 'ExN RORB THEMIS', 'InN LHX6 PVALB', 'Radial Glia', \n",
    "              'Microglia', 'InN ADARB2 LAMP5', 'ExN CUX2 ADARB2', \n",
    "              'InN LHX6 SST', 'SPN D1-2', 'Endothelial', 'ExN RORB', \n",
    "              'ExN LAMP5', 'SPN D2-2', 'ExN THEMIS']\n",
    "groupings = {'Brain_region': brain_regions, 'new_anno': cell_types}\n",
    "\n",
    "testing = False"
   ]
  },
  {
   "cell_type": "markdown",
   "id": "1de2aa80",
   "metadata": {},
   "source": [
    "#### utility functions"
   ]
  },
  {
   "cell_type": "code",
   "execution_count": 4,
   "id": "64954450",
   "metadata": {},
   "outputs": [],
   "source": [
    "def run_pm_notebook(base_notebook: str, out_notebook: str, params: dict) -> str:\n",
    "    ret_val = f'notebook: {out_notebook}\\nparams: {params}'\n",
    "    pm.execute_notebook(input_path=base_notebook, output_path=out_notebook, \n",
    "                        parameters=params, progress_bar=False)\n",
    "    return ret_val"
   ]
  },
  {
   "cell_type": "markdown",
   "id": "da32a96b",
   "metadata": {},
   "source": [
    "#### check the notebook template"
   ]
  },
  {
   "cell_type": "code",
   "execution_count": 5,
   "id": "399079ee",
   "metadata": {},
   "outputs": [
    {
     "data": {
      "text/plain": [
       "{'tissue': {'name': 'tissue',\n",
       "  'inferred_type_name': 'None',\n",
       "  'default': \"''\",\n",
       "  'help': ''},\n",
       " 'tissue_type': {'name': 'tissue_type',\n",
       "  'inferred_type_name': 'None',\n",
       "  'default': \"''\",\n",
       "  'help': ''},\n",
       " 'testing': {'name': 'testing',\n",
       "  'inferred_type_name': 'None',\n",
       "  'default': 'False',\n",
       "  'help': ''}}"
      ]
     },
     "execution_count": 5,
     "metadata": {},
     "output_type": "execute_result"
    }
   ],
   "source": [
    "pm.inspect_notebook(base_notebook)"
   ]
  },
  {
   "cell_type": "markdown",
   "id": "4f87f32c",
   "metadata": {},
   "source": [
    "#### iterate over the list running the notebook per sample pool"
   ]
  },
  {
   "cell_type": "code",
   "execution_count": null,
   "id": "dd7b1ecb",
   "metadata": {},
   "outputs": [
    {
     "name": "stdout",
     "output_type": "stream",
     "text": [
      "notebook: /labshare/raph/notebooks/expression/adrd_neuro/aging/pm_gend_nbs/Entorhinal_cortex.glmm_diffexp.ipynb\n",
      "params: {'tissue': 'Entorhinal cortex', 'tissue_type': 'Brain_region', 'testing': False}\n",
      "notebook: /labshare/raph/notebooks/expression/adrd_neuro/aging/pm_gend_nbs/Putamen.glmm_diffexp.ipynb\n",
      "params: {'tissue': 'Putamen', 'tissue_type': 'Brain_region', 'testing': False}\n",
      "notebook: /labshare/raph/notebooks/expression/adrd_neuro/aging/pm_gend_nbs/Subventricular_zone.glmm_diffexp.ipynb\n",
      "params: {'tissue': 'Subventricular zone', 'tissue_type': 'Brain_region', 'testing': False}\n",
      "notebook: /labshare/raph/notebooks/expression/adrd_neuro/aging/pm_gend_nbs/Middle_temporal_gyrus.glmm_diffexp.ipynb\n",
      "params: {'tissue': 'Middle temporal gyrus', 'tissue_type': 'Brain_region', 'testing': False}\n",
      "notebook: /labshare/raph/notebooks/expression/adrd_neuro/aging/pm_gend_nbs/Oligodendrocyte-1.glmm_diffexp.ipynb\n",
      "params: {'tissue': 'Oligodendrocyte-1', 'tissue_type': 'new_anno', 'testing': False}\n",
      "notebook: /labshare/raph/notebooks/expression/adrd_neuro/aging/pm_gend_nbs/SPN_D1.glmm_diffexp.ipynb\n",
      "params: {'tissue': 'SPN D1', 'tissue_type': 'new_anno', 'testing': False}\n",
      "notebook: /labshare/raph/notebooks/expression/adrd_neuro/aging/pm_gend_nbs/SPN_D2.glmm_diffexp.ipynb\n",
      "params: {'tissue': 'SPN D2', 'tissue_type': 'new_anno', 'testing': False}\n",
      "notebook: /labshare/raph/notebooks/expression/adrd_neuro/aging/pm_gend_nbs/Oligodendrocyte-2.glmm_diffexp.ipynb\n",
      "params: {'tissue': 'Oligodendrocyte-2', 'tissue_type': 'new_anno', 'testing': False}\n",
      "notebook: /labshare/raph/notebooks/expression/adrd_neuro/aging/pm_gend_nbs/Astrocyte.glmm_diffexp.ipynb\n",
      "params: {'tissue': 'Astrocyte', 'tissue_type': 'new_anno', 'testing': False}\n",
      "notebook: /labshare/raph/notebooks/expression/adrd_neuro/aging/pm_gend_nbs/ExN_CUX2_LAMP5.glmm_diffexp.ipynb\n",
      "params: {'tissue': 'ExN CUX2 LAMP5', 'tissue_type': 'new_anno', 'testing': False}\n",
      "notebook: /labshare/raph/notebooks/expression/adrd_neuro/aging/pm_gend_nbs/InN_ADARB2_VIP.glmm_diffexp.ipynb\n",
      "params: {'tissue': 'InN ADARB2 VIP', 'tissue_type': 'new_anno', 'testing': False}\n",
      "notebook: /labshare/raph/notebooks/expression/adrd_neuro/aging/pm_gend_nbs/ExN_FEZF2.glmm_diffexp.ipynb\n",
      "params: {'tissue': 'ExN FEZF2', 'tissue_type': 'new_anno', 'testing': False}\n",
      "notebook: /labshare/raph/notebooks/expression/adrd_neuro/aging/pm_gend_nbs/OPC.glmm_diffexp.ipynb\n",
      "params: {'tissue': 'OPC', 'tissue_type': 'new_anno', 'testing': False}\n",
      "notebook: /labshare/raph/notebooks/expression/adrd_neuro/aging/pm_gend_nbs/ExN_RORB_THEMIS.glmm_diffexp.ipynb\n",
      "params: {'tissue': 'ExN RORB THEMIS', 'tissue_type': 'new_anno', 'testing': False}\n",
      "notebook: /labshare/raph/notebooks/expression/adrd_neuro/aging/pm_gend_nbs/InN_LHX6_PVALB.glmm_diffexp.ipynb\n",
      "params: {'tissue': 'InN LHX6 PVALB', 'tissue_type': 'new_anno', 'testing': False}\n",
      "notebook: /labshare/raph/notebooks/expression/adrd_neuro/aging/pm_gend_nbs/Radial_Glia.glmm_diffexp.ipynb\n",
      "params: {'tissue': 'Radial Glia', 'tissue_type': 'new_anno', 'testing': False}\n",
      "notebook: /labshare/raph/notebooks/expression/adrd_neuro/aging/pm_gend_nbs/Microglia.glmm_diffexp.ipynb\n",
      "params: {'tissue': 'Microglia', 'tissue_type': 'new_anno', 'testing': False}\n",
      "notebook: /labshare/raph/notebooks/expression/adrd_neuro/aging/pm_gend_nbs/InN_ADARB2_LAMP5.glmm_diffexp.ipynb\n",
      "params: {'tissue': 'InN ADARB2 LAMP5', 'tissue_type': 'new_anno', 'testing': False}\n",
      "notebook: /labshare/raph/notebooks/expression/adrd_neuro/aging/pm_gend_nbs/ExN_CUX2_ADARB2.glmm_diffexp.ipynb\n",
      "params: {'tissue': 'ExN CUX2 ADARB2', 'tissue_type': 'new_anno', 'testing': False}\n",
      "notebook: /labshare/raph/notebooks/expression/adrd_neuro/aging/pm_gend_nbs/InN_LHX6_SST.glmm_diffexp.ipynb\n",
      "params: {'tissue': 'InN LHX6 SST', 'tissue_type': 'new_anno', 'testing': False}\n",
      "notebook: /labshare/raph/notebooks/expression/adrd_neuro/aging/pm_gend_nbs/SPN_D1-2.glmm_diffexp.ipynb\n",
      "params: {'tissue': 'SPN D1-2', 'tissue_type': 'new_anno', 'testing': False}\n",
      "notebook: /labshare/raph/notebooks/expression/adrd_neuro/aging/pm_gend_nbs/Endothelial.glmm_diffexp.ipynb\n",
      "params: {'tissue': 'Endothelial', 'tissue_type': 'new_anno', 'testing': False}\n",
      "notebook: /labshare/raph/notebooks/expression/adrd_neuro/aging/pm_gend_nbs/ExN_RORB.glmm_diffexp.ipynb\n",
      "params: {'tissue': 'ExN RORB', 'tissue_type': 'new_anno', 'testing': False}\n",
      "notebook: /labshare/raph/notebooks/expression/adrd_neuro/aging/pm_gend_nbs/ExN_LAMP5.glmm_diffexp.ipynb\n",
      "params: {'tissue': 'ExN LAMP5', 'tissue_type': 'new_anno', 'testing': False}\n",
      "notebook: /labshare/raph/notebooks/expression/adrd_neuro/aging/pm_gend_nbs/SPN_D2-2.glmm_diffexp.ipynb\n",
      "params: {'tissue': 'SPN D2-2', 'tissue_type': 'new_anno', 'testing': False}\n",
      "notebook: /labshare/raph/notebooks/expression/adrd_neuro/aging/pm_gend_nbs/ExN_THEMIS.glmm_diffexp.ipynb\n",
      "params: {'tissue': 'ExN THEMIS', 'tissue_type': 'new_anno', 'testing': False}\n"
     ]
    },
    {
     "name": "stderr",
     "output_type": "stream",
     "text": [
      "2021-11-05 10:27:53.988689: I tensorflow/stream_executor/platform/default/dso_loader.cc:49] Successfully opened dynamic library libcudart.so.11.0\n",
      "2021-11-05 10:27:54.352123: I tensorflow/stream_executor/platform/default/dso_loader.cc:49] Successfully opened dynamic library libcudart.so.11.0\n",
      "2021-11-05 10:27:54.529413: I tensorflow/stream_executor/platform/default/dso_loader.cc:49] Successfully opened dynamic library libcudart.so.11.0\n",
      "2021-11-05 10:27:55.194622: I tensorflow/stream_executor/platform/default/dso_loader.cc:49] Successfully opened dynamic library libcudart.so.11.0\n",
      "2021-11-05 10:27:55.342447: I tensorflow/stream_executor/platform/default/dso_loader.cc:49] Successfully opened dynamic library libcudart.so.11.0\n",
      "2021-11-05 10:27:55.538404: I tensorflow/stream_executor/platform/default/dso_loader.cc:49] Successfully opened dynamic library libcudart.so.11.0\n",
      "2021-11-05 10:27:55.745986: I tensorflow/stream_executor/platform/default/dso_loader.cc:49] Successfully opened dynamic library libcudart.so.11.0\n",
      "2021-11-05 10:27:55.923063: I tensorflow/stream_executor/platform/default/dso_loader.cc:49] Successfully opened dynamic library libcudart.so.11.0\n",
      "2021-11-05 10:27:55.929061: I tensorflow/stream_executor/platform/default/dso_loader.cc:49] Successfully opened dynamic library libcudart.so.11.0\n",
      "2021-11-05 10:27:55.968964: I tensorflow/stream_executor/platform/default/dso_loader.cc:49] Successfully opened dynamic library libcudart.so.11.0\n",
      "2021-11-05 10:27:56.043787: I tensorflow/stream_executor/platform/default/dso_loader.cc:49] Successfully opened dynamic library libcudart.so.11.0\n",
      "2021-11-05 10:27:56.043779: I tensorflow/stream_executor/platform/default/dso_loader.cc:49] Successfully opened dynamic library libcudart.so.11.0\n",
      "2021-11-05 10:27:56.043790: I tensorflow/stream_executor/platform/default/dso_loader.cc:49] Successfully opened dynamic library libcudart.so.11.0\n",
      "2021-11-05 10:27:56.046428: I tensorflow/stream_executor/platform/default/dso_loader.cc:49] Successfully opened dynamic library libcudart.so.11.0\n",
      "2021-11-05 10:27:56.105918: I tensorflow/stream_executor/platform/default/dso_loader.cc:49] Successfully opened dynamic library libcudart.so.11.0\n",
      "2021-11-05 10:27:56.107684: I tensorflow/stream_executor/platform/default/dso_loader.cc:49] Successfully opened dynamic library libcudart.so.11.0\n",
      "2021-11-05 10:27:56.148358: I tensorflow/stream_executor/platform/default/dso_loader.cc:49] Successfully opened dynamic library libcudart.so.11.0\n",
      "2021-11-05 10:27:56.149668: I tensorflow/stream_executor/platform/default/dso_loader.cc:49] Successfully opened dynamic library libcudart.so.11.0\n",
      "2021-11-05 10:27:56.225344: I tensorflow/stream_executor/platform/default/dso_loader.cc:49] Successfully opened dynamic library libcudart.so.11.0\n",
      "2021-11-05 10:27:56.225338: I tensorflow/stream_executor/platform/default/dso_loader.cc:49] Successfully opened dynamic library libcudart.so.11.0\n",
      "2021-11-05 10:27:56.225440: I tensorflow/stream_executor/platform/default/dso_loader.cc:49] Successfully opened dynamic library libcudart.so.11.0\n",
      "2021-11-05 10:27:56.237391: I tensorflow/stream_executor/platform/default/dso_loader.cc:49] Successfully opened dynamic library libcudart.so.11.0\n",
      "2021-11-05 10:27:56.237391: I tensorflow/stream_executor/platform/default/dso_loader.cc:49] Successfully opened dynamic library libcudart.so.11.0\n",
      "2021-11-05 10:27:56.257808: I tensorflow/stream_executor/platform/default/dso_loader.cc:49] Successfully opened dynamic library libcudart.so.11.0\n",
      "2021-11-05 10:27:56.280897: I tensorflow/stream_executor/platform/default/dso_loader.cc:49] Successfully opened dynamic library libcudart.so.11.0\n",
      "2021-11-05 10:27:56.303110: I tensorflow/stream_executor/platform/default/dso_loader.cc:49] Successfully opened dynamic library libcudart.so.11.0\n"
     ]
    }
   ],
   "source": [
    "%%time\n",
    "# make sure the notebook output dir exists\n",
    "os.makedirs(out_nb_dir, exist_ok=True)\n",
    "\n",
    "job_threads = []\n",
    "for g_type, groups in groupings.items():\n",
    "    for grouping in groups:\n",
    "        param_dict = {'tissue': grouping, 'tissue_type': g_type, 'testing': testing}\n",
    "        out_notebook = f'{out_nb_dir}/{grouping.replace(\" \", \"_\")}.glmm_diffexp.ipynb'\n",
    "        print(f'notebook: {out_notebook}\\nparams: {param_dict}')\n",
    "        this_thread = threading.Thread(target=run_pm_notebook, \n",
    "                                       args=(base_notebook, out_notebook, param_dict,))\n",
    "        job_threads.append(this_thread)\n",
    "        this_thread.start()\n",
    "        \n",
    "for job_thread in job_threads:\n",
    "    job_thread.join()     "
   ]
  },
  {
   "cell_type": "code",
   "execution_count": 10,
   "id": "e5b60c7e",
   "metadata": {},
   "outputs": [
    {
     "name": "stdout",
     "output_type": "stream",
     "text": [
      "Sun Nov  7 19:36:03 EST 2021\n"
     ]
    }
   ],
   "source": [
    "!date"
   ]
  },
  {
   "cell_type": "code",
   "execution_count": null,
   "id": "324f272f",
   "metadata": {},
   "outputs": [],
   "source": []
  }
 ],
 "metadata": {
  "environment": {
   "name": "common-cpu.m65",
   "type": "gcloud",
   "uri": "gcr.io/deeplearning-platform-release/base-cpu:m65"
  },
  "kernelspec": {
   "display_name": "Python 3 (ipykernel)",
   "language": "python",
   "name": "python3"
  },
  "language_info": {
   "codemirror_mode": {
    "name": "ipython",
    "version": 3
   },
   "file_extension": ".py",
   "mimetype": "text/x-python",
   "name": "python",
   "nbconvert_exporter": "python",
   "pygments_lexer": "ipython3",
   "version": "3.8.11"
  }
 },
 "nbformat": 4,
 "nbformat_minor": 5
}
