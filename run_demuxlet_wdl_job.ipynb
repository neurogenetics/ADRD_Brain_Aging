{
 "cells": [
  {
   "cell_type": "markdown",
   "metadata": {},
   "source": [
    "## Notebook to run demuxlet using Cumulus Demuxlet wdl\n",
    "\n",
    "here running directly on GCP, figure out how to run via Terra\n",
    "\n",
    "based on [Cumulus/Demulet](https://cumulus-doc.readthedocs.io/en/0.12.0/demuxlet.html), but have the use Snapshot 1\n",
    "\n",
    "[Broad wdl runner](https://github.com/broadinstitute/wdl-runner)\n",
    "\n",
    "[Statgen Popscle includes demuxlet](https://github.com/statgen/popscle)"
   ]
  },
  {
   "cell_type": "code",
   "execution_count": 1,
   "metadata": {},
   "outputs": [
    {
     "name": "stdout",
     "output_type": "stream",
     "text": [
      "Sat Jul 17 13:36:33 EDT 2021\n"
     ]
    }
   ],
   "source": [
    "!date"
   ]
  },
  {
   "cell_type": "markdown",
   "metadata": {},
   "source": [
    "#### import libraries and set notebook variables"
   ]
  },
  {
   "cell_type": "code",
   "execution_count": 2,
   "metadata": {},
   "outputs": [],
   "source": [
    "import pandas as pd\n",
    "import json"
   ]
  },
  {
   "cell_type": "code",
   "execution_count": 3,
   "metadata": {},
   "outputs": [],
   "source": [
    "# parameters\n",
    "project = 'adrd'\n",
    "cohort = 'aging'\n",
    "bank = 'nhbcc'\n",
    "gcp_proj_id = 'adrd-neuro'\n",
    "gcp_user = 'gibbsr'\n",
    "pool_name = f'{project}_{cohort}_{bank}'\n",
    "pool_names = []\n",
    "for pnum in range(1, 7):\n",
    "    for lane in range(1, 9):\n",
    "        pool_names.append(f'Aging_P00{pnum}_SCRN_{lane}')\n",
    "\n",
    "# directories\n",
    "wrk_dir = f'/labshare/raph/datasets/adrd_neuro/{cohort}/demux'\n",
    "tools_dir = '/labshare/raph/datasets/adrd_neuro/tools'\n",
    "analysis_bucket = 'gs://nihnialng-aging-brain/analysis/demuxlet'\n",
    "src_10x_bucket = 'gs://nihnialng-aging-brain/nisc'\n",
    "genos_bucket = 'gs://nihnialng-aging-brain/genotypes'\n",
    "\n",
    "# input files\n",
    "demuxlet_wdl = 'gs://nihnialng-aging-pooled-pilot/analysis/demuxlet_test/demuxlet.1.wdl'\n",
    "lcl_demuxlet_wdl = f'{tools_dir}/demuxlet.1.wdl'\n",
    "genos_vcf_file = f'{genos_bucket}/{pool_name}.hg38.demuxlet.vcf.gz'\n",
    "\n",
    "# out file\n",
    "wdl_sample_sheet = f'{wrk_dir}/{pool_name}.demuxlet.sheet.tsv'"
   ]
  },
  {
   "cell_type": "markdown",
   "metadata": {},
   "source": [
    "#### the snapshot 1 demuxlet wdl will do a scatter based on input sample sheet so format that"
   ]
  },
  {
   "cell_type": "code",
   "execution_count": 4,
   "metadata": {},
   "outputs": [],
   "source": [
    "def frmt_tenx_file_name(sample_name, src_10x_bucket, file_type='bam'):\n",
    "    if file_type == 'bam':\n",
    "        this_file = f'{src_10x_bucket}/{sample_name}/outs/possorted_genome_bam.bam'\n",
    "    else:\n",
    "        this_file = f'{src_10x_bucket}/{sample_name}/outs/filtered_feature_bc_matrix/barcodes.tsv.gz'\n",
    "    return this_file"
   ]
  },
  {
   "cell_type": "code",
   "execution_count": 5,
   "metadata": {},
   "outputs": [
    {
     "name": "stdout",
     "output_type": "stream",
     "text": [
      "(48, 4)\n"
     ]
    },
    {
     "data": {
      "text/html": [
       "<div>\n",
       "<style scoped>\n",
       "    .dataframe tbody tr th:only-of-type {\n",
       "        vertical-align: middle;\n",
       "    }\n",
       "\n",
       "    .dataframe tbody tr th {\n",
       "        vertical-align: top;\n",
       "    }\n",
       "\n",
       "    .dataframe thead th {\n",
       "        text-align: right;\n",
       "    }\n",
       "</style>\n",
       "<table border=\"1\" class=\"dataframe\">\n",
       "  <thead>\n",
       "    <tr style=\"text-align: right;\">\n",
       "      <th></th>\n",
       "      <th>sample</th>\n",
       "      <th>bams</th>\n",
       "      <th>barcodes</th>\n",
       "      <th>vcf</th>\n",
       "    </tr>\n",
       "  </thead>\n",
       "  <tbody>\n",
       "    <tr>\n",
       "      <th>0</th>\n",
       "      <td>Aging_P001_SCRN_1</td>\n",
       "      <td>gs://nihnialng-aging-brain/nisc/Aging_P001_SCR...</td>\n",
       "      <td>gs://nihnialng-aging-brain/nisc/Aging_P001_SCR...</td>\n",
       "      <td>gs://nihnialng-aging-brain/genotypes/adrd_agin...</td>\n",
       "    </tr>\n",
       "    <tr>\n",
       "      <th>1</th>\n",
       "      <td>Aging_P001_SCRN_2</td>\n",
       "      <td>gs://nihnialng-aging-brain/nisc/Aging_P001_SCR...</td>\n",
       "      <td>gs://nihnialng-aging-brain/nisc/Aging_P001_SCR...</td>\n",
       "      <td>gs://nihnialng-aging-brain/genotypes/adrd_agin...</td>\n",
       "    </tr>\n",
       "    <tr>\n",
       "      <th>2</th>\n",
       "      <td>Aging_P001_SCRN_3</td>\n",
       "      <td>gs://nihnialng-aging-brain/nisc/Aging_P001_SCR...</td>\n",
       "      <td>gs://nihnialng-aging-brain/nisc/Aging_P001_SCR...</td>\n",
       "      <td>gs://nihnialng-aging-brain/genotypes/adrd_agin...</td>\n",
       "    </tr>\n",
       "    <tr>\n",
       "      <th>3</th>\n",
       "      <td>Aging_P001_SCRN_4</td>\n",
       "      <td>gs://nihnialng-aging-brain/nisc/Aging_P001_SCR...</td>\n",
       "      <td>gs://nihnialng-aging-brain/nisc/Aging_P001_SCR...</td>\n",
       "      <td>gs://nihnialng-aging-brain/genotypes/adrd_agin...</td>\n",
       "    </tr>\n",
       "    <tr>\n",
       "      <th>4</th>\n",
       "      <td>Aging_P001_SCRN_5</td>\n",
       "      <td>gs://nihnialng-aging-brain/nisc/Aging_P001_SCR...</td>\n",
       "      <td>gs://nihnialng-aging-brain/nisc/Aging_P001_SCR...</td>\n",
       "      <td>gs://nihnialng-aging-brain/genotypes/adrd_agin...</td>\n",
       "    </tr>\n",
       "  </tbody>\n",
       "</table>\n",
       "</div>"
      ],
      "text/plain": [
       "              sample                                               bams  \\\n",
       "0  Aging_P001_SCRN_1  gs://nihnialng-aging-brain/nisc/Aging_P001_SCR...   \n",
       "1  Aging_P001_SCRN_2  gs://nihnialng-aging-brain/nisc/Aging_P001_SCR...   \n",
       "2  Aging_P001_SCRN_3  gs://nihnialng-aging-brain/nisc/Aging_P001_SCR...   \n",
       "3  Aging_P001_SCRN_4  gs://nihnialng-aging-brain/nisc/Aging_P001_SCR...   \n",
       "4  Aging_P001_SCRN_5  gs://nihnialng-aging-brain/nisc/Aging_P001_SCR...   \n",
       "\n",
       "                                            barcodes  \\\n",
       "0  gs://nihnialng-aging-brain/nisc/Aging_P001_SCR...   \n",
       "1  gs://nihnialng-aging-brain/nisc/Aging_P001_SCR...   \n",
       "2  gs://nihnialng-aging-brain/nisc/Aging_P001_SCR...   \n",
       "3  gs://nihnialng-aging-brain/nisc/Aging_P001_SCR...   \n",
       "4  gs://nihnialng-aging-brain/nisc/Aging_P001_SCR...   \n",
       "\n",
       "                                                 vcf  \n",
       "0  gs://nihnialng-aging-brain/genotypes/adrd_agin...  \n",
       "1  gs://nihnialng-aging-brain/genotypes/adrd_agin...  \n",
       "2  gs://nihnialng-aging-brain/genotypes/adrd_agin...  \n",
       "3  gs://nihnialng-aging-brain/genotypes/adrd_agin...  \n",
       "4  gs://nihnialng-aging-brain/genotypes/adrd_agin...  "
      ]
     },
     "metadata": {},
     "output_type": "display_data"
    }
   ],
   "source": [
    "# created the table data frame\n",
    "bams = [frmt_tenx_file_name(sample, src_10x_bucket) for sample in pool_names]\n",
    "barcodes = [frmt_tenx_file_name(sample, src_10x_bucket,'barcodes') for sample in pool_names]\n",
    "\n",
    "this_data = {'sample': pool_names, 'bams': bams, 'barcodes': barcodes}\n",
    "samples_df = pd.DataFrame(data=this_data)\n",
    "samples_df['vcf'] = genos_vcf_file\n",
    "print(samples_df.shape)\n",
    "display(samples_df.head())"
   ]
  },
  {
   "cell_type": "markdown",
   "metadata": {},
   "source": [
    "#### save the sample sheet and push to GCS"
   ]
  },
  {
   "cell_type": "code",
   "execution_count": 6,
   "metadata": {},
   "outputs": [],
   "source": [
    "samples_df.to_csv(wdl_sample_sheet, index=False, header=False, sep='\\t')"
   ]
  },
  {
   "cell_type": "code",
   "execution_count": 7,
   "metadata": {},
   "outputs": [
    {
     "name": "stdout",
     "output_type": "stream",
     "text": [
      "gsutil -mq cp /labshare/raph/datasets/adrd_neuro/aging/demux/adrd_aging_nhbcc.demuxlet.sheet.tsv gs://nihnialng-aging-brain/nisc/\n"
     ]
    }
   ],
   "source": [
    "this_cmd = f'gsutil -mq cp {wdl_sample_sheet} {src_10x_bucket}/'\n",
    "print(this_cmd)\n",
    "!{this_cmd}"
   ]
  },
  {
   "cell_type": "markdown",
   "metadata": {},
   "source": [
    "#### pull down the broad tooling"
   ]
  },
  {
   "cell_type": "code",
   "execution_count": 15,
   "metadata": {},
   "outputs": [
    {
     "name": "stdout",
     "output_type": "stream",
     "text": [
      "Cloning into '/labshare/raph/datasets/adrd_neuro/tools/wdl-runner'...\n",
      "remote: Enumerating objects: 122, done.\u001b[K\n",
      "remote: Total 122 (delta 0), reused 0 (delta 0), pack-reused 122\u001b[K\n",
      "\u001b[KReceiving objects: 100% (122/122), 38.10 KiB | 6.35 MiB/s, done.\n",
      "\u001b[KResolving deltas: 100% (62/62), done.\n"
     ]
    }
   ],
   "source": [
    "#pull down the correct recent Broad tooling\n",
    "!git clone https://github.com/broadinstitute/wdl-runner.git {tools_dir}/wdl-runner"
   ]
  },
  {
   "cell_type": "code",
   "execution_count": 16,
   "metadata": {},
   "outputs": [
    {
     "name": "stdout",
     "output_type": "stream",
     "text": [
      "gsutil -mq cp gs://nihnialng-aging-pooled-pilot/analysis/demuxlet_test/demuxlet.1.wdl /labshare/raph/datasets/adrd_neuro/tools/demuxlet.1.wdl\n"
     ]
    }
   ],
   "source": [
    "# pull the wdl\n",
    "this_cmd = f'gsutil -mq cp {demuxlet_wdl} {lcl_demuxlet_wdl}'\n",
    "print(this_cmd)\n",
    "!{this_cmd}"
   ]
  },
  {
   "cell_type": "markdown",
   "metadata": {},
   "source": [
    "#### format argument jsons"
   ]
  },
  {
   "cell_type": "code",
   "execution_count": 8,
   "metadata": {},
   "outputs": [],
   "source": [
    "# format demuxlet json\n",
    "json_demux_outfile_name = f'{wrk_dir}/{pool_name}.demuxlet.json'\n",
    "demux_data = {}\n",
    "demux_data['demuxlet.tsv_file'] = f'{src_10x_bucket}/{pool_name}.demuxlet.sheet.tsv'\n",
    "with open(json_demux_outfile_name, 'w') as json_outfile:\n",
    "    json.dump(demux_data, json_outfile, sort_keys=False, indent=4)\n",
    "    \n",
    "# format the generic options json    \n",
    "options_outfile_name = f'{wrk_dir}/generic.options.json'\n",
    "options_data = {}\n",
    "zones_dict = {'zones': 'us-central1-a us-central1-b us-central1-c us-central1-f'}\n",
    "options_data['default_runtime_attributes'] = zones_dict\n",
    "options_data['read_from_cache'] = True\n",
    "options_data['write_to_cache'] = True\n",
    "options_data['workflow_failure_mode'] = 'ContinueWhilePossible'\n",
    "options_data['system.input-read-limits.lines'] = 640000  \n",
    "with open(options_outfile_name, 'w') as json_outfile:\n",
    "    json.dump(options_data, json_outfile, sort_keys=False, indent=4)"
   ]
  },
  {
   "cell_type": "markdown",
   "metadata": {},
   "source": [
    "#### run the wdl on GCP using life sciences"
   ]
  },
  {
   "cell_type": "code",
   "execution_count": 9,
   "metadata": {},
   "outputs": [],
   "source": [
    "# function to format the gcp life-sciences wdl job\n",
    "def frmt_glsp_wdl_cmd(cohort, pool_name, bucket, proj_id, work_dir,\n",
    "                      tool_dir, my_user, demuxlet_wdl):\n",
    "    this_cmd = f'gcloud beta lifesciences pipelines run \\\n",
    "--project {proj_id} \\\n",
    "--pipeline-file {tool_dir}/wdl-runner/wdl_runner/wdl_pipeline.yaml \\\n",
    "--location us-central1 \\\n",
    "--regions us-central1 \\\n",
    "--logging {bucket}/logs/wdls/{pool_name} \\\n",
    "--inputs-from-file WDL={demuxlet_wdl},\\\n",
    "WORKFLOW_INPUTS={work_dir}/{pool_name}.demuxlet.json,\\\n",
    "WORKFLOW_OPTIONS={work_dir}/generic.options.json \\\n",
    "--env-vars WORKSPACE={bucket}/workspace,\\\n",
    "OUTPUTS={bucket}/demuxlet_temp_results \\\n",
    "--labels=cohort={cohort},user={my_user},workflow=demuxlet'\n",
    "    return this_cmd"
   ]
  },
  {
   "cell_type": "code",
   "execution_count": 10,
   "metadata": {},
   "outputs": [
    {
     "name": "stdout",
     "output_type": "stream",
     "text": [
      "gcloud beta lifesciences pipelines run --project adrd-neuro --pipeline-file /labshare/raph/datasets/adrd_neuro/tools/wdl-runner/wdl_runner/wdl_pipeline.yaml --location us-central1 --regions us-central1 --logging gs://nihnialng-aging-brain/analysis/demuxlet/logs/wdls/adrd_aging_nhbcc --inputs-from-file WDL=/labshare/raph/datasets/adrd_neuro/tools/demuxlet.1.wdl,WORKFLOW_INPUTS=/labshare/raph/datasets/adrd_neuro/aging/demux/adrd_aging_nhbcc.demuxlet.json,WORKFLOW_OPTIONS=/labshare/raph/datasets/adrd_neuro/aging/demux/generic.options.json --env-vars WORKSPACE=gs://nihnialng-aging-brain/analysis/demuxlet/workspace,OUTPUTS=gs://nihnialng-aging-brain/analysis/demuxlet/demuxlet_temp_results --labels=cohort=aging,user=gibbsr,workflow=demuxlet\n",
      "['Running [projects/740413734628/locations/us-central1/operations/8061285490362817354].']\n"
     ]
    }
   ],
   "source": [
    "\n",
    "# create command\n",
    "gcp_cmd = frmt_glsp_wdl_cmd(cohort, pool_name, analysis_bucket, gcp_proj_id,\n",
    "                            wrk_dir, tools_dir, gcp_user, lcl_demuxlet_wdl)\n",
    "\n",
    "# run command\n",
    "print(gcp_cmd)\n",
    "op_id = !{gcp_cmd}\n",
    "print(op_id)"
   ]
  },
  {
   "cell_type": "code",
   "execution_count": 11,
   "metadata": {},
   "outputs": [
    {
     "name": "stdout",
     "output_type": "stream",
     "text": [
      "to check job, with polling, run this at cmd lien:\n",
      "/labshare/raph/datasets/adrd_neuro/tools/wdl-runner/monitoring_tools/monitor_wdl_pipeline.sh projects/740413734628/locations/us-central1/operations/8061285490362817354 us-central1\n"
     ]
    }
   ],
   "source": [
    "op_id = 'projects/740413734628/locations/us-central1/operations/8061285490362817354'\n",
    "\n",
    "# !gcloud beta lifesciences operations describe {op_id} \\\n",
    "# --location=us-central1 \\\n",
    "# --format='yaml(done, error, metadata.events)'\n",
    "\n",
    "print('to check job, with polling, run this at cmd lien:')\n",
    "this_cmd = f'{tools_dir}/wdl-runner/monitoring_tools/monitor_wdl_pipeline.sh {op_id} us-central1'\n",
    "print(this_cmd)"
   ]
  },
  {
   "cell_type": "markdown",
   "metadata": {},
   "source": [
    "#### if succeeded the move result from temp out to final output"
   ]
  },
  {
   "cell_type": "code",
   "execution_count": 12,
   "metadata": {},
   "outputs": [
    {
     "name": "stdout",
     "output_type": "stream",
     "text": [
      "gsutil -mq mv gs://nihnialng-aging-brain/analysis/demuxlet/demuxlet_temp_results/* gs://nihnialng-aging-brain/analysis/demuxlet/demuxlet_results/\n"
     ]
    }
   ],
   "source": [
    "this_cmd = f'gsutil -mq mv {analysis_bucket}/demuxlet_temp_results/* {analysis_bucket}/demuxlet_results/'\n",
    "print(this_cmd)\n",
    "!{this_cmd}"
   ]
  },
  {
   "cell_type": "markdown",
   "metadata": {},
   "source": [
    "#### now clean up the temp cromwell workspace"
   ]
  },
  {
   "cell_type": "code",
   "execution_count": 13,
   "metadata": {},
   "outputs": [
    {
     "name": "stdout",
     "output_type": "stream",
     "text": [
      "gsutil -mq rm -r gs://nihnialng-aging-brain/analysis/demuxlet/workspace/demuxlet\n"
     ]
    }
   ],
   "source": [
    "this_cmd = f'gsutil -mq rm -r {analysis_bucket}/workspace/demuxlet'\n",
    "print(this_cmd)\n",
    "!{this_cmd}"
   ]
  },
  {
   "cell_type": "code",
   "execution_count": null,
   "metadata": {},
   "outputs": [],
   "source": []
  }
 ],
 "metadata": {
  "environment": {
   "name": "common-cpu.m65",
   "type": "gcloud",
   "uri": "gcr.io/deeplearning-platform-release/base-cpu:m65"
  },
  "kernelspec": {
   "display_name": "Python 3 (ipykernel)",
   "language": "python",
   "name": "python3"
  },
  "language_info": {
   "codemirror_mode": {
    "name": "ipython",
    "version": 3
   },
   "file_extension": ".py",
   "mimetype": "text/x-python",
   "name": "python",
   "nbconvert_exporter": "python",
   "pygments_lexer": "ipython3",
   "version": "3.8.11"
  }
 },
 "nbformat": 4,
 "nbformat_minor": 4
}
