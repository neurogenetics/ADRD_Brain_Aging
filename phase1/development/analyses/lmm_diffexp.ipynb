{
 "cells": [
  {
   "cell_type": "markdown",
   "id": "24eb3bd1",
   "metadata": {},
   "source": [
    "## Notebook to run differential expression in single-cell data using LMM\n",
    "\n",
    "based on some of the observations related to pseudo-replicate and zero-inflation from\n",
    "\n",
    "this runs based on data input preps that were done for glmmTMB based analysis\n",
    "\n",
    "[Zimmerman KD, Espeland MA, Langefeld CD. A practical solution to pseudoreplication bias in single-cell studies. Nat Commun 2021;12:738.](https://pubmed.ncbi.nlm.nih.gov/33531494/)\n"
   ]
  },
  {
   "cell_type": "code",
   "execution_count": null,
   "id": "efbb02f6",
   "metadata": {},
   "outputs": [],
   "source": [
    "!date"
   ]
  },
  {
   "cell_type": "markdown",
   "id": "806b0dcd",
   "metadata": {},
   "source": [
    "#### import libraries"
   ]
  },
  {
   "cell_type": "code",
   "execution_count": null,
   "id": "3e022767",
   "metadata": {},
   "outputs": [],
   "source": [
    "from pandas import read_csv\n",
    "import numpy as np\n",
    "import matplotlib.pyplot as plt\n",
    "from matplotlib.pyplot import rc_context\n",
    "import seaborn as sns\n",
    "import statsmodels.api as sm\n",
    "from numba import jit\n",
    "\n",
    "import warnings\n",
    "warnings.simplefilter('ignore')\n",
    "\n",
    "import random\n",
    "random.seed(420)"
   ]
  },
  {
   "cell_type": "markdown",
   "id": "9b22b17d-b661-42b2-8abd-68bb1e15d3c8",
   "metadata": {},
   "source": [
    "#### set notebook variables"
   ]
  },
  {
   "cell_type": "code",
   "execution_count": null,
   "id": "1f8072ee",
   "metadata": {
    "tags": [
     "parameters"
    ]
   },
   "outputs": [],
   "source": [
    "# parameters\n",
    "tissue_or_cell_name = 'ExN_THEMIS'\n",
    "testing = True"
   ]
  },
  {
   "cell_type": "code",
   "execution_count": null,
   "id": "ab159abf",
   "metadata": {},
   "outputs": [],
   "source": [
    "# naming\n",
    "cohort = 'aging'\n",
    "assay = 'RNA'\n",
    "\n",
    "# directories for initial setup\n",
    "wrk_dir = '/home/jupyter/brain_aging_phase1'\n",
    "quants_dir = f'{wrk_dir}/demux'\n",
    "results_dir = f'{wrk_dir}/results'\n",
    "\n",
    "# in files\n",
    "in_file = f'{quants_dir}/{tissue_or_cell_name}_glmmtmb_in_df_temp.csv'\n",
    "\n",
    "# out files\n",
    "results_file = f'{results_dir}/{tissue_or_cell_name}.lmm_age_diffs.csv'\n",
    "\n",
    "# constants\n",
    "DEBUG = True\n",
    "young_age_limit = 30.0\n",
    "min_cell_count = 3\n",
    "# get cell counts by 'categories'\n",
    "region_obs_feature = 'Brain_region'\n",
    "celltype_obs_feature = 'new_anno'\n",
    "testing_sample_size = 100 #25\n",
    "covariates = ['Brain_region', 'Age', 'Age_group', 'pool_name', 'Sample_id', \n",
    "              'Sex', 'donor_id', 'old', 'female']"
   ]
  },
  {
   "cell_type": "markdown",
   "id": "fb3703a3",
   "metadata": {},
   "source": [
    "#### analysis functions"
   ]
  },
  {
   "cell_type": "code",
   "execution_count": null,
   "id": "75653370-28b5-4e88-803f-ac112f5edbcf",
   "metadata": {},
   "outputs": [],
   "source": [
    "print(dir(sm.families))"
   ]
  },
  {
   "cell_type": "code",
   "execution_count": null,
   "id": "d286c501",
   "metadata": {},
   "outputs": [],
   "source": [
    "def mixed_model(formula: str, df: pd.DataFrame, group_name: str, tweedie: bool=True):\n",
    "    model = sm.MixedLM.from_formula(formula, df, groups=df[group_name])\n",
    "    if tweedie:\n",
    "        # model.family = sm.families.Tweedie()\n",
    "        model.family = sm.families.Tweedie(link=None, var_power=1.6, eql=True)\n",
    "    result = model.fit()\n",
    "    return result\n",
    "\n",
    "@jit(nopython=True)\n",
    "def compute_fold_change(intercept: float, coef: float) -> float:\n",
    "    if coef > 0:\n",
    "        fc = np.log2((intercept + coef)/intercept)\n",
    "    else:\n",
    "        fc = -np.log2(intercept/(intercept - abs(coef)))\n",
    "    return fc\n",
    "\n",
    "def glmm_diff_expr_age(df: pd.DataFrame, feature: str, verbose: bool=False) -> tuple:\n",
    "    dep_term = feature\n",
    "    indep_term = 'old'\n",
    "    grouping = 'Sample_id'    \n",
    "    this_formula = f'Q(\"{dep_term}\") ~ {indep_term} + C(pool_name)'\n",
    "    # just drop zeros \n",
    "    try:\n",
    "        # run GLMM via statsmodel\n",
    "        result = mixed_model(this_formula, df, grouping)\n",
    "        fold_change = compute_fold_change(result.params['Intercept'], \n",
    "                                          result.params[indep_term])\n",
    "        ret_list = [dep_term, result.params['Intercept'], \n",
    "                    result.params[indep_term], result.bse[indep_term], \n",
    "                    result.tvalues[indep_term], result.pvalues[indep_term], \n",
    "                    fold_change]\n",
    "        if verbose:\n",
    "            print(f'df shape {df.shape}')\n",
    "            print(f'non-zero df shape {df.shape}')\n",
    "            print(result.summary())\n",
    "            print(['feature', 'intercept', 'coef', 'stderr', 'z', 'p-value', 'log2_fc'])\n",
    "            print(ret_list)\n",
    "    except:\n",
    "#         print(f'Caught Error for {dep_term}')\n",
    "        ret_list = [dep_term] + [np.nan] * 6\n",
    "  \n",
    "    return ret_list\n",
    "\n",
    "def diff_exp_of_features(df: pd.DataFrame) -> list:\n",
    "    results = []\n",
    "    features = set(df.columns) - set(covariates)\n",
    "    for feature in features:\n",
    "        results.append(glmm_diff_expr_age(df, feature))         \n",
    "    return results\n",
    "\n",
    "def diffexp_group(data: ad.AnnData, group_name: str, \n",
    "                  type_name: str, min_cell_count: int=3, \n",
    "                  verbose: bool=False, use_prev_prep: bool=True) -> pd.DataFrame:\n",
    "    if verbose:\n",
    "        print(f'starting subset {group_name}')\n",
    "    print('using previous prep to find features for lmm modeling')\n",
    "    type_clean_df = read_csv(in_file, index_col=0)\n",
    "    type_results = diff_exp_of_features(type_clean_df)\n",
    "    results_df = pd.DataFrame(data=type_results, \n",
    "                              columns=['feature', 'intercept', 'coef', \n",
    "                                       'stderr', 'z', 'p-value', 'log2_fc'])\n",
    "    results_df['tissue'] = group_name\n",
    "    results_df['type'] = 'brain_region' if type_name == region_obs_feature else 'cell_type'       \n",
    "    if verbose:\n",
    "        print(f'done', end='. ')\n",
    "    return results_df"
   ]
  },
  {
   "cell_type": "markdown",
   "id": "e047b946",
   "metadata": {},
   "source": [
    "#### read the modeling input data"
   ]
  },
  {
   "cell_type": "code",
   "execution_count": null,
   "id": "6adc1175",
   "metadata": {},
   "outputs": [],
   "source": [
    "%%time\n",
    "input_df = read_csv(in_file, index_col=0)\n",
    "print(f'shape of input df is {input_df.shape}')\n",
    "if DEBUG:\n",
    "    display(input_df.sample(5))"
   ]
  },
  {
   "cell_type": "markdown",
   "id": "f58cb969-d4c6-4dff-8c21-be00cfb124d4",
   "metadata": {},
   "source": [
    "#### get the target features from the input"
   ]
  },
  {
   "cell_type": "code",
   "execution_count": null,
   "id": "3e6657f1-6f4e-4de4-a91a-98fc07c26d1a",
   "metadata": {},
   "outputs": [],
   "source": [
    "targets = list(set(input_df.columns) - set(covariates))\n",
    "print(f'found {len(targets)} targets')\n",
    "if DEBUG:\n",
    "    display(targets[:5])\n",
    "    display(targets[-5:])"
   ]
  },
  {
   "cell_type": "markdown",
   "id": "8fc2b2df",
   "metadata": {},
   "source": [
    "### testing subset"
   ]
  },
  {
   "cell_type": "code",
   "execution_count": null,
   "id": "ec4914aa-8fcf-4ffe-86c8-2d352483f086",
   "metadata": {},
   "outputs": [],
   "source": [
    "testing_sample_size = 3\n",
    "genes = random.sample(targets, testing_sample_size)\n",
    "test_df = input_df[genes + covariates]\n",
    "print(test_df.shape)\n",
    "display(test_df.sample(5))"
   ]
  },
  {
   "cell_type": "code",
   "execution_count": null,
   "id": "04186626-2836-4ebc-8cf7-140e46169acc",
   "metadata": {},
   "outputs": [],
   "source": [
    "for gene in genes:\n",
    "    print(gene)\n",
    "    dep_term = gene\n",
    "    indep_term = 'old'\n",
    "    grouping = 'Sample_id'    \n",
    "    this_formula = f'Q(\"{dep_term}\") ~ {indep_term} + C(pool_name)'\n",
    "    result = mixed_model(this_formula, test_df, grouping, tweedie=True)\n",
    "    display(result.summary())"
   ]
  },
  {
   "cell_type": "code",
   "execution_count": null,
   "id": "b62a5ed9",
   "metadata": {},
   "outputs": [],
   "source": [
    "if testing:\n",
    "    genes = random.sample(list(adata.var.index.values), testing_sample_size)\n",
    "    adata = adata[:,genes]"
   ]
  },
  {
   "cell_type": "markdown",
   "id": "843f8d60",
   "metadata": {},
   "source": [
    "#### for this brain region or cell-type compute the differential expression info"
   ]
  },
  {
   "cell_type": "code",
   "execution_count": null,
   "id": "75f0681f",
   "metadata": {},
   "outputs": [],
   "source": [
    "%%time\n",
    "results_df = diffexp_group(adata, tissue, tissue_type, verbose=True)\n",
    "print(results_df.shape)\n",
    "display(results_df.head())\n",
    "print(results_df['tissue'].value_counts())"
   ]
  },
  {
   "cell_type": "markdown",
   "id": "baf37241",
   "metadata": {},
   "source": [
    "#### save the results"
   ]
  },
  {
   "cell_type": "code",
   "execution_count": null,
   "id": "9168020d",
   "metadata": {},
   "outputs": [],
   "source": [
    "results_df.to_csv(results_file, index=False)"
   ]
  },
  {
   "cell_type": "code",
   "execution_count": null,
   "id": "2b97fbd0",
   "metadata": {},
   "outputs": [],
   "source": []
  }
 ],
 "metadata": {
  "environment": {
   "kernel": "python3",
   "name": "pytorch-gpu.1-13.m107",
   "type": "gcloud",
   "uri": "gcr.io/deeplearning-platform-release/pytorch-gpu.1-13:m107"
  },
  "kernelspec": {
   "display_name": "Python 3",
   "language": "python",
   "name": "python3"
  },
  "language_info": {
   "codemirror_mode": {
    "name": "ipython",
    "version": 3
   },
   "file_extension": ".py",
   "mimetype": "text/x-python",
   "name": "python",
   "nbconvert_exporter": "python",
   "pygments_lexer": "ipython3",
   "version": "3.7.12"
  }
 },
 "nbformat": 4,
 "nbformat_minor": 5
}
