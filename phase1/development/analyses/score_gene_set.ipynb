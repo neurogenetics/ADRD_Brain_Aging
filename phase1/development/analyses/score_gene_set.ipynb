{
 "cells": [
  {
   "cell_type": "markdown",
   "id": "6bd264e8-28de-4d68-a3af-d2661644508c",
   "metadata": {},
   "source": [
    "## Notebook to score cells based on gene set\n",
    "\n",
    "attempt to use this functionality for determing scores for\n",
    "- disease associated microglia (DAM) \n",
    "    - Hu Y, Fryatt GL, Ghorbani M et al. Replicative senescence dictates the emergence of disease-associated microglia and contributes to Aβ pathology. Cell Rep 2021;35:109228.\n",
    "    https://www.sciencedirect.com/science/article/pii/S2211124721005799\n",
    "        - \"DAM signature (Cst7, Csf1, Lpl, Apoe, Spp1, Cd74, Itgax)\"\n",
    "- senescence\n",
    "    - Hu Y, Fryatt GL, Ghorbani M et al. Replicative senescence dictates the emergence of disease-associated microglia and contributes to Aβ pathology. Cell Rep 2021;35:109228.\n",
    "    https://www.sciencedirect.com/science/article/pii/S2211124721005799?via%3Dihub\n",
    "        - \"custom senescence signature (Cdkn2a, Cdkn1a, Cdkn2d, Casp8, Il1b, Glb1, Serpine1)\"\n",
    "    - Dehkordi SK, Walker J, Sah E et al. Profiling senescent cells in human brains reveals neurons with CDKN2D/p19 and tau neuropathology. Nat Aging 2021;1:1107–16.\n",
    "    https://pubmed.ncbi.nlm.nih.gov/35531351/\n",
    "    - Casella G, Munk R, Kim KM et al. Transcriptome signature of cellular senescence. Nucleic Acids Res 2019;47:7294–305.\n",
    "https://pubmed.ncbi.nlm.nih.gov/31251810/\n",
    "        - Canonical Senescence Pathway (CDKN2D, ETS2, RB1, E2F3, CDK6, RBL2, ATM, BMI1, MDM2, CDK4, CCNE1)\n",
    "        - Senescence Response Pathway (IGFBP7, VIM, FN1, SPARC, IGFBP4, TIMP1, TBX2, TBX3, COL1A1, COL3A1, IGFBP2, TGFB1I1, PTEN, CD44, NFIA, CALR, TIMP2, CXCL8)\n",
    "        - Senescence Initiating Pathway (SOD1, MAP2K1, GSK3B, PIK3CA, SOD2, MAPK14, IGF1R, TP53BP1, NBN, HRAS, CITED2, CREG1, ABL1, MORC3, NFKB1, AKT1, CDKN1B, EGR1, RBL1, MAP2K6, IGF1, IRF3, PCNA, GADD45A, MAP2K3, IGFBP5, SIRT1, ING1, TGFB1, TERF2)\n",
    "        - Cell Age (PEBP1, PKM, CKB, AAK1, NUAK1, MAST1, SORBS2, BRAF, SPIN1, MAP2K1, YPEL3, MAPK14, PDPK1, TOP1, ITPK1, MATK, RPS6KA6, SPOP, ITSN2, PDZD2, MAP2K2, LIMK1, DHCR24, PBRM1, MAP3K7, SIN3B, SOX5, EWSR1, PDCD10, CPEB1, NEK4, RB1, MCRS1, PNPT1, HRAS, STK32C, RAF1, ETS2, SMARCB1, FASTK, SLC13A3, TRIM28, MORC3, MAPKAPK5, MAP2K7, STK40, PMVK, CEBPB, GRK6, STAT5B, CDKN1B, PDIK1L, AKT1, MAPK12, MAP2K6, PIAS4, ADCK5, SMURF2, PCGF2, IRF3, PLA2R1, TYK2, ERRFI1, BRD7, ING2, FBXO31, NADK, PTTG1, BHLHE40, ASF1A, ING1, NINJ1, MXD4)\n",
    "        - UniUp ['TMEM159', 'CHPF2', 'SLC9A7', 'PLOD1', 'FAM2234B', 'DHRS7', 'SRPX', 'SRPX2', 'TNFSF13B', 'PDLIM1', 'ELMOD1', 'CCND3', 'TMEM30A', 'STAT1', 'RND3', 'TMEM59', 'SARAF', 'SLC16A14', 'SLC02B1', 'ARRDC4', 'PAM', 'WDR78', 'NCSTN', 'GPR155', 'CLDN1', 'JCAD', 'BLCAP', 'FILIP1L', 'TAP1', 'TNFRSF10C', 'SAMD9L', 'SMC03', 'POFUT2', 'KIAA1671', 'LRP10', 'BMS1P9', 'MAP4K3-DT', 'AC002480.1', 'LINC02154', 'TM4SF1-AS1', 'PTCHD4', 'H2AFJ', 'PURPL']"
   ]
  },
  {
   "cell_type": "code",
   "execution_count": null,
   "id": "2d280275-c85c-479b-b2dd-f9d70beb6af1",
   "metadata": {},
   "outputs": [],
   "source": [
    "!date"
   ]
  },
  {
   "cell_type": "markdown",
   "id": "4dea3d45-e8ea-4ec4-baf2-8c7db20e2006",
   "metadata": {},
   "source": [
    "#### import libraries"
   ]
  },
  {
   "cell_type": "code",
   "execution_count": null,
   "id": "6e363278-9cd6-444a-9e2e-e510e2946e5e",
   "metadata": {},
   "outputs": [],
   "source": [
    "import scanpy as sc\n",
    "from anndata import AnnData\n",
    "from numpy import ndarray\n",
    "from random import seed, randint\n",
    "from scipy.stats import zscore, shapiro, kstest, norm\n",
    "from pandas import DataFrame\n",
    "import matplotlib.pyplot as plt\n",
    "from matplotlib.pyplot import rc_context\n",
    "from seaborn import scatterplot, displot, heatmap\n",
    "from pandas import read_csv, DataFrame\n",
    "\n",
    "%matplotlib inline\n",
    "# for white background of figures (only for docs rendering)\n",
    "%config InlineBackend.print_figure_kwargs={'facecolor' : \"w\"}\n",
    "%config InlineBackend.figure_format='retina'\n",
    "\n",
    "import warnings\n",
    "warnings.filterwarnings(action='ignore')"
   ]
  },
  {
   "cell_type": "markdown",
   "id": "5a99c837-93a6-4a2f-b6e6-385c3a8bf1e1",
   "metadata": {},
   "source": [
    "#### set notebook variables"
   ]
  },
  {
   "cell_type": "code",
   "execution_count": null,
   "id": "e8cfa4c7-f51f-433b-9281-4433dc183838",
   "metadata": {},
   "outputs": [],
   "source": [
    "# naming\n",
    "project = 'aging'\n",
    "\n",
    "# directories \n",
    "wrk_dir = '/home/jupyter/brain_aging_phase1'\n",
    "quants_dir = f'{wrk_dir}/demux'\n",
    "results_dir = f'{wrk_dir}/results'\n",
    "\n",
    "# in files\n",
    "in_file = f'{quants_dir}/{project}.pegasus.leiden_085.subclustered.h5ad'\n",
    "glmmtmb_file = f'{results_dir}/{project}.glmmtmb_age_diffs_fdr.csv'\n",
    "\n",
    "# variables\n",
    "DEBUG = False\n",
    "dpi_value = 50\n",
    "gene_sets = {'DAM': ['CST7', 'CSF1', 'LPL', 'APOE', 'SPP1', 'CD74', 'ITGAX'],\n",
    "             'CSS': ['CDKN2A', 'CDKN1A', 'CDKN2D', 'CASO8', 'IL1B', 'GLB1', 'SERPINE1'],\n",
    "             'CSP': ['CDKN2D', 'ETS2', 'RB1', 'E2F3', 'CDK6', 'RBL2', 'ATM', \n",
    "                     'BMI1', 'MDM2', 'CDK4', 'CCNE1'],\n",
    "             'SRP': ['IGFBP7', 'VIM', 'FN1', 'SPARC', 'IGFBP4', 'TIMP1', 'TBX2', \n",
    "                     'TBX3', 'COL1A1', 'COL3A1', 'IGFBP2', 'TGFB1I1', 'PTEN', \n",
    "                     'CD44', 'NFIA', 'CALR', 'TIMP2', 'CXCL8'],\n",
    "             'SIP': ['SOD1', 'MAP2K1', 'GSK3B', 'PIK3CA', 'SOD2', 'MAPK14', \n",
    "                     'IGF1R', 'TP53BP1', 'NBN', 'HRAS', 'CITED2', 'CREG1', \n",
    "                     'ABL1', 'MORC3', 'NFKB1', 'AKT1', 'CDKN1B', 'EGR1', \n",
    "                     'RBL1', 'MAP2K6', 'IGF1', 'IRF3', 'PCNA', 'GADD45A', \n",
    "                     'MAP2K3', 'IGFBP5', 'SIRT1', 'ING1', 'TGFB1', 'TERF2'], \n",
    "             'CellAge': ['PEBP1', 'PKM', 'CKB', 'AAK1', 'NUAK1', 'MAST1', \n",
    "                         'SORBS2', 'BRAF', 'SPIN1', 'MAP2K1', 'YPEL3', 'MAPK14', \n",
    "                         'PDPK1', 'TOP1', 'ITPK1', 'MATK', 'RPS6KA6', 'SPOP', \n",
    "                         'ITSN2', 'PDZD2', 'MAP2K2', 'LIMK1', 'DHCR24', 'PBRM1', \n",
    "                         'MAP3K7', 'SIN3B', 'SOX5', 'EWSR1', 'PDCD10', 'CPEB1', \n",
    "                         'NEK4', 'RB1', 'MCRS1', 'PNPT1', 'HRAS', 'STK32C', 'RAF1', \n",
    "                         'ETS2', 'SMARCB1', 'FASTK', 'SLC13A3', 'TRIM28', 'MORC3', \n",
    "                         'MAPKAPK5', 'MAP2K7', 'STK40', 'PMVK', 'CEBPB', 'GRK6', \n",
    "                         'STAT5B', 'CDKN1B', 'PDIK1L', 'AKT1', 'MAPK12', 'MAP2K6', \n",
    "                         'PIAS4', 'ADCK5', 'SMURF2', 'PCGF2', 'IRF3', 'PLA2R1', \n",
    "                         'TYK2', 'ERRFI1', 'BRD7', 'ING2', 'FBXO31', 'NADK', 'PTTG1', \n",
    "                         'BHLHE40', 'ASF1A', 'ING1', 'NINJ1', 'MXD4'], \n",
    "             'UniUp': ['TMEM159', 'CHPF2', 'SLC9A7', 'PLOD1', 'FAM2234B', 'DHRS7', \n",
    "                       'SRPX', 'SRPX2', 'TNFSF13B', 'PDLIM1', 'ELMOD1', 'CCND3', \n",
    "                       'TMEM30A', 'STAT1', 'RND3', 'TMEM59', 'SARAF', 'SLC16A14', \n",
    "                       'SLC02B1', 'ARRDC4', 'PAM', 'WDR78', 'NCSTN', 'GPR155', \n",
    "                       'CLDN1', 'JCAD', 'BLCAP', 'FILIP1L', 'TAP1', 'TNFRSF10C', \n",
    "                       'SAMD9L', 'SMC03', 'POFUT2', 'KIAA1671', 'LRP10', 'BMS1P9', \n",
    "                       'MAP4K3-DT', 'AC002480.1', 'LINC02154', 'TM4SF1-AS1', \n",
    "                       'PTCHD4', 'H2AFJ', 'PURPL'],\n",
    "             'UniDown': ['MCUB', 'FBL', 'HIST1H1D', 'HIST1H1A', 'FAM129A', \n",
    "                         'ANP32B', 'PARP1', 'LBR', 'SSRP1', 'TMSB15A', \n",
    "                         'CBS', 'CDCA7L', 'HIST1H1E', 'CBX2', 'PTMA', 'HIST2H2AB', \n",
    "                         'ITPRIPL1', 'AC074135.1'] \n",
    "            }\n",
    "# exclude_cell_types = ['uncertain', 'uncertain-2', 'uncertain-3', 'Astrocyte-GFAP-Hi']\n",
    "exclude_cell_types = ['Astrocyte-GFAP-Hi']\n",
    "seed(42)"
   ]
  },
  {
   "cell_type": "markdown",
   "id": "1f0ba2c8-356f-4bb2-9601-07e7dfe3cb19",
   "metadata": {},
   "source": [
    "#### utilitiy functions"
   ]
  },
  {
   "cell_type": "code",
   "execution_count": null,
   "id": "420746ad-e222-43cc-8c2b-eb8a71f9b47c",
   "metadata": {},
   "outputs": [],
   "source": [
    "def test_score_normality(scores):\n",
    "    stat, p = shapiro(scores)\n",
    "    if p > 0.05:\n",
    "        print(f'by Shapiro is Gaussian p={p}, stat={stat}')\n",
    "    else:\n",
    "        print(f'by Shapiro is not Gaussian p={p}, stat={stat}')\n",
    "    stat, p = kstest(scores, norm.cdf)\n",
    "    if p > 0.05:\n",
    "        print(f'by Kolmogorov-Smirnov is Gaussian p={p}, stat={stat}')\n",
    "    else:\n",
    "        print(f'by Kolmogorov-Smirnov is not Gaussian p={p}, stat={stat}')\n",
    "    \n",
    "    \n",
    "def score_gene_set(data: AnnData, set_name: str, genes: list, iter_cnt: int=100, \n",
    "                   num_devs: int=2, verbose: bool=False):\n",
    "    print(f'scoring {set_name}')\n",
    "    score_name = f'{set_name}_score'\n",
    "    scores = ndarray(shape=(data.obs.shape[0], iter_cnt), dtype=float)\n",
    "    print('bootstrapping score_genes', end='.')\n",
    "    for index in range(0, iter_cnt):\n",
    "        print(index, end='.')\n",
    "        genes = list(set(genes) & set(data.var.index))\n",
    "        temp_data = sc.tl.score_genes(data, genes, score_name=score_name, \n",
    "                                      copy=True, random_state=randint(0, 9999))\n",
    "        scores[:,index] = temp_data.obs[score_name]\n",
    "    data.obs[score_name] = scores.mean(axis=1)\n",
    "    # binarize score\n",
    "    data.obs[f'is{set_name}'] = zscore(scores.mean(axis=1)) > num_devs\n",
    "    # test normality of score\n",
    "    test_score_normality(data.obs[score_name])\n",
    "    # plot score distribution\n",
    "    with rc_context({'figure.figsize': (9, 9), 'figure.dpi': dpi_value}):\n",
    "        plt.style.use('seaborn-bright')\n",
    "        displot(x=score_name, data=data.obs, kind='kde')\n",
    "    # plot standardized score distribution\n",
    "    with rc_context({'figure.figsize': (9, 9), 'figure.dpi': dpi_value}):\n",
    "        plt.style.use('seaborn-bright')\n",
    "        displot(x=zscore(scores.mean(axis=1)), kind='kde')\n",
    "        plt.show()\n",
    "    \n",
    "    data.obs[f'is{set_name}'].replace({True: set_name, False: f'non{set_name}'}, inplace=True)\n",
    "    # find proportion of total cells where condition exists\n",
    "    positive_cnt = data.obs.loc[data.obs[f'is{set_name}'] == set_name].shape[0]\n",
    "    total_cnt = data.obs.shape[0]\n",
    "    positive_frac = round(positive_cnt/total_cnt, 3)\n",
    "    print(f'\\nFractions of cells positive for {set_name} is {positive_frac} or \\\n",
    "{positive_cnt} of {total_cnt}')        \n",
    "    print('visualizing', end='.')\n",
    "    \n",
    "    # show positive cells by Age\n",
    "    with rc_context({'figure.figsize': (9, 9), 'figure.dpi': dpi_value}):\n",
    "        plt.style.use('seaborn-bright')\n",
    "        scatterplot(x='Age', y=score_name, data=data.obs, hue=f'is{set_name}')    \n",
    "    # show dotplots of genes by cell-type and age group\n",
    "    this_set = list(set(genes) & set(data.var.index))\n",
    "    with rc_context({'figure.figsize': (9, 9), 'figure.dpi': dpi_value}):\n",
    "        plt.style.use('seaborn-bright')\n",
    "        sc.pl.dotplot(data, this_set, groupby='new_anno', \n",
    "                      mean_only_expressed=True)\n",
    "    with rc_context({'figure.figsize': (9, 9), 'figure.dpi': dpi_value}):\n",
    "        plt.style.use('seaborn-bright')\n",
    "        sc.pl.dotplot(data, this_set, groupby='Age_group', \n",
    "                      mean_only_expressed=True)\n",
    "    with rc_context({'figure.figsize': (9, 9), 'figure.dpi': dpi_value}):\n",
    "        plt.style.use('seaborn-bright')\n",
    "        sc.pl.dotplot(data, this_set, groupby=f'is{set_name}', \n",
    "                      mean_only_expressed=True)\n",
    "        \n",
    "    # visualize umap of positive cells and score\n",
    "    pos_data = data[data.obs[f'is{set_name}'] == set_name]\n",
    "    with rc_context({'figure.figsize': (9, 9), 'figure.dpi': dpi_value}):\n",
    "        plt.style.use('seaborn-bright')\n",
    "        sc.pl.umap(pos_data, color=['new_anno', score_name], legend_loc='on data')\n",
    "    # visualize binarized score\n",
    "    sc.tl.embedding_density(data, groupby=f'is{set_name}')\n",
    "    with rc_context({'figure.figsize': (9, 9), 'figure.dpi': dpi_value}):\n",
    "        plt.style.use('seaborn-bright')\n",
    "        sc.pl.embedding_density(data, groupby=f'is{set_name}')\n",
    "        \n",
    "    # get counts by cell-type and brain region\n",
    "    display(data.obs.groupby('new_anno')[f'is{set_name}'].value_counts())\n",
    "    display(data.obs.groupby('Brain_region')[f'is{set_name}'].value_counts())\n",
    "    return positive_frac\n",
    "\n",
    "def score_broad_celltypes_for_set(name: str, genes: list, adata: AnnData) -> dict:\n",
    "    set_scores = {}\n",
    "    for target_cell_type in adata.obs.broad_celltype.unique():\n",
    "        print(f'#### {target_cell_type} ####')\n",
    "        sdata = adata[adata.obs.broad_celltype == target_cell_type]\n",
    "        score = score_gene_set(sdata, name, genes, iter_cnt=10, verbose=DEBUG)\n",
    "        set_scores[target_cell_type] = score\n",
    "    return set_scores"
   ]
  },
  {
   "cell_type": "markdown",
   "id": "5ac2d3f7-523d-407e-a438-81a896c5d57e",
   "metadata": {},
   "source": [
    "### read the anndata (h5ad) file"
   ]
  },
  {
   "cell_type": "code",
   "execution_count": null,
   "id": "43f47a32-e84f-4436-809a-7102a76d28c5",
   "metadata": {},
   "outputs": [],
   "source": [
    "%%time\n",
    "adata = sc.read(in_file, cache=True)\n",
    "print(adata)"
   ]
  },
  {
   "cell_type": "markdown",
   "id": "e9a06187-2748-41ce-ae19-2c6ab94d9519",
   "metadata": {},
   "source": [
    "### Plot the clusters"
   ]
  },
  {
   "cell_type": "code",
   "execution_count": null,
   "id": "074bec24-a83a-4d53-8b6c-7465fe6e7430",
   "metadata": {},
   "outputs": [],
   "source": [
    "with rc_context({'figure.figsize': (9, 9), 'figure.dpi': dpi_value}):\n",
    "    plt.style.use('seaborn-bright')\n",
    "    sc.pl.umap(adata, color=['new_anno', 'broad_celltype'], legend_loc='on data')"
   ]
  },
  {
   "cell_type": "code",
   "execution_count": null,
   "id": "b59478db-d073-4f85-bf4b-bc4eadcc304a",
   "metadata": {},
   "outputs": [],
   "source": [
    "adata.obs.broad_celltype.value_counts()"
   ]
  },
  {
   "cell_type": "markdown",
   "id": "cbe72e30-1e89-44e8-9d29-52a85cd745b0",
   "metadata": {},
   "source": [
    "### remove cell-types that are known excludes"
   ]
  },
  {
   "cell_type": "code",
   "execution_count": null,
   "id": "7ee61cce-a085-4cc2-bbc0-7e7629e21ee3",
   "metadata": {},
   "outputs": [],
   "source": [
    "adata = adata[~adata.obs.new_anno.isin(exclude_cell_types)]\n",
    "print(adata)"
   ]
  },
  {
   "cell_type": "markdown",
   "id": "77d6a32f-d427-4f1b-8f5f-18ca991ed7f7",
   "metadata": {},
   "source": [
    "### replot the clusters without the excluded celltypes"
   ]
  },
  {
   "cell_type": "code",
   "execution_count": null,
   "id": "16e0d27c-a3e4-472e-aebc-8958754641fb",
   "metadata": {},
   "outputs": [],
   "source": [
    "with rc_context({'figure.figsize': (9, 9), 'figure.dpi': dpi_value}):\n",
    "    plt.style.use('seaborn-bright')\n",
    "    sc.pl.umap(adata, color=['new_anno', 'broad_celltype'], legend_loc='on data')"
   ]
  },
  {
   "cell_type": "code",
   "execution_count": null,
   "id": "0f33c4a5-210d-4a90-83b4-aa0954e28651",
   "metadata": {},
   "outputs": [],
   "source": [
    "adata.obs.new_anno.value_counts()"
   ]
  },
  {
   "cell_type": "code",
   "execution_count": null,
   "id": "4276bce0-0d56-48b2-834c-f72d8342cb43",
   "metadata": {},
   "outputs": [],
   "source": [
    "adata.obs.broad_celltype.value_counts()"
   ]
  },
  {
   "cell_type": "markdown",
   "id": "176b30bb-c339-43cd-bb2d-f53286076a06",
   "metadata": {},
   "source": [
    "### score the DAM"
   ]
  },
  {
   "cell_type": "code",
   "execution_count": null,
   "id": "bc45d6be-1b66-4aac-83e4-5e46af3e66b9",
   "metadata": {},
   "outputs": [],
   "source": [
    "%%time\n",
    "mg_data = adata[adata.obs.broad_celltype == 'Microglia'].copy()\n",
    "print(mg_data)\n",
    "score_gene_set(mg_data, 'DAM', gene_sets['DAM'], iter_cnt=10, num_devs=1, verbose=DEBUG)"
   ]
  },
  {
   "cell_type": "markdown",
   "id": "6ff15d3c-4914-4373-a715-aa5eb6bc70ce",
   "metadata": {},
   "source": [
    "### score the CSS, custom senescence signature"
   ]
  },
  {
   "cell_type": "code",
   "execution_count": null,
   "id": "3853394b-34e2-4b2d-bf87-86a8543a7c0d",
   "metadata": {},
   "outputs": [],
   "source": [
    "%%time\n",
    "scores = {}\n",
    "this_set = 'CSS'\n",
    "scores[this_set] = score_broad_celltypes_for_set(this_set, gene_sets[this_set], adata)"
   ]
  },
  {
   "cell_type": "markdown",
   "id": "92817607-a45b-46d1-9866-c9f6cfbe0820",
   "metadata": {},
   "source": [
    "### score the CSP, Canonical Senescence Pathway"
   ]
  },
  {
   "cell_type": "code",
   "execution_count": null,
   "id": "f55453e8-720b-4168-9756-47619e4d93e1",
   "metadata": {},
   "outputs": [],
   "source": [
    "%%time\n",
    "this_set = 'CSP'\n",
    "scores[this_set] = score_broad_celltypes_for_set(this_set, gene_sets[this_set], adata)    "
   ]
  },
  {
   "cell_type": "markdown",
   "id": "3890835e-93ff-4a0d-acf8-b4ec16c59b2c",
   "metadata": {},
   "source": [
    "### score the SRP, Senescence Response pathway"
   ]
  },
  {
   "cell_type": "code",
   "execution_count": null,
   "id": "76f67d67-7ff6-450b-8135-b13841624766",
   "metadata": {},
   "outputs": [],
   "source": [
    "%%time\n",
    "this_set = 'SRP'\n",
    "scores[this_set] = score_broad_celltypes_for_set(this_set, gene_sets[this_set], adata)        "
   ]
  },
  {
   "cell_type": "markdown",
   "id": "b1550980-62c0-496c-8f31-a50c059651f8",
   "metadata": {},
   "source": [
    "### score the SIP, Senescence Initiating pathway"
   ]
  },
  {
   "cell_type": "code",
   "execution_count": null,
   "id": "994daa05-f61f-4e8f-a24c-4e15cb6d6447",
   "metadata": {},
   "outputs": [],
   "source": [
    "%%time\n",
    "this_set = 'SIP'\n",
    "scores[this_set] = score_broad_celltypes_for_set(this_set, gene_sets[this_set], adata)      "
   ]
  },
  {
   "cell_type": "markdown",
   "id": "b24589bd-8292-493c-98ab-d091e2442fca",
   "metadata": {},
   "source": [
    "### score the CellAge"
   ]
  },
  {
   "cell_type": "code",
   "execution_count": null,
   "id": "18e29467-cfc4-4f09-b59a-aca52cc90813",
   "metadata": {},
   "outputs": [],
   "source": [
    "%%time\n",
    "this_set = 'CellAge'\n",
    "scores[this_set] = score_broad_celltypes_for_set(this_set, gene_sets[this_set], adata)      "
   ]
  },
  {
   "cell_type": "markdown",
   "id": "809381df-826c-4529-bb4d-53d043b72919",
   "metadata": {},
   "source": [
    "### score the UniUp"
   ]
  },
  {
   "cell_type": "code",
   "execution_count": null,
   "id": "546bc1c8-e654-4b7d-9262-a38ee389f89a",
   "metadata": {},
   "outputs": [],
   "source": [
    "%%time\n",
    "this_set = 'UniUp'\n",
    "scores[this_set] = score_broad_celltypes_for_set(this_set, gene_sets[this_set], adata)       "
   ]
  },
  {
   "cell_type": "markdown",
   "id": "a4d74e52-37ac-4d89-9c4b-1f53644b2797",
   "metadata": {},
   "source": [
    "### score the UniDown"
   ]
  },
  {
   "cell_type": "code",
   "execution_count": null,
   "id": "81b14d74-e659-4007-babb-a7749e0f97ce",
   "metadata": {},
   "outputs": [],
   "source": [
    "%%time\n",
    "this_set = 'UniDown'\n",
    "scores[this_set] = score_broad_celltypes_for_set(this_set, gene_sets[this_set], adata)     "
   ]
  },
  {
   "cell_type": "markdown",
   "id": "3229afc2-4689-4368-a970-26f1a6ab5929",
   "metadata": {},
   "source": [
    "### score all combined"
   ]
  },
  {
   "cell_type": "markdown",
   "id": "6a86b441-7fae-40f7-a52f-08818b609dc8",
   "metadata": {},
   "source": [
    "#### combine the senescence gene sets into single marker set"
   ]
  },
  {
   "cell_type": "code",
   "execution_count": null,
   "id": "f9ceea36-e295-45d0-934e-bb82904f613c",
   "metadata": {},
   "outputs": [],
   "source": [
    "marker_set = []\n",
    "for name, genes in gene_sets.items():\n",
    "    marker_set.extend(genes)\n",
    "marker_set = list(set(marker_set))    \n",
    "print(f'lenght of marker set is {len(marker_set)}')\n",
    "\n",
    "if DEBUG:\n",
    "    print(marker_set)"
   ]
  },
  {
   "cell_type": "code",
   "execution_count": null,
   "id": "0b140ede-632b-4979-867f-1e2283530f16",
   "metadata": {},
   "outputs": [],
   "source": [
    "%%time\n",
    "this_set = 'All'\n",
    "scores[this_set] = score_broad_celltypes_for_set(this_set, marker_set, adata)"
   ]
  },
  {
   "cell_type": "markdown",
   "id": "36207082-bd7c-4ada-b369-5b356bd7e3bd",
   "metadata": {},
   "source": [
    "### visualize the senescent cells fractions by cell-type and senescent gene mark sets"
   ]
  },
  {
   "cell_type": "code",
   "execution_count": null,
   "id": "e63c5b66-6ec4-427f-8ef3-477a20fb94a0",
   "metadata": {},
   "outputs": [],
   "source": [
    "fracs_by_set = DataFrame.from_dict(scores).sort_index()\n",
    "print(f'shape of fractions dataframe is {fracs_by_set.shape}')\n",
    "if DEBUG:\n",
    "    display(fracs_by_set)"
   ]
  },
  {
   "cell_type": "code",
   "execution_count": null,
   "id": "82d01958-120c-4828-a4cb-c89d6c140d16",
   "metadata": {},
   "outputs": [],
   "source": [
    "with rc_context({'figure.figsize': (9, 9), 'figure.dpi': 50}):\n",
    "    plt.style.use('seaborn-bright')    \n",
    "    heatmap(fracs_by_set, annot=True, \n",
    "            annot_kws={\"fontsize\":10}, linewidths=0.05, cmap='Blues')    \n",
    "    plt.title(f'Fraction of cells identified as senescent')\n",
    "    plt.show()"
   ]
  },
  {
   "cell_type": "markdown",
   "id": "12b3f292-7fea-4710-91b2-711eff0d6a04",
   "metadata": {},
   "source": [
    "### check diff expression by age results"
   ]
  },
  {
   "cell_type": "markdown",
   "id": "d7a580ad-5a61-4762-8ba6-d8b345bf45f2",
   "metadata": {},
   "source": [
    "#### load the GLMMTMB results"
   ]
  },
  {
   "cell_type": "code",
   "execution_count": null,
   "id": "47c9c3dd-59f4-45a8-86e3-92b7c7e59e12",
   "metadata": {},
   "outputs": [],
   "source": [
    "diff_df = read_csv(glmmtmb_file)\n",
    "print(f'diff df shape {diff_df.shape}')\n",
    "if DEBUG:\n",
    "    display(diff_df.head())"
   ]
  },
  {
   "cell_type": "markdown",
   "id": "b505ca62-3c58-4bca-a26d-0a1da7352509",
   "metadata": {},
   "source": [
    "#### check each gene set in both region and cell-type"
   ]
  },
  {
   "cell_type": "code",
   "execution_count": null,
   "id": "bb8b6b27-9e88-4919-9014-c512ba1b8aae",
   "metadata": {},
   "outputs": [],
   "source": [
    "results = []\n",
    "for result_type in ['brain_region', 'broad_type']:\n",
    "    temp_diff_df = diff_df.loc[diff_df.type == result_type]\n",
    "    tissues = temp_diff_df.tissue.unique()\n",
    "    for tissue in tissues:\n",
    "        for name, gene_set in gene_sets.items():\n",
    "            # found = temp_diff_df.loc[(temp_diff_df.tissue == tissue) & \n",
    "            #                          (temp_diff_df.estimate > 0) & \n",
    "            #                          (temp_diff_df.feature.isin(gene_set))]\n",
    "            # removing restriction that change is increasing\n",
    "            found = temp_diff_df.loc[(temp_diff_df.tissue == tissue) & \n",
    "                                     (temp_diff_df.feature.isin(gene_set))]            \n",
    "            proportion = round(found.shape[0]/len(gene_set), 3)\n",
    "            # print(name, gene_set)\n",
    "            print(result_type, tissue, name, len(gene_set), proportion)\n",
    "            results.append([result_type, tissue, name, len(gene_set), proportion])"
   ]
  },
  {
   "cell_type": "markdown",
   "id": "3de060f5-fd3a-4713-a110-21c8be1ad67c",
   "metadata": {},
   "source": [
    "#### format results as dataframe and pivot as necessary"
   ]
  },
  {
   "cell_type": "code",
   "execution_count": null,
   "id": "dbe87381-92ef-4d38-8fbe-7ee9804f3d2e",
   "metadata": {},
   "outputs": [],
   "source": [
    "results_df = DataFrame(results, columns=['type', 'tissue', 'score_type', 'score_features', 'fraction'])\n",
    "print(f'results df shape{results_df.shape}')\n",
    "if DEBUG:\n",
    "    display(results_df.head())"
   ]
  },
  {
   "cell_type": "code",
   "execution_count": null,
   "id": "7d418323-c1ce-48ac-b9f8-84c360d75c9d",
   "metadata": {},
   "outputs": [],
   "source": [
    "results_pv = results_df.pivot(index=['type', 'tissue'], columns='score_type', values='fraction')\n",
    "print(f'result pivot shape {results_pv.shape}')\n",
    "if DEBUG:\n",
    "    display(results_pv.head())"
   ]
  },
  {
   "cell_type": "markdown",
   "id": "69d90b35-803b-4fd8-9516-41be7c164783",
   "metadata": {},
   "source": [
    "#### visualize the reformated data as a heatmap"
   ]
  },
  {
   "cell_type": "code",
   "execution_count": null,
   "id": "6e4a0e44-3822-4444-bab8-7ad6c424df19",
   "metadata": {},
   "outputs": [],
   "source": [
    "with rc_context({'figure.figsize': (9, 9), 'figure.dpi': 50}):\n",
    "    plt.style.use('seaborn-bright')    \n",
    "    heatmap(results_pv.droplevel(0), annot=True, \n",
    "            annot_kws={\"fontsize\":10}, linewidths=0.05, cmap='Blues')    \n",
    "    plt.title(f'Fraction of gene set with changed expression by age')\n",
    "    plt.show()"
   ]
  },
  {
   "cell_type": "code",
   "execution_count": null,
   "id": "025ef6b1-0d13-4298-ae9a-9549b3210901",
   "metadata": {},
   "outputs": [],
   "source": [
    "for name, gene_set in gene_sets.items():\n",
    "    print(name, len(gene_set))"
   ]
  },
  {
   "cell_type": "code",
   "execution_count": null,
   "id": "4c5eba30-3730-4cc8-af15-bed29837bc1e",
   "metadata": {},
   "outputs": [],
   "source": [
    "!date"
   ]
  },
  {
   "cell_type": "code",
   "execution_count": null,
   "id": "5c45f776-88ed-4900-9dec-4e5ae157a826",
   "metadata": {},
   "outputs": [],
   "source": []
  }
 ],
 "metadata": {
  "environment": {
   "kernel": "python3",
   "name": "pytorch-gpu.1-13.m107",
   "type": "gcloud",
   "uri": "gcr.io/deeplearning-platform-release/pytorch-gpu.1-13:m107"
  },
  "kernelspec": {
   "display_name": "Python 3",
   "language": "python",
   "name": "python3"
  },
  "language_info": {
   "codemirror_mode": {
    "name": "ipython",
    "version": 3
   },
   "file_extension": ".py",
   "mimetype": "text/x-python",
   "name": "python",
   "nbconvert_exporter": "python",
   "pygments_lexer": "ipython3",
   "version": "3.7.12"
  }
 },
 "nbformat": 4,
 "nbformat_minor": 5
}
