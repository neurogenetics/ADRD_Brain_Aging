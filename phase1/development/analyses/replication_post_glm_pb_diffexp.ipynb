{
 "cells": [
  {
   "cell_type": "markdown",
   "id": "c4a28b61",
   "metadata": {},
   "source": [
    "## Notebook to run post processing of differential expression in single-cell data for glm pseudo-bulk based analysis\n",
    "\n",
    "basically \n",
    "- read glm results per region and cell-type and then integrate them\n",
    "- apply B&H FDR \n",
    "- take a look at overlap between brain regions and cell-types do some sample plotting"
   ]
  },
  {
   "cell_type": "code",
   "execution_count": null,
   "id": "39796b9e",
   "metadata": {},
   "outputs": [],
   "source": [
    "!date"
   ]
  },
  {
   "cell_type": "markdown",
   "id": "5a70e5d1",
   "metadata": {},
   "source": [
    "#### import libraries"
   ]
  },
  {
   "cell_type": "code",
   "execution_count": null,
   "id": "d3da14e3",
   "metadata": {},
   "outputs": [],
   "source": [
    "from anndata import AnnData\n",
    "import numpy as np\n",
    "from pandas import DataFrame, concat, read_csv, Series, set_option as pd_set_option\n",
    "import scanpy as sc\n",
    "from statsmodels.stats.multitest import multipletests\n",
    "import matplotlib.pyplot as plt\n",
    "import seaborn as sns\n",
    "from matplotlib.pyplot import rc_context\n",
    "import json\n",
    "from os.path import exists\n",
    "from sklearn.preprocessing import MinMaxScaler\n",
    "\n",
    "import warnings\n",
    "warnings.simplefilter('ignore')\n",
    "\n",
    "import random\n",
    "random.seed(420)"
   ]
  },
  {
   "cell_type": "markdown",
   "id": "62b9fb3f-53f5-44fd-b7ec-90eb6edef50a",
   "metadata": {},
   "source": [
    "#### set notebook variables"
   ]
  },
  {
   "cell_type": "code",
   "execution_count": null,
   "id": "390c6563",
   "metadata": {},
   "outputs": [],
   "source": [
    "# parameters\n",
    "project = 'aging_phase1'\n",
    "set_name = f'{project}_replication'\n",
    "cohort = 'aging'\n",
    "\n",
    "# directories for initial setup\n",
    "wrk_dir = '/labshare/raph/datasets/adrd_neuro/brain_aging/phase1'\n",
    "replication_dir = f'{wrk_dir}/replication'\n",
    "\n",
    "# in files\n",
    "anndata_file = f'{replication_dir}/{set_name}.scvi.h5ad'\n",
    "tissue_result_file = '{this_dir}/{name}_glm_pb_age_diffs.csv'\n",
    "\n",
    "# out files\n",
    "results_file = f'{replication_dir}/{set_name}.glm_pb_age_diffs.csv'\n",
    "results_fdr_file = f'{replication_dir}/{set_name}.glm_pb_age_diffs_fdr.csv'\n",
    "\n",
    "# constants\n",
    "DEBUG = True\n",
    "SCVI_NORMALIZED_KEY = 'scvi_normalized'\n",
    "pd_set_option('display.max_rows', 500)"
   ]
  },
  {
   "cell_type": "markdown",
   "id": "d0b9bf1f",
   "metadata": {},
   "source": [
    "#### analysis functions"
   ]
  },
  {
   "cell_type": "code",
   "execution_count": null,
   "id": "ae87f26f",
   "metadata": {},
   "outputs": [],
   "source": [
    "def read_glm_results(cell_name: str, result_type: str, in_file: str) -> DataFrame:\n",
    "    this_df = read_csv(in_file)\n",
    "    this_df['tissue'] = cell_name\n",
    "    this_df['type'] = result_type\n",
    "    return this_df\n",
    "\n",
    "def compute_bh_fdr(df: DataFrame, alpha: float=0.05, p_col: str='p-value',\n",
    "                   method: str='fdr_bh', verbose: bool=True) -> DataFrame:\n",
    "    ret_df = df.copy()\n",
    "    test_adjust = multipletests(np.array(ret_df[p_col]), alpha=alpha, \n",
    "                                method=method)\n",
    "    ret_df[method] = test_adjust[1]\n",
    "    if verbose:\n",
    "        print(f'total significant after correction: {ret_df.loc[ret_df[method] < alpha].shape}')\n",
    "    return ret_df\n",
    "\n",
    "def compute_frmt_pb(df: DataFrame, feature: str) -> DataFrame:\n",
    "    ret_df = df[[feature, 'Sample_ID']].groupby('Sample_ID').mean()\n",
    "    ret_df = ret_df.merge(df[['Sample_ID', 'old', 'female']].drop_duplicates(), \n",
    "                          how='left', left_index=True, right_on='Sample_ID')\n",
    "    return ret_df\n",
    "\n",
    "def plot_feature_by_age_group(df: DataFrame, x_term: str, y_term: str):\n",
    "    plt.figure(figsize=(9,9))\n",
    "    pb_df = compute_frmt_pb(df, y_term)\n",
    "    sns.boxenplot(x=x_term,y=y_term, scale='exponential', data=pb_df,\n",
    "                  k_depth='trustworthy')\n",
    "    grsplt = sns.stripplot(x=x_term,y=y_term, data=pb_df, alpha=0.75,\n",
    "                           jitter=True, color='darkgrey')\n",
    "    plt.title(f'{y_term} ~ {x_term}', fontsize='large') \n",
    "    plt.xlabel(x_term)\n",
    "    plt.ylabel(y_term)\n",
    "    plt.show()\n",
    "    \n",
    "def plot_feature_by_sample(df: DataFrame, x_term: str, y_term: str):\n",
    "    # set up order by young then old\n",
    "    temp = df.groupby('Age_group')['Sample_ID'].unique()\n",
    "    this_list = temp['young'].to_list() + temp['old'].to_list() \n",
    "    plt.figure(figsize=(9,9))\n",
    "    sns.boxenplot(x='Sample_ID',y=y_term, scale='exponential', data=df,\n",
    "                  k_depth='trustworthy', hue=x_term, order=this_list)\n",
    "    grsplt = sns.stripplot(x='Sample_ID',y=y_term, data=df, alpha=0.75,\n",
    "                           jitter=True, color='darkgrey', order=this_list)\n",
    "    plt.xticks(rotation=75)\n",
    "    plt.title(f'{y_term} ~ {x_term}', fontsize='large') \n",
    "    plt.xlabel('Sample')\n",
    "    plt.ylabel(y_term)\n",
    "    plt.show()    \n",
    "    \n",
    "def volcano_plot(df: DataFrame, x_term: str='coef', y_term: str='p-value', \n",
    "                 alpha: float=0.05, adj_p_col: str='fdr_bh', title: str=None, \n",
    "                 filter_nseeff: bool=True, extreme_size: float=10.0):\n",
    "    if filter_nseeff:\n",
    "        df = df.loc[((-extreme_size < df[x_term]) & \n",
    "                    (df[x_term] < extreme_size) &\n",
    "                    (~df['z'].isna()) | \n",
    "                    (df[adj_p_col] < alpha))]\n",
    "    plt.figure(figsize=(9,9))\n",
    "    log_pvalue = -np.log10(df[y_term])\n",
    "    is_sig = df[adj_p_col] < alpha\n",
    "    sns.scatterplot(x=x_term, y=log_pvalue, data=df, hue=is_sig, palette='Purples')\n",
    "    plt.title(title)\n",
    "    plt.xlabel('effect')\n",
    "    plt.ylabel('-log10(p-value)')\n",
    "    plt.show()\n",
    "    \n",
    "def prep_plot_feature(data: AnnData, feature_results: Series, \n",
    "                      group: str='old'):\n",
    "    this_df = convert_ad_to_df(data)\n",
    "    print(feature_results)\n",
    "    sns.set_theme(style='white', palette='Paired', font_scale=1.2)\n",
    "    plot_feature_by_age_group(this_df, group, feature_results.feature)\n",
    "    plot_feature_by_sample(this_df, group, feature_results.feature)\n",
    "    \n",
    "def subset_anndata(data: AnnData, cell_name: str, reapply_filter: bool=True, \n",
    "                   min_cell_count: int=3, verbose: bool=False) -> AnnData:\n",
    "    this_data = data[(data.obs.Cell_type == cell_name)].copy()\n",
    "    shape_before = this_data.shape\n",
    "    if reapply_filter:\n",
    "        sc.pp.filter_genes(this_data, min_counts=min_cell_count)\n",
    "        sc.pp.filter_cells(this_data, min_counts=min_cell_count)\n",
    "        shape_after = this_data.shape\n",
    "    if verbose:\n",
    "        print(f'subset complete, shape before and after: {shape_before} {shape_after}')\n",
    "        print(this_data)\n",
    "    return this_data  \n",
    "\n",
    "def scale_dataframe(this_df : DataFrame):\n",
    "    scaledX = MinMaxScaler().fit_transform(this_df)\n",
    "    scaled_df = DataFrame(data=scaledX, columns=this_df.columns, \n",
    "                          index=this_df.index) \n",
    "    return scaled_df\n",
    "\n",
    "def convert_ad_to_df(data: AnnData, young_age_limit: float=30.0, \n",
    "                     scale: bool=True, verbose: bool=False) -> DataFrame:\n",
    "    data_df = data.to_df(SCVI_NORMALIZED_KEY)\n",
    "    if scale:\n",
    "        data_df = scale_dataframe(data_df)\n",
    "    annots = data.obs[['Sample_ID', 'Age','Sex']].copy()\n",
    "    annots['old'] = np.where((annots['Age'] > young_age_limit), 1, 0)\n",
    "    annots['Age_group'] = np.where((annots['Age'] > young_age_limit), 'old', 'young')\n",
    "    annots['female'] = np.where((annots['Sex'] == 'female'), 1, 0)\n",
    "    this_df = None\n",
    "    if data_df.index.equals(annots.index):\n",
    "        this_df = concat([data_df, annots], axis='columns')\n",
    "        this_df.index.name = 'barcodekey'\n",
    "        if verbose:\n",
    "            print(f'anndata to pandas df complete: {this_df.shape}')\n",
    "            print(this_df.shape)\n",
    "            display(this_df.head())\n",
    "    return this_df"
   ]
  },
  {
   "cell_type": "markdown",
   "id": "4de70fb5-b83f-4728-b14d-e14af2a63434",
   "metadata": {},
   "source": [
    "### load discovery cohort data"
   ]
  },
  {
   "cell_type": "markdown",
   "id": "6d50f91b",
   "metadata": {},
   "source": [
    "#### read the anndata (h5ad) file"
   ]
  },
  {
   "cell_type": "code",
   "execution_count": null,
   "id": "9dfbf146",
   "metadata": {},
   "outputs": [],
   "source": [
    "%%time\n",
    "adata = sc.read(anndata_file, cache=True)\n",
    "print(adata)\n",
    "if DEBUG:\n",
    "    display(adata.obs.sample(5))"
   ]
  },
  {
   "cell_type": "markdown",
   "id": "1a1cba8e",
   "metadata": {},
   "source": [
    "#### take a look at the cell counts by cell type"
   ]
  },
  {
   "cell_type": "markdown",
   "id": "f585bab3-0900-4780-8cfb-016680cc0fe7",
   "metadata": {},
   "source": [
    "### get the lists of broad cell types"
   ]
  },
  {
   "cell_type": "code",
   "execution_count": null,
   "id": "75acd0de-e6f8-4255-b276-3c1746f1fca0",
   "metadata": {},
   "outputs": [],
   "source": [
    "broad_cell_types = list(adata.obs.Cell_type.unique())\n",
    "print(len(broad_cell_types))\n",
    "print(broad_cell_types)\n",
    "brain_regions = list(adata.obs.Brain_region.unique())\n",
    "print(len(brain_regions))\n",
    "print(brain_regions)"
   ]
  },
  {
   "cell_type": "markdown",
   "id": "0c2ce0d5",
   "metadata": {},
   "source": [
    "### read the diff by age results by region and cell-type"
   ]
  },
  {
   "cell_type": "code",
   "execution_count": null,
   "id": "6d48b911-cacb-4671-b2b7-62daef3377ef",
   "metadata": {},
   "outputs": [],
   "source": [
    "%%time\n",
    "\n",
    "glm_results = None\n",
    "for cell_type in broad_cell_types:\n",
    "    cell_name = f'Frontal_cortex_{cell_type}'\n",
    "    print(f'--- {cell_name}')\n",
    "    this_type = 'broad_celltype'\n",
    "    this_file = tissue_result_file.format(this_dir=replication_dir, \n",
    "                                          name=cell_name.replace(\" \", \"_\"))\n",
    "    if exists(this_file):\n",
    "        glm_results = concat([glm_results, read_glm_results(cell_name, this_type, \n",
    "                                                            this_file)])"
   ]
  },
  {
   "cell_type": "code",
   "execution_count": null,
   "id": "43989811-bdf0-4b40-b171-131b56348e32",
   "metadata": {},
   "outputs": [],
   "source": [
    "print(f'shape of all load results {glm_results.shape}')\n",
    "if DEBUG:\n",
    "    display(glm_results.type.value_counts())\n",
    "    display(glm_results.groupby('type').tissue.value_counts())    \n",
    "    display(glm_results.sample(5))"
   ]
  },
  {
   "cell_type": "markdown",
   "id": "77cb1ff6",
   "metadata": {},
   "source": [
    "### compute the FDR values"
   ]
  },
  {
   "cell_type": "code",
   "execution_count": null,
   "id": "9c6d5a64",
   "metadata": {},
   "outputs": [],
   "source": [
    "glm_results['p-value'] = glm_results['p-value'].fillna(1)\n",
    "glm_results = compute_bh_fdr(glm_results)\n",
    "print(glm_results.shape)\n",
    "if DEBUG:\n",
    "    display(glm_results.sort_values('fdr_bh').head())"
   ]
  },
  {
   "cell_type": "code",
   "execution_count": null,
   "id": "12c47187-683b-43ea-a15f-e93258ff2389",
   "metadata": {},
   "outputs": [],
   "source": [
    "with rc_context({'figure.figsize': (9, 9)}):\n",
    "    sns.scatterplot(data=glm_results, x=glm_results['fdr_bh'], y=glm_results['p-value'])\n",
    "    plt.axhline(y=0.05, linestyle='--')\n",
    "    plt.axvline(x=0.05, linestyle='--')\n",
    "    plt.show()"
   ]
  },
  {
   "cell_type": "markdown",
   "id": "02a1a226",
   "metadata": {},
   "source": [
    "### count of significant genes by brain region"
   ]
  },
  {
   "cell_type": "code",
   "execution_count": null,
   "id": "dd990101",
   "metadata": {},
   "outputs": [],
   "source": [
    "print(glm_results.loc[glm_results['fdr_bh'] < 0.05]['tissue'].nunique())\n",
    "display(glm_results.loc[glm_results['fdr_bh'] < 0.05].groupby('type').tissue.value_counts())"
   ]
  },
  {
   "cell_type": "markdown",
   "id": "036d92fb-7211-4a80-9d0f-f6f0c237b274",
   "metadata": {},
   "source": [
    "### save results"
   ]
  },
  {
   "cell_type": "markdown",
   "id": "2a6b0655",
   "metadata": {},
   "source": [
    "#### save the full results"
   ]
  },
  {
   "cell_type": "code",
   "execution_count": null,
   "id": "d12b92cf",
   "metadata": {},
   "outputs": [],
   "source": [
    "glm_results.to_csv(results_file, index=False)"
   ]
  },
  {
   "cell_type": "markdown",
   "id": "58567759",
   "metadata": {},
   "source": [
    "#### save the statistically significant results"
   ]
  },
  {
   "cell_type": "code",
   "execution_count": null,
   "id": "10a8d676",
   "metadata": {},
   "outputs": [],
   "source": [
    "glm_results.loc[glm_results['fdr_bh'] < 0.05].to_csv(results_fdr_file, index=False)"
   ]
  },
  {
   "cell_type": "markdown",
   "id": "c582b2b4-39c5-4f4e-9673-bfe430745c41",
   "metadata": {},
   "source": [
    "### visualize results"
   ]
  },
  {
   "cell_type": "markdown",
   "id": "90a4c216",
   "metadata": {},
   "source": [
    "#### visualize volcano plots"
   ]
  },
  {
   "cell_type": "code",
   "execution_count": null,
   "id": "3704c7ed",
   "metadata": {
    "tags": []
   },
   "outputs": [],
   "source": [
    "volcano_plot(glm_results, title='all_results')\n",
    "\n",
    "print('### broad cell-types without regard for region')\n",
    "for cell_type in broad_cell_types:\n",
    "    cell_name = f'Frontal_cortex_{cell_type}'\n",
    "    print(f'--- {cell_name}')\n",
    "    this_type = 'broad_celltype'\n",
    "    volcano_plot(glm_results.loc[(glm_results.tissue == cell_name) & \n",
    "                                 (glm_results.type == this_type)], title=cell_name)"
   ]
  },
  {
   "cell_type": "markdown",
   "id": "15038f12",
   "metadata": {},
   "source": [
    "#### look at some of the individual results"
   ]
  },
  {
   "cell_type": "code",
   "execution_count": null,
   "id": "23aac85a",
   "metadata": {},
   "outputs": [],
   "source": [
    "# max significant by p-value\n",
    "this_results = glm_results.loc[glm_results['p-value'] == min(glm_results['p-value'])]\n",
    "this_hit = this_results.sort_values(by=['coef'], ascending=False).iloc[0]\n",
    "broad_cell_name = this_hit.tissue.replace('Frontal_cortex_', '')\n",
    "adata_sub = subset_anndata(adata, broad_cell_name)\n",
    "prep_plot_feature(adata_sub, this_hit)"
   ]
  },
  {
   "cell_type": "code",
   "execution_count": null,
   "id": "409b0bdc",
   "metadata": {},
   "outputs": [],
   "source": [
    "# min significant by coef (increasing)\n",
    "sig_results = glm_results.loc[glm_results['fdr_bh'] < 0.05]\n",
    "this_results = sig_results.loc[sig_results['coef'] == min(sig_results['coef'])]\n",
    "this_hit = this_results.sort_values(by=['coef'], ascending=False).iloc[0]\n",
    "broad_cell_name = this_hit.tissue.replace('Frontal_cortex_', '')\n",
    "adata_sub = subset_anndata(adata, broad_cell_name)\n",
    "prep_plot_feature(adata_sub, this_hit)"
   ]
  },
  {
   "cell_type": "code",
   "execution_count": null,
   "id": "bfb767f3",
   "metadata": {},
   "outputs": [],
   "source": [
    "# random\n",
    "this_hit = sig_results.sample().iloc[0]\n",
    "broad_cell_name = this_hit.tissue.replace('Frontal_cortex_', '')\n",
    "adata_sub = subset_anndata(adata, broad_cell_name)\n",
    "prep_plot_feature(adata_sub, this_hit)"
   ]
  },
  {
   "cell_type": "code",
   "execution_count": null,
   "id": "9586e2f1",
   "metadata": {},
   "outputs": [],
   "source": [
    "# max non-significat by coef (increasing)\n",
    "nonsig_results = glm_results.loc[(glm_results['fdr_bh'] > 0.05) & \n",
    "                                 (~glm_results['z'].isna())]\n",
    "this_results = nonsig_results.loc[nonsig_results['coef'] == max(nonsig_results['coef'])]\n",
    "this_hit = this_results.iloc[0]\n",
    "broad_cell_name = this_hit.tissue.replace('Frontal_cortex_', '')\n",
    "adata_sub = subset_anndata(adata, broad_cell_name)\n",
    "prep_plot_feature(adata_sub, this_hit)"
   ]
  },
  {
   "cell_type": "code",
   "execution_count": null,
   "id": "2785fd0d-08c2-4c8a-a0ec-40931b525db5",
   "metadata": {},
   "outputs": [],
   "source": []
  }
 ],
 "metadata": {
  "kernelspec": {
   "display_name": "Python 3 (ipykernel)",
   "language": "python",
   "name": "python3"
  },
  "language_info": {
   "codemirror_mode": {
    "name": "ipython",
    "version": 3
   },
   "file_extension": ".py",
   "mimetype": "text/x-python",
   "name": "python",
   "nbconvert_exporter": "python",
   "pygments_lexer": "ipython3",
   "version": "3.9.13"
  }
 },
 "nbformat": 4,
 "nbformat_minor": 5
}
