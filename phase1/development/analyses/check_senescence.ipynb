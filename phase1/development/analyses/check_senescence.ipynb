{
 "cells": [
  {
   "cell_type": "markdown",
   "id": "6bd264e8-28de-4d68-a3af-d2661644508c",
   "metadata": {},
   "source": [
    "## Notebook to cluster cells based on senescence markers to identify potentially senescent cells\n",
    "\n",
    "attempt to use this functionality for determing scores for\n",
    "- Hu Y, Fryatt GL, Ghorbani M et al. Replicative senescence dictates the emergence of disease-associated microglia and contributes to Aβ pathology. Cell Rep 2021;35:109228.\n",
    "https://www.sciencedirect.com/science/article/pii/S2211124721005799?via%3Dihub\n",
    "    - \"custom senescence signature (Cdkn2a, Cdkn1a, Cdkn2d, Casp8, Il1b, Glb1, Serpine1)\"\n",
    "- Dehkordi SK, Walker J, Sah E et al. Profiling senescent cells in human brains reveals neurons with CDKN2D/p19 and tau neuropathology. Nat Aging 2021;1:1107–16.\n",
    "https://pubmed.ncbi.nlm.nih.gov/35531351/\n",
    "- Casella G, Munk R, Kim KM et al. Transcriptome signature of cellular senescence. Nucleic Acids Res 2019;47:7294–305.\n",
    "https://pubmed.ncbi.nlm.nih.gov/31251810/\n",
    "    - Canonical Senescence Pathway (CDKN2D, ETS2, RB1, E2F3, CDK6, RBL2, ATM, BMI1, MDM2, CDK4, CCNE1)\n",
    "    - Senescence Response Pathway (IGFBP7, VIM, FN1, SPARC, IGFBP4, TIMP1, TBX2, TBX3, COL1A1, COL3A1, IGFBP2, TGFB1I1, PTEN, CD44, NFIA, CALR, TIMP2, CXCL8)\n",
    "    - Senescence Initiating Pathway (SOD1, MAP2K1, GSK3B, PIK3CA, SOD2, MAPK14, IGF1R, TP53BP1, NBN, HRAS, CITED2, CREG1, ABL1, MORC3, NFKB1, AKT1, CDKN1B, EGR1, RBL1, MAP2K6, IGF1, IRF3, PCNA, GADD45A, MAP2K3, IGFBP5, SIRT1, ING1, TGFB1, TERF2)\n",
    "    - Cell Age (PEBP1, PKM, CKB, AAK1, NUAK1, MAST1, SORBS2, BRAF, SPIN1, MAP2K1, YPEL3, MAPK14, PDPK1, TOP1, ITPK1, MATK, RPS6KA6, SPOP, ITSN2, PDZD2, MAP2K2, LIMK1, DHCR24, PBRM1, MAP3K7, SIN3B, SOX5, EWSR1, PDCD10, CPEB1, NEK4, RB1, MCRS1, PNPT1, HRAS, STK32C, RAF1, ETS2, SMARCB1, FASTK, SLC13A3, TRIM28, MORC3, MAPKAPK5, MAP2K7, STK40, PMVK, CEBPB, GRK6, STAT5B, CDKN1B, PDIK1L, AKT1, MAPK12, MAP2K6, PIAS4, ADCK5, SMURF2, PCGF2, IRF3, PLA2R1, TYK2, ERRFI1, BRD7, ING2, FBXO31, NADK, PTTG1, BHLHE40, ASF1A, ING1, NINJ1, MXD4)\n",
    "    - UniUp ['TMEM159', 'CHPF2', 'SLC9A7', 'PLOD1', 'FAM2234B', 'DHRS7', 'SRPX', 'SRPX2', 'TNFSF13B', 'PDLIM1', 'ELMOD1', 'CCND3', 'TMEM30A', 'STAT1', 'RND3', 'TMEM59', 'SARAF', 'SLC16A14', 'SLC02B1', 'ARRDC4', 'PAM', 'WDR78', 'NCSTN', 'GPR155', 'CLDN1', 'JCAD', 'BLCAP', 'FILIP1L', 'TAP1', 'TNFRSF10C', 'SAMD9L', 'SMC03', 'POFUT2', 'KIAA1671', 'LRP10', 'BMS1P9', 'MAP4K3-DT', 'AC002480.1', 'LINC02154', 'TM4SF1-AS1', 'PTCHD4', 'H2AFJ', 'PURPL']"
   ]
  },
  {
   "cell_type": "code",
   "execution_count": null,
   "id": "2d280275-c85c-479b-b2dd-f9d70beb6af1",
   "metadata": {},
   "outputs": [],
   "source": [
    "!date"
   ]
  },
  {
   "cell_type": "markdown",
   "id": "4dea3d45-e8ea-4ec4-baf2-8c7db20e2006",
   "metadata": {},
   "source": [
    "#### import libraries"
   ]
  },
  {
   "cell_type": "code",
   "execution_count": null,
   "id": "6e363278-9cd6-444a-9e2e-e510e2946e5e",
   "metadata": {},
   "outputs": [],
   "source": [
    "import scanpy as sc\n",
    "from anndata import AnnData\n",
    "from numpy import ndarray\n",
    "from random import seed, randint\n",
    "from scipy.stats import zscore, shapiro, kstest, norm\n",
    "from pandas import DataFrame\n",
    "import matplotlib.pyplot as plt\n",
    "from matplotlib.pyplot import rc_context\n",
    "from seaborn import scatterplot, displot, heatmap\n",
    "from pandas import read_csv, DataFrame\n",
    "\n",
    "%matplotlib inline\n",
    "# for white background of figures (only for docs rendering)\n",
    "%config InlineBackend.print_figure_kwargs={'facecolor' : \"w\"}\n",
    "%config InlineBackend.figure_format='retina'\n",
    "\n",
    "import warnings\n",
    "warnings.filterwarnings(action='ignore')"
   ]
  },
  {
   "cell_type": "markdown",
   "id": "5a99c837-93a6-4a2f-b6e6-385c3a8bf1e1",
   "metadata": {},
   "source": [
    "#### set notebook variables"
   ]
  },
  {
   "cell_type": "code",
   "execution_count": null,
   "id": "e8cfa4c7-f51f-433b-9281-4433dc183838",
   "metadata": {},
   "outputs": [],
   "source": [
    "# naming\n",
    "project = 'aging'\n",
    "\n",
    "# directories \n",
    "wrk_dir = '/home/jupyter/brain_aging_phase1'\n",
    "quants_dir = f'{wrk_dir}/demux'\n",
    "results_dir = f'{wrk_dir}/results'\n",
    "\n",
    "# in files\n",
    "in_file = f'{quants_dir}/{project}.pegasus.leiden_085.subclustered.h5ad'\n",
    "glmmtmb_file = f'{results_dir}/{project}.glmmtmb_age_diffs_fdr.csv'\n",
    "\n",
    "# variables\n",
    "DEBUG = True\n",
    "dpi_value = 50\n",
    "gene_sets = {\n",
    "             'CSS': ['CDKN2A', 'CDKN1A', 'CDKN2D', 'CASO8', 'IL1B', 'GLB1', 'SERPINE1'],\n",
    "             'CSP': ['CDKN2D', 'ETS2', 'RB1', 'E2F3', 'CDK6', 'RBL2', 'ATM', \n",
    "                     'BMI1', 'MDM2', 'CDK4', 'CCNE1'],\n",
    "             'SRP': ['IGFBP7', 'VIM', 'FN1', 'SPARC', 'IGFBP4', 'TIMP1', 'TBX2', \n",
    "                     'TBX3', 'COL1A1', 'COL3A1', 'IGFBP2', 'TGFB1I1', 'PTEN', \n",
    "                     'CD44', 'NFIA', 'CALR', 'TIMP2', 'CXCL8'],\n",
    "             'SIP': ['SOD1', 'MAP2K1', 'GSK3B', 'PIK3CA', 'SOD2', 'MAPK14', \n",
    "                     'IGF1R', 'TP53BP1', 'NBN', 'HRAS', 'CITED2', 'CREG1', \n",
    "                     'ABL1', 'MORC3', 'NFKB1', 'AKT1', 'CDKN1B', 'EGR1', \n",
    "                     'RBL1', 'MAP2K6', 'IGF1', 'IRF3', 'PCNA', 'GADD45A', \n",
    "                     'MAP2K3', 'IGFBP5', 'SIRT1', 'ING1', 'TGFB1', 'TERF2'], \n",
    "             'CellAge': ['PEBP1', 'PKM', 'CKB', 'AAK1', 'NUAK1', 'MAST1', \n",
    "                         'SORBS2', 'BRAF', 'SPIN1', 'MAP2K1', 'YPEL3', 'MAPK14', \n",
    "                         'PDPK1', 'TOP1', 'ITPK1', 'MATK', 'RPS6KA6', 'SPOP', \n",
    "                         'ITSN2', 'PDZD2', 'MAP2K2', 'LIMK1', 'DHCR24', 'PBRM1', \n",
    "                         'MAP3K7', 'SIN3B', 'SOX5', 'EWSR1', 'PDCD10', 'CPEB1', \n",
    "                         'NEK4', 'RB1', 'MCRS1', 'PNPT1', 'HRAS', 'STK32C', 'RAF1', \n",
    "                         'ETS2', 'SMARCB1', 'FASTK', 'SLC13A3', 'TRIM28', 'MORC3', \n",
    "                         'MAPKAPK5', 'MAP2K7', 'STK40', 'PMVK', 'CEBPB', 'GRK6', \n",
    "                         'STAT5B', 'CDKN1B', 'PDIK1L', 'AKT1', 'MAPK12', 'MAP2K6', \n",
    "                         'PIAS4', 'ADCK5', 'SMURF2', 'PCGF2', 'IRF3', 'PLA2R1', \n",
    "                         'TYK2', 'ERRFI1', 'BRD7', 'ING2', 'FBXO31', 'NADK', 'PTTG1', \n",
    "                         'BHLHE40', 'ASF1A', 'ING1', 'NINJ1', 'MXD4'], \n",
    "             'UniUp': ['TMEM159', 'CHPF2', 'SLC9A7', 'PLOD1', 'FAM2234B', 'DHRS7', \n",
    "                     'SRPX', 'SRPX2', 'TNFSF13B', 'PDLIM1', 'ELMOD1', 'CCND3', \n",
    "                     'TMEM30A', 'STAT1', 'RND3', 'TMEM59', 'SARAF', 'SLC16A14', \n",
    "                     'SLC02B1', 'ARRDC4', 'PAM', 'WDR78', 'NCSTN', 'GPR155', \n",
    "                     'CLDN1', 'JCAD', 'BLCAP', 'FILIP1L', 'TAP1', 'TNFRSF10C', \n",
    "                     'SAMD9L', 'SMC03', 'POFUT2', 'KIAA1671', 'LRP10', 'BMS1P9', \n",
    "                     'MAP4K3-DT', 'AC002480.1', 'LINC02154', 'TM4SF1-AS1', \n",
    "                     'PTCHD4', 'H2AFJ', 'PURPL'],\n",
    "             'UniDown': ['MCUB', 'FBL', 'HIST1H1D', 'HIST1H1A', 'FAM129A', \n",
    "                         'ANP32B', 'PARP1', 'LBR', 'SSRP1', 'TMSB15A', \n",
    "                         'CBS', 'CDCA7L', 'HIST1H1E', 'CBX2', 'PTMA', 'HIST2H2AB', \n",
    "                         'ITPRIPL1', 'AC074135.1']    \n",
    "}\n",
    "# exclude_cell_types = ['uncertain', 'uncertain-2', 'uncertain-3', 'Astrocyte-GFAP-Hi']\n",
    "exclude_cell_types = ['Astrocyte-GFAP-Hi']\n",
    "seed(42)"
   ]
  },
  {
   "cell_type": "markdown",
   "id": "5ac2d3f7-523d-407e-a438-81a896c5d57e",
   "metadata": {},
   "source": [
    "### read the anndata (h5ad) file"
   ]
  },
  {
   "cell_type": "code",
   "execution_count": null,
   "id": "43f47a32-e84f-4436-809a-7102a76d28c5",
   "metadata": {},
   "outputs": [],
   "source": [
    "%%time\n",
    "adata = sc.read(in_file, cache=True)\n",
    "print(adata)"
   ]
  },
  {
   "cell_type": "markdown",
   "id": "e9a06187-2748-41ce-ae19-2c6ab94d9519",
   "metadata": {},
   "source": [
    "### Plot the clusters"
   ]
  },
  {
   "cell_type": "code",
   "execution_count": null,
   "id": "074bec24-a83a-4d53-8b6c-7465fe6e7430",
   "metadata": {},
   "outputs": [],
   "source": [
    "with rc_context({'figure.figsize': (9, 9), 'figure.dpi': dpi_value}):\n",
    "    plt.style.use('seaborn-bright')\n",
    "    sc.pl.umap(adata, color=['new_anno', 'broad_celltype'], legend_loc='on data')"
   ]
  },
  {
   "cell_type": "code",
   "execution_count": null,
   "id": "b59478db-d073-4f85-bf4b-bc4eadcc304a",
   "metadata": {},
   "outputs": [],
   "source": [
    "adata.obs.broad_celltype.value_counts()"
   ]
  },
  {
   "cell_type": "markdown",
   "id": "cbe72e30-1e89-44e8-9d29-52a85cd745b0",
   "metadata": {},
   "source": [
    "### remove cell-types that are known excludes"
   ]
  },
  {
   "cell_type": "code",
   "execution_count": null,
   "id": "7ee61cce-a085-4cc2-bbc0-7e7629e21ee3",
   "metadata": {},
   "outputs": [],
   "source": [
    "adata = adata[~adata.obs.new_anno.isin(exclude_cell_types)]\n",
    "print(adata)"
   ]
  },
  {
   "cell_type": "markdown",
   "id": "77d6a32f-d427-4f1b-8f5f-18ca991ed7f7",
   "metadata": {},
   "source": [
    "### replot the clusters without the excluded celltypes"
   ]
  },
  {
   "cell_type": "code",
   "execution_count": null,
   "id": "16e0d27c-a3e4-472e-aebc-8958754641fb",
   "metadata": {},
   "outputs": [],
   "source": [
    "with rc_context({'figure.figsize': (9, 9), 'figure.dpi': dpi_value}):\n",
    "    plt.style.use('seaborn-bright')\n",
    "    sc.pl.umap(adata, color=['new_anno', 'broad_celltype'], legend_loc='on data')"
   ]
  },
  {
   "cell_type": "code",
   "execution_count": null,
   "id": "0f33c4a5-210d-4a90-83b4-aa0954e28651",
   "metadata": {},
   "outputs": [],
   "source": [
    "adata.obs.new_anno.value_counts()"
   ]
  },
  {
   "cell_type": "markdown",
   "id": "2acdeb8a-644f-43b3-81c9-bab274c6d3fe",
   "metadata": {},
   "source": [
    "### combine the senescence gene sets into single marker set"
   ]
  },
  {
   "cell_type": "code",
   "execution_count": null,
   "id": "5b42ae81-826e-4bb2-8eaf-d72e06e88b0f",
   "metadata": {},
   "outputs": [],
   "source": [
    "marker_set = []\n",
    "for name, genes in gene_sets.items():\n",
    "    marker_set.extend(genes)\n",
    "marker_set = list(set(marker_set))    \n",
    "print(f'lenght of marker set is {len(marker_set)}')\n",
    "\n",
    "if DEBUG:\n",
    "    print(marker_set)"
   ]
  },
  {
   "cell_type": "markdown",
   "id": "0154d994-5f4b-4483-8658-68b45d6a2821",
   "metadata": {},
   "source": [
    "### haven't had much luck using getting past cell-type signal to senescent signal even just using the senescent markers try to do so within each broad cell-type"
   ]
  },
  {
   "cell_type": "code",
   "execution_count": null,
   "id": "3e732083-64ff-4846-9093-0be95e7b1099",
   "metadata": {},
   "outputs": [],
   "source": [
    "adata.obs.broad_celltype.value_counts()"
   ]
  },
  {
   "cell_type": "markdown",
   "id": "686bab4d-f515-4362-8254-3d0bb06ff932",
   "metadata": {},
   "source": [
    "### for each broad cell-type subset the data to just the marker genes and cluster\n",
    "maybe small within cell-type cluster separated based on senescent markers represents senescent cells?"
   ]
  },
  {
   "cell_type": "code",
   "execution_count": null,
   "id": "816a02a6-4a6c-42ad-b7f2-ef2182b9ec40",
   "metadata": {},
   "outputs": [],
   "source": [
    "for target_cell_type in adata.obs.broad_celltype.unique():\n",
    "    print(f'#### {target_cell_type} ####')\n",
    "    sdata = adata[adata.obs.broad_celltype == target_cell_type, adata.var.index.isin(marker_set)]\n",
    "    if DEBUG:\n",
    "        print(sdata)\n",
    "    sc.pp.highly_variable_genes(sdata, n_top_genes=len(marker_set), \n",
    "                                batch_key='pool_name', flavor='seurat')\n",
    "    sc.tl.pca(sdata, svd_solver='arpack', use_highly_variable=True)\n",
    "    sc.pl.pca_variance_ratio(sdata, log=True)\n",
    "    sc.pp.neighbors(sdata)\n",
    "    sc.tl.umap(sdata)\n",
    "    with rc_context({'figure.figsize': (9, 9), 'figure.dpi': dpi_value}):\n",
    "        plt.style.use('seaborn-bright')\n",
    "        sc.pl.umap(sdata, color=['new_anno', 'broad_celltype'], legend_loc='on data')\n",
    "    sc.tl.leiden(sdata, resolution=0.5)\n",
    "    sc.tl.umap(sdata)\n",
    "    with rc_context({'figure.figsize': (12, 12), 'figure.dpi': dpi_value}):\n",
    "        plt.style.use('seaborn-talk')\n",
    "        sc.pl.umap(sdata, color=['leiden', 'new_anno', 'broad_celltype'], legend_loc='on data')\n",
    "    for name, genes in gene_sets.items():\n",
    "        gene_set = sorted(list(set(genes) & set(sdata.var.index)))    \n",
    "        print(f'---- {name} ----')\n",
    "        with rc_context({'figure.figsize': (12, 12), 'figure.dpi': dpi_value}):\n",
    "            plt.style.use('seaborn-bright')\n",
    "            sc.pl.dotplot(sdata, gene_set, groupby='leiden', cmap='Purples')\n",
    "    display(sdata.obs.leiden.value_counts())\n",
    "    display(sdata.obs.leiden.value_counts()/sdata.obs.shape[0]*100)            "
   ]
  },
  {
   "cell_type": "code",
   "execution_count": null,
   "id": "4c5eba30-3730-4cc8-af15-bed29837bc1e",
   "metadata": {},
   "outputs": [],
   "source": [
    "!date"
   ]
  },
  {
   "cell_type": "code",
   "execution_count": null,
   "id": "5c45f776-88ed-4900-9dec-4e5ae157a826",
   "metadata": {},
   "outputs": [],
   "source": []
  }
 ],
 "metadata": {
  "environment": {
   "kernel": "python3",
   "name": "pytorch-gpu.1-13.m107",
   "type": "gcloud",
   "uri": "gcr.io/deeplearning-platform-release/pytorch-gpu.1-13:m107"
  },
  "kernelspec": {
   "display_name": "Python 3",
   "language": "python",
   "name": "python3"
  },
  "language_info": {
   "codemirror_mode": {
    "name": "ipython",
    "version": 3
   },
   "file_extension": ".py",
   "mimetype": "text/x-python",
   "name": "python",
   "nbconvert_exporter": "python",
   "pygments_lexer": "ipython3",
   "version": "3.7.12"
  }
 },
 "nbformat": 4,
 "nbformat_minor": 5
}
