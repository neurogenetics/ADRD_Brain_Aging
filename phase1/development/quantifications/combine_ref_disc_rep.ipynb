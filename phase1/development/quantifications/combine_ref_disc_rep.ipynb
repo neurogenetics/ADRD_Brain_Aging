{
 "cells": [
  {
   "cell_type": "markdown",
   "id": "2021945a-34af-4061-8543-74a9ee629143",
   "metadata": {},
   "source": [
    "## Notebook to combine replication and reference cohort data with our Brain Aging Phase 1 data and do some harminization of obs attribute features. Additional other public data is also included for cluster and cell-type labeling purposes\n",
    "\n",
    "Replication data: \n",
    "NABEC snRNA from Xylena Reed\n",
    "\n",
    "public data:\n",
    "1. [Leng K, Li E, Eser R et al. Molecular characterization of selectively vulnerable neurons in Alzheimer’s disease. Nat Neurosci 2021;24:276–87.](https://pubmed.ncbi.nlm.nih.gov/33432193/)\n",
    "2. [Morabito S, Miyoshi E, Michael N et al. Single-nucleus chromatin accessibility and transcriptomic characterization of Alzheimer’s disease. Nat Genet 2021, DOI: 10.1038/s41588-021-00894-z.](https://pubmed.ncbi.nlm.nih.gov/34239132/)\n",
    "\n"
   ]
  },
  {
   "cell_type": "code",
   "execution_count": 1,
   "id": "92a1195a-c134-463d-b7e7-a0a056aaabfe",
   "metadata": {},
   "outputs": [
    {
     "name": "stdout",
     "output_type": "stream",
     "text": [
      "Tue Nov 14 19:53:41 UTC 2023\n"
     ]
    }
   ],
   "source": [
    "!date"
   ]
  },
  {
   "cell_type": "markdown",
   "id": "c9fb2539-169e-4f94-90d6-346efcda8f73",
   "metadata": {},
   "source": [
    "#### import libraries"
   ]
  },
  {
   "cell_type": "code",
   "execution_count": 2,
   "id": "bb9abb2a-861e-459f-8a75-70e78548a012",
   "metadata": {},
   "outputs": [],
   "source": [
    "from pandas import read_csv, concat\n",
    "from scanpy import read_h5ad, read_10x_h5\n",
    "from anndata import concat as ad_concat\n",
    "from random import sample"
   ]
  },
  {
   "cell_type": "markdown",
   "id": "3eea9c47-6ba7-4f55-93f9-4ab112ca128a",
   "metadata": {},
   "source": [
    "#### set notebook variables"
   ]
  },
  {
   "cell_type": "code",
   "execution_count": 3,
   "id": "dcea2f59-2857-4715-8050-a33a289a04d3",
   "metadata": {},
   "outputs": [],
   "source": [
    "# naming\n",
    "project = 'aging_phase1'\n",
    "set_name = f'{project}_replication'\n",
    "\n",
    "# directories\n",
    "wrk_dir = '/home/jupyter/brain_aging_phase1'\n",
    "demux_dir = f'{wrk_dir}/demux'\n",
    "replication_dir = f'{wrk_dir}/replication'\n",
    "figures_dir = f'{wrk_dir}/figures'\n",
    "public_dir = f'{wrk_dir}/public'\n",
    "\n",
    "# in files\n",
    "phase1_raw_h5ad = f'{demux_dir}/aging.h5ad'\n",
    "phase1_final_h5ad = f'{demux_dir}/aging.pegasus.leiden_085.subclustered.h5ad'\n",
    "replication_h5ad_file = f'{replication_dir}/{project}_nabec.raw.h5ad'\n",
    "replication_doublets_file = f'{replication_dir}/{project}_nabec.scrublet_scores.csv'\n",
    "\n",
    "# out files\n",
    "raw_anndata_file = f'{replication_dir}/{set_name}.raw.h5ad'\n",
    "\n",
    "# variables\n",
    "DEBUG = False"
   ]
  },
  {
   "cell_type": "markdown",
   "id": "d81c9e59-fcb8-48f0-84cb-b8cf3457db61",
   "metadata": {},
   "source": [
    "### load data"
   ]
  },
  {
   "cell_type": "markdown",
   "id": "f5fd566f-2097-4ad2-a7ae-059f10998740",
   "metadata": {},
   "source": [
    "#### load the replication data"
   ]
  },
  {
   "cell_type": "code",
   "execution_count": 4,
   "id": "38683de0-adcb-4a38-85b3-0c4f87f8cc96",
   "metadata": {},
   "outputs": [
    {
     "name": "stdout",
     "output_type": "stream",
     "text": [
      "AnnData object with n_obs × n_vars = 79600 × 36601\n",
      "    obs: 'sample_id', 'pmi', 'sex', 'age', 'Barcode'\n",
      "CPU times: user 549 ms, sys: 1.54 s, total: 2.09 s\n",
      "Wall time: 8.61 s\n"
     ]
    }
   ],
   "source": [
    "%%time\n",
    "adata_rep = read_h5ad(replication_h5ad_file)\n",
    "# retain original barcode\n",
    "adata_rep.obs['Barcode'] = adata_rep.obs.index.astype('category')\n",
    "print(adata_rep)\n",
    "if DEBUG:\n",
    "    display(adata_rep.obs.sample(5))\n",
    "    display(adata_rep.var.sample(5))    "
   ]
  },
  {
   "cell_type": "markdown",
   "id": "6dcade9a-549d-4c0d-98bd-75524c344868",
   "metadata": {},
   "source": [
    "#### load the replication data doublet predictions"
   ]
  },
  {
   "cell_type": "code",
   "execution_count": 5,
   "id": "63b03f72-1b7f-4c25-b47b-8e1eb163d0c5",
   "metadata": {},
   "outputs": [
    {
     "name": "stdout",
     "output_type": "stream",
     "text": [
      "(79600, 6)\n"
     ]
    }
   ],
   "source": [
    "rep_dblt_df = read_csv(replication_doublets_file, index_col=0)\n",
    "print(rep_dblt_df.shape)\n",
    "if DEBUG:\n",
    "    display(rep_dblt_df.head())"
   ]
  },
  {
   "cell_type": "markdown",
   "id": "e049b2eb-19e6-47b8-820f-e6df79262bef",
   "metadata": {},
   "source": [
    "#### load the reference data"
   ]
  },
  {
   "cell_type": "markdown",
   "id": "259e0d27-58cc-439d-917c-b78df45011b8",
   "metadata": {},
   "source": [
    "##### load the Leng et al data\n",
    "- for the entorhinal cortex samples only keep the Braak Stage 0 samples (n=3)\n",
    "- for the superior frontal gyrus only keep the Braak Stage 0 or 2 (n=7)"
   ]
  },
  {
   "cell_type": "code",
   "execution_count": 6,
   "id": "38653f28-1186-4f03-bff9-705badf594bd",
   "metadata": {},
   "outputs": [
    {
     "name": "stdout",
     "output_type": "stream",
     "text": [
      "View of AnnData object with n_obs × n_vars = 9730 × 32826\n",
      "    obs: 'SampleID', 'donor_id', 'BraakStage', 'SampleBatch', 'nUMI', 'nGene', 'initialClusterAssignments', 'seurat.clusters', 'clusterAssignment', 'clusterCellType', 'tissue_ontology_term_id', 'cell_type_ontology_term_id', 'assay_ontology_term_id', 'disease_ontology_term_id', 'self_reported_ethnicity_ontology_term_id', 'development_stage_ontology_term_id', 'sex_ontology_term_id', 'is_primary_data', 'organism_ontology_term_id', 'suspension_type', 'cell_type', 'assay', 'disease', 'organism', 'sex', 'tissue', 'self_reported_ethnicity', 'development_stage', 'Barcode'\n",
      "    var: 'feature_is_filtered', 'feature_name', 'feature_reference', 'feature_biotype'\n",
      "    uns: 'schema_version', 'title'\n",
      "    obsm: 'X_cca', 'X_cca.aligned', 'X_tsne'\n",
      "CPU times: user 2.23 s, sys: 206 ms, total: 2.44 s\n",
      "Wall time: 2.52 s\n"
     ]
    }
   ],
   "source": [
    "%%time\n",
    "ec_file = f'{public_dir}/cellxgene_collections/Leng_entorhinal_cortex.h5ad'\n",
    "adata_ref_ec = read_h5ad(ec_file)\n",
    "# retain original barcode\n",
    "adata_ref_ec.obs['Barcode'] = adata_ref_ec.obs.index.astype('category')\n",
    "# filter by Braak Stage\n",
    "adata_ref_ec = adata_ref_ec[adata_ref_ec.obs.BraakStage == '0']\n",
    "print(adata_ref_ec)\n",
    "if DEBUG:\n",
    "    display(adata_ref_ec.obs.sample(5))\n",
    "    display(adata_ref_ec.var.sample(5))   "
   ]
  },
  {
   "cell_type": "markdown",
   "id": "0ba3a6c1-2618-48ff-8617-2f37114d554f",
   "metadata": {},
   "source": [
    "##### switch var attribute to use gene name instead of ID"
   ]
  },
  {
   "cell_type": "code",
   "execution_count": 7,
   "id": "c4ee3a30-5d51-4033-ac11-b40decc18b3f",
   "metadata": {},
   "outputs": [
    {
     "name": "stderr",
     "output_type": "stream",
     "text": [
      "/opt/conda/lib/python3.7/site-packages/ipykernel_launcher.py:1: ImplicitModificationWarning: Trying to modify attribute `.var` of view, initializing view as actual.\n",
      "  \"\"\"Entry point for launching an IPython kernel.\n"
     ]
    }
   ],
   "source": [
    "adata_ref_ec.var['gene_id'] = adata_ref_ec.var.index.astype('category')\n",
    "adata_ref_ec.var.index = adata_ref_ec.var.feature_name\n",
    "if DEBUG:\n",
    "    display(adata_ref_ec.var.head(10))"
   ]
  },
  {
   "cell_type": "code",
   "execution_count": 8,
   "id": "234f804b-4601-46dd-beb9-3050c11a4404",
   "metadata": {},
   "outputs": [
    {
     "name": "stdout",
     "output_type": "stream",
     "text": [
      "View of AnnData object with n_obs × n_vars = 32240 × 32826\n",
      "    obs: 'SampleID', 'donor_id', 'BraakStage', 'SampleBatch', 'nUMI', 'nGene', 'initialClusterAssignments', 'seurat.clusters', 'clusterAssignment', 'clusterCellType', 'tissue_ontology_term_id', 'cell_type_ontology_term_id', 'assay_ontology_term_id', 'disease_ontology_term_id', 'self_reported_ethnicity_ontology_term_id', 'development_stage_ontology_term_id', 'sex_ontology_term_id', 'is_primary_data', 'organism_ontology_term_id', 'suspension_type', 'cell_type', 'assay', 'disease', 'organism', 'sex', 'tissue', 'self_reported_ethnicity', 'development_stage', 'Barcode'\n",
      "    var: 'feature_is_filtered', 'feature_name', 'feature_reference', 'feature_biotype'\n",
      "    uns: 'schema_version', 'title'\n",
      "    obsm: 'X_cca', 'X_cca.aligned', 'X_tsne'\n",
      "CPU times: user 4.29 s, sys: 301 ms, total: 4.59 s\n",
      "Wall time: 4.69 s\n"
     ]
    }
   ],
   "source": [
    "%%time\n",
    "sfg_file = f'{public_dir}/cellxgene_collections/Leng_superior_frontal_gyrus.h5ad'\n",
    "adata_ref_sfg = read_h5ad(sfg_file)\n",
    "# retain original barcode\n",
    "adata_ref_sfg.obs['Barcode'] = adata_ref_sfg.obs.index.astype('category')\n",
    "# filter by Braak Stage\n",
    "adata_ref_sfg = adata_ref_sfg[(adata_ref_sfg.obs.BraakStage == '0') | (adata_ref_sfg.obs.BraakStage == '2')]\n",
    "print(adata_ref_sfg)\n",
    "if DEBUG:\n",
    "    display(adata_ref_sfg.obs.sample(5))\n",
    "    display(adata_ref_sfg.var.sample(5))  "
   ]
  },
  {
   "cell_type": "markdown",
   "id": "f3579cbb-8676-4a75-b00c-acaff51fde05",
   "metadata": {},
   "source": [
    "##### switch var attribute to use gene name instead of ID"
   ]
  },
  {
   "cell_type": "code",
   "execution_count": 9,
   "id": "221c41a9-beba-4699-88a6-827e1f68500f",
   "metadata": {},
   "outputs": [
    {
     "name": "stderr",
     "output_type": "stream",
     "text": [
      "/opt/conda/lib/python3.7/site-packages/ipykernel_launcher.py:1: ImplicitModificationWarning: Trying to modify attribute `.var` of view, initializing view as actual.\n",
      "  \"\"\"Entry point for launching an IPython kernel.\n"
     ]
    }
   ],
   "source": [
    "adata_ref_sfg.var['gene_id'] = adata_ref_sfg.var.index.astype('category')\n",
    "adata_ref_sfg.var.index = adata_ref_sfg.var.feature_name\n",
    "if DEBUG:\n",
    "    display(adata_ref_sfg.var.head(10))"
   ]
  },
  {
   "cell_type": "markdown",
   "id": "b67a377b-17a7-4218-9b29-82ee0ffff0fc",
   "metadata": {},
   "source": [
    "##### combine the Leng data"
   ]
  },
  {
   "cell_type": "code",
   "execution_count": 10,
   "id": "331a0c35-bdbc-4dd4-814f-a7fc8111f761",
   "metadata": {},
   "outputs": [
    {
     "name": "stdout",
     "output_type": "stream",
     "text": [
      "AnnData object with n_obs × n_vars = 41970 × 32826\n",
      "    obs: 'SampleID', 'donor_id', 'BraakStage', 'SampleBatch', 'nUMI', 'nGene', 'initialClusterAssignments', 'seurat.clusters', 'clusterAssignment', 'clusterCellType', 'tissue_ontology_term_id', 'cell_type_ontology_term_id', 'assay_ontology_term_id', 'disease_ontology_term_id', 'self_reported_ethnicity_ontology_term_id', 'development_stage_ontology_term_id', 'sex_ontology_term_id', 'is_primary_data', 'organism_ontology_term_id', 'suspension_type', 'cell_type', 'assay', 'disease', 'organism', 'sex', 'tissue', 'self_reported_ethnicity', 'development_stage', 'Barcode'\n",
      "    obsm: 'X_cca', 'X_cca.aligned', 'X_tsne'\n"
     ]
    },
    {
     "name": "stderr",
     "output_type": "stream",
     "text": [
      "/opt/conda/lib/python3.7/site-packages/anndata/_core/anndata.py:121: ImplicitModificationWarning: Transforming to str index.\n",
      "  warnings.warn(\"Transforming to str index.\", ImplicitModificationWarning)\n"
     ]
    }
   ],
   "source": [
    "adata_leng = ad_concat([adata_ref_ec, adata_ref_sfg])\n",
    "adata_leng.obs_names_make_unique()\n",
    "print(adata_leng)\n",
    "if DEBUG:\n",
    "    display(adata_leng.obs.sample(5))\n",
    "    display(adata_leng.var.sample(5))"
   ]
  },
  {
   "cell_type": "markdown",
   "id": "2cf909ef-e5f8-4334-8d83-2af294483c09",
   "metadata": {},
   "source": [
    "#### load the Morabita data"
   ]
  },
  {
   "cell_type": "code",
   "execution_count": 11,
   "id": "981312b5-90b4-44ba-9cfc-9a412004bc6d",
   "metadata": {},
   "outputs": [
    {
     "name": "stderr",
     "output_type": "stream",
     "text": [
      "/opt/conda/lib/python3.7/site-packages/anndata/_core/anndata.py:1830: UserWarning: Variable names are not unique. To make them unique, call `.var_names_make_unique`.\n",
      "  utils.warn_names_duplicates(\"var\")\n"
     ]
    },
    {
     "name": "stdout",
     "output_type": "stream",
     "text": [
      "AnnData object with n_obs × n_vars = 61770 × 58721\n",
      "    obs: 'Barcode'\n",
      "    var: 'gene_ids', 'feature_types', 'genome'\n",
      "CPU times: user 9.29 s, sys: 1.55 s, total: 10.8 s\n",
      "Wall time: 10.9 s\n"
     ]
    }
   ],
   "source": [
    "%%time\n",
    "morabita_data_file = f'{public_dir}/Morabita_snRNA_ATAC/GSE174367_snRNA-seq_filtered_feature_bc_matrix.h5'\n",
    "adata_morabita = read_10x_h5(morabita_data_file)\n",
    "# retain original barcode\n",
    "adata_morabita.obs['Barcode'] = adata_morabita.obs.index.astype('category')\n",
    "adata_morabita.var_names_make_unique()\n",
    "print(adata_morabita)\n",
    "if DEBUG:\n",
    "    display(adata_morabita.obs.sample(5))\n",
    "    display(adata_morabita.var.sample(5))    "
   ]
  },
  {
   "cell_type": "code",
   "execution_count": 12,
   "id": "db6568cd-b735-4e23-a7be-1266d565fee4",
   "metadata": {},
   "outputs": [
    {
     "name": "stdout",
     "output_type": "stream",
     "text": [
      "(61472, 12)\n",
      "(61472, 11)\n"
     ]
    }
   ],
   "source": [
    "morabita_info_file = f'{public_dir}/Morabita_snRNA_ATAC/GSE174367_snRNA-seq_cell_meta.csv.gz'\n",
    "morabita_info = read_csv(morabita_info_file)\n",
    "print(morabita_info.shape)\n",
    "# make cell IDs the index\n",
    "morabita_info = morabita_info.set_index('Barcode')\n",
    "# keep only info for cells present in data\n",
    "morabita_info = morabita_info.loc[morabita_info.index.isin(adata_morabita.obs.index)]\n",
    "print(morabita_info.shape)\n",
    "if DEBUG:\n",
    "    display(morabita_info.sample(5))"
   ]
  },
  {
   "cell_type": "markdown",
   "id": "42282845-9051-47b6-bb00-c89bf4d18426",
   "metadata": {},
   "source": [
    "##### add Morabita info into the obs attribute"
   ]
  },
  {
   "cell_type": "code",
   "execution_count": 13,
   "id": "0971a4d6-0539-453c-8aaa-063bf624054c",
   "metadata": {},
   "outputs": [
    {
     "name": "stdout",
     "output_type": "stream",
     "text": [
      "298\n",
      "View of AnnData object with n_obs × n_vars = 61472 × 58721\n",
      "    obs: 'Barcode'\n",
      "    var: 'gene_ids', 'feature_types', 'genome'\n",
      "View of AnnData object with n_obs × n_vars = 22796 × 58721\n",
      "    obs: 'Barcode', 'SampleID', 'Diagnosis', 'Batch', 'Cell.Type', 'cluster', 'Age', 'Sex', 'PMI', 'Tangle.Stage', 'Plaque.Stage', 'RIN'\n",
      "    var: 'gene_ids', 'feature_types', 'genome'\n"
     ]
    }
   ],
   "source": [
    "print(len(set(morabita_info.index) ^ set(adata_morabita.obs.index)))\n",
    "# drop any cells there wasn't info for\n",
    "adata_morabita = adata_morabita[adata_morabita.obs.index.isin(morabita_info.index)]\n",
    "print(adata_morabita)\n",
    "len(set(morabita_info.index) ^ set(adata_morabita.obs.index))\n",
    "adata_morabita.obs = concat([adata_morabita.obs, morabita_info], axis='columns')\n",
    "# keep on the control samples\n",
    "adata_morabita = adata_morabita[adata_morabita.obs.Diagnosis == 'Control']\n",
    "print(adata_morabita)\n",
    "if DEBUG:\n",
    "    display(adata_morabita.obs.sample(5))\n",
    "    display(adata_morabita.var.sample(5))    "
   ]
  },
  {
   "cell_type": "markdown",
   "id": "785842f4-d471-44f1-b069-58f868b2ba57",
   "metadata": {},
   "source": [
    "#### load the phase 1 discovery data"
   ]
  },
  {
   "cell_type": "code",
   "execution_count": 14,
   "id": "db688e93-3a33-4a1b-92fd-fa1b09744991",
   "metadata": {},
   "outputs": [
    {
     "name": "stdout",
     "output_type": "stream",
     "text": [
      "AnnData object with n_obs × n_vars = 168090 × 36601\n",
      "    obs: 'pool_name', 'Sample_id', 'Tissue_source', 'Brain_region', 'Clinical_diagnosis', 'Age', 'Sex', 'donor_id', 'lane_num', 'Barcode'\n",
      "CPU times: user 1.8 s, sys: 3.32 s, total: 5.12 s\n",
      "Wall time: 22.3 s\n"
     ]
    }
   ],
   "source": [
    "%%time\n",
    "adata_disc = read_h5ad(phase1_raw_h5ad)\n",
    "# retain original barcode\n",
    "adata_disc.obs['Barcode'] = adata_disc.obs.index.astype('category')\n",
    "print(adata_disc)\n",
    "if DEBUG:\n",
    "    display(adata_disc.obs.sample(5))\n",
    "    display(adata_disc.var.sample(5))    "
   ]
  },
  {
   "cell_type": "markdown",
   "id": "bae16491-cc26-47a4-b89a-3f04da2343aa",
   "metadata": {},
   "source": [
    "##### load the Phase 1 processed discovery data\n",
    "so the labelled cell-types can be accessed"
   ]
  },
  {
   "cell_type": "code",
   "execution_count": 15,
   "id": "379961ae-8fc4-434e-b3ae-5d726b8f1be1",
   "metadata": {},
   "outputs": [
    {
     "name": "stdout",
     "output_type": "stream",
     "text": [
      "AnnData object with n_obs × n_vars = 167945 × 35441\n",
      "    obs: 'pool_name', 'Sample_id', 'Tissue_source', 'Brain_region', 'Clinical_diagnosis', 'Age', 'Sex', 'donor_id', 'lane_num', 'Channel', 'n_genes', 'n_counts', 'percent_mito', 'scale', 'Group', 'leiden_labels', 'anno', 'leiden_labels_085', 'new_anno', 'Age_group', 'broad_celltype'\n",
      "    var: 'n_cells', 'percent_cells', 'robust', 'highly_variable_features', 'mean', 'var', 'hvf_loess', 'hvf_rank'\n",
      "    uns: 'Channels', 'Groups', 'PCs', 'W_diffmap', 'W_pca_harmony', 'broad_celltype_colors', 'c2gid', 'df_qcplot', 'diffmap_evals', 'diffmap_knn_distances', 'diffmap_knn_indices', 'genome', 'gncells', 'leiden_resolution', 'modality', 'ncells', 'new_anno_colors', 'norm_count', 'pca', 'pca_features', 'pca_harmony_knn_distances', 'pca_harmony_knn_indices', 'stdzn_max_value', 'stdzn_mean', 'stdzn_std'\n",
      "    obsm: 'X_diffmap', 'X_fle', 'X_pca', 'X_pca_harmony', 'X_phi', 'X_umap', 'X_umap_085'\n",
      "    varm: 'de_res', 'gmeans', 'gstds', 'means', 'partial_sum'\n",
      "(167945, 2)\n",
      "CPU times: user 2.55 s, sys: 7.91 s, total: 10.5 s\n",
      "Wall time: 44 s\n"
     ]
    }
   ],
   "source": [
    "%%time\n",
    "adata_disc_final = read_h5ad(phase1_final_h5ad)\n",
    "print(adata_disc_final)\n",
    "disc_cell_types = adata_disc_final.obs[['new_anno', 'broad_celltype']].copy()\n",
    "print(disc_cell_types.shape)\n",
    "if DEBUG:\n",
    "    display(adata_disc_final.obs.sample(5))\n",
    "    display(disc_cell_types.sample(5))  "
   ]
  },
  {
   "cell_type": "markdown",
   "id": "d565f183-9f7d-4e39-a56f-006ed1a8ae6a",
   "metadata": {},
   "source": [
    "### remove doublets from the replication data"
   ]
  },
  {
   "cell_type": "code",
   "execution_count": 16,
   "id": "26811279-b7fb-46d5-a524-03b04416c28b",
   "metadata": {},
   "outputs": [
    {
     "name": "stdout",
     "output_type": "stream",
     "text": [
      "(75133, 6)\n"
     ]
    }
   ],
   "source": [
    "not_doublets = rep_dblt_df.loc[~rep_dblt_df.predicted_doublet]\n",
    "print(not_doublets.shape)"
   ]
  },
  {
   "cell_type": "code",
   "execution_count": 17,
   "id": "fa45d69a-31bb-411c-95b3-050c81f3310c",
   "metadata": {},
   "outputs": [
    {
     "name": "stdout",
     "output_type": "stream",
     "text": [
      "View of AnnData object with n_obs × n_vars = 75133 × 36601\n",
      "    obs: 'sample_id', 'pmi', 'sex', 'age', 'Barcode'\n"
     ]
    }
   ],
   "source": [
    "adata_rep = adata_rep[adata_rep.obs.index.isin(not_doublets.index)]\n",
    "print(adata_rep)\n",
    "if DEBUG:\n",
    "    display(adata_rep.obs.sample(10))"
   ]
  },
  {
   "cell_type": "markdown",
   "id": "b565c90f-1d81-429f-b65d-68f15a643579",
   "metadata": {},
   "source": [
    "### set the study IDs\n",
    "will set these to author's last name"
   ]
  },
  {
   "cell_type": "code",
   "execution_count": 18,
   "id": "6392f123-c4f6-4793-992f-41ca8795e52f",
   "metadata": {},
   "outputs": [
    {
     "name": "stderr",
     "output_type": "stream",
     "text": [
      "/opt/conda/lib/python3.7/site-packages/ipykernel_launcher.py:2: ImplicitModificationWarning: Trying to modify attribute `.obs` of view, initializing view as actual.\n",
      "  \n",
      "/opt/conda/lib/python3.7/site-packages/ipykernel_launcher.py:7: ImplicitModificationWarning: Trying to modify attribute `.obs` of view, initializing view as actual.\n",
      "  import sys\n"
     ]
    }
   ],
   "source": [
    "# replication data from Reed\n",
    "adata_rep.obs['Study'] = 'Reed'\n",
    "adata_rep.obs['Study_type'] = 'replication'\n",
    "# reference data from Leng and Morabita\n",
    "adata_leng.obs['Study'] = 'Leng'\n",
    "adata_leng.obs['Study_type'] = 'reference'\n",
    "adata_morabita.obs['Study'] = 'Morabita'\n",
    "adata_morabita.obs['Study_type'] = 'reference'\n",
    "# discovery data from Duffy\n",
    "adata_disc.obs['Study'] = 'Duffy'\n",
    "adata_disc.obs['Study_type'] = 'discovery'"
   ]
  },
  {
   "cell_type": "markdown",
   "id": "f57f591d-c883-4f0a-a604-a401aadeb068",
   "metadata": {},
   "source": [
    "### harmonize study obs attribute features"
   ]
  },
  {
   "cell_type": "markdown",
   "id": "064ed401-441c-473c-a87c-90a6f4cb6235",
   "metadata": {},
   "source": [
    "#### harmonize replication data obs"
   ]
  },
  {
   "cell_type": "code",
   "execution_count": 19,
   "id": "09ec752f-de54-40e2-a06c-dd6cf132481e",
   "metadata": {},
   "outputs": [],
   "source": [
    "adata_rep.obs['Batch'] = 'None'\n",
    "adata_rep.obs['Cluster'] = 'None'\n",
    "adata_rep.obs['Cell_type'] = 'None'\n",
    "adata_rep.obs['Brain_region'] = 'frontal cortex'\n",
    "adata_rep.obs = adata_rep.obs.drop(columns=['pmi'])\n",
    "adata_rep.obs = adata_rep.obs.rename(columns={'sample_id': 'Sample_ID', 'sex': 'Sex', 'age': 'Age'})"
   ]
  },
  {
   "cell_type": "markdown",
   "id": "5d31d9c2-7844-40bc-ba72-0e183fce1fd1",
   "metadata": {},
   "source": [
    "#### harmonize Leng et al reference data obs"
   ]
  },
  {
   "cell_type": "code",
   "execution_count": 20,
   "id": "9145f503-6b50-418c-af1d-a44db91a5408",
   "metadata": {},
   "outputs": [],
   "source": [
    "adata_leng.obs['Age'] = (adata_leng.obs.development_stage.str.replace('-year-old human stage','')\n",
    ".str.replace(' year-old and over human stage',''))\n",
    "drop_cols = ['donor_id', 'BraakStage', 'nUMI', 'nGene', 'initialClusterAssignments', \n",
    "             'cell_type', 'tissue_ontology_term_id', 'cell_type_ontology_term_id', \n",
    "             'assay_ontology_term_id', 'disease_ontology_term_id', \n",
    "             'self_reported_ethnicity_ontology_term_id', 'development_stage_ontology_term_id', \n",
    "             'is_primary_data', 'organism_ontology_term_id', 'suspension_type', \n",
    "             'cell_type', 'assay', 'disease', 'organism', 'self_reported_ethnicity', \n",
    "             'seurat.clusters', 'sex_ontology_term_id', 'development_stage']\n",
    "adata_leng.obs = adata_leng.obs.drop(columns=drop_cols)\n",
    "adata_leng.obs = adata_leng.obs.rename(columns={'SampleID': 'Sample_ID', \n",
    "                                                'SampleBatch': 'Batch', \n",
    "                                                'clusterAssignment': 'Cluster', \n",
    "                                                'clusterCellType': 'Cell_type', \n",
    "                                                'tissue': 'Brain_region', \n",
    "                                                'sex': 'Sex'})"
   ]
  },
  {
   "cell_type": "markdown",
   "id": "e189ccd8-e1ca-4863-a088-b71f1992e666",
   "metadata": {},
   "source": [
    "#### harmonize Morabita et al reference data obs"
   ]
  },
  {
   "cell_type": "code",
   "execution_count": 21,
   "id": "cc91540e-c157-40aa-a3f3-1128267cc62e",
   "metadata": {},
   "outputs": [],
   "source": [
    "adata_morabita.obs['Brain_region'] = 'prefrontal cortex'\n",
    "adata_morabita.obs = adata_morabita.obs.drop(columns=['Diagnosis', 'Tangle.Stage', \n",
    "                                                      'Plaque.Stage', 'PMI', 'RIN'])\n",
    "adata_morabita.obs = adata_morabita.obs.rename(columns={'SampleID': 'Sample_ID', \n",
    "                                                        'cluster': 'Cluster', \n",
    "                                                        'Cell.Type': 'Cell_type'})"
   ]
  },
  {
   "cell_type": "markdown",
   "id": "b61588df-a383-472e-90d0-e4d928278464",
   "metadata": {},
   "source": [
    "#### harmonize Phase 1 discovery data obs"
   ]
  },
  {
   "cell_type": "markdown",
   "id": "71803873-bb77-4317-9d57-a8acc0e10da5",
   "metadata": {},
   "source": [
    "##### merge the cell-types onto the discovery data"
   ]
  },
  {
   "cell_type": "code",
   "execution_count": 22,
   "id": "a8ec9312-887c-4ec5-a646-b1ddc86d06b6",
   "metadata": {},
   "outputs": [
    {
     "name": "stdout",
     "output_type": "stream",
     "text": [
      "True\n",
      "AnnData object with n_obs × n_vars = 168090 × 36601\n",
      "    obs: 'pool_name', 'Sample_id', 'Tissue_source', 'Brain_region', 'Clinical_diagnosis', 'Age', 'Sex', 'donor_id', 'lane_num', 'Barcode', 'Study', 'Study_type', 'new_anno', 'broad_celltype'\n"
     ]
    }
   ],
   "source": [
    "old_index = adata_disc.obs.index.copy()\n",
    "adata_disc.obs = adata_disc.obs.merge(disc_cell_types, how='left', \n",
    "                                      left_index=True, right_index=True)\n",
    "print(adata_disc.obs.index.equals(old_index))\n",
    "print(adata_disc)\n",
    "if DEBUG:\n",
    "    display(adata_disc.obs.sample(5))"
   ]
  },
  {
   "cell_type": "code",
   "execution_count": 23,
   "id": "ec2b0683-866c-4945-8451-78b1bf72ae3c",
   "metadata": {},
   "outputs": [],
   "source": [
    "adata_disc.obs = adata_disc.obs.drop(columns=['Tissue_source', 'Clinical_diagnosis', \n",
    "                                              'lane_num', 'donor_id'])\n",
    "adata_disc.obs = adata_disc.obs.rename(columns={'Sample_id': 'Sample_ID', \n",
    "                                                'pool_name': 'Batch', \n",
    "                                                'new_anno': 'Cluster', \n",
    "                                                'broad_celltype': 'Cell_type'})"
   ]
  },
  {
   "cell_type": "code",
   "execution_count": 24,
   "id": "0faf5366-460d-428a-a9dd-31c0aa0f1b9b",
   "metadata": {},
   "outputs": [
    {
     "name": "stdout",
     "output_type": "stream",
     "text": [
      "Index(['Sample_ID', 'Sex', 'Age', 'Barcode', 'Study', 'Study_type', 'Batch',\n",
      "       'Cluster', 'Cell_type', 'Brain_region'],\n",
      "      dtype='object')\n",
      "Index(['Sample_ID', 'Batch', 'Cluster', 'Cell_type', 'Sex', 'Brain_region',\n",
      "       'Barcode', 'Study', 'Study_type', 'Age'],\n",
      "      dtype='object')\n",
      "Index(['Barcode', 'Sample_ID', 'Batch', 'Cell_type', 'Cluster', 'Age', 'Sex',\n",
      "       'Study', 'Study_type', 'Brain_region'],\n",
      "      dtype='object')\n",
      "Index(['Batch', 'Sample_ID', 'Brain_region', 'Age', 'Sex', 'Barcode', 'Study',\n",
      "       'Study_type', 'Cluster', 'Cell_type'],\n",
      "      dtype='object')\n"
     ]
    }
   ],
   "source": [
    "print(adata_rep.obs.columns)\n",
    "print(adata_leng.obs.columns)\n",
    "print(adata_morabita.obs.columns)\n",
    "print(adata_disc.obs.columns)"
   ]
  },
  {
   "cell_type": "markdown",
   "id": "18601339-bd31-4ccc-9f9f-26a3d663e922",
   "metadata": {},
   "source": [
    "### harmonize study var attribute featues\n",
    "\n",
    "ok if we lose some features, just need to retain most for clustering purposes"
   ]
  },
  {
   "cell_type": "code",
   "execution_count": 25,
   "id": "e93fa45b-b5b1-4c7e-93e9-4e2c2b0d80fd",
   "metadata": {},
   "outputs": [
    {
     "name": "stdout",
     "output_type": "stream",
     "text": [
      "found 23007 genes shared between datasets\n",
      "replication data\n",
      "13594\n",
      "['AC104964.4', 'AC026412.3', 'AL021707.8', 'AC090809.1', 'AF121898.1', 'AC055720.2', 'AC106772.1', 'AC026415.1', 'AL596257.1', 'AC010280.2', 'AC108925.1', 'AC104633.1', 'AC244517.12', 'AL031963.3', 'AC015845.2', 'AL365295.2', 'AC079171.1', 'AC093801.1', 'AC010336.6', 'AC003965.1']\n",
      "discovery data\n",
      "13594\n",
      "['AC034229.3', 'AC007038.1', 'AL139397.1', 'AC125613.1', 'AC107072.1', 'AL158834.2', 'AL450468.1', 'AC113189.1', 'AC092574.2', 'AL353708.1', 'AP001469.3', 'AC091814.1', 'AC069366.2', 'AC092687.1', 'AC110992.1', 'AP002755.1', 'AL356805.1', 'MPP7-DT', 'AC090578.3', 'H2BFWT']\n",
      "Leng reference data\n",
      "9819\n",
      "['RP11-122L9.1', 'CTD-2561F5.1', 'RP11-293M10.2', 'RP11-354O24.1', 'RP11-10N23.4', 'RP11-157B13.7', 'RP11-351O2.1', 'RP11-145M9.5', 'RP11-497G19.1', 'RP11-484M3.5', 'RP11-298E9.7', 'AC010746.3', 'DARS1-AS1', 'RP11-634H22.1', 'TAFA2', 'RP11-250B2.5', 'RP11-115D19.1', 'RP11-555E9.1', 'RP11-162D9.3', 'CYP2U1-AS1']\n",
      "Morabita reference data\n",
      "35714\n",
      "['RF00019-712', 'POLR2KP2', 'AL450226.2', 'AC010099.2', 'AC007192.1', 'ENPP7P12', 'RF00019-336', 'AL513175.2', 'RF00019-76', 'AC104233.1', 'MIR4296', 'AC024581.2', 'AC015818.6', 'AC092436.1', 'RF00438', 'RNU6-408P', 'LINC00612', 'RNU4-59P', 'AC022392.1', 'OR56A7P']\n"
     ]
    }
   ],
   "source": [
    "def count_var_diffs(data_vars, genes):\n",
    "    diff_genes = set(data_vars) - set(genes)\n",
    "    print(len(diff_genes))\n",
    "    if len(diff_genes) < 20:\n",
    "        print(diff_genes)\n",
    "    else:\n",
    "        print(sample(diff_genes, 20))\n",
    "\n",
    "gene_intersect = (set(adata_rep.var.index) & set(adata_disc.var.index) & \n",
    "set(adata_leng.var.index) & set(adata_morabita.var.index))\n",
    "\n",
    "print(f'found {len(gene_intersect)} genes shared between datasets')\n",
    "        \n",
    "print('replication data')\n",
    "count_var_diffs(adata_rep.var.index, gene_intersect)\n",
    "print('discovery data')\n",
    "count_var_diffs(adata_disc.var.index, gene_intersect)\n",
    "print('Leng reference data')\n",
    "count_var_diffs(adata_leng.var.index, gene_intersect)\n",
    "print('Morabita reference data')\n",
    "count_var_diffs(adata_morabita.var.index, gene_intersect)"
   ]
  },
  {
   "cell_type": "markdown",
   "id": "2f256d30-1a3b-435c-bf60-6af35b0a33cd",
   "metadata": {},
   "source": [
    "### combine the different studies"
   ]
  },
  {
   "cell_type": "markdown",
   "id": "79c5139f-cdb1-46ae-a94f-0e5a007b66c7",
   "metadata": {},
   "source": [
    "#### make sure obs and var indices are unique"
   ]
  },
  {
   "cell_type": "code",
   "execution_count": 26,
   "id": "f7cd3d66-a450-423a-9e1d-19c213327577",
   "metadata": {},
   "outputs": [],
   "source": [
    "adata_rep.obs_names_make_unique()\n",
    "adata_rep.var_names_make_unique()\n",
    "\n",
    "adata_leng.obs_names_make_unique()\n",
    "adata_leng.var_names_make_unique()\n",
    "\n",
    "adata_morabita.obs_names_make_unique()\n",
    "adata_morabita.var_names_make_unique()\n",
    "\n",
    "adata_disc.obs_names_make_unique()\n",
    "adata_disc.var_names_make_unique()"
   ]
  },
  {
   "cell_type": "code",
   "execution_count": 27,
   "id": "7b55f2ce-04d7-4d96-a176-bad9ddd143b8",
   "metadata": {},
   "outputs": [
    {
     "name": "stdout",
     "output_type": "stream",
     "text": [
      "AnnData object with n_obs × n_vars = 307989 × 23007\n",
      "    obs: 'Sample_ID', 'Sex', 'Age', 'Barcode', 'Study', 'Study_type', 'Batch', 'Cluster', 'Cell_type', 'Brain_region'\n"
     ]
    },
    {
     "name": "stderr",
     "output_type": "stream",
     "text": [
      "/opt/conda/lib/python3.7/site-packages/anndata/_core/anndata.py:1828: UserWarning: Observation names are not unique. To make them unique, call `.obs_names_make_unique`.\n",
      "  utils.warn_names_duplicates(\"obs\")\n"
     ]
    }
   ],
   "source": [
    "adata = ad_concat([adata_rep, adata_leng, adata_morabita, adata_disc])\n",
    "adata.obs_names_make_unique('_')\n",
    "print(adata)\n",
    "if DEBUG:\n",
    "    display(adata.obs.sample(10))\n",
    "    display(adata.var.sample(10))"
   ]
  },
  {
   "cell_type": "markdown",
   "id": "7ff98452-65e1-4f99-9b09-fd6db6fedc0e",
   "metadata": {
    "tags": []
   },
   "source": [
    "#### convert the age obs attribute feature to float from string"
   ]
  },
  {
   "cell_type": "code",
   "execution_count": 28,
   "id": "0fc3c8fd-adf5-4ff0-87a9-b94ca421ec75",
   "metadata": {},
   "outputs": [],
   "source": [
    "adata.obs.Age = adata.obs.Age.astype('float')"
   ]
  },
  {
   "cell_type": "markdown",
   "id": "5e079e15-0c6d-402c-a426-4d46a18462fb",
   "metadata": {},
   "source": [
    "#### harmonzie sex values"
   ]
  },
  {
   "cell_type": "code",
   "execution_count": 29,
   "id": "d387e3b9-5256-487f-98c2-edce87ddcb2e",
   "metadata": {},
   "outputs": [],
   "source": [
    "adata.obs.Sex = adata.obs.Sex.replace({'Male': 'male', 'Female': 'female', \n",
    "                                       'M': 'male', 'F': 'female'})"
   ]
  },
  {
   "cell_type": "markdown",
   "id": "4b16c8c7-7b3d-49b8-acf6-9de2e175c54d",
   "metadata": {},
   "source": [
    "#### harmonize cell-type names"
   ]
  },
  {
   "cell_type": "code",
   "execution_count": 30,
   "id": "063f6ee7-99fc-46d3-b5e5-896f781a30e1",
   "metadata": {},
   "outputs": [],
   "source": [
    "adata.obs.Cell_type = adata.obs.Cell_type.replace({'Oligodendrocyte': 'Oligo', \n",
    "                                                   'ODC': 'Oligo',\n",
    "                                                   'Exc': 'ExN', \n",
    "                                                   'EX': 'ExN',\n",
    "                                                   'Astrocyte': 'Astro', \n",
    "                                                   'ASC': 'Astro', \n",
    "                                                   'Inh': 'InN', \n",
    "                                                   'INH': 'InN',\n",
    "                                                   'Microglia': 'Micro', \n",
    "                                                   'MG': 'Micro', \n",
    "                                                   'Endothelial': 'Endo', \n",
    "                                                   'PER.END': 'Endo'})"
   ]
  },
  {
   "cell_type": "markdown",
   "id": "e15da2a2-5944-4b83-9f9f-a453cfdcf733",
   "metadata": {},
   "source": [
    "##### convert the Batch column from object to string"
   ]
  },
  {
   "cell_type": "code",
   "execution_count": 31,
   "id": "e7b6e03d-4fa1-461a-9378-8b6898f750b2",
   "metadata": {},
   "outputs": [],
   "source": [
    "adata.obs.Batch = adata.obs.Batch.astype('string')"
   ]
  },
  {
   "cell_type": "markdown",
   "id": "94784c65-5126-48cd-beb5-f3cc0caf5f7b",
   "metadata": {},
   "source": [
    "### save the data"
   ]
  },
  {
   "cell_type": "code",
   "execution_count": 32,
   "id": "ac8f05c8-ae74-4dbe-9dab-0160f0558459",
   "metadata": {},
   "outputs": [],
   "source": [
    "adata.write(raw_anndata_file)"
   ]
  },
  {
   "cell_type": "code",
   "execution_count": 33,
   "id": "dd1cccbd-105a-4b83-b663-703152328cfb",
   "metadata": {},
   "outputs": [
    {
     "name": "stdout",
     "output_type": "stream",
     "text": [
      "Tue Nov 14 19:56:07 UTC 2023\n"
     ]
    }
   ],
   "source": [
    "!date"
   ]
  }
 ],
 "metadata": {
  "environment": {
   "kernel": "python3",
   "name": "pytorch-gpu.1-13.m107",
   "type": "gcloud",
   "uri": "gcr.io/deeplearning-platform-release/pytorch-gpu.1-13:m107"
  },
  "kernelspec": {
   "display_name": "Python 3",
   "language": "python",
   "name": "python3"
  },
  "language_info": {
   "codemirror_mode": {
    "name": "ipython",
    "version": 3
   },
   "file_extension": ".py",
   "mimetype": "text/x-python",
   "name": "python",
   "nbconvert_exporter": "python",
   "pygments_lexer": "ipython3",
   "version": "3.7.12"
  }
 },
 "nbformat": 4,
 "nbformat_minor": 5
}
