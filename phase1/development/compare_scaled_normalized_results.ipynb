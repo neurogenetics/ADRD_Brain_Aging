{
 "cells": [
  {
   "cell_type": "markdown",
   "id": "381c6948-dcc4-487c-aabb-450e06398584",
   "metadata": {},
   "source": [
    "## Notebook to compare both glmmTMB and pseudobulk GLM results from the different data preps of the NABEC frontal cortex data; ie scVI normalized and scaled versus "
   ]
  },
  {
   "cell_type": "code",
   "execution_count": null,
   "id": "96a4a43d-7245-4f75-b912-c9b788055855",
   "metadata": {},
   "outputs": [],
   "source": [
    "!date"
   ]
  },
  {
   "cell_type": "markdown",
   "id": "4f8008fc-2d87-459c-a6ab-ff37cd4593ad",
   "metadata": {},
   "source": [
    "#### import libraries"
   ]
  },
  {
   "cell_type": "code",
   "execution_count": null,
   "id": "967a496f-9305-4761-94e1-a7970ef19232",
   "metadata": {},
   "outputs": [],
   "source": [
    "from pandas import read_csv, DataFrame, concat\n",
    "from statsmodels.formula.api import ols\n",
    "import matplotlib.pyplot as plt\n",
    "from matplotlib.pyplot import rc_context\n",
    "from seaborn import lmplot\n",
    "from matplotlib_venn import venn2"
   ]
  },
  {
   "cell_type": "markdown",
   "id": "83ab763b-ede7-4ae1-b7a8-fe63989993e5",
   "metadata": {},
   "source": [
    "#### set notebook variables"
   ]
  },
  {
   "cell_type": "code",
   "execution_count": null,
   "id": "8cabaf29-db45-4ef5-92b4-8f9f4e5b53ad",
   "metadata": {},
   "outputs": [],
   "source": [
    "# parameters\n",
    "project = 'aging_phase1'\n",
    "set_name = f'{project}_replication'\n",
    "\n",
    "# directories for initial setup\n",
    "wrk_dir = '/labshare/raph/datasets/adrd_neuro/brain_aging/phase1'\n",
    "replication_dir = f'{wrk_dir}/replication'\n",
    "\n",
    "# in files\n",
    "glmpb_result_file_frmt = '{this_dir}/{name}.glm_pb_age_diffs.csv'\n",
    "glmmtmb_result_file_frmt = '{this_dir}/{name}.glmmtmb_age_diffs.csv'\n",
    "\n",
    "# out files\n",
    "\n",
    "# constants\n",
    "DEBUG = False"
   ]
  },
  {
   "cell_type": "markdown",
   "id": "3f45f960-ad0e-4db2-93e5-0f18142b1ee2",
   "metadata": {},
   "source": [
    "#### functions"
   ]
  },
  {
   "cell_type": "code",
   "execution_count": null,
   "id": "79d60d33-a7b3-482d-9582-df42231dc69f",
   "metadata": {},
   "outputs": [],
   "source": [
    "def load_results(path: str, name: str) -> DataFrame:\n",
    "    if DEBUG:\n",
    "        print(name, path)\n",
    "    ret_df = read_csv(path)\n",
    "    # rename to glmmtmb headers to match glm_pb\n",
    "    ret_df = ret_df.rename(columns={'estimate': 'coef', 'std.error': 'stderr',\n",
    "                                    'statistic': 'z', 'p.value': 'p-value'})\n",
    "    # replace any spaces in the tissue column\n",
    "    ret_df.tissue = ret_df.tissue.str.replace(' ', '_')\n",
    "    ret_df['result_set'] = name\n",
    "    return ret_df\n",
    "\n",
    "def compare_results(df: DataFrame, endog_method: str,\n",
    "                    exog_method: str, metric: str):\n",
    "    methods_df = df.loc[df.result_set.isin([endog_method,exog_method])]\n",
    "    if DEBUG:\n",
    "        print(methods_df.shape)\n",
    "        display(methods_df.result_set.value_counts())\n",
    "    this_piv = methods_df.pivot_table(values=metric, index=['feature', 'tissue'],\n",
    "                                      columns='result_set')\n",
    "    if DEBUG:\n",
    "        display(this_piv.sample(5))\n",
    "    print(f'missings found {this_piv.loc[this_piv[endog_method].isna()].shape}')\n",
    "    # this_piv = this_piv.fillna(0)\n",
    "    this_piv = this_piv.dropna()\n",
    "    # this_piv = this_piv.replace([inf, -inf], 0)\n",
    "    model_results = ols(formula=f'{endog_method} ~ {exog_method}',\n",
    "                        data=this_piv).fit()\n",
    "    print(model_results.summary())\n",
    "\n",
    "    with rc_context({'figure.figsize': (9, 9)}):\n",
    "        plt.style.use('seaborn-v0_8-talk')\n",
    "        lmplot(data=this_piv, x=endog_method, y=exog_method)\n",
    "        plt.title(metric)\n",
    "        plt.show()\n",
    "\n",
    "\n",
    "def check_results_intersection(df: DataFrame, endog_method: str, \n",
    "                               exog_method: str, max_p: float=0.05):\n",
    "    endog_results = df.loc[(df.result_set == endog_method) &\n",
    "                           (df.fdr_bh <= max_p)].copy()\n",
    "    exog_results = df.loc[(df.result_set == exog_method) &\n",
    "                          (df.fdr_bh <= max_p)].copy()\n",
    "    endog_results['pair'] = endog_results.feature + ':' + endog_results.tissue\n",
    "    exog_results['pair'] = exog_results.feature + ':' + exog_results.tissue\n",
    "    set1 = set(endog_results.pair)\n",
    "    set2 = set(exog_results.pair)\n",
    "    print(len(set1 & set2))\n",
    "\n",
    "    # Create the Venn diagram\n",
    "    venn2(subsets=(len(set1 - set2), len(set2 - set1), len(set1 & set2)),\n",
    "          set_labels=(endog_method, exog_method))\n",
    "    plt.show()"
   ]
  },
  {
   "cell_type": "markdown",
   "id": "191b773b-01f0-4710-bce9-9b2c154bd574",
   "metadata": {},
   "source": [
    "### load results"
   ]
  },
  {
   "cell_type": "markdown",
   "id": "c18b93f9-e44b-47f0-9812-adfffdb48abf",
   "metadata": {},
   "source": [
    "#### load the results based on unscaled data"
   ]
  },
  {
   "cell_type": "code",
   "execution_count": null,
   "id": "6c5734c9-5821-4e8e-811d-9639a79003c3",
   "metadata": {},
   "outputs": [],
   "source": [
    "temp1_df = load_results(glmmtmb_result_file_frmt\n",
    "                        .format(this_dir=f'{replication_dir}/full_h5ad_results',\n",
    "                                name=set_name), 'glmmtmb_unscaled')\n",
    "temp2_df = load_results(glmpb_result_file_frmt\n",
    "                        .format(this_dir=f'{replication_dir}/full_h5ad_results',\n",
    "                                name=set_name), 'glmpb_unscaled')\n",
    "results_df = concat([temp1_df, temp2_df])"
   ]
  },
  {
   "cell_type": "markdown",
   "id": "1ba5934d-5b2a-4f40-9d4b-65f112bec2eb",
   "metadata": {},
   "source": [
    "#### load the results based on the scVI normalized minmax scaled data"
   ]
  },
  {
   "cell_type": "code",
   "execution_count": null,
   "id": "c0aca987-c3be-431d-857d-5ddcaac3226b",
   "metadata": {},
   "outputs": [],
   "source": [
    "temp1_df = load_results(glmmtmb_result_file_frmt.format(this_dir=replication_dir,\n",
    "                                                        name=set_name),\n",
    "                        'glmmtmb_scaled')\n",
    "temp2_df = load_results(glmpb_result_file_frmt.format(this_dir=replication_dir,\n",
    "                                                      name=set_name),\n",
    "                        'glmpb_scaled')\n",
    "results_df = concat([results_df, temp1_df, temp2_df])"
   ]
  },
  {
   "cell_type": "code",
   "execution_count": null,
   "id": "f569928b-84ea-466f-bc94-4c3bd2968b65",
   "metadata": {},
   "outputs": [],
   "source": [
    "if DEBUG:\n",
    "    print(results_df.shape)\n",
    "    display(results_df.result_set.value_counts())\n",
    "    display(results_df.sample(4))"
   ]
  },
  {
   "cell_type": "markdown",
   "id": "d6d25047-9ca5-4929-b74a-dd065435b019",
   "metadata": {},
   "source": [
    "### compare result sets"
   ]
  },
  {
   "cell_type": "markdown",
   "id": "7c493598-6a92-45db-86a8-b4316119d73e",
   "metadata": {},
   "source": [
    "#### compare scaled to unscaled for glmmTMB results"
   ]
  },
  {
   "cell_type": "code",
   "execution_count": null,
   "id": "334d4c8f-06c2-478e-8a0d-2e82ddd64f8a",
   "metadata": {
    "scrolled": true
   },
   "outputs": [],
   "source": [
    "compare_results(results_df, 'glmmtmb_unscaled', 'glmmtmb_scaled', 'coef')"
   ]
  },
  {
   "cell_type": "markdown",
   "id": "02e33ab2-368e-44d5-b28d-5bd40f40197a",
   "metadata": {},
   "source": [
    "#### compare glmmTMB to pseudobulk GLM for unscaled data"
   ]
  },
  {
   "cell_type": "code",
   "execution_count": null,
   "id": "e27f5746-7ff6-4a9d-819d-5fb6d6f42877",
   "metadata": {
    "scrolled": true
   },
   "outputs": [],
   "source": [
    "compare_results(results_df, 'glmmtmb_unscaled', 'glmpb_unscaled', 'coef')"
   ]
  },
  {
   "cell_type": "markdown",
   "id": "ba42a004-80f9-409e-9d7e-8f796f2f663d",
   "metadata": {},
   "source": [
    "#### compare glmmTMB to pseudobulk GLM for scaled data"
   ]
  },
  {
   "cell_type": "code",
   "execution_count": null,
   "id": "0370e51e-ee06-4536-9876-dd94bc9c6fde",
   "metadata": {
    "scrolled": true
   },
   "outputs": [],
   "source": [
    "compare_results(results_df, 'glmmtmb_scaled', 'glmpb_scaled', 'coef')"
   ]
  },
  {
   "cell_type": "markdown",
   "id": "79185637-00da-47bf-b0cd-9824c4cd60a2",
   "metadata": {},
   "source": [
    "#### compare scaled to unscaled for pseudobulk GLM results"
   ]
  },
  {
   "cell_type": "code",
   "execution_count": null,
   "id": "c984079a-54ca-4e0e-af7c-b4f533c9c4c0",
   "metadata": {
    "scrolled": true
   },
   "outputs": [],
   "source": [
    "compare_results(results_df, 'glmpb_unscaled', 'glmpb_scaled', 'coef')"
   ]
  },
  {
   "cell_type": "markdown",
   "id": "c534e472-71d1-4351-ad6c-591ec0d59aa4",
   "metadata": {},
   "source": [
    "### check intersection of statistically significant results"
   ]
  },
  {
   "cell_type": "code",
   "execution_count": null,
   "id": "0622b6d4-b09c-474b-9ada-e781fd650dd4",
   "metadata": {},
   "outputs": [],
   "source": [
    "check_results_intersection(results_df, 'glmpb_unscaled', 'glmpb_scaled')"
   ]
  },
  {
   "cell_type": "code",
   "execution_count": null,
   "id": "f63b9850-f8c1-4007-b8d2-a0f95fea8855",
   "metadata": {},
   "outputs": [],
   "source": [
    "check_results_intersection(results_df, 'glmmtmb_unscaled', 'glmmtmb_scaled')"
   ]
  },
  {
   "cell_type": "code",
   "execution_count": null,
   "id": "fe4ac2fe-c319-446e-b903-966d21f669eb",
   "metadata": {},
   "outputs": [],
   "source": [
    "check_results_intersection(results_df, 'glmmtmb_unscaled', 'glmpb_unscaled')"
   ]
  },
  {
   "cell_type": "code",
   "execution_count": null,
   "id": "1bf4b385-0c46-47eb-9c10-903fa2b43899",
   "metadata": {},
   "outputs": [],
   "source": [
    "check_results_intersection(results_df, 'glmmtmb_scaled', 'glmpb_scaled')"
   ]
  },
  {
   "cell_type": "code",
   "execution_count": null,
   "id": "23ed2524-51ed-4e2a-813e-052625b087e2",
   "metadata": {},
   "outputs": [],
   "source": [
    "!date"
   ]
  }
 ],
 "metadata": {
  "kernelspec": {
   "display_name": "Python 3 (ipykernel)",
   "language": "python",
   "name": "python3"
  },
  "language_info": {
   "codemirror_mode": {
    "name": "ipython",
    "version": 3
   },
   "file_extension": ".py",
   "mimetype": "text/x-python",
   "name": "python",
   "nbconvert_exporter": "python",
   "pygments_lexer": "ipython3",
   "version": "3.9.18"
  }
 },
 "nbformat": 4,
 "nbformat_minor": 5
}
