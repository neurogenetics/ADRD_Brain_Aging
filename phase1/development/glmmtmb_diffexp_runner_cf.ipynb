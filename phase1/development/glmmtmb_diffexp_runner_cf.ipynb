{
 "cells": [
  {
   "cell_type": "markdown",
   "id": "364bf2fe",
   "metadata": {},
   "source": [
    "## Notebook to create an anndata object with the demuxlet identified samples mappings per sample pool via papermill"
   ]
  },
  {
   "cell_type": "code",
   "execution_count": null,
   "id": "164a1059",
   "metadata": {},
   "outputs": [],
   "source": [
    "!date"
   ]
  },
  {
   "cell_type": "markdown",
   "id": "e39676fa",
   "metadata": {},
   "source": [
    "#### import libraries and set notebook variables"
   ]
  },
  {
   "cell_type": "code",
   "execution_count": null,
   "id": "331e1885",
   "metadata": {},
   "outputs": [],
   "source": [
    "import os\n",
    "import papermill as pm\n",
    "import concurrent.futures\n",
    "import nest_asyncio\n",
    "nest_asyncio.apply()"
   ]
  },
  {
   "cell_type": "code",
   "execution_count": null,
   "id": "365c29e9",
   "metadata": {},
   "outputs": [],
   "source": [
    "# naming\n",
    "cohort = 'aging'\n",
    "\n",
    "# directories\n",
    "home_dir = f'/labshare/raph/notebooks/expression/adrd_neuro/{cohort}'\n",
    "\n",
    "# base notebook to be run per tuple iteration\n",
    "base_notebook = f'{home_dir}/glmmtmb_diffexp.ipynb'\n",
    "\n",
    "# output path for the generated notebooks\n",
    "out_nb_dir = f'{home_dir}/pm_gend_nbs'\n",
    "\n",
    "# setup parameters to iterate\n",
    "brain_regions = ['Entorhinal cortex', 'Putamen', 'Subventricular zone', \n",
    "                 'Middle temporal gyrus']\n",
    "cell_types = ['Oligodendrocyte-1', 'SPN D1', 'SPN D2', 'Oligodendrocyte-2', \n",
    "              'Astrocyte', 'ExN CUX2 LAMP5', 'InN ADARB2 VIP', 'ExN FEZF2', \n",
    "              'OPC', 'ExN RORB THEMIS', 'InN LHX6 PVALB', 'Radial Glia', \n",
    "              'Microglia', 'InN ADARB2 LAMP5', 'ExN CUX2 ADARB2', \n",
    "              'InN LHX6 SST', 'SPN D1-2', 'Endothelial', 'ExN RORB', \n",
    "              'ExN LAMP5', 'Astrocyte-GFAP-Hi', 'SPN D2-2', 'ExN THEMIS']\n",
    "groupings = {'Brain_region': brain_regions, 'new_anno': cell_types}"
   ]
  },
  {
   "cell_type": "markdown",
   "id": "5b0557f3",
   "metadata": {},
   "source": [
    "#### utility functions"
   ]
  },
  {
   "cell_type": "code",
   "execution_count": null,
   "id": "a7196790",
   "metadata": {},
   "outputs": [],
   "source": [
    "def run_pm_notebook(base_notebook: str, out_notebook: str, params: dict) -> str:\n",
    "    ret_val = f'notebook: {out_notebook}\\nparams: {params}'\n",
    "    pm.execute_notebook(input_path=base_notebook, output_path=out_notebook, \n",
    "                        parameters=params, progress_bar=False)\n",
    "    return ret_val"
   ]
  },
  {
   "cell_type": "markdown",
   "id": "cb378027",
   "metadata": {},
   "source": [
    "#### check the notebook template"
   ]
  },
  {
   "cell_type": "code",
   "execution_count": null,
   "id": "5ffc0fc6",
   "metadata": {},
   "outputs": [],
   "source": [
    "pm.inspect_notebook(base_notebook)"
   ]
  },
  {
   "cell_type": "markdown",
   "id": "5b9d6896",
   "metadata": {},
   "source": [
    "#### iterate over the list running the notebook per sample pool"
   ]
  },
  {
   "cell_type": "code",
   "execution_count": null,
   "id": "777fb415",
   "metadata": {},
   "outputs": [],
   "source": [
    "%%time\n",
    "# make sure the notebook output dir exists\n",
    "os.makedirs(out_nb_dir, exist_ok=True)\n",
    "\n",
    "futures = []\n",
    "results = []\n",
    "with concurrent.futures.ProcessPoolExecutor() as ppe:\n",
    "    for g_type, groups in groupings.items():\n",
    "        for grouping in groups:\n",
    "            param_dict = {'region_celltype': grouping, 'obs_type': g_type, 'testing': True}\n",
    "            out_notebook = f'{out_nb_dir}/{grouping.replace(\" \", \"_\")}.glmmtmb_diffexp.ipynb'\n",
    "            futures.append(ppe.submit(run_pm_notebook, base_notebook, out_notebook, param_dict))"
   ]
  },
  {
   "cell_type": "code",
   "execution_count": null,
   "id": "bedbdf79",
   "metadata": {},
   "outputs": [],
   "source": [
    "for future in concurrent.futures.as_completed(futures):\n",
    "    results.append(future.result())"
   ]
  },
  {
   "cell_type": "code",
   "execution_count": null,
   "id": "4d291618",
   "metadata": {},
   "outputs": [],
   "source": [
    "print(results)"
   ]
  },
  {
   "cell_type": "code",
   "execution_count": null,
   "id": "5a3965f4",
   "metadata": {},
   "outputs": [],
   "source": []
  }
 ],
 "metadata": {
  "environment": {
   "name": "common-cpu.m65",
   "type": "gcloud",
   "uri": "gcr.io/deeplearning-platform-release/base-cpu:m65"
  },
  "kernelspec": {
   "display_name": "Python 3 (ipykernel)",
   "language": "python",
   "name": "python3"
  },
  "language_info": {
   "codemirror_mode": {
    "name": "ipython",
    "version": 3
   },
   "file_extension": ".py",
   "mimetype": "text/x-python",
   "name": "python",
   "nbconvert_exporter": "python",
   "pygments_lexer": "ipython3",
   "version": "3.8.11"
  }
 },
 "nbformat": 4,
 "nbformat_minor": 5
}
