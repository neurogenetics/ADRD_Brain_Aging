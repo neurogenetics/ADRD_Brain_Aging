{
 "cells": [
  {
   "cell_type": "markdown",
   "id": "79d5cf2c-ac54-46f7-8171-8f1ddd6aee0d",
   "metadata": {},
   "source": [
    "# Figure 1 and Supp Fig 2: UMAPs of Nuclei Clustering at Leiden 0.85 Resolution\n",
    "Visualization conceptualized by Raph Gibbs, Megan Duffy, and Monica Mesecar. \n",
    "AI coding support for aesthetics with Perplexity"
   ]
  },
  {
   "cell_type": "code",
   "execution_count": null,
   "id": "e95f76f9-ec46-436e-8d3e-cb56ea22a987",
   "metadata": {
    "tags": []
   },
   "outputs": [],
   "source": [
    "! date"
   ]
  },
  {
   "cell_type": "markdown",
   "id": "632da94f-4ce1-4031-88c6-8184aa05284b",
   "metadata": {},
   "source": [
    "## Install and Import Packages:"
   ]
  },
  {
   "cell_type": "code",
   "execution_count": null,
   "id": "b95be1b6-5137-4a3e-8262-c27a0ea81c42",
   "metadata": {
    "scrolled": true,
    "tags": []
   },
   "outputs": [],
   "source": [
    "#Install Pandas\n",
    "!pip install pandas\n",
    "\n",
    "#Install ScanPy\n",
    "!pip install scanpy"
   ]
  },
  {
   "cell_type": "code",
   "execution_count": null,
   "id": "64113bf1-c510-45c0-89a8-d6e3e84e32c0",
   "metadata": {
    "tags": []
   },
   "outputs": [],
   "source": [
    "#Import ScanPy\n",
    "import scanpy as sc\n",
    "\n",
    "#Import Annotation data bject\n",
    "import anndata as AnnData\n",
    "\n",
    "#Import NumPy\n",
    "import numpy as np\n",
    "\n",
    "#Import where module\n",
    "from numpy import where\n",
    "\n",
    "#Import relevant Pandas functions\n",
    "from pandas import read_csv, concat\n",
    "\n",
    "#Import MatPlotLib/PyPlot\n",
    "import matplotlib as mpl\n",
    "import matplotlib.colors as mcolors\n",
    "import matplotlib.pyplot as plt\n",
    "from matplotlib.pyplot import rc_context\n",
    "\n",
    "#Import Seaborn\n",
    "import seaborn as sns\n",
    "\n",
    "#Import Warnings/Filter \n",
    "import warnings\n",
    "warnings.simplefilter('ignore')\n",
    "\n",
    "sc.settings.verbosity = 3             # verbosity: errors (0), warnings (1), info (2), hints (3)\n",
    "sc.logging.print_header()"
   ]
  },
  {
   "cell_type": "markdown",
   "id": "778fb764-ba7f-43ec-98b4-431f8f3db64c",
   "metadata": {},
   "source": [
    "## Create Shorthand for Files/File Paths"
   ]
  },
  {
   "cell_type": "code",
   "execution_count": null,
   "id": "4eb2e8ac-585e-4b82-9cbe-4f37804f396c",
   "metadata": {
    "tags": []
   },
   "outputs": [],
   "source": [
    "#Set up variables\n",
    "# naming\n",
    "\n",
    "# in files\n",
    "full_file = '/data/ADRD/brain_aging/phase1/demux/aging.pegasus.leiden_085.subclustered.h5ad'\n",
    "\n",
    "# out files\n",
    "out_h5ad_file = '/data/ADRD/brain_aging/phase1/aging.pegasus.leiden_085.subclustered.full.annotated.h5ad'\n",
    "\n",
    "# variables\n",
    "DEBUG = True \n",
    "MIN_CELL_PERCENT = 0.005\n",
    "MAX_MITO_PERCENT = 10\n",
    "TESTING = False\n",
    "testing_cell_size = 5000\n",
    "FILTER_FEATURES_HV = True\n",
    "TOP_FEATURES_PERCENT = 0.20"
   ]
  },
  {
   "cell_type": "markdown",
   "id": "e46009b1-f963-44e1-90a8-4e3757a5e793",
   "metadata": {},
   "source": [
    "## Load Data"
   ]
  },
  {
   "cell_type": "code",
   "execution_count": null,
   "id": "ed648ae2-7f25-4853-afd8-1618d418ad1f",
   "metadata": {
    "tags": []
   },
   "outputs": [],
   "source": [
    "%%time\n",
    "#Read in-file to ScanPy\n",
    "adata = sc.read(full_file)\n",
    "print(adata)\n",
    "if DEBUG:\n",
    "    display(adata.obs.head())"
   ]
  },
  {
   "cell_type": "code",
   "execution_count": null,
   "id": "918bc62e-327d-4d54-b381-12f71280602a",
   "metadata": {},
   "outputs": [],
   "source": [
    "#When displaying UMAP, remove cells that are not definitively annotated or are mis-annotated\n",
    "#Create mask for cells to remove\n",
    "mask = ((adata.obs['broad_celltype'] == 'SPN') & (adata.obs['Brain_region'] != 'Putamen')) | (adata.obs['broad_celltype'] == 'Other') #Non-Putamen SPNs and \"Other\"\n",
    "\n",
    "#Copy adata with mask removed so as not to overwrite \n",
    "adata = adata[~mask].copy()"
   ]
  },
  {
   "cell_type": "markdown",
   "id": "2178dcda-b28a-4e3e-885e-fbce1c5ef169",
   "metadata": {},
   "source": [
    "## Create UMAP and Color by Leiden Cluster Label"
   ]
  },
  {
   "cell_type": "code",
   "execution_count": null,
   "id": "47ce1716-67f8-4e4b-a9b0-ffdcfdc5bf85",
   "metadata": {
    "tags": []
   },
   "outputs": [],
   "source": [
    "#Plot UMAP amd color and label by LEIDEN CLUSTER LABEL\n",
    "\n",
    "#Figure creation, size, and resolution:\n",
    "with rc_context({'figure.figsize': (8, 8), 'figure.dpi': 100}): \n",
    "    #Specify color palette:\n",
    "    plt.style.use('seaborn-v0_8-bright') #Must include -v_08- if using newer version. Remove these characters if not.\n",
    "    #Specify data object source and what variable to color by:\n",
    "    sc.pl.umap(adata, color=['leiden_labels_085'], \n",
    "               #Specify y/n frame and legend location:\n",
    "               frameon=False, legend_loc='on data')"
   ]
  },
  {
   "cell_type": "markdown",
   "id": "95d53d9d-c008-4120-ba0e-1cd2a60caa8c",
   "metadata": {},
   "source": [
    "## Color UMAP by Brain Region of Origin"
   ]
  },
  {
   "cell_type": "code",
   "execution_count": null,
   "id": "62b01555-33c9-495e-ae20-a59eae6d37d7",
   "metadata": {},
   "outputs": [],
   "source": [
    "#Specify Regional color palette dictionary\n",
    "custom_palette_region = {\n",
    "    'Entorhinal cortex': '#841F84',  \n",
    "    'Middle temporal gyrus': '#2B79A9',  \n",
    "    'Putamen': '#A8244B', \n",
    "    'Subventricular zone': '#E5B710',  \n",
    "}\n",
    "#Set Up Plot\n",
    "with rc_context({'figure.figsize': (9, 9), 'figure.dpi': 300}):\n",
    "    plt.style.use('seaborn-v0_8-bright') #Must include -v_08- if using newer version. Remove these characters if not.\n",
    "    \n",
    "    fig, ax = plt.subplots()\n",
    "    \n",
    "    sc.pl.umap(\n",
    "        adata, #Data Object\n",
    "        color=['Brain_region'], #Variable to color by\n",
    "        palette=custom_palette_region,   #Custom regional color palette\n",
    "        frameon=False,\n",
    "        title='UMAP of Broad Cell Types by Brain Region\\n(Leiden Resolution: 0.85)',\n",
    "        ax=ax,\n",
    "        show=False\n",
    "    )\n",
    "    #Add cell type labels as overlay\n",
    "    for cluster in adata.obs['broad_celltype'].unique(): #Specify for a unique cell type\n",
    "        #Add label overlay onto existing UMAP\n",
    "        cells = adata[adata.obs['broad_celltype'] == cluster].obsm['X_umap']\n",
    "        #Center labels on clusters \n",
    "        center = cells.mean(axis=0)\n",
    "        ax.text(center[0], center[1], cluster, \n",
    "                fontweight='bold', ha='center', va='center')\n",
    "\n",
    "    plt.tight_layout()\n",
    "    plt.show()\n"
   ]
  },
  {
   "cell_type": "markdown",
   "id": "cf2ba4cd-7dce-43aa-acaf-a3a68e060534",
   "metadata": {},
   "source": [
    "## Color UMAP by Broad Cell Type Label"
   ]
  },
  {
   "cell_type": "code",
   "execution_count": null,
   "id": "a7e53e1f-7ebc-44a2-9777-b1a8a3cf7821",
   "metadata": {},
   "outputs": [],
   "source": [
    "#Originally Cell types were annotated more deeply but the decision was made to report at the level\n",
    "#of broad cell type due to sampe size. So, cell subtypes with shared broad types were colored together \n",
    "\n",
    "custom_palette_cells = {\n",
    "    'InN': '#3FA291',  # Teal Blue\n",
    "    'InN ADARB2 LAMP5': '#3FA291',  # Teal Blue\n",
    "    'InN ADARB2 VIP': '#3FA291',  # Teal Blue\n",
    "    'InN LHX6 PVALB': '#3FA291',  # Teal Blue\n",
    "    'InN LHX6 SST': '#3FA291',  # Teal Blue\n",
    "    \n",
    "    'ExN': '#D9C300', #Bright Yellow\n",
    "    'ExN CUX2 ADARB2': '#D9C300', #Bright Yellow\n",
    "    'ExN CUX2 LAMP5': '#D9C300', #Bright Yellow\n",
    "    'ExN LAMP5': '#D9C300', #Bright Yellow\n",
    "    'ExN FEZF2': '#D9C300', #Bright Yellow\n",
    "    'ExN RORB': '#D9C300', #Bright Yellow\n",
    "    'ExN RORB THEMIS': '#D9C300', #Bright Yellow\n",
    "    'ExN THEMIS': '#D9C300', #Bright Yellow\n",
    "    \n",
    "    'SPN': '#514785', #Purple/Grey\n",
    "    'SPN D1': '#514785', #Purple/Grey\n",
    "    'SPN D1-2': '#514785', #Purple/Grey\n",
    "    'SPN D2': '#514785', #Purple/Grey\n",
    "    'SPN D2-2': '#514785', #Purple/Grey\n",
    "    \n",
    "    \n",
    "    'Microglia': '#AD5E03',#Burnt Orange\n",
    "    \n",
    "    'Astrocyte': '#2B5B7D', #Blue/Grey\n",
    "    'Astrocyte-GFAP-Hi': '#2B5B7D', #Blue/Grey\n",
    "    \n",
    "    'Oligodendrocyte': '#60861D', #Moss Green\n",
    "    'Oligodendrocyte-1': '#60861D', #Moss Green\n",
    "    'Oligodendrocyte-2': '#60861D', #Moss Green\n",
    "    'Oligodendrocyte-3': '#60861D', #Moss Green\n",
    "    \n",
    "    'OPC': '#BB3A8A', #Fuschia \n",
    "    \n",
    "    'Mural': '#B21706', #Deep red\n",
    "    \n",
    "    'Endothelial': '#683668', # Deep Violet\n",
    "    \n",
    "    'Ependymal': '#908005', #Green brown\n",
    "   \n",
    "    #Removed from dataset\n",
    "    'Other': '#d9d9d9', #Light Grey\n",
    "    'uncertain':  '#d9d9d9', #Light Grey\n",
    "    'uncertain-2': '#d9d9d9', #Light Grey\n",
    "    'uncertain-3': '#d9d9d9', #Light Grey\n",
    "\n",
    "    'Radial Glia': '#d9d9d9', #Light Grey\n",
    "}\n",
    "\n",
    "# Set up the plot\n",
    "with rc_context({'figure.figsize': (8, 8), 'figure.dpi': 300}):\n",
    "    plt.style.use('seaborn-v0_8-bright') #Must include -v_08- if using newer version. Remove these characters if not.\n",
    "    sc.pl.umap(adata, \n",
    "               color=['broad_celltype'], \n",
    "               frameon=False,\n",
    "               legend_loc='on data',\n",
    "               legend_fontsize=8,\n",
    "               title='UMAP of Broad Cell Types\\n(Leiden Resolution: 0.85)',\n",
    "               palette=custom_palette_cells, #Custom cell type color palette\n",
    "               save=\"Broad_CellType_UMAP_nolabel.png\")\n",
    "    plt.show()"
   ]
  }
 ],
 "metadata": {
  "kernelspec": {
   "display_name": "python/3.12",
   "language": "python",
   "name": "py3.12"
  },
  "language_info": {
   "codemirror_mode": {
    "name": "ipython",
    "version": 3
   },
   "file_extension": ".py",
   "mimetype": "text/x-python",
   "name": "python",
   "nbconvert_exporter": "python",
   "pygments_lexer": "ipython3",
   "version": "3.12.8"
  }
 },
 "nbformat": 4,
 "nbformat_minor": 5
}
