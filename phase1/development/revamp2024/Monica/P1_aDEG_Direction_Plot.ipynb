{
 "cells": [
  {
   "cell_type": "markdown",
   "id": "06c8b63e-b748-441a-8a13-522147692eb2",
   "metadata": {},
   "source": [
    "# aDEG Direction Exploration\n",
    "Code conceptualized and written by Monica E. Mesecar with aesthetic support by Perplexity AI."
   ]
  },
  {
   "cell_type": "code",
   "execution_count": null,
   "id": "3a43fe47-736c-4999-baaf-02cc902584a8",
   "metadata": {},
   "outputs": [],
   "source": [
    "import pandas as pd\n",
    "import numpy as np\n",
    "import matplotlib\n",
    "matplotlib.rcParams['pdf.fonttype'] = 42\n",
    "import matplotlib.pyplot as plt\n",
    "import seaborn as sns\n",
    "from matplotlib import colors\n",
    "from matplotlib import rcParams"
   ]
  },
  {
   "cell_type": "code",
   "execution_count": null,
   "id": "79f17731-9844-4f89-9c17-4a2faaf42ca6",
   "metadata": {},
   "outputs": [],
   "source": [
    "!pwd"
   ]
  },
  {
   "cell_type": "code",
   "execution_count": null,
   "id": "2fe8ad34-889f-4c90-a00a-9f1cb53d37ff",
   "metadata": {},
   "outputs": [],
   "source": [
    "p1_adeg=pd.read_csv(\"P1_aging.glmmtmb_age_diffs_fdr_cleaned.csv\")"
   ]
  },
  {
   "cell_type": "code",
   "execution_count": null,
   "id": "1cc2f554-cc28-4652-aa91-2466059f0bfe",
   "metadata": {},
   "outputs": [],
   "source": [
    "display(p1_adeg)"
   ]
  },
  {
   "cell_type": "code",
   "execution_count": null,
   "id": "69956f15-f1d8-4167-8e56-2d5e2d33c0b4",
   "metadata": {},
   "outputs": [],
   "source": [
    "#Create lists of subsets of interest\n",
    "p1_type_list=p1_adeg.type.unique().tolist()\n",
    "print(p1_type_list)"
   ]
  },
  {
   "cell_type": "code",
   "execution_count": null,
   "id": "b74b08c9-70de-4581-89e3-98e3b0625d77",
   "metadata": {},
   "outputs": [],
   "source": [
    "#Subset only 'region_broad_celltype'\n",
    "p1_region_broad_df = p1_adeg.loc[p1_adeg['type'] == 'region_broad_celltype']"
   ]
  },
  {
   "cell_type": "code",
   "execution_count": null,
   "id": "0a88466c-14eb-4d72-a24f-249b1ce125cf",
   "metadata": {
    "scrolled": true
   },
   "outputs": [],
   "source": [
    "#Show df\n",
    "p1_region_broad_df "
   ]
  },
  {
   "cell_type": "code",
   "execution_count": null,
   "id": "5f536ad6-b652-48bf-ab7f-e124fd5d90d7",
   "metadata": {},
   "outputs": [],
   "source": [
    "p1_region_broad_df  = p1_region_broad_df [p1_region_broad_df ['celltype'] != 'Indeterminate']"
   ]
  },
  {
   "cell_type": "code",
   "execution_count": null,
   "id": "18422240-a889-4766-ac7b-a730b91fdfb3",
   "metadata": {},
   "outputs": [],
   "source": [
    "unique_count = p1_region_broad_df['feature'].nunique()\n",
    "print(unique_count)"
   ]
  },
  {
   "cell_type": "code",
   "execution_count": null,
   "id": "a236cba9-57f7-4c0c-a9d7-a1bd841ab33a",
   "metadata": {},
   "outputs": [],
   "source": [
    "custom_celltype_order = ['InN', 'ExN', 'SPN', 'OPC', 'Oligodendrocyte', 'Astrocyte', 'Microglia', 'Ependymal', 'Endothelial', 'Mural']  # Replace with your desired order"
   ]
  },
  {
   "cell_type": "code",
   "execution_count": null,
   "id": "90346560-f468-497d-994d-7f756580c976",
   "metadata": {},
   "outputs": [],
   "source": [
    "#All aDEGs including shared \n",
    "\n",
    "import matplotlib.pyplot as plt\n",
    "import pandas as pd\n",
    "import numpy as np\n",
    "\n",
    "df = p1_region_broad_df\n",
    "\n",
    "cell_types = cell_types = custom_celltype_order\n",
    "all_regions = sorted(df['region'].unique())\n",
    "cols = 3\n",
    "rows = int(np.ceil(len(cell_types) / cols))\n",
    "soft_red = '#f4a582'\n",
    "soft_blue = '#92c5de'\n",
    "\n",
    "fig, axes = plt.subplots(rows, cols, figsize=(15, 5*rows))\n",
    "axes = axes.flatten()\n",
    "\n",
    "for i, cell_type in enumerate(cell_types):\n",
    "    ax = axes[i]\n",
    "    df_ct = df[df['celltype'] == cell_type]\n",
    "    counts = df_ct.groupby(['region', 'direction']).size().unstack(fill_value=0)\n",
    "    counts = counts.reindex(index=all_regions, columns=[-1, 1], fill_value=0)\n",
    "\n",
    "    regions = counts.index.tolist()\n",
    "    down_counts = counts[-1].values\n",
    "    up_counts = counts[1].values\n",
    "    totals = down_counts + up_counts\n",
    "\n",
    "    bar_width = 0.6\n",
    "    bars_down = ax.bar(regions, down_counts, color=soft_blue, width=bar_width, label='Down')\n",
    "    bars_up = ax.bar(regions, up_counts, bottom=down_counts, color=soft_red, width=bar_width, label='Up')\n",
    "\n",
    "    for j, (down, up) in enumerate(zip(down_counts, up_counts)):\n",
    "        total = down + up\n",
    "        if total > 0:\n",
    "            ax.text(j, down/2, f'{down/total:.0%}', ha='center', va='center', color='black', fontsize=10)\n",
    "            ax.text(j, down + up/2, f'{up/total:.0%}', ha='center', va='center', color='black', fontsize=10)\n",
    "\n",
    "    ax.set_xticks(range(len(all_regions)))\n",
    "    ax.set_xticklabels(all_regions, rotation=45, ha='right')\n",
    "    ax.set_title(f'{cell_type}', fontsize=14, pad=12)\n",
    "    ax.set_xlabel('Region', fontsize=12)\n",
    "    ax.set_ylabel('Gene Count', fontsize=12)\n",
    "    ax.tick_params(axis='both', which='major', labelsize=10)\n",
    "    ax.set_ylim(0, max(totals)*1.2 if totals.any() else 5)\n",
    "\n",
    "for j in range(len(cell_types), len(axes)):\n",
    "    fig.delaxes(axes[j])\n",
    "\n",
    "# Add a single legend for the whole figure\n",
    "handles, labels = axes[0].get_legend_handles_labels()\n",
    "fig.legend(handles, labels, loc='upper center', ncol=2, fontsize=12, frameon=False)\n",
    "\n",
    "plt.tight_layout(rect=[0, 0.05, 1, 0.95])\n",
    "plt.savefig('ALL_aDEG_dir_plots.pdf', transparent=True)\n",
    "plt.show()"
   ]
  }
 ],
 "metadata": {
  "kernelspec": {
   "display_name": "python/3.12",
   "language": "python",
   "name": "py3.12"
  },
  "language_info": {
   "codemirror_mode": {
    "name": "ipython",
    "version": 3
   },
   "file_extension": ".py",
   "mimetype": "text/x-python",
   "name": "python",
   "nbconvert_exporter": "python",
   "pygments_lexer": "ipython3",
   "version": "3.12.8"
  }
 },
 "nbformat": 4,
 "nbformat_minor": 5
}
