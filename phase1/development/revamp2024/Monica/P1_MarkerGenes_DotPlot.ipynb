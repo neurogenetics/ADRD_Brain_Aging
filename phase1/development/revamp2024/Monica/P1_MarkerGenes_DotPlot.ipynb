{
 "cells": [
  {
   "cell_type": "markdown",
   "id": "6e642e82-b6da-4af1-bac4-8a67553ae2b9",
   "metadata": {},
   "source": [
    "# Cell Type Marker Genes DotPlots\n",
    "Code written and curated by Raph Gibbs, Megan Duffy, Monica Mesecar, and Dom Acri"
   ]
  },
  {
   "cell_type": "code",
   "execution_count": null,
   "id": "f07d75b7-7b50-4464-a80c-6e7431df0a41",
   "metadata": {
    "tags": []
   },
   "outputs": [],
   "source": [
    "! date"
   ]
  },
  {
   "cell_type": "markdown",
   "id": "f607fa56-f842-4e5e-9a1d-7c7a41d8b97d",
   "metadata": {},
   "source": [
    "## Install and Import Packages:"
   ]
  },
  {
   "cell_type": "code",
   "execution_count": null,
   "id": "063373c9-95b3-41b3-9ed3-a53819c3651d",
   "metadata": {
    "tags": []
   },
   "outputs": [],
   "source": [
    "#Install Pandas\n",
    "!pip install pandas\n",
    "\n",
    "#Install ScanPy\n",
    "!pip install scanpy"
   ]
  },
  {
   "cell_type": "code",
   "execution_count": null,
   "id": "9909e408-444c-4973-889c-87be663b5e8f",
   "metadata": {
    "tags": []
   },
   "outputs": [],
   "source": [
    "#Import ScanPy\n",
    "import scanpy as sc\n",
    "\n",
    "#Import Warnings/Filter \n",
    "import warnings\n",
    "warnings.simplefilter('ignore')\n",
    "\n",
    "sc.settings.verbosity = 3             # verbosity: errors (0), warnings (1), info (2), hints (3)\n",
    "sc.logging.print_header()"
   ]
  },
  {
   "cell_type": "code",
   "execution_count": null,
   "id": "302d88f9-725a-431e-8333-900f1a6678c3",
   "metadata": {},
   "outputs": [],
   "source": [
    "#Import Annotation data bject\n",
    "import anndata as AnnData"
   ]
  },
  {
   "cell_type": "code",
   "execution_count": null,
   "id": "65009cce-4782-4732-a3ec-e7b1a3a5484e",
   "metadata": {},
   "outputs": [],
   "source": [
    "#Import NumPy\n",
    "import numpy as np\n",
    "\n",
    "#Import where module\n",
    "from numpy import where"
   ]
  },
  {
   "cell_type": "code",
   "execution_count": null,
   "id": "632be01d-3184-4f4e-9d6d-b3df67e6522f",
   "metadata": {},
   "outputs": [],
   "source": [
    "#Import relevant Pandas functions\n",
    "from pandas import read_csv, concat"
   ]
  },
  {
   "cell_type": "code",
   "execution_count": null,
   "id": "7ec67841-a6fe-4a13-ab54-b472973967b1",
   "metadata": {},
   "outputs": [],
   "source": [
    "#Import MatPlotLib/PyPlot\n",
    "import matplotlib as mpl\n",
    "mpl.rcParams['pdf.fonttype'] = 42\n",
    "import matplotlib.colors as mcolors\n",
    "import matplotlib.pyplot as plt\n",
    "from matplotlib.pyplot import rc_context"
   ]
  },
  {
   "cell_type": "code",
   "execution_count": null,
   "id": "f245cc4e-055c-48f6-9bed-18db8a04fdfe",
   "metadata": {},
   "outputs": [],
   "source": [
    "#Import Seaborn\n",
    "import seaborn as sns"
   ]
  },
  {
   "cell_type": "code",
   "execution_count": null,
   "id": "2d60c6b7-be16-4de3-a1e9-d6eb2e3f5086",
   "metadata": {},
   "outputs": [],
   "source": [
    "#Set directories and variables\n",
    "cohort= 'aging'\n",
    "home_dir = '/labshare/raph/datasets/adrd_neuro'\n",
    "wrk_dir = f'{home_dir}/{cohort}'\n",
    "results_dir = f'{wrk_dir}/demux'\n",
    "\n",
    "# in files \n",
    "in_file  = '/data/ADRD/brain_aging/phase1/demux/aging.pegasus.leiden_085.subclustered.h5ad'\n",
    "markers_json='data/ADRD/brain_aging/exploration/human_brain_cell_markers_LNG.json'\n",
    "\n",
    "# constants\n",
    "leiden_resolution = 0.85\n",
    "\n",
    "DEBUG= False"
   ]
  },
  {
   "cell_type": "markdown",
   "id": "e76e577d-9b2b-4e2b-90b1-66978fd69170",
   "metadata": {},
   "source": [
    "## Create Shorthand for Files/File Paths"
   ]
  },
  {
   "cell_type": "markdown",
   "id": "8490fe22-d49f-4adb-8469-3f044e914fe2",
   "metadata": {},
   "source": [
    "## Load Data"
   ]
  },
  {
   "cell_type": "code",
   "execution_count": null,
   "id": "b9d8c697-88cf-488e-bf6d-e2d4a19117a2",
   "metadata": {
    "tags": []
   },
   "outputs": [],
   "source": [
    "%%time\n",
    "adata = sc.read(in_file)\n",
    "print(adata)\n",
    "if DEBUG:\n",
    "    display(adata.obs.head())"
   ]
  },
  {
   "cell_type": "markdown",
   "id": "22aed222-9488-47a7-918b-10e331890142",
   "metadata": {
    "tags": []
   },
   "source": [
    "new_cluster_names = ['OD-0', 'ExN-1','Astro-2','Micro-3', 'OPC-4','OD-ATAC-5', 'OD-6', 'ExN-7', 'ExN-8', 'ExN-9', 'InN-10', \n",
    "    'ExN-11', 'InN-12', 'ExN-13', 'Astro-14', 'ExN-15', 'InN-16', 'InN-17','InN-18', 'VLMC-19', 'Uncertain-20', \n",
    "    'ExN-21', 'ExN-22', 'InN-23', 'ExN-24', 'OD-25', 'InN-26', 'InN-27', 'ExN-28', 'PeriVasc-29', 'ExN-30',\n",
    "    'ExN-31', 'ExN-32','Radial Glia-33','Uncertain-ATAC-34','OD-ATAC-35', 'OPC-36']\n",
    "\n",
    "adata.rename_categories('leiden_MultiVI', new_cluster_names)"
   ]
  },
  {
   "cell_type": "code",
   "execution_count": null,
   "id": "850cd66e-6099-4b5a-80b8-ba5605570942",
   "metadata": {},
   "outputs": [],
   "source": [
    "#Remove misannotated nuclei\n",
    "mask = ((adata.obs['broad_celltype'] == 'SPN') & (adata.obs['Brain_region'] != 'Putamen')) "
   ]
  },
  {
   "cell_type": "code",
   "execution_count": null,
   "id": "160cd413-a926-4dea-8231-8fe7f784e07a",
   "metadata": {},
   "outputs": [],
   "source": [
    "display(mask==True)"
   ]
  },
  {
   "cell_type": "code",
   "execution_count": null,
   "id": "3b0e4905-531d-4d01-a5b6-a8e7eea09dc6",
   "metadata": {},
   "outputs": [],
   "source": [
    "mask = ((adata.obs['broad_celltype'] == 'SPN') & (adata.obs['Brain_region'] != 'Putamen')) | (adata.obs['broad_celltype'] == 'Other')\n",
    "adata = adata[~mask].copy()"
   ]
  },
  {
   "cell_type": "code",
   "execution_count": null,
   "id": "5dedbdf0-46bf-4adb-a81f-630cb820c0f9",
   "metadata": {},
   "outputs": [],
   "source": [
    "subset = adata[adata.obs['broad_celltype'] == 'SPN']\n",
    "unique_values = subset.obs['Brain_region'].unique()\n",
    "print(unique_values)"
   ]
  },
  {
   "cell_type": "markdown",
   "id": "610f356a-389e-4a4e-99e8-fbe5481050c1",
   "metadata": {},
   "source": [
    "## Create UMAP "
   ]
  },
  {
   "cell_type": "code",
   "execution_count": null,
   "id": "75b55dd9-aca9-4c3d-afcd-d5fc5462235a",
   "metadata": {
    "tags": []
   },
   "outputs": [],
   "source": [
    "#Plot UMAP by modality\n",
    "\n",
    "#Figure creation, size, and resolution:\n",
    "with rc_context({'figure.figsize': (8, 8), 'figure.dpi': 100}): \n",
    "    #Specify color palette:\n",
    "    plt.style.use('seaborn-v0_8-bright')\n",
    "    #Specify data object source and what variable to color by:\n",
    "    sc.pl.umap(adata, color=['leiden_labels_085'], \n",
    "               #Specify y/n frame and legend location:\n",
    "               frameon=False, legend_loc='on data', save='P1_Leiden_UMAP.png')"
   ]
  },
  {
   "cell_type": "code",
   "execution_count": null,
   "id": "6e761c26-5073-43ee-addd-4d0032a61cfd",
   "metadata": {},
   "outputs": [],
   "source": [
    "#Create list of marker genes \n",
    "CNS_marker_genes=['AQP4','GFAP', 'FOXJ1','CLU','SOX9', 'GJA1', 'FLT1', 'HES1', 'HES5', 'CLDN5','RBFOX3', 'SYP','NEFH','DLG4','SLC17A7','GRIN1','FOXP2','CLSTN2','FEZF2','LAMP5','RORB','THEMIS','CUX2','RGS6','SLC6A1','GAD1','ADARB2','LHX6','VIP','PVALB','SST','P2RY12','CSF1R','OLIG1','PDGFRA','MBP','PLP1','OPALIN','VIM','PPP1R1B','DRD1','DRD2','ADORA2A']"
   ]
  },
  {
   "cell_type": "code",
   "execution_count": null,
   "id": "264c064a-e2f3-4d4a-a379-e88c9938227a",
   "metadata": {},
   "outputs": [],
   "source": [
    "#Marker dotplot by UMAP cluster number \n",
    "#Create Figure. Set size and resolution.\n",
    "with plt.rc_context({'figure.figsize': (12, 12), 'figure.dpi': 300}):\n",
    "    plt.style.use('seaborn-v0_8-talk')  # Use this available style\n",
    "    sc.pl.dotplot(\n",
    "        adata, CNS_marker_genes, groupby='leiden_labels_085',\n",
    "        color_map='Blues', swap_axes=False, use_raw=False,\n",
    "        standard_scale='var', save='P1_Leiden_DotPlot.pdf'\n",
    "    )\n"
   ]
  },
  {
   "cell_type": "code",
   "execution_count": null,
   "id": "ccb8b8ef-b9ea-4a1c-a556-378ce83d4420",
   "metadata": {},
   "outputs": [],
   "source": [
    "#Marker dotplot by broad cell type annotation \n",
    "with plt.rc_context({'figure.figsize': (12, 12), 'figure.dpi': 300}):\n",
    "    plt.style.use('seaborn-v0_8-talk')  # Use this available style\n",
    "    sc.pl.dotplot(\n",
    "        adata, CNS_marker_genes, groupby='broad_celltype',\n",
    "        color_map='Blues', swap_axes=False, use_raw=False,\n",
    "        standard_scale='var', save='P1_Broad_DotPlot.pdf'\n",
    "\n",
    "    )"
   ]
  }
 ],
 "metadata": {
  "kernelspec": {
   "display_name": "python/3.12",
   "language": "python",
   "name": "py3.12"
  },
  "language_info": {
   "codemirror_mode": {
    "name": "ipython",
    "version": 3
   },
   "file_extension": ".py",
   "mimetype": "text/x-python",
   "name": "python",
   "nbconvert_exporter": "python",
   "pygments_lexer": "ipython3",
   "version": "3.12.8"
  }
 },
 "nbformat": 4,
 "nbformat_minor": 5
}
