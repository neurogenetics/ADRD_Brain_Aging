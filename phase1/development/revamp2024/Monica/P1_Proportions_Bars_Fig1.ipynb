{
 "cells": [
  {
   "cell_type": "markdown",
   "id": "68500c14-7ec3-4137-9874-491473939066",
   "metadata": {},
   "source": [
    "# Phase 1: Cell Type Proportions by Region x Age Stacked Bar Graph\n",
    "Code written and conceptualized by Monica E. Mesecar. Support for advanced aesthetics with Perplexity AI."
   ]
  },
  {
   "cell_type": "code",
   "execution_count": null,
   "id": "21acfa25-c97e-4d37-9d4d-35b49bf1625d",
   "metadata": {},
   "outputs": [],
   "source": [
    "import numpy as np\n",
    "import pandas as pd\n",
    "import matplotlib\n",
    "import matplotlib.pyplot as plt\n",
    "from matplotlib import colors\n",
    "from matplotlib import rcParams\n",
    "matplotlib.rcParams['pdf.fonttype'] = 42\n",
    "from matplotlib.legend_handler import HandlerTuple"
   ]
  },
  {
   "cell_type": "markdown",
   "id": "4f276483-6cd0-4c95-8012-5b5bcb0230b6",
   "metadata": {},
   "source": [
    "## Read in Metadata & Explore "
   ]
  },
  {
   "cell_type": "code",
   "execution_count": null,
   "id": "dcfc5d13-5074-4a68-a50d-d7932e0e0457",
   "metadata": {},
   "outputs": [],
   "source": [
    "#Check current working directory (Bash)\n",
    "!pwd"
   ]
  },
  {
   "cell_type": "code",
   "execution_count": null,
   "id": "02770a7f-30c6-4c95-ae8b-12148072df58",
   "metadata": {},
   "outputs": [],
   "source": [
    "import os\n",
    "\n",
    "# Get the current working directory\n",
    "cwd = os.getcwd()\n",
    "print(\"Current working directory:\", cwd)\n",
    "\n",
    "# Change the working directory\n",
    "os.chdir(\"/gpfs/gsfs12/users/mesecarme/Phase1/\")\n",
    "\n",
    "# Verify the change\n",
    "new_cwd = os.getcwd()\n",
    "print(\"New working directory:\", new_cwd)"
   ]
  },
  {
   "cell_type": "code",
   "execution_count": null,
   "id": "c17ae887-641d-4085-930d-c81536b58b3e",
   "metadata": {},
   "outputs": [],
   "source": [
    "#Read in metadata file and name object \n",
    "p1_metadata=pd.read_csv(\"Phase1_Metadata_Cleaned.csv\")"
   ]
  },
  {
   "cell_type": "code",
   "execution_count": null,
   "id": "9d6146b1-ee9e-469f-9f2f-0e7296fbc1a9",
   "metadata": {},
   "outputs": [],
   "source": [
    "#Preview dataframe\n",
    "p1_metadata.head(10)"
   ]
  },
  {
   "cell_type": "code",
   "execution_count": null,
   "id": "a2141f91-d78b-49cb-aeba-0eff2d517056",
   "metadata": {},
   "outputs": [],
   "source": [
    "p1_metadata = p1_metadata[~((p1_metadata['broad_celltype'] == 'Indeterminate'))]"
   ]
  },
  {
   "cell_type": "code",
   "execution_count": null,
   "id": "7dd75c95-cfca-4fb5-9757-ab4b7dbe327b",
   "metadata": {},
   "outputs": [],
   "source": [
    "#Name unnamed column and set index\n",
    "p1_metadata.rename(columns = {'Unnamed: 0':'Cell_barcode'}, inplace = True)\n",
    "p1_metadata.set_index('Cell_barcode', inplace=True)\n",
    "p1_metadata.head(3)"
   ]
  },
  {
   "cell_type": "markdown",
   "id": "4c0dbf42-409d-463f-9b72-ce014a690239",
   "metadata": {},
   "source": [
    "## Create Dictionaries of Metadata Subsets"
   ]
  },
  {
   "cell_type": "code",
   "execution_count": null,
   "id": "2c7e7e99-9ff8-4adf-9ac8-72aa4bf0b797",
   "metadata": {},
   "outputs": [],
   "source": [
    "#Create lists of subsets of interest\n",
    "p1_region_list=p1_metadata.Brain_region.unique().tolist()\n",
    "print(p1_region_list)\n",
    "p1_age_list=p1_metadata.Age_group.unique().tolist()\n",
    "print(p1_age_list)\n",
    "p1_sex_list=p1_metadata.Sex.unique().tolist()\n",
    "print(p1_sex_list)\n",
    "p1_broad_list=p1_metadata.broad_celltype.unique().tolist()\n",
    "print(p1_broad_list)"
   ]
  },
  {
   "cell_type": "code",
   "execution_count": null,
   "id": "58a92002-7d87-48cf-8bd2-1cb21b860e33",
   "metadata": {},
   "outputs": [],
   "source": [
    "#Create df for each unique age category\n",
    "p1_age_dict = {age: p1_metadata.loc[p1_metadata['Age_group'] == age] for age in p1_age_list}\n",
    "p1_young_df=p1_age_dict['Young']\n",
    "p1_old_df=p1_age_dict['Aged']"
   ]
  },
  {
   "cell_type": "code",
   "execution_count": null,
   "id": "0d9c8362-8f2b-4b7e-9fb9-cfd1801eb634",
   "metadata": {},
   "outputs": [],
   "source": [
    "#Check df shape\n",
    "p1_young_df.shape"
   ]
  },
  {
   "cell_type": "code",
   "execution_count": null,
   "id": "5b8033ea-35f6-4207-ba99-82dffbd8790a",
   "metadata": {
    "scrolled": true
   },
   "outputs": [],
   "source": [
    "#Check age filter \n",
    "p1_young_df.Age_group.unique()"
   ]
  },
  {
   "cell_type": "code",
   "execution_count": null,
   "id": "9f783801-abac-40c9-998e-480247d1262c",
   "metadata": {},
   "outputs": [],
   "source": [
    "#Check shape\n",
    "p1_old_df.shape"
   ]
  },
  {
   "cell_type": "code",
   "execution_count": null,
   "id": "2d2adb5a-8f2a-4ba2-8080-4a4993e5ec69",
   "metadata": {},
   "outputs": [],
   "source": [
    "#Check age filter \n",
    "p1_old_df.Age_group.unique()"
   ]
  },
  {
   "cell_type": "code",
   "execution_count": null,
   "id": "66409dca-ab00-4a57-9e29-2052ee84ba05",
   "metadata": {},
   "outputs": [],
   "source": [
    "#Check df \n",
    "p1_young_df"
   ]
  },
  {
   "cell_type": "code",
   "execution_count": null,
   "id": "23348fa8-874b-412b-9607-3b44d94bb0f5",
   "metadata": {},
   "outputs": [],
   "source": [
    "#Group df to show region on vertical axis and cell type on top\n",
    "#Will count number of each cell type across regions\n",
    "grouped_young = p1_young_df.groupby(['Brain_region', 'broad_celltype']).size().unstack(fill_value=0)\n",
    "\n",
    "#Convert to percentage of cells within region\n",
    "df_percentages_young = grouped_young.div(grouped_young.sum(axis=1), axis=0) * 100"
   ]
  },
  {
   "cell_type": "code",
   "execution_count": null,
   "id": "584e400d-21dd-44ae-b569-0c6ce55607cb",
   "metadata": {},
   "outputs": [],
   "source": [
    "#Show raw counts df\n",
    "grouped_young"
   ]
  },
  {
   "cell_type": "code",
   "execution_count": null,
   "id": "bc261552-ecf8-4c48-b249-75049cf35cf2",
   "metadata": {},
   "outputs": [],
   "source": [
    "#Show percentatges df\n",
    "df_percentages_young"
   ]
  },
  {
   "cell_type": "code",
   "execution_count": null,
   "id": "c2470d07-0108-480a-94f6-31307303b315",
   "metadata": {},
   "outputs": [],
   "source": [
    "#Repeat above for aged group\n",
    "grouped_old = p1_old_df.groupby(['Brain_region', 'broad_celltype']).size().unstack(fill_value=0)\n",
    "df_percentages_old = grouped_old.div(grouped_old.sum(axis=1), axis=0) * 100"
   ]
  },
  {
   "cell_type": "code",
   "execution_count": null,
   "id": "2196bd5c-aab6-4e82-ac5e-535cf5a5bc01",
   "metadata": {},
   "outputs": [],
   "source": [
    "grouped_old"
   ]
  },
  {
   "cell_type": "code",
   "execution_count": null,
   "id": "e3cdfa81-81d4-435f-9fae-f8a679dc437c",
   "metadata": {},
   "outputs": [],
   "source": [
    "df_percentages_old"
   ]
  },
  {
   "cell_type": "code",
   "execution_count": null,
   "id": "edef2ee6-cb53-4ff5-86d9-76f2e64824e1",
   "metadata": {},
   "outputs": [],
   "source": [
    "# Define a consistent order for cell types\n",
    "cell_type_order = ['InN', 'ExN', 'SPN', 'Microglia', 'Astrocyte', 'Oligodendrocyte', 'OPC', 'Mural', 'Endothelial', 'Ependymal'] #,'Indeterminate']\n",
    "\n",
    "# Reorder the columns\n",
    "df_percentages_young = df_percentages_young[cell_type_order]\n",
    "df_percentages_old = df_percentages_old[cell_type_order]"
   ]
  },
  {
   "cell_type": "code",
   "execution_count": null,
   "id": "967682f1-a3b2-48e1-8e6f-ebdacb367f35",
   "metadata": {},
   "outputs": [],
   "source": [
    "#Define dark color palette for cell types\n",
    "custom_palette_cells_dark = {\n",
    "    'InN': '#3FA291',  # Teal Blue\n",
    "    'ExN': '#D9C300', #Bright Yellow\n",
    "    'SPN': '#514785', #Purple/Grey\n",
    "    'Microglia': '#AD5E03',#Vermillion\n",
    "    'Astrocyte': '#2B5B7D', #Blue/Grey\n",
    "    'Oligodendrocyte': '#60861D', #Key Lime Green\n",
    "    'OPC': '#BB3A8A', #Baby Pink\n",
    "    'Mural': '#B21706', #Creamsicle Orange \n",
    "    'Endothelial': '#683668', #Violet\n",
    "    'Ependymal': '#B8A200', #Mint Green\n",
    "    'Indeterminate': '#7f7f7f' #Grey\n",
    "}"
   ]
  },
  {
   "cell_type": "code",
   "execution_count": null,
   "id": "15741615-b196-4359-85d6-42f8f75fbe6f",
   "metadata": {},
   "outputs": [],
   "source": [
    "#Define light color palette for cell types\n",
    "custom_palette_cells_bright = {\n",
    "    'InN': '#6FC7B8',  # Teal Blue\n",
    "    'ExN': '#ffed6f', #Bright Yellow\n",
    "    'SPN': '#7E74B4', #Purple/Grey\n",
    "    'Microglia': '#FC921A',#Vermillion\n",
    "    'Astrocyte': '#4D91C2', #Blue/Grey\n",
    "    'Oligodendrocyte': '#9AD338', #Key Lime Green\n",
    "    'OPC': '#D371AE', #Baby Pink\n",
    "    'Mural': '#F73823', #Creamsicle Orange \n",
    "    'Endothelial': '#AB5CAB', #Violet\n",
    "    'Ependymal': '#E0C600', #Mint Green\n",
    "    'Indeterminate': '#D3D3D3' #Grey\n",
    "}"
   ]
  },
  {
   "cell_type": "code",
   "execution_count": null,
   "id": "6a3720d4-439b-4cd7-ac47-c70de5a6c784",
   "metadata": {},
   "outputs": [],
   "source": [
    "#Plot aesthetics achieved with assistance from Perplexity AI LLM\n",
    "\n",
    "# Create the plot dimensions\n",
    "fig, ax = plt.subplots(figsize=(10, 10))\n",
    "\n",
    "# Plot young data\n",
    "df_percentages_young.plot(kind='barh', stacked=True, ax=ax, width=0.35, position=0, color=custom_palette_cells_bright)\n",
    "\n",
    "# Plot aged data\n",
    "df_percentages_old.plot(kind='barh', stacked=True, ax=ax, width=0.35, position=1, color=custom_palette_cells_dark)\n",
    "\n",
    "# Customize the plot\n",
    "ax.set_ylabel('Brain Regions', fontweight='bold')\n",
    "ax.set_xlabel('Percentage of Cells', fontweight='bold')\n",
    "ax.set_title('Proportion of Cell Types by Brain Region and Age Category',fontweight='bold')\n",
    "\n",
    "# Function to add age group labels at the end of bars\n",
    "def add_age_labels(ax, df, age, position):\n",
    "    for i in range(len(df)):\n",
    "        ax.text(1.01, i + position, age, va='center', ha='left', fontweight='bold', transform=ax.get_yaxis_transform())\n",
    "\n",
    "# Add age labels\n",
    "add_age_labels(ax, df_percentages_young, 'Young', 0.15)\n",
    "add_age_labels(ax, df_percentages_old, 'Aged', -0.15)\n",
    "\n",
    "# Get the current handles and labels\n",
    "handles, labels = ax.get_legend_handles_labels()\n",
    "\n",
    "# Create a dictionary to group handles by label\n",
    "label_dict = {}\n",
    "for handle, label in zip(handles, labels):\n",
    "    if label not in label_dict:\n",
    "        label_dict[label] = []\n",
    "    label_dict[label].append(handle)\n",
    "\n",
    "# Create new handles and labels for the legend\n",
    "new_handles = [tuple(handles) if len(handles) > 1 else handles[0] for handles in label_dict.values()]\n",
    "new_labels = list(label_dict.keys())\n",
    "\n",
    "# Create the legend with grouped labels\n",
    "ax.legend(new_handles, new_labels, \n",
    "          handler_map={tuple: HandlerTuple(ndivide=None)},\n",
    "          title='Cell Types', \n",
    "          bbox_to_anchor=(1.1, 1), \n",
    "          loc='upper left')\n",
    "\n",
    "# Adjust y-axis limits to add breathing room at the top\n",
    "y_min, y_max = ax.get_ylim()\n",
    "ax.set_ylim(y_min, y_max + (y_max - y_min) * 0.07)\n",
    "\n",
    "# Adjust layout\n",
    "plt.tight_layout()\n",
    "plt.subplots_adjust(right=0.8)  # Make room for the legend\n",
    "\n",
    "#plt.savefig('Updated_Proportions_Plot_bold_NOIndet_FINAL_adj.pdf', bbox_inches='tight')\n",
    "\n",
    "plt.show()"
   ]
  }
 ],
 "metadata": {
  "kernelspec": {
   "display_name": "python/3.11",
   "language": "python",
   "name": "py3.11"
  },
  "language_info": {
   "codemirror_mode": {
    "name": "ipython",
    "version": 3
   },
   "file_extension": ".py",
   "mimetype": "text/x-python",
   "name": "python",
   "nbconvert_exporter": "python",
   "pygments_lexer": "ipython3",
   "version": "3.11.11"
  }
 },
 "nbformat": 4,
 "nbformat_minor": 5
}
