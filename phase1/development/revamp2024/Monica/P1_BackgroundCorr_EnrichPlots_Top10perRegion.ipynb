{
 "cells": [
  {
   "cell_type": "markdown",
   "id": "b466175d-1075-4635-9040-6100face2e85",
   "metadata": {},
   "source": [
    "# Phase 1: Enrichment DotPlots--Top 10 per Region\n",
    "Conceptualized, Curated by Monica E. Mesecar with feedback from collaborators and aesthetic support by Perplexity AI"
   ]
  },
  {
   "cell_type": "code",
   "execution_count": null,
   "id": "035f28bf-f9a1-442f-980f-740effd802e8",
   "metadata": {},
   "outputs": [],
   "source": [
    "#Load Libraries \n",
    "suppressPackageStartupMessages({\n",
    "  library(tidyverse)\n",
    "  library(readr)\n",
    "  library(ggplot2)\n",
    "  library(ComplexHeatmap)\n",
    "  library(viridis)\n",
    "  library(dplyr)\n",
    "  library(RColorBrewer)\n",
    "})"
   ]
  },
  {
   "cell_type": "code",
   "execution_count": null,
   "id": "40847d3d-e3cc-404a-9e8d-fe204b77e7ba",
   "metadata": {},
   "outputs": [],
   "source": [
    "master_df <- read_csv('GSE_P1/P1_Background_Corrected_Enrichments/p1_Gprofiler_bckgrndcorr_cleaned_SIGNIF.csv',show_col_types = FALSE)"
   ]
  },
  {
   "cell_type": "code",
   "execution_count": null,
   "id": "b9478adc-7a86-4099-a61d-87b6815a205f",
   "metadata": {},
   "outputs": [],
   "source": [
    "master_df$source=as.factor(master_df$source)"
   ]
  },
  {
   "cell_type": "code",
   "execution_count": null,
   "id": "ff7251e2-b2b7-46d3-bf9f-075a1600e843",
   "metadata": {},
   "outputs": [],
   "source": [
    "library(dplyr)\n",
    "\n",
    "master_df <- master_df %>%\n",
    "  filter(!(brain_region %in% c(\"EC\", \"MTG\", \"SVZ\") & cell_type == \"SPN\"))"
   ]
  },
  {
   "cell_type": "code",
   "execution_count": null,
   "id": "df26b6e6-10a4-4034-9a08-a8e38692ebf3",
   "metadata": {},
   "outputs": [],
   "source": [
    "# First, get all unique sources and brain regions from the entire dataset\n",
    "all_sources <- unique(master_df$source)\n",
    "all_brain_regions <- unique(master_df$brain_region)\n",
    "\n",
    "# Create a color palette for all sources\n",
    "source_colors <- setNames(\n",
    "  brewer.pal(length(all_sources), \"Dark2\")[1:length(all_sources)], \n",
    "  all_sources\n",
    ")"
   ]
  },
  {
   "cell_type": "code",
   "execution_count": null,
   "id": "54276caa-4af0-4114-999b-b2d68ecac392",
   "metadata": {},
   "outputs": [],
   "source": [
    "enrichment_plots <- master_df %>%\n",
    "  group_by(cell_type) %>%\n",
    "  nest() %>%\n",
    "  mutate(plot = map2(data, cell_type, function(df, ct) {\n",
    "    # Get top 10 enrichments for each brain region\n",
    "    df_top5 <- df %>%\n",
    "      group_by(brain_region) %>%\n",
    "      arrange(p_value) %>%\n",
    "      slice_head(n = 10) %>%\n",
    "      ungroup() %>%\n",
    "      mutate(term_name = factor(term_name, levels = rev(unique(term_name))))\n",
    "    \n",
    "    # Create a dummy dataframe with all brain regions, terms, and sources\n",
    "    dummy_df <- expand.grid(\n",
    "      brain_region = all_brain_regions,\n",
    "      term_name = unique(df_top5$term_name),\n",
    "      source = all_sources,\n",
    "      stringsAsFactors = FALSE\n",
    "    ) %>%\n",
    "    mutate(source = factor(source, levels = all_sources))\n",
    "    \n",
    "    ggplot() +\n",
    "      # Add dummy points for all brain regions\n",
    "      geom_point(data = dummy_df, \n",
    "                 aes(x = brain_region, y = term_name, fill = source), \n",
    "                 color = \"white\", \n",
    "                 alpha = 0, \n",
    "                 shape = 21, \n",
    "                 size = 3) +\n",
    "      # Add actual enrichment points\n",
    "      geom_point(data = df_top5, \n",
    "                 aes(x = brain_region, y = term_name, \n",
    "                     color = -log10(p_value), \n",
    "                     size = precision)) +\n",
    "      scale_size_continuous(name = \"Intersection Size/Query Size\", range = c(0.5, 3)) +\n",
    "      scale_color_viridis(name = \"-log10(p_val)\", direction = 1) +\n",
    "      scale_fill_manual(name = \"Source\", \n",
    "                        values = source_colors, \n",
    "                        breaks = all_sources, \n",
    "                        drop = FALSE,\n",
    "                        guide = guide_legend(override.aes = list(alpha = 1, size = 3))) +\n",
    "      theme_bw() +\n",
    "      theme(\n",
    "        axis.text.x = element_text(angle = 45, hjust = 1, color = 'black', size = 8),\n",
    "        axis.text.y = element_text(angle = 0, hjust = 1, \n",
    "                                   color = source_colors[match(levels(df_top5$source), names(source_colors))], \n",
    "                                   size = 6),\n",
    "        panel.grid.major = element_blank(),\n",
    "        panel.grid.minor = element_blank(),\n",
    "        panel.spacing = unit(0.5, \"lines\"),\n",
    "        legend.position = \"right\",\n",
    "        legend.box = \"vertical\",\n",
    "        legend.key.size = unit(0.7, \"lines\"),\n",
    "        legend.text = element_text(size = 7),\n",
    "        plot.title = element_text(size = 10, hjust = 0.5),\n",
    "        plot.margin = unit(c(0.5, 2, 0.5, 0.5), \"lines\")\n",
    "      ) +\n",
    "      xlab('Brain Region') +\n",
    "      ylab('Path Name') +\n",
    "      ggtitle(paste(ct, \" Top 10 Enrichments\\nby Brain Region\"))\n",
    "  }))\n",
    "\n",
    "# Save plots for each cell type\n",
    "walk2(enrichment_plots$plot, enrichment_plots$cell_type, function(p, ct) {\n",
    "  ggsave(paste0(ct, \"_Enrich_T10perRegion_compact4.pdf\"), p, \n",
    "         width = 6,   # Increased width\n",
    "         height = 4,   # Increased height\n",
    "         dpi = 300)\n",
    "})\n"
   ]
  },
  {
   "cell_type": "markdown",
   "id": "11076937-80e7-41dd-8846-d154ddd3bc02",
   "metadata": {},
   "source": [
    "## Optional: Create Top 10 Enrichment Dataframe"
   ]
  },
  {
   "cell_type": "code",
   "execution_count": null,
   "id": "d3f62466-0a6d-4d89-92c6-03b0334e7cfd",
   "metadata": {},
   "outputs": [],
   "source": [
    "enrichment_data <- master_df %>%\n",
    "  group_by(cell_type) %>%\n",
    "  nest() %>%\n",
    "  mutate(top_enrichments = map(data, function(df) {\n",
    "    df %>%\n",
    "      group_by(brain_region) %>%\n",
    "      arrange(p_value) %>%\n",
    "      slice_head(n = 10) %>%\n",
    "      ungroup() %>%\n",
    "      arrange(brain_region, p_value)\n",
    "  }))\n",
    "\n",
    "# To view the data for a specific cell type (e.g., the first one):\n",
    "print(enrichment_data$cell_type[1])\n",
    "print(enrichment_data$top_enrichments[[1]])\n",
    "\n",
    "# To view data for all cell types:\n",
    "all_top_enrichments <- enrichment_data %>%\n",
    "  select(cell_type, top_enrichments) %>%\n",
    "  unnest(top_enrichments)\n",
    "\n",
    "# Print the first few rows to check the structure\n",
    "print(head(all_top_enrichments))\n",
    "\n",
    "# Save to a CSV file:\n",
    "write.csv(all_top_enrichments, \"top_10_enrichments_by_region_and_cell_type_full2.csv\", row.names = FALSE)\n"
   ]
  }
 ],
 "metadata": {
  "kernelspec": {
   "display_name": "R/4.4",
   "language": "R",
   "name": "ir44"
  },
  "language_info": {
   "codemirror_mode": "r",
   "file_extension": ".r",
   "mimetype": "text/x-r-source",
   "name": "R",
   "pygments_lexer": "r",
   "version": "4.4.3"
  }
 },
 "nbformat": 4,
 "nbformat_minor": 5
}
