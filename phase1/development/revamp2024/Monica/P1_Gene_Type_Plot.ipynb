{
 "cells": [
  {
   "cell_type": "markdown",
   "id": "129bf99d-f40d-4968-a687-e4298ccb825e",
   "metadata": {},
   "source": [
    "# Gene Typing: Coding vs Noncoding vs Pseudo--All aDEGs\n",
    "Conceptualized by Monica E. Mesecar. Support for gene typing workflow: Dom J. Acri.\n",
    "Code curated and conceptualized by Mesecar with support from Perplexity.\n",
    "All code was checked and adjusted by Mesecar"
   ]
  },
  {
   "cell_type": "code",
   "execution_count": null,
   "id": "3cfce5fb-e488-4b44-abeb-0bdfe87f9658",
   "metadata": {},
   "outputs": [],
   "source": [
    "#Load in Packages \n",
    "import pandas as pd\n",
    "import numpy as np\n",
    "import matplotlib.pyplot as plt\n",
    "import matplotlib\n",
    "from matplotlib import colors\n",
    "from matplotlib import rcParams\n",
    "matplotlib.rcParams['pdf.fonttype'] = 42"
   ]
  },
  {
   "cell_type": "markdown",
   "id": "4a613326-394d-4c6f-b7cf-58fc9d1a5d2b",
   "metadata": {},
   "source": [
    "## Getting Gene Types"
   ]
  },
  {
   "cell_type": "code",
   "execution_count": null,
   "id": "23e5c8b7-b6fd-4b04-a271-d01a0e3f6946",
   "metadata": {},
   "outputs": [],
   "source": [
    "# Read in Data for Ref Genome and your aDEGs\n",
    "ref_genes_ch38=pd.read_csv(\"Gene_Typing/GRCh38-2020-A_GeneNameType.csv\")\n",
    "p1_adeg=pd.read_csv(\"P1_aging.glmmtmb_age_diffs_fdr_cleaned.csv\")"
   ]
  },
  {
   "cell_type": "code",
   "execution_count": null,
   "id": "4fc89509-0b8a-4051-82da-ae71354b536f",
   "metadata": {},
   "outputs": [],
   "source": [
    "#Check data type is dataframe\n",
    "type(ref_genes_ch38)"
   ]
  },
  {
   "cell_type": "code",
   "execution_count": null,
   "id": "bc0944d2-c2b5-4480-97b5-42e809b8a702",
   "metadata": {},
   "outputs": [],
   "source": [
    "#Display to check\n",
    "display(ref_genes_ch38.head(15))"
   ]
  },
  {
   "cell_type": "code",
   "execution_count": null,
   "id": "69b27ead-3a3d-41eb-9e3a-c469207a36b2",
   "metadata": {},
   "outputs": [],
   "source": [
    "#Use this method to see typing options within reference genome\n",
    "gene_type_ref_counts = ref_genes_ch38['gene_type'].value_counts()"
   ]
  },
  {
   "cell_type": "code",
   "execution_count": null,
   "id": "0b85eafd-9822-4f30-b8c1-950d32b116a9",
   "metadata": {},
   "outputs": [],
   "source": [
    "gene_type_ref_counts"
   ]
  },
  {
   "cell_type": "code",
   "execution_count": null,
   "id": "68832023-93ff-4318-b582-1e4a0123fac0",
   "metadata": {},
   "outputs": [],
   "source": [
    "display(p1_adeg)"
   ]
  },
  {
   "cell_type": "code",
   "execution_count": null,
   "id": "56e5e4fe-08aa-46ae-9ac3-a7f7fbd7aa82",
   "metadata": {},
   "outputs": [],
   "source": [
    "#Create lists of subsets of interest\n",
    "p1_type_list=p1_adeg.type.unique().tolist()\n",
    "print(p1_type_list)"
   ]
  },
  {
   "cell_type": "code",
   "execution_count": null,
   "id": "f977d0de-9c57-4cd8-b5fc-6a098ee6ee5d",
   "metadata": {},
   "outputs": [],
   "source": [
    "#Subset only 'region_broad_celltype'\n",
    "p1_region_broad_df = p1_adeg.loc[p1_adeg['type'] == 'region_broad_celltype']"
   ]
  },
  {
   "cell_type": "code",
   "execution_count": null,
   "id": "a802f352-2682-4637-a37a-784980775a06",
   "metadata": {
    "scrolled": true
   },
   "outputs": [],
   "source": [
    "#Show df\n",
    "p1_region_broad_df "
   ]
  },
  {
   "cell_type": "code",
   "execution_count": null,
   "id": "ce2c0d06-99cb-4925-a5be-e5ce8f7a7767",
   "metadata": {},
   "outputs": [],
   "source": [
    "p1_region_broad_df  = p1_region_broad_df [p1_region_broad_df ['celltype'] != 'Indeterminate']"
   ]
  },
  {
   "cell_type": "code",
   "execution_count": null,
   "id": "7dc1cb0c-d9ac-456e-a2fe-b41ecae5a16a",
   "metadata": {},
   "outputs": [],
   "source": [
    "#Renamed feature column to be more descriptive\n",
    "p1_region_broad_df = p1_region_broad_df.rename(columns={'feature': 'gene_name'})"
   ]
  },
  {
   "cell_type": "code",
   "execution_count": null,
   "id": "01051783-56cb-4bab-be52-f48cb3301ede",
   "metadata": {},
   "outputs": [],
   "source": [
    "display(p1_region_broad_df)"
   ]
  },
  {
   "cell_type": "code",
   "execution_count": null,
   "id": "e9de3eba-dd85-4ac5-ade1-246935aa183e",
   "metadata": {},
   "outputs": [],
   "source": [
    "p1_region_broad_df  = p1_region_broad_df [p1_region_broad_df['celltype'] != 'Indeterminate']"
   ]
  },
  {
   "cell_type": "code",
   "execution_count": null,
   "id": "5066b021-44a8-4451-9123-16d3e35bea2b",
   "metadata": {},
   "outputs": [],
   "source": [
    "#Create list of unique aDEGs\n",
    "p1_CT_region_genes=p1_region_broad_df.gene_name.unique().tolist()\n",
    "#Print subset to check\n",
    "print(p1_CT_region_genes[0:10])\n",
    "#Interrogate total number \n",
    "len(p1_CT_region_genes)"
   ]
  },
  {
   "cell_type": "code",
   "execution_count": null,
   "id": "9c1345c4-43f7-4964-ad05-c76d3a882809",
   "metadata": {},
   "outputs": [],
   "source": [
    "# Filter the reference DataFrame for your aDEGs \n",
    "ref_genes_ch38_adeg_filtered = ref_genes_ch38[ref_genes_ch38['gene_name'].isin(p1_CT_region_genes)]\n",
    "\n",
    "# Display the result\n",
    "display(ref_genes_ch38_adeg_filtered.head(20))\n",
    "\n",
    "# Shape\n",
    "ref_genes_ch38_adeg_filtered.shape"
   ]
  },
  {
   "cell_type": "code",
   "execution_count": null,
   "id": "91dd3517-f53e-4638-9106-c1280e51e3e0",
   "metadata": {},
   "outputs": [],
   "source": [
    "# Interrogate gene types and value counts\n",
    "gene_type_value_counts = ref_genes_ch38_adeg_filtered['gene_type'].value_counts()"
   ]
  },
  {
   "cell_type": "code",
   "execution_count": null,
   "id": "b2cfbc21-ca68-483d-bfd7-07a05231c87b",
   "metadata": {},
   "outputs": [],
   "source": [
    "print(gene_type_value_counts)"
   ]
  },
  {
   "cell_type": "code",
   "execution_count": null,
   "id": "c3e7a418-695d-419d-a502-277022ffbdb5",
   "metadata": {
    "scrolled": true
   },
   "outputs": [],
   "source": [
    "# Merge the 2 dataframes so that aDEGs now have type column\n",
    "merged_df = pd.merge(p1_region_broad_df, ref_genes_ch38[['gene_name', 'gene_type']], on='gene_name', how='left')\n",
    "display(merged_df.head(10))\n",
    "merged_df.shape"
   ]
  },
  {
   "cell_type": "markdown",
   "id": "4a08caa3-1d3d-4d00-9783-b8467be30827",
   "metadata": {},
   "source": [
    "## Cleaning and Formatting Data for Plotting"
   ]
  },
  {
   "cell_type": "code",
   "execution_count": null,
   "id": "1ad83577-cdf4-4397-932d-6181d4897718",
   "metadata": {},
   "outputs": [],
   "source": [
    "#Make dataframe more compact, show type counts by tissue\n",
    "gene_type_distribution = merged_df.groupby(['tissue', 'gene_type']).size().unstack(fill_value=0)"
   ]
  },
  {
   "cell_type": "code",
   "execution_count": null,
   "id": "00733ea3-f37d-4eaa-ab75-87c0ad0b8059",
   "metadata": {},
   "outputs": [],
   "source": [
    "gene_type_distribution "
   ]
  },
  {
   "cell_type": "code",
   "execution_count": null,
   "id": "2bc2cb4b-d9f1-4256-b703-4129ab3be710",
   "metadata": {},
   "outputs": [],
   "source": [
    "#Split compact counts dataframe out by region and cell type\n",
    "gene_type_distribution_split  = gene_type_distribution.reset_index()"
   ]
  },
  {
   "cell_type": "code",
   "execution_count": null,
   "id": "f58cc6b3-fd05-450f-bfd3-2773c14f6e09",
   "metadata": {},
   "outputs": [],
   "source": [
    "gene_type_distribution_split[['region', 'cell_type']] = gene_type_distribution_split['tissue'].str.split(' ', n=1, expand=True)\n",
    "gene_type_distribution_split  = gene_type_distribution_split.drop('tissue', axis=1)"
   ]
  },
  {
   "cell_type": "code",
   "execution_count": null,
   "id": "3456b529-2a3d-4bdb-80fb-17b8af0162eb",
   "metadata": {},
   "outputs": [],
   "source": [
    "display(gene_type_distribution_split)"
   ]
  },
  {
   "cell_type": "code",
   "execution_count": null,
   "id": "4bfd4dbd-b880-4bb1-8d7c-a535480ce8e7",
   "metadata": {},
   "outputs": [],
   "source": [
    "#Clean up text\n",
    "words_to_remove = ['cortex', 'temporal gyrus', 'zone']  # Add your specific words here\n",
    "\n",
    "# Create a regex pattern from the words\n",
    "pattern = '|'.join(r'\\b{}\\b'.format(word) for word in words_to_remove)\n",
    "\n",
    "# Remove the words from the column\n",
    "gene_type_distribution_split['cell_type'] = gene_type_distribution_split['cell_type'].str.replace(pattern, '', regex=True)\n",
    "\n",
    "# Optional: Remove extra whitespace\n",
    "gene_type_distribution_split['cell_type'] = gene_type_distribution_split['cell_type'].str.replace(r'\\s+', ' ', regex=True).str.strip()"
   ]
  },
  {
   "cell_type": "code",
   "execution_count": null,
   "id": "e5f1720a-4f25-48e2-b29f-b54753b53410",
   "metadata": {},
   "outputs": [],
   "source": [
    "display(gene_type_distribution_split)"
   ]
  },
  {
   "cell_type": "code",
   "execution_count": null,
   "id": "f41350e6-1e92-4a42-b545-0f763fdb29b3",
   "metadata": {},
   "outputs": [],
   "source": [
    "#Add abbreviations\n",
    "\n",
    "region_abbreviations2 = {\n",
    "    'Middle': 'MTG',\n",
    "    'Subventricular': 'SVZ',\n",
    "    'Putamen': 'PUT',\n",
    "    'Entorhinal': 'EC'\n",
    "}\n",
    "\n",
    "# Replace the full names with abbreviations\n",
    "gene_type_distribution_split['region'] = gene_type_distribution_split['region'].replace(region_abbreviations2)"
   ]
  },
  {
   "cell_type": "code",
   "execution_count": null,
   "id": "efaccdac-b888-4c7d-b261-19250f5f2ea3",
   "metadata": {},
   "outputs": [],
   "source": [
    "#Group the data with multi-index--cell type, regions within\n",
    "#Now have regional gene type counts within a cell type\n",
    "grouped = gene_type_distribution_split.groupby(['cell_type', 'region']).sum()"
   ]
  },
  {
   "cell_type": "code",
   "execution_count": null,
   "id": "d8f63e61-54ad-4a5d-8374-49bdb378e7b3",
   "metadata": {},
   "outputs": [],
   "source": [
    "display(grouped)"
   ]
  },
  {
   "cell_type": "markdown",
   "id": "f1f31371-6a85-4a8a-a3e7-99da7268cc85",
   "metadata": {},
   "source": [
    "## Preparing Plot"
   ]
  },
  {
   "cell_type": "code",
   "execution_count": null,
   "id": "ef590b6b-3f71-4765-a20e-9bfb90b30eab",
   "metadata": {},
   "outputs": [],
   "source": [
    "desired_order = ['InN', 'ExN', 'SPN', 'OPC', 'Oligodendrocyte', 'Astrocyte', 'Microglia', 'Ependymal', 'Endothelial', 'Mural']  # Replace with your actual order\n",
    "cell_types = pd.Index(desired_order)"
   ]
  },
  {
   "cell_type": "code",
   "execution_count": null,
   "id": "920bc079-53ff-4074-99b9-8fb145a2337d",
   "metadata": {},
   "outputs": [],
   "source": [
    "#Make sure all regions displayed\n",
    "all_regions = grouped.index.get_level_values('region').unique()\n",
    "\n",
    "# Calculate the grid size\n",
    "n_cell_types = len(cell_types)\n",
    "n_cols = 3  # Adjust as needed\n",
    "n_rows = (n_cell_types + n_cols - 1) // n_cols\n",
    "\n",
    "fig, axes = plt.subplots(n_rows, n_cols, figsize=(5*n_cols, 4*n_rows), squeeze=False)\n",
    "fig.suptitle('aDEG Types by Cell Type and Brain Region', fontsize=16)\n",
    "\n",
    "custom_colors = {'protein_coding': '#B08F80', 'lncRNA': '#6C9E93'}\n",
    "handles, labels = None, None\n",
    "\n",
    "for i, cell_type in enumerate(cell_types):\n",
    "    row = i // n_cols\n",
    "    col = i % n_cols\n",
    "    ax = axes[row, col]\n",
    "    \n",
    "    data = grouped.loc[cell_type]\n",
    "    aligned_data = data.reindex(all_regions, fill_value=0)\n",
    "    \n",
    "    x = np.arange(len(all_regions))\n",
    "    protein_coding = aligned_data['protein_coding'].values\n",
    "    lncRNA = aligned_data['lncRNA'].values\n",
    "    total = protein_coding + lncRNA\n",
    "    \n",
    "    bars1 = ax.bar(x, protein_coding, label='Protein Coding', color=custom_colors['protein_coding'])\n",
    "    bars2 = ax.bar(x, lncRNA, bottom=protein_coding, label='lncRNA', color=custom_colors['lncRNA'])\n",
    "    \n",
    "    for idx, (pc, ln, tot) in enumerate(zip(protein_coding, lncRNA, total)):\n",
    "        if tot > 0:\n",
    "            pc_pct = f\"{pc / tot * 100:.0f}%\"\n",
    "            ln_pct = f\"{ln / tot * 100:.0f}%\"\n",
    "            ax.text(x[idx], pc / 2, pc_pct, ha='center', va='center', fontsize=9, color='black')\n",
    "            ax.text(x[idx], pc + ln / 2, ln_pct, ha='center', va='center', fontsize=9, color='black')\n",
    "    \n",
    "    ax.set_title(cell_type)\n",
    "    ax.set_xticks(x)\n",
    "    ax.set_xticklabels(all_regions, rotation=45, ha='right')\n",
    "    ax.set_xlabel('Region')         # X label on each subplot[2][4][7]\n",
    "    ax.set_ylabel('Gene Count')      # Y label on each subplot[2][4][7]\n",
    "    \n",
    "    if handles is None and labels is None:\n",
    "        handles, labels = ax.get_legend_handles_labels()\n",
    "\n",
    "for i in range(n_cell_types, n_rows * n_cols):\n",
    "    row = i // n_cols\n",
    "    col = i % n_cols\n",
    "    fig.delaxes(axes[row, col])\n",
    "\n",
    "fig.legend(handles, labels, loc='upper center', ncol=2)\n",
    "\n",
    "plt.tight_layout()\n",
    "plt.subplots_adjust(top=0.88)  # Adjust to make room for suptitle and legend\n",
    "\n",
    "plt.savefig('aDEG_Typing_Final_fixed.pdf')\n",
    "plt.show()\n"
   ]
  }
 ],
 "metadata": {
  "kernelspec": {
   "display_name": "python/3.12",
   "language": "python",
   "name": "py3.12"
  },
  "language_info": {
   "codemirror_mode": {
    "name": "ipython",
    "version": 3
   },
   "file_extension": ".py",
   "mimetype": "text/x-python",
   "name": "python",
   "nbconvert_exporter": "python",
   "pygments_lexer": "ipython3",
   "version": "3.12.8"
  }
 },
 "nbformat": 4,
 "nbformat_minor": 5
}
