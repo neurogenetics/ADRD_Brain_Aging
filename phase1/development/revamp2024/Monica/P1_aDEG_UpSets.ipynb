{
 "cells": [
  {
   "cell_type": "markdown",
   "id": "3681e232-053f-44e4-b4d2-80f6b56faa7e",
   "metadata": {},
   "source": [
    "# UpSets to Show aDEGs by Broad Cell Type x Region\n",
    "Code written and conceptualized by Monica E. Mesecar. Support for aesthetics and function looping with Perplexity AI."
   ]
  },
  {
   "cell_type": "code",
   "execution_count": null,
   "id": "ab04e2d2-17ea-42ca-bc8b-225d51de1277",
   "metadata": {},
   "outputs": [],
   "source": [
    "import pandas as pd\n",
    "import numpy as np\n",
    "import matplotlib\n",
    "matplotlib.rcParams['pdf.fonttype'] = 42\n",
    "import matplotlib.pyplot as plt\n",
    "import seaborn as sns\n",
    "from matplotlib import colors\n",
    "from matplotlib import rcParams"
   ]
  },
  {
   "cell_type": "code",
   "execution_count": null,
   "id": "23a1bcc4-210d-4b71-9a17-82155aebc4c9",
   "metadata": {},
   "outputs": [],
   "source": [
    "!pwd"
   ]
  },
  {
   "cell_type": "code",
   "execution_count": null,
   "id": "2cb797c1-2814-48f5-bacc-3f5bb570f0f8",
   "metadata": {},
   "outputs": [],
   "source": [
    "p1_deg=pd.read_csv(\"../P1_aging.glmmtmb_age_diffs_fdr_cleaned.csv\")"
   ]
  },
  {
   "cell_type": "code",
   "execution_count": null,
   "id": "24206245-1cf3-40d9-8a98-7025aa73b516",
   "metadata": {},
   "outputs": [],
   "source": [
    "display(p1_deg)"
   ]
  },
  {
   "cell_type": "code",
   "execution_count": null,
   "id": "49f12ca5-e2af-4a64-9668-c3159918d06a",
   "metadata": {},
   "outputs": [],
   "source": [
    "#Create lists of subsets of interest\n",
    "p1_type_list=p1_deg.type.unique().tolist()\n",
    "print(p1_type_list)"
   ]
  },
  {
   "cell_type": "code",
   "execution_count": null,
   "id": "48cf6019-5f87-4755-b6e6-2e3bd46fb20f",
   "metadata": {},
   "outputs": [],
   "source": [
    "#Subset only 'region_broad_celltype'\n",
    "p1_region_broad_df = p1_deg.loc[p1_deg['type'] == 'region_broad_celltype']"
   ]
  },
  {
   "cell_type": "code",
   "execution_count": null,
   "id": "0d53fb2a-71c4-41cd-a4cb-cd4166c558cb",
   "metadata": {
    "scrolled": true
   },
   "outputs": [],
   "source": [
    "#Show df\n",
    "p1_region_broad_df "
   ]
  },
  {
   "cell_type": "markdown",
   "id": "cc3c89a2-7998-4ae6-9223-85d23df5c9c5",
   "metadata": {},
   "source": [
    "## UpSet Plots "
   ]
  },
  {
   "cell_type": "code",
   "execution_count": null,
   "id": "824815ec-9f59-4fd1-826e-bbd8e51e1983",
   "metadata": {
    "tags": []
   },
   "outputs": [],
   "source": [
    "!pip install upsetplot --user"
   ]
  },
  {
   "cell_type": "code",
   "execution_count": null,
   "id": "2bf427f4-e70d-4e5b-bc21-b26996ace813",
   "metadata": {},
   "outputs": [],
   "source": [
    "import upsetplot"
   ]
  },
  {
   "cell_type": "code",
   "execution_count": null,
   "id": "76135303-4fe9-42d4-8e69-6cf53f487b93",
   "metadata": {},
   "outputs": [],
   "source": [
    "print (upsetplot.__version__)"
   ]
  },
  {
   "cell_type": "code",
   "execution_count": null,
   "id": "4a9cd8f2-9b2e-45d2-9147-cf22b790d80b",
   "metadata": {},
   "outputs": [],
   "source": [
    "from upsetplot import plot\n",
    "from upsetplot import UpSet\n",
    "from upsetplot import from_contents\n",
    "from upsetplot import from_memberships\n",
    "from matplotlib import pyplot"
   ]
  },
  {
   "cell_type": "code",
   "execution_count": null,
   "id": "28769ada-3ef7-4dbd-9a12-697faace86a1",
   "metadata": {},
   "outputs": [],
   "source": [
    "display(p1_region_broad_df)"
   ]
  },
  {
   "cell_type": "markdown",
   "id": "36d91ad4-76a2-43ec-8291-d918fc04ed8d",
   "metadata": {},
   "source": [
    "# Cell Type x Region"
   ]
  },
  {
   "cell_type": "code",
   "execution_count": null,
   "id": "66408639-e0e7-423b-b7dc-b4e3bf694cbd",
   "metadata": {},
   "outputs": [],
   "source": [
    "p1_CT_list=p1_region_broad_df.celltype.unique().tolist()\n",
    "print(p1_CT_list)"
   ]
  },
  {
   "cell_type": "code",
   "execution_count": null,
   "id": "d6bce8fc-33e2-4cc0-b330-0712519df3fb",
   "metadata": {},
   "outputs": [],
   "source": [
    "p1_region_broad_df = p1_region_broad_df[p1_region_broad_df[\"celltype\"] != 'Indeterminate']"
   ]
  },
  {
   "cell_type": "code",
   "execution_count": null,
   "id": "1b0b0f20-d0fa-4e3e-969a-967f16dbb38a",
   "metadata": {},
   "outputs": [],
   "source": [
    "p1_CT_list"
   ]
  },
  {
   "cell_type": "code",
   "execution_count": null,
   "id": "733cf394-0a98-4d86-afd5-f6e27bff4d8e",
   "metadata": {},
   "outputs": [],
   "source": [
    "from collections import defaultdict\n",
    "from matplotlib.patches import Patch\n",
    "\n",
    "def create_upset_plot(df, cell_type, region_colors):\n",
    "    \"\"\"\n",
    "    Create an UpSet plot with a custom color palette for brain regions\n",
    "    \n",
    "    Parameters:\n",
    "    - df: Input dataframe\n",
    "    - cell_type: Specific cell type to analyze\n",
    "    - region_colors: Dictionary of {region: hex_color}\n",
    "    \"\"\"\n",
    "    # Subset dataframe for the specific cell type\n",
    "    ct_df = df[df['celltype'] == cell_type]\n",
    "    \n",
    "    # Check if the cell type exists in the data\n",
    "    if ct_df.empty:\n",
    "        print(f\"No data found for cell type: {cell_type}\")\n",
    "        return\n",
    "    \n",
    "    # Create gene-region dictionary\n",
    "    gene_region_dict = defaultdict(list)\n",
    "    for gene, region in zip(ct_df['feature'], ct_df['region']):\n",
    "        gene_region_dict[gene].append(region)\n",
    "    \n",
    "    # Get unique regions for this cell type\n",
    "    regions = sorted(set(region for regions in gene_region_dict.values() for region in regions))\n",
    "    \n",
    "    # Validate color dictionary\n",
    "    missing_regions = set(regions) - set(region_colors.keys())\n",
    "    if missing_regions:\n",
    "        print(f\"Warning: No colors defined for regions: {missing_regions}\")\n",
    "        # Assign default color for missing regions\n",
    "        for missing_region in missing_regions:\n",
    "            region_colors[missing_region] = '#808080'  # Default gray\n",
    "    \n",
    "    # Create the UpSet dataframe\n",
    "    upset_df = pd.DataFrame(0, index=gene_region_dict.keys(), columns=regions)\n",
    "    \n",
    "    # Fill the dataframe\n",
    "    for gene, gene_regions in gene_region_dict.items():\n",
    "        upset_df.loc[gene, gene_regions] = 1\n",
    "    \n",
    "    # Convert to Boolean\n",
    "    upset_df_bool = upset_df.astype(bool)\n",
    "    \n",
    "    # Create UpSet object\n",
    "    upset = UpSet(\n",
    "        from_indicators(lambda df: df.select_dtypes(bool), data=upset_df_bool),\n",
    "        sort_by=\"cardinality\",\n",
    "        show_counts=True\n",
    "    )\n",
    "    \n",
    "    # Create custom legend elements\n",
    "    legend_elements = []\n",
    "    \n",
    "    for region in regions:\n",
    "        other_regions = [r for r in regions if r != region]\n",
    "        upset.style_subsets(\n",
    "            present=region, \n",
    "            absent=other_regions, \n",
    "            facecolor=region_colors[region], \n",
    "            linewidth=2, \n",
    "            label=f'{region} unique'\n",
    "        )\n",
    "        \n",
    "        # Create legend handle for each region\n",
    "        legend_elements.append(\n",
    "            Patch(facecolor=region_colors[region], label=f'{region} unique')\n",
    "        )\n",
    "    \n",
    "    # Create a new figure with desired size\n",
    "    plt.figure(figsize=(12, 8))\n",
    "    \n",
    "    # Plot\n",
    "    upset.plot()\n",
    "    \n",
    "    # Adjust layout to make room for legend\n",
    "    plt.tight_layout()\n",
    "    \n",
    "    # Add title\n",
    "    plt.suptitle(f\"aDEG Count by Region among {cell_type}\", y=1.02)\n",
    "    \n",
    "    # Add legend outside the plot\n",
    "    plt.legend(handles=legend_elements, \n",
    "               loc='upper left', \n",
    "               bbox_to_anchor=(1.05, 1), \n",
    "               borderaxespad=0., \n",
    "               fontsize='small', \n",
    "               ncol=1)\n",
    "    \n",
    "    # Adjust subplot to make room for legend\n",
    "    plt.subplots_adjust(right=0.85)\n",
    "    \n",
    "    # Save figure\n",
    "    plt.savefig(f\"{cell_type}_aDEG_UpSet_UnCol_NoDir_FINAL2.pdf\", format=\"pdf\", bbox_inches=\"tight\", dpi=300)\n",
    "    plt.close()  # Close the plot to free up memory"
   ]
  },
  {
   "cell_type": "code",
   "execution_count": null,
   "id": "5b946896-fe16-4ce2-ad48-a4deba3e9798",
   "metadata": {},
   "outputs": [],
   "source": [
    "# Example usage\n",
    "# Define your region color dictionary\n",
    "region_colors = {\n",
    "    'EC': '#841F84',  \n",
    "    'MTG': '#2B79A9',  \n",
    "    'PUT': '#A8244B', \n",
    "    'SVZ': '#E5B710',  \n",
    "}\n",
    "\n",
    "# Assuming p1_region_broad_df is your master dataframe\n",
    "p1_CT_list = p1_region_broad_df.celltype.unique().tolist()\n",
    "p1_CT_list.remove(\"SPN\")\n",
    "\n",
    "# Create UpSet plot for each cell type\n",
    "for cell_type in p1_CT_list:\n",
    "    create_upset_plot(p1_region_broad_df, cell_type, region_colors)\n",
    "    print(f\"Processed UpSet plot for {cell_type}\")"
   ]
  }
 ],
 "metadata": {
  "kernelspec": {
   "display_name": "python/3.11",
   "language": "python",
   "name": "py3.11"
  },
  "language_info": {
   "codemirror_mode": {
    "name": "ipython",
    "version": 3
   },
   "file_extension": ".py",
   "mimetype": "text/x-python",
   "name": "python",
   "nbconvert_exporter": "python",
   "pygments_lexer": "ipython3",
   "version": "3.11.11"
  }
 },
 "nbformat": 4,
 "nbformat_minor": 5
}
