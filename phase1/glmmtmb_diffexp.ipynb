{
 "cells": [
  {
   "cell_type": "markdown",
   "id": "2fa20240",
   "metadata": {},
   "source": [
    "## Notebook to run differential expression in single-cell data using GLMMTMB for single region or cell-type, use as template notebook for running each\n",
    "\n",
    "based on some of the observations related to pseudo-replicate and zero-inflation from\n",
    "\n",
    "[Zimmerman KD, Espeland MA, Langefeld CD. A practical solution to pseudoreplication bias in single-cell studies. Nat Commun 2021;12:738.](https://pubmed.ncbi.nlm.nih.gov/33531494/)\n"
   ]
  },
  {
   "cell_type": "code",
   "execution_count": null,
   "id": "bba68b2b",
   "metadata": {},
   "outputs": [],
   "source": [
    "!date"
   ]
  },
  {
   "cell_type": "markdown",
   "id": "11ff22dd",
   "metadata": {},
   "source": [
    "#### import libraries and set notebook variables"
   ]
  },
  {
   "cell_type": "code",
   "execution_count": null,
   "id": "46f1624e",
   "metadata": {},
   "outputs": [],
   "source": [
    "import anndata as ad\n",
    "import numpy as np\n",
    "import pandas as pd\n",
    "import scanpy as sc\n",
    "import diffxpy.api as de\n",
    "import subprocess\n",
    "import os\n",
    "\n",
    "import warnings\n",
    "warnings.simplefilter('ignore')\n",
    "\n",
    "import random\n",
    "random.seed(420)"
   ]
  },
  {
   "cell_type": "code",
   "execution_count": null,
   "id": "392c5b06",
   "metadata": {
    "tags": [
     "parameters"
    ]
   },
   "outputs": [],
   "source": [
    "# parameters\n",
    "region_celltype = ''\n",
    "obs_type = ''\n",
    "testing = False"
   ]
  },
  {
   "cell_type": "code",
   "execution_count": null,
   "id": "7f0137ac",
   "metadata": {},
   "outputs": [],
   "source": [
    "# naming\n",
    "cohort = 'aging'\n",
    "assay = 'RNA'\n",
    "\n",
    "# directories for initial setup\n",
    "home_dir = '/labshare/raph/datasets/adrd_neuro'\n",
    "wrk_dir = f'{home_dir}/{cohort}'\n",
    "results_dir = f'{wrk_dir}/demux'\n",
    "\n",
    "# in files\n",
    "in_file = f'{results_dir}/{cohort}.pegasus.leiden_085.Age_group_young_old.h5ad'\n",
    "glmmtmb_rscript_file = f'/home/gibbsr/notebooks/expression/adrd_neuro/{cohort}/glmmTMB.R'\n",
    "\n",
    "# out files\n",
    "out_file = f'{results_dir}/{cohort}.{region_celltype.replace(\" \", \"_\")}.glmmtmb_age_diffs.csv'\n",
    "temp_r_in_file = '{this_dir}/{name}_glmmtmb_in_df_temp.csv'\n",
    "temp_r_out_file = '{this_dir}/{chrt}.{name}_glmmtmb_results_temp.csv'\n",
    "\n",
    "# constants\n",
    "min_cell_count = 3\n",
    "region_obs_feature = 'Brain_region'\n",
    "celltype_obs_feature = 'new_anno'\n",
    "testing_sample_size = 100 #25"
   ]
  },
  {
   "cell_type": "markdown",
   "id": "9185976a",
   "metadata": {},
   "source": [
    "#### analysis functions"
   ]
  },
  {
   "cell_type": "code",
   "execution_count": null,
   "id": "f7e63723",
   "metadata": {},
   "outputs": [],
   "source": [
    "def subset_ad_by_type(data: ad.AnnData, group_name: str, type_name: str,\n",
    "                      reapply_filter: bool=True, min_cell_count: int=3,\n",
    "                      verbose: bool=False) -> ad.AnnData:\n",
    "    this_data = data[data.obs[type_name] == group_name].copy()\n",
    "    shape_before = this_data.shape\n",
    "    if reapply_filter:\n",
    "        sc.pp.filter_genes(this_data, min_counts=min_cell_count)\n",
    "        sc.pp.filter_cells(this_data, min_counts=min_cell_count)\n",
    "        shape_after = this_data.shape\n",
    "    if verbose:\n",
    "        print(f'shape before and after: {shape_before} {shape_after}')\n",
    "        print(this_data)\n",
    "    return this_data\n",
    "\n",
    "def convert_ad_to_df(data: ad.AnnData, young_age_limit: float=30.0, \n",
    "                     verbose: bool=False) -> pd.DataFrame:\n",
    "    data_df = data.to_df()\n",
    "    annots = data.obs[['Brain_region', 'Age','Age_group', 'pool_name', \n",
    "                       'Sample_id', 'Sex', 'donor_id']].copy()\n",
    "    annots['old'] = np.where((annots['Age'] > young_age_limit), 1, 0)\n",
    "    annots['female'] = np.where((annots['Sex'] == 'Female'), 1, 0)\n",
    "    this_df = None\n",
    "    if data_df.index.equals(annots.index):\n",
    "        this_df = pd.concat([data_df, annots], axis='columns')\n",
    "        if verbose:\n",
    "            print(this_df.shape)\n",
    "            display(this_df.head())\n",
    "    return this_df\n",
    "\n",
    "def feature_detected(feature: str=None, df: pd.DataFrame=None, \n",
    "                     min_cell_count: int=3, min_sample_det_rate: float=0.5,\n",
    "                     verbose: bool=False) -> bool:\n",
    "    nz_df = df.loc[df[feature] > 0]\n",
    "    ok_cnts = nz_df['Sample_id'].value_counts() > min_cell_count\n",
    "    ok_sample_cnt = ok_cnts[ok_cnts == True].shape[0]\n",
    "    if ok_sample_cnt/df['Sample_id'].nunique() >= min_sample_det_rate:\n",
    "        good_feature = True\n",
    "    else:\n",
    "        good_feature = False\n",
    "    if verbose:\n",
    "        print(feature, end=', ')\n",
    "        print(f'nz_df.shape = {nz_df.shape}', end=', ')\n",
    "        print(f'{ok_sample_cnt}/{df.Sample_id.nunique()}', end=', ')\n",
    "        print(good_feature)\n",
    "    return good_feature\n",
    "\n",
    "def poorly_detected_features(features: list=None, df: pd.DataFrame=None, \n",
    "                             verbose=False) -> list:\n",
    "    bad_features = []\n",
    "    for feature in features:\n",
    "        if not feature_detected(feature, df, verbose):\n",
    "            bad_features.append(feature)\n",
    "    if verbose:\n",
    "        print(f'bad features counts is {len(bad_features)}')\n",
    "    return bad_features\n",
    "\n",
    "def non_de_features(data: ad.AnnData=None, alpha: float=0.05) -> list:\n",
    "    de_tt = de.test.t_test(data=data, grouping='Age_group')\n",
    "    de_tt_summary = de_tt.summary()\n",
    "    ret_list = list(de_tt_summary[de_tt_summary['pval'] > alpha]['gene'].values)\n",
    "    return ret_list\n",
    "\n",
    "def save_df_for_glmmtmb_in_r(df: pd.DataFrame, group_name: str) -> dict:\n",
    "    # R doesn't like column names with hyphens in \n",
    "    # data frames when building formulas so replace temporarily\n",
    "    # find features containing hyphen\n",
    "    feats_w_hyphen = df.columns[df.columns.str.contains('-')]\n",
    "    # make dictionary to do replace\n",
    "    rename_cols = {x: x.replace('-', '_') for x in feats_w_hyphen}\n",
    "    df = df.rename(columns=rename_cols)\n",
    "    df.to_csv(temp_r_in_file.format(this_dir=f'{wrk_dir}/expression', \n",
    "                                    name=group_name.replace(\" \", \"_\")))\n",
    "    return rename_cols\n",
    "\n",
    "def frmt_glmmtmb_script_cmd(group_name: str) -> str:\n",
    "    in_file = temp_r_in_file.format(this_dir=f'{wrk_dir}/expression', \n",
    "                                    name=group_name.replace(\" \", \"_\"))\n",
    "    out_file = temp_r_out_file.format(this_dir=f'{results_dir}', chrt=cohort, \n",
    "                                      name=group_name.replace(\" \", \"_\"))\n",
    "    this_cmd = f'Rscript {glmmtmb_rscript_file} {in_file} {out_file}'\n",
    "    return this_cmd\n",
    "\n",
    "def read_glmmtmb_results(group_name: str, cols_to_rename: dict) -> pd.DataFrame:\n",
    "    this_file = temp_r_out_file.format(this_dir=f'{results_dir}', chrt=cohort, \n",
    "                                       name=group_name.replace(\" \", \"_\"))\n",
    "    this_df = pd.read_csv(this_file)\n",
    "    # need to flip the features with '-' -> '_' for R back to originals\n",
    "    # the the key/values\n",
    "    rename_cols = {value: key for (key, value) in cols_to_rename.items()}\n",
    "    this_df['feature'] = this_df['feature'].replace(rename_cols)\n",
    "    return this_df\n",
    "\n",
    "def diff_exp_of_features(df: pd.DataFrame, features: set, group_name: str, \n",
    "                         verbose: bool=False) -> pd.DataFrame:\n",
    "    cols_dict = save_df_for_glmmtmb_in_r(df, group_name)\n",
    "    this_cmd = frmt_glmmtmb_script_cmd(group_name)\n",
    "    # run the cmd\n",
    "    ret_out = subprocess.run(this_cmd.split(), capture_output=True)\n",
    "    this_df = read_glmmtmb_results(group_name, cols_dict)\n",
    "    # delete temp files\n",
    "    os.remove(temp_r_in_file.format(this_dir=f'{wrk_dir}/expression', \n",
    "                                    name=group_name.replace(\" \", \"_\")))\n",
    "    os.remove(temp_r_out_file.format(this_dir=f'{results_dir}', chrt=cohort, \n",
    "                                     name=group_name.replace(\" \", \"_\")))\n",
    "    if verbose:\n",
    "        print(f'df shape is {this_df.shape}')\n",
    "        print(f'subprocess returned {ret_out}')\n",
    "    return this_df\n",
    "\n",
    "def diffexp_group(data: ad.AnnData, group_name: str, \n",
    "                  type_name: str, min_cell_count: int=3, \n",
    "                  verbose: bool=False) -> pd.DataFrame:\n",
    "    if verbose:\n",
    "        print(f'starting {group_name}', end='...')\n",
    "    # subset anndata object by type_name (brain region or cell-type)\n",
    "    type_ad = subset_ad_by_type(data, group_name, type_name)\n",
    "    # now dealing with just cells in this region or cell-type so refilter genes\n",
    "    sc.pp.filter_genes(type_ad, min_cells=min_cell_count)\n",
    "    type_df = convert_ad_to_df(type_ad)\n",
    "    # find features poorly detected and don't include in analysis\n",
    "    bad_features = poorly_detected_features(type_ad.var.index.values, type_df)\n",
    "    type_clean_df = type_df.drop(columns=bad_features)\n",
    "    keep_features = set(type_ad.var.index) & set(type_clean_df.columns)\n",
    "    type_clean_ad = type_ad[:,list(keep_features)]\n",
    "    # compute simple DE, so only running slower glmmTMB on possibles\n",
    "    exclude_features = non_de_features(type_clean_ad)\n",
    "    type_clean_df = type_clean_df.drop(columns=exclude_features)\n",
    "    keep_features = set(type_clean_ad.var.index) & set(type_clean_df.columns)\n",
    "    results_df = diff_exp_of_features(type_clean_df, keep_features, group_name)\n",
    "    results_df['group'] = group_name\n",
    "    if verbose:\n",
    "        print(f'done', end='. ')\n",
    "    return results_df"
   ]
  },
  {
   "cell_type": "markdown",
   "id": "bc45a4ce",
   "metadata": {},
   "source": [
    "#### read the anndata (h5ad) file"
   ]
  },
  {
   "cell_type": "code",
   "execution_count": null,
   "id": "69a8fafa",
   "metadata": {},
   "outputs": [],
   "source": [
    "%%time\n",
    "adata = sc.read(in_file)\n",
    "print(adata)"
   ]
  },
  {
   "cell_type": "markdown",
   "id": "2eaa9022",
   "metadata": {},
   "source": [
    "#### take a look at the cell counts by brain region and cell-type"
   ]
  },
  {
   "cell_type": "code",
   "execution_count": null,
   "id": "6875bc76",
   "metadata": {},
   "outputs": [],
   "source": [
    "adata.obs[region_obs_feature].value_counts()"
   ]
  },
  {
   "cell_type": "code",
   "execution_count": null,
   "id": "7acf6207",
   "metadata": {},
   "outputs": [],
   "source": [
    "adata.obs[celltype_obs_feature].value_counts()"
   ]
  },
  {
   "cell_type": "code",
   "execution_count": null,
   "id": "843829ee",
   "metadata": {},
   "outputs": [],
   "source": [
    "sc.pl.umap(adata, color=[celltype_obs_feature], legend_loc='on data')"
   ]
  },
  {
   "cell_type": "markdown",
   "id": "715e6b18",
   "metadata": {},
   "source": [
    "##### find cell-types we won't use in analysis\n",
    "remove them, and then refilter genes based on cell count"
   ]
  },
  {
   "cell_type": "code",
   "execution_count": null,
   "id": "a4d02d85",
   "metadata": {},
   "outputs": [],
   "source": [
    "found_uncertain = [x for x in adata.obs[celltype_obs_feature].unique().to_list() \n",
    "                   if 'uncertain' in x]\n",
    "print(found_uncertain)\n",
    "adata = adata[~adata.obs[celltype_obs_feature].isin(found_uncertain), :]\n",
    "sc.pp.filter_genes(adata, min_cells=min_cell_count)\n",
    "adata"
   ]
  },
  {
   "cell_type": "markdown",
   "id": "272b02b4",
   "metadata": {},
   "source": [
    "### if testing notebooks for debugging purpose subset the features"
   ]
  },
  {
   "cell_type": "code",
   "execution_count": null,
   "id": "af13aa7b",
   "metadata": {},
   "outputs": [],
   "source": [
    "if testing:\n",
    "    genes = random.sample(list(adata.var.index.values), testing_sample_size)\n",
    "    adata = adata[:,genes]"
   ]
  },
  {
   "cell_type": "markdown",
   "id": "9c6e94c1",
   "metadata": {},
   "source": [
    "#### compute the differential expression info"
   ]
  },
  {
   "cell_type": "code",
   "execution_count": null,
   "id": "205a3d58",
   "metadata": {},
   "outputs": [],
   "source": [
    "%%time\n",
    "results_df = diffexp_group(adata, region_celltype, obs_type, verbose=True)"
   ]
  },
  {
   "cell_type": "code",
   "execution_count": null,
   "id": "bae5d1e4",
   "metadata": {},
   "outputs": [],
   "source": [
    "display(results_df)"
   ]
  },
  {
   "cell_type": "code",
   "execution_count": null,
   "id": "c116cfd2",
   "metadata": {},
   "outputs": [],
   "source": [
    "alpha = 0.05\n",
    "print(results_df.loc[(results_df['term'] == 'old') & (results_df['p.value'] <= alpha)].shape)\n",
    "display(results_df.loc[(results_df['term'] == 'old') & (results_df['p.value'] <= alpha)])"
   ]
  },
  {
   "cell_type": "markdown",
   "id": "8d20cdd7",
   "metadata": {},
   "source": [
    "#### save the results"
   ]
  },
  {
   "cell_type": "code",
   "execution_count": null,
   "id": "f0c6bf93",
   "metadata": {},
   "outputs": [],
   "source": [
    "results_df.to_csv(out_file, index=False)"
   ]
  },
  {
   "cell_type": "code",
   "execution_count": null,
   "id": "4a27829c",
   "metadata": {},
   "outputs": [],
   "source": [
    "!date"
   ]
  }
 ],
 "metadata": {
  "kernelspec": {
   "display_name": "Python 3 (ipykernel)",
   "language": "python",
   "name": "python3"
  },
  "language_info": {
   "codemirror_mode": {
    "name": "ipython",
    "version": 3
   },
   "file_extension": ".py",
   "mimetype": "text/x-python",
   "name": "python",
   "nbconvert_exporter": "python",
   "pygments_lexer": "ipython3",
   "version": "3.8.11"
  }
 },
 "nbformat": 4,
 "nbformat_minor": 5
}
