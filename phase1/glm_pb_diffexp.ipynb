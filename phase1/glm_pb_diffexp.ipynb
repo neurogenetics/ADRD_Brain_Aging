{
 "cells": [
  {
   "cell_type": "markdown",
   "id": "2edbd0e1",
   "metadata": {},
   "source": [
    "## Notebook to run differential expression in single-cell data using GLM model and pseudo-bulk quantifications per sample\n",
    "\n",
    "based on some of the observations related to pseudo-replicate and zero-inflation from\n",
    "\n",
    "[Zimmerman KD, Espeland MA, Langefeld CD. A practical solution to pseudoreplication bias in single-cell studies. Nat Commun 2021;12:738.](https://pubmed.ncbi.nlm.nih.gov/33531494/)\n"
   ]
  },
  {
   "cell_type": "code",
   "execution_count": null,
   "id": "3d370583",
   "metadata": {},
   "outputs": [],
   "source": [
    "!date"
   ]
  },
  {
   "cell_type": "markdown",
   "id": "12b70488",
   "metadata": {},
   "source": [
    "#### import libraries and set notebook variables"
   ]
  },
  {
   "cell_type": "code",
   "execution_count": null,
   "id": "30831d90",
   "metadata": {},
   "outputs": [],
   "source": [
    "import anndata as ad\n",
    "import numpy as np\n",
    "import pandas as pd\n",
    "import scanpy as sc\n",
    "import diffxpy.api as de\n",
    "import matplotlib.pyplot as plt\n",
    "from matplotlib.pyplot import rc_context\n",
    "import seaborn as sns\n",
    "import statsmodels.api as sm\n",
    "import statsmodels.formula.api as smf\n",
    "from numba import jit\n",
    "\n",
    "import warnings\n",
    "warnings.simplefilter('ignore')\n",
    "\n",
    "import random\n",
    "random.seed(420)"
   ]
  },
  {
   "cell_type": "code",
   "execution_count": null,
   "id": "c47fa92e",
   "metadata": {
    "tags": [
     "parameters"
    ]
   },
   "outputs": [],
   "source": [
    "# parameters\n",
    "tissue = ''\n",
    "tissue_type = ''\n",
    "testing = False"
   ]
  },
  {
   "cell_type": "code",
   "execution_count": null,
   "id": "64d7aef7",
   "metadata": {},
   "outputs": [],
   "source": [
    "# naming\n",
    "cohort = 'aging'\n",
    "assay = 'RNA'\n",
    "\n",
    "# directories for initial setup\n",
    "home_dir = '/labshare/raph/datasets/adrd_neuro'\n",
    "wrk_dir = f'{home_dir}/{cohort}'\n",
    "quants_dir = f'{wrk_dir}/demux'\n",
    "results_dir = f'{wrk_dir}/results'\n",
    "\n",
    "# in files\n",
    "in_file = f'{quants_dir}/{cohort}.pegasus.leiden_085.Age_group_young_old.h5ad'\n",
    "diffxpy_file = '{this_dir}/{name}_de_diffxpy.csv'\n",
    "\n",
    "# out files\n",
    "results_file = f'{results_dir}/{cohort}.{tissue.replace(\" \", \"_\")}.glm_pb_age_diffs.csv'\n",
    "\n",
    "# constants\n",
    "young_age_limit = 30.0\n",
    "min_cell_count = 3\n",
    "# get cell counts by 'categories'\n",
    "region_obs_feature = 'Brain_region'\n",
    "celltype_obs_feature = 'new_anno'\n",
    "testing_sample_size = 100 #25\n"
   ]
  },
  {
   "cell_type": "markdown",
   "id": "85f30ba4",
   "metadata": {},
   "source": [
    "#### analysis functions"
   ]
  },
  {
   "cell_type": "code",
   "execution_count": null,
   "id": "90886c3a",
   "metadata": {},
   "outputs": [],
   "source": [
    "def subset_ad_by_type(data: ad.AnnData, group_name: str, type_name: str,\n",
    "                      reapply_filter: bool=True, min_cell_count: int=3,\n",
    "                      verbose: bool=False) -> ad.AnnData:\n",
    "    this_data = data[data.obs[type_name] == group_name].copy()\n",
    "    shape_before = this_data.shape\n",
    "    if reapply_filter:\n",
    "        sc.pp.filter_genes(this_data, min_counts=min_cell_count)\n",
    "        sc.pp.filter_cells(this_data, min_counts=min_cell_count)\n",
    "        shape_after = this_data.shape\n",
    "    if verbose:\n",
    "        print(f'subset complete, shape before and after: {shape_before} {shape_after}')\n",
    "        print(this_data)\n",
    "    return this_data\n",
    "\n",
    "def convert_ad_to_df(data: ad.AnnData, young_age_limit: float=30.0, \n",
    "                     verbose: bool=False) -> pd.DataFrame:\n",
    "    data_df = data.to_df()\n",
    "    annots = data.obs[['Brain_region', 'Age','Age_group', 'pool_name', \n",
    "                       'Sample_id', 'Sex', 'donor_id']].copy()\n",
    "    annots['old'] = np.where((annots['Age'] > young_age_limit), 1, 0)\n",
    "    annots['female'] = np.where((annots['Sex'] == 'Female'), 1, 0)\n",
    "    this_df = None\n",
    "    if data_df.index.equals(annots.index):\n",
    "        this_df = pd.concat([data_df, annots], axis='columns')\n",
    "        if verbose:\n",
    "            print(f'anndata to pandas df complete: {this_df.shape}')\n",
    "            print(this_df.shape)\n",
    "            display(this_df.head())\n",
    "    return this_df\n",
    "\n",
    "# have added numba jit decorator but unfortunately since using pandas still \n",
    "# object mode, but maybe get some improvement on the looping?\n",
    "@jit(parallel=True)\n",
    "def feature_detected(feature: str=None, df: pd.DataFrame=None, \n",
    "                     min_cell_count: int=3, min_sample_det_rate: float=0.5,\n",
    "                     verbose: bool=False) -> bool:\n",
    "    nz_df = df.loc[df[feature] > 0]\n",
    "    ok_cnts = nz_df['Sample_id'].value_counts() > min_cell_count\n",
    "    ok_sample_cnt = ok_cnts[ok_cnts == True].shape[0]\n",
    "    if ok_sample_cnt/df['Sample_id'].nunique() >= min_sample_det_rate:\n",
    "        good_feature = True\n",
    "    else:\n",
    "        good_feature = False\n",
    "    if verbose:\n",
    "        print(feature, end=', ')\n",
    "        print(f'nz_df.shape = {nz_df.shape}', end=', ')\n",
    "        print(f'{ok_sample_cnt}/{df.Sample_id.nunique()}', end=', ')\n",
    "        print(good_feature)\n",
    "    return good_feature\n",
    "\n",
    "# have added numba jit decorator but unfortunately since using pandas still \n",
    "# object mode, but maybe get some improvement on the looping?\n",
    "@jit(parallel=True)\n",
    "def poorly_detected_features(features: list=None, df: pd.DataFrame=None, \n",
    "                             verbose=False) -> list:\n",
    "    bad_features = []\n",
    "    for feature in features:\n",
    "        if not feature_detected(feature, df, verbose):\n",
    "            bad_features.append(feature)\n",
    "    if verbose:\n",
    "        print(f'bad features counts is {len(bad_features)}')\n",
    "    return bad_features\n",
    "\n",
    "def non_de_features(data: ad.AnnData, group_name: str, alpha: float=0.05) -> list:\n",
    "    de_tt = de.test.t_test(data=data, grouping='Age_group')\n",
    "    de_tt_summary = de_tt.summary()\n",
    "    ret_list = list(de_tt_summary[de_tt_summary['pval'] > alpha]['gene'].values)\n",
    "    return ret_list\n",
    "\n",
    "def read_testable_de_features(group_name: str, alpha: float=0.05) -> pd.DataFrame:\n",
    "    de_df = pd.read_csv(diffxpy_file.format(this_dir=quants_dir, \n",
    "                                            name=group_name.replace(\" \", \"_\")), index_col=0)\n",
    "    ret_list = list(de_df[de_df['pval'] <= alpha]['gene'].values)    \n",
    "    return ret_list\n",
    "\n",
    "def glm_model(formula: str, df: pd.DataFrame, verbose: bool=False, \n",
    "                      use_tweedie: bool=True):\n",
    "    if use_tweedie:\n",
    "        model = smf.glm(formula=formula, data=df, \n",
    "                        family=sm.families.Tweedie(link=None, var_power=1.6, \n",
    "                                                   eql=True))\n",
    "    else:\n",
    "        model = smf.glm(formula=formula, data=df)\n",
    "    result = model.fit()\n",
    "    if verbose:\n",
    "        print(result.summary())\n",
    "    return result\n",
    "\n",
    "@jit(nopython=True)\n",
    "def compute_fold_change(intercept: float, coef: float) -> float:\n",
    "    if coef > 0:\n",
    "        fc = np.log2((intercept + coef)/intercept)\n",
    "    else:\n",
    "        fc = -np.log2(intercept/(intercept - abs(coef)))\n",
    "    return fc\n",
    "\n",
    "def compute_frmt_pb(df: pd.DataFrame, feature: str) -> pd.DataFrame:\n",
    "    ret_df = df[[feature, 'Sample_id']].groupby('Sample_id').mean()\n",
    "    ret_df = ret_df.merge(df[['Sample_id', 'pool_name', 'old']].drop_duplicates(), \n",
    "                          how='left', left_index=True, right_on='Sample_id')\n",
    "    return ret_df\n",
    "\n",
    "def glm_diff_expr_age(df: pd.DataFrame, feature: str, verbose: bool=False) -> tuple:\n",
    "    dep_term = feature\n",
    "    indep_term = 'old'\n",
    "    this_formula = f'Q(\"{dep_term}\") ~ {indep_term} + C(pool_name)'\n",
    "    # just drop zeros \n",
    "    try:\n",
    "        pb_df = compute_frmt_pb(df, feature)\n",
    "            # run GLM via statsmodel\n",
    "        result = glm_model(this_formula, pb_df, use_tweedie=False)\n",
    "        fold_change = compute_fold_change(result.params['Intercept'], \n",
    "                                          result.params[indep_term])\n",
    "        ret_list = [dep_term, result.params['Intercept'], \n",
    "                    result.params[indep_term], result.bse[indep_term], \n",
    "                    result.tvalues[indep_term], result.pvalues[indep_term], \n",
    "                    fold_change]\n",
    "        if verbose:\n",
    "            print(f'df shape {df.shape}')\n",
    "            print(f'non-zero df shape {pb_df.shape}')\n",
    "            print(result.summary())\n",
    "            print(['feature', 'intercept', 'coef', 'stderr', 'z', 'p-value', 'log2_fc'])\n",
    "            print(ret_list)\n",
    "    except:\n",
    "#         print(f'Caught Error for {dep_term}')\n",
    "        ret_list = [dep_term] + [np.nan] * 6\n",
    "  \n",
    "    return ret_list\n",
    "\n",
    "def diff_exp_of_features(df: pd.DataFrame, features: set) -> list:\n",
    "    results = []\n",
    "    for feature in features:\n",
    "        results.append(glm_diff_expr_age(df, feature))         \n",
    "    return results\n",
    "\n",
    "def diffexp_group(data: ad.AnnData, group_name: str, \n",
    "                  type_name: str, min_cell_count: int=3, \n",
    "                  verbose: bool=False, use_prev_prep: bool=True) -> pd.DataFrame:\n",
    "    if verbose:\n",
    "        print(f'starting subset {group_name}')\n",
    "    # subset anndata object by type_name (brain region or cell-type)\n",
    "    type_ad = subset_ad_by_type(data, group_name, type_name)\n",
    "    # now dealing with just cells in this region or cell-type so refilter genes\n",
    "    sc.pp.filter_genes(type_ad, min_cells=min_cell_count)\n",
    "    if verbose:\n",
    "        print('converting anndata to pandas df')        \n",
    "    type_df = convert_ad_to_df(type_ad)\n",
    "    # if prep files exist from the glmmTMB analysis\n",
    "    if use_prev_prep:\n",
    "        print('using previous prep to find features for glm modeling')\n",
    "        testable_features = read_testable_de_features(group_name)\n",
    "        exclude_features = set(type_ad.var.index) - set(testable_features)\n",
    "        type_clean_df = type_df.drop(columns=exclude_features)\n",
    "        features_set = set(type_ad.var.index) & set(type_clean_df.columns)\n",
    "    else:\n",
    "        # find features poorly detected and don't include in analysis\n",
    "        if verbose:\n",
    "            print(f'finding poorly detected features from cells x features {type_df.shape}')    \n",
    "        bad_features = poorly_detected_features(type_ad.var.index.values, type_df)\n",
    "        type_clean_df = type_df.drop(columns=bad_features)\n",
    "        keep_features = set(type_ad.var.index) & set(type_clean_df.columns)\n",
    "        type_clean_ad = type_ad[:,list(keep_features)] \n",
    "        # compute simple DE, so only running slower glmmTMB on possibles\n",
    "        if verbose:\n",
    "            print('running diffxpy t-test screen')    \n",
    "        exclude_features = non_de_features(type_clean_ad, group_name)\n",
    "        type_clean_df = type_clean_df.drop(columns=exclude_features)\n",
    "        features_set = set(type_clean_ad.var.index) & set(type_clean_df.columns)    \n",
    "    type_results = diff_exp_of_features(type_clean_df, features_set)\n",
    "    results_df = pd.DataFrame(data=type_results, \n",
    "                              columns=['feature', 'intercept', 'coef', \n",
    "                                       'stderr', 'z', 'p-value', 'log2_fc'])\n",
    "    results_df['tissue'] = group_name\n",
    "    results_df['type'] = 'brain_region' if type_name == region_obs_feature else 'cell_type'       \n",
    "    if verbose:\n",
    "        print(f'done', end='. ')\n",
    "    return results_df"
   ]
  },
  {
   "cell_type": "markdown",
   "id": "0761635d",
   "metadata": {},
   "source": [
    "#### read the anndata (h5ad) file"
   ]
  },
  {
   "cell_type": "code",
   "execution_count": null,
   "id": "996604d0",
   "metadata": {},
   "outputs": [],
   "source": [
    "%%time\n",
    "adata = sc.read(in_file, cache=True)\n",
    "\n",
    "print(adata)"
   ]
  },
  {
   "cell_type": "markdown",
   "id": "20212b83",
   "metadata": {},
   "source": [
    "#### take a look at the cell counts by cell type"
   ]
  },
  {
   "cell_type": "code",
   "execution_count": null,
   "id": "9204d107",
   "metadata": {},
   "outputs": [],
   "source": [
    "# get cell counts by 'categories'\n",
    "categories = ['Brain_region', 'new_anno']\n",
    "for this_cat in categories:\n",
    "    print(adata.obs[this_cat].value_counts())"
   ]
  },
  {
   "cell_type": "markdown",
   "id": "7155631a",
   "metadata": {},
   "source": [
    "#### get sample counts per age group by  counts by 'categories'"
   ]
  },
  {
   "cell_type": "code",
   "execution_count": null,
   "id": "c977f861",
   "metadata": {},
   "outputs": [],
   "source": [
    "for this_cat in categories:\n",
    "    print(adata.obs.groupby([this_cat,'Age_group'])['Sample_id'].nunique())"
   ]
  },
  {
   "cell_type": "code",
   "execution_count": null,
   "id": "687e59b8",
   "metadata": {},
   "outputs": [],
   "source": [
    "# sc.pl.umap(adata, color=[celltype_obs_feature], legend_loc='on data')\n",
    "with rc_context({'figure.figsize': (12, 12)}):\n",
    "    sc.pl.umap(adata, color=[celltype_obs_feature], legend_loc='on data', \n",
    "               add_outline=True, legend_fontsize=10)"
   ]
  },
  {
   "cell_type": "markdown",
   "id": "f3b608ca",
   "metadata": {},
   "source": [
    "##### find cell-types we won't use in analysis\n",
    "remove them, and then refilter genes based on cell count"
   ]
  },
  {
   "cell_type": "code",
   "execution_count": null,
   "id": "d30de512",
   "metadata": {},
   "outputs": [],
   "source": [
    "found_uncertain = [x for x in adata.obs[celltype_obs_feature].unique().to_list() \n",
    "                   if 'uncertain' in x] + ['Astrocyte-GFAP-Hi']\n",
    "print(found_uncertain)\n",
    "adata = adata[~adata.obs[celltype_obs_feature].isin(found_uncertain ), :]\n",
    "sc.pp.filter_genes(adata, min_cells=min_cell_count)\n",
    "adata"
   ]
  },
  {
   "cell_type": "markdown",
   "id": "2cf42aef",
   "metadata": {},
   "source": [
    "### if testing notebooks for debugging purpose subset the features"
   ]
  },
  {
   "cell_type": "code",
   "execution_count": null,
   "id": "227c7873",
   "metadata": {},
   "outputs": [],
   "source": [
    "if testing:\n",
    "    genes = random.sample(list(adata.var.index.values), testing_sample_size)\n",
    "    adata = adata[:,genes]"
   ]
  },
  {
   "cell_type": "markdown",
   "id": "7c8cf910",
   "metadata": {},
   "source": [
    "#### for this brain region or cell-type compute the differential expression info"
   ]
  },
  {
   "cell_type": "code",
   "execution_count": null,
   "id": "2a099ca3",
   "metadata": {},
   "outputs": [],
   "source": [
    "%%time\n",
    "results_df = diffexp_group(adata, tissue, tissue_type, verbose=True)\n",
    "print(results_df.shape)\n",
    "display(results_df.head())\n",
    "print(results_df['tissue'].value_counts())"
   ]
  },
  {
   "cell_type": "markdown",
   "id": "1e4774b3",
   "metadata": {},
   "source": [
    "#### save the results"
   ]
  },
  {
   "cell_type": "code",
   "execution_count": null,
   "id": "6790b144",
   "metadata": {},
   "outputs": [],
   "source": [
    "results_df.to_csv(results_file, index=False)"
   ]
  },
  {
   "cell_type": "code",
   "execution_count": null,
   "id": "4ade5b9e",
   "metadata": {},
   "outputs": [],
   "source": [
    "!date"
   ]
  }
 ],
 "metadata": {
  "kernelspec": {
   "display_name": "Python 3 (ipykernel)",
   "language": "python",
   "name": "python3"
  },
  "language_info": {
   "codemirror_mode": {
    "name": "ipython",
    "version": 3
   },
   "file_extension": ".py",
   "mimetype": "text/x-python",
   "name": "python",
   "nbconvert_exporter": "python",
   "pygments_lexer": "ipython3",
   "version": "3.8.11"
  }
 },
 "nbformat": 4,
 "nbformat_minor": 5
}
