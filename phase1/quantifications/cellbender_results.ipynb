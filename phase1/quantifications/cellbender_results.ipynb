{
 "cells": [
  {
   "cell_type": "markdown",
   "id": "480caee8-be67-4533-a7d7-660179b8f78f",
   "metadata": {},
   "source": [
    "## Notebook to inspect the output from a couple of Cellbender runs a sample of pools\n",
    "\n",
    "- see how many of the predicted empty cells (ambient RNA) actually passed Cellranger filtering and are uncertain in cell-type assignment\n",
    "\n",
    "- Cellbender was run on cloud using google life sciences batch submission with Cellbender WDL"
   ]
  },
  {
   "cell_type": "code",
   "execution_count": null,
   "id": "7c78ecae-3f22-4ae7-bc55-8a1551f83964",
   "metadata": {},
   "outputs": [],
   "source": [
    "!date"
   ]
  },
  {
   "cell_type": "markdown",
   "id": "85eb0bed-3426-4b4c-ba97-ccede8b9acc4",
   "metadata": {},
   "source": [
    "#### import libraries"
   ]
  },
  {
   "cell_type": "code",
   "execution_count": null,
   "id": "75bc461a-20ad-4878-b252-09c8c673ebc5",
   "metadata": {},
   "outputs": [],
   "source": [
    "from scanpy import read_h5ad\n",
    "from pandas import read_csv\n",
    "from os.path import exists\n",
    "from pandas import DataFrame, concat\n",
    "from seaborn import barplot\n",
    "import matplotlib.pyplot as plt\n",
    "from matplotlib.pyplot import rc_context"
   ]
  },
  {
   "cell_type": "markdown",
   "id": "a47ab878-7cf4-4bf3-b83d-4c3390f8aed0",
   "metadata": {},
   "source": [
    "#### set notebook variables"
   ]
  },
  {
   "cell_type": "code",
   "execution_count": null,
   "id": "c10df661-47cc-43b7-86a0-9eb8ed0bade3",
   "metadata": {},
   "outputs": [],
   "source": [
    "# naming\n",
    "cohort = 'aging'\n",
    "\n",
    "# directories for initial setup\n",
    "wrk_dir = '/labshare/raph/datasets/adrd_neuro/brain_aging/phase1'\n",
    "quants_dir = f'{wrk_dir}/demux'\n",
    "cellbend_dir = f'{wrk_dir}/cellbender'\n",
    "info_dir = f'{wrk_dir}/sample_info'\n",
    "\n",
    "# in files\n",
    "anndata_file = f'{quants_dir}/{cohort}.pegasus.leiden_085.subclustered.h5ad'\n",
    "info_file = f'{info_dir}/{cohort}.pool_patient_sample_info.csv'\n",
    "\n",
    "# out files\n",
    "\n",
    "# constants\n",
    "DEBUG = True\n",
    "lane_range = range(1, 9)"
   ]
  },
  {
   "cell_type": "markdown",
   "id": "ef45657e-8e4e-44e5-a077-5357e093a9bb",
   "metadata": {},
   "source": [
    "### load data"
   ]
  },
  {
   "cell_type": "markdown",
   "id": "542a72e7-dee2-4391-9afa-588d456900f2",
   "metadata": {},
   "source": [
    "### load the sample info data"
   ]
  },
  {
   "cell_type": "code",
   "execution_count": null,
   "id": "d75c5c57-a3eb-4464-8e4d-fc45076e19a4",
   "metadata": {
    "tags": []
   },
   "outputs": [],
   "source": [
    "info_df = read_csv(info_file)\n",
    "print(f'shape of info {info_df.shape}')\n",
    "if DEBUG:\n",
    "    display(info_df.head())\n",
    "    display(info_df.pool_name.value_counts())"
   ]
  },
  {
   "cell_type": "markdown",
   "id": "14451d69-4659-492a-9525-7613a72f4724",
   "metadata": {},
   "source": [
    "##### setup the pool names for file finding"
   ]
  },
  {
   "cell_type": "code",
   "execution_count": null,
   "id": "4e10b4d1-6732-47e1-aece-b09744bbdac8",
   "metadata": {},
   "outputs": [],
   "source": [
    "pool_names = []\n",
    "for pool in info_df.pool_name.unique():\n",
    "    for lane in lane_range:\n",
    "        pool_name = f'Aging_{pool}_SCRN_{lane}'\n",
    "        pool_names.append(pool_name)\n",
    "print(f'{len(pool_names)} named pools expected')\n",
    "if DEBUG:\n",
    "    print(pool_names)"
   ]
  },
  {
   "cell_type": "markdown",
   "id": "b3c400a0-5fe1-45f6-8b6e-a8ecf0ea3c9e",
   "metadata": {},
   "source": [
    "#### load Cellbender results"
   ]
  },
  {
   "cell_type": "code",
   "execution_count": null,
   "id": "159a9eea-3962-4a10-a57c-ee44c12096c2",
   "metadata": {},
   "outputs": [],
   "source": [
    "cellbender_barcodes = {}\n",
    "for pool in pool_names:\n",
    "    this_file = f'{cellbend_dir}/{pool}_out_cell_barcodes.csv'\n",
    "    if exists(this_file):\n",
    "        cb_barcodes = read_csv(this_file, header=None)\n",
    "        print(pool, cb_barcodes.shape[0])\n",
    "        cellbender_barcodes[pool] = cb_barcodes"
   ]
  },
  {
   "cell_type": "markdown",
   "id": "d9fda467-5f8d-4367-b4ca-2b2fb67be987",
   "metadata": {},
   "source": [
    "#### load the demx results to get 10X and demux filtered results\n",
    "here can just go ahead and load demux best files since demux is run based on the 10X filtered barcodes"
   ]
  },
  {
   "cell_type": "code",
   "execution_count": null,
   "id": "97b0b756-9302-43e9-9249-ac1bd25a14e6",
   "metadata": {},
   "outputs": [],
   "source": [
    "demux_barcodes = {}\n",
    "for pool in cellbender_barcodes:\n",
    "    this_file = f'{quants_dir}/{pool}.best'\n",
    "    these_barcodes = read_csv(this_file, sep='\\t')\n",
    "    print(pool, these_barcodes.shape)\n",
    "    demux_barcodes[pool] = these_barcodes    "
   ]
  },
  {
   "cell_type": "markdown",
   "id": "ce4ff715-2533-45c7-a83e-4a5dd6a370a1",
   "metadata": {},
   "source": [
    "### determine number of possible empty cells not filtered by 10X\n",
    "and those that didn't drop out during genotype demultiplexing"
   ]
  },
  {
   "cell_type": "code",
   "execution_count": null,
   "id": "0218c457-ce33-40f0-8b03-b5ffa2c917d1",
   "metadata": {},
   "outputs": [],
   "source": [
    "tenx_empties = {}\n",
    "tenx_fracs = {}\n",
    "demux_empties = {}\n",
    "demux_fracs = {}\n",
    "for pool in cellbender_barcodes:\n",
    "    print(pool)\n",
    "    cb_cells = set(cellbender_barcodes.get(pool)[0].values)\n",
    "    demux_data = demux_barcodes.get(pool)\n",
    "    demux_assigned = demux_data.loc[demux_data['DROPLET.TYPE'] == 'SNG']\n",
    "    tenx_cells = set(demux_data.BARCODE.values)\n",
    "    demux_cells = set(demux_assigned.BARCODE.values)\n",
    "    tenx_empties[pool] = tenx_cells - cb_cells\n",
    "    demux_empties[pool] = demux_cells - cb_cells\n",
    "    tenx_fracs[pool] = round(len(tenx_empties[pool])/len(tenx_cells), 3)\n",
    "    demux_fracs[pool] = round(len(demux_empties[pool])/len(demux_cells), 3)\n",
    "    if DEBUG:\n",
    "        print(f'10x empties retained = {len(tenx_empties[pool])}')        \n",
    "        print(f'10x empties retained fraction = {tenx_fracs[pool]}')    \n",
    "        print(f'demuxlet empties retained = {len(demux_empties[pool])}')    \n",
    "        print(f'demuxlet empties retained fraction = {demux_fracs[pool]}')    "
   ]
  },
  {
   "cell_type": "markdown",
   "id": "92266659-ec92-476d-9360-cb442733bae3",
   "metadata": {},
   "source": [
    "### visualize the retained empties"
   ]
  },
  {
   "cell_type": "code",
   "execution_count": null,
   "id": "a0a7bcba-a17e-40a7-8811-860c8901b698",
   "metadata": {},
   "outputs": [],
   "source": [
    "with rc_context({'figure.figsize': (9, 9)}):  \n",
    "    df1 = DataFrame.from_dict(tenx_fracs, orient='index', columns=['frac'])\n",
    "    df1['type'] = '10X filtered'\n",
    "    df2 = DataFrame.from_dict(demux_fracs, orient='index', columns=['frac'])\n",
    "    df2['type'] = 'demuxlet SNG'\n",
    "    df = concat([df1, df2])\n",
    "    df['percent'] = df.frac * 100\n",
    "    barplot(x=df.index, y='percent', hue='type', data=df, palette='Purples')\n",
    "    plt.grid(axis='y')\n",
    "    plt.xticks(rotation=90)\n",
    "    plt.tight_layout()\n",
    "    plt.ylabel('percent empty')\n",
    "    plt.title('Retained ambient RNA post 10X and demuxlet filtering')\n",
    "    plt.show()"
   ]
  },
  {
   "cell_type": "markdown",
   "id": "d015fd8b-97b2-4b4b-9891-75850feddefd",
   "metadata": {},
   "source": [
    "### did the large portion of empties filtered by demuxlet go to AMB or DBL cell-types"
   ]
  },
  {
   "cell_type": "code",
   "execution_count": null,
   "id": "70b65340-d34d-4444-90c4-6f1a54922d95",
   "metadata": {},
   "outputs": [],
   "source": [
    "sng_fracs = {}\n",
    "amb_fracs = {}\n",
    "dbl_fracs = {}\n",
    "for pool in cellbender_barcodes:\n",
    "    print(pool)\n",
    "    cb_cells = set(cellbender_barcodes.get(pool)[0].values)\n",
    "    demux_data = demux_barcodes.get(pool)\n",
    "    tenx_cells = set(demux_data.BARCODE.values)\n",
    "    demux_sng = set(demux_data.loc[demux_data['DROPLET.TYPE'] == 'SNG'].BARCODE.values)\n",
    "    demux_amb = set(demux_data.loc[demux_data['DROPLET.TYPE'] == 'AMB'].BARCODE.values)\n",
    "    demux_dbl = set(demux_data.loc[demux_data['DROPLET.TYPE'] == 'DBL'].BARCODE.values)    \n",
    "    sng_fracs[pool] = round(len(demux_sng - cb_cells)/len(demux_sng), 3)\n",
    "    amb_fracs[pool] = round(len(demux_amb - cb_cells)/len(demux_amb), 3)\n",
    "    dbl_fracs[pool] = round(len(demux_dbl - cb_cells)/len(demux_dbl), 3)\n",
    "    if DEBUG:\n",
    "        print(f'singlet empties retained fraction = {sng_fracs[pool]}')    \n",
    "        print(f'ambiguous empties retained fraction = {amb_fracs[pool]}')    \n",
    "        print(f'doublet empties retained fraction = {dbl_fracs[pool]}')"
   ]
  },
  {
   "cell_type": "markdown",
   "id": "acdffcdc-62a4-4163-b5fe-da63c384bf44",
   "metadata": {},
   "source": [
    "#### visualize where they went"
   ]
  },
  {
   "cell_type": "code",
   "execution_count": null,
   "id": "85b1cf6b-874a-4bda-b482-199c4829b34c",
   "metadata": {},
   "outputs": [],
   "source": [
    "with rc_context({'figure.figsize': (9, 9)}):  \n",
    "    df1 = DataFrame.from_dict(sng_fracs, orient='index', columns=['frac'])\n",
    "    df1['type'] = 'SNG'\n",
    "    df2 = DataFrame.from_dict(amb_fracs, orient='index', columns=['frac'])\n",
    "    df2['type'] = 'AMB'\n",
    "    df3 = DataFrame.from_dict(dbl_fracs, orient='index', columns=['frac'])\n",
    "    df3['type'] = 'DBL'    \n",
    "    df = concat([df1, df2, df3])\n",
    "    df['percent'] = df.frac * 100\n",
    "    barplot(x=df.index, y='percent', hue='type', data=df, palette='Purples')\n",
    "    plt.grid(axis='y')\n",
    "    plt.xticks(rotation=90)\n",
    "    plt.tight_layout()\n",
    "    plt.ylabel('percent empty')\n",
    "    plt.title('demuxlet assignment of empty cells')\n",
    "    plt.show()"
   ]
  },
  {
   "cell_type": "markdown",
   "id": "0bbae68e-19d6-4b81-8caa-97bb1ec4ddab",
   "metadata": {},
   "source": [
    "### load the fully processed anndata file\n",
    "determine for the relatively small portion of possible empty cells retained how many are an undetermined cell-type"
   ]
  },
  {
   "cell_type": "code",
   "execution_count": null,
   "id": "dd04e2f9-8382-4af1-9095-028a5cbbd348",
   "metadata": {},
   "outputs": [],
   "source": [
    "%%time\n",
    "adata = read_h5ad(anndata_file)\n",
    "print(adata)\n",
    "if DEBUG:\n",
    "    display(adata.obs.head())"
   ]
  },
  {
   "cell_type": "markdown",
   "id": "732c0f17-e189-4af5-b280-4030cf9c7051",
   "metadata": {},
   "source": [
    "### get the uncertain cells"
   ]
  },
  {
   "cell_type": "code",
   "execution_count": null,
   "id": "bbbc2075-eb23-4715-8ba2-600496c6b2a3",
   "metadata": {},
   "outputs": [],
   "source": [
    "found_uncertain = [x for x in adata.obs['new_anno'].unique().to_list() \n",
    "                   if 'uncertain' in x]\n",
    "print(found_uncertain)\n",
    "adata_uncertain = adata[adata.obs['new_anno'].isin(found_uncertain ), :]\n",
    "print(adata_uncertain)"
   ]
  },
  {
   "cell_type": "markdown",
   "id": "554698a9-7c77-4aa4-9f0d-8ce50c5b43c9",
   "metadata": {},
   "source": [
    "#### how many of the retained Cellbender possible empties are also uncertain cell-type"
   ]
  },
  {
   "cell_type": "code",
   "execution_count": null,
   "id": "ff0fea3b-ecce-411c-bddf-30fc2c2772b6",
   "metadata": {},
   "outputs": [],
   "source": [
    "pool_fracs_uncertain = {}\n",
    "for pool in cellbender_barcodes:\n",
    "    this_percent = 0.0\n",
    "    these_empties = demux_empties[pool]\n",
    "    if these_empties:\n",
    "        temp = adata[adata.obs.index.isin(these_empties)]\n",
    "        this_percent = round(temp.obs.loc[temp.obs.new_anno.isin(found_uncertain)].shape[0]/temp.obs.shape[0], 3)\n",
    "        pool_fracs_uncertain[pool] = this_percent\n",
    "        if DEBUG:\n",
    "            display(temp.obs.new_anno.value_counts())\n",
    "    else:\n",
    "        pool_fracs_uncertain[pool] = 0.0\n",
    "    print(pool, this_percent)"
   ]
  },
  {
   "cell_type": "code",
   "execution_count": null,
   "id": "8d879942-3465-4677-949f-0e272368399a",
   "metadata": {},
   "outputs": [],
   "source": [
    "# shortened length as two entries didn't have any ambient RNA detected\n",
    "round(sum(pool_fracs_uncertain.values())/(len(pool_fracs_uncertain)-2)*100, 3)"
   ]
  },
  {
   "cell_type": "markdown",
   "id": "daa4f606-e477-49ce-bc04-572e90dde193",
   "metadata": {},
   "source": [
    "### visualize the how many of the empties were assigned to an uncertain cell-type"
   ]
  },
  {
   "cell_type": "code",
   "execution_count": null,
   "id": "6d2744c9-1bc6-424d-907c-6ca16248f36f",
   "metadata": {},
   "outputs": [],
   "source": [
    "with rc_context({'figure.figsize': (9, 9)}):  \n",
    "    df = DataFrame.from_dict(pool_fracs_uncertain, orient='index', columns=['frac'])\n",
    "    df['percent'] = df.frac * 100\n",
    "    df = df.sort_values('percent')\n",
    "    barplot(x=df.index, y='percent', data=df, palette='Purples')\n",
    "    plt.grid(axis='y')\n",
    "    plt.xticks(rotation=90)\n",
    "    plt.tight_layout()\n",
    "    plt.ylabel('percent empty')\n",
    "    plt.title('Percentage of empties that are uncertain cell-type')\n",
    "    plt.show()"
   ]
  },
  {
   "cell_type": "code",
   "execution_count": null,
   "id": "494568c3-20df-4a9b-ad74-1a4de74b5bc5",
   "metadata": {},
   "outputs": [],
   "source": [
    "pool_counts_uncertain = {}\n",
    "total_count = 0\n",
    "for pool in cellbender_barcodes:\n",
    "    this_count = 0\n",
    "    these_empties = demux_empties[pool]\n",
    "    total_count += len(these_empties)\n",
    "    if these_empties:\n",
    "        temp = adata[adata.obs.index.isin(these_empties)]\n",
    "        this_count = temp.obs.loc[temp.obs.new_anno.isin(found_uncertain)].shape[0]\n",
    "        pool_counts_uncertain[pool] = this_count\n",
    "    else:\n",
    "        pool_counts_uncertain[pool] = 0\n",
    "    print(pool, this_count)\n",
    "print(f'{total_count} cells are ambient RNA cells')"
   ]
  },
  {
   "cell_type": "code",
   "execution_count": null,
   "id": "5f5776e3-f07a-4e67-be13-7a9d10da9f8c",
   "metadata": {},
   "outputs": [],
   "source": [
    "with rc_context({'figure.figsize': (9, 9)}):  \n",
    "    df = DataFrame.from_dict(pool_counts_uncertain, orient='index', columns=['count'])\n",
    "    df = df.sort_values('count')\n",
    "    barplot(x=df.index, y='count', data=df, palette='Purples')\n",
    "    plt.grid(axis='y')\n",
    "    plt.xticks(rotation=90)\n",
    "    plt.tight_layout()\n",
    "    plt.ylabel('empty count')\n",
    "    plt.title('Numbers of empties that are uncertain cell-type')\n",
    "    plt.show()"
   ]
  },
  {
   "cell_type": "markdown",
   "id": "ca0100da-05f3-4982-895c-b18d865ecebf",
   "metadata": {},
   "source": [
    "### how many uncertain cells remain if all Cellbender empties are removed"
   ]
  },
  {
   "cell_type": "code",
   "execution_count": null,
   "id": "0258d5f9-2ade-481b-9a18-6580bd4a2c5c",
   "metadata": {},
   "outputs": [],
   "source": [
    "all_demux_empties = set()\n",
    "for pool in cellbender_barcodes:\n",
    "    all_demux_empties = all_demux_empties | demux_empties[pool]\n",
    "    \n",
    "uncertain_obs = adata.obs.loc[adata.obs.new_anno.isin(found_uncertain)]\n",
    "empty_uncerain_obs = uncertain_obs.loc[uncertain_obs.index.isin(all_demux_empties)]\n",
    "print(f'{round(empty_uncerain_obs.shape[0]/uncertain_obs.shape[0], 3)*100} % of uncertain cells are possibly empty')"
   ]
  },
  {
   "cell_type": "code",
   "execution_count": null,
   "id": "cfd83af4-f98a-4bc3-b75c-9821dfff66f6",
   "metadata": {},
   "outputs": [],
   "source": [
    "!date"
   ]
  }
 ],
 "metadata": {
  "kernelspec": {
   "display_name": "Python 3 (ipykernel)",
   "language": "python",
   "name": "python3"
  },
  "language_info": {
   "codemirror_mode": {
    "name": "ipython",
    "version": 3
   },
   "file_extension": ".py",
   "mimetype": "text/x-python",
   "name": "python",
   "nbconvert_exporter": "python",
   "pygments_lexer": "ipython3",
   "version": "3.9.13"
  }
 },
 "nbformat": 4,
 "nbformat_minor": 5
}
