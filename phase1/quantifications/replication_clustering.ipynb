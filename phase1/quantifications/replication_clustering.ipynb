{
 "cells": [
  {
   "cell_type": "markdown",
   "id": "2021945a-34af-4061-8543-74a9ee629143",
   "metadata": {},
   "source": [
    "## Notebook to cluster replication cohort with our Brain Aging Phase 1 data. Additional other public data is also included for cluster and cell-type labeling purposes\n",
    "\n",
    "Replication data: \n",
    "NABEC snRNA from Xylena Reed\n",
    "\n",
    "public data:\n",
    "1. [Leng K, Li E, Eser R et al. Molecular characterization of selectively vulnerable neurons in Alzheimer’s disease. Nat Neurosci 2021;24:276–87.](https://pubmed.ncbi.nlm.nih.gov/33432193/)\n",
    "2. [Morabito S, Miyoshi E, Michael N et al. Single-nucleus chromatin accessibility and transcriptomic characterization of Alzheimer’s disease. Nat Genet 2021, DOI: 10.1038/s41588-021-00894-z.](https://pubmed.ncbi.nlm.nih.gov/34239132/)\n",
    "\n"
   ]
  },
  {
   "cell_type": "code",
   "execution_count": 1,
   "id": "92a1195a-c134-463d-b7e7-a0a056aaabfe",
   "metadata": {},
   "outputs": [
    {
     "name": "stdout",
     "output_type": "stream",
     "text": [
      "Wed Nov  8 16:38:50 EST 2023\n"
     ]
    }
   ],
   "source": [
    "!date"
   ]
  },
  {
   "cell_type": "markdown",
   "id": "c9fb2539-169e-4f94-90d6-346efcda8f73",
   "metadata": {},
   "source": [
    "#### import libraries"
   ]
  },
  {
   "cell_type": "code",
   "execution_count": null,
   "id": "bb9abb2a-861e-459f-8a75-70e78548a012",
   "metadata": {},
   "outputs": [],
   "source": [
    "from pandas import read_csv\n",
    "from scanpy import read_h5ad\n",
    "from os.path import exists\n",
    "from anndata import concat as ad_concat\n",
    "import numpy as np\n",
    "from matplotlib.pyplot import rc_context\n",
    "import matplotlib.pyplot as plt\n",
    "\n",
    "# for white background of figures (only for docs rendering)\n",
    "%config InlineBackend.print_figure_kwargs={'facecolor' : \"w\"}\n",
    "%config InlineBackend.figure_format='retina'"
   ]
  },
  {
   "cell_type": "markdown",
   "id": "3eea9c47-6ba7-4f55-93f9-4ab112ca128a",
   "metadata": {},
   "source": [
    "#### set notebook variables"
   ]
  },
  {
   "cell_type": "code",
   "execution_count": null,
   "id": "dcea2f59-2857-4715-8050-a33a289a04d3",
   "metadata": {},
   "outputs": [],
   "source": [
    "# naming\n",
    "project = 'aging_phase1_replication'\n",
    "\n",
    "# directories\n",
    "wrk_dir = '/labshare/raph/datasets/adrd_neuro/brain_aging/phase1'\n",
    "quants_dir = f'{wrk_dir}/quants'\n",
    "replication_dir = f'{wrk_dir}/replication'\n",
    "figures_dir = f'{wrk_dir}/figures'\n",
    "public_dir = '/labshare/raph/datasets/cellxgene_collections'\n",
    "sc.settings.figdir = f'{figures_dir}/'\n",
    "\n",
    "# in files\n",
    "phase1_h5ad= f'{quants_dir}/{project}.raw.h5ad'\n",
    "multivi_anndata_file = f'{quants_dir}/{project}.multivi.cellassign.h5ad'\n",
    "\n",
    "# out files\n",
    "raw_anndata_file = f'{quants_dir}/{project}.raw.h5ad'\n",
    "\n",
    "# variables\n",
    "DEBUG = False"
   ]
  },
  {
   "cell_type": "markdown",
   "id": "d81c9e59-fcb8-48f0-84cb-b8cf3457db61",
   "metadata": {},
   "source": [
    "### load data"
   ]
  },
  {
   "cell_type": "markdown",
   "id": "f5fd566f-2097-4ad2-a7ae-059f10998740",
   "metadata": {},
   "source": [
    "#### load the replication data"
   ]
  },
  {
   "cell_type": "code",
   "execution_count": null,
   "id": "38683de0-adcb-4a38-85b3-0c4f87f8cc96",
   "metadata": {},
   "outputs": [],
   "source": [
    "nabec_samples = ['UM1540', 'UM1541', ]"
   ]
  }
 ],
 "metadata": {
  "kernelspec": {
   "display_name": "Python 3 (ipykernel)",
   "language": "python",
   "name": "python3"
  },
  "language_info": {
   "codemirror_mode": {
    "name": "ipython",
    "version": 3
   },
   "file_extension": ".py",
   "mimetype": "text/x-python",
   "name": "python",
   "nbconvert_exporter": "python",
   "pygments_lexer": "ipython3",
   "version": "3.9.13"
  }
 },
 "nbformat": 4,
 "nbformat_minor": 5
}
