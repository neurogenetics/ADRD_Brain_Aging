{
 "cells": [
  {
   "cell_type": "markdown",
   "id": "e2f71d13-c258-4e40-ade8-0469ee57740d",
   "metadata": {},
   "source": [
    "## Notebook to identify potential doublets using Scrublet\n",
    "\n",
    "- [Github repo](https://github.com/AllonKleinLab/scrublet)\n",
    "- [repo example notebook](https://github.com/AllonKleinLab/scrublet/blob/master/examples/scrublet_basics.ipynb)\n",
    "- [Cell Systems paper](https://www.sciencedirect.com/science/article/pii/S2405471218304745)"
   ]
  },
  {
   "cell_type": "code",
   "execution_count": null,
   "id": "6873eee9-ea21-42f9-9751-51b00e5e2064",
   "metadata": {},
   "outputs": [],
   "source": [
    "!date"
   ]
  },
  {
   "cell_type": "markdown",
   "id": "44076f88-b883-4691-a335-6ed1f8a85e2a",
   "metadata": {},
   "source": [
    "#### import libraries"
   ]
  },
  {
   "cell_type": "code",
   "execution_count": null,
   "id": "a2f74925-8996-4249-999c-cf83fb5b5b61",
   "metadata": {},
   "outputs": [],
   "source": [
    "import scanpy as sc\n",
    "import scrublet as scr\n",
    "from pandas import read_csv, DataFrame\n",
    "import matplotlib.pyplot as plt\n",
    "from matplotlib.pyplot import rc_context\n",
    "from seaborn import barplot\n",
    "\n",
    "%matplotlib inline\n",
    "# for white background of figures (only for docs rendering)\n",
    "%config InlineBackend.print_figure_kwargs={'facecolor' : \"w\"}\n",
    "%config InlineBackend.figure_format='retina'"
   ]
  },
  {
   "cell_type": "markdown",
   "id": "24a02ec2-15c0-433a-8062-77900320a623",
   "metadata": {},
   "source": [
    "#### set notebook variables"
   ]
  },
  {
   "cell_type": "code",
   "execution_count": null,
   "id": "ee54e296-e243-487a-8020-90a925411d0a",
   "metadata": {},
   "outputs": [],
   "source": [
    "# naming\n",
    "proj_name = 'aging'\n",
    "\n",
    "# directories\n",
    "wrk_dir = '/home/jupyter/brain_aging_phase1'\n",
    "quants_dir = f'{wrk_dir}/demux'\n",
    "\n",
    "# in files\n",
    "anndata_file = f'{quants_dir}/{proj_name}.h5ad'\n",
    "final_file = f'{quants_dir}/{proj_name}.pegasus.leiden_085.subclustered.h5ad'\n",
    "\n",
    "# out files\n",
    "scores_file = f'{quants_dir}/{proj_name}.scrublet_scores.csv'\n",
    "\n",
    "# variables\n",
    "DEBUG = True\n",
    "dpi_value = 50\n",
    "use_gene_only = False\n",
    "expected_rate = 0.08"
   ]
  },
  {
   "cell_type": "markdown",
   "id": "f0a27405-967e-4540-a3bf-23ac0811ea46",
   "metadata": {},
   "source": [
    "### load the anndata files"
   ]
  },
  {
   "cell_type": "code",
   "execution_count": null,
   "id": "425133eb-8f5b-4a36-be05-2b092dae63ac",
   "metadata": {},
   "outputs": [],
   "source": [
    "%%time\n",
    "adata = sc.read(anndata_file)\n",
    "if DEBUG:\n",
    "    print(adata)"
   ]
  },
  {
   "cell_type": "markdown",
   "id": "5cfcc729-51cf-40c5-94f6-0239b72163de",
   "metadata": {},
   "source": [
    "### Initialize Scrublet object\n",
    "The relevant parameters are:\n",
    "\n",
    "- expected_doublet_rate: the expected fraction of transcriptomes that are doublets, typically 0.05-0.1. Results are not particularly sensitive to this parameter. For this example, the expected doublet rate comes from the Chromium User Guide: https://support.10xgenomics.com/permalink/3vzDu3zQjY0o2AqkkkI4CC\n",
    "- sim_doublet_ratio: the number of doublets to simulate, relative to the number of observed transcriptomes. This should be high enough that all doublet states are well-represented by simulated doublets. Setting it too high is computationally expensive. The default value is 2, though values as low as 0.5 give very similar results for the datasets that have been tested.\n",
    "- n_neighbors: Number of neighbors used to construct the KNN classifier of observed transcriptomes and simulated doublets. The default value of round(0.5*sqrt(n_cells)) generally works well."
   ]
  },
  {
   "cell_type": "code",
   "execution_count": null,
   "id": "3168be86-d767-4364-ab8e-1398ea9740e0",
   "metadata": {},
   "outputs": [],
   "source": [
    "%%time\n",
    "scrub = scr.Scrublet(adata.X, expected_doublet_rate=expected_rate)"
   ]
  },
  {
   "cell_type": "markdown",
   "id": "8f037abf-e258-4b26-ab9b-12cf0e71d9b9",
   "metadata": {},
   "source": [
    "### Run the default pipeline, which includes:\n",
    "1. Doublet simulation\n",
    "2. Normalization, gene filtering, rescaling, PCA\n",
    "3. Doublet score calculation\n",
    "4. Doublet score threshold detection and doublet calling"
   ]
  },
  {
   "cell_type": "code",
   "execution_count": null,
   "id": "2f3cefa0-6612-455c-9dbb-814170b9236a",
   "metadata": {},
   "outputs": [],
   "source": [
    "%%time\n",
    "doublet_scores, predicted_doublets = scrub.scrub_doublets(log_transform=True)"
   ]
  },
  {
   "cell_type": "markdown",
   "id": "03701829-98a4-44ee-ac71-724613fe5f69",
   "metadata": {},
   "source": [
    "### Plot doublet score histograms for observed transcriptomes and simulated doublets\n",
    "The simulated doublet histogram is typically bimodal. The left mode corresponds to \"embedded\" doublets generated by two cells with similar gene expression. The right mode corresponds to \"neotypic\" doublets, which are generated by cells with distinct gene expression (e.g., different cell types) and are expected to introduce more artifacts in downstream analyses. Scrublet can only detect neotypic doublets.\n",
    "\n",
    "To call doublets vs. singlets, we must set a threshold doublet score, ideally at the minimum between the two modes of the simulated doublet histogram. scrub_doublets() attempts to identify this point automatically and has done a good job in this example. However, if automatic threshold detection doesn't work well, you can adjust the threshold with the call_doublets() function. For example:\n",
    "\n",
    "scrub.call_doublets(threshold=0.25)"
   ]
  },
  {
   "cell_type": "code",
   "execution_count": null,
   "id": "b2d09c67-2be5-46e9-a013-ba9c05e6c546",
   "metadata": {},
   "outputs": [],
   "source": [
    "with rc_context({'figure.figsize': (9, 9), 'figure.dpi': dpi_value}):\n",
    "    plt.style.use('seaborn-bright')\n",
    "    scrub.plot_histogram()"
   ]
  },
  {
   "cell_type": "markdown",
   "id": "f70a96de-504f-4451-b8e6-03cb1b8df9f5",
   "metadata": {},
   "source": [
    "### Get 2-D embedding to visualize the results"
   ]
  },
  {
   "cell_type": "code",
   "execution_count": null,
   "id": "dedfe342-28b3-492c-8334-e3fc3a8a9bf4",
   "metadata": {},
   "outputs": [],
   "source": [
    "print('Running UMAP...')\n",
    "scrub.set_embedding('UMAP', scr.get_umap(scrub.manifold_obs_, 10, min_dist=0.3))\n",
    "\n",
    "print('Done.')"
   ]
  },
  {
   "cell_type": "markdown",
   "id": "6928b53a-bb2c-47a3-8b13-d28be4f09698",
   "metadata": {},
   "source": [
    "### Plot doublet predictions on 2-D embedding\n",
    "Predicted doublets should co-localize in distinct states."
   ]
  },
  {
   "cell_type": "code",
   "execution_count": null,
   "id": "831dcc0b-6cb1-4e44-8a46-93f59f013a76",
   "metadata": {},
   "outputs": [],
   "source": [
    "with rc_context({'figure.figsize': (9, 9), 'figure.dpi': dpi_value}):\n",
    "    plt.style.use('seaborn-bright')\n",
    "    scrub.plot_embedding('UMAP', order_points=True)"
   ]
  },
  {
   "cell_type": "markdown",
   "id": "84487eef-9646-4a75-8c7d-a3f2914cd797",
   "metadata": {},
   "source": [
    "### add the scores the the cell observations"
   ]
  },
  {
   "cell_type": "code",
   "execution_count": null,
   "id": "85902b69-3448-4714-822d-abda56db5f65",
   "metadata": {},
   "outputs": [],
   "source": [
    "adata.obs['doublet_score'] = doublet_scores\n",
    "adata.obs['predicted_doublet'] = predicted_doublets"
   ]
  },
  {
   "cell_type": "code",
   "execution_count": null,
   "id": "8ae4ce2e-60b1-41be-9431-4bb46508ceff",
   "metadata": {},
   "outputs": [],
   "source": [
    "display(adata.obs.predicted_doublet.value_counts())"
   ]
  },
  {
   "cell_type": "markdown",
   "id": "b937f32e-2a04-4656-bd49-f529f905ae0a",
   "metadata": {},
   "source": [
    "### save the scores"
   ]
  },
  {
   "cell_type": "code",
   "execution_count": null,
   "id": "cc626a1d-0eea-4930-812b-3de29a5c4dd9",
   "metadata": {},
   "outputs": [],
   "source": [
    "adata.obs.to_csv(scores_file)"
   ]
  },
  {
   "cell_type": "code",
   "execution_count": null,
   "id": "a2c2e832-853f-4ca3-85c1-4b3722db57f5",
   "metadata": {},
   "outputs": [],
   "source": [
    "scrublet_data = read_csv(scores_file, index_col=0)\n",
    "print(scrublet_data.shape)\n",
    "display(scrublet_data.predicted_doublet.value_counts())\n",
    "doublets = scrublet_data.loc[scrublet_data.predicted_doublet]\n",
    "display(doublets.predicted_doublet.value_counts())\n",
    "print(doublets.shape)\n",
    "if DEBUG:\n",
    "    display(scrublet_data.sample(5))\n",
    "    display(doublets.sample(5))"
   ]
  },
  {
   "cell_type": "markdown",
   "id": "6e740d86-f662-4490-80a7-360b53307095",
   "metadata": {},
   "source": [
    "### see which cell-type clusters are impacted by the possible doublets"
   ]
  },
  {
   "cell_type": "markdown",
   "id": "11514867-2435-433e-8c8e-b78cb0bc49d3",
   "metadata": {},
   "source": [
    "#### load the fully processed anndata file"
   ]
  },
  {
   "cell_type": "code",
   "execution_count": null,
   "id": "f139a5ca-c90d-49cc-99c6-067886092748",
   "metadata": {},
   "outputs": [],
   "source": [
    "%%time\n",
    "adata_done = sc.read(final_file)\n",
    "\n",
    "if DEBUG:\n",
    "    print(adata_done)"
   ]
  },
  {
   "cell_type": "markdown",
   "id": "4b87d12a-a6cd-4b52-b9b3-95db1945a8a4",
   "metadata": {},
   "source": [
    "### add to scrublet predictions to the observation data"
   ]
  },
  {
   "cell_type": "code",
   "execution_count": null,
   "id": "92bf79ea-9463-4a33-a25d-6ed4cf3fef0c",
   "metadata": {},
   "outputs": [],
   "source": [
    "adata_done.obs['scrublet_doublet'] = 'no'\n",
    "adata_done.obs.loc[adata_done.obs.index.isin(doublets.index), 'scrublet_doublet'] = 'yes'\n",
    "print(adata_done.obs.shape)\n",
    "display(adata_done.obs.scrublet_doublet.value_counts())\n",
    "if DEBUG:\n",
    "    display(adata_done.obs.sample(5))"
   ]
  },
  {
   "cell_type": "markdown",
   "id": "25418007-40bd-409e-b557-d827876548ee",
   "metadata": {},
   "source": [
    "### visualize to predicted doublets in the full data UMAP"
   ]
  },
  {
   "cell_type": "code",
   "execution_count": null,
   "id": "43ba07a5-2e9a-4b62-b4a2-ce81f7c3ce96",
   "metadata": {},
   "outputs": [],
   "source": [
    "with rc_context({'figure.figsize': (9, 9), 'figure.dpi': 50}):\n",
    "    plt.style.use('seaborn-bright')\n",
    "    sc.pl.umap(adata_done, color=['scrublet_doublet'], \n",
    "               frameon=False)"
   ]
  },
  {
   "cell_type": "markdown",
   "id": "c243ce71-9477-4367-8a34-914b919b7a91",
   "metadata": {},
   "source": [
    "### take a look at what is impacted by the predicted doublets"
   ]
  },
  {
   "cell_type": "code",
   "execution_count": null,
   "id": "612224cd-860b-4371-b2ba-69fe9a4e1609",
   "metadata": {},
   "outputs": [],
   "source": [
    "adata_doubles = adata_done[adata_done.obs.scrublet_doublet == 'yes']\n",
    "print(adata_doubles)\n",
    "if DEBUG:\n",
    "    display(adata_doubles.obs.sample(5))"
   ]
  },
  {
   "cell_type": "code",
   "execution_count": null,
   "id": "30fb917c-da65-493d-b950-78013a1ae2e6",
   "metadata": {},
   "outputs": [],
   "source": [
    "with rc_context({'figure.figsize': (12, 12), 'figure.dpi': 50}):\n",
    "    plt.style.use('seaborn-bright')\n",
    "    sc.pl.umap(adata_done, color=['new_anno'], \n",
    "               frameon=False, legend_loc='on data')"
   ]
  },
  {
   "cell_type": "code",
   "execution_count": null,
   "id": "82aded5c-cd59-4d36-9836-1f2470c39f41",
   "metadata": {},
   "outputs": [],
   "source": [
    "with rc_context({'figure.figsize': (9, 9), 'figure.dpi': 50}):\n",
    "    plt.style.use('seaborn-bright')\n",
    "    sc.pl.umap(adata_doubles, color=['scrublet_doublet'], \n",
    "               frameon=False, legend_loc=None)"
   ]
  },
  {
   "cell_type": "code",
   "execution_count": null,
   "id": "bc7e6005-cfd5-45f4-b9e9-4922d788d00c",
   "metadata": {},
   "outputs": [],
   "source": [
    "with rc_context({'figure.figsize': (9, 9), 'figure.dpi': 50}):\n",
    "    plt.style.use('seaborn-bright')\n",
    "    sc.pl.umap(adata_doubles, color=['new_anno', 'broad_celltype', 'Brain_region'], \n",
    "               frameon=False, legend_loc='on data')"
   ]
  },
  {
   "cell_type": "markdown",
   "id": "107f24ae-81d0-40ad-b6d3-b57de70645db",
   "metadata": {},
   "source": [
    "### what cell-types are the predicted doublets being assigned to"
   ]
  },
  {
   "cell_type": "code",
   "execution_count": null,
   "id": "303608e8-97af-43da-989f-b3f660672538",
   "metadata": {},
   "outputs": [],
   "source": [
    "celltype_doublet_fracs = {}\n",
    "celltype_doublet_counts = adata_doubles.obs.new_anno.value_counts()\n",
    "celltype_doublet_counts = celltype_doublet_counts.to_frame()\n",
    "celltype_doublet_counts = celltype_doublet_counts.rename(columns={'new_anno':'counts'})\n",
    "celltype_doublet_counts['percent'] = round(celltype_doublet_counts.counts/celltype_doublet_counts.counts.sum()*100)\n",
    "if DEBUG:\n",
    "    display(celltype_doublet_counts)"
   ]
  },
  {
   "cell_type": "code",
   "execution_count": null,
   "id": "21467f15-88b1-4303-97f2-86ffae49d59b",
   "metadata": {},
   "outputs": [],
   "source": [
    "with rc_context({'figure.figsize': (9, 9)}):  \n",
    "    barplot(x=celltype_doublet_counts.index, y='percent', data=celltype_doublet_counts, palette='Purples')\n",
    "    plt.grid(axis='y')\n",
    "    plt.xticks(rotation=90)\n",
    "    plt.tight_layout()\n",
    "    plt.ylabel('percent scrublet doublet')\n",
    "    plt.title('Percentage of scrublet doublet assigned to cluster cell-type')\n",
    "    plt.show()"
   ]
  },
  {
   "cell_type": "markdown",
   "id": "3baacbc4-e737-4c13-944f-ae625ca12713",
   "metadata": {},
   "source": [
    "### what percentage of each cluster specific cell-type is impacted by possible doublets"
   ]
  },
  {
   "cell_type": "code",
   "execution_count": null,
   "id": "750e6612-e348-49e1-a231-b907c6f05094",
   "metadata": {},
   "outputs": [],
   "source": [
    "cluster_impact_fracs = {}\n",
    "cluster_impact_counts = adata_done.obs.groupby('new_anno').scrublet_doublet.value_counts()\n",
    "for cell_type in adata_done.obs.new_anno.unique():\n",
    "    print(cell_type)\n",
    "    print(cluster_impact_counts[cell_type]['yes'],cluster_impact_counts[cell_type]['no'])\n",
    "    cluster_impact_fracs[cell_type] = round(cluster_impact_counts[cell_type]['yes']/cluster_impact_counts[cell_type].sum(), 3)\n",
    "    print(cluster_impact_fracs[cell_type])\n",
    "if DEBUG:\n",
    "    display(cluster_impact_counts)"
   ]
  },
  {
   "cell_type": "markdown",
   "id": "3d310a87-460a-481e-ae48-2c41004c6134",
   "metadata": {},
   "source": [
    "#### which cell-types have more than 5% impact"
   ]
  },
  {
   "cell_type": "code",
   "execution_count": null,
   "id": "1c8f1985-421d-4d68-a8bf-3066037c2813",
   "metadata": {},
   "outputs": [],
   "source": [
    "for cell_type, frac in cluster_impact_fracs.items():\n",
    "    this_percent = round(frac*100, 3)\n",
    "    if this_percent >= 5:\n",
    "        print(cell_type, this_percent)"
   ]
  },
  {
   "cell_type": "code",
   "execution_count": null,
   "id": "5138a8fa-dfbe-4c5b-b4ec-ebf5d8d1df80",
   "metadata": {},
   "outputs": [],
   "source": [
    "with rc_context({'figure.figsize': (9, 9)}):  \n",
    "    df = DataFrame.from_dict(cluster_impact_fracs, orient='index', columns=['frac'])\n",
    "    df['percent'] = df.frac * 100\n",
    "    df = df.sort_values('percent')\n",
    "    barplot(x=df.index, y='percent', data=df, palette='Purples')\n",
    "    plt.grid(axis='y')\n",
    "    plt.xticks(rotation=90)\n",
    "    plt.tight_layout()\n",
    "    plt.ylabel('percent scrublet doublet')\n",
    "    plt.title('Percentage of cluster cell-types that are scrublet doublet')\n",
    "    plt.show()"
   ]
  },
  {
   "cell_type": "code",
   "execution_count": null,
   "id": "526adc00-12c1-4f60-919f-c873bd6214e9",
   "metadata": {},
   "outputs": [],
   "source": [
    "!date"
   ]
  }
 ],
 "metadata": {
  "environment": {
   "kernel": "python3",
   "name": "pytorch-gpu.1-13.m107",
   "type": "gcloud",
   "uri": "gcr.io/deeplearning-platform-release/pytorch-gpu.1-13:m107"
  },
  "kernelspec": {
   "display_name": "Python 3",
   "language": "python",
   "name": "python3"
  },
  "language_info": {
   "codemirror_mode": {
    "name": "ipython",
    "version": 3
   },
   "file_extension": ".py",
   "mimetype": "text/x-python",
   "name": "python",
   "nbconvert_exporter": "python",
   "pygments_lexer": "ipython3",
   "version": "3.7.12"
  }
 },
 "nbformat": 4,
 "nbformat_minor": 5
}
