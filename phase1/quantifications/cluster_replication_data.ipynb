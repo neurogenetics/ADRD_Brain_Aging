{
 "cells": [
  {
   "cell_type": "markdown",
   "id": "8d0294be-443d-4896-837f-5f023bcaf213",
   "metadata": {},
   "source": [
    "## Notebook to cluster and transfer cell-type labels for the replication data along with the discovery data and other public human brain data"
   ]
  },
  {
   "cell_type": "code",
   "execution_count": null,
   "id": "89dc195d-047e-4ff7-a872-a0e5d2d4fd99",
   "metadata": {},
   "outputs": [],
   "source": [
    "!date"
   ]
  },
  {
   "cell_type": "markdown",
   "id": "1c88be14-8030-47d5-9394-9580a9996f07",
   "metadata": {},
   "source": [
    "#### import libraries"
   ]
  },
  {
   "cell_type": "code",
   "execution_count": null,
   "id": "30b5339c-78dd-48af-aa52-9fdcf1b56e8f",
   "metadata": {},
   "outputs": [],
   "source": [
    "from pandas import read_csv, DataFrame\n",
    "import scanpy as sc\n",
    "import scvi\n",
    "import torch\n",
    "from matplotlib.pyplot import rc_context\n",
    "import matplotlib.pyplot as plt\n",
    "from seaborn import barplot\n",
    "\n",
    "import random\n",
    "random.seed(42)\n",
    "\n",
    "import warnings\n",
    "warnings.filterwarnings('ignore')\n",
    "\n",
    "scvi.settings.seed = 42\n",
    "torch.set_float32_matmul_precision('high')\n",
    "print(f'Last run with scvi-tools version: {scvi.__version__}')\n",
    "\n",
    "# for white background of figures (only for docs rendering)\n",
    "%config InlineBackend.print_figure_kwargs={'facecolor' : 'w'}\n",
    "%config InlineBackend.figure_format='retina'"
   ]
  },
  {
   "cell_type": "markdown",
   "id": "f0903a04-025c-43e3-bbab-a3440667739d",
   "metadata": {},
   "source": [
    "#### set notebook variable"
   ]
  },
  {
   "cell_type": "code",
   "execution_count": null,
   "id": "d52938c8-68b4-4a0f-a9de-bbbdfced2b0e",
   "metadata": {},
   "outputs": [],
   "source": [
    "# naming\n",
    "project = 'aging_phase1'\n",
    "set_name = f'{project}_replication'\n",
    "\n",
    "# directories\n",
    "wrk_dir = '/labshare/raph/datasets/adrd_neuro/brain_aging/phase1'\n",
    "replication_dir = f'{wrk_dir}/replication'\n",
    "figures_dir = f'{wrk_dir}/figures'\n",
    "sc.settings.figdir = f'{figures_dir}/'\n",
    "\n",
    "# in files\n",
    "raw_anndata_file = f'{replication_dir}/{set_name}.raw.h5ad'\n",
    "\n",
    "# out files\n",
    "trained_model_path = f'{replication_dir}/{set_name}_trained_scvi'\n",
    "out_anndata_file = f'{replication_dir}/{set_name}.scvi.h5ad'\n",
    "\n",
    "# variables\n",
    "DEBUG = True\n",
    "HVF_PERCENT = 0.15\n",
    "MAX_MITO_PERCENT = 10\n",
    "SCVI_LATENT_KEY = 'X_scVI'\n",
    "SCVI_CLUSTERS_KEY = 'leiden_scVI'"
   ]
  },
  {
   "cell_type": "markdown",
   "id": "49ff1744-feb9-4e6f-adaf-691b8859d945",
   "metadata": {},
   "source": [
    "### load data"
   ]
  },
  {
   "cell_type": "code",
   "execution_count": null,
   "id": "66f84474-66dd-4673-8848-e9d531c06c36",
   "metadata": {},
   "outputs": [],
   "source": [
    "adata = sc.read(raw_anndata_file)\n",
    "print(adata)\n",
    "if DEBUG:\n",
    "    display(adata.obs.sample(5))\n",
    "    display(adata.var.sample(5))    "
   ]
  },
  {
   "cell_type": "markdown",
   "id": "43b357fc-4b8b-429e-b136-f2bcc8076d39",
   "metadata": {},
   "source": [
    "### simple filters and prep for SCVI"
   ]
  },
  {
   "cell_type": "code",
   "execution_count": null,
   "id": "fd1874f9-8302-4879-b1e6-e2e890c70892",
   "metadata": {},
   "outputs": [],
   "source": [
    "%%time\n",
    "# annotate the group of mitochondrial genes as 'mt'\n",
    "adata.var['mt'] = adata.var_names.str.startswith('MT-')  \n",
    "# With pp.calculate_qc_metrics, we can compute many metrics very efficiently.\n",
    "sc.pp.calculate_qc_metrics(adata, qc_vars=['mt'], percent_top=None, \n",
    "                           log1p=False, inplace=True)\n",
    "adata = adata[adata.obs.pct_counts_mt < MAX_MITO_PERCENT, :]\n",
    "sc.pp.filter_genes(adata, min_counts=3)\n",
    "adata.layers['counts'] = adata.X.copy()  # preserve counts\n",
    "sc.pp.normalize_total(adata, target_sum=1e4)\n",
    "sc.pp.log1p(adata)\n",
    "adata.raw = adata  # freeze the state in `.raw`\n",
    "top_gene_count = adata.var.shape[0] * HVF_PERCENT\n",
    "sc.pp.highly_variable_genes(adata, n_top_genes=top_gene_count, subset=True, \n",
    "                            layer='counts', flavor='seurat_v3', batch_key='Study')"
   ]
  },
  {
   "cell_type": "code",
   "execution_count": null,
   "id": "fe4cccc1-2687-46d7-937e-c12294a36b56",
   "metadata": {},
   "outputs": [],
   "source": [
    "print(adata)\n",
    "if DEBUG:\n",
    "    display(adata.obs.sample(5))\n",
    "    display(adata.var.sample(5))    "
   ]
  },
  {
   "cell_type": "markdown",
   "id": "068292a7-e2ef-4d65-8684-f913ea31ea22",
   "metadata": {},
   "source": [
    "### setup the SCVI model"
   ]
  },
  {
   "cell_type": "code",
   "execution_count": null,
   "id": "c176d522-12e9-4896-8d4f-b6f56ef8dba2",
   "metadata": {},
   "outputs": [],
   "source": [
    "scvi.model.SCVI.setup_anndata(adata, layer='counts',\n",
    "    categorical_covariate_keys=['Sample_ID', 'Sex', 'Study', 'Batch'],\n",
    "    continuous_covariate_keys=['pct_counts_mt'])"
   ]
  },
  {
   "cell_type": "markdown",
   "id": "60bb95b7-10c9-4ef2-9086-fe1f7504e071",
   "metadata": {},
   "source": [
    "### create and train the model"
   ]
  },
  {
   "cell_type": "code",
   "execution_count": null,
   "id": "735dfd3f-e78f-4ebf-94a1-1bc1a0b67f3b",
   "metadata": {},
   "outputs": [],
   "source": [
    "model = scvi.model.SCVI(adata)"
   ]
  },
  {
   "cell_type": "code",
   "execution_count": null,
   "id": "cce296d8-c05f-4528-9853-8c7101352852",
   "metadata": {},
   "outputs": [],
   "source": [
    "model"
   ]
  },
  {
   "cell_type": "code",
   "execution_count": null,
   "id": "e63e8fe1-801c-407b-b12f-61213a376e11",
   "metadata": {},
   "outputs": [],
   "source": [
    "model.train()"
   ]
  },
  {
   "cell_type": "markdown",
   "id": "c6b2986d-fd0c-427e-beac-c28da68c7171",
   "metadata": {},
   "source": [
    "### save the model and reload it"
   ]
  },
  {
   "cell_type": "code",
   "execution_count": null,
   "id": "d5097326-6769-4a7c-9d48-42c0621fafc8",
   "metadata": {},
   "outputs": [],
   "source": [
    "model.save(trained_model_path, overwrite=True)"
   ]
  },
  {
   "cell_type": "code",
   "execution_count": null,
   "id": "c9fdb21e-f3cb-4624-80ae-8f4185185699",
   "metadata": {},
   "outputs": [],
   "source": [
    "model = scvi.model.SCVI.load(trained_model_path, adata=adata, use_gpu=True)"
   ]
  },
  {
   "cell_type": "markdown",
   "id": "1537e746-db2f-4970-ba7f-dbe741a2fe24",
   "metadata": {},
   "source": [
    "### Extracting and visualizing the latent space\n",
    "We can now use the get_latent_representation to get the latent space from the trained model, and visualize it using scanpy functions:"
   ]
  },
  {
   "cell_type": "code",
   "execution_count": null,
   "id": "df9f8f52-0e10-4692-a526-ccaa2462e60f",
   "metadata": {},
   "outputs": [],
   "source": [
    "adata.obsm[SCVI_LATENT_KEY] = model.get_latent_representation()"
   ]
  },
  {
   "cell_type": "markdown",
   "id": "cf5af6ad-1572-418f-b53c-a868dade89f2",
   "metadata": {},
   "source": [
    "#### embed the graph based on latent representation"
   ]
  },
  {
   "cell_type": "code",
   "execution_count": null,
   "id": "24061145-6825-4f6e-8051-f470e673c9cd",
   "metadata": {},
   "outputs": [],
   "source": [
    "%%time\n",
    "sc.pp.neighbors(adata, use_rep=SCVI_LATENT_KEY)\n",
    "sc.tl.umap(adata)"
   ]
  },
  {
   "cell_type": "markdown",
   "id": "184e17a9-c876-4d76-8145-79cb5ab1c099",
   "metadata": {},
   "source": [
    "#### visualize the latent representation"
   ]
  },
  {
   "cell_type": "code",
   "execution_count": null,
   "id": "298f1633-dad6-4e1c-92e0-840268652c64",
   "metadata": {},
   "outputs": [],
   "source": [
    "figure_file = f'{project}.umap.study.png'\n",
    "with rc_context({'figure.figsize': (8, 8), 'figure.dpi': 100}):\n",
    "    plt.style.use('seaborn-bright')\n",
    "    sc.pl.umap(adata_mvi, color=['Study'], save=figure_file)"
   ]
  },
  {
   "cell_type": "code",
   "execution_count": null,
   "id": "ad9192c8-2a7e-4d63-a33f-18d7d925e466",
   "metadata": {},
   "outputs": [],
   "source": [
    "figure_file = f'{project}.umap.region.png'\n",
    "with rc_context({'figure.figsize': (8, 8), 'figure.dpi': 100}):\n",
    "    plt.style.use('seaborn-bright')\n",
    "    sc.pl.umap(adata_mvi, color=['Brain_region'], save=figure_file)"
   ]
  },
  {
   "cell_type": "code",
   "execution_count": null,
   "id": "c4666e08-0887-4bcc-b48c-2e9825d6abcb",
   "metadata": {},
   "outputs": [],
   "source": [
    "figure_file = f'{project}.umap.celltype.png'\n",
    "with rc_context({'figure.figsize': (8, 8), 'figure.dpi': 100}):\n",
    "    plt.style.use('seaborn-bright')\n",
    "    sc.pl.umap(adata_mvi, color=['Cell_type'], save=figure_file)"
   ]
  }
 ],
 "metadata": {
  "environment": {
   "kernel": "python3",
   "name": "pytorch-gpu.1-13.m107",
   "type": "gcloud",
   "uri": "gcr.io/deeplearning-platform-release/pytorch-gpu.1-13:m107"
  },
  "kernelspec": {
   "display_name": "Python 3 (ipykernel)",
   "language": "python",
   "name": "python3"
  },
  "language_info": {
   "codemirror_mode": {
    "name": "ipython",
    "version": 3
   },
   "file_extension": ".py",
   "mimetype": "text/x-python",
   "name": "python",
   "nbconvert_exporter": "python",
   "pygments_lexer": "ipython3",
   "version": "3.9.13"
  }
 },
 "nbformat": 4,
 "nbformat_minor": 5
}
