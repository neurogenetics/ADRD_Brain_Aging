{
 "cells": [
  {
   "cell_type": "markdown",
   "id": "8d0294be-443d-4896-837f-5f023bcaf213",
   "metadata": {},
   "source": [
    "## Notebook to cluster and transfer cell-type labels for the replication data along with the discovery data and other public human brain data"
   ]
  },
  {
   "cell_type": "code",
   "execution_count": null,
   "id": "89dc195d-047e-4ff7-a872-a0e5d2d4fd99",
   "metadata": {},
   "outputs": [],
   "source": [
    "!date"
   ]
  },
  {
   "cell_type": "markdown",
   "id": "1c88be14-8030-47d5-9394-9580a9996f07",
   "metadata": {},
   "source": [
    "#### import libraries"
   ]
  },
  {
   "cell_type": "code",
   "execution_count": null,
   "id": "30b5339c-78dd-48af-aa52-9fdcf1b56e8f",
   "metadata": {},
   "outputs": [],
   "source": [
    "from pandas import read_csv, DataFrame\n",
    "import scanpy as sc\n",
    "from anndata import AnnData\n",
    "import scvi\n",
    "import torch\n",
    "from matplotlib.pyplot import rc_context\n",
    "import matplotlib.pyplot as plt\n",
    "from seaborn import barplot\n",
    "\n",
    "import random\n",
    "random.seed(42)\n",
    "\n",
    "import warnings\n",
    "warnings.filterwarnings('ignore')\n",
    "\n",
    "scvi.settings.seed = 42\n",
    "torch.set_float32_matmul_precision('high')\n",
    "print(f'Last run with scvi-tools version: {scvi.__version__}')\n",
    "\n",
    "# for white background of figures (only for docs rendering)\n",
    "%config InlineBackend.print_figure_kwargs={'facecolor' : 'w'}\n",
    "%config InlineBackend.figure_format='retina'"
   ]
  },
  {
   "cell_type": "markdown",
   "id": "f0903a04-025c-43e3-bbab-a3440667739d",
   "metadata": {},
   "source": [
    "#### set notebook variable"
   ]
  },
  {
   "cell_type": "code",
   "execution_count": null,
   "id": "d52938c8-68b4-4a0f-a9de-bbbdfced2b0e",
   "metadata": {},
   "outputs": [],
   "source": [
    "# naming\n",
    "project = 'aging_phase1'\n",
    "set_name = f'{project}_replication'\n",
    "\n",
    "# directories\n",
    "wrk_dir = '/labshare/raph/datasets/adrd_neuro/brain_aging/phase1'\n",
    "replication_dir = f'{wrk_dir}/replication'\n",
    "figures_dir = f'{wrk_dir}/figures'\n",
    "sc.settings.figdir = f'{figures_dir}/'\n",
    "\n",
    "# in files\n",
    "raw_anndata_file = f'{replication_dir}/{set_name}.raw.h5ad'\n",
    "\n",
    "# out files\n",
    "trained_model_path = f'{replication_dir}/{set_name}_trained_scvi'\n",
    "out_anndata_file = f'{replication_dir}/{set_name}.scvi.h5ad'\n",
    "\n",
    "# variables\n",
    "DEBUG = True\n",
    "HVF_PERCENT = 0.10\n",
    "MAX_MITO_PERCENT = 10\n",
    "SCVI_LATENT_KEY = 'X_scVI'\n",
    "SCVI_CLUSTERS_KEY = 'leiden_scVI'\n",
    "SCVI_NORMALIZED_KEY = 'scvi_normalized'\n",
    "TESTING = True"
   ]
  },
  {
   "cell_type": "markdown",
   "id": "49ff1744-feb9-4e6f-adaf-691b8859d945",
   "metadata": {},
   "source": [
    "### load data"
   ]
  },
  {
   "cell_type": "code",
   "execution_count": null,
   "id": "66f84474-66dd-4673-8848-e9d531c06c36",
   "metadata": {},
   "outputs": [],
   "source": [
    "adata = sc.read(raw_anndata_file)\n",
    "print(adata)\n",
    "if DEBUG:\n",
    "    display(adata.obs.sample(5))\n",
    "    display(adata.var.sample(5))    "
   ]
  },
  {
   "cell_type": "markdown",
   "id": "584a9d59-649f-4a03-8b1e-d6840785871e",
   "metadata": {},
   "source": [
    "#### if testing subset the cells"
   ]
  },
  {
   "cell_type": "code",
   "execution_count": null,
   "id": "c3093bce-baf9-46c2-9aa9-c585d05c7c0a",
   "metadata": {},
   "outputs": [],
   "source": [
    "def random_cells_subset(adata: AnnData, num_cells: int=10000) -> AnnData:\n",
    "    cells_subset = random.sample(list(adata.obs.index.values), num_cells)\n",
    "    adata = adata[cells_subset]\n",
    "    return adata\n",
    "\n",
    "if TESTING:\n",
    "    adata = random_cells_subset(adata)\n",
    "    if DEBUG:\n",
    "        print(adata)        \n",
    "        display(adata.obs.head())    "
   ]
  },
  {
   "cell_type": "markdown",
   "id": "43b357fc-4b8b-429e-b136-f2bcc8076d39",
   "metadata": {},
   "source": [
    "### simple filters and prep for SCVI"
   ]
  },
  {
   "cell_type": "code",
   "execution_count": null,
   "id": "fd1874f9-8302-4879-b1e6-e2e890c70892",
   "metadata": {},
   "outputs": [],
   "source": [
    "%%time\n",
    "# annotate the group of mitochondrial genes as 'mt'\n",
    "adata.var['mt'] = adata.var_names.str.startswith('MT-')  \n",
    "# With pp.calculate_qc_metrics, we can compute many metrics very efficiently.\n",
    "sc.pp.calculate_qc_metrics(adata, qc_vars=['mt'], percent_top=None, \n",
    "                           log1p=False, inplace=True)\n",
    "adata = adata[adata.obs.pct_counts_mt < MAX_MITO_PERCENT, :]\n",
    "sc.pp.filter_genes(adata, min_counts=3)\n",
    "sc.pp.filter_cells(adata, min_counts=3)\n",
    "adata.layers['counts'] = adata.X.copy()  # preserve counts\n",
    "sc.pp.normalize_total(adata, target_sum=1e4)\n",
    "sc.pp.log1p(adata)\n",
    "adata.raw = adata  # freeze the state in `.raw`\n"
   ]
  },
  {
   "cell_type": "markdown",
   "id": "c1e123b0-7930-4043-b6c9-d46ecc38605d",
   "metadata": {},
   "source": [
    "#### use high variance features"
   ]
  },
  {
   "cell_type": "code",
   "execution_count": null,
   "id": "d2fd6cfa-ac16-481f-be36-23a8245f5cc9",
   "metadata": {},
   "outputs": [],
   "source": [
    "top_gene_count = adata.var.shape[0] * HVF_PERCENT\n",
    "sc.pp.highly_variable_genes(adata, n_top_genes=top_gene_count, subset=True, \n",
    "                            layer='counts', flavor='seurat_v3', batch_key='Study')"
   ]
  },
  {
   "cell_type": "code",
   "execution_count": null,
   "id": "fe4cccc1-2687-46d7-937e-c12294a36b56",
   "metadata": {},
   "outputs": [],
   "source": [
    "print(adata)\n",
    "if DEBUG:\n",
    "    display(adata.obs.sample(5))\n",
    "    display(adata.var.sample(5))    "
   ]
  },
  {
   "cell_type": "markdown",
   "id": "068292a7-e2ef-4d65-8684-f913ea31ea22",
   "metadata": {},
   "source": [
    "### setup the SCVI model"
   ]
  },
  {
   "cell_type": "code",
   "execution_count": null,
   "id": "c176d522-12e9-4896-8d4f-b6f56ef8dba2",
   "metadata": {},
   "outputs": [],
   "source": [
    "scvi.model.SCVI.setup_anndata(adata, layer='counts', batch_key = 'Study',\n",
    "    categorical_covariate_keys=['Sample_ID', 'Sex', 'Brain_region', 'Batch'],\n",
    "    continuous_covariate_keys=['pct_counts_mt'])"
   ]
  },
  {
   "cell_type": "markdown",
   "id": "60bb95b7-10c9-4ef2-9086-fe1f7504e071",
   "metadata": {},
   "source": [
    "### create and train the model"
   ]
  },
  {
   "cell_type": "code",
   "execution_count": null,
   "id": "735dfd3f-e78f-4ebf-94a1-1bc1a0b67f3b",
   "metadata": {},
   "outputs": [],
   "source": [
    "model = scvi.model.SCVI(adata, use_layer_norm='both', use_batch_norm='none', \n",
    "                        encode_covariates=True, dropout_rate=0.2, n_layers=2)"
   ]
  },
  {
   "cell_type": "code",
   "execution_count": null,
   "id": "cce296d8-c05f-4528-9853-8c7101352852",
   "metadata": {},
   "outputs": [],
   "source": [
    "model"
   ]
  },
  {
   "cell_type": "code",
   "execution_count": null,
   "id": "27ea4f3c-b31b-44bc-bd20-fb627fcf951e",
   "metadata": {},
   "outputs": [],
   "source": [
    "model.view_anndata_setup(adata)"
   ]
  },
  {
   "cell_type": "code",
   "execution_count": null,
   "id": "e63e8fe1-801c-407b-b12f-61213a376e11",
   "metadata": {},
   "outputs": [],
   "source": [
    "%%time\n",
    "model.train()"
   ]
  },
  {
   "cell_type": "markdown",
   "id": "c6b2986d-fd0c-427e-beac-c28da68c7171",
   "metadata": {},
   "source": [
    "### save the model and reload it"
   ]
  },
  {
   "cell_type": "code",
   "execution_count": null,
   "id": "d5097326-6769-4a7c-9d48-42c0621fafc8",
   "metadata": {},
   "outputs": [],
   "source": [
    "model.save(trained_model_path, overwrite=True)"
   ]
  },
  {
   "cell_type": "code",
   "execution_count": null,
   "id": "c9fdb21e-f3cb-4624-80ae-8f4185185699",
   "metadata": {},
   "outputs": [],
   "source": [
    "model = scvi.model.SCVI.load(trained_model_path, adata=adata, use_gpu=True)"
   ]
  },
  {
   "cell_type": "markdown",
   "id": "1537e746-db2f-4970-ba7f-dbe741a2fe24",
   "metadata": {},
   "source": [
    "### Extracting and visualizing the latent space\n",
    "We can now use the get_latent_representation to get the latent space from the trained model, and visualize it using scanpy functions:"
   ]
  },
  {
   "cell_type": "code",
   "execution_count": null,
   "id": "df9f8f52-0e10-4692-a526-ccaa2462e60f",
   "metadata": {},
   "outputs": [],
   "source": [
    "adata.obsm[SCVI_LATENT_KEY] = model.get_latent_representation()"
   ]
  },
  {
   "cell_type": "markdown",
   "id": "57be3ea2-3f11-4346-aaab-410f850c85b5",
   "metadata": {},
   "source": [
    "### add quantification layer for scVI normalized"
   ]
  },
  {
   "cell_type": "code",
   "execution_count": null,
   "id": "29638531-758f-4d4a-99de-4d80df6183f9",
   "metadata": {},
   "outputs": [],
   "source": [
    "adata.layers[SCVI_NORMALIZED_KEY] = model.get_normalized_expression()"
   ]
  },
  {
   "cell_type": "code",
   "execution_count": null,
   "id": "4dafefc8-e132-4983-b1d5-50a49e97f851",
   "metadata": {},
   "outputs": [],
   "source": [
    "print(adata_ref)"
   ]
  },
  {
   "cell_type": "markdown",
   "id": "cf5af6ad-1572-418f-b53c-a868dade89f2",
   "metadata": {},
   "source": [
    "#### embed the graph based on latent representation"
   ]
  },
  {
   "cell_type": "code",
   "execution_count": null,
   "id": "24061145-6825-4f6e-8051-f470e673c9cd",
   "metadata": {},
   "outputs": [],
   "source": [
    "%%time\n",
    "sc.pp.neighbors(adata, use_rep=SCVI_LATENT_KEY)\n",
    "sc.tl.umap(adata, min_dist=0.3)"
   ]
  },
  {
   "cell_type": "markdown",
   "id": "184e17a9-c876-4d76-8145-79cb5ab1c099",
   "metadata": {},
   "source": [
    "#### visualize the latent representation"
   ]
  },
  {
   "cell_type": "code",
   "execution_count": null,
   "id": "298f1633-dad6-4e1c-92e0-840268652c64",
   "metadata": {},
   "outputs": [],
   "source": [
    "figure_file = f'_{project}.umap.study.png'\n",
    "with rc_context({'figure.figsize': (8, 8), 'figure.dpi': 100}):\n",
    "    plt.style.use('seaborn-bright')\n",
    "    sc.pl.umap(adata, color=['Study'], save=figure_file)"
   ]
  },
  {
   "cell_type": "code",
   "execution_count": null,
   "id": "ad9192c8-2a7e-4d63-a33f-18d7d925e466",
   "metadata": {},
   "outputs": [],
   "source": [
    "figure_file = f'_{project}.umap.region.png'\n",
    "with rc_context({'figure.figsize': (8, 8), 'figure.dpi': 100}):\n",
    "    plt.style.use('seaborn-bright')\n",
    "    sc.pl.umap(adata, color=['Brain_region'], save=figure_file)"
   ]
  },
  {
   "cell_type": "code",
   "execution_count": null,
   "id": "c4666e08-0887-4bcc-b48c-2e9825d6abcb",
   "metadata": {},
   "outputs": [],
   "source": [
    "figure_file = f'_{project}.umap.celltype_off.png'\n",
    "with rc_context({'figure.figsize': (8, 8), 'figure.dpi': 100}):\n",
    "    plt.style.use('seaborn-bright')\n",
    "    sc.pl.umap(adata, color=['Cell_type'], save=figure_file)"
   ]
  },
  {
   "cell_type": "code",
   "execution_count": null,
   "id": "2ae1a805-ea3e-4b4e-a2bf-e763a0ba9847",
   "metadata": {},
   "outputs": [],
   "source": [
    "figure_file = f'_{project}.umap.celltype_on.png'\n",
    "with rc_context({'figure.figsize': (8, 8), 'figure.dpi': 100}):\n",
    "    plt.style.use('seaborn-bright')\n",
    "    sc.pl.umap(adata, color=['Cell_type'], legend_loc='on data', save=figure_file)"
   ]
  },
  {
   "cell_type": "code",
   "execution_count": null,
   "id": "43ddf582-9fba-4925-b50e-f62d661796e9",
   "metadata": {},
   "outputs": [],
   "source": [
    "figure_file = f'_{project}.umap.prev_cluster_on.png'\n",
    "with rc_context({'figure.figsize': (12, 12), 'figure.dpi': 100}):\n",
    "    plt.style.use('seaborn-bright')\n",
    "    sc.pl.umap(adata, color=['Cluster'], legend_loc='on data', save=figure_file)"
   ]
  },
  {
   "cell_type": "markdown",
   "id": "09d01e11-6124-4edc-ae05-be80b4c7da0f",
   "metadata": {},
   "source": [
    "### Clustering on the scVI latent space"
   ]
  },
  {
   "cell_type": "code",
   "execution_count": null,
   "id": "b14a0a0d-43dc-4434-b161-1d3ed5555c82",
   "metadata": {},
   "outputs": [],
   "source": [
    "%%time\n",
    "# neighbors were already computed using scVI\n",
    "leiden_res = 0.6\n",
    "sc.tl.leiden(adata, key_added=SCVI_CLUSTERS_KEY, resolution=leiden_res)"
   ]
  },
  {
   "cell_type": "code",
   "execution_count": null,
   "id": "9eec8d84-2edf-4cef-ad69-c29180b3a683",
   "metadata": {},
   "outputs": [],
   "source": [
    "figure_file = f'_{project}.umap.leiden_on.png'\n",
    "with rc_context({'figure.figsize': (12, 12), 'figure.dpi': 100}):\n",
    "    plt.style.use('seaborn-bright')\n",
    "    sc.pl.umap(adata, color=[SCVI_CLUSTERS_KEY], \n",
    "               frameon=False, legend_loc='on data', save=figure_file)"
   ]
  },
  {
   "cell_type": "code",
   "execution_count": null,
   "id": "4363d427-00db-403f-ab37-bee3112745cd",
   "metadata": {},
   "outputs": [],
   "source": [
    "figure_file = f'_{project}.umap.leiden_off.png'\n",
    "with rc_context({'figure.figsize': (8, 8), 'figure.dpi': 100}):\n",
    "    plt.style.use('seaborn-talk')\n",
    "    sc.pl.umap(adata, color=[SCVI_CLUSTERS_KEY], \n",
    "               frameon=False, save=figure_file)"
   ]
  },
  {
   "cell_type": "code",
   "execution_count": null,
   "id": "62c519ea-ee84-4a9d-8c63-f913d582ca8e",
   "metadata": {},
   "outputs": [],
   "source": [
    "figure_file = f'_{project}.umap.age.png'\n",
    "with rc_context({'figure.figsize': (8, 8), 'figure.dpi': 100}):\n",
    "    plt.style.use('seaborn-talk')\n",
    "    sc.pl.umap(adata, color=['Age'], \n",
    "               frameon=False, save=figure_file)"
   ]
  },
  {
   "cell_type": "markdown",
   "id": "320edc0d-ca1f-4bdb-b20f-f16817c7bf19",
   "metadata": {},
   "source": [
    "### transfer to cell types to replication data"
   ]
  },
  {
   "cell_type": "markdown",
   "id": "017eb2c6-0dc9-45bd-9847-32d1a6644ef5",
   "metadata": {},
   "source": [
    "#### split data set"
   ]
  },
  {
   "cell_type": "code",
   "execution_count": null,
   "id": "c12b4b68-96f0-49dd-9d20-677137823579",
   "metadata": {},
   "outputs": [],
   "source": [
    "adata_ref = adata[adata.obs.Study != 'Reed'].copy()\n",
    "adata_query = adata[adata.obs.Study == 'Reed'].copy()\n",
    "print('#### reference ####')\n",
    "print(adata_ref)\n",
    "print('#### query ####')\n",
    "print(adata_query)"
   ]
  },
  {
   "cell_type": "markdown",
   "id": "a523d8b9-5217-4d71-bf15-74bc6a5795cf",
   "metadata": {},
   "source": [
    "#### for the reference and disctory data what is the likely cell-type per cluster\n",
    "per leiden cluster which labeled cell-type is most frequent"
   ]
  },
  {
   "cell_type": "code",
   "execution_count": null,
   "id": "f0ac82b9-a6d0-4517-9af0-556193092baa",
   "metadata": {
    "tags": []
   },
   "outputs": [],
   "source": [
    "cluster_to_celltype = {}\n",
    "for cluster_num in adata_ref.obs[SCVI_CLUSTERS_KEY].unique():\n",
    "    temp = adata_ref.obs.loc[adata.obs[SCVI_CLUSTERS_KEY] == cluster_num]\n",
    "    cluster_to_celltype[cluster_num] = temp.Cell_type.value_counts().idxmax()\n",
    "    if DEBUG:\n",
    "        display(temp.Cell_type.value_counts())\n",
    "display(cluster_to_celltype)"
   ]
  },
  {
   "cell_type": "markdown",
   "id": "fd5550c6-ceaf-4ff8-9542-5c2e9528cff7",
   "metadata": {},
   "source": [
    "##### assign the labels"
   ]
  },
  {
   "cell_type": "code",
   "execution_count": null,
   "id": "56aac7ed-10de-4284-9e8e-ba6aed0e0183",
   "metadata": {},
   "outputs": [],
   "source": [
    "if DEBUG:\n",
    "    print(adata_query.obs.Cell_type.cat.categories)\n",
    "    display(adata_query.obs.Cell_type.value_counts())"
   ]
  },
  {
   "cell_type": "code",
   "execution_count": null,
   "id": "1fd0349e-96fd-4c6c-b306-7ffd315404dc",
   "metadata": {},
   "outputs": [],
   "source": [
    "set(cluster_to_celltype.values())"
   ]
  },
  {
   "cell_type": "code",
   "execution_count": null,
   "id": "32a4044f-dd92-446c-bb67-dd3f4649603d",
   "metadata": {},
   "outputs": [],
   "source": [
    "# add the possible categories\n",
    "adata_query.obs.Cell_type = adata_query.obs.Cell_type.cat.add_categories(set(cluster_to_celltype.values()))\n",
    "\n",
    "for cluster_num in adata_query.obs[SCVI_CLUSTERS_KEY].unique():\n",
    "    cell_type = cluster_to_celltype.get(cluster_num)\n",
    "    print(cluster_num, cell_type)\n",
    "    adata_query.obs.loc[adata_query.obs[SCVI_CLUSTERS_KEY] == cluster_num, 'Cell_type'] = cell_type\n",
    "if DEBUG:\n",
    "    display(adata_query.obs.Cell_type.value_counts())"
   ]
  },
  {
   "cell_type": "code",
   "execution_count": null,
   "id": "8e50fd27-1652-44e9-a518-c585dec0be87",
   "metadata": {},
   "outputs": [],
   "source": [
    "figure_file = f'_{project}.umap.replication_cell_types.png'\n",
    "with rc_context({'figure.figsize': (8, 8), 'figure.dpi': 100}):\n",
    "    plt.style.use('seaborn-talk')\n",
    "    sc.pl.umap(adata_query, color=['Cell_type'], \n",
    "               frameon=False, save=figure_file, title='Replication data cell types')"
   ]
  },
  {
   "cell_type": "code",
   "execution_count": null,
   "id": "17f880ef-a8c2-491b-9c12-ede13db8fb92",
   "metadata": {},
   "outputs": [],
   "source": [
    "figure_file = f'_{project}.umap.replication_leiden.png'\n",
    "with rc_context({'figure.figsize': (8, 8), 'figure.dpi': 100}):\n",
    "    plt.style.use('seaborn-talk')\n",
    "    sc.pl.umap(adata_query, color=[SCVI_CLUSTERS_KEY], legend_loc='on data',\n",
    "               frameon=False, save=figure_file)"
   ]
  },
  {
   "cell_type": "code",
   "execution_count": null,
   "id": "4580fa47-9c80-4a8d-a92a-405af541e883",
   "metadata": {},
   "outputs": [],
   "source": []
  },
  {
   "cell_type": "code",
   "execution_count": null,
   "id": "1726ed46-d07b-4d90-a488-3df9288ce7da",
   "metadata": {},
   "outputs": [],
   "source": []
  },
  {
   "cell_type": "code",
   "execution_count": null,
   "id": "c02f69f5-1f38-4878-8850-0fa0c8a0f92b",
   "metadata": {},
   "outputs": [],
   "source": []
  },
  {
   "cell_type": "code",
   "execution_count": null,
   "id": "009cad54-b211-40e0-8a4a-1b7241f05bf5",
   "metadata": {},
   "outputs": [],
   "source": []
  },
  {
   "cell_type": "code",
   "execution_count": null,
   "id": "54c4e24f-2654-423e-bc7f-bc43d7cd8734",
   "metadata": {},
   "outputs": [],
   "source": []
  },
  {
   "cell_type": "code",
   "execution_count": null,
   "id": "e42f15fe-cd51-4593-962f-0a71a28dac52",
   "metadata": {},
   "outputs": [],
   "source": []
  },
  {
   "cell_type": "markdown",
   "id": "78fc91cc-bd70-4b46-a4d8-d997a232e4a2",
   "metadata": {},
   "source": [
    "### save the modified anndata object"
   ]
  },
  {
   "cell_type": "code",
   "execution_count": null,
   "id": "0190e81a-7a73-4d69-97d8-ef0e4f66a5a5",
   "metadata": {},
   "outputs": [],
   "source": [
    "adata.write(out_anndata_file)"
   ]
  },
  {
   "cell_type": "markdown",
   "id": "5e61bacb-cdf7-4655-91a4-39618d088754",
   "metadata": {},
   "source": [
    "### Differential expression of Leiden clusters"
   ]
  },
  {
   "cell_type": "code",
   "execution_count": null,
   "id": "e53b6a3d-d80b-49e5-952a-7dadda98c4ce",
   "metadata": {},
   "outputs": [],
   "source": [
    "%%time\n",
    "# de_df = model.differential_expression(groupby=SCVI_CLUSTERS_KEY,)\n",
    "de_df = model.differential_expression(groupby='Cell_type',)\n",
    "display(de_df.head(15))"
   ]
  },
  {
   "cell_type": "markdown",
   "id": "6145dcc3-bba2-434a-bd0c-5d1b9ae93cde",
   "metadata": {},
   "source": [
    "#### We now extract top markers for each cluster using the DE results."
   ]
  },
  {
   "cell_type": "code",
   "execution_count": null,
   "id": "5b92d598-f2b9-45fb-8cf0-fd5e6225118a",
   "metadata": {},
   "outputs": [],
   "source": [
    "markers = {}\n",
    "number_of_top_markers = 5\n",
    "cats = adata_ref.obs[SCVI_CLUSTERS_KEY].cat.categories\n",
    "for i, c in enumerate(cats):\n",
    "    cid = f\"{c} vs Rest\"\n",
    "    cell_type_df = de_df.loc[de_df.comparison == cid]\n",
    "\n",
    "    cell_type_df = cell_type_df[cell_type_df.lfc_mean > 0]\n",
    "\n",
    "    cell_type_df = cell_type_df[cell_type_df[\"bayes_factor\"] > 3]\n",
    "    cell_type_df = cell_type_df[cell_type_df[\"non_zeros_proportion1\"] > 0.1]\n",
    "\n",
    "    markers[c] = cell_type_df.index.tolist()[:number_of_top_markers]"
   ]
  },
  {
   "cell_type": "code",
   "execution_count": null,
   "id": "ced69943-1ddf-48bb-836b-24e1eae7bd4e",
   "metadata": {},
   "outputs": [],
   "source": [
    "sc.tl.dendrogram(adata_ref, groupby=SCVI_CLUSTERS_KEY, use_rep=SCVI_LATENT_KEY)"
   ]
  },
  {
   "cell_type": "code",
   "execution_count": null,
   "id": "5ff9a01a-88f8-4a39-af62-2a8ebbd41acb",
   "metadata": {},
   "outputs": [],
   "source": [
    "figure_file = f'_{project}.cluster_markers.png'\n",
    "with rc_context({'figure.figsize': (12, 12), 'figure.dpi': 200}):\n",
    "    plt.style.use('seaborn-talk')\n",
    "    sc.pl.dotplot(adata_ref, markers, groupby=SCVI_CLUSTERS_KEY, dendrogram=True,\n",
    "                  color_map='Blues', swap_axes=True, use_raw=False,\n",
    "                  standard_scale='var', save=figure_file)"
   ]
  },
  {
   "cell_type": "markdown",
   "id": "9a04017a-34ac-4eb7-9f00-1471142eb37c",
   "metadata": {},
   "source": [
    "#### We can also visualize the scVI normalized gene expression values with the layer option."
   ]
  },
  {
   "cell_type": "code",
   "execution_count": null,
   "id": "09071e77-1543-459f-884f-4f50561e8709",
   "metadata": {},
   "outputs": [],
   "source": [
    "figure_file = f'_{project}.cluster_markers_heatmap.png'\n",
    "with rc_context({'figure.figsize': (15, 15), 'figure.dpi': 200, 'font.size': 6}):\n",
    "    plt.style.use('seaborn-talk')\n",
    "    sc.pl.heatmap(adata_ref, markers, groupby=SCVI_CLUSTERS_KEY, layer=SCVI_NORMALIZED_KEY, \n",
    "                  standard_scale='var', dendrogram=True, figsize=(8, 12),\n",
    "                  show_gene_labels=True, save=figure_file)"
   ]
  },
  {
   "cell_type": "markdown",
   "id": "6348f913-e960-4b11-b875-5ef9b6cc3c29",
   "metadata": {},
   "source": [
    "### compare the Leiden cluster to previously assigned cell-types"
   ]
  },
  {
   "cell_type": "code",
   "execution_count": null,
   "id": "51fcab70-e3ea-4e5f-9ca5-59573e50bf74",
   "metadata": {},
   "outputs": [],
   "source": [
    "from anndata import AnnData\n",
    "import numpy as np\n",
    "def heatmap_compare(adata: AnnData, set1: str, set2: str):\n",
    "    this_df = (\n",
    "        adata.obs.groupby([set1, set2])\n",
    "        .size()\n",
    "        .unstack(fill_value=0)\n",
    "    )\n",
    "    norm_df = this_df/this_df.sum(axis=0)\n",
    "\n",
    "    with rc_context({'figure.figsize': (12, 12), 'figure.dpi': 100}):\n",
    "        plt.style.use('seaborn-bright')\n",
    "        _ = plt.pcolor(norm_df, edgecolor='black')\n",
    "        _ = plt.xticks(np.arange(0.5, len(this_df.columns), 1), this_df.columns, rotation=90)\n",
    "        _ = plt.yticks(np.arange(0.5, len(this_df.index), 1), this_df.index)\n",
    "        plt.xlabel(set2)\n",
    "        plt.ylabel(set1)\n",
    "        figure_file = f'{figures_dir}/{project}.{set2}_leiden_heatmap.png'\n",
    "        plt.savefig(figure_file, bbox_inches='tight')        \n",
    "        plt.show()"
   ]
  },
  {
   "cell_type": "code",
   "execution_count": null,
   "id": "4350aae9-982f-4d09-8bad-2e59711d7e80",
   "metadata": {},
   "outputs": [],
   "source": [
    "heatmap_compare(adata_query.copy(), SCVI_CLUSTERS_KEY, 'Cell_type')"
   ]
  },
  {
   "cell_type": "code",
   "execution_count": null,
   "id": "4043398c-b7f2-4773-8c0a-5687389f458d",
   "metadata": {},
   "outputs": [],
   "source": [
    "heatmap_compare(adata_query.copy(), SCVI_CLUSTERS_KEY, 'Cluster')"
   ]
  },
  {
   "cell_type": "code",
   "execution_count": null,
   "id": "e050c71b-1655-4d57-ab54-dbe03cb29b67",
   "metadata": {},
   "outputs": [],
   "source": [
    "!date"
   ]
  }
 ],
 "metadata": {
  "environment": {
   "kernel": "python3",
   "name": "pytorch-gpu.1-13.m107",
   "type": "gcloud",
   "uri": "gcr.io/deeplearning-platform-release/pytorch-gpu.1-13:m107"
  },
  "kernelspec": {
   "display_name": "Python 3 (ipykernel)",
   "language": "python",
   "name": "python3"
  },
  "language_info": {
   "codemirror_mode": {
    "name": "ipython",
    "version": 3
   },
   "file_extension": ".py",
   "mimetype": "text/x-python",
   "name": "python",
   "nbconvert_exporter": "python",
   "pygments_lexer": "ipython3",
   "version": "3.9.13"
  }
 },
 "nbformat": 4,
 "nbformat_minor": 5
}
