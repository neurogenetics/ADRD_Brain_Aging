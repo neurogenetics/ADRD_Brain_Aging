{
 "cells": [
  {
   "cell_type": "markdown",
   "id": "c35e7738",
   "metadata": {},
   "source": [
    "## Notebook to prepping data for differential expression in single-cell data using GLMMTMB for single region or cell-type, use as template notebook for running each\n",
    "\n",
    "Ran into parallelization, from notebook, and scaling issues in using glmmTMB.\n",
    "\n",
    "So this notebook was split from glmmtmb_diffexp.ipynb to just run up thru prepping and formatting jobs. Then jobs can be run in parallel somewhere else. Then run another notebook to integrate and post-process the results.\n",
    "\n",
    "based on some of the observations related to pseudo-replicate and zero-inflation from\n",
    "\n",
    "[Zimmerman KD, Espeland MA, Langefeld CD. A practical solution to pseudoreplication bias in single-cell studies. Nat Commun 2021;12:738.](https://pubmed.ncbi.nlm.nih.gov/33531494/)\n"
   ]
  },
  {
   "cell_type": "code",
   "execution_count": null,
   "id": "5d73f7e2",
   "metadata": {},
   "outputs": [],
   "source": [
    "!date"
   ]
  },
  {
   "cell_type": "markdown",
   "id": "bb81209b",
   "metadata": {},
   "source": [
    "#### import libraries and set notebook variables"
   ]
  },
  {
   "cell_type": "code",
   "execution_count": null,
   "id": "e277e872",
   "metadata": {},
   "outputs": [],
   "source": [
    "import anndata as ad\n",
    "import numpy as np\n",
    "import pandas as pd\n",
    "import scanpy as sc\n",
    "import diffxpy.api as de\n",
    "import json\n",
    "\n",
    "import warnings\n",
    "warnings.simplefilter('ignore')\n",
    "\n",
    "import random\n",
    "random.seed(420)"
   ]
  },
  {
   "cell_type": "code",
   "execution_count": null,
   "id": "28eaf1ad",
   "metadata": {
    "tags": [
     "parameters"
    ]
   },
   "outputs": [],
   "source": [
    "# parameters\n",
    "region_celltype = ''\n",
    "obs_type = ''\n",
    "testing = False"
   ]
  },
  {
   "cell_type": "code",
   "execution_count": null,
   "id": "2a6f6268",
   "metadata": {},
   "outputs": [],
   "source": [
    "# naming\n",
    "cohort = 'aging'\n",
    "assay = 'RNA'\n",
    "\n",
    "# directories for initial setup\n",
    "home_dir = '/labshare/raph/datasets/adrd_neuro'\n",
    "wrk_dir = f'{home_dir}/{cohort}'\n",
    "quants_dir = f'{wrk_dir}/demux'\n",
    "results_dir = f'{wrk_dir}/results'\n",
    "\n",
    "# in files\n",
    "# in_file = f'{quants_dir}/{cohort}.pegasus.leiden_085.Age_group_young_old.h5ad'\n",
    "in_file = f'{quants_dir}/{cohort}.pegasus.leiden_085.subclustered.h5ad'\n",
    "glmmtmb_rscript_file = f'PATH/{cohort}/glmmTMB.R'\n",
    "\n",
    "# out files\n",
    "temp_r_in_file = '{this_dir}/{name}_glmmtmb_in_df_temp.csv'\n",
    "temp_name_remap_json = '{this_dir}/{name}_gene_name_remap_temp.csv'\n",
    "temp_r_out_file = '{this_dir}/{chrt}.{name}_glmmtmb_results_temp.csv'\n",
    "diffxpy_out_file = '{this_dir}/{name}_de_diffxpy.csv'\n",
    "\n",
    "# constants\n",
    "min_cell_count = 3\n",
    "# get cell counts by 'categories'\n",
    "region_obs_feature = 'Brain_region'\n",
    "celltype_obs_feature = 'new_anno'\n",
    "testing_sample_size = 100 #25"
   ]
  },
  {
   "cell_type": "markdown",
   "id": "2ea5b5d2",
   "metadata": {},
   "source": [
    "#### analysis functions"
   ]
  },
  {
   "cell_type": "code",
   "execution_count": null,
   "id": "f2b05f3a",
   "metadata": {},
   "outputs": [],
   "source": [
    "def subset_ad_by_type(data: ad.AnnData, group_name: str, type_name: str,\n",
    "                      reapply_filter: bool=True, min_cell_count: int=3,\n",
    "                      verbose: bool=False) -> ad.AnnData:\n",
    "    this_data = data[data.obs[type_name] == group_name].copy()\n",
    "    shape_before = this_data.shape\n",
    "    if reapply_filter:\n",
    "        sc.pp.filter_genes(this_data, min_counts=min_cell_count)\n",
    "        sc.pp.filter_cells(this_data, min_counts=min_cell_count)\n",
    "        shape_after = this_data.shape\n",
    "    if verbose:\n",
    "        print(f'subset complete, shape before and after: {shape_before} {shape_after}')\n",
    "        print(this_data)\n",
    "    return this_data\n",
    "\n",
    "def convert_ad_to_df(data: ad.AnnData, young_age_limit: float=30.0, \n",
    "                     verbose: bool=False) -> pd.DataFrame:\n",
    "    data_df = data.to_df()\n",
    "    annots = data.obs[['Brain_region', 'Age','Age_group', 'pool_name', \n",
    "                       'Sample_id', 'Sex', 'donor_id']].copy()\n",
    "    annots['old'] = np.where((annots['Age'] > young_age_limit), 1, 0)\n",
    "    annots['female'] = np.where((annots['Sex'] == 'Female'), 1, 0)\n",
    "    this_df = None\n",
    "    if data_df.index.equals(annots.index):\n",
    "        this_df = pd.concat([data_df, annots], axis='columns')\n",
    "        if verbose:\n",
    "            print(f'anndata to pandas df complete: {this_df.shape}')\n",
    "            print(this_df.shape)\n",
    "            display(this_df.head())\n",
    "    return this_df\n",
    "\n",
    "def feature_detected(feature: str=None, df: pd.DataFrame=None, \n",
    "                     min_cell_count: int=3, min_sample_det_rate: float=0.5,\n",
    "                     verbose: bool=False) -> bool:\n",
    "    nz_df = df.loc[df[feature] > 0]\n",
    "    ok_cnts = nz_df['Sample_id'].value_counts() > min_cell_count\n",
    "    ok_sample_cnt = ok_cnts[ok_cnts == True].shape[0]\n",
    "    if ok_sample_cnt/df['Sample_id'].nunique() >= min_sample_det_rate:\n",
    "        good_feature = True\n",
    "    else:\n",
    "        good_feature = False\n",
    "    if verbose:\n",
    "        print(feature, end=', ')\n",
    "        print(f'nz_df.shape = {nz_df.shape}', end=', ')\n",
    "        print(f'{ok_sample_cnt}/{df.Sample_id.nunique()}', end=', ')\n",
    "        print(good_feature)\n",
    "    return good_feature\n",
    "\n",
    "def poorly_detected_features(features: list=None, df: pd.DataFrame=None, \n",
    "                             verbose=False) -> list:\n",
    "    bad_features = []\n",
    "    for feature in features:\n",
    "        if not feature_detected(feature, df, verbose):\n",
    "            bad_features.append(feature)\n",
    "    if verbose:\n",
    "        print(f'bad features counts is {len(bad_features)}')\n",
    "    return bad_features\n",
    "\n",
    "def non_de_features(data: ad.AnnData, group_name: str, alpha: float=0.05) -> list:\n",
    "    de_tt = de.test.t_test(data=data, grouping='Age_group')\n",
    "    de_tt_summary = de_tt.summary()\n",
    "    de_tt_summary.to_csv(diffxpy_out_file.format(this_dir=f'{quants_dir}', \n",
    "                                                 name=group_name.replace(\" \", \"_\")))\n",
    "    ret_list = list(de_tt_summary[de_tt_summary['pval'] > alpha]['gene'].values)\n",
    "    return ret_list\n",
    "\n",
    "def save_df_for_glmmtmb_in_r(df: pd.DataFrame, group_name: str):\n",
    "    # R doesn't like column names with hyphens in \n",
    "    # data frames when building formulas so replace temporarily\n",
    "    # find features containing hyphen\n",
    "    feats_w_hyphen = df.columns[df.columns.str.contains('-')]\n",
    "    # make dictionary to do replace\n",
    "    rename_cols = {x: x.replace('-', '_') for x in feats_w_hyphen}\n",
    "    df = df.rename(columns=rename_cols)\n",
    "    df.to_csv(temp_r_in_file.format(this_dir=f'{quants_dir}', \n",
    "                                    name=group_name.replace(\" \", \"_\")))\n",
    "    # save to gene remame dict\n",
    "    json.dump(rename_cols, open(temp_name_remap_json.format(this_dir=f'{quants_dir}',\n",
    "                                                     name=group_name.replace(\" \", \"_\")), 'w' ))\n",
    "    # what the corresponding read would be\n",
    "#   rename_cols = json.load(open(temp_name_remap_json.format(this_dir=f'{wrk_dir}/expression',\n",
    "#                                                      name=group_name.replace(\" \", \"_\"))))\n",
    "\n",
    "def frmt_glmmtmb_script_cmd(group_name: str) -> str:\n",
    "    in_file = temp_r_in_file.format(this_dir=f'{quants_dir}', \n",
    "                                    name=group_name.replace(\" \", \"_\"))\n",
    "    out_file = temp_r_out_file.format(this_dir=f'{results_dir}', chrt=cohort, \n",
    "                                      name=group_name.replace(\" \", \"_\"))\n",
    "    this_cmd = f'Rscript {glmmtmb_rscript_file} {in_file} {out_file}'\n",
    "    return this_cmd\n",
    "\n",
    "def diff_exp_of_features(df: pd.DataFrame, features: set, group_name: str) -> str:\n",
    "    cols_dict = save_df_for_glmmtmb_in_r(df, group_name)\n",
    "    # save the genes that had to be \n",
    "    this_cmd = frmt_glmmtmb_script_cmd(group_name)\n",
    "    return this_cmd\n",
    "\n",
    "def diffexp_group(data: ad.AnnData, group_name: str, \n",
    "                  type_name: str, min_cell_count: int=3, \n",
    "                  verbose: bool=False) -> pd.DataFrame:\n",
    "    if verbose:\n",
    "        print(f'starting subset {group_name}')\n",
    "    # subset anndata object by type_name (brain region or cell-type)\n",
    "    type_ad = subset_ad_by_type(data, group_name, type_name)\n",
    "    # now dealing with just cells in this region or cell-type so refilter genes\n",
    "    sc.pp.filter_genes(type_ad, min_cells=min_cell_count)\n",
    "    if verbose:\n",
    "        print('converting anndata to pandas df')    \n",
    "    type_df = convert_ad_to_df(type_ad)\n",
    "    # find features poorly detected and don't include in analysis\n",
    "    if verbose:\n",
    "        print(f'finding poorly detected features from cells x features {type_df.shape}')    \n",
    "    bad_features = poorly_detected_features(type_ad.var.index.values, type_df)\n",
    "    type_clean_df = type_df.drop(columns=bad_features)\n",
    "    keep_features = set(type_ad.var.index) & set(type_clean_df.columns)\n",
    "    type_clean_ad = type_ad[:,list(keep_features)]\n",
    "    # compute simple DE, so only running slower glmmTMB on possibles\n",
    "    if verbose:\n",
    "        print('running diffxpy t-test screen')    \n",
    "    exclude_features = non_de_features(type_clean_ad, group_name)\n",
    "    type_clean_df = type_clean_df.drop(columns=exclude_features)\n",
    "    keep_features = set(type_clean_ad.var.index) & set(type_clean_df.columns)\n",
    "    if verbose:\n",
    "        print(f'formatting glmmTMB command for {len(keep_features)} features and {type_clean_df.shape[0]} cells')    \n",
    "    this_cmd = diff_exp_of_features(type_clean_df, keep_features, group_name)\n",
    "    if verbose:\n",
    "        print(f'done', end='. ')\n",
    "    return this_cmd"
   ]
  },
  {
   "cell_type": "markdown",
   "id": "536979e9",
   "metadata": {},
   "source": [
    "#### read the anndata (h5ad) file"
   ]
  },
  {
   "cell_type": "code",
   "execution_count": null,
   "id": "f47a24f8",
   "metadata": {},
   "outputs": [],
   "source": [
    "%%time\n",
    "adata = sc.read(in_file, cache=True)\n",
    "print(adata)"
   ]
  },
  {
   "cell_type": "markdown",
   "id": "66d25458",
   "metadata": {},
   "source": [
    "#### take a look at the cell counts by cell type"
   ]
  },
  {
   "cell_type": "code",
   "execution_count": null,
   "id": "c8fc4846",
   "metadata": {},
   "outputs": [],
   "source": [
    "# get cell counts by 'categories'\n",
    "categories = ['Brain_region', 'new_anno']\n",
    "for this_cat in categories:\n",
    "    print(adata.obs[this_cat].value_counts())"
   ]
  },
  {
   "cell_type": "markdown",
   "id": "ab254acd",
   "metadata": {},
   "source": [
    "#### get sample counts per age group by  counts by 'categories'"
   ]
  },
  {
   "cell_type": "code",
   "execution_count": null,
   "id": "aea5c521",
   "metadata": {},
   "outputs": [],
   "source": [
    "for this_cat in categories:\n",
    "    print(adata.obs.groupby([this_cat,'Age_group'])['Sample_id'].nunique())"
   ]
  },
  {
   "cell_type": "code",
   "execution_count": null,
   "id": "3f2f8b67",
   "metadata": {},
   "outputs": [],
   "source": [
    "sc.pl.umap(adata, color=[celltype_obs_feature], legend_loc='on data')"
   ]
  },
  {
   "cell_type": "markdown",
   "id": "098bdc24",
   "metadata": {},
   "source": [
    "##### find cell-types we won't use in analysis\n",
    "remove them, and then refilter genes based on cell count"
   ]
  },
  {
   "cell_type": "code",
   "execution_count": null,
   "id": "1fea0e5f",
   "metadata": {},
   "outputs": [],
   "source": [
    "found_uncertain = [x for x in adata.obs[celltype_obs_feature].unique().to_list() \n",
    "                   if 'uncertain' in x] + ['Astrocyte-GFAP-Hi']\n",
    "print(found_uncertain)\n",
    "adata = adata[~adata.obs[celltype_obs_feature].isin(found_uncertain ), :]\n",
    "sc.pp.filter_genes(adata, min_cells=min_cell_count)\n",
    "adata"
   ]
  },
  {
   "cell_type": "markdown",
   "id": "ab12be13",
   "metadata": {},
   "source": [
    "### if testing notebooks for debugging purpose subset the features"
   ]
  },
  {
   "cell_type": "code",
   "execution_count": null,
   "id": "da30cb87",
   "metadata": {},
   "outputs": [],
   "source": [
    "if testing:\n",
    "    genes = random.sample(list(adata.var.index.values), testing_sample_size)\n",
    "    adata = adata[:,genes]"
   ]
  },
  {
   "cell_type": "markdown",
   "id": "eeeaa29a",
   "metadata": {},
   "source": [
    "#### compute/prep for the differential expression info"
   ]
  },
  {
   "cell_type": "code",
   "execution_count": null,
   "id": "078b8497",
   "metadata": {},
   "outputs": [],
   "source": [
    "%%time\n",
    "result_cmd = diffexp_group(adata, region_celltype, obs_type, verbose=True)"
   ]
  },
  {
   "cell_type": "code",
   "execution_count": null,
   "id": "d08d5b03",
   "metadata": {},
   "outputs": [],
   "source": [
    "print(result_cmd)"
   ]
  },
  {
   "cell_type": "code",
   "execution_count": null,
   "id": "dfaf7613",
   "metadata": {},
   "outputs": [],
   "source": [
    "!date"
   ]
  },
  {
   "cell_type": "code",
   "execution_count": null,
   "id": "90c926f6",
   "metadata": {},
   "outputs": [],
   "source": []
  }
 ],
 "metadata": {
  "kernelspec": {
   "display_name": "Python 3 (ipykernel)",
   "language": "python",
   "name": "python3"
  },
  "language_info": {
   "codemirror_mode": {
    "name": "ipython",
    "version": 3
   },
   "file_extension": ".py",
   "mimetype": "text/x-python",
   "name": "python",
   "nbconvert_exporter": "python",
   "pygments_lexer": "ipython3",
   "version": "3.8.11"
  }
 },
 "nbformat": 4,
 "nbformat_minor": 5
}
