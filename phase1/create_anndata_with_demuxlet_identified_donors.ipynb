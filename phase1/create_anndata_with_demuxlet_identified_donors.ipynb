{
 "cells": [
  {
   "cell_type": "markdown",
   "id": "103ed413",
   "metadata": {},
   "source": [
    "## Notebook to push the identified donor IDs from demultiplexing back into the date"
   ]
  },
  {
   "cell_type": "code",
   "execution_count": 1,
   "id": "5b2914b2",
   "metadata": {},
   "outputs": [
    {
     "name": "stdout",
     "output_type": "stream",
     "text": [
      "Sat Jul 17 19:26:53 EDT 2021\n"
     ]
    }
   ],
   "source": [
    "!date"
   ]
  },
  {
   "cell_type": "markdown",
   "id": "2d8a59bc",
   "metadata": {},
   "source": [
    "#### import libraries and set notebook variables"
   ]
  },
  {
   "cell_type": "code",
   "execution_count": 2,
   "id": "a144b76a",
   "metadata": {},
   "outputs": [],
   "source": [
    "import scanpy as sc\n",
    "import pandas as pd\n",
    "import numpy as np\n",
    "import scvi\n",
    "import seaborn as sns\n",
    "import matplotlib.pyplot as plt"
   ]
  },
  {
   "cell_type": "code",
   "execution_count": 3,
   "id": "6de4f89f",
   "metadata": {
    "tags": [
     "parameters"
    ]
   },
   "outputs": [],
   "source": [
    "# parameters\n",
    "cohort = 'aging'\n",
    "pool_name = 'Aging_P003_SCRN_8'"
   ]
  },
  {
   "cell_type": "code",
   "execution_count": 4,
   "id": "89a1c949",
   "metadata": {},
   "outputs": [],
   "source": [
    "# directories\n",
    "home_dir = '/labshare/raph/datasets/adrd_neuro'\n",
    "wrk_dir = f'{home_dir}/{cohort}'\n",
    "expr_dir = f'{wrk_dir}/expression'\n",
    "results_dir = f'{wrk_dir}/demux'\n",
    "info_dir = f'{wrk_dir}/sample_info'\n",
    "\n",
    "# in files\n",
    "info_file = f'{info_dir}/{cohort}.pool_patient_sample_info.csv'\n",
    "path_to_10x_h5 = f'{expr_dir}/{pool_name}.filtered_feature_bc_matrix.h5'\n",
    "\n",
    "# out files\n",
    "output_file = f'{results_dir}/{pool_name}.h5ad'"
   ]
  },
  {
   "cell_type": "markdown",
   "id": "ab7c71e3",
   "metadata": {},
   "source": [
    "#### visualization functions"
   ]
  },
  {
   "cell_type": "code",
   "execution_count": 5,
   "id": "8c441289",
   "metadata": {},
   "outputs": [],
   "source": [
    "# function to plot the barcode counts by sample\n",
    "def plot_sample_barcode_counts(this_df, sample_name, id_col='Sample_id'):\n",
    "    plt.figure(figsize=(8, 6))\n",
    "    sns.set_theme(style=\"whitegrid\")\n",
    "    sns.barplot(x=this_df[id_col].value_counts().index, \n",
    "                y=this_df[id_col].value_counts().values, palette='Blues_d')\n",
    "    plt.xticks(rotation=70)\n",
    "    plt.tight_layout()\n",
    "    plt.title(sample_name)\n",
    "    plt.ylabel('barcode counts')\n",
    "    print(this_df[id_col].value_counts())"
   ]
  },
  {
   "cell_type": "markdown",
   "id": "8e7a9985",
   "metadata": {},
   "source": [
    "#### parse the pool name and look up the pool info"
   ]
  },
  {
   "cell_type": "code",
   "execution_count": null,
   "id": "93f2e879",
   "metadata": {},
   "outputs": [],
   "source": [
    "def parse_pool_name(name):\n",
    "    parts = name.split('_')\n",
    "    # pool num 2nd item and lane num is 4th\n",
    "    return parts[1], parts[3]\n",
    "\n",
    "pool_num, lane_num = parse_pool_name(pool_name)\n",
    "print(pool_num, lane_num)\n",
    "\n",
    "# retrieve pool info\n",
    "info_df = pd.read_csv(info_file)\n",
    "# drop the un-needed columns\n",
    "cols_to_drop = ['Pool_no', 'Sample_no', 'Sequence_type', 'Source_id']\n",
    "info_df.drop(columns=cols_to_drop, inplace=True)\n",
    "info_df = info_df.loc[info_df['pool_name'] == pool_num]\n",
    "# add the lane number\n",
    "info_df['lane_num'] = lane_num\n",
    "print(info_df.shape)\n",
    "# display(info_df)"
   ]
  },
  {
   "cell_type": "markdown",
   "id": "32b0eb8c",
   "metadata": {},
   "source": [
    "#### load the 10X matrix files"
   ]
  },
  {
   "cell_type": "code",
   "execution_count": 7,
   "id": "80db255d",
   "metadata": {},
   "outputs": [
    {
     "name": "stderr",
     "output_type": "stream",
     "text": [
      "Variable names are not unique. To make them unique, call `.var_names_make_unique`.\n",
      "Variable names are not unique. To make them unique, call `.var_names_make_unique`.\n"
     ]
    },
    {
     "name": "stdout",
     "output_type": "stream",
     "text": [
      "AnnData object with n_obs × n_vars = 7175 × 36601\n",
      "    var: 'gene_ids', 'feature_types', 'genome'\n",
      "CPU times: user 1.07 s, sys: 79.1 ms, total: 1.15 s\n",
      "Wall time: 1.15 s\n"
     ]
    }
   ],
   "source": [
    "%%time\n",
    "adata = sc.read_10x_h5(path_to_10x_h5)\n",
    "adata.var_names_make_unique()\n",
    "    \n",
    "print(adata)"
   ]
  },
  {
   "cell_type": "markdown",
   "id": "151b3d2c",
   "metadata": {},
   "source": [
    "#### load the demuxlet results"
   ]
  },
  {
   "cell_type": "code",
   "execution_count": 8,
   "id": "54c6ba53",
   "metadata": {},
   "outputs": [
    {
     "name": "stdout",
     "output_type": "stream",
     "text": [
      "(7174, 21)\n"
     ]
    }
   ],
   "source": [
    "best_file = f'{results_dir}/{pool_name}.best'\n",
    "demux_df = pd.read_csv(best_file, sep='\\s+')\n",
    "# set another best sample column and if doublet or ambigous set that as ID\n",
    "demux_df['best_id'] = np.where(demux_df['DROPLET.TYPE'] == 'SNG', demux_df['SNG.BEST.GUESS'], \n",
    "                               np.where(demux_df['DROPLET.TYPE'] == 'DBL', \n",
    "                                        'doublet', 'ambiguous'))\n",
    "print(demux_df.shape)    \n",
    "# display(demux_df.sample(5))"
   ]
  },
  {
   "cell_type": "markdown",
   "id": "58e3ef52",
   "metadata": {},
   "source": [
    "#### merge other info with obs IDs"
   ]
  },
  {
   "cell_type": "code",
   "execution_count": 9,
   "id": "a9a679b2",
   "metadata": {},
   "outputs": [
    {
     "name": "stdout",
     "output_type": "stream",
     "text": [
      "(7174, 2)\n",
      "(7174, 11)\n"
     ]
    }
   ],
   "source": [
    "obs_id_df = demux_df[['best_id', 'BARCODE']].copy()\n",
    "print(obs_id_df.shape)\n",
    "# display(obs_id_df.head())\n",
    "obs_id_df = obs_id_df.merge(info_df, how='left', \n",
    "                            left_on='best_id', right_on='donor_id')\n",
    "print(obs_id_df.shape)\n",
    "# display(obs_id_df.head())\n",
    "# print(obs_id_df['Sample_id'].value_counts())\n",
    "# print(obs_id_df['Tissue_source'].value_counts())\n",
    "# print(obs_id_df['Brain_region'].value_counts())\n",
    "# print(obs_id_df['Age'].describe())\n",
    "# print(obs_id_df['Sex'].value_counts())"
   ]
  },
  {
   "cell_type": "markdown",
   "id": "4899cf11",
   "metadata": {},
   "source": [
    "#### check that we aren't missing any barcodes"
   ]
  },
  {
   "cell_type": "code",
   "execution_count": 10,
   "id": "b675f62e",
   "metadata": {},
   "outputs": [
    {
     "data": {
      "text/plain": [
       "set()"
      ]
     },
     "execution_count": 10,
     "metadata": {},
     "output_type": "execute_result"
    }
   ],
   "source": [
    "set(adata.obs) - set(demux_df['BARCODE'])"
   ]
  },
  {
   "cell_type": "markdown",
   "id": "29b0c1a6",
   "metadata": {},
   "source": [
    "#### index the demultiplexed IDs with the anndata obs barcodes"
   ]
  },
  {
   "cell_type": "code",
   "execution_count": 11,
   "id": "73cc73e3",
   "metadata": {},
   "outputs": [
    {
     "name": "stdout",
     "output_type": "stream",
     "text": [
      "(7175, 9)\n"
     ]
    }
   ],
   "source": [
    "# obs_id_df = demux_df[['best_id', 'BARCODE']].copy()\n",
    "obs_id_df.set_index('BARCODE', inplace=True)\n",
    "obs_id_df = obs_id_df.reindex(adata.obs.index)\n",
    "# fill any missing barcode IDs\n",
    "obs_id_df['best_id'].fillna('unknown', inplace=True)\n",
    "obs_id_df['donor_id'] = obs_id_df['best_id']\n",
    "obs_id_df.drop(columns=['best_id'], inplace=True)\n",
    "print(obs_id_df.shape)\n",
    "# display(obs_id_df.head())"
   ]
  },
  {
   "cell_type": "code",
   "execution_count": 12,
   "id": "07b844e9",
   "metadata": {},
   "outputs": [
    {
     "name": "stdout",
     "output_type": "stream",
     "text": [
      "<class 'pandas.core.frame.DataFrame'>\n",
      "Index: 7175 entries, AAACCCAAGACTTCAC-1 to TTTGTTGCAGAACATA-1\n",
      "Data columns (total 9 columns):\n",
      " #   Column              Non-Null Count  Dtype  \n",
      "---  ------              --------------  -----  \n",
      " 0   pool_name           5189 non-null   object \n",
      " 1   Sample_id           5189 non-null   object \n",
      " 2   Tissue_source       5189 non-null   object \n",
      " 3   Brain_region        5189 non-null   object \n",
      " 4   Clinical_diagnosis  5189 non-null   object \n",
      " 5   Age                 5189 non-null   float64\n",
      " 6   Sex                 5189 non-null   object \n",
      " 7   donor_id            7175 non-null   object \n",
      " 8   lane_num            5189 non-null   object \n",
      "dtypes: float64(1), object(8)\n",
      "memory usage: 818.6+ KB\n"
     ]
    }
   ],
   "source": [
    "obs_id_df.info()"
   ]
  },
  {
   "cell_type": "markdown",
   "id": "7d81b7a5",
   "metadata": {},
   "source": [
    "#### add the sample info from demultiplexing to the obs"
   ]
  },
  {
   "cell_type": "code",
   "execution_count": 13,
   "id": "fdccb51e",
   "metadata": {},
   "outputs": [],
   "source": [
    "adata.obs = pd.concat([adata.obs, obs_id_df], axis='columns')"
   ]
  },
  {
   "cell_type": "code",
   "execution_count": 14,
   "id": "8f19ef4a",
   "metadata": {},
   "outputs": [
    {
     "data": {
      "text/plain": [
       "NHBCC-1604    1455\n",
       "ambiguous     1099\n",
       "NHBCC-1187    1088\n",
       "doublet        865\n",
       "NHBCC-1119     790\n",
       "NHBCC-1669     631\n",
       "NHBCC-1340     521\n",
       "NHBCC-1275     370\n",
       "NHBCC-2790     238\n",
       "NHBCC-1137      96\n",
       "NHBCC-1615       9\n",
       "NHBCC-1556       4\n",
       "NHBCC-831        3\n",
       "NHBCC-2628       3\n",
       "NHBCC-1613       2\n",
       "unknown          1\n",
       "Name: donor_id, dtype: int64"
      ]
     },
     "execution_count": 14,
     "metadata": {},
     "output_type": "execute_result"
    }
   ],
   "source": [
    "adata.obs['donor_id'].value_counts()"
   ]
  },
  {
   "cell_type": "code",
   "execution_count": 15,
   "id": "d1255b63",
   "metadata": {},
   "outputs": [
    {
     "data": {
      "text/plain": [
       "Aging097    1455\n",
       "Aging082    1088\n",
       "Aging074     790\n",
       "Aging109     631\n",
       "Aging090     521\n",
       "Aging086     370\n",
       "Aging117     238\n",
       "Aging078      96\n",
       "Name: Sample_id, dtype: int64"
      ]
     },
     "execution_count": 15,
     "metadata": {},
     "output_type": "execute_result"
    }
   ],
   "source": [
    "adata.obs['Sample_id'].value_counts()"
   ]
  },
  {
   "cell_type": "markdown",
   "id": "da2b5e92",
   "metadata": {},
   "source": [
    "#### visualize the counts by sample"
   ]
  },
  {
   "cell_type": "code",
   "execution_count": 16,
   "id": "ee570603",
   "metadata": {},
   "outputs": [
    {
     "name": "stdout",
     "output_type": "stream",
     "text": [
      "Aging097    1455\n",
      "Aging082    1088\n",
      "Aging074     790\n",
      "Aging109     631\n",
      "Aging090     521\n",
      "Aging086     370\n",
      "Aging117     238\n",
      "Aging078      96\n",
      "Name: Sample_id, dtype: int64\n"
     ]
    },
    {
     "data": {
      "image/png": "[encoded data removed]",
      "text/plain": [
       "<Figure size 576x432 with 1 Axes>"
      ]
     },
     "metadata": {
      "needs_background": "light"
     },
     "output_type": "display_data"
    }
   ],
   "source": [
    "plot_sample_barcode_counts(adata.obs, pool_name)"
   ]
  },
  {
   "cell_type": "code",
   "execution_count": 17,
   "id": "9a24532e",
   "metadata": {},
   "outputs": [
    {
     "name": "stdout",
     "output_type": "stream",
     "text": [
      "NHBCC-1604    1455\n",
      "ambiguous     1099\n",
      "NHBCC-1187    1088\n",
      "doublet        865\n",
      "NHBCC-1119     790\n",
      "NHBCC-1669     631\n",
      "NHBCC-1340     521\n",
      "NHBCC-1275     370\n",
      "NHBCC-2790     238\n",
      "NHBCC-1137      96\n",
      "NHBCC-1615       9\n",
      "NHBCC-1556       4\n",
      "NHBCC-831        3\n",
      "NHBCC-2628       3\n",
      "NHBCC-1613       2\n",
      "unknown          1\n",
      "Name: donor_id, dtype: int64\n"
     ]
    },
    {
     "data": {
      "image/png": "[encoded data removed]",
      "text/plain": [
       "<Figure size 576x432 with 1 Axes>"
      ]
     },
     "metadata": {},
     "output_type": "display_data"
    }
   ],
   "source": [
    "plot_sample_barcode_counts(adata.obs, pool_name, 'donor_id')"
   ]
  },
  {
   "cell_type": "markdown",
   "id": "557a1848",
   "metadata": {},
   "source": [
    "#### filter out the doublet, ambiguous, and unknowns"
   ]
  },
  {
   "cell_type": "code",
   "execution_count": 18,
   "id": "bac04eb5",
   "metadata": {},
   "outputs": [
    {
     "data": {
      "text/plain": [
       "AnnData object with n_obs × n_vars = 5189 × 36601\n",
       "    obs: 'pool_name', 'Sample_id', 'Tissue_source', 'Brain_region', 'Clinical_diagnosis', 'Age', 'Sex', 'donor_id', 'lane_num'\n",
       "    var: 'gene_ids', 'feature_types', 'genome'"
      ]
     },
     "execution_count": 18,
     "metadata": {},
     "output_type": "execute_result"
    }
   ],
   "source": [
    "# filtd_adata = adata[~adata.obs['sample_id'].isin(['doublet', 'unknown'])]\n",
    "# filtd_adata = adata[adata.obs['Sample_id'].isin(donor_list)].copy()\n",
    "filtd_adata = adata[~adata.obs['Sample_id'].isna()].copy()\n",
    "filtd_adata"
   ]
  },
  {
   "cell_type": "code",
   "execution_count": 19,
   "id": "e9453e79",
   "metadata": {},
   "outputs": [
    {
     "data": {
      "text/plain": [
       "Aging097    1455\n",
       "Aging082    1088\n",
       "Aging074     790\n",
       "Aging109     631\n",
       "Aging090     521\n",
       "Aging086     370\n",
       "Aging117     238\n",
       "Aging078      96\n",
       "Name: Sample_id, dtype: int64"
      ]
     },
     "execution_count": 19,
     "metadata": {},
     "output_type": "execute_result"
    }
   ],
   "source": [
    "filtd_adata.obs['Sample_id'].value_counts()"
   ]
  },
  {
   "cell_type": "code",
   "execution_count": 20,
   "id": "594ea666",
   "metadata": {},
   "outputs": [
    {
     "data": {
      "text/plain": [
       "NHBCC-1604    1455\n",
       "NHBCC-1187    1088\n",
       "NHBCC-1119     790\n",
       "NHBCC-1669     631\n",
       "NHBCC-1340     521\n",
       "NHBCC-1275     370\n",
       "NHBCC-2790     238\n",
       "NHBCC-1137      96\n",
       "Name: donor_id, dtype: int64"
      ]
     },
     "execution_count": 20,
     "metadata": {},
     "output_type": "execute_result"
    }
   ],
   "source": [
    "filtd_adata.obs['donor_id'].value_counts()"
   ]
  },
  {
   "cell_type": "markdown",
   "id": "002b331a",
   "metadata": {},
   "source": [
    "#### visualize the counts by sample again without the doublets and unknowns"
   ]
  },
  {
   "cell_type": "code",
   "execution_count": 21,
   "id": "ff357433",
   "metadata": {},
   "outputs": [
    {
     "name": "stdout",
     "output_type": "stream",
     "text": [
      "Aging097    1455\n",
      "Aging082    1088\n",
      "Aging074     790\n",
      "Aging109     631\n",
      "Aging090     521\n",
      "Aging086     370\n",
      "Aging117     238\n",
      "Aging078      96\n",
      "Name: Sample_id, dtype: int64\n"
     ]
    },
    {
     "data": {
      "image/png": "[encoded data removed]",
      "text/plain": [
       "<Figure size 576x432 with 1 Axes>"
      ]
     },
     "metadata": {},
     "output_type": "display_data"
    }
   ],
   "source": [
    "plot_sample_barcode_counts(filtd_adata.obs, pool_name)"
   ]
  },
  {
   "cell_type": "code",
   "execution_count": 22,
   "id": "c54b7be3",
   "metadata": {},
   "outputs": [
    {
     "name": "stdout",
     "output_type": "stream",
     "text": [
      "NHBCC-1604    1455\n",
      "NHBCC-1187    1088\n",
      "NHBCC-1119     790\n",
      "NHBCC-1669     631\n",
      "NHBCC-1340     521\n",
      "NHBCC-1275     370\n",
      "NHBCC-2790     238\n",
      "NHBCC-1137      96\n",
      "Name: donor_id, dtype: int64\n"
     ]
    },
    {
     "data": {
      "image/png": "[encoded data removed]",
      "text/plain": [
       "<Figure size 576x432 with 1 Axes>"
      ]
     },
     "metadata": {},
     "output_type": "display_data"
    }
   ],
   "source": [
    "plot_sample_barcode_counts(filtd_adata.obs, pool_name, 'donor_id')"
   ]
  },
  {
   "cell_type": "markdown",
   "id": "e82c9bde",
   "metadata": {},
   "source": [
    "#### save the modified anndata object"
   ]
  },
  {
   "cell_type": "code",
   "execution_count": 23,
   "id": "a3d672fe",
   "metadata": {},
   "outputs": [
    {
     "name": "stderr",
     "output_type": "stream",
     "text": [
      "... storing 'pool_name' as categorical\n",
      "... storing 'Sample_id' as categorical\n",
      "... storing 'Tissue_source' as categorical\n",
      "... storing 'Brain_region' as categorical\n",
      "... storing 'Clinical_diagnosis' as categorical\n",
      "... storing 'Sex' as categorical\n",
      "... storing 'donor_id' as categorical\n",
      "... storing 'lane_num' as categorical\n",
      "... storing 'feature_types' as categorical\n",
      "... storing 'genome' as categorical\n"
     ]
    }
   ],
   "source": [
    "filtd_adata.write(output_file)"
   ]
  },
  {
   "cell_type": "code",
   "execution_count": 24,
   "id": "8d5a576a",
   "metadata": {},
   "outputs": [
    {
     "data": {
      "text/plain": [
       "AnnData object with n_obs × n_vars = 5189 × 36601\n",
       "    obs: 'pool_name', 'Sample_id', 'Tissue_source', 'Brain_region', 'Clinical_diagnosis', 'Age', 'Sex', 'donor_id', 'lane_num'\n",
       "    var: 'gene_ids', 'feature_types', 'genome'"
      ]
     },
     "execution_count": 24,
     "metadata": {},
     "output_type": "execute_result"
    }
   ],
   "source": [
    "filtd_adata"
   ]
  },
  {
   "cell_type": "code",
   "execution_count": null,
   "id": "2d287914",
   "metadata": {},
   "outputs": [],
   "source": []
  }
 ],
 "metadata": {
  "environment": {
   "name": "common-cpu.m65",
   "type": "gcloud",
   "uri": "gcr.io/deeplearning-platform-release/base-cpu:m65"
  },
  "kernelspec": {
   "display_name": "Python 3 (ipykernel)",
   "language": "python",
   "name": "python3"
  },
  "language_info": {
   "codemirror_mode": {
    "name": "ipython",
    "version": 3
   },
   "file_extension": ".py",
   "mimetype": "text/x-python",
   "name": "python",
   "nbconvert_exporter": "python",
   "pygments_lexer": "ipython3",
   "version": "3.8.11"
  }
 },
 "nbformat": 4,
 "nbformat_minor": 5
}
