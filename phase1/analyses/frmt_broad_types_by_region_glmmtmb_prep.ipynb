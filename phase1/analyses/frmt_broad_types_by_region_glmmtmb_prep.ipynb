{
 "cells": [
  {
   "cell_type": "markdown",
   "id": "c35e7738",
   "metadata": {},
   "source": [
    "## Notebook to prepping data for differential expression in single-cell data using GLMMTMB for each broad cell-type per brain region.\n",
    "\n",
    "Ran into parallelization, from notebook, and scaling issues in using glmmTMB.\n",
    "\n",
    "So this notebook was split from glmmtmb_diffexp.ipynb to just run up thru prepping and formatting jobs. Then jobs can be run in parallel somewhere else. Then run another notebook to integrate and post-process the results.\n",
    "\n",
    "based on some of the observations related to pseudo-replicate and zero-inflation from\n",
    "\n",
    "[Zimmerman KD, Espeland MA, Langefeld CD. A practical solution to pseudoreplication bias in single-cell studies. Nat Commun 2021;12:738.](https://pubmed.ncbi.nlm.nih.gov/33531494/)\n"
   ]
  },
  {
   "cell_type": "code",
   "execution_count": null,
   "id": "5d73f7e2",
   "metadata": {},
   "outputs": [],
   "source": [
    "!date"
   ]
  },
  {
   "cell_type": "markdown",
   "id": "bb81209b",
   "metadata": {},
   "source": [
    "#### import libraries"
   ]
  },
  {
   "cell_type": "code",
   "execution_count": null,
   "id": "e277e872",
   "metadata": {},
   "outputs": [],
   "source": [
    "from anndata import AnnData\n",
    "from numpy import where\n",
    "from pandas import DataFrame, concat\n",
    "import scanpy as sc\n",
    "import diffxpy.api as de\n",
    "import json\n",
    "import concurrent.futures\n",
    "\n",
    "import warnings\n",
    "warnings.simplefilter('ignore')\n",
    "\n",
    "import random\n",
    "random.seed(420)"
   ]
  },
  {
   "cell_type": "markdown",
   "id": "b87f22eb-8d0a-4200-85b3-417ff750c44a",
   "metadata": {},
   "source": [
    "#### set notebook variables"
   ]
  },
  {
   "cell_type": "code",
   "execution_count": null,
   "id": "2a6f6268",
   "metadata": {},
   "outputs": [],
   "source": [
    "# naming\n",
    "cohort = 'aging'\n",
    "\n",
    "# directories for initial setup\n",
    "wrk_dir = '/home/jupyter/brain_aging_phase1'\n",
    "quants_dir = f'{wrk_dir}/demux'\n",
    "results_dir = f'{wrk_dir}/results'\n",
    "\n",
    "# in files\n",
    "# in_file = f'{quants_dir}/{cohort}.pegasus.leiden_085.Age_group_young_old.h5ad'\n",
    "in_file = f'{quants_dir}/{cohort}.pegasus.leiden_085.subclustered.h5ad'\n",
    "glmmtmb_rscript_file = f'PATH/{cohort}/glmmTMB.R'\n",
    "\n",
    "# out files\n",
    "temp_r_in_file = '{this_dir}/{region}_{celltype}_glmmtmb_in_df_temp.csv'\n",
    "temp_name_remap_json = '{this_dir}/{region}_{celltype}_gene_name_remap_temp.csv'\n",
    "temp_r_out_file = '{this_dir}/{region}_{celltype}_glmmtmb_results_temp.csv'\n",
    "diffxpy_out_file = '{this_dir}/{region}_{celltype}_de_diffxpy.csv'\n",
    "\n",
    "# constants\n",
    "DEBUG = True\n",
    "min_cell_count = 3\n",
    "# get cell counts by 'categories'\n",
    "region_obs_feature = 'Brain_region'\n",
    "celltype_obs_feature = 'new_anno'\n",
    "testing = True\n",
    "testing_sample_size = 100 #25"
   ]
  },
  {
   "cell_type": "markdown",
   "id": "2ea5b5d2",
   "metadata": {},
   "source": [
    "#### analysis functions"
   ]
  },
  {
   "cell_type": "code",
   "execution_count": null,
   "id": "f2b05f3a",
   "metadata": {},
   "outputs": [],
   "source": [
    "def subset_ad_by_type(data: AnnData, region_name: str, cell_name: str, type_name: str,\n",
    "                      reapply_filter: bool=True, min_cell_count: int=3,\n",
    "                      verbose: bool=False) -> AnnData:\n",
    "    this_data = data[(data.obs[region_obs_feature] == region_name) & \n",
    "                     (data.obs[type_name] == cell_name)].copy()\n",
    "    shape_before = this_data.shape\n",
    "    if reapply_filter:\n",
    "        sc.pp.filter_genes(this_data, min_counts=min_cell_count)\n",
    "        sc.pp.filter_cells(this_data, min_counts=min_cell_count)\n",
    "        shape_after = this_data.shape\n",
    "    if verbose:\n",
    "        print(f'subset complete, shape before and after: {shape_before} {shape_after}')\n",
    "        print(this_data)\n",
    "    return this_data\n",
    "\n",
    "def convert_ad_to_df(data: AnnData, young_age_limit: float=30.0, \n",
    "                     verbose: bool=False) -> DataFrame:\n",
    "    data_df = data.to_df()\n",
    "    annots = data.obs[['Brain_region', 'Age','Age_group', 'pool_name', \n",
    "                       'Sample_id', 'Sex', 'donor_id']].copy()\n",
    "    annots['old'] = where((annots['Age'] > young_age_limit), 1, 0)\n",
    "    annots['female'] = where((annots['Sex'] == 'Female'), 1, 0)\n",
    "    this_df = None\n",
    "    if data_df.index.equals(annots.index):\n",
    "        this_df = concat([data_df, annots], axis='columns')\n",
    "        if verbose:\n",
    "            print(f'anndata to pandas df complete: {this_df.shape}')\n",
    "            print(this_df.shape)\n",
    "            display(this_df.head())\n",
    "    return this_df\n",
    "\n",
    "def feature_detected(feature_col, features: list=None, df: DataFrame=None, \n",
    "                     min_cell_count: int=3, min_sample_det_rate: float=0.5,\n",
    "                     verbose: bool=False):    \n",
    "    good_feature = False\n",
    "    if feature_col.name in features:\n",
    "        nz_df = feature_col[feature_col > 0]\n",
    "        ok_cnts = df.loc[nz_df.index].Sample_id.value_counts() > min_cell_count\n",
    "        ok_sample_cnt = ok_cnts.sum()\n",
    "        unique_sample_id_count = df['Sample_id'].nunique()\n",
    "        good_feature = ok_sample_cnt / unique_sample_id_count >= min_sample_det_rate\n",
    "        if verbose:\n",
    "            print(feature_col.name, end=', ')\n",
    "            print(f'nz_df.shape = {nz_df.shape}', end=', ')\n",
    "            print(f'{ok_sample_cnt}/{unique_sample_id_count}', end=', ')\n",
    "            print(good_feature)\n",
    "    return good_feature\n",
    "\n",
    "def poorly_detected_features(features: list=None, df: DataFrame=None, \n",
    "                             verbose=True) -> list:\n",
    "    feature_detect_df = df.apply(feature_detected, features=features, df=df)\n",
    "    bad_features = feature_detect_df.loc[~feature_detect_df].index.to_list()\n",
    "    if verbose:\n",
    "        print(f'bad features counts is {len(bad_features)}')\n",
    "    return bad_features\n",
    "\n",
    "def non_de_features(data: AnnData, region_name: str, \n",
    "                    cell_name: str, alpha: float=0.05) -> list:\n",
    "    de_tt = de.test.t_test(data=data, grouping='Age_group')\n",
    "    de_tt_summary = de_tt.summary()\n",
    "    de_tt_summary.to_csv(diffxpy_out_file.format(this_dir=f'{quants_dir}', \n",
    "                                                 region=region_name.replace(\" \", \"_\"), \n",
    "                                                 celltype=cell_name.replace(\" \", \"_\")))\n",
    "    ret_list = list(de_tt_summary[de_tt_summary['pval'] > alpha]['gene'].values)\n",
    "    return ret_list\n",
    "\n",
    "def save_df_for_glmmtmb_in_r(df: DataFrame, region_name: str, cell_name: str):\n",
    "    # R doesn't like column names with hyphens in \n",
    "    # data frames when building formulas so replace temporarily\n",
    "    # find features containing hyphen\n",
    "    feats_w_hyphen = df.columns[df.columns.str.contains('-')]\n",
    "    # make dictionary to do replace\n",
    "    rename_cols = {x: x.replace('-', '_') for x in feats_w_hyphen}\n",
    "    df = df.rename(columns=rename_cols)\n",
    "    df.to_csv(temp_r_in_file.format(this_dir=f'{quants_dir}', \n",
    "                                    region=region_name.replace(\" \", \"_\"), \n",
    "                                    celltype=cell_name.replace(\" \", \"_\")))\n",
    "    # save to gene remame dict\n",
    "    json.dump(rename_cols, \n",
    "              open(temp_name_remap_json.format(this_dir=f'{quants_dir}',\n",
    "                                               region=region_name.replace(\" \", \"_\"), \n",
    "                                               celltype=cell_name.replace(\" \", \"_\")), 'w'))\n",
    "\n",
    "def frmt_glmmtmb_script_cmd(region_name: str, cell_name: str) -> str:\n",
    "    in_file = temp_r_in_file.format(this_dir=f'{quants_dir}', \n",
    "                                    region=region_name.replace(\" \", \"_\"), \n",
    "                                    celltype=cell_name.replace(\" \", \"_\"))\n",
    "    out_file = temp_r_out_file.format(this_dir=f'{results_dir}', chrt=cohort, \n",
    "                                      region=region_name.replace(\" \", \"_\"), \n",
    "                                      celltype=cell_name.replace(\" \", \"_\"))\n",
    "    this_cmd = f'Rscript {glmmtmb_rscript_file} {in_file} {out_file}'\n",
    "    return this_cmd\n",
    "\n",
    "def diff_exp_of_features(df: DataFrame, features: set, \n",
    "                         region_name: str, cell_name: str) -> str:\n",
    "    cols_dict = save_df_for_glmmtmb_in_r(df, region_name, cell_name)\n",
    "    # save the genes that had to be \n",
    "    this_cmd = frmt_glmmtmb_script_cmd(region_name, cell_name)\n",
    "    return this_cmd\n",
    "\n",
    "def diffexp_group(data: AnnData, region_name: str, cell_name: str,\n",
    "                  type_name: str, min_cell_count: int=3, \n",
    "                  verbose: bool=False) -> DataFrame:\n",
    "    if verbose:\n",
    "        print(f'\\n---- starting subset {region_name} and {cell_name}')\n",
    "    # subset anndata object by type_name (brain region or cell-type)\n",
    "    type_ad = subset_ad_by_type(data, region_name, cell_name, type_name)\n",
    "    # now dealing with just cells in this region or cell-type so refilter genes\n",
    "    sc.pp.filter_genes(type_ad, min_cells=min_cell_count)\n",
    "    if verbose:\n",
    "        print('converting anndata to pandas df')    \n",
    "    type_df = convert_ad_to_df(type_ad)\n",
    "    # find features poorly detected and don't include in analysis\n",
    "    if verbose:\n",
    "        print(f'finding poorly detected features from cells x features {type_df.shape}')    \n",
    "    bad_features = poorly_detected_features(type_ad.var.index.values, type_df)\n",
    "    type_clean_df = type_df.drop(columns=bad_features)\n",
    "    keep_features = set(type_ad.var.index) & set(type_clean_df.columns)\n",
    "    type_clean_ad = type_ad[:,list(keep_features)]\n",
    "    # compute simple DE, so only running slower glmmTMB on possibles\n",
    "    if verbose:\n",
    "        print(f'running diffxpy t-test screen for cells x features \\\n",
    "{type_clean_ad.obs.shape[0]} {type_clean_ad.var.shape[0]}')    \n",
    "    exclude_features = non_de_features(type_clean_ad, region_name, cell_name)\n",
    "    type_clean_df = type_clean_df.drop(columns=exclude_features)\n",
    "    keep_features = set(type_clean_ad.var.index) & set(type_clean_df.columns)\n",
    "    if verbose:\n",
    "        print(f'formatting glmmTMB command for {len(keep_features)} features and {type_clean_df.shape[0]} cells')    \n",
    "    this_cmd = diff_exp_of_features(type_clean_df, keep_features, region_name, cell_name)\n",
    "    if verbose:\n",
    "        print(f'done', end='. ')\n",
    "    return this_cmd"
   ]
  },
  {
   "cell_type": "markdown",
   "id": "536979e9",
   "metadata": {},
   "source": [
    "### read the anndata (h5ad) file"
   ]
  },
  {
   "cell_type": "code",
   "execution_count": null,
   "id": "f47a24f8",
   "metadata": {},
   "outputs": [],
   "source": [
    "%%time\n",
    "adata = sc.read(in_file, cache=True)\n",
    "print(adata)"
   ]
  },
  {
   "cell_type": "markdown",
   "id": "6b9686a5-7035-45dc-b027-b144c9b63589",
   "metadata": {},
   "source": [
    "### get the lists of brain regions and broad cell types\n",
    "don't include broad cell-type 'Other'"
   ]
  },
  {
   "cell_type": "code",
   "execution_count": null,
   "id": "a38086b3-7859-4d07-bf39-76923500b004",
   "metadata": {},
   "outputs": [],
   "source": [
    "broad_cell_types = list(adata.obs.broad_celltype.unique())\n",
    "broad_cell_types.remove('Other')\n",
    "print(len(broad_cell_types))\n",
    "print(broad_cell_types)\n",
    "brain_regions = list(adata.obs.Brain_region.unique())\n",
    "print(len(brain_regions))\n",
    "print(brain_regions)"
   ]
  },
  {
   "cell_type": "markdown",
   "id": "66d25458",
   "metadata": {},
   "source": [
    "#### take a look at the cell counts by cell type per brain region"
   ]
  },
  {
   "cell_type": "code",
   "execution_count": null,
   "id": "c8fc4846",
   "metadata": {},
   "outputs": [],
   "source": [
    "for brain_region in brain_regions:\n",
    "    this_adata = adata[adata.obs.Brain_region == brain_region]\n",
    "    print(f'--- {brain_region} ---')\n",
    "    display(this_adata.obs.broad_celltype.value_counts())"
   ]
  },
  {
   "cell_type": "markdown",
   "id": "ab254acd",
   "metadata": {},
   "source": [
    "#### get sample counts per age group by cell-type per brain regions"
   ]
  },
  {
   "cell_type": "code",
   "execution_count": null,
   "id": "aea5c521",
   "metadata": {},
   "outputs": [],
   "source": [
    "for brain_region in brain_regions:\n",
    "    for cell_type in broad_cell_types:\n",
    "        this_adata = adata[(adata.obs.Brain_region == brain_region) & \n",
    "                           (adata.obs.broad_celltype == cell_type)]\n",
    "        print(f'--- {brain_region}:{cell_type} ---')\n",
    "        print(this_adata.obs.groupby(['Age_group'])['Sample_id'].nunique())\n",
    "        print(this_adata.obs.Age_group.value_counts())\n",
    "        print(this_adata.obs.shape)"
   ]
  },
  {
   "cell_type": "code",
   "execution_count": null,
   "id": "3f2f8b67",
   "metadata": {},
   "outputs": [],
   "source": [
    "sc.pl.umap(adata, color=['broad_celltype'], legend_loc='on data')"
   ]
  },
  {
   "cell_type": "markdown",
   "id": "098bdc24",
   "metadata": {},
   "source": [
    "### find cell-types we won't use in analysis\n",
    "remove them, and then refilter genes based on cell count"
   ]
  },
  {
   "cell_type": "code",
   "execution_count": null,
   "id": "1fea0e5f",
   "metadata": {},
   "outputs": [],
   "source": [
    "found_uncertain = [x for x in adata.obs[celltype_obs_feature].unique().to_list() \n",
    "                   if 'uncertain' in x] + ['Astrocyte-GFAP-Hi']\n",
    "print(found_uncertain)\n",
    "adata = adata[~adata.obs[celltype_obs_feature].isin(found_uncertain ), :]\n",
    "sc.pp.filter_genes(adata, min_cells=min_cell_count)\n",
    "print(adata)"
   ]
  },
  {
   "cell_type": "markdown",
   "id": "ab12be13",
   "metadata": {},
   "source": [
    "### if testing notebooks for debugging purpose subset the features"
   ]
  },
  {
   "cell_type": "code",
   "execution_count": null,
   "id": "da30cb87",
   "metadata": {},
   "outputs": [],
   "source": [
    "if testing:\n",
    "    genes = random.sample(list(adata.var.index.values), testing_sample_size)\n",
    "    adata = adata[:,genes]\n",
    "    print(adata)"
   ]
  },
  {
   "cell_type": "markdown",
   "id": "eeeaa29a",
   "metadata": {},
   "source": [
    "### compute/prep for the differential expression info"
   ]
  },
  {
   "cell_type": "code",
   "execution_count": null,
   "id": "078b8497",
   "metadata": {},
   "outputs": [],
   "source": [
    "%%time\n",
    "cmds = []\n",
    "fs_list = []\n",
    "for brain_region in brain_regions:\n",
    "    for cell_type in broad_cell_types:\n",
    "        cmds.append(diffexp_group(adata, brain_region, cell_type, 'broad_celltype', verbose=DEBUG))\n",
    "#         with concurrent.futures.ProcessPoolExecutor() as ppe:\n",
    "#              fs_list.append(ppe.submit(diffexp_group, adata, brain_region, cell_type, 'broad_celltype'))\n",
    "# for future in concurrent.futures.as_completed(fs_list):\n",
    "#     cmds.append(future.result())"
   ]
  },
  {
   "cell_type": "code",
   "execution_count": null,
   "id": "d08d5b03",
   "metadata": {},
   "outputs": [],
   "source": [
    "for cmd in cmds:\n",
    "    print(cmd)"
   ]
  },
  {
   "cell_type": "code",
   "execution_count": null,
   "id": "dfaf7613",
   "metadata": {},
   "outputs": [],
   "source": [
    "!date"
   ]
  },
  {
   "cell_type": "code",
   "execution_count": null,
   "id": "90c926f6",
   "metadata": {},
   "outputs": [],
   "source": []
  }
 ],
 "metadata": {
  "environment": {
   "kernel": "python3",
   "name": "pytorch-gpu.1-13.m107",
   "type": "gcloud",
   "uri": "gcr.io/deeplearning-platform-release/pytorch-gpu.1-13:m107"
  },
  "kernelspec": {
   "display_name": "Python 3",
   "language": "python",
   "name": "python3"
  },
  "language_info": {
   "codemirror_mode": {
    "name": "ipython",
    "version": 3
   },
   "file_extension": ".py",
   "mimetype": "text/x-python",
   "name": "python",
   "nbconvert_exporter": "python",
   "pygments_lexer": "ipython3",
   "version": "3.7.12"
  }
 },
 "nbformat": 4,
 "nbformat_minor": 5
}
