{
 "cells": [
  {
   "cell_type": "markdown",
   "id": "cd0438eb-a37a-4235-88fe-67263098813a",
   "metadata": {},
   "source": [
    "## Compare results from replication analysis against the discovery data\n",
    "\n",
    "- compare the replication frontal cortex broad cell-type results against the discovery non-region specific broad cell-types and the discovery region specific broad cell-types\n",
    "- use regression to model the effect coeffecients and score between the replication and discovery"
   ]
  },
  {
   "cell_type": "code",
   "execution_count": null,
   "id": "cfe3c804-8f83-46d9-a0ea-0ba6ab0432b7",
   "metadata": {},
   "outputs": [],
   "source": [
    "!date"
   ]
  },
  {
   "cell_type": "markdown",
   "id": "867097fe-47e5-48e9-8e5d-551c61e32e0b",
   "metadata": {},
   "source": [
    "#### import libraries"
   ]
  },
  {
   "cell_type": "code",
   "execution_count": null,
   "id": "a23dc230-7dbc-4d32-9bde-4946cb18a95d",
   "metadata": {},
   "outputs": [],
   "source": [
    "from pandas import read_csv, DataFrame, concat\n",
    "from numpy import corrcoef\n",
    "from seaborn import heatmap, lmplot, set_theme as sns_set_theme\n",
    "import statsmodels.api as sm\n",
    "import matplotlib.pyplot as plt\n",
    "from matplotlib.pyplot import rc_context"
   ]
  },
  {
   "cell_type": "markdown",
   "id": "94c0b2ef-6ce8-425e-8f5a-b8d03542fab1",
   "metadata": {},
   "source": [
    "#### set notebook variables"
   ]
  },
  {
   "cell_type": "code",
   "execution_count": null,
   "id": "806791a4-1561-4738-82f5-5495efe44559",
   "metadata": {},
   "outputs": [],
   "source": [
    "# parameters\n",
    "project = 'aging_phase1'\n",
    "set_name = f'{project}_replication'\n",
    "cohort = 'aging'\n",
    "\n",
    "# directories for initial setup\n",
    "wrk_dir = '/home/jupyter/brain_aging_phase1'\n",
    "results_dir = f'{wrk_dir}/results'\n",
    "replication_dir = f'{wrk_dir}/replication'\n",
    "\n",
    "# in files\n",
    "discovery_results_file = f'{results_dir}/{cohort}.glmmtmb_age_diffs.csv'\n",
    "replication_results_file = f'{replication_dir}/{set_name}.glmmtmb_age_diffs.csv'\n",
    "\n",
    "# out files\n",
    "\n",
    "\n",
    "# constants\n",
    "DEBUG = True\n",
    "DISC_REGIONS = ['Entorhinal cortex', 'Middle temporal gyrus', \n",
    "                'Putamen', 'Subventricular zone']\n",
    "DISC_CELLTYPES=['Astrocyte', 'Endothelial', 'Ependymal', 'ExN', 'InN', \n",
    "                'Microglia', 'Mural', 'Oligodendrocyte', 'OPC', 'SPN']\n",
    "REP_REGION = 'Frontal cortex'\n",
    "cell_abbr_mappings = {'ExN': 'ExN', 'Oligodendrocyte': 'Oligo', 'Astrocyte': 'Astro', \n",
    "                      'InN': 'InN', 'OPC': 'OPC', 'Microglia': 'Micro', 'Endothelial': 'Endo'}\n",
    "\n",
    "\n",
    "sns_set_theme(style='white', palette='Paired', font_scale=1.2)"
   ]
  },
  {
   "cell_type": "markdown",
   "id": "4e6833a9-4b55-4bd2-909d-af70378bdc40",
   "metadata": {},
   "source": [
    "### load the results"
   ]
  },
  {
   "cell_type": "markdown",
   "id": "98d2c1e4-238c-434e-8aac-615c119866ef",
   "metadata": {},
   "source": [
    "#### load the discovery results"
   ]
  },
  {
   "cell_type": "code",
   "execution_count": null,
   "id": "ec059f43-ce3c-4511-8ff2-91e02d4099b5",
   "metadata": {},
   "outputs": [],
   "source": [
    "disc_df = read_csv(discovery_results_file)\n",
    "print(f'shape of discovery results {disc_df.shape}')\n",
    "if DEBUG:\n",
    "    display(disc_df.sample(5))"
   ]
  },
  {
   "cell_type": "markdown",
   "id": "fb35c199-a246-4075-8345-c8da5d49c3de",
   "metadata": {},
   "source": [
    "##### what type of analysis results are present"
   ]
  },
  {
   "cell_type": "code",
   "execution_count": null,
   "id": "53e1a88a-ddc6-4947-a0aa-a96de2fff165",
   "metadata": {},
   "outputs": [],
   "source": [
    "for result_type in disc_df.type.unique():\n",
    "    print(result_type)\n",
    "    print(disc_df.loc[disc_df.type == result_type].tissue.unique())"
   ]
  },
  {
   "cell_type": "markdown",
   "id": "c061bf1a-d6e5-417e-a59a-3f85d50148c6",
   "metadata": {},
   "source": [
    "##### drop the cluster specific cell-types from discovery result\n",
    "the replication only used broad cell-types"
   ]
  },
  {
   "cell_type": "code",
   "execution_count": null,
   "id": "71e6101e-5ba9-4d3c-a8b9-57aa9219c9aa",
   "metadata": {},
   "outputs": [],
   "source": [
    "disc_df = disc_df.loc[disc_df.type != 'specific_celltype']\n",
    "print(f'new shape of discovery results {disc_df.shape}')\n",
    "if DEBUG:\n",
    "    display(disc_df.sample(5))\n",
    "display(disc_df.type.value_counts())    "
   ]
  },
  {
   "cell_type": "markdown",
   "id": "9f2c97d9-309e-4a8a-afed-4e8ec0dd0d91",
   "metadata": {},
   "source": [
    "#### load the replication results"
   ]
  },
  {
   "cell_type": "code",
   "execution_count": null,
   "id": "a8d114a0-ae33-4a06-ae74-d41530d9c8ce",
   "metadata": {},
   "outputs": [],
   "source": [
    "rep_df = read_csv(replication_results_file)\n",
    "print(f'shape of replication results {rep_df.shape}')\n",
    "if DEBUG:\n",
    "    display(rep_df.sample(5))"
   ]
  },
  {
   "cell_type": "markdown",
   "id": "1c75a7f3-cb26-4487-b6be-e1f1c814e917",
   "metadata": {},
   "source": [
    "##### what type of analysis results are present"
   ]
  },
  {
   "cell_type": "code",
   "execution_count": null,
   "id": "21243dab-ba1b-43b1-a11c-f6fb53b8a655",
   "metadata": {},
   "outputs": [],
   "source": [
    "for result_type in rep_df.type.unique():\n",
    "    print(result_type)\n",
    "    print(rep_df.loc[rep_df.type == result_type].tissue.unique())"
   ]
  },
  {
   "cell_type": "markdown",
   "id": "648d292b-816d-4d70-9f13-28f0e5333dff",
   "metadata": {},
   "source": [
    "### check all replication and discovary tissue pairings by FDR"
   ]
  },
  {
   "cell_type": "code",
   "execution_count": null,
   "id": "99b64ae0-3c65-4cb3-87cc-23d963db1562",
   "metadata": {},
   "outputs": [],
   "source": [
    "fdr_intersects = []\n",
    "for disc_tissue in disc_df.tissue.unique():\n",
    "    disc_tissue_sig = disc_df.loc[(disc_df.tissue == disc_tissue) & (disc_df.fdr_bh < 0.05)]\n",
    "    for rep_tissue in rep_df.tissue.unique():\n",
    "        rep_tissue_sig = rep_df.loc[(rep_df.tissue == rep_tissue) & (rep_df.fdr_bh < 0.05)]\n",
    "        shared_cnt = len(set(disc_tissue_sig.feature) & set(rep_tissue_sig.feature))\n",
    "        percent_shared = (shared_cnt/disc_tissue_sig.shape[0])*100\n",
    "        # if DEBUG:\n",
    "        #     print(f'{disc_tissue} : {rep_tissue} = {percent_shared:.3f}%')\n",
    "        fdr_intersects.append((disc_tissue, rep_tissue, percent_shared))\n",
    "fdr_results_df = DataFrame(fdr_intersects, columns=['discover', 'replication', 'percent'])\n",
    "print(f'shape of FDR intersects data frame is {fdr_results_df.shape}')\n",
    "if DEBUG:\n",
    "    print(f'fdr instersects has {len(fdr_intersects)} items')\n",
    "    display(fdr_intersects[:5])    \n",
    "    display(fdr_results_df.head())\n",
    "    display(fdr_results_df.sort_values('percent', ascending=False).head(20))"
   ]
  },
  {
   "cell_type": "markdown",
   "id": "181939ef-b5c1-47f3-996f-1c7e490a301a",
   "metadata": {},
   "source": [
    "### reformat results for running regressions"
   ]
  },
  {
   "cell_type": "code",
   "execution_count": null,
   "id": "5a681a6c-78e4-4dea-9e50-82f1af8ec42d",
   "metadata": {},
   "outputs": [],
   "source": [
    "def metric_pivot_df(df: DataFrame, metric: str, verbose: bool=False) -> DataFrame:\n",
    "    ret_df = df.pivot(index='tissue', columns='feature', values=metric)\n",
    "    print(f'shape of coefficients dataframe {ret_df.shape}')\n",
    "    if verbose:\n",
    "        display(ret_df.head())    \n",
    "    return ret_df\n",
    "\n",
    "def combine_metric_pivot_df(df1: DataFrame, df2: DataFrame, metric: str, \n",
    "                            fill_value: int=0, verbose: bool=False) -> DataFrame:\n",
    "    m_df1 = metric_pivot_df(df1, metric)\n",
    "    m_df2  = metric_pivot_df(df2, metric)\n",
    "    ret_df = concat([m_df1, m_df2])\n",
    "    # is coefficient is missing, assume no effect and set to fill_value\n",
    "    # ret_df = ret_df.fillna(fill_value)        \n",
    "    print(f'shape of coefficients dataframe for combined {ret_df.shape}')\n",
    "    if verbose:\n",
    "        display(coef_df.head())\n",
    "    return ret_df"
   ]
  },
  {
   "cell_type": "code",
   "execution_count": null,
   "id": "6d5bc2a3-f760-42d2-bb46-2b30d43b4ae1",
   "metadata": {},
   "outputs": [],
   "source": [
    "# fill missing p-values with non-significance, ie 1\n",
    "pvalues_df = combine_metric_pivot_df(disc_df, rep_df, 'p.value', fill_value=1)\n",
    "# fill missing effects with no-effect, ie 0\n",
    "coef_df  = combine_metric_pivot_df(disc_df, rep_df, 'estimate', fill_value=0)\n",
    "scores_df = combine_metric_pivot_df(disc_df, rep_df, 'statistic', fill_value=0)"
   ]
  },
  {
   "cell_type": "markdown",
   "id": "c5c6fdcb-7a40-41e8-94ef-7734331ef6d9",
   "metadata": {},
   "source": [
    "### visualize correlations between result sets"
   ]
  },
  {
   "cell_type": "code",
   "execution_count": null,
   "id": "0fe120e2-8d4f-46d0-8ffb-b25be11d22ae",
   "metadata": {},
   "outputs": [],
   "source": [
    "def format_corr_df(df: DataFrame, verbose: bool=False) -> DataFrame:\n",
    "    ret_df = DataFrame(corrcoef(df), columns=coef_df.index.values, index=df.index)\n",
    "    ret_df = ret_df[~ret_df.columns.str.startswith('Frontal')]\n",
    "    ret_df = ret_df.loc[:,ret_df.columns.str.startswith('Frontal')]\n",
    "    print(f'shape of return dataframe {ret_df.shape}')\n",
    "    if verbose:\n",
    "        display(ret_df.head())\n",
    "    return ret_df\n",
    "        \n",
    "def get_desired_index_order(df: DataFrame, verbose: bool=False) -> list:\n",
    "    new_index_order = []\n",
    "    for celltype in DISC_CELLTYPES:\n",
    "        new_index_order.append(celltype)\n",
    "        for region in DISC_REGIONS:\n",
    "            this_tissue = f'{region} {celltype}'\n",
    "            if df.tissue.str.contains(this_tissue).any():\n",
    "                new_index_order.append(this_tissue)\n",
    "    if verbose:\n",
    "        print(new_index_order)\n",
    "        # check nothing diff\n",
    "        print(set(new_index_order) ^ set(temp.index))\n",
    "    return new_index_order\n",
    "        \n",
    "def visualize_correlations(df: DataFrame, ordered_list: list, \n",
    "                           metric: str, corr_min: float=0.3):\n",
    "    with rc_context({'figure.figsize': (18, 18)}):\n",
    "        ax = heatmap(data=df.reindex(ordered_list), linecolor='white', \n",
    "                     linewidth=0.2, cmap='Purples', annot=True)\n",
    "        # Filter the annotations based on a threshold\n",
    "        for text in ax.texts:\n",
    "            if float(text.get_text()) < corr_min:  # Set your threshold here\n",
    "                text.set_text('')  # Hide the annotation if the value is less than the threshold\n",
    "        plt.title(f'Correlation between Discovery and Replication {metric}', fontsize=18, fontweight='bold')\n",
    "        plt.xlabel('Repliation cell-types')\n",
    "        plt.ylabel('Discovery cell-types')    \n",
    "        # Display the heatmap\n",
    "        plt.show()        "
   ]
  },
  {
   "cell_type": "code",
   "execution_count": null,
   "id": "8427af00-f2a6-4009-9053-6a1e835130b3",
   "metadata": {},
   "outputs": [],
   "source": [
    "index_order = get_desired_index_order(disc_df)\n",
    "# for p-values\n",
    "corr_df = format_corr_df(pvalues_df.fillna(1))\n",
    "visualize_correlations(corr_df, index_order, 'p-values')\n",
    "# for coefficients\n",
    "corr_df = format_corr_df(coef_df.fillna(0))\n",
    "visualize_correlations(corr_df, index_order, 'coefficients', corr_min=0.2)\n",
    "# for test statistic\n",
    "corr_df = format_corr_df(scores_df.fillna(0))\n",
    "visualize_correlations(corr_df, index_order, 'score', corr_min=0.2)"
   ]
  },
  {
   "cell_type": "markdown",
   "id": "dfc9e5b7-e4dd-410b-8680-86cf77cd85c1",
   "metadata": {},
   "source": [
    "### model comparisons of results using GLM"
   ]
  },
  {
   "cell_type": "code",
   "execution_count": null,
   "id": "5eb268a5-3218-4acd-a370-90a92d5bbb90",
   "metadata": {},
   "outputs": [],
   "source": [
    "%%time\n",
    "modeling_results = []\n",
    "# for each discovery and replication broad cell-type pairing\n",
    "for disc_tissue in index_order:\n",
    "    for rep_tissue in scores_df.loc[scores_df.index.str.startswith('Frontal')].index.unique():\n",
    "    # for rep_tissue in coef_df.loc[coef_df.index.str.startswith('Frontal')].index.unique():\n",
    "        endo_term = disc_tissue\n",
    "        exog_term = rep_tissue\n",
    "        # print(endo_term, exog_term)        \n",
    "        # get the features that were tested in discovery for cell-type\n",
    "        disc_endo = disc_df.loc[(disc_df.tissue == endo_term) & (disc_df.fdr_bh < 0.05)]\n",
    "        disc_endo = disc_df.loc[(disc_df.tissue == endo_term)]        \n",
    "        # subset the regression coeficients for all those features\n",
    "        metric_df = scores_df[disc_endo.feature]\n",
    "        # metric_df = coef_df[disc_endo.feature]        \n",
    "        # get the regression coefficients from those features for the cell-types being compared\n",
    "        model_in_df = DataFrame(data=[metric_df.loc[exog_term], metric_df.loc[endo_term]]).T\n",
    "        model_in_df = model_in_df.dropna()\n",
    "        # model_in_df = model_in_df.fillna(0)\n",
    "        # compare the results via GLM or OLS\n",
    "        X_exog = sm.add_constant(model_in_df[exog_term])\n",
    "        model = sm.GLM(model_in_df[endo_term], X_exog)\n",
    "        model = sm.OLS(model_in_df[endo_term], X_exog)        \n",
    "        results = model.fit()\n",
    "        # print(results.summary())\n",
    "        # print(f'coef: {results.params[exog_term]}, p-value {results.pvalues[exog_term]}')        \n",
    "        modeling_results.append((endo_term, exog_term, results.params[exog_term], \n",
    "                                 results.pvalues[exog_term], results.rsquared_adj, \n",
    "                                 results.tvalues[exog_term]))"
   ]
  },
  {
   "cell_type": "code",
   "execution_count": null,
   "id": "39aaef33-1b6b-477b-80ed-a5dac6fb0b9d",
   "metadata": {},
   "outputs": [],
   "source": [
    "modeling_results_df = DataFrame(modeling_results, columns=['discovery', 'replication', \n",
    "                                                           'coefficient', 'p-value', \n",
    "                                                           'adj_r2', 'score'])\n",
    "print(f'shape of modeling results data frame is {modeling_results_df.shape}')\n",
    "if DEBUG:\n",
    "    print(f'modeling results has {len(modeling_results)} items')\n",
    "    display(modeling_results[:5])    \n",
    "    display(modeling_results_df.head())\n",
    "    display(modeling_results_df.sort_values('coefficient', ascending=False).head(20))\n",
    "    display(modeling_results_df.sort_values('adj_r2', ascending=False).head(20))\n",
    "    display(modeling_results_df.sort_values('score', ascending=False).head(20))    "
   ]
  },
  {
   "cell_type": "markdown",
   "id": "ec0f5f1d-f3cc-4744-ba72-2203270e233a",
   "metadata": {},
   "source": [
    "#### visualize top result by adjusted R-squared"
   ]
  },
  {
   "cell_type": "code",
   "execution_count": null,
   "id": "7f1a7dff-4bc5-40db-9d2d-e0eccad82113",
   "metadata": {},
   "outputs": [],
   "source": [
    "top_r2 = modeling_results_df.loc[modeling_results_df.adj_r2 == modeling_results_df.adj_r2.max()]\n",
    "endo_term = top_r2.discovery.values[0]\n",
    "exog_term = top_r2.replication.values[0]\n",
    "print(endo_term, exog_term)\n",
    "display(top_r2)\n",
    "# get the features that were tested in discovery for cell-type\n",
    "disc_endo = disc_df.loc[(disc_df.tissue == endo_term)]\n",
    "# subset the regression coeficients for all those features\n",
    "metric_df = coef_df[disc_endo.feature]\n",
    "# get the regression coefficients from those features for the cell-types being compared\n",
    "model_in_df = DataFrame(data=[metric_df.loc[exog_term], metric_df.loc[endo_term]]).T\n",
    "model_in_df = model_in_df.dropna()\n",
    "with rc_context({'figure.figsize': (9, 9)}):\n",
    "    lmplot(data=model_in_df, x=endo_term, y=exog_term)"
   ]
  },
  {
   "cell_type": "markdown",
   "id": "98487c67-1352-4cfd-8572-a5040b4cfb11",
   "metadata": {},
   "source": [
    "### visualize modeling results as heatmap"
   ]
  },
  {
   "cell_type": "code",
   "execution_count": null,
   "id": "1c3161a5-ed26-48b6-974f-8771867c417c",
   "metadata": {},
   "outputs": [],
   "source": [
    "modeling_corr_df = modeling_results_df.pivot(index='discovery', columns='replication', values='adj_r2')\n",
    "print(modeling_corr_df.shape)\n",
    "if DEBUG:\n",
    "    display(modeling_corr_df.head())\n",
    "visualize_correlations(modeling_corr_df, index_order, 'OLS modeling Adj R2', corr_min=0.05)"
   ]
  },
  {
   "cell_type": "code",
   "execution_count": null,
   "id": "2e3c5242-1fea-42f8-b691-2979b60a331c",
   "metadata": {},
   "outputs": [],
   "source": [
    "modeling_corr_df = modeling_results_df.pivot(index='discovery', columns='replication', values='p-value')\n",
    "print(modeling_corr_df.shape)\n",
    "# since p-value log scale\n",
    "from numpy import log10\n",
    "modeling_corr_df = -log10(modeling_corr_df).round(0)\n",
    "if DEBUG:\n",
    "    display(modeling_corr_df.head())\n",
    "visualize_correlations(modeling_corr_df, index_order, 'OLS modeling -log10(p-value)', corr_min=3)"
   ]
  },
  {
   "cell_type": "code",
   "execution_count": null,
   "id": "756ee28e-fb0c-46b2-b4b8-5118f151d6f5",
   "metadata": {},
   "outputs": [],
   "source": [
    "modeling_corr_df = modeling_results_df.pivot(index='discovery', columns='replication', values='coefficient')\n",
    "print(modeling_corr_df.shape)\n",
    "if DEBUG:\n",
    "    display(modeling_corr_df.head())\n",
    "visualize_correlations(modeling_corr_df, index_order, 'OLS modeling coefficient', corr_min=0.2)"
   ]
  },
  {
   "cell_type": "code",
   "execution_count": null,
   "id": "c0b26ec6-78e7-4d37-8572-492142392c33",
   "metadata": {},
   "outputs": [],
   "source": [
    "modeling_corr_df = modeling_results_df.pivot(index='discovery', columns='replication', values='score')\n",
    "print(modeling_corr_df.shape)\n",
    "if DEBUG:\n",
    "    display(modeling_corr_df.head())\n",
    "visualize_correlations(modeling_corr_df, index_order, 'OLS modeling score', corr_min=2)"
   ]
  },
  {
   "cell_type": "code",
   "execution_count": null,
   "id": "db6758a7-5464-47d6-affa-70a15f8fbac9",
   "metadata": {},
   "outputs": [],
   "source": [
    "!date"
   ]
  }
 ],
 "metadata": {
  "environment": {
   "kernel": "python3",
   "name": "pytorch-gpu.1-13.m107",
   "type": "gcloud",
   "uri": "gcr.io/deeplearning-platform-release/pytorch-gpu.1-13:m107"
  },
  "kernelspec": {
   "display_name": "Python 3",
   "language": "python",
   "name": "python3"
  },
  "language_info": {
   "codemirror_mode": {
    "name": "ipython",
    "version": 3
   },
   "file_extension": ".py",
   "mimetype": "text/x-python",
   "name": "python",
   "nbconvert_exporter": "python",
   "pygments_lexer": "ipython3",
   "version": "3.7.12"
  }
 },
 "nbformat": 4,
 "nbformat_minor": 5
}
