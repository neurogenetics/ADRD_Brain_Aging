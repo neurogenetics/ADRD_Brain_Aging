{
 "cells": [
  {
   "cell_type": "markdown",
   "id": "6e241864",
   "metadata": {},
   "source": [
    "## Notebook to run post processing of differential expression in single-cell data using glmmTMB for the replication cohort data\n",
    "\n",
    "basically \n",
    "- read glmmTMB r script results per region and cell-type and then integrate them\n",
    "- apply B&H FDR \n",
    "- take a look at overlap between brain regions and cell-types do some sample plotting\n",
    "- this is a reduced copy of the discovery cohort post processing"
   ]
  },
  {
   "cell_type": "code",
   "execution_count": null,
   "id": "05953172",
   "metadata": {},
   "outputs": [],
   "source": [
    "!date"
   ]
  },
  {
   "cell_type": "markdown",
   "id": "919194a5",
   "metadata": {},
   "source": [
    "#### import libraries"
   ]
  },
  {
   "cell_type": "code",
   "execution_count": null,
   "id": "b231e3e9",
   "metadata": {},
   "outputs": [],
   "source": [
    "from anndata import AnnData\n",
    "import numpy as np\n",
    "import pandas as pd\n",
    "import scanpy as sc\n",
    "from statsmodels.stats.multitest import multipletests\n",
    "import matplotlib.pyplot as plt\n",
    "import seaborn as sns\n",
    "from matplotlib.pyplot import rc_context\n",
    "import json\n",
    "from os.path import exists\n",
    "\n",
    "import warnings\n",
    "warnings.simplefilter('ignore')\n",
    "\n",
    "import random\n",
    "random.seed(420)"
   ]
  },
  {
   "cell_type": "markdown",
   "id": "34a4c3fb-3257-4874-9887-b45997146311",
   "metadata": {},
   "source": [
    "#### set notebook variables"
   ]
  },
  {
   "cell_type": "code",
   "execution_count": null,
   "id": "1fcd65c7",
   "metadata": {},
   "outputs": [],
   "source": [
    "# parameters\n",
    "project = 'aging_phase1'\n",
    "set_name = f'{project}_replication'\n",
    "cohort = 'aging'\n",
    "\n",
    "# directories for initial setup\n",
    "wrk_dir = '/home/jupyter/brain_aging_phase1'\n",
    "replication_dir = f'{wrk_dir}/replication'\n",
    "\n",
    "# in files\n",
    "anndata_file = f'{replication_dir}/{set_name}.full.h5ad'\n",
    "temp_name_remap_json = '{this_dir}/{name}_gene_name_remap_temp.csv'\n",
    "temp_r_out_file = '{this_dir}/{chrt}.{name}_glmmtmb_results_temp.csv'\n",
    "\n",
    "# out files\n",
    "results_file = f'{replication_dir}/{set_name}.glmmtmb_age_diffs.csv'\n",
    "results_fdr_file = f'{replication_dir}/{set_name}.glmmtmb_age_diffs_fdr.csv'\n",
    "\n",
    "# constants\n",
    "DEBUG = True\n",
    "min_cell_count = 3\n",
    "young_age_limit = 30.0\n",
    "\n",
    "\n",
    "sns.set_theme(style='white', palette='Paired', font_scale=1.2)\n",
    "\n",
    "# allow for more rows in output\n",
    "prev_default = pd.get_option('max_rows')\n",
    "pd.set_option('max_rows', 2000)    \n",
    "# # restore default setting\n",
    "# pd.set_option('max_rows',prev_default)"
   ]
  },
  {
   "cell_type": "markdown",
   "id": "27e2eebb",
   "metadata": {},
   "source": [
    "#### analysis functions"
   ]
  },
  {
   "cell_type": "code",
   "execution_count": null,
   "id": "f2ee2882",
   "metadata": {},
   "outputs": [],
   "source": [
    "def read_feature_renamed_map(group_name: str) -> dict:\n",
    "    # read dict from json file\n",
    "    rename_cols = json.load(open(temp_name_remap_json.format(this_dir=replication_dir,\n",
    "                                                             name=group_name.replace(\" \", \"_\"))))\n",
    "    return rename_cols\n",
    "\n",
    "def reformat_glmmtmb_df(df: pd.DataFrame) -> pd.DataFrame:\n",
    "    # reformat results into one row per feature\n",
    "    temp_term = df.loc[df['term'] == 'old'].copy()\n",
    "    temp_intercepts = df.loc[df['term'] == '(Intercept)', ['feature', 'estimate']].copy()\n",
    "    temp_intercepts = temp_intercepts.rename(columns={'estimate': 'intercept'})\n",
    "    this_df = temp_term.merge(temp_intercepts, how='inner', on='feature')\n",
    "    return this_df[['feature', 'intercept', 'estimate', 'std.error', 'statistic', 'p.value']]\n",
    "\n",
    "def read_glmmtmb_results(group_name: str, group_type: str, cols_to_rename: dict) -> pd.DataFrame:\n",
    "    this_file = temp_r_out_file.format(this_dir=replication_dir, chrt=cohort, \n",
    "                                       name=group_name.replace(\" \", \"_\"))\n",
    "    if exists(this_file):\n",
    "        this_df = pd.read_csv(this_file)\n",
    "        # need to flip the features with '-' -> '_' for R back to originals\n",
    "        # the the key/values\n",
    "        rename_cols = {value: key for (key, value) in cols_to_rename.items()}\n",
    "        this_df['feature'] = this_df['feature'].replace(rename_cols)\n",
    "        this_df = reformat_glmmtmb_df(this_df)\n",
    "        this_df['tissue'] = group_name\n",
    "        this_df['type'] = group_type     \n",
    "    else:\n",
    "        this_df = None\n",
    "    return this_df\n",
    "\n",
    "def compute_bh_fdr(df: pd.DataFrame, alpha: float=0.05, p_col: str='p.value',\n",
    "                   method: str='fdr_bh', verbose: bool=True) -> pd.DataFrame:\n",
    "    ret_df = df.copy()\n",
    "    test_adjust = multipletests(np.array(ret_df[p_col]), alpha=alpha, \n",
    "                                method=method)\n",
    "    ret_df[method] = test_adjust[1]\n",
    "    if verbose:\n",
    "        print(f'total significant after correction: {ret_df.loc[ret_df[method] < alpha].shape}')\n",
    "    return ret_df\n",
    "\n",
    "def plot_feature_by_age_group(df: pd.DataFrame, x_term: str, y_term: str):\n",
    "    plt.figure(figsize=(9,9))\n",
    "    sns.boxenplot(x=x_term,y=y_term, scale='exponential', data=df,\n",
    "                  k_depth='trustworthy')\n",
    "\n",
    "    grsplt = sns.stripplot(x=x_term,y=y_term, data=df, alpha=0.75,\n",
    "                           jitter=True, color='darkgrey')\n",
    "    plt.title(f'{y_term} ~ {x_term}', fontsize='large') \n",
    "    plt.xlabel(x_term)\n",
    "    plt.ylabel(y_term)\n",
    "    plt.show()\n",
    "    \n",
    "def plot_feature_by_sample(df: pd.DataFrame, x_term: str, y_term: str):\n",
    "    # set up order by young then old\n",
    "    temp = df.groupby('Age_group')['Sample_ID'].unique()\n",
    "    this_list = temp['young'].to_list() + temp['old'].to_list()    \n",
    "    plt.figure(figsize=(9,9))\n",
    "    sns.boxenplot(x='Sample_ID',y=y_term, scale='exponential', data=df,\n",
    "                  k_depth='trustworthy', hue=x_term, order=this_list)\n",
    "    grsplt = sns.stripplot(x='Sample_ID',y=y_term, data=df, alpha=0.75,\n",
    "                           jitter=True, color='darkgrey', order=this_list)\n",
    "    plt.xticks(rotation=75)\n",
    "    plt.title(f'{y_term} ~ {x_term}', fontsize='large') \n",
    "    plt.xlabel('Sample')\n",
    "    plt.ylabel(y_term)\n",
    "    plt.show()    \n",
    "    \n",
    "def volcano_plot(df: pd.DataFrame, x_term: str='estimate', y_term: str='p.value', \n",
    "                 alpha: float=0.05, adj_p_col: str='fdr_bh', title: str=None, \n",
    "                 filter_nseeff: bool=True, extreme_size: float=10.0):\n",
    "    if filter_nseeff:\n",
    "        df = df.loc[((-extreme_size < df[x_term]) & \n",
    "                    (df[x_term] < extreme_size) &\n",
    "                    (~df['statistic'].isna()) | \n",
    "                    (df[adj_p_col] < alpha))]\n",
    "    plt.figure(figsize=(9,9))\n",
    "    log_pvalue = -np.log10(df[y_term])\n",
    "    is_sig = df[adj_p_col] < alpha\n",
    "    sns.scatterplot(x=x_term, y=log_pvalue, data=df, hue=is_sig)\n",
    "    plt.title(title)\n",
    "    plt.xlabel('effect')\n",
    "    plt.ylabel('-log10(p-value)')\n",
    "    plt.show()\n",
    "    \n",
    "def prep_plot_feature(data: AnnData, feature_results: pd.Series, \n",
    "                      group: str='old', filter_zeros: bool=False):\n",
    "    this_ad = subset_ad_by_type(data, feature_results.tissue, feature_results.type)\n",
    "    this_df = convert_ad_to_df(this_ad)\n",
    "    if filter_zeros:\n",
    "        this_df = this_df.loc[this_df[feature_results.feature] > 0]\n",
    "    print(feature_results)\n",
    "    sns.set_theme(style='white', palette='Paired', font_scale=1.2)\n",
    "    plot_feature_by_age_group(this_df, group, feature_results.feature)\n",
    "    plot_feature_by_sample(this_df, group, feature_results.feature)\n",
    "    \n",
    "def subset_ad_by_type(data: AnnData, group_name: str, type_name: str,\n",
    "                      reapply_filter: bool=True, min_cell_count: int=3,\n",
    "                      verbose: bool=False) -> AnnData:\n",
    "    name_parts = group_name.split(' ')\n",
    "    broad_cell_name = name_parts[len(name_parts)-1]\n",
    "    this_data = data[data.obs.Cell_type == broad_cell_name].copy()\n",
    "    shape_before = this_data.shape\n",
    "    if reapply_filter:\n",
    "        sc.pp.filter_genes(this_data, min_counts=min_cell_count)\n",
    "        sc.pp.filter_cells(this_data, min_counts=min_cell_count)\n",
    "        shape_after = this_data.shape\n",
    "    if verbose:\n",
    "        print(f'shape before and after: {shape_before} {shape_after}')\n",
    "        print(this_data)\n",
    "    return this_data\n",
    "\n",
    "def convert_ad_to_df(data: AnnData, young_age_limit: float=30.0, \n",
    "                     verbose: bool=False) -> pd.DataFrame:\n",
    "    data_df = data.to_df()\n",
    "    annots = data.obs[['Brain_region', 'Age', \n",
    "                       'Sample_ID', 'Sex']].copy()\n",
    "    annots['old'] = np.where((annots['Age'] > young_age_limit), 1, 0)\n",
    "    annots['Age_group'] = np.where((annots['Age'] > young_age_limit), 'old', 'young')\n",
    "    annots['female'] = np.where((annots['Sex'] == 'Female'), 1, 0)\n",
    "    this_df = None\n",
    "    if data_df.index.equals(annots.index):\n",
    "        this_df = pd.concat([data_df, annots], axis='columns')\n",
    "        if verbose:\n",
    "            print(this_df.shape)\n",
    "            display(this_df.head())\n",
    "    return this_df"
   ]
  },
  {
   "cell_type": "markdown",
   "id": "dba61b0e",
   "metadata": {},
   "source": [
    "#### read the anndata (h5ad) file"
   ]
  },
  {
   "cell_type": "code",
   "execution_count": null,
   "id": "5f74477d",
   "metadata": {},
   "outputs": [],
   "source": [
    "%%time\n",
    "adata = sc.read(anndata_file, cache=True)\n",
    "print(adata)"
   ]
  },
  {
   "cell_type": "markdown",
   "id": "6424cab6",
   "metadata": {},
   "source": [
    "#### take a look at the cell counts by cell type\n",
    "only single region and broad cell-types"
   ]
  },
  {
   "cell_type": "code",
   "execution_count": null,
   "id": "7fe3ab6c-585f-436c-a7f5-c68ad889fa06",
   "metadata": {},
   "outputs": [],
   "source": [
    "display(adata.obs.Cluster.value_counts())\n",
    "display(adata.obs.Cell_type.value_counts())"
   ]
  },
  {
   "cell_type": "markdown",
   "id": "28404dae",
   "metadata": {},
   "source": [
    "#### get sample counts per age group by counts by cell-type"
   ]
  },
  {
   "cell_type": "code",
   "execution_count": null,
   "id": "5cd69eaa",
   "metadata": {},
   "outputs": [],
   "source": [
    "adata.obs['old'] = np.where((adata.obs['Age'] > young_age_limit), 1, 0)\n",
    "adata.obs['female'] = np.where((adata.obs['Sex'] == 'Female'), 1, 0)\n",
    "display(adata.obs.groupby(['Cell_type','old'])['Sample_ID'].nunique())"
   ]
  },
  {
   "cell_type": "code",
   "execution_count": null,
   "id": "9c4af81b",
   "metadata": {},
   "outputs": [],
   "source": [
    "with rc_context({'figure.figsize': (12, 12)}):\n",
    "    sc.pl.umap(adata, color=['Cell_type'], legend_loc='on data', \n",
    "               add_outline=True, legend_fontsize=10)"
   ]
  },
  {
   "cell_type": "markdown",
   "id": "cd7d7826",
   "metadata": {},
   "source": [
    "##### find cell-types not used in analysis\n",
    "remove them, and then refilter genes based on cell count"
   ]
  },
  {
   "cell_type": "code",
   "execution_count": null,
   "id": "48bb7d74",
   "metadata": {},
   "outputs": [],
   "source": [
    "adata = adata[~adata.obs.Cell_type.isna(), :]\n",
    "sc.pp.filter_genes(adata, min_cells=min_cell_count)\n",
    "print(adata)"
   ]
  },
  {
   "cell_type": "markdown",
   "id": "65c7698d",
   "metadata": {},
   "source": [
    "### read the diff by age results by region and cell-type"
   ]
  },
  {
   "cell_type": "code",
   "execution_count": null,
   "id": "3f5715a3-3ade-4c89-9994-3e5e63804dc0",
   "metadata": {},
   "outputs": [],
   "source": [
    "%%time\n",
    "glmmtmb_results = None\n",
    "this_type = 'region_broad_celltype'\n",
    "for region in adata.obs.Brain_region.unique():\n",
    "    for broad_type in adata.obs.Cell_type.unique():\n",
    "        this_tissue = f'{region.capitalize()} {broad_type}'\n",
    "        print(this_tissue)\n",
    "        renamed_features = read_feature_renamed_map(this_tissue)\n",
    "        glmmtmb_results = pd.concat([glmmtmb_results, \n",
    "                                     read_glmmtmb_results(this_tissue, this_type,\n",
    "                                                          renamed_features)])"
   ]
  },
  {
   "cell_type": "code",
   "execution_count": null,
   "id": "55a4e6f1",
   "metadata": {},
   "outputs": [],
   "source": [
    "if DEBUG:\n",
    "    print(glmmtmb_results.shape)\n",
    "    display(glmmtmb_results.sample(5))"
   ]
  },
  {
   "cell_type": "markdown",
   "id": "e6a7d8d3-7283-4231-9aea-d72531e1402d",
   "metadata": {},
   "source": [
    "#### count of glmmTMB results by type"
   ]
  },
  {
   "cell_type": "code",
   "execution_count": null,
   "id": "a28f2117",
   "metadata": {},
   "outputs": [],
   "source": [
    "display(glmmtmb_results.groupby('type')['tissue'].value_counts())"
   ]
  },
  {
   "cell_type": "markdown",
   "id": "ace1adbe",
   "metadata": {},
   "source": [
    "#### compute the FDR values"
   ]
  },
  {
   "cell_type": "code",
   "execution_count": null,
   "id": "7f1e54e4",
   "metadata": {},
   "outputs": [],
   "source": [
    "glmmtmb_results['p.value'] = glmmtmb_results['p.value'].fillna(1)\n",
    "glmmtmb_results = compute_bh_fdr(glmmtmb_results)\n",
    "print(glmmtmb_results.shape)\n",
    "if DEBUG:\n",
    "    display(glmmtmb_results.sort_values('fdr_bh').head())"
   ]
  },
  {
   "cell_type": "markdown",
   "id": "1016f66f",
   "metadata": {},
   "source": [
    "#### count of significant genes by type for glmmTMB"
   ]
  },
  {
   "cell_type": "code",
   "execution_count": null,
   "id": "56c97dc2",
   "metadata": {},
   "outputs": [],
   "source": [
    "display(glmmtmb_results.loc[glmmtmb_results['fdr_bh'] < 0.05].groupby('type')['tissue'].value_counts())"
   ]
  },
  {
   "cell_type": "code",
   "execution_count": null,
   "id": "a7bf7083-d1d3-497c-a179-1e90f4f28917",
   "metadata": {},
   "outputs": [],
   "source": [
    "display(glmmtmb_results.loc[glmmtmb_results['p.value'] < 5e-02].groupby('type')['tissue'].value_counts())"
   ]
  },
  {
   "cell_type": "markdown",
   "id": "655447c1",
   "metadata": {},
   "source": [
    "### save the full results"
   ]
  },
  {
   "cell_type": "code",
   "execution_count": null,
   "id": "d87b9671",
   "metadata": {},
   "outputs": [],
   "source": [
    "glmmtmb_results.to_csv(results_file, index=False)"
   ]
  },
  {
   "cell_type": "markdown",
   "id": "727ac3e5",
   "metadata": {},
   "source": [
    "### save the statistically significant results"
   ]
  },
  {
   "cell_type": "code",
   "execution_count": null,
   "id": "2f9b9b40",
   "metadata": {},
   "outputs": [],
   "source": [
    "glmmtmb_results.loc[glmmtmb_results['fdr_bh'] < 0.05].to_csv(results_fdr_file, index=False)"
   ]
  },
  {
   "cell_type": "code",
   "execution_count": null,
   "id": "acdd323d",
   "metadata": {},
   "outputs": [],
   "source": [
    "if DEBUG:\n",
    "    display(glmmtmb_results.loc[glmmtmb_results['fdr_bh'] < 0.05].head())"
   ]
  },
  {
   "cell_type": "markdown",
   "id": "34f4d969",
   "metadata": {},
   "source": [
    "### visualize volcano plots"
   ]
  },
  {
   "cell_type": "code",
   "execution_count": null,
   "id": "8a68b70f",
   "metadata": {},
   "outputs": [],
   "source": [
    "print('---- all glmmTMB results ----')\n",
    "volcano_plot(glmmtmb_results)\n",
    "\n",
    "print('---- per region broad cell-type glmmTMB results ----')\n",
    "for tissue in glmmtmb_results['tissue'].unique():\n",
    "    print(f'*** {tissue} glmmTMB results ***')\n",
    "    volcano_plot(glmmtmb_results.loc[glmmtmb_results['tissue'] == tissue], title=tissue)"
   ]
  },
  {
   "cell_type": "code",
   "execution_count": null,
   "id": "9edc9242",
   "metadata": {},
   "outputs": [],
   "source": [
    "if DEBUG:\n",
    "    display(glmmtmb_results.sample(10))"
   ]
  },
  {
   "cell_type": "markdown",
   "id": "5263b732",
   "metadata": {},
   "source": [
    "### look at some of the individual results"
   ]
  },
  {
   "cell_type": "markdown",
   "id": "11c9e7c1-9a51-477a-9a7b-45d42f94a89a",
   "metadata": {},
   "source": [
    "##### max significant by p-value"
   ]
  },
  {
   "cell_type": "code",
   "execution_count": null,
   "id": "fed9aa4e",
   "metadata": {},
   "outputs": [],
   "source": [
    "this_results = glmmtmb_results.loc[glmmtmb_results['p.value'] == min(glmmtmb_results['p.value'])]\n",
    "this_hit = this_results.sort_values(by=['estimate'], ascending=False).iloc[0]\n",
    "prep_plot_feature(adata, this_hit)\n",
    "prep_plot_feature(adata, this_hit, filter_zeros=True)"
   ]
  },
  {
   "cell_type": "markdown",
   "id": "3cf71e97-de4a-4504-99d9-d855971861fa",
   "metadata": {},
   "source": [
    "##### max significant by estimate (increasing)"
   ]
  },
  {
   "cell_type": "code",
   "execution_count": null,
   "id": "cc8f79e3",
   "metadata": {},
   "outputs": [],
   "source": [
    "sig_results = glmmtmb_results.loc[glmmtmb_results['fdr_bh'] < 0.05]\n",
    "this_results = sig_results.loc[sig_results['estimate'] == max(sig_results['estimate'])]\n",
    "this_hit = this_results.sort_values(by=['estimate'], ascending=False).iloc[0]\n",
    "prep_plot_feature(adata, this_hit)\n",
    "prep_plot_feature(adata, this_hit, filter_zeros=True)"
   ]
  },
  {
   "cell_type": "markdown",
   "id": "ea766f75-ece4-4bf4-ae7f-c5ab0d88b631",
   "metadata": {},
   "source": [
    "##### random results"
   ]
  },
  {
   "cell_type": "code",
   "execution_count": null,
   "id": "a6edff5b",
   "metadata": {},
   "outputs": [],
   "source": [
    "# random\n",
    "this_hit = sig_results.sample().iloc[0]\n",
    "prep_plot_feature(adata, this_hit)\n",
    "prep_plot_feature(adata, this_hit, filter_zeros=True)"
   ]
  },
  {
   "cell_type": "markdown",
   "id": "65a0eb4b-f447-449e-9438-ae1c741af753",
   "metadata": {},
   "source": [
    "##### max non-significat by coef (increasing)"
   ]
  },
  {
   "cell_type": "code",
   "execution_count": null,
   "id": "e1a37864",
   "metadata": {},
   "outputs": [],
   "source": [
    "nonsig_results = glmmtmb_results.loc[(glmmtmb_results['fdr_bh'] > 0.05) & \n",
    "                                     (~glmmtmb_results['statistic'].isna())]\n",
    "this_results = nonsig_results.loc[nonsig_results['estimate'] == max(nonsig_results['estimate'])]\n",
    "this_hit = this_results.sort_values(by=['estimate'], ascending=True).iloc[0]\n",
    "prep_plot_feature(adata, this_hit)\n",
    "prep_plot_feature(adata, this_hit, filter_zeros=True)"
   ]
  },
  {
   "cell_type": "code",
   "execution_count": null,
   "id": "f6decf41",
   "metadata": {},
   "outputs": [],
   "source": [
    "!date"
   ]
  }
 ],
 "metadata": {
  "environment": {
   "kernel": "python3",
   "name": "pytorch-gpu.1-13.m107",
   "type": "gcloud",
   "uri": "gcr.io/deeplearning-platform-release/pytorch-gpu.1-13:m107"
  },
  "kernelspec": {
   "display_name": "Python 3",
   "language": "python",
   "name": "python3"
  },
  "language_info": {
   "codemirror_mode": {
    "name": "ipython",
    "version": 3
   },
   "file_extension": ".py",
   "mimetype": "text/x-python",
   "name": "python",
   "nbconvert_exporter": "python",
   "pygments_lexer": "ipython3",
   "version": "3.7.12"
  }
 },
 "nbformat": 4,
 "nbformat_minor": 5
}
