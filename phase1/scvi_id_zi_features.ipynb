{
 "cells": [
  {
   "cell_type": "markdown",
   "id": "319d824e",
   "metadata": {},
   "source": [
    "## Notebook to identify zero-inflated genes using scvi-tools\n",
    "\n",
    "from this example at scvi-tools [Identification of zero-inflated genes](https://docs.scvi-tools.org/en/stable/user_guide/notebooks/AutoZI_tutorial.html#)\n",
    "\n",
    "[biorxiv paper](https://www.biorxiv.org/content/10.1101/794875v2)"
   ]
  },
  {
   "cell_type": "code",
   "execution_count": 3,
   "id": "c20d9f43",
   "metadata": {},
   "outputs": [
    {
     "name": "stdout",
     "output_type": "stream",
     "text": [
      "Thu Sep 30 14:43:12 EDT 2021\n"
     ]
    }
   ],
   "source": [
    "!date"
   ]
  },
  {
   "cell_type": "markdown",
   "id": "5a61f62c",
   "metadata": {},
   "source": [
    "### Imports, data loading and preparation"
   ]
  },
  {
   "cell_type": "code",
   "execution_count": 4,
   "id": "ce2c80b7",
   "metadata": {},
   "outputs": [],
   "source": [
    "import numpy as np\n",
    "import pandas as pd\n",
    "import anndata\n",
    "\n",
    "import scanpy as sc\n",
    "import scvi"
   ]
  },
  {
   "cell_type": "code",
   "execution_count": 5,
   "id": "2a7a8f94",
   "metadata": {},
   "outputs": [],
   "source": [
    "# parameters\n",
    "cohort = 'aging'\n",
    "assay = 'RNA'\n",
    "\n",
    "# directories for initial setup\n",
    "home_dir = '/labshare/raph/datasets/adrd_neuro'\n",
    "wrk_dir = f'{home_dir}/{cohort}'\n",
    "results_dir = f'{wrk_dir}/demux'\n",
    "\n",
    "# in files\n",
    "h5ad_file = f'{results_dir}/{cohort}.pegasus.leiden_085.Age_group_young_old.h5ad'\n",
    "\n",
    "# out files\n",
    "# output_file = f'{results_dir}/{cohort}.testing.h5ad'\n",
    "# regions_out_file = f'{results_dir}/{cohort}.regions_glmm_age_diffs.csv'\n",
    "# cells_out_file = f'{results_dir}/{cohort}.celltypes_glmm_age_diffs.csv'\n"
   ]
  },
  {
   "cell_type": "markdown",
   "id": "24da33c3",
   "metadata": {},
   "source": [
    "#### load the data"
   ]
  },
  {
   "cell_type": "code",
   "execution_count": 6,
   "id": "a0c382a6",
   "metadata": {},
   "outputs": [
    {
     "name": "stdout",
     "output_type": "stream",
     "text": [
      "AnnData object with n_obs × n_vars = 167945 × 35441\n",
      "    obs: 'pool_name', 'Sample_id', 'Tissue_source', 'Brain_region', 'Clinical_diagnosis', 'Age', 'Sex', 'donor_id', 'lane_num', 'Channel', 'n_genes', 'n_counts', 'percent_mito', 'scale', 'Group', 'leiden_labels', 'anno', 'leiden_labels_085', 'new_anno', 'Age_group'\n",
      "    var: 'n_cells', 'percent_cells', 'robust', 'highly_variable_features', 'mean', 'var', 'hvf_loess', 'hvf_rank'\n",
      "    uns: 'Channels', 'Groups', 'PCs', 'W_diffmap', 'W_pca_harmony', 'c2gid', 'df_qcplot', 'diffmap_evals', 'diffmap_knn_distances', 'diffmap_knn_indices', 'genome', 'gncells', 'leiden_resolution', 'modality', 'ncells', 'norm_count', 'pca', 'pca_features', 'pca_harmony_knn_distances', 'pca_harmony_knn_indices', 'stdzn_max_value', 'stdzn_mean', 'stdzn_std'\n",
      "    obsm: 'X_diffmap', 'X_fle', 'X_pca', 'X_pca_harmony', 'X_phi', 'X_umap', 'X_umap_085'\n",
      "    varm: 'de_res', 'gmeans', 'gstds', 'means', 'partial_sum'\n"
     ]
    }
   ],
   "source": [
    "sc_quant = scvi.data.read_h5ad(h5ad_file)\n",
    "print(sc_quant)"
   ]
  },
  {
   "cell_type": "code",
   "execution_count": null,
   "id": "df7214bb",
   "metadata": {},
   "outputs": [],
   "source": [
    "# sc_quant.obs.head()"
   ]
  },
  {
   "cell_type": "code",
   "execution_count": 10,
   "id": "da354592",
   "metadata": {},
   "outputs": [
    {
     "name": "stderr",
     "output_type": "stream",
     "text": [
      "/home/gibbsr/anaconda3/lib/python3.8/site-packages/anndata/compat/__init__.py:210: FutureWarning: During AnnData slicing, found matrix at .uns['W_diffmap'] that happens to be dimensioned at n_obs×n_obs (167945×167945).\n",
      "\n",
      "These matrices should now be stored in the .obsp attribute.\n",
      "This slicing behavior will be removed in anndata 0.8.\n",
      "  warn(\n",
      "/home/gibbsr/anaconda3/lib/python3.8/site-packages/anndata/compat/__init__.py:210: FutureWarning: During AnnData slicing, found matrix at .uns['W_pca_harmony'] that happens to be dimensioned at n_obs×n_obs (167945×167945).\n",
      "\n",
      "These matrices should now be stored in the .obsp attribute.\n",
      "This slicing behavior will be removed in anndata 0.8.\n",
      "  warn(\n",
      "/home/gibbsr/anaconda3/lib/python3.8/site-packages/pandas/core/arrays/categorical.py:2630: FutureWarning: The `inplace` parameter in pandas.Categorical.remove_unused_categories is deprecated and will be removed in a future version.\n",
      "  res = method(*args, **kwargs)\n"
     ]
    },
    {
     "name": "stdout",
     "output_type": "stream",
     "text": [
      "Sampling from binomial...: 100%|██████████████████████████████████████████████████| 10000/10000 [00:01<00:00, 7757.43it/s]\n",
      "Sampling from binomial...: 100%|██████████████████████████████████████████████████| 10000/10000 [00:01<00:00, 8831.64it/s]\n",
      "Sampling from binomial...: 100%|██████████████████████████████████████████████████| 10000/10000 [00:01<00:00, 9898.58it/s]\n",
      "Sampling from binomial...: 100%|█████████████████████████████████████████████████| 10000/10000 [00:00<00:00, 10322.72it/s]\n",
      "Sampling from binomial...: 100%|██████████████████████████████████████████████████| 10000/10000 [00:01<00:00, 9749.41it/s]\n",
      "Sampling from binomial...: 100%|██████████████████████████████████████████████████| 10000/10000 [00:01<00:00, 9861.21it/s]\n",
      "\u001b[34mINFO    \u001b[0m Using batches from adata.obs\u001b[1m[\u001b[0m\u001b[32m\"pool_name\"\u001b[0m\u001b[1m]\u001b[0m                                           \n",
      "\u001b[34mINFO    \u001b[0m Using labels from adata.obs\u001b[1m[\u001b[0m\u001b[32m\"Sample_id\"\u001b[0m\u001b[1m]\u001b[0m                                            \n",
      "\u001b[34mINFO    \u001b[0m Using data from adata.layers\u001b[1m[\u001b[0m\u001b[32m\"counts\"\u001b[0m\u001b[1m]\u001b[0m                                              \n",
      "\u001b[34mINFO    \u001b[0m Computing library size prior per batch                                              \n",
      "\u001b[34mINFO    \u001b[0m Successfully registered anndata object containing \u001b[1;36m167945\u001b[0m cells, \u001b[1;36m1000\u001b[0m vars, \u001b[1;36m6\u001b[0m        \n",
      "         batches, \u001b[1;36m48\u001b[0m labels, and \u001b[1;36m0\u001b[0m proteins. Also registered \u001b[1;36m0\u001b[0m extra categorical covariates  \n",
      "         and \u001b[1;36m0\u001b[0m extra continuous covariates.                                                  \n",
      "\u001b[34mINFO    \u001b[0m Please do not further modify adata until model is trained.                          \n"
     ]
    }
   ],
   "source": [
    "sc_quant.layers[\"counts\"] = sc_quant.X.copy()\n",
    "sc.pp.normalize_total(sc_quant, target_sum=10e4)\n",
    "sc.pp.log1p(sc_quant)\n",
    "sc_quant.raw = sc_quant\n",
    "scvi.data.poisson_gene_selection(\n",
    "    sc_quant,\n",
    "    n_top_genes=1000,\n",
    "    batch_key=\"pool_name\",\n",
    "    subset=True,\n",
    "    layer=\"counts\",\n",
    ")\n",
    "scvi.data.setup_anndata(\n",
    "    sc_quant,\n",
    "    labels_key=\"Sample_id\",\n",
    "    batch_key=\"pool_name\",\n",
    "    layer=\"counts\",\n",
    ")"
   ]
  },
  {
   "cell_type": "markdown",
   "id": "bc6e3ba6",
   "metadata": {},
   "source": [
    "### Analyze gene-specific ZI\n",
    "\n",
    "In AutoZI, all ’s follow a common  prior distribution where  and the zero-inflation probability in the ZINB component is bounded below by . AutoZI is encoded by the AutoZIVAE class whose inputs, besides the size of the dataset, are  (alpha_prior),  (beta_prior),  (minimal_dropout). By default, we set .\n",
    "\n",
    "Note : we can learn  in an Empirical Bayes fashion, which is possible by setting alpha_prior = None and beta_prior = None"
   ]
  },
  {
   "cell_type": "code",
   "execution_count": 11,
   "id": "d2f1d187",
   "metadata": {},
   "outputs": [
    {
     "name": "stderr",
     "output_type": "stream",
     "text": [
      "/home/gibbsr/anaconda3/lib/python3.8/site-packages/scvi/model/base/_base_model.py:149: UserWarning: Make sure the registered X field in anndata contains unnormalized count data.\n",
      "  warnings.warn(\n"
     ]
    }
   ],
   "source": [
    "vae = scvi.model.AUTOZI(sc_quant)"
   ]
  },
  {
   "cell_type": "markdown",
   "id": "0a366152",
   "metadata": {},
   "source": [
    "We fit, for each gene , an approximate posterior distribution  (with ) on which we rely. We retrieve  for all genes  (and , if learned) as numpy arrays using the method get_alphas_betas of AutoZIVAE."
   ]
  },
  {
   "cell_type": "code",
   "execution_count": 12,
   "id": "2a6ff46a",
   "metadata": {},
   "outputs": [
    {
     "name": "stderr",
     "output_type": "stream",
     "text": [
      "GPU available: True, used: True\n",
      "TPU available: False, using: 0 TPU cores\n",
      "LOCAL_RANK: 0 - CUDA_VISIBLE_DEVICES: [0]\n"
     ]
    },
    {
     "name": "stdout",
     "output_type": "stream",
     "text": [
      "Epoch 1/200:   0%|                                                                                | 0/200 [00:00<?, ?it/s]"
     ]
    },
    {
     "name": "stderr",
     "output_type": "stream",
     "text": [
      "/home/gibbsr/anaconda3/lib/python3.8/site-packages/scvi/distributions/_negative_binomial.py:433: UserWarning: The value argument must be within the support of the distribution\n",
      "  warnings.warn(\n"
     ]
    },
    {
     "name": "stdout",
     "output_type": "stream",
     "text": [
      "Epoch 200/200: 100%|██████████████████████████████████████████| 200/200 [1:15:08<00:00, 22.54s/it, loss=1.22e+03, v_num=1]\n"
     ]
    }
   ],
   "source": [
    "vae.train(max_epochs=200, plan_kwargs = {'lr':1e-2})"
   ]
  },
  {
   "cell_type": "code",
   "execution_count": 13,
   "id": "6295994f",
   "metadata": {},
   "outputs": [],
   "source": [
    "outputs = vae.get_alphas_betas()\n",
    "alpha_posterior = outputs['alpha_posterior']\n",
    "beta_posterior = outputs['beta_posterior']"
   ]
  },
  {
   "cell_type": "markdown",
   "id": "1d0a9e70",
   "metadata": {},
   "source": [
    "Now that we obtained fitted , different metrics are possible. Bayesian decision theory suggests us the posterior probability of the zero-inflation hypothesis , but also other metrics such as the mean wrt  of  are possible. We focus on the former. We decide that gene  is ZI if and only if  is greater than a given threshold, say . We may note that it is equivalent to . From this we can deduce the fraction of predicted ZI genes in the dataset."
   ]
  },
  {
   "cell_type": "code",
   "execution_count": 14,
   "id": "057baab3",
   "metadata": {},
   "outputs": [
    {
     "name": "stdout",
     "output_type": "stream",
     "text": [
      "Fraction of predicted ZI genes : 0.985\n"
     ]
    }
   ],
   "source": [
    "from scipy.stats import beta\n",
    "\n",
    "# Threshold (or Kzinb/Knb+Kzinb in paper)\n",
    "threshold = 0.5\n",
    "\n",
    "# q(delta_g < 0.5) probabilities\n",
    "zi_probs = beta.cdf(0.5, alpha_posterior, beta_posterior)\n",
    "\n",
    "# ZI genes\n",
    "is_zi_pred = (zi_probs > threshold)\n",
    "\n",
    "print('Fraction of predicted ZI genes :', is_zi_pred.mean())"
   ]
  },
  {
   "cell_type": "markdown",
   "id": "6e1766bf",
   "metadata": {},
   "source": [
    "We noted that predictions were less accurate for genes  whose average expressions - or predicted NB means, equivalently - were low. Indeed, genes assumed not to be ZI were more often predicted as ZI for such low average expressions. A threshold of 1 proved reasonable to separate genes predicted with more or less accuracy. Hence we may want to focus on predictions for genes with average expression above 1."
   ]
  },
  {
   "cell_type": "markdown",
   "id": "dfa5128b",
   "metadata": {},
   "source": [
    "We noted that predictions were less accurate for genes  whose average expressions - or predicted NB means, equivalently - were low. Indeed, genes assumed not to be ZI were more often predicted as ZI for such low average expressions. A threshold of 1 proved reasonable to separate genes predicted with more or less accuracy. Hence we may want to focus on predictions for genes with average expression above 1."
   ]
  },
  {
   "cell_type": "code",
   "execution_count": 16,
   "id": "dbdecede",
   "metadata": {},
   "outputs": [
    {
     "name": "stdout",
     "output_type": "stream",
     "text": [
      "Fraction of genes with avg expression > 1 : 0.78\n",
      "Fraction of predicted ZI genes with avg expression > 1 : 0.9871794871794872\n"
     ]
    }
   ],
   "source": [
    "mask_sufficient_expression = (np.array(sc_quant.X.mean(axis=0)) > 1.).reshape(-1)\n",
    "print('Fraction of genes with avg expression > 1 :', mask_sufficient_expression.mean())\n",
    "print('Fraction of predicted ZI genes with avg expression > 1 :', is_zi_pred[mask_sufficient_expression].mean())"
   ]
  },
  {
   "cell_type": "markdown",
   "id": "d32b9b1f",
   "metadata": {},
   "source": [
    "### Analyze gene-cell-type-specific ZI\n",
    "\n",
    "One may argue that zero-inflation should also be treated on the cell-type (or ‘label’) level, in addition to the gene level. AutoZI can be extended by assuming a random variable  for each gene  and cell type  which denotes the probability that gene  is not zero-inflated in cell-type . The analysis above can be extended to this new scale."
   ]
  },
  {
   "cell_type": "code",
   "execution_count": 17,
   "id": "c6e46588",
   "metadata": {},
   "outputs": [
    {
     "name": "stderr",
     "output_type": "stream",
     "text": [
      "/home/gibbsr/anaconda3/lib/python3.8/site-packages/scvi/model/base/_base_model.py:149: UserWarning: Make sure the registered X field in anndata contains unnormalized count data.\n",
      "  warnings.warn(\n",
      "GPU available: True, used: True\n",
      "TPU available: False, using: 0 TPU cores\n",
      "LOCAL_RANK: 0 - CUDA_VISIBLE_DEVICES: [0]\n"
     ]
    },
    {
     "name": "stdout",
     "output_type": "stream",
     "text": [
      "Epoch 1/200:   0%|                                                                                | 0/200 [00:00<?, ?it/s]"
     ]
    },
    {
     "name": "stderr",
     "output_type": "stream",
     "text": [
      "/home/gibbsr/anaconda3/lib/python3.8/site-packages/scvi/distributions/_negative_binomial.py:433: UserWarning: The value argument must be within the support of the distribution\n",
      "  warnings.warn(\n"
     ]
    },
    {
     "name": "stdout",
     "output_type": "stream",
     "text": [
      "Epoch 200/200: 100%|███████████████████████████████████████████| 200/200 [1:15:35<00:00, 22.68s/it, loss=1.2e+03, v_num=1]\n"
     ]
    }
   ],
   "source": [
    "# Model definition\n",
    "vae_genelabel = scvi.model.AUTOZI(\n",
    "    sc_quant,\n",
    "    dispersion='gene-label',\n",
    "    zero_inflation='gene-label'\n",
    ")\n",
    "\n",
    "# Training\n",
    "vae_genelabel.train(max_epochs=200, plan_kwargs = {'lr':1e-2})\n",
    "\n",
    "# Retrieve posterior distribution parameters\n",
    "outputs_genelabel = vae_genelabel.get_alphas_betas()\n",
    "alpha_posterior_genelabel = outputs_genelabel['alpha_posterior']\n",
    "beta_posterior_genelabel = outputs_genelabel['beta_posterior']"
   ]
  },
  {
   "cell_type": "code",
   "execution_count": 18,
   "id": "3d6ae2b2",
   "metadata": {},
   "outputs": [
    {
     "name": "stdout",
     "output_type": "stream",
     "text": [
      "\u001b[34mINFO    \u001b[0m Downloading file at data/gene_info_pbmc.csv                                         \n",
      "Downloading...: 909it [00:00, 25927.39it/s]                                                                               \n",
      "\u001b[34mINFO    \u001b[0m Downloading file at data/pbmc_metadata.pickle                                       \n",
      "Downloading...: 4001it [00:00, 57037.33it/s]                                                                              \n",
      "\u001b[34mINFO    \u001b[0m Downloading file at data/pbmc8k/filtered_gene_bc_matrices.tar.gz                    \n",
      "Downloading...: 37559it [00:01, 27402.53it/s]                                                                             \n",
      "\u001b[34mINFO    \u001b[0m Extracting tar file                                                                 \n",
      "\u001b[34mINFO    \u001b[0m Removing extracted data at data/pbmc8k/filtered_gene_bc_matrices                    \n",
      "\u001b[34mINFO    \u001b[0m Downloading file at data/pbmc4k/filtered_gene_bc_matrices.tar.gz                    \n",
      "Downloading...: 100%|██████████████████████████████████████████████████████████| 18424/18424.0 [00:00<00:00, 20574.60it/s]\n",
      "\u001b[34mINFO    \u001b[0m Extracting tar file                                                                 \n",
      "\u001b[34mINFO    \u001b[0m Removing extracted data at data/pbmc4k/filtered_gene_bc_matrices                    \n"
     ]
    },
    {
     "name": "stderr",
     "output_type": "stream",
     "text": [
      "/home/gibbsr/anaconda3/lib/python3.8/site-packages/pandas/core/arrays/categorical.py:2630: FutureWarning: The `inplace` parameter in pandas.Categorical.remove_unused_categories is deprecated and will be removed in a future version.\n",
      "  res = method(*args, **kwargs)\n"
     ]
    }
   ],
   "source": [
    "pbmc = scvi.data.pbmc_dataset(run_setup_anndata=False)"
   ]
  },
  {
   "cell_type": "code",
   "execution_count": 21,
   "id": "6997ac07",
   "metadata": {},
   "outputs": [],
   "source": [
    "# q(delta_g < 0.5) probabilities\n",
    "zi_probs_genelabel = beta.cdf(0.5,alpha_posterior_genelabel, beta_posterior_genelabel)\n",
    "\n",
    "# ZI gene-cell-types\n",
    "is_zi_pred_genelabel = (zi_probs_genelabel > threshold)"
   ]
  },
  {
   "cell_type": "code",
   "execution_count": 23,
   "id": "0a735d12",
   "metadata": {},
   "outputs": [
    {
     "name": "stdout",
     "output_type": "stream",
     "text": [
      "Fraction of predicted ZI genes for cell type Entorhinal cortex : 0.735 \n",
      "\n",
      "Fraction of predicted ZI genes for cell type Middle temporal gyrus : 0.687 \n",
      "\n",
      "Fraction of predicted ZI genes for cell type Putamen : 0.665 \n",
      "\n",
      "Fraction of predicted ZI genes for cell type Subventricular zone : 0.6 \n",
      "\n"
     ]
    }
   ],
   "source": [
    "ct = sc_quant.obs['Brain_region'].astype(\"category\")\n",
    "codes = np.unique(ct.cat.codes)\n",
    "cats = ct.cat.categories\n",
    "for ind_cell_type, cell_type in zip(codes, cats):\n",
    "    is_zi_pred_genelabel_here = is_zi_pred_genelabel[:,ind_cell_type]\n",
    "    print('Fraction of predicted ZI genes for cell type {} :'.format(cell_type),\n",
    "          is_zi_pred_genelabel_here.mean(),'\\n')"
   ]
  },
  {
   "cell_type": "code",
   "execution_count": 25,
   "id": "f0c1db27",
   "metadata": {},
   "outputs": [
    {
     "name": "stdout",
     "output_type": "stream",
     "text": [
      "Fraction of predicted ZI genes for cell type Astrocyte : 0.735 \n",
      "\n",
      "Fraction of predicted ZI genes for cell type Astrocyte-GFAP-Hi : 0.687 \n",
      "\n",
      "Fraction of predicted ZI genes for cell type Endothelial : 0.665 \n",
      "\n",
      "Fraction of predicted ZI genes for cell type ExN CUX2 ADARB2 : 0.6 \n",
      "\n",
      "Fraction of predicted ZI genes for cell type ExN CUX2 LAMP5 : 0.705 \n",
      "\n",
      "Fraction of predicted ZI genes for cell type ExN FEZF2 : 0.76 \n",
      "\n",
      "Fraction of predicted ZI genes for cell type ExN LAMP5 : 0.613 \n",
      "\n",
      "Fraction of predicted ZI genes for cell type ExN RORB : 0.614 \n",
      "\n",
      "Fraction of predicted ZI genes for cell type ExN RORB THEMIS : 0.733 \n",
      "\n",
      "Fraction of predicted ZI genes for cell type ExN THEMIS : 0.637 \n",
      "\n",
      "Fraction of predicted ZI genes for cell type InN ADARB2 LAMP5 : 0.647 \n",
      "\n",
      "Fraction of predicted ZI genes for cell type InN ADARB2 VIP : 0.699 \n",
      "\n",
      "Fraction of predicted ZI genes for cell type InN LHX6 PVALB : 0.662 \n",
      "\n",
      "Fraction of predicted ZI genes for cell type InN LHX6 SST : 0.696 \n",
      "\n",
      "Fraction of predicted ZI genes for cell type Microglia : 0.63 \n",
      "\n",
      "Fraction of predicted ZI genes for cell type OPC : 0.566 \n",
      "\n",
      "Fraction of predicted ZI genes for cell type Oligodendrocyte-1 : 0.647 \n",
      "\n",
      "Fraction of predicted ZI genes for cell type Oligodendrocyte-2 : 0.668 \n",
      "\n",
      "Fraction of predicted ZI genes for cell type Radial Glia : 0.649 \n",
      "\n",
      "Fraction of predicted ZI genes for cell type SPN D1 : 0.668 \n",
      "\n",
      "Fraction of predicted ZI genes for cell type SPN D1-2 : 0.721 \n",
      "\n",
      "Fraction of predicted ZI genes for cell type SPN D2 : 0.6 \n",
      "\n",
      "Fraction of predicted ZI genes for cell type SPN D2-2 : 0.709 \n",
      "\n",
      "Fraction of predicted ZI genes for cell type uncertain : 0.686 \n",
      "\n",
      "Fraction of predicted ZI genes for cell type uncertain-2 : 0.613 \n",
      "\n"
     ]
    }
   ],
   "source": [
    "ct = sc_quant.obs['new_anno'].astype(\"category\")\n",
    "codes = np.unique(ct.cat.codes)\n",
    "cats = ct.cat.categories\n",
    "for ind_cell_type, cell_type in zip(codes, cats):\n",
    "    is_zi_pred_genelabel_here = is_zi_pred_genelabel[:,ind_cell_type]\n",
    "    print('Fraction of predicted ZI genes for cell type {} :'.format(cell_type),\n",
    "          is_zi_pred_genelabel_here.mean(),'\\n')"
   ]
  },
  {
   "cell_type": "code",
   "execution_count": 26,
   "id": "4d024385",
   "metadata": {},
   "outputs": [
    {
     "name": "stdout",
     "output_type": "stream",
     "text": [
      "Fraction of genes with avg expression > 1 for cell type Astrocyte : 0.449\n",
      "Fraction of predicted ZI genes with avg expression > 1 for cell type Astrocyte : 0.6993318485523385 \n",
      "\n",
      "Fraction of genes with avg expression > 1 for cell type Astrocyte-GFAP-Hi : 0.273\n",
      "Fraction of predicted ZI genes with avg expression > 1 for cell type Astrocyte-GFAP-Hi : 0.7326007326007326 \n",
      "\n",
      "Fraction of genes with avg expression > 1 for cell type Endothelial : 0.326\n",
      "Fraction of predicted ZI genes with avg expression > 1 for cell type Endothelial : 0.6901840490797546 \n",
      "\n",
      "Fraction of genes with avg expression > 1 for cell type ExN CUX2 ADARB2 : 0.743\n",
      "Fraction of predicted ZI genes with avg expression > 1 for cell type ExN CUX2 ADARB2 : 0.5881561238223418 \n",
      "\n",
      "Fraction of genes with avg expression > 1 for cell type ExN CUX2 LAMP5 : 0.785\n",
      "Fraction of predicted ZI genes with avg expression > 1 for cell type ExN CUX2 LAMP5 : 0.70828025477707 \n",
      "\n",
      "Fraction of genes with avg expression > 1 for cell type ExN FEZF2 : 0.772\n",
      "Fraction of predicted ZI genes with avg expression > 1 for cell type ExN FEZF2 : 0.7642487046632125 \n",
      "\n",
      "Fraction of genes with avg expression > 1 for cell type ExN LAMP5 : 0.661\n",
      "Fraction of predicted ZI genes with avg expression > 1 for cell type ExN LAMP5 : 0.6157337367624811 \n",
      "\n",
      "Fraction of genes with avg expression > 1 for cell type ExN RORB : 0.719\n",
      "Fraction of predicted ZI genes with avg expression > 1 for cell type ExN RORB : 0.6189151599443672 \n",
      "\n",
      "Fraction of genes with avg expression > 1 for cell type ExN RORB THEMIS : 0.811\n",
      "Fraction of predicted ZI genes with avg expression > 1 for cell type ExN RORB THEMIS : 0.7385943279901356 \n",
      "\n",
      "Fraction of genes with avg expression > 1 for cell type ExN THEMIS : 0.719\n",
      "Fraction of predicted ZI genes with avg expression > 1 for cell type ExN THEMIS : 0.650904033379694 \n",
      "\n",
      "Fraction of genes with avg expression > 1 for cell type InN ADARB2 LAMP5 : 0.622\n",
      "Fraction of predicted ZI genes with avg expression > 1 for cell type InN ADARB2 LAMP5 : 0.6430868167202572 \n",
      "\n",
      "Fraction of genes with avg expression > 1 for cell type InN ADARB2 VIP : 0.684\n",
      "Fraction of predicted ZI genes with avg expression > 1 for cell type InN ADARB2 VIP : 0.6812865497076024 \n",
      "\n",
      "Fraction of genes with avg expression > 1 for cell type InN LHX6 PVALB : 0.718\n",
      "Fraction of predicted ZI genes with avg expression > 1 for cell type InN LHX6 PVALB : 0.6685236768802229 \n",
      "\n",
      "Fraction of genes with avg expression > 1 for cell type InN LHX6 SST : 0.683\n",
      "Fraction of predicted ZI genes with avg expression > 1 for cell type InN LHX6 SST : 0.6998535871156661 \n",
      "\n",
      "Fraction of genes with avg expression > 1 for cell type Microglia : 0.298\n",
      "Fraction of predicted ZI genes with avg expression > 1 for cell type Microglia : 0.6040268456375839 \n",
      "\n",
      "Fraction of genes with avg expression > 1 for cell type OPC : 0.454\n",
      "Fraction of predicted ZI genes with avg expression > 1 for cell type OPC : 0.539647577092511 \n",
      "\n",
      "Fraction of genes with avg expression > 1 for cell type Oligodendrocyte-1 : 0.367\n",
      "Fraction of predicted ZI genes with avg expression > 1 for cell type Oligodendrocyte-1 : 0.6730245231607629 \n",
      "\n",
      "Fraction of genes with avg expression > 1 for cell type Oligodendrocyte-2 : 0.591\n",
      "Fraction of predicted ZI genes with avg expression > 1 for cell type Oligodendrocyte-2 : 0.676818950930626 \n",
      "\n",
      "Fraction of genes with avg expression > 1 for cell type Radial Glia : 0.505\n",
      "Fraction of predicted ZI genes with avg expression > 1 for cell type Radial Glia : 0.6732673267326733 \n",
      "\n",
      "Fraction of genes with avg expression > 1 for cell type SPN D1 : 0.691\n",
      "Fraction of predicted ZI genes with avg expression > 1 for cell type SPN D1 : 0.662807525325615 \n",
      "\n",
      "Fraction of genes with avg expression > 1 for cell type SPN D1-2 : 0.684\n",
      "Fraction of predicted ZI genes with avg expression > 1 for cell type SPN D1-2 : 0.7368421052631579 \n",
      "\n",
      "Fraction of genes with avg expression > 1 for cell type SPN D2 : 0.666\n",
      "Fraction of predicted ZI genes with avg expression > 1 for cell type SPN D2 : 0.5900900900900901 \n",
      "\n",
      "Fraction of genes with avg expression > 1 for cell type SPN D2-2 : 0.682\n",
      "Fraction of predicted ZI genes with avg expression > 1 for cell type SPN D2-2 : 0.7023460410557185 \n",
      "\n",
      "Fraction of genes with avg expression > 1 for cell type uncertain : 0.089\n",
      "Fraction of predicted ZI genes with avg expression > 1 for cell type uncertain : 0.6292134831460674 \n",
      "\n",
      "Fraction of genes with avg expression > 1 for cell type uncertain-2 : 0.898\n",
      "Fraction of predicted ZI genes with avg expression > 1 for cell type uncertain-2 : 0.60913140311804 \n",
      "\n"
     ]
    }
   ],
   "source": [
    "# With avg expressions > 1\n",
    "for ind_cell_type, cell_type in zip(codes, cats):\n",
    "    mask_sufficient_expression = (np.array(sc_quant.X[sc_quant.obs['new_anno'].values.reshape(-1) == cell_type,:].mean(axis=0)) > 1.).reshape(-1)\n",
    "    print('Fraction of genes with avg expression > 1 for cell type {} :'.format(cell_type),\n",
    "          mask_sufficient_expression.mean())\n",
    "    is_zi_pred_genelabel_here = is_zi_pred_genelabel[mask_sufficient_expression,ind_cell_type]\n",
    "    print('Fraction of predicted ZI genes with avg expression > 1 for cell type {} :'.format(cell_type),\n",
    "          is_zi_pred_genelabel_here.mean(), '\\n')"
   ]
  }
 ],
 "metadata": {
  "kernelspec": {
   "display_name": "Python 3 (ipykernel)",
   "language": "python",
   "name": "python3"
  },
  "language_info": {
   "codemirror_mode": {
    "name": "ipython",
    "version": 3
   },
   "file_extension": ".py",
   "mimetype": "text/x-python",
   "name": "python",
   "nbconvert_exporter": "python",
   "pygments_lexer": "ipython3",
   "version": "3.8.11"
  }
 },
 "nbformat": 4,
 "nbformat_minor": 5
}
