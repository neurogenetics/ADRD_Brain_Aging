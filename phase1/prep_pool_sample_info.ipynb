{
 "cells": [
  {
   "cell_type": "markdown",
   "id": "752c9517",
   "metadata": {},
   "source": [
    "## Notebook to prep info for Pools and Samples"
   ]
  },
  {
   "cell_type": "code",
   "execution_count": 1,
   "id": "21e5d09f",
   "metadata": {},
   "outputs": [
    {
     "name": "stdout",
     "output_type": "stream",
     "text": [
      "Sat Jul 17 18:35:19 EDT 2021\n"
     ]
    }
   ],
   "source": [
    "!date"
   ]
  },
  {
   "cell_type": "markdown",
   "id": "2f6ffdaa",
   "metadata": {},
   "source": [
    "#### import libraries and set notebook variables"
   ]
  },
  {
   "cell_type": "code",
   "execution_count": 2,
   "id": "2275dca4",
   "metadata": {},
   "outputs": [],
   "source": [
    "import pandas as pd"
   ]
  },
  {
   "cell_type": "code",
   "execution_count": 3,
   "id": "5da56e63",
   "metadata": {},
   "outputs": [],
   "source": [
    "# naming\n",
    "cohort = 'aging'\n",
    "\n",
    "# directories\n",
    "home_dir = '/labshare/raph/datasets/adrd_neuro'\n",
    "wrk_dir = f'{home_dir}/{cohort}'\n",
    "info_dir = f'{wrk_dir}/sample_info'\n",
    "\n",
    "# in files\n",
    "pool_file = f'{info_dir}/pool_info.csv'\n",
    "sample_file = f'{info_dir}/patient_sample_info.csv'\n",
    "\n",
    "# out files\n",
    "info_file = f'{info_dir}/{cohort}.pool_patient_sample_info.csv'\n",
    "\n",
    "# contants\n",
    "bank_abbrs = {'NIMH Human Brain Collection Core': 'NHBCC', \n",
    "              'U. Pittsburgh Brain Tissue Donation Program': 'UPBTDP', \n",
    "              'U. Maryland Brain & Tissue Bank': 'UMBTB'}"
   ]
  },
  {
   "cell_type": "markdown",
   "id": "be6d961f",
   "metadata": {},
   "source": [
    "#### read the input data files"
   ]
  },
  {
   "cell_type": "code",
   "execution_count": 4,
   "id": "fef6cad0",
   "metadata": {},
   "outputs": [
    {
     "name": "stdout",
     "output_type": "stream",
     "text": [
      "(48, 3)\n"
     ]
    },
    {
     "data": {
      "text/html": [
       "<div>\n",
       "<style scoped>\n",
       "    .dataframe tbody tr th:only-of-type {\n",
       "        vertical-align: middle;\n",
       "    }\n",
       "\n",
       "    .dataframe tbody tr th {\n",
       "        vertical-align: top;\n",
       "    }\n",
       "\n",
       "    .dataframe thead th {\n",
       "        text-align: right;\n",
       "    }\n",
       "</style>\n",
       "<table border=\"1\" class=\"dataframe\">\n",
       "  <thead>\n",
       "    <tr style=\"text-align: right;\">\n",
       "      <th></th>\n",
       "      <th>Pool_no</th>\n",
       "      <th>Sample_no</th>\n",
       "      <th>Sequence_type</th>\n",
       "    </tr>\n",
       "  </thead>\n",
       "  <tbody>\n",
       "    <tr>\n",
       "      <th>0</th>\n",
       "      <td>POOL01</td>\n",
       "      <td>Aging111</td>\n",
       "      <td>RNA</td>\n",
       "    </tr>\n",
       "    <tr>\n",
       "      <th>1</th>\n",
       "      <td>POOL01</td>\n",
       "      <td>Aging095</td>\n",
       "      <td>RNA</td>\n",
       "    </tr>\n",
       "    <tr>\n",
       "      <th>2</th>\n",
       "      <td>POOL01</td>\n",
       "      <td>Aging080</td>\n",
       "      <td>RNA</td>\n",
       "    </tr>\n",
       "    <tr>\n",
       "      <th>3</th>\n",
       "      <td>POOL01</td>\n",
       "      <td>Aging088</td>\n",
       "      <td>RNA</td>\n",
       "    </tr>\n",
       "    <tr>\n",
       "      <th>4</th>\n",
       "      <td>POOL01</td>\n",
       "      <td>Aging099</td>\n",
       "      <td>RNA</td>\n",
       "    </tr>\n",
       "  </tbody>\n",
       "</table>\n",
       "</div>"
      ],
      "text/plain": [
       "  Pool_no Sample_no Sequence_type\n",
       "0  POOL01  Aging111           RNA\n",
       "1  POOL01  Aging095           RNA\n",
       "2  POOL01  Aging080           RNA\n",
       "3  POOL01  Aging088           RNA\n",
       "4  POOL01  Aging099           RNA"
      ]
     },
     "metadata": {},
     "output_type": "display_data"
    }
   ],
   "source": [
    "pool_df = pd.read_csv(pool_file)\n",
    "print(pool_df.shape)\n",
    "display(pool_df.head())"
   ]
  },
  {
   "cell_type": "code",
   "execution_count": 5,
   "id": "a548097d",
   "metadata": {},
   "outputs": [
    {
     "name": "stdout",
     "output_type": "stream",
     "text": [
      "(118, 7)\n"
     ]
    }
   ],
   "source": [
    "sample_df = pd.read_csv(sample_file)\n",
    "print(sample_df.shape)\n",
    "# display(sample_df.head())"
   ]
  },
  {
   "cell_type": "markdown",
   "id": "4b341aed",
   "metadata": {},
   "source": [
    "#### for the Pool create pool name for the pool id"
   ]
  },
  {
   "cell_type": "code",
   "execution_count": 6,
   "id": "82e787ee",
   "metadata": {},
   "outputs": [
    {
     "name": "stdout",
     "output_type": "stream",
     "text": [
      "(48, 4)\n"
     ]
    }
   ],
   "source": [
    "pool_df['pool_name'] = pool_df['Pool_no'].str.replace('POOL','').astype('int32').apply(lambda x: f'P{x:03d}')\n",
    "print(pool_df.shape)\n",
    "# display(pool_df.sample(10))"
   ]
  },
  {
   "cell_type": "markdown",
   "id": "88b4c072",
   "metadata": {},
   "source": [
    "#### for the sample id df create a donor id from the tissue bank and tissue bank source id"
   ]
  },
  {
   "cell_type": "code",
   "execution_count": null,
   "id": "157929a4",
   "metadata": {},
   "outputs": [],
   "source": [
    "sample_df['donor_id'] = sample_df['Tissue_source'].apply(bank_abbrs.get) + '-' \\\n",
    "+ sample_df['Source_id'].astype('string')\n",
    "print(sample_df.shape)\n",
    "# display(sample_df.sample(10))"
   ]
  },
  {
   "cell_type": "markdown",
   "id": "3781457a",
   "metadata": {},
   "source": [
    "#### merge into info data frame using Aging Sample_id"
   ]
  },
  {
   "cell_type": "code",
   "execution_count": null,
   "id": "160a1d01",
   "metadata": {},
   "outputs": [],
   "source": [
    "info_df = pool_df.merge(sample_df, how='inner', left_on='Sample_no', right_on='Sample_id')\n",
    "print(info_df.shape)\n",
    "# display(info_df.sample(10))"
   ]
  },
  {
   "cell_type": "markdown",
   "id": "5ddaa60c",
   "metadata": {},
   "source": [
    "#### save the merged info files"
   ]
  },
  {
   "cell_type": "code",
   "execution_count": 9,
   "id": "2e65f848",
   "metadata": {},
   "outputs": [],
   "source": [
    "info_df.to_csv(info_file, index=False)"
   ]
  },
  {
   "cell_type": "code",
   "execution_count": null,
   "id": "d27c4044",
   "metadata": {},
   "outputs": [],
   "source": []
  }
 ],
 "metadata": {
  "kernelspec": {
   "display_name": "Python 3 (ipykernel)",
   "language": "python",
   "name": "python3"
  },
  "language_info": {
   "codemirror_mode": {
    "name": "ipython",
    "version": 3
   },
   "file_extension": ".py",
   "mimetype": "text/x-python",
   "name": "python",
   "nbconvert_exporter": "python",
   "pygments_lexer": "ipython3",
   "version": "3.8.11"
  }
 },
 "nbformat": 4,
 "nbformat_minor": 5
}
