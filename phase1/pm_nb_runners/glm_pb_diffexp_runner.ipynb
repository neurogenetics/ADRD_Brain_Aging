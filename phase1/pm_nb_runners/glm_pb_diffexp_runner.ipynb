{
 "cells": [
  {
   "cell_type": "markdown",
   "id": "66161189",
   "metadata": {},
   "source": [
    "Notebook to run the glm pseudo-bulk analysis per brain region and cell-type with papermill\n",
    "originally coded to run in parallel out of a single notebook, but always have a probably passing a anndata object to ray or concurrent futures\n",
    "\n",
    "so here running via papermill where notebook for each is run in parallel using threading library, have also previouls tried with ray and concurrent futures, all blow up papermill managing notebook blows up but individual notebooks keep running in parallel thru sucessful completion"
   ]
  },
  {
   "cell_type": "code",
   "execution_count": 1,
   "id": "0008b2b1",
   "metadata": {},
   "outputs": [
    {
     "name": "stdout",
     "output_type": "stream",
     "text": [
      "Mon Nov  8 12:28:07 EST 2021\n"
     ]
    }
   ],
   "source": [
    "!date"
   ]
  },
  {
   "cell_type": "markdown",
   "id": "c7c97c1f",
   "metadata": {},
   "source": [
    "#### import libraries and set notebook variables"
   ]
  },
  {
   "cell_type": "code",
   "execution_count": 2,
   "id": "5517fb6c",
   "metadata": {},
   "outputs": [
    {
     "name": "stderr",
     "output_type": "stream",
     "text": [
      "/home/gibbsr/anaconda3/lib/python3.8/site-packages/papermill/iorw.py:50: FutureWarning: pyarrow.HadoopFileSystem is deprecated as of 2.0.0, please use pyarrow.fs.HadoopFileSystem instead.\n",
      "  from pyarrow import HadoopFileSystem\n"
     ]
    }
   ],
   "source": [
    "import os\n",
    "import papermill as pm\n",
    "import threading\n",
    "\n",
    "import warnings\n",
    "warnings.simplefilter('ignore')"
   ]
  },
  {
   "cell_type": "code",
   "execution_count": 3,
   "id": "5c4d7754",
   "metadata": {},
   "outputs": [],
   "source": [
    "# naming\n",
    "cohort = 'aging'\n",
    "\n",
    "# directories\n",
    "home_dir = f'/labshare/raph/notebooks/expression/adrd_neuro/{cohort}'\n",
    "\n",
    "# base notebook to be run per tuple iteration\n",
    "base_notebook = f'{home_dir}/glm_pb_diffexp.ipynb'\n",
    "\n",
    "# output path for the generated notebooks\n",
    "out_nb_dir = f'{home_dir}/pm_gend_nbs'\n",
    "\n",
    "# setup parameters to iterate\n",
    "brain_regions = ['Entorhinal cortex', 'Putamen', 'Subventricular zone', \n",
    "                 'Middle temporal gyrus']\n",
    "cell_types = ['Oligodendrocyte-1', 'SPN D1', 'SPN D2', 'Oligodendrocyte-2', \n",
    "              'Astrocyte', 'ExN CUX2 LAMP5', 'InN ADARB2 VIP', 'ExN FEZF2', \n",
    "              'OPC', 'ExN RORB THEMIS', 'InN LHX6 PVALB', 'Radial Glia', \n",
    "              'Microglia', 'InN ADARB2 LAMP5', 'ExN CUX2 ADARB2', \n",
    "              'InN LHX6 SST', 'SPN D1-2', 'Endothelial', 'ExN RORB', \n",
    "              'ExN LAMP5', 'SPN D2-2', 'ExN THEMIS']\n",
    "groupings = {'Brain_region': brain_regions, 'new_anno': cell_types}\n",
    "\n",
    "testing = False"
   ]
  },
  {
   "cell_type": "markdown",
   "id": "6bc52b91",
   "metadata": {},
   "source": [
    "#### utility functions"
   ]
  },
  {
   "cell_type": "code",
   "execution_count": 4,
   "id": "fb31ada3",
   "metadata": {},
   "outputs": [],
   "source": [
    "def run_pm_notebook(base_notebook: str, out_notebook: str, params: dict) -> str:\n",
    "    ret_val = f'notebook: {out_notebook}\\nparams: {params}'\n",
    "    pm.execute_notebook(input_path=base_notebook, output_path=out_notebook, \n",
    "                        parameters=params, progress_bar=False)\n",
    "    return ret_val"
   ]
  },
  {
   "cell_type": "markdown",
   "id": "b3a446e1",
   "metadata": {},
   "source": [
    "#### check the notebook template"
   ]
  },
  {
   "cell_type": "code",
   "execution_count": 5,
   "id": "f325e589",
   "metadata": {},
   "outputs": [
    {
     "data": {
      "text/plain": [
       "{'tissue': {'name': 'tissue',\n",
       "  'inferred_type_name': 'None',\n",
       "  'default': \"''\",\n",
       "  'help': ''},\n",
       " 'tissue_type': {'name': 'tissue_type',\n",
       "  'inferred_type_name': 'None',\n",
       "  'default': \"''\",\n",
       "  'help': ''},\n",
       " 'testing': {'name': 'testing',\n",
       "  'inferred_type_name': 'None',\n",
       "  'default': 'False',\n",
       "  'help': ''}}"
      ]
     },
     "execution_count": 5,
     "metadata": {},
     "output_type": "execute_result"
    }
   ],
   "source": [
    "pm.inspect_notebook(base_notebook)"
   ]
  },
  {
   "cell_type": "markdown",
   "id": "c0b580c5",
   "metadata": {},
   "source": [
    "#### iterate over the list running the notebook per sample pool"
   ]
  },
  {
   "cell_type": "code",
   "execution_count": 6,
   "id": "fcf9d33e",
   "metadata": {},
   "outputs": [
    {
     "name": "stdout",
     "output_type": "stream",
     "text": [
      "notebook: /labshare/raph/notebooks/expression/adrd_neuro/aging/pm_gend_nbs/Entorhinal_cortex.glm_pb_diffexp.ipynb\n",
      "params: {'tissue': 'Entorhinal cortex', 'tissue_type': 'Brain_region', 'testing': False}\n",
      "notebook: /labshare/raph/notebooks/expression/adrd_neuro/aging/pm_gend_nbs/Putamen.glm_pb_diffexp.ipynb\n",
      "params: {'tissue': 'Putamen', 'tissue_type': 'Brain_region', 'testing': False}\n",
      "notebook: /labshare/raph/notebooks/expression/adrd_neuro/aging/pm_gend_nbs/Subventricular_zone.glm_pb_diffexp.ipynb\n",
      "params: {'tissue': 'Subventricular zone', 'tissue_type': 'Brain_region', 'testing': False}\n",
      "notebook: /labshare/raph/notebooks/expression/adrd_neuro/aging/pm_gend_nbs/Middle_temporal_gyrus.glm_pb_diffexp.ipynb\n",
      "params: {'tissue': 'Middle temporal gyrus', 'tissue_type': 'Brain_region', 'testing': False}\n",
      "notebook: /labshare/raph/notebooks/expression/adrd_neuro/aging/pm_gend_nbs/Oligodendrocyte-1.glm_pb_diffexp.ipynb\n",
      "params: {'tissue': 'Oligodendrocyte-1', 'tissue_type': 'new_anno', 'testing': False}\n",
      "notebook: /labshare/raph/notebooks/expression/adrd_neuro/aging/pm_gend_nbs/SPN_D1.glm_pb_diffexp.ipynb\n",
      "params: {'tissue': 'SPN D1', 'tissue_type': 'new_anno', 'testing': False}\n",
      "notebook: /labshare/raph/notebooks/expression/adrd_neuro/aging/pm_gend_nbs/SPN_D2.glm_pb_diffexp.ipynb\n",
      "params: {'tissue': 'SPN D2', 'tissue_type': 'new_anno', 'testing': False}\n",
      "notebook: /labshare/raph/notebooks/expression/adrd_neuro/aging/pm_gend_nbs/Oligodendrocyte-2.glm_pb_diffexp.ipynb\n",
      "params: {'tissue': 'Oligodendrocyte-2', 'tissue_type': 'new_anno', 'testing': False}\n",
      "notebook: /labshare/raph/notebooks/expression/adrd_neuro/aging/pm_gend_nbs/Astrocyte.glm_pb_diffexp.ipynb\n",
      "params: {'tissue': 'Astrocyte', 'tissue_type': 'new_anno', 'testing': False}\n",
      "notebook: /labshare/raph/notebooks/expression/adrd_neuro/aging/pm_gend_nbs/ExN_CUX2_LAMP5.glm_pb_diffexp.ipynb\n",
      "params: {'tissue': 'ExN CUX2 LAMP5', 'tissue_type': 'new_anno', 'testing': False}\n",
      "notebook: /labshare/raph/notebooks/expression/adrd_neuro/aging/pm_gend_nbs/InN_ADARB2_VIP.glm_pb_diffexp.ipynb\n",
      "params: {'tissue': 'InN ADARB2 VIP', 'tissue_type': 'new_anno', 'testing': False}\n",
      "notebook: /labshare/raph/notebooks/expression/adrd_neuro/aging/pm_gend_nbs/ExN_FEZF2.glm_pb_diffexp.ipynb\n",
      "params: {'tissue': 'ExN FEZF2', 'tissue_type': 'new_anno', 'testing': False}\n",
      "notebook: /labshare/raph/notebooks/expression/adrd_neuro/aging/pm_gend_nbs/OPC.glm_pb_diffexp.ipynb\n",
      "params: {'tissue': 'OPC', 'tissue_type': 'new_anno', 'testing': False}\n",
      "notebook: /labshare/raph/notebooks/expression/adrd_neuro/aging/pm_gend_nbs/ExN_RORB_THEMIS.glm_pb_diffexp.ipynb\n",
      "params: {'tissue': 'ExN RORB THEMIS', 'tissue_type': 'new_anno', 'testing': False}\n",
      "notebook: /labshare/raph/notebooks/expression/adrd_neuro/aging/pm_gend_nbs/InN_LHX6_PVALB.glm_pb_diffexp.ipynb\n",
      "params: {'tissue': 'InN LHX6 PVALB', 'tissue_type': 'new_anno', 'testing': False}\n",
      "notebook: /labshare/raph/notebooks/expression/adrd_neuro/aging/pm_gend_nbs/Radial_Glia.glm_pb_diffexp.ipynb\n",
      "params: {'tissue': 'Radial Glia', 'tissue_type': 'new_anno', 'testing': False}\n",
      "notebook: /labshare/raph/notebooks/expression/adrd_neuro/aging/pm_gend_nbs/Microglia.glm_pb_diffexp.ipynb\n",
      "params: {'tissue': 'Microglia', 'tissue_type': 'new_anno', 'testing': False}\n",
      "notebook: /labshare/raph/notebooks/expression/adrd_neuro/aging/pm_gend_nbs/InN_ADARB2_LAMP5.glm_pb_diffexp.ipynb\n",
      "params: {'tissue': 'InN ADARB2 LAMP5', 'tissue_type': 'new_anno', 'testing': False}\n",
      "notebook: /labshare/raph/notebooks/expression/adrd_neuro/aging/pm_gend_nbs/ExN_CUX2_ADARB2.glm_pb_diffexp.ipynb\n",
      "params: {'tissue': 'ExN CUX2 ADARB2', 'tissue_type': 'new_anno', 'testing': False}\n",
      "notebook: /labshare/raph/notebooks/expression/adrd_neuro/aging/pm_gend_nbs/InN_LHX6_SST.glm_pb_diffexp.ipynb\n",
      "params: {'tissue': 'InN LHX6 SST', 'tissue_type': 'new_anno', 'testing': False}\n",
      "notebook: /labshare/raph/notebooks/expression/adrd_neuro/aging/pm_gend_nbs/SPN_D1-2.glm_pb_diffexp.ipynb\n",
      "params: {'tissue': 'SPN D1-2', 'tissue_type': 'new_anno', 'testing': False}\n",
      "notebook: /labshare/raph/notebooks/expression/adrd_neuro/aging/pm_gend_nbs/Endothelial.glm_pb_diffexp.ipynb\n",
      "params: {'tissue': 'Endothelial', 'tissue_type': 'new_anno', 'testing': False}\n",
      "notebook: /labshare/raph/notebooks/expression/adrd_neuro/aging/pm_gend_nbs/ExN_RORB.glm_pb_diffexp.ipynb\n",
      "params: {'tissue': 'ExN RORB', 'tissue_type': 'new_anno', 'testing': False}\n",
      "notebook: /labshare/raph/notebooks/expression/adrd_neuro/aging/pm_gend_nbs/ExN_LAMP5.glm_pb_diffexp.ipynb\n",
      "params: {'tissue': 'ExN LAMP5', 'tissue_type': 'new_anno', 'testing': False}\n",
      "notebook: /labshare/raph/notebooks/expression/adrd_neuro/aging/pm_gend_nbs/SPN_D2-2.glm_pb_diffexp.ipynb\n",
      "params: {'tissue': 'SPN D2-2', 'tissue_type': 'new_anno', 'testing': False}\n",
      "notebook: /labshare/raph/notebooks/expression/adrd_neuro/aging/pm_gend_nbs/ExN_THEMIS.glm_pb_diffexp.ipynb\n",
      "params: {'tissue': 'ExN THEMIS', 'tissue_type': 'new_anno', 'testing': False}\n"
     ]
    },
    {
     "name": "stderr",
     "output_type": "stream",
     "text": [
      "Traceback (most recent call last):\n",
      "  File \"/home/gibbsr/anaconda3/lib/python3.8/runpy.py\", line 194, in _run_module_as_main\n",
      "    return _run_code(code, main_globals, None,\n",
      "  File \"/home/gibbsr/anaconda3/lib/python3.8/runpy.py\", line 87, in _run_code\n",
      "    exec(code, run_globals)\n",
      "  File \"/home/gibbsr/anaconda3/lib/python3.8/site-packages/ipykernel_launcher.py\", line 16, in <module>\n",
      "    app.launch_new_instance()\n",
      "  File \"/home/gibbsr/anaconda3/lib/python3.8/site-packages/traitlets/config/application.py\", line 845, in launch_instance\n",
      "    app.initialize(argv)\n",
      "  File \"/home/gibbsr/anaconda3/lib/python3.8/site-packages/traitlets/config/application.py\", line 88, in inner\n",
      "    return method(app, *args, **kwargs)\n",
      "  File \"/home/gibbsr/anaconda3/lib/python3.8/site-packages/ipykernel/kernelapp.py\", line 632, in initialize\n",
      "    self.init_sockets()\n",
      "  File \"/home/gibbsr/anaconda3/lib/python3.8/site-packages/ipykernel/kernelapp.py\", line 287, in init_sockets\n",
      "    self.stdin_port = self._bind_socket(self.stdin_socket, self.stdin_port)\n",
      "  File \"/home/gibbsr/anaconda3/lib/python3.8/site-packages/ipykernel/kernelapp.py\", line 229, in _bind_socket\n",
      "    return self._try_bind_socket(s, port)\n",
      "  File \"/home/gibbsr/anaconda3/lib/python3.8/site-packages/ipykernel/kernelapp.py\", line 205, in _try_bind_socket\n",
      "    s.bind(\"tcp://%s:%i\" % (self.ip, port))\n",
      "  File \"/home/gibbsr/anaconda3/lib/python3.8/site-packages/zmq/sugar/socket.py\", line 208, in bind\n",
      "    super().bind(addr)\n",
      "  File \"zmq/backend/cython/socket.pyx\", line 540, in zmq.backend.cython.socket.Socket.bind\n",
      "  File \"zmq/backend/cython/checkrc.pxd\", line 28, in zmq.backend.cython.checkrc._check_rc\n",
      "zmq.error.ZMQError: Address already in use\n",
      "Exception in thread Thread-24:\n",
      "Traceback (most recent call last):\n",
      "  File \"/home/gibbsr/anaconda3/lib/python3.8/threading.py\", line 932, in _bootstrap_inner\n",
      "    self.run()\n",
      "  File \"/home/gibbsr/anaconda3/lib/python3.8/threading.py\", line 870, in run\n",
      "    self._target(*self._args, **self._kwargs)\n",
      "  File \"/tmp/ipykernel_62425/3998326339.py\", line 3, in run_pm_notebook\n",
      "  File \"/home/gibbsr/anaconda3/lib/python3.8/site-packages/papermill/execute.py\", line 103, in execute_notebook\n",
      "    nb = papermill_engines.execute_notebook_with_engine(\n",
      "  File \"/home/gibbsr/anaconda3/lib/python3.8/site-packages/papermill/engines.py\", line 49, in execute_notebook_with_engine\n",
      "    return self.get_engine(engine_name).execute_notebook(nb, kernel_name, **kwargs)\n",
      "  File \"/home/gibbsr/anaconda3/lib/python3.8/site-packages/papermill/engines.py\", line 343, in execute_notebook\n",
      "    cls.execute_managed_notebook(nb_man, kernel_name, log_output=log_output, **kwargs)\n",
      "  File \"/home/gibbsr/anaconda3/lib/python3.8/site-packages/papermill/engines.py\", line 402, in execute_managed_notebook\n",
      "    return PapermillNotebookClient(nb_man, **final_kwargs).execute()\n",
      "  File \"/home/gibbsr/anaconda3/lib/python3.8/site-packages/papermill/clientwrap.py\", line 43, in execute\n",
      "    with self.setup_kernel(**kwargs):\n",
      "  File \"/home/gibbsr/anaconda3/lib/python3.8/contextlib.py\", line 113, in __enter__\n",
      "    return next(self.gen)\n",
      "  File \"/home/gibbsr/anaconda3/lib/python3.8/site-packages/nbclient/client.py\", line 452, in setup_kernel\n",
      "    self.start_new_kernel_client()\n",
      "  File \"/home/gibbsr/anaconda3/lib/python3.8/site-packages/nbclient/util.py\", line 74, in wrapped\n",
      "    return just_run(coro(*args, **kwargs))\n",
      "  File \"/home/gibbsr/anaconda3/lib/python3.8/site-packages/nbclient/util.py\", line 53, in just_run\n",
      "    return loop.run_until_complete(coro)\n",
      "  File \"/home/gibbsr/anaconda3/lib/python3.8/asyncio/base_events.py\", line 616, in run_until_complete\n",
      "    return future.result()\n",
      "  File \"/home/gibbsr/anaconda3/lib/python3.8/site-packages/nbclient/client.py\", line 423, in async_start_new_kernel_client\n",
      "    await ensure_async(self.kc.wait_for_ready(timeout=self.startup_timeout))\n",
      "  File \"/home/gibbsr/anaconda3/lib/python3.8/site-packages/nbclient/util.py\", line 85, in ensure_async\n",
      "    result = await obj\n",
      "  File \"/home/gibbsr/anaconda3/lib/python3.8/site-packages/jupyter_client/client.py\", line 180, in _async_wait_for_ready\n",
      "    raise RuntimeError(\"Kernel died before replying to kernel_info\")\n",
      "RuntimeError: Kernel died before replying to kernel_info\n",
      "2021-11-08 12:28:15.312030: I tensorflow/stream_executor/platform/default/dso_loader.cc:49] Successfully opened dynamic library libcudart.so.11.0\n",
      "2021-11-08 12:28:16.147928: I tensorflow/stream_executor/platform/default/dso_loader.cc:49] Successfully opened dynamic library libcudart.so.11.0\n",
      "2021-11-08 12:28:16.650519: I tensorflow/stream_executor/platform/default/dso_loader.cc:49] Successfully opened dynamic library libcudart.so.11.0\n",
      "2021-11-08 12:28:16.688637: I tensorflow/stream_executor/platform/default/dso_loader.cc:49] Successfully opened dynamic library libcudart.so.11.0\n",
      "2021-11-08 12:28:16.707089: I tensorflow/stream_executor/platform/default/dso_loader.cc:49] Successfully opened dynamic library libcudart.so.11.0\n",
      "2021-11-08 12:28:16.938632: I tensorflow/stream_executor/platform/default/dso_loader.cc:49] Successfully opened dynamic library libcudart.so.11.0\n",
      "2021-11-08 12:28:16.981547: I tensorflow/stream_executor/platform/default/dso_loader.cc:49] Successfully opened dynamic library libcudart.so.11.0\n",
      "2021-11-08 12:28:17.325994: I tensorflow/stream_executor/platform/default/dso_loader.cc:49] Successfully opened dynamic library libcudart.so.11.0\n",
      "2021-11-08 12:28:17.378735: I tensorflow/stream_executor/platform/default/dso_loader.cc:49] Successfully opened dynamic library libcudart.so.11.0\n",
      "2021-11-08 12:28:17.425322: I tensorflow/stream_executor/platform/default/dso_loader.cc:49] Successfully opened dynamic library libcudart.so.11.0\n",
      "2021-11-08 12:28:17.425610: I tensorflow/stream_executor/platform/default/dso_loader.cc:49] Successfully opened dynamic library libcudart.so.11.0\n",
      "2021-11-08 12:28:17.460502: I tensorflow/stream_executor/platform/default/dso_loader.cc:49] Successfully opened dynamic library libcudart.so.11.0\n",
      "2021-11-08 12:28:17.566078: I tensorflow/stream_executor/platform/default/dso_loader.cc:49] Successfully opened dynamic library libcudart.so.11.0\n",
      "2021-11-08 12:28:17.612224: I tensorflow/stream_executor/platform/default/dso_loader.cc:49] Successfully opened dynamic library libcudart.so.11.0\n",
      "2021-11-08 12:28:17.612240: I tensorflow/stream_executor/platform/default/dso_loader.cc:49] Successfully opened dynamic library libcudart.so.11.0\n",
      "2021-11-08 12:28:17.663935: I tensorflow/stream_executor/platform/default/dso_loader.cc:49] Successfully opened dynamic library libcudart.so.11.0\n",
      "2021-11-08 12:28:17.674916: I tensorflow/stream_executor/platform/default/dso_loader.cc:49] Successfully opened dynamic library libcudart.so.11.0\n",
      "2021-11-08 12:28:17.690651: I tensorflow/stream_executor/platform/default/dso_loader.cc:49] Successfully opened dynamic library libcudart.so.11.0\n",
      "2021-11-08 12:28:17.692549: I tensorflow/stream_executor/platform/default/dso_loader.cc:49] Successfully opened dynamic library libcudart.so.11.0\n",
      "2021-11-08 12:28:17.723881: I tensorflow/stream_executor/platform/default/dso_loader.cc:49] Successfully opened dynamic library libcudart.so.11.0\n",
      "2021-11-08 12:28:17.734558: I tensorflow/stream_executor/platform/default/dso_loader.cc:49] Successfully opened dynamic library libcudart.so.11.0\n",
      "2021-11-08 12:28:17.734558: I tensorflow/stream_executor/platform/default/dso_loader.cc:49] Successfully opened dynamic library libcudart.so.11.0\n",
      "2021-11-08 12:28:17.741774: I tensorflow/stream_executor/platform/default/dso_loader.cc:49] Successfully opened dynamic library libcudart.so.11.0\n",
      "2021-11-08 12:28:17.743478: I tensorflow/stream_executor/platform/default/dso_loader.cc:49] Successfully opened dynamic library libcudart.so.11.0\n",
      "Traceback (most recent call last):\n",
      "  File \"/home/gibbsr/anaconda3/lib/python3.8/runpy.py\", line 194, in _run_module_as_main\n",
      "    return _run_code(code, main_globals, None,\n",
      "  File \"/home/gibbsr/anaconda3/lib/python3.8/runpy.py\", line 87, in _run_code\n",
      "    exec(code, run_globals)\n",
      "  File \"/home/gibbsr/anaconda3/lib/python3.8/site-packages/ipykernel_launcher.py\", line 16, in <module>\n",
      "    app.launch_new_instance()\n",
      "  File \"/home/gibbsr/anaconda3/lib/python3.8/site-packages/traitlets/config/application.py\", line 845, in launch_instance\n",
      "    app.initialize(argv)\n",
      "  File \"/home/gibbsr/anaconda3/lib/python3.8/site-packages/traitlets/config/application.py\", line 88, in inner\n",
      "    return method(app, *args, **kwargs)\n",
      "  File \"/home/gibbsr/anaconda3/lib/python3.8/site-packages/ipykernel/kernelapp.py\", line 632, in initialize\n",
      "    self.init_sockets()\n",
      "  File \"/home/gibbsr/anaconda3/lib/python3.8/site-packages/ipykernel/kernelapp.py\", line 298, in init_sockets\n",
      "    self.init_iopub(context)\n",
      "  File \"/home/gibbsr/anaconda3/lib/python3.8/site-packages/ipykernel/kernelapp.py\", line 325, in init_iopub\n",
      "    self.iopub_port = self._bind_socket(self.iopub_socket, self.iopub_port)\n",
      "  File \"/home/gibbsr/anaconda3/lib/python3.8/site-packages/ipykernel/kernelapp.py\", line 229, in _bind_socket\n",
      "    return self._try_bind_socket(s, port)\n",
      "  File \"/home/gibbsr/anaconda3/lib/python3.8/site-packages/ipykernel/kernelapp.py\", line 205, in _try_bind_socket\n",
      "    s.bind(\"tcp://%s:%i\" % (self.ip, port))\n",
      "  File \"/home/gibbsr/anaconda3/lib/python3.8/site-packages/zmq/sugar/socket.py\", line 208, in bind\n",
      "    super().bind(addr)\n",
      "  File \"zmq/backend/cython/socket.pyx\", line 540, in zmq.backend.cython.socket.Socket.bind\n",
      "  File \"zmq/backend/cython/checkrc.pxd\", line 28, in zmq.backend.cython.checkrc._check_rc\n",
      "zmq.error.ZMQError: Address already in use\n",
      "Error in atexit._run_exitfuncs:\n",
      "Traceback (most recent call last):\n",
      "  File \"/home/gibbsr/anaconda3/lib/python3.8/site-packages/ipykernel/kernelapp.py\", line 371, in close\n",
      "    self.context.term()\n",
      "  File \"/home/gibbsr/anaconda3/lib/python3.8/site-packages/zmq/sugar/context.py\", line 183, in term\n",
      "    return super(Context, self).term()\n",
      "  File \"zmq/backend/cython/context.pyx\", line 82, in zmq.backend.cython.context.Context.term\n",
      "  File \"zmq/backend/cython/checkrc.pxd\", line 13, in zmq.backend.cython.checkrc._check_rc\n",
      "KeyboardInterrupt\n",
      "Exception in thread Thread-11:\n",
      "Traceback (most recent call last):\n",
      "  File \"/home/gibbsr/anaconda3/lib/python3.8/threading.py\", line 932, in _bootstrap_inner\n",
      "    self.run()\n",
      "  File \"/home/gibbsr/anaconda3/lib/python3.8/threading.py\", line 870, in run\n",
      "    self._target(*self._args, **self._kwargs)\n",
      "  File \"/tmp/ipykernel_62425/3998326339.py\", line 3, in run_pm_notebook\n",
      "  File \"/home/gibbsr/anaconda3/lib/python3.8/site-packages/papermill/execute.py\", line 103, in execute_notebook\n",
      "    nb = papermill_engines.execute_notebook_with_engine(\n",
      "  File \"/home/gibbsr/anaconda3/lib/python3.8/site-packages/papermill/engines.py\", line 49, in execute_notebook_with_engine\n",
      "    return self.get_engine(engine_name).execute_notebook(nb, kernel_name, **kwargs)\n",
      "  File \"/home/gibbsr/anaconda3/lib/python3.8/site-packages/papermill/engines.py\", line 343, in execute_notebook\n",
      "    cls.execute_managed_notebook(nb_man, kernel_name, log_output=log_output, **kwargs)\n",
      "  File \"/home/gibbsr/anaconda3/lib/python3.8/site-packages/papermill/engines.py\", line 402, in execute_managed_notebook\n",
      "    return PapermillNotebookClient(nb_man, **final_kwargs).execute()\n",
      "  File \"/home/gibbsr/anaconda3/lib/python3.8/site-packages/papermill/clientwrap.py\", line 43, in execute\n",
      "    with self.setup_kernel(**kwargs):\n",
      "  File \"/home/gibbsr/anaconda3/lib/python3.8/contextlib.py\", line 113, in __enter__\n",
      "    return next(self.gen)\n",
      "  File \"/home/gibbsr/anaconda3/lib/python3.8/site-packages/nbclient/client.py\", line 452, in setup_kernel\n",
      "    self.start_new_kernel_client()\n",
      "  File \"/home/gibbsr/anaconda3/lib/python3.8/site-packages/nbclient/util.py\", line 74, in wrapped\n",
      "    return just_run(coro(*args, **kwargs))\n",
      "  File \"/home/gibbsr/anaconda3/lib/python3.8/site-packages/nbclient/util.py\", line 53, in just_run\n",
      "    return loop.run_until_complete(coro)\n",
      "  File \"/home/gibbsr/anaconda3/lib/python3.8/asyncio/base_events.py\", line 616, in run_until_complete\n",
      "    return future.result()\n",
      "  File \"/home/gibbsr/anaconda3/lib/python3.8/site-packages/nbclient/client.py\", line 423, in async_start_new_kernel_client\n",
      "    await ensure_async(self.kc.wait_for_ready(timeout=self.startup_timeout))\n",
      "  File \"/home/gibbsr/anaconda3/lib/python3.8/site-packages/nbclient/util.py\", line 85, in ensure_async\n",
      "    result = await obj\n",
      "  File \"/home/gibbsr/anaconda3/lib/python3.8/site-packages/jupyter_client/client.py\", line 184, in _async_wait_for_ready\n",
      "    raise RuntimeError(\"Kernel didn't respond in %d seconds\" % timeout)\n",
      "RuntimeError: Kernel didn't respond in 60 seconds\n"
     ]
    },
    {
     "name": "stdout",
     "output_type": "stream",
     "text": [
      "CPU times: user 1min 9s, sys: 8.36 s, total: 1min 18s\n",
      "Wall time: 24min 34s\n"
     ]
    }
   ],
   "source": [
    "%%time\n",
    "# make sure the notebook output dir exists\n",
    "os.makedirs(out_nb_dir, exist_ok=True)\n",
    "\n",
    "job_threads = []\n",
    "for g_type, groups in groupings.items():\n",
    "    for grouping in groups:\n",
    "        param_dict = {'tissue': grouping, 'tissue_type': g_type, 'testing': testing}\n",
    "        out_notebook = f'{out_nb_dir}/{grouping.replace(\" \", \"_\")}.glm_pb_diffexp.ipynb'\n",
    "        print(f'notebook: {out_notebook}\\nparams: {param_dict}')\n",
    "        this_thread = threading.Thread(target=run_pm_notebook, \n",
    "                                       args=(base_notebook, out_notebook, param_dict,))\n",
    "        job_threads.append(this_thread)\n",
    "        this_thread.start()\n",
    "        \n",
    "for job_thread in job_threads:\n",
    "    job_thread.join()     "
   ]
  },
  {
   "cell_type": "code",
   "execution_count": 7,
   "id": "fc6bd7fc",
   "metadata": {},
   "outputs": [
    {
     "name": "stdout",
     "output_type": "stream",
     "text": [
      "Mon Nov  8 12:52:42 EST 2021\n"
     ]
    }
   ],
   "source": [
    "!date"
   ]
  },
  {
   "cell_type": "code",
   "execution_count": null,
   "id": "4e88cd94",
   "metadata": {},
   "outputs": [],
   "source": []
  }
 ],
 "metadata": {
  "environment": {
   "name": "common-cpu.m65",
   "type": "gcloud",
   "uri": "gcr.io/deeplearning-platform-release/base-cpu:m65"
  },
  "kernelspec": {
   "display_name": "Python 3 (ipykernel)",
   "language": "python",
   "name": "python3"
  },
  "language_info": {
   "codemirror_mode": {
    "name": "ipython",
    "version": 3
   },
   "file_extension": ".py",
   "mimetype": "text/x-python",
   "name": "python",
   "nbconvert_exporter": "python",
   "pygments_lexer": "ipython3",
   "version": "3.8.11"
  }
 },
 "nbformat": 4,
 "nbformat_minor": 5
}
