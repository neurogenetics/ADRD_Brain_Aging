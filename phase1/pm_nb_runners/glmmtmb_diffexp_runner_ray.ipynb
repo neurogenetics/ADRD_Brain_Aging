{
 "cells": [
  {
   "cell_type": "markdown",
   "id": "52427495",
   "metadata": {},
   "source": [
    "## Notebook to create an anndata object with the demuxlet identified samples mappings per sample pool via papermill"
   ]
  },
  {
   "cell_type": "code",
   "execution_count": 1,
   "id": "0ca44865",
   "metadata": {},
   "outputs": [
    {
     "name": "stdout",
     "output_type": "stream",
     "text": [
      "Tue Oct  5 17:27:11 EDT 2021\n"
     ]
    }
   ],
   "source": [
    "!date"
   ]
  },
  {
   "cell_type": "markdown",
   "id": "e55303b5",
   "metadata": {},
   "source": [
    "#### import libraries and set notebook variables"
   ]
  },
  {
   "cell_type": "code",
   "execution_count": 2,
   "id": "9af185ac",
   "metadata": {},
   "outputs": [
    {
     "name": "stderr",
     "output_type": "stream",
     "text": [
      "/home/gibbsr/anaconda3/lib/python3.8/site-packages/papermill/iorw.py:50: FutureWarning: pyarrow.HadoopFileSystem is deprecated as of 2.0.0, please use pyarrow.fs.HadoopFileSystem instead.\n",
      "  from pyarrow import HadoopFileSystem\n"
     ]
    }
   ],
   "source": [
    "import os\n",
    "import papermill as pm\n",
    "import ray"
   ]
  },
  {
   "cell_type": "code",
   "execution_count": 3,
   "id": "391f3661",
   "metadata": {},
   "outputs": [],
   "source": [
    "# naming\n",
    "cohort = 'aging'\n",
    "\n",
    "# directories\n",
    "home_dir = f'/labshare/raph/notebooks/expression/adrd_neuro/{cohort}'\n",
    "\n",
    "# base notebook to be run per tuple iteration\n",
    "base_notebook = f'{home_dir}/glmmtmb_diffexp.ipynb'\n",
    "\n",
    "# output path for the generated notebooks\n",
    "out_nb_dir = f'{home_dir}/pm_gend_nbs'\n",
    "\n",
    "# setup parameters to iterate\n",
    "brain_regions = ['Entorhinal cortex', 'Putamen', 'Subventricular zone', \n",
    "                 'Middle temporal gyrus']\n",
    "cell_types = ['Oligodendrocyte-1', 'SPN D1', 'SPN D2', 'Oligodendrocyte-2', \n",
    "              'Astrocyte', 'ExN CUX2 LAMP5', 'InN ADARB2 VIP', 'ExN FEZF2', \n",
    "              'OPC', 'ExN RORB THEMIS', 'InN LHX6 PVALB', 'Radial Glia', \n",
    "              'Microglia', 'InN ADARB2 LAMP5', 'ExN CUX2 ADARB2', \n",
    "              'InN LHX6 SST', 'SPN D1-2', 'Endothelial', 'ExN RORB', \n",
    "              'ExN LAMP5', 'Astrocyte-GFAP-Hi', 'SPN D2-2', 'ExN THEMIS']\n",
    "groupings = {'Brain_region': brain_regions, 'new_anno': cell_types}"
   ]
  },
  {
   "cell_type": "markdown",
   "id": "486621b9",
   "metadata": {},
   "source": [
    "#### utility functions"
   ]
  },
  {
   "cell_type": "code",
   "execution_count": 4,
   "id": "93332cfe",
   "metadata": {},
   "outputs": [],
   "source": [
    "@ray.remote\n",
    "def run_pm_notebook(base_notebook: str, out_notebook: str, params: dict) -> str:\n",
    "    ret_val = f'notebook: {out_notebook}\\nparams: {params}'\n",
    "    pm.execute_notebook(input_path=base_notebook, output_path=out_notebook, \n",
    "                        parameters=params, progress_bar=False)\n",
    "    #running via notebook keep blowing up, even though actually runs\n",
    "#     param_str = f'-p region_celltype \"{params.get(\"region_celltype\")}\" -p obs_type {params.get(\"obs_type\")} -p testing {params.get(\"testing\")}'\n",
    "#     this_cmd = f'papermill --no-progress-bar {base_notebook} {out_notebook} -p {param_str}'\n",
    "# #     !{this_cmd}\n",
    "    return ret_val"
   ]
  },
  {
   "cell_type": "markdown",
   "id": "e6154f42",
   "metadata": {},
   "source": [
    "#### startup ray for parallelizing calls"
   ]
  },
  {
   "cell_type": "code",
   "execution_count": 5,
   "id": "132a6ba5",
   "metadata": {},
   "outputs": [
    {
     "name": "stderr",
     "output_type": "stream",
     "text": [
      "/home/gibbsr/anaconda3/lib/python3.8/site-packages/ray/_private/services.py:238: UserWarning: Not all Ray Dashboard dependencies were found. To use the dashboard please install Ray using `pip install ray[default]`. To disable this message, set RAY_DISABLE_IMPORT_WARNING env var to '1'.\n",
      "  warnings.warn(warning_message)\n"
     ]
    },
    {
     "data": {
      "text/plain": [
       "{'node_ip_address': '156.40.49.26',\n",
       " 'raylet_ip_address': '156.40.49.26',\n",
       " 'redis_address': '156.40.49.26:6379',\n",
       " 'object_store_address': '/tmp/ray/session_2021-10-05_17-27-11_996809_55844/sockets/plasma_store',\n",
       " 'raylet_socket_name': '/tmp/ray/session_2021-10-05_17-27-11_996809_55844/sockets/raylet',\n",
       " 'webui_url': None,\n",
       " 'session_dir': '/tmp/ray/session_2021-10-05_17-27-11_996809_55844',\n",
       " 'metrics_export_port': 50486,\n",
       " 'node_id': '4a8b1c923cd0cf703ab9a59692b24b4483f7ac7b28f65f5678f34db4'}"
      ]
     },
     "execution_count": 5,
     "metadata": {},
     "output_type": "execute_result"
    }
   ],
   "source": [
    "ray.shutdown()\n",
    "ray.init(log_to_driver=False)"
   ]
  },
  {
   "cell_type": "markdown",
   "id": "a7d1dc36",
   "metadata": {},
   "source": [
    "#### check the notebook template"
   ]
  },
  {
   "cell_type": "code",
   "execution_count": 6,
   "id": "c08877d8",
   "metadata": {},
   "outputs": [
    {
     "data": {
      "text/plain": [
       "{'region_celltype': {'name': 'region_celltype',\n",
       "  'inferred_type_name': 'None',\n",
       "  'default': \"''\",\n",
       "  'help': ''},\n",
       " 'obs_type': {'name': 'obs_type',\n",
       "  'inferred_type_name': 'None',\n",
       "  'default': \"''\",\n",
       "  'help': ''},\n",
       " 'testing': {'name': 'testing',\n",
       "  'inferred_type_name': 'None',\n",
       "  'default': 'False',\n",
       "  'help': ''}}"
      ]
     },
     "execution_count": 6,
     "metadata": {},
     "output_type": "execute_result"
    }
   ],
   "source": [
    "pm.inspect_notebook(base_notebook)"
   ]
  },
  {
   "cell_type": "markdown",
   "id": "5b72a4f2",
   "metadata": {},
   "source": [
    "#### iterate over the list running the notebook per sample pool"
   ]
  },
  {
   "cell_type": "code",
   "execution_count": 7,
   "id": "705a59fb",
   "metadata": {},
   "outputs": [
    {
     "name": "stderr",
     "output_type": "stream",
     "text": [
      "2021-10-05 17:28:24,239\tERROR serialization.py:256 -- __init__() missing 5 required positional arguments: 'exec_count', 'source', 'ename', 'evalue', and 'traceback'\n",
      "Traceback (most recent call last):\n",
      "  File \"/home/gibbsr/anaconda3/lib/python3.8/site-packages/ray/serialization.py\", line 254, in deserialize_objects\n",
      "    obj = self._deserialize_object(data, metadata, object_ref)\n",
      "  File \"/home/gibbsr/anaconda3/lib/python3.8/site-packages/ray/serialization.py\", line 213, in _deserialize_object\n",
      "    return RayError.from_bytes(obj)\n",
      "  File \"/home/gibbsr/anaconda3/lib/python3.8/site-packages/ray/exceptions.py\", line 28, in from_bytes\n",
      "    return pickle.loads(ray_exception.serialized_exception)\n",
      "TypeError: __init__() missing 5 required positional arguments: 'exec_count', 'source', 'ename', 'evalue', and 'traceback'\n"
     ]
    },
    {
     "ename": "RaySystemError",
     "evalue": "System error: __init__() missing 5 required positional arguments: 'exec_count', 'source', 'ename', 'evalue', and 'traceback'\ntraceback: Traceback (most recent call last):\n  File \"/home/gibbsr/anaconda3/lib/python3.8/site-packages/ray/serialization.py\", line 254, in deserialize_objects\n    obj = self._deserialize_object(data, metadata, object_ref)\n  File \"/home/gibbsr/anaconda3/lib/python3.8/site-packages/ray/serialization.py\", line 213, in _deserialize_object\n    return RayError.from_bytes(obj)\n  File \"/home/gibbsr/anaconda3/lib/python3.8/site-packages/ray/exceptions.py\", line 28, in from_bytes\n    return pickle.loads(ray_exception.serialized_exception)\nTypeError: __init__() missing 5 required positional arguments: 'exec_count', 'source', 'ename', 'evalue', and 'traceback'\n",
     "output_type": "error",
     "traceback": [
      "\u001b[0;31m---------------------------------------------------------------------------\u001b[0m",
      "\u001b[0;31mRaySystemError\u001b[0m                            Traceback (most recent call last)",
      "\u001b[0;32m<timed exec>\u001b[0m in \u001b[0;36m<module>\u001b[0;34m\u001b[0m\n",
      "\u001b[0;32m~/anaconda3/lib/python3.8/site-packages/ray/_private/client_mode_hook.py\u001b[0m in \u001b[0;36mwrapper\u001b[0;34m(*args, **kwargs)\u001b[0m\n\u001b[1;32m     80\u001b[0m         \u001b[0;32mif\u001b[0m \u001b[0mclient_mode_should_convert\u001b[0m\u001b[0;34m(\u001b[0m\u001b[0;34m)\u001b[0m\u001b[0;34m:\u001b[0m\u001b[0;34m\u001b[0m\u001b[0;34m\u001b[0m\u001b[0m\n\u001b[1;32m     81\u001b[0m             \u001b[0;32mreturn\u001b[0m \u001b[0mgetattr\u001b[0m\u001b[0;34m(\u001b[0m\u001b[0mray\u001b[0m\u001b[0;34m,\u001b[0m \u001b[0mfunc\u001b[0m\u001b[0;34m.\u001b[0m\u001b[0m__name__\u001b[0m\u001b[0;34m)\u001b[0m\u001b[0;34m(\u001b[0m\u001b[0;34m*\u001b[0m\u001b[0margs\u001b[0m\u001b[0;34m,\u001b[0m \u001b[0;34m**\u001b[0m\u001b[0mkwargs\u001b[0m\u001b[0;34m)\u001b[0m\u001b[0;34m\u001b[0m\u001b[0;34m\u001b[0m\u001b[0m\n\u001b[0;32m---> 82\u001b[0;31m         \u001b[0;32mreturn\u001b[0m \u001b[0mfunc\u001b[0m\u001b[0;34m(\u001b[0m\u001b[0;34m*\u001b[0m\u001b[0margs\u001b[0m\u001b[0;34m,\u001b[0m \u001b[0;34m**\u001b[0m\u001b[0mkwargs\u001b[0m\u001b[0;34m)\u001b[0m\u001b[0;34m\u001b[0m\u001b[0;34m\u001b[0m\u001b[0m\n\u001b[0m\u001b[1;32m     83\u001b[0m \u001b[0;34m\u001b[0m\u001b[0m\n\u001b[1;32m     84\u001b[0m     \u001b[0;32mreturn\u001b[0m \u001b[0mwrapper\u001b[0m\u001b[0;34m\u001b[0m\u001b[0;34m\u001b[0m\u001b[0m\n",
      "\u001b[0;32m~/anaconda3/lib/python3.8/site-packages/ray/worker.py\u001b[0m in \u001b[0;36mget\u001b[0;34m(object_refs, timeout)\u001b[0m\n\u001b[1;32m   1621\u001b[0m                     \u001b[0;32mraise\u001b[0m \u001b[0mvalue\u001b[0m\u001b[0;34m.\u001b[0m\u001b[0mas_instanceof_cause\u001b[0m\u001b[0;34m(\u001b[0m\u001b[0;34m)\u001b[0m\u001b[0;34m\u001b[0m\u001b[0;34m\u001b[0m\u001b[0m\n\u001b[1;32m   1622\u001b[0m                 \u001b[0;32melse\u001b[0m\u001b[0;34m:\u001b[0m\u001b[0;34m\u001b[0m\u001b[0;34m\u001b[0m\u001b[0m\n\u001b[0;32m-> 1623\u001b[0;31m                     \u001b[0;32mraise\u001b[0m \u001b[0mvalue\u001b[0m\u001b[0;34m\u001b[0m\u001b[0;34m\u001b[0m\u001b[0m\n\u001b[0m\u001b[1;32m   1624\u001b[0m \u001b[0;34m\u001b[0m\u001b[0m\n\u001b[1;32m   1625\u001b[0m         \u001b[0;32mif\u001b[0m \u001b[0mis_individual_id\u001b[0m\u001b[0;34m:\u001b[0m\u001b[0;34m\u001b[0m\u001b[0;34m\u001b[0m\u001b[0m\n",
      "\u001b[0;31mRaySystemError\u001b[0m: System error: __init__() missing 5 required positional arguments: 'exec_count', 'source', 'ename', 'evalue', and 'traceback'\ntraceback: Traceback (most recent call last):\n  File \"/home/gibbsr/anaconda3/lib/python3.8/site-packages/ray/serialization.py\", line 254, in deserialize_objects\n    obj = self._deserialize_object(data, metadata, object_ref)\n  File \"/home/gibbsr/anaconda3/lib/python3.8/site-packages/ray/serialization.py\", line 213, in _deserialize_object\n    return RayError.from_bytes(obj)\n  File \"/home/gibbsr/anaconda3/lib/python3.8/site-packages/ray/exceptions.py\", line 28, in from_bytes\n    return pickle.loads(ray_exception.serialized_exception)\nTypeError: __init__() missing 5 required positional arguments: 'exec_count', 'source', 'ename', 'evalue', and 'traceback'\n"
     ]
    }
   ],
   "source": [
    "%%time\n",
    "# make sure the notebook output dir exists\n",
    "os.makedirs(out_nb_dir, exist_ok=True)\n",
    "\n",
    "futures = []\n",
    "for g_type, groups in groupings.items():\n",
    "    for grouping in groups:\n",
    "        param_dict = {'region_celltype': grouping, 'obs_type': g_type, 'testing': True}\n",
    "        out_notebook = f'{out_nb_dir}/{grouping.replace(\" \", \"_\")}.glmmtmb_diffexp.ipynb'\n",
    "        futures.append(run_pm_notebook.remote(base_notebook, out_notebook, param_dict))\n",
    "#         futures.append(run_pm_notebook(base_notebook, out_notebook, param_dict))\n",
    "results = ray.get(futures)        "
   ]
  },
  {
   "cell_type": "code",
   "execution_count": 8,
   "id": "25ad963c",
   "metadata": {},
   "outputs": [
    {
     "ename": "NameError",
     "evalue": "name 'results' is not defined",
     "output_type": "error",
     "traceback": [
      "\u001b[0;31m---------------------------------------------------------------------------\u001b[0m",
      "\u001b[0;31mNameError\u001b[0m                                 Traceback (most recent call last)",
      "\u001b[0;32m/tmp/ipykernel_55844/4199824928.py\u001b[0m in \u001b[0;36m<module>\u001b[0;34m\u001b[0m\n\u001b[0;32m----> 1\u001b[0;31m \u001b[0mprint\u001b[0m\u001b[0;34m(\u001b[0m\u001b[0mresults\u001b[0m\u001b[0;34m)\u001b[0m\u001b[0;34m\u001b[0m\u001b[0;34m\u001b[0m\u001b[0m\n\u001b[0m",
      "\u001b[0;31mNameError\u001b[0m: name 'results' is not defined"
     ]
    }
   ],
   "source": [
    "print(results)"
   ]
  },
  {
   "cell_type": "markdown",
   "id": "4d68b688",
   "metadata": {},
   "source": [
    "#### shutdown ray"
   ]
  },
  {
   "cell_type": "code",
   "execution_count": null,
   "id": "5bd28d86",
   "metadata": {},
   "outputs": [],
   "source": [
    "ray.shutdown()"
   ]
  }
 ],
 "metadata": {
  "environment": {
   "name": "common-cpu.m65",
   "type": "gcloud",
   "uri": "gcr.io/deeplearning-platform-release/base-cpu:m65"
  },
  "kernelspec": {
   "display_name": "Python 3 (ipykernel)",
   "language": "python",
   "name": "python3"
  },
  "language_info": {
   "codemirror_mode": {
    "name": "ipython",
    "version": 3
   },
   "file_extension": ".py",
   "mimetype": "text/x-python",
   "name": "python",
   "nbconvert_exporter": "python",
   "pygments_lexer": "ipython3",
   "version": "3.8.11"
  }
 },
 "nbformat": 4,
 "nbformat_minor": 5
}
