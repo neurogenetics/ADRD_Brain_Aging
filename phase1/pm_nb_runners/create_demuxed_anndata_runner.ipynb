{
 "cells": [
  {
   "cell_type": "markdown",
   "id": "0f4ab164",
   "metadata": {},
   "source": [
    "## Notebook to create an anndata object with the demuxlet identified samples mappings per sample pool via papermill"
   ]
  },
  {
   "cell_type": "code",
   "execution_count": 1,
   "id": "20dcb7e2",
   "metadata": {},
   "outputs": [
    {
     "name": "stdout",
     "output_type": "stream",
     "text": [
      "Sun Jul 18 23:57:46 EDT 2021\n"
     ]
    }
   ],
   "source": [
    "!date"
   ]
  },
  {
   "cell_type": "markdown",
   "id": "99fb5c9e",
   "metadata": {},
   "source": [
    "#### import libraries and set notebook variables"
   ]
  },
  {
   "cell_type": "code",
   "execution_count": 2,
   "id": "fa17b142",
   "metadata": {},
   "outputs": [
    {
     "name": "stderr",
     "output_type": "stream",
     "text": [
      "/home/gibbsr/anaconda3/lib/python3.8/site-packages/papermill/iorw.py:50: FutureWarning: pyarrow.HadoopFileSystem is deprecated as of 2.0.0, please use pyarrow.fs.HadoopFileSystem instead.\n",
      "  from pyarrow import HadoopFileSystem\n"
     ]
    }
   ],
   "source": [
    "import os\n",
    "import papermill as pm"
   ]
  },
  {
   "cell_type": "code",
   "execution_count": 3,
   "id": "3cf545d7",
   "metadata": {},
   "outputs": [],
   "source": [
    "# naming\n",
    "cohort = 'aging'\n",
    "\n",
    "# directories\n",
    "home_dir = f'/labshare/raph/notebooks/expression/adrd_neuro/{cohort}'\n",
    "\n",
    "# base notebook to be run per tuple iteration\n",
    "base_notebook = f'{home_dir}/create_anndata_with_demuxlet_identified_donors.ipynb'\n",
    "\n",
    "# output path for the generated notebooks\n",
    "out_nb_dir = f'{home_dir}/pm_gend_nbs'\n",
    "\n",
    "# setup parameters to iterate\n",
    "pool_names = []\n",
    "for pnum in range(1, 7):\n",
    "    for lane in range(1, 9):\n",
    "        pool_names.append(f'Aging_P00{pnum}_SCRN_{lane}')"
   ]
  },
  {
   "cell_type": "markdown",
   "id": "1927b86a",
   "metadata": {},
   "source": [
    "#### iterate over the list running the notebook per sample pool"
   ]
  },
  {
   "cell_type": "code",
   "execution_count": 4,
   "id": "102b17ff",
   "metadata": {},
   "outputs": [
    {
     "name": "stdout",
     "output_type": "stream",
     "text": [
      "{'cohort': 'aging', 'pool_name': 'Aging_P001_SCRN_1'}\n",
      "/labshare/raph/notebooks/expression/adrd_neuro/aging/pm_gend_nbs/Aging_P001_SCRN_1.create_demuxed_anndata.ipynb\n"
     ]
    },
    {
     "data": {
      "application/vnd.jupyter.widget-view+json": {
       "model_id": "a69dc14d034745ba99e36a98197ca53f",
       "version_major": 2,
       "version_minor": 0
      },
      "text/plain": [
       "Executing:   0%|          | 0/41 [00:00<?, ?cell/s]"
      ]
     },
     "metadata": {},
     "output_type": "display_data"
    },
    {
     "name": "stdout",
     "output_type": "stream",
     "text": [
      "{'cohort': 'aging', 'pool_name': 'Aging_P001_SCRN_2'}\n",
      "/labshare/raph/notebooks/expression/adrd_neuro/aging/pm_gend_nbs/Aging_P001_SCRN_2.create_demuxed_anndata.ipynb\n"
     ]
    },
    {
     "data": {
      "application/vnd.jupyter.widget-view+json": {
       "model_id": "2308b715722a4c5baa95904fe25087f7",
       "version_major": 2,
       "version_minor": 0
      },
      "text/plain": [
       "Executing:   0%|          | 0/41 [00:00<?, ?cell/s]"
      ]
     },
     "metadata": {},
     "output_type": "display_data"
    },
    {
     "name": "stdout",
     "output_type": "stream",
     "text": [
      "{'cohort': 'aging', 'pool_name': 'Aging_P001_SCRN_3'}\n",
      "/labshare/raph/notebooks/expression/adrd_neuro/aging/pm_gend_nbs/Aging_P001_SCRN_3.create_demuxed_anndata.ipynb\n"
     ]
    },
    {
     "data": {
      "application/vnd.jupyter.widget-view+json": {
       "model_id": "3779b4ea744e46fd8de3855ec2eb271e",
       "version_major": 2,
       "version_minor": 0
      },
      "text/plain": [
       "Executing:   0%|          | 0/41 [00:00<?, ?cell/s]"
      ]
     },
     "metadata": {},
     "output_type": "display_data"
    },
    {
     "name": "stdout",
     "output_type": "stream",
     "text": [
      "{'cohort': 'aging', 'pool_name': 'Aging_P001_SCRN_4'}\n",
      "/labshare/raph/notebooks/expression/adrd_neuro/aging/pm_gend_nbs/Aging_P001_SCRN_4.create_demuxed_anndata.ipynb\n"
     ]
    },
    {
     "data": {
      "application/vnd.jupyter.widget-view+json": {
       "model_id": "c934191ae0484388ae5955eb6cf28471",
       "version_major": 2,
       "version_minor": 0
      },
      "text/plain": [
       "Executing:   0%|          | 0/41 [00:00<?, ?cell/s]"
      ]
     },
     "metadata": {},
     "output_type": "display_data"
    },
    {
     "name": "stdout",
     "output_type": "stream",
     "text": [
      "{'cohort': 'aging', 'pool_name': 'Aging_P001_SCRN_5'}\n",
      "/labshare/raph/notebooks/expression/adrd_neuro/aging/pm_gend_nbs/Aging_P001_SCRN_5.create_demuxed_anndata.ipynb\n"
     ]
    },
    {
     "data": {
      "application/vnd.jupyter.widget-view+json": {
       "model_id": "9a4a9381b0a04b4183c92d3b68fdbb13",
       "version_major": 2,
       "version_minor": 0
      },
      "text/plain": [
       "Executing:   0%|          | 0/41 [00:00<?, ?cell/s]"
      ]
     },
     "metadata": {},
     "output_type": "display_data"
    },
    {
     "name": "stdout",
     "output_type": "stream",
     "text": [
      "{'cohort': 'aging', 'pool_name': 'Aging_P001_SCRN_6'}\n",
      "/labshare/raph/notebooks/expression/adrd_neuro/aging/pm_gend_nbs/Aging_P001_SCRN_6.create_demuxed_anndata.ipynb\n"
     ]
    },
    {
     "data": {
      "application/vnd.jupyter.widget-view+json": {
       "model_id": "7a355813b413466b806e494e4abd1d3a",
       "version_major": 2,
       "version_minor": 0
      },
      "text/plain": [
       "Executing:   0%|          | 0/41 [00:00<?, ?cell/s]"
      ]
     },
     "metadata": {},
     "output_type": "display_data"
    },
    {
     "name": "stdout",
     "output_type": "stream",
     "text": [
      "{'cohort': 'aging', 'pool_name': 'Aging_P001_SCRN_7'}\n",
      "/labshare/raph/notebooks/expression/adrd_neuro/aging/pm_gend_nbs/Aging_P001_SCRN_7.create_demuxed_anndata.ipynb\n"
     ]
    },
    {
     "data": {
      "application/vnd.jupyter.widget-view+json": {
       "model_id": "bfc42cab5775442db0a5c5d076267b7c",
       "version_major": 2,
       "version_minor": 0
      },
      "text/plain": [
       "Executing:   0%|          | 0/41 [00:00<?, ?cell/s]"
      ]
     },
     "metadata": {},
     "output_type": "display_data"
    },
    {
     "name": "stdout",
     "output_type": "stream",
     "text": [
      "{'cohort': 'aging', 'pool_name': 'Aging_P001_SCRN_8'}\n",
      "/labshare/raph/notebooks/expression/adrd_neuro/aging/pm_gend_nbs/Aging_P001_SCRN_8.create_demuxed_anndata.ipynb\n"
     ]
    },
    {
     "data": {
      "application/vnd.jupyter.widget-view+json": {
       "model_id": "09808b45688d48f3b78ad2650d450ce9",
       "version_major": 2,
       "version_minor": 0
      },
      "text/plain": [
       "Executing:   0%|          | 0/41 [00:00<?, ?cell/s]"
      ]
     },
     "metadata": {},
     "output_type": "display_data"
    },
    {
     "name": "stdout",
     "output_type": "stream",
     "text": [
      "{'cohort': 'aging', 'pool_name': 'Aging_P002_SCRN_1'}\n",
      "/labshare/raph/notebooks/expression/adrd_neuro/aging/pm_gend_nbs/Aging_P002_SCRN_1.create_demuxed_anndata.ipynb\n"
     ]
    },
    {
     "data": {
      "application/vnd.jupyter.widget-view+json": {
       "model_id": "f2a9bd4782c244bd88135101f0410021",
       "version_major": 2,
       "version_minor": 0
      },
      "text/plain": [
       "Executing:   0%|          | 0/41 [00:00<?, ?cell/s]"
      ]
     },
     "metadata": {},
     "output_type": "display_data"
    },
    {
     "name": "stdout",
     "output_type": "stream",
     "text": [
      "{'cohort': 'aging', 'pool_name': 'Aging_P002_SCRN_2'}\n",
      "/labshare/raph/notebooks/expression/adrd_neuro/aging/pm_gend_nbs/Aging_P002_SCRN_2.create_demuxed_anndata.ipynb\n"
     ]
    },
    {
     "data": {
      "application/vnd.jupyter.widget-view+json": {
       "model_id": "c783d3e0983b4d3c869e710c4d91fc45",
       "version_major": 2,
       "version_minor": 0
      },
      "text/plain": [
       "Executing:   0%|          | 0/41 [00:00<?, ?cell/s]"
      ]
     },
     "metadata": {},
     "output_type": "display_data"
    },
    {
     "name": "stdout",
     "output_type": "stream",
     "text": [
      "{'cohort': 'aging', 'pool_name': 'Aging_P002_SCRN_3'}\n",
      "/labshare/raph/notebooks/expression/adrd_neuro/aging/pm_gend_nbs/Aging_P002_SCRN_3.create_demuxed_anndata.ipynb\n"
     ]
    },
    {
     "data": {
      "application/vnd.jupyter.widget-view+json": {
       "model_id": "cb390101e91c44079dc4f33aede0b59d",
       "version_major": 2,
       "version_minor": 0
      },
      "text/plain": [
       "Executing:   0%|          | 0/41 [00:00<?, ?cell/s]"
      ]
     },
     "metadata": {},
     "output_type": "display_data"
    },
    {
     "name": "stdout",
     "output_type": "stream",
     "text": [
      "{'cohort': 'aging', 'pool_name': 'Aging_P002_SCRN_4'}\n",
      "/labshare/raph/notebooks/expression/adrd_neuro/aging/pm_gend_nbs/Aging_P002_SCRN_4.create_demuxed_anndata.ipynb\n"
     ]
    },
    {
     "data": {
      "application/vnd.jupyter.widget-view+json": {
       "model_id": "7b25363a7e214705b70c55b871eefd7c",
       "version_major": 2,
       "version_minor": 0
      },
      "text/plain": [
       "Executing:   0%|          | 0/41 [00:00<?, ?cell/s]"
      ]
     },
     "metadata": {},
     "output_type": "display_data"
    },
    {
     "name": "stdout",
     "output_type": "stream",
     "text": [
      "{'cohort': 'aging', 'pool_name': 'Aging_P002_SCRN_5'}\n",
      "/labshare/raph/notebooks/expression/adrd_neuro/aging/pm_gend_nbs/Aging_P002_SCRN_5.create_demuxed_anndata.ipynb\n"
     ]
    },
    {
     "data": {
      "application/vnd.jupyter.widget-view+json": {
       "model_id": "35a5fc2b7ec94efc84f7284eb49c1b16",
       "version_major": 2,
       "version_minor": 0
      },
      "text/plain": [
       "Executing:   0%|          | 0/41 [00:00<?, ?cell/s]"
      ]
     },
     "metadata": {},
     "output_type": "display_data"
    },
    {
     "name": "stdout",
     "output_type": "stream",
     "text": [
      "{'cohort': 'aging', 'pool_name': 'Aging_P002_SCRN_6'}\n",
      "/labshare/raph/notebooks/expression/adrd_neuro/aging/pm_gend_nbs/Aging_P002_SCRN_6.create_demuxed_anndata.ipynb\n"
     ]
    },
    {
     "data": {
      "application/vnd.jupyter.widget-view+json": {
       "model_id": "bcb05717d96c422d84f206028dda48a1",
       "version_major": 2,
       "version_minor": 0
      },
      "text/plain": [
       "Executing:   0%|          | 0/41 [00:00<?, ?cell/s]"
      ]
     },
     "metadata": {},
     "output_type": "display_data"
    },
    {
     "name": "stdout",
     "output_type": "stream",
     "text": [
      "{'cohort': 'aging', 'pool_name': 'Aging_P002_SCRN_7'}\n",
      "/labshare/raph/notebooks/expression/adrd_neuro/aging/pm_gend_nbs/Aging_P002_SCRN_7.create_demuxed_anndata.ipynb\n"
     ]
    },
    {
     "data": {
      "application/vnd.jupyter.widget-view+json": {
       "model_id": "0669cc02892c47ecb86201edf21fe6e0",
       "version_major": 2,
       "version_minor": 0
      },
      "text/plain": [
       "Executing:   0%|          | 0/41 [00:00<?, ?cell/s]"
      ]
     },
     "metadata": {},
     "output_type": "display_data"
    },
    {
     "name": "stdout",
     "output_type": "stream",
     "text": [
      "{'cohort': 'aging', 'pool_name': 'Aging_P002_SCRN_8'}\n",
      "/labshare/raph/notebooks/expression/adrd_neuro/aging/pm_gend_nbs/Aging_P002_SCRN_8.create_demuxed_anndata.ipynb\n"
     ]
    },
    {
     "data": {
      "application/vnd.jupyter.widget-view+json": {
       "model_id": "d090debbc26f4512888a051bbc861eaa",
       "version_major": 2,
       "version_minor": 0
      },
      "text/plain": [
       "Executing:   0%|          | 0/41 [00:00<?, ?cell/s]"
      ]
     },
     "metadata": {},
     "output_type": "display_data"
    },
    {
     "name": "stdout",
     "output_type": "stream",
     "text": [
      "{'cohort': 'aging', 'pool_name': 'Aging_P003_SCRN_1'}\n",
      "/labshare/raph/notebooks/expression/adrd_neuro/aging/pm_gend_nbs/Aging_P003_SCRN_1.create_demuxed_anndata.ipynb\n"
     ]
    },
    {
     "data": {
      "application/vnd.jupyter.widget-view+json": {
       "model_id": "8d62759b4f3748cd97a8ab8d801e122f",
       "version_major": 2,
       "version_minor": 0
      },
      "text/plain": [
       "Executing:   0%|          | 0/41 [00:00<?, ?cell/s]"
      ]
     },
     "metadata": {},
     "output_type": "display_data"
    },
    {
     "name": "stdout",
     "output_type": "stream",
     "text": [
      "{'cohort': 'aging', 'pool_name': 'Aging_P003_SCRN_2'}\n",
      "/labshare/raph/notebooks/expression/adrd_neuro/aging/pm_gend_nbs/Aging_P003_SCRN_2.create_demuxed_anndata.ipynb\n"
     ]
    },
    {
     "data": {
      "application/vnd.jupyter.widget-view+json": {
       "model_id": "de667ff7fc344609b40fe8d0815fe576",
       "version_major": 2,
       "version_minor": 0
      },
      "text/plain": [
       "Executing:   0%|          | 0/41 [00:00<?, ?cell/s]"
      ]
     },
     "metadata": {},
     "output_type": "display_data"
    },
    {
     "name": "stdout",
     "output_type": "stream",
     "text": [
      "{'cohort': 'aging', 'pool_name': 'Aging_P003_SCRN_3'}\n",
      "/labshare/raph/notebooks/expression/adrd_neuro/aging/pm_gend_nbs/Aging_P003_SCRN_3.create_demuxed_anndata.ipynb\n"
     ]
    },
    {
     "data": {
      "application/vnd.jupyter.widget-view+json": {
       "model_id": "305cde2bac19470b8d454ac7588e3514",
       "version_major": 2,
       "version_minor": 0
      },
      "text/plain": [
       "Executing:   0%|          | 0/41 [00:00<?, ?cell/s]"
      ]
     },
     "metadata": {},
     "output_type": "display_data"
    },
    {
     "name": "stdout",
     "output_type": "stream",
     "text": [
      "{'cohort': 'aging', 'pool_name': 'Aging_P003_SCRN_4'}\n",
      "/labshare/raph/notebooks/expression/adrd_neuro/aging/pm_gend_nbs/Aging_P003_SCRN_4.create_demuxed_anndata.ipynb\n"
     ]
    },
    {
     "data": {
      "application/vnd.jupyter.widget-view+json": {
       "model_id": "5980234707a34cf689c5de2afc90088f",
       "version_major": 2,
       "version_minor": 0
      },
      "text/plain": [
       "Executing:   0%|          | 0/41 [00:00<?, ?cell/s]"
      ]
     },
     "metadata": {},
     "output_type": "display_data"
    },
    {
     "name": "stdout",
     "output_type": "stream",
     "text": [
      "{'cohort': 'aging', 'pool_name': 'Aging_P003_SCRN_5'}\n",
      "/labshare/raph/notebooks/expression/adrd_neuro/aging/pm_gend_nbs/Aging_P003_SCRN_5.create_demuxed_anndata.ipynb\n"
     ]
    },
    {
     "data": {
      "application/vnd.jupyter.widget-view+json": {
       "model_id": "f4b7cf8c5e8e4bdea951ad8a448dcb04",
       "version_major": 2,
       "version_minor": 0
      },
      "text/plain": [
       "Executing:   0%|          | 0/41 [00:00<?, ?cell/s]"
      ]
     },
     "metadata": {},
     "output_type": "display_data"
    },
    {
     "name": "stdout",
     "output_type": "stream",
     "text": [
      "{'cohort': 'aging', 'pool_name': 'Aging_P003_SCRN_6'}\n",
      "/labshare/raph/notebooks/expression/adrd_neuro/aging/pm_gend_nbs/Aging_P003_SCRN_6.create_demuxed_anndata.ipynb\n"
     ]
    },
    {
     "data": {
      "application/vnd.jupyter.widget-view+json": {
       "model_id": "39c8c91126054a90bfbdd2bca5cdb563",
       "version_major": 2,
       "version_minor": 0
      },
      "text/plain": [
       "Executing:   0%|          | 0/41 [00:00<?, ?cell/s]"
      ]
     },
     "metadata": {},
     "output_type": "display_data"
    },
    {
     "name": "stdout",
     "output_type": "stream",
     "text": [
      "{'cohort': 'aging', 'pool_name': 'Aging_P003_SCRN_7'}\n",
      "/labshare/raph/notebooks/expression/adrd_neuro/aging/pm_gend_nbs/Aging_P003_SCRN_7.create_demuxed_anndata.ipynb\n"
     ]
    },
    {
     "data": {
      "application/vnd.jupyter.widget-view+json": {
       "model_id": "1946182321014248ae6f93d2b9c9c9c8",
       "version_major": 2,
       "version_minor": 0
      },
      "text/plain": [
       "Executing:   0%|          | 0/41 [00:00<?, ?cell/s]"
      ]
     },
     "metadata": {},
     "output_type": "display_data"
    },
    {
     "name": "stdout",
     "output_type": "stream",
     "text": [
      "{'cohort': 'aging', 'pool_name': 'Aging_P003_SCRN_8'}\n",
      "/labshare/raph/notebooks/expression/adrd_neuro/aging/pm_gend_nbs/Aging_P003_SCRN_8.create_demuxed_anndata.ipynb\n"
     ]
    },
    {
     "data": {
      "application/vnd.jupyter.widget-view+json": {
       "model_id": "0c6b4b616d324958afe42ccd02d88fc3",
       "version_major": 2,
       "version_minor": 0
      },
      "text/plain": [
       "Executing:   0%|          | 0/41 [00:00<?, ?cell/s]"
      ]
     },
     "metadata": {},
     "output_type": "display_data"
    },
    {
     "name": "stdout",
     "output_type": "stream",
     "text": [
      "{'cohort': 'aging', 'pool_name': 'Aging_P004_SCRN_1'}\n",
      "/labshare/raph/notebooks/expression/adrd_neuro/aging/pm_gend_nbs/Aging_P004_SCRN_1.create_demuxed_anndata.ipynb\n"
     ]
    },
    {
     "data": {
      "application/vnd.jupyter.widget-view+json": {
       "model_id": "eb9fdd8eaea64dfeb4a5d8b299a29cab",
       "version_major": 2,
       "version_minor": 0
      },
      "text/plain": [
       "Executing:   0%|          | 0/41 [00:00<?, ?cell/s]"
      ]
     },
     "metadata": {},
     "output_type": "display_data"
    },
    {
     "name": "stdout",
     "output_type": "stream",
     "text": [
      "{'cohort': 'aging', 'pool_name': 'Aging_P004_SCRN_2'}\n",
      "/labshare/raph/notebooks/expression/adrd_neuro/aging/pm_gend_nbs/Aging_P004_SCRN_2.create_demuxed_anndata.ipynb\n"
     ]
    },
    {
     "data": {
      "application/vnd.jupyter.widget-view+json": {
       "model_id": "d918be3ae54f4d8292b70a3f9c42a031",
       "version_major": 2,
       "version_minor": 0
      },
      "text/plain": [
       "Executing:   0%|          | 0/41 [00:00<?, ?cell/s]"
      ]
     },
     "metadata": {},
     "output_type": "display_data"
    },
    {
     "name": "stdout",
     "output_type": "stream",
     "text": [
      "{'cohort': 'aging', 'pool_name': 'Aging_P004_SCRN_3'}\n",
      "/labshare/raph/notebooks/expression/adrd_neuro/aging/pm_gend_nbs/Aging_P004_SCRN_3.create_demuxed_anndata.ipynb\n"
     ]
    },
    {
     "data": {
      "application/vnd.jupyter.widget-view+json": {
       "model_id": "bffd24c27c28466ab7bf8b6dfd406ef0",
       "version_major": 2,
       "version_minor": 0
      },
      "text/plain": [
       "Executing:   0%|          | 0/41 [00:00<?, ?cell/s]"
      ]
     },
     "metadata": {},
     "output_type": "display_data"
    },
    {
     "name": "stdout",
     "output_type": "stream",
     "text": [
      "{'cohort': 'aging', 'pool_name': 'Aging_P004_SCRN_4'}\n",
      "/labshare/raph/notebooks/expression/adrd_neuro/aging/pm_gend_nbs/Aging_P004_SCRN_4.create_demuxed_anndata.ipynb\n"
     ]
    },
    {
     "data": {
      "application/vnd.jupyter.widget-view+json": {
       "model_id": "f3d6e20f4a4841e281f55d83ad7b5415",
       "version_major": 2,
       "version_minor": 0
      },
      "text/plain": [
       "Executing:   0%|          | 0/41 [00:00<?, ?cell/s]"
      ]
     },
     "metadata": {},
     "output_type": "display_data"
    },
    {
     "name": "stdout",
     "output_type": "stream",
     "text": [
      "{'cohort': 'aging', 'pool_name': 'Aging_P004_SCRN_5'}\n",
      "/labshare/raph/notebooks/expression/adrd_neuro/aging/pm_gend_nbs/Aging_P004_SCRN_5.create_demuxed_anndata.ipynb\n"
     ]
    },
    {
     "data": {
      "application/vnd.jupyter.widget-view+json": {
       "model_id": "03ece05b9c7d41f0ae56dc725314318a",
       "version_major": 2,
       "version_minor": 0
      },
      "text/plain": [
       "Executing:   0%|          | 0/41 [00:00<?, ?cell/s]"
      ]
     },
     "metadata": {},
     "output_type": "display_data"
    },
    {
     "name": "stdout",
     "output_type": "stream",
     "text": [
      "{'cohort': 'aging', 'pool_name': 'Aging_P004_SCRN_6'}\n",
      "/labshare/raph/notebooks/expression/adrd_neuro/aging/pm_gend_nbs/Aging_P004_SCRN_6.create_demuxed_anndata.ipynb\n"
     ]
    },
    {
     "data": {
      "application/vnd.jupyter.widget-view+json": {
       "model_id": "39e2d6ef2c1b4cbf9ec2b5da9cd1030e",
       "version_major": 2,
       "version_minor": 0
      },
      "text/plain": [
       "Executing:   0%|          | 0/41 [00:00<?, ?cell/s]"
      ]
     },
     "metadata": {},
     "output_type": "display_data"
    },
    {
     "name": "stdout",
     "output_type": "stream",
     "text": [
      "{'cohort': 'aging', 'pool_name': 'Aging_P004_SCRN_7'}\n",
      "/labshare/raph/notebooks/expression/adrd_neuro/aging/pm_gend_nbs/Aging_P004_SCRN_7.create_demuxed_anndata.ipynb\n"
     ]
    },
    {
     "data": {
      "application/vnd.jupyter.widget-view+json": {
       "model_id": "4f52d17e1d1a4e6c8bce917105eb7ee6",
       "version_major": 2,
       "version_minor": 0
      },
      "text/plain": [
       "Executing:   0%|          | 0/41 [00:00<?, ?cell/s]"
      ]
     },
     "metadata": {},
     "output_type": "display_data"
    },
    {
     "name": "stdout",
     "output_type": "stream",
     "text": [
      "{'cohort': 'aging', 'pool_name': 'Aging_P004_SCRN_8'}\n",
      "/labshare/raph/notebooks/expression/adrd_neuro/aging/pm_gend_nbs/Aging_P004_SCRN_8.create_demuxed_anndata.ipynb\n"
     ]
    },
    {
     "data": {
      "application/vnd.jupyter.widget-view+json": {
       "model_id": "0f392d618ce44641a3be8fa6ffa4938f",
       "version_major": 2,
       "version_minor": 0
      },
      "text/plain": [
       "Executing:   0%|          | 0/41 [00:00<?, ?cell/s]"
      ]
     },
     "metadata": {},
     "output_type": "display_data"
    },
    {
     "name": "stdout",
     "output_type": "stream",
     "text": [
      "{'cohort': 'aging', 'pool_name': 'Aging_P005_SCRN_1'}\n",
      "/labshare/raph/notebooks/expression/adrd_neuro/aging/pm_gend_nbs/Aging_P005_SCRN_1.create_demuxed_anndata.ipynb\n"
     ]
    },
    {
     "data": {
      "application/vnd.jupyter.widget-view+json": {
       "model_id": "450e5d57fb0a470e965a0a35fe7653c4",
       "version_major": 2,
       "version_minor": 0
      },
      "text/plain": [
       "Executing:   0%|          | 0/41 [00:00<?, ?cell/s]"
      ]
     },
     "metadata": {},
     "output_type": "display_data"
    },
    {
     "name": "stdout",
     "output_type": "stream",
     "text": [
      "{'cohort': 'aging', 'pool_name': 'Aging_P005_SCRN_2'}\n",
      "/labshare/raph/notebooks/expression/adrd_neuro/aging/pm_gend_nbs/Aging_P005_SCRN_2.create_demuxed_anndata.ipynb\n"
     ]
    },
    {
     "data": {
      "application/vnd.jupyter.widget-view+json": {
       "model_id": "98967ced361141159e9cf734f69f844c",
       "version_major": 2,
       "version_minor": 0
      },
      "text/plain": [
       "Executing:   0%|          | 0/41 [00:00<?, ?cell/s]"
      ]
     },
     "metadata": {},
     "output_type": "display_data"
    },
    {
     "name": "stdout",
     "output_type": "stream",
     "text": [
      "{'cohort': 'aging', 'pool_name': 'Aging_P005_SCRN_3'}\n",
      "/labshare/raph/notebooks/expression/adrd_neuro/aging/pm_gend_nbs/Aging_P005_SCRN_3.create_demuxed_anndata.ipynb\n"
     ]
    },
    {
     "data": {
      "application/vnd.jupyter.widget-view+json": {
       "model_id": "719f5c7bc9e349a0abe8050cad04f0a0",
       "version_major": 2,
       "version_minor": 0
      },
      "text/plain": [
       "Executing:   0%|          | 0/41 [00:00<?, ?cell/s]"
      ]
     },
     "metadata": {},
     "output_type": "display_data"
    },
    {
     "name": "stdout",
     "output_type": "stream",
     "text": [
      "{'cohort': 'aging', 'pool_name': 'Aging_P005_SCRN_4'}\n",
      "/labshare/raph/notebooks/expression/adrd_neuro/aging/pm_gend_nbs/Aging_P005_SCRN_4.create_demuxed_anndata.ipynb\n"
     ]
    },
    {
     "data": {
      "application/vnd.jupyter.widget-view+json": {
       "model_id": "c16eaf1242da47e1be7169cfdc15570f",
       "version_major": 2,
       "version_minor": 0
      },
      "text/plain": [
       "Executing:   0%|          | 0/41 [00:00<?, ?cell/s]"
      ]
     },
     "metadata": {},
     "output_type": "display_data"
    },
    {
     "name": "stdout",
     "output_type": "stream",
     "text": [
      "{'cohort': 'aging', 'pool_name': 'Aging_P005_SCRN_5'}\n",
      "/labshare/raph/notebooks/expression/adrd_neuro/aging/pm_gend_nbs/Aging_P005_SCRN_5.create_demuxed_anndata.ipynb\n"
     ]
    },
    {
     "data": {
      "application/vnd.jupyter.widget-view+json": {
       "model_id": "8dd3a7cbd1464cd38f380e9819bcfddb",
       "version_major": 2,
       "version_minor": 0
      },
      "text/plain": [
       "Executing:   0%|          | 0/41 [00:00<?, ?cell/s]"
      ]
     },
     "metadata": {},
     "output_type": "display_data"
    },
    {
     "name": "stdout",
     "output_type": "stream",
     "text": [
      "{'cohort': 'aging', 'pool_name': 'Aging_P005_SCRN_6'}\n",
      "/labshare/raph/notebooks/expression/adrd_neuro/aging/pm_gend_nbs/Aging_P005_SCRN_6.create_demuxed_anndata.ipynb\n"
     ]
    },
    {
     "data": {
      "application/vnd.jupyter.widget-view+json": {
       "model_id": "6754e8fbdca044559c72ce2af0fc0851",
       "version_major": 2,
       "version_minor": 0
      },
      "text/plain": [
       "Executing:   0%|          | 0/41 [00:00<?, ?cell/s]"
      ]
     },
     "metadata": {},
     "output_type": "display_data"
    },
    {
     "name": "stdout",
     "output_type": "stream",
     "text": [
      "{'cohort': 'aging', 'pool_name': 'Aging_P005_SCRN_7'}\n",
      "/labshare/raph/notebooks/expression/adrd_neuro/aging/pm_gend_nbs/Aging_P005_SCRN_7.create_demuxed_anndata.ipynb\n"
     ]
    },
    {
     "data": {
      "application/vnd.jupyter.widget-view+json": {
       "model_id": "a53af35a66324cb0a505b0eab69041e1",
       "version_major": 2,
       "version_minor": 0
      },
      "text/plain": [
       "Executing:   0%|          | 0/41 [00:00<?, ?cell/s]"
      ]
     },
     "metadata": {},
     "output_type": "display_data"
    },
    {
     "name": "stdout",
     "output_type": "stream",
     "text": [
      "{'cohort': 'aging', 'pool_name': 'Aging_P005_SCRN_8'}\n",
      "/labshare/raph/notebooks/expression/adrd_neuro/aging/pm_gend_nbs/Aging_P005_SCRN_8.create_demuxed_anndata.ipynb\n"
     ]
    },
    {
     "data": {
      "application/vnd.jupyter.widget-view+json": {
       "model_id": "81b72a8814a9456189acb39cee45fb86",
       "version_major": 2,
       "version_minor": 0
      },
      "text/plain": [
       "Executing:   0%|          | 0/41 [00:00<?, ?cell/s]"
      ]
     },
     "metadata": {},
     "output_type": "display_data"
    },
    {
     "name": "stdout",
     "output_type": "stream",
     "text": [
      "{'cohort': 'aging', 'pool_name': 'Aging_P006_SCRN_1'}\n",
      "/labshare/raph/notebooks/expression/adrd_neuro/aging/pm_gend_nbs/Aging_P006_SCRN_1.create_demuxed_anndata.ipynb\n"
     ]
    },
    {
     "data": {
      "application/vnd.jupyter.widget-view+json": {
       "model_id": "987919bc79394f459e8442ba68dc4b87",
       "version_major": 2,
       "version_minor": 0
      },
      "text/plain": [
       "Executing:   0%|          | 0/41 [00:00<?, ?cell/s]"
      ]
     },
     "metadata": {},
     "output_type": "display_data"
    },
    {
     "name": "stdout",
     "output_type": "stream",
     "text": [
      "{'cohort': 'aging', 'pool_name': 'Aging_P006_SCRN_2'}\n",
      "/labshare/raph/notebooks/expression/adrd_neuro/aging/pm_gend_nbs/Aging_P006_SCRN_2.create_demuxed_anndata.ipynb\n"
     ]
    },
    {
     "data": {
      "application/vnd.jupyter.widget-view+json": {
       "model_id": "f8b93695be5b4c808a198bc360129832",
       "version_major": 2,
       "version_minor": 0
      },
      "text/plain": [
       "Executing:   0%|          | 0/41 [00:00<?, ?cell/s]"
      ]
     },
     "metadata": {},
     "output_type": "display_data"
    },
    {
     "name": "stdout",
     "output_type": "stream",
     "text": [
      "{'cohort': 'aging', 'pool_name': 'Aging_P006_SCRN_3'}\n",
      "/labshare/raph/notebooks/expression/adrd_neuro/aging/pm_gend_nbs/Aging_P006_SCRN_3.create_demuxed_anndata.ipynb\n"
     ]
    },
    {
     "data": {
      "application/vnd.jupyter.widget-view+json": {
       "model_id": "e85c4ce75efc4abb996343f370fea53e",
       "version_major": 2,
       "version_minor": 0
      },
      "text/plain": [
       "Executing:   0%|          | 0/41 [00:00<?, ?cell/s]"
      ]
     },
     "metadata": {},
     "output_type": "display_data"
    },
    {
     "name": "stdout",
     "output_type": "stream",
     "text": [
      "{'cohort': 'aging', 'pool_name': 'Aging_P006_SCRN_4'}\n",
      "/labshare/raph/notebooks/expression/adrd_neuro/aging/pm_gend_nbs/Aging_P006_SCRN_4.create_demuxed_anndata.ipynb\n"
     ]
    },
    {
     "data": {
      "application/vnd.jupyter.widget-view+json": {
       "model_id": "ec0c531f83dd4d9da46d3b8cbcc26a94",
       "version_major": 2,
       "version_minor": 0
      },
      "text/plain": [
       "Executing:   0%|          | 0/41 [00:00<?, ?cell/s]"
      ]
     },
     "metadata": {},
     "output_type": "display_data"
    },
    {
     "name": "stdout",
     "output_type": "stream",
     "text": [
      "{'cohort': 'aging', 'pool_name': 'Aging_P006_SCRN_5'}\n",
      "/labshare/raph/notebooks/expression/adrd_neuro/aging/pm_gend_nbs/Aging_P006_SCRN_5.create_demuxed_anndata.ipynb\n"
     ]
    },
    {
     "data": {
      "application/vnd.jupyter.widget-view+json": {
       "model_id": "eb064beb442c4718b7ef14e61f812245",
       "version_major": 2,
       "version_minor": 0
      },
      "text/plain": [
       "Executing:   0%|          | 0/41 [00:00<?, ?cell/s]"
      ]
     },
     "metadata": {},
     "output_type": "display_data"
    },
    {
     "name": "stdout",
     "output_type": "stream",
     "text": [
      "{'cohort': 'aging', 'pool_name': 'Aging_P006_SCRN_6'}\n",
      "/labshare/raph/notebooks/expression/adrd_neuro/aging/pm_gend_nbs/Aging_P006_SCRN_6.create_demuxed_anndata.ipynb\n"
     ]
    },
    {
     "data": {
      "application/vnd.jupyter.widget-view+json": {
       "model_id": "4b1fea4ee0fb423ea9750fc3420edd9e",
       "version_major": 2,
       "version_minor": 0
      },
      "text/plain": [
       "Executing:   0%|          | 0/41 [00:00<?, ?cell/s]"
      ]
     },
     "metadata": {},
     "output_type": "display_data"
    },
    {
     "name": "stdout",
     "output_type": "stream",
     "text": [
      "{'cohort': 'aging', 'pool_name': 'Aging_P006_SCRN_7'}\n",
      "/labshare/raph/notebooks/expression/adrd_neuro/aging/pm_gend_nbs/Aging_P006_SCRN_7.create_demuxed_anndata.ipynb\n"
     ]
    },
    {
     "data": {
      "application/vnd.jupyter.widget-view+json": {
       "model_id": "11335251c912476d8b04512a08634409",
       "version_major": 2,
       "version_minor": 0
      },
      "text/plain": [
       "Executing:   0%|          | 0/41 [00:00<?, ?cell/s]"
      ]
     },
     "metadata": {},
     "output_type": "display_data"
    },
    {
     "name": "stdout",
     "output_type": "stream",
     "text": [
      "{'cohort': 'aging', 'pool_name': 'Aging_P006_SCRN_8'}\n",
      "/labshare/raph/notebooks/expression/adrd_neuro/aging/pm_gend_nbs/Aging_P006_SCRN_8.create_demuxed_anndata.ipynb\n"
     ]
    },
    {
     "data": {
      "application/vnd.jupyter.widget-view+json": {
       "model_id": "ad224aa95cff482a917afef6c4992f1c",
       "version_major": 2,
       "version_minor": 0
      },
      "text/plain": [
       "Executing:   0%|          | 0/41 [00:00<?, ?cell/s]"
      ]
     },
     "metadata": {},
     "output_type": "display_data"
    },
    {
     "name": "stdout",
     "output_type": "stream",
     "text": [
      "CPU times: user 1min 54s, sys: 2.72 s, total: 1min 56s\n",
      "Wall time: 8min 58s\n"
     ]
    }
   ],
   "source": [
    "%%time\n",
    "# make sure the notebook output dir exists\n",
    "os.makedirs(out_nb_dir, exist_ok=True)\n",
    "\n",
    "for pool_name in pool_names:\n",
    "    param_dict = {'cohort': cohort, 'pool_name': pool_name}\n",
    "    out_notebook = f'{out_nb_dir}/{pool_name}.create_demuxed_anndata.ipynb'\n",
    "    print(param_dict)\n",
    "    print(out_notebook)\n",
    "    pm.execute_notebook(input_path=base_notebook, output_path=out_notebook, \n",
    "                        parameters=param_dict)"
   ]
  },
  {
   "cell_type": "code",
   "execution_count": null,
   "id": "f329a61c",
   "metadata": {},
   "outputs": [],
   "source": []
  }
 ],
 "metadata": {
  "environment": {
   "name": "common-cpu.m65",
   "type": "gcloud",
   "uri": "gcr.io/deeplearning-platform-release/base-cpu:m65"
  },
  "kernelspec": {
   "display_name": "Python 3 (ipykernel)",
   "language": "python",
   "name": "python3"
  },
  "language_info": {
   "codemirror_mode": {
    "name": "ipython",
    "version": 3
   },
   "file_extension": ".py",
   "mimetype": "text/x-python",
   "name": "python",
   "nbconvert_exporter": "python",
   "pygments_lexer": "ipython3",
   "version": "3.12.2"
  }
 },
 "nbformat": 4,
 "nbformat_minor": 5
}
