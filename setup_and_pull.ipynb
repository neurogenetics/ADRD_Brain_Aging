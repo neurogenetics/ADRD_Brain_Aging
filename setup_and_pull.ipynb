{
 "cells": [
  {
   "cell_type": "markdown",
   "id": "4fb95bec",
   "metadata": {},
   "source": [
    "## Notebook to do any addtional setup on instance and pull input data for analysis\n",
    "#### for the ADRD Aging project"
   ]
  },
  {
   "cell_type": "code",
   "execution_count": 1,
   "id": "9219f953",
   "metadata": {},
   "outputs": [
    {
     "name": "stdout",
     "output_type": "stream",
     "text": [
      "Sat Jul 17 16:37:24 EDT 2021\n"
     ]
    }
   ],
   "source": [
    "!date"
   ]
  },
  {
   "cell_type": "markdown",
   "id": "395f8aa3",
   "metadata": {},
   "source": [
    "#### import libraries and set notebook variables"
   ]
  },
  {
   "cell_type": "code",
   "execution_count": 4,
   "id": "d7889e09",
   "metadata": {},
   "outputs": [],
   "source": [
    "# naming\n",
    "cohort = 'aging'\n",
    "pool_names = []\n",
    "for pnum in range(1, 7):\n",
    "    for lane in range(1, 9):\n",
    "        pool_names.append(f'Aging_P00{pnum}_SCRN_{lane}')\n",
    "\n",
    "# directories\n",
    "home_dir = '/labshare/raph/datasets/adrd_neuro'\n",
    "wrk_dir = f'{home_dir}/{cohort}'\n",
    "expr_dir = f'{wrk_dir}/expression'\n",
    "results_dir = f'{wrk_dir}/demux'\n",
    "info_dir = f'{wrk_dir}/sample_info'\n",
    "src_10x_bucket = 'gs://nihnialng-aging-brain/nisc'\n"
   ]
  },
  {
   "cell_type": "markdown",
   "id": "c8be0508",
   "metadata": {},
   "source": [
    "#### pull 10X expression files"
   ]
  },
  {
   "cell_type": "code",
   "execution_count": 7,
   "id": "07e1d1f3",
   "metadata": {},
   "outputs": [],
   "source": [
    "for pool_name in pool_names:\n",
    "    src_file = f'{src_10x_bucket}/{pool_name}/outs/filtered_feature_bc_matrix.h5'\n",
    "    dest_file = f'{expr_dir}/{pool_name}.filtered_feature_bc_matrix.h5'\n",
    "    this_cmd = f'gsutil -mq cp {src_file} {dest_file}'\n",
    "#     print(this_cmd)\n",
    "    !{this_cmd}"
   ]
  },
  {
   "cell_type": "markdown",
   "id": "7f81a39f",
   "metadata": {},
   "source": [
    "#### install scvi-tools"
   ]
  },
  {
   "cell_type": "code",
   "execution_count": 2,
   "id": "eb22402a",
   "metadata": {},
   "outputs": [
    {
     "name": "stdout",
     "output_type": "stream",
     "text": [
      "\u001b[31mERROR: pip's dependency resolver does not currently take into account all the packages that are installed. This behaviour is the source of the following dependency conflicts.\n",
      "spyder 4.2.4 requires pyqt5<5.13, which is not installed.\n",
      "spyder 4.2.4 requires pyqtwebengine<5.13, which is not installed.\n",
      "conda-repo-cli 1.0.4 requires pathlib, which is not installed.\n",
      "anaconda-project 0.10.1 requires ruamel-yaml, which is not installed.\n",
      "spyder 4.2.4 requires qdarkstyle<3.0,>=2.8, but you have qdarkstyle 3.0.2 which is incompatible.\u001b[0m\n",
      "Note: you may need to restart the kernel to use updated packages.\n"
     ]
    }
   ],
   "source": [
    "pip install -U --quiet scvi-tools scanpy[leiden]"
   ]
  },
  {
   "cell_type": "code",
   "execution_count": null,
   "id": "9f59ce8d",
   "metadata": {},
   "outputs": [],
   "source": []
  }
 ],
 "metadata": {
  "kernelspec": {
   "display_name": "Python 3 (ipykernel)",
   "language": "python",
   "name": "python3"
  },
  "language_info": {
   "codemirror_mode": {
    "name": "ipython",
    "version": 3
   },
   "file_extension": ".py",
   "mimetype": "text/x-python",
   "name": "python",
   "nbconvert_exporter": "python",
   "pygments_lexer": "ipython3",
   "version": "3.8.11"
  }
 },
 "nbformat": 4,
 "nbformat_minor": 5
}
